{
 "cells": [
  {
   "cell_type": "markdown",
   "id": "60239138",
   "metadata": {},
   "source": [
    "# pandas ecosystem\n",
    "\n",
    "Increasingly, packages are being built on top of pandas to address specific needs\n",
    "in data preparation, analysis and visualization.\n",
    "This is encouraging because it means pandas is not only helping users to handle\n",
    "their data tasks but also that it provides a better starting point for developers to\n",
    "build powerful and more focused data tools.\n",
    "The creation of libraries that complement pandas’ functionality also allows pandas\n",
    "development to remain focused around it’s original requirements.\n",
    "\n",
    "This is an inexhaustive list of projects that build on pandas in order to provide\n",
    "tools in the PyData space. For a list of projects that depend on pandas,\n",
    "see the\n",
    "[libraries.io usage page for pandas](https://libraries.io/pypi/pandas/usage)\n",
    "or [search pypi for pandas](https://pypi.org/search/?q=pandas).\n",
    "\n",
    "We’d like to make it easier for users to find these projects, if you know of other\n",
    "substantial projects that you feel should be on this list, please let us know.\n",
    "\n",
    "\n",
    "<a id='ecosystem-data-cleaning-and-validation'></a>"
   ]
  },
  {
   "cell_type": "markdown",
   "id": "8c2d5288",
   "metadata": {},
   "source": [
    "## Data cleaning and validation"
   ]
  },
  {
   "cell_type": "markdown",
   "id": "33e35e69",
   "metadata": {},
   "source": [
    "### [Pyjanitor](https://github.com/ericmjl/pyjanitor/)\n",
    "\n",
    "Pyjanitor provides a clean API for cleaning data, using method chaining."
   ]
  },
  {
   "cell_type": "markdown",
   "id": "be417d98",
   "metadata": {},
   "source": [
    "### [Engarde](https://engarde.readthedocs.io/en/latest/)\n",
    "\n",
    "Engarde is a lightweight library used to explicitly state assumptions about your datasets\n",
    "and check that they’re *actually* true."
   ]
  },
  {
   "cell_type": "markdown",
   "id": "1206509e",
   "metadata": {},
   "source": [
    "### [pandas-path](https://github.com/drivendataorg/pandas-path/)\n",
    "\n",
    "Since Python 3.4, [pathlib](https://docs.python.org/3/library/pathlib.html) has been\n",
    "included in the Python standard library. Path objects provide a simple\n",
    "and delightful way to interact with the file system. The pandas-path package enables the\n",
    "Path API for pandas through a custom accessor `.path`. Getting just the filenames from\n",
    "a series of full file paths is as simple as `my_files.path.name`. Other convenient operations like\n",
    "joining paths, replacing file extensions, and checking if files exist are also available.\n",
    "\n",
    "\n",
    "<a id='ecosystem-stats'></a>"
   ]
  },
  {
   "cell_type": "markdown",
   "id": "efda99ec",
   "metadata": {},
   "source": [
    "## Statistics and machine learning"
   ]
  },
  {
   "cell_type": "markdown",
   "id": "a99b0ae8",
   "metadata": {},
   "source": [
    "### [pandas-tfrecords](https://pypi.org/project/pandas-tfrecords/)\n",
    "\n",
    "Easy saving pandas dataframe to tensorflow tfrecords format and reading tfrecords to pandas."
   ]
  },
  {
   "cell_type": "markdown",
   "id": "9e6feb4a",
   "metadata": {},
   "source": [
    "### [Statsmodels](https://www.statsmodels.org/)\n",
    "\n",
    "Statsmodels is the prominent Python “statistics and econometrics library” and it has\n",
    "a long-standing special relationship with pandas. Statsmodels provides powerful statistics,\n",
    "econometrics, analysis and modeling functionality that is out of pandas’ scope.\n",
    "Statsmodels leverages pandas objects as the underlying data container for computation."
   ]
  },
  {
   "cell_type": "markdown",
   "id": "0aca4426",
   "metadata": {},
   "source": [
    "### [sklearn-pandas](https://github.com/paulgb/sklearn-pandas)\n",
    "\n",
    "Use pandas DataFrames in your [scikit-learn](https://scikit-learn.org/)\n",
    "ML pipeline."
   ]
  },
  {
   "cell_type": "markdown",
   "id": "977140b5",
   "metadata": {},
   "source": [
    "### [Featuretools](https://github.com/alteryx/featuretools/)\n",
    "\n",
    "Featuretools is a Python library for automated feature engineering built on top of pandas. It excels at transforming temporal and relational datasets into feature matrices for machine learning using reusable feature engineering “primitives”. Users can contribute their own primitives in Python and share them with the rest of the community."
   ]
  },
  {
   "cell_type": "markdown",
   "id": "2a423900",
   "metadata": {},
   "source": [
    "### [Compose](https://github.com/alteryx/compose)\n",
    "\n",
    "Compose is a machine learning tool for labeling data and prediction engineering. It allows you to structure the labeling process by parameterizing prediction problems and transforming time-driven relational data into target values with cutoff times that can be used for supervised learning."
   ]
  },
  {
   "cell_type": "markdown",
   "id": "0f8b3490",
   "metadata": {},
   "source": [
    "### [STUMPY](https://github.com/TDAmeritrade/stumpy)\n",
    "\n",
    "STUMPY is a powerful and scalable Python library for modern time series analysis.\n",
    "At its core, STUMPY efficiently computes something called a\n",
    "[matrix profile](https://stumpy.readthedocs.io/en/latest/Tutorial_The_Matrix_Profile.html),\n",
    "which can be used for a wide variety of time series data mining tasks.\n",
    "\n",
    "\n",
    "<a id='ecosystem-visualization'></a>"
   ]
  },
  {
   "cell_type": "markdown",
   "id": "79a14d60",
   "metadata": {},
   "source": [
    "## Visualization\n",
    "\n",
    "[Pandas has its own Styler class for table visualization](user_guide/style.ipynb), and while\n",
    "pandas also has built-in support for data visualization through charts with matplotlib,\n",
    "there are a number of other pandas-compatible libraries."
   ]
  },
  {
   "cell_type": "markdown",
   "id": "e4dc978f",
   "metadata": {},
   "source": [
    "### [Altair](https://altair-viz.github.io/)\n",
    "\n",
    "Altair is a declarative statistical visualization library for Python.\n",
    "With Altair, you can spend more time understanding your data and its\n",
    "meaning. Altair’s API is simple, friendly and consistent and built on\n",
    "top of the powerful Vega-Lite JSON specification. This elegant\n",
    "simplicity produces beautiful and effective visualizations with a\n",
    "minimal amount of code. Altair works with pandas DataFrames."
   ]
  },
  {
   "cell_type": "markdown",
   "id": "bbc06989",
   "metadata": {},
   "source": [
    "### [Bokeh](https://bokeh.pydata.org)\n",
    "\n",
    "Bokeh is a Python interactive visualization library for large datasets that natively uses\n",
    "the latest web technologies. Its goal is to provide elegant, concise construction of novel\n",
    "graphics in the style of Protovis/D3, while delivering high-performance interactivity over\n",
    "large data to thin clients.\n",
    "\n",
    "[Pandas-Bokeh](https://github.com/PatrikHlobil/Pandas-Bokeh) provides a high level API\n",
    "for Bokeh that can be loaded as a native pandas plotting backend via"
   ]
  },
  {
   "cell_type": "code",
   "execution_count": null,
   "id": "ee49a7b2",
   "metadata": {
    "hide-output": false
   },
   "outputs": [],
   "source": [
    "pd.set_option(\"plotting.backend\", \"pandas_bokeh\")"
   ]
  },
  {
   "cell_type": "markdown",
   "id": "b567e4a2",
   "metadata": {},
   "source": [
    "It is very similar to the matplotlib plotting backend, but provides interactive\n",
    "web-based charts and maps."
   ]
  },
  {
   "cell_type": "markdown",
   "id": "3d4042fd",
   "metadata": {},
   "source": [
    "### [Seaborn](https://seaborn.pydata.org)\n",
    "\n",
    "Seaborn is a Python visualization library based on\n",
    "[matplotlib](https://matplotlib.org). It provides a high-level, dataset-oriented\n",
    "interface for creating attractive statistical graphics. The plotting functions\n",
    "in seaborn understand pandas objects and leverage pandas grouping operations\n",
    "internally to support concise specification of complex visualizations. Seaborn\n",
    "also goes beyond matplotlib and pandas with the option to perform statistical\n",
    "estimation while plotting, aggregating across observations and visualizing the\n",
    "fit of statistical models to emphasize patterns in a dataset."
   ]
  },
  {
   "cell_type": "markdown",
   "id": "7301f0db",
   "metadata": {},
   "source": [
    "### [plotnine](https://github.com/has2k1/plotnine/)\n",
    "\n",
    "Hadley Wickham’s [ggplot2](https://ggplot2.tidyverse.org/) is a foundational exploratory visualization package for the R language.\n",
    "Based on [“The Grammar of Graphics”](https://www.cs.uic.edu/~wilkinson/TheGrammarOfGraphics/GOG.html) it\n",
    "provides a powerful, declarative and extremely general way to generate bespoke plots of any kind of data.\n",
    "Various implementations to other languages are available.\n",
    "A good implementation for Python users is [has2k1/plotnine](https://github.com/has2k1/plotnine/)."
   ]
  },
  {
   "cell_type": "markdown",
   "id": "dbae7776",
   "metadata": {},
   "source": [
    "### [IPython vega](https://github.com/vega/ipyvega)\n",
    "\n",
    "[IPython Vega](https://github.com/vega/ipyvega) leverages [Vega](https://github.com/vega/vega) to create plots within Jupyter Notebook."
   ]
  },
  {
   "cell_type": "markdown",
   "id": "540b3226",
   "metadata": {},
   "source": [
    "### [Plotly](https://plot.ly/python)\n",
    "\n",
    "[Plotly’s](https://plot.ly/) [Python API](https://plot.ly/python/) enables interactive figures and web shareability. Maps, 2D, 3D, and live-streaming graphs are rendered with WebGL and [D3.js](https://d3js.org/). The library supports plotting directly from a pandas DataFrame and cloud-based collaboration. Users of [matplotlib, ggplot for Python, and Seaborn](https://plot.ly/python/matplotlib-to-plotly-tutorial/) can convert figures into interactive web-based plots. Plots can be drawn in [IPython Notebooks](https://plot.ly/ipython-notebooks/) , edited with R or MATLAB, modified in a GUI, or embedded in apps and dashboards. Plotly is free for unlimited sharing, and has [cloud](https://plot.ly/product/plans/), [offline](https://plot.ly/python/offline/), or [on-premise](https://plot.ly/product/enterprise/) accounts for private use."
   ]
  },
  {
   "cell_type": "markdown",
   "id": "74231f29",
   "metadata": {},
   "source": [
    "### [Lux](https://github.com/lux-org/lux)\n",
    "\n",
    "[Lux](https://github.com/lux-org/lux) is a Python library that facilitates fast and easy experimentation with data by automating the visual data exploration process. To use Lux, simply add an extra import alongside pandas:"
   ]
  },
  {
   "cell_type": "code",
   "execution_count": null,
   "id": "4ab5e4c5",
   "metadata": {
    "hide-output": false
   },
   "outputs": [],
   "source": [
    "import lux\n",
    "import pandas as pd\n",
    "\n",
    "df = pd.read_csv(\".\\data\\data.csv\")\n",
    "df  # discover interesting insights!"
   ]
  },
  {
   "cell_type": "markdown",
   "id": "0204f25e",
   "metadata": {},
   "source": [
    "By printing out a dataframe, Lux automatically [recommends a set of visualizations](https://github.com/lux-org/lux-resources/blob/master/readme_img/demohighlight.gif?raw=true) that highlights interesting trends and patterns in the dataframe. Users can leverage any existing pandas commands without modifying their code, while being able to visualize their pandas data structures (e.g., DataFrame, Series, Index) at the same time. Lux also offers a [powerful, intuitive language](https://lux-api.readthedocs.io/en/latest/source/guide/vis.html) that allow users to create  [Altair](https://altair-viz.github.io/), [matplotlib](https://matplotlib.org), or [Vega-Lite](https://vega.github.io/vega-lite/) visualizations without having to think at the level of code."
   ]
  },
  {
   "cell_type": "markdown",
   "id": "b18283fa",
   "metadata": {},
   "source": [
    "### [Qtpandas](https://github.com/draperjames/qtpandas)\n",
    "\n",
    "Spun off from the main pandas library, the [qtpandas](https://github.com/draperjames/qtpandas)\n",
    "library enables DataFrame visualization and manipulation in PyQt4 and PySide applications."
   ]
  },
  {
   "cell_type": "markdown",
   "id": "2aa44b04",
   "metadata": {},
   "source": [
    "### [D-Tale](https://github.com/man-group/dtale)\n",
    "\n",
    "D-Tale is a lightweight web client for visualizing pandas data structures. It\n",
    "provides a rich spreadsheet-style grid which acts as a wrapper for a lot of\n",
    "pandas functionality (query, sort, describe, corr…) so users can quickly\n",
    "manipulate their data. There is also an interactive chart-builder using Plotly\n",
    "Dash allowing users to build nice portable visualizations. D-Tale can be\n",
    "invoked with the following command"
   ]
  },
  {
   "cell_type": "code",
   "execution_count": null,
   "id": "6e0ab732",
   "metadata": {
    "hide-output": false
   },
   "outputs": [],
   "source": [
    "import dtale\n",
    "\n",
    "dtale.show(df)"
   ]
  },
  {
   "cell_type": "markdown",
   "id": "28dc6496",
   "metadata": {},
   "source": [
    "D-Tale integrates seamlessly with Jupyter notebooks, Python terminals, Kaggle\n",
    "& Google Colab. Here are some demos of the [grid](http://alphatechadmin.pythonanywhere.com/)\n",
    "and [chart-builder](http://alphatechadmin.pythonanywhere.com/charts/4?chart_type=surface&query=&x=date&z=Col0&agg=raw&cpg=false&y=%5B%22security_id%22%5D)."
   ]
  },
  {
   "cell_type": "markdown",
   "id": "81f7327c",
   "metadata": {},
   "source": [
    "### [hvplot](https://hvplot.holoviz.org/index.html)\n",
    "\n",
    "hvPlot is a high-level plotting API for the PyData ecosystem built on [HoloViews](https://holoviews.org/).\n",
    "It can be loaded as a native pandas plotting backend via"
   ]
  },
  {
   "cell_type": "code",
   "execution_count": null,
   "id": "56a21d26",
   "metadata": {
    "hide-output": false
   },
   "outputs": [],
   "source": [
    "pd.set_option(\"plotting.backend\", \"hvplot\")"
   ]
  },
  {
   "cell_type": "markdown",
   "id": "f707059f",
   "metadata": {},
   "source": [
    "\n",
    "<a id='ecosystem-ide'></a>"
   ]
  },
  {
   "cell_type": "markdown",
   "id": "1ccc3c8f",
   "metadata": {},
   "source": [
    "## IDE"
   ]
  },
  {
   "cell_type": "markdown",
   "id": "819a12b6",
   "metadata": {},
   "source": [
    "### [IPython](https://ipython.org/documentation.html)\n",
    "\n",
    "IPython is an interactive command shell and distributed computing\n",
    "environment. IPython tab completion works with pandas methods and also\n",
    "attributes like DataFrame columns."
   ]
  },
  {
   "cell_type": "markdown",
   "id": "ace7506a",
   "metadata": {},
   "source": [
    "### [Jupyter Notebook / Jupyter Lab](https://jupyter.org)\n",
    "\n",
    "Jupyter Notebook is a web application for creating Jupyter notebooks.\n",
    "A Jupyter notebook is a JSON document containing an ordered list\n",
    "of input/output cells which can contain code, text, mathematics, plots\n",
    "and rich media.\n",
    "Jupyter notebooks can be converted to a number of open standard output formats\n",
    "(HTML, HTML presentation slides, LaTeX, PDF, ReStructuredText, Markdown,\n",
    "Python) through ‘Download As’ in the web interface and `jupyter convert`\n",
    "in a shell.\n",
    "\n",
    "pandas DataFrames implement `_repr_html_` and `_repr_latex` methods\n",
    "which are utilized by Jupyter Notebook for displaying\n",
    "(abbreviated) HTML or LaTeX tables. LaTeX output is properly escaped.\n",
    "(Note: HTML tables may or may not be\n",
    "compatible with non-HTML Jupyter output formats.)\n",
    "\n",
    "See Options and Settings and\n",
    "[Available Options](04_user_guide/40_options.ipynb#options-available)\n",
    "for pandas `display.` settings."
   ]
  },
  {
   "cell_type": "markdown",
   "id": "52c30c57",
   "metadata": {},
   "source": [
    "### [Quantopian/qgrid](https://github.com/quantopian/qgrid)\n",
    "\n",
    "qgrid is “an interactive grid for sorting and filtering\n",
    "DataFrames in IPython Notebook” built with SlickGrid."
   ]
  },
  {
   "cell_type": "markdown",
   "id": "e3f0b099",
   "metadata": {},
   "source": [
    "### [Spyder](https://www.spyder-ide.org/)\n",
    "\n",
    "Spyder is a cross-platform PyQt-based IDE combining the editing, analysis,\n",
    "debugging and profiling functionality of a software development tool with the\n",
    "data exploration, interactive execution, deep inspection and rich visualization\n",
    "capabilities of a scientific environment like MATLAB or Rstudio.\n",
    "\n",
    "Its [Variable Explorer](https://docs.spyder-ide.org/variableexplorer.html)\n",
    "allows users to view, manipulate and edit pandas `Index`, `Series`,\n",
    "and `DataFrame` objects like a “spreadsheet”, including copying and modifying\n",
    "values, sorting, displaying a “heatmap”, converting data types and more.\n",
    "pandas objects can also be renamed, duplicated, new columns added,\n",
    "copied/pasted to/from the clipboard (as TSV), and saved/loaded to/from a file.\n",
    "Spyder can also import data from a variety of plain text and binary files\n",
    "or the clipboard into a new pandas DataFrame via a sophisticated import wizard.\n",
    "\n",
    "Most pandas classes, methods and data attributes can be autocompleted in\n",
    "Spyder’s [Editor](https://docs.spyder-ide.org/editor.html) and\n",
    "[IPython Console](https://docs.spyder-ide.org/ipythonconsole.html),\n",
    "and Spyder’s [Help pane](https://docs.spyder-ide.org/help.html) can retrieve\n",
    "and render Numpydoc documentation on pandas objects in rich text with Sphinx\n",
    "both automatically and on-demand.\n",
    "\n",
    "\n",
    "<a id='ecosystem-api'></a>"
   ]
  },
  {
   "cell_type": "markdown",
   "id": "54b4eceb",
   "metadata": {},
   "source": [
    "## API"
   ]
  },
  {
   "cell_type": "markdown",
   "id": "7fa46d3e",
   "metadata": {},
   "source": [
    "### [pandas-datareader](https://github.com/pydata/pandas-datareader)\n",
    "\n",
    "`pandas-datareader` is a remote data access library for pandas (PyPI:`pandas-datareader`).\n",
    "It is based on functionality that was located in `pandas.io.data` and `pandas.io.wb` but was\n",
    "split off in v0.19.\n",
    "See more in the  [pandas-datareader docs](https://pandas-datareader.readthedocs.io/en/latest/):\n",
    "\n",
    "The following data feeds are available:\n",
    "\n",
    "> - Google Finance  \n",
    "- Tiingo  \n",
    "- Morningstar  \n",
    "- IEX  \n",
    "- Robinhood  \n",
    "- Enigma  \n",
    "- Quandl  \n",
    "- FRED  \n",
    "- Fama/French  \n",
    "- World Bank  \n",
    "- OECD  \n",
    "- Eurostat  \n",
    "- TSP Fund Data  \n",
    "- Nasdaq Trader Symbol Definitions  \n",
    "- Stooq Index Data  \n",
    "- MOEX Data  "
   ]
  },
  {
   "cell_type": "markdown",
   "id": "2b87763c",
   "metadata": {},
   "source": [
    "### [Quandl/Python](https://github.com/quandl/Python)\n",
    "\n",
    "Quandl API for Python wraps the Quandl REST API to return\n",
    "pandas DataFrames with timeseries indexes."
   ]
  },
  {
   "cell_type": "markdown",
   "id": "0357710a",
   "metadata": {},
   "source": [
    "### [Pydatastream](https://github.com/vfilimonov/pydatastream)\n",
    "\n",
    "PyDatastream is a Python interface to the\n",
    "[Refinitiv Datastream (DWS)](https://www.refinitiv.com/en/products/datastream-macroeconomic-analysis)\n",
    "REST API to return indexed pandas DataFrames with financial data.\n",
    "This package requires valid credentials for this API (non free)."
   ]
  },
  {
   "cell_type": "markdown",
   "id": "7088c00f",
   "metadata": {},
   "source": [
    "### [pandaSDMX](https://pandasdmx.readthedocs.io)\n",
    "\n",
    "pandaSDMX is a library to retrieve and acquire statistical data\n",
    "and metadata disseminated in\n",
    "[SDMX](https://www.sdmx.org) 2.1, an ISO-standard\n",
    "widely used by institutions such as statistics offices, central banks,\n",
    "and international organisations. pandaSDMX can expose datasets and related\n",
    "structural metadata including data flows, code-lists,\n",
    "and data structure definitions as pandas Series\n",
    "or MultiIndexed DataFrames."
   ]
  },
  {
   "cell_type": "markdown",
   "id": "1112e322",
   "metadata": {},
   "source": [
    "### [fredapi](https://github.com/mortada/fredapi)\n",
    "\n",
    "fredapi is a Python interface to the [Federal Reserve Economic Data (FRED)](https://fred.stlouisfed.org/)\n",
    "provided by the Federal Reserve Bank of St. Louis. It works with both the FRED database and ALFRED database that\n",
    "contains point-in-time data (i.e. historic data revisions). fredapi provides a wrapper in Python to the FRED\n",
    "HTTP API, and also provides several convenient methods for parsing and analyzing point-in-time data from ALFRED.\n",
    "fredapi makes use of pandas and returns data in a Series or DataFrame. This module requires a FRED API key that\n",
    "you can obtain for free on the FRED website."
   ]
  },
  {
   "cell_type": "markdown",
   "id": "58502621",
   "metadata": {},
   "source": [
    "### [dataframe_sql](https://github.com/zbrookle/dataframe_sql)\n",
    "\n",
    "`dataframe_sql` is a Python package that translates SQL syntax directly into\n",
    "operations on pandas DataFrames. This is useful when migrating from a database to\n",
    "using pandas or for users more comfortable with SQL looking for a way to interface\n",
    "with pandas.\n",
    "\n",
    "\n",
    "<a id='ecosystem-domain'></a>"
   ]
  },
  {
   "cell_type": "markdown",
   "id": "87d186c7",
   "metadata": {},
   "source": [
    "## Domain specific"
   ]
  },
  {
   "cell_type": "markdown",
   "id": "8b6280ed",
   "metadata": {},
   "source": [
    "### [Geopandas](https://github.com/kjordahl/geopandas)\n",
    "\n",
    "Geopandas extends pandas data objects to include geographic information which support\n",
    "geometric operations. If your work entails maps and geographical coordinates, and\n",
    "you love pandas, you should take a close look at Geopandas."
   ]
  },
  {
   "cell_type": "markdown",
   "id": "ec98b92b",
   "metadata": {},
   "source": [
    "### [xarray](https://github.com/pydata/xarray)\n",
    "\n",
    "xarray brings the labeled data power of pandas to the physical sciences by\n",
    "providing N-dimensional variants of the core pandas data structures. It aims to\n",
    "provide a pandas-like and pandas-compatible toolkit for analytics on multi-\n",
    "dimensional arrays, rather than the tabular data for which pandas excels.\n",
    "\n",
    "\n",
    "<a id='ecosystem-io'></a>"
   ]
  },
  {
   "cell_type": "markdown",
   "id": "7f55fbf2",
   "metadata": {},
   "source": [
    "## IO"
   ]
  },
  {
   "cell_type": "markdown",
   "id": "d163300e",
   "metadata": {},
   "source": [
    "### [BCPandas](https://github.com/yehoshuadimarsky/bcpandas)\n",
    "\n",
    "BCPandas provides high performance writes from pandas to Microsoft SQL Server,\n",
    "far exceeding the performance of the native `df.to_sql` method. Internally, it uses\n",
    "Microsoft’s BCP utility, but the complexity is fully abstracted away from the end user.\n",
    "Rigorously tested, it is a complete replacement for `df.to_sql`."
   ]
  },
  {
   "cell_type": "markdown",
   "id": "6f983b68",
   "metadata": {},
   "source": [
    "### [Deltalake](https://pypi.org/project/deltalake)\n",
    "\n",
    "Deltalake python package lets you access tables stored in\n",
    "[Delta Lake](https://delta.io/) natively in Python without the need to use Spark or\n",
    "JVM. It provides the `delta_table.to_pyarrow_table().to_pandas()` method to convert\n",
    "any Delta table into Pandas dataframe.\n",
    "\n",
    "\n",
    "<a id='ecosystem-out-of-core'></a>"
   ]
  },
  {
   "cell_type": "markdown",
   "id": "b1c57bc3",
   "metadata": {},
   "source": [
    "## Out-of-core"
   ]
  },
  {
   "cell_type": "markdown",
   "id": "ee3db795",
   "metadata": {},
   "source": [
    "### [Blaze](https://blaze.pydata.org/)\n",
    "\n",
    "Blaze provides a standard API for doing computations with various\n",
    "in-memory and on-disk backends: NumPy, pandas, SQLAlchemy, MongoDB, PyTables,\n",
    "PySpark."
   ]
  },
  {
   "cell_type": "markdown",
   "id": "650cc721",
   "metadata": {},
   "source": [
    "### [Cylon](https://cylondata.org/)\n",
    "\n",
    "Cylon is a fast, scalable, distributed memory parallel runtime with a pandas\n",
    "like Python DataFrame API. ”Core Cylon” is implemented with C++ using Apache\n",
    "Arrow format to represent the data in-memory. Cylon DataFrame API implements\n",
    "most of the core operators of pandas such as merge, filter, join, concat,\n",
    "group-by, drop_duplicates, etc. These operators are designed to work across\n",
    "thousands of cores to scale applications. It can interoperate with pandas\n",
    "DataFrame by reading data from pandas or converting data to pandas so users\n",
    "can selectively scale parts of their pandas DataFrame applications."
   ]
  },
  {
   "cell_type": "code",
   "execution_count": null,
   "id": "b76e83db",
   "metadata": {
    "hide-output": false
   },
   "outputs": [],
   "source": [
    "from pycylon import read_csv, DataFrame, CylonEnv\n",
    "from pycylon.net import MPIConfig\n",
    "\n",
    "# Initialize Cylon distributed environment\n",
    "config: MPIConfig = MPIConfig()\n",
    "env: CylonEnv = CylonEnv(config=config, distributed=True)\n",
    "\n",
    "df1: DataFrame = read_csv('/tmp/csv1.csv')\n",
    "df2: DataFrame = read_csv('/tmp/csv2.csv')\n",
    "\n",
    "# Using 1000s of cores across the cluster to compute the join\n",
    "df3: Table = df1.join(other=df2, on=[0], algorithm=\"hash\", env=env)\n",
    "\n",
    "print(df3)"
   ]
  },
  {
   "cell_type": "markdown",
   "id": "b8e28736",
   "metadata": {},
   "source": [
    "### [Dask](https://dask.readthedocs.io/en/latest/)\n",
    "\n",
    "Dask is a flexible parallel computing library for analytics. Dask\n",
    "provides a familiar `DataFrame` interface for out-of-core, parallel and distributed computing."
   ]
  },
  {
   "cell_type": "markdown",
   "id": "86a775b6",
   "metadata": {},
   "source": [
    "### [Dask-ML](https://dask-ml.readthedocs.io/en/latest/)\n",
    "\n",
    "Dask-ML enables parallel and distributed machine learning using Dask alongside existing machine learning libraries like Scikit-Learn, XGBoost, and TensorFlow."
   ]
  },
  {
   "cell_type": "markdown",
   "id": "2bbc7ed7",
   "metadata": {},
   "source": [
    "### [Ibis](https://ibis-project.org/docs/)\n",
    "\n",
    "Ibis offers a standard way to write analytics code, that can be run in multiple engines. It helps in bridging the gap between local Python environments (like pandas) and remote storage and execution systems like Hadoop components (like HDFS, Impala, Hive, Spark) and SQL databases (Postgres, etc.)."
   ]
  },
  {
   "cell_type": "markdown",
   "id": "358756b2",
   "metadata": {},
   "source": [
    "### [Koalas](https://koalas.readthedocs.io/en/latest/)\n",
    "\n",
    "Koalas provides a familiar pandas DataFrame interface on top of Apache Spark. It enables users to leverage multi-cores on one machine or a cluster of machines to speed up or scale their DataFrame code."
   ]
  },
  {
   "cell_type": "markdown",
   "id": "6472d6a6",
   "metadata": {},
   "source": [
    "### [Modin](https://github.com/modin-project/modin)\n",
    "\n",
    "The `modin.pandas` DataFrame is a parallel and distributed drop-in replacement\n",
    "for pandas. This means that you can use Modin with existing pandas code or write\n",
    "new code with the existing pandas API. Modin can leverage your entire machine or\n",
    "cluster to speed up and scale your pandas workloads, including traditionally\n",
    "time-consuming tasks like ingesting data (`read_csv`, `read_excel`,\n",
    "`read_parquet`, etc.)."
   ]
  },
  {
   "cell_type": "code",
   "execution_count": null,
   "id": "90a8c7ab",
   "metadata": {
    "hide-output": false
   },
   "outputs": [],
   "source": [
    "# import pandas as pd\n",
    "import modin.pandas as pd\n",
    "\n",
    "df = pd.read_csv(\"big.csv\")  # use all your cores!"
   ]
  },
  {
   "cell_type": "markdown",
   "id": "ffcefcd9",
   "metadata": {},
   "source": [
    "### [Odo](http://odo.pydata.org)\n",
    "\n",
    "Odo provides a uniform API for moving data between different formats. It uses\n",
    "pandas own `read_csv` for CSV IO and leverages many existing packages such as\n",
    "PyTables, h5py, and pymongo to move data between non pandas formats. Its graph\n",
    "based approach is also extensible by end users for custom formats that may be\n",
    "too specific for the core of odo."
   ]
  },
  {
   "cell_type": "markdown",
   "id": "a307d3ba",
   "metadata": {},
   "source": [
    "### [Pandarallel](https://github.com/nalepae/pandarallel)\n",
    "\n",
    "Pandarallel provides a simple way to parallelize your pandas operations on all your CPUs by changing only one line of code.\n",
    "If also displays progress bars."
   ]
  },
  {
   "cell_type": "code",
   "execution_count": null,
   "id": "8a0f0e0e",
   "metadata": {
    "hide-output": false
   },
   "outputs": [],
   "source": [
    "from pandarallel import pandarallel\n",
    "\n",
    "pandarallel.initialize(progress_bar=True)\n",
    "\n",
    "# df.apply(func)\n",
    "df.parallel_apply(func)"
   ]
  },
  {
   "cell_type": "markdown",
   "id": "7912c71b",
   "metadata": {},
   "source": [
    "### [Vaex](https://docs.vaex.io/)\n",
    "\n",
    "Increasingly, packages are being built on top of pandas to address specific needs in data preparation, analysis and visualization. Vaex is a Python library for Out-of-Core DataFrames (similar to pandas), to visualize and explore big tabular datasets. It can calculate statistics such as mean, sum, count, standard deviation etc, on an N-dimensional grid up to a billion (109) objects/rows per second. Visualization is done using histograms, density plots and 3d volume rendering, allowing interactive exploration of big data. Vaex uses memory mapping, zero memory copy policy and lazy computations for best performance (no memory wasted).\n",
    "\n",
    "> - vaex.from_pandas  \n",
    "- vaex.to_pandas_df  \n",
    "\n",
    "\n",
    "\n",
    "\n",
    "<a id='ecosystem-extensions'></a>"
   ]
  },
  {
   "cell_type": "markdown",
   "id": "f93bbb80",
   "metadata": {},
   "source": [
    "## Extension data types\n",
    "\n",
    "pandas provides an interface for defining\n",
    "extension types to extend NumPy’s type\n",
    "system. The following libraries implement that interface to provide types not\n",
    "found in NumPy or pandas, which work well with pandas’ data containers."
   ]
  },
  {
   "cell_type": "markdown",
   "id": "108403a5",
   "metadata": {},
   "source": [
    "### [Cyberpandas](https://cyberpandas.readthedocs.io/en/latest)\n",
    "\n",
    "Cyberpandas provides an extension type for storing arrays of IP Addresses. These\n",
    "arrays can be stored inside pandas’ Series and DataFrame."
   ]
  },
  {
   "cell_type": "markdown",
   "id": "96add5cd",
   "metadata": {},
   "source": [
    "### [Pandas-Genomics](https://pandas-genomics.readthedocs.io/en/latest/)\n",
    "\n",
    "Pandas-Genomics provides extension types, extension arrays, and extension accessors for working with genomics data"
   ]
  },
  {
   "cell_type": "markdown",
   "id": "75e20a13",
   "metadata": {},
   "source": [
    "### [Pint-Pandas](https://github.com/hgrecco/pint-pandas)\n",
    "\n",
    "`Pint-Pandas <https://github.com/hgrecco/pint-pandas>` provides an extension type for\n",
    "storing numeric arrays with units. These arrays can be stored inside pandas’\n",
    "Series and DataFrame. Operations between Series and DataFrame columns which\n",
    "use pint’s extension array are then units aware."
   ]
  },
  {
   "cell_type": "markdown",
   "id": "90ea9735",
   "metadata": {},
   "source": [
    "### [Text Extensions for Pandas](#text-extensions-for-pandas)\n",
    "\n",
    "`Text Extensions for Pandas <https://ibm.biz/text-extensions-for-pandas>`\n",
    "provides extension types to cover common data structures for representing natural language\n",
    "data, plus library integrations that convert the outputs of popular natural language\n",
    "processing libraries into Pandas DataFrames.\n",
    "\n",
    "\n",
    "<a id='ecosystem-accessors'></a>"
   ]
  },
  {
   "cell_type": "markdown",
   "id": "37021938",
   "metadata": {},
   "source": [
    "## Accessors\n",
    "\n",
    "A directory of projects providing\n",
    "extension accessors. This is for users to\n",
    "discover new accessors and for library authors to coordinate on the namespace.\n",
    "\n",
    "[](https://cyberpandas.readthedocs.io/en/latest)\n",
    "\n",
    "````[](https://altair-viz.github.io/pdvega/)``````[](https://altair-viz.github.io/)[](https://pandas-genomics.readthedocs.io/en/latest/)``````[](https://github.com/drivendataorg/pandas-path/)``````[](https://docs.python.org/3/library/pathlib.html)[](https://github.com/hgrecco/pint-pandas)``````[](https://github.com/alteryx/compose)````[](https://datatest.readthedocs.io/)````````[](https://github.com/alteryx/woodwork)``````|Library|Accessor|Classes|Description|\n",
    "|:----------------:|:----------:|:----------------------------------:|:-----------------------------------------------------------------------------------------:|\n",
    "|cyberpandas|ip|Series|Provides common operations for working with IP addresses.|\n",
    "|pdvega|vgplot|Series, DataFrame|Provides plotting functions from the Altair library.|\n",
    "|pandas-genomics|genomics|Series, DataFrame|Provides common operations for quality control and analysis of genomics data.|\n",
    "|pandas_path|path|Index, Series|Provides pathlib.Path functions for Series.|\n",
    "|pint-pandas|pint|Series, DataFrame|Provides units support for numeric Series and DataFrames.|\n",
    "|composeml|slice|DataFrame|Provides a generator for enhanced data slicing.|\n",
    "|datatest|validate|Series, DataFrame, Index|Provides validation, differences, and acceptance managers.|\n",
    "|woodwork|ww|Series, DataFrame|Provides physical, logical, and semantic data typing information for Series and DataFrames.|"
   ]
  }
 ],
 "metadata": {
  "date": 1630231093.6702602,
  "filename": "ecosystem.rst",
  "kernelspec": {
   "display_name": "Python 3",
   "language": "python",
   "name": "python3"
  },
  "language_info": {
   "codemirror_mode": {
    "name": "ipython",
    "version": 3
   },
   "file_extension": ".py",
   "mimetype": "text/x-python",
   "name": "python",
   "nbconvert_exporter": "python",
   "pygments_lexer": "ipython3",
   "version": "3.8.8"
  },
  "latex_envs": {
   "LaTeX_envs_menu_present": true,
   "autoclose": false,
   "autocomplete": true,
   "bibliofile": "biblio.bib",
   "cite_by": "apalike",
   "current_citInitial": 1,
   "eqLabelWithNumbers": true,
   "eqNumInitial": 1,
   "hotkeys": {
    "equation": "Ctrl-E",
    "itemize": "Ctrl-I"
   },
   "labels_anchors": false,
   "latex_user_defs": false,
   "report_style_numbering": false,
   "user_envs_cfg": false
  },
  "title": "pandas ecosystem"
 },
 "nbformat": 4,
 "nbformat_minor": 5
}
