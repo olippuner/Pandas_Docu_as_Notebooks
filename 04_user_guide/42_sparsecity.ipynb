{
 "cells": [
  {
   "cell_type": "markdown",
   "id": "4dab2bad",
   "metadata": {},
   "source": [
    "\n",
    "<a id='sparse'></a>"
   ]
  },
  {
   "cell_type": "markdown",
   "id": "27c1427e",
   "metadata": {},
   "source": [
    "# Sparse data structures\n",
    "\n",
    "pandas provides data structures for efficiently storing sparse data.\n",
    "These are not necessarily sparse in the typical “mostly 0”. Rather, you can view these\n",
    "objects as being “compressed” where any data matching a specific value (`NaN` / missing value, though any value\n",
    "can be chosen, including 0) is omitted. The compressed values are not actually stored in the array."
   ]
  },
  {
   "cell_type": "code",
   "execution_count": null,
   "id": "9669c9b1-521d-4569-b533-5eec810717b3",
   "metadata": {},
   "outputs": [],
   "source": [
    "import numpy as np\n",
    "import pandas as pd\n",
    "import matplotlib.pyplot as plt\n",
    "print(\"pandas\", pd.__version__)\n",
    "print(\"numpy\",np.__version__)"
   ]
  },
  {
   "cell_type": "code",
   "execution_count": null,
   "id": "a0c19cec",
   "metadata": {
    "hide-output": false
   },
   "outputs": [],
   "source": [
    "arr = np.random.randn(10)\n",
    "arr[2:-2] = np.nan\n",
    "ts = pd.Series(pd.arrays.SparseArray(arr))\n",
    "ts"
   ]
  },
  {
   "cell_type": "markdown",
   "id": "bda4b393",
   "metadata": {},
   "source": [
    "Notice the dtype, `Sparse[float64, nan]`. The `nan` means that elements in the\n",
    "array that are `nan` aren’t actually stored, only the non-`nan` elements are.\n",
    "Those non-`nan` elements have a `float64` dtype.\n",
    "\n",
    "The sparse objects exist for memory efficiency reasons. Suppose you had a\n",
    "large, mostly NA `DataFrame`:"
   ]
  },
  {
   "cell_type": "code",
   "execution_count": null,
   "id": "9651638e-de9a-4995-969e-fe2217572188",
   "metadata": {
    "hide-output": false
   },
   "outputs": [],
   "source": [
    "df = pd.DataFrame(np.random.randn(10000, 4))\n",
    "df.iloc[:9998] = np.nan\n",
    "sdf = df.astype(pd.SparseDtype(\"float\", np.nan))\n",
    "sdf.head()"
   ]
  },
  {
   "cell_type": "code",
   "execution_count": null,
   "id": "ec5fc561-27cd-47ff-a803-c24bab95efe0",
   "metadata": {
    "hide-output": false
   },
   "outputs": [],
   "source": [
    "sdf.dtypes"
   ]
  },
  {
   "cell_type": "code",
   "execution_count": null,
   "id": "6e81a191-0414-4cf1-8f6f-a463f3fe93ea",
   "metadata": {
    "hide-output": false
   },
   "outputs": [],
   "source": [
    "sdf.sparse.density"
   ]
  },
  {
   "cell_type": "markdown",
   "id": "3ca9cf60",
   "metadata": {},
   "source": [
    "As you can see, the density (% of values that have not been “compressed”) is\n",
    "extremely low. This sparse object takes up much less memory on disk (pickled)\n",
    "and in the Python interpreter."
   ]
  },
  {
   "cell_type": "code",
   "execution_count": null,
   "id": "f3b621e0-3be6-4cb6-9e9d-2fe1e8e1fadb",
   "metadata": {
    "hide-output": false
   },
   "outputs": [],
   "source": [
    "'dense : {:0.2f} bytes'.format(df.memory_usage().sum() / 1e3)"
   ]
  },
  {
   "cell_type": "code",
   "execution_count": null,
   "id": "48df73c7-819f-4565-ab3a-8418d8d2f831",
   "metadata": {
    "hide-output": false
   },
   "outputs": [],
   "source": [
    "'sparse: {:0.2f} bytes'.format(sdf.memory_usage().sum() / 1e3)"
   ]
  },
  {
   "cell_type": "markdown",
   "id": "b58ebbbf",
   "metadata": {},
   "source": [
    "Functionally, their behavior should be nearly\n",
    "identical to their dense counterparts.\n",
    "\n",
    "\n",
    "<a id='sparse-array'></a>"
   ]
  },
  {
   "cell_type": "markdown",
   "id": "cc8336f7",
   "metadata": {},
   "source": [
    "## SparseArray\n",
    "\n",
    "`arrays.SparseArray` is a `ExtensionArray`\n",
    "for storing an array of sparse values (see basics.dtypes for more\n",
    "on extension arrays). It is a 1-dimensional ndarray-like object storing\n",
    "only values distinct from the `fill_value`:"
   ]
  },
  {
   "cell_type": "code",
   "execution_count": null,
   "id": "7779d32e",
   "metadata": {
    "hide-output": false
   },
   "outputs": [],
   "source": [
    "arr = np.random.randn(10)\n",
    "arr[2:5] = np.nan\n",
    "arr[7:8] = np.nan\n",
    "sparr = pd.arrays.SparseArray(arr)\n",
    "sparr"
   ]
  },
  {
   "cell_type": "markdown",
   "id": "ea386be7",
   "metadata": {},
   "source": [
    "A sparse array can be converted to a regular (dense) ndarray with `numpy.asarray()`"
   ]
  },
  {
   "cell_type": "code",
   "execution_count": null,
   "id": "c930916d",
   "metadata": {
    "hide-output": false
   },
   "outputs": [],
   "source": [
    "np.asarray(sparr)"
   ]
  },
  {
   "cell_type": "markdown",
   "id": "92a010d6",
   "metadata": {},
   "source": [
    "\n",
    "<a id='sparse-dtype'></a>"
   ]
  },
  {
   "cell_type": "markdown",
   "id": "0aaee8d8",
   "metadata": {},
   "source": [
    "## SparseDtype\n",
    "\n",
    "The `SparseArray.dtype` property stores two pieces of information\n",
    "\n",
    "1. The dtype of the non-sparse values  \n",
    "1. The scalar fill value  "
   ]
  },
  {
   "cell_type": "code",
   "execution_count": null,
   "id": "c54ef02c",
   "metadata": {
    "hide-output": false
   },
   "outputs": [],
   "source": [
    "sparr.dtype"
   ]
  },
  {
   "cell_type": "markdown",
   "id": "32bb4f69",
   "metadata": {},
   "source": [
    "A `SparseDtype` may be constructed by passing only a dtype"
   ]
  },
  {
   "cell_type": "code",
   "execution_count": null,
   "id": "192bd36a",
   "metadata": {
    "hide-output": false
   },
   "outputs": [],
   "source": [
    "pd.SparseDtype(np.dtype('datetime64[ns]'))"
   ]
  },
  {
   "cell_type": "markdown",
   "id": "00004121",
   "metadata": {},
   "source": [
    "in which case a default fill value will be used (for NumPy dtypes this is often the\n",
    "“missing” value for that dtype). To override this default an explicit fill value may be\n",
    "passed instead"
   ]
  },
  {
   "cell_type": "code",
   "execution_count": null,
   "id": "83df9247",
   "metadata": {
    "hide-output": false
   },
   "outputs": [],
   "source": [
    "pd.SparseDtype(np.dtype('datetime64[ns]'),\n",
    "               fill_value=pd.Timestamp('2017-01-01'))"
   ]
  },
  {
   "cell_type": "markdown",
   "id": "8c13a030",
   "metadata": {},
   "source": [
    "Finally, the string alias `'Sparse[dtype]'` may be used to specify a sparse dtype\n",
    "in many places"
   ]
  },
  {
   "cell_type": "code",
   "execution_count": null,
   "id": "2e517167",
   "metadata": {
    "hide-output": false
   },
   "outputs": [],
   "source": [
    "pd.array([1, 0, 0, 2], dtype='Sparse[int]')"
   ]
  },
  {
   "cell_type": "markdown",
   "id": "64aff7fe",
   "metadata": {},
   "source": [
    "\n",
    "<a id='sparse-accessor'></a>"
   ]
  },
  {
   "cell_type": "markdown",
   "id": "2672dfad",
   "metadata": {},
   "source": [
    "## Sparse accessor\n",
    "\n",
    "pandas provides a `.sparse` accessor, similar to `.str` for string data, `.cat`\n",
    "for categorical data, and `.dt` for datetime-like data. This namespace provides\n",
    "attributes and methods that are specific to sparse data."
   ]
  },
  {
   "cell_type": "code",
   "execution_count": null,
   "id": "75374851-c29c-4a7e-8d94-e83ed8d82089",
   "metadata": {
    "hide-output": false
   },
   "outputs": [],
   "source": [
    "s = pd.Series([0, 0, 1, 2], dtype=\"Sparse[int]\")\n",
    "s.sparse.density"
   ]
  },
  {
   "cell_type": "code",
   "execution_count": null,
   "id": "313d16f8-ebf1-4881-88ac-b5c1b7f2b10e",
   "metadata": {
    "hide-output": false
   },
   "outputs": [],
   "source": [
    "s.sparse.fill_value"
   ]
  },
  {
   "cell_type": "markdown",
   "id": "114f0d78",
   "metadata": {},
   "source": [
    "This accessor is available only on data with `SparseDtype`, and on the `Series`\n",
    "class itself for creating a Series with sparse data from a scipy COO matrix with.\n",
    "\n",
    "New in version 0.25.0.\n",
    "\n",
    "A `.sparse` accessor has been added for `DataFrame` as well.\n",
    "See [Sparse accessor](../05_reference/13_dataFrame.ipynb#api-frame-sparse) for more.\n",
    "\n",
    "\n",
    "<a id='sparse-calculation'></a>"
   ]
  },
  {
   "cell_type": "markdown",
   "id": "45b540b7",
   "metadata": {},
   "source": [
    "## Sparse calculation\n",
    "\n",
    "You can apply NumPy [ufuncs](https://numpy.org/doc/stable/reference/ufuncs.html)\n",
    "to `SparseArray` and get a `SparseArray` as a result."
   ]
  },
  {
   "cell_type": "code",
   "execution_count": null,
   "id": "9eed8791",
   "metadata": {
    "hide-output": false
   },
   "outputs": [],
   "source": [
    "arr = pd.arrays.SparseArray([1., np.nan, np.nan, -2., np.nan])\n",
    "np.abs(arr)"
   ]
  },
  {
   "cell_type": "markdown",
   "id": "0fcc6be0",
   "metadata": {},
   "source": [
    "The *ufunc* is also applied to `fill_value`. This is needed to get\n",
    "the correct dense result."
   ]
  },
  {
   "cell_type": "code",
   "execution_count": null,
   "id": "50a32710-6010-4b31-97e1-760e8d33bb3b",
   "metadata": {
    "hide-output": false
   },
   "outputs": [],
   "source": [
    "arr = pd.arrays.SparseArray([1., -1, -1, -2., -1], fill_value=-1)\n",
    "np.abs(arr)"
   ]
  },
  {
   "cell_type": "code",
   "execution_count": null,
   "id": "31ef3b82-a447-445d-b404-70155a09fc13",
   "metadata": {
    "hide-output": false
   },
   "outputs": [],
   "source": [
    "np.abs(arr).to_dense()"
   ]
  },
  {
   "cell_type": "markdown",
   "id": "bb331ac0",
   "metadata": {},
   "source": [
    "\n",
    "<a id='sparse-migration'></a>"
   ]
  },
  {
   "cell_type": "markdown",
   "id": "49312923",
   "metadata": {},
   "source": [
    "## Migrating\n",
    "\n",
    ">**Note**\n",
    ">\n",
    ">`SparseSeries` and `SparseDataFrame` were removed in pandas 1.0.0. This migration\n",
    "guide is present to aid in migrating from previous versions.\n",
    "\n",
    "In older versions of pandas, the `SparseSeries` and `SparseDataFrame` classes (documented below)\n",
    "were the preferred way to work with sparse data. With the advent of extension arrays, these subclasses\n",
    "are no longer needed. Their purpose is better served by using a regular Series or DataFrame with\n",
    "sparse values instead.\n",
    "\n",
    ">**Note**\n",
    ">\n",
    ">There’s no performance or memory penalty to using a Series or DataFrame with sparse values,\n",
    "rather than a SparseSeries or SparseDataFrame.\n",
    "\n",
    "This section provides some guidance on migrating your code to the new style. As a reminder,\n",
    "you can use the Python warnings module to control warnings. But we recommend modifying\n",
    "your code, rather than ignoring the warning.\n",
    "\n",
    "**Construction**\n",
    "\n",
    "From an array-like, use the regular `Series` or\n",
    "`DataFrame` constructors with `SparseArray` values."
   ]
  },
  {
   "cell_type": "markdown",
   "id": "9c72848c",
   "metadata": {
    "hide-output": false
   },
   "source": [
    "```python\n",
    "# Previous way\n",
    ">>> pd.SparseDataFrame({\"A\": [0, 1]})\n",
    "```\n"
   ]
  },
  {
   "cell_type": "code",
   "execution_count": null,
   "id": "c2a47e45",
   "metadata": {
    "hide-output": false
   },
   "outputs": [],
   "source": [
    "# New way\n",
    "pd.DataFrame({\"A\": pd.arrays.SparseArray([0, 1])})"
   ]
  },
  {
   "cell_type": "markdown",
   "id": "ad6c53cb",
   "metadata": {},
   "source": [
    "From a SciPy sparse matrix, use `DataFrame.sparse.from_spmatrix()`,"
   ]
  },
  {
   "cell_type": "markdown",
   "id": "3d7bbdf1",
   "metadata": {
    "hide-output": false
   },
   "source": [
    "```python\n",
    "# Previous way\n",
    ">>> from scipy import sparse\n",
    ">>> mat = sparse.eye(3)\n",
    ">>> df = pd.SparseDataFrame(mat, columns=['A', 'B', 'C'])\n",
    "```\n"
   ]
  },
  {
   "cell_type": "code",
   "execution_count": null,
   "id": "3f03b84f",
   "metadata": {
    "hide-output": false
   },
   "outputs": [],
   "source": [
    "# New way\n",
    "from scipy import sparse\n",
    "mat = sparse.eye(3)\n",
    "df = pd.DataFrame.sparse.from_spmatrix(mat, columns=['A', 'B', 'C'])\n",
    "df.dtypes"
   ]
  },
  {
   "cell_type": "markdown",
   "id": "74c8c8a2",
   "metadata": {},
   "source": [
    "**Conversion**\n",
    "\n",
    "From sparse to dense, use the `.sparse` accessors"
   ]
  },
  {
   "cell_type": "code",
   "execution_count": null,
   "id": "94c6c4c0-fbf8-4bb9-bbd0-adace3ba6a83",
   "metadata": {
    "hide-output": false
   },
   "outputs": [],
   "source": [
    "df.sparse.to_dense()"
   ]
  },
  {
   "cell_type": "code",
   "execution_count": null,
   "id": "635609aa-7e64-4651-852e-e5d3d7cd3856",
   "metadata": {
    "hide-output": false
   },
   "outputs": [],
   "source": [
    "df.sparse.to_coo()"
   ]
  },
  {
   "cell_type": "markdown",
   "id": "66c5ed3f",
   "metadata": {},
   "source": [
    "From dense to sparse, use `DataFrame.astype()` with a `SparseDtype`."
   ]
  },
  {
   "cell_type": "code",
   "execution_count": null,
   "id": "564f0da8",
   "metadata": {
    "hide-output": false
   },
   "outputs": [],
   "source": [
    "dense = pd.DataFrame({\"A\": [1, 0, 0, 1]})\n",
    "dtype = pd.SparseDtype(int, fill_value=0)\n",
    "dense.astype(dtype)"
   ]
  },
  {
   "cell_type": "markdown",
   "id": "40297bc8",
   "metadata": {},
   "source": [
    "**Sparse Properties**\n",
    "\n",
    "Sparse-specific properties, like `density`, are available on the `.sparse` accessor."
   ]
  },
  {
   "cell_type": "code",
   "execution_count": null,
   "id": "4db9087f",
   "metadata": {
    "hide-output": false
   },
   "outputs": [],
   "source": [
    "df.sparse.density"
   ]
  },
  {
   "cell_type": "markdown",
   "id": "38aca476",
   "metadata": {},
   "source": [
    "**General differences**\n",
    "\n",
    "In a `SparseDataFrame`, *all* columns were sparse. A `DataFrame` can have a mixture of\n",
    "sparse and dense columns. As a consequence, assigning new columns to a `DataFrame` with sparse\n",
    "values will not automatically convert the input to be sparse."
   ]
  },
  {
   "cell_type": "markdown",
   "id": "fe8d54d7",
   "metadata": {
    "hide-output": false
   },
   "source": [
    "```python\n",
    "# Previous Way\n",
    ">>> df = pd.SparseDataFrame({\"A\": [0, 1]})\n",
    ">>> df['B'] = [0, 0]  # implicitly becomes Sparse\n",
    ">>> df['B'].dtype\n",
    "Sparse[int64, nan]\n",
    "```\n"
   ]
  },
  {
   "cell_type": "markdown",
   "id": "65e9e616",
   "metadata": {},
   "source": [
    "Instead, you’ll need to ensure that the values being assigned are sparse"
   ]
  },
  {
   "cell_type": "code",
   "execution_count": null,
   "id": "95d29869",
   "metadata": {
    "hide-output": false
   },
   "outputs": [],
   "source": [
    "df = pd.DataFrame({\"A\": pd.arrays.SparseArray([0, 1])})\n",
    "df['B'] = [0, 0]  # remains dense\n",
    "df['B'].dtype\n",
    "df['B'] = pd.arrays.SparseArray([0, 0])\n",
    "df['B'].dtype"
   ]
  },
  {
   "cell_type": "markdown",
   "id": "0cec0900",
   "metadata": {},
   "source": [
    "The `SparseDataFrame.default_kind` and `SparseDataFrame.default_fill_value` attributes\n",
    "have no replacement.\n",
    "\n",
    "\n",
    "<a id='sparse-scipysparse'></a>"
   ]
  },
  {
   "cell_type": "markdown",
   "id": "7cc6843d",
   "metadata": {},
   "source": [
    "## Interaction with scipy.sparse\n",
    "\n",
    "Use `DataFrame.sparse.from_spmatrix()` to create a `DataFrame` with sparse values from a sparse matrix.\n",
    "\n",
    "New in version 0.25.0."
   ]
  },
  {
   "cell_type": "code",
   "execution_count": null,
   "id": "60a1c418-f3a2-4dfa-93b0-e90ebda7e652",
   "metadata": {
    "hide-output": false
   },
   "outputs": [],
   "source": [
    "from scipy.sparse import csr_matrix\n",
    "\n",
    "arr = np.random.random(size=(1000, 5))\n",
    "arr[arr < .9] = 0\n",
    "\n",
    "sp_arr = csr_matrix(arr)\n",
    "sp_arr"
   ]
  },
  {
   "cell_type": "code",
   "execution_count": null,
   "id": "f157699e-080e-49e7-8466-319e9e47a4d3",
   "metadata": {
    "hide-output": false
   },
   "outputs": [],
   "source": [
    "sdf = pd.DataFrame.sparse.from_spmatrix(sp_arr)\n",
    "sdf.head()"
   ]
  },
  {
   "cell_type": "code",
   "execution_count": null,
   "id": "31e74ddc-a5aa-4427-a233-129d1f01f1a4",
   "metadata": {
    "hide-output": false
   },
   "outputs": [],
   "source": [
    "sdf.dtypes"
   ]
  },
  {
   "cell_type": "markdown",
   "id": "a15ebd17",
   "metadata": {},
   "source": [
    "All sparse formats are supported, but matrices that are not in `COOrdinate` format will be converted, copying data as needed.\n",
    "To convert back to sparse SciPy matrix in COO format, you can use the `DataFrame.sparse.to_coo()` method:"
   ]
  },
  {
   "cell_type": "code",
   "execution_count": null,
   "id": "941170d1",
   "metadata": {
    "hide-output": false
   },
   "outputs": [],
   "source": [
    "sdf.sparse.to_coo()"
   ]
  },
  {
   "cell_type": "markdown",
   "id": "58303743",
   "metadata": {},
   "source": [
    "meth:Series.sparse.to_coo is implemented for transforming a `Series` with sparse values indexed by a `MultiIndex` to a `scipy.sparse.coo_matrix`.\n",
    "\n",
    "The method requires a `MultiIndex` with two or more levels."
   ]
  },
  {
   "cell_type": "code",
   "execution_count": null,
   "id": "3e6ff941",
   "metadata": {
    "hide-output": false
   },
   "outputs": [],
   "source": [
    "s = pd.Series([3.0, np.nan, 1.0, 3.0, np.nan, np.nan])\n",
    "s.index = pd.MultiIndex.from_tuples(\n",
    "    [\n",
    "        (1, 2, \"a\", 0),\n",
    "        (1, 2, \"a\", 1),\n",
    "        (1, 1, \"b\", 0),\n",
    "        (1, 1, \"b\", 1),\n",
    "        (2, 1, \"b\", 0),\n",
    "        (2, 1, \"b\", 1),\n",
    "    ],\n",
    "    names=[\"A\", \"B\", \"C\", \"D\"],\n",
    ")\n",
    "ss = s.astype('Sparse')\n",
    "ss"
   ]
  },
  {
   "cell_type": "markdown",
   "id": "1028801f",
   "metadata": {},
   "source": [
    "In the example below, we transform the `Series` to a sparse representation of a 2-d array by specifying that the first and second `MultiIndex` levels define labels for the rows and the third and fourth levels define labels for the columns. We also specify that the column and row labels should be sorted in the final sparse representation."
   ]
  },
  {
   "cell_type": "code",
   "execution_count": null,
   "id": "c23e7f7d-980b-41e8-9682-b412df8f62c0",
   "metadata": {
    "hide-output": false
   },
   "outputs": [],
   "source": [
    "A, rows, columns = ss.sparse.to_coo(\n",
    "    row_levels=[\"A\", \"B\"], column_levels=[\"C\", \"D\"], sort_labels=True\n",
    ")\n",
    "\n",
    "A"
   ]
  },
  {
   "cell_type": "code",
   "execution_count": null,
   "id": "163e2640-6b25-47da-82dd-feea728664d3",
   "metadata": {
    "hide-output": false
   },
   "outputs": [],
   "source": [
    "A.todense()"
   ]
  },
  {
   "cell_type": "code",
   "execution_count": null,
   "id": "cab268a1-eead-4106-b6c6-e9c7321f9aad",
   "metadata": {
    "hide-output": false
   },
   "outputs": [],
   "source": [
    "rows"
   ]
  },
  {
   "cell_type": "code",
   "execution_count": null,
   "id": "81de2a1d-4974-4ac2-9d69-49d3db4cf70e",
   "metadata": {
    "hide-output": false
   },
   "outputs": [],
   "source": [
    "columns"
   ]
  },
  {
   "cell_type": "markdown",
   "id": "d8b15ad6",
   "metadata": {},
   "source": [
    "Specifying different row and column labels (and not sorting them) yields a different sparse matrix:"
   ]
  },
  {
   "cell_type": "code",
   "execution_count": null,
   "id": "4d08d97e-bfdb-466b-8d88-f110cfca4270",
   "metadata": {
    "hide-output": false
   },
   "outputs": [],
   "source": [
    "A, rows, columns = ss.sparse.to_coo(\n",
    "    row_levels=[\"A\", \"B\", \"C\"], column_levels=[\"D\"], sort_labels=False\n",
    ")\n",
    "A"
   ]
  },
  {
   "cell_type": "code",
   "execution_count": null,
   "id": "098408cc-3934-4343-bdb2-dedcf6c01748",
   "metadata": {
    "hide-output": false
   },
   "outputs": [],
   "source": [
    "A.todense()"
   ]
  },
  {
   "cell_type": "code",
   "execution_count": null,
   "id": "4cf0eeb7-518a-41e3-8a93-55a72e40a603",
   "metadata": {
    "hide-output": false
   },
   "outputs": [],
   "source": [
    "rows"
   ]
  },
  {
   "cell_type": "code",
   "execution_count": null,
   "id": "f81ebb5d-86a9-4f4b-bbdd-fbe43ec4060d",
   "metadata": {
    "hide-output": false
   },
   "outputs": [],
   "source": [
    "columns"
   ]
  },
  {
   "cell_type": "markdown",
   "id": "422a7b5f",
   "metadata": {},
   "source": [
    "A convenience method `Series.sparse.from_coo()` is implemented for creating a `Series` with sparse values from a `scipy.sparse.coo_matrix`."
   ]
  },
  {
   "cell_type": "code",
   "execution_count": null,
   "id": "56d58cf1-e904-47aa-b9dc-1c0ded7464a7",
   "metadata": {
    "hide-output": false
   },
   "outputs": [],
   "source": [
    "from scipy import sparse\n",
    "A = sparse.coo_matrix(([3.0, 1.0, 2.0], ([1, 0, 0], [0, 2, 3])), shape=(3, 4))\n",
    "A"
   ]
  },
  {
   "cell_type": "code",
   "execution_count": null,
   "id": "12db5bfe-38ea-411b-8e75-a6478383e0dc",
   "metadata": {
    "hide-output": false
   },
   "outputs": [],
   "source": [
    "A.todense()"
   ]
  },
  {
   "cell_type": "markdown",
   "id": "83d61f87",
   "metadata": {},
   "source": [
    "The default behaviour (with `dense_index=False`) simply returns a `Series` containing\n",
    "only the non-null entries."
   ]
  },
  {
   "cell_type": "code",
   "execution_count": null,
   "id": "8d6109b9",
   "metadata": {
    "hide-output": false
   },
   "outputs": [],
   "source": [
    "ss = pd.Series.sparse.from_coo(A)\n",
    "ss"
   ]
  },
  {
   "cell_type": "markdown",
   "id": "dcd24682",
   "metadata": {},
   "source": [
    "Specifying `dense_index=True` will result in an index that is the Cartesian product of the\n",
    "row and columns coordinates of the matrix. Note that this will consume a significant amount of memory\n",
    "(relative to `dense_index=False`) if the sparse matrix is large (and sparse) enough."
   ]
  },
  {
   "cell_type": "code",
   "execution_count": null,
   "id": "4b6c70bc",
   "metadata": {
    "hide-output": false
   },
   "outputs": [],
   "source": [
    "ss_dense = pd.Series.sparse.from_coo(A, dense_index=True)\n",
    "ss_dense"
   ]
  }
 ],
 "metadata": {
  "date": 1630231092.4168155,
  "filename": "42_sparsecity.rst",
  "kernelspec": {
   "display_name": "Python 3 (ipykernel)",
   "language": "python",
   "name": "python3"
  },
  "language_info": {
   "codemirror_mode": {
    "name": "ipython",
    "version": 3
   },
   "file_extension": ".py",
   "mimetype": "text/x-python",
   "name": "python",
   "nbconvert_exporter": "python",
   "pygments_lexer": "ipython3",
   "version": "3.8.8"
  },
  "title": "Sparse data structures"
 },
 "nbformat": 4,
 "nbformat_minor": 5
}
