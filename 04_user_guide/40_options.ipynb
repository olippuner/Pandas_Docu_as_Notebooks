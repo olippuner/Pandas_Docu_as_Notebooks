{
 "cells": [
  {
   "cell_type": "code",
   "execution_count": null,
   "id": "43e6e308-b450-4345-9e04-30f11e7f152d",
   "metadata": {},
   "outputs": [],
   "source": [
    "import numpy as np\n",
    "import pandas as pd\n",
    "import matplotlib.pyplot as plt\n",
    "print(\"pandas\", pd.__version__)\n",
    "print(\"numpy\",np.__version__) "
   ]
  },
  {
   "cell_type": "markdown",
   "id": "332957d8",
   "metadata": {},
   "source": [
    "# Options and settings"
   ]
  },
  {
   "cell_type": "markdown",
   "id": "8e79e7b9",
   "metadata": {},
   "source": [
    "## Overview\n",
    "\n",
    "pandas has an options system that lets you customize some aspects of its behaviour,\n",
    "display-related options being those the user is most likely to adjust.\n",
    "\n",
    "Options have a full “dotted-style”, case-insensitive name (e.g. `display.max_rows`).\n",
    "You can get/set options directly as attributes of the top-level `options` attribute:"
   ]
  },
  {
   "cell_type": "code",
   "execution_count": null,
   "id": "0c8dd6c8-b0c5-4059-8734-461762e16ae1",
   "metadata": {
    "hide-output": false
   },
   "outputs": [],
   "source": [
    "import pandas as pd\n",
    "\n",
    "pd.options.display.max_rows"
   ]
  },
  {
   "cell_type": "code",
   "execution_count": null,
   "id": "5f4e2fe5-8b5a-43f4-ab2f-996695610ab3",
   "metadata": {
    "hide-output": false
   },
   "outputs": [],
   "source": [
    "pd.options.display.max_rows = 999"
   ]
  },
  {
   "cell_type": "code",
   "execution_count": null,
   "id": "5914d333-9e58-4744-a0a2-409618712ac7",
   "metadata": {
    "hide-output": false
   },
   "outputs": [],
   "source": [
    "pd.options.display.max_rows"
   ]
  },
  {
   "cell_type": "markdown",
   "id": "9e59ef2d",
   "metadata": {},
   "source": [
    "The API is composed of 5 relevant functions, available directly from the `pandas`\n",
    "namespace:\n",
    "\n",
    "- `get_option()` / `set_option()` - get/set the value of a single option.  \n",
    "- `reset_option()` - reset one or more options to their default value.  \n",
    "- `describe_option()` - print the descriptions of one or more options.  \n",
    "- `option_context()` - execute a codeblock with a set of options\n",
    "  that revert to prior settings after execution.  \n",
    "\n",
    "\n",
    "**Note:** Developers can check out [pandas/core/config_init.py](https://github.com/pandas-dev/pandas/blob/master/pandas/core/config_init.py) for more information.\n",
    "\n",
    "All of the functions above accept a regexp pattern (`re.search` style) as an argument,\n",
    "and so passing in a substring will work - as long as it is unambiguous:"
   ]
  },
  {
   "cell_type": "code",
   "execution_count": null,
   "id": "c90b0cd6-4f9f-4729-b0d5-2ac337505298",
   "metadata": {
    "hide-output": false
   },
   "outputs": [],
   "source": [
    "pd.get_option(\"display.max_rows\")"
   ]
  },
  {
   "cell_type": "code",
   "execution_count": null,
   "id": "9681f92b-c1ab-4e9e-9f65-8ceab5e7dc77",
   "metadata": {
    "hide-output": false
   },
   "outputs": [],
   "source": [
    "pd.set_option(\"display.max_rows\", 101)\n",
    "pd.get_option(\"display.max_rows\")"
   ]
  },
  {
   "cell_type": "code",
   "execution_count": null,
   "id": "34c1798f-32a0-4a39-8b13-528586d9f7f0",
   "metadata": {
    "hide-output": false
   },
   "outputs": [],
   "source": [
    "pd.set_option(\"max_r\", 102)\n",
    "pd.get_option(\"display.max_rows\")"
   ]
  },
  {
   "cell_type": "markdown",
   "id": "dbc6c7ac",
   "metadata": {},
   "source": [
    "The following will **not work** because it matches multiple option names, e.g.\n",
    "`display.max_colwidth`, `display.max_rows`, `display.max_columns`:"
   ]
  },
  {
   "cell_type": "code",
   "execution_count": null,
   "id": "e5fef80d",
   "metadata": {
    "hide-output": false
   },
   "outputs": [],
   "source": [
    "try:\n",
    "    pd.get_option(\"column\")\n",
    "except KeyError as e:\n",
    "    print(e)"
   ]
  },
  {
   "cell_type": "markdown",
   "id": "eea4632a",
   "metadata": {},
   "source": [
    "**Note:** Using this form of shorthand may cause your code to break if new options with similar names are added in future versions.\n",
    "\n",
    "You can get a list of available options and their descriptions with `describe_option`. When called\n",
    "with no argument `describe_option` will print out the descriptions for all available options."
   ]
  },
  {
   "cell_type": "code",
   "execution_count": null,
   "id": "c0b44e90",
   "metadata": {
    "hide-output": false
   },
   "outputs": [],
   "source": [
    "pd.reset_option(\"all\")"
   ]
  },
  {
   "cell_type": "markdown",
   "id": "749c18b3",
   "metadata": {},
   "source": [
    "## Getting and setting options\n",
    "\n",
    "As described above, `get_option()` and `set_option()`\n",
    "are available from the pandas namespace.  To change an option, call\n",
    "`set_option('option regex', new_value)`."
   ]
  },
  {
   "cell_type": "code",
   "execution_count": null,
   "id": "e2aeb9c4-f905-4a4b-8b6a-fc31a718b8fe",
   "metadata": {
    "hide-output": false
   },
   "outputs": [],
   "source": [
    "pd.get_option(\"mode.sim_interactive\")"
   ]
  },
  {
   "cell_type": "code",
   "execution_count": null,
   "id": "769a83ca-f105-48a9-9309-3be7f819324c",
   "metadata": {
    "hide-output": false
   },
   "outputs": [],
   "source": [
    "pd.set_option(\"mode.sim_interactive\", True)"
   ]
  },
  {
   "cell_type": "code",
   "execution_count": null,
   "id": "c13510bf-e266-455f-9b0b-5b9deb128953",
   "metadata": {
    "hide-output": false
   },
   "outputs": [],
   "source": [
    "pd.get_option(\"mode.sim_interactive\")"
   ]
  },
  {
   "cell_type": "markdown",
   "id": "e1cf35bb",
   "metadata": {},
   "source": [
    "**Note:** The option ‘mode.sim_interactive’ is mostly used for debugging purposes.\n",
    "\n",
    "All options also have a default value, and you can use `reset_option` to do just that:"
   ]
  },
  {
   "cell_type": "code",
   "execution_count": null,
   "id": "02c000e4",
   "metadata": {
    "hide-output": false
   },
   "outputs": [],
   "source": [
    "pd.reset_option(\"display.max_rows\")"
   ]
  },
  {
   "cell_type": "code",
   "execution_count": null,
   "id": "5030d854-be05-47ea-8a6f-ad29594ef0fe",
   "metadata": {
    "hide-output": false
   },
   "outputs": [],
   "source": [
    "pd.get_option(\"display.max_rows\")"
   ]
  },
  {
   "cell_type": "code",
   "execution_count": null,
   "id": "ee563ce5-e5aa-4614-b062-ae1d7d36e9f1",
   "metadata": {
    "hide-output": false
   },
   "outputs": [],
   "source": [
    "pd.set_option(\"display.max_rows\", 999)"
   ]
  },
  {
   "cell_type": "code",
   "execution_count": null,
   "id": "0619f3c3-5d95-4219-ad61-af1633d9355e",
   "metadata": {
    "hide-output": false
   },
   "outputs": [],
   "source": [
    "pd.get_option(\"display.max_rows\")"
   ]
  },
  {
   "cell_type": "code",
   "execution_count": null,
   "id": "0011382b-4994-47e7-bc9c-d8e7e6d1781d",
   "metadata": {
    "hide-output": false
   },
   "outputs": [],
   "source": [
    "pd.reset_option(\"display.max_rows\")"
   ]
  },
  {
   "cell_type": "code",
   "execution_count": null,
   "id": "a35748d7-3c05-4fce-ab5b-3e7041c5e188",
   "metadata": {
    "hide-output": false
   },
   "outputs": [],
   "source": [
    "pd.get_option(\"display.max_rows\")"
   ]
  },
  {
   "cell_type": "markdown",
   "id": "28843c09",
   "metadata": {},
   "source": [
    "It’s also possible to reset multiple options at once (using a regex):"
   ]
  },
  {
   "cell_type": "code",
   "execution_count": null,
   "id": "032ab00b",
   "metadata": {
    "hide-output": false
   },
   "outputs": [],
   "source": [
    "pd.reset_option(\"^display\")"
   ]
  },
  {
   "cell_type": "markdown",
   "id": "8cea2160",
   "metadata": {},
   "source": [
    "`option_context` context manager has been exposed through\n",
    "the top-level API, allowing you to execute code with given option values. Option values\n",
    "are restored automatically when you exit the `with` block:"
   ]
  },
  {
   "cell_type": "code",
   "execution_count": null,
   "id": "6095fcbc",
   "metadata": {
    "hide-output": false
   },
   "outputs": [],
   "source": [
    "with pd.option_context(\"display.max_rows\", 10, \"display.max_columns\", 5):\n",
    "    print(pd.get_option(\"display.max_rows\"))\n",
    "    print(pd.get_option(\"display.max_columns\"))\n",
    "print(pd.get_option(\"display.max_rows\"))\n",
    "print(pd.get_option(\"display.max_columns\"))"
   ]
  },
  {
   "cell_type": "markdown",
   "id": "991f3e20",
   "metadata": {},
   "source": [
    "## Setting startup options in Python/IPython environment\n",
    "\n",
    "Using startup scripts for the Python/IPython environment to import pandas and set options makes working with pandas more efficient.  To do this, create a .py or .ipy script in the startup directory of the desired profile.  An example where the startup folder is in a default IPython profile can be found at:"
   ]
  },
  {
   "cell_type": "markdown",
   "id": "84077250",
   "metadata": {
    "hide-output": false
   },
   "source": [
    "```text\n",
    "$IPYTHONDIR/profile_default/startup\n",
    "```\n"
   ]
  },
  {
   "cell_type": "markdown",
   "id": "b2493dec",
   "metadata": {},
   "source": [
    "More information can be found in the [IPython documentation](https://ipython.org/ipython-doc/stable/interactive/tutorial.html#startup-files).  An example startup script for pandas is displayed below:"
   ]
  },
  {
   "cell_type": "markdown",
   "id": "9aff40d8",
   "metadata": {
    "hide-output": false
   },
   "source": [
    "```python\n",
    "import pandas as pd\n",
    "\n",
    "pd.set_option(\"display.max_rows\", 999)\n",
    "pd.set_option(\"precision\", 5)\n",
    "```\n"
   ]
  },
  {
   "cell_type": "markdown",
   "id": "aacc053a",
   "metadata": {},
   "source": [
    "\n",
    "<a id='options-frequently-used'></a>"
   ]
  },
  {
   "cell_type": "markdown",
   "id": "615a9a36",
   "metadata": {},
   "source": [
    "## Frequently used options\n",
    "\n",
    "The following is a walk-through of the more frequently used display options.\n",
    "\n",
    "`display.max_rows` and `display.max_columns` sets the maximum number\n",
    "of rows and columns displayed when a frame is pretty-printed.  Truncated\n",
    "lines are replaced by an ellipsis."
   ]
  },
  {
   "cell_type": "code",
   "execution_count": null,
   "id": "48823235-670a-4fd1-99cb-8268beb9814d",
   "metadata": {
    "hide-output": false
   },
   "outputs": [],
   "source": [
    "df = pd.DataFrame(np.random.randn(7, 2))\n",
    "pd.set_option(\"max_rows\", 7)\n",
    "df"
   ]
  },
  {
   "cell_type": "code",
   "execution_count": null,
   "id": "f66952ef-8632-4fb6-a6b6-1ed2ca27acaf",
   "metadata": {
    "hide-output": false
   },
   "outputs": [],
   "source": [
    "pd.set_option(\"max_rows\", 5)\n",
    "df"
   ]
  },
  {
   "cell_type": "code",
   "execution_count": null,
   "id": "5259e89d-614d-4931-9786-0e2ec4c37484",
   "metadata": {
    "hide-output": false
   },
   "outputs": [],
   "source": [
    "pd.reset_option(\"max_rows\")"
   ]
  },
  {
   "cell_type": "markdown",
   "id": "c4a0e007",
   "metadata": {},
   "source": [
    "Once the `display.max_rows` is exceeded, the `display.min_rows` options\n",
    "determines how many rows are shown in the truncated repr."
   ]
  },
  {
   "cell_type": "code",
   "execution_count": null,
   "id": "8313076f-3a07-4e26-a7a4-6583a3596dae",
   "metadata": {
    "hide-output": false
   },
   "outputs": [],
   "source": [
    "pd.set_option(\"max_rows\", 8)\n",
    "pd.set_option(\"min_rows\", 4)\n",
    "# below max_rows -> all rows shown\n",
    "df = pd.DataFrame(np.random.randn(7, 2))\n",
    "df"
   ]
  },
  {
   "cell_type": "code",
   "execution_count": null,
   "id": "6ce0854f-5365-4141-a908-aee328d18e8b",
   "metadata": {
    "hide-output": false
   },
   "outputs": [],
   "source": [
    "# above max_rows -> only min_rows (4) rows shown\n",
    "df = pd.DataFrame(np.random.randn(9, 2))\n",
    "df"
   ]
  },
  {
   "cell_type": "code",
   "execution_count": null,
   "id": "836916c4-5187-44ac-948e-a73c8bd83b36",
   "metadata": {
    "hide-output": false
   },
   "outputs": [],
   "source": [
    "pd.reset_option(\"max_rows\")\n",
    "pd.reset_option(\"min_rows\")"
   ]
  },
  {
   "cell_type": "markdown",
   "id": "68db42c3",
   "metadata": {},
   "source": [
    "`display.expand_frame_repr` allows for the representation of\n",
    "dataframes to stretch across pages, wrapped over the full column vs row-wise."
   ]
  },
  {
   "cell_type": "code",
   "execution_count": null,
   "id": "62b087bc-3010-46c2-8b01-1ee7b402ae64",
   "metadata": {
    "hide-output": false
   },
   "outputs": [],
   "source": [
    "df = pd.DataFrame(np.random.randn(5, 10))\n",
    "pd.set_option(\"expand_frame_repr\", True)\n",
    "df"
   ]
  },
  {
   "cell_type": "code",
   "execution_count": null,
   "id": "645066cd-d362-4edd-b5b3-ee4e7a6eb190",
   "metadata": {
    "hide-output": false
   },
   "outputs": [],
   "source": [
    "pd.set_option(\"expand_frame_repr\", False)\n",
    "df"
   ]
  },
  {
   "cell_type": "code",
   "execution_count": null,
   "id": "502be100-b5b9-447b-8c6a-a74ec5c0dcb3",
   "metadata": {
    "hide-output": false
   },
   "outputs": [],
   "source": [
    "pd.reset_option(\"expand_frame_repr\")"
   ]
  },
  {
   "cell_type": "markdown",
   "id": "bef66e88",
   "metadata": {},
   "source": [
    "`display.large_repr` lets you select whether to display dataframes that exceed\n",
    "`max_columns` or `max_rows` as a truncated frame, or as a summary."
   ]
  },
  {
   "cell_type": "code",
   "execution_count": null,
   "id": "48ddbe5d-5cd7-4272-ae4a-84239fa5dc8d",
   "metadata": {
    "hide-output": false
   },
   "outputs": [],
   "source": [
    "df = pd.DataFrame(np.random.randn(10, 10))\n",
    "pd.set_option(\"max_rows\", 5)\n",
    "pd.set_option(\"large_repr\", \"truncate\")\n",
    "df"
   ]
  },
  {
   "cell_type": "code",
   "execution_count": null,
   "id": "b413fb32-933e-4efd-9b83-534c11fd2adc",
   "metadata": {
    "hide-output": false
   },
   "outputs": [],
   "source": [
    "pd.set_option(\"large_repr\", \"info\")\n",
    "df"
   ]
  },
  {
   "cell_type": "code",
   "execution_count": null,
   "id": "5bce714e-5040-4589-bed8-9a06e17ee716",
   "metadata": {
    "hide-output": false
   },
   "outputs": [],
   "source": [
    "pd.reset_option(\"large_repr\")\n",
    "pd.reset_option(\"max_rows\")"
   ]
  },
  {
   "cell_type": "markdown",
   "id": "1d96f523",
   "metadata": {},
   "source": [
    "`display.max_colwidth` sets the maximum width of columns.  Cells\n",
    "of this length or longer will be truncated with an ellipsis."
   ]
  },
  {
   "cell_type": "code",
   "execution_count": null,
   "id": "a699431f-9474-4f8a-a04e-08efc1074d47",
   "metadata": {
    "hide-output": false
   },
   "outputs": [],
   "source": [
    "df = pd.DataFrame(\n",
    "    np.array(\n",
    "        [\n",
    "            [\"foo\", \"bar\", \"bim\", \"uncomfortably long string\"],\n",
    "            [\"horse\", \"cow\", \"banana\", \"apple\"],\n",
    "        ]\n",
    "    )\n",
    ")\n",
    "pd.set_option(\"max_colwidth\", 40)\n",
    "df"
   ]
  },
  {
   "cell_type": "code",
   "execution_count": null,
   "id": "2005dc41-c055-46ed-b992-3a4fcdbeba6a",
   "metadata": {
    "hide-output": false
   },
   "outputs": [],
   "source": [
    "pd.set_option(\"max_colwidth\", 6)\n",
    "df"
   ]
  },
  {
   "cell_type": "code",
   "execution_count": null,
   "id": "dde266f2-d379-45d8-ba4f-95ed2efb6ea3",
   "metadata": {
    "hide-output": false
   },
   "outputs": [],
   "source": [
    "pd.reset_option(\"max_colwidth\")"
   ]
  },
  {
   "cell_type": "markdown",
   "id": "7fa82c58",
   "metadata": {},
   "source": [
    "`display.max_info_columns` sets a threshold for when by-column info\n",
    "will be given."
   ]
  },
  {
   "cell_type": "code",
   "execution_count": null,
   "id": "91763f1a-b109-4d44-bfde-58d14e9d4f69",
   "metadata": {
    "hide-output": false
   },
   "outputs": [],
   "source": [
    "df = pd.DataFrame(np.random.randn(10, 10))\n",
    "pd.set_option(\"max_info_columns\", 11)\n",
    "df.info()"
   ]
  },
  {
   "cell_type": "code",
   "execution_count": null,
   "id": "18ac4ef6-3f8f-422f-8206-6e4f56418ac3",
   "metadata": {
    "hide-output": false
   },
   "outputs": [],
   "source": [
    "pd.set_option(\"max_info_columns\", 5)\n",
    "df.info()"
   ]
  },
  {
   "cell_type": "code",
   "execution_count": null,
   "id": "8d21a1c4-a76d-4441-9427-a62f3074ddbf",
   "metadata": {
    "hide-output": false
   },
   "outputs": [],
   "source": [
    "pd.reset_option(\"max_info_columns\")"
   ]
  },
  {
   "cell_type": "markdown",
   "id": "db27baa4",
   "metadata": {},
   "source": [
    "`display.max_info_rows`: `df.info()` will usually show null-counts for each column.\n",
    "For large frames this can be quite slow. `max_info_rows` and `max_info_cols`\n",
    "limit this null check only to frames with smaller dimensions then specified. Note that you\n",
    "can specify the option `df.info(null_counts=True)` to override on showing a particular frame."
   ]
  },
  {
   "cell_type": "code",
   "execution_count": null,
   "id": "fbe268a8-6ed8-4984-b32e-96745dd62e45",
   "metadata": {
    "hide-output": false
   },
   "outputs": [],
   "source": [
    "df = pd.DataFrame(np.random.choice([0, 1, np.nan], size=(10, 10)))\n",
    "df"
   ]
  },
  {
   "cell_type": "code",
   "execution_count": null,
   "id": "ea5a60a7-ed97-432e-b27f-ff16b7a611c9",
   "metadata": {
    "hide-output": false
   },
   "outputs": [],
   "source": [
    "pd.set_option(\"max_info_rows\", 11)\n",
    "df.info()"
   ]
  },
  {
   "cell_type": "code",
   "execution_count": null,
   "id": "58793f24-6927-441e-a180-c03fc161c1f3",
   "metadata": {
    "hide-output": false
   },
   "outputs": [],
   "source": [
    "pd.set_option(\"max_info_rows\", 5)\n",
    "df.info()"
   ]
  },
  {
   "cell_type": "code",
   "execution_count": null,
   "id": "55e08c80-b668-4f90-8823-6e0bd3b3c1a3",
   "metadata": {
    "hide-output": false
   },
   "outputs": [],
   "source": [
    "pd.reset_option(\"max_info_rows\")"
   ]
  },
  {
   "cell_type": "markdown",
   "id": "e561024c",
   "metadata": {},
   "source": [
    "`display.precision` sets the output display precision in terms of decimal places.\n",
    "This is only a suggestion."
   ]
  },
  {
   "cell_type": "code",
   "execution_count": null,
   "id": "59c53ded-5171-443f-a6b8-b8367e5c28b7",
   "metadata": {
    "hide-output": false
   },
   "outputs": [],
   "source": [
    "df = pd.DataFrame(np.random.randn(5, 5))\n",
    "pd.set_option(\"precision\", 7)\n",
    "df"
   ]
  },
  {
   "cell_type": "code",
   "execution_count": null,
   "id": "d22e2649-a02c-4352-b277-d3262646cd1f",
   "metadata": {
    "hide-output": false
   },
   "outputs": [],
   "source": [
    "pd.set_option(\"precision\", 4)\n",
    "df"
   ]
  },
  {
   "cell_type": "markdown",
   "id": "585beb4d",
   "metadata": {},
   "source": [
    "`display.chop_threshold` sets at what level pandas rounds to zero when\n",
    "it displays a Series of DataFrame. This setting does not change the\n",
    "precision at which the number is stored."
   ]
  },
  {
   "cell_type": "code",
   "execution_count": null,
   "id": "07a13cbe-5316-4b2a-b157-124daf948a64",
   "metadata": {
    "hide-output": false
   },
   "outputs": [],
   "source": [
    "df = pd.DataFrame(np.random.randn(6, 6))\n",
    "pd.set_option(\"chop_threshold\", 0)\n",
    "df"
   ]
  },
  {
   "cell_type": "code",
   "execution_count": null,
   "id": "719bf595-7b02-488a-a9d4-9b71c0263bff",
   "metadata": {
    "hide-output": false
   },
   "outputs": [],
   "source": [
    "pd.set_option(\"chop_threshold\", 0.5)\n",
    "df"
   ]
  },
  {
   "cell_type": "code",
   "execution_count": null,
   "id": "1303cd5d-839f-44e1-ad63-abd5d67ef459",
   "metadata": {
    "hide-output": false
   },
   "outputs": [],
   "source": [
    "pd.reset_option(\"chop_threshold\")"
   ]
  },
  {
   "cell_type": "markdown",
   "id": "fd403fd3",
   "metadata": {},
   "source": [
    "`display.colheader_justify` controls the justification of the headers.\n",
    "The options are ‘right’, and ‘left’."
   ]
  },
  {
   "cell_type": "code",
   "execution_count": null,
   "id": "d36ecf04-7120-493f-aa8a-7772d846b5b6",
   "metadata": {
    "hide-output": false
   },
   "outputs": [],
   "source": [
    "df = pd.DataFrame(\n",
    "    np.array([np.random.randn(6), np.random.randint(1, 9, 6) * 0.1, np.zeros(6)]).T,\n",
    "    columns=[\"A\", \"B\", \"C\"],\n",
    "    dtype=\"float\",\n",
    ")\n",
    "pd.set_option(\"colheader_justify\", \"right\")\n",
    "df"
   ]
  },
  {
   "cell_type": "code",
   "execution_count": null,
   "id": "e310fac0-0791-4656-89cc-5245a93c2079",
   "metadata": {
    "hide-output": false
   },
   "outputs": [],
   "source": [
    "pd.set_option(\"colheader_justify\", \"left\")\n",
    "df"
   ]
  },
  {
   "cell_type": "code",
   "execution_count": null,
   "id": "9a425f9e-e9a2-4996-83b6-68bd97ec44a4",
   "metadata": {
    "hide-output": false
   },
   "outputs": [],
   "source": [
    "pd.reset_option(\"colheader_justify\")"
   ]
  },
  {
   "cell_type": "markdown",
   "id": "f1539081",
   "metadata": {},
   "source": [
    "\n",
    "<a id='options-available'></a>"
   ]
  },
  {
   "cell_type": "markdown",
   "id": "dd2c3655-e974-4ab3-aad7-25eb21c69eff",
   "metadata": {},
   "source": [
    "\n",
    "\n",
    "## Available options\n",
    "\n",
    "| Option                                  | Default    | Function                                                     |\n",
    "| :-------------------------------------- | :--------- | :----------------------------------------------------------- |\n",
    "| display.chop_threshold                  | None       | If set to a float value, all float values smaller then the given threshold will be displayed as exactly 0 by repr and friends. |\n",
    "| display.colheader_justify               | right      | Controls the justification of column headers. used by DataFrameFormatter. |\n",
    "| display.column_space                    | 12         | No description available.                                    |\n",
    "| display.date_dayfirst                   | False      | When True, prints and parses dates with the day first, eg 20/01/2005 |\n",
    "| display.date_yearfirst                  | False      | When True, prints and parses dates with the year first, eg 2005/01/20 |\n",
    "| display.encoding                        | UTF-8      | Defaults to the detected encoding of the console. Specifies the encoding to be used for strings returned by to_string, these are generally strings meant to be displayed on the console. |\n",
    "| display.expand_frame_repr               | True       | Whether to print out the full DataFrame repr for wide DataFrames across multiple lines, `max_columns` is still respected, but the output will wrap-around across multiple “pages” if its width exceeds `display.width`. |\n",
    "| display.float_format                    | None       | The callable should accept a floating point number and return a string with the desired format of the number. This is used in some places like SeriesFormatter. See core.format.EngFormatter for an example. |\n",
    "| display.large_repr                      | truncate   | For DataFrames exceeding max_rows/max_cols, the repr (and HTML repr) can show a truncated table (the default), or switch to the view from df.info() (the behaviour in earlier versions of pandas). allowable settings, [‘truncate’, ‘info’] |\n",
    "| display.latex.repr                      | False      | Whether to produce a latex DataFrame representation for Jupyter frontends that support it. |\n",
    "| display.latex.escape                    | True       | Escapes special characters in DataFrames, when using the to_latex method. |\n",
    "| display.latex.longtable                 | False      | Specifies if the to_latex method of a DataFrame uses the longtable format. |\n",
    "| display.latex.multicolumn               | True       | Combines columns when using a MultiIndex                     |\n",
    "| display.latex.multicolumn_format        | ‘l’        | Alignment of multicolumn labels                              |\n",
    "| display.latex.multirow                  | False      | Combines rows when using a MultiIndex. Centered instead of top-aligned, separated by clines. |\n",
    "| display.max_columns                     | 0 or 20    | max_rows and max_columns are used in __repr__() methods to decide if to_string() or info() is used to render an object to a string. In case Python/IPython is running in a terminal this is set to 0 by default and pandas will correctly auto-detect the width of the terminal and switch to a smaller format in case all columns would not fit vertically. The IPython notebook, IPython qtconsole, or IDLE do not run in a terminal and hence it is not possible to do correct auto-detection, in which case the default is set to 20. ‘None’ value means unlimited. |\n",
    "| display.max_colwidth                    | 50         | The maximum width in characters of a column in the repr of a pandas data structure. When the column overflows, a “…” placeholder is embedded in the output. ‘None’ value means unlimited. |\n",
    "| display.max_info_columns                | 100        | max_info_columns is used in DataFrame.info method to decide if per column information will be printed. |\n",
    "| display.max_info_rows                   | 1690785    | df.info() will usually show null-counts for each column. For large frames this can be quite slow. max_info_rows and max_info_cols limit this null check only to frames with smaller dimensions then specified. |\n",
    "| display.max_rows                        | 60         | This sets the maximum number of rows pandas should output when printing out various output. For example, this value determines whether the repr() for a dataframe prints out fully or just a truncated or summary repr. ‘None’ value means unlimited. |\n",
    "| display.min_rows                        | 10         | The numbers of rows to show in a truncated repr (when `max_rows` is exceeded). Ignored when `max_rows` is set to None or 0. When set to None, follows the value of `max_rows`. |\n",
    "| display.max_seq_items                   | 100        | when pretty-printing a long sequence, no more then `max_seq_items` will be printed. If items are omitted, they will be denoted by the addition of “…” to the resulting string. If set to None, the number of items to be printed is unlimited. |\n",
    "| display.memory_usage                    | True       | This specifies if the memory usage of a DataFrame should be displayed when the df.info() method is invoked. |\n",
    "| display.multi_sparse                    | True       | “Sparsify” MultiIndex display (don’t display repeated elements in outer levels within groups) |\n",
    "| display.notebook_repr_html              | True       | When True, IPython notebook will use html representation for pandas objects (if it is available). |\n",
    "| display.pprint_nest_depth               | 3          | Controls the number of nested levels to process when pretty-printing |\n",
    "| display.precision                       | 6          | Floating point output precision in terms of number of places after the decimal, for regular formatting as well as scientific notation. Similar to numpy’s `precision` print option |\n",
    "| display.show_dimensions                 | truncate   | Whether to print out dimensions at the end of DataFrame repr. If ‘truncate’ is specified, only print out the dimensions if the frame is truncated (e.g. not display all rows and/or columns) |\n",
    "| display.width                           | 80         | Width of the display in characters. In case Python/IPython is running in a terminal this can be set to None and pandas will correctly auto-detect the width. Note that the IPython notebook, IPython qtconsole, or IDLE do not run in a terminal and hence it is not possible to correctly detect the width. |\n",
    "| display.html.table_schema               | False      | Whether to publish a Table Schema representation for frontends that support it. |\n",
    "| display.html.border                     | 1          | A `border=value` attribute is inserted in the `<table>` tag for the DataFrame HTML repr. |\n",
    "| display.html.use_mathjax                | True       | When True, Jupyter notebook will process table contents using MathJax, rendering mathematical expressions enclosed by the dollar symbol. |\n",
    "| io.excel.xls.writer                     | xlwt       | The default Excel writer engine for ‘xls’ files.*Deprecated since version 1.2.0:* As [xlwt](https://pypi.org/project/xlwt/) package is no longer maintained, the `xlwt` engine will be removed in a future version of pandas. Since this is the only engine in pandas that supports writing to `.xls` files, this option will also be removed. |\n",
    "| io.excel.xlsm.writer                    | openpyxl   | The default Excel writer engine for ‘xlsm’ files. Available options: ‘openpyxl’ (the default). |\n",
    "| io.excel.xlsx.writer                    | openpyxl   | The default Excel writer engine for ‘xlsx’ files.            |\n",
    "| io.hdf.default_format                   | None       | default format writing format, if None, then put will default to ‘fixed’ and append will default to ‘table’ |\n",
    "| io.hdf.dropna_table                     | True       | drop ALL nan rows when appending to a table                  |\n",
    "| io.parquet.engine                       | None       | The engine to use as a default for parquet reading and writing. If None then try ‘pyarrow’ and ‘fastparquet’ |\n",
    "| io.sql.engine                           | None       | The engine to use as a default for sql reading and writing, with SQLAlchemy as a higher level interface. If None then try ‘sqlalchemy’ |\n",
    "| mode.chained_assignment                 | warn       | Controls `SettingWithCopyWarning`: ‘raise’, ‘warn’, or None. Raise an exception, warn, or no action if trying to use [chained assignment](https://pandas.pydata.org/docs/user_guide/indexing.html#indexing-evaluation-order). |\n",
    "| mode.sim_interactive                    | False      | Whether to simulate interactive mode for purposes of testing. |\n",
    "| mode.use_inf_as_na                      | False      | True means treat None, NaN, -INF, INF as NA (old way), False means None and NaN are null, but INF, -INF are not NA (new way). |\n",
    "| compute.use_bottleneck                  | True       | Use the bottleneck library to accelerate computation if it is installed. |\n",
    "| compute.use_numexpr                     | True       | Use the numexpr library to accelerate computation if it is installed. |\n",
    "| plotting.backend                        | matplotlib | Change the plotting backend to a different backend than the current matplotlib one. Backends can be implemented as third-party libraries implementing the pandas plotting API. They can use other plotting libraries like Bokeh, Altair, etc. |\n",
    "| plotting.matplotlib.register_converters | True       | Register custom converters with matplotlib. Set to False to de-register. |\n",
    "| styler.sparse.index                     | True       | “Sparsify” MultiIndex display for rows in Styler output (don’t display repeated elements in outer levels within groups). |\n",
    "| styler.sparse.columns                   | True       | “Sparsify” MultiIndex display for columns in Styler output.  |\n",
    "| styler.render.max_elements              | 262144     | Maximum number of datapoints that Styler will render trimming either rows, columns or both to fit. |"
   ]
  },
  {
   "cell_type": "markdown",
   "id": "740ba5af",
   "metadata": {},
   "source": [
    "## Number formatting\n",
    "\n",
    "pandas also allows you to set how numbers are displayed in the console.\n",
    "This option is not set through the `set_options` API.\n",
    "\n",
    "Use the `set_eng_float_format` function\n",
    "to alter the floating-point formatting of pandas objects to produce a particular\n",
    "format.\n",
    "\n",
    "For instance:"
   ]
  },
  {
   "cell_type": "code",
   "execution_count": null,
   "id": "35c0c8c2",
   "metadata": {
    "hide-output": false
   },
   "outputs": [],
   "source": [
    "import numpy as np\n",
    "\n",
    "pd.set_eng_float_format(accuracy=3, use_eng_prefix=True)\n",
    "s = pd.Series(np.random.randn(5), index=[\"a\", \"b\", \"c\", \"d\", \"e\"])\n",
    "s / 1.0e3\n",
    "s / 1.0e6"
   ]
  },
  {
   "cell_type": "code",
   "execution_count": null,
   "id": "d086c83f",
   "metadata": {
    "hide-output": false
   },
   "outputs": [],
   "source": [
    "pd.reset_option(\"^display\")"
   ]
  },
  {
   "cell_type": "markdown",
   "id": "bb9d2a76",
   "metadata": {},
   "source": [
    "To round floats on a case-by-case basis, you can also use `round()` and `round()`.\n",
    "\n",
    "\n",
    "<a id='options-east-asian-width'></a>"
   ]
  },
  {
   "cell_type": "markdown",
   "id": "f4daec46",
   "metadata": {},
   "source": [
    "## Unicode formatting\n",
    "\n",
    "Enabling this option will affect the performance for printing of DataFrame and Series (about 2 times slower).\n",
    "Use only when it is actually required.\n",
    "\n",
    "Some East Asian countries use Unicode characters whose width corresponds to two Latin characters.\n",
    "If a DataFrame or Series contains these characters, the default output mode may not align them properly.\n",
    "\n",
    ">**Note**\n",
    ">\n",
    ">Screen captures are attached for each output to show the actual results."
   ]
  },
  {
   "cell_type": "code",
   "execution_count": null,
   "id": "a73ad527",
   "metadata": {
    "hide-output": false
   },
   "outputs": [],
   "source": [
    "df = pd.DataFrame({\"国籍\": [\"UK\", \"日本\"], \"名前\": [\"Alice\", \"しのぶ\"]})\n",
    "df"
   ]
  },
  {
   "cell_type": "markdown",
   "id": "0b8489a0",
   "metadata": {},
   "source": [
    "<img src=\"../_static/option_unicode01.png\" style=\"\">\n",
    "\n",
    "Enabling `display.unicode.east_asian_width` allows pandas to check each character’s “East Asian Width” property.\n",
    "These characters can be aligned properly by setting this option to `True`. However, this will result in longer render\n",
    "times than the standard `len` function."
   ]
  },
  {
   "cell_type": "code",
   "execution_count": null,
   "id": "878374cf",
   "metadata": {
    "hide-output": false
   },
   "outputs": [],
   "source": [
    "pd.set_option(\"display.unicode.east_asian_width\", True)\n",
    "df"
   ]
  },
  {
   "cell_type": "markdown",
   "id": "ea087b3c",
   "metadata": {},
   "source": [
    "<img src=\"../_static/option_unicode02.png\" style=\"\">\n",
    "\n",
    "In addition, Unicode characters whose width is “Ambiguous” can either be 1 or 2 characters wide depending on the\n",
    "terminal setting or encoding. The option `display.unicode.ambiguous_as_wide` can be used to handle the ambiguity.\n",
    "\n",
    "By default, an “Ambiguous” character’s width, such as “¡” (inverted exclamation) in the example below, is taken to be 1."
   ]
  },
  {
   "cell_type": "code",
   "execution_count": null,
   "id": "e659df07",
   "metadata": {
    "hide-output": false
   },
   "outputs": [],
   "source": [
    "df = pd.DataFrame({\"a\": [\"xxx\", \"¡¡\"], \"b\": [\"yyy\", \"¡¡\"]})\n",
    "df"
   ]
  },
  {
   "cell_type": "markdown",
   "id": "db7dc371",
   "metadata": {},
   "source": [
    "<img src=\"../_static/option_unicode03.png\" style=\"\">\n",
    "\n",
    "Enabling `display.unicode.ambiguous_as_wide` makes pandas interpret these characters’ widths to be 2.\n",
    "(Note that this option will only be effective when `display.unicode.east_asian_width` is enabled.)\n",
    "\n",
    "However, setting this option incorrectly for your terminal will cause these characters to be aligned incorrectly:"
   ]
  },
  {
   "cell_type": "code",
   "execution_count": null,
   "id": "730c6761",
   "metadata": {
    "hide-output": false
   },
   "outputs": [],
   "source": [
    "pd.set_option(\"display.unicode.ambiguous_as_wide\", True)\n",
    "df"
   ]
  },
  {
   "cell_type": "markdown",
   "id": "6f63affb",
   "metadata": {},
   "source": [
    "<img src=\"../_static/option_unicode04.png\" style=\"\">"
   ]
  },
  {
   "cell_type": "code",
   "execution_count": null,
   "id": "be0b7ea3",
   "metadata": {
    "hide-output": false
   },
   "outputs": [],
   "source": [
    "pd.set_option(\"display.unicode.east_asian_width\", False)\n",
    "pd.set_option(\"display.unicode.ambiguous_as_wide\", False)"
   ]
  },
  {
   "cell_type": "markdown",
   "id": "df44f321",
   "metadata": {},
   "source": [
    "\n",
    "<a id='options-table-schema'></a>"
   ]
  },
  {
   "cell_type": "markdown",
   "id": "41f2b645",
   "metadata": {},
   "source": [
    "## Table schema display\n",
    "\n",
    "`DataFrame` and `Series` will publish a Table Schema representation\n",
    "by default. False by default, this can be enabled globally with the\n",
    "`display.html.table_schema` option:"
   ]
  },
  {
   "cell_type": "code",
   "execution_count": null,
   "id": "dc7ab6cb",
   "metadata": {
    "hide-output": false
   },
   "outputs": [],
   "source": [
    "pd.set_option(\"display.html.table_schema\", True)"
   ]
  },
  {
   "cell_type": "markdown",
   "id": "05051f1b",
   "metadata": {},
   "source": [
    "Only `'display.max_rows'` are serialized and published."
   ]
  },
  {
   "cell_type": "code",
   "execution_count": null,
   "id": "640c99fe",
   "metadata": {
    "hide-output": false
   },
   "outputs": [],
   "source": [
    "pd.reset_option(\"display.html.table_schema\")"
   ]
  }
 ],
 "metadata": {
  "date": 1630231091.8801606,
  "filename": "40_options.rst",
  "kernelspec": {
   "display_name": "Python 3 (ipykernel)",
   "language": "python",
   "name": "python3"
  },
  "language_info": {
   "codemirror_mode": {
    "name": "ipython",
    "version": 3
   },
   "file_extension": ".py",
   "mimetype": "text/x-python",
   "name": "python",
   "nbconvert_exporter": "python",
   "pygments_lexer": "ipython3",
   "version": "3.8.8"
  },
  "title": "Options and settings"
 },
 "nbformat": 4,
 "nbformat_minor": 5
}
