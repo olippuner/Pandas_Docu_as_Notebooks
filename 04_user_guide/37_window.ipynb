{
 "cells": [
  {
   "cell_type": "code",
   "execution_count": null,
   "id": "30f16740-f97f-460a-8921-326ca24a7f43",
   "metadata": {},
   "outputs": [],
   "source": [
    "import numpy as np\n",
    "import pandas as pd\n",
    "import matplotlib.pyplot as plt\n",
    "print(\"pandas\", pd.__version__)\n",
    "print(\"numpy\",np.__version__)"
   ]
  },
  {
   "cell_type": "markdown",
   "id": "b225175c",
   "metadata": {},
   "source": [
    "# Windowing Operations\n",
    "\n",
    "pandas contains a compact set of APIs for performing windowing operations - an operation that performs\n",
    "an aggregation over a sliding partition of values. The API functions similarly to the `groupby` API\n",
    "in that `Series` and `DataFrame` call the windowing method with\n",
    "necessary parameters and then subsequently call the aggregation function."
   ]
  },
  {
   "cell_type": "code",
   "execution_count": null,
   "id": "f1cd28e8",
   "metadata": {
    "hide-output": false
   },
   "outputs": [],
   "source": [
    "s = pd.Series(range(5))\n",
    "s.rolling(window=2).sum()"
   ]
  },
  {
   "cell_type": "markdown",
   "id": "6933b92d",
   "metadata": {},
   "source": [
    "The windows are comprised by looking back the length of the window from the current observation.\n",
    "The result above can be derived by taking the sum of the following windowed partitions of data:"
   ]
  },
  {
   "cell_type": "code",
   "execution_count": null,
   "id": "b7982352",
   "metadata": {
    "hide-output": false
   },
   "outputs": [],
   "source": [
    "for window in s.rolling(window=2):\n",
    "    print(window)"
   ]
  },
  {
   "cell_type": "markdown",
   "id": "9c128269",
   "metadata": {},
   "source": [
    "\n",
    "<a id='window-overview'></a>"
   ]
  },
  {
   "cell_type": "markdown",
   "id": "34a56c86",
   "metadata": {},
   "source": [
    "## Overview\n",
    "\n",
    "pandas supports 4 types of windowing operations:\n",
    "\n",
    "1. Rolling window: Generic fixed or variable sliding window over the values.  \n",
    "1. Weighted window: Weighted, non-rectangular window supplied by the `scipy.signal` library.  \n",
    "1. Expanding window: Accumulating window over the values.  \n",
    "1. Exponentially Weighted window: Accumulating and exponentially weighted window over the values.  \n",
    "\n",
    "|Concept|Method|Returned Object|Supports time-based windows|Supports chained groupby|Supports table method|Supports online operations|\n",
    "|:---------------------------|:---------------|:-------------------------|:-------------------------|:----------------------|:---------------------------------|:-------------------------|\n",
    "|Rolling window|rolling|Rolling|Yes|Yes|Yes (as of version 1.3)|No|\n",
    "|Weighted window|rolling|Window|No|No|No|No|\n",
    "|Expanding window|expanding|Expanding|No|Yes|Yes (as of version 1.3)|No|\n",
    "|Exponentially Weighted window|ewm|ExponentialMovingWindow|No|Yes (as of version 1.2)|No|Yes (as of version 1.3)|\n",
    "\n",
    "As noted above, some operations support specifying a window based on a time offset:"
   ]
  },
  {
   "cell_type": "code",
   "execution_count": null,
   "id": "3e05e0b4",
   "metadata": {
    "hide-output": false
   },
   "outputs": [],
   "source": [
    "s = pd.Series(range(5), index=pd.date_range('2020-01-01', periods=5, freq='1D'))\n",
    "s.rolling(window='2D').sum()"
   ]
  },
  {
   "cell_type": "markdown",
   "id": "8a6a7c42",
   "metadata": {},
   "source": [
    "Additionally, some methods support chaining a `groupby` operation with a windowing operation\n",
    "which will first group the data by the specified keys and then perform a windowing operation per group."
   ]
  },
  {
   "cell_type": "code",
   "execution_count": null,
   "id": "ad8d893d",
   "metadata": {
    "hide-output": false
   },
   "outputs": [],
   "source": [
    "df = pd.DataFrame({'A': ['a', 'b', 'a', 'b', 'a'], 'B': range(5)})\n",
    "df.groupby('A').expanding().sum()"
   ]
  },
  {
   "cell_type": "markdown",
   "id": "3821caaf",
   "metadata": {},
   "source": [
    ">**Note**\n",
    ">\n",
    ">Windowing operations currently only support numeric data (integer and float)\n",
    "and will always return `float64` values.\n",
    "\n",
    "Some windowing aggregation, `mean`, `sum`, `var` and `std` methods may suffer from numerical\n",
    "imprecision due to the underlying windowing algorithms accumulating sums. When values differ\n",
    "with magnitude $ 1/np.finfo(np.double).eps $ this results in truncation. It must be\n",
    "noted, that large values may have an impact on windows, which do not include these values. [Kahan summation](https://en.wikipedia.org/wiki/Kahan_summation_algorithm) is used\n",
    "to compute the rolling sums to preserve accuracy as much as possible.\n",
    "\n",
    "New in version 1.3.0.\n",
    "\n",
    "Some windowing operations also support the `method='table'` option in the constructor which\n",
    "performs the windowing operation over an entire `DataFrame` instead of a single column or row at a time.\n",
    "This can provide a useful performance benefit for a `DataFrame` with many columns or rows\n",
    "(with the corresponding `axis` argument) or the ability to utilize other columns during the windowing\n",
    "operation. The `method='table'` option can only be used if `engine='numba'` is specified\n",
    "in the corresponding method call.\n",
    "\n",
    "For example, a [weighted mean](https://en.wikipedia.org/wiki/Weighted_arithmetic_mean) calculation can\n",
    "be calculated with `apply()` by specifying a separate column of weights."
   ]
  },
  {
   "cell_type": "code",
   "execution_count": null,
   "id": "21e83073",
   "metadata": {
    "hide-output": false
   },
   "outputs": [],
   "source": [
    "def weighted_mean(x):\n",
    "    arr = np.ones((1, x.shape[1]))\n",
    "    arr[:, :2] = (x[:, :2] * x[:, 2]).sum(axis=0) / x[:, 2].sum()\n",
    "    return arr\n",
    "\n",
    "df = pd.DataFrame([[1, 2, 0.6], [2, 3, 0.4], [3, 4, 0.2], [4, 5, 0.7]])\n",
    "df.rolling(2, method=\"table\", min_periods=0).apply(weighted_mean, raw=True, engine=\"numba\")  # noqa:E501"
   ]
  },
  {
   "cell_type": "markdown",
   "id": "64bff95e",
   "metadata": {},
   "source": [
    "New in version 1.3.\n",
    "\n",
    "Some windowing operations also support an `online` method after constructing a windowing object\n",
    "which returns a new object that supports passing in new `DataFrame` or `Series` objects\n",
    "to continue the windowing calculation with the new values (i.e. online calculations).\n",
    "\n",
    "The methods on this new windowing objects must call the aggregation method first to “prime” the initial\n",
    "state of the online calculation. Then, new `DataFrame` or `Series` objects can be passed in\n",
    "the `update` argument to continue the windowing calculation."
   ]
  },
  {
   "cell_type": "code",
   "execution_count": null,
   "id": "0665cd12",
   "metadata": {
    "hide-output": false
   },
   "outputs": [],
   "source": [
    "df = pd.DataFrame([[1, 2, 0.6], [2, 3, 0.4], [3, 4, 0.2], [4, 5, 0.7]])\n",
    "df.ewm(0.5).mean()"
   ]
  },
  {
   "cell_type": "code",
   "execution_count": null,
   "id": "15450267",
   "metadata": {
    "hide-output": false
   },
   "outputs": [],
   "source": [
    "online_ewm = df.head(2).ewm(0.5).online()\n",
    "online_ewm.mean()\n",
    "online_ewm.mean(update=df.tail(1))"
   ]
  },
  {
   "cell_type": "markdown",
   "id": "33938e44",
   "metadata": {},
   "source": [
    "All windowing operations support a `min_periods` argument that dictates the minimum amount of\n",
    "non-`np.nan` values a window must have; otherwise, the resulting value is `np.nan`.\n",
    "`min_periods` defaults to 1 for time-based windows and `window` for fixed windows"
   ]
  },
  {
   "cell_type": "code",
   "execution_count": null,
   "id": "3977eac3-3671-474a-9d5d-aef8693583f0",
   "metadata": {
    "hide-output": false
   },
   "outputs": [],
   "source": [
    "s = pd.Series([np.nan, 1, 2, np.nan, np.nan, 3])\n",
    "s.rolling(window=3, min_periods=1).sum()"
   ]
  },
  {
   "cell_type": "code",
   "execution_count": null,
   "id": "40d7ed9e-a9e6-4aaa-be5f-10025b5a38d9",
   "metadata": {
    "hide-output": false
   },
   "outputs": [],
   "source": [
    "s.rolling(window=3, min_periods=2).sum()"
   ]
  },
  {
   "cell_type": "code",
   "execution_count": null,
   "id": "0cd57068-e36f-4aa8-87d1-f3b03215366c",
   "metadata": {
    "hide-output": false
   },
   "outputs": [],
   "source": [
    "# Equivalent to min_periods=3\n",
    "s.rolling(window=3, min_periods=None).sum()"
   ]
  },
  {
   "cell_type": "markdown",
   "id": "0946b6ce",
   "metadata": {},
   "source": [
    "Additionally, all windowing operations supports the `aggregate` method for returning a result\n",
    "of multiple aggregations applied to a window."
   ]
  },
  {
   "cell_type": "code",
   "execution_count": null,
   "id": "7bf64748",
   "metadata": {
    "hide-output": false
   },
   "outputs": [],
   "source": [
    "df = pd.DataFrame({\"A\": range(5), \"B\": range(10, 15)})\n",
    "df.expanding().agg([np.sum, np.mean, np.std])"
   ]
  },
  {
   "cell_type": "markdown",
   "id": "3966369b",
   "metadata": {},
   "source": [
    "\n",
    "<a id='window-generic'></a>"
   ]
  },
  {
   "cell_type": "markdown",
   "id": "2efe0425",
   "metadata": {},
   "source": [
    "## Rolling window\n",
    "\n",
    "Generic rolling windows support specifying windows as a fixed number of observations or variable\n",
    "number of observations based on an offset. If a time based offset is provided, the corresponding\n",
    "time based index must be monotonic."
   ]
  },
  {
   "cell_type": "code",
   "execution_count": null,
   "id": "a99d7c9f-43f4-4984-9dc4-67d87e9aac58",
   "metadata": {
    "hide-output": false
   },
   "outputs": [],
   "source": [
    "times = ['2020-01-01', '2020-01-03', '2020-01-04', '2020-01-05', '2020-01-29']\n",
    "s = pd.Series(range(5), index=pd.DatetimeIndex(times))\n",
    "s"
   ]
  },
  {
   "cell_type": "code",
   "execution_count": null,
   "id": "7adc5fee-a302-47d9-a961-da0d00a4b156",
   "metadata": {
    "hide-output": false
   },
   "outputs": [],
   "source": [
    "# Window with 2 observations\n",
    "s.rolling(window=2).sum()"
   ]
  },
  {
   "cell_type": "code",
   "execution_count": null,
   "id": "1e35ca5c-82fe-40fe-95c5-61dbe63fe6af",
   "metadata": {
    "hide-output": false
   },
   "outputs": [],
   "source": [
    "# Window with 2 days worth of observations\n",
    "s.rolling(window='2D').sum()"
   ]
  },
  {
   "cell_type": "markdown",
   "id": "a1a2e892",
   "metadata": {},
   "source": [
    "For all supported aggregation functions, see [Rolling window functions](../05_reference/18_window.ipynb#api-functions-rolling).\n",
    "\n",
    "\n",
    "<a id='window-center'></a>"
   ]
  },
  {
   "cell_type": "markdown",
   "id": "12a4af3e",
   "metadata": {},
   "source": [
    "### Centering windows\n",
    "\n",
    "By default the labels are set to the right edge of the window, but a\n",
    "`center` keyword is available so the labels can be set at the center."
   ]
  },
  {
   "cell_type": "code",
   "execution_count": null,
   "id": "1c67f2d7-3467-441d-a360-a6e9359a84a5",
   "metadata": {
    "hide-output": false
   },
   "outputs": [],
   "source": [
    "s = pd.Series(range(10))\n",
    "s.rolling(window=5).mean()"
   ]
  },
  {
   "cell_type": "code",
   "execution_count": null,
   "id": "e504031c-5e38-4945-bbf7-c9c61c373e0b",
   "metadata": {
    "hide-output": false
   },
   "outputs": [],
   "source": [
    "s.rolling(window=5, center=True).mean()"
   ]
  },
  {
   "cell_type": "markdown",
   "id": "0fff4494",
   "metadata": {},
   "source": [
    "This can also be applied to datetime-like indices.\n",
    "\n",
    "New in version 1.3.0."
   ]
  },
  {
   "cell_type": "code",
   "execution_count": null,
   "id": "d556b556-b21e-4480-94c4-0ed0a7e8a03b",
   "metadata": {
    "hide-output": false
   },
   "outputs": [],
   "source": [
    "df = pd.DataFrame(\n",
    "    {\"A\": [0, 1, 2, 3, 4]}, index=pd.date_range(\"2020\", periods=5, freq=\"1D\")\n",
    ")\n",
    "df"
   ]
  },
  {
   "cell_type": "code",
   "execution_count": null,
   "id": "282d3d92-793d-4b58-966f-ed17a803ef62",
   "metadata": {
    "hide-output": false
   },
   "outputs": [],
   "source": [
    "df.rolling(\"2D\", center=False).mean()"
   ]
  },
  {
   "cell_type": "code",
   "execution_count": null,
   "id": "5e5adbbd-d32f-43b9-9f54-c2b5e4fd544d",
   "metadata": {
    "hide-output": false
   },
   "outputs": [],
   "source": [
    "df.rolling(\"2D\", center=True).mean()"
   ]
  },
  {
   "cell_type": "markdown",
   "id": "926862ff",
   "metadata": {},
   "source": [
    "\n",
    "<a id='window-endpoints'></a>"
   ]
  },
  {
   "cell_type": "markdown",
   "id": "5a1d42c6",
   "metadata": {},
   "source": [
    "### Rolling window endpoints\n",
    "\n",
    "The inclusion of the interval endpoints in rolling window calculations can be specified with the `closed`\n",
    "parameter:\n",
    "\n",
    "|Value|Behavior|\n",
    "|:-----------|:-------------------|\n",
    "|'right'|close right endpoint|\n",
    "|'left'|close left endpoint|\n",
    "|'both'|close both endpoints|\n",
    "|'neither'|open endpoints|\n",
    "\n",
    "For example, having the right endpoint open is useful in many problems that require that there is no contamination\n",
    "from present information back to past information. This allows the rolling window to compute statistics\n",
    "“up to that point in time”, but not including that point in time."
   ]
  },
  {
   "cell_type": "code",
   "execution_count": null,
   "id": "fb28b9c5",
   "metadata": {
    "hide-output": false
   },
   "outputs": [],
   "source": [
    "df = pd.DataFrame(\n",
    "    {\"x\": 1},\n",
    "    index=[\n",
    "        pd.Timestamp(\"20130101 09:00:01\"),\n",
    "        pd.Timestamp(\"20130101 09:00:02\"),\n",
    "        pd.Timestamp(\"20130101 09:00:03\"),\n",
    "        pd.Timestamp(\"20130101 09:00:04\"),\n",
    "        pd.Timestamp(\"20130101 09:00:06\"),\n",
    "    ],\n",
    ")\n",
    "\n",
    "df[\"right\"] = df.rolling(\"2s\", closed=\"right\").x.sum()  # default\n",
    "df[\"both\"] = df.rolling(\"2s\", closed=\"both\").x.sum()\n",
    "df[\"left\"] = df.rolling(\"2s\", closed=\"left\").x.sum()\n",
    "df[\"neither\"] = df.rolling(\"2s\", closed=\"neither\").x.sum()\n",
    "\n",
    "df"
   ]
  },
  {
   "cell_type": "markdown",
   "id": "c05dfd6f",
   "metadata": {},
   "source": [
    "\n",
    "<a id='window-custom-rolling-window'></a>"
   ]
  },
  {
   "cell_type": "markdown",
   "id": "61b7d60e",
   "metadata": {},
   "source": [
    "### Custom window rolling\n",
    "\n",
    "New in version 1.0.\n",
    "\n",
    "In addition to accepting an integer or offset as a `window` argument, `rolling` also accepts\n",
    "a `BaseIndexer` subclass that allows a user to define a custom method for calculating window bounds.\n",
    "The `BaseIndexer` subclass will need to define a `get_window_bounds` method that returns\n",
    "a tuple of two arrays, the first being the starting indices of the windows and second being the\n",
    "ending indices of the windows. Additionally, `num_values`, `min_periods`, `center`, `closed`\n",
    "and will automatically be passed to `get_window_bounds` and the defined method must\n",
    "always accept these arguments.\n",
    "\n",
    "For example, if we have the following `DataFrame`"
   ]
  },
  {
   "cell_type": "code",
   "execution_count": null,
   "id": "d571afcc",
   "metadata": {
    "hide-output": false
   },
   "outputs": [],
   "source": [
    "use_expanding = [True, False, True, False, True]\n",
    "use_expanding\n",
    "df = pd.DataFrame({\"values\": range(5)})\n",
    "df"
   ]
  },
  {
   "cell_type": "markdown",
   "id": "f7675a10",
   "metadata": {},
   "source": [
    "and we want to use an expanding window where `use_expanding` is `True` otherwise a window of size\n",
    "1, we can create the following `BaseIndexer` subclass:"
   ]
  },
  {
   "cell_type": "code",
   "execution_count": null,
   "id": "c656fb71-5ea9-43fb-9335-2a8bce9b61c6",
   "metadata": {
    "hide-output": false
   },
   "outputs": [],
   "source": [
    "from pandas.api.indexers import BaseIndexer\n",
    "\n",
    "class CustomIndexer(BaseIndexer):\n",
    "    def get_window_bounds(self, num_values, min_periods, center, closed):\n",
    "        start = np.empty(num_values, dtype=np.int64)\n",
    "        end = np.empty(num_values, dtype=np.int64)\n",
    "        for i in range(num_values):\n",
    "            if self.use_expanding[i]:\n",
    "                start[i] = 0\n",
    "                end[i] = i + 1\n",
    "            else:\n",
    "                start[i] = i\n",
    "                end[i] = i + self.window_size\n",
    "        return start, end\n",
    "\n",
    "indexer = CustomIndexer(window_size=1, use_expanding=use_expanding)\n",
    "df.rolling(indexer).sum()"
   ]
  },
  {
   "cell_type": "markdown",
   "id": "e729a2e0",
   "metadata": {},
   "source": [
    "You can view other examples of `BaseIndexer` subclasses [here](https://github.com/pandas-dev/pandas/blob/master/pandas/core/window/indexers.py)\n",
    "\n",
    "New in version 1.1.\n",
    "\n",
    "One subclass of note within those examples is the `VariableOffsetWindowIndexer` that allows\n",
    "rolling operations over a non-fixed offset like a `BusinessDay`."
   ]
  },
  {
   "cell_type": "code",
   "execution_count": null,
   "id": "3907fb19-da64-464d-820a-9dc5f1aeb364",
   "metadata": {
    "hide-output": false
   },
   "outputs": [],
   "source": [
    "from pandas.api.indexers import VariableOffsetWindowIndexer\n",
    "\n",
    "df = pd.DataFrame(range(10), index=pd.date_range(\"2020\", periods=10))\n",
    "offset = pd.offsets.BDay(1)\n",
    "indexer = VariableOffsetWindowIndexer(index=df.index, offset=offset)\n",
    "df"
   ]
  },
  {
   "cell_type": "code",
   "execution_count": null,
   "id": "5fe5d12c-76b1-460f-a4ea-1f17a1ad5f80",
   "metadata": {
    "hide-output": false
   },
   "outputs": [],
   "source": [
    "df.rolling(indexer).sum()"
   ]
  },
  {
   "cell_type": "markdown",
   "id": "742e5d1e",
   "metadata": {},
   "source": [
    "For some problems knowledge of the future is available for analysis. For example, this occurs when\n",
    "each data point is a full time series read from an experiment, and the task is to extract underlying\n",
    "conditions. In these cases it can be useful to perform forward-looking rolling window computations.\n",
    "`FixedForwardWindowIndexer` class is available for this purpose.\n",
    "This `BaseIndexer` subclass implements a closed fixed-width\n",
    "forward-looking rolling window, and we can use it as follows:"
   ]
  },
  {
   "cell_type": "code",
   "execution_count": null,
   "id": "3d85c65d",
   "metadata": {
    "hide-output": false
   },
   "outputs": [],
   "source": [
    "from pandas.api.indexers import FixedForwardWindowIndexer\n",
    "indexer = FixedForwardWindowIndexer(window_size=2)\n",
    "df.rolling(indexer, min_periods=1).sum()"
   ]
  },
  {
   "cell_type": "markdown",
   "id": "34fb5b40",
   "metadata": {},
   "source": [
    "We can also achieve this by using slicing, applying rolling aggregation, and then flipping the result as shown in example below:"
   ]
  },
  {
   "cell_type": "code",
   "execution_count": null,
   "id": "c6576050-fa99-4208-941c-1c25e3e7d647",
   "metadata": {
    "hide-output": false
   },
   "outputs": [],
   "source": [
    "df = pd.DataFrame(\n",
    "    data=[\n",
    "        [pd.Timestamp(\"2018-01-01 00:00:00\"), 100],\n",
    "        [pd.Timestamp(\"2018-01-01 00:00:01\"), 101],\n",
    "        [pd.Timestamp(\"2018-01-01 00:00:03\"), 103],\n",
    "        [pd.Timestamp(\"2018-01-01 00:00:04\"), 111],\n",
    "    ],\n",
    "    columns=[\"time\", \"value\"],\n",
    ").set_index(\"time\")\n",
    "df"
   ]
  },
  {
   "cell_type": "code",
   "execution_count": null,
   "id": "6f1173cf-c495-4dc8-81f5-6979f17346b8",
   "metadata": {
    "hide-output": false
   },
   "outputs": [],
   "source": [
    "reversed_df = df[::-1].rolling(\"2s\").sum()[::-1]\n",
    "reversed_df"
   ]
  },
  {
   "cell_type": "markdown",
   "id": "50e16376",
   "metadata": {},
   "source": [
    "\n",
    "<a id='window-rolling-apply'></a>"
   ]
  },
  {
   "cell_type": "markdown",
   "id": "50b3dfa2",
   "metadata": {},
   "source": [
    "### Rolling apply\n",
    "\n",
    "The `apply()` function takes an extra `func` argument and performs\n",
    "generic rolling computations. The `func` argument should be a single function\n",
    "that produces a single value from an ndarray input. `raw` specifies whether\n",
    "the windows are cast as `Series` objects (`raw=False`) or ndarray objects (`raw=True`)."
   ]
  },
  {
   "cell_type": "code",
   "execution_count": null,
   "id": "f9484e6f",
   "metadata": {
    "hide-output": false
   },
   "outputs": [],
   "source": [
    "def mad(x):\n",
    "    return np.fabs(x - x.mean()).mean()\n",
    "\n",
    "s = pd.Series(range(10))\n",
    "s.rolling(window=4).apply(mad, raw=True)"
   ]
  },
  {
   "cell_type": "markdown",
   "id": "bd85051e",
   "metadata": {},
   "source": [
    "\n",
    "<a id='window-numba-engine'></a>"
   ]
  },
  {
   "cell_type": "markdown",
   "id": "e0bc9844",
   "metadata": {},
   "source": [
    "### Numba engine\n",
    "\n",
    "New in version 1.0.\n",
    "\n",
    "Additionally, `apply()` can leverage [Numba](https://numba.pydata.org/)\n",
    "if installed as an optional dependency. The apply aggregation can be executed using Numba by specifying\n",
    "`engine='numba'` and `engine_kwargs` arguments (`raw` must also be set to `True`).\n",
    "See [enhancing performance with Numba](41_enhancingperformance.ipynb#enhancingperf-numba) for general usage of the arguments and performance considerations.\n",
    "\n",
    "Numba will be applied in potentially two routines:\n",
    "\n",
    "1. If `func` is a standard Python function, the engine will [JIT](https://numba.pydata.org/numba-doc/latest/user/overview.html) the passed function. `func` can also be a JITed function in which case the engine will not JIT the function again.  \n",
    "1. The engine will JIT the for loop where the apply function is applied to each window.  \n",
    "\n",
    "\n",
    "The `engine_kwargs` argument is a dictionary of keyword arguments that will be passed into the\n",
    "[numba.jit decorator](https://numba.pydata.org/numba-doc/latest/reference/jit-compilation.html#numba.jit).\n",
    "These keyword arguments will be applied to *both* the passed function (if a standard Python function)\n",
    "and the apply for loop over each window.\n",
    "\n",
    "New in version 1.3.0.\n",
    "\n",
    "`mean`, `median`, `max`, `min`, and `sum` also support the `engine` and `engine_kwargs` arguments.\n",
    "\n",
    "\n",
    "<a id='window-cov-corr'></a>"
   ]
  },
  {
   "cell_type": "markdown",
   "id": "c77e7bfe",
   "metadata": {},
   "source": [
    "### Binary window functions\n",
    "\n",
    "`cov()` and `corr()` can compute moving window statistics about\n",
    "two `Series` or any combination of `DataFrame`/`Series` or\n",
    "`DataFrame`/`DataFrame`. Here is the behavior in each case:\n",
    "\n",
    "- two `Series`: compute the statistic for the pairing.  \n",
    "- `DataFrame`/`Series`: compute the statistics for each column of the DataFrame\n",
    "  with the passed Series, thus returning a DataFrame.  \n",
    "- `DataFrame`/`DataFrame`: by default compute the statistic for matching column\n",
    "  names, returning a DataFrame. If the keyword argument `pairwise=True` is\n",
    "  passed then computes the statistic for each pair of columns, returning a `DataFrame` with a\n",
    "  `MultiIndex` whose values are the dates in question (see [the next section](#window-corr-pairwise)).  \n",
    "\n",
    "\n",
    "For example:"
   ]
  },
  {
   "cell_type": "code",
   "execution_count": null,
   "id": "7b96a1b1",
   "metadata": {
    "hide-output": false
   },
   "outputs": [],
   "source": [
    "df = pd.DataFrame(\n",
    "    np.random.randn(10, 4),\n",
    "    index=pd.date_range(\"2020-01-01\", periods=10),\n",
    "    columns=[\"A\", \"B\", \"C\", \"D\"],\n",
    ")\n",
    "df = df.cumsum()\n",
    "\n",
    "df2 = df[:4]\n",
    "df2.rolling(window=2).corr(df2[\"B\"])"
   ]
  },
  {
   "cell_type": "markdown",
   "id": "89c5fba6",
   "metadata": {},
   "source": [
    "\n",
    "<a id='window-corr-pairwise'></a>"
   ]
  },
  {
   "cell_type": "markdown",
   "id": "ab5fd47f",
   "metadata": {},
   "source": [
    "### Computing rolling pairwise covariances and correlations\n",
    "\n",
    "In financial data analysis and other fields it’s common to compute covariance\n",
    "and correlation matrices for a collection of time series. Often one is also\n",
    "interested in moving-window covariance and correlation matrices. This can be\n",
    "done by passing the `pairwise` keyword argument, which in the case of\n",
    "`DataFrame` inputs will yield a MultiIndexed `DataFrame` whose `index` are the dates in\n",
    "question. In the case of a single DataFrame argument the `pairwise` argument\n",
    "can even be omitted:\n",
    "\n",
    ">**Note**\n",
    ">\n",
    ">Missing values are ignored and each entry is computed using the pairwise\n",
    "complete observations.  Please see the [covariance section](35_computation.ipynb#computation-covariance) for [caveats](35_computation.ipynb#computation-covariance-caveats) associated with this method of\n",
    "calculating covariance and correlation matrices."
   ]
  },
  {
   "cell_type": "code",
   "execution_count": null,
   "id": "31f5d8cb",
   "metadata": {
    "hide-output": false
   },
   "outputs": [],
   "source": [
    "covs = (\n",
    "    df[[\"B\", \"C\", \"D\"]]\n",
    "    .rolling(window=4)\n",
    "    .cov(df[[\"A\", \"B\", \"C\"]], pairwise=True)\n",
    ")\n",
    "covs"
   ]
  },
  {
   "cell_type": "markdown",
   "id": "9c7155e6",
   "metadata": {},
   "source": [
    "\n",
    "<a id='window-weighted'></a>"
   ]
  },
  {
   "cell_type": "markdown",
   "id": "5cb401b3",
   "metadata": {},
   "source": [
    "## Weighted window\n",
    "\n",
    "The `win_type` argument in `.rolling` generates a weighted windows that are commonly used in filtering\n",
    "and spectral estimation. `win_type` must be string that corresponds to a [scipy.signal window function](https://docs.scipy.org/doc/scipy/reference/signal.windows.html#module-scipy.signal.windows).\n",
    "Scipy must be installed in order to use these windows, and supplementary arguments\n",
    "that the Scipy window methods take must be specified in the aggregation function."
   ]
  },
  {
   "cell_type": "code",
   "execution_count": null,
   "id": "7349c407-bad7-404c-8143-83eb75880f61",
   "metadata": {
    "hide-output": false
   },
   "outputs": [],
   "source": [
    "s = pd.Series(range(10))\n",
    "s.rolling(window=5).mean()"
   ]
  },
  {
   "cell_type": "code",
   "execution_count": null,
   "id": "91b46a64-07d3-4f78-a11a-80a36c2fc09c",
   "metadata": {
    "hide-output": false
   },
   "outputs": [],
   "source": [
    "s.rolling(window=5, win_type=\"triang\").mean()"
   ]
  },
  {
   "cell_type": "code",
   "execution_count": null,
   "id": "f1a131c6-ae06-4ab8-8bd3-67df579bdf63",
   "metadata": {
    "hide-output": false
   },
   "outputs": [],
   "source": [
    "# Supplementary Scipy arguments passed in the aggregation function\n",
    "s.rolling(window=5, win_type=\"gaussian\").mean(std=0.1)"
   ]
  },
  {
   "cell_type": "markdown",
   "id": "ab7536db",
   "metadata": {},
   "source": [
    "For all supported aggregation functions, see [Weighted window functions](../05_reference/18_window.ipynb#api-functions-window).\n",
    "\n",
    "\n",
    "<a id='window-expanding'></a>"
   ]
  },
  {
   "cell_type": "markdown",
   "id": "ec0d03cc",
   "metadata": {},
   "source": [
    "## Expanding window\n",
    "\n",
    "An expanding window yields the value of an aggregation statistic with all the data available up to that\n",
    "point in time. Since these calculations are a special case of rolling statistics,\n",
    "they are implemented in pandas such that the following two calls are equivalent:"
   ]
  },
  {
   "cell_type": "code",
   "execution_count": null,
   "id": "d96dbb79-5717-4e3c-8a54-e896167a5e6f",
   "metadata": {
    "hide-output": false
   },
   "outputs": [],
   "source": [
    "df = pd.DataFrame(range(5))\n",
    "df.rolling(window=len(df), min_periods=1).mean()"
   ]
  },
  {
   "cell_type": "code",
   "execution_count": null,
   "id": "db9ead54-bbc7-4d95-8014-0d2b19c778ab",
   "metadata": {
    "hide-output": false
   },
   "outputs": [],
   "source": [
    "df.expanding(min_periods=1).mean()"
   ]
  },
  {
   "cell_type": "markdown",
   "id": "4a006a3c",
   "metadata": {},
   "source": [
    "For all supported aggregation functions, see [Expanding window functions](../05_reference/18_window.ipynb#api-functions-expanding).\n",
    "\n",
    "\n",
    "<a id='window-exponentially-weighted'></a>"
   ]
  },
  {
   "cell_type": "markdown",
   "id": "8735e16b",
   "metadata": {},
   "source": [
    "## Exponentially Weighted window\n",
    "\n",
    "An exponentially weighted window is similar to an expanding window but with each prior point\n",
    "being exponentially weighted down relative to the current point.\n",
    "\n",
    "In general, a weighted moving average is calculated as\n",
    "\n",
    "$$\n",
    "y_t = \\frac{\\sum_{i=0}^t w_i x_{t-i}}{\\sum_{i=0}^t w_i},\n",
    "$$\n",
    "\n",
    "where $ x_t $ is the input, $ y_t $ is the result and the $ w_i $\n",
    "are the weights.\n",
    "\n",
    "For all supported aggregation functions, see [Exponentially-weighted window functions](../05_reference/18_window.ipynb#api-functions-ewm).\n",
    "\n",
    "The EW functions support two variants of exponential weights.\n",
    "The default, `adjust=True`, uses the weights $ w_i = (1 - \\alpha)^i $\n",
    "which gives\n",
    "\n",
    "$$\n",
    "y_t = \\frac{x_t + (1 - \\alpha)x_{t-1} + (1 - \\alpha)^2 x_{t-2} + ...\n",
    "+ (1 - \\alpha)^t x_{0}}{1 + (1 - \\alpha) + (1 - \\alpha)^2 + ...\n",
    "+ (1 - \\alpha)^t}\n",
    "$$\n",
    "\n",
    "When `adjust=False` is specified, moving averages are calculated as\n",
    "\n",
    "$$\n",
    "y_0 &= x_0 \\\\\n",
    "y_t &= (1 - \\alpha) y_{t-1} + \\alpha x_t,\n",
    "$$\n",
    "\n",
    "which is equivalent to using weights\n",
    "\n",
    "$$\n",
    "w_i = \\begin{cases}\n",
    "    \\alpha (1 - \\alpha)^i & \\text{if } i < t \\\\\n",
    "    (1 - \\alpha)^i        & \\text{if } i = t.\n",
    "\\end{cases}\n",
    "$$\n",
    "\n",
    ">**Note**\n",
    ">\n",
    ">These equations are sometimes written in terms of $ \\alpha' = 1 - \\alpha $, e.g.\n",
    "\n",
    "$$\n",
    "y_t = \\alpha' y_{t-1} + (1 - \\alpha') x_t.\n",
    "$$\n",
    "\n",
    "The difference between the above two variants arises because we are\n",
    "dealing with series which have finite history. Consider a series of infinite\n",
    "history, with `adjust=True`:\n",
    "\n",
    "$$\n",
    "y_t = \\frac{x_t + (1 - \\alpha)x_{t-1} + (1 - \\alpha)^2 x_{t-2} + ...}\n",
    "{1 + (1 - \\alpha) + (1 - \\alpha)^2 + ...}\n",
    "$$\n",
    "\n",
    "Noting that the denominator is a geometric series with initial term equal to 1\n",
    "and a ratio of $ 1 - \\alpha $ we have\n",
    "\n",
    "$$\n",
    "y_t &= \\frac{x_t + (1 - \\alpha)x_{t-1} + (1 - \\alpha)^2 x_{t-2} + ...}\n",
    "{\\frac{1}{1 - (1 - \\alpha)}}\\\\\n",
    "&= [x_t + (1 - \\alpha)x_{t-1} + (1 - \\alpha)^2 x_{t-2} + ...] \\alpha \\\\\n",
    "&= \\alpha x_t + [(1-\\alpha)x_{t-1} + (1 - \\alpha)^2 x_{t-2} + ...]\\alpha \\\\\n",
    "&= \\alpha x_t + (1 - \\alpha)[x_{t-1} + (1 - \\alpha) x_{t-2} + ...]\\alpha\\\\\n",
    "&= \\alpha x_t + (1 - \\alpha) y_{t-1}\n",
    "$$\n",
    "\n",
    "which is the same expression as `adjust=False` above and therefore\n",
    "shows the equivalence of the two variants for infinite series.\n",
    "When `adjust=False`, we have $ y_0 = x_0 $ and\n",
    "$ y_t = \\alpha x_t + (1 - \\alpha) y_{t-1} $.\n",
    "Therefore, there is an assumption that $ x_0 $ is not an ordinary value\n",
    "but rather an exponentially weighted moment of the infinite series up to that\n",
    "point.\n",
    "\n",
    "One must have $ 0 < \\alpha \\leq 1 $, and while it is possible to pass\n",
    "$ \\alpha $ directly, it’s often easier to think about either the\n",
    "**span**, **center  of mass (com)** or **half-life** of an EW moment:\n",
    "\n",
    "$$\n",
    "\\alpha =\n",
    " \\begin{cases}\n",
    "     \\frac{2}{s + 1},               & \\text{for span}\\ s \\geq 1\\\\\n",
    "     \\frac{1}{1 + c},               & \\text{for center of mass}\\ c \\geq 0\\\\\n",
    "     1 - \\exp^{\\frac{\\log 0.5}{h}}, & \\text{for half-life}\\ h > 0\n",
    " \\end{cases}\n",
    "$$\n",
    "\n",
    "One must specify precisely one of **span**, **center of mass**, **half-life**\n",
    "and **alpha** to the EW functions:\n",
    "\n",
    "- **Span** corresponds to what is commonly called an “N-day EW moving average”.  \n",
    "- **Center of mass** has a more physical interpretation and can be thought of\n",
    "  in terms of span: $ c = (s - 1) / 2 $.  \n",
    "- **Half-life** is the period of time for the exponential weight to reduce to\n",
    "  one half.  \n",
    "- **Alpha** specifies the smoothing factor directly.  \n",
    "\n",
    "\n",
    "New in version 1.1.0.\n",
    "\n",
    "You can also specify `halflife` in terms of a timedelta convertible unit to specify the amount of\n",
    "time it takes for an observation to decay to half its value when also specifying a sequence\n",
    "of `times`."
   ]
  },
  {
   "cell_type": "code",
   "execution_count": null,
   "id": "818fef06-d0d6-4736-b0a2-9ad112941c6e",
   "metadata": {
    "hide-output": false
   },
   "outputs": [],
   "source": [
    "df = pd.DataFrame({\"B\": [0, 1, 2, np.nan, 4]})\n",
    "df"
   ]
  },
  {
   "cell_type": "code",
   "execution_count": null,
   "id": "16327fa9-0489-4bf6-850d-86144a796b11",
   "metadata": {
    "hide-output": false
   },
   "outputs": [],
   "source": [
    "times = [\"2020-01-01\", \"2020-01-03\", \"2020-01-10\", \"2020-01-15\", \"2020-01-17\"]\n",
    "df.ewm(halflife=\"4 days\", times=pd.DatetimeIndex(times)).mean()"
   ]
  },
  {
   "cell_type": "markdown",
   "id": "4441ef84",
   "metadata": {},
   "source": [
    "The following formula is used to compute exponentially weighted mean with an input vector of times:\n",
    "\n",
    "$$\n",
    "y_t = \\frac{\\sum_{i=0}^t 0.5^\\frac{t_{t} - t_{i}}{\\lambda} x_{t-i}}{\\sum_{i=0}^t 0.5^\\frac{t_{t} - t_{i}}{\\lambda}},\n",
    "$$\n",
    "\n",
    "ExponentialMovingWindow also has an `ignore_na` argument, which determines how\n",
    "intermediate null values affect the calculation of the weights.\n",
    "When `ignore_na=False` (the default), weights are calculated based on absolute\n",
    "positions, so that intermediate null values affect the result.\n",
    "When `ignore_na=True`,\n",
    "weights are calculated by ignoring intermediate null values.\n",
    "For example, assuming `adjust=True`, if `ignore_na=False`, the weighted\n",
    "average of `3, NaN, 5` would be calculated as\n",
    "\n",
    "$$\n",
    "\\frac{(1-\\alpha)^2 \\cdot 3 + 1 \\cdot 5}{(1-\\alpha)^2 + 1}.\n",
    "$$\n",
    "\n",
    "Whereas if `ignore_na=True`, the weighted average would be calculated as\n",
    "\n",
    "$$\n",
    "\\frac{(1-\\alpha) \\cdot 3 + 1 \\cdot 5}{(1-\\alpha) + 1}.\n",
    "$$\n",
    "\n",
    "The `var()`, `std()`, and `cov()` functions have a `bias` argument,\n",
    "specifying whether the result should contain biased or unbiased statistics.\n",
    "For example, if `bias=True`, `ewmvar(x)` is calculated as\n",
    "`ewmvar(x) = ewma(x**2) - ewma(x)**2`;\n",
    "whereas if `bias=False` (the default), the biased variance statistics\n",
    "are scaled by debiasing factors\n",
    "\n",
    "$$\n",
    "\\frac{\\left(\\sum_{i=0}^t w_i\\right)^2}{\\left(\\sum_{i=0}^t w_i\\right)^2 - \\sum_{i=0}^t w_i^2}.\n",
    "$$\n",
    "\n",
    "(For $ w_i = 1 $, this reduces to the usual $ N / (N - 1) $ factor,\n",
    "with $ N = t + 1 $.)\n",
    "See [Weighted Sample Variance](https://en.wikipedia.org/wiki/Weighted_arithmetic_mean#Weighted_sample_variance)\n",
    "on Wikipedia for further details."
   ]
  }
 ],
 "metadata": {
  "date": 1630231090.7657986,
  "filename": "37_window.rst",
  "kernelspec": {
   "display_name": "Python 3 (ipykernel)",
   "language": "python",
   "name": "python3"
  },
  "language_info": {
   "codemirror_mode": {
    "name": "ipython",
    "version": 3
   },
   "file_extension": ".py",
   "mimetype": "text/x-python",
   "name": "python",
   "nbconvert_exporter": "python",
   "pygments_lexer": "ipython3",
   "version": "3.8.8"
  },
  "title": "Windowing Operations"
 },
 "nbformat": 4,
 "nbformat_minor": 5
}
