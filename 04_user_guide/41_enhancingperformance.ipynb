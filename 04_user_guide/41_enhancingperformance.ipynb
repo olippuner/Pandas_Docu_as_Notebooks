{
 "cells": [
  {
   "cell_type": "code",
   "execution_count": null,
   "id": "7df433dc-0611-40cf-a67f-b021404e25db",
   "metadata": {},
   "outputs": [],
   "source": [
    "import numpy as np\n",
    "import pandas as pd\n",
    "import matplotlib.pyplot as plt\n",
    "print(\"pandas\", pd.__version__)\n",
    "print(\"numpy\",np.__version__)"
   ]
  },
  {
   "cell_type": "markdown",
   "id": "77c98eb6",
   "metadata": {},
   "source": [
    "# Enhancing performance\n",
    "\n",
    "In this part of the tutorial, we will investigate how to speed up certain\n",
    "functions operating on pandas `DataFrames` using three different techniques:\n",
    "Cython, Numba and `pandas.eval()`. We will see a speed improvement of ~200\n",
    "when we use Cython and Numba on a test function operating row-wise on the\n",
    "`DataFrame`. Using `pandas.eval()` we will speed up a sum by an order of\n",
    "~2.\n",
    "\n",
    ">**Note**\n",
    ">\n",
    ">In addition to following the steps in this tutorial, users interested in enhancing\n",
    "performance are highly encouraged to install the\n",
    "[recommended dependencies](../01_getting_started/install.ipynb#install-recommended-dependencies) for pandas.\n",
    "These dependencies are often not installed by default, but will offer speed\n",
    "improvements if present.\n",
    "\n",
    "\n",
    "<a id='enhancingperf-cython'></a>"
   ]
  },
  {
   "cell_type": "markdown",
   "id": "4b0c3422",
   "metadata": {},
   "source": [
    "## Cython (writing C extensions for pandas)\n",
    "\n",
    "For many use cases writing pandas in pure Python and NumPy is sufficient. In some\n",
    "computationally heavy applications however, it can be possible to achieve sizable\n",
    "speed-ups by offloading work to [cython](https://cython.org/).\n",
    "\n",
    "This tutorial assumes you have refactored as much as possible in Python, for example\n",
    "by trying to remove for-loops and making use of NumPy vectorization. It’s always worth\n",
    "optimising in Python first.\n",
    "\n",
    "This tutorial walks through a “typical” process of cythonizing a slow computation.\n",
    "We use an [example from the Cython documentation](http://docs.cython.org/src/quickstart/cythonize.html)\n",
    "but in the context of pandas. Our final cythonized solution is around 100 times\n",
    "faster than the pure Python solution.\n",
    "\n",
    "\n",
    "<a id='enhancingperf-pure'></a>"
   ]
  },
  {
   "cell_type": "markdown",
   "id": "148ee541",
   "metadata": {},
   "source": [
    "### Pure Python\n",
    "\n",
    "We have a `DataFrame` to which we want to apply a function row-wise."
   ]
  },
  {
   "cell_type": "code",
   "execution_count": null,
   "id": "623e56e3",
   "metadata": {
    "hide-output": false
   },
   "outputs": [],
   "source": [
    "df = pd.DataFrame(\n",
    "    {\n",
    "        \"a\": np.random.randn(1000),\n",
    "        \"b\": np.random.randn(1000),\n",
    "        \"N\": np.random.randint(100, 1000, (1000)),\n",
    "        \"x\": \"x\",\n",
    "    }\n",
    ")\n",
    "df"
   ]
  },
  {
   "cell_type": "markdown",
   "id": "2a73ab3e",
   "metadata": {},
   "source": [
    "Here’s the function in pure Python:"
   ]
  },
  {
   "cell_type": "code",
   "execution_count": null,
   "id": "29d8b38b",
   "metadata": {
    "hide-output": false
   },
   "outputs": [],
   "source": [
    "def f(x):\n",
    "    return x * (x - 1)\n",
    "\n",
    "\n",
    "def integrate_f(a, b, N):\n",
    "    s = 0\n",
    "    dx = (b - a) / N\n",
    "    for i in range(N):\n",
    "        s += f(a + i * dx)\n",
    "    return s * dx"
   ]
  },
  {
   "cell_type": "markdown",
   "id": "e48bce11",
   "metadata": {},
   "source": [
    "We achieve our result by using `apply` (row-wise):"
   ]
  },
  {
   "cell_type": "markdown",
   "id": "5d86b73f",
   "metadata": {
    "hide-output": false
   },
   "source": [
    "```python\n",
    "In [7]: %timeit df.apply(lambda x: integrate_f(x[\"a\"], x[\"b\"], x[\"N\"]), axis=1)\n",
    "10 loops, best of 3: 174 ms per loop\n",
    "```\n"
   ]
  },
  {
   "cell_type": "markdown",
   "id": "9dc97f62",
   "metadata": {},
   "source": [
    "But clearly this isn’t fast enough for us. Let’s take a look and see where the\n",
    "time is spent during this operation (limited to the most time consuming\n",
    "four calls) using the [prun ipython magic function](https://ipython.readthedocs.io/en/stable/interactive/magics.html#magic-prun):"
   ]
  },
  {
   "cell_type": "code",
   "execution_count": null,
   "id": "6bac8d26",
   "metadata": {
    "hide-output": false
   },
   "outputs": [],
   "source": [
    "try: \n",
    "    %prun -l 4 df.apply(lambda x: integrate_f(x[\"a\"], x[\"b\"], x[\"N\"]), axis=1)  # noqa E999\n",
    "    #NameError: name 'a' is not defined\n",
    "except NameError as e:\n",
    "    print(e)\n",
    "    print('skipped due to exception')\n",
    "    pass"
   ]
  },
  {
   "cell_type": "markdown",
   "id": "7ffe2589",
   "metadata": {},
   "source": [
    "By far the majority of time is spend inside either `integrate_f` or `f`,\n",
    "hence we’ll concentrate our efforts cythonizing these two functions.\n",
    "\n",
    "\n",
    "<a id='enhancingperf-plain'></a>"
   ]
  },
  {
   "cell_type": "markdown",
   "id": "750c5129",
   "metadata": {},
   "source": [
    "### Plain Cython\n",
    "\n",
    "First we’re going to need to import the Cython magic function to IPython:"
   ]
  },
  {
   "cell_type": "code",
   "execution_count": null,
   "id": "5d0a2fad",
   "metadata": {
    "hide-output": false
   },
   "outputs": [],
   "source": [
    "%load_ext Cython"
   ]
  },
  {
   "cell_type": "markdown",
   "id": "be6d23ac",
   "metadata": {},
   "source": [
    "Now, let’s simply copy our functions over to Cython as is (the suffix\n",
    "is here to distinguish between function versions):"
   ]
  },
  {
   "cell_type": "code",
   "execution_count": null,
   "id": "2a4ade8c",
   "metadata": {
    "hide-output": false
   },
   "outputs": [],
   "source": [
    "%%cython\n",
    "def f_plain(x):\n",
    "     return x * (x - 1)\n",
    "def integrate_f_plain(a, b, N):\n",
    "     s = 0\n",
    "     dx = (b - a) / N\n",
    "     for i in range(N):\n",
    "         s += f_plain(a + i * dx)\n",
    "     return s * dx\n"
   ]
  },
  {
   "cell_type": "markdown",
   "id": "56291526",
   "metadata": {},
   "source": [
    ">**Note**\n",
    ">\n",
    ">If you’re having trouble pasting the above into your ipython, you may need\n",
    "to be using bleeding edge IPython for paste to play well with cell magics."
   ]
  },
  {
   "cell_type": "code",
   "execution_count": null,
   "id": "402c0109-cfa0-4926-a97b-de487c440c6e",
   "metadata": {},
   "outputs": [],
   "source": [
    " %timeit df.apply(lambda x: integrate_f_plain(x[\"a\"], x[\"b\"], x[\"N\"]), axis=1)\n"
   ]
  },
  {
   "cell_type": "markdown",
   "id": "dc4ab280",
   "metadata": {},
   "source": [
    "Already this has shaved a third off, not too bad for a simple copy and paste.\n",
    "\n",
    "\n",
    "<a id='enhancingperf-type'></a>"
   ]
  },
  {
   "cell_type": "markdown",
   "id": "45f58a58",
   "metadata": {},
   "source": [
    "### Adding type\n",
    "\n",
    "We get another huge improvement simply by providing type information:"
   ]
  },
  {
   "cell_type": "code",
   "execution_count": null,
   "id": "75246b7c",
   "metadata": {
    "hide-output": false
   },
   "outputs": [],
   "source": [
    "%%cython\n",
    "cdef double f_typed(double x) except? -2:\n",
    "     return x * (x - 1)\n",
    "    \n",
    "cpdef double integrate_f_typed(double a, double b, int N):\n",
    "    cdef int i\n",
    "    cdef double s, dx\n",
    "    s = 0\n",
    "    dx = (b - a) / N\n",
    "    for i in range(N):\n",
    "        s += f_typed(a + i * dx)\n",
    "    return s * dx\n"
   ]
  },
  {
   "cell_type": "code",
   "execution_count": null,
   "id": "b3f2ef98-f076-416f-9560-a383ceafb2fe",
   "metadata": {
    "hide-output": false
   },
   "outputs": [],
   "source": [
    "%timeit df.apply(lambda x: integrate_f_typed(x[\"a\"], x[\"b\"], x[\"N\"]), axis=1)"
   ]
  },
  {
   "cell_type": "markdown",
   "id": "7a650ace",
   "metadata": {},
   "source": [
    "Now, we’re talking! It’s now over ten times faster than the original Python\n",
    "implementation, and we haven’t *really* modified the code. Let’s have another\n",
    "look at what’s eating up time:"
   ]
  },
  {
   "cell_type": "code",
   "execution_count": null,
   "id": "0d4d1681",
   "metadata": {
    "hide-output": false
   },
   "outputs": [],
   "source": [
    "try: \n",
    "    %prun -l 4 df.apply(lambda x: integrate_f_typed(x[\"a\"], x[\"b\"], x[\"N\"]), axis=1)\n",
    "    #NameError: name 'a' is not defined\n",
    "except NameError as e:\n",
    "    print(e)\n",
    "    print('skipped due to exception: %prun does [nomore] work as expected here')\n",
    "    pass"
   ]
  },
  {
   "cell_type": "markdown",
   "id": "e243d9a1",
   "metadata": {},
   "source": [
    "\n",
    "<a id='enhancingperf-ndarray'></a>"
   ]
  },
  {
   "cell_type": "markdown",
   "id": "a0b20954",
   "metadata": {},
   "source": [
    "### Using ndarray\n",
    "\n",
    "It’s calling series… a lot! It’s creating a Series from each row, and get-ting from both\n",
    "the index and the series (three times for each row). Function calls are expensive\n",
    "in Python, so maybe we could minimize these by cythonizing the apply part.\n",
    "\n",
    ">**Note**\n",
    ">\n",
    ">We are now passing ndarrays into the Cython function, fortunately Cython plays\n",
    "very nicely with NumPy."
   ]
  },
  {
   "cell_type": "code",
   "execution_count": null,
   "id": "01f68ffb-f971-4dba-aa2c-f227fab59adb",
   "metadata": {},
   "outputs": [],
   "source": [
    "%%cython\n",
    "cimport numpy as np\n",
    "import numpy as np\n",
    "cdef double f_typed(double x) except? -2:\n",
    "    return x * (x - 1)\n",
    "cpdef double integrate_f_typed(double a, double b, int N):\n",
    "    cdef int i\n",
    "    cdef double s, dx\n",
    "    s = 0\n",
    "    dx = (b - a) / N\n",
    "    for i in range(N):\n",
    "        s += f_typed(a + i * dx)\n",
    "    return s * dx\n",
    "cpdef np.ndarray[double] apply_integrate_f(np.ndarray col_a, np.ndarray col_b,\n",
    "                                           np.ndarray col_N):\n",
    "    assert (col_a.dtype == np.float_\n",
    "            and col_b.dtype == np.float_ and col_N.dtype == np.int_)\n",
    "    cdef Py_ssize_t i, n = len(col_N)\n",
    "    assert (len(col_a) == len(col_b) == n)\n",
    "    cdef np.ndarray[double] res = np.empty(n)\n",
    "    for i in range(len(col_a)):\n",
    "        res[i] = integrate_f_typed(col_a[i], col_b[i], col_N[i])\n",
    "    return res"
   ]
  },
  {
   "cell_type": "markdown",
   "id": "3ad34c78",
   "metadata": {},
   "source": [
    "The implementation is simple, it creates an array of zeros and loops over\n",
    "the rows, applying our `integrate_f_typed`, and putting this in the zeros array.\n",
    "\n",
    "You can **not pass** a `Series` directly as a `ndarray` typed parameter\n",
    "to a Cython function. Instead pass the actual `ndarray` using the\n",
    "`Series.to_numpy()`. The reason is that the Cython\n",
    "definition is specific to an ndarray and not the passed `Series`.\n",
    "\n",
    "So, do not do this:"
   ]
  },
  {
   "cell_type": "markdown",
   "id": "d11cf099-e3d2-4dc7-a704-98043b67e2b7",
   "metadata": {
    "hide-output": false
   },
   "source": [
    "\n",
    "\n",
    "```Python\n",
    "apply_integrate_f(df[\"a\"], df[\"b\"], df[\"N\"])\n",
    "#TypeError: Argument 'col_a' has incorrect type (expected numpy.ndarray, got Series)\n",
    "```"
   ]
  },
  {
   "cell_type": "markdown",
   "id": "62588a48-226e-48c4-95e8-bda2cbff66e4",
   "metadata": {
    "hide-output": false
   },
   "source": [
    "But rather, use :meth:`Series.to_numpy` to get the underlying ``ndarray``:"
   ]
  },
  {
   "cell_type": "code",
   "execution_count": null,
   "id": "01ce1597",
   "metadata": {
    "hide-output": false
   },
   "outputs": [],
   "source": [
    "arr = apply_integrate_f(df[\"a\"].to_numpy(), df[\"b\"].to_numpy(), df[\"N\"].to_numpy())\n",
    "print(arr[:10])\n"
   ]
  },
  {
   "cell_type": "markdown",
   "id": "fa0e4d11",
   "metadata": {},
   "source": [
    ">**Note**\n",
    ">\n",
    ">Loops like this would be *extremely* slow in Python, but in Cython looping\n",
    "over NumPy arrays is *fast*."
   ]
  },
  {
   "cell_type": "code",
   "execution_count": null,
   "id": "97db843e-542a-41fd-bbdd-55d6d3efee20",
   "metadata": {
    "hide-output": false
   },
   "outputs": [],
   "source": [
    "%timeit apply_integrate_f(df[\"a\"].to_numpy(), df[\"b\"].to_numpy(), df[\"N\"].to_numpy())\n"
   ]
  },
  {
   "cell_type": "markdown",
   "id": "89f7d9cf",
   "metadata": {},
   "source": [
    "We’ve gotten another big improvement. Let’s check again where the time is spent:"
   ]
  },
  {
   "cell_type": "code",
   "execution_count": null,
   "id": "5f46eb58",
   "metadata": {
    "hide-output": false
   },
   "outputs": [],
   "source": [
    "try: \n",
    "    %prun -l 4 apply_integrate_f(df[\"a\"].to_numpy(), df[\"b\"].to_numpy(), df[\"N\"].to_numpy())\n",
    "    #NameError: name 'a' is not defined\n",
    "except KeyError as e:\n",
    "    print(e)\n",
    "    print('skipped due to exception: %prun does [nomore] work as expected here')\n",
    "    pass"
   ]
  },
  {
   "cell_type": "markdown",
   "id": "7b625733",
   "metadata": {},
   "source": [
    "As one might expect, the majority of the time is now spent in `apply_integrate_f`,\n",
    "so if we wanted to make anymore efficiencies we must continue to concentrate our\n",
    "efforts here.\n",
    "\n",
    "\n",
    "<a id='enhancingperf-boundswrap'></a>"
   ]
  },
  {
   "cell_type": "markdown",
   "id": "8d4a3b85",
   "metadata": {},
   "source": [
    "### More advanced techniques\n",
    "\n",
    "There is still hope for improvement. Here’s an example of using some more\n",
    "advanced Cython techniques:"
   ]
  },
  {
   "cell_type": "code",
   "execution_count": null,
   "id": "f332d1a7-8b45-456c-a5f1-4aa630141186",
   "metadata": {},
   "outputs": [],
   "source": [
    "%%cython\n",
    "cimport cython\n",
    "cimport numpy as np\n",
    "import numpy as np\n",
    "cdef double f_typed(double x) except? -2:\n",
    "    return x * (x - 1)\n",
    "cpdef double integrate_f_typed(double a, double b, int N):\n",
    "    cdef int i\n",
    "    cdef double s, dx\n",
    "    s = 0\n",
    "    dx = (b - a) / N\n",
    "    for i in range(N):\n",
    "        s += f_typed(a + i * dx)\n",
    "    return s * dx\n",
    "@cython.boundscheck(False)\n",
    "@cython.wraparound(False)\n",
    "cpdef np.ndarray[double] apply_integrate_f_wrap(np.ndarray[double] col_a,\n",
    "                                                np.ndarray[double] col_b,\n",
    "                                                np.ndarray[int] col_N):\n",
    "    cdef int i, n = len(col_N)\n",
    "    assert len(col_a) == len(col_b) == n\n",
    "    cdef np.ndarray[double] res = np.empty(n)\n",
    "    for i in range(n):\n",
    "        res[i] = integrate_f_typed(col_a[i], col_b[i], col_N[i])\n",
    "    return res\n"
   ]
  },
  {
   "cell_type": "code",
   "execution_count": null,
   "id": "95c3be07-4ef8-46e6-9c5b-16ef87ec2d90",
   "metadata": {
    "hide-output": false
   },
   "outputs": [],
   "source": [
    " %timeit apply_integrate_f_wrap(df[\"a\"].to_numpy(), df[\"b\"].to_numpy(), df[\"N\"].to_numpy())"
   ]
  },
  {
   "cell_type": "markdown",
   "id": "53cbaf2e",
   "metadata": {},
   "source": [
    "Even faster, with the caveat that a bug in our Cython code (an off-by-one error,\n",
    "for example) might cause a segfault because memory access isn’t checked.\n",
    "For more about `boundscheck` and `wraparound`, see the Cython docs on\n",
    "[compiler directives](https://cython.readthedocs.io/en/latest/src/reference/compilation.html?highlight=wraparound#compiler-directives).\n",
    "\n",
    "\n",
    "<a id='enhancingperf-numba'></a>"
   ]
  },
  {
   "cell_type": "markdown",
   "id": "0a7cd3e5",
   "metadata": {},
   "source": [
    "## Numba (JIT compilation)\n",
    "\n",
    "An alternative to statically compiling Cython code is to use a dynamic just-in-time (JIT) compiler with [Numba](https://numba.pydata.org/).\n",
    "\n",
    "Numba allows you to write a pure Python function which can be JIT compiled to native machine instructions, similar in performance to C, C++ and Fortran,\n",
    "by decorating your function with `@jit`.\n",
    "\n",
    "Numba works by generating optimized machine code using the LLVM compiler infrastructure at import time, runtime, or statically (using the included pycc tool).\n",
    "Numba supports compilation of Python to run on either CPU or GPU hardware and is designed to integrate with the Python scientific software stack.\n",
    "\n",
    ">**Note**\n",
    ">\n",
    ">The `@jit` compilation will add overhead to the runtime of the function, so performance benefits may not be realized especially when using small data sets.\n",
    "Consider [caching](https://numba.readthedocs.io/en/stable/developer/caching.html) your function to avoid compilation overhead each time your function is run.\n",
    "\n",
    "Numba can be used in 2 ways with pandas:\n",
    "\n",
    "1. Specify the `engine=\"numba\"` keyword in select pandas methods  \n",
    "1. Define your own Python function decorated with `@jit` and pass the underlying NumPy array of `Series` or `Dataframe` (using `to_numpy()`) into the function  "
   ]
  },
  {
   "cell_type": "markdown",
   "id": "93a204a8",
   "metadata": {},
   "source": [
    "### pandas Numba Engine\n",
    "\n",
    "If Numba is installed, one can specify `engine=\"numba\"` in select pandas methods to execute the method using Numba.\n",
    "Methods that support `engine=\"numba\"` will also have an `engine_kwargs` keyword that accepts a dictionary that allows one to specify\n",
    "`\"nogil\"`, `\"nopython\"` and `\"parallel\"` keys with boolean values to pass into the `@jit` decorator.\n",
    "If `engine_kwargs` is not specified, it defaults to `{\"nogil\": False, \"nopython\": True, \"parallel\": False}` unless otherwise specified.\n",
    "\n",
    "In terms of performance, **the first time a function is run using the Numba engine will be slow**\n",
    "as Numba will have some function compilation overhead. However, the JIT compiled functions are cached,\n",
    "and subsequent calls will be fast. In general, the Numba engine is performant with\n",
    "a larger amount of data points (e.g. 1+ million)."
   ]
  },
  {
   "cell_type": "code",
   "execution_count": null,
   "id": "b320e0c7-4633-463f-b11c-136b7b6a513e",
   "metadata": {
    "hide-output": false
   },
   "outputs": [],
   "source": [
    "data = pd.Series(range(1_000_000))  # noqa: E225\n",
    "\n",
    "roll = data.rolling(10)\n",
    "\n",
    "def f(x):\n",
    "     return np.sum(x) + 5\n",
    "\n",
    "# Run the first time, compilation time will affect performance\n",
    "%timeit -r 1 -n 1 roll.apply(f, engine='numba', raw=True)\n"
   ]
  },
  {
   "cell_type": "code",
   "execution_count": null,
   "id": "3f4d7169-8c9b-450a-a7ab-4998036841b1",
   "metadata": {},
   "outputs": [],
   "source": [
    "# Function is cached and performance will improve\n",
    "%timeit roll.apply(f, engine='numba', raw=True)"
   ]
  },
  {
   "cell_type": "code",
   "execution_count": null,
   "id": "b0dcedd3-6b18-4f40-b257-f596ea8f466a",
   "metadata": {},
   "outputs": [],
   "source": [
    "%timeit roll.apply(f, engine='cython', raw=True)\n",
    "#3.92 s ± 59 ms per loop (mean ± std. dev. of 7 runs, 1 loop each)"
   ]
  },
  {
   "cell_type": "markdown",
   "id": "372616c4",
   "metadata": {},
   "source": [
    "### Custom Function Examples\n",
    "\n",
    "A custom Python function decorated with `@jit` can be used with pandas objects by passing their NumPy array\n",
    "representations with `to_numpy()`."
   ]
  },
  {
   "cell_type": "code",
   "execution_count": null,
   "id": "8199d5a7-154c-43ae-b2fb-f482a9ef152a",
   "metadata": {},
   "outputs": [],
   "source": [
    "import numba\n",
    "\n",
    "@numba.jit\n",
    "def f_plain(x):\n",
    "    return x * (x - 1)\n",
    "\n",
    "@numba.jit\n",
    "def integrate_f_numba(a, b, N):\n",
    "    s = 0\n",
    "    dx = (b - a) / N\n",
    "    for i in range(N):\n",
    "        s += f_plain(a + i * dx)\n",
    "    return s * dx\n",
    "\n",
    "@numba.jit\n",
    "def apply_integrate_f_numba(col_a, col_b, col_N):\n",
    "    n = len(col_N)\n",
    "    result = np.empty(n, dtype=\"float64\")\n",
    "    assert len(col_a) == len(col_b) == n\n",
    "    for i in range(n):\n",
    "        result[i] = integrate_f_numba(col_a[i], col_b[i], col_N[i])\n",
    "    return result\n",
    "\n",
    "def compute_numba(df):\n",
    "    result = apply_integrate_f_numba(\n",
    "        df[\"a\"].to_numpy(), df[\"b\"].to_numpy(), df[\"N\"].to_numpy()\n",
    "    )\n",
    "    return pd.Series(result, index=df.index, name=\"result\")"
   ]
  },
  {
   "cell_type": "code",
   "execution_count": null,
   "id": "d1f4056d-5298-4650-8239-c409fc32dab7",
   "metadata": {
    "hide-output": false
   },
   "outputs": [],
   "source": [
    "%timeit compute_numba(df)\n",
    "#1000 loops, best of 3: 798 us per loop\n"
   ]
  },
  {
   "cell_type": "markdown",
   "id": "ba90755b",
   "metadata": {},
   "source": [
    "In this example, using Numba was faster than Cython.\n",
    "\n",
    "Numba can also be used to write vectorized functions that do not require the user to explicitly\n",
    "loop over the observations of a vector; a vectorized function will be applied to each row automatically.\n",
    "Consider the following example of doubling each observation:"
   ]
  },
  {
   "cell_type": "code",
   "execution_count": null,
   "id": "b8abd82d-e8c0-40b0-b964-56233188a34d",
   "metadata": {
    "hide-output": false
   },
   "outputs": [],
   "source": [
    "import numba\n",
    "\n",
    "def double_every_value_nonumba(x):\n",
    "    return x * 2\n",
    "\n",
    "@numba.vectorize\n",
    "def double_every_value_withnumba(x):  # noqa E501\n",
    "    return x * 2\n"
   ]
  },
  {
   "cell_type": "code",
   "execution_count": null,
   "id": "61dfd9a2-54b5-48e0-a1d0-f3b5cce8697e",
   "metadata": {
    "hide-output": false
   },
   "outputs": [],
   "source": [
    "# Custom function without numba\n",
    "%timeit df[\"col1_doubled\"] = df[\"a\"].apply(double_every_value_nonumba)  # noqa E501\n",
    "#1000 loops, best of 3: 797 us per loop"
   ]
  },
  {
   "cell_type": "code",
   "execution_count": null,
   "id": "a12565d6-a40e-4d76-ae16-8c1ed355091b",
   "metadata": {
    "hide-output": false
   },
   "outputs": [],
   "source": [
    "# Standard implementation (faster than a custom function)\n",
    "%timeit df[\"col1_doubled\"] = df[\"a\"] * 2\n",
    "#1000 loops, best of 3: 233 us per loop"
   ]
  },
  {
   "cell_type": "code",
   "execution_count": null,
   "id": "4eee1124-77a0-4808-bb3a-816e8ef2b59c",
   "metadata": {
    "hide-output": false
   },
   "outputs": [],
   "source": [
    "# Custom function with numba\n",
    "%timeit df[\"col1_doubled\"] = double_every_value_withnumba(df[\"a\"].to_numpy())"
   ]
  },
  {
   "cell_type": "markdown",
   "id": "4e1c2a70",
   "metadata": {},
   "source": [
    "### Caveats\n",
    "\n",
    "Numba is best at accelerating functions that apply numerical functions to NumPy\n",
    "arrays. If you try to `@jit` a function that contains unsupported [Python](https://numba.readthedocs.io/en/stable/reference/pysupported.html)\n",
    "or [NumPy](https://numba.readthedocs.io/en/stable/reference/numpysupported.html)\n",
    "code, compilation will revert [object mode](https://numba.readthedocs.io/en/stable/glossary.html#term-object-mode) which\n",
    "will mostly likely not speed up your function. If you would\n",
    "prefer that Numba throw an error if it cannot compile a function in a way that\n",
    "speeds up your code, pass Numba the argument\n",
    "`nopython=True` (e.g.  `@jit(nopython=True)`). For more on\n",
    "troubleshooting Numba modes, see the [Numba troubleshooting page](https://numba.pydata.org/numba-doc/latest/user/troubleshoot.html#the-compiled-code-is-too-slow).\n",
    "\n",
    "Using `parallel=True` (e.g. `@jit(parallel=True)`) may result in a `SIGABRT` if the threading layer leads to unsafe\n",
    "behavior. You can first [specify a safe threading layer](https://numba.readthedocs.io/en/stable/user/threading-layer.html#selecting-a-threading-layer-for-safe-parallel-execution)\n",
    "before running a JIT function with `parallel=True`.\n",
    "\n",
    "Generally if the you encounter a segfault (`SIGSEGV`) while using Numba, please report the issue\n",
    "to the [Numba issue tracker.](https://github.com/numba/numba/issues/new/choose)\n",
    "\n",
    "\n",
    "<a id='enhancingperf-eval'></a>"
   ]
  },
  {
   "cell_type": "markdown",
   "id": "b9db3c66",
   "metadata": {},
   "source": [
    "## Expression evaluation via `eval()`\n",
    "\n",
    "The top-level function `pandas.eval()` implements expression evaluation of\n",
    "`Series` and `DataFrame` objects.\n",
    "\n",
    ">**Note**\n",
    ">\n",
    ">To benefit from using `eval()` you need to\n",
    "install `numexpr`. See the [recommended dependencies section](../01_getting_started/install.ipynb#install-recommended-dependencies) for more details.\n",
    "\n",
    "The point of using `eval()` for expression evaluation rather than\n",
    "plain Python is two-fold: 1) large `DataFrame` objects are\n",
    "evaluated more efficiently and 2) large arithmetic and boolean expressions are\n",
    "evaluated all at once by the underlying engine (by default `numexpr` is used\n",
    "for evaluation).\n",
    "\n",
    ">**Note**\n",
    ">\n",
    ">You should not use `eval()` for simple\n",
    "expressions or for expressions involving small DataFrames. In fact,\n",
    "`eval()` is many orders of magnitude slower for\n",
    "smaller expressions/objects than plain ol’ Python. A good rule of thumb is\n",
    "to only use `eval()` when you have a\n",
    "`DataFrame` with more than 10,000 rows.\n",
    "\n",
    "`eval()` supports all arithmetic expressions supported by the\n",
    "engine in addition to some extensions available only in pandas.\n",
    "\n",
    ">**Note**\n",
    ">\n",
    ">The larger the frame and the larger the expression the more speedup you will\n",
    "see from using `eval()`."
   ]
  },
  {
   "cell_type": "markdown",
   "id": "3456b80e",
   "metadata": {},
   "source": [
    "### Supported syntax\n",
    "\n",
    "These operations are supported by `pandas.eval()`:\n",
    "\n",
    "- Arithmetic operations except for the left shift (`<<`) and right shift\n",
    "  (`>>`) operators, e.g., `df + 2 * pi / s ** 4 % 42 - the_golden_ratio`  \n",
    "- Comparison operations, including chained comparisons, e.g., `2 < df < df2`  \n",
    "- Boolean operations, e.g., `df < df2 and df3 < df4 or not df_bool`  \n",
    "- `list` and `tuple` literals, e.g., `[1, 2]` or `(1, 2)`  \n",
    "- Attribute access, e.g., `df.a`  \n",
    "- Subscript expressions, e.g., `df[0]`  \n",
    "- Simple variable evaluation, e.g., `pd.eval(\"df\")` (this is not very useful)  \n",
    "- Math functions: `sin`, `cos`, `exp`, `log`, `expm1`, `log1p`,\n",
    "  `sqrt`, `sinh`, `cosh`, `tanh`, `arcsin`, `arccos`, `arctan`, `arccosh`,\n",
    "  `arcsinh`, `arctanh`, `abs`, `arctan2` and `log10`.  \n",
    "\n",
    "\n",
    "This Python syntax is **not** allowed:\n",
    "\n",
    "- Expressions  \n",
    "  \n",
    "  - Function calls other than math functions.  \n",
    "  - `is`/`is not` operations  \n",
    "  - `if` expressions  \n",
    "  - `lambda` expressions  \n",
    "  - `list`/`set`/`dict` comprehensions  \n",
    "  - Literal `dict` and `set` expressions  \n",
    "  - `yield` expressions  \n",
    "  - Generator expressions  \n",
    "  - Boolean expressions consisting of only scalar values  \n",
    "  \n",
    "- Statements  \n",
    "  \n",
    "  - Neither [simple](https://docs.python.org/3/reference/simple_stmts.html)\n",
    "    nor [compound](https://docs.python.org/3/reference/compound_stmts.html)\n",
    "    statements are allowed. This includes things like `for`, `while`, and\n",
    "    `if`.  "
   ]
  },
  {
   "cell_type": "markdown",
   "id": "05d76115",
   "metadata": {},
   "source": [
    "### `eval()` examples\n",
    "\n",
    "`pandas.eval()` works well with expressions containing large arrays.\n",
    "\n",
    "First let’s create a few decent-sized arrays to play with:"
   ]
  },
  {
   "cell_type": "code",
   "execution_count": null,
   "id": "98bcb4e2",
   "metadata": {
    "hide-output": false
   },
   "outputs": [],
   "source": [
    "nrows, ncols = 20000, 100\n",
    "df1, df2, df3, df4 = [pd.DataFrame(np.random.randn(nrows, ncols)) for _ in range(4)]"
   ]
  },
  {
   "cell_type": "markdown",
   "id": "8accec29",
   "metadata": {},
   "source": [
    "Now let’s compare adding them together using plain ol’ Python versus\n",
    "`eval()`:"
   ]
  },
  {
   "cell_type": "code",
   "execution_count": null,
   "id": "187cdd34",
   "metadata": {
    "hide-output": false
   },
   "outputs": [],
   "source": [
    "%timeit df1 + df2 + df3 + df4"
   ]
  },
  {
   "cell_type": "code",
   "execution_count": null,
   "id": "459a411b",
   "metadata": {
    "hide-output": false
   },
   "outputs": [],
   "source": [
    "%timeit pd.eval(\"df1 + df2 + df3 + df4\")"
   ]
  },
  {
   "cell_type": "markdown",
   "id": "807b267a",
   "metadata": {},
   "source": [
    "Now let’s do the same thing but with comparisons:"
   ]
  },
  {
   "cell_type": "code",
   "execution_count": null,
   "id": "97bfd4de",
   "metadata": {
    "hide-output": false
   },
   "outputs": [],
   "source": [
    "%timeit (df1 > 0) & (df2 > 0) & (df3 > 0) & (df4 > 0)"
   ]
  },
  {
   "cell_type": "code",
   "execution_count": null,
   "id": "e529cd61",
   "metadata": {
    "hide-output": false
   },
   "outputs": [],
   "source": [
    "%timeit pd.eval(\"(df1 > 0) & (df2 > 0) & (df3 > 0) & (df4 > 0)\")"
   ]
  },
  {
   "cell_type": "markdown",
   "id": "5a79c8ba",
   "metadata": {},
   "source": [
    "`eval()` also works with unaligned pandas objects:"
   ]
  },
  {
   "cell_type": "code",
   "execution_count": null,
   "id": "c7f9a968",
   "metadata": {
    "hide-output": false
   },
   "outputs": [],
   "source": [
    "s = pd.Series(np.random.randn(50))\n",
    "%timeit df1 + df2 + df3 + df4 + s"
   ]
  },
  {
   "cell_type": "code",
   "execution_count": null,
   "id": "70a46156",
   "metadata": {
    "hide-output": false
   },
   "outputs": [],
   "source": [
    "%timeit pd.eval(\"df1 + df2 + df3 + df4 + s\")"
   ]
  },
  {
   "cell_type": "markdown",
   "id": "1bcf6ba3",
   "metadata": {},
   "source": [
    ">**Note**\n",
    ">\n",
    ">Operations such as"
   ]
  },
  {
   "cell_type": "code",
   "execution_count": null,
   "id": "0950742b",
   "metadata": {
    "hide-output": false
   },
   "outputs": [],
   "source": [
    "1 and 2  # would parse to 1 & 2, but should evaluate to 2\n",
    "3 or 4  # would parse to 3 | 4, but should evaluate to 3\n",
    "~1  # this is okay, but slower when using eval"
   ]
  },
  {
   "cell_type": "markdown",
   "id": "2fc5de67",
   "metadata": {},
   "source": [
    "should be performed in Python. An exception will be raised if you try to\n",
    "perform any boolean/bitwise operations with scalar operands that are not\n",
    "of type `bool` or `np.bool_`. Again, you should perform these kinds of\n",
    "operations in plain Python."
   ]
  },
  {
   "cell_type": "markdown",
   "id": "f1dab0be",
   "metadata": {},
   "source": [
    "### The `DataFrame.eval` method\n",
    "\n",
    "In addition to the top level `pandas.eval()` function you can also\n",
    "evaluate an expression in the “context” of a `DataFrame`."
   ]
  },
  {
   "cell_type": "code",
   "execution_count": null,
   "id": "05267f25",
   "metadata": {
    "hide-output": false
   },
   "outputs": [],
   "source": [
    "try:\n",
    "    del a\n",
    "except NameError:\n",
    "    pass\n",
    "\n",
    "try:\n",
    "    del b\n",
    "except NameError:\n",
    "    pass"
   ]
  },
  {
   "cell_type": "code",
   "execution_count": null,
   "id": "a43883c8",
   "metadata": {
    "hide-output": false
   },
   "outputs": [],
   "source": [
    "df = pd.DataFrame(np.random.randn(5, 2), columns=[\"a\", \"b\"])\n",
    "df.eval(\"a + b\")"
   ]
  },
  {
   "cell_type": "markdown",
   "id": "529fd1d2",
   "metadata": {},
   "source": [
    "Any expression that is a valid `pandas.eval()` expression is also a valid\n",
    "`DataFrame.eval()` expression, with the added benefit that you don’t have to\n",
    "prefix the name of the `DataFrame` to the column(s) you’re\n",
    "interested in evaluating.\n",
    "\n",
    "In addition, you can perform assignment of columns within an expression.\n",
    "This allows for *formulaic evaluation*.  The assignment target can be a\n",
    "new column name or an existing column name, and it must be a valid Python\n",
    "identifier.\n",
    "\n",
    "The `inplace` keyword determines whether this assignment will performed\n",
    "on the original `DataFrame` or return a copy with the new column."
   ]
  },
  {
   "cell_type": "code",
   "execution_count": null,
   "id": "46600a7b-883f-4246-ae2f-5f77236f6f6c",
   "metadata": {
    "hide-output": false
   },
   "outputs": [],
   "source": [
    "df = pd.DataFrame(dict(a=range(5), b=range(5, 10)))\n",
    "df"
   ]
  },
  {
   "cell_type": "code",
   "execution_count": null,
   "id": "df8e0391-955b-444f-8e07-7dac6215645d",
   "metadata": {
    "hide-output": false
   },
   "outputs": [],
   "source": [
    "df.eval(\"c = a + b\", inplace=True)\n",
    "df.eval(\"d = a + b + c\", inplace=True)\n",
    "df.eval(\"a = 1\", inplace=True)\n",
    "df"
   ]
  },
  {
   "cell_type": "markdown",
   "id": "c076ba43",
   "metadata": {},
   "source": [
    "When `inplace` is set to `False`, the default, a copy of the `DataFrame` with the\n",
    "new or modified columns is returned and the original frame is unchanged."
   ]
  },
  {
   "cell_type": "code",
   "execution_count": null,
   "id": "505d57b3-642b-43b9-b364-0c629b38e826",
   "metadata": {
    "hide-output": false
   },
   "outputs": [],
   "source": [
    "df.eval(\"e = a - c\", inplace=False)"
   ]
  },
  {
   "cell_type": "code",
   "execution_count": null,
   "id": "377ba23d-e17a-4424-bf37-2bff9a4e37c5",
   "metadata": {
    "hide-output": false
   },
   "outputs": [],
   "source": [
    "df"
   ]
  },
  {
   "cell_type": "markdown",
   "id": "34945b92",
   "metadata": {},
   "source": [
    "As a convenience, multiple assignments can be performed by using a\n",
    "multi-line string."
   ]
  },
  {
   "cell_type": "code",
   "execution_count": null,
   "id": "8cc43824",
   "metadata": {
    "hide-output": false
   },
   "outputs": [],
   "source": [
    "df.eval(\n",
    "    \"\"\"\n",
    "c = a + b\n",
    "d = a + b + c\n",
    "a = 1\"\"\",\n",
    "    inplace=False,\n",
    ")"
   ]
  },
  {
   "cell_type": "markdown",
   "id": "1d8fe9c2",
   "metadata": {},
   "source": [
    "The equivalent in standard Python would be"
   ]
  },
  {
   "cell_type": "code",
   "execution_count": null,
   "id": "9ed37bcc",
   "metadata": {
    "hide-output": false
   },
   "outputs": [],
   "source": [
    "df = pd.DataFrame(dict(a=range(5), b=range(5, 10)))\n",
    "df[\"c\"] = df[\"a\"] + df[\"b\"]\n",
    "df[\"d\"] = df[\"a\"] + df[\"b\"] + df[\"c\"]\n",
    "df[\"a\"] = 1\n",
    "df"
   ]
  },
  {
   "cell_type": "markdown",
   "id": "0e181a2a",
   "metadata": {},
   "source": [
    "The `query` method has a `inplace` keyword which determines\n",
    "whether the query modifies the original frame."
   ]
  },
  {
   "cell_type": "code",
   "execution_count": null,
   "id": "324b181b-eb5f-4c76-a161-4bc9cb148d57",
   "metadata": {
    "hide-output": false
   },
   "outputs": [],
   "source": [
    "df = pd.DataFrame(dict(a=range(5), b=range(5, 10)))\n",
    "df.query(\"a > 2\")\n",
    "df"
   ]
  },
  {
   "cell_type": "code",
   "execution_count": null,
   "id": "f1a9a8ad-2f4b-4a00-ab4d-6434e763c665",
   "metadata": {
    "hide-output": false
   },
   "outputs": [],
   "source": [
    "df.query(\"a > 2\", inplace=True)\n",
    "df"
   ]
  },
  {
   "cell_type": "markdown",
   "id": "f9b36ae0",
   "metadata": {},
   "source": [
    "### Local variables\n",
    "\n",
    "You must *explicitly reference* any local variable that you want to use in an\n",
    "expression by placing the `@` character in front of the name. For example,"
   ]
  },
  {
   "cell_type": "code",
   "execution_count": null,
   "id": "d30dd49d-69cc-40ab-b962-192b612624d1",
   "metadata": {
    "hide-output": false
   },
   "outputs": [],
   "source": [
    "df = pd.DataFrame(np.random.randn(5, 2), columns=list(\"ab\"))\n",
    "newcol = np.random.randn(len(df))\n",
    "df.eval(\"b + @newcol\")"
   ]
  },
  {
   "cell_type": "code",
   "execution_count": null,
   "id": "7f8fb4ec-b89b-425d-8b31-c52a1261f94b",
   "metadata": {
    "hide-output": false
   },
   "outputs": [],
   "source": [
    "df.query(\"b < @newcol\")"
   ]
  },
  {
   "cell_type": "markdown",
   "id": "493c5417",
   "metadata": {},
   "source": [
    "If you don’t prefix the local variable with `@`, pandas will raise an\n",
    "exception telling you the variable is undefined.\n",
    "\n",
    "When using `DataFrame.eval()` and `DataFrame.query()`, this allows you\n",
    "to have a local variable and a `DataFrame` column with the same\n",
    "name in an expression."
   ]
  },
  {
   "cell_type": "code",
   "execution_count": null,
   "id": "8635d7f4-c534-430b-9e65-101f1f65e81b",
   "metadata": {
    "hide-output": false
   },
   "outputs": [],
   "source": [
    "a = np.random.randn()\n",
    "df.query(\"@a < a\")"
   ]
  },
  {
   "cell_type": "code",
   "execution_count": null,
   "id": "037507f6-ed7d-481d-a01b-2e822acd431a",
   "metadata": {
    "hide-output": false
   },
   "outputs": [],
   "source": [
    "df.loc[a < df[\"a\"]]  # same as the previous expression"
   ]
  },
  {
   "cell_type": "markdown",
   "id": "69a3d013",
   "metadata": {},
   "source": [
    "With `pandas.eval()` you cannot use the `@` prefix *at all*, because it\n",
    "isn’t defined in that context. pandas will let you know this if you try to\n",
    "use `@` in a top-level call to `pandas.eval()`. For example,"
   ]
  },
  {
   "cell_type": "code",
   "execution_count": null,
   "id": "d12ccabf-28f6-48f3-9408-04f74e999314",
   "metadata": {},
   "outputs": [],
   "source": [
    "a, b = 1, 2"
   ]
  },
  {
   "cell_type": "markdown",
   "id": "d6bbb9a1-ba52-47c1-ad91-7903c9268baf",
   "metadata": {
    "hide-output": false
   },
   "source": [
    "```python\n",
    "pd.eval(\"@a + b\")\n",
    "SyntaxError: The '@' prefix is not allowed in top-level eval calls.\n",
    "please refer to your variables by name without the '@' prefix.\n",
    "```"
   ]
  },
  {
   "cell_type": "markdown",
   "id": "289d0efd",
   "metadata": {},
   "source": [
    "In this case, you should simply refer to the variables like you would in\n",
    "standard Python."
   ]
  },
  {
   "cell_type": "code",
   "execution_count": null,
   "id": "92ae4173",
   "metadata": {
    "hide-output": false
   },
   "outputs": [],
   "source": [
    "pd.eval(\"a + b\")"
   ]
  },
  {
   "cell_type": "markdown",
   "id": "7f312077",
   "metadata": {},
   "source": [
    "### `pandas.eval()` parsers\n",
    "\n",
    "There are two different parsers and two different engines you can use as\n",
    "the backend.\n",
    "\n",
    "The default `'pandas'` parser allows a more intuitive syntax for expressing\n",
    "query-like operations (comparisons, conjunctions and disjunctions). In\n",
    "particular, the precedence of the `&` and `|` operators is made equal to\n",
    "the precedence of the corresponding boolean operations `and` and `or`.\n",
    "\n",
    "For example, the above conjunction can be written without parentheses.\n",
    "Alternatively, you can use the `'python'` parser to enforce strict Python\n",
    "semantics."
   ]
  },
  {
   "cell_type": "code",
   "execution_count": null,
   "id": "50d18538",
   "metadata": {
    "hide-output": false
   },
   "outputs": [],
   "source": [
    "expr = \"(df1 > 0) & (df2 > 0) & (df3 > 0) & (df4 > 0)\"\n",
    "x = pd.eval(expr, parser=\"python\")\n",
    "expr_no_parens = \"df1 > 0 & df2 > 0 & df3 > 0 & df4 > 0\"\n",
    "y = pd.eval(expr_no_parens, parser=\"pandas\")\n",
    "np.all(x == y)"
   ]
  },
  {
   "cell_type": "markdown",
   "id": "1d47e0e2",
   "metadata": {},
   "source": [
    "The same expression can be “anded” together with the word `and` as\n",
    "well:"
   ]
  },
  {
   "cell_type": "code",
   "execution_count": null,
   "id": "88fd1974",
   "metadata": {
    "hide-output": false
   },
   "outputs": [],
   "source": [
    "expr = \"(df1 > 0) & (df2 > 0) & (df3 > 0) & (df4 > 0)\"\n",
    "x = pd.eval(expr, parser=\"python\")\n",
    "expr_with_ands = \"df1 > 0 and df2 > 0 and df3 > 0 and df4 > 0\"\n",
    "y = pd.eval(expr_with_ands, parser=\"pandas\")\n",
    "np.all(x == y)"
   ]
  },
  {
   "cell_type": "markdown",
   "id": "357c1597",
   "metadata": {},
   "source": [
    "The `and` and `or` operators here have the same precedence that they would\n",
    "in vanilla Python."
   ]
  },
  {
   "cell_type": "markdown",
   "id": "50a43803",
   "metadata": {},
   "source": [
    "### `pandas.eval()` backends\n",
    "\n",
    "There’s also the option to make `eval()` operate identical to plain\n",
    "ol’ Python.\n",
    "\n",
    ">**Note**\n",
    ">\n",
    ">Using the `'python'` engine is generally *not* useful, except for testing\n",
    "other evaluation engines against it. You will achieve **no** performance\n",
    "benefits using `eval()` with `engine='python'` and in fact may\n",
    "incur a performance hit.\n",
    "\n",
    "You can see this by using `pandas.eval()` with the `'python'` engine. It\n",
    "is a bit slower (not by much) than evaluating the same expression in Python"
   ]
  },
  {
   "cell_type": "code",
   "execution_count": 129,
   "id": "db98fc21",
   "metadata": {
    "hide-output": false
   },
   "outputs": [
    {
     "name": "stdout",
     "output_type": "stream",
     "text": [
      "20.2 ms ± 1.05 ms per loop (mean ± std. dev. of 7 runs, 100 loops each)\n"
     ]
    }
   ],
   "source": [
    "%timeit df1 + df2 + df3 + df4"
   ]
  },
  {
   "cell_type": "code",
   "execution_count": 130,
   "id": "8de0fdf6",
   "metadata": {
    "hide-output": false
   },
   "outputs": [
    {
     "name": "stdout",
     "output_type": "stream",
     "text": [
      "23.8 ms ± 1.18 ms per loop (mean ± std. dev. of 7 runs, 10 loops each)\n"
     ]
    }
   ],
   "source": [
    "%timeit pd.eval(\"df1 + df2 + df3 + df4\", engine=\"python\")"
   ]
  },
  {
   "cell_type": "markdown",
   "id": "0c2abf49",
   "metadata": {},
   "source": [
    "### `pandas.eval()` performance\n",
    "\n",
    "`eval()` is intended to speed up certain kinds of operations. In\n",
    "particular, those operations involving complex expressions with large\n",
    "`DataFrame`/`Series` objects should see a\n",
    "significant performance benefit.  Here is a plot showing the running time of\n",
    "`pandas.eval()` as function of the size of the frame involved in the\n",
    "computation. The two lines are two different engines.\n",
    "\n",
    "<img src=\"../_static/eval-perf.png\" style=\"\">\n",
    "\n",
    ">**Note**\n",
    ">\n",
    ">Operations with smallish objects (around 15k-20k rows) are faster using\n",
    "plain Python:\n",
    "\n",
    "> <img src=\"../_static/eval-perf-small.png\" style=\"\">\n",
    "\n",
    "\n",
    "This plot was created using a `DataFrame` with 3 columns each containing\n",
    "floating point values generated using `numpy.random.randn()`."
   ]
  },
  {
   "cell_type": "markdown",
   "id": "77524c20",
   "metadata": {},
   "source": [
    "### Technical minutia regarding expression evaluation\n",
    "\n",
    "Expressions that would result in an object dtype or involve datetime operations\n",
    "(because of `NaT`) must be evaluated in Python space. The main reason for\n",
    "this behavior is to maintain backwards compatibility with versions of NumPy <\n",
    "1.7. In those versions of NumPy a call to `ndarray.astype(str)` will\n",
    "truncate any strings that are more than 60 characters in length. Second, we\n",
    "can’t pass `object` arrays to `numexpr` thus string comparisons must be\n",
    "evaluated in Python space.\n",
    "\n",
    "The upshot is that this *only* applies to object-dtype expressions. So, if\n",
    "you have an expression–for example"
   ]
  },
  {
   "cell_type": "code",
   "execution_count": 131,
   "id": "cec8b4cb-5f45-4114-8bbf-735c2bed6bf1",
   "metadata": {
    "hide-output": false
   },
   "outputs": [
    {
     "data": {
      "text/html": [
       "<div>\n",
       "<style scoped>\n",
       "    .dataframe tbody tr th:only-of-type {\n",
       "        vertical-align: middle;\n",
       "    }\n",
       "\n",
       "    .dataframe tbody tr th {\n",
       "        vertical-align: top;\n",
       "    }\n",
       "\n",
       "    .dataframe thead th {\n",
       "        text-align: right;\n",
       "    }\n",
       "</style>\n",
       "<table border=\"1\" class=\"dataframe\">\n",
       "  <thead>\n",
       "    <tr style=\"text-align: right;\">\n",
       "      <th></th>\n",
       "      <th>strings</th>\n",
       "      <th>nums</th>\n",
       "    </tr>\n",
       "  </thead>\n",
       "  <tbody>\n",
       "    <tr>\n",
       "      <th>0</th>\n",
       "      <td>c</td>\n",
       "      <td>0</td>\n",
       "    </tr>\n",
       "    <tr>\n",
       "      <th>1</th>\n",
       "      <td>c</td>\n",
       "      <td>0</td>\n",
       "    </tr>\n",
       "    <tr>\n",
       "      <th>2</th>\n",
       "      <td>c</td>\n",
       "      <td>0</td>\n",
       "    </tr>\n",
       "    <tr>\n",
       "      <th>3</th>\n",
       "      <td>b</td>\n",
       "      <td>1</td>\n",
       "    </tr>\n",
       "    <tr>\n",
       "      <th>4</th>\n",
       "      <td>b</td>\n",
       "      <td>1</td>\n",
       "    </tr>\n",
       "    <tr>\n",
       "      <th>5</th>\n",
       "      <td>b</td>\n",
       "      <td>1</td>\n",
       "    </tr>\n",
       "    <tr>\n",
       "      <th>6</th>\n",
       "      <td>a</td>\n",
       "      <td>2</td>\n",
       "    </tr>\n",
       "    <tr>\n",
       "      <th>7</th>\n",
       "      <td>a</td>\n",
       "      <td>2</td>\n",
       "    </tr>\n",
       "    <tr>\n",
       "      <th>8</th>\n",
       "      <td>a</td>\n",
       "      <td>2</td>\n",
       "    </tr>\n",
       "  </tbody>\n",
       "</table>\n",
       "</div>"
      ],
      "text/plain": [
       "  strings  nums\n",
       "0       c     0\n",
       "1       c     0\n",
       "2       c     0\n",
       "3       b     1\n",
       "4       b     1\n",
       "5       b     1\n",
       "6       a     2\n",
       "7       a     2\n",
       "8       a     2"
      ]
     },
     "execution_count": 131,
     "metadata": {},
     "output_type": "execute_result"
    }
   ],
   "source": [
    "df = pd.DataFrame(\n",
    "    {\"strings\": np.repeat(list(\"cba\"), 3), \"nums\": np.repeat(range(3), 3)}\n",
    ")\n",
    "df"
   ]
  },
  {
   "cell_type": "code",
   "execution_count": 132,
   "id": "48f817e3-6dc7-47bb-bc08-6f2d2646cfbc",
   "metadata": {
    "hide-output": false
   },
   "outputs": [
    {
     "data": {
      "text/html": [
       "<div>\n",
       "<style scoped>\n",
       "    .dataframe tbody tr th:only-of-type {\n",
       "        vertical-align: middle;\n",
       "    }\n",
       "\n",
       "    .dataframe tbody tr th {\n",
       "        vertical-align: top;\n",
       "    }\n",
       "\n",
       "    .dataframe thead th {\n",
       "        text-align: right;\n",
       "    }\n",
       "</style>\n",
       "<table border=\"1\" class=\"dataframe\">\n",
       "  <thead>\n",
       "    <tr style=\"text-align: right;\">\n",
       "      <th></th>\n",
       "      <th>strings</th>\n",
       "      <th>nums</th>\n",
       "    </tr>\n",
       "  </thead>\n",
       "  <tbody>\n",
       "  </tbody>\n",
       "</table>\n",
       "</div>"
      ],
      "text/plain": [
       "Empty DataFrame\n",
       "Columns: [strings, nums]\n",
       "Index: []"
      ]
     },
     "execution_count": 132,
     "metadata": {},
     "output_type": "execute_result"
    }
   ],
   "source": [
    "df.query(\"strings == 'a' and nums == 1\")"
   ]
  },
  {
   "cell_type": "markdown",
   "id": "858bd506",
   "metadata": {},
   "source": [
    "the numeric part of the comparison (`nums == 1`) will be evaluated by\n",
    "`numexpr`.\n",
    "\n",
    "In general, `DataFrame.query()`/`pandas.eval()` will\n",
    "evaluate the subexpressions that *can* be evaluated by `numexpr` and those\n",
    "that must be evaluated in Python space transparently to the user. This is done\n",
    "by inferring the result type of an expression from its arguments and operators."
   ]
  }
 ],
 "metadata": {
  "date": 1630231092.0574417,
  "filename": "41_enhancingperformance.rst",
  "kernelspec": {
   "display_name": "Python 3 (ipykernel)",
   "language": "python",
   "name": "python3"
  },
  "language_info": {
   "codemirror_mode": {
    "name": "ipython",
    "version": 3
   },
   "file_extension": ".py",
   "mimetype": "text/x-python",
   "name": "python",
   "nbconvert_exporter": "python",
   "pygments_lexer": "ipython3",
   "version": "3.8.8"
  },
  "title": "Enhancing performance"
 },
 "nbformat": 4,
 "nbformat_minor": 5
}
