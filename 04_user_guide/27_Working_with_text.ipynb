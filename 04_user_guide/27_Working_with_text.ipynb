{
 "cells": [
  {
   "cell_type": "code",
   "execution_count": 28,
   "id": "7b9fd72f-668f-4833-ab52-b68ac532325d",
   "metadata": {},
   "outputs": [],
   "source": [
    "import numpy as np\n",
    "import pandas as pd"
   ]
  },
  {
   "cell_type": "markdown",
   "id": "859817fb",
   "metadata": {},
   "source": [
    "# Working with text data\n",
    "\n",
    "\n",
    "<a id='text-types'></a>"
   ]
  },
  {
   "cell_type": "markdown",
   "id": "2178b296",
   "metadata": {},
   "source": [
    "## Text data types\n",
    "\n",
    "New in version 1.0.0.\n",
    "\n",
    "There are two ways to store text data in pandas:\n",
    "\n",
    "1. `object` -dtype NumPy array.  \n",
    "1. `StringDtype` extension type.  \n",
    "\n",
    "\n",
    "We recommend using `StringDtype` to store text data.\n",
    "\n",
    "Prior to pandas 1.0, `object` dtype was the only option. This was unfortunate\n",
    "for many reasons:\n",
    "\n",
    "1. You can accidentally store a *mixture* of strings and non-strings in an\n",
    "  `object` dtype array. It’s better to have a dedicated dtype.  \n",
    "1. `object` dtype breaks dtype-specific operations like `DataFrame.select_dtypes()`.\n",
    "  There isn’t a clear way to select *just* text while excluding non-text\n",
    "  but still object-dtype columns.  \n",
    "1. When reading code, the contents of an `object` dtype array is less clear\n",
    "  than `'string'`.  \n",
    "\n",
    "\n",
    "Currently, the performance of `object` dtype arrays of strings and\n",
    "`arrays.StringArray` are about the same. We expect future enhancements\n",
    "to significantly increase the performance and lower the memory overhead of\n",
    "`StringArray`.\n",
    "\n",
    "`StringArray` is currently considered experimental. The implementation\n",
    "and parts of the API may change without warning.\n",
    "\n",
    "For backwards-compatibility, `object` dtype remains the default type we\n",
    "infer a list of strings to"
   ]
  },
  {
   "cell_type": "code",
   "execution_count": 29,
   "id": "49a368fc",
   "metadata": {
    "hide-output": false
   },
   "outputs": [
    {
     "data": {
      "text/plain": [
       "0    a\n",
       "1    b\n",
       "2    c\n",
       "dtype: object"
      ]
     },
     "execution_count": 29,
     "metadata": {},
     "output_type": "execute_result"
    }
   ],
   "source": [
    "pd.Series([\"a\", \"b\", \"c\"])"
   ]
  },
  {
   "cell_type": "markdown",
   "id": "d173d151",
   "metadata": {},
   "source": [
    "To explicitly request `string` dtype, specify the `dtype`"
   ]
  },
  {
   "cell_type": "code",
   "execution_count": 30,
   "id": "f901e6dd-088a-4f5a-87f3-b4a55e71a491",
   "metadata": {
    "hide-output": false
   },
   "outputs": [
    {
     "data": {
      "text/plain": [
       "0    a\n",
       "1    b\n",
       "2    c\n",
       "dtype: string"
      ]
     },
     "execution_count": 30,
     "metadata": {},
     "output_type": "execute_result"
    }
   ],
   "source": [
    "pd.Series([\"a\", \"b\", \"c\"], dtype=\"string\")"
   ]
  },
  {
   "cell_type": "code",
   "execution_count": 31,
   "id": "a62f8215-7837-43de-ac29-0e935f21ec1d",
   "metadata": {
    "hide-output": false
   },
   "outputs": [
    {
     "data": {
      "text/plain": [
       "0    a\n",
       "1    b\n",
       "2    c\n",
       "dtype: string"
      ]
     },
     "execution_count": 31,
     "metadata": {},
     "output_type": "execute_result"
    }
   ],
   "source": [
    "pd.Series([\"a\", \"b\", \"c\"], dtype=pd.StringDtype())"
   ]
  },
  {
   "cell_type": "markdown",
   "id": "41b98822",
   "metadata": {},
   "source": [
    "Or `astype` after the `Series` or `DataFrame` is created"
   ]
  },
  {
   "cell_type": "code",
   "execution_count": 32,
   "id": "89f2bb03-dc37-48af-97ba-3be26b9a56dd",
   "metadata": {
    "hide-output": false
   },
   "outputs": [
    {
     "data": {
      "text/plain": [
       "0    a\n",
       "1    b\n",
       "2    c\n",
       "dtype: object"
      ]
     },
     "execution_count": 32,
     "metadata": {},
     "output_type": "execute_result"
    }
   ],
   "source": [
    "s = pd.Series([\"a\", \"b\", \"c\"])\n",
    "s"
   ]
  },
  {
   "cell_type": "code",
   "execution_count": 33,
   "id": "7d1b2b60-c5f9-4e1f-9fe9-347f2b9fd2af",
   "metadata": {
    "hide-output": false
   },
   "outputs": [
    {
     "data": {
      "text/plain": [
       "0    a\n",
       "1    b\n",
       "2    c\n",
       "dtype: string"
      ]
     },
     "execution_count": 33,
     "metadata": {},
     "output_type": "execute_result"
    }
   ],
   "source": [
    "s.astype(\"string\")"
   ]
  },
  {
   "cell_type": "markdown",
   "id": "c0343e6f",
   "metadata": {},
   "source": [
    "Changed in version 1.1.0.\n",
    "\n",
    "You can also use `StringDtype`/`\"string\"` as the dtype on non-string data and\n",
    "it will be converted to `string` dtype:"
   ]
  },
  {
   "cell_type": "code",
   "execution_count": 34,
   "id": "ee41a5e3-ec98-4fbf-a800-dc5eb8856f14",
   "metadata": {
    "hide-output": false
   },
   "outputs": [
    {
     "data": {
      "text/plain": [
       "0       a\n",
       "1       2\n",
       "2    <NA>\n",
       "dtype: string"
      ]
     },
     "execution_count": 34,
     "metadata": {},
     "output_type": "execute_result"
    }
   ],
   "source": [
    "s = pd.Series([\"a\", 2, np.nan], dtype=\"string\")\n",
    "s"
   ]
  },
  {
   "cell_type": "code",
   "execution_count": 35,
   "id": "89d9bac8-4f40-454a-b040-79ecc5871b10",
   "metadata": {
    "hide-output": false
   },
   "outputs": [
    {
     "data": {
      "text/plain": [
       "str"
      ]
     },
     "execution_count": 35,
     "metadata": {},
     "output_type": "execute_result"
    }
   ],
   "source": [
    "type(s[1])"
   ]
  },
  {
   "cell_type": "markdown",
   "id": "28ad165e",
   "metadata": {},
   "source": [
    "or convert from existing pandas data:"
   ]
  },
  {
   "cell_type": "code",
   "execution_count": 36,
   "id": "e9504aa1-c897-49d2-870e-de810f3f33a7",
   "metadata": {
    "hide-output": false
   },
   "outputs": [
    {
     "data": {
      "text/plain": [
       "0       1\n",
       "1       2\n",
       "2    <NA>\n",
       "dtype: Int64"
      ]
     },
     "execution_count": 36,
     "metadata": {},
     "output_type": "execute_result"
    }
   ],
   "source": [
    "s1 = pd.Series([1, 2, np.nan], dtype=\"Int64\")\n",
    "s1"
   ]
  },
  {
   "cell_type": "code",
   "execution_count": 37,
   "id": "5128117b-9414-40f8-8cd9-d5f96ac0b71b",
   "metadata": {
    "hide-output": false
   },
   "outputs": [
    {
     "data": {
      "text/plain": [
       "0       1\n",
       "1       2\n",
       "2    <NA>\n",
       "dtype: string"
      ]
     },
     "execution_count": 37,
     "metadata": {},
     "output_type": "execute_result"
    }
   ],
   "source": [
    "s2 = s1.astype(\"string\")\n",
    "s2"
   ]
  },
  {
   "cell_type": "code",
   "execution_count": 38,
   "id": "93e42fe3-18a1-4682-b735-171d68833a07",
   "metadata": {
    "hide-output": false
   },
   "outputs": [
    {
     "data": {
      "text/plain": [
       "str"
      ]
     },
     "execution_count": 38,
     "metadata": {},
     "output_type": "execute_result"
    }
   ],
   "source": [
    "type(s2[0])"
   ]
  },
  {
   "cell_type": "markdown",
   "id": "7f7b6689",
   "metadata": {},
   "source": [
    "\n",
    "<a id='text-differences'></a>"
   ]
  },
  {
   "cell_type": "markdown",
   "id": "1d217ca4",
   "metadata": {},
   "source": [
    "### Behavior differences\n",
    "\n",
    "These are places where the behavior of `StringDtype` objects differ from\n",
    "`object` dtype\n",
    "\n",
    "1. For `StringDtype`, string accessor methods\n",
    "that return **numeric** output will always return a nullable integer dtype,\n",
    "rather than either int or float dtype, depending on the presence of NA values.\n",
    "Methods returning **boolean** output will return a nullable boolean dtype.  "
   ]
  },
  {
   "cell_type": "code",
   "execution_count": 39,
   "id": "7284ff74-6953-4b95-96bd-1a503b3f80e0",
   "metadata": {
    "hide-output": false
   },
   "outputs": [
    {
     "data": {
      "text/plain": [
       "0       a\n",
       "1    <NA>\n",
       "2       b\n",
       "dtype: string"
      ]
     },
     "execution_count": 39,
     "metadata": {},
     "output_type": "execute_result"
    }
   ],
   "source": [
    "s = pd.Series([\"a\", None, \"b\"], dtype=\"string\")\n",
    "s"
   ]
  },
  {
   "cell_type": "code",
   "execution_count": 40,
   "id": "017c946c-b3b3-4eac-a371-2491e5aa5fea",
   "metadata": {
    "hide-output": false
   },
   "outputs": [
    {
     "data": {
      "text/plain": [
       "0    1\n",
       "2    0\n",
       "dtype: Int64"
      ]
     },
     "execution_count": 40,
     "metadata": {},
     "output_type": "execute_result"
    }
   ],
   "source": [
    "s.str.count(\"a\")\n",
    "s.dropna().str.count(\"a\")"
   ]
  },
  {
   "cell_type": "markdown",
   "id": "72f662de",
   "metadata": {},
   "source": [
    "Both outputs are `Int64` dtype. Compare that with object-dtype  "
   ]
  },
  {
   "cell_type": "code",
   "execution_count": 41,
   "id": "162a7132-6f82-400b-b7b7-5bd9c128efa2",
   "metadata": {
    "hide-output": false
   },
   "outputs": [],
   "source": [
    "s2 = pd.Series([\"a\", None, \"b\"], dtype=\"object\")"
   ]
  },
  {
   "cell_type": "code",
   "execution_count": 42,
   "id": "1d6a3096-38c5-447f-b568-c455344c5ad7",
   "metadata": {
    "hide-output": false
   },
   "outputs": [
    {
     "data": {
      "text/plain": [
       "0    1.0\n",
       "1    NaN\n",
       "2    0.0\n",
       "dtype: float64"
      ]
     },
     "execution_count": 42,
     "metadata": {},
     "output_type": "execute_result"
    }
   ],
   "source": [
    "s2.str.count(\"a\")"
   ]
  },
  {
   "cell_type": "code",
   "execution_count": 43,
   "id": "0af69542-c89e-4fa9-a2ed-5f4f203c6e27",
   "metadata": {
    "hide-output": false
   },
   "outputs": [
    {
     "data": {
      "text/plain": [
       "0    1\n",
       "2    0\n",
       "dtype: int64"
      ]
     },
     "execution_count": 43,
     "metadata": {},
     "output_type": "execute_result"
    }
   ],
   "source": [
    "s2.dropna().str.count(\"a\")"
   ]
  },
  {
   "cell_type": "markdown",
   "id": "3c7bf2b5",
   "metadata": {},
   "source": [
    "When NA values are present, the output dtype is float64. Similarly for\n",
    "methods returning boolean values.  "
   ]
  },
  {
   "cell_type": "code",
   "execution_count": 44,
   "id": "7e142743-efe4-487a-abad-4f9589a52e46",
   "metadata": {
    "hide-output": false
   },
   "outputs": [
    {
     "data": {
      "text/plain": [
       "0    False\n",
       "1     <NA>\n",
       "2    False\n",
       "dtype: boolean"
      ]
     },
     "execution_count": 44,
     "metadata": {},
     "output_type": "execute_result"
    }
   ],
   "source": [
    "s.str.isdigit()"
   ]
  },
  {
   "cell_type": "code",
   "execution_count": 45,
   "id": "61815397-fffd-4926-8bf1-485603c418d1",
   "metadata": {
    "hide-output": false
   },
   "outputs": [
    {
     "data": {
      "text/plain": [
       "0     True\n",
       "1     <NA>\n",
       "2    False\n",
       "dtype: boolean"
      ]
     },
     "execution_count": 45,
     "metadata": {},
     "output_type": "execute_result"
    }
   ],
   "source": [
    "s.str.match(\"a\")"
   ]
  },
  {
   "cell_type": "markdown",
   "id": "ab4c05d9",
   "metadata": {},
   "source": [
    "\n",
    "\n",
    "1. Some string methods, like `Series.str.decode()` are not available\n",
    "  on `StringArray` because `StringArray` only holds strings, not\n",
    "  bytes.  \n",
    "1. In comparison operations, `arrays.StringArray` and `Series` backed\n",
    "  by a `StringArray` will return an object with `BooleanDtype`,\n",
    "  rather than a `bool` dtype object. Missing values in a `StringArray`\n",
    "  will propagate in comparison operations, rather than always comparing\n",
    "  unequal like `numpy.nan`.  \n",
    "\n",
    "\n",
    "Everything else that follows in the rest of this document applies equally to\n",
    "`string` and `object` dtype.\n",
    "\n",
    "\n",
    "<a id='text-string-methods'></a>"
   ]
  },
  {
   "cell_type": "markdown",
   "id": "83bb1a93",
   "metadata": {},
   "source": [
    "## String methods\n",
    "\n",
    "Series and Index are equipped with a set of string processing methods\n",
    "that make it easy to operate on each element of the array. Perhaps most\n",
    "importantly, these methods exclude missing/NA values automatically. These are\n",
    "accessed via the `str` attribute and generally have names matching\n",
    "the equivalent (scalar) built-in string methods:"
   ]
  },
  {
   "cell_type": "code",
   "execution_count": 46,
   "id": "eb77d1e2-8cb1-45f0-8a3d-5474ff56a5da",
   "metadata": {
    "hide-output": false
   },
   "outputs": [
    {
     "data": {
      "text/plain": [
       "0       a\n",
       "1       b\n",
       "2       c\n",
       "3    aaba\n",
       "4    baca\n",
       "5    <NA>\n",
       "6    caba\n",
       "7     dog\n",
       "8     cat\n",
       "dtype: string"
      ]
     },
     "execution_count": 46,
     "metadata": {},
     "output_type": "execute_result"
    }
   ],
   "source": [
    "s = pd.Series(\n",
    "    [\"A\", \"B\", \"C\", \"Aaba\", \"Baca\", np.nan, \"CABA\", \"dog\", \"cat\"], dtype=\"string\"\n",
    ")\n",
    "s.str.lower()"
   ]
  },
  {
   "cell_type": "code",
   "execution_count": 47,
   "id": "fe3b2a16-fc7d-4198-8a53-66b1a9fc1008",
   "metadata": {
    "hide-output": false
   },
   "outputs": [
    {
     "data": {
      "text/plain": [
       "0       A\n",
       "1       B\n",
       "2       C\n",
       "3    AABA\n",
       "4    BACA\n",
       "5    <NA>\n",
       "6    CABA\n",
       "7     DOG\n",
       "8     CAT\n",
       "dtype: string"
      ]
     },
     "execution_count": 47,
     "metadata": {},
     "output_type": "execute_result"
    }
   ],
   "source": [
    "s.str.upper()"
   ]
  },
  {
   "cell_type": "code",
   "execution_count": 48,
   "id": "c13baf70-1429-4d99-a463-fb9b5255f5cb",
   "metadata": {
    "hide-output": false
   },
   "outputs": [
    {
     "data": {
      "text/plain": [
       "0       1\n",
       "1       1\n",
       "2       1\n",
       "3       4\n",
       "4       4\n",
       "5    <NA>\n",
       "6       4\n",
       "7       3\n",
       "8       3\n",
       "dtype: Int64"
      ]
     },
     "execution_count": 48,
     "metadata": {},
     "output_type": "execute_result"
    }
   ],
   "source": [
    "s.str.len()"
   ]
  },
  {
   "cell_type": "code",
   "execution_count": 49,
   "id": "b94ad543-da9d-4ba7-ac01-65ae3a4adfe8",
   "metadata": {
    "hide-output": false
   },
   "outputs": [],
   "source": [
    "idx = pd.Index([\" jack\", \"jill \", \" jesse \", \"frank\"])"
   ]
  },
  {
   "cell_type": "code",
   "execution_count": 50,
   "id": "f6183cd5-8f7b-4362-b99a-737c9022a37b",
   "metadata": {
    "hide-output": false
   },
   "outputs": [
    {
     "data": {
      "text/plain": [
       "Index(['jack', 'jill', 'jesse', 'frank'], dtype='object')"
      ]
     },
     "execution_count": 50,
     "metadata": {},
     "output_type": "execute_result"
    }
   ],
   "source": [
    "idx.str.strip()"
   ]
  },
  {
   "cell_type": "code",
   "execution_count": 51,
   "id": "66e09088-206c-4534-b47e-1ca786e8a0b2",
   "metadata": {
    "hide-output": false
   },
   "outputs": [
    {
     "data": {
      "text/plain": [
       "Index(['jack', 'jill ', 'jesse ', 'frank'], dtype='object')"
      ]
     },
     "execution_count": 51,
     "metadata": {},
     "output_type": "execute_result"
    }
   ],
   "source": [
    "idx.str.lstrip()"
   ]
  },
  {
   "cell_type": "code",
   "execution_count": 52,
   "id": "8bc14d7b-2eeb-4153-8390-2398dbc80887",
   "metadata": {
    "hide-output": false
   },
   "outputs": [
    {
     "data": {
      "text/plain": [
       "Index([' jack', 'jill', ' jesse', 'frank'], dtype='object')"
      ]
     },
     "execution_count": 52,
     "metadata": {},
     "output_type": "execute_result"
    }
   ],
   "source": [
    "idx.str.rstrip()"
   ]
  },
  {
   "cell_type": "markdown",
   "id": "14ed975c",
   "metadata": {},
   "source": [
    "The string methods on Index are especially useful for cleaning up or\n",
    "transforming DataFrame columns. For instance, you may have columns with\n",
    "leading or trailing whitespace:"
   ]
  },
  {
   "cell_type": "code",
   "execution_count": 53,
   "id": "179c8021",
   "metadata": {
    "hide-output": false
   },
   "outputs": [
    {
     "data": {
      "text/html": [
       "<div>\n",
       "<style scoped>\n",
       "    .dataframe tbody tr th:only-of-type {\n",
       "        vertical-align: middle;\n",
       "    }\n",
       "\n",
       "    .dataframe tbody tr th {\n",
       "        vertical-align: top;\n",
       "    }\n",
       "\n",
       "    .dataframe thead th {\n",
       "        text-align: right;\n",
       "    }\n",
       "</style>\n",
       "<table border=\"1\" class=\"dataframe\">\n",
       "  <thead>\n",
       "    <tr style=\"text-align: right;\">\n",
       "      <th></th>\n",
       "      <th>Column A</th>\n",
       "      <th>Column B</th>\n",
       "    </tr>\n",
       "  </thead>\n",
       "  <tbody>\n",
       "    <tr>\n",
       "      <th>0</th>\n",
       "      <td>-0.918469</td>\n",
       "      <td>-0.693812</td>\n",
       "    </tr>\n",
       "    <tr>\n",
       "      <th>1</th>\n",
       "      <td>0.725888</td>\n",
       "      <td>0.671051</td>\n",
       "    </tr>\n",
       "    <tr>\n",
       "      <th>2</th>\n",
       "      <td>0.778211</td>\n",
       "      <td>0.051467</td>\n",
       "    </tr>\n",
       "  </tbody>\n",
       "</table>\n",
       "</div>"
      ],
      "text/plain": [
       "    Column A    Column B \n",
       "0   -0.918469   -0.693812\n",
       "1    0.725888    0.671051\n",
       "2    0.778211    0.051467"
      ]
     },
     "execution_count": 53,
     "metadata": {},
     "output_type": "execute_result"
    }
   ],
   "source": [
    "df = pd.DataFrame(\n",
    "    np.random.randn(3, 2), columns=[\" Column A \", \" Column B \"], index=range(3)\n",
    ")\n",
    "df"
   ]
  },
  {
   "cell_type": "markdown",
   "id": "70101726",
   "metadata": {},
   "source": [
    "Since `df.columns` is an Index object, we can use the `.str` accessor"
   ]
  },
  {
   "cell_type": "code",
   "execution_count": 54,
   "id": "2c34d863-bdc8-44ef-a71f-5ebec9b69359",
   "metadata": {
    "hide-output": false
   },
   "outputs": [
    {
     "data": {
      "text/plain": [
       "Index(['Column A', 'Column B'], dtype='object')"
      ]
     },
     "execution_count": 54,
     "metadata": {},
     "output_type": "execute_result"
    }
   ],
   "source": [
    "df.columns.str.strip()"
   ]
  },
  {
   "cell_type": "code",
   "execution_count": 55,
   "id": "da3dd46c-81cc-4518-88a0-59609bfd57bd",
   "metadata": {
    "hide-output": false
   },
   "outputs": [
    {
     "data": {
      "text/plain": [
       "Index([' column a ', ' column b '], dtype='object')"
      ]
     },
     "execution_count": 55,
     "metadata": {},
     "output_type": "execute_result"
    }
   ],
   "source": [
    "df.columns.str.lower()"
   ]
  },
  {
   "cell_type": "markdown",
   "id": "512639da",
   "metadata": {},
   "source": [
    "These string methods can then be used to clean up the columns as needed.\n",
    "Here we are removing leading and trailing whitespaces, lower casing all names,\n",
    "and replacing any remaining whitespaces with underscores:"
   ]
  },
  {
   "cell_type": "code",
   "execution_count": 56,
   "id": "ef75207e",
   "metadata": {
    "hide-output": false
   },
   "outputs": [
    {
     "data": {
      "text/html": [
       "<div>\n",
       "<style scoped>\n",
       "    .dataframe tbody tr th:only-of-type {\n",
       "        vertical-align: middle;\n",
       "    }\n",
       "\n",
       "    .dataframe tbody tr th {\n",
       "        vertical-align: top;\n",
       "    }\n",
       "\n",
       "    .dataframe thead th {\n",
       "        text-align: right;\n",
       "    }\n",
       "</style>\n",
       "<table border=\"1\" class=\"dataframe\">\n",
       "  <thead>\n",
       "    <tr style=\"text-align: right;\">\n",
       "      <th></th>\n",
       "      <th>column_a</th>\n",
       "      <th>column_b</th>\n",
       "    </tr>\n",
       "  </thead>\n",
       "  <tbody>\n",
       "    <tr>\n",
       "      <th>0</th>\n",
       "      <td>-0.918469</td>\n",
       "      <td>-0.693812</td>\n",
       "    </tr>\n",
       "    <tr>\n",
       "      <th>1</th>\n",
       "      <td>0.725888</td>\n",
       "      <td>0.671051</td>\n",
       "    </tr>\n",
       "    <tr>\n",
       "      <th>2</th>\n",
       "      <td>0.778211</td>\n",
       "      <td>0.051467</td>\n",
       "    </tr>\n",
       "  </tbody>\n",
       "</table>\n",
       "</div>"
      ],
      "text/plain": [
       "   column_a  column_b\n",
       "0 -0.918469 -0.693812\n",
       "1  0.725888  0.671051\n",
       "2  0.778211  0.051467"
      ]
     },
     "execution_count": 56,
     "metadata": {},
     "output_type": "execute_result"
    }
   ],
   "source": [
    "df.columns = df.columns.str.strip().str.lower().str.replace(\" \", \"_\")\n",
    "df"
   ]
  },
  {
   "cell_type": "markdown",
   "id": "49992376",
   "metadata": {},
   "source": [
    ">**Note**\n",
    ">\n",
    ">If you have a `Series` where lots of elements are repeated\n",
    "(i.e. the number of unique elements in the `Series` is a lot smaller than the length of the\n",
    "`Series`), it can be faster to convert the original `Series` to one of type\n",
    "`category` and then use `.str.<method>` or `.dt.<property>` on that.\n",
    "The performance difference comes from the fact that, for `Series` of type `category`, the\n",
    "string operations are done on the `.categories` and not on each element of the\n",
    "`Series`.\n",
    "\n",
    "Please note that a `Series` of type `category` with string `.categories` has\n",
    "some limitations in comparison to `Series` of type string (e.g. you can’t add strings to\n",
    "each other: `s + \" \" + s` won’t work if `s` is a `Series` of type `category`). Also,\n",
    "`.str` methods which operate on elements of type `list` are not available on such a\n",
    "`Series`.\n",
    "\n",
    "\n",
    "<a id='text-warn-types'></a>\n",
    "Before v.0.25.0, the `.str`-accessor did only the most rudimentary type checks. Starting with\n",
    "v.0.25.0, the type of the Series is inferred and the allowed types (i.e. strings) are enforced more rigorously.\n",
    "\n",
    "Generally speaking, the `.str` accessor is intended to work only on strings. With very few\n",
    "exceptions, other uses are not supported, and may be disabled at a later point.\n",
    "\n",
    "\n",
    "<a id='text-split'></a>"
   ]
  },
  {
   "cell_type": "markdown",
   "id": "93f0c66f",
   "metadata": {},
   "source": [
    "## Splitting and replacing strings\n",
    "\n",
    "Methods like `split` return a Series of lists:"
   ]
  },
  {
   "cell_type": "code",
   "execution_count": 57,
   "id": "bc4c74a3",
   "metadata": {
    "hide-output": false
   },
   "outputs": [
    {
     "data": {
      "text/plain": [
       "0    [a, b, c]\n",
       "1    [c, d, e]\n",
       "2         <NA>\n",
       "3    [f, g, h]\n",
       "dtype: object"
      ]
     },
     "execution_count": 57,
     "metadata": {},
     "output_type": "execute_result"
    }
   ],
   "source": [
    "s2 = pd.Series([\"a_b_c\", \"c_d_e\", np.nan, \"f_g_h\"], dtype=\"string\")\n",
    "s2.str.split(\"_\")"
   ]
  },
  {
   "cell_type": "markdown",
   "id": "c2993f77",
   "metadata": {},
   "source": [
    "Elements in the split lists can be accessed using `get` or `[]` notation:"
   ]
  },
  {
   "cell_type": "code",
   "execution_count": 58,
   "id": "3ac72336-b7d9-491e-81da-a33dc3aa8a80",
   "metadata": {
    "hide-output": false
   },
   "outputs": [
    {
     "data": {
      "text/plain": [
       "0       b\n",
       "1       d\n",
       "2    <NA>\n",
       "3       g\n",
       "dtype: object"
      ]
     },
     "execution_count": 58,
     "metadata": {},
     "output_type": "execute_result"
    }
   ],
   "source": [
    "s2.str.split(\"_\").str.get(1)"
   ]
  },
  {
   "cell_type": "code",
   "execution_count": 59,
   "id": "59a25521-f740-46f4-99c4-8a6d5c825077",
   "metadata": {
    "hide-output": false
   },
   "outputs": [
    {
     "data": {
      "text/plain": [
       "0       b\n",
       "1       d\n",
       "2    <NA>\n",
       "3       g\n",
       "dtype: object"
      ]
     },
     "execution_count": 59,
     "metadata": {},
     "output_type": "execute_result"
    }
   ],
   "source": [
    "s2.str.split(\"_\").str[1]"
   ]
  },
  {
   "cell_type": "markdown",
   "id": "806dc3c4",
   "metadata": {},
   "source": [
    "It is easy to expand this to return a DataFrame using `expand`."
   ]
  },
  {
   "cell_type": "code",
   "execution_count": 60,
   "id": "9817432b",
   "metadata": {
    "hide-output": false
   },
   "outputs": [
    {
     "data": {
      "text/html": [
       "<div>\n",
       "<style scoped>\n",
       "    .dataframe tbody tr th:only-of-type {\n",
       "        vertical-align: middle;\n",
       "    }\n",
       "\n",
       "    .dataframe tbody tr th {\n",
       "        vertical-align: top;\n",
       "    }\n",
       "\n",
       "    .dataframe thead th {\n",
       "        text-align: right;\n",
       "    }\n",
       "</style>\n",
       "<table border=\"1\" class=\"dataframe\">\n",
       "  <thead>\n",
       "    <tr style=\"text-align: right;\">\n",
       "      <th></th>\n",
       "      <th>0</th>\n",
       "      <th>1</th>\n",
       "      <th>2</th>\n",
       "    </tr>\n",
       "  </thead>\n",
       "  <tbody>\n",
       "    <tr>\n",
       "      <th>0</th>\n",
       "      <td>a</td>\n",
       "      <td>b</td>\n",
       "      <td>c</td>\n",
       "    </tr>\n",
       "    <tr>\n",
       "      <th>1</th>\n",
       "      <td>c</td>\n",
       "      <td>d</td>\n",
       "      <td>e</td>\n",
       "    </tr>\n",
       "    <tr>\n",
       "      <th>2</th>\n",
       "      <td>&lt;NA&gt;</td>\n",
       "      <td>&lt;NA&gt;</td>\n",
       "      <td>&lt;NA&gt;</td>\n",
       "    </tr>\n",
       "    <tr>\n",
       "      <th>3</th>\n",
       "      <td>f</td>\n",
       "      <td>g</td>\n",
       "      <td>h</td>\n",
       "    </tr>\n",
       "  </tbody>\n",
       "</table>\n",
       "</div>"
      ],
      "text/plain": [
       "      0     1     2\n",
       "0     a     b     c\n",
       "1     c     d     e\n",
       "2  <NA>  <NA>  <NA>\n",
       "3     f     g     h"
      ]
     },
     "execution_count": 60,
     "metadata": {},
     "output_type": "execute_result"
    }
   ],
   "source": [
    "s2.str.split(\"_\", expand=True)"
   ]
  },
  {
   "cell_type": "markdown",
   "id": "820d7b6b",
   "metadata": {},
   "source": [
    "When original `Series` has `StringDtype`, the output columns will all\n",
    "be `StringDtype` as well.\n",
    "\n",
    "It is also possible to limit the number of splits:"
   ]
  },
  {
   "cell_type": "code",
   "execution_count": 61,
   "id": "d5321305",
   "metadata": {
    "hide-output": false
   },
   "outputs": [
    {
     "data": {
      "text/html": [
       "<div>\n",
       "<style scoped>\n",
       "    .dataframe tbody tr th:only-of-type {\n",
       "        vertical-align: middle;\n",
       "    }\n",
       "\n",
       "    .dataframe tbody tr th {\n",
       "        vertical-align: top;\n",
       "    }\n",
       "\n",
       "    .dataframe thead th {\n",
       "        text-align: right;\n",
       "    }\n",
       "</style>\n",
       "<table border=\"1\" class=\"dataframe\">\n",
       "  <thead>\n",
       "    <tr style=\"text-align: right;\">\n",
       "      <th></th>\n",
       "      <th>0</th>\n",
       "      <th>1</th>\n",
       "    </tr>\n",
       "  </thead>\n",
       "  <tbody>\n",
       "    <tr>\n",
       "      <th>0</th>\n",
       "      <td>a</td>\n",
       "      <td>b_c</td>\n",
       "    </tr>\n",
       "    <tr>\n",
       "      <th>1</th>\n",
       "      <td>c</td>\n",
       "      <td>d_e</td>\n",
       "    </tr>\n",
       "    <tr>\n",
       "      <th>2</th>\n",
       "      <td>&lt;NA&gt;</td>\n",
       "      <td>&lt;NA&gt;</td>\n",
       "    </tr>\n",
       "    <tr>\n",
       "      <th>3</th>\n",
       "      <td>f</td>\n",
       "      <td>g_h</td>\n",
       "    </tr>\n",
       "  </tbody>\n",
       "</table>\n",
       "</div>"
      ],
      "text/plain": [
       "      0     1\n",
       "0     a   b_c\n",
       "1     c   d_e\n",
       "2  <NA>  <NA>\n",
       "3     f   g_h"
      ]
     },
     "execution_count": 61,
     "metadata": {},
     "output_type": "execute_result"
    }
   ],
   "source": [
    "s2.str.split(\"_\", expand=True, n=1)"
   ]
  },
  {
   "cell_type": "markdown",
   "id": "984d807b",
   "metadata": {},
   "source": [
    "`rsplit` is similar to `split` except it works in the reverse direction,\n",
    "i.e., from the end of the string to the beginning of the string:"
   ]
  },
  {
   "cell_type": "code",
   "execution_count": 62,
   "id": "0368984f",
   "metadata": {
    "hide-output": false
   },
   "outputs": [
    {
     "data": {
      "text/html": [
       "<div>\n",
       "<style scoped>\n",
       "    .dataframe tbody tr th:only-of-type {\n",
       "        vertical-align: middle;\n",
       "    }\n",
       "\n",
       "    .dataframe tbody tr th {\n",
       "        vertical-align: top;\n",
       "    }\n",
       "\n",
       "    .dataframe thead th {\n",
       "        text-align: right;\n",
       "    }\n",
       "</style>\n",
       "<table border=\"1\" class=\"dataframe\">\n",
       "  <thead>\n",
       "    <tr style=\"text-align: right;\">\n",
       "      <th></th>\n",
       "      <th>0</th>\n",
       "      <th>1</th>\n",
       "    </tr>\n",
       "  </thead>\n",
       "  <tbody>\n",
       "    <tr>\n",
       "      <th>0</th>\n",
       "      <td>a_b</td>\n",
       "      <td>c</td>\n",
       "    </tr>\n",
       "    <tr>\n",
       "      <th>1</th>\n",
       "      <td>c_d</td>\n",
       "      <td>e</td>\n",
       "    </tr>\n",
       "    <tr>\n",
       "      <th>2</th>\n",
       "      <td>&lt;NA&gt;</td>\n",
       "      <td>&lt;NA&gt;</td>\n",
       "    </tr>\n",
       "    <tr>\n",
       "      <th>3</th>\n",
       "      <td>f_g</td>\n",
       "      <td>h</td>\n",
       "    </tr>\n",
       "  </tbody>\n",
       "</table>\n",
       "</div>"
      ],
      "text/plain": [
       "      0     1\n",
       "0   a_b     c\n",
       "1   c_d     e\n",
       "2  <NA>  <NA>\n",
       "3   f_g     h"
      ]
     },
     "execution_count": 62,
     "metadata": {},
     "output_type": "execute_result"
    }
   ],
   "source": [
    "s2.str.rsplit(\"_\", expand=True, n=1)"
   ]
  },
  {
   "cell_type": "markdown",
   "id": "9f93bdff",
   "metadata": {},
   "source": [
    "`replace` optionally uses [regular expressions](https://docs.python.org/3/library/re.html):"
   ]
  },
  {
   "cell_type": "code",
   "execution_count": 63,
   "id": "6e80aa85-6b68-44c8-bd0e-01fbc9d34fcc",
   "metadata": {
    "hide-output": false
   },
   "outputs": [
    {
     "data": {
      "text/plain": [
       "0       A\n",
       "1       B\n",
       "2       C\n",
       "3    Aaba\n",
       "4    Baca\n",
       "5        \n",
       "6    <NA>\n",
       "7    CABA\n",
       "8     dog\n",
       "9     cat\n",
       "dtype: string"
      ]
     },
     "execution_count": 63,
     "metadata": {},
     "output_type": "execute_result"
    }
   ],
   "source": [
    "s3 = pd.Series(\n",
    "    [\"A\", \"B\", \"C\", \"Aaba\", \"Baca\", \"\", np.nan, \"CABA\", \"dog\", \"cat\"],\n",
    "    dtype=\"string\",\n",
    ")\n",
    "s3"
   ]
  },
  {
   "cell_type": "code",
   "execution_count": 64,
   "id": "2e9b507d-8167-4e47-a9d3-c3a83433690c",
   "metadata": {
    "hide-output": false
   },
   "outputs": [
    {
     "data": {
      "text/plain": [
       "0           A\n",
       "1           B\n",
       "2           C\n",
       "3    XX-XX ba\n",
       "4    XX-XX ca\n",
       "5            \n",
       "6        <NA>\n",
       "7    XX-XX BA\n",
       "8      XX-XX \n",
       "9     XX-XX t\n",
       "dtype: string"
      ]
     },
     "execution_count": 64,
     "metadata": {},
     "output_type": "execute_result"
    }
   ],
   "source": [
    "s3.str.replace(\"^.a|dog\", \"XX-XX \", case=False, regex=True)"
   ]
  },
  {
   "cell_type": "markdown",
   "id": "3589daf6",
   "metadata": {},
   "source": [
    "Some caution must be taken when dealing with regular expressions! The current behavior\n",
    "is to treat single character patterns as literal strings, even when `regex` is set\n",
    "to `True`. This behavior is deprecated and will be removed in a future version so\n",
    "that the `regex` keyword is always respected.\n",
    "\n",
    "Changed in version 1.2.0.\n",
    "\n",
    "If you want literal replacement of a string (equivalent to `str.replace()`), you\n",
    "can set the optional `regex` parameter to `False`, rather than escaping each\n",
    "character. In this case both `pat` and `repl` must be strings:"
   ]
  },
  {
   "cell_type": "code",
   "execution_count": 65,
   "id": "72ab3807-e9c0-4eac-bb1a-9441e19efd70",
   "metadata": {
    "hide-output": false
   },
   "outputs": [
    {
     "data": {
      "text/plain": [
       "0         12\n",
       "1        -10\n",
       "2    $10,000\n",
       "dtype: string"
      ]
     },
     "execution_count": 65,
     "metadata": {},
     "output_type": "execute_result"
    }
   ],
   "source": [
    "dollars = pd.Series([\"12\", \"-$10\", \"$10,000\"], dtype=\"string\")\n",
    "\n",
    "# These lines are equivalent\n",
    "dollars.str.replace(r\"-\\$\", \"-\", regex=True)"
   ]
  },
  {
   "cell_type": "code",
   "execution_count": 66,
   "id": "b7a05883-87ab-4924-9b18-89bb7ed4c20a",
   "metadata": {
    "hide-output": false
   },
   "outputs": [
    {
     "data": {
      "text/plain": [
       "0         12\n",
       "1        -10\n",
       "2    $10,000\n",
       "dtype: string"
      ]
     },
     "execution_count": 66,
     "metadata": {},
     "output_type": "execute_result"
    }
   ],
   "source": [
    "dollars.str.replace(\"-$\", \"-\", regex=False)"
   ]
  },
  {
   "cell_type": "markdown",
   "id": "a1975b96",
   "metadata": {},
   "source": [
    "The `replace` method can also take a callable as replacement. It is called\n",
    "on every `pat` using `re.sub()`. The callable should expect one\n",
    "positional argument (a regex object) and return a string."
   ]
  },
  {
   "cell_type": "code",
   "execution_count": 67,
   "id": "7adff368-d7e8-47b3-b7c7-6e3cbf282741",
   "metadata": {
    "hide-output": false
   },
   "outputs": [
    {
     "data": {
      "text/plain": [
       "0    oof 123\n",
       "1    rab zab\n",
       "2       <NA>\n",
       "dtype: string"
      ]
     },
     "execution_count": 67,
     "metadata": {},
     "output_type": "execute_result"
    }
   ],
   "source": [
    "# Reverse every lowercase alphabetic word\n",
    "pat = r\"[a-z]+\"\n",
    "\n",
    "def repl(m):\n",
    "    return m.group(0)[::-1]\n",
    "\n",
    "pd.Series([\"foo 123\", \"bar baz\", np.nan], dtype=\"string\").str.replace(\n",
    "    pat, repl, regex=True\n",
    ")"
   ]
  },
  {
   "cell_type": "code",
   "execution_count": 68,
   "id": "f3a76e27-40fd-4158-937a-277c3f2e3d72",
   "metadata": {
    "hide-output": false
   },
   "outputs": [
    {
     "data": {
      "text/plain": [
       "0     bAR\n",
       "1    <NA>\n",
       "dtype: string"
      ]
     },
     "execution_count": 68,
     "metadata": {},
     "output_type": "execute_result"
    }
   ],
   "source": [
    "# Using regex groups\n",
    "pat = r\"(?P<one>\\w+) (?P<two>\\w+) (?P<three>\\w+)\"\n",
    "\n",
    "def repl(m):\n",
    "    return m.group(\"two\").swapcase()\n",
    "\n",
    "pd.Series([\"Foo Bar Baz\", np.nan], dtype=\"string\").str.replace(\n",
    "    pat, repl, regex=True\n",
    ")"
   ]
  },
  {
   "cell_type": "markdown",
   "id": "6011be8b",
   "metadata": {},
   "source": [
    "The `replace` method also accepts a compiled regular expression object\n",
    "from `re.compile()` as a pattern. All flags should be included in the\n",
    "compiled regular expression object."
   ]
  },
  {
   "cell_type": "code",
   "execution_count": 69,
   "id": "34ced616",
   "metadata": {
    "hide-output": false
   },
   "outputs": [
    {
     "data": {
      "text/plain": [
       "0           A\n",
       "1           B\n",
       "2           C\n",
       "3    XX-XX ba\n",
       "4    XX-XX ca\n",
       "5            \n",
       "6        <NA>\n",
       "7    XX-XX BA\n",
       "8      XX-XX \n",
       "9     XX-XX t\n",
       "dtype: string"
      ]
     },
     "execution_count": 69,
     "metadata": {},
     "output_type": "execute_result"
    }
   ],
   "source": [
    "import re\n",
    "\n",
    "regex_pat = re.compile(r\"^.a|dog\", flags=re.IGNORECASE)\n",
    "s3.str.replace(regex_pat, \"XX-XX \", regex=True)"
   ]
  },
  {
   "cell_type": "markdown",
   "id": "ae406994",
   "metadata": {},
   "source": [
    "Including a `flags` argument when calling `replace` with a compiled\n",
    "regular expression object will raise a `ValueError`."
   ]
  },
  {
   "cell_type": "markdown",
   "id": "23cb272f-f3ef-4298-8c73-5fafd465c969",
   "metadata": {
    "hide-output": false
   },
   "source": [
    "```  Python\n",
    "\n",
    "In [1]: s3.str.replace(regex_pat, 'XX-XX ', flags=re.IGNORECASE)\n",
    "---------------------------------------------------------------------------\n",
    "ValueError: case and flags cannot be set when pat is a compiled regex\n",
    "```    "
   ]
  },
  {
   "cell_type": "markdown",
   "id": "ba5894b4",
   "metadata": {},
   "source": [
    "\n",
    "<a id='text-concatenate'></a>"
   ]
  },
  {
   "cell_type": "markdown",
   "id": "bb40fcaf",
   "metadata": {},
   "source": [
    "## Concatenation\n",
    "\n",
    "There are several ways to concatenate a `Series` or `Index`, either with itself or others, all based on `cat()`,\n",
    "resp. `Index.str.cat`."
   ]
  },
  {
   "cell_type": "markdown",
   "id": "a6d2102a",
   "metadata": {},
   "source": [
    "### Concatenating a single Series into a string\n",
    "\n",
    "The content of a `Series` (or `Index`) can be concatenated:"
   ]
  },
  {
   "cell_type": "code",
   "execution_count": 70,
   "id": "f3c4c4e8",
   "metadata": {
    "hide-output": false
   },
   "outputs": [
    {
     "data": {
      "text/plain": [
       "'a,b,c,d'"
      ]
     },
     "execution_count": 70,
     "metadata": {},
     "output_type": "execute_result"
    }
   ],
   "source": [
    "s = pd.Series([\"a\", \"b\", \"c\", \"d\"], dtype=\"string\")\n",
    "s.str.cat(sep=\",\")"
   ]
  },
  {
   "cell_type": "markdown",
   "id": "6a93c853",
   "metadata": {},
   "source": [
    "If not specified, the keyword `sep` for the separator defaults to the empty string, `sep=''`:"
   ]
  },
  {
   "cell_type": "code",
   "execution_count": 71,
   "id": "62bd1723",
   "metadata": {
    "hide-output": false
   },
   "outputs": [
    {
     "data": {
      "text/plain": [
       "'abcd'"
      ]
     },
     "execution_count": 71,
     "metadata": {},
     "output_type": "execute_result"
    }
   ],
   "source": [
    "s.str.cat()"
   ]
  },
  {
   "cell_type": "markdown",
   "id": "bdb702e7",
   "metadata": {},
   "source": [
    "By default, missing values are ignored. Using `na_rep`, they can be given a representation:"
   ]
  },
  {
   "cell_type": "code",
   "execution_count": 72,
   "id": "54bcd7bc-9e74-49f2-8e66-9c20881ccd01",
   "metadata": {
    "hide-output": false
   },
   "outputs": [
    {
     "data": {
      "text/plain": [
       "'a,b,d'"
      ]
     },
     "execution_count": 72,
     "metadata": {},
     "output_type": "execute_result"
    }
   ],
   "source": [
    "t = pd.Series([\"a\", \"b\", np.nan, \"d\"], dtype=\"string\")\n",
    "t.str.cat(sep=\",\")"
   ]
  },
  {
   "cell_type": "code",
   "execution_count": 73,
   "id": "1c21f377-1d4b-4eec-8f3b-bb44ce8921b4",
   "metadata": {
    "hide-output": false
   },
   "outputs": [
    {
     "data": {
      "text/plain": [
       "'a,b,-,d'"
      ]
     },
     "execution_count": 73,
     "metadata": {},
     "output_type": "execute_result"
    }
   ],
   "source": [
    "t.str.cat(sep=\",\", na_rep=\"-\")"
   ]
  },
  {
   "cell_type": "markdown",
   "id": "d7f2aa55",
   "metadata": {},
   "source": [
    "### Concatenating a Series and something list-like into a Series\n",
    "\n",
    "The first argument to `cat()` can be a list-like object, provided that it matches the length of the calling `Series` (or `Index`)."
   ]
  },
  {
   "cell_type": "code",
   "execution_count": 74,
   "id": "0c261f7d",
   "metadata": {
    "hide-output": false
   },
   "outputs": [
    {
     "data": {
      "text/plain": [
       "0    aA\n",
       "1    bB\n",
       "2    cC\n",
       "3    dD\n",
       "dtype: string"
      ]
     },
     "execution_count": 74,
     "metadata": {},
     "output_type": "execute_result"
    }
   ],
   "source": [
    "s.str.cat([\"A\", \"B\", \"C\", \"D\"])"
   ]
  },
  {
   "cell_type": "markdown",
   "id": "f09dc731",
   "metadata": {},
   "source": [
    "Missing values on either side will result in missing values in the result as well, *unless* `na_rep` is specified:"
   ]
  },
  {
   "cell_type": "code",
   "execution_count": 75,
   "id": "9d6aa420-44b2-48a2-a5db-a6513b02569c",
   "metadata": {
    "hide-output": false
   },
   "outputs": [
    {
     "data": {
      "text/plain": [
       "0      aa\n",
       "1      bb\n",
       "2    <NA>\n",
       "3      dd\n",
       "dtype: string"
      ]
     },
     "execution_count": 75,
     "metadata": {},
     "output_type": "execute_result"
    }
   ],
   "source": [
    "s.str.cat(t)"
   ]
  },
  {
   "cell_type": "code",
   "execution_count": 76,
   "id": "89aedd7f-3d6d-4308-9707-0e9098be43f6",
   "metadata": {
    "hide-output": false
   },
   "outputs": [
    {
     "data": {
      "text/plain": [
       "0    aa\n",
       "1    bb\n",
       "2    c-\n",
       "3    dd\n",
       "dtype: string"
      ]
     },
     "execution_count": 76,
     "metadata": {},
     "output_type": "execute_result"
    }
   ],
   "source": [
    "s.str.cat(t, na_rep=\"-\")"
   ]
  },
  {
   "cell_type": "markdown",
   "id": "10071862",
   "metadata": {},
   "source": [
    "### Concatenating a Series and something array-like into a Series\n",
    "\n",
    "The parameter `others` can also be two-dimensional. In this case, the number or rows must match the lengths of the calling `Series` (or `Index`)."
   ]
  },
  {
   "cell_type": "code",
   "execution_count": 77,
   "id": "20c6af33-7448-4ad2-b413-2e5936334bb4",
   "metadata": {
    "hide-output": false
   },
   "outputs": [
    {
     "data": {
      "text/plain": [
       "0    a\n",
       "1    b\n",
       "2    c\n",
       "3    d\n",
       "dtype: string"
      ]
     },
     "execution_count": 77,
     "metadata": {},
     "output_type": "execute_result"
    }
   ],
   "source": [
    "d = pd.concat([t, s], axis=1)\n",
    "s"
   ]
  },
  {
   "cell_type": "code",
   "execution_count": 78,
   "id": "338949d1-b8f8-40a8-821a-d7d97ac031e7",
   "metadata": {
    "hide-output": false
   },
   "outputs": [
    {
     "data": {
      "text/html": [
       "<div>\n",
       "<style scoped>\n",
       "    .dataframe tbody tr th:only-of-type {\n",
       "        vertical-align: middle;\n",
       "    }\n",
       "\n",
       "    .dataframe tbody tr th {\n",
       "        vertical-align: top;\n",
       "    }\n",
       "\n",
       "    .dataframe thead th {\n",
       "        text-align: right;\n",
       "    }\n",
       "</style>\n",
       "<table border=\"1\" class=\"dataframe\">\n",
       "  <thead>\n",
       "    <tr style=\"text-align: right;\">\n",
       "      <th></th>\n",
       "      <th>0</th>\n",
       "      <th>1</th>\n",
       "    </tr>\n",
       "  </thead>\n",
       "  <tbody>\n",
       "    <tr>\n",
       "      <th>0</th>\n",
       "      <td>a</td>\n",
       "      <td>a</td>\n",
       "    </tr>\n",
       "    <tr>\n",
       "      <th>1</th>\n",
       "      <td>b</td>\n",
       "      <td>b</td>\n",
       "    </tr>\n",
       "    <tr>\n",
       "      <th>2</th>\n",
       "      <td>&lt;NA&gt;</td>\n",
       "      <td>c</td>\n",
       "    </tr>\n",
       "    <tr>\n",
       "      <th>3</th>\n",
       "      <td>d</td>\n",
       "      <td>d</td>\n",
       "    </tr>\n",
       "  </tbody>\n",
       "</table>\n",
       "</div>"
      ],
      "text/plain": [
       "      0  1\n",
       "0     a  a\n",
       "1     b  b\n",
       "2  <NA>  c\n",
       "3     d  d"
      ]
     },
     "execution_count": 78,
     "metadata": {},
     "output_type": "execute_result"
    }
   ],
   "source": [
    "d"
   ]
  },
  {
   "cell_type": "code",
   "execution_count": 79,
   "id": "c3067737-3cae-470b-b745-9fed913bccfb",
   "metadata": {
    "hide-output": false
   },
   "outputs": [
    {
     "data": {
      "text/plain": [
       "0    aaa\n",
       "1    bbb\n",
       "2    c-c\n",
       "3    ddd\n",
       "dtype: string"
      ]
     },
     "execution_count": 79,
     "metadata": {},
     "output_type": "execute_result"
    }
   ],
   "source": [
    "s.str.cat(d, na_rep=\"-\")"
   ]
  },
  {
   "cell_type": "markdown",
   "id": "cee6bfc7",
   "metadata": {},
   "source": [
    "### Concatenating a Series and an indexed object into a Series, with alignment\n",
    "\n",
    "For concatenation with a `Series` or `DataFrame`, it is possible to align the indexes before concatenation by setting\n",
    "the `join`-keyword."
   ]
  },
  {
   "cell_type": "code",
   "execution_count": 80,
   "id": "c031a544-e13f-424c-93d1-b5b320385685",
   "metadata": {
    "hide-output": false
   },
   "outputs": [
    {
     "data": {
      "text/plain": [
       "0    a\n",
       "1    b\n",
       "2    c\n",
       "3    d\n",
       "dtype: string"
      ]
     },
     "execution_count": 80,
     "metadata": {},
     "output_type": "execute_result"
    }
   ],
   "source": [
    "u = pd.Series([\"b\", \"d\", \"a\", \"c\"], index=[1, 3, 0, 2], dtype=\"string\")\n",
    "s"
   ]
  },
  {
   "cell_type": "code",
   "execution_count": 81,
   "id": "b0d5afab-fda0-469d-ba72-a77ee32f633d",
   "metadata": {
    "hide-output": false
   },
   "outputs": [
    {
     "data": {
      "text/plain": [
       "1    b\n",
       "3    d\n",
       "0    a\n",
       "2    c\n",
       "dtype: string"
      ]
     },
     "execution_count": 81,
     "metadata": {},
     "output_type": "execute_result"
    }
   ],
   "source": [
    "u"
   ]
  },
  {
   "cell_type": "code",
   "execution_count": 82,
   "id": "5400ee40-6b83-4e85-890e-f021fdc57bb8",
   "metadata": {
    "hide-output": false
   },
   "outputs": [
    {
     "data": {
      "text/plain": [
       "0    aa\n",
       "1    bb\n",
       "2    cc\n",
       "3    dd\n",
       "dtype: string"
      ]
     },
     "execution_count": 82,
     "metadata": {},
     "output_type": "execute_result"
    }
   ],
   "source": [
    "s.str.cat(u)"
   ]
  },
  {
   "cell_type": "code",
   "execution_count": 83,
   "id": "d7385285-ece2-4417-93dc-27e41b60bdf4",
   "metadata": {
    "hide-output": false
   },
   "outputs": [
    {
     "data": {
      "text/plain": [
       "0    aa\n",
       "1    bb\n",
       "2    cc\n",
       "3    dd\n",
       "dtype: string"
      ]
     },
     "execution_count": 83,
     "metadata": {},
     "output_type": "execute_result"
    }
   ],
   "source": [
    "s.str.cat(u, join=\"left\")"
   ]
  },
  {
   "cell_type": "markdown",
   "id": "01d6e34a",
   "metadata": {},
   "source": [
    "If the `join` keyword is not passed, the method `cat()` will currently fall back to the behavior before version 0.23.0 (i.e. no alignment),\n",
    "but a `FutureWarning` will be raised if any of the involved indexes differ, since this default will change to `join='left'` in a future version.\n",
    "\n",
    "The usual options are available for `join` (one of `'left', 'outer', 'inner', 'right'`).\n",
    "In particular, alignment also means that the different lengths do not need to coincide anymore."
   ]
  },
  {
   "cell_type": "code",
   "execution_count": 84,
   "id": "7c335f19-bfb8-4361-89e6-b5963e1060b8",
   "metadata": {
    "hide-output": false
   },
   "outputs": [
    {
     "data": {
      "text/plain": [
       "0    a\n",
       "1    b\n",
       "2    c\n",
       "3    d\n",
       "dtype: string"
      ]
     },
     "execution_count": 84,
     "metadata": {},
     "output_type": "execute_result"
    }
   ],
   "source": [
    "v = pd.Series([\"z\", \"a\", \"b\", \"d\", \"e\"], index=[-1, 0, 1, 3, 4], dtype=\"string\")\n",
    "s"
   ]
  },
  {
   "cell_type": "code",
   "execution_count": 85,
   "id": "28c788db-3474-4db0-be07-c6b39c69045d",
   "metadata": {
    "hide-output": false
   },
   "outputs": [
    {
     "data": {
      "text/plain": [
       "-1    z\n",
       " 0    a\n",
       " 1    b\n",
       " 3    d\n",
       " 4    e\n",
       "dtype: string"
      ]
     },
     "execution_count": 85,
     "metadata": {},
     "output_type": "execute_result"
    }
   ],
   "source": [
    "v"
   ]
  },
  {
   "cell_type": "code",
   "execution_count": 86,
   "id": "a48a1397-9bc7-46de-9912-5b87dcbafae8",
   "metadata": {
    "hide-output": false
   },
   "outputs": [
    {
     "data": {
      "text/plain": [
       "0    aa\n",
       "1    bb\n",
       "2    c-\n",
       "3    dd\n",
       "dtype: string"
      ]
     },
     "execution_count": 86,
     "metadata": {},
     "output_type": "execute_result"
    }
   ],
   "source": [
    "s.str.cat(v, join=\"left\", na_rep=\"-\")"
   ]
  },
  {
   "cell_type": "code",
   "execution_count": 87,
   "id": "0f9b8ec7-8b43-4097-9447-89c7cf6e5554",
   "metadata": {
    "hide-output": false
   },
   "outputs": [
    {
     "data": {
      "text/plain": [
       "-1    -z\n",
       " 0    aa\n",
       " 1    bb\n",
       " 2    c-\n",
       " 3    dd\n",
       " 4    -e\n",
       "dtype: string"
      ]
     },
     "execution_count": 87,
     "metadata": {},
     "output_type": "execute_result"
    }
   ],
   "source": [
    "s.str.cat(v, join=\"outer\", na_rep=\"-\")"
   ]
  },
  {
   "cell_type": "markdown",
   "id": "e786d69a",
   "metadata": {},
   "source": [
    "The same alignment can be used when `others` is a `DataFrame`:"
   ]
  },
  {
   "cell_type": "code",
   "execution_count": 88,
   "id": "32d9a3de-d21d-4caa-ac3d-07c3e114ecf9",
   "metadata": {
    "hide-output": false
   },
   "outputs": [
    {
     "data": {
      "text/plain": [
       "0    a\n",
       "1    b\n",
       "2    c\n",
       "3    d\n",
       "dtype: string"
      ]
     },
     "execution_count": 88,
     "metadata": {},
     "output_type": "execute_result"
    }
   ],
   "source": [
    "f = d.loc[[3, 2, 1, 0], :]\n",
    "s"
   ]
  },
  {
   "cell_type": "code",
   "execution_count": 89,
   "id": "b3a01cac-8af5-4245-a4f2-94e1c45e6794",
   "metadata": {
    "hide-output": false
   },
   "outputs": [
    {
     "data": {
      "text/html": [
       "<div>\n",
       "<style scoped>\n",
       "    .dataframe tbody tr th:only-of-type {\n",
       "        vertical-align: middle;\n",
       "    }\n",
       "\n",
       "    .dataframe tbody tr th {\n",
       "        vertical-align: top;\n",
       "    }\n",
       "\n",
       "    .dataframe thead th {\n",
       "        text-align: right;\n",
       "    }\n",
       "</style>\n",
       "<table border=\"1\" class=\"dataframe\">\n",
       "  <thead>\n",
       "    <tr style=\"text-align: right;\">\n",
       "      <th></th>\n",
       "      <th>0</th>\n",
       "      <th>1</th>\n",
       "    </tr>\n",
       "  </thead>\n",
       "  <tbody>\n",
       "    <tr>\n",
       "      <th>3</th>\n",
       "      <td>d</td>\n",
       "      <td>d</td>\n",
       "    </tr>\n",
       "    <tr>\n",
       "      <th>2</th>\n",
       "      <td>&lt;NA&gt;</td>\n",
       "      <td>c</td>\n",
       "    </tr>\n",
       "    <tr>\n",
       "      <th>1</th>\n",
       "      <td>b</td>\n",
       "      <td>b</td>\n",
       "    </tr>\n",
       "    <tr>\n",
       "      <th>0</th>\n",
       "      <td>a</td>\n",
       "      <td>a</td>\n",
       "    </tr>\n",
       "  </tbody>\n",
       "</table>\n",
       "</div>"
      ],
      "text/plain": [
       "      0  1\n",
       "3     d  d\n",
       "2  <NA>  c\n",
       "1     b  b\n",
       "0     a  a"
      ]
     },
     "execution_count": 89,
     "metadata": {},
     "output_type": "execute_result"
    }
   ],
   "source": [
    "f"
   ]
  },
  {
   "cell_type": "code",
   "execution_count": 90,
   "id": "40341ea6-69a7-438d-8b78-076ae525db60",
   "metadata": {
    "hide-output": false
   },
   "outputs": [
    {
     "data": {
      "text/plain": [
       "0    aaa\n",
       "1    bbb\n",
       "2    c-c\n",
       "3    ddd\n",
       "dtype: string"
      ]
     },
     "execution_count": 90,
     "metadata": {},
     "output_type": "execute_result"
    }
   ],
   "source": [
    "s.str.cat(f, join=\"left\", na_rep=\"-\")"
   ]
  },
  {
   "cell_type": "markdown",
   "id": "1cef24fb",
   "metadata": {},
   "source": [
    "### Concatenating a Series and many objects into a Series\n",
    "\n",
    "Several array-like items (specifically: `Series`, `Index`, and 1-dimensional variants of `np.ndarray`)\n",
    "can be combined in a list-like container (including iterators, `dict`-views, etc.)."
   ]
  },
  {
   "cell_type": "code",
   "execution_count": 91,
   "id": "3f28db9b-dc23-448d-bd32-f55ad70bbd51",
   "metadata": {
    "hide-output": false
   },
   "outputs": [
    {
     "data": {
      "text/plain": [
       "0    a\n",
       "1    b\n",
       "2    c\n",
       "3    d\n",
       "dtype: string"
      ]
     },
     "execution_count": 91,
     "metadata": {},
     "output_type": "execute_result"
    }
   ],
   "source": [
    "s"
   ]
  },
  {
   "cell_type": "code",
   "execution_count": 92,
   "id": "73ce5277-6613-46a6-b390-3f5f47eeb4d9",
   "metadata": {
    "hide-output": false
   },
   "outputs": [
    {
     "data": {
      "text/plain": [
       "1    b\n",
       "3    d\n",
       "0    a\n",
       "2    c\n",
       "dtype: string"
      ]
     },
     "execution_count": 92,
     "metadata": {},
     "output_type": "execute_result"
    }
   ],
   "source": [
    "u"
   ]
  },
  {
   "cell_type": "code",
   "execution_count": 93,
   "id": "256ef6ab-0f37-4c07-a674-35ed5c483f18",
   "metadata": {
    "hide-output": false
   },
   "outputs": [
    {
     "data": {
      "text/plain": [
       "0    aab\n",
       "1    bbd\n",
       "2    cca\n",
       "3    ddc\n",
       "dtype: string"
      ]
     },
     "execution_count": 93,
     "metadata": {},
     "output_type": "execute_result"
    }
   ],
   "source": [
    "s.str.cat([u, u.to_numpy()], join=\"left\")"
   ]
  },
  {
   "cell_type": "markdown",
   "id": "2440bf9c",
   "metadata": {},
   "source": [
    "All elements without an index (e.g. `np.ndarray`) within the passed list-like must match in length to the calling `Series` (or `Index`),\n",
    "but `Series` and `Index` may have arbitrary length (as long as alignment is not disabled with `join=None`):"
   ]
  },
  {
   "cell_type": "code",
   "execution_count": 94,
   "id": "ba9a2118-a850-4aa7-b21a-16ae306767be",
   "metadata": {
    "hide-output": false
   },
   "outputs": [
    {
     "data": {
      "text/plain": [
       "-1    z\n",
       " 0    a\n",
       " 1    b\n",
       " 3    d\n",
       " 4    e\n",
       "dtype: string"
      ]
     },
     "execution_count": 94,
     "metadata": {},
     "output_type": "execute_result"
    }
   ],
   "source": [
    "v"
   ]
  },
  {
   "cell_type": "code",
   "execution_count": 95,
   "id": "e4a234f8-1cd4-49c2-bba3-91649c1eb06d",
   "metadata": {
    "hide-output": false
   },
   "outputs": [
    {
     "data": {
      "text/plain": [
       "-1    -z--\n",
       " 0    aaab\n",
       " 1    bbbd\n",
       " 2    c-ca\n",
       " 3    dddc\n",
       " 4    -e--\n",
       "dtype: string"
      ]
     },
     "execution_count": 95,
     "metadata": {},
     "output_type": "execute_result"
    }
   ],
   "source": [
    "s.str.cat([v, u, u.to_numpy()], join=\"outer\", na_rep=\"-\")"
   ]
  },
  {
   "cell_type": "markdown",
   "id": "458b8334",
   "metadata": {},
   "source": [
    "If using `join='right'` on a list-like of `others` that contains different indexes,\n",
    "the union of these indexes will be used as the basis for the final concatenation:"
   ]
  },
  {
   "cell_type": "code",
   "execution_count": 96,
   "id": "6eb6c9f0-8d75-4987-b68e-3f19b022acd4",
   "metadata": {
    "hide-output": false
   },
   "outputs": [
    {
     "data": {
      "text/plain": [
       "3    d\n",
       "dtype: string"
      ]
     },
     "execution_count": 96,
     "metadata": {},
     "output_type": "execute_result"
    }
   ],
   "source": [
    "u.loc[[3]]"
   ]
  },
  {
   "cell_type": "code",
   "execution_count": 97,
   "id": "420a00dd-a9c6-4155-af8a-515453111497",
   "metadata": {
    "hide-output": false
   },
   "outputs": [
    {
     "data": {
      "text/plain": [
       "-1    z\n",
       " 0    a\n",
       "dtype: string"
      ]
     },
     "execution_count": 97,
     "metadata": {},
     "output_type": "execute_result"
    }
   ],
   "source": [
    "v.loc[[-1, 0]]"
   ]
  },
  {
   "cell_type": "code",
   "execution_count": 98,
   "id": "9ac50ba1-5365-4a11-9cc6-5cdeee7e702c",
   "metadata": {
    "hide-output": false
   },
   "outputs": [
    {
     "data": {
      "text/plain": [
       "-1    --z\n",
       " 0    a-a\n",
       " 3    dd-\n",
       "dtype: string"
      ]
     },
     "execution_count": 98,
     "metadata": {},
     "output_type": "execute_result"
    }
   ],
   "source": [
    "s.str.cat([u.loc[[3]], v.loc[[-1, 0]]], join=\"right\", na_rep=\"-\")"
   ]
  },
  {
   "cell_type": "markdown",
   "id": "bcad6b39",
   "metadata": {},
   "source": [
    "## Indexing with `.str`\n",
    "\n",
    "\n",
    "<a id='text-indexing'></a>\n",
    "You can use `[]` notation to directly index by position locations. If you index past the end\n",
    "of the string, the result will be a `NaN`."
   ]
  },
  {
   "cell_type": "code",
   "execution_count": 99,
   "id": "3fc57a31-b59c-4986-805d-012c9b3720ca",
   "metadata": {
    "hide-output": false
   },
   "outputs": [
    {
     "data": {
      "text/plain": [
       "0       A\n",
       "1       B\n",
       "2       C\n",
       "3       A\n",
       "4       B\n",
       "5    <NA>\n",
       "6       C\n",
       "7       d\n",
       "8       c\n",
       "dtype: string"
      ]
     },
     "execution_count": 99,
     "metadata": {},
     "output_type": "execute_result"
    }
   ],
   "source": [
    "s = pd.Series(\n",
    "    [\"A\", \"B\", \"C\", \"Aaba\", \"Baca\", np.nan, \"CABA\", \"dog\", \"cat\"], dtype=\"string\"\n",
    ")\n",
    "s.str[0]"
   ]
  },
  {
   "cell_type": "code",
   "execution_count": 100,
   "id": "57ed5190-1938-48b3-83d8-c4718ac31278",
   "metadata": {
    "hide-output": false
   },
   "outputs": [
    {
     "data": {
      "text/plain": [
       "0    <NA>\n",
       "1    <NA>\n",
       "2    <NA>\n",
       "3       a\n",
       "4       a\n",
       "5    <NA>\n",
       "6       A\n",
       "7       o\n",
       "8       a\n",
       "dtype: string"
      ]
     },
     "execution_count": 100,
     "metadata": {},
     "output_type": "execute_result"
    }
   ],
   "source": [
    "s.str[1]"
   ]
  },
  {
   "cell_type": "markdown",
   "id": "93a27902",
   "metadata": {},
   "source": [
    "## Extracting substrings\n",
    "\n",
    "\n",
    "<a id='text-extract'></a>"
   ]
  },
  {
   "cell_type": "markdown",
   "id": "4e6a28bd",
   "metadata": {},
   "source": [
    "### Extract first match in each subject (extract)\n",
    "\n",
    "Before version 0.23, argument `expand` of the `extract` method defaulted to\n",
    "`False`. When `expand=False`, `expand` returns a `Series`, `Index`, or\n",
    "`DataFrame`, depending on the subject and regular expression\n",
    "pattern. When `expand=True`, it always returns a `DataFrame`,\n",
    "which is more consistent and less confusing from the perspective of a user.\n",
    "`expand=True` has been the default since version 0.23.0.\n",
    "\n",
    "The `extract` method accepts a [regular expression](https://docs.python.org/3/library/re.html) with at least one\n",
    "capture group.\n",
    "\n",
    "Extracting a regular expression with more than one group returns a\n",
    "DataFrame with one column per group."
   ]
  },
  {
   "cell_type": "code",
   "execution_count": 101,
   "id": "6e04d3a8",
   "metadata": {
    "hide-output": false
   },
   "outputs": [
    {
     "data": {
      "text/html": [
       "<div>\n",
       "<style scoped>\n",
       "    .dataframe tbody tr th:only-of-type {\n",
       "        vertical-align: middle;\n",
       "    }\n",
       "\n",
       "    .dataframe tbody tr th {\n",
       "        vertical-align: top;\n",
       "    }\n",
       "\n",
       "    .dataframe thead th {\n",
       "        text-align: right;\n",
       "    }\n",
       "</style>\n",
       "<table border=\"1\" class=\"dataframe\">\n",
       "  <thead>\n",
       "    <tr style=\"text-align: right;\">\n",
       "      <th></th>\n",
       "      <th>0</th>\n",
       "      <th>1</th>\n",
       "    </tr>\n",
       "  </thead>\n",
       "  <tbody>\n",
       "    <tr>\n",
       "      <th>0</th>\n",
       "      <td>a</td>\n",
       "      <td>1</td>\n",
       "    </tr>\n",
       "    <tr>\n",
       "      <th>1</th>\n",
       "      <td>b</td>\n",
       "      <td>2</td>\n",
       "    </tr>\n",
       "    <tr>\n",
       "      <th>2</th>\n",
       "      <td>&lt;NA&gt;</td>\n",
       "      <td>&lt;NA&gt;</td>\n",
       "    </tr>\n",
       "  </tbody>\n",
       "</table>\n",
       "</div>"
      ],
      "text/plain": [
       "      0     1\n",
       "0     a     1\n",
       "1     b     2\n",
       "2  <NA>  <NA>"
      ]
     },
     "execution_count": 101,
     "metadata": {},
     "output_type": "execute_result"
    }
   ],
   "source": [
    "pd.Series(\n",
    "    [\"a1\", \"b2\", \"c3\"],\n",
    "    dtype=\"string\",\n",
    ").str.extract(r\"([ab])(\\d)\", expand=False)"
   ]
  },
  {
   "cell_type": "markdown",
   "id": "a2358d4d",
   "metadata": {},
   "source": [
    "Elements that do not match return a row filled with `NaN`. Thus, a\n",
    "Series of messy strings can be “converted” into a like-indexed Series\n",
    "or DataFrame of cleaned-up or more useful strings, without\n",
    "necessitating `get()` to access tuples or `re.match` objects. The\n",
    "dtype of the result is always object, even if no match is found and\n",
    "the result only contains `NaN`.\n",
    "\n",
    "Named groups like"
   ]
  },
  {
   "cell_type": "code",
   "execution_count": 102,
   "id": "05810e1c",
   "metadata": {
    "hide-output": false
   },
   "outputs": [
    {
     "data": {
      "text/html": [
       "<div>\n",
       "<style scoped>\n",
       "    .dataframe tbody tr th:only-of-type {\n",
       "        vertical-align: middle;\n",
       "    }\n",
       "\n",
       "    .dataframe tbody tr th {\n",
       "        vertical-align: top;\n",
       "    }\n",
       "\n",
       "    .dataframe thead th {\n",
       "        text-align: right;\n",
       "    }\n",
       "</style>\n",
       "<table border=\"1\" class=\"dataframe\">\n",
       "  <thead>\n",
       "    <tr style=\"text-align: right;\">\n",
       "      <th></th>\n",
       "      <th>letter</th>\n",
       "      <th>digit</th>\n",
       "    </tr>\n",
       "  </thead>\n",
       "  <tbody>\n",
       "    <tr>\n",
       "      <th>0</th>\n",
       "      <td>a</td>\n",
       "      <td>1</td>\n",
       "    </tr>\n",
       "    <tr>\n",
       "      <th>1</th>\n",
       "      <td>b</td>\n",
       "      <td>2</td>\n",
       "    </tr>\n",
       "    <tr>\n",
       "      <th>2</th>\n",
       "      <td>&lt;NA&gt;</td>\n",
       "      <td>&lt;NA&gt;</td>\n",
       "    </tr>\n",
       "  </tbody>\n",
       "</table>\n",
       "</div>"
      ],
      "text/plain": [
       "  letter digit\n",
       "0      a     1\n",
       "1      b     2\n",
       "2   <NA>  <NA>"
      ]
     },
     "execution_count": 102,
     "metadata": {},
     "output_type": "execute_result"
    }
   ],
   "source": [
    "pd.Series([\"a1\", \"b2\", \"c3\"], dtype=\"string\").str.extract(\n",
    "    r\"(?P<letter>[ab])(?P<digit>\\d)\", expand=False\n",
    ")"
   ]
  },
  {
   "cell_type": "markdown",
   "id": "c634022f",
   "metadata": {},
   "source": [
    "and optional groups like"
   ]
  },
  {
   "cell_type": "code",
   "execution_count": 103,
   "id": "9fcd6450",
   "metadata": {
    "hide-output": false
   },
   "outputs": [
    {
     "data": {
      "text/html": [
       "<div>\n",
       "<style scoped>\n",
       "    .dataframe tbody tr th:only-of-type {\n",
       "        vertical-align: middle;\n",
       "    }\n",
       "\n",
       "    .dataframe tbody tr th {\n",
       "        vertical-align: top;\n",
       "    }\n",
       "\n",
       "    .dataframe thead th {\n",
       "        text-align: right;\n",
       "    }\n",
       "</style>\n",
       "<table border=\"1\" class=\"dataframe\">\n",
       "  <thead>\n",
       "    <tr style=\"text-align: right;\">\n",
       "      <th></th>\n",
       "      <th>0</th>\n",
       "      <th>1</th>\n",
       "    </tr>\n",
       "  </thead>\n",
       "  <tbody>\n",
       "    <tr>\n",
       "      <th>0</th>\n",
       "      <td>a</td>\n",
       "      <td>1</td>\n",
       "    </tr>\n",
       "    <tr>\n",
       "      <th>1</th>\n",
       "      <td>b</td>\n",
       "      <td>2</td>\n",
       "    </tr>\n",
       "    <tr>\n",
       "      <th>2</th>\n",
       "      <td>&lt;NA&gt;</td>\n",
       "      <td>3</td>\n",
       "    </tr>\n",
       "  </tbody>\n",
       "</table>\n",
       "</div>"
      ],
      "text/plain": [
       "      0  1\n",
       "0     a  1\n",
       "1     b  2\n",
       "2  <NA>  3"
      ]
     },
     "execution_count": 103,
     "metadata": {},
     "output_type": "execute_result"
    }
   ],
   "source": [
    "pd.Series(\n",
    "    [\"a1\", \"b2\", \"3\"],\n",
    "    dtype=\"string\",\n",
    ").str.extract(r\"([ab])?(\\d)\", expand=False)"
   ]
  },
  {
   "cell_type": "markdown",
   "id": "32cd5971",
   "metadata": {},
   "source": [
    "can also be used. Note that any capture group names in the regular\n",
    "expression will be used for column names; otherwise capture group\n",
    "numbers will be used.\n",
    "\n",
    "Extracting a regular expression with one group returns a `DataFrame`\n",
    "with one column if `expand=True`."
   ]
  },
  {
   "cell_type": "code",
   "execution_count": 104,
   "id": "fd0ca7df",
   "metadata": {
    "hide-output": false
   },
   "outputs": [
    {
     "data": {
      "text/html": [
       "<div>\n",
       "<style scoped>\n",
       "    .dataframe tbody tr th:only-of-type {\n",
       "        vertical-align: middle;\n",
       "    }\n",
       "\n",
       "    .dataframe tbody tr th {\n",
       "        vertical-align: top;\n",
       "    }\n",
       "\n",
       "    .dataframe thead th {\n",
       "        text-align: right;\n",
       "    }\n",
       "</style>\n",
       "<table border=\"1\" class=\"dataframe\">\n",
       "  <thead>\n",
       "    <tr style=\"text-align: right;\">\n",
       "      <th></th>\n",
       "      <th>0</th>\n",
       "    </tr>\n",
       "  </thead>\n",
       "  <tbody>\n",
       "    <tr>\n",
       "      <th>0</th>\n",
       "      <td>1</td>\n",
       "    </tr>\n",
       "    <tr>\n",
       "      <th>1</th>\n",
       "      <td>2</td>\n",
       "    </tr>\n",
       "    <tr>\n",
       "      <th>2</th>\n",
       "      <td>&lt;NA&gt;</td>\n",
       "    </tr>\n",
       "  </tbody>\n",
       "</table>\n",
       "</div>"
      ],
      "text/plain": [
       "      0\n",
       "0     1\n",
       "1     2\n",
       "2  <NA>"
      ]
     },
     "execution_count": 104,
     "metadata": {},
     "output_type": "execute_result"
    }
   ],
   "source": [
    "pd.Series([\"a1\", \"b2\", \"c3\"], dtype=\"string\").str.extract(r\"[ab](\\d)\", expand=True)"
   ]
  },
  {
   "cell_type": "markdown",
   "id": "3c2accd9",
   "metadata": {},
   "source": [
    "It returns a Series if `expand=False`."
   ]
  },
  {
   "cell_type": "code",
   "execution_count": 105,
   "id": "003e3fa6",
   "metadata": {
    "hide-output": false
   },
   "outputs": [
    {
     "data": {
      "text/plain": [
       "0       1\n",
       "1       2\n",
       "2    <NA>\n",
       "dtype: string"
      ]
     },
     "execution_count": 105,
     "metadata": {},
     "output_type": "execute_result"
    }
   ],
   "source": [
    "pd.Series([\"a1\", \"b2\", \"c3\"], dtype=\"string\").str.extract(r\"[ab](\\d)\", expand=False)"
   ]
  },
  {
   "cell_type": "markdown",
   "id": "5f87f94b",
   "metadata": {},
   "source": [
    "Calling on an `Index` with a regex with exactly one capture group\n",
    "returns a `DataFrame` with one column if `expand=True`."
   ]
  },
  {
   "cell_type": "code",
   "execution_count": 106,
   "id": "21dd5369-84b3-48a1-a637-160d9b6896bb",
   "metadata": {
    "hide-output": false
   },
   "outputs": [],
   "source": [
    "s = pd.Series([\"a1\", \"b2\", \"c3\"], [\"A11\", \"B22\", \"C33\"], dtype=\"string\")"
   ]
  },
  {
   "cell_type": "code",
   "execution_count": 107,
   "id": "daa1ca56-46a9-439b-a6ef-1905d57182b2",
   "metadata": {
    "hide-output": false
   },
   "outputs": [
    {
     "data": {
      "text/plain": [
       "A11    a1\n",
       "B22    b2\n",
       "C33    c3\n",
       "dtype: string"
      ]
     },
     "execution_count": 107,
     "metadata": {},
     "output_type": "execute_result"
    }
   ],
   "source": [
    "s"
   ]
  },
  {
   "cell_type": "code",
   "execution_count": 108,
   "id": "afb73b6f-0deb-4cc7-860d-366e17120a26",
   "metadata": {
    "hide-output": false
   },
   "outputs": [
    {
     "data": {
      "text/html": [
       "<div>\n",
       "<style scoped>\n",
       "    .dataframe tbody tr th:only-of-type {\n",
       "        vertical-align: middle;\n",
       "    }\n",
       "\n",
       "    .dataframe tbody tr th {\n",
       "        vertical-align: top;\n",
       "    }\n",
       "\n",
       "    .dataframe thead th {\n",
       "        text-align: right;\n",
       "    }\n",
       "</style>\n",
       "<table border=\"1\" class=\"dataframe\">\n",
       "  <thead>\n",
       "    <tr style=\"text-align: right;\">\n",
       "      <th></th>\n",
       "      <th>letter</th>\n",
       "    </tr>\n",
       "  </thead>\n",
       "  <tbody>\n",
       "    <tr>\n",
       "      <th>0</th>\n",
       "      <td>A</td>\n",
       "    </tr>\n",
       "    <tr>\n",
       "      <th>1</th>\n",
       "      <td>B</td>\n",
       "    </tr>\n",
       "    <tr>\n",
       "      <th>2</th>\n",
       "      <td>C</td>\n",
       "    </tr>\n",
       "  </tbody>\n",
       "</table>\n",
       "</div>"
      ],
      "text/plain": [
       "  letter\n",
       "0      A\n",
       "1      B\n",
       "2      C"
      ]
     },
     "execution_count": 108,
     "metadata": {},
     "output_type": "execute_result"
    }
   ],
   "source": [
    "s.index.str.extract(\"(?P<letter>[a-zA-Z])\", expand=True)"
   ]
  },
  {
   "cell_type": "markdown",
   "id": "91ee54da",
   "metadata": {},
   "source": [
    "It returns an `Index` if `expand=False`."
   ]
  },
  {
   "cell_type": "code",
   "execution_count": 109,
   "id": "afee4078",
   "metadata": {
    "hide-output": false
   },
   "outputs": [
    {
     "data": {
      "text/plain": [
       "Index(['A', 'B', 'C'], dtype='object', name='letter')"
      ]
     },
     "execution_count": 109,
     "metadata": {},
     "output_type": "execute_result"
    }
   ],
   "source": [
    "s.index.str.extract(\"(?P<letter>[a-zA-Z])\", expand=False)"
   ]
  },
  {
   "cell_type": "markdown",
   "id": "b5acf42e",
   "metadata": {},
   "source": [
    "Calling on an `Index` with a regex with more than one capture group\n",
    "returns a `DataFrame` if `expand=True`."
   ]
  },
  {
   "cell_type": "code",
   "execution_count": 110,
   "id": "c49ff07a",
   "metadata": {
    "hide-output": false
   },
   "outputs": [
    {
     "data": {
      "text/html": [
       "<div>\n",
       "<style scoped>\n",
       "    .dataframe tbody tr th:only-of-type {\n",
       "        vertical-align: middle;\n",
       "    }\n",
       "\n",
       "    .dataframe tbody tr th {\n",
       "        vertical-align: top;\n",
       "    }\n",
       "\n",
       "    .dataframe thead th {\n",
       "        text-align: right;\n",
       "    }\n",
       "</style>\n",
       "<table border=\"1\" class=\"dataframe\">\n",
       "  <thead>\n",
       "    <tr style=\"text-align: right;\">\n",
       "      <th></th>\n",
       "      <th>letter</th>\n",
       "      <th>1</th>\n",
       "    </tr>\n",
       "  </thead>\n",
       "  <tbody>\n",
       "    <tr>\n",
       "      <th>0</th>\n",
       "      <td>A</td>\n",
       "      <td>11</td>\n",
       "    </tr>\n",
       "    <tr>\n",
       "      <th>1</th>\n",
       "      <td>B</td>\n",
       "      <td>22</td>\n",
       "    </tr>\n",
       "    <tr>\n",
       "      <th>2</th>\n",
       "      <td>C</td>\n",
       "      <td>33</td>\n",
       "    </tr>\n",
       "  </tbody>\n",
       "</table>\n",
       "</div>"
      ],
      "text/plain": [
       "  letter   1\n",
       "0      A  11\n",
       "1      B  22\n",
       "2      C  33"
      ]
     },
     "execution_count": 110,
     "metadata": {},
     "output_type": "execute_result"
    }
   ],
   "source": [
    "s.index.str.extract(\"(?P<letter>[a-zA-Z])([0-9]+)\", expand=True)"
   ]
  },
  {
   "cell_type": "markdown",
   "id": "9af3d754",
   "metadata": {},
   "source": [
    "It raises `ValueError` if `expand=False`."
   ]
  },
  {
   "cell_type": "markdown",
   "id": "863e1533",
   "metadata": {
    "hide-output": false
   },
   "source": [
    "```python\n",
    ">>> s.index.str.extract(\"(?P<letter>[a-zA-Z])([0-9]+)\", expand=False)\n",
    "ValueError: only one regex group is supported with Index\n",
    "```\n"
   ]
  },
  {
   "cell_type": "markdown",
   "id": "bff3924c",
   "metadata": {},
   "source": [
    "The table below summarizes the behavior of `extract(expand=False)`\n",
    "(input subject in first column, number of groups in regex in\n",
    "first row)\n",
    "\n",
    "||1 group|>1 group|\n",
    "|Index|Index|ValueError|\n",
    "|Series|Series|DataFrame|"
   ]
  },
  {
   "cell_type": "markdown",
   "id": "806f335c",
   "metadata": {},
   "source": [
    "### Extract all matches in each subject (extractall)\n",
    "\n",
    "\n",
    "<a id='text-extractall'></a>\n",
    "Unlike `extract` (which returns only the first match),"
   ]
  },
  {
   "cell_type": "code",
   "execution_count": 111,
   "id": "817bbb11-e3ae-4b75-87a5-e8b194c08963",
   "metadata": {
    "hide-output": false
   },
   "outputs": [
    {
     "data": {
      "text/plain": [
       "A    a1a2\n",
       "B      b1\n",
       "C      c1\n",
       "dtype: string"
      ]
     },
     "execution_count": 111,
     "metadata": {},
     "output_type": "execute_result"
    }
   ],
   "source": [
    "s = pd.Series([\"a1a2\", \"b1\", \"c1\"], index=[\"A\", \"B\", \"C\"], dtype=\"string\")\n",
    "s"
   ]
  },
  {
   "cell_type": "code",
   "execution_count": 112,
   "id": "c537e099-5b74-4740-a4fe-6cdc424ab3f4",
   "metadata": {
    "hide-output": false
   },
   "outputs": [
    {
     "data": {
      "text/html": [
       "<div>\n",
       "<style scoped>\n",
       "    .dataframe tbody tr th:only-of-type {\n",
       "        vertical-align: middle;\n",
       "    }\n",
       "\n",
       "    .dataframe tbody tr th {\n",
       "        vertical-align: top;\n",
       "    }\n",
       "\n",
       "    .dataframe thead th {\n",
       "        text-align: right;\n",
       "    }\n",
       "</style>\n",
       "<table border=\"1\" class=\"dataframe\">\n",
       "  <thead>\n",
       "    <tr style=\"text-align: right;\">\n",
       "      <th></th>\n",
       "      <th>letter</th>\n",
       "      <th>digit</th>\n",
       "    </tr>\n",
       "  </thead>\n",
       "  <tbody>\n",
       "    <tr>\n",
       "      <th>A</th>\n",
       "      <td>a</td>\n",
       "      <td>1</td>\n",
       "    </tr>\n",
       "    <tr>\n",
       "      <th>B</th>\n",
       "      <td>b</td>\n",
       "      <td>1</td>\n",
       "    </tr>\n",
       "    <tr>\n",
       "      <th>C</th>\n",
       "      <td>c</td>\n",
       "      <td>1</td>\n",
       "    </tr>\n",
       "  </tbody>\n",
       "</table>\n",
       "</div>"
      ],
      "text/plain": [
       "  letter digit\n",
       "A      a     1\n",
       "B      b     1\n",
       "C      c     1"
      ]
     },
     "execution_count": 112,
     "metadata": {},
     "output_type": "execute_result"
    }
   ],
   "source": [
    "two_groups = \"(?P<letter>[a-z])(?P<digit>[0-9])\"\n",
    "s.str.extract(two_groups, expand=True)"
   ]
  },
  {
   "cell_type": "markdown",
   "id": "b379df1b",
   "metadata": {},
   "source": [
    "the `extractall` method returns every match. The result of\n",
    "`extractall` is always a `DataFrame` with a `MultiIndex` on its\n",
    "rows. The last level of the `MultiIndex` is named `match` and\n",
    "indicates the order in the subject."
   ]
  },
  {
   "cell_type": "code",
   "execution_count": 113,
   "id": "d08f8f0c",
   "metadata": {
    "hide-output": false
   },
   "outputs": [
    {
     "data": {
      "text/html": [
       "<div>\n",
       "<style scoped>\n",
       "    .dataframe tbody tr th:only-of-type {\n",
       "        vertical-align: middle;\n",
       "    }\n",
       "\n",
       "    .dataframe tbody tr th {\n",
       "        vertical-align: top;\n",
       "    }\n",
       "\n",
       "    .dataframe thead th {\n",
       "        text-align: right;\n",
       "    }\n",
       "</style>\n",
       "<table border=\"1\" class=\"dataframe\">\n",
       "  <thead>\n",
       "    <tr style=\"text-align: right;\">\n",
       "      <th></th>\n",
       "      <th></th>\n",
       "      <th>letter</th>\n",
       "      <th>digit</th>\n",
       "    </tr>\n",
       "    <tr>\n",
       "      <th></th>\n",
       "      <th>match</th>\n",
       "      <th></th>\n",
       "      <th></th>\n",
       "    </tr>\n",
       "  </thead>\n",
       "  <tbody>\n",
       "    <tr>\n",
       "      <th rowspan=\"2\" valign=\"top\">A</th>\n",
       "      <th>0</th>\n",
       "      <td>a</td>\n",
       "      <td>1</td>\n",
       "    </tr>\n",
       "    <tr>\n",
       "      <th>1</th>\n",
       "      <td>a</td>\n",
       "      <td>2</td>\n",
       "    </tr>\n",
       "    <tr>\n",
       "      <th>B</th>\n",
       "      <th>0</th>\n",
       "      <td>b</td>\n",
       "      <td>1</td>\n",
       "    </tr>\n",
       "    <tr>\n",
       "      <th>C</th>\n",
       "      <th>0</th>\n",
       "      <td>c</td>\n",
       "      <td>1</td>\n",
       "    </tr>\n",
       "  </tbody>\n",
       "</table>\n",
       "</div>"
      ],
      "text/plain": [
       "        letter digit\n",
       "  match             \n",
       "A 0          a     1\n",
       "  1          a     2\n",
       "B 0          b     1\n",
       "C 0          c     1"
      ]
     },
     "execution_count": 113,
     "metadata": {},
     "output_type": "execute_result"
    }
   ],
   "source": [
    "s.str.extractall(two_groups)"
   ]
  },
  {
   "cell_type": "markdown",
   "id": "f177b3a4",
   "metadata": {},
   "source": [
    "When each subject string in the Series has exactly one match,"
   ]
  },
  {
   "cell_type": "code",
   "execution_count": 114,
   "id": "7fba22c4",
   "metadata": {
    "hide-output": false
   },
   "outputs": [
    {
     "data": {
      "text/plain": [
       "0    a3\n",
       "1    b3\n",
       "2    c2\n",
       "dtype: string"
      ]
     },
     "execution_count": 114,
     "metadata": {},
     "output_type": "execute_result"
    }
   ],
   "source": [
    "s = pd.Series([\"a3\", \"b3\", \"c2\"], dtype=\"string\")\n",
    "s"
   ]
  },
  {
   "cell_type": "markdown",
   "id": "6b3c6780",
   "metadata": {},
   "source": [
    "then `extractall(pat).xs(0, level='match')` gives the same result as\n",
    "`extract(pat)`."
   ]
  },
  {
   "cell_type": "code",
   "execution_count": 115,
   "id": "71f57d32-7246-4f09-837e-3339da3e6df7",
   "metadata": {
    "hide-output": false
   },
   "outputs": [
    {
     "data": {
      "text/html": [
       "<div>\n",
       "<style scoped>\n",
       "    .dataframe tbody tr th:only-of-type {\n",
       "        vertical-align: middle;\n",
       "    }\n",
       "\n",
       "    .dataframe tbody tr th {\n",
       "        vertical-align: top;\n",
       "    }\n",
       "\n",
       "    .dataframe thead th {\n",
       "        text-align: right;\n",
       "    }\n",
       "</style>\n",
       "<table border=\"1\" class=\"dataframe\">\n",
       "  <thead>\n",
       "    <tr style=\"text-align: right;\">\n",
       "      <th></th>\n",
       "      <th>letter</th>\n",
       "      <th>digit</th>\n",
       "    </tr>\n",
       "  </thead>\n",
       "  <tbody>\n",
       "    <tr>\n",
       "      <th>0</th>\n",
       "      <td>a</td>\n",
       "      <td>3</td>\n",
       "    </tr>\n",
       "    <tr>\n",
       "      <th>1</th>\n",
       "      <td>b</td>\n",
       "      <td>3</td>\n",
       "    </tr>\n",
       "    <tr>\n",
       "      <th>2</th>\n",
       "      <td>c</td>\n",
       "      <td>2</td>\n",
       "    </tr>\n",
       "  </tbody>\n",
       "</table>\n",
       "</div>"
      ],
      "text/plain": [
       "  letter digit\n",
       "0      a     3\n",
       "1      b     3\n",
       "2      c     2"
      ]
     },
     "execution_count": 115,
     "metadata": {},
     "output_type": "execute_result"
    }
   ],
   "source": [
    "extract_result = s.str.extract(two_groups, expand=True)\n",
    "extract_result"
   ]
  },
  {
   "cell_type": "code",
   "execution_count": 116,
   "id": "7e77259a-2e0f-4868-91d9-df8ac5f0580e",
   "metadata": {
    "hide-output": false
   },
   "outputs": [
    {
     "data": {
      "text/html": [
       "<div>\n",
       "<style scoped>\n",
       "    .dataframe tbody tr th:only-of-type {\n",
       "        vertical-align: middle;\n",
       "    }\n",
       "\n",
       "    .dataframe tbody tr th {\n",
       "        vertical-align: top;\n",
       "    }\n",
       "\n",
       "    .dataframe thead th {\n",
       "        text-align: right;\n",
       "    }\n",
       "</style>\n",
       "<table border=\"1\" class=\"dataframe\">\n",
       "  <thead>\n",
       "    <tr style=\"text-align: right;\">\n",
       "      <th></th>\n",
       "      <th></th>\n",
       "      <th>letter</th>\n",
       "      <th>digit</th>\n",
       "    </tr>\n",
       "    <tr>\n",
       "      <th></th>\n",
       "      <th>match</th>\n",
       "      <th></th>\n",
       "      <th></th>\n",
       "    </tr>\n",
       "  </thead>\n",
       "  <tbody>\n",
       "    <tr>\n",
       "      <th>0</th>\n",
       "      <th>0</th>\n",
       "      <td>a</td>\n",
       "      <td>3</td>\n",
       "    </tr>\n",
       "    <tr>\n",
       "      <th>1</th>\n",
       "      <th>0</th>\n",
       "      <td>b</td>\n",
       "      <td>3</td>\n",
       "    </tr>\n",
       "    <tr>\n",
       "      <th>2</th>\n",
       "      <th>0</th>\n",
       "      <td>c</td>\n",
       "      <td>2</td>\n",
       "    </tr>\n",
       "  </tbody>\n",
       "</table>\n",
       "</div>"
      ],
      "text/plain": [
       "        letter digit\n",
       "  match             \n",
       "0 0          a     3\n",
       "1 0          b     3\n",
       "2 0          c     2"
      ]
     },
     "execution_count": 116,
     "metadata": {},
     "output_type": "execute_result"
    }
   ],
   "source": [
    "extractall_result = s.str.extractall(two_groups)\n",
    "extractall_result"
   ]
  },
  {
   "cell_type": "code",
   "execution_count": 117,
   "id": "4cc3b350-2c7b-40d7-8f05-3d2c21744489",
   "metadata": {
    "hide-output": false
   },
   "outputs": [
    {
     "data": {
      "text/html": [
       "<div>\n",
       "<style scoped>\n",
       "    .dataframe tbody tr th:only-of-type {\n",
       "        vertical-align: middle;\n",
       "    }\n",
       "\n",
       "    .dataframe tbody tr th {\n",
       "        vertical-align: top;\n",
       "    }\n",
       "\n",
       "    .dataframe thead th {\n",
       "        text-align: right;\n",
       "    }\n",
       "</style>\n",
       "<table border=\"1\" class=\"dataframe\">\n",
       "  <thead>\n",
       "    <tr style=\"text-align: right;\">\n",
       "      <th></th>\n",
       "      <th>letter</th>\n",
       "      <th>digit</th>\n",
       "    </tr>\n",
       "  </thead>\n",
       "  <tbody>\n",
       "    <tr>\n",
       "      <th>0</th>\n",
       "      <td>a</td>\n",
       "      <td>3</td>\n",
       "    </tr>\n",
       "    <tr>\n",
       "      <th>1</th>\n",
       "      <td>b</td>\n",
       "      <td>3</td>\n",
       "    </tr>\n",
       "    <tr>\n",
       "      <th>2</th>\n",
       "      <td>c</td>\n",
       "      <td>2</td>\n",
       "    </tr>\n",
       "  </tbody>\n",
       "</table>\n",
       "</div>"
      ],
      "text/plain": [
       "  letter digit\n",
       "0      a     3\n",
       "1      b     3\n",
       "2      c     2"
      ]
     },
     "execution_count": 117,
     "metadata": {},
     "output_type": "execute_result"
    }
   ],
   "source": [
    "extractall_result.xs(0, level=\"match\")"
   ]
  },
  {
   "cell_type": "markdown",
   "id": "08433cb3",
   "metadata": {},
   "source": [
    "`Index` also supports `.str.extractall`. It returns a `DataFrame` which has the\n",
    "same result as a `Series.str.extractall` with a default index (starts from 0)."
   ]
  },
  {
   "cell_type": "code",
   "execution_count": 118,
   "id": "b4f80973",
   "metadata": {
    "hide-output": false
   },
   "outputs": [
    {
     "data": {
      "text/html": [
       "<div>\n",
       "<style scoped>\n",
       "    .dataframe tbody tr th:only-of-type {\n",
       "        vertical-align: middle;\n",
       "    }\n",
       "\n",
       "    .dataframe tbody tr th {\n",
       "        vertical-align: top;\n",
       "    }\n",
       "\n",
       "    .dataframe thead th {\n",
       "        text-align: right;\n",
       "    }\n",
       "</style>\n",
       "<table border=\"1\" class=\"dataframe\">\n",
       "  <thead>\n",
       "    <tr style=\"text-align: right;\">\n",
       "      <th></th>\n",
       "      <th></th>\n",
       "      <th>letter</th>\n",
       "      <th>digit</th>\n",
       "    </tr>\n",
       "    <tr>\n",
       "      <th></th>\n",
       "      <th>match</th>\n",
       "      <th></th>\n",
       "      <th></th>\n",
       "    </tr>\n",
       "  </thead>\n",
       "  <tbody>\n",
       "    <tr>\n",
       "      <th rowspan=\"2\" valign=\"top\">0</th>\n",
       "      <th>0</th>\n",
       "      <td>a</td>\n",
       "      <td>1</td>\n",
       "    </tr>\n",
       "    <tr>\n",
       "      <th>1</th>\n",
       "      <td>a</td>\n",
       "      <td>2</td>\n",
       "    </tr>\n",
       "    <tr>\n",
       "      <th>1</th>\n",
       "      <th>0</th>\n",
       "      <td>b</td>\n",
       "      <td>1</td>\n",
       "    </tr>\n",
       "    <tr>\n",
       "      <th>2</th>\n",
       "      <th>0</th>\n",
       "      <td>c</td>\n",
       "      <td>1</td>\n",
       "    </tr>\n",
       "  </tbody>\n",
       "</table>\n",
       "</div>"
      ],
      "text/plain": [
       "        letter digit\n",
       "  match             \n",
       "0 0          a     1\n",
       "  1          a     2\n",
       "1 0          b     1\n",
       "2 0          c     1"
      ]
     },
     "execution_count": 118,
     "metadata": {},
     "output_type": "execute_result"
    }
   ],
   "source": [
    "pd.Index([\"a1a2\", \"b1\", \"c1\"]).str.extractall(two_groups)\n",
    "\n",
    "pd.Series([\"a1a2\", \"b1\", \"c1\"], dtype=\"string\").str.extractall(two_groups)"
   ]
  },
  {
   "cell_type": "markdown",
   "id": "2dd94d25",
   "metadata": {},
   "source": [
    "## Testing for strings that match or contain a pattern\n",
    "\n",
    "You can check whether elements contain a pattern:"
   ]
  },
  {
   "cell_type": "code",
   "execution_count": 119,
   "id": "df2df804",
   "metadata": {
    "hide-output": false
   },
   "outputs": [
    {
     "data": {
      "text/plain": [
       "0    False\n",
       "1    False\n",
       "2     True\n",
       "3     True\n",
       "4     True\n",
       "5     True\n",
       "dtype: boolean"
      ]
     },
     "execution_count": 119,
     "metadata": {},
     "output_type": "execute_result"
    }
   ],
   "source": [
    "pattern = r\"[0-9][a-z]\"\n",
    "pd.Series(\n",
    "    [\"1\", \"2\", \"3a\", \"3b\", \"03c\", \"4dx\"],\n",
    "    dtype=\"string\",\n",
    ").str.contains(pattern)"
   ]
  },
  {
   "cell_type": "markdown",
   "id": "544ae576",
   "metadata": {},
   "source": [
    "Or whether elements match a pattern:"
   ]
  },
  {
   "cell_type": "code",
   "execution_count": 120,
   "id": "005995a2",
   "metadata": {
    "hide-output": false
   },
   "outputs": [
    {
     "data": {
      "text/plain": [
       "0    False\n",
       "1    False\n",
       "2     True\n",
       "3     True\n",
       "4    False\n",
       "5     True\n",
       "dtype: boolean"
      ]
     },
     "execution_count": 120,
     "metadata": {},
     "output_type": "execute_result"
    }
   ],
   "source": [
    "pd.Series(\n",
    "    [\"1\", \"2\", \"3a\", \"3b\", \"03c\", \"4dx\"],\n",
    "    dtype=\"string\",\n",
    ").str.match(pattern)"
   ]
  },
  {
   "cell_type": "markdown",
   "id": "621cbc52",
   "metadata": {},
   "source": [
    "New in version 1.1.0."
   ]
  },
  {
   "cell_type": "code",
   "execution_count": 121,
   "id": "d4c65691",
   "metadata": {
    "hide-output": false
   },
   "outputs": [
    {
     "data": {
      "text/plain": [
       "0    False\n",
       "1    False\n",
       "2     True\n",
       "3     True\n",
       "4    False\n",
       "5    False\n",
       "dtype: boolean"
      ]
     },
     "execution_count": 121,
     "metadata": {},
     "output_type": "execute_result"
    }
   ],
   "source": [
    "pd.Series(\n",
    "    [\"1\", \"2\", \"3a\", \"3b\", \"03c\", \"4dx\"],\n",
    "    dtype=\"string\",\n",
    ").str.fullmatch(pattern)"
   ]
  },
  {
   "cell_type": "markdown",
   "id": "d31641cc",
   "metadata": {},
   "source": [
    ">**Note**\n",
    ">\n",
    ">The distinction between `match`, `fullmatch`, and `contains` is strictness:\n",
    "`fullmatch` tests whether the entire string matches the regular expression;\n",
    "`match` tests whether there is a match of the regular expression that begins\n",
    "at the first character of the string; and `contains` tests whether there is\n",
    "a match of the regular expression at any position within the string.\n",
    "\n",
    "The corresponding functions in the `re` package for these three match modes are\n",
    "[re.fullmatch](https://docs.python.org/3/library/re.html#re.fullmatch),\n",
    "[re.match](https://docs.python.org/3/library/re.html#re.match), and\n",
    "[re.search](https://docs.python.org/3/library/re.html#re.search),\n",
    "respectively.\n",
    "\n",
    "Methods like `match`, `fullmatch`, `contains`, `startswith`, and\n",
    "`endswith` take an extra `na` argument so missing values can be considered\n",
    "True or False:"
   ]
  },
  {
   "cell_type": "code",
   "execution_count": 122,
   "id": "17e41dae",
   "metadata": {
    "hide-output": false
   },
   "outputs": [
    {
     "data": {
      "text/plain": [
       "0     True\n",
       "1    False\n",
       "2    False\n",
       "3     True\n",
       "4    False\n",
       "5    False\n",
       "6     True\n",
       "7    False\n",
       "8    False\n",
       "dtype: boolean"
      ]
     },
     "execution_count": 122,
     "metadata": {},
     "output_type": "execute_result"
    }
   ],
   "source": [
    "s4 = pd.Series(\n",
    "    [\"A\", \"B\", \"C\", \"Aaba\", \"Baca\", np.nan, \"CABA\", \"dog\", \"cat\"], dtype=\"string\"\n",
    ")\n",
    "s4.str.contains(\"A\", na=False)"
   ]
  },
  {
   "cell_type": "markdown",
   "id": "3a371ea1",
   "metadata": {},
   "source": [
    "\n",
    "<a id='text-indicator'></a>"
   ]
  },
  {
   "cell_type": "markdown",
   "id": "e2d06136",
   "metadata": {},
   "source": [
    "## Creating indicator variables\n",
    "\n",
    "You can extract dummy variables from string columns.\n",
    "For example if they are separated by a `'|'`:"
   ]
  },
  {
   "cell_type": "code",
   "execution_count": 123,
   "id": "b344907a",
   "metadata": {
    "hide-output": false
   },
   "outputs": [
    {
     "data": {
      "text/html": [
       "<div>\n",
       "<style scoped>\n",
       "    .dataframe tbody tr th:only-of-type {\n",
       "        vertical-align: middle;\n",
       "    }\n",
       "\n",
       "    .dataframe tbody tr th {\n",
       "        vertical-align: top;\n",
       "    }\n",
       "\n",
       "    .dataframe thead th {\n",
       "        text-align: right;\n",
       "    }\n",
       "</style>\n",
       "<table border=\"1\" class=\"dataframe\">\n",
       "  <thead>\n",
       "    <tr style=\"text-align: right;\">\n",
       "      <th></th>\n",
       "      <th>a</th>\n",
       "      <th>b</th>\n",
       "      <th>c</th>\n",
       "    </tr>\n",
       "  </thead>\n",
       "  <tbody>\n",
       "    <tr>\n",
       "      <th>0</th>\n",
       "      <td>1</td>\n",
       "      <td>0</td>\n",
       "      <td>0</td>\n",
       "    </tr>\n",
       "    <tr>\n",
       "      <th>1</th>\n",
       "      <td>1</td>\n",
       "      <td>1</td>\n",
       "      <td>0</td>\n",
       "    </tr>\n",
       "    <tr>\n",
       "      <th>2</th>\n",
       "      <td>0</td>\n",
       "      <td>0</td>\n",
       "      <td>0</td>\n",
       "    </tr>\n",
       "    <tr>\n",
       "      <th>3</th>\n",
       "      <td>1</td>\n",
       "      <td>0</td>\n",
       "      <td>1</td>\n",
       "    </tr>\n",
       "  </tbody>\n",
       "</table>\n",
       "</div>"
      ],
      "text/plain": [
       "   a  b  c\n",
       "0  1  0  0\n",
       "1  1  1  0\n",
       "2  0  0  0\n",
       "3  1  0  1"
      ]
     },
     "execution_count": 123,
     "metadata": {},
     "output_type": "execute_result"
    }
   ],
   "source": [
    "s = pd.Series([\"a\", \"a|b\", np.nan, \"a|c\"], dtype=\"string\")\n",
    "s.str.get_dummies(sep=\"|\")"
   ]
  },
  {
   "cell_type": "markdown",
   "id": "1921042c",
   "metadata": {},
   "source": [
    "String `Index` also supports `get_dummies` which returns a `MultiIndex`."
   ]
  },
  {
   "cell_type": "code",
   "execution_count": 124,
   "id": "dfc06ea6",
   "metadata": {
    "hide-output": false
   },
   "outputs": [
    {
     "data": {
      "text/plain": [
       "MultiIndex([(1, 0, 0),\n",
       "            (1, 1, 0),\n",
       "            (0, 0, 0),\n",
       "            (1, 0, 1)],\n",
       "           names=['a', 'b', 'c'])"
      ]
     },
     "execution_count": 124,
     "metadata": {},
     "output_type": "execute_result"
    }
   ],
   "source": [
    "idx = pd.Index([\"a\", \"a|b\", np.nan, \"a|c\"])\n",
    "idx.str.get_dummies(sep=\"|\")"
   ]
  },
  {
   "cell_type": "markdown",
   "id": "a221f638",
   "metadata": {},
   "source": [
    "See also `get_dummies()`."
   ]
  },
  {
   "cell_type": "markdown",
   "id": "f2066bac",
   "metadata": {},
   "source": [
    "## Method summary\n",
    "\n",
    "\n",
    "<a id='text-summary'></a>\n",
    "\n",
    "|Method|Description|\n",
    "|:------------------|:------------------------------------------------------------------------------|\n",
    "|cat()|Concatenate strings|\n",
    "|split()|Split strings on delimiter|\n",
    "|rsplit()|Split strings on delimiter working from the end of the string|\n",
    "|get()|Index into each element (retrieve i-th element)|\n",
    "|join()|Join strings in each element of the Series with passed separator|\n",
    "|get_dummies()|Split strings on the delimiter returning DataFrame of dummy variables|\n",
    "|contains()|Return boolean array if each string contains pattern/regex|\n",
    "|replace()|Replace occurrences of pattern/regex/string with some other string or the return value of a callable given the occurrence|\n",
    "|repeat()|Duplicate values (s.str.repeat(3) equivalent to x * 3)|\n",
    "|pad()|Add whitespace to left, right, or both sides of strings|\n",
    "|center()|Equivalent to str.center|\n",
    "|ljust()|Equivalent to str.ljust|\n",
    "|rjust()|Equivalent to str.rjust|\n",
    "|zfill()|Equivalent to str.zfill|\n",
    "|wrap()|Split long strings into lines with length less than a given width|\n",
    "|slice()|Slice each string in the Series|\n",
    "|slice_replace()|Replace slice in each string with passed value|\n",
    "|count()|Count occurrences of pattern|\n",
    "|startswith()|Equivalent to str.startswith(pat) for each element|\n",
    "|endswith()|Equivalent to str.endswith(pat) for each element|\n",
    "|findall()|Compute list of all occurrences of pattern/regex for each string|\n",
    "|match()|Call re.match on each element, returning matched groups as list|\n",
    "|extract()|Call re.search on each element, returning DataFrame with one row for each element and one column for each regex capture group|\n",
    "|extractall()|Call re.findall on each element, returning DataFrame with one row for each match and one column for each regex capture group|\n",
    "|len()|Compute string lengths|\n",
    "|strip()|Equivalent to str.strip|\n",
    "|rstrip()|Equivalent to str.rstrip|\n",
    "|lstrip()|Equivalent to str.lstrip|\n",
    "|partition()|Equivalent to str.partition|\n",
    "|rpartition()|Equivalent to str.rpartition|\n",
    "|lower()|Equivalent to str.lower|\n",
    "|casefold()|Equivalent to str.casefold|\n",
    "|upper()|Equivalent to str.upper|\n",
    "|find()|Equivalent to str.find|\n",
    "|rfind()|Equivalent to str.rfind|\n",
    "|index()|Equivalent to str.index|\n",
    "|rindex()|Equivalent to str.rindex|\n",
    "|capitalize()|Equivalent to str.capitalize|\n",
    "|swapcase()|Equivalent to str.swapcase|\n",
    "|normalize()|Return Unicode normal form. Equivalent to unicodedata.normalize|\n",
    "|translate()|Equivalent to str.translate|\n",
    "|isalnum()|Equivalent to str.isalnum|\n",
    "|isalpha()|Equivalent to str.isalpha|\n",
    "|isdigit()|Equivalent to str.isdigit|\n",
    "|isspace()|Equivalent to str.isspace|\n",
    "|islower()|Equivalent to str.islower|\n",
    "|isupper()|Equivalent to str.isupper|\n",
    "|istitle()|Equivalent to str.istitle|\n",
    "|isnumeric()|Equivalent to str.isnumeric|\n",
    "|isdecimal()|Equivalent to str.isdecimal|"
   ]
  },
  {
   "cell_type": "code",
   "execution_count": null,
   "id": "bff1dbf8-1f6d-4f06-a86d-fd337bde0e28",
   "metadata": {},
   "outputs": [],
   "source": []
  }
 ],
 "metadata": {
  "date": 1630231087.4356008,
  "filename": "27_Working_with_text.rst",
  "kernelspec": {
   "display_name": "Python 3",
   "language": "python",
   "name": "python3"
  },
  "language_info": {
   "codemirror_mode": {
    "name": "ipython",
    "version": 3
   },
   "file_extension": ".py",
   "mimetype": "text/x-python",
   "name": "python",
   "nbconvert_exporter": "python",
   "pygments_lexer": "ipython3",
   "version": "3.8.8"
  },
  "title": "Working with text data"
 },
 "nbformat": 4,
 "nbformat_minor": 5
}
