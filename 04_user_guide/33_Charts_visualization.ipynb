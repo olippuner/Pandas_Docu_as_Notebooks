{
 "cells": [
  {
   "cell_type": "code",
   "execution_count": null,
   "id": "7225eec2-0ac1-49ed-acb2-bb24e0c075d0",
   "metadata": {},
   "outputs": [],
   "source": [
    "import numpy as np\n",
    "import pandas as pd\n",
    "import matplotlib.pyplot as plt"
   ]
  },
  {
   "cell_type": "markdown",
   "id": "f03f6f49",
   "metadata": {},
   "source": [
    "# Chart Visualization\n",
    "\n",
    "This section demonstrates visualization through charting. For information on\n",
    "visualization of tabular data please see the section on [Table Visualization](style.ipynb).\n",
    "\n",
    "We use the standard convention for referencing the matplotlib API:"
   ]
  },
  {
   "cell_type": "code",
   "execution_count": null,
   "id": "a599793c",
   "metadata": {
    "hide-output": false
   },
   "outputs": [],
   "source": [
    "import matplotlib.pyplot as plt"
   ]
  },
  {
   "cell_type": "markdown",
   "id": "8343494c",
   "metadata": {},
   "source": [
    "We provide the basics in pandas to easily create decent looking plots.\n",
    "See the [ecosystem](../ecosystem.ipynb#ecosystem-visualization) section for visualization\n",
    "libraries that go beyond the basics documented here.\n",
    "\n",
    ">**Note**\n",
    ">\n",
    ">All calls to `np.random` are seeded with 123456.\n",
    "\n",
    "\n",
    "<a id='charts-visualization-basic'></a>"
   ]
  },
  {
   "cell_type": "markdown",
   "id": "000815eb",
   "metadata": {},
   "source": [
    "## Basic plotting: `plot`\n",
    "\n",
    "We will demonstrate the basics, see the [cookbook](44_cookbook.ipynb#cookbook-plotting) for\n",
    "some advanced strategies.\n",
    "\n",
    "The `plot` method on Series and DataFrame is just a simple wrapper around\n",
    "`plt.plot()`:"
   ]
  },
  {
   "cell_type": "code",
   "execution_count": null,
   "id": "172e4e9f",
   "metadata": {
    "hide-output": false
   },
   "outputs": [],
   "source": [
    "np.random.seed(123456)"
   ]
  },
  {
   "cell_type": "code",
   "execution_count": null,
   "id": "cd05b1e8",
   "metadata": {
    "hide-output": false
   },
   "outputs": [],
   "source": [
    "ts = pd.Series(np.random.randn(1000), index=pd.date_range(\"1/1/2000\", periods=1000))\n",
    "ts = ts.cumsum()\n",
    "\n",
    "ts.plot();"
   ]
  },
  {
   "cell_type": "markdown",
   "id": "75afd878",
   "metadata": {},
   "source": [
    "If the index consists of dates, it calls `gcf().autofmt_xdate()`\n",
    "to try to format the x-axis nicely as per above.\n",
    "\n",
    "On DataFrame, `plot()` is a convenience to plot all of the columns with labels:"
   ]
  },
  {
   "cell_type": "code",
   "execution_count": null,
   "id": "d4c156d1",
   "metadata": {
    "hide-output": false
   },
   "outputs": [],
   "source": [
    "plt.close(\"all\")\n",
    "np.random.seed(123456)"
   ]
  },
  {
   "cell_type": "code",
   "execution_count": null,
   "id": "cf8deab8",
   "metadata": {
    "hide-output": false
   },
   "outputs": [],
   "source": [
    "df = pd.DataFrame(np.random.randn(1000, 4), index=ts.index, columns=list(\"ABCD\"))\n",
    "df = df.cumsum()\n",
    "\n",
    "plt.figure();\n",
    "df.plot();"
   ]
  },
  {
   "cell_type": "markdown",
   "id": "552ba5ff",
   "metadata": {},
   "source": [
    "You can plot one column versus another using the `x` and `y` keywords in\n",
    "`plot()`:"
   ]
  },
  {
   "cell_type": "code",
   "execution_count": null,
   "id": "fb1e96ff",
   "metadata": {
    "hide-output": false
   },
   "outputs": [],
   "source": [
    "plt.close(\"all\")\n",
    "plt.figure()\n",
    "np.random.seed(123456)"
   ]
  },
  {
   "cell_type": "code",
   "execution_count": null,
   "id": "ff0f191b",
   "metadata": {
    "hide-output": false
   },
   "outputs": [],
   "source": [
    "df3 = pd.DataFrame(np.random.randn(1000, 2), columns=[\"B\", \"C\"]).cumsum()\n",
    "df3[\"A\"] = pd.Series(list(range(len(df))))\n",
    "\n",
    "df3.plot(x=\"A\", y=\"B\");"
   ]
  },
  {
   "cell_type": "markdown",
   "id": "ae11619c",
   "metadata": {},
   "source": [
    ">**Note**\n",
    ">\n",
    ">For more formatting and styling options, see\n",
    "formatting below."
   ]
  },
  {
   "cell_type": "code",
   "execution_count": null,
   "id": "8a14af30",
   "metadata": {
    "hide-output": false
   },
   "outputs": [],
   "source": [
    "plt.close(\"all\")"
   ]
  },
  {
   "cell_type": "markdown",
   "id": "18f466f3",
   "metadata": {},
   "source": [
    "\n",
    "<a id='charts-visualization-other'></a>"
   ]
  },
  {
   "cell_type": "markdown",
   "id": "86476476",
   "metadata": {},
   "source": [
    "## Other plots\n",
    "\n",
    "Plotting methods allow for a handful of plot styles other than the\n",
    "default line plot. These methods can be provided as the `kind`\n",
    "keyword argument to `plot()`, and include:\n",
    "\n",
    "- ‘bar’ or ‘barh’ for bar plots  \n",
    "- ‘hist’ for histogram  \n",
    "- ‘box’ for boxplot  \n",
    "- ‘kde’ or ‘density’ for density plots  \n",
    "- ‘area’ for area plots  \n",
    "- ‘scatter’ for scatter plots  \n",
    "- ‘hexbin’ for hexagonal bin plots  \n",
    "- ‘pie’ for pie plots  \n",
    "\n",
    "\n",
    "For example, a bar plot can be created the following way:"
   ]
  },
  {
   "cell_type": "code",
   "execution_count": null,
   "id": "66648151-a588-4aad-b803-eddca96a1635",
   "metadata": {},
   "outputs": [],
   "source": [
    "df.iloc[5]"
   ]
  },
  {
   "cell_type": "code",
   "execution_count": null,
   "id": "13eb8cf6",
   "metadata": {
    "hide-output": false
   },
   "outputs": [],
   "source": [
    "plt.figure();\n",
    "\n",
    "df.iloc[5].plot(kind=\"bar\");"
   ]
  },
  {
   "cell_type": "markdown",
   "id": "1748ac4e",
   "metadata": {},
   "source": [
    "You can also create these other plots using the methods `DataFrame.plot.<kind>` instead of providing the `kind` keyword argument. This makes it easier to discover plot methods and the specific arguments they use:\n",
    "\n",
    "In addition to these `kind` s, there are the DataFrame.hist(),\n",
    "and DataFrame.boxplot() methods, which use a separate interface.\n",
    "\n",
    "Finally, there are several plotting functions in `pandas.plotting`\n",
    "that take a `Series` or `DataFrame` as an argument. These\n",
    "include:\n",
    "\n",
    "- Scatter Matrix  \n",
    "- Andrews Curves  \n",
    "- Parallel Coordinates  \n",
    "- Lag Plot  \n",
    "- Autocorrelation Plot  \n",
    "- Bootstrap Plot  \n",
    "- RadViz  \n",
    "\n",
    "\n",
    "Plots may also be adorned with errorbars\n",
    "or tables.\n",
    "\n",
    "\n",
    "<a id='charts-visualization-barplot'></a>"
   ]
  },
  {
   "cell_type": "markdown",
   "id": "1857dd6a",
   "metadata": {},
   "source": [
    "### Bar plots\n",
    "\n",
    "For labeled, non-time series data, you may wish to produce a bar plot:"
   ]
  },
  {
   "cell_type": "code",
   "execution_count": null,
   "id": "3139a2ea",
   "metadata": {
    "hide-output": false
   },
   "outputs": [],
   "source": [
    "plt.figure();\n",
    "\n",
    "df.iloc[5].plot.bar();\n",
    "plt.axhline(0, color=\"k\");"
   ]
  },
  {
   "cell_type": "markdown",
   "id": "7f018a0d",
   "metadata": {},
   "source": [
    "Calling a DataFrame’s `plot.bar()` method produces a multiple\n",
    "bar plot:"
   ]
  },
  {
   "cell_type": "code",
   "execution_count": null,
   "id": "8fc818eb",
   "metadata": {
    "hide-output": false
   },
   "outputs": [],
   "source": [
    "plt.close(\"all\")\n",
    "plt.figure()\n",
    "np.random.seed(123456)"
   ]
  },
  {
   "cell_type": "code",
   "execution_count": null,
   "id": "d6f6bc1c",
   "metadata": {
    "hide-output": false
   },
   "outputs": [],
   "source": [
    "df2 = pd.DataFrame(np.random.rand(10, 4), columns=[\"a\", \"b\", \"c\", \"d\"])\n",
    "\n",
    "df2.plot.bar();"
   ]
  },
  {
   "cell_type": "markdown",
   "id": "d75381d4",
   "metadata": {},
   "source": [
    "To produce a stacked bar plot, pass `stacked=True`:"
   ]
  },
  {
   "cell_type": "code",
   "execution_count": null,
   "id": "5d4c8c21",
   "metadata": {
    "hide-output": false
   },
   "outputs": [],
   "source": [
    "plt.close(\"all\")\n",
    "plt.figure()"
   ]
  },
  {
   "cell_type": "code",
   "execution_count": null,
   "id": "a462f67f",
   "metadata": {
    "hide-output": false
   },
   "outputs": [],
   "source": [
    "df2.plot.bar(stacked=True);"
   ]
  },
  {
   "cell_type": "markdown",
   "id": "0c1d8b26",
   "metadata": {},
   "source": [
    "To get horizontal bar plots, use the `barh` method:"
   ]
  },
  {
   "cell_type": "code",
   "execution_count": null,
   "id": "49076f60",
   "metadata": {
    "hide-output": false
   },
   "outputs": [],
   "source": [
    "plt.close(\"all\")\n",
    "plt.figure()"
   ]
  },
  {
   "cell_type": "code",
   "execution_count": null,
   "id": "e1ad4252",
   "metadata": {
    "hide-output": false
   },
   "outputs": [],
   "source": [
    "df2.plot.barh(stacked=True);"
   ]
  },
  {
   "cell_type": "markdown",
   "id": "b16c55f3",
   "metadata": {},
   "source": [
    "\n",
    "<a id='charts-visualization-hist'></a>"
   ]
  },
  {
   "cell_type": "markdown",
   "id": "1ae45ad2",
   "metadata": {},
   "source": [
    "### Histograms\n",
    "\n",
    "Histograms can be drawn by using the `DataFrame.plot.hist()` and `Series.plot.hist()` methods."
   ]
  },
  {
   "cell_type": "code",
   "execution_count": null,
   "id": "fff43ca2",
   "metadata": {
    "hide-output": false
   },
   "outputs": [],
   "source": [
    "df4 = pd.DataFrame(\n",
    "    {\n",
    "        \"a\": np.random.randn(1000) + 1,\n",
    "        \"b\": np.random.randn(1000),\n",
    "        \"c\": np.random.randn(1000) - 1,\n",
    "    },\n",
    "    columns=[\"a\", \"b\", \"c\"],\n",
    ")\n",
    "\n",
    "plt.figure();\n",
    "\n",
    "df4.plot.hist(alpha=0.5);"
   ]
  },
  {
   "cell_type": "code",
   "execution_count": null,
   "id": "c14d581b",
   "metadata": {
    "hide-output": false
   },
   "outputs": [],
   "source": [
    "plt.close(\"all\")"
   ]
  },
  {
   "cell_type": "markdown",
   "id": "c401ccf5",
   "metadata": {},
   "source": [
    "A histogram can be stacked using `stacked=True`. Bin size can be changed\n",
    "using the `bins` keyword."
   ]
  },
  {
   "cell_type": "code",
   "execution_count": null,
   "id": "712e31dc",
   "metadata": {
    "hide-output": false
   },
   "outputs": [],
   "source": [
    "plt.figure();\n",
    "\n",
    "df4.plot.hist(stacked=True, bins=20);"
   ]
  },
  {
   "cell_type": "code",
   "execution_count": null,
   "id": "c238f47d",
   "metadata": {
    "hide-output": false
   },
   "outputs": [],
   "source": [
    "plt.close(\"all\")"
   ]
  },
  {
   "cell_type": "markdown",
   "id": "309577c4",
   "metadata": {},
   "source": [
    "You can pass other keywords supported by matplotlib `hist`. For example,\n",
    "horizontal and cumulative histograms can be drawn by\n",
    "`orientation='horizontal'` and `cumulative=True`."
   ]
  },
  {
   "cell_type": "code",
   "execution_count": null,
   "id": "9ea94cef",
   "metadata": {
    "hide-output": false
   },
   "outputs": [],
   "source": [
    "plt.figure();\n",
    "\n",
    "df4[\"a\"].plot.hist(orientation=\"horizontal\", cumulative=True);"
   ]
  },
  {
   "cell_type": "code",
   "execution_count": null,
   "id": "bb03634a",
   "metadata": {
    "hide-output": false
   },
   "outputs": [],
   "source": [
    "plt.close(\"all\")"
   ]
  },
  {
   "cell_type": "markdown",
   "id": "baec4b53",
   "metadata": {},
   "source": [
    "See the `hist` method and the\n",
    "[matplotlib hist documentation](https://matplotlib.org/api/pyplot_api.html#matplotlib.pyplot.hist) for more.\n",
    "\n",
    "The existing interface `DataFrame.hist` to plot histogram still can be used."
   ]
  },
  {
   "cell_type": "code",
   "execution_count": null,
   "id": "4e3d577b",
   "metadata": {
    "hide-output": false
   },
   "outputs": [],
   "source": [
    "plt.figure();\n",
    "\n",
    "df[\"A\"].diff().hist();"
   ]
  },
  {
   "cell_type": "code",
   "execution_count": null,
   "id": "cdec7259",
   "metadata": {
    "hide-output": false
   },
   "outputs": [],
   "source": [
    "plt.close(\"all\")"
   ]
  },
  {
   "cell_type": "markdown",
   "id": "9bd761a6",
   "metadata": {},
   "source": [
    "`DataFrame.hist()` plots the histograms of the columns on multiple\n",
    "subplots:"
   ]
  },
  {
   "cell_type": "code",
   "execution_count": null,
   "id": "d536cac7",
   "metadata": {
    "hide-output": false
   },
   "outputs": [],
   "source": [
    "plt.figure();\n",
    "\n",
    "df.diff().hist(color=\"k\", alpha=0.5, bins=50);"
   ]
  },
  {
   "cell_type": "markdown",
   "id": "2efb9871",
   "metadata": {},
   "source": [
    "The `by` keyword can be specified to plot grouped histograms:"
   ]
  },
  {
   "cell_type": "code",
   "execution_count": null,
   "id": "6d6fb26e",
   "metadata": {
    "hide-output": false
   },
   "outputs": [],
   "source": [
    "plt.close(\"all\")\n",
    "plt.figure()\n",
    "np.random.seed(123456)"
   ]
  },
  {
   "cell_type": "code",
   "execution_count": null,
   "id": "53e7d3d0",
   "metadata": {
    "hide-output": false
   },
   "outputs": [],
   "source": [
    "data = pd.Series(np.random.randn(1000))\n",
    "\n",
    "data.hist(by=np.random.randint(0, 4, 1000), figsize=(6, 4));"
   ]
  },
  {
   "cell_type": "code",
   "execution_count": null,
   "id": "0275a0b7",
   "metadata": {
    "hide-output": false
   },
   "outputs": [],
   "source": [
    "plt.close(\"all\")\n",
    "np.random.seed(123456)"
   ]
  },
  {
   "cell_type": "markdown",
   "id": "79aff333",
   "metadata": {},
   "source": [
    "In addition, the `by` keyword can also be specified in `DataFrame.plot.hist()`.\n",
    "\n",
    "Changed in version 1.4.0."
   ]
  },
  {
   "cell_type": "code",
   "execution_count": null,
   "id": "3c6f4496",
   "metadata": {
    "hide-output": false
   },
   "outputs": [],
   "source": [
    "data = pd.DataFrame(\n",
    "    {\n",
    "        \"a\": np.random.choice([\"x\", \"y\", \"z\"], 1000),\n",
    "        \"b\": np.random.choice([\"e\", \"f\", \"g\"], 1000),\n",
    "        \"c\": np.random.randn(1000),\n",
    "        \"d\": np.random.randn(1000) - 1,\n",
    "    },\n",
    ")\n",
    "\n",
    "data.plot.hist(by=[\"a\", \"b\"], figsize=(10, 5));"
   ]
  },
  {
   "cell_type": "code",
   "execution_count": null,
   "id": "ad5ee269",
   "metadata": {
    "hide-output": false
   },
   "outputs": [],
   "source": [
    "plt.close(\"all\")"
   ]
  },
  {
   "cell_type": "markdown",
   "id": "e009b2b5",
   "metadata": {},
   "source": [
    "\n",
    "<a id='charts-visualization-box'></a>"
   ]
  },
  {
   "cell_type": "markdown",
   "id": "4826c921",
   "metadata": {},
   "source": [
    "### Box plots\n",
    "\n",
    "Boxplot can be drawn calling `Series.plot.box()` and `DataFrame.plot.box()`,\n",
    "or `DataFrame.boxplot()` to visualize the distribution of values within each column.\n",
    "\n",
    "For instance, here is a boxplot representing five trials of 10 observations of\n",
    "a uniform random variable on [0,1)."
   ]
  },
  {
   "cell_type": "code",
   "execution_count": null,
   "id": "d9dcd799",
   "metadata": {
    "hide-output": false
   },
   "outputs": [],
   "source": [
    "plt.close(\"all\")\n",
    "np.random.seed(123456)"
   ]
  },
  {
   "cell_type": "code",
   "execution_count": null,
   "id": "22b62015",
   "metadata": {
    "hide-output": false
   },
   "outputs": [],
   "source": [
    "df = pd.DataFrame(np.random.rand(10, 5), columns=[\"A\", \"B\", \"C\", \"D\", \"E\"])\n",
    "\n",
    "df.plot.box();"
   ]
  },
  {
   "cell_type": "markdown",
   "id": "478a4862",
   "metadata": {},
   "source": [
    "Boxplot can be colorized by passing `color` keyword. You can pass a `dict`\n",
    "whose keys are `boxes`, `whiskers`, `medians` and `caps`.\n",
    "If some keys are missing in the `dict`, default colors are used\n",
    "for the corresponding artists. Also, boxplot has `sym` keyword to specify fliers style.\n",
    "\n",
    "When you pass other type of arguments via `color` keyword, it will be directly\n",
    "passed to matplotlib for all the `boxes`, `whiskers`, `medians` and `caps`\n",
    "colorization.\n",
    "\n",
    "The colors are applied to every boxes to be drawn. If you want\n",
    "more complicated colorization, you can get each drawn artists by passing\n",
    "return_type."
   ]
  },
  {
   "cell_type": "code",
   "execution_count": null,
   "id": "ef887433",
   "metadata": {
    "hide-output": false
   },
   "outputs": [],
   "source": [
    "color = {\n",
    "    \"boxes\": \"DarkGreen\",\n",
    "    \"whiskers\": \"DarkOrange\",\n",
    "    \"medians\": \"DarkBlue\",\n",
    "    \"caps\": \"Gray\",\n",
    "}\n",
    "\n",
    "df.plot.box(color=color, sym=\"r+\");"
   ]
  },
  {
   "cell_type": "code",
   "execution_count": null,
   "id": "dbd9ff44",
   "metadata": {
    "hide-output": false
   },
   "outputs": [],
   "source": [
    "plt.close(\"all\")"
   ]
  },
  {
   "cell_type": "markdown",
   "id": "49b54310",
   "metadata": {},
   "source": [
    "Also, you can pass other keywords supported by matplotlib `boxplot`.\n",
    "For example, horizontal and custom-positioned boxplot can be drawn by\n",
    "`vert=False` and `positions` keywords."
   ]
  },
  {
   "cell_type": "code",
   "execution_count": null,
   "id": "4310c435",
   "metadata": {
    "hide-output": false
   },
   "outputs": [],
   "source": [
    "df.plot.box(vert=False, positions=[1, 4, 5, 6, 8]);"
   ]
  },
  {
   "cell_type": "markdown",
   "id": "612b5799",
   "metadata": {},
   "source": [
    "See the `boxplot` method and the\n",
    "[matplotlib boxplot documentation](https://matplotlib.org/api/pyplot_api.html#matplotlib.pyplot.boxplot) for more.\n",
    "\n",
    "The existing interface `DataFrame.boxplot` to plot boxplot still can be used."
   ]
  },
  {
   "cell_type": "code",
   "execution_count": null,
   "id": "a9b0897d",
   "metadata": {
    "hide-output": false
   },
   "outputs": [],
   "source": [
    "plt.close(\"all\")\n",
    "np.random.seed(123456)"
   ]
  },
  {
   "cell_type": "code",
   "execution_count": null,
   "id": "05c959ad-7d7b-42ec-bb46-aa20dd8b91ca",
   "metadata": {},
   "outputs": [],
   "source": [
    "df = pd.DataFrame(np.random.rand(10, 5))\n",
    "plt.figure();\n",
    "\n",
    "bp = df.boxplot()"
   ]
  },
  {
   "cell_type": "markdown",
   "id": "fa6b1763-be07-40d0-8a41-c3b1fee97304",
   "metadata": {},
   "source": [
    "You can create a stratified boxplot using the `by` keyword argument to create\n",
    "groupings.  For instance,"
   ]
  },
  {
   "cell_type": "code",
   "execution_count": null,
   "id": "9150d39e",
   "metadata": {
    "hide-output": false
   },
   "outputs": [],
   "source": [
    "plt.close(\"all\")\n",
    "np.random.seed(123456)"
   ]
  },
  {
   "cell_type": "code",
   "execution_count": null,
   "id": "2b52f49b-21b3-48eb-9450-bbbf01a50089",
   "metadata": {},
   "outputs": [],
   "source": [
    "df = pd.DataFrame(np.random.rand(10, 2), columns=[\"Col1\", \"Col2\"])\n",
    "df[\"X\"] = pd.Series([\"A\", \"A\", \"A\", \"A\", \"A\", \"B\", \"B\", \"B\", \"B\", \"B\"])\n",
    "\n",
    "plt.figure();\n",
    "\n",
    "bp = df.boxplot(by=\"X\")"
   ]
  },
  {
   "cell_type": "markdown",
   "id": "7e71f613-df9b-4a8d-ab13-fc444eaf13bb",
   "metadata": {},
   "source": [
    "You can also pass a subset of columns to plot, as well as group by multiple\n",
    "columns:"
   ]
  },
  {
   "cell_type": "code",
   "execution_count": null,
   "id": "619af5fc",
   "metadata": {
    "hide-output": false
   },
   "outputs": [],
   "source": [
    "plt.close(\"all\")\n",
    "np.random.seed(123456)\n",
    "df = pd.DataFrame(np.random.rand(10, 3), columns=[\"Col1\", \"Col2\", \"Col3\"])\n",
    "df[\"X\"] = pd.Series([\"A\", \"A\", \"A\", \"A\", \"A\", \"B\", \"B\", \"B\", \"B\", \"B\"])\n",
    "df[\"Y\"] = pd.Series([\"A\", \"B\", \"A\", \"B\", \"A\", \"B\", \"A\", \"B\", \"A\", \"B\"])\n",
    "plt.figure();\n",
    "bp = df.boxplot(column=[\"Col1\", \"Col2\"], by=[\"X\", \"Y\"])"
   ]
  },
  {
   "cell_type": "code",
   "execution_count": null,
   "id": "b7125c85",
   "metadata": {
    "hide-output": false
   },
   "outputs": [],
   "source": [
    "plt.close(\"all\")"
   ]
  },
  {
   "cell_type": "markdown",
   "id": "5e7ba404",
   "metadata": {},
   "source": [
    "You could also create groupings with `DataFrame.plot.box()`, for instance:\n",
    "\n",
    "Changed in version 1.4.0."
   ]
  },
  {
   "cell_type": "code",
   "execution_count": null,
   "id": "566b5d50",
   "metadata": {
    "hide-output": false
   },
   "outputs": [],
   "source": [
    "plt.close(\"all\")\n"
   ]
  },
  {
   "cell_type": "markdown",
   "id": "6ae746cd-0096-4601-9723-dfc75af78f5d",
   "metadata": {},
   "source": [
    "<a id='charts-visualization-box-return'></a>\n",
    "In `boxplot`, the return type can be controlled by the `return_type`, keyword. The valid choices are `{\"axes\", \"dict\", \"both\", None}`.\n",
    "Faceting, created by `DataFrame.boxplot` with the `by`\n",
    "keyword, will affect the output type as well:\n",
    "\n",
    "|return_type|Faceted|Output type|\n",
    "|:--------------|:-----|:------------------------|\n",
    "|None|No|axes|\n",
    "|None|Yes|2-D ndarray of axes|\n",
    "|'axes'|No|axes|\n",
    "|'axes'|Yes|Series of axes|\n",
    "|'dict'|No|dict of artists|\n",
    "|'dict'|Yes|Series of dicts of artists|\n",
    "|'both'|No|namedtuple|\n",
    "|'both'|Yes|Series of namedtuples|\n",
    "\n",
    "\n",
    "`Groupby.boxplot` always returns a `Series` of `return_type`."
   ]
  },
  {
   "cell_type": "code",
   "execution_count": null,
   "id": "4ea20649-20c6-465a-9a72-8025aef8ee32",
   "metadata": {},
   "outputs": [],
   "source": [
    "np.random.seed(1234)\n",
    "df_box = pd.DataFrame(np.random.randn(50, 2))\n",
    "df_box[\"g\"] = np.random.choice([\"A\", \"B\"], size=50)\n",
    "df_box.loc[df_box[\"g\"] == \"B\", 1] += 3\n",
    "bp = df_box.boxplot(by=\"g\")"
   ]
  },
  {
   "cell_type": "code",
   "execution_count": null,
   "id": "967650a9",
   "metadata": {
    "hide-output": false
   },
   "outputs": [],
   "source": [
    "bp = df_box.groupby(\"g\").boxplot()"
   ]
  },
  {
   "cell_type": "markdown",
   "id": "06acbc68",
   "metadata": {},
   "source": [
    "The subplots above are split by the numeric columns first, then the value of\n",
    "the `g` column. Below the subplots are first split by the value of `g`,\n",
    "then by the numeric columns.\n"
   ]
  },
  {
   "cell_type": "code",
   "execution_count": null,
   "id": "e638a8db",
   "metadata": {
    "hide-output": false
   },
   "outputs": [],
   "source": [
    "plt.close(\"all\")"
   ]
  },
  {
   "cell_type": "markdown",
   "id": "a4cb2caa",
   "metadata": {},
   "source": [
    "\n",
    "<a id='charts-visualization-area-plot'></a>"
   ]
  },
  {
   "cell_type": "markdown",
   "id": "06977dfe",
   "metadata": {},
   "source": [
    "### Area plot\n",
    "\n",
    "You can create area plots with `Series.plot.area()` and `DataFrame.plot.area()`.\n",
    "Area plots are stacked by default. To produce stacked area plot, each column must be either all positive or all negative values.\n",
    "\n",
    "When input data contains `NaN`, it will be automatically filled by 0. If you want to drop or fill by different values, use `dataframe.dropna()` or `dataframe.fillna()` before calling `plot`."
   ]
  },
  {
   "cell_type": "code",
   "execution_count": null,
   "id": "7f78a61d",
   "metadata": {
    "hide-output": false
   },
   "outputs": [],
   "source": [
    "np.random.seed(123456)\n",
    "plt.figure()"
   ]
  },
  {
   "cell_type": "code",
   "execution_count": null,
   "id": "59d99519",
   "metadata": {
    "hide-output": false
   },
   "outputs": [],
   "source": [
    "df = pd.DataFrame(np.random.rand(10, 4), columns=[\"a\", \"b\", \"c\", \"d\"])\n",
    "\n",
    "df.plot.area();"
   ]
  },
  {
   "cell_type": "markdown",
   "id": "0e1bdd16",
   "metadata": {},
   "source": [
    "To produce an unstacked plot, pass `stacked=False`. Alpha value is set to 0.5 unless otherwise specified:"
   ]
  },
  {
   "cell_type": "code",
   "execution_count": null,
   "id": "1ce90148",
   "metadata": {
    "hide-output": false
   },
   "outputs": [],
   "source": [
    "plt.close(\"all\")\n",
    "plt.figure()"
   ]
  },
  {
   "cell_type": "code",
   "execution_count": null,
   "id": "a18b6ac6",
   "metadata": {
    "hide-output": false
   },
   "outputs": [],
   "source": [
    "df.plot.area(stacked=False);"
   ]
  },
  {
   "cell_type": "markdown",
   "id": "1d5abb21",
   "metadata": {},
   "source": [
    "\n",
    "<a id='charts-visualization-scatter'></a>"
   ]
  },
  {
   "cell_type": "markdown",
   "id": "f5ce4766",
   "metadata": {},
   "source": [
    "### Scatter plot\n",
    "\n",
    "Scatter plot can be drawn by using the `DataFrame.plot.scatter()` method.\n",
    "Scatter plot requires numeric columns for the x and y axes.\n",
    "These can be specified by the `x` and `y` keywords."
   ]
  },
  {
   "cell_type": "code",
   "execution_count": null,
   "id": "05821dff",
   "metadata": {
    "hide-output": false
   },
   "outputs": [],
   "source": [
    "np.random.seed(123456)\n",
    "plt.close(\"all\")\n",
    "plt.figure()"
   ]
  },
  {
   "cell_type": "code",
   "execution_count": null,
   "id": "b7c7ee35",
   "metadata": {
    "hide-output": false
   },
   "outputs": [],
   "source": [
    "df = pd.DataFrame(np.random.rand(50, 4), columns=[\"a\", \"b\", \"c\", \"d\"])\n",
    "df[\"species\"] = pd.Categorical(\n",
    "    [\"setosa\"] * 20 + [\"versicolor\"] * 20 + [\"virginica\"] * 10\n",
    ")\n",
    "\n",
    "df.plot.scatter(x=\"a\", y=\"b\");"
   ]
  },
  {
   "cell_type": "markdown",
   "id": "1294b4da",
   "metadata": {},
   "source": [
    "To plot multiple column groups in a single axes, repeat `plot` method specifying target `ax`.\n",
    "It is recommended to specify `color` and `label` keywords to distinguish each groups."
   ]
  },
  {
   "cell_type": "code",
   "execution_count": null,
   "id": "1cb1389e",
   "metadata": {
    "hide-output": false
   },
   "outputs": [],
   "source": [
    "ax = df.plot.scatter(x=\"a\", y=\"b\", color=\"DarkBlue\", label=\"Group 1\")\n",
    "df.plot.scatter(x=\"c\", y=\"d\", color=\"DarkGreen\", label=\"Group 2\", ax=ax);"
   ]
  },
  {
   "cell_type": "code",
   "execution_count": null,
   "id": "5b528a39",
   "metadata": {
    "hide-output": false
   },
   "outputs": [],
   "source": [
    "plt.close(\"all\")"
   ]
  },
  {
   "cell_type": "markdown",
   "id": "c9d04890",
   "metadata": {},
   "source": [
    "The keyword `c` may be given as the name of a column to provide colors for\n",
    "each point:"
   ]
  },
  {
   "cell_type": "code",
   "execution_count": null,
   "id": "6aac7b83",
   "metadata": {
    "hide-output": false
   },
   "outputs": [],
   "source": [
    "df.plot.scatter(x=\"a\", y=\"b\", c=\"c\", s=50);"
   ]
  },
  {
   "cell_type": "code",
   "execution_count": null,
   "id": "f4841d49",
   "metadata": {
    "hide-output": false
   },
   "outputs": [],
   "source": [
    "plt.close(\"all\")"
   ]
  },
  {
   "cell_type": "markdown",
   "id": "f5c9f923",
   "metadata": {},
   "source": [
    "If a categorical column is passed to `c`, then a discrete colorbar will be produced:\n",
    "\n",
    "New in version 1.3.0."
   ]
  },
  {
   "cell_type": "code",
   "execution_count": null,
   "id": "0e187817-02aa-465a-82db-e0420e9aa30e",
   "metadata": {},
   "outputs": [],
   "source": [
    "print(pd.__version__)"
   ]
  },
  {
   "cell_type": "code",
   "execution_count": null,
   "id": "d610c50d",
   "metadata": {
    "hide-output": false
   },
   "outputs": [],
   "source": [
    "df.plot.scatter(x=\"a\", y=\"b\", c=\"species\", cmap=\"viridis\", s=50);"
   ]
  },
  {
   "cell_type": "code",
   "execution_count": null,
   "id": "d4937261",
   "metadata": {
    "hide-output": false
   },
   "outputs": [],
   "source": [
    "plt.close(\"all\")"
   ]
  },
  {
   "cell_type": "markdown",
   "id": "b65450ff",
   "metadata": {},
   "source": [
    "You can pass other keywords supported by matplotlib\n",
    "`scatter`. The example  below shows a\n",
    "bubble chart using a column of the `DataFrame` as the bubble size."
   ]
  },
  {
   "cell_type": "code",
   "execution_count": null,
   "id": "5926f22a",
   "metadata": {
    "hide-output": false
   },
   "outputs": [],
   "source": [
    "df.plot.scatter(x=\"a\", y=\"b\", s=df[\"c\"] * 200);"
   ]
  },
  {
   "cell_type": "code",
   "execution_count": null,
   "id": "928deb66",
   "metadata": {
    "hide-output": false
   },
   "outputs": [],
   "source": [
    "plt.close(\"all\")"
   ]
  },
  {
   "cell_type": "markdown",
   "id": "63a03555",
   "metadata": {},
   "source": [
    "See the `scatter` method and the\n",
    "[matplotlib scatter documentation](https://matplotlib.org/api/pyplot_api.html#matplotlib.pyplot.scatter) for more.\n",
    "\n",
    "\n",
    "<a id='charts-visualization-hexbin'></a>"
   ]
  },
  {
   "cell_type": "markdown",
   "id": "8f5a63a2",
   "metadata": {},
   "source": [
    "### Hexagonal bin plot\n",
    "\n",
    "You can create hexagonal bin plots with `DataFrame.plot.hexbin()`.\n",
    "Hexbin plots can be a useful alternative to scatter plots if your data are\n",
    "too dense to plot each point individually."
   ]
  },
  {
   "cell_type": "code",
   "execution_count": null,
   "id": "8de19120",
   "metadata": {
    "hide-output": false
   },
   "outputs": [],
   "source": [
    "plt.figure()\n",
    "np.random.seed(123456)"
   ]
  },
  {
   "cell_type": "code",
   "execution_count": null,
   "id": "c287b70e",
   "metadata": {
    "hide-output": false
   },
   "outputs": [],
   "source": [
    "df = pd.DataFrame(np.random.randn(1000, 2), columns=[\"a\", \"b\"])\n",
    "df[\"b\"] = df[\"b\"] + np.arange(1000)\n",
    "\n",
    "df.plot.hexbin(x=\"a\", y=\"b\", gridsize=25);"
   ]
  },
  {
   "cell_type": "markdown",
   "id": "8bb9ad71",
   "metadata": {},
   "source": [
    "A useful keyword argument is `gridsize`; it controls the number of hexagons\n",
    "in the x-direction, and defaults to 100. A larger `gridsize` means more, smaller\n",
    "bins.\n",
    "\n",
    "By default, a histogram of the counts around each `(x, y)` point is computed.\n",
    "You can specify alternative aggregations by passing values to the `C` and\n",
    "`reduce_C_function` arguments. `C` specifies the value at each `(x, y)` point\n",
    "and `reduce_C_function` is a function of one argument that reduces all the\n",
    "values in a bin to a single number (e.g. `mean`, `max`, `sum`, `std`).  In this\n",
    "example the positions are given by columns `a` and `b`, while the value is\n",
    "given by column `z`. The bins are aggregated with NumPy’s `max` function."
   ]
  },
  {
   "cell_type": "code",
   "execution_count": null,
   "id": "c2883cf9",
   "metadata": {
    "hide-output": false
   },
   "outputs": [],
   "source": [
    "plt.close(\"all\")\n",
    "plt.figure()\n",
    "np.random.seed(123456)"
   ]
  },
  {
   "cell_type": "code",
   "execution_count": null,
   "id": "1d747d8f",
   "metadata": {
    "hide-output": false
   },
   "outputs": [],
   "source": [
    "df = pd.DataFrame(np.random.randn(1000, 2), columns=[\"a\", \"b\"])\n",
    "df[\"b\"] = df[\"b\"] + np.arange(1000)\n",
    "df[\"z\"] = np.random.uniform(0, 3, 1000)\n",
    "\n",
    "df.plot.hexbin(x=\"a\", y=\"b\", C=\"z\", reduce_C_function=np.max, gridsize=25);"
   ]
  },
  {
   "cell_type": "code",
   "execution_count": null,
   "id": "04fa9c06",
   "metadata": {
    "hide-output": false
   },
   "outputs": [],
   "source": [
    "plt.close(\"all\")"
   ]
  },
  {
   "cell_type": "markdown",
   "id": "3d18e441",
   "metadata": {},
   "source": [
    "See the `hexbin` method and the\n",
    "[matplotlib hexbin documentation](https://matplotlib.org/api/pyplot_api.html#matplotlib.pyplot.hexbin) for more.\n",
    "\n",
    "\n",
    "<a id='charts-visualization-pie'></a>"
   ]
  },
  {
   "cell_type": "markdown",
   "id": "129b69e4",
   "metadata": {},
   "source": [
    "### Pie plot\n",
    "\n",
    "You can create a pie plot with `DataFrame.plot.pie()` or `Series.plot.pie()`.\n",
    "If your data includes any `NaN`, they will be automatically filled with 0.\n",
    "A `ValueError` will be raised if there are any negative values in your data."
   ]
  },
  {
   "cell_type": "code",
   "execution_count": null,
   "id": "f43fcbc6",
   "metadata": {
    "hide-output": false
   },
   "outputs": [],
   "source": [
    "np.random.seed(123456)\n",
    "plt.figure()"
   ]
  },
  {
   "cell_type": "code",
   "execution_count": null,
   "id": "fb6f04a0-65ef-4ce0-a003-e833e325410f",
   "metadata": {},
   "outputs": [],
   "source": [
    "series = pd.Series(3 * np.random.rand(4), index=[\"a\", \"b\", \"c\", \"d\"], name=\"series\")\n",
    "series.plot.pie(figsize=(6, 6));\n",
    "\n"
   ]
  },
  {
   "cell_type": "code",
   "execution_count": null,
   "id": "761fac6b",
   "metadata": {
    "hide-output": false
   },
   "outputs": [],
   "source": [
    "plt.close(\"all\")"
   ]
  },
  {
   "cell_type": "markdown",
   "id": "32240f3e",
   "metadata": {},
   "source": [
    "For pie plots it’s best to use square figures, i.e. a figure aspect ratio 1.\n",
    "You can create the figure with equal width and height, or force the aspect ratio\n",
    "to be equal after plotting by calling `ax.set_aspect('equal')` on the returned\n",
    "`axes` object.\n",
    "\n",
    "Note that pie plot with `DataFrame` requires that you either specify a\n",
    "target column by the `y` argument or `subplots=True`. When `y` is\n",
    "specified, pie plot of selected column will be drawn. If `subplots=True` is\n",
    "specified, pie plots for each column are drawn as subplots. A legend will be\n",
    "drawn in each pie plots by default; specify `legend=False` to hide it."
   ]
  },
  {
   "cell_type": "code",
   "execution_count": null,
   "id": "f2933d0a",
   "metadata": {
    "hide-output": false
   },
   "outputs": [],
   "source": [
    "np.random.seed(123456)\n",
    "plt.figure()"
   ]
  },
  {
   "cell_type": "code",
   "execution_count": null,
   "id": "287a1d0b",
   "metadata": {
    "hide-output": false
   },
   "outputs": [],
   "source": [
    "df = pd.DataFrame(\n",
    "    3 * np.random.rand(4, 2), index=[\"a\", \"b\", \"c\", \"d\"], columns=[\"x\", \"y\"]\n",
    ")\n",
    "\n",
    "df.plot.pie(subplots=True, figsize=(8, 4));"
   ]
  },
  {
   "cell_type": "code",
   "execution_count": null,
   "id": "41b289e1",
   "metadata": {
    "hide-output": false
   },
   "outputs": [],
   "source": [
    "plt.close(\"all\")"
   ]
  },
  {
   "cell_type": "markdown",
   "id": "3ce8d118",
   "metadata": {},
   "source": [
    "You can use the `labels` and `colors` keywords to specify the labels and colors of each wedge.\n",
    "\n",
    "Most pandas plots use the `label` and `color` arguments (note the lack of “s” on those).\n",
    "To be consistent with `matplotlib.pyplot.pie()` you must use `labels` and `colors`.\n",
    "\n",
    "If you want to hide wedge labels, specify `labels=None`.\n",
    "If `fontsize` is specified, the value will be applied to wedge labels.\n",
    "Also, other keywords supported by `matplotlib.pyplot.pie()` can be used."
   ]
  },
  {
   "cell_type": "code",
   "execution_count": null,
   "id": "310e2b3d",
   "metadata": {
    "hide-output": false
   },
   "outputs": [],
   "source": [
    "plt.figure()"
   ]
  },
  {
   "cell_type": "code",
   "execution_count": null,
   "id": "30f2ddcf",
   "metadata": {
    "hide-output": false
   },
   "outputs": [],
   "source": [
    "series.plot.pie(\n",
    "    labels=[\"AA\", \"BB\", \"CC\", \"DD\"],\n",
    "    colors=[\"r\", \"g\", \"b\", \"c\"],\n",
    "    autopct=\"%.2f\",\n",
    "    fontsize=20,\n",
    "    figsize=(6, 6),\n",
    ");"
   ]
  },
  {
   "cell_type": "markdown",
   "id": "b9e82551",
   "metadata": {},
   "source": [
    "If you pass values whose sum total is less than 1.0, matplotlib draws a semicircle."
   ]
  },
  {
   "cell_type": "code",
   "execution_count": null,
   "id": "3566d5d2",
   "metadata": {
    "hide-output": false
   },
   "outputs": [],
   "source": [
    "plt.close(\"all\")\n",
    "plt.figure()"
   ]
  },
  {
   "cell_type": "markdown",
   "id": "03dfffbe",
   "metadata": {},
   "source": [
    "\n",
    "<dl style='margin: 20px 0;'>\n",
    "<dt>::</dt>\n",
    "<dd>\n",
    "\n",
    "<dl style='margin: 20px 0;'>\n",
    "<dt>okwarning</dt>\n",
    "<dd>\n",
    "</dd>\n",
    "\n",
    "</dl>\n",
    "\n",
    "series = pd.Series([0.1] * 4, index=[“a”, “b”, “c”, “d”], name=”series2”)\n",
    "\n",
    "series.plot.pie(figsize=(6, 6));\n",
    "\n",
    "</dd>\n",
    "\n",
    "</dl>\n",
    "\n",
    "See the [matplotlib pie documentation](https://matplotlib.org/api/pyplot_api.html#matplotlib.pyplot.pie) for more."
   ]
  },
  {
   "cell_type": "code",
   "execution_count": null,
   "id": "069b0675",
   "metadata": {
    "hide-output": false
   },
   "outputs": [],
   "source": [
    "plt.close(\"all\")"
   ]
  },
  {
   "cell_type": "markdown",
   "id": "6a115e50",
   "metadata": {},
   "source": [
    "\n",
    "<a id='charts-visualization-missing-data'></a>"
   ]
  },
  {
   "cell_type": "markdown",
   "id": "7cf8cbf8",
   "metadata": {},
   "source": [
    "## Plotting with missing data\n",
    "\n",
    "pandas tries to be pragmatic about plotting `DataFrames` or `Series`\n",
    "that contain missing data. Missing values are dropped, left out, or filled\n",
    "depending on the plot type.\n",
    "\n",
    "|Plot Type|NaN Handling|\n",
    "|:--------------|:------------------------------------|\n",
    "|Line|Leave gaps at NaNs|\n",
    "|Line (stacked)|Fill 0’s|\n",
    "|Bar|Fill 0’s|\n",
    "|Scatter|Drop NaNs|\n",
    "|Histogram|Drop NaNs (column-wise)|\n",
    "|Box|Drop NaNs (column-wise)|\n",
    "|Area|Fill 0’s|\n",
    "|KDE|Drop NaNs (column-wise)|\n",
    "|Hexbin|Drop NaNs|\n",
    "|Pie|Fill 0’s|\n",
    "\n",
    "If any of these defaults are not what you want, or if you want to be\n",
    "explicit about how missing values are handled, consider using\n",
    "`fillna()` or `dropna()`\n",
    "before plotting.\n",
    "\n",
    "\n",
    "<a id='charts-visualization-tools'></a>"
   ]
  },
  {
   "cell_type": "markdown",
   "id": "977a328b",
   "metadata": {},
   "source": [
    "## Plotting tools\n",
    "\n",
    "These functions can be imported from `pandas.plotting`\n",
    "and take a `Series` or `DataFrame` as an argument.\n",
    "\n",
    "\n",
    "<a id='charts-visualization-scatter-matrix'></a>"
   ]
  },
  {
   "cell_type": "markdown",
   "id": "4192b597",
   "metadata": {},
   "source": [
    "### Scatter matrix plot\n",
    "\n",
    "You can create a scatter plot matrix using the\n",
    "`scatter_matrix` method in `pandas.plotting`:"
   ]
  },
  {
   "cell_type": "code",
   "execution_count": null,
   "id": "2863bf3f",
   "metadata": {
    "hide-output": false
   },
   "outputs": [],
   "source": [
    "np.random.seed(123456)"
   ]
  },
  {
   "cell_type": "code",
   "execution_count": null,
   "id": "8400fe1e",
   "metadata": {
    "hide-output": false
   },
   "outputs": [],
   "source": [
    "from pandas.plotting import scatter_matrix\n",
    "\n",
    "df = pd.DataFrame(np.random.randn(1000, 4), columns=[\"a\", \"b\", \"c\", \"d\"])\n",
    "\n",
    "scatter_matrix(df, alpha=0.2, figsize=(6, 6), diagonal=\"kde\");"
   ]
  },
  {
   "cell_type": "code",
   "execution_count": null,
   "id": "efd688bf",
   "metadata": {
    "hide-output": false
   },
   "outputs": [],
   "source": [
    "plt.close(\"all\")"
   ]
  },
  {
   "cell_type": "markdown",
   "id": "3cd5e3c9",
   "metadata": {},
   "source": [
    "\n",
    "<a id='charts-visualization-kde'></a>"
   ]
  },
  {
   "cell_type": "markdown",
   "id": "b2022d7e",
   "metadata": {},
   "source": [
    "### Density plot\n",
    "\n",
    "You can create density plots using the `Series.plot.kde()` and `DataFrame.plot.kde()` methods."
   ]
  },
  {
   "cell_type": "code",
   "execution_count": null,
   "id": "2d87925b",
   "metadata": {
    "hide-output": false
   },
   "outputs": [],
   "source": [
    "plt.figure()\n",
    "np.random.seed(123456)"
   ]
  },
  {
   "cell_type": "code",
   "execution_count": null,
   "id": "7c97ed86",
   "metadata": {
    "hide-output": false
   },
   "outputs": [],
   "source": [
    "ser = pd.Series(np.random.randn(1000))\n",
    "\n",
    "ser.plot.kde();"
   ]
  },
  {
   "cell_type": "code",
   "execution_count": null,
   "id": "e33cfea3",
   "metadata": {
    "hide-output": false
   },
   "outputs": [],
   "source": [
    "plt.close(\"all\")"
   ]
  },
  {
   "cell_type": "markdown",
   "id": "5bd29973",
   "metadata": {},
   "source": [
    "\n",
    "<a id='charts-visualization-andrews-curves'></a>"
   ]
  },
  {
   "cell_type": "markdown",
   "id": "023d72fb",
   "metadata": {},
   "source": [
    "### Andrews curves\n",
    "\n",
    "Andrews curves allow one to plot multivariate data as a large number\n",
    "of curves that are created using the attributes of samples as coefficients\n",
    "for Fourier series, see the [Wikipedia entry](https://en.wikipedia.org/wiki/Andrews_plot)\n",
    "for more information. By coloring these curves differently for each class\n",
    "it is possible to visualize data clustering. Curves belonging to samples\n",
    "of the same class will usually be closer together and form larger structures.\n",
    "\n",
    "**Note**: The “Iris” dataset is available [here](https://raw.github.com/pandas-dev/pandas/master/pandas/tests/io/data/csv/iris.csv)."
   ]
  },
  {
   "cell_type": "code",
   "execution_count": null,
   "id": "fac122d6",
   "metadata": {
    "hide-output": false
   },
   "outputs": [],
   "source": [
    "from pandas.plotting import andrews_curves\n",
    "\n",
    "data = pd.read_csv(\"../data/iris.data\")\n",
    "plt.figure();\n",
    "andrews_curves(data, \"Name\");"
   ]
  },
  {
   "cell_type": "markdown",
   "id": "e3a72a38",
   "metadata": {},
   "source": [
    "\n",
    "<a id='charts-visualization-parallel-coordinates'></a>"
   ]
  },
  {
   "cell_type": "markdown",
   "id": "e6233a5f",
   "metadata": {},
   "source": [
    "### Parallel coordinates\n",
    "\n",
    "Parallel coordinates is a plotting technique for plotting multivariate data,\n",
    "see the [Wikipedia entry](https://en.wikipedia.org/wiki/Parallel_coordinates)\n",
    "for an introduction.\n",
    "Parallel coordinates allows one to see clusters in data and to estimate other statistics visually.\n",
    "Using parallel coordinates points are represented as connected line segments.\n",
    "Each vertical line represents one attribute. One set of connected line segments\n",
    "represents one data point. Points that tend to cluster will appear closer together."
   ]
  },
  {
   "cell_type": "code",
   "execution_count": null,
   "id": "f85e54d4",
   "metadata": {
    "hide-output": false
   },
   "outputs": [],
   "source": [
    "from pandas.plotting import parallel_coordinates\n",
    "data = pd.read_csv(\"../data/iris.data\")\n",
    "plt.figure();\n",
    "parallel_coordinates(data, \"Name\");"
   ]
  },
  {
   "cell_type": "code",
   "execution_count": null,
   "id": "750b4066",
   "metadata": {
    "hide-output": false
   },
   "outputs": [],
   "source": [
    "plt.close(\"all\")"
   ]
  },
  {
   "cell_type": "markdown",
   "id": "e4f88941",
   "metadata": {},
   "source": [
    "\n",
    "<a id='charts-visualization-lag'></a>"
   ]
  },
  {
   "cell_type": "markdown",
   "id": "07148517",
   "metadata": {},
   "source": [
    "### Lag plot\n",
    "\n",
    "Lag plots are used to check if a data set or time series is random. Random\n",
    "data should not exhibit any structure in the lag plot. Non-random structure\n",
    "implies that the underlying data are not random. The `lag` argument may\n",
    "be passed, and when `lag=1` the plot is essentially `data[:-1]` vs.\n",
    "`data[1:]`."
   ]
  },
  {
   "cell_type": "code",
   "execution_count": null,
   "id": "450fb787",
   "metadata": {
    "hide-output": false
   },
   "outputs": [],
   "source": [
    "np.random.seed(123456)"
   ]
  },
  {
   "cell_type": "code",
   "execution_count": null,
   "id": "ed54fed9",
   "metadata": {
    "hide-output": false
   },
   "outputs": [],
   "source": [
    "from pandas.plotting import lag_plot\n",
    "\n",
    "plt.figure();\n",
    "\n",
    "spacing = np.linspace(-99 * np.pi, 99 * np.pi, num=1000)\n",
    "data = pd.Series(0.1 * np.random.rand(1000) + 0.9 * np.sin(spacing))\n",
    "\n",
    "lag_plot(data);"
   ]
  },
  {
   "cell_type": "code",
   "execution_count": null,
   "id": "c02f070e",
   "metadata": {
    "hide-output": false
   },
   "outputs": [],
   "source": [
    "plt.close(\"all\")"
   ]
  },
  {
   "cell_type": "markdown",
   "id": "d98da6e7",
   "metadata": {},
   "source": [
    "\n",
    "<a id='charts-visualization-autocorrelation'></a>"
   ]
  },
  {
   "cell_type": "markdown",
   "id": "0d7fc3a7",
   "metadata": {},
   "source": [
    "### Autocorrelation plot\n",
    "\n",
    "Autocorrelation plots are often used for checking randomness in time series.\n",
    "This is done by computing autocorrelations for data values at varying time lags.\n",
    "If time series is random, such autocorrelations should be near zero for any and\n",
    "all time-lag separations. If time series is non-random then one or more of the\n",
    "autocorrelations will be significantly non-zero. The horizontal lines displayed\n",
    "in the plot correspond to 95% and 99% confidence bands. The dashed line is 99%\n",
    "confidence band. See the\n",
    "[Wikipedia entry](https://en.wikipedia.org/wiki/Correlogram) for more about\n",
    "autocorrelation plots."
   ]
  },
  {
   "cell_type": "code",
   "execution_count": null,
   "id": "a0d75776",
   "metadata": {
    "hide-output": false
   },
   "outputs": [],
   "source": [
    "np.random.seed(123456)"
   ]
  },
  {
   "cell_type": "code",
   "execution_count": null,
   "id": "fd26019a",
   "metadata": {
    "hide-output": false
   },
   "outputs": [],
   "source": [
    "from pandas.plotting import autocorrelation_plot\n",
    "\n",
    "plt.figure();\n",
    "\n",
    "spacing = np.linspace(-9 * np.pi, 9 * np.pi, num=1000)\n",
    "data = pd.Series(0.7 * np.random.rand(1000) + 0.3 * np.sin(spacing))\n",
    "\n",
    "autocorrelation_plot(data);"
   ]
  },
  {
   "cell_type": "code",
   "execution_count": null,
   "id": "80ca875b",
   "metadata": {
    "hide-output": false
   },
   "outputs": [],
   "source": [
    "plt.close(\"all\")"
   ]
  },
  {
   "cell_type": "markdown",
   "id": "3fd2752a",
   "metadata": {},
   "source": [
    "\n",
    "<a id='charts-visualization-bootstrap'></a>"
   ]
  },
  {
   "cell_type": "markdown",
   "id": "a667a68d",
   "metadata": {},
   "source": [
    "### Bootstrap plot\n",
    "\n",
    "Bootstrap plots are used to visually assess the uncertainty of a statistic, such\n",
    "as mean, median, midrange, etc. A random subset of a specified size is selected\n",
    "from a data set, the statistic in question is computed for this subset and the\n",
    "process is repeated a specified number of times. Resulting plots and histograms\n",
    "are what constitutes the bootstrap plot."
   ]
  },
  {
   "cell_type": "code",
   "execution_count": null,
   "id": "4f423eef",
   "metadata": {
    "hide-output": false
   },
   "outputs": [],
   "source": [
    "np.random.seed(123456)"
   ]
  },
  {
   "cell_type": "code",
   "execution_count": null,
   "id": "9c0ac589",
   "metadata": {
    "hide-output": false
   },
   "outputs": [],
   "source": [
    "from pandas.plotting import bootstrap_plot\n",
    "\n",
    "data = pd.Series(np.random.rand(1000))\n",
    "\n",
    "bootstrap_plot(data, size=50, samples=500, color=\"grey\");"
   ]
  },
  {
   "cell_type": "code",
   "execution_count": null,
   "id": "98bc339f",
   "metadata": {
    "hide-output": false
   },
   "outputs": [],
   "source": [
    "plt.close(\"all\")"
   ]
  },
  {
   "cell_type": "markdown",
   "id": "62732b92",
   "metadata": {},
   "source": [
    "\n",
    "<a id='charts-visualization-radviz'></a>"
   ]
  },
  {
   "cell_type": "markdown",
   "id": "461ea714",
   "metadata": {},
   "source": [
    "### RadViz\n",
    "\n",
    "RadViz is a way of visualizing multi-variate data. It is based on a simple\n",
    "spring tension minimization algorithm. Basically you set up a bunch of points in\n",
    "a plane. In our case they are equally spaced on a unit circle. Each point\n",
    "represents a single attribute. You then pretend that each sample in the data set\n",
    "is attached to each of these points by a spring, the stiffness of which is\n",
    "proportional to the numerical value of that attribute (they are normalized to\n",
    "unit interval). The point in the plane, where our sample settles to (where the\n",
    "forces acting on our sample are at an equilibrium) is where a dot representing\n",
    "our sample will be drawn. Depending on which class that sample belongs it will\n",
    "be colored differently.\n",
    "See the R package [Radviz](https://cran.r-project.org/package=Radviz/)\n",
    "for more information.\n",
    "\n",
    "**Note**: The “Iris” dataset is available [here](https://raw.github.com/pandas-dev/pandas/master/pandas/tests/io/data/csv/iris.csv)."
   ]
  },
  {
   "cell_type": "code",
   "execution_count": null,
   "id": "3d45c1cb",
   "metadata": {
    "hide-output": false
   },
   "outputs": [],
   "source": [
    "from pandas.plotting import radviz\n",
    "\n",
    "data = pd.read_csv(\"../data/iris.data\")\n",
    "plt.figure();\n",
    "radviz(data, \"Name\");"
   ]
  },
  {
   "cell_type": "code",
   "execution_count": null,
   "id": "4b0968bf",
   "metadata": {
    "hide-output": false
   },
   "outputs": [],
   "source": [
    "plt.close(\"all\")"
   ]
  },
  {
   "cell_type": "markdown",
   "id": "22a13ff0",
   "metadata": {},
   "source": [
    "\n",
    "<a id='charts-visualization-formatting'></a>"
   ]
  },
  {
   "cell_type": "markdown",
   "id": "1ac69f8f",
   "metadata": {},
   "source": [
    "## Plot formatting"
   ]
  },
  {
   "cell_type": "markdown",
   "id": "a6973fc1",
   "metadata": {},
   "source": [
    "### Setting the plot style\n",
    "\n",
    "From version 1.5 and up, matplotlib offers a range of pre-configured plotting styles. Setting the\n",
    "style can be used to easily give plots the general look that you want.\n",
    "Setting the style is as easy as calling `matplotlib.style.use(my_plot_style)` before\n",
    "creating your plot. For example you could write `matplotlib.style.use('ggplot')` for ggplot-style\n",
    "plots.\n",
    "\n",
    "You can see the various available style names at `matplotlib.style.available` and it’s very\n",
    "easy to try them out."
   ]
  },
  {
   "cell_type": "markdown",
   "id": "534a1bb4",
   "metadata": {},
   "source": [
    "### General plot style arguments\n",
    "\n",
    "Most plotting methods have a set of keyword arguments that control the\n",
    "layout and formatting of the returned plot:"
   ]
  },
  {
   "cell_type": "code",
   "execution_count": null,
   "id": "06f130a5",
   "metadata": {
    "hide-output": false
   },
   "outputs": [],
   "source": [
    "plt.figure();\n",
    "ts.plot(style=\"k--\", label=\"Series\");"
   ]
  },
  {
   "cell_type": "code",
   "execution_count": null,
   "id": "63f81f65",
   "metadata": {
    "hide-output": false
   },
   "outputs": [],
   "source": [
    "plt.close(\"all\")"
   ]
  },
  {
   "cell_type": "markdown",
   "id": "5ea9e759",
   "metadata": {},
   "source": [
    "For each kind of plot (e.g. `line`, `bar`, `scatter`) any additional arguments\n",
    "keywords are passed along to the corresponding matplotlib function\n",
    "(`ax.plot()`,\n",
    "`ax.bar()`,\n",
    "`ax.scatter()`). These can be used\n",
    "to control additional styling, beyond what pandas provides."
   ]
  },
  {
   "cell_type": "markdown",
   "id": "e22d9dd7",
   "metadata": {},
   "source": [
    "### Controlling the legend\n",
    "\n",
    "You may set the `legend` argument to `False` to hide the legend, which is\n",
    "shown by default."
   ]
  },
  {
   "cell_type": "code",
   "execution_count": null,
   "id": "88557135",
   "metadata": {
    "hide-output": false
   },
   "outputs": [],
   "source": [
    "np.random.seed(123456)"
   ]
  },
  {
   "cell_type": "code",
   "execution_count": null,
   "id": "87e86d25",
   "metadata": {
    "hide-output": false
   },
   "outputs": [],
   "source": [
    "df = pd.DataFrame(np.random.randn(1000, 4), index=ts.index, columns=list(\"ABCD\"))\n",
    "df = df.cumsum()\n",
    "\n",
    "df.plot(legend=False);"
   ]
  },
  {
   "cell_type": "code",
   "execution_count": null,
   "id": "8dc1224b",
   "metadata": {
    "hide-output": false
   },
   "outputs": [],
   "source": [
    "plt.close(\"all\")"
   ]
  },
  {
   "cell_type": "markdown",
   "id": "500dbb06",
   "metadata": {},
   "source": [
    "### Controlling the labels\n",
    "\n",
    "New in version 1.1.0.\n",
    "\n",
    "You may set the `xlabel` and `ylabel` arguments to give the plot custom labels\n",
    "for x and y axis. By default, pandas will pick up index name as xlabel, while leaving\n",
    "it empty for ylabel."
   ]
  },
  {
   "cell_type": "code",
   "execution_count": null,
   "id": "5341de32",
   "metadata": {
    "hide-output": false
   },
   "outputs": [],
   "source": [
    "plt.figure();"
   ]
  },
  {
   "cell_type": "code",
   "execution_count": null,
   "id": "69ee7fa7",
   "metadata": {
    "hide-output": false
   },
   "outputs": [],
   "source": [
    "df.plot();\n",
    "\n",
    "df.plot(xlabel=\"new x\", ylabel=\"new y\");"
   ]
  },
  {
   "cell_type": "code",
   "execution_count": null,
   "id": "b05c3918",
   "metadata": {
    "hide-output": false
   },
   "outputs": [],
   "source": [
    "plt.close(\"all\")"
   ]
  },
  {
   "cell_type": "markdown",
   "id": "63cbe73e",
   "metadata": {},
   "source": [
    "### Scales\n",
    "\n",
    "You may pass `logy` to get a log-scale Y axis."
   ]
  },
  {
   "cell_type": "code",
   "execution_count": null,
   "id": "d45259aa",
   "metadata": {
    "hide-output": false
   },
   "outputs": [],
   "source": [
    "plt.figure()\n",
    "np.random.seed(123456)"
   ]
  },
  {
   "cell_type": "code",
   "execution_count": null,
   "id": "68ec97fc",
   "metadata": {
    "hide-output": false
   },
   "outputs": [],
   "source": [
    "ts = pd.Series(np.random.randn(1000), index=pd.date_range(\"1/1/2000\", periods=1000))\n",
    "ts = np.exp(ts.cumsum())\n",
    "\n",
    "ts.plot(logy=True);"
   ]
  },
  {
   "cell_type": "code",
   "execution_count": null,
   "id": "60967f53",
   "metadata": {
    "hide-output": false
   },
   "outputs": [],
   "source": [
    "plt.close(\"all\")"
   ]
  },
  {
   "cell_type": "markdown",
   "id": "0a674ae9",
   "metadata": {},
   "source": [
    "See also the `logx` and `loglog` keyword arguments."
   ]
  },
  {
   "cell_type": "markdown",
   "id": "08e28a5a",
   "metadata": {},
   "source": [
    "### Plotting on a secondary y-axis\n",
    "\n",
    "To plot data on a secondary y-axis, use the `secondary_y` keyword:"
   ]
  },
  {
   "cell_type": "code",
   "execution_count": null,
   "id": "1d67185f",
   "metadata": {
    "hide-output": false
   },
   "outputs": [],
   "source": [
    "plt.figure()"
   ]
  },
  {
   "cell_type": "code",
   "execution_count": null,
   "id": "cb8ebffc",
   "metadata": {
    "hide-output": false
   },
   "outputs": [],
   "source": [
    "df[\"A\"].plot();\n",
    "\n",
    "df[\"B\"].plot(secondary_y=True, style=\"g\");"
   ]
  },
  {
   "cell_type": "code",
   "execution_count": null,
   "id": "0dab2456",
   "metadata": {
    "hide-output": false
   },
   "outputs": [],
   "source": [
    "plt.close(\"all\")"
   ]
  },
  {
   "cell_type": "markdown",
   "id": "3c75c7c0",
   "metadata": {},
   "source": [
    "To plot some columns in a `DataFrame`, give the column names to the `secondary_y`\n",
    "keyword:"
   ]
  },
  {
   "cell_type": "code",
   "execution_count": null,
   "id": "9952d72e",
   "metadata": {
    "hide-output": false
   },
   "outputs": [],
   "source": [
    "plt.figure();\n",
    "ax = df.plot(secondary_y=[\"A\", \"B\"])\n",
    "ax.set_ylabel(\"CD scale\");\n",
    "ax.right_ax.set_ylabel(\"AB scale\");"
   ]
  },
  {
   "cell_type": "code",
   "execution_count": null,
   "id": "b70a2a7c",
   "metadata": {
    "hide-output": false
   },
   "outputs": [],
   "source": [
    "plt.close(\"all\")"
   ]
  },
  {
   "cell_type": "markdown",
   "id": "4d58e9ec",
   "metadata": {},
   "source": [
    "Note that the columns plotted on the secondary y-axis is automatically marked\n",
    "with “(right)” in the legend. To turn off the automatic marking, use the\n",
    "`mark_right=False` keyword:"
   ]
  },
  {
   "cell_type": "code",
   "execution_count": null,
   "id": "29b7bf0c",
   "metadata": {
    "hide-output": false
   },
   "outputs": [],
   "source": [
    "plt.figure();\n",
    "\n",
    "df.plot(secondary_y=[\"A\", \"B\"], mark_right=False);"
   ]
  },
  {
   "cell_type": "code",
   "execution_count": null,
   "id": "69acd738",
   "metadata": {
    "hide-output": false
   },
   "outputs": [],
   "source": [
    "plt.close(\"all\")"
   ]
  },
  {
   "cell_type": "markdown",
   "id": "bacde731",
   "metadata": {},
   "source": [
    "\n",
    "<a id='plotting-formatters'></a>"
   ]
  },
  {
   "cell_type": "markdown",
   "id": "f4daf277",
   "metadata": {},
   "source": [
    "### Custom formatters for timeseries plots\n",
    "\n",
    "Changed in version 1.0.0.\n",
    "\n",
    "pandas provides custom formatters for timeseries plots. These change the\n",
    "formatting of the axis labels for dates and times. By default,\n",
    "the custom formatters are applied only to plots created by pandas with\n",
    "`DataFrame.plot()` or `Series.plot()`. To have them apply to all\n",
    "plots, including those made by matplotlib, set the option\n",
    "`pd.options.plotting.matplotlib.register_converters = True` or use\n",
    "`pandas.plotting.register_matplotlib_converters()`."
   ]
  },
  {
   "cell_type": "markdown",
   "id": "9af9b583",
   "metadata": {},
   "source": [
    "### Suppressing tick resolution adjustment\n",
    "\n",
    "pandas includes automatic tick resolution adjustment for regular frequency\n",
    "time-series data. For limited cases where pandas cannot infer the frequency\n",
    "information (e.g., in an externally created `twinx`), you can choose to\n",
    "suppress this behavior for alignment purposes.\n",
    "\n",
    "Here is the default behavior, notice how the x-axis tick labeling is performed:"
   ]
  },
  {
   "cell_type": "code",
   "execution_count": null,
   "id": "edf4203e",
   "metadata": {
    "hide-output": false
   },
   "outputs": [],
   "source": [
    "plt.figure();\n",
    "\n",
    "df[\"A\"].plot();"
   ]
  },
  {
   "cell_type": "code",
   "execution_count": null,
   "id": "c58eb8ea",
   "metadata": {
    "hide-output": false
   },
   "outputs": [],
   "source": [
    "plt.close(\"all\")"
   ]
  },
  {
   "cell_type": "markdown",
   "id": "d56cd78d",
   "metadata": {},
   "source": [
    "Using the `x_compat` parameter, you can suppress this behavior:"
   ]
  },
  {
   "cell_type": "code",
   "execution_count": null,
   "id": "ccbc8627",
   "metadata": {
    "hide-output": false
   },
   "outputs": [],
   "source": [
    "plt.figure();\n",
    "\n",
    "df[\"A\"].plot(x_compat=True);"
   ]
  },
  {
   "cell_type": "code",
   "execution_count": null,
   "id": "a9ef7354",
   "metadata": {
    "hide-output": false
   },
   "outputs": [],
   "source": [
    "plt.close(\"all\")"
   ]
  },
  {
   "cell_type": "markdown",
   "id": "fc19a764",
   "metadata": {},
   "source": [
    "If you have more than one plot that needs to be suppressed, the `use` method\n",
    "in `pandas.plotting.plot_params` can be used in a `with` statement:"
   ]
  },
  {
   "cell_type": "code",
   "execution_count": null,
   "id": "823cf70d",
   "metadata": {
    "hide-output": false
   },
   "outputs": [],
   "source": [
    "plt.figure();\n",
    "\n",
    "with pd.plotting.plot_params.use(\"x_compat\", True):\n",
    "    df[\"A\"].plot(color=\"r\")\n",
    "    df[\"B\"].plot(color=\"g\")\n",
    "    df[\"C\"].plot(color=\"b\")"
   ]
  },
  {
   "cell_type": "code",
   "execution_count": null,
   "id": "52c9cbd1",
   "metadata": {
    "hide-output": false
   },
   "outputs": [],
   "source": [
    "plt.close(\"all\")"
   ]
  },
  {
   "cell_type": "markdown",
   "id": "6b9836bf",
   "metadata": {},
   "source": [
    "### Automatic date tick adjustment\n",
    "\n",
    "`TimedeltaIndex` now uses the native matplotlib\n",
    "tick locator methods, it is useful to call the automatic\n",
    "date tick adjustment from matplotlib for figures whose ticklabels overlap.\n",
    "\n",
    "See the `autofmt_xdate` method and the\n",
    "[matplotlib documentation](https://matplotlib.org/users/recipes.html#fixing-common-date-annoyances) for more."
   ]
  },
  {
   "cell_type": "markdown",
   "id": "68ef972b",
   "metadata": {},
   "source": [
    "### Subplots\n",
    "\n",
    "Each `Series` in a `DataFrame` can be plotted on a different axis\n",
    "with the `subplots` keyword:"
   ]
  },
  {
   "cell_type": "code",
   "execution_count": null,
   "id": "a96f3d16",
   "metadata": {
    "hide-output": false
   },
   "outputs": [],
   "source": [
    "df.plot(subplots=True, figsize=(6, 6));"
   ]
  },
  {
   "cell_type": "code",
   "execution_count": null,
   "id": "2b761fc8",
   "metadata": {
    "hide-output": false
   },
   "outputs": [],
   "source": [
    "plt.close(\"all\")"
   ]
  },
  {
   "cell_type": "markdown",
   "id": "6bd76f2a",
   "metadata": {},
   "source": [
    "### Using layout and targeting multiple axes\n",
    "\n",
    "The layout of subplots can be specified by the `layout` keyword. It can accept\n",
    "`(rows, columns)`. The `layout` keyword can be used in\n",
    "`hist` and `boxplot` also. If the input is invalid, a `ValueError` will be raised.\n",
    "\n",
    "The number of axes which can be contained by rows x columns specified by `layout` must be\n",
    "larger than the number of required subplots. If layout can contain more axes than required,\n",
    "blank axes are not drawn. Similar to a NumPy array’s `reshape` method, you\n",
    "can use `-1` for one dimension to automatically calculate the number of rows\n",
    "or columns needed, given the other."
   ]
  },
  {
   "cell_type": "code",
   "execution_count": null,
   "id": "060956ce",
   "metadata": {
    "hide-output": false
   },
   "outputs": [],
   "source": [
    "df.plot(subplots=True, layout=(2, 3), figsize=(6, 6), sharex=False);"
   ]
  },
  {
   "cell_type": "code",
   "execution_count": null,
   "id": "fbe371fb",
   "metadata": {
    "hide-output": false
   },
   "outputs": [],
   "source": [
    "plt.close(\"all\")"
   ]
  },
  {
   "cell_type": "markdown",
   "id": "407a37e3",
   "metadata": {},
   "source": [
    "The above example is identical to using:"
   ]
  },
  {
   "cell_type": "code",
   "execution_count": null,
   "id": "298a2b8e",
   "metadata": {
    "hide-output": false
   },
   "outputs": [],
   "source": [
    "df.plot(subplots=True, layout=(2, -1), figsize=(6, 6), sharex=False);"
   ]
  },
  {
   "cell_type": "code",
   "execution_count": null,
   "id": "cb4b888f",
   "metadata": {
    "hide-output": false
   },
   "outputs": [],
   "source": [
    "plt.close(\"all\")"
   ]
  },
  {
   "cell_type": "markdown",
   "id": "a6e0a32e",
   "metadata": {},
   "source": [
    "The required number of columns (3) is inferred from the number of series to plot\n",
    "and the given number of rows (2).\n",
    "\n",
    "You can pass multiple axes created beforehand as list-like via `ax` keyword.\n",
    "This allows more complicated layouts.\n",
    "The passed axes must be the same number as the subplots being drawn.\n",
    "\n",
    "When multiple axes are passed via the `ax` keyword, `layout`, `sharex` and `sharey` keywords\n",
    "don’t affect to the output. You should explicitly pass `sharex=False` and `sharey=False`,\n",
    "otherwise you will see a warning."
   ]
  },
  {
   "cell_type": "code",
   "execution_count": null,
   "id": "99851097",
   "metadata": {
    "hide-output": false
   },
   "outputs": [],
   "source": [
    "fig, axes = plt.subplots(4, 4, figsize=(9, 9))\n",
    "plt.subplots_adjust(wspace=0.5, hspace=0.5)\n",
    "target1 = [axes[0][0], axes[1][1], axes[2][2], axes[3][3]]\n",
    "target2 = [axes[3][0], axes[2][1], axes[1][2], axes[0][3]]\n",
    "\n",
    "df.plot(subplots=True, ax=target1, legend=False, sharex=False, sharey=False);\n",
    "(-df).plot(subplots=True, ax=target2, legend=False, sharex=False, sharey=False);"
   ]
  },
  {
   "cell_type": "code",
   "execution_count": null,
   "id": "4c107695",
   "metadata": {
    "hide-output": false
   },
   "outputs": [],
   "source": [
    "plt.close(\"all\")"
   ]
  },
  {
   "cell_type": "markdown",
   "id": "43c552ee",
   "metadata": {},
   "source": [
    "Another option is passing an `ax` argument to `Series.plot()` to plot on a particular axis:"
   ]
  },
  {
   "cell_type": "code",
   "execution_count": null,
   "id": "32290520",
   "metadata": {
    "hide-output": false
   },
   "outputs": [],
   "source": [
    "np.random.seed(123456)\n",
    "ts = pd.Series(np.random.randn(1000), index=pd.date_range(\"1/1/2000\", periods=1000))\n",
    "ts = ts.cumsum()\n",
    "\n",
    "df = pd.DataFrame(np.random.randn(1000, 4), index=ts.index, columns=list(\"ABCD\"))\n",
    "df = df.cumsum()"
   ]
  },
  {
   "cell_type": "code",
   "execution_count": null,
   "id": "bb1d244e",
   "metadata": {
    "hide-output": false
   },
   "outputs": [],
   "source": [
    "plt.close(\"all\")"
   ]
  },
  {
   "cell_type": "code",
   "execution_count": null,
   "id": "2264d458",
   "metadata": {
    "hide-output": false
   },
   "outputs": [],
   "source": [
    "fig, axes = plt.subplots(nrows=2, ncols=2)\n",
    "plt.subplots_adjust(wspace=0.2, hspace=0.5)\n",
    "df[\"A\"].plot(ax=axes[0, 0]);\n",
    "axes[0, 0].set_title(\"A\");\n",
    "df[\"B\"].plot(ax=axes[0, 1]);\n",
    "axes[0, 1].set_title(\"B\");\n",
    "df[\"C\"].plot(ax=axes[1, 0]);\n",
    "axes[1, 0].set_title(\"C\");\n",
    "df[\"D\"].plot(ax=axes[1, 1]);\n",
    "axes[1, 1].set_title(\"D\");"
   ]
  },
  {
   "cell_type": "code",
   "execution_count": null,
   "id": "f923b2ba",
   "metadata": {
    "hide-output": false
   },
   "outputs": [],
   "source": [
    "plt.close(\"all\")"
   ]
  },
  {
   "cell_type": "markdown",
   "id": "d9c8e51f",
   "metadata": {},
   "source": [
    "\n",
    "<a id='charts-visualization-errorbars'></a>"
   ]
  },
  {
   "cell_type": "markdown",
   "id": "fa6a73f0",
   "metadata": {},
   "source": [
    "### Plotting with error bars\n",
    "\n",
    "Plotting with error bars is supported in `DataFrame.plot()` and `Series.plot()`.\n",
    "\n",
    "Horizontal and vertical error bars can be supplied to the `xerr` and `yerr` keyword arguments to `plot()`. The error values can be specified using a variety of formats:\n",
    "\n",
    "- As a `DataFrame` or `dict` of errors with column names matching the `columns` attribute of the plotting `DataFrame` or matching the `name` attribute of the `Series`.  \n",
    "- As a `str` indicating which of the columns of plotting `DataFrame` contain the error values.  \n",
    "- As raw values (`list`, `tuple`, or `np.ndarray`). Must be the same length as the plotting `DataFrame`/`Series`.  \n",
    "\n",
    "\n",
    "Here is an example of one way to easily plot group means with standard deviations from the raw data."
   ]
  },
  {
   "cell_type": "code",
   "execution_count": null,
   "id": "67cbc300",
   "metadata": {
    "hide-output": false
   },
   "outputs": [],
   "source": [
    "# Generate the data\n",
    "ix3 = pd.MultiIndex.from_arrays(\n",
    "    [\n",
    "        [\"a\", \"a\", \"a\", \"a\", \"a\", \"b\", \"b\", \"b\", \"b\", \"b\"],\n",
    "        [\"foo\", \"foo\", \"foo\", \"bar\", \"bar\", \"foo\", \"foo\", \"bar\", \"bar\", \"bar\"],\n",
    "    ],\n",
    "    names=[\"letter\", \"word\"],\n",
    ")\n",
    "\n",
    "df3 = pd.DataFrame(\n",
    "    {\n",
    "        \"data1\": [9, 3, 2, 4, 3, 2, 4, 6, 3, 2],\n",
    "        \"data2\": [9, 6, 5, 7, 5, 4, 5, 6, 5, 1],\n",
    "    },\n",
    "    index=ix3,\n",
    ")\n",
    "\n",
    "# Group by index labels and take the means and standard deviations\n",
    "# for each group\n",
    "gp3 = df3.groupby(level=(\"letter\", \"word\"))\n",
    "means = gp3.mean()\n",
    "errors = gp3.std()\n",
    "means\n",
    "errors\n",
    "\n",
    "# Plot\n",
    "fig, ax = plt.subplots()\n",
    "means.plot.bar(yerr=errors, ax=ax, capsize=4, rot=0);"
   ]
  },
  {
   "cell_type": "code",
   "execution_count": null,
   "id": "9631e923",
   "metadata": {
    "hide-output": false
   },
   "outputs": [],
   "source": [
    "plt.close(\"all\")"
   ]
  },
  {
   "cell_type": "markdown",
   "id": "a4a3a946",
   "metadata": {},
   "source": [
    "Asymmetrical error bars are also supported, however raw error values must be provided in this case. For a `N` length `Series`, a `2xN` array should be provided indicating lower and upper (or left and right) errors. For a `MxN` `DataFrame`, asymmetrical errors should be in a `Mx2xN` array.\n",
    "\n",
    "Here is an example of one way to plot the min/max range using asymmetrical error bars."
   ]
  },
  {
   "cell_type": "code",
   "execution_count": null,
   "id": "18799e9e",
   "metadata": {
    "hide-output": false
   },
   "outputs": [],
   "source": [
    "mins = gp3.min()\n",
    "maxs = gp3.max()\n",
    "\n",
    "# errors should be positive, and defined in the order of lower, upper\n",
    "errors = [[means[c] - mins[c], maxs[c] - means[c]] for c in df3.columns]\n",
    "\n",
    "# Plot\n",
    "fig, ax = plt.subplots()\n",
    "means.plot.bar(yerr=errors, ax=ax, capsize=4, rot=0);"
   ]
  },
  {
   "cell_type": "code",
   "execution_count": null,
   "id": "4d1f1c9b",
   "metadata": {
    "hide-output": false
   },
   "outputs": [],
   "source": [
    "plt.close(\"all\")"
   ]
  },
  {
   "cell_type": "markdown",
   "id": "48093be6",
   "metadata": {},
   "source": [
    "\n",
    "<a id='charts-visualization-table'></a>"
   ]
  },
  {
   "cell_type": "markdown",
   "id": "fc782bcc",
   "metadata": {},
   "source": [
    "### Plotting tables\n",
    "\n",
    "Plotting with matplotlib table is now supported in  `DataFrame.plot()` and `Series.plot()` with a `table` keyword. The `table` keyword can accept `bool`, `DataFrame` or `Series`. The simple way to draw a table is to specify `table=True`. Data will be transposed to meet matplotlib’s default layout."
   ]
  },
  {
   "cell_type": "code",
   "execution_count": null,
   "id": "b093b475",
   "metadata": {
    "hide-output": false
   },
   "outputs": [],
   "source": [
    "np.random.seed(123456)"
   ]
  },
  {
   "cell_type": "code",
   "execution_count": null,
   "id": "4852ff3b",
   "metadata": {
    "hide-output": false
   },
   "outputs": [],
   "source": [
    "fig, ax = plt.subplots(1, 1, figsize=(7, 6.5))\n",
    "df = pd.DataFrame(np.random.rand(5, 3), columns=[\"a\", \"b\", \"c\"])\n",
    "ax.xaxis.tick_top()  # Display x-axis ticks on top.\n",
    "\n",
    "df.plot(table=True, ax=ax);"
   ]
  },
  {
   "cell_type": "code",
   "execution_count": null,
   "id": "b0e473aa",
   "metadata": {
    "hide-output": false
   },
   "outputs": [],
   "source": [
    "plt.close(\"all\")"
   ]
  },
  {
   "cell_type": "markdown",
   "id": "c76df627",
   "metadata": {},
   "source": [
    "Also, you can pass a different `DataFrame` or `Series` to the\n",
    "`table` keyword. The data will be drawn as displayed in print method\n",
    "(not transposed automatically). If required, it should be transposed manually\n",
    "as seen in the example below."
   ]
  },
  {
   "cell_type": "code",
   "execution_count": null,
   "id": "b760c8da",
   "metadata": {
    "hide-output": false
   },
   "outputs": [],
   "source": [
    "fig, ax = plt.subplots(1, 1, figsize=(7, 6.75))\n",
    "ax.xaxis.tick_top()  # Display x-axis ticks on top.\n",
    "\n",
    "df.plot(table=np.round(df.T, 2), ax=ax);"
   ]
  },
  {
   "cell_type": "code",
   "execution_count": null,
   "id": "5aab7a12",
   "metadata": {
    "hide-output": false
   },
   "outputs": [],
   "source": [
    "plt.close(\"all\")"
   ]
  },
  {
   "cell_type": "markdown",
   "id": "13683cdf",
   "metadata": {},
   "source": [
    "There also exists a helper function `pandas.plotting.table`, which creates a\n",
    "table from `DataFrame` or `Series`, and adds it to an\n",
    "`matplotlib.Axes` instance. This function can accept keywords which the\n",
    "matplotlib [table](https://matplotlib.org/api/axes_api.html#matplotlib.axes.Axes.table) has."
   ]
  },
  {
   "cell_type": "code",
   "execution_count": null,
   "id": "d883d6db",
   "metadata": {
    "hide-output": false
   },
   "outputs": [],
   "source": [
    "from pandas.plotting import table\n",
    "\n",
    "fig, ax = plt.subplots(1, 1)\n",
    "\n",
    "table(ax, np.round(df.describe(), 2), loc=\"upper right\", colWidths=[0.2, 0.2, 0.2]);\n",
    "\n",
    "df.plot(ax=ax, ylim=(0, 2), legend=None);"
   ]
  },
  {
   "cell_type": "code",
   "execution_count": null,
   "id": "8b303b80",
   "metadata": {
    "hide-output": false
   },
   "outputs": [],
   "source": [
    "plt.close(\"all\")"
   ]
  },
  {
   "cell_type": "markdown",
   "id": "cd74a9b7",
   "metadata": {},
   "source": [
    "**Note**: You can get table instances on the axes using `axes.tables` property for further decorations. See the [matplotlib table documentation](https://matplotlib.org/api/axes_api.html#matplotlib.axes.Axes.table) for more.\n",
    "\n",
    "\n",
    "<a id='charts-visualization-colormaps'></a>"
   ]
  },
  {
   "cell_type": "markdown",
   "id": "d827e1bb",
   "metadata": {},
   "source": [
    "### Colormaps\n",
    "\n",
    "A potential issue when plotting a large number of columns is that it can be\n",
    "difficult to distinguish some series due to repetition in the default colors. To\n",
    "remedy this, `DataFrame` plotting supports the use of the `colormap` argument,\n",
    "which accepts either a Matplotlib [colormap](https://matplotlib.org/api/cm_api.html)\n",
    "or a string that is a name of a colormap registered with Matplotlib. A\n",
    "visualization of the default matplotlib colormaps is available [here](https://matplotlib.org/examples/color/colormaps_reference.html).\n",
    "\n",
    "As matplotlib does not directly support colormaps for line-based plots, the\n",
    "colors are selected based on an even spacing determined by the number of columns\n",
    "in the `DataFrame`. There is no consideration made for background color, so some\n",
    "colormaps will produce lines that are not easily visible.\n",
    "\n",
    "To use the cubehelix colormap, we can pass `colormap='cubehelix'`."
   ]
  },
  {
   "cell_type": "code",
   "execution_count": null,
   "id": "4f9c35d0",
   "metadata": {
    "hide-output": false
   },
   "outputs": [],
   "source": [
    "np.random.seed(123456)"
   ]
  },
  {
   "cell_type": "code",
   "execution_count": null,
   "id": "cf4b7bf6",
   "metadata": {
    "hide-output": false
   },
   "outputs": [],
   "source": [
    "df = pd.DataFrame(np.random.randn(1000, 10), index=ts.index)\n",
    "df = df.cumsum()\n",
    "\n",
    "plt.figure();\n",
    "\n",
    "df.plot(colormap=\"cubehelix\");"
   ]
  },
  {
   "cell_type": "code",
   "execution_count": null,
   "id": "35f0851c",
   "metadata": {
    "hide-output": false
   },
   "outputs": [],
   "source": [
    "plt.close(\"all\")"
   ]
  },
  {
   "cell_type": "markdown",
   "id": "a9323b3b",
   "metadata": {},
   "source": [
    "Alternatively, we can pass the colormap itself:"
   ]
  },
  {
   "cell_type": "code",
   "execution_count": null,
   "id": "a9387384",
   "metadata": {
    "hide-output": false
   },
   "outputs": [],
   "source": [
    "from matplotlib import cm\n",
    "\n",
    "plt.figure();\n",
    "\n",
    "df.plot(colormap=cm.cubehelix);"
   ]
  },
  {
   "cell_type": "code",
   "execution_count": null,
   "id": "e71a192f",
   "metadata": {
    "hide-output": false
   },
   "outputs": [],
   "source": [
    "plt.close(\"all\")"
   ]
  },
  {
   "cell_type": "markdown",
   "id": "6019287e",
   "metadata": {},
   "source": [
    "Colormaps can also be used other plot types, like bar charts:"
   ]
  },
  {
   "cell_type": "code",
   "execution_count": null,
   "id": "b9cea21b",
   "metadata": {
    "hide-output": false
   },
   "outputs": [],
   "source": [
    "np.random.seed(123456)"
   ]
  },
  {
   "cell_type": "code",
   "execution_count": null,
   "id": "4d497578",
   "metadata": {
    "hide-output": false
   },
   "outputs": [],
   "source": [
    "dd = pd.DataFrame(np.random.randn(10, 10)).applymap(abs)\n",
    "dd = dd.cumsum()\n",
    "\n",
    "plt.figure();\n",
    "\n",
    "dd.plot.bar(colormap=\"Greens\");"
   ]
  },
  {
   "cell_type": "code",
   "execution_count": null,
   "id": "2731ef76",
   "metadata": {
    "hide-output": false
   },
   "outputs": [],
   "source": [
    "plt.close(\"all\")"
   ]
  },
  {
   "cell_type": "markdown",
   "id": "0863f0ea",
   "metadata": {},
   "source": [
    "Parallel coordinates charts:"
   ]
  },
  {
   "cell_type": "code",
   "execution_count": null,
   "id": "2ce4874f",
   "metadata": {
    "hide-output": false
   },
   "outputs": [],
   "source": [
    "plt.figure();\n",
    "\n",
    "parallel_coordinates(data, \"Name\", colormap=\"gist_rainbow\");"
   ]
  },
  {
   "cell_type": "code",
   "execution_count": null,
   "id": "eee047fc",
   "metadata": {
    "hide-output": false
   },
   "outputs": [],
   "source": [
    "plt.close(\"all\")"
   ]
  },
  {
   "cell_type": "markdown",
   "id": "383df911",
   "metadata": {},
   "source": [
    "Andrews curves charts:"
   ]
  },
  {
   "cell_type": "code",
   "execution_count": null,
   "id": "b8d16de1",
   "metadata": {
    "hide-output": false
   },
   "outputs": [],
   "source": [
    "plt.figure();\n",
    "\n",
    "andrews_curves(data, \"Name\", colormap=\"winter\");"
   ]
  },
  {
   "cell_type": "code",
   "execution_count": null,
   "id": "2f45dab0",
   "metadata": {
    "hide-output": false
   },
   "outputs": [],
   "source": [
    "plt.close(\"all\")"
   ]
  },
  {
   "cell_type": "markdown",
   "id": "e1708549",
   "metadata": {},
   "source": [
    "## Plotting directly with matplotlib\n",
    "\n",
    "In some situations it may still be preferable or necessary to prepare plots\n",
    "directly with matplotlib, for instance when a certain type of plot or\n",
    "customization is not (yet) supported by pandas. `Series` and `DataFrame`\n",
    "objects behave like arrays and can therefore be passed directly to\n",
    "matplotlib functions without explicit casts.\n",
    "\n",
    "pandas also automatically registers formatters and locators that recognize date\n",
    "indices, thereby extending date and time support to practically all plot types\n",
    "available in matplotlib. Although this formatting does not provide the same\n",
    "level of refinement you would get when plotting via pandas, it can be faster\n",
    "when plotting a large number of points."
   ]
  },
  {
   "cell_type": "code",
   "execution_count": null,
   "id": "2fa15b1e",
   "metadata": {
    "hide-output": false
   },
   "outputs": [],
   "source": [
    "np.random.seed(123456)"
   ]
  },
  {
   "cell_type": "code",
   "execution_count": null,
   "id": "e11a1546",
   "metadata": {
    "hide-output": false
   },
   "outputs": [],
   "source": [
    "price = pd.Series(\n",
    "    np.random.randn(150).cumsum(),\n",
    "    index=pd.date_range(\"2000-1-1\", periods=150, freq=\"B\"),\n",
    ")\n",
    "ma = price.rolling(20).mean()\n",
    "mstd = price.rolling(20).std()\n",
    "\n",
    "plt.figure();\n",
    "\n",
    "plt.plot(price.index, price, \"k\");\n",
    "plt.plot(ma.index, ma, \"b\");\n",
    "plt.fill_between(mstd.index, ma - 2 * mstd, ma + 2 * mstd, color=\"b\", alpha=0.2);"
   ]
  },
  {
   "cell_type": "code",
   "execution_count": null,
   "id": "da005dde",
   "metadata": {
    "hide-output": false
   },
   "outputs": [],
   "source": [
    "plt.close(\"all\")"
   ]
  },
  {
   "cell_type": "markdown",
   "id": "ae605283",
   "metadata": {},
   "source": [
    "## Plotting backends\n",
    "\n",
    "Starting in version 0.25, pandas can be extended with third-party plotting backends. The\n",
    "main idea is letting users select a plotting backend different than the provided\n",
    "one based on Matplotlib.\n",
    "\n",
    "This can be done by passing ‘backend.module’ as the argument `backend` in `plot`\n",
    "function. For example:"
   ]
  },
  {
   "cell_type": "markdown",
   "id": "23872cf0",
   "metadata": {
    "hide-output": false
   },
   "source": [
    "```python\n",
    ">>> Series([1, 2, 3]).plot(backend=\"backend.module\")\n",
    "```\n"
   ]
  },
  {
   "cell_type": "markdown",
   "id": "5d52908e",
   "metadata": {},
   "source": [
    "Alternatively, you can also set this option globally, do you don’t need to specify\n",
    "the keyword in each `plot` call. For example:"
   ]
  },
  {
   "cell_type": "markdown",
   "id": "bbca7ac5",
   "metadata": {
    "hide-output": false
   },
   "source": [
    "```python\n",
    ">>> pd.set_option(\"plotting.backend\", \"backend.module\")\n",
    ">>> pd.Series([1, 2, 3]).plot()\n",
    "```\n"
   ]
  },
  {
   "cell_type": "markdown",
   "id": "9443a1f5",
   "metadata": {},
   "source": [
    "Or:"
   ]
  },
  {
   "cell_type": "markdown",
   "id": "a1657843",
   "metadata": {
    "hide-output": false
   },
   "source": [
    "```python\n",
    ">>> pd.options.plotting.backend = \"backend.module\"\n",
    ">>> pd.Series([1, 2, 3]).plot()\n",
    "```\n"
   ]
  },
  {
   "cell_type": "markdown",
   "id": "e0397220",
   "metadata": {},
   "source": [
    "This would be more or less equivalent to:"
   ]
  },
  {
   "cell_type": "markdown",
   "id": "99b53d12",
   "metadata": {
    "hide-output": false
   },
   "source": [
    "```python\n",
    ">>> import backend.module\n",
    ">>> backend.module.plot(pd.Series([1, 2, 3]))\n",
    "```\n"
   ]
  },
  {
   "cell_type": "markdown",
   "id": "566110a3",
   "metadata": {},
   "source": [
    "The backend module can then use other visualization tools (Bokeh, Altair, hvplot,…)\n",
    "to generate the plots. Some libraries implementing a backend for pandas are listed\n",
    "on the ecosystem [Visualization](../ecosystem.ipynb#ecosystem-visualization) page.\n",
    "\n",
    "Developers guide can be found at\n",
    "[https://pandas.pydata.org/docs/dev/development/extending.html#plotting-backends](https://pandas.pydata.org/docs/dev/development/extending.html#plotting-backends)"
   ]
  }
 ],
 "metadata": {
  "date": 1630231089.8572102,
  "filename": "33_Charts_visualization.rst",
  "kernelspec": {
   "display_name": "Python 3 (ipykernel)",
   "language": "python",
   "name": "python3"
  },
  "language_info": {
   "codemirror_mode": {
    "name": "ipython",
    "version": 3
   },
   "file_extension": ".py",
   "mimetype": "text/x-python",
   "name": "python",
   "nbconvert_exporter": "python",
   "pygments_lexer": "ipython3",
   "version": "3.8.8"
  },
  "title": "Chart Visualization"
 },
 "nbformat": 4,
 "nbformat_minor": 5
}
