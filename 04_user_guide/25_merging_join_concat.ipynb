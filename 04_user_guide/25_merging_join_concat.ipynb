{
 "cells": [
  {
   "cell_type": "code",
   "execution_count": null,
   "id": "69d1da3e-73ae-4f84-96a7-926596150ad9",
   "metadata": {},
   "outputs": [],
   "source": [
    "import pandas as pd\n",
    "import numpy as np\n",
    "from matplotlib import pyplot as plt\n",
    "import pandas.util._doctools as doctools\n",
    "\n",
    "p = doctools.TablePlotter()\n"
   ]
  },
  {
   "cell_type": "markdown",
   "id": "2156b59d",
   "metadata": {},
   "source": [
    "# Merge, join, concatenate and compare\n",
    "\n",
    "pandas provides various facilities for easily combining together Series or\n",
    "DataFrame with various kinds of set logic for the indexes\n",
    "and relational algebra functionality in the case of join / merge-type\n",
    "operations.\n",
    "\n",
    "In addition, pandas also provides utilities to compare two Series or DataFrame\n",
    "and summarize their differences.\n",
    "\n",
    "\n",
    "<a id='merging-concat'></a>"
   ]
  },
  {
   "cell_type": "markdown",
   "id": "e508e25c",
   "metadata": {},
   "source": [
    "## Concatenating objects\n",
    "\n",
    "The `concat()` function (in the main pandas namespace) does all of\n",
    "the heavy lifting of performing concatenation operations along an axis while\n",
    "performing optional set logic (union or intersection) of the indexes (if any) on\n",
    "the other axes. Note that I say “if any” because there is only a single possible\n",
    "axis of concatenation for Series.\n",
    "\n",
    "Before diving into all of the details of `concat` and what it can do, here is\n",
    "a simple example:"
   ]
  },
  {
   "cell_type": "code",
   "execution_count": null,
   "id": "0e6a955d",
   "metadata": {
    "hide-output": false
   },
   "outputs": [],
   "source": [
    "df1 = pd.DataFrame(\n",
    "    {\n",
    "        \"A\": [\"A0\", \"A1\", \"A2\", \"A3\"],\n",
    "        \"B\": [\"B0\", \"B1\", \"B2\", \"B3\"],\n",
    "        \"C\": [\"C0\", \"C1\", \"C2\", \"C3\"],\n",
    "        \"D\": [\"D0\", \"D1\", \"D2\", \"D3\"],\n",
    "    },\n",
    "    index=[0, 1, 2, 3],\n",
    ")\n",
    "\n",
    "df2 = pd.DataFrame(\n",
    "    {\n",
    "        \"A\": [\"A4\", \"A5\", \"A6\", \"A7\"],\n",
    "        \"B\": [\"B4\", \"B5\", \"B6\", \"B7\"],\n",
    "        \"C\": [\"C4\", \"C5\", \"C6\", \"C7\"],\n",
    "        \"D\": [\"D4\", \"D5\", \"D6\", \"D7\"],\n",
    "    },\n",
    "    index=[4, 5, 6, 7],\n",
    ")\n",
    "\n",
    "df3 = pd.DataFrame(\n",
    "    {\n",
    "        \"A\": [\"A8\", \"A9\", \"A10\", \"A11\"],\n",
    "        \"B\": [\"B8\", \"B9\", \"B10\", \"B11\"],\n",
    "        \"C\": [\"C8\", \"C9\", \"C10\", \"C11\"],\n",
    "        \"D\": [\"D8\", \"D9\", \"D10\", \"D11\"],\n",
    "    },\n",
    "    index=[8, 9, 10, 11],\n",
    ")\n",
    "\n",
    "frames = [df1, df2, df3]\n",
    "result = pd.concat(frames)"
   ]
  },
  {
   "cell_type": "code",
   "execution_count": null,
   "id": "eaf0b827-8055-45af-947e-c4c88376552b",
   "metadata": {},
   "outputs": [],
   "source": [
    "p.plot(frames, result, labels=[\"d1\",\"d2\",\"d3\"], vertical=True);"
   ]
  },
  {
   "cell_type": "markdown",
   "id": "ccec030a-bf96-4e84-b763-6e74745969df",
   "metadata": {},
   "source": [
    "Like its sibling function on ndarrays, `numpy.concatenate`, `pandas.concat`\n",
    "takes a list or dict of homogeneously-typed objects and concatenates them with\n",
    "some configurable handling of “what to do with the other axes”:"
   ]
  },
  {
   "cell_type": "code",
   "execution_count": null,
   "id": "1ae7ff7a",
   "metadata": {
    "hide-output": false
   },
   "outputs": [],
   "source": [
    "pd.concat(\n",
    "    [df1, df2, df3],   #objs,\n",
    "    axis=0,\n",
    "    join=\"outer\",\n",
    "    ignore_index=False,\n",
    "    keys=None,\n",
    "    levels=None,\n",
    "    names=None,\n",
    "    verify_integrity=False,\n",
    "    copy=True,\n",
    ")"
   ]
  },
  {
   "cell_type": "markdown",
   "id": "3505f0dd",
   "metadata": {},
   "source": [
    "- `objs` : a sequence or mapping of Series or DataFrame objects. If a\n",
    "  dict is passed, the sorted keys will be used as the `keys` argument, unless\n",
    "  it is passed, in which case the values will be selected (see below). Any None\n",
    "  objects will be dropped silently unless they are all None in which case a\n",
    "  ValueError will be raised.  \n",
    "- `axis` : {0, 1, …}, default 0. The axis to concatenate along.  \n",
    "- `join` : {‘inner’, ‘outer’}, default ‘outer’. How to handle indexes on\n",
    "  other axis(es). Outer for union and inner for intersection.  \n",
    "- `ignore_index` : boolean, default False. If True, do not use the index\n",
    "  values on the concatenation axis. The resulting axis will be labeled 0, …,\n",
    "  n - 1. This is useful if you are concatenating objects where the\n",
    "  concatenation axis does not have meaningful indexing information. Note\n",
    "  the index values on the other axes are still respected in the join.  \n",
    "- `keys` : sequence, default None. Construct hierarchical index using the\n",
    "  passed keys as the outermost level. If multiple levels passed, should\n",
    "  contain tuples.  \n",
    "- `levels` : list of sequences, default None. Specific levels (unique values)\n",
    "  to use for constructing a MultiIndex. Otherwise they will be inferred from the\n",
    "  keys.  \n",
    "- `names` : list, default None. Names for the levels in the resulting\n",
    "  hierarchical index.  \n",
    "- `verify_integrity` : boolean, default False. Check whether the new\n",
    "  concatenated axis contains duplicates. This can be very expensive relative\n",
    "  to the actual data concatenation.  \n",
    "- `copy` : boolean, default True. If False, do not copy data unnecessarily.  \n",
    "\n",
    "\n",
    "Without a little bit of context many of these arguments don’t make much sense.\n",
    "Let’s revisit the above example. Suppose we wanted to associate specific keys\n",
    "with each of the pieces of the chopped up DataFrame. We can do this using the\n",
    "`keys` argument:"
   ]
  },
  {
   "cell_type": "code",
   "execution_count": null,
   "id": "8051ee9a",
   "metadata": {
    "hide-output": false
   },
   "outputs": [],
   "source": [
    "result = pd.concat(frames, keys=[\"x\", \"y\", \"z\"])"
   ]
  },
  {
   "cell_type": "code",
   "execution_count": null,
   "id": "e2d80036-b6a5-4a97-b8db-e656700112ac",
   "metadata": {},
   "outputs": [],
   "source": [
    "p.plot(frames, result, labels=[\"d1\",\"d2\",\"d3\"], vertical=True);"
   ]
  },
  {
   "cell_type": "markdown",
   "id": "c4e0eb80-054f-45a7-b51e-bf297bd22853",
   "metadata": {},
   "source": [
    "As you can see (if you’ve read the rest of the documentation), the resulting\n",
    "object’s index has a hierarchical index. This\n",
    "means that we can now select out each chunk by key:"
   ]
  },
  {
   "cell_type": "code",
   "execution_count": null,
   "id": "cd613001",
   "metadata": {
    "hide-output": false
   },
   "outputs": [],
   "source": [
    "result.loc[\"y\"]"
   ]
  },
  {
   "cell_type": "markdown",
   "id": "46384991",
   "metadata": {},
   "source": [
    "It’s not a stretch to see how this can be very useful. More detail on this\n",
    "functionality below.\n",
    "\n",
    ">**Note**\n",
    ">\n",
    ">It is worth noting that `concat()` (and therefore\n",
    "`append()`) makes a full copy of the data, and that constantly\n",
    "reusing this function can create a significant performance hit. If you need\n",
    "to use the operation over several datasets, use a list comprehension."
   ]
  },
  {
   "cell_type": "markdown",
   "id": "7396568b-2264-4f17-a58c-3075c2dc17b4",
   "metadata": {
    "hide-output": false
   },
   "source": [
    "```python\n",
    "frames = [ process_your_file(f) for f in files ]\n",
    "result = pd.concat(frames)\n",
    "```\n"
   ]
  },
  {
   "cell_type": "markdown",
   "id": "27854cdd",
   "metadata": {},
   "source": [
    ">**Note**\n",
    ">\n",
    ">When concatenating DataFrames with named axes, pandas will attempt to preserve\n",
    "these index/column names whenever possible. In the case where all inputs share a\n",
    "common name, this name will be assigned to the result. When the input names do\n",
    "not all agree, the result will be unnamed. The same is true for `MultiIndex`,\n",
    "but the logic is applied separately on a level-by-level basis."
   ]
  },
  {
   "cell_type": "markdown",
   "id": "c00db996",
   "metadata": {},
   "source": [
    "### Set logic on the other axes\n",
    "\n",
    "When gluing together multiple DataFrames, you have a choice of how to handle\n",
    "the other axes (other than the one being concatenated). This can be done in\n",
    "the following two ways:\n",
    "\n",
    "- Take the union of them all, `join='outer'`. This is the default\n",
    "  option as it results in zero information loss.  \n",
    "- Take the intersection, `join='inner'`.  \n",
    "\n",
    "\n",
    "Here is an example of each of these methods. First, the default `join='outer'`\n",
    "behavior:"
   ]
  },
  {
   "cell_type": "code",
   "execution_count": null,
   "id": "666a161a",
   "metadata": {
    "hide-output": false
   },
   "outputs": [],
   "source": [
    "df4 = pd.DataFrame(\n",
    "    {\n",
    "        \"B\": [\"B2\", \"B3\", \"B6\", \"B7\"],\n",
    "        \"D\": [\"D2\", \"D3\", \"D6\", \"D7\"],\n",
    "        \"F\": [\"F2\", \"F3\", \"F6\", \"F7\"],\n",
    "    },\n",
    "    index=[2, 3, 6, 7],\n",
    ")\n",
    "result = pd.concat([df1, df4], axis=1)"
   ]
  },
  {
   "cell_type": "code",
   "execution_count": null,
   "id": "a2efab9b-c564-4b4c-8f63-cd529f5f6b17",
   "metadata": {},
   "outputs": [],
   "source": [
    "p.plot([df1, df4], result, labels=[\"df1\", \"df4\"], vertical=False);"
   ]
  },
  {
   "cell_type": "markdown",
   "id": "decde278-e208-4e71-b750-55054079fab0",
   "metadata": {},
   "source": [
    "Here is the same thing with `join='inner'`:"
   ]
  },
  {
   "cell_type": "code",
   "execution_count": null,
   "id": "2c23465c",
   "metadata": {
    "hide-output": false
   },
   "outputs": [],
   "source": [
    "result = pd.concat([df1, df4], axis=1, join=\"inner\")"
   ]
  },
  {
   "cell_type": "code",
   "execution_count": null,
   "id": "7050124a-69dd-42a5-9c2e-af3721a68fc7",
   "metadata": {},
   "outputs": [],
   "source": [
    "p.plot([df1, df4], result, labels=[\"df1\", \"df4\"], vertical=False);"
   ]
  },
  {
   "cell_type": "markdown",
   "id": "24d76eb9",
   "metadata": {},
   "source": [
    "\n",
    "Lastly, suppose we just wanted to reuse the *exact index* from the original\n",
    "DataFrame:"
   ]
  },
  {
   "cell_type": "code",
   "execution_count": null,
   "id": "bbf5f1ee",
   "metadata": {
    "hide-output": false
   },
   "outputs": [],
   "source": [
    "result = pd.concat([df1, df4], axis=1).reindex(df1.index)"
   ]
  },
  {
   "cell_type": "markdown",
   "id": "86bb1ede",
   "metadata": {},
   "source": [
    "Similarly, we could index before the concatenation:"
   ]
  },
  {
   "cell_type": "code",
   "execution_count": null,
   "id": "b069d878",
   "metadata": {
    "hide-output": false
   },
   "outputs": [],
   "source": [
    "pd.concat([df1, df4.reindex(df1.index)], axis=1)"
   ]
  },
  {
   "cell_type": "code",
   "execution_count": null,
   "id": "91ad99f8-959a-44fc-9d8d-b490479267e2",
   "metadata": {},
   "outputs": [],
   "source": [
    "p.plot([df1, df4], result, labels=[\"df1\", \"df4\"], vertical=False);"
   ]
  },
  {
   "cell_type": "markdown",
   "id": "ca7e402a-6d55-498e-8fc3-cd179fa02893",
   "metadata": {},
   "source": [
    "<a id='merging-concatenation'></a>"
   ]
  },
  {
   "cell_type": "markdown",
   "id": "b895bf65",
   "metadata": {},
   "source": [
    "### Concatenating using `append`\n",
    "\n",
    "A useful shortcut to `concat()` are the `append()`\n",
    "instance methods on `Series` and `DataFrame`. These methods actually predated\n",
    "`concat`. They concatenate along `axis=0`, namely the index:"
   ]
  },
  {
   "cell_type": "code",
   "execution_count": null,
   "id": "b3209d42",
   "metadata": {
    "hide-output": false
   },
   "outputs": [],
   "source": [
    "result = df1.append(df2)"
   ]
  },
  {
   "cell_type": "code",
   "execution_count": null,
   "id": "0a91b539-5e48-42d1-a41f-bd7f9d92c367",
   "metadata": {},
   "outputs": [],
   "source": [
    "p.plot([df1, df2], result, labels=[\"df1\",\"df2\"], vertical=True);"
   ]
  },
  {
   "cell_type": "markdown",
   "id": "3ec2da4e-07a0-4c77-9c0b-587daf394508",
   "metadata": {},
   "source": [
    "In the case of `DataFrame`, the indexes must be disjoint but the columns do not\n",
    "need to be:"
   ]
  },
  {
   "cell_type": "code",
   "execution_count": null,
   "id": "bc00dea9",
   "metadata": {
    "hide-output": false
   },
   "outputs": [],
   "source": [
    "result = df1.append(df4, sort=False)"
   ]
  },
  {
   "cell_type": "code",
   "execution_count": null,
   "id": "31fb4686-1850-4233-aa1a-99997d477971",
   "metadata": {},
   "outputs": [],
   "source": [
    "p.plot([df1, df4], result, labels=[\"df1\",\"df4\"], vertical=True);"
   ]
  },
  {
   "cell_type": "markdown",
   "id": "c59fe339",
   "metadata": {},
   "source": [
    "`append` may take multiple objects to concatenate:"
   ]
  },
  {
   "cell_type": "code",
   "execution_count": null,
   "id": "d4984738",
   "metadata": {
    "hide-output": false
   },
   "outputs": [],
   "source": [
    "result = df1.append([df2, df3])"
   ]
  },
  {
   "cell_type": "code",
   "execution_count": null,
   "id": "162bbea5-9b2f-4037-85b1-dc048e76ac7f",
   "metadata": {},
   "outputs": [],
   "source": [
    "p.plot([df1, df2, df3], result, labels=[\"df1\",\"df2\",\"df3\"], vertical=True);"
   ]
  },
  {
   "cell_type": "markdown",
   "id": "dfe134cf",
   "metadata": {},
   "source": [
    ">**Note**\n",
    ">\n",
    ">Unlike the `append()` method, which appends to the original list\n",
    "and returns `None`, `append()`  here **does not** modify\n",
    "`df1` and returns its copy with `df2` appended.\n",
    "\n",
    "\n",
    "<a id='merging-ignore-index'></a>"
   ]
  },
  {
   "cell_type": "markdown",
   "id": "cee18680",
   "metadata": {},
   "source": [
    "### Ignoring indexes on the concatenation axis\n",
    "\n",
    "For `DataFrame` objects which don’t have a meaningful index, you may wish\n",
    "to append them and ignore the fact that they may have overlapping indexes. To\n",
    "do this, use the `ignore_index` argument:"
   ]
  },
  {
   "cell_type": "code",
   "execution_count": null,
   "id": "d3304386",
   "metadata": {
    "hide-output": false
   },
   "outputs": [],
   "source": [
    "result = pd.concat([df1, df4], ignore_index=True, sort=False)"
   ]
  },
  {
   "cell_type": "code",
   "execution_count": null,
   "id": "fab5a4b2-e4e3-4e06-9bfd-8cdc71bcf92f",
   "metadata": {},
   "outputs": [],
   "source": [
    "p.plot([df1, df4], result, labels=[\"df1\",\"df4\"], vertical=True);"
   ]
  },
  {
   "cell_type": "markdown",
   "id": "c5edbde4",
   "metadata": {},
   "source": [
    "\n",
    "This is also a valid argument to `DataFrame.append()`:"
   ]
  },
  {
   "cell_type": "code",
   "execution_count": null,
   "id": "3c5fc40f",
   "metadata": {
    "hide-output": false
   },
   "outputs": [],
   "source": [
    "result = df1.append(df4, ignore_index=True, sort=False)"
   ]
  },
  {
   "cell_type": "code",
   "execution_count": null,
   "id": "581a4ac3-b9ea-4d3c-83b1-bf7af59c1b99",
   "metadata": {},
   "outputs": [],
   "source": [
    "p.plot([df1, df4], result, labels=[\"df1\",\"df4\"], vertical=True);"
   ]
  },
  {
   "cell_type": "markdown",
   "id": "ea46c4a2",
   "metadata": {},
   "source": [
    "### Concatenating with mixed ndims\n",
    "\n",
    "You can concatenate a mix of `Series` and `DataFrame` objects. The\n",
    "`Series` will be transformed to `DataFrame` with the column name as\n",
    "the name of the `Series`."
   ]
  },
  {
   "cell_type": "code",
   "execution_count": null,
   "id": "68d5cb65",
   "metadata": {
    "hide-output": false
   },
   "outputs": [],
   "source": [
    "s1 = pd.Series([\"X0\", \"X1\", \"X2\", \"X3\"], name=\"X\")\n",
    "result = pd.concat([df1, s1], axis=1)"
   ]
  },
  {
   "cell_type": "code",
   "execution_count": null,
   "id": "99b04fcd-c5b8-4056-9b7d-22f0956a4b24",
   "metadata": {},
   "outputs": [],
   "source": [
    "p.plot([df1, s1], result, labels=[\"df1\",\"s1\"], vertical=False);"
   ]
  },
  {
   "cell_type": "markdown",
   "id": "673a280d",
   "metadata": {},
   "source": [
    ">**Note**\n",
    ">\n",
    ">Since we’re concatenating a `Series` to a `DataFrame`, we could have\n",
    "achieved the same result with `DataFrame.assign()`. To concatenate an\n",
    "arbitrary number of pandas objects (`DataFrame` or `Series`), use\n",
    "`concat`.\n",
    "\n",
    "If unnamed `Series` are passed they will be numbered consecutively."
   ]
  },
  {
   "cell_type": "code",
   "execution_count": null,
   "id": "f3d27deb",
   "metadata": {
    "hide-output": false
   },
   "outputs": [],
   "source": [
    "s2 = pd.Series([\"_0\", \"_1\", \"_2\", \"_3\"])\n",
    "result = pd.concat([df1, s2, s2, s2], axis=1)"
   ]
  },
  {
   "cell_type": "code",
   "execution_count": null,
   "id": "87dfc6b1-e057-4b93-937d-ba999482fc7c",
   "metadata": {},
   "outputs": [],
   "source": [
    "p.plot([df1, s2], result, labels=[\"df1\",\"s2\"], vertical=False);"
   ]
  },
  {
   "cell_type": "markdown",
   "id": "26bd7d31",
   "metadata": {},
   "source": [
    "\n",
    "\n",
    "Passing `ignore_index=True` will drop all name references."
   ]
  },
  {
   "cell_type": "code",
   "execution_count": null,
   "id": "4a9ebad8",
   "metadata": {
    "hide-output": false
   },
   "outputs": [],
   "source": [
    "result = pd.concat([df1, s1], axis=1, ignore_index=True)"
   ]
  },
  {
   "cell_type": "code",
   "execution_count": null,
   "id": "66f4c00d-30e9-4910-a0a6-b0a05dad14d5",
   "metadata": {},
   "outputs": [],
   "source": [
    "p.plot([df1, s1], result, labels=[\"df1\",\"s1\"], vertical=False);"
   ]
  },
  {
   "cell_type": "markdown",
   "id": "0aa59db2",
   "metadata": {},
   "source": [
    "### More concatenating with group keys\n",
    "\n",
    "A fairly common use of the `keys` argument is to override the column names\n",
    "when creating a new `DataFrame` based on existing `Series`.\n",
    "Notice how the default behaviour consists on letting the resulting `DataFrame`\n",
    "inherit the parent `Series`’ name, when these existed."
   ]
  },
  {
   "cell_type": "code",
   "execution_count": null,
   "id": "1a35507e",
   "metadata": {
    "hide-output": false
   },
   "outputs": [],
   "source": [
    "s3 = pd.Series([0, 1, 2, 3], name=\"foo\")\n",
    "s4 = pd.Series([0, 1, 2, 3])\n",
    "s5 = pd.Series([0, 1, 4, 5])\n",
    "\n",
    "pd.concat([s3, s4, s5], axis=1)"
   ]
  },
  {
   "cell_type": "markdown",
   "id": "b6e5d8b4",
   "metadata": {},
   "source": [
    "Through the `keys` argument we can override the existing column names."
   ]
  },
  {
   "cell_type": "code",
   "execution_count": null,
   "id": "9aba6005",
   "metadata": {
    "hide-output": false
   },
   "outputs": [],
   "source": [
    "pd.concat([s3, s4, s5], axis=1, keys=[\"red\", \"blue\", \"yellow\"])"
   ]
  },
  {
   "cell_type": "markdown",
   "id": "30941625",
   "metadata": {},
   "source": [
    "Let’s consider a variation of the very first example presented:"
   ]
  },
  {
   "cell_type": "code",
   "execution_count": null,
   "id": "fa8248c3",
   "metadata": {
    "hide-output": false
   },
   "outputs": [],
   "source": [
    "result = pd.concat(frames, keys=[\"x\", \"y\", \"z\"])"
   ]
  },
  {
   "cell_type": "code",
   "execution_count": null,
   "id": "dc8f75ae-c0ba-4491-ba33-4e145eb76062",
   "metadata": {},
   "outputs": [],
   "source": [
    "p.plot([df1, df2, df3], result, labels=[\"df1\",\"df2\",\"df3\"], vertical=False);"
   ]
  },
  {
   "cell_type": "markdown",
   "id": "a95952ea",
   "metadata": {},
   "source": [
    "You can also pass a dict to `concat` in which case the dict keys will be used\n",
    "for the `keys` argument (unless other keys are specified):"
   ]
  },
  {
   "cell_type": "code",
   "execution_count": null,
   "id": "e678bc46",
   "metadata": {
    "hide-output": false
   },
   "outputs": [],
   "source": [
    "pieces = {\"x\": df1, \"y\": df2, \"z\": df3}\n",
    "result = pd.concat(pieces)"
   ]
  },
  {
   "cell_type": "code",
   "execution_count": null,
   "id": "a88a880e-a220-4b50-914d-3312df63c7da",
   "metadata": {},
   "outputs": [],
   "source": [
    "p.plot([df1, df2, df3], result, labels=[\"df1\",\"df2\",\"df3\"], vertical=False);"
   ]
  },
  {
   "cell_type": "code",
   "execution_count": null,
   "id": "1633b9de",
   "metadata": {
    "hide-output": false
   },
   "outputs": [],
   "source": [
    "result = pd.concat(pieces, keys=[\"z\", \"y\"])"
   ]
  },
  {
   "cell_type": "code",
   "execution_count": null,
   "id": "a615804a-94c1-45d4-86a0-2274d4b5b7dc",
   "metadata": {},
   "outputs": [],
   "source": [
    "p.plot([df1, df2, df3], result, labels=[\"df1\",\"df2\",\"df3\"], vertical=False);"
   ]
  },
  {
   "cell_type": "markdown",
   "id": "7be5c979",
   "metadata": {},
   "source": [
    "The MultiIndex created has levels that are constructed from the passed keys and\n",
    "the index of the `DataFrame` pieces:"
   ]
  },
  {
   "cell_type": "code",
   "execution_count": null,
   "id": "f985b2d3",
   "metadata": {
    "hide-output": false
   },
   "outputs": [],
   "source": [
    "result.index.levels"
   ]
  },
  {
   "cell_type": "markdown",
   "id": "2fed2fdd",
   "metadata": {},
   "source": [
    "If you wish to specify other levels (as will occasionally be the case), you can\n",
    "do so using the `levels` argument:"
   ]
  },
  {
   "cell_type": "code",
   "execution_count": null,
   "id": "59715e44",
   "metadata": {
    "hide-output": false
   },
   "outputs": [],
   "source": [
    "result = pd.concat(\n",
    "    pieces, keys=[\"x\", \"y\", \"z\"], levels=[[\"z\", \"y\", \"x\", \"w\"]], names=[\"group_key\"]\n",
    ")"
   ]
  },
  {
   "cell_type": "code",
   "execution_count": null,
   "id": "1e7e1a3b-93fb-48c2-887d-f2494c3d8ae1",
   "metadata": {},
   "outputs": [],
   "source": [
    "p.plot([df1, df2, df3], result, labels=[\"df1\",\"df2\",\"df3\"], vertical=False);"
   ]
  },
  {
   "cell_type": "code",
   "execution_count": null,
   "id": "0d2dd502",
   "metadata": {
    "hide-output": false
   },
   "outputs": [],
   "source": [
    "result.index.levels"
   ]
  },
  {
   "cell_type": "markdown",
   "id": "1928a7b9",
   "metadata": {},
   "source": [
    "This is fairly esoteric, but it is actually necessary for implementing things\n",
    "like GroupBy where the order of a categorical variable is meaningful.\n",
    "\n",
    "\n",
    "<a id='merging-append-row'></a>"
   ]
  },
  {
   "cell_type": "markdown",
   "id": "950e4753",
   "metadata": {},
   "source": [
    "### Appending rows to a DataFrame\n",
    "\n",
    "While not especially efficient (since a new object must be created), you can\n",
    "append a single row to a `DataFrame` by passing a `Series` or dict to\n",
    "`append`, which returns a new `DataFrame` as above."
   ]
  },
  {
   "cell_type": "code",
   "execution_count": null,
   "id": "13a60bed",
   "metadata": {
    "hide-output": false
   },
   "outputs": [],
   "source": [
    "s2 = pd.Series([\"X0\", \"X1\", \"X2\", \"X3\"], index=[\"A\", \"B\", \"C\", \"D\"])\n",
    "result = df1.append(s2, ignore_index=True)"
   ]
  },
  {
   "cell_type": "code",
   "execution_count": null,
   "id": "70a4adc1-fc6e-48ef-ac2d-895744acb630",
   "metadata": {},
   "outputs": [],
   "source": [
    "p.plot([df1, s2], result, labels=[\"df1\",\"s2\"], vertical=True);"
   ]
  },
  {
   "cell_type": "markdown",
   "id": "2ab0d005",
   "metadata": {},
   "source": [
    "You should use `ignore_index` with this method to instruct DataFrame to\n",
    "discard its index. If you wish to preserve the index, you should construct an\n",
    "appropriately-indexed DataFrame and append or concatenate those objects.\n",
    "\n",
    "You can also pass a list of dicts or Series:"
   ]
  },
  {
   "cell_type": "code",
   "execution_count": null,
   "id": "15c61941",
   "metadata": {
    "hide-output": false
   },
   "outputs": [],
   "source": [
    "dicts = [{\"A\": 1, \"B\": 2, \"C\": 3, \"X\": 4}, {\"A\": 5, \"B\": 6, \"C\": 7, \"Y\": 8}]\n",
    "result = df1.append(dicts, ignore_index=True, sort=False)"
   ]
  },
  {
   "cell_type": "code",
   "execution_count": null,
   "id": "4cb6b1c2-6578-4c91-b87d-f7cfb9398998",
   "metadata": {},
   "outputs": [],
   "source": [
    "p.plot([df1, pd.DataFrame(dicts)], result, labels=[\"df1\",\"dicts\"], vertical=True);"
   ]
  },
  {
   "cell_type": "markdown",
   "id": "7ae42b12",
   "metadata": {},
   "source": [
    "## Database-style DataFrame or named Series joining/merging\n",
    "\n",
    "pandas has full-featured, **high performance** in-memory join operations\n",
    "idiomatically very similar to relational databases like SQL. These methods\n",
    "perform significantly better (in some cases well over an order of magnitude\n",
    "better) than other open source implementations (like `base::merge.data.frame`\n",
    "in R). The reason for this is careful algorithmic design and the internal layout\n",
    "of the data in `DataFrame`.\n",
    "\n",
    "See the [cookbook](44_cookbook.ipynb#cookbook-merge) for some advanced strategies.\n",
    "\n",
    "Users who are familiar with SQL but new to pandas might be interested in a\n",
    "[comparison with SQL](../01_comparison/comparison_with_sql.ipynb#compare-with-sql-join).\n",
    "\n",
    "pandas provides a single function, `merge()`, as the entry point for\n",
    "all standard database join operations between `DataFrame` or named `Series` objects:"
   ]
  },
  {
   "cell_type": "markdown",
   "id": "7ea9b219-8e3d-40b1-9a9d-c9a6bdb979f6",
   "metadata": {
    "hide-output": false
   },
   "source": [
    "```python\n",
    "pd.merge(\n",
    "    left,\n",
    "    right,\n",
    "    how=\"inner\",\n",
    "    on=None,\n",
    "    left_on=None,\n",
    "    right_on=None,\n",
    "    left_index=False,\n",
    "    right_index=False,\n",
    "    sort=True,\n",
    "    suffixes=(\"_x\", \"_y\"),\n",
    "    copy=True,\n",
    "    indicator=False,\n",
    "    validate=None,\n",
    ")\n",
    "```"
   ]
  },
  {
   "cell_type": "markdown",
   "id": "8a1526c3",
   "metadata": {},
   "source": [
    "- `left`: A DataFrame or named Series object.  \n",
    "- `right`: Another DataFrame or named Series object.  \n",
    "- `on`: Column or index level names to join on. Must be found in both the left\n",
    "  and right DataFrame and/or Series objects. If not passed and `left_index` and\n",
    "  `right_index` are `False`, the intersection of the columns in the\n",
    "  DataFrames and/or Series will be inferred to be the join keys.  \n",
    "- `left_on`: Columns or index levels from the left DataFrame or Series to use as\n",
    "  keys. Can either be column names, index level names, or arrays with length\n",
    "  equal to the length of the DataFrame or Series.  \n",
    "- `right_on`: Columns or index levels from the right DataFrame or Series to use as\n",
    "  keys. Can either be column names, index level names, or arrays with length\n",
    "  equal to the length of the DataFrame or Series.  \n",
    "- `left_index`: If `True`, use the index (row labels) from the left\n",
    "  DataFrame or Series as its join key(s). In the case of a DataFrame or Series with a MultiIndex\n",
    "  (hierarchical), the number of levels must match the number of join keys\n",
    "  from the right DataFrame or Series.  \n",
    "- `right_index`: Same usage as `left_index` for the right DataFrame or Series  \n",
    "- `how`: One of `'left'`, `'right'`, `'outer'`, `'inner'`. Defaults\n",
    "  to `inner`. See below for more detailed description of each method.  \n",
    "- `sort`: Sort the result DataFrame by the join keys in lexicographical\n",
    "  order. Defaults to `True`, setting to `False` will improve performance\n",
    "  substantially in many cases.  \n",
    "- `suffixes`: A tuple of string suffixes to apply to overlapping\n",
    "  columns. Defaults to `('_x', '_y')`.  \n",
    "- `copy`: Always copy data (default `True`) from the passed DataFrame or named Series\n",
    "  objects, even when reindexing is not necessary. Cannot be avoided in many\n",
    "  cases but may improve performance / memory usage. The cases where copying\n",
    "  can be avoided are somewhat pathological but this option is provided\n",
    "  nonetheless.  \n",
    "- `indicator`: Add a column to the output DataFrame called `_merge`\n",
    "  with information on the source of each row. `_merge` is Categorical-type\n",
    "  and takes on a value of `left_only` for observations whose merge key\n",
    "  only appears in `'left'` DataFrame or Series, `right_only` for observations whose\n",
    "  merge key only appears in `'right'` DataFrame or Series, and `both` if the\n",
    "  observation’s merge key is found in both.  \n",
    "- `validate` : string, default None.\n",
    "  If specified, checks if merge is of specified type.  \n",
    "  \n",
    "  - “one_to_one” or “1:1”: checks if merge keys are unique in both\n",
    "    left and right datasets.  \n",
    "  - “one_to_many” or “1:m”: checks if merge keys are unique in left\n",
    "    dataset.  \n",
    "  - “many_to_one” or “m:1”: checks if merge keys are unique in right\n",
    "    dataset.  \n",
    "  - “many_to_many” or “m:m”: allowed, but does not result in checks.  \n",
    "  \n",
    "\n",
    "\n",
    ">**Note**\n",
    ">\n",
    ">Support for specifying index levels as the `on`, `left_on`, and\n",
    "`right_on` parameters was added in version 0.23.0.\n",
    "Support for merging named `Series` objects was added in version 0.24.0.\n",
    "\n",
    "The return type will be the same as `left`. If `left` is a `DataFrame` or named `Series`\n",
    "and `right` is a subclass of `DataFrame`, the return type will still be `DataFrame`.\n",
    "\n",
    "`merge` is a function in the pandas namespace, and it is also available as a\n",
    "`DataFrame` instance method `merge()`, with the calling\n",
    "`DataFrame` being implicitly considered the left object in the join.\n",
    "\n",
    "The related `join()` method, uses `merge` internally for the\n",
    "index-on-index (by default) and column(s)-on-index join. If you are joining on\n",
    "index only, you may wish to use `DataFrame.join` to save yourself some typing."
   ]
  },
  {
   "cell_type": "markdown",
   "id": "d7fb7875",
   "metadata": {},
   "source": [
    "### Brief primer on merge methods (relational algebra)\n",
    "\n",
    "Experienced users of relational databases like SQL will be familiar with the\n",
    "terminology used to describe join operations between two SQL-table like\n",
    "structures (`DataFrame` objects). There are several cases to consider which\n",
    "are very important to understand:\n",
    "\n",
    "- **one-to-one** joins: for example when joining two `DataFrame` objects on\n",
    "  their indexes (which must contain unique values).  \n",
    "- **many-to-one** joins: for example when joining an index (unique) to one or\n",
    "  more columns in a different `DataFrame`.  \n",
    "- **many-to-many** joins: joining columns on columns.  \n",
    "\n",
    "\n",
    ">**Note**\n",
    ">\n",
    ">When joining columns on columns (potentially a many-to-many join), any\n",
    "indexes on the passed `DataFrame` objects **will be discarded**.\n",
    "\n",
    "It is worth spending some time understanding the result of the **many-to-many**\n",
    "join case. In SQL / standard relational algebra, if a key combination appears\n",
    "more than once in both tables, the resulting table will have the **Cartesian\n",
    "product** of the associated data. Here is a very basic example with one unique\n",
    "key combination:"
   ]
  },
  {
   "cell_type": "code",
   "execution_count": null,
   "id": "77ad848f",
   "metadata": {
    "hide-output": false
   },
   "outputs": [],
   "source": [
    "left = pd.DataFrame(\n",
    "    {\n",
    "        \"key\": [\"K0\", \"K1\", \"K2\", \"K3\"],\n",
    "        \"A\": [\"A0\", \"A1\", \"A2\", \"A3\"],\n",
    "        \"B\": [\"B0\", \"B1\", \"B2\", \"B3\"],\n",
    "    }\n",
    ")\n",
    "\n",
    "right = pd.DataFrame(\n",
    "    {\n",
    "        \"key\": [\"K0\", \"K1\", \"K2\", \"K3\"],\n",
    "        \"C\": [\"C0\", \"C1\", \"C2\", \"C3\"],\n",
    "        \"D\": [\"D0\", \"D1\", \"D2\", \"D3\"],\n",
    "    }\n",
    ")\n",
    "result = pd.merge(left, right, on=\"key\")"
   ]
  },
  {
   "cell_type": "code",
   "execution_count": null,
   "id": "2b124658-d4b9-405f-b5c0-3b68c1c43d66",
   "metadata": {},
   "outputs": [],
   "source": [
    "p.plot([left, right], result, labels=[\"left\",\"right\"], vertical=False);"
   ]
  },
  {
   "cell_type": "markdown",
   "id": "ae5ba893",
   "metadata": {},
   "source": [
    "\n",
    "\n",
    "Here is a more complicated example with multiple join keys. Only the keys\n",
    "appearing in `left` and `right` are present (the intersection), since\n",
    "`how='inner'` by default."
   ]
  },
  {
   "cell_type": "code",
   "execution_count": null,
   "id": "c55d915b",
   "metadata": {
    "hide-output": false
   },
   "outputs": [],
   "source": [
    "left = pd.DataFrame(\n",
    "    {\n",
    "        \"key1\": [\"K0\", \"K0\", \"K1\", \"K2\"],\n",
    "        \"key2\": [\"K0\", \"K1\", \"K0\", \"K1\"],\n",
    "        \"A\": [\"A0\", \"A1\", \"A2\", \"A3\"],\n",
    "        \"B\": [\"B0\", \"B1\", \"B2\", \"B3\"],\n",
    "    }\n",
    ")\n",
    "\n",
    "right = pd.DataFrame(\n",
    "    {\n",
    "        \"key1\": [\"K0\", \"K1\", \"K1\", \"K2\"],\n",
    "        \"key2\": [\"K0\", \"K0\", \"K0\", \"K0\"],\n",
    "        \"C\": [\"C0\", \"C1\", \"C2\", \"C3\"],\n",
    "        \"D\": [\"D0\", \"D1\", \"D2\", \"D3\"],\n",
    "    }\n",
    ")\n",
    "\n",
    "result = pd.merge(left, right, on=[\"key1\", \"key2\"])"
   ]
  },
  {
   "cell_type": "code",
   "execution_count": null,
   "id": "f98cd2d7-70ba-4012-b81a-57ae18601bee",
   "metadata": {},
   "outputs": [],
   "source": [
    "p.plot([left, right], result, labels=[\"left\",\"right\"], vertical=False);"
   ]
  },
  {
   "cell_type": "markdown",
   "id": "c20aade5",
   "metadata": {},
   "source": [
    "\n",
    "The `how` argument to `merge` specifies how to determine which keys are to\n",
    "be included in the resulting table. If a key combination **does not appear** in\n",
    "either the left or right tables, the values in the joined table will be\n",
    "`NA`. Here is a summary of the `how` options and their SQL equivalent names:\n",
    "\n",
    "|Merge method|SQL Join Name|Description|\n",
    "|:------------------|:------------------|:----------------------------------------------------------|\n",
    "|left|LEFT OUTER JOIN|Use keys from left frame only|\n",
    "|right|RIGHT OUTER JOIN|Use keys from right frame only|\n",
    "|outer|FULL OUTER JOIN|Use union of keys from both frames|\n",
    "|inner|INNER JOIN|Use intersection of keys from both frames|"
   ]
  },
  {
   "cell_type": "code",
   "execution_count": null,
   "id": "4710a84a",
   "metadata": {
    "hide-output": false
   },
   "outputs": [],
   "source": [
    "result = pd.merge(left, right, how=\"left\", on=[\"key1\", \"key2\"])\n",
    "p.plot([left, right], result, labels=[\"left\",\"right\"], vertical=False);"
   ]
  },
  {
   "cell_type": "code",
   "execution_count": null,
   "id": "8b45dd56",
   "metadata": {
    "hide-output": false
   },
   "outputs": [],
   "source": [
    "result = pd.merge(left, right, how=\"right\", on=[\"key1\", \"key2\"])\n",
    "p.plot([left, right], result, labels=[\"left\",\"right\"], vertical=False);"
   ]
  },
  {
   "cell_type": "code",
   "execution_count": null,
   "id": "65387c91",
   "metadata": {
    "hide-output": false
   },
   "outputs": [],
   "source": [
    "result = pd.merge(left, right, how=\"outer\", on=[\"key1\", \"key2\"])\n",
    "p.plot([left, right], result, labels=[\"left\",\"right\"], vertical=False);"
   ]
  },
  {
   "cell_type": "code",
   "execution_count": null,
   "id": "95eb7e45",
   "metadata": {
    "hide-output": false
   },
   "outputs": [],
   "source": [
    "result = pd.merge(left, right, how=\"inner\", on=[\"key1\", \"key2\"])\n",
    "p.plot([left, right], result, labels=[\"left\",\"right\"], vertical=False);"
   ]
  },
  {
   "cell_type": "code",
   "execution_count": null,
   "id": "a01040bd-c1d5-4fda-92b3-cf2ee3121294",
   "metadata": {
    "hide-output": false
   },
   "outputs": [],
   "source": [
    "df = pd.DataFrame({\"Let\": [\"A\", \"B\", \"C\"], \"Num\": [1, 2, 3]})\n",
    "df"
   ]
  },
  {
   "cell_type": "code",
   "execution_count": null,
   "id": "51fc4148-46d2-4ca2-843e-5cad7adfbd65",
   "metadata": {
    "hide-output": false
   },
   "outputs": [],
   "source": [
    "ser = pd.Series(\n",
    "    [\"a\", \"b\", \"c\", \"d\", \"e\", \"f\"],\n",
    "    index=pd.MultiIndex.from_arrays(\n",
    "        [[\"A\", \"B\", \"C\"] * 2, [1, 2, 3, 4, 5, 6]], names=[\"Let\", \"Num\"]\n",
    "    ),\n",
    ")\n",
    "ser"
   ]
  },
  {
   "cell_type": "code",
   "execution_count": null,
   "id": "0c20ef18-b8cc-4765-9092-041b410f4102",
   "metadata": {
    "hide-output": false
   },
   "outputs": [],
   "source": [
    "pd.merge(df, ser.reset_index(), on=[\"Let\", \"Num\"])"
   ]
  },
  {
   "cell_type": "markdown",
   "id": "755339eb",
   "metadata": {},
   "source": [
    "Here is another example with duplicate join keys in DataFrames:"
   ]
  },
  {
   "cell_type": "code",
   "execution_count": null,
   "id": "03c98c50",
   "metadata": {
    "hide-output": false
   },
   "outputs": [],
   "source": [
    "left = pd.DataFrame({\"A\": [1, 2], \"B\": [2, 2]})\n",
    "right = pd.DataFrame({\"A\": [4, 5, 6], \"B\": [2, 2, 2]})\n",
    "result = pd.merge(left, right, on=\"B\", how=\"outer\")\n",
    "\n",
    "p.plot([left, right], result, labels=[\"left\",\"right\"], vertical=False);"
   ]
  },
  {
   "cell_type": "markdown",
   "id": "5072eb6f",
   "metadata": {},
   "source": [
    ">***Warning:***\n",
    ">\n",
    "> Joining / merging on duplicate keys can cause a returned frame that is the multiplication of the row dimensions, which may result in memory overflow. It is the user’ s responsibility to manage duplicate values in keys before joining large DataFrames.\n",
    "\n",
    "\n",
    "<a id='merging-validation'></a>"
   ]
  },
  {
   "cell_type": "markdown",
   "id": "2e437dd9",
   "metadata": {},
   "source": [
    "### Checking for duplicate keys\n",
    "\n",
    "Users can use the `validate` argument to automatically check whether there\n",
    "are unexpected duplicates in their merge keys. Key uniqueness is checked before\n",
    "merge operations and so should protect against memory overflows. Checking key\n",
    "uniqueness is also a good way to ensure user data structures are as expected.\n",
    "\n",
    "In the following example, there are duplicate values of `B` in the right\n",
    "`DataFrame`. As this is not a one-to-one merge – as specified in the\n",
    "`validate` argument – an exception will be raised."
   ]
  },
  {
   "cell_type": "code",
   "execution_count": null,
   "id": "cf48808f",
   "metadata": {
    "hide-output": false
   },
   "outputs": [],
   "source": [
    "left = pd.DataFrame({\"A\": [1, 2], \"B\": [1, 2]})\n",
    "right = pd.DataFrame({\"A\": [4, 5, 6], \"B\": [2, 2, 2]})"
   ]
  },
  {
   "cell_type": "markdown",
   "id": "1e01bff1-1b88-4351-b5b6-6b86aeece115",
   "metadata": {
    "hide-output": false
   },
   "source": [
    "``` python\n",
    "\n",
    "In [53]: result = pd.merge(left, right, on=\"B\", how=\"outer\", validate=\"one_to_one\")\n",
    "...\n",
    "MergeError: Merge keys are not unique in right dataset; not a one-to-one merge\n",
    "```    "
   ]
  },
  {
   "cell_type": "markdown",
   "id": "38c25da6",
   "metadata": {},
   "source": [
    "If the user is aware of the duplicates in the right `DataFrame` but wants to\n",
    "ensure there are no duplicates in the left DataFrame, one can use the\n",
    "`validate='one_to_many'` argument instead, which will not raise an exception."
   ]
  },
  {
   "cell_type": "markdown",
   "id": "38232089-3543-4885-9237-639af1d31418",
   "metadata": {
    "hide-output": false
   },
   "source": [
    "``` python\n",
    "\n",
    "pd.merge(left, right, on=\"B\", how=\"outer\", validate=\"one_to_many\")\n",
    "```"
   ]
  },
  {
   "cell_type": "markdown",
   "id": "bdcf08ad",
   "metadata": {},
   "source": [
    "\n",
    "<a id='merging-indicator'></a>"
   ]
  },
  {
   "cell_type": "markdown",
   "id": "039d710e",
   "metadata": {},
   "source": [
    "### The merge indicator\n",
    "\n",
    "`merge()` accepts the argument `indicator`. If `True`, a\n",
    "Categorical-type column called `_merge` will be added to the output object\n",
    "that takes on values:\n",
    "\n",
    "|Observation Origin|_merge value|\n",
    "|:---------------------------------|:--------------|\n",
    "|Merge key only in 'left' frame|left_only|\n",
    "|Merge key only in 'right' frame|right_only|\n",
    "|Merge key in both frames|both|"
   ]
  },
  {
   "cell_type": "code",
   "execution_count": null,
   "id": "e19b1348",
   "metadata": {
    "hide-output": false
   },
   "outputs": [],
   "source": [
    "df1 = pd.DataFrame({\"col1\": [0, 1], \"col_left\": [\"a\", \"b\"]})\n",
    "df2 = pd.DataFrame({\"col1\": [1, 2, 2], \"col_right\": [2, 2, 2]})\n",
    "pd.merge(df1, df2, on=\"col1\", how=\"outer\", indicator=True)"
   ]
  },
  {
   "cell_type": "markdown",
   "id": "bc41223a",
   "metadata": {},
   "source": [
    "The `indicator` argument will also accept string arguments, in which case the indicator function will use the value of the passed string as the name for the indicator column."
   ]
  },
  {
   "cell_type": "code",
   "execution_count": null,
   "id": "26147b88-6cad-4c66-9d4f-322dbf39e2a6",
   "metadata": {},
   "outputs": [],
   "source": [
    "pd.merge(df1, df2, on=\"col1\", how=\"outer\", indicator=\"indicator_column\")"
   ]
  },
  {
   "cell_type": "markdown",
   "id": "95b0b1c6",
   "metadata": {},
   "source": [
    "\n",
    "<a id='merging-dtypes'></a>"
   ]
  },
  {
   "cell_type": "markdown",
   "id": "f0ad8297",
   "metadata": {},
   "source": [
    "### Merge dtypes\n",
    "\n",
    "Merging will preserve the dtype of the join keys."
   ]
  },
  {
   "cell_type": "code",
   "execution_count": null,
   "id": "f98a3c27-ab9f-4a26-8fe7-5860b13cf15b",
   "metadata": {
    "hide-output": false
   },
   "outputs": [],
   "source": [
    "left = pd.DataFrame({\"key\": [1], \"v1\": [10]})\n",
    "left"
   ]
  },
  {
   "cell_type": "code",
   "execution_count": null,
   "id": "80d888ac-bcc3-48a9-ab1a-ca18a65f8ab9",
   "metadata": {
    "hide-output": false
   },
   "outputs": [],
   "source": [
    "right = pd.DataFrame({\"key\": [1, 2], \"v1\": [20, 30]})\n",
    "right"
   ]
  },
  {
   "cell_type": "markdown",
   "id": "2ecea510",
   "metadata": {},
   "source": [
    "We are able to preserve the join keys:"
   ]
  },
  {
   "cell_type": "code",
   "execution_count": null,
   "id": "7c15ad91-186a-4fbe-966b-57627691cfe6",
   "metadata": {
    "hide-output": false
   },
   "outputs": [],
   "source": [
    "pd.merge(left, right, how=\"outer\")"
   ]
  },
  {
   "cell_type": "code",
   "execution_count": null,
   "id": "00b048b6-c484-459f-b26f-bb44269caca3",
   "metadata": {
    "hide-output": false
   },
   "outputs": [],
   "source": [
    "pd.merge(left, right, how=\"outer\").dtypes"
   ]
  },
  {
   "cell_type": "markdown",
   "id": "4a9bd793",
   "metadata": {},
   "source": [
    "Of course if you have missing values that are introduced, then the\n",
    "resulting dtype will be upcast."
   ]
  },
  {
   "cell_type": "code",
   "execution_count": null,
   "id": "0c6b7b3a-ec26-4d0b-b3e2-4ea232612a8c",
   "metadata": {
    "hide-output": false
   },
   "outputs": [],
   "source": [
    "pd.merge(left, right, how=\"outer\", on=\"key\")"
   ]
  },
  {
   "cell_type": "code",
   "execution_count": null,
   "id": "25e978c6-c18f-4763-bfe6-6ed78b8b7d8e",
   "metadata": {
    "hide-output": false
   },
   "outputs": [],
   "source": [
    "pd.merge(left, right, how=\"outer\", on=\"key\").dtypes"
   ]
  },
  {
   "cell_type": "markdown",
   "id": "09d61b78",
   "metadata": {},
   "source": [
    "Merging will preserve `category` dtypes of the mergands. See also the section on categoricals.\n",
    "\n",
    "The left frame."
   ]
  },
  {
   "cell_type": "code",
   "execution_count": null,
   "id": "bbb9b2bf-805b-4bf6-894c-efce21a9ed77",
   "metadata": {
    "hide-output": false
   },
   "outputs": [],
   "source": [
    "from pandas.api.types import CategoricalDtype\n",
    "\n",
    "X = pd.Series(np.random.choice([\"foo\", \"bar\"], size=(10,)))\n",
    "X = X.astype(CategoricalDtype(categories=[\"foo\", \"bar\"]))\n",
    "\n",
    "left = pd.DataFrame(\n",
    "    {\"X\": X, \"Y\": np.random.choice([\"one\", \"two\", \"three\"], size=(10,))}\n",
    ")\n",
    "left"
   ]
  },
  {
   "cell_type": "code",
   "execution_count": null,
   "id": "e3e96bb4-8ab8-4088-b293-9a7abb5164a2",
   "metadata": {
    "hide-output": false
   },
   "outputs": [],
   "source": [
    "left.dtypes"
   ]
  },
  {
   "cell_type": "markdown",
   "id": "190e5f23",
   "metadata": {},
   "source": [
    "The right frame."
   ]
  },
  {
   "cell_type": "code",
   "execution_count": null,
   "id": "b081e5de-6b14-4d4c-ae50-46a35a9255b4",
   "metadata": {
    "hide-output": false
   },
   "outputs": [],
   "source": [
    "right = pd.DataFrame(\n",
    "    {\n",
    "        \"X\": pd.Series([\"foo\", \"bar\"], dtype=CategoricalDtype([\"foo\", \"bar\"])),\n",
    "        \"Z\": [1, 2],\n",
    "    }\n",
    ")\n",
    "right"
   ]
  },
  {
   "cell_type": "code",
   "execution_count": null,
   "id": "b994de68-8755-4b59-9267-03889469481e",
   "metadata": {
    "hide-output": false
   },
   "outputs": [],
   "source": [
    "right.dtypes"
   ]
  },
  {
   "cell_type": "markdown",
   "id": "e0d6f41b",
   "metadata": {},
   "source": [
    "The merged result:"
   ]
  },
  {
   "cell_type": "code",
   "execution_count": null,
   "id": "d63f64b0-f352-495a-bd74-b5a41f47eca5",
   "metadata": {
    "hide-output": false
   },
   "outputs": [],
   "source": [
    "result = pd.merge(left, right, how=\"outer\")\n",
    "result"
   ]
  },
  {
   "cell_type": "code",
   "execution_count": null,
   "id": "1bca0958-6d59-47ba-9e6e-11da81759e9e",
   "metadata": {
    "hide-output": false
   },
   "outputs": [],
   "source": [
    "result.dtypes"
   ]
  },
  {
   "cell_type": "markdown",
   "id": "1aa5b9af",
   "metadata": {},
   "source": [
    ">**Note**\n",
    ">\n",
    ">The category dtypes must be *exactly* the same, meaning the same categories and the ordered attribute.\n",
    "Otherwise the result will coerce to the categories’ dtype.\n",
    "\n",
    ">**Note**\n",
    ">\n",
    ">Merging on `category` dtypes that are the same can be quite performant compared to `object` dtype merging.\n",
    "\n",
    "\n",
    "<a id='merging-join-index'></a>"
   ]
  },
  {
   "cell_type": "markdown",
   "id": "f18fd96f",
   "metadata": {},
   "source": [
    "### Joining on index\n",
    "\n",
    "`DataFrame.join()` is a convenient method for combining the columns of two\n",
    "potentially differently-indexed `DataFrames` into a single result\n",
    "`DataFrame`. Here is a very basic example:"
   ]
  },
  {
   "cell_type": "code",
   "execution_count": null,
   "id": "c41369e5-f7cc-4172-9b6e-8ccbabaf6e38",
   "metadata": {
    "hide-output": false
   },
   "outputs": [],
   "source": [
    "left = pd.DataFrame(\n",
    "    {\"A\": [\"A0\", \"A1\", \"A2\"], \"B\": [\"B0\", \"B1\", \"B2\"]}, index=[\"K0\", \"K1\", \"K2\"]\n",
    ")"
   ]
  },
  {
   "cell_type": "code",
   "execution_count": null,
   "id": "5327fc1e-4750-4888-a39e-0039423ad83d",
   "metadata": {
    "hide-output": false
   },
   "outputs": [],
   "source": [
    "right = pd.DataFrame(\n",
    "    {\"C\": [\"C0\", \"C2\", \"C3\"], \"D\": [\"D0\", \"D2\", \"D3\"]}, index=[\"K0\", \"K2\", \"K3\"]\n",
    ")"
   ]
  },
  {
   "cell_type": "code",
   "execution_count": null,
   "id": "21c91ba1-f6fc-4200-a08b-e19c6adb79c7",
   "metadata": {
    "hide-output": false
   },
   "outputs": [],
   "source": [
    "result = left.join(right)\n",
    "p.plot([left, right], result, labels=[\"left\",\"right\"], vertical=False);"
   ]
  },
  {
   "cell_type": "code",
   "execution_count": null,
   "id": "82ca041c",
   "metadata": {
    "hide-output": false
   },
   "outputs": [],
   "source": [
    "result = left.join(right, how=\"outer\")\n",
    "p.plot([left, right], result, labels=[\"left\",\"right\"], vertical=False);"
   ]
  },
  {
   "cell_type": "markdown",
   "id": "093c8b56",
   "metadata": {},
   "source": [
    "The same as above, but with `how='inner'`."
   ]
  },
  {
   "cell_type": "code",
   "execution_count": null,
   "id": "3e0444ad",
   "metadata": {
    "hide-output": false
   },
   "outputs": [],
   "source": [
    "result = left.join(right, how=\"inner\")\n",
    "p.plot([left, right], result, labels=[\"left\",\"right\"], vertical=False);"
   ]
  },
  {
   "cell_type": "markdown",
   "id": "0a6b9e02",
   "metadata": {},
   "source": [
    "The data alignment here is on the indexes (row labels). This same behavior can\n",
    "be achieved using `merge` plus additional arguments instructing it to use the\n",
    "indexes:"
   ]
  },
  {
   "cell_type": "code",
   "execution_count": null,
   "id": "a48e8f4f",
   "metadata": {
    "hide-output": false
   },
   "outputs": [],
   "source": [
    "result = pd.merge(left, right, left_index=True, right_index=True, how=\"outer\")\n",
    "p.plot([left, right], result, labels=[\"left\",\"right\"], vertical=False);"
   ]
  },
  {
   "cell_type": "code",
   "execution_count": null,
   "id": "2379fda0",
   "metadata": {
    "hide-output": false
   },
   "outputs": [],
   "source": [
    "result = pd.merge(left, right, left_index=True, right_index=True, how=\"inner\")\n",
    "p.plot([left, right], result, labels=[\"left\",\"right\"], vertical=False);"
   ]
  },
  {
   "cell_type": "markdown",
   "id": "e5fb9bf5",
   "metadata": {},
   "source": [
    "### Joining key columns on an index\n",
    "\n",
    "`join()` takes an optional `on` argument which may be a column\n",
    "or multiple column names, which specifies that the passed `DataFrame` is to be\n",
    "aligned on that column in the `DataFrame`. These two function calls are\n",
    "completely equivalent:"
   ]
  },
  {
   "cell_type": "markdown",
   "id": "ec711cd7-5d22-4872-8e88-4bc2453f8b3c",
   "metadata": {
    "hide-output": false
   },
   "source": [
    "``` python\n",
    "\n",
    "left.join(right, on=key_or_keys)\n",
    "pd.merge(\n",
    "    left, right, left_on=key_or_keys, right_index=True, how=\"left\", sort=False\n",
    ")\n",
    "```"
   ]
  },
  {
   "cell_type": "markdown",
   "id": "4cc16886",
   "metadata": {},
   "source": [
    "Obviously you can choose whichever form you find more convenient. For\n",
    "many-to-one joins (where one of the `DataFrame`’s is already indexed by the\n",
    "join key), using `join` may be more convenient. Here is a simple example:"
   ]
  },
  {
   "cell_type": "code",
   "execution_count": null,
   "id": "df61122b",
   "metadata": {
    "hide-output": false
   },
   "outputs": [],
   "source": [
    "left = pd.DataFrame(\n",
    "    {\n",
    "        \"A\": [\"A0\", \"A1\", \"A2\", \"A3\"],\n",
    "        \"B\": [\"B0\", \"B1\", \"B2\", \"B3\"],\n",
    "        \"key\": [\"K0\", \"K1\", \"K0\", \"K1\"],\n",
    "    }\n",
    ")\n",
    "\n",
    "right = pd.DataFrame({\"C\": [\"C0\", \"C1\"], \"D\": [\"D0\", \"D1\"]}, index=[\"K0\", \"K1\"])\n",
    "result = left.join(right, on=\"key\")\n",
    "\n",
    "\n",
    "p.plot([left, right], result, labels=[\"left\",\"right\"], vertical=False);"
   ]
  },
  {
   "cell_type": "code",
   "execution_count": null,
   "id": "b01073a9",
   "metadata": {
    "hide-output": false
   },
   "outputs": [],
   "source": [
    "result = pd.merge(\n",
    "    left, right, left_on=\"key\", right_index=True, how=\"left\", sort=False\n",
    ")\n",
    "\n",
    "p.plot([left, right], result, labels=[\"left\",\"right\"], vertical=False);"
   ]
  },
  {
   "cell_type": "markdown",
   "id": "137ed475-fd8d-428b-a0fb-ebff8715dc99",
   "metadata": {},
   "source": [
    "<a id='merging-multikey-join'></a>\n",
    "To join on multiple keys, the passed DataFrame must have a `MultiIndex`:"
   ]
  },
  {
   "cell_type": "code",
   "execution_count": null,
   "id": "42cd8f9a",
   "metadata": {
    "hide-output": false
   },
   "outputs": [],
   "source": [
    "left = pd.DataFrame(\n",
    "    {\n",
    "        \"A\": [\"A0\", \"A1\", \"A2\", \"A3\"],\n",
    "        \"B\": [\"B0\", \"B1\", \"B2\", \"B3\"],\n",
    "        \"key1\": [\"K0\", \"K0\", \"K1\", \"K2\"],\n",
    "        \"key2\": [\"K0\", \"K1\", \"K0\", \"K1\"],\n",
    "    }\n",
    ")\n",
    "\n",
    "index = pd.MultiIndex.from_tuples(\n",
    "    [(\"K0\", \"K0\"), (\"K1\", \"K0\"), (\"K2\", \"K0\"), (\"K2\", \"K1\")]\n",
    ")\n",
    "right = pd.DataFrame(\n",
    "    {\"C\": [\"C0\", \"C1\", \"C2\", \"C3\"], \"D\": [\"D0\", \"D1\", \"D2\", \"D3\"]}, index=index\n",
    ")"
   ]
  },
  {
   "cell_type": "markdown",
   "id": "f8c3bb56",
   "metadata": {},
   "source": [
    "Now this can be joined by passing the two key column names:"
   ]
  },
  {
   "cell_type": "code",
   "execution_count": null,
   "id": "d93c3643",
   "metadata": {
    "hide-output": false
   },
   "outputs": [],
   "source": [
    "result = left.join(right, on=[\"key1\", \"key2\"])\n",
    "\n",
    "p.plot([left, right], result, labels=[\"left\",\"right\"], vertical=False);"
   ]
  },
  {
   "cell_type": "markdown",
   "id": "202a5016",
   "metadata": {},
   "source": [
    "<a id='merging-df-inner-join'></a>\n",
    "The default for `DataFrame.join` is to perform a left join (essentially a\n",
    "“VLOOKUP” operation, for Excel users), which uses only the keys found in the\n",
    "calling DataFrame. Other join types, for example inner join, can be just as\n",
    "easily performed:"
   ]
  },
  {
   "cell_type": "code",
   "execution_count": null,
   "id": "55ad8bb9",
   "metadata": {
    "hide-output": false
   },
   "outputs": [],
   "source": [
    "result = left.join(right, on=[\"key1\", \"key2\"], how=\"inner\")\n",
    "\n",
    "p.plot([left, right], result, labels=[\"left\",\"right\"], vertical=False);"
   ]
  },
  {
   "cell_type": "markdown",
   "id": "da3947dd",
   "metadata": {},
   "source": [
    "As you can see, this drops any rows where there was no match.\n",
    "\n",
    "\n",
    "<a id='merging-join-on-mi'></a>"
   ]
  },
  {
   "cell_type": "markdown",
   "id": "16ecc9dc",
   "metadata": {},
   "source": [
    "### Joining a single Index to a MultiIndex\n",
    "\n",
    "You can join a singly-indexed `DataFrame` with a level of a MultiIndexed `DataFrame`.\n",
    "The level will match on the name of the index of the singly-indexed frame against\n",
    "a level name of the MultiIndexed frame."
   ]
  },
  {
   "cell_type": "code",
   "execution_count": null,
   "id": "f9e5d280",
   "metadata": {
    "hide-output": false
   },
   "outputs": [],
   "source": [
    "left = pd.DataFrame(\n",
    "    {\"A\": [\"A0\", \"A1\", \"A2\"], \"B\": [\"B0\", \"B1\", \"B2\"]},\n",
    "    index=pd.Index([\"K0\", \"K1\", \"K2\"], name=\"key\"),\n",
    ")\n",
    "\n",
    "index = pd.MultiIndex.from_tuples(\n",
    "    [(\"K0\", \"Y0\"), (\"K1\", \"Y1\"), (\"K2\", \"Y2\"), (\"K2\", \"Y3\")],\n",
    "    names=[\"key\", \"Y\"],\n",
    ")\n",
    "right = pd.DataFrame(\n",
    "    {\"C\": [\"C0\", \"C1\", \"C2\", \"C3\"], \"D\": [\"D0\", \"D1\", \"D2\", \"D3\"]},\n",
    "    index=index,\n",
    ")\n",
    "\n",
    "result = left.join(right, how=\"inner\")\n",
    "\n",
    "p.plot([left, right], result, labels=[\"left\",\"right\"], vertical=False);"
   ]
  },
  {
   "cell_type": "markdown",
   "id": "53846044",
   "metadata": {},
   "source": [
    "This is equivalent but less verbose and more memory efficient / faster than this."
   ]
  },
  {
   "cell_type": "code",
   "execution_count": null,
   "id": "26b02cde",
   "metadata": {
    "hide-output": false
   },
   "outputs": [],
   "source": [
    "result = pd.merge(\n",
    "    left.reset_index(), right.reset_index(), on=[\"key\"], how=\"inner\"\n",
    ").set_index([\"key\",\"Y\"])\n",
    "\n",
    "\n",
    "p.plot([left, right], result, labels=[\"left\",\"right\"], vertical=False);"
   ]
  },
  {
   "cell_type": "markdown",
   "id": "8f6474ce",
   "metadata": {},
   "source": [
    "### Joining with two MultiIndexes\n",
    "\n",
    "This is supported in a limited way, provided that the index for the right\n",
    "argument is completely used in the join, and is a subset of the indices in\n",
    "the left argument, as in this example:"
   ]
  },
  {
   "cell_type": "code",
   "execution_count": null,
   "id": "ec4224cb-2e0f-47b3-b446-da4487eacead",
   "metadata": {
    "hide-output": false
   },
   "outputs": [],
   "source": [
    "leftindex = pd.MultiIndex.from_product(\n",
    "    [list(\"abc\"), list(\"xy\"), [1, 2]], names=[\"abc\", \"xy\", \"num\"]\n",
    ")\n",
    "left = pd.DataFrame({\"v1\": range(12)}, index=leftindex)\n",
    "left"
   ]
  },
  {
   "cell_type": "code",
   "execution_count": null,
   "id": "9421cf3d-373c-43c8-b43b-e94cecbfc506",
   "metadata": {
    "hide-output": false
   },
   "outputs": [],
   "source": [
    "rightindex = pd.MultiIndex.from_product(\n",
    "    [list(\"abc\"), list(\"xy\")], names=[\"abc\", \"xy\"]\n",
    ")\n",
    "right = pd.DataFrame({\"v2\": [100 * i for i in range(1, 7)]}, index=rightindex)\n",
    "right"
   ]
  },
  {
   "cell_type": "code",
   "execution_count": null,
   "id": "183ebf87-478c-43ee-a9f8-fd07c7d7af2f",
   "metadata": {
    "hide-output": false
   },
   "outputs": [],
   "source": [
    "left.join(right, on=[\"abc\", \"xy\"], how=\"inner\")"
   ]
  },
  {
   "cell_type": "markdown",
   "id": "625c6e43",
   "metadata": {},
   "source": [
    "If that condition is not satisfied, a join with two multi-indexes can be\n",
    "done using the following code."
   ]
  },
  {
   "cell_type": "code",
   "execution_count": null,
   "id": "ba8af8b3",
   "metadata": {
    "hide-output": false
   },
   "outputs": [],
   "source": [
    "leftindex = pd.MultiIndex.from_tuples(\n",
    "    [(\"K0\", \"X0\"), (\"K0\", \"X1\"), (\"K1\", \"X2\")], names=[\"key\", \"X\"]\n",
    ")\n",
    "left = pd.DataFrame(\n",
    "    {\"A\": [\"A0\", \"A1\", \"A2\"], \"B\": [\"B0\", \"B1\", \"B2\"]}, index=leftindex\n",
    ")\n",
    "\n",
    "rightindex = pd.MultiIndex.from_tuples(\n",
    "    [(\"K0\", \"Y0\"), (\"K1\", \"Y1\"), (\"K2\", \"Y2\"), (\"K2\", \"Y3\")], names=[\"key\", \"Y\"]\n",
    ")\n",
    "right = pd.DataFrame(\n",
    "    {\"C\": [\"C0\", \"C1\", \"C2\", \"C3\"], \"D\": [\"D0\", \"D1\", \"D2\", \"D3\"]}, index=rightindex\n",
    ")\n",
    "\n",
    "result = pd.merge(\n",
    "    left.reset_index(), right.reset_index(), on=[\"key\"], how=\"inner\"\n",
    ").set_index([\"key\", \"X\", \"Y\"])\n",
    "\n",
    "p.plot([left, right], result, labels=[\"left\",\"right\"], vertical=False);"
   ]
  },
  {
   "cell_type": "markdown",
   "id": "958b8928",
   "metadata": {},
   "source": [
    "### Merging on a combination of columns and index levels\n",
    "\n",
    "Strings passed as the `on`, `left_on`, and `right_on` parameters\n",
    "may refer to either column names or index level names.  This enables merging\n",
    "`DataFrame` instances on a combination of index levels and columns without\n",
    "resetting indexes."
   ]
  },
  {
   "cell_type": "code",
   "execution_count": null,
   "id": "32e490a7",
   "metadata": {
    "hide-output": false
   },
   "outputs": [],
   "source": [
    "left_index = pd.Index([\"K0\", \"K0\", \"K1\", \"K2\"], name=\"key1\")\n",
    "\n",
    "left = pd.DataFrame(\n",
    "    {\n",
    "        \"A\": [\"A0\", \"A1\", \"A2\", \"A3\"],\n",
    "        \"B\": [\"B0\", \"B1\", \"B2\", \"B3\"],\n",
    "        \"key2\": [\"K0\", \"K1\", \"K0\", \"K1\"],\n",
    "    },\n",
    "    index=left_index,\n",
    ")\n",
    "\n",
    "right_index = pd.Index([\"K0\", \"K1\", \"K2\", \"K2\"], name=\"key1\")\n",
    "\n",
    "right = pd.DataFrame(\n",
    "    {\n",
    "        \"C\": [\"C0\", \"C1\", \"C2\", \"C3\"],\n",
    "        \"D\": [\"D0\", \"D1\", \"D2\", \"D3\"],\n",
    "        \"key2\": [\"K0\", \"K0\", \"K0\", \"K1\"],\n",
    "    },\n",
    "    index=right_index,\n",
    ")\n",
    "\n",
    "result = left.merge(right, on=[\"key1\", \"key2\"])\n",
    "\n",
    "p.plot([left, right], result, labels=[\"left\",\"right\"], vertical=False);"
   ]
  },
  {
   "cell_type": "markdown",
   "id": "9eeb6f69",
   "metadata": {},
   "source": [
    "\n",
    "\n",
    ">**Note**\n",
    ">\n",
    ">When DataFrames are merged on a string that matches an index level in both\n",
    "frames, the index level is preserved as an index level in the resulting\n",
    "DataFrame.\n",
    "\n",
    ">**Note**\n",
    ">\n",
    ">When DataFrames are merged using only some of the levels of a `MultiIndex`,\n",
    "the extra levels will be dropped from the resulting merge. In order to\n",
    "preserve those levels, use `reset_index` on those level names to move\n",
    "those levels to columns prior to doing the merge.\n",
    "\n",
    ">**Note**\n",
    ">\n",
    ">If a string matches both a column name and an index level name, then a\n",
    "warning is issued and the column takes precedence. This will result in an\n",
    "ambiguity error in a future version."
   ]
  },
  {
   "cell_type": "markdown",
   "id": "419a31c6",
   "metadata": {},
   "source": [
    "### Overlapping value columns\n",
    "\n",
    "The merge `suffixes` argument takes a tuple of list of strings to append to\n",
    "overlapping column names in the input `DataFrame`s to disambiguate the result\n",
    "columns:"
   ]
  },
  {
   "cell_type": "code",
   "execution_count": null,
   "id": "5b653620",
   "metadata": {
    "hide-output": false
   },
   "outputs": [],
   "source": [
    "left = pd.DataFrame({\"k\": [\"K0\", \"K1\", \"K2\"], \"v\": [1, 2, 3]})\n",
    "right = pd.DataFrame({\"k\": [\"K0\", \"K0\", \"K3\"], \"v\": [4, 5, 6]})\n",
    "\n",
    "result = pd.merge(left, right, on=\"k\")\n",
    "\n",
    "\n",
    "p.plot([left, right], result, labels=[\"left\",\"right\"], vertical=False);"
   ]
  },
  {
   "cell_type": "code",
   "execution_count": null,
   "id": "da8ce38e",
   "metadata": {
    "hide-output": false
   },
   "outputs": [],
   "source": [
    "result = pd.merge(left, right, on=\"k\", suffixes=(\"_l\", \"_r\"))\n",
    "\n",
    "p.plot([left, right], result, labels=[\"left\",\"right\"], vertical=False);"
   ]
  },
  {
   "cell_type": "markdown",
   "id": "3c6f40a2",
   "metadata": {},
   "source": [
    "`DataFrame.join()` has `lsuffix` and `rsuffix` arguments which behave\n",
    "similarly."
   ]
  },
  {
   "cell_type": "code",
   "execution_count": null,
   "id": "8706b68d",
   "metadata": {
    "hide-output": false
   },
   "outputs": [],
   "source": [
    "left = left.set_index(\"k\")\n",
    "right = right.set_index(\"k\")\n",
    "result = left.join(right, lsuffix=\"_l\", rsuffix=\"_r\")\n",
    "\n",
    "p.plot([left, right], result, labels=[\"left\",\"right\"], vertical=False);"
   ]
  },
  {
   "cell_type": "markdown",
   "id": "2187c62f",
   "metadata": {},
   "source": [
    "### Joining multiple DataFrames\n",
    "\n",
    "A list or tuple of `DataFrames` can also be passed to `join()`\n",
    "to join them together on their indexes."
   ]
  },
  {
   "cell_type": "code",
   "execution_count": null,
   "id": "a9108743",
   "metadata": {
    "hide-output": false
   },
   "outputs": [],
   "source": [
    "right2 = pd.DataFrame({\"v\": [7, 8, 9]}, index=[\"K1\", \"K1\", \"K2\"])\n",
    "result = left.join([right, right2])\n",
    "\n",
    "p.plot([left, right], result, labels=[\"left\",\"right\"], vertical=False);"
   ]
  },
  {
   "cell_type": "markdown",
   "id": "171ef089",
   "metadata": {},
   "source": [
    "### Merging together values within Series or DataFrame columns\n",
    "\n",
    "Another fairly common situation is to have two like-indexed (or similarly\n",
    "indexed) `Series` or `DataFrame` objects and wanting to “patch” values in\n",
    "one object from values for matching indices in the other. Here is an example:"
   ]
  },
  {
   "cell_type": "code",
   "execution_count": null,
   "id": "37363299",
   "metadata": {
    "hide-output": false
   },
   "outputs": [],
   "source": [
    "df1 = pd.DataFrame(\n",
    "    [[np.nan, 3.0, 5.0], [-4.6, np.nan, np.nan], [np.nan, 7.0, np.nan]]\n",
    ")\n",
    "df2 = pd.DataFrame([[-42.6, np.nan, -8.2], [-5.0, 1.6, 4]], index=[1, 2])"
   ]
  },
  {
   "cell_type": "markdown",
   "id": "4f4dc4b1",
   "metadata": {},
   "source": [
    "For this, use the `combine_first()` method:"
   ]
  },
  {
   "cell_type": "code",
   "execution_count": null,
   "id": "23443285",
   "metadata": {
    "hide-output": false
   },
   "outputs": [],
   "source": [
    "result = df1.combine_first(df2)\n",
    "p.plot([df1, df2], result, labels=[\"df1\",\"df2\"], vertical=False);"
   ]
  },
  {
   "cell_type": "markdown",
   "id": "74e5c931-de7f-4e8f-94fe-ac6b757483f0",
   "metadata": {},
   "source": [
    "Note that this method only takes values from the right `DataFrame` if they are\n",
    "missing in the left `DataFrame`. A related method, `update()`,\n",
    "alters non-NA values in place:"
   ]
  },
  {
   "cell_type": "code",
   "execution_count": null,
   "id": "2d1ba8a1-606e-4437-b37e-a5e8716b36c7",
   "metadata": {},
   "outputs": [],
   "source": [
    "df1_copy = df1.copy()\n"
   ]
  },
  {
   "cell_type": "code",
   "execution_count": null,
   "id": "ad11a2cc",
   "metadata": {
    "hide-output": false
   },
   "outputs": [],
   "source": [
    "df1.update(df2)\n",
    "p.plot([df1, df2], result, labels=[\"df1\",\"df2\"], vertical=False);"
   ]
  },
  {
   "cell_type": "markdown",
   "id": "398aec84",
   "metadata": {},
   "source": [
    "## Timeseries friendly merging\n",
    "\n",
    "\n",
    "<a id='merging-merge-ordered'></a>"
   ]
  },
  {
   "cell_type": "markdown",
   "id": "414a1ae1",
   "metadata": {},
   "source": [
    "### Merging ordered data\n",
    "\n",
    "A `merge_ordered()` function allows combining time series and other\n",
    "ordered data. In particular it has an optional `fill_method` keyword to\n",
    "fill/interpolate missing data:"
   ]
  },
  {
   "cell_type": "code",
   "execution_count": null,
   "id": "63efeb07",
   "metadata": {
    "hide-output": false
   },
   "outputs": [],
   "source": [
    "left = pd.DataFrame(\n",
    "    {\"k\": [\"K0\", \"K1\", \"K1\", \"K2\"], \"lv\": [1, 2, 3, 4], \"s\": [\"a\", \"b\", \"c\", \"d\"]}\n",
    ")\n",
    "\n",
    "right = pd.DataFrame({\"k\": [\"K1\", \"K2\", \"K4\"], \"rv\": [1, 2, 3]})\n",
    "\n",
    "pd.merge_ordered(left, right, fill_method=\"ffill\", left_by=\"s\")"
   ]
  },
  {
   "cell_type": "markdown",
   "id": "4aca29cb",
   "metadata": {},
   "source": [
    "\n",
    "<a id='merging-merge-asof'></a>"
   ]
  },
  {
   "cell_type": "markdown",
   "id": "448f1819",
   "metadata": {},
   "source": [
    "### Merging asof\n",
    "\n",
    "A `merge_asof()` is similar to an ordered left-join except that we match on\n",
    "nearest key rather than equal keys. For each row in the `left` `DataFrame`,\n",
    "we select the last row in the `right` `DataFrame` whose `on` key is less\n",
    "than the left’s key. Both DataFrames must be sorted by the key.\n",
    "\n",
    "Optionally an asof merge can perform a group-wise merge. This matches the\n",
    "`by` key equally, in addition to the nearest match on the `on` key.\n",
    "\n",
    "For example; we might have `trades` and `quotes` and we want to `asof`\n",
    "merge them."
   ]
  },
  {
   "cell_type": "code",
   "execution_count": null,
   "id": "881d2ec7",
   "metadata": {
    "hide-output": false
   },
   "outputs": [],
   "source": [
    "trades = pd.DataFrame(\n",
    "    {\n",
    "        \"time\": pd.to_datetime(\n",
    "            [\n",
    "                \"20160525 13:30:00.023\",\n",
    "                \"20160525 13:30:00.038\",\n",
    "                \"20160525 13:30:00.048\",\n",
    "                \"20160525 13:30:00.048\",\n",
    "                \"20160525 13:30:00.048\",\n",
    "            ]\n",
    "        ),\n",
    "        \"ticker\": [\"MSFT\", \"MSFT\", \"GOOG\", \"GOOG\", \"AAPL\"],\n",
    "        \"price\": [51.95, 51.95, 720.77, 720.92, 98.00],\n",
    "        \"quantity\": [75, 155, 100, 100, 100],\n",
    "    },\n",
    "    columns=[\"time\", \"ticker\", \"price\", \"quantity\"],\n",
    ")\n",
    "\n",
    "quotes = pd.DataFrame(\n",
    "    {\n",
    "        \"time\": pd.to_datetime(\n",
    "            [\n",
    "                \"20160525 13:30:00.023\",\n",
    "                \"20160525 13:30:00.023\",\n",
    "                \"20160525 13:30:00.030\",\n",
    "                \"20160525 13:30:00.041\",\n",
    "                \"20160525 13:30:00.048\",\n",
    "                \"20160525 13:30:00.049\",\n",
    "                \"20160525 13:30:00.072\",\n",
    "                \"20160525 13:30:00.075\",\n",
    "            ]\n",
    "        ),\n",
    "        \"ticker\": [\"GOOG\", \"MSFT\", \"MSFT\", \"MSFT\", \"GOOG\", \"AAPL\", \"GOOG\", \"MSFT\"],\n",
    "        \"bid\": [720.50, 51.95, 51.97, 51.99, 720.50, 97.99, 720.50, 52.01],\n",
    "        \"ask\": [720.93, 51.96, 51.98, 52.00, 720.93, 98.01, 720.88, 52.03],\n",
    "    },\n",
    "    columns=[\"time\", \"ticker\", \"bid\", \"ask\"],\n",
    ")"
   ]
  },
  {
   "cell_type": "code",
   "execution_count": null,
   "id": "b08af1dd-b3db-43ea-8555-114784d8ec64",
   "metadata": {
    "hide-output": false
   },
   "outputs": [],
   "source": [
    "trades"
   ]
  },
  {
   "cell_type": "code",
   "execution_count": null,
   "id": "6144ba83-0dac-44ef-bc0c-1391f68bd55a",
   "metadata": {
    "hide-output": false
   },
   "outputs": [],
   "source": [
    "quotes"
   ]
  },
  {
   "cell_type": "markdown",
   "id": "dac95d10",
   "metadata": {},
   "source": [
    "By default we are taking the asof of the quotes."
   ]
  },
  {
   "cell_type": "code",
   "execution_count": null,
   "id": "81b28f47",
   "metadata": {
    "hide-output": false
   },
   "outputs": [],
   "source": [
    "pd.merge_asof(trades, quotes, on=\"time\", by=\"ticker\")"
   ]
  },
  {
   "cell_type": "markdown",
   "id": "2b760b1c",
   "metadata": {},
   "source": [
    "We only asof within `2ms` between the quote time and the trade time."
   ]
  },
  {
   "cell_type": "code",
   "execution_count": null,
   "id": "312c81d3",
   "metadata": {
    "hide-output": false
   },
   "outputs": [],
   "source": [
    "pd.merge_asof(trades, quotes, on=\"time\", by=\"ticker\", tolerance=pd.Timedelta(\"2ms\"))"
   ]
  },
  {
   "cell_type": "markdown",
   "id": "d3a267d0",
   "metadata": {},
   "source": [
    "We only asof within `10ms` between the quote time and the trade time and we\n",
    "exclude exact matches on time. Note that though we exclude the exact matches\n",
    "(of the quotes), prior quotes **do** propagate to that point in time."
   ]
  },
  {
   "cell_type": "code",
   "execution_count": null,
   "id": "33551861",
   "metadata": {
    "hide-output": false
   },
   "outputs": [],
   "source": [
    "pd.merge_asof(\n",
    "    trades,\n",
    "    quotes,\n",
    "    on=\"time\",\n",
    "    by=\"ticker\",\n",
    "    tolerance=pd.Timedelta(\"10ms\"),\n",
    "    allow_exact_matches=False,\n",
    ")"
   ]
  },
  {
   "cell_type": "markdown",
   "id": "69ff0657",
   "metadata": {},
   "source": [
    "\n",
    "<a id='merging-compare'></a>"
   ]
  },
  {
   "cell_type": "markdown",
   "id": "24af2a5c",
   "metadata": {},
   "source": [
    "## Comparing objects\n",
    "\n",
    "The `compare()` and `compare()` methods allow you to\n",
    "compare two DataFrame or Series, respectively, and summarize their differences.\n",
    "\n",
    "This feature was added in [V1.1.0](../03_whatsnew/v1.1.0.ipynb#whatsnew-110-dataframe-or-series-comparing).\n",
    "\n",
    "For example, you might want to compare two `DataFrame` and stack their differences\n",
    "side by side."
   ]
  },
  {
   "cell_type": "code",
   "execution_count": null,
   "id": "c389037a",
   "metadata": {
    "hide-output": false
   },
   "outputs": [],
   "source": [
    "df = pd.DataFrame(\n",
    "    {\n",
    "        \"col1\": [\"a\", \"a\", \"b\", \"b\", \"a\"],\n",
    "        \"col2\": [1.0, 2.0, 3.0, np.nan, 5.0],\n",
    "        \"col3\": [1.0, 2.0, 3.0, 4.0, 5.0],\n",
    "    },\n",
    "    columns=[\"col1\", \"col2\", \"col3\"],\n",
    ")\n",
    "df"
   ]
  },
  {
   "cell_type": "code",
   "execution_count": null,
   "id": "7cd2a424",
   "metadata": {
    "hide-output": false
   },
   "outputs": [],
   "source": [
    "df2 = df.copy()\n",
    "df2.loc[0, \"col1\"] = \"c\"\n",
    "df2.loc[2, \"col3\"] = 4.0\n",
    "df2"
   ]
  },
  {
   "cell_type": "code",
   "execution_count": null,
   "id": "ba37433c",
   "metadata": {
    "hide-output": false
   },
   "outputs": [],
   "source": [
    "df.compare(df2)"
   ]
  },
  {
   "cell_type": "markdown",
   "id": "7823d701",
   "metadata": {},
   "source": [
    "By default, if two corresponding values are equal, they will be shown as `NaN`.\n",
    "Furthermore, if all values in an entire row / column, the row / column will be\n",
    "omitted from the result. The remaining differences will be aligned on columns.\n",
    "\n",
    "If you wish, you may choose to stack the differences on rows."
   ]
  },
  {
   "cell_type": "code",
   "execution_count": null,
   "id": "2670ea5c",
   "metadata": {
    "hide-output": false
   },
   "outputs": [],
   "source": [
    "df.compare(df2, align_axis=0)"
   ]
  },
  {
   "cell_type": "markdown",
   "id": "0d04b554",
   "metadata": {},
   "source": [
    "If you wish to keep all original rows and columns, set `keep_shape` argument\n",
    "to `True`."
   ]
  },
  {
   "cell_type": "code",
   "execution_count": null,
   "id": "1bb80475",
   "metadata": {
    "hide-output": false
   },
   "outputs": [],
   "source": [
    "df.compare(df2, keep_shape=True)"
   ]
  },
  {
   "cell_type": "markdown",
   "id": "5bf2715b",
   "metadata": {},
   "source": [
    "You may also keep all the original values even if they are equal."
   ]
  },
  {
   "cell_type": "code",
   "execution_count": null,
   "id": "83a30741",
   "metadata": {
    "hide-output": false
   },
   "outputs": [],
   "source": [
    "df.compare(df2, keep_shape=True, keep_equal=True)"
   ]
  },
  {
   "cell_type": "code",
   "execution_count": null,
   "id": "db6dc1a2-50fb-451e-b339-4c7937d19acb",
   "metadata": {},
   "outputs": [],
   "source": []
  }
 ],
 "metadata": {
  "date": 1630231086.7191699,
  "filename": "25_merging_join_concat.rst",
  "kernelspec": {
   "display_name": "Python 3",
   "language": "python",
   "name": "python3"
  },
  "language_info": {
   "codemirror_mode": {
    "name": "ipython",
    "version": 3
   },
   "file_extension": ".py",
   "mimetype": "text/x-python",
   "name": "python",
   "nbconvert_exporter": "python",
   "pygments_lexer": "ipython3",
   "version": "3.8.8"
  },
  "title": "Merge, join, concatenate and compare"
 },
 "nbformat": 4,
 "nbformat_minor": 5
}
