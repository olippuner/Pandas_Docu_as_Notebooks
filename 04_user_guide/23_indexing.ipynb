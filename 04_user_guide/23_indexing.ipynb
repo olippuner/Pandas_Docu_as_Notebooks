{
 "cells": [
  {
   "cell_type": "code",
   "execution_count": null,
   "id": "1a5032ea-8c7b-4934-ae06-bb87ff2d1bf6",
   "metadata": {},
   "outputs": [],
   "source": [
    "import numpy as np\n",
    "import pandas as pd"
   ]
  },
  {
   "cell_type": "markdown",
   "id": "422c3ce6",
   "metadata": {},
   "source": [
    "# Indexing and selecting data\n",
    "\n",
    "The axis labeling information in pandas objects serves many purposes:\n",
    "\n",
    "- Identifies data (i.e. provides *metadata*) using known indicators,\n",
    "  important for analysis, visualization, and interactive console display.  \n",
    "- Enables automatic and explicit data alignment.  \n",
    "- Allows intuitive getting and setting of subsets of the data set.  \n",
    "\n",
    "\n",
    "In this section, we will focus on the final point: namely, how to slice, dice,\n",
    "and generally get and set subsets of pandas objects. The primary focus will be\n",
    "on Series and DataFrame as they have received more development attention in\n",
    "this area.\n",
    "\n",
    ">**Note**\n",
    ">\n",
    ">The Python and NumPy indexing operators `[]` and attribute operator `.`\n",
    "provide quick and easy access to pandas data structures across a wide range\n",
    "of use cases. This makes interactive work intuitive, as there’s little new\n",
    "to learn if you already know how to deal with Python dictionaries and NumPy\n",
    "arrays. However, since the type of the data to be accessed isn’t known in\n",
    "advance, directly using standard operators has some optimization limits. For\n",
    "production code, we recommended that you take advantage of the optimized\n",
    "pandas data access methods exposed in this chapter.\n",
    "\n",
    "Whether a copy or a reference is returned for a setting operation, may\n",
    "depend on the context. This is sometimes called `chained assignment` and\n",
    "should be avoided. See Returning a View versus Copy.\n",
    "\n",
    "See the MultiIndex / Advanced Indexing for `MultiIndex` and more advanced indexing documentation.\n",
    "\n",
    "See the [cookbook](44_cookbook.ipynb#cookbook-selection) for some advanced strategies.\n",
    "\n",
    "\n",
    "<a id='indexing-choice'></a>"
   ]
  },
  {
   "cell_type": "markdown",
   "id": "d8124f65",
   "metadata": {},
   "source": [
    "## Different choices for indexing\n",
    "\n",
    "Object selection has had a number of user-requested additions in order to\n",
    "support more explicit location based indexing. pandas now supports three types\n",
    "of multi-axis indexing.\n",
    "\n",
    "- `.loc` is primarily label based, but may also be used with a boolean array. `.loc` will raise `KeyError` when the items are not found. Allowed inputs are:  \n",
    "  \n",
    "  - A single label, e.g. `5` or `'a'` (Note that `5` is interpreted as a\n",
    "    *label* of the index. This use is **not** an integer position along the\n",
    "    index.).  \n",
    "  - A list or array of labels `['a', 'b', 'c']`.  \n",
    "  - A slice object with labels `'a':'f'` (Note that contrary to usual Python\n",
    "    slices, **both** the start and the stop are included, when present in the\n",
    "    index! See Slicing with labels\n",
    "    and Endpoints are inclusive.)  \n",
    "  - A boolean array (any `NA` values will be treated as `False`).  \n",
    "  - A `callable` function with one argument (the calling Series or DataFrame) and\n",
    "    that returns valid output for indexing (one of the above).  \n",
    "  \n",
    "  See more at Selection by Label.  \n",
    "- `.iloc` is primarily integer position based (from `0` to\n",
    "  `length-1` of the axis), but may also be used with a boolean\n",
    "  array.  `.iloc` will raise `IndexError` if a requested\n",
    "  indexer is out-of-bounds, except *slice* indexers which allow\n",
    "  out-of-bounds indexing.  (this conforms with Python/NumPy *slice*\n",
    "  semantics).  Allowed inputs are:  \n",
    "  \n",
    "  - An integer e.g. `5`.  \n",
    "  - A list or array of integers `[4, 3, 0]`.  \n",
    "  - A slice object with ints `1:7`.  \n",
    "  - A boolean array (any `NA` values will be treated as `False`).  \n",
    "  - A `callable` function with one argument (the calling Series or DataFrame) and\n",
    "    that returns valid output for indexing (one of the above).  \n",
    "  \n",
    "  See more at Selection by Position,\n",
    "  Advanced Indexing and Advanced\n",
    "  Hierarchical.  \n",
    "- `.loc`, `.iloc`, and also `[]` indexing can accept a `callable` as indexer. See more at Selection By Callable.  \n",
    "\n",
    "\n",
    "Getting values from an object with multi-axes selection uses the following\n",
    "notation (using `.loc` as an example, but the following applies to `.iloc` as\n",
    "well). Any of the axes accessors may be the null slice `:`. Axes left out of\n",
    "the specification are assumed to be `:`, e.g. `p.loc['a']` is equivalent to\n",
    "`p.loc['a', :, :]`.\n",
    "\n",
    "\n",
    "|Object Type|Indexers|\n",
    "|:----------------------------|:------------------------------------------------|\n",
    "|Series|s.loc[indexer]|\n",
    "|DataFrame|df.loc[row_indexer,column_indexer]|\n",
    "\n",
    "<a id='indexing-basics'></a>"
   ]
  },
  {
   "cell_type": "markdown",
   "id": "4b6a780f",
   "metadata": {},
   "source": [
    "## Basics\n",
    "\n",
    "As mentioned when introducing the data structures in the last section, the primary function of indexing with `[]` (a.k.a. `__getitem__`\n",
    "for those familiar with implementing class behavior in Python) is selecting out\n",
    "lower-dimensional slices. The following table shows return type values when\n",
    "indexing pandas objects with `[]`:\n",
    "\n",
    "|Object Type|Selection|Return Value Type|\n",
    "|:----------------------------|:----------------------------|:----------------------------------------------------------|\n",
    "|Series|series[label]|scalar value|\n",
    "|DataFrame|frame[colname]|Series corresponding to colname|\n",
    "Here we construct a simple time series data set to use for illustrating the\n",
    "indexing functionality:"
   ]
  },
  {
   "cell_type": "code",
   "execution_count": null,
   "id": "912d2755",
   "metadata": {
    "hide-output": false
   },
   "outputs": [],
   "source": [
    "dates = pd.date_range('1/1/2000', periods=8)\n",
    "df = pd.DataFrame(np.random.randn(8, 4),\n",
    "                  index=dates, columns=['A', 'B', 'C', 'D'])\n",
    "df"
   ]
  },
  {
   "cell_type": "markdown",
   "id": "db581fe9",
   "metadata": {},
   "source": [
    ">**Note**\n",
    ">\n",
    ">None of the indexing functionality is time series specific unless\n",
    "specifically stated.\n",
    "\n",
    "Thus, as per above, we have the most basic indexing using `[]`:"
   ]
  },
  {
   "cell_type": "code",
   "execution_count": null,
   "id": "abb36295",
   "metadata": {
    "hide-output": false
   },
   "outputs": [],
   "source": [
    "s = df['A']\n",
    "s[dates[5]]"
   ]
  },
  {
   "cell_type": "markdown",
   "id": "b8b002cf",
   "metadata": {},
   "source": [
    "You can pass a list of columns to `[]` to select columns in that order.\n",
    "If a column is not contained in the DataFrame, an exception will be\n",
    "raised. Multiple columns can also be set in this manner:"
   ]
  },
  {
   "cell_type": "code",
   "execution_count": null,
   "id": "ee45a43c-0eff-495d-81e8-12c5eb2fe017",
   "metadata": {
    "hide-output": false
   },
   "outputs": [],
   "source": [
    "df"
   ]
  },
  {
   "cell_type": "code",
   "execution_count": null,
   "id": "50f6e6f8-b9e0-4cf9-b926-4281982b0096",
   "metadata": {
    "hide-output": false
   },
   "outputs": [],
   "source": [
    "df[['B', 'A']] = df[['A', 'B']]\n",
    "df"
   ]
  },
  {
   "cell_type": "markdown",
   "id": "df867fc5",
   "metadata": {},
   "source": [
    "You may find this useful for applying a transform (in-place) to a subset of the\n",
    "columns.\n",
    "\n",
    "pandas aligns all AXES when setting `Series` and `DataFrame` from `.loc`, and `.iloc`.\n",
    "\n",
    "This will **not** modify `df` because the column alignment is before value assignment."
   ]
  },
  {
   "cell_type": "code",
   "execution_count": null,
   "id": "befb7310",
   "metadata": {
    "hide-output": false
   },
   "outputs": [],
   "source": [
    "df[['A', 'B']]\n",
    "df.loc[:, ['B', 'A']] = df[['A', 'B']]\n",
    "df[['A', 'B']]"
   ]
  },
  {
   "cell_type": "markdown",
   "id": "8ac3462d",
   "metadata": {},
   "source": [
    "The correct way to swap column values is by using raw values:"
   ]
  },
  {
   "cell_type": "code",
   "execution_count": null,
   "id": "ff671876",
   "metadata": {
    "hide-output": false
   },
   "outputs": [],
   "source": [
    "df.loc[:, ['B', 'A']] = df[['A', 'B']].to_numpy()\n",
    "df[['A', 'B']]"
   ]
  },
  {
   "cell_type": "markdown",
   "id": "e723b9a3",
   "metadata": {},
   "source": [
    "## Attribute access\n",
    "\n",
    "\n",
    "<a id='indexing-columns-multiple'></a>\n",
    "\n",
    "<a id='indexing-df-cols'></a>\n",
    "\n",
    "<a id='indexing-attribute-access'></a>\n",
    "You may access an index on a `Series` or  column on a `DataFrame` directly\n",
    "as an attribute:"
   ]
  },
  {
   "cell_type": "code",
   "execution_count": null,
   "id": "4bb50e58",
   "metadata": {
    "hide-output": false
   },
   "outputs": [],
   "source": [
    "sa = pd.Series([1, 2, 3], index=list('abc'))\n",
    "dfa = df.copy()"
   ]
  },
  {
   "cell_type": "code",
   "execution_count": null,
   "id": "e53f42cc",
   "metadata": {
    "hide-output": false
   },
   "outputs": [],
   "source": [
    "sa.b\n",
    "dfa.A"
   ]
  },
  {
   "cell_type": "code",
   "execution_count": null,
   "id": "6d81ce98",
   "metadata": {
    "hide-output": false
   },
   "outputs": [],
   "source": [
    "sa.a = 5\n",
    "sa\n",
    "dfa.A = list(range(len(dfa.index)))  # ok if A already exists\n",
    "dfa\n",
    "dfa['A'] = list(range(len(dfa.index)))  # use this form to create a new column\n",
    "dfa"
   ]
  },
  {
   "cell_type": "markdown",
   "id": "e0cd7fb9",
   "metadata": {},
   "source": [
    "- You can use this access only if the index element is a valid Python identifier, e.g. `s.1` is not allowed.\n",
    "  See [here for an explanation of valid identifiers](https://docs.python.org/3/reference/lexical_analysis.html#identifiers).  \n",
    "- The attribute will not be available if it conflicts with an existing method name, e.g. `s.min` is not allowed, but `s['min']` is possible.  \n",
    "- Similarly, the attribute will not be available if it conflicts with any of the following list: `index`,\n",
    "  `major_axis`, `minor_axis`, `items`.  \n",
    "- In any of these cases, standard indexing will still work, e.g. `s['1']`, `s['min']`, and `s['index']` will\n",
    "  access the corresponding element or column.  \n",
    "\n",
    "\n",
    "If you are using the IPython environment, you may also use tab-completion to\n",
    "see these accessible attributes.\n",
    "\n",
    "You can also assign a `dict` to a row of a `DataFrame`:"
   ]
  },
  {
   "cell_type": "code",
   "execution_count": null,
   "id": "48e9a337",
   "metadata": {
    "hide-output": false
   },
   "outputs": [],
   "source": [
    "x = pd.DataFrame({'x': [1, 2, 3], 'y': [3, 4, 5]})\n",
    "x.iloc[1] = {'x': 9, 'y': 99}\n",
    "x"
   ]
  },
  {
   "cell_type": "markdown",
   "id": "fb6ad32a",
   "metadata": {},
   "source": [
    "You can use attribute access to modify an existing element of a Series or column of a DataFrame, but be careful;\n",
    "if you try to use attribute access to create a new column, it creates a new attribute rather than a\n",
    "new column. In 0.21.0 and later, this will raise a `UserWarning`:"
   ]
  },
  {
   "cell_type": "markdown",
   "id": "e8caa5cc",
   "metadata": {
    "hide-output": false
   },
   "source": [
    "```python\n",
    "In [1]: df = pd.DataFrame({'one': [1., 2., 3.]})\n",
    "In [2]: df.two = [4, 5, 6]\n",
    "UserWarning: Pandas doesn't allow Series to be assigned into nonexistent columns - see https://pandas.pydata.org/pandas-docs/stable/indexing.html#attribute_access\n",
    "In [3]: df\n",
    "Out[3]:\n",
    "   one\n",
    "0  1.0\n",
    "1  2.0\n",
    "2  3.0\n",
    "```\n"
   ]
  },
  {
   "cell_type": "markdown",
   "id": "63680943",
   "metadata": {},
   "source": [
    "## Slicing ranges\n",
    "\n",
    "The most robust and consistent way of slicing ranges along arbitrary axes is\n",
    "described in the Selection by Position section\n",
    "detailing the `.iloc` method. For now, we explain the semantics of slicing using the `[]` operator.\n",
    "\n",
    "With Series, the syntax works exactly as with an ndarray, returning a slice of\n",
    "the values and the corresponding labels:"
   ]
  },
  {
   "cell_type": "code",
   "execution_count": null,
   "id": "d96a57b5-6446-4cc2-aa55-9a15913f3285",
   "metadata": {
    "hide-output": false
   },
   "outputs": [],
   "source": [
    "s = dfa.A\n",
    "s[:5]"
   ]
  },
  {
   "cell_type": "code",
   "execution_count": null,
   "id": "cf7349a3-1310-4120-be41-72a4e89714a9",
   "metadata": {
    "hide-output": false
   },
   "outputs": [],
   "source": [
    "s[::2]"
   ]
  },
  {
   "cell_type": "code",
   "execution_count": null,
   "id": "0943c0e0-0b53-4ecc-93b4-4cf681fe6761",
   "metadata": {
    "hide-output": false
   },
   "outputs": [],
   "source": [
    "s[::-1]"
   ]
  },
  {
   "cell_type": "markdown",
   "id": "0724666b",
   "metadata": {},
   "source": [
    "Note that setting works as well:"
   ]
  },
  {
   "cell_type": "code",
   "execution_count": null,
   "id": "27980bb9",
   "metadata": {
    "hide-output": false
   },
   "outputs": [],
   "source": [
    "s2 = s.copy()\n",
    "s2[:5] = 0\n",
    "s2"
   ]
  },
  {
   "cell_type": "markdown",
   "id": "6fe5a7c0",
   "metadata": {},
   "source": [
    "With DataFrame, slicing inside of `[]` **slices the rows**. This is provided\n",
    "largely as a convenience since it is such a common operation."
   ]
  },
  {
   "cell_type": "code",
   "execution_count": null,
   "id": "03c78023",
   "metadata": {
    "hide-output": false
   },
   "outputs": [],
   "source": [
    "df[:3]\n",
    "df[::-1]"
   ]
  },
  {
   "cell_type": "markdown",
   "id": "cede2c1e",
   "metadata": {},
   "source": [
    "\n",
    "<a id='indexing-label'></a>"
   ]
  },
  {
   "cell_type": "markdown",
   "id": "fd10884b",
   "metadata": {},
   "source": [
    "## Selection by label\n",
    "\n",
    "Whether a copy or a reference is returned for a setting operation, may depend on the context.\n",
    "This is sometimes called `chained assignment` and should be avoided.\n",
    "See Returning a View versus Copy.\n",
    "\n",
    "> `.loc` is strict when you present slicers that are not compatible (or convertible) with the index type. For example\n",
    "using integers in a `DatetimeIndex`. These will raise a `TypeError`."
   ]
  },
  {
   "cell_type": "code",
   "execution_count": null,
   "id": "ed22a612",
   "metadata": {
    "hide-output": false
   },
   "outputs": [],
   "source": [
    "dfl = pd.DataFrame(np.random.randn(5, 4),\n",
    "                   columns=list('ABCD'),\n",
    "                   index=pd.date_range('20130101', periods=5))\n",
    "dfl"
   ]
  },
  {
   "cell_type": "markdown",
   "id": "fd44db91",
   "metadata": {
    "hide-output": false
   },
   "source": [
    "```python\n",
    "In [4]: dfl.loc[2:3]\n",
    "TypeError: cannot do slice indexing on <class 'pandas.tseries.index.DatetimeIndex'> with these indexers [2] of <type 'int'>\n",
    "```\n"
   ]
  },
  {
   "cell_type": "markdown",
   "id": "484d1f35",
   "metadata": {},
   "source": [
    "String likes in slicing *can* be convertible to the type of the index and lead to natural slicing."
   ]
  },
  {
   "cell_type": "code",
   "execution_count": null,
   "id": "3307d0cd",
   "metadata": {
    "hide-output": false
   },
   "outputs": [],
   "source": [
    "dfl.loc['20130102':'20130104']"
   ]
  },
  {
   "cell_type": "markdown",
   "id": "4f8eb618",
   "metadata": {},
   "source": [
    "Changed in version 1.0.0.\n",
    "\n",
    "pandas will raise a `KeyError` if indexing with a list with missing labels. See list-like Using loc with\n",
    "missing keys in a list is Deprecated.\n",
    "\n",
    "pandas provides a suite of methods in order to have **purely label based indexing**. This is a strict inclusion based protocol.\n",
    "Every label asked for must be in the index, or a `KeyError` will be raised.\n",
    "When slicing, both the start bound **AND** the stop bound are *included*, if present in the index.\n",
    "Integers are valid labels, but they refer to the label **and not the position**.\n",
    "\n",
    "The `.loc` attribute is the primary access method. The following are valid inputs:\n",
    "\n",
    "- A single label, e.g. `5` or `'a'` (Note that `5` is interpreted as a *label* of the index. This use is **not** an integer position along the index.).  \n",
    "- A list or array of labels `['a', 'b', 'c']`.  \n",
    "- A slice object with labels `'a':'f'` (Note that contrary to usual Python\n",
    "  slices, **both** the start and the stop are included, when present in the\n",
    "  index! See Slicing with labels.  \n",
    "- A boolean array.  \n",
    "- A `callable`, see Selection By Callable.  "
   ]
  },
  {
   "cell_type": "code",
   "execution_count": null,
   "id": "86cfce6a-48a9-4af0-a093-6322b292ef06",
   "metadata": {
    "hide-output": false
   },
   "outputs": [],
   "source": [
    "s1 = pd.Series(np.random.randn(6), index=list('abcdef'))\n",
    "s1"
   ]
  },
  {
   "cell_type": "code",
   "execution_count": null,
   "id": "abe52020-dfb0-4ccd-8446-1053b81ea46b",
   "metadata": {
    "hide-output": false
   },
   "outputs": [],
   "source": [
    "s1.loc['c':]"
   ]
  },
  {
   "cell_type": "code",
   "execution_count": null,
   "id": "956adc64-51ff-4090-b045-2f3052fb49ff",
   "metadata": {
    "hide-output": false
   },
   "outputs": [],
   "source": [
    "s1.loc['b']"
   ]
  },
  {
   "cell_type": "markdown",
   "id": "d9564eee",
   "metadata": {},
   "source": [
    "Note that setting works as well:"
   ]
  },
  {
   "cell_type": "code",
   "execution_count": null,
   "id": "b2b27a74",
   "metadata": {
    "hide-output": false
   },
   "outputs": [],
   "source": [
    "s1.loc['c':] = 0\n",
    "s1"
   ]
  },
  {
   "cell_type": "markdown",
   "id": "4e5de186",
   "metadata": {},
   "source": [
    "With a DataFrame:"
   ]
  },
  {
   "cell_type": "code",
   "execution_count": null,
   "id": "a0d3b645-8750-4574-8d8c-60ece997a88b",
   "metadata": {
    "hide-output": false
   },
   "outputs": [],
   "source": [
    "df1 = pd.DataFrame(np.random.randn(6, 4),\n",
    "                   index=list('abcdef'),\n",
    "                   columns=list('ABCD'))\n",
    "df1"
   ]
  },
  {
   "cell_type": "code",
   "execution_count": null,
   "id": "c1a4083f-23ce-4268-84ed-420583684b52",
   "metadata": {
    "hide-output": false
   },
   "outputs": [],
   "source": [
    "df1.loc[['a', 'b', 'd'], :]"
   ]
  },
  {
   "cell_type": "markdown",
   "id": "519b3ca4",
   "metadata": {},
   "source": [
    "Accessing via label slices:"
   ]
  },
  {
   "cell_type": "code",
   "execution_count": null,
   "id": "2b36c0cf",
   "metadata": {
    "hide-output": false
   },
   "outputs": [],
   "source": [
    "df1.loc['d':, 'A':'C']"
   ]
  },
  {
   "cell_type": "markdown",
   "id": "bf566f45",
   "metadata": {},
   "source": [
    "For getting a cross section using a label (equivalent to `df.xs('a')`):"
   ]
  },
  {
   "cell_type": "code",
   "execution_count": null,
   "id": "66600ef4",
   "metadata": {
    "hide-output": false
   },
   "outputs": [],
   "source": [
    "df1.loc['a']"
   ]
  },
  {
   "cell_type": "markdown",
   "id": "ab0a7df1",
   "metadata": {},
   "source": [
    "For getting values with a boolean array:"
   ]
  },
  {
   "cell_type": "code",
   "execution_count": null,
   "id": "8c34ad3f-f72c-438b-91b2-88be4f758b16",
   "metadata": {
    "hide-output": false
   },
   "outputs": [],
   "source": [
    "df1.loc['a'] > 0"
   ]
  },
  {
   "cell_type": "code",
   "execution_count": null,
   "id": "b2efe489-8abf-4c96-9643-c5dc076cffa8",
   "metadata": {
    "hide-output": false
   },
   "outputs": [],
   "source": [
    "df1.loc[:, df1.loc['a'] > 0]"
   ]
  },
  {
   "cell_type": "markdown",
   "id": "9e87dbff",
   "metadata": {},
   "source": [
    "NA values in a boolean array propagate as `False`:\n",
    "\n",
    "Changed in version 1.0.2."
   ]
  },
  {
   "cell_type": "code",
   "execution_count": null,
   "id": "05ebf528-4b4b-4a0b-b45a-e21c49c8047a",
   "metadata": {
    "hide-output": false
   },
   "outputs": [],
   "source": [
    "mask = pd.array([True, False, True, False, pd.NA, False], dtype=\"boolean\")\n",
    "mask"
   ]
  },
  {
   "cell_type": "code",
   "execution_count": null,
   "id": "6f3bc270-7a48-4e9c-a970-13cae41c3b7b",
   "metadata": {
    "hide-output": false
   },
   "outputs": [],
   "source": [
    "df1[mask]"
   ]
  },
  {
   "cell_type": "markdown",
   "id": "8712344e",
   "metadata": {},
   "source": [
    "For getting a value explicitly:"
   ]
  },
  {
   "cell_type": "code",
   "execution_count": null,
   "id": "eabc0059",
   "metadata": {
    "hide-output": false
   },
   "outputs": [],
   "source": [
    "# this is also equivalent to ``df1.at['a','A']``\n",
    "df1.loc['a', 'A']"
   ]
  },
  {
   "cell_type": "markdown",
   "id": "f2921cee",
   "metadata": {},
   "source": [
    "\n",
    "<a id='indexing-slicing-with-labels'></a>"
   ]
  },
  {
   "cell_type": "markdown",
   "id": "cfea6005",
   "metadata": {},
   "source": [
    "### Slicing with labels\n",
    "\n",
    "When using `.loc` with slices, if both the start and the stop labels are\n",
    "present in the index, then elements *located* between the two (including them)\n",
    "are returned:"
   ]
  },
  {
   "cell_type": "code",
   "execution_count": null,
   "id": "f295685f",
   "metadata": {
    "hide-output": false
   },
   "outputs": [],
   "source": [
    "s = pd.Series(list('abcde'), index=[0, 3, 2, 5, 4])\n",
    "s.loc[3:5]"
   ]
  },
  {
   "cell_type": "markdown",
   "id": "a6d67302",
   "metadata": {},
   "source": [
    "If at least one of the two is absent, but the index is sorted, and can be\n",
    "compared against start and stop labels, then slicing will still work as\n",
    "expected, by selecting labels which *rank* between the two:"
   ]
  },
  {
   "cell_type": "code",
   "execution_count": null,
   "id": "613e7cc7-fa97-40c2-baa7-e1fa2217a107",
   "metadata": {
    "hide-output": false
   },
   "outputs": [],
   "source": [
    "s.sort_index()"
   ]
  },
  {
   "cell_type": "code",
   "execution_count": null,
   "id": "7d3d6e36-7989-449a-972c-5063cfb81970",
   "metadata": {
    "hide-output": false
   },
   "outputs": [],
   "source": [
    "s.sort_index().loc[1:6]"
   ]
  },
  {
   "cell_type": "markdown",
   "id": "5e7e5b98",
   "metadata": {},
   "source": [
    "However, if at least one of the two is absent *and* the index is not sorted, an\n",
    "error will be raised (since doing otherwise would be computationally expensive,\n",
    "as well as potentially ambiguous for mixed type indexes). For instance, in the\n",
    "above example, `s.loc[1:6]` would raise `KeyError`.\n",
    "\n",
    "For the rationale behind this behavior, see\n",
    "Endpoints are inclusive."
   ]
  },
  {
   "cell_type": "code",
   "execution_count": null,
   "id": "05c4de25",
   "metadata": {
    "hide-output": false
   },
   "outputs": [],
   "source": [
    "s = pd.Series(list('abcdef'), index=[0, 3, 2, 5, 4, 2])\n",
    "s.loc[3:5]"
   ]
  },
  {
   "cell_type": "markdown",
   "id": "1372f334",
   "metadata": {},
   "source": [
    "Also, if the index has duplicate labels *and* either the start or the stop label is duplicated,\n",
    "an error will be raised. For instance, in the above example, `s.loc[2:5]` would raise a `KeyError`.\n",
    "\n",
    "For more information about duplicate labels, see\n",
    "Duplicate Labels.\n",
    "\n",
    "\n",
    "<a id='indexing-integer'></a>"
   ]
  },
  {
   "cell_type": "markdown",
   "id": "0583fcde",
   "metadata": {},
   "source": [
    "## Selection by position\n",
    "\n",
    "Whether a copy or a reference is returned for a setting operation, may depend on the context.\n",
    "This is sometimes called `chained assignment` and should be avoided.\n",
    "See Returning a View versus Copy.\n",
    "\n",
    "pandas provides a suite of methods in order to get **purely integer based indexing**. The semantics follow closely Python and NumPy slicing. These are `0-based` indexing. When slicing, the start bound is *included*, while the upper bound is *excluded*. Trying to use a non-integer, even a **valid** label will raise an `IndexError`.\n",
    "\n",
    "The `.iloc` attribute is the primary access method. The following are valid inputs:\n",
    "\n",
    "- An integer e.g. `5`.  \n",
    "- A list or array of integers `[4, 3, 0]`.  \n",
    "- A slice object with ints `1:7`.  \n",
    "- A boolean array.  \n",
    "- A `callable`, see Selection By Callable.  "
   ]
  },
  {
   "cell_type": "code",
   "execution_count": null,
   "id": "5e495579-c76e-4613-bbda-c1fc22552cb1",
   "metadata": {
    "hide-output": false
   },
   "outputs": [],
   "source": [
    "s1 = pd.Series(np.random.randn(5), index=list(range(0, 10, 2)))\n",
    "s1"
   ]
  },
  {
   "cell_type": "code",
   "execution_count": null,
   "id": "f50f0fc7-4db7-46b8-b7b4-c15fa1db3971",
   "metadata": {
    "hide-output": false
   },
   "outputs": [],
   "source": [
    "s1.iloc[:3]"
   ]
  },
  {
   "cell_type": "code",
   "execution_count": null,
   "id": "a1a3dc63-f1b9-4872-9235-8ecf947fb376",
   "metadata": {
    "hide-output": false
   },
   "outputs": [],
   "source": [
    "s1.iloc[3]"
   ]
  },
  {
   "cell_type": "markdown",
   "id": "32a7f2b2",
   "metadata": {},
   "source": [
    "Note that setting works as well:"
   ]
  },
  {
   "cell_type": "code",
   "execution_count": null,
   "id": "a4d5e22f",
   "metadata": {
    "hide-output": false
   },
   "outputs": [],
   "source": [
    "s1.iloc[:3] = 0\n",
    "s1"
   ]
  },
  {
   "cell_type": "markdown",
   "id": "b0d3bb55",
   "metadata": {},
   "source": [
    "With a DataFrame:"
   ]
  },
  {
   "cell_type": "code",
   "execution_count": null,
   "id": "acb2019b",
   "metadata": {
    "hide-output": false
   },
   "outputs": [],
   "source": [
    "df1 = pd.DataFrame(np.random.randn(6, 4),\n",
    "                   index=list(range(0, 12, 2)),\n",
    "                   columns=list(range(0, 8, 2)))\n",
    "df1"
   ]
  },
  {
   "cell_type": "markdown",
   "id": "f454cc1a",
   "metadata": {},
   "source": [
    "Select via integer slicing:"
   ]
  },
  {
   "cell_type": "code",
   "execution_count": null,
   "id": "a2046127-47fe-426b-b77c-3b182a88d1bb",
   "metadata": {
    "hide-output": false
   },
   "outputs": [],
   "source": [
    "df1.iloc[:3]"
   ]
  },
  {
   "cell_type": "code",
   "execution_count": null,
   "id": "fdedfd27-63fc-4ae4-ab5c-aba6f24f0361",
   "metadata": {
    "hide-output": false
   },
   "outputs": [],
   "source": [
    "df1.iloc[1:5, 2:4]"
   ]
  },
  {
   "cell_type": "markdown",
   "id": "d8187eb9",
   "metadata": {},
   "source": [
    "Select via integer list:"
   ]
  },
  {
   "cell_type": "code",
   "execution_count": null,
   "id": "32f05153",
   "metadata": {
    "hide-output": false
   },
   "outputs": [],
   "source": [
    "df1.iloc[[1, 3, 5], [1, 3]]"
   ]
  },
  {
   "cell_type": "code",
   "execution_count": null,
   "id": "0d60aa53",
   "metadata": {
    "hide-output": false
   },
   "outputs": [],
   "source": [
    "df1.iloc[1:3, :]"
   ]
  },
  {
   "cell_type": "code",
   "execution_count": null,
   "id": "9d35c193",
   "metadata": {
    "hide-output": false
   },
   "outputs": [],
   "source": [
    "df1.iloc[:, 1:3]"
   ]
  },
  {
   "cell_type": "code",
   "execution_count": null,
   "id": "f38b99b7",
   "metadata": {
    "hide-output": false
   },
   "outputs": [],
   "source": [
    "# this is also equivalent to ``df1.iat[1,1]``\n",
    "df1.iloc[1, 1]"
   ]
  },
  {
   "cell_type": "markdown",
   "id": "9cfb7d0a",
   "metadata": {},
   "source": [
    "For getting a cross section using an integer position (equiv to `df.xs(1)`):"
   ]
  },
  {
   "cell_type": "code",
   "execution_count": null,
   "id": "40793b9f",
   "metadata": {
    "hide-output": false
   },
   "outputs": [],
   "source": [
    "df1.iloc[1]"
   ]
  },
  {
   "cell_type": "markdown",
   "id": "bf227f43",
   "metadata": {},
   "source": [
    "Out of range slice indexes are handled gracefully just as in Python/NumPy."
   ]
  },
  {
   "cell_type": "code",
   "execution_count": null,
   "id": "0304a1b9-8983-40a3-ab80-aa1c45d9b102",
   "metadata": {
    "hide-output": false
   },
   "outputs": [],
   "source": [
    "# these are allowed in Python/NumPy.\n",
    "x = list('abcdef')\n",
    "x"
   ]
  },
  {
   "cell_type": "code",
   "execution_count": null,
   "id": "febe1402-9a56-4653-b2b0-44f3e626f6d8",
   "metadata": {
    "hide-output": false
   },
   "outputs": [],
   "source": [
    "x[4:10]"
   ]
  },
  {
   "cell_type": "code",
   "execution_count": null,
   "id": "9009c3df-1255-4897-b85f-f12f32a20857",
   "metadata": {
    "hide-output": false
   },
   "outputs": [],
   "source": [
    "x[8:10]"
   ]
  },
  {
   "cell_type": "code",
   "execution_count": null,
   "id": "9eda18bb-190b-4fbb-b897-dae933395fb4",
   "metadata": {
    "hide-output": false
   },
   "outputs": [],
   "source": [
    "s = pd.Series(x)\n",
    "s"
   ]
  },
  {
   "cell_type": "code",
   "execution_count": null,
   "id": "d69c7e34-cbea-4ed0-864b-0b7a7491aba4",
   "metadata": {
    "hide-output": false
   },
   "outputs": [],
   "source": [
    "s.iloc[4:10]"
   ]
  },
  {
   "cell_type": "code",
   "execution_count": null,
   "id": "7952e5a4-2f70-45d8-bb82-dc418125ed6c",
   "metadata": {
    "hide-output": false
   },
   "outputs": [],
   "source": [
    "s.iloc[8:10]"
   ]
  },
  {
   "cell_type": "markdown",
   "id": "ea0d3b6e",
   "metadata": {},
   "source": [
    "Note that using slices that go out of bounds can result in\n",
    "an empty axis (e.g. an empty DataFrame being returned)."
   ]
  },
  {
   "cell_type": "code",
   "execution_count": null,
   "id": "67153320-55d1-4156-b173-3683ba75b54e",
   "metadata": {
    "hide-output": false
   },
   "outputs": [],
   "source": [
    "dfl = pd.DataFrame(np.random.randn(5, 2), columns=list('AB'))\n",
    "dfl"
   ]
  },
  {
   "cell_type": "code",
   "execution_count": null,
   "id": "2063f487-ff90-4cb0-8bfc-a38d348dd0e4",
   "metadata": {
    "hide-output": false
   },
   "outputs": [],
   "source": [
    "dfl.iloc[:, 2:3]"
   ]
  },
  {
   "cell_type": "code",
   "execution_count": null,
   "id": "c6a5f1fb-78ff-4aae-bc8f-07f11169d81b",
   "metadata": {
    "hide-output": false
   },
   "outputs": [],
   "source": [
    "dfl.iloc[:, 1:3]"
   ]
  },
  {
   "cell_type": "code",
   "execution_count": null,
   "id": "5755b2c6-331c-4457-b9d2-2533318597fe",
   "metadata": {
    "hide-output": false
   },
   "outputs": [],
   "source": [
    "dfl.iloc[4:6]"
   ]
  },
  {
   "cell_type": "markdown",
   "id": "83529e33",
   "metadata": {},
   "source": [
    "A single indexer that is out of bounds will raise an `IndexError`.\n",
    "A list of indexers where any element is out of bounds will raise an\n",
    "`IndexError`."
   ]
  },
  {
   "cell_type": "markdown",
   "id": "8e36be2a",
   "metadata": {
    "hide-output": false
   },
   "source": [
    "```python\n",
    ">>> dfl.iloc[[4, 5, 6]]\n",
    "IndexError: positional indexers are out-of-bounds\n",
    "\n",
    ">>> dfl.iloc[:, 4]\n",
    "IndexError: single positional indexer is out-of-bounds\n",
    "```\n"
   ]
  },
  {
   "cell_type": "markdown",
   "id": "648be2cc",
   "metadata": {},
   "source": [
    "\n",
    "<a id='indexing-callable'></a>"
   ]
  },
  {
   "cell_type": "markdown",
   "id": "30ec42bf",
   "metadata": {},
   "source": [
    "## Selection by callable\n",
    "\n",
    "`.loc`, `.iloc`, and also `[]` indexing can accept a `callable` as indexer.\n",
    "The `callable` must be a function with one argument (the calling Series or DataFrame) that returns valid output for indexing."
   ]
  },
  {
   "cell_type": "code",
   "execution_count": null,
   "id": "0f8da8b5-32e3-4bc6-89e8-ab88837c8e78",
   "metadata": {
    "hide-output": false
   },
   "outputs": [],
   "source": [
    "df1 = pd.DataFrame(np.random.randn(6, 4),\n",
    "                   index=list('abcdef'),\n",
    "                   columns=list('ABCD'))\n",
    "df1"
   ]
  },
  {
   "cell_type": "code",
   "execution_count": null,
   "id": "4f1dbfc0-c99f-4f62-bdba-fc7ce50ae57b",
   "metadata": {
    "hide-output": false
   },
   "outputs": [],
   "source": [
    "df1.loc[lambda df: df['A'] > 0, :]"
   ]
  },
  {
   "cell_type": "code",
   "execution_count": null,
   "id": "38d8c0c7-afe0-4459-b106-c84511944c12",
   "metadata": {
    "hide-output": false
   },
   "outputs": [],
   "source": [
    "df1.loc[:, lambda df: ['A', 'B']]"
   ]
  },
  {
   "cell_type": "code",
   "execution_count": null,
   "id": "9899b1d3-6f92-44a6-aead-f22f80be8ca6",
   "metadata": {
    "hide-output": false
   },
   "outputs": [],
   "source": [
    "df1.iloc[:, lambda df: [0, 1]]"
   ]
  },
  {
   "cell_type": "code",
   "execution_count": null,
   "id": "b9c9e3d2-5507-4fdb-a7e5-d3f5cbd19be6",
   "metadata": {
    "hide-output": false
   },
   "outputs": [],
   "source": [
    "df1[lambda df: df.columns[0]]"
   ]
  },
  {
   "cell_type": "markdown",
   "id": "b8e5252c",
   "metadata": {},
   "source": [
    "You can use callable indexing in `Series`."
   ]
  },
  {
   "cell_type": "code",
   "execution_count": null,
   "id": "8bc26311",
   "metadata": {
    "hide-output": false
   },
   "outputs": [],
   "source": [
    "df1['A'].loc[lambda s: s > 0]"
   ]
  },
  {
   "cell_type": "markdown",
   "id": "cc243f09",
   "metadata": {},
   "source": [
    "Using these methods / indexers, you can chain data selection operations\n",
    "without using a temporary variable."
   ]
  },
  {
   "cell_type": "code",
   "execution_count": null,
   "id": "dd548fcc",
   "metadata": {
    "hide-output": false
   },
   "outputs": [],
   "source": [
    "bb = pd.read_csv('../data/baseball.csv', index_col='id')\n",
    "(bb.groupby(['year', 'team']).sum()\n",
    "   .loc[lambda df: df['r'] > 100])"
   ]
  },
  {
   "cell_type": "markdown",
   "id": "5c7a7433",
   "metadata": {},
   "source": [
    "\n",
    "<a id='combining-positional-and-label-based-indexing'></a>"
   ]
  },
  {
   "cell_type": "markdown",
   "id": "71db6acc",
   "metadata": {},
   "source": [
    "## Combining positional and label-based indexing\n",
    "\n",
    "If you wish to get the 0th and the 2nd elements from the index in the ‘A’ column, you can do:"
   ]
  },
  {
   "cell_type": "code",
   "execution_count": null,
   "id": "f1ec2d9d-85da-4091-8668-3ba0f10778eb",
   "metadata": {
    "hide-output": false
   },
   "outputs": [],
   "source": [
    "dfd = pd.DataFrame({'A': [1, 2, 3],\n",
    "                    'B': [4, 5, 6]},\n",
    "                   index=list('abc'))\n",
    "dfd"
   ]
  },
  {
   "cell_type": "code",
   "execution_count": null,
   "id": "a14ae409-b55e-4b4c-966d-f2e9c2b431a4",
   "metadata": {
    "hide-output": false
   },
   "outputs": [],
   "source": [
    "dfd.loc[dfd.index[[0, 2]], 'A']"
   ]
  },
  {
   "cell_type": "markdown",
   "id": "a848d6ba",
   "metadata": {},
   "source": [
    "This can also be expressed using `.iloc`, by explicitly getting locations on the indexers, and using\n",
    "*positional* indexing to select things."
   ]
  },
  {
   "cell_type": "code",
   "execution_count": null,
   "id": "e67dce85",
   "metadata": {
    "hide-output": false
   },
   "outputs": [],
   "source": [
    "dfd.iloc[[0, 2], dfd.columns.get_loc('A')]"
   ]
  },
  {
   "cell_type": "markdown",
   "id": "b4808a26",
   "metadata": {},
   "source": [
    "For getting *multiple* indexers, using `.get_indexer`:"
   ]
  },
  {
   "cell_type": "code",
   "execution_count": null,
   "id": "64a66566",
   "metadata": {
    "hide-output": false
   },
   "outputs": [],
   "source": [
    "dfd.iloc[[0, 2], dfd.columns.get_indexer(['A', 'B'])]"
   ]
  },
  {
   "cell_type": "markdown",
   "id": "88025a91",
   "metadata": {},
   "source": [
    "\n",
    "<a id='deprecate-loc-reindex-listlike'></a>\n",
    "\n",
    "<a id='indexing-deprecate-loc-reindex-listlike'></a>"
   ]
  },
  {
   "cell_type": "markdown",
   "id": "f9df00e1",
   "metadata": {},
   "source": [
    "## Indexing with list with missing labels is deprecated\n",
    "\n",
    "Changed in version 1.0.0.\n",
    "\n",
    "Using `.loc` or `[]` with a list with one or more missing labels will no longer reindex, in favor of `.reindex`.\n",
    "\n",
    "In prior versions, using `.loc[list-of-labels]` would work as long as *at least 1* of the keys was found (otherwise it\n",
    "would raise a `KeyError`). This behavior was changed and will now raise a `KeyError` if at least one label is missing.\n",
    "The recommended alternative is to use `.reindex()`.\n",
    "\n",
    "For example."
   ]
  },
  {
   "cell_type": "code",
   "execution_count": null,
   "id": "00c98881",
   "metadata": {
    "hide-output": false
   },
   "outputs": [],
   "source": [
    "s = pd.Series([1, 2, 3])\n",
    "s"
   ]
  },
  {
   "cell_type": "markdown",
   "id": "daa3d8da",
   "metadata": {},
   "source": [
    "Selection with all keys found is unchanged."
   ]
  },
  {
   "cell_type": "code",
   "execution_count": null,
   "id": "efd6678a",
   "metadata": {
    "hide-output": false
   },
   "outputs": [],
   "source": [
    "s.loc[[1, 2]]"
   ]
  },
  {
   "cell_type": "markdown",
   "id": "94feab9a",
   "metadata": {},
   "source": [
    "Previous behavior"
   ]
  },
  {
   "cell_type": "markdown",
   "id": "b31d41c8",
   "metadata": {
    "hide-output": false
   },
   "source": [
    "```python\n",
    "In [4]: s.loc[[1, 2, 3]]\n",
    "Out[4]:\n",
    "1    2.0\n",
    "2    3.0\n",
    "3    NaN\n",
    "dtype: float64\n",
    "```\n"
   ]
  },
  {
   "cell_type": "markdown",
   "id": "5c80dc2c",
   "metadata": {},
   "source": [
    "Current behavior"
   ]
  },
  {
   "cell_type": "markdown",
   "id": "46e98ac3",
   "metadata": {
    "hide-output": false
   },
   "source": [
    "```python\n",
    "In [4]: s.loc[[1, 2, 3]]\n",
    "Passing list-likes to .loc with any non-matching elements will raise\n",
    "KeyError in the future, you can use .reindex() as an alternative.\n",
    "\n",
    "See the documentation here:\n",
    "https://pandas.pydata.org/pandas-docs/stable/indexing.html#deprecate-loc-reindex-listlike\n",
    "\n",
    "Out[4]:\n",
    "1    2.0\n",
    "2    3.0\n",
    "3    NaN\n",
    "dtype: float64\n",
    "```\n"
   ]
  },
  {
   "cell_type": "markdown",
   "id": "5cf500fa",
   "metadata": {},
   "source": [
    "### Reindexing\n",
    "\n",
    "The idiomatic way to achieve selecting potentially not-found elements is via `.reindex()`. See also the section on reindexing."
   ]
  },
  {
   "cell_type": "code",
   "execution_count": null,
   "id": "21f18d8c",
   "metadata": {
    "hide-output": false
   },
   "outputs": [],
   "source": [
    "s.reindex([1, 2, 3])"
   ]
  },
  {
   "cell_type": "markdown",
   "id": "bff8ccdf",
   "metadata": {},
   "source": [
    "Alternatively, if you want to select only *valid* keys, the following is idiomatic and efficient; it is guaranteed to preserve the dtype of the selection."
   ]
  },
  {
   "cell_type": "code",
   "execution_count": null,
   "id": "b9196887",
   "metadata": {
    "hide-output": false
   },
   "outputs": [],
   "source": [
    "labels = [1, 2, 3]\n",
    "s.loc[s.index.intersection(labels)]"
   ]
  },
  {
   "cell_type": "markdown",
   "id": "bde46e10",
   "metadata": {},
   "source": [
    "Having a duplicated index will raise for a `.reindex()`:"
   ]
  },
  {
   "cell_type": "code",
   "execution_count": null,
   "id": "1beb33d7",
   "metadata": {
    "hide-output": false
   },
   "outputs": [],
   "source": [
    "s = pd.Series(np.arange(4), index=['a', 'a', 'b', 'c'])\n",
    "labels = ['c', 'd']"
   ]
  },
  {
   "cell_type": "markdown",
   "id": "11ff8a4b",
   "metadata": {
    "hide-output": false
   },
   "source": [
    "```python\n",
    "In [17]: s.reindex(labels)\n",
    "ValueError: cannot reindex on an axis with duplicate labels\n",
    "```\n"
   ]
  },
  {
   "cell_type": "markdown",
   "id": "4570018d",
   "metadata": {},
   "source": [
    "Generally, you can intersect the desired labels with the current\n",
    "axis, and then reindex."
   ]
  },
  {
   "cell_type": "code",
   "execution_count": null,
   "id": "727ebbf5",
   "metadata": {
    "hide-output": false
   },
   "outputs": [],
   "source": [
    "s.loc[s.index.intersection(labels)].reindex(labels)"
   ]
  },
  {
   "cell_type": "markdown",
   "id": "e80c4abf",
   "metadata": {},
   "source": [
    "However, this would *still* raise if your resulting index is duplicated."
   ]
  },
  {
   "cell_type": "markdown",
   "id": "87481a9f",
   "metadata": {
    "hide-output": false
   },
   "source": [
    "```python\n",
    "In [41]: labels = ['a', 'd']\n",
    "\n",
    "In [42]: s.loc[s.index.intersection(labels)].reindex(labels)\n",
    "ValueError: cannot reindex on an axis with duplicate labels\n",
    "```\n"
   ]
  },
  {
   "cell_type": "markdown",
   "id": "4d985b30",
   "metadata": {},
   "source": [
    "\n",
    "<a id='indexing-basics-partial-setting'></a>"
   ]
  },
  {
   "cell_type": "markdown",
   "id": "9ea12078",
   "metadata": {},
   "source": [
    "## Selecting random samples\n",
    "\n",
    "A random selection of rows or columns from a Series or DataFrame with the `sample()` method. The method will sample rows by default, and accepts a specific number of rows/columns to return, or a fraction of rows."
   ]
  },
  {
   "cell_type": "code",
   "execution_count": null,
   "id": "78a2e0e7-3b78-4bfa-ba52-af1827a51154",
   "metadata": {
    "hide-output": false
   },
   "outputs": [],
   "source": [
    "s = pd.Series([0, 1, 2, 3, 4, 5])\n",
    "\n",
    "# When no arguments are passed, returns 1 row.\n",
    "s.sample()"
   ]
  },
  {
   "cell_type": "code",
   "execution_count": null,
   "id": "d4427528-eaf0-4154-b503-81f67dcc9825",
   "metadata": {
    "hide-output": false
   },
   "outputs": [],
   "source": [
    "# One may specify either a number of rows:\n",
    "s.sample(n=3)"
   ]
  },
  {
   "cell_type": "code",
   "execution_count": null,
   "id": "e88afdb1-f6f4-401e-bab3-d87d33585803",
   "metadata": {
    "hide-output": false
   },
   "outputs": [],
   "source": [
    "# Or a fraction of the rows:\n",
    "s.sample(frac=0.5)"
   ]
  },
  {
   "cell_type": "markdown",
   "id": "1571895e",
   "metadata": {},
   "source": [
    "By default, `sample` will return each row at most once, but one can also sample with replacement\n",
    "using the `replace` option:"
   ]
  },
  {
   "cell_type": "code",
   "execution_count": null,
   "id": "e3be26f3-086b-4ab4-8d3b-6a3ad10f911b",
   "metadata": {
    "hide-output": false
   },
   "outputs": [],
   "source": [
    "s = pd.Series([0, 1, 2, 3, 4, 5])\n",
    "\n",
    "# Without replacement (default):\n",
    "s.sample(n=6, replace=False)"
   ]
  },
  {
   "cell_type": "code",
   "execution_count": null,
   "id": "8a5326f9-9efe-4f78-9e10-df1c91f4e840",
   "metadata": {
    "hide-output": false
   },
   "outputs": [],
   "source": [
    "# With replacement:\n",
    "s.sample(n=6, replace=True)"
   ]
  },
  {
   "cell_type": "markdown",
   "id": "7b6c5998",
   "metadata": {},
   "source": [
    "By default, each row has an equal probability of being selected, but if you want rows\n",
    "to have different probabilities, you can pass the `sample` function sampling weights as\n",
    "`weights`. These weights can be a list, a NumPy array, or a Series, but they must be of the same length as the object you are sampling. Missing values will be treated as a weight of zero, and inf values are not allowed. If weights do not sum to 1, they will be re-normalized by dividing all weights by the sum of the weights. For example:"
   ]
  },
  {
   "cell_type": "code",
   "execution_count": null,
   "id": "b807c035",
   "metadata": {
    "hide-output": false
   },
   "outputs": [],
   "source": [
    "s = pd.Series([0, 1, 2, 3, 4, 5])\n",
    "example_weights = [0, 0, 0.2, 0.2, 0.2, 0.4]\n",
    "s.sample(n=3, weights=example_weights)\n",
    "\n",
    "# Weights will be re-normalized automatically\n",
    "example_weights2 = [0.5, 0, 0, 0, 0, 0]\n",
    "s.sample(n=1, weights=example_weights2)"
   ]
  },
  {
   "cell_type": "markdown",
   "id": "ea24b007",
   "metadata": {},
   "source": [
    "When applied to a DataFrame, you can use a column of the DataFrame as sampling weights\n",
    "(provided you are sampling rows and not columns) by simply passing the name of the column\n",
    "as a string."
   ]
  },
  {
   "cell_type": "code",
   "execution_count": null,
   "id": "e2bc99b7",
   "metadata": {
    "hide-output": false
   },
   "outputs": [],
   "source": [
    "df2 = pd.DataFrame({'col1': [9, 8, 7, 6],\n",
    "                    'weight_column': [0.5, 0.4, 0.1, 0]})\n",
    "df2.sample(n=3, weights='weight_column')"
   ]
  },
  {
   "cell_type": "markdown",
   "id": "7957b10b",
   "metadata": {},
   "source": [
    "`sample` also allows users to sample columns instead of rows using the `axis` argument."
   ]
  },
  {
   "cell_type": "code",
   "execution_count": null,
   "id": "712e89c7",
   "metadata": {
    "hide-output": false
   },
   "outputs": [],
   "source": [
    "df3 = pd.DataFrame({'col1': [1, 2, 3], 'col2': [2, 3, 4]})\n",
    "df3.sample(n=1, axis=1)"
   ]
  },
  {
   "cell_type": "markdown",
   "id": "1a9fb2be",
   "metadata": {},
   "source": [
    "Finally, one can also set a seed for `sample`’s random number generator using the `random_state` argument, which will accept either an integer (as a seed) or a NumPy RandomState object."
   ]
  },
  {
   "cell_type": "code",
   "execution_count": null,
   "id": "39b385b8-fe62-4037-86be-e28cf89e1a34",
   "metadata": {
    "hide-output": false
   },
   "outputs": [],
   "source": [
    "df4 = pd.DataFrame({'col1': [1, 2, 3], 'col2': [2, 3, 4]})\n",
    "\n",
    "# With a given seed, the sample will always draw the same rows.\n",
    "df4.sample(n=2, random_state=2)"
   ]
  },
  {
   "cell_type": "code",
   "execution_count": null,
   "id": "51361222-c5f6-4797-953e-8cd06eb40e11",
   "metadata": {
    "hide-output": false
   },
   "outputs": [],
   "source": [
    "df4.sample(n=2, random_state=2)"
   ]
  },
  {
   "cell_type": "markdown",
   "id": "4baddf86",
   "metadata": {},
   "source": [
    "## Setting with enlargement\n",
    "\n",
    "The `.loc/[]` operations can perform enlargement when setting a non-existent key for that axis.\n",
    "\n",
    "In the `Series` case this is effectively an appending operation."
   ]
  },
  {
   "cell_type": "code",
   "execution_count": null,
   "id": "8d00da80-3a44-487b-bad8-0179c461a088",
   "metadata": {
    "hide-output": false
   },
   "outputs": [],
   "source": [
    "se = pd.Series([1, 2, 3])\n",
    "se"
   ]
  },
  {
   "cell_type": "code",
   "execution_count": null,
   "id": "5b44a94c-62a1-4bd2-b4b0-d2ba0160371a",
   "metadata": {
    "hide-output": false
   },
   "outputs": [],
   "source": [
    "se[5] = 5.\n",
    "se"
   ]
  },
  {
   "cell_type": "markdown",
   "id": "d97d9f71",
   "metadata": {},
   "source": [
    "A `DataFrame` can be enlarged on either axis via `.loc`."
   ]
  },
  {
   "cell_type": "code",
   "execution_count": null,
   "id": "f9ecbbe9-ba45-4d4c-9c4a-38ce0b517950",
   "metadata": {
    "hide-output": false
   },
   "outputs": [],
   "source": [
    "dfi = pd.DataFrame(np.arange(6).reshape(3, 2),\n",
    "                   columns=['A', 'B'])\n",
    "dfi"
   ]
  },
  {
   "cell_type": "code",
   "execution_count": null,
   "id": "43286ccf-1dcb-4844-9330-eec85318e2b8",
   "metadata": {
    "hide-output": false
   },
   "outputs": [],
   "source": [
    "dfi.loc[:, 'C'] = dfi.loc[:, 'A']\n",
    "dfi"
   ]
  },
  {
   "cell_type": "markdown",
   "id": "ffc29050",
   "metadata": {},
   "source": [
    "This is like an `append` operation on the `DataFrame`."
   ]
  },
  {
   "cell_type": "code",
   "execution_count": null,
   "id": "f357a864",
   "metadata": {
    "hide-output": false
   },
   "outputs": [],
   "source": [
    "dfi.loc[3] = 5\n",
    "dfi"
   ]
  },
  {
   "cell_type": "markdown",
   "id": "e10861bb",
   "metadata": {},
   "source": [
    "\n",
    "<a id='indexing-basics-get-value'></a>"
   ]
  },
  {
   "cell_type": "markdown",
   "id": "97cc67b8",
   "metadata": {},
   "source": [
    "## Fast scalar value getting and setting\n",
    "\n",
    "Since indexing with `[]` must handle a lot of cases (single-label access,\n",
    "slicing, boolean indexing, etc.), it has a bit of overhead in order to figure\n",
    "out what you’re asking for. If you only want to access a scalar value, the\n",
    "fastest way is to use the `at` and `iat` methods, which are implemented on\n",
    "all of the data structures.\n",
    "\n",
    "Similarly to `loc`, `at` provides **label** based scalar lookups, while, `iat` provides **integer** based lookups analogously to `iloc`"
   ]
  },
  {
   "cell_type": "code",
   "execution_count": null,
   "id": "13bb84f5-aebe-4896-8f6b-47ef6525d7ed",
   "metadata": {
    "hide-output": false
   },
   "outputs": [],
   "source": [
    "s.iat[5]"
   ]
  },
  {
   "cell_type": "code",
   "execution_count": null,
   "id": "7e6c7c5f-ba1d-4a0c-89d7-a8e22801c8ec",
   "metadata": {
    "hide-output": false
   },
   "outputs": [],
   "source": [
    "df.at[dates[5], 'A']"
   ]
  },
  {
   "cell_type": "code",
   "execution_count": null,
   "id": "7aa747af-4713-44d8-a350-3d0726215384",
   "metadata": {
    "hide-output": false
   },
   "outputs": [],
   "source": [
    "df.iat[3, 0]"
   ]
  },
  {
   "cell_type": "markdown",
   "id": "9e224f6c",
   "metadata": {},
   "source": [
    "You can also set using these same indexers."
   ]
  },
  {
   "cell_type": "code",
   "execution_count": null,
   "id": "98015850-9182-4b90-a471-178a13e3520c",
   "metadata": {
    "hide-output": false
   },
   "outputs": [],
   "source": [
    "df.at[dates[5], 'E'] = 7"
   ]
  },
  {
   "cell_type": "code",
   "execution_count": null,
   "id": "c32f1fff-f698-4441-9c05-d529a81c7cc1",
   "metadata": {
    "hide-output": false
   },
   "outputs": [],
   "source": [
    "df.iat[3, 0] = 7"
   ]
  },
  {
   "cell_type": "markdown",
   "id": "1764fce9",
   "metadata": {},
   "source": [
    "`at` may enlarge the object in-place as above if the indexer is missing."
   ]
  },
  {
   "cell_type": "code",
   "execution_count": null,
   "id": "42f6c04e-4d81-4930-9a3c-963b03b8ed9b",
   "metadata": {
    "hide-output": false
   },
   "outputs": [],
   "source": [
    "df.at[dates[-1] + pd.Timedelta('1 day'), 0] = 7"
   ]
  },
  {
   "cell_type": "code",
   "execution_count": null,
   "id": "a9a7e7b7-ebe0-472a-ae8e-ab28f457b17e",
   "metadata": {
    "hide-output": false
   },
   "outputs": [],
   "source": [
    "df"
   ]
  },
  {
   "cell_type": "markdown",
   "id": "908c0492",
   "metadata": {},
   "source": [
    "## Boolean indexing\n",
    "\n",
    "\n",
    "<a id='indexing-boolean'></a>\n",
    "Another common operation is the use of boolean vectors to filter the data.\n",
    "The operators are: `|` for `or`, `&` for `and`, and `~` for `not`.\n",
    "These **must** be grouped by using parentheses, since by default Python will\n",
    "evaluate an expression such as `df['A'] > 2 & df['B'] < 3` as\n",
    "`df['A'] > (2 & df['B']) < 3`, while the desired evaluation order is\n",
    "`(df['A'] > 2) & (df['B'] < 3)`.\n",
    "\n",
    "Using a boolean vector to index a Series works exactly as in a NumPy ndarray:"
   ]
  },
  {
   "cell_type": "code",
   "execution_count": null,
   "id": "5ce75d64-b110-4dd7-9911-cf2e2f3cd216",
   "metadata": {
    "hide-output": false
   },
   "outputs": [],
   "source": [
    "s = pd.Series(range(-3, 4))\n",
    "s"
   ]
  },
  {
   "cell_type": "code",
   "execution_count": null,
   "id": "11b2dd8e-a0e5-4368-9f34-ada1375bd60f",
   "metadata": {
    "hide-output": false
   },
   "outputs": [],
   "source": [
    "s[s > 0]"
   ]
  },
  {
   "cell_type": "code",
   "execution_count": null,
   "id": "98a54449-0594-462f-97b7-2ff04f26160a",
   "metadata": {
    "hide-output": false
   },
   "outputs": [],
   "source": [
    "s[(s < -1) | (s > 0.5)]"
   ]
  },
  {
   "cell_type": "code",
   "execution_count": null,
   "id": "3dbfbd7d-7dc7-47db-846c-348b5a1050c6",
   "metadata": {
    "hide-output": false
   },
   "outputs": [],
   "source": [
    "s[~(s < 0)]"
   ]
  },
  {
   "cell_type": "markdown",
   "id": "2f390664",
   "metadata": {},
   "source": [
    "You may select rows from a DataFrame using a boolean vector the same length as\n",
    "the DataFrame’s index (for example, something derived from one of the columns\n",
    "of the DataFrame):"
   ]
  },
  {
   "cell_type": "code",
   "execution_count": null,
   "id": "5d277492",
   "metadata": {
    "hide-output": false
   },
   "outputs": [],
   "source": [
    "df[df['A'] > 0]"
   ]
  },
  {
   "cell_type": "markdown",
   "id": "69c445c5",
   "metadata": {},
   "source": [
    "List comprehensions and the `map` method of Series can also be used to produce\n",
    "more complex criteria:"
   ]
  },
  {
   "cell_type": "code",
   "execution_count": null,
   "id": "9d029c2d-4214-4029-b836-3b7f27d7faf2",
   "metadata": {
    "hide-output": false
   },
   "outputs": [],
   "source": [
    "df2 = pd.DataFrame({'a': ['one', 'one', 'two', 'three', 'two', 'one', 'six'],\n",
    "                    'b': ['x', 'y', 'y', 'x', 'y', 'x', 'x'],\n",
    "                    'c': np.random.randn(7)})\n",
    "\n",
    "# only want 'two' or 'three'\n",
    "criterion = df2['a'].map(lambda x: x.startswith('t'))\n",
    "df2[criterion]"
   ]
  },
  {
   "cell_type": "code",
   "execution_count": null,
   "id": "9e541d94-a6fb-40b3-99e3-c6e6e2ec7865",
   "metadata": {
    "hide-output": false
   },
   "outputs": [],
   "source": [
    "# equivalent but slower\n",
    "df2[[x.startswith('t') for x in df2['a']]]"
   ]
  },
  {
   "cell_type": "code",
   "execution_count": null,
   "id": "b67c6c39-1d9b-4949-a5fa-ea98c6a02788",
   "metadata": {
    "hide-output": false
   },
   "outputs": [],
   "source": [
    "# Multiple criteria\n",
    "df2[criterion & (df2['b'] == 'x')]"
   ]
  },
  {
   "cell_type": "markdown",
   "id": "8040a241",
   "metadata": {},
   "source": [
    "With the choice methods Selection by Label, Selection by Position,\n",
    "and Advanced Indexing you may select along more than one axis using boolean vectors combined with other indexing expressions."
   ]
  },
  {
   "cell_type": "code",
   "execution_count": null,
   "id": "718f6f3d",
   "metadata": {
    "hide-output": false
   },
   "outputs": [],
   "source": [
    "df2.loc[criterion & (df2['b'] == 'x'), 'b':'c']"
   ]
  },
  {
   "cell_type": "markdown",
   "id": "28eacd09",
   "metadata": {},
   "source": [
    "`iloc` supports two kinds of boolean indexing. If the indexer is a boolean `Series`,\n",
    "an error will be raised. For instance, in the following example, `df.iloc[s.values, 1]` is ok.\n",
    "The boolean indexer is an array. But `df.iloc[s, 1]` would raise `ValueError`."
   ]
  },
  {
   "cell_type": "code",
   "execution_count": null,
   "id": "a65ff4bb-9539-4671-a66c-b669e747c9be",
   "metadata": {
    "hide-output": false
   },
   "outputs": [],
   "source": [
    "df = pd.DataFrame([[1, 2], [3, 4], [5, 6]],\n",
    "                  index=list('abc'),\n",
    "                  columns=['A', 'B'])\n",
    "s = (df['A'] > 2)\n",
    "s"
   ]
  },
  {
   "cell_type": "code",
   "execution_count": null,
   "id": "8fae693c-2629-4061-96df-70595122b635",
   "metadata": {
    "hide-output": false
   },
   "outputs": [],
   "source": [
    "df.loc[s, 'B']"
   ]
  },
  {
   "cell_type": "code",
   "execution_count": null,
   "id": "d3cd54ac-c4bc-466f-b8f8-c411a9431c64",
   "metadata": {
    "hide-output": false
   },
   "outputs": [],
   "source": [
    "df.iloc[s.values, 1]"
   ]
  },
  {
   "cell_type": "markdown",
   "id": "8741d4f9",
   "metadata": {},
   "source": [
    "\n",
    "<a id='indexing-basics-indexing-isin'></a>"
   ]
  },
  {
   "cell_type": "markdown",
   "id": "55ab01f3",
   "metadata": {},
   "source": [
    "## Indexing with isin\n",
    "\n",
    "Consider the `isin()` method of `Series`, which returns a boolean\n",
    "vector that is true wherever the `Series` elements exist in the passed list.\n",
    "This allows you to select rows where one or more columns have values you want:"
   ]
  },
  {
   "cell_type": "code",
   "execution_count": null,
   "id": "81cbb719-7c83-454f-80c7-a72aa0ba09a1",
   "metadata": {
    "hide-output": false
   },
   "outputs": [],
   "source": [
    "s = pd.Series(np.arange(5), index=np.arange(5)[::-1], dtype='int64')\n",
    "s"
   ]
  },
  {
   "cell_type": "code",
   "execution_count": null,
   "id": "56a3cb18-1c74-4497-ab04-df3577edc322",
   "metadata": {
    "hide-output": false
   },
   "outputs": [],
   "source": [
    "s.isin([2, 4, 6])"
   ]
  },
  {
   "cell_type": "code",
   "execution_count": null,
   "id": "98413557-d841-4268-81e9-04d42d8496bc",
   "metadata": {
    "hide-output": false
   },
   "outputs": [],
   "source": [
    "s[s.isin([2, 4, 6])]"
   ]
  },
  {
   "cell_type": "markdown",
   "id": "5cf171c1",
   "metadata": {},
   "source": [
    "The same method is available for `Index` objects and is useful for the cases\n",
    "when you don’t know which of the sought labels are in fact present:"
   ]
  },
  {
   "cell_type": "code",
   "execution_count": null,
   "id": "702515cd-5a9a-40b8-9728-c7ed69b2bad7",
   "metadata": {
    "hide-output": false
   },
   "outputs": [],
   "source": [
    "s[s.index.isin([2, 4, 6])]"
   ]
  },
  {
   "cell_type": "code",
   "execution_count": null,
   "id": "0da3a91c-c643-429f-97db-c55a0acd3e02",
   "metadata": {
    "hide-output": false
   },
   "outputs": [],
   "source": [
    "# compare it to the following\n",
    "s.reindex([2, 4, 6])"
   ]
  },
  {
   "cell_type": "markdown",
   "id": "e76c106f",
   "metadata": {},
   "source": [
    "In addition to that, `MultiIndex` allows selecting a separate level to use\n",
    "in the membership check:"
   ]
  },
  {
   "cell_type": "code",
   "execution_count": null,
   "id": "58fa84dc",
   "metadata": {
    "hide-output": false
   },
   "outputs": [],
   "source": [
    "s_mi = pd.Series(np.arange(6),\n",
    "                 index=pd.MultiIndex.from_product([[0, 1], ['a', 'b', 'c']]))\n",
    "s_mi\n",
    "s_mi.iloc[s_mi.index.isin([(1, 'a'), (2, 'b'), (0, 'c')])]\n",
    "s_mi.iloc[s_mi.index.isin(['a', 'c', 'e'], level=1)]"
   ]
  },
  {
   "cell_type": "markdown",
   "id": "0ae60160",
   "metadata": {},
   "source": [
    "DataFrame also has an `isin()` method.  When calling `isin`, pass a set of\n",
    "values as either an array or dict.  If values is an array, `isin` returns\n",
    "a DataFrame of booleans that is the same shape as the original DataFrame, with True\n",
    "wherever the element is in the sequence of values."
   ]
  },
  {
   "cell_type": "code",
   "execution_count": null,
   "id": "85485e5f",
   "metadata": {
    "hide-output": false
   },
   "outputs": [],
   "source": [
    "df = pd.DataFrame({'vals': [1, 2, 3, 4], 'ids': ['a', 'b', 'f', 'n'],\n",
    "                   'ids2': ['a', 'n', 'c', 'n']})\n",
    "values = ['a', 'b', 1, 3]\n",
    "df.isin(values)"
   ]
  },
  {
   "cell_type": "markdown",
   "id": "83f83409",
   "metadata": {},
   "source": [
    "Oftentimes you’ll want to match certain values with certain columns.\n",
    "Just make values a `dict` where the key is the column, and the value is\n",
    "a list of items you want to check for."
   ]
  },
  {
   "cell_type": "code",
   "execution_count": null,
   "id": "e4421492",
   "metadata": {
    "hide-output": false
   },
   "outputs": [],
   "source": [
    "values = {'ids': ['a', 'b'], 'vals': [1, 3]}\n",
    "df.isin(values)"
   ]
  },
  {
   "cell_type": "markdown",
   "id": "feb65459",
   "metadata": {},
   "source": [
    "Combine DataFrame’s `isin` with the `any()` and `all()` methods to\n",
    "quickly select subsets of your data that meet a given criteria.\n",
    "To select a row where each column meets its own criterion:"
   ]
  },
  {
   "cell_type": "code",
   "execution_count": null,
   "id": "837d674d",
   "metadata": {
    "hide-output": false
   },
   "outputs": [],
   "source": [
    "values = {'ids': ['a', 'b'], 'ids2': ['a', 'c'], 'vals': [1, 3]}\n",
    "row_mask = df.isin(values).all(1)\n",
    "df[row_mask]"
   ]
  },
  {
   "cell_type": "markdown",
   "id": "1c4a0dea",
   "metadata": {},
   "source": [
    "\n",
    "<a id='indexing-where-mask'></a>"
   ]
  },
  {
   "cell_type": "markdown",
   "id": "9ad13def",
   "metadata": {},
   "source": [
    "## The `where()` Method and Masking\n",
    "\n",
    "Selecting values from a Series with a boolean vector generally returns a\n",
    "subset of the data. To guarantee that selection output has the same shape as\n",
    "the original data, you can use the `where` method in `Series` and `DataFrame`.\n",
    "\n",
    "To return only the selected rows:"
   ]
  },
  {
   "cell_type": "code",
   "execution_count": null,
   "id": "c2629694",
   "metadata": {
    "hide-output": false
   },
   "outputs": [],
   "source": [
    "s[s > 0]"
   ]
  },
  {
   "cell_type": "markdown",
   "id": "cfc6ad18",
   "metadata": {},
   "source": [
    "To return a Series of the same shape as the original:"
   ]
  },
  {
   "cell_type": "code",
   "execution_count": null,
   "id": "d48068c8",
   "metadata": {
    "hide-output": false
   },
   "outputs": [],
   "source": [
    "s.where(s > 0)"
   ]
  },
  {
   "cell_type": "markdown",
   "id": "04d58b01",
   "metadata": {},
   "source": [
    "Selecting values from a DataFrame with a boolean criterion now also preserves\n",
    "input data shape. `where` is used under the hood as the implementation.\n",
    "The code below is equivalent to `df.where(df < 0)`."
   ]
  },
  {
   "cell_type": "code",
   "execution_count": null,
   "id": "54cd7f38",
   "metadata": {
    "hide-output": false
   },
   "outputs": [],
   "source": [
    "dates = pd.date_range('1/1/2000', periods=8)\n",
    "df = pd.DataFrame(np.random.randn(8, 4),\n",
    "                  index=dates, columns=['A', 'B', 'C', 'D'])"
   ]
  },
  {
   "cell_type": "code",
   "execution_count": null,
   "id": "b94cd23f",
   "metadata": {
    "hide-output": false
   },
   "outputs": [],
   "source": [
    "df[df < 0]"
   ]
  },
  {
   "cell_type": "markdown",
   "id": "17ba4df7",
   "metadata": {},
   "source": [
    "In addition, `where` takes an optional `other` argument for replacement of\n",
    "values where the condition is False, in the returned copy."
   ]
  },
  {
   "cell_type": "code",
   "execution_count": null,
   "id": "47e52f37",
   "metadata": {
    "hide-output": false
   },
   "outputs": [],
   "source": [
    "df.where(df < 0, -df)"
   ]
  },
  {
   "cell_type": "markdown",
   "id": "33455778",
   "metadata": {},
   "source": [
    "You may wish to set values based on some boolean criteria.\n",
    "This can be done intuitively like so:"
   ]
  },
  {
   "cell_type": "code",
   "execution_count": null,
   "id": "0aa86152",
   "metadata": {
    "hide-output": false
   },
   "outputs": [],
   "source": [
    "s2 = s.copy()\n",
    "s2[s2 < 0] = 0\n",
    "s2\n",
    "\n",
    "df2 = df.copy()\n",
    "df2[df2 < 0] = 0\n",
    "df2"
   ]
  },
  {
   "cell_type": "markdown",
   "id": "4a06cef4",
   "metadata": {},
   "source": [
    "By default, `where` returns a modified copy of the data. There is an\n",
    "optional parameter `inplace` so that the original data can be modified\n",
    "without creating a copy:"
   ]
  },
  {
   "cell_type": "code",
   "execution_count": null,
   "id": "277c348c",
   "metadata": {
    "hide-output": false
   },
   "outputs": [],
   "source": [
    "df_orig = df.copy()\n",
    "df_orig.where(df > 0, -df, inplace=True)\n",
    "df_orig"
   ]
  },
  {
   "cell_type": "markdown",
   "id": "2bafe2a9",
   "metadata": {},
   "source": [
    ">**Note**\n",
    ">\n",
    ">The signature for `DataFrame.where()` differs from `numpy.where()`.\n",
    "Roughly `df1.where(m, df2)` is equivalent to `np.where(m, df1, df2)`."
   ]
  },
  {
   "cell_type": "code",
   "execution_count": null,
   "id": "58020a5d",
   "metadata": {
    "hide-output": false
   },
   "outputs": [],
   "source": [
    "df.where(df < 0, -df) == np.where(df < 0, df, -df)"
   ]
  },
  {
   "cell_type": "markdown",
   "id": "4458b64d",
   "metadata": {},
   "source": [
    "**Alignment**\n",
    "\n",
    "Furthermore, `where` aligns the input boolean condition (ndarray or DataFrame),\n",
    "such that partial selection with setting is possible. This is analogous to\n",
    "partial setting via `.loc` (but on the contents rather than the axis labels)."
   ]
  },
  {
   "cell_type": "code",
   "execution_count": null,
   "id": "9dd4b032",
   "metadata": {
    "hide-output": false
   },
   "outputs": [],
   "source": [
    "df2 = df.copy()\n",
    "df2[df2[1:4] > 0] = 3\n",
    "df2"
   ]
  },
  {
   "cell_type": "markdown",
   "id": "8e051451",
   "metadata": {},
   "source": [
    "Where can also accept `axis` and `level` parameters to align the input when\n",
    "performing the `where`."
   ]
  },
  {
   "cell_type": "code",
   "execution_count": null,
   "id": "b6ba93c2",
   "metadata": {
    "hide-output": false
   },
   "outputs": [],
   "source": [
    "df2 = df.copy()\n",
    "df2.where(df2 > 0, df2['A'], axis='index')"
   ]
  },
  {
   "cell_type": "markdown",
   "id": "262cbc3b",
   "metadata": {},
   "source": [
    "This is equivalent to (but faster than) the following."
   ]
  },
  {
   "cell_type": "code",
   "execution_count": null,
   "id": "61e04f3a",
   "metadata": {
    "hide-output": false
   },
   "outputs": [],
   "source": [
    "df2 = df.copy()\n",
    "df.apply(lambda x, y: x.where(x > 0, y), y=df['A'])"
   ]
  },
  {
   "cell_type": "markdown",
   "id": "b8886217",
   "metadata": {},
   "source": [
    "`where` can accept a callable as condition and `other` arguments. The function must\n",
    "be with one argument (the calling Series or DataFrame) and that returns valid output\n",
    "as condition and `other` argument."
   ]
  },
  {
   "cell_type": "code",
   "execution_count": null,
   "id": "b2ae3867",
   "metadata": {
    "hide-output": false
   },
   "outputs": [],
   "source": [
    "df3 = pd.DataFrame({'A': [1, 2, 3],\n",
    "                    'B': [4, 5, 6],\n",
    "                    'C': [7, 8, 9]})\n",
    "df3.where(lambda x: x > 4, lambda x: x + 10)"
   ]
  },
  {
   "cell_type": "markdown",
   "id": "c9fdeab2",
   "metadata": {},
   "source": [
    "### Mask\n",
    "\n",
    "`mask()` is the inverse boolean operation of `where`."
   ]
  },
  {
   "cell_type": "code",
   "execution_count": null,
   "id": "37b1c5cf-2d32-401d-b42b-b4262cff4b17",
   "metadata": {
    "hide-output": false
   },
   "outputs": [],
   "source": [
    "s.mask(s >= 0)"
   ]
  },
  {
   "cell_type": "code",
   "execution_count": null,
   "id": "c2f4a679-2d16-477a-b971-3521888ab555",
   "metadata": {
    "hide-output": false
   },
   "outputs": [],
   "source": [
    "df.mask(df >= 0)"
   ]
  },
  {
   "cell_type": "markdown",
   "id": "f069077b",
   "metadata": {},
   "source": [
    "\n",
    "<a id='indexing-np-where'></a>"
   ]
  },
  {
   "cell_type": "markdown",
   "id": "61397fbf",
   "metadata": {},
   "source": [
    "## Setting with enlargement conditionally using `numpy()`\n",
    "\n",
    "An alternative to `where()` is to use `numpy.where()`.\n",
    "Combined with setting a new column, you can use it to enlarge a DataFrame where the\n",
    "values are determined conditionally.\n",
    "\n",
    "Consider you have two choices to choose from in the following DataFrame. And you want to\n",
    "set a new column color to ‘green’ when the second column has ‘Z’.  You can do the\n",
    "following:"
   ]
  },
  {
   "cell_type": "code",
   "execution_count": null,
   "id": "78bfe399",
   "metadata": {
    "hide-output": false
   },
   "outputs": [],
   "source": [
    "df = pd.DataFrame({'col1': list('ABBC'), 'col2': list('ZZXY')})\n",
    "df['color'] = np.where(df['col2'] == 'Z', 'green', 'red')\n",
    "df"
   ]
  },
  {
   "cell_type": "markdown",
   "id": "9d316196",
   "metadata": {},
   "source": [
    "If you have multiple conditions, you can use `numpy.select()` to achieve that.  Say\n",
    "corresponding to three conditions there are three choice of colors, with a fourth color\n",
    "as a fallback, you can do the following."
   ]
  },
  {
   "cell_type": "code",
   "execution_count": null,
   "id": "5cdb366b",
   "metadata": {
    "hide-output": false
   },
   "outputs": [],
   "source": [
    "conditions = [\n",
    "    (df['col2'] == 'Z') & (df['col1'] == 'A'),\n",
    "    (df['col2'] == 'Z') & (df['col1'] == 'B'),\n",
    "    (df['col1'] == 'B')\n",
    "]\n",
    "choices = ['yellow', 'blue', 'purple']\n",
    "df['color'] = np.select(conditions, choices, default='black')\n",
    "df"
   ]
  },
  {
   "cell_type": "markdown",
   "id": "9d4bf0b5-dcad-449a-93d8-5db40693384c",
   "metadata": {},
   "source": []
  },
  {
   "cell_type": "markdown",
   "id": "bd655959",
   "metadata": {},
   "source": [
    "\n",
    "<a id='indexing-query'></a>"
   ]
  },
  {
   "cell_type": "markdown",
   "id": "f3063d75",
   "metadata": {},
   "source": [
    "## The `query()` Method\n",
    "\n",
    "`DataFrame` objects have a `query()`\n",
    "method that allows selection using an expression.\n",
    "\n",
    "You can get the value of the frame where column `b` has values\n",
    "between the values of columns `a` and `c`. For example:"
   ]
  },
  {
   "cell_type": "code",
   "execution_count": null,
   "id": "81269475-496f-43a4-aba7-83d71486d503",
   "metadata": {
    "hide-output": false
   },
   "outputs": [],
   "source": [
    "n = 10\n",
    "df = pd.DataFrame(np.random.rand(n, 3), columns=list('abc'))\n",
    "df"
   ]
  },
  {
   "cell_type": "code",
   "execution_count": null,
   "id": "d66e0142-4178-4f10-bb99-3d38ebca2058",
   "metadata": {
    "hide-output": false
   },
   "outputs": [],
   "source": [
    "# pure python\n",
    "df[(df['a'] < df['b']) & (df['b'] < df['c'])]"
   ]
  },
  {
   "cell_type": "code",
   "execution_count": null,
   "id": "81d688a1-26a4-4e59-bf89-626ddfa0b8c9",
   "metadata": {
    "hide-output": false
   },
   "outputs": [],
   "source": [
    "# query\n",
    "df.query('(a < b) & (b < c)')"
   ]
  },
  {
   "cell_type": "markdown",
   "id": "d76a26e5",
   "metadata": {},
   "source": [
    "Do the same thing but fall back on a named index if there is no column\n",
    "with the name `a`."
   ]
  },
  {
   "cell_type": "code",
   "execution_count": null,
   "id": "aeef8c51-635e-4edd-97d5-f97ebbfc87a4",
   "metadata": {
    "hide-output": false
   },
   "outputs": [],
   "source": [
    "df = pd.DataFrame(np.random.randint(n / 2, size=(n, 2)), columns=list('bc'))\n",
    "df.index.name = 'a'\n",
    "df"
   ]
  },
  {
   "cell_type": "code",
   "execution_count": null,
   "id": "7e9616a6-d86a-4d72-b579-eb04cde3fc83",
   "metadata": {
    "hide-output": false
   },
   "outputs": [],
   "source": [
    "df.query('a < b and b < c')"
   ]
  },
  {
   "cell_type": "markdown",
   "id": "b70b9c25",
   "metadata": {},
   "source": [
    "If instead you don’t want to or cannot name your index, you can use the name\n",
    "`index` in your query expression:"
   ]
  },
  {
   "cell_type": "code",
   "execution_count": null,
   "id": "fea2206b-bffe-4b7a-9b35-8523248628a9",
   "metadata": {
    "hide-output": false
   },
   "outputs": [],
   "source": [
    "df = pd.DataFrame(np.random.randint(n, size=(n, 2)), columns=list('bc'))\n",
    "df"
   ]
  },
  {
   "cell_type": "code",
   "execution_count": null,
   "id": "1f4dc81e-957a-444e-9b70-5a73e61dd3db",
   "metadata": {
    "hide-output": false
   },
   "outputs": [],
   "source": [
    "df.query('index < b < c')"
   ]
  },
  {
   "cell_type": "markdown",
   "id": "781e0761",
   "metadata": {},
   "source": [
    ">**Note**\n",
    ">\n",
    ">If the name of your index overlaps with a column name, the column name is\n",
    "given precedence. For example,"
   ]
  },
  {
   "cell_type": "code",
   "execution_count": null,
   "id": "60bbb410",
   "metadata": {
    "hide-output": false
   },
   "outputs": [],
   "source": [
    "df = pd.DataFrame({'a': np.random.randint(5, size=5)})\n",
    "df.index.name = 'a'\n",
    "df.query('a > 2')  # uses the column 'a', not the index"
   ]
  },
  {
   "cell_type": "markdown",
   "id": "d3a91c72",
   "metadata": {},
   "source": [
    "You can still use the index in a query expression by using the special\n",
    "identifier ‘index’:"
   ]
  },
  {
   "cell_type": "code",
   "execution_count": null,
   "id": "2ef875de",
   "metadata": {
    "hide-output": false
   },
   "outputs": [],
   "source": [
    "df.query('index > 2')"
   ]
  },
  {
   "cell_type": "markdown",
   "id": "ebe2eae0",
   "metadata": {},
   "source": [
    "If for some reason you have a column named `index`, then you can refer to\n",
    "the index as `ilevel_0` as well, but at this point you should consider\n",
    "renaming your columns to something less ambiguous."
   ]
  },
  {
   "cell_type": "markdown",
   "id": "e698722c",
   "metadata": {},
   "source": [
    "### `MultiIndex` `query()` Syntax\n",
    "\n",
    "You can also use the levels of a `DataFrame` with a\n",
    "`MultiIndex` as if they were columns in the frame:"
   ]
  },
  {
   "cell_type": "code",
   "execution_count": null,
   "id": "99a77322-95ce-4fe5-b3b5-7cf823b02e6d",
   "metadata": {
    "hide-output": false
   },
   "outputs": [],
   "source": [
    "n = 10\n",
    "colors = np.random.choice(['red', 'green'], size=n)\n",
    "foods = np.random.choice(['eggs', 'ham'], size=n)\n",
    "colors"
   ]
  },
  {
   "cell_type": "code",
   "execution_count": null,
   "id": "bc7766c7-7789-4b4c-9201-80cbe9f975f2",
   "metadata": {
    "hide-output": false
   },
   "outputs": [],
   "source": [
    "foods"
   ]
  },
  {
   "cell_type": "code",
   "execution_count": null,
   "id": "c96f27fd-4019-4648-9a31-61a0d6ec777e",
   "metadata": {
    "hide-output": false
   },
   "outputs": [],
   "source": [
    "index = pd.MultiIndex.from_arrays([colors, foods], names=['color', 'food'])\n",
    "df = pd.DataFrame(np.random.randn(n, 2), index=index)\n",
    "df"
   ]
  },
  {
   "cell_type": "code",
   "execution_count": null,
   "id": "b5d2a0da-e1b2-4f5a-bcea-283850cf8926",
   "metadata": {
    "hide-output": false
   },
   "outputs": [],
   "source": [
    "df.query('color == \"red\"')"
   ]
  },
  {
   "cell_type": "markdown",
   "id": "e3f84101",
   "metadata": {},
   "source": [
    "If the levels of the `MultiIndex` are unnamed, you can refer to them using\n",
    "special names:"
   ]
  },
  {
   "cell_type": "code",
   "execution_count": null,
   "id": "ad82b3dc-9f1c-4887-85d4-161c3ccb515d",
   "metadata": {
    "hide-output": false
   },
   "outputs": [],
   "source": [
    "df.index.names = [None, None]\n",
    "df"
   ]
  },
  {
   "cell_type": "code",
   "execution_count": null,
   "id": "42595c8d-3abd-477e-b798-3fc5cd31c8fa",
   "metadata": {
    "hide-output": false
   },
   "outputs": [],
   "source": [
    "df.query('ilevel_0 == \"red\"')"
   ]
  },
  {
   "cell_type": "markdown",
   "id": "9e12010c",
   "metadata": {},
   "source": [
    "The convention is `ilevel_0`, which means “index level 0” for the 0th level\n",
    "of the `index`."
   ]
  },
  {
   "cell_type": "markdown",
   "id": "8e6dda0d",
   "metadata": {},
   "source": [
    "### `query()` Use Cases\n",
    "\n",
    "A use case for `query()` is when you have a collection of\n",
    "`DataFrame` objects that have a subset of column names (or index\n",
    "levels/names) in common. You can pass the same query to both frames *without*\n",
    "having to specify which frame you’re interested in querying"
   ]
  },
  {
   "cell_type": "code",
   "execution_count": null,
   "id": "45b5d685-23cc-4ff1-9275-dc6c03ae6879",
   "metadata": {
    "hide-output": false
   },
   "outputs": [],
   "source": [
    "df = pd.DataFrame(np.random.rand(n, 3), columns=list('abc'))\n",
    "df"
   ]
  },
  {
   "cell_type": "code",
   "execution_count": null,
   "id": "a2295412-4ff9-4f6c-a0ef-04d22c930fe4",
   "metadata": {
    "hide-output": false
   },
   "outputs": [],
   "source": [
    "df2 = pd.DataFrame(np.random.rand(n + 2, 3), columns=df.columns)\n",
    "df2"
   ]
  },
  {
   "cell_type": "code",
   "execution_count": null,
   "id": "328bc019-03bd-4d4a-9b0a-ff0a7235f8ad",
   "metadata": {
    "hide-output": false
   },
   "outputs": [],
   "source": [
    "expr = '0.0 <= a <= c <= 0.5'\n",
    "map(lambda frame: frame.query(expr), [df, df2])"
   ]
  },
  {
   "cell_type": "markdown",
   "id": "09250f26",
   "metadata": {},
   "source": [
    "### `query()` Python versus pandas Syntax Comparison\n",
    "\n",
    "Full numpy-like syntax:"
   ]
  },
  {
   "cell_type": "code",
   "execution_count": null,
   "id": "e7d00494-183a-4b5a-bf1b-7fb4c5a4709d",
   "metadata": {
    "hide-output": false
   },
   "outputs": [],
   "source": [
    "df = pd.DataFrame(np.random.randint(n, size=(n, 3)), columns=list('abc'))\n",
    "df"
   ]
  },
  {
   "cell_type": "code",
   "execution_count": null,
   "id": "32180e41-7a6c-43f1-8945-31c61ca7f348",
   "metadata": {
    "hide-output": false
   },
   "outputs": [],
   "source": [
    "df.query('(a < b) & (b < c)')\n",
    "df[(df['a'] < df['b']) & (df['b'] < df['c'])]"
   ]
  },
  {
   "cell_type": "markdown",
   "id": "d3cafd84",
   "metadata": {},
   "source": [
    "Slightly nicer by removing the parentheses (comparison operators bind tighter\n",
    "than `&` and `|`):"
   ]
  },
  {
   "cell_type": "code",
   "execution_count": null,
   "id": "4fdcb3f9",
   "metadata": {
    "hide-output": false
   },
   "outputs": [],
   "source": [
    "df.query('a < b & b < c')"
   ]
  },
  {
   "cell_type": "markdown",
   "id": "6e32436e",
   "metadata": {},
   "source": [
    "Use English instead of symbols:"
   ]
  },
  {
   "cell_type": "code",
   "execution_count": null,
   "id": "5c421d53",
   "metadata": {
    "hide-output": false
   },
   "outputs": [],
   "source": [
    "df.query('a < b and b < c')"
   ]
  },
  {
   "cell_type": "markdown",
   "id": "e161961c",
   "metadata": {},
   "source": [
    "Pretty close to how you might write it on paper:"
   ]
  },
  {
   "cell_type": "code",
   "execution_count": null,
   "id": "6415bb85",
   "metadata": {
    "hide-output": false
   },
   "outputs": [],
   "source": [
    "df.query('a < b < c')"
   ]
  },
  {
   "cell_type": "markdown",
   "id": "03847eeb",
   "metadata": {},
   "source": [
    "### The `in` and `not in` operators\n",
    "\n",
    "`query()` also supports special use of Python’s `in` and\n",
    "`not in` comparison operators, providing a succinct syntax for calling the\n",
    "`isin` method of a `Series` or `DataFrame`."
   ]
  },
  {
   "cell_type": "code",
   "execution_count": null,
   "id": "ec3a63a2-9dcd-4e2a-a75b-b34d97440389",
   "metadata": {
    "hide-output": false
   },
   "outputs": [],
   "source": [
    "# get all rows where columns \"a\" and \"b\" have overlapping values\n",
    "df = pd.DataFrame({'a': list('aabbccddeeff'), 'b': list('aaaabbbbcccc'),\n",
    "                   'c': np.random.randint(5, size=12),\n",
    "                   'd': np.random.randint(9, size=12)})\n",
    "df"
   ]
  },
  {
   "cell_type": "code",
   "execution_count": null,
   "id": "3232d1bc-6f5f-42e1-af66-ba98906079cf",
   "metadata": {
    "hide-output": false
   },
   "outputs": [],
   "source": [
    "df.query('a in b')\n",
    "\n",
    "# How you'd do it in pure Python\n",
    "df[df['a'].isin(df['b'])]"
   ]
  },
  {
   "cell_type": "code",
   "execution_count": null,
   "id": "3937100a-903f-4e6d-93a3-715df7040245",
   "metadata": {
    "hide-output": false
   },
   "outputs": [],
   "source": [
    "df.query('a not in b')"
   ]
  },
  {
   "cell_type": "code",
   "execution_count": null,
   "id": "fbd2c0c9-d399-493f-9151-e6edc8b7c127",
   "metadata": {
    "hide-output": false
   },
   "outputs": [],
   "source": [
    "# pure Python\n",
    "df[~df['a'].isin(df['b'])]"
   ]
  },
  {
   "cell_type": "markdown",
   "id": "5732ef33",
   "metadata": {},
   "source": [
    "You can combine this with other expressions for very succinct queries:"
   ]
  },
  {
   "cell_type": "code",
   "execution_count": null,
   "id": "b295e8d4-8c91-46d9-981a-f4bddfd588bb",
   "metadata": {
    "hide-output": false
   },
   "outputs": [],
   "source": [
    "# rows where cols a and b have overlapping values\n",
    "# and col c's values are less than col d's\n",
    "df.query('a in b and c < d')"
   ]
  },
  {
   "cell_type": "code",
   "execution_count": null,
   "id": "5471736d-e17a-4362-946d-7f5aac774627",
   "metadata": {
    "hide-output": false
   },
   "outputs": [],
   "source": [
    "# pure Python\n",
    "df[df['b'].isin(df['a']) & (df['c'] < df['d'])]"
   ]
  },
  {
   "cell_type": "markdown",
   "id": "90dbdad3",
   "metadata": {},
   "source": [
    ">**Note**\n",
    ">\n",
    ">Note that `in` and `not in` are evaluated in Python, since `numexpr`\n",
    "has no equivalent of this operation. However, **only the** `in`/`not in`\n",
    "**expression itself** is evaluated in vanilla Python. For example, in the\n",
    "expression\n",
    ">\n",
    ">    df.query('a in b + c + d')\n",
    ">\n",
    ">``(b + c + d)`` is evaluated by ``numexpr`` and *then* the ``in``\n",
    "operation is evaluated in plain Python. In general, any operations that can\n",
    "be evaluated using ``numexpr`` will be. "
   ]
  },
  {
   "cell_type": "markdown",
   "id": "619259f3",
   "metadata": {},
   "source": [
    "### Special use of the `==` operator with `list` objects\n",
    "\n",
    "Comparing a `list` of values to a column using `==`/`!=` works similarly\n",
    "to `in`/`not in`."
   ]
  },
  {
   "cell_type": "code",
   "execution_count": null,
   "id": "6590711a-6016-436c-aa0d-1a05060fac16",
   "metadata": {
    "hide-output": false
   },
   "outputs": [],
   "source": [
    "df.query('b == [\"a\", \"b\", \"c\"]')"
   ]
  },
  {
   "cell_type": "code",
   "execution_count": null,
   "id": "a40dd0e1-5df8-464a-9aed-7c50a897b3ed",
   "metadata": {
    "hide-output": false
   },
   "outputs": [],
   "source": [
    "# pure Python\n",
    "df[df['b'].isin([\"a\", \"b\", \"c\"])]"
   ]
  },
  {
   "cell_type": "code",
   "execution_count": null,
   "id": "61e07c0f-39c0-424a-b6d8-589e17857952",
   "metadata": {
    "hide-output": false
   },
   "outputs": [],
   "source": [
    "df.query('c == [1, 2]')"
   ]
  },
  {
   "cell_type": "code",
   "execution_count": null,
   "id": "a517c27e-bb1a-4545-b784-5df592a3567f",
   "metadata": {
    "hide-output": false
   },
   "outputs": [],
   "source": [
    "df.query('c != [1, 2]')"
   ]
  },
  {
   "cell_type": "code",
   "execution_count": null,
   "id": "6871b854-80ec-4d30-b2b7-b83502ba5478",
   "metadata": {
    "hide-output": false
   },
   "outputs": [],
   "source": [
    "# using in/not in\n",
    "df.query('[1, 2] in c')"
   ]
  },
  {
   "cell_type": "code",
   "execution_count": null,
   "id": "7da871c6-d097-4600-81bb-3d772483379f",
   "metadata": {
    "hide-output": false
   },
   "outputs": [],
   "source": [
    "df.query('[1, 2] not in c')"
   ]
  },
  {
   "cell_type": "code",
   "execution_count": null,
   "id": "974c132c-9faf-463b-bdc4-17630d51c7dc",
   "metadata": {
    "hide-output": false
   },
   "outputs": [],
   "source": [
    "# pure Python\n",
    "df[df['c'].isin([1, 2])]"
   ]
  },
  {
   "cell_type": "markdown",
   "id": "9010217f",
   "metadata": {},
   "source": [
    "### Boolean operators\n",
    "\n",
    "You can negate boolean expressions with the word `not` or the `~` operator."
   ]
  },
  {
   "cell_type": "code",
   "execution_count": null,
   "id": "c1e94ad4-ef9f-46e6-abac-22280d44c56f",
   "metadata": {
    "hide-output": false
   },
   "outputs": [],
   "source": [
    "df = pd.DataFrame(np.random.rand(n, 3), columns=list('abc'))\n",
    "df['bools'] = np.random.rand(len(df)) > 0.5\n",
    "df.query('~bools')"
   ]
  },
  {
   "cell_type": "code",
   "execution_count": null,
   "id": "100b3a6d-5429-4fdf-9aea-1578f044b056",
   "metadata": {
    "hide-output": false
   },
   "outputs": [],
   "source": [
    "df.query('not bools')"
   ]
  },
  {
   "cell_type": "code",
   "execution_count": null,
   "id": "f3e0f637-ed22-4774-a673-d933f437c112",
   "metadata": {
    "hide-output": false
   },
   "outputs": [],
   "source": [
    "df.query('not bools') == df[~df['bools']]"
   ]
  },
  {
   "cell_type": "markdown",
   "id": "06da7400",
   "metadata": {},
   "source": [
    "Of course, expressions can be arbitrarily complex too:"
   ]
  },
  {
   "cell_type": "code",
   "execution_count": null,
   "id": "b977cc7e-d7f0-4fcc-89fc-7ebec4b0dcae",
   "metadata": {
    "hide-output": false
   },
   "outputs": [],
   "source": [
    "# short query syntax\n",
    "shorter = df.query('a < b < c and (not bools) or bools > 2')\n",
    "\n",
    "# equivalent in pure Python\n",
    "longer = df[(df['a'] < df['b'])\n",
    "            & (df['b'] < df['c'])\n",
    "            & (~df['bools'])\n",
    "            | (df['bools'] > 2)]\n",
    "\n",
    "shorter"
   ]
  },
  {
   "cell_type": "code",
   "execution_count": null,
   "id": "27e22623-ef15-4318-86b2-0f522ab2593e",
   "metadata": {
    "hide-output": false
   },
   "outputs": [],
   "source": [
    "longer"
   ]
  },
  {
   "cell_type": "code",
   "execution_count": null,
   "id": "37a09f58-6737-4d19-ac6b-4f83253c94ea",
   "metadata": {
    "hide-output": false
   },
   "outputs": [],
   "source": [
    "shorter == longer"
   ]
  },
  {
   "cell_type": "markdown",
   "id": "d06ca7c2-63ba-418e-a2a5-dfe08b9bc01b",
   "metadata": {},
   "source": [
    "### Performance of `query()`\n",
    "\n",
    "`DataFrame.query()` using `numexpr` is slightly faster than Python for\n",
    "large frames.\n",
    "\n",
    "<img src=\"../_static/query-perf.png\" style=\"\">\n",
    "\n",
    ">**Note**\n",
    ">\n",
    ">You will only see the performance benefits of using the `numexpr` engine\n",
    "with `DataFrame.query()` if your frame has more than approximately 200,000\n",
    "rows.\n",
    "\n",
    "> <img src=\"../_static/query-perf-small.png\" style=\"\">"
   ]
  },
  {
   "cell_type": "markdown",
   "id": "97d0442e-1334-47d3-a9bc-c9fb98e039bc",
   "metadata": {},
   "source": [
    "This plot was created using a `DataFrame` with 3 columns each containing\n",
    "floating point values generated using `numpy.random.randn()`."
   ]
  },
  {
   "cell_type": "code",
   "execution_count": null,
   "id": "5fe3575b",
   "metadata": {
    "hide-output": false
   },
   "outputs": [],
   "source": [
    "df = pd.DataFrame(np.random.randn(8, 4),\n",
    "                  index=dates, columns=['A', 'B', 'C', 'D'])\n",
    "df2 = df.copy()"
   ]
  },
  {
   "cell_type": "markdown",
   "id": "ff2eae5e",
   "metadata": {},
   "source": [
    "## Duplicate data\n",
    "\n",
    "\n",
    "<a id='indexing-duplicate'></a>\n",
    "If you want to identify and remove duplicate rows in a DataFrame,  there are\n",
    "two methods that will help: `duplicated` and `drop_duplicates`. Each\n",
    "takes as an argument the columns to use to identify duplicated rows.\n",
    "\n",
    "- `duplicated` returns a boolean vector whose length is the number of rows, and which indicates whether a row is duplicated.  \n",
    "- `drop_duplicates` removes duplicate rows.  \n",
    "\n",
    "\n",
    "By default, the first observed row of a duplicate set is considered unique, but\n",
    "each method has a `keep` parameter to specify targets to be kept.\n",
    "\n",
    "- `keep='first'` (default): mark / drop duplicates except for the first occurrence.  \n",
    "- `keep='last'`: mark / drop duplicates except for the last occurrence.  \n",
    "- `keep=False`: mark  / drop all duplicates.  "
   ]
  },
  {
   "cell_type": "code",
   "execution_count": null,
   "id": "fc715688-0c39-436b-947b-509e2b08c3ab",
   "metadata": {
    "hide-output": false
   },
   "outputs": [],
   "source": [
    "df2 = pd.DataFrame({'a': ['one', 'one', 'two', 'two', 'two', 'three', 'four'],\n",
    "                    'b': ['x', 'y', 'x', 'y', 'x', 'x', 'x'],\n",
    "                    'c': np.random.randn(7)})\n",
    "df2"
   ]
  },
  {
   "cell_type": "code",
   "execution_count": null,
   "id": "dc7adfde-ca29-4ae5-bff3-74c2973be343",
   "metadata": {
    "hide-output": false
   },
   "outputs": [],
   "source": [
    "df2.duplicated('a')"
   ]
  },
  {
   "cell_type": "code",
   "execution_count": null,
   "id": "83486816-850d-4e10-91e4-d1c93e88606e",
   "metadata": {
    "hide-output": false
   },
   "outputs": [],
   "source": [
    "df2.duplicated('a', keep='last')"
   ]
  },
  {
   "cell_type": "code",
   "execution_count": null,
   "id": "754241a0-65bd-4a3e-90f8-a9929a9af7b9",
   "metadata": {
    "hide-output": false
   },
   "outputs": [],
   "source": [
    "df2.duplicated('a', keep=False)"
   ]
  },
  {
   "cell_type": "code",
   "execution_count": null,
   "id": "54f62392-5f24-4252-b1d0-29e270d57f48",
   "metadata": {
    "hide-output": false
   },
   "outputs": [],
   "source": [
    "df2.drop_duplicates('a')"
   ]
  },
  {
   "cell_type": "code",
   "execution_count": null,
   "id": "38085b5c-0d33-4259-8d43-50858c675a56",
   "metadata": {
    "hide-output": false
   },
   "outputs": [],
   "source": [
    "df2.drop_duplicates('a', keep='last')"
   ]
  },
  {
   "cell_type": "code",
   "execution_count": null,
   "id": "047f0d6b-2764-4548-b239-93e5b72ef756",
   "metadata": {
    "hide-output": false
   },
   "outputs": [],
   "source": [
    "df2.drop_duplicates('a', keep=False)"
   ]
  },
  {
   "cell_type": "markdown",
   "id": "dc908163",
   "metadata": {},
   "source": [
    "Also, you can pass a list of columns to identify duplications."
   ]
  },
  {
   "cell_type": "code",
   "execution_count": null,
   "id": "b2861615-f82d-47d7-bd26-71fabc0fad05",
   "metadata": {
    "hide-output": false
   },
   "outputs": [],
   "source": [
    "df2.duplicated(['a', 'b'])"
   ]
  },
  {
   "cell_type": "code",
   "execution_count": null,
   "id": "6a1169a1-e052-45fa-9282-b9c69b3e544f",
   "metadata": {
    "hide-output": false
   },
   "outputs": [],
   "source": [
    "df2.drop_duplicates(['a', 'b'])"
   ]
  },
  {
   "cell_type": "markdown",
   "id": "10ad010e",
   "metadata": {},
   "source": [
    "To drop duplicates by index value, use `Index.duplicated` then perform slicing.\n",
    "The same set of options are available for the `keep` parameter."
   ]
  },
  {
   "cell_type": "code",
   "execution_count": null,
   "id": "592f1087-035d-4253-9736-b8b6a2adb56b",
   "metadata": {
    "hide-output": false
   },
   "outputs": [],
   "source": [
    "df3 = pd.DataFrame({'a': np.arange(6),\n",
    "                    'b': np.random.randn(6)},\n",
    "                   index=['a', 'a', 'b', 'c', 'b', 'a'])\n",
    "df3"
   ]
  },
  {
   "cell_type": "code",
   "execution_count": null,
   "id": "776599cc-1342-4116-b716-74cf2edb2546",
   "metadata": {
    "hide-output": false
   },
   "outputs": [],
   "source": [
    "df3.index.duplicated()"
   ]
  },
  {
   "cell_type": "code",
   "execution_count": null,
   "id": "53e3e420-8a96-4e30-9cf6-e015b8b2bc99",
   "metadata": {
    "hide-output": false
   },
   "outputs": [],
   "source": [
    "df3[~df3.index.duplicated()]"
   ]
  },
  {
   "cell_type": "code",
   "execution_count": null,
   "id": "33a77b8a-8bd6-4431-8a89-ea439c6e2c6a",
   "metadata": {
    "hide-output": false
   },
   "outputs": [],
   "source": [
    "df3[~df3.index.duplicated(keep='last')]"
   ]
  },
  {
   "cell_type": "code",
   "execution_count": null,
   "id": "a764ac81-eb34-4fd7-990e-d557f238c415",
   "metadata": {
    "hide-output": false
   },
   "outputs": [],
   "source": [
    "df3[~df3.index.duplicated(keep=False)]"
   ]
  },
  {
   "cell_type": "markdown",
   "id": "3338da6f",
   "metadata": {},
   "source": [
    "\n",
    "<a id='indexing-dictionarylike'></a>"
   ]
  },
  {
   "cell_type": "markdown",
   "id": "e5d531e9",
   "metadata": {},
   "source": [
    "## Dictionary-like `get()` method\n",
    "\n",
    "Each of Series or DataFrame have a `get` method which can return a\n",
    "default value."
   ]
  },
  {
   "cell_type": "code",
   "execution_count": null,
   "id": "a54507e8-9a37-48dc-a14b-7a85278a22e8",
   "metadata": {
    "hide-output": false
   },
   "outputs": [],
   "source": [
    "s = pd.Series([1, 2, 3], index=['a', 'b', 'c'])\n",
    "s.get('a')  # equivalent to s['a']"
   ]
  },
  {
   "cell_type": "code",
   "execution_count": null,
   "id": "03fe4216-7fb6-402f-bb6e-d6320b60fec4",
   "metadata": {
    "hide-output": false
   },
   "outputs": [],
   "source": [
    "s.get('x', default=-1)"
   ]
  },
  {
   "cell_type": "markdown",
   "id": "b8c9c8ff",
   "metadata": {},
   "source": [
    "\n",
    "<a id='indexing-lookup'></a>"
   ]
  },
  {
   "cell_type": "markdown",
   "id": "54a1f4ba",
   "metadata": {},
   "source": [
    "## Looking up values by index/column labels\n",
    "\n",
    "Sometimes you want to extract a set of values given a sequence of row labels\n",
    "and column labels, this can be achieved by `pandas.factorize`  and NumPy indexing.\n",
    "For instance:"
   ]
  },
  {
   "cell_type": "code",
   "execution_count": null,
   "id": "b68dc5a1-4640-44a6-a62c-79a8228f72d0",
   "metadata": {
    "hide-output": false
   },
   "outputs": [],
   "source": [
    "df = pd.DataFrame({'col': [\"A\", \"A\", \"B\", \"B\"],\n",
    "                   'A': [80, 23, np.nan, 22],\n",
    "                   'B': [80, 55, 76, 67]})\n",
    "df"
   ]
  },
  {
   "cell_type": "code",
   "execution_count": null,
   "id": "6e625e41-7894-49c2-b2cb-49d0895705fd",
   "metadata": {
    "hide-output": false
   },
   "outputs": [],
   "source": [
    "idx, cols = pd.factorize(df['col'])\n",
    "df.reindex(cols, axis=1).to_numpy()[np.arange(len(df)), idx]"
   ]
  },
  {
   "cell_type": "markdown",
   "id": "bcaae978",
   "metadata": {},
   "source": [
    "Formerly this could be achieved with the dedicated `DataFrame.lookup` method\n",
    "which was deprecated in version 1.2.0.\n",
    "\n",
    "\n",
    "<a id='indexing-class'></a>"
   ]
  },
  {
   "cell_type": "markdown",
   "id": "9863f973",
   "metadata": {},
   "source": [
    "## Index objects\n",
    "\n",
    "The pandas `Index` class and its subclasses can be viewed as\n",
    "implementing an *ordered multiset*. Duplicates are allowed. However, if you try\n",
    "to convert an `Index` object with duplicate entries into a\n",
    "`set`, an exception will be raised.\n",
    "\n",
    "`Index` also provides the infrastructure necessary for\n",
    "lookups, data alignment, and reindexing. The easiest way to create an\n",
    "`Index` directly is to pass a `list` or other sequence to\n",
    "`Index`:"
   ]
  },
  {
   "cell_type": "code",
   "execution_count": null,
   "id": "bcee897c-949f-4d79-a3bc-5fd3c24738d2",
   "metadata": {
    "hide-output": false
   },
   "outputs": [],
   "source": [
    "index = pd.Index(['e', 'd', 'a', 'b'])\n",
    "index"
   ]
  },
  {
   "cell_type": "code",
   "execution_count": null,
   "id": "a7f35c81-8b0e-4b3b-a41f-ef66bbdb714e",
   "metadata": {
    "hide-output": false
   },
   "outputs": [],
   "source": [
    "'d' in index"
   ]
  },
  {
   "cell_type": "markdown",
   "id": "fe7a68bc",
   "metadata": {},
   "source": [
    "You can also pass a `name` to be stored in the index:"
   ]
  },
  {
   "cell_type": "code",
   "execution_count": null,
   "id": "9e96d738",
   "metadata": {
    "hide-output": false
   },
   "outputs": [],
   "source": [
    "index = pd.Index(['e', 'd', 'a', 'b'], name='something')\n",
    "index.name"
   ]
  },
  {
   "cell_type": "markdown",
   "id": "4f2a8289",
   "metadata": {},
   "source": [
    "The name, if set, will be shown in the console display:"
   ]
  },
  {
   "cell_type": "code",
   "execution_count": null,
   "id": "645e5fab-c639-400d-aedf-3bcb7e20c4cc",
   "metadata": {
    "hide-output": false
   },
   "outputs": [],
   "source": [
    "index = pd.Index(list(range(5)), name='rows')\n",
    "columns = pd.Index(['A', 'B', 'C'], name='cols')\n",
    "df = pd.DataFrame(np.random.randn(5, 3), index=index, columns=columns)\n",
    "df"
   ]
  },
  {
   "cell_type": "code",
   "execution_count": null,
   "id": "7523f1f6-8ac7-4acc-b3d4-ec8cb5a858ea",
   "metadata": {
    "hide-output": false
   },
   "outputs": [],
   "source": [
    "df['A']"
   ]
  },
  {
   "cell_type": "markdown",
   "id": "2ec6c1ae",
   "metadata": {},
   "source": [
    "\n",
    "<a id='indexing-set-metadata'></a>"
   ]
  },
  {
   "cell_type": "markdown",
   "id": "32d33809",
   "metadata": {},
   "source": [
    "### Setting metadata\n",
    "\n",
    "Indexes are “mostly immutable”, but it is possible to set and change their\n",
    "`name` attribute. You can use the `rename`, `set_names` to set these attributes\n",
    "directly, and they default to returning a copy.\n",
    "\n",
    "See Advanced Indexing for usage of MultiIndexes."
   ]
  },
  {
   "cell_type": "code",
   "execution_count": null,
   "id": "b10edc13-ecc4-4ac3-96a0-a038d53052b7",
   "metadata": {
    "hide-output": false
   },
   "outputs": [],
   "source": [
    "ind = pd.Index([1, 2, 3])\n",
    "ind.rename(\"apple\")\n",
    "ind"
   ]
  },
  {
   "cell_type": "code",
   "execution_count": null,
   "id": "8eb18e32-764b-4633-8e65-1d397064985a",
   "metadata": {
    "hide-output": false
   },
   "outputs": [],
   "source": [
    "ind.set_names([\"apple\"], inplace=True)\n",
    "ind.name = \"bob\"\n",
    "ind"
   ]
  },
  {
   "cell_type": "markdown",
   "id": "4305613d",
   "metadata": {},
   "source": [
    "`set_names`, `set_levels`, and `set_codes` also take an optional\n",
    "`level` argument"
   ]
  },
  {
   "cell_type": "code",
   "execution_count": null,
   "id": "759f4c4d-a9bf-454c-8504-af8024bcf05f",
   "metadata": {
    "hide-output": false
   },
   "outputs": [],
   "source": [
    "index = pd.MultiIndex.from_product([range(3), ['one', 'two']], names=['first', 'second'])\n",
    "index"
   ]
  },
  {
   "cell_type": "code",
   "execution_count": null,
   "id": "55808860-8246-49ca-84ba-5499165fbda6",
   "metadata": {
    "hide-output": false
   },
   "outputs": [],
   "source": [
    "index.levels[1]"
   ]
  },
  {
   "cell_type": "code",
   "execution_count": null,
   "id": "05cc6c91-19af-46f9-867d-c417b203597a",
   "metadata": {
    "hide-output": false
   },
   "outputs": [],
   "source": [
    "index.set_levels([\"a\", \"b\"], level=1)"
   ]
  },
  {
   "cell_type": "markdown",
   "id": "fc394d2a",
   "metadata": {},
   "source": [
    "\n",
    "<a id='indexing-set-ops'></a>"
   ]
  },
  {
   "cell_type": "markdown",
   "id": "b99faf6f",
   "metadata": {},
   "source": [
    "### Set operations on Index objects\n",
    "\n",
    "The two main operations are `union` and `intersection`.\n",
    "Difference is provided via the `.difference()` method."
   ]
  },
  {
   "cell_type": "code",
   "execution_count": null,
   "id": "16fb2283",
   "metadata": {
    "hide-output": false
   },
   "outputs": [],
   "source": [
    "a = pd.Index(['c', 'b', 'a'])\n",
    "b = pd.Index(['c', 'e', 'd'])\n",
    "a.difference(b)"
   ]
  },
  {
   "cell_type": "markdown",
   "id": "f8785f59",
   "metadata": {},
   "source": [
    "Also available is the `symmetric_difference` operation, which returns elements\n",
    "that appear in either `idx1` or `idx2`, but not in both. This is\n",
    "equivalent to the Index created by `idx1.difference(idx2).union(idx2.difference(idx1))`,\n",
    "with duplicates dropped."
   ]
  },
  {
   "cell_type": "code",
   "execution_count": null,
   "id": "2efdf340",
   "metadata": {
    "hide-output": false
   },
   "outputs": [],
   "source": [
    "idx1 = pd.Index([1, 2, 3, 4])\n",
    "idx2 = pd.Index([2, 3, 4, 5])\n",
    "idx1.symmetric_difference(idx2)"
   ]
  },
  {
   "cell_type": "markdown",
   "id": "a3b893bf",
   "metadata": {},
   "source": [
    ">**Note**\n",
    ">\n",
    ">The resulting index from a set operation will be sorted in ascending order.\n",
    "\n",
    "When performing `Index.union()` between indexes with different dtypes, the indexes\n",
    "must be cast to a common dtype. Typically, though not always, this is object dtype. The\n",
    "exception is when performing a union between integer and float data. In this case, the\n",
    "integer values are converted to float"
   ]
  },
  {
   "cell_type": "code",
   "execution_count": null,
   "id": "be7d0949",
   "metadata": {
    "hide-output": false
   },
   "outputs": [],
   "source": [
    "idx1 = pd.Index([0, 1, 2])\n",
    "idx2 = pd.Index([0.5, 1.5])\n",
    "idx1.union(idx2)"
   ]
  },
  {
   "cell_type": "markdown",
   "id": "6b2cacfb",
   "metadata": {},
   "source": [
    "\n",
    "<a id='indexing-missing'></a>"
   ]
  },
  {
   "cell_type": "markdown",
   "id": "c13a69fb",
   "metadata": {},
   "source": [
    "### Missing values\n",
    "\n",
    "Even though `Index` can hold missing values (`NaN`), it should be avoided\n",
    "if you do not want any unexpected results. For example, some operations\n",
    "exclude missing values implicitly.\n",
    "\n",
    "`Index.fillna` fills missing values with specified scalar value."
   ]
  },
  {
   "cell_type": "code",
   "execution_count": null,
   "id": "eee96498-0eb5-46b1-8252-d1a92474d6ab",
   "metadata": {
    "hide-output": false
   },
   "outputs": [],
   "source": [
    "idx1 = pd.Index([1, np.nan, 3, 4])\n",
    "idx1"
   ]
  },
  {
   "cell_type": "code",
   "execution_count": null,
   "id": "0bedaed4-6c56-4d22-aaa4-c916d4e64047",
   "metadata": {
    "hide-output": false
   },
   "outputs": [],
   "source": [
    "idx1.fillna(2)\n",
    "\n",
    "idx2 = pd.DatetimeIndex([pd.Timestamp('2011-01-01'),\n",
    "                         pd.NaT,\n",
    "                         pd.Timestamp('2011-01-03')])\n",
    "idx2"
   ]
  },
  {
   "cell_type": "code",
   "execution_count": null,
   "id": "913fcbf8-6b02-4136-952b-961e6ac3a3e5",
   "metadata": {
    "hide-output": false
   },
   "outputs": [],
   "source": [
    "idx2.fillna(pd.Timestamp('2011-01-02'))"
   ]
  },
  {
   "cell_type": "markdown",
   "id": "2ff9ae6f",
   "metadata": {},
   "source": [
    "## Set / reset index\n",
    "\n",
    "Occasionally you will load or create a data set into a DataFrame and want to\n",
    "add an index after you’ve already done so. There are a couple of different\n",
    "ways.\n",
    "\n",
    "\n",
    "<a id='indexing-set-index'></a>"
   ]
  },
  {
   "cell_type": "markdown",
   "id": "5bed1456",
   "metadata": {},
   "source": [
    "### Set an index\n",
    "\n",
    "DataFrame has a `set_index()` method which takes a column name\n",
    "(for a regular `Index`) or a list of column names (for a `MultiIndex`).\n",
    "To create a new, re-indexed DataFrame:"
   ]
  },
  {
   "cell_type": "code",
   "execution_count": null,
   "id": "ffaa5b21",
   "metadata": {
    "hide-output": false
   },
   "outputs": [],
   "source": [
    "data = pd.DataFrame({'a': ['bar', 'bar', 'foo', 'foo'],\n",
    "                     'b': ['one', 'two', 'one', 'two'],\n",
    "                     'c': ['z', 'y', 'x', 'w'],\n",
    "                     'd': [1., 2., 3, 4]})"
   ]
  },
  {
   "cell_type": "code",
   "execution_count": null,
   "id": "678934f7-07b0-4160-954d-bd845cce4144",
   "metadata": {
    "hide-output": false
   },
   "outputs": [],
   "source": [
    "data"
   ]
  },
  {
   "cell_type": "code",
   "execution_count": null,
   "id": "ecb69103-ca37-4392-8e59-ac60c79fe8f6",
   "metadata": {
    "hide-output": false
   },
   "outputs": [],
   "source": [
    "indexed1 = data.set_index('c')\n",
    "indexed1"
   ]
  },
  {
   "cell_type": "code",
   "execution_count": null,
   "id": "465cb657-abf7-4529-863a-379a2f503452",
   "metadata": {
    "hide-output": false
   },
   "outputs": [],
   "source": [
    "indexed2 = data.set_index(['a', 'b'])\n",
    "indexed2"
   ]
  },
  {
   "cell_type": "markdown",
   "id": "58e0e116",
   "metadata": {},
   "source": [
    "The `append` keyword option allow you to keep the existing index and append\n",
    "the given columns to a MultiIndex:"
   ]
  },
  {
   "cell_type": "code",
   "execution_count": null,
   "id": "c0d7a803",
   "metadata": {
    "hide-output": false
   },
   "outputs": [],
   "source": [
    "frame = data.set_index('c', drop=False)\n",
    "frame = frame.set_index(['a', 'b'], append=True)\n",
    "frame"
   ]
  },
  {
   "cell_type": "markdown",
   "id": "6852f201",
   "metadata": {},
   "source": [
    "Other options in `set_index` allow you not drop the index columns or to add\n",
    "the index in-place (without creating a new object):"
   ]
  },
  {
   "cell_type": "code",
   "execution_count": null,
   "id": "7e267f3d",
   "metadata": {
    "hide-output": false
   },
   "outputs": [],
   "source": [
    "data.set_index('c', drop=False)\n",
    "data.set_index(['a', 'b'], inplace=True)\n",
    "data"
   ]
  },
  {
   "cell_type": "markdown",
   "id": "e65985f8",
   "metadata": {},
   "source": [
    "### Reset the index\n",
    "\n",
    "As a convenience, there is a new function on DataFrame called\n",
    "`reset_index()` which transfers the index values into the\n",
    "DataFrame’s columns and sets a simple integer index.\n",
    "This is the inverse operation of `set_index()`."
   ]
  },
  {
   "cell_type": "code",
   "execution_count": null,
   "id": "4fffb093",
   "metadata": {
    "hide-output": false
   },
   "outputs": [],
   "source": [
    "data\n",
    "data.reset_index()"
   ]
  },
  {
   "cell_type": "markdown",
   "id": "db9451f8",
   "metadata": {},
   "source": [
    "The output is more similar to a SQL table or a record array. The names for the\n",
    "columns derived from the index are the ones stored in the `names` attribute.\n",
    "\n",
    "You can use the `level` keyword to remove only a portion of the index:"
   ]
  },
  {
   "cell_type": "code",
   "execution_count": null,
   "id": "aa38d945",
   "metadata": {
    "hide-output": false
   },
   "outputs": [],
   "source": [
    "frame\n",
    "frame.reset_index(level=1)"
   ]
  },
  {
   "cell_type": "markdown",
   "id": "2017b5a6",
   "metadata": {},
   "source": [
    "`reset_index` takes an optional parameter `drop` which if true simply\n",
    "discards the index, instead of putting index values in the DataFrame’s columns."
   ]
  },
  {
   "cell_type": "markdown",
   "id": "61dd8ed4",
   "metadata": {},
   "source": [
    "### Adding an ad hoc index\n",
    "\n",
    "If you create an index yourself, you can just assign it to the `index` field:"
   ]
  },
  {
   "cell_type": "markdown",
   "id": "de9d4acc",
   "metadata": {
    "hide-output": false
   },
   "source": [
    "```python\n",
    "data.index = index\n",
    "```\n"
   ]
  },
  {
   "cell_type": "markdown",
   "id": "a6b5c2e3",
   "metadata": {},
   "source": [
    "\n",
    "<a id='indexing-view-versus-copy'></a>"
   ]
  },
  {
   "cell_type": "markdown",
   "id": "ad6f797a",
   "metadata": {},
   "source": [
    "## Returning a view versus a copy\n",
    "\n",
    "When setting values in a pandas object, care must be taken to avoid what is called\n",
    "`chained indexing`. Here is an example."
   ]
  },
  {
   "cell_type": "code",
   "execution_count": null,
   "id": "296956b8",
   "metadata": {
    "hide-output": false
   },
   "outputs": [],
   "source": [
    "dfmi = pd.DataFrame([list('abcd'),\n",
    "                     list('efgh'),\n",
    "                     list('ijkl'),\n",
    "                     list('mnop')],\n",
    "                    columns=pd.MultiIndex.from_product([['one', 'two'],\n",
    "                                                        ['first', 'second']]))\n",
    "dfmi"
   ]
  },
  {
   "cell_type": "markdown",
   "id": "d72ddee9",
   "metadata": {},
   "source": [
    "Compare these two access methods:"
   ]
  },
  {
   "cell_type": "code",
   "execution_count": null,
   "id": "bb180bc4",
   "metadata": {
    "hide-output": false
   },
   "outputs": [],
   "source": [
    "dfmi['one']['second']"
   ]
  },
  {
   "cell_type": "code",
   "execution_count": null,
   "id": "5c5e1130",
   "metadata": {
    "hide-output": false
   },
   "outputs": [],
   "source": [
    "dfmi.loc[:, ('one', 'second')]"
   ]
  },
  {
   "cell_type": "markdown",
   "id": "4015e358",
   "metadata": {},
   "source": [
    "These both yield the same results, so which should you use? It is instructive to understand the order\n",
    "of operations on these and why method 2 (`.loc`) is much preferred over method 1 (chained `[]`).\n",
    "\n",
    "`dfmi['one']` selects the first level of the columns and returns a DataFrame that is singly-indexed.\n",
    "Then another Python operation `dfmi_with_one['second']` selects the series indexed by `'second'`.\n",
    "This is indicated by the variable `dfmi_with_one` because pandas sees these operations as separate events.\n",
    "e.g. separate calls to `__getitem__`, so it has to treat them as linear operations, they happen one after another.\n",
    "\n",
    "Contrast this to `df.loc[:,('one','second')]` which passes a nested tuple of `(slice(None),('one','second'))` to a single call to\n",
    "`__getitem__`. This allows pandas to deal with this as a single entity. Furthermore this order of operations *can* be significantly\n",
    "faster, and allows one to index *both* axes if so desired."
   ]
  },
  {
   "cell_type": "markdown",
   "id": "d53973cd",
   "metadata": {},
   "source": [
    "### Why does assignment fail when using chained indexing?\n",
    "\n",
    "The problem in the previous section is just a performance issue. What’s up with\n",
    "the `SettingWithCopy` warning? We don’t **usually** throw warnings around when\n",
    "you do something that might cost a few extra milliseconds!\n",
    "\n",
    "But it turns out that assigning to the product of chained indexing has\n",
    "inherently unpredictable results. To see this, think about how the Python\n",
    "interpreter executes this code:"
   ]
  },
  {
   "cell_type": "code",
   "execution_count": null,
   "id": "b9487575",
   "metadata": {
    "hide-output": false
   },
   "outputs": [],
   "source": [
    "value = None"
   ]
  },
  {
   "cell_type": "markdown",
   "id": "7fd60f45",
   "metadata": {
    "hide-output": false
   },
   "source": [
    "```python\n",
    "dfmi.loc[:, ('one', 'second')] = value\n",
    "# becomes\n",
    "dfmi.loc.__setitem__((slice(None), ('one', 'second')), value)\n",
    "```\n"
   ]
  },
  {
   "cell_type": "markdown",
   "id": "ea693d01",
   "metadata": {},
   "source": [
    "But this code is handled differently:"
   ]
  },
  {
   "cell_type": "markdown",
   "id": "c6e87c7b",
   "metadata": {
    "hide-output": false
   },
   "source": [
    "```python\n",
    "dfmi['one']['second'] = value\n",
    "# becomes\n",
    "dfmi.__getitem__('one').__setitem__('second', value)\n",
    "```\n"
   ]
  },
  {
   "cell_type": "markdown",
   "id": "f08b8f86",
   "metadata": {},
   "source": [
    "See that `__getitem__` in there? Outside of simple cases, it’s very hard to\n",
    "predict whether it will return a view or a copy (it depends on the memory layout\n",
    "of the array, about which pandas makes no guarantees), and therefore whether\n",
    "the `__setitem__` will modify `dfmi` or a temporary object that gets thrown\n",
    "out immediately afterward. **That’s** what `SettingWithCopy` is warning you\n",
    "about!\n",
    "\n",
    ">**Note**\n",
    ">\n",
    ">You may be wondering whether we should be concerned about the `loc`\n",
    "property in the first example. But `dfmi.loc` is guaranteed to be `dfmi`\n",
    "itself with modified indexing behavior, so `dfmi.loc.__getitem__` /\n",
    "`dfmi.loc.__setitem__` operate on `dfmi` directly. Of course,\n",
    "`dfmi.loc.__getitem__(idx)` may be a view or a copy of `dfmi`.\n",
    "\n",
    "Sometimes a `SettingWithCopy` warning will arise at times when there’s no\n",
    "obvious chained indexing going on. **These** are the bugs that\n",
    "`SettingWithCopy` is designed to catch! pandas is probably trying to warn you\n",
    "that you’ve done this:"
   ]
  },
  {
   "cell_type": "markdown",
   "id": "d71e34a2",
   "metadata": {
    "hide-output": false
   },
   "source": [
    "```python\n",
    "def do_something(df):\n",
    "    foo = df[['bar', 'baz']]  # Is foo a view? A copy? Nobody knows!\n",
    "    # ... many lines here ...\n",
    "    # We don't know whether this will modify df or not!\n",
    "    foo['quux'] = value\n",
    "    return foo\n",
    "```\n"
   ]
  },
  {
   "cell_type": "markdown",
   "id": "6c1fd863",
   "metadata": {},
   "source": [
    "Yikes!\n",
    "\n",
    "\n",
    "<a id='indexing-evaluation-order'></a>"
   ]
  },
  {
   "cell_type": "markdown",
   "id": "1f801f80",
   "metadata": {},
   "source": [
    "### Evaluation order matters\n",
    "\n",
    "When you use chained indexing, the order and type of the indexing operation\n",
    "partially determine whether the result is a slice into the original object, or\n",
    "a copy of the slice.\n",
    "\n",
    "pandas has the `SettingWithCopyWarning` because assigning to a copy of a\n",
    "slice is frequently not intentional, but a mistake caused by chained indexing\n",
    "returning a copy where a slice was expected.\n",
    "\n",
    "If you would like pandas to be more or less trusting about assignment to a\n",
    "chained indexing expression, you can set the option\n",
    "`mode.chained_assignment` to one of these values:\n",
    "\n",
    "- `'warn'`, the default, means a `SettingWithCopyWarning` is printed.  \n",
    "- `'raise'` means pandas will raise a `SettingWithCopyException`\n",
    "  you have to deal with.  \n",
    "- `None` will suppress the warnings entirely.  "
   ]
  },
  {
   "cell_type": "code",
   "execution_count": null,
   "id": "a0068ca2",
   "metadata": {
    "hide-output": false
   },
   "outputs": [],
   "source": [
    "dfb = pd.DataFrame({'a': ['one', 'one', 'two',\n",
    "                          'three', 'two', 'one', 'six'],\n",
    "                    'c': np.arange(7)})\n",
    "\n",
    "# This will show the SettingWithCopyWarning but the frame values will be set\n",
    "dfb['c'][dfb['a'].str.startswith('o')] = 42"
   ]
  },
  {
   "cell_type": "markdown",
   "id": "0f870e36",
   "metadata": {},
   "source": [
    "This however is operating on a copy and will not work."
   ]
  },
  {
   "cell_type": "code",
   "execution_count": null,
   "id": "1a03fe8d",
   "metadata": {
    "hide-output": false
   },
   "outputs": [],
   "source": [
    "pd.set_option('mode.chained_assignment','warn')\n",
    "dfb[dfb['a'].str.startswith('o')]['c'] = 42\n",
    "'''\n",
    "SettingWithCopyWarning:\n",
    "     A value is trying to be set on a copy of a slice from a DataFrame.\n",
    "     Try using .loc[row_index,col_indexer] = value instead\n",
    "'''\n"
   ]
  },
  {
   "cell_type": "markdown",
   "id": "513216d2",
   "metadata": {},
   "source": [
    "A chained assignment can also crop up in setting in a mixed dtype frame.\n",
    "\n",
    ">**Note**\n",
    ">\n",
    ">These setting rules apply to all of `.loc/.iloc`.\n",
    "\n",
    "The following is the recommended access method using `.loc` for multiple items (using `mask`) and a single item using a fixed index:"
   ]
  },
  {
   "cell_type": "code",
   "execution_count": null,
   "id": "b517504d-582d-45cf-87d6-e977894953d2",
   "metadata": {
    "hide-output": false
   },
   "outputs": [],
   "source": [
    "dfc = pd.DataFrame({'a': ['one', 'one', 'two',\n",
    "                          'three', 'two', 'one', 'six'],\n",
    "                    'c': np.arange(7)})\n",
    "dfd = dfc.copy()\n",
    "# Setting multiple items using a mask\n",
    "mask = dfd['a'].str.startswith('o')\n",
    "dfd.loc[mask, 'c'] = 42\n",
    "dfd"
   ]
  },
  {
   "cell_type": "code",
   "execution_count": null,
   "id": "3eabfa2f-ab3f-45f3-bbbd-f2f4518fac37",
   "metadata": {
    "hide-output": false
   },
   "outputs": [],
   "source": [
    "# Setting a single item\n",
    "dfd = dfc.copy()\n",
    "dfd.loc[2, 'c'] = 11\n",
    "dfd"
   ]
  },
  {
   "cell_type": "markdown",
   "id": "c1e19538",
   "metadata": {},
   "source": [
    "The following *can* work at times, but it is not guaranteed to, and therefore should be avoided:"
   ]
  },
  {
   "cell_type": "code",
   "execution_count": null,
   "id": "57d0201a",
   "metadata": {
    "hide-output": false
   },
   "outputs": [],
   "source": [
    "dfd = dfc.copy()\n",
    "dfd['a'][2] = 111\n",
    "dfd"
   ]
  },
  {
   "cell_type": "markdown",
   "id": "115afb6a",
   "metadata": {},
   "source": [
    "Last, the subsequent example will **not** work at all, and so should be avoided:"
   ]
  },
  {
   "cell_type": "code",
   "execution_count": null,
   "id": "287e3019",
   "metadata": {
    "hide-output": false
   },
   "outputs": [],
   "source": [
    "pd.set_option('mode.chained_assignment','raise')\n",
    "dfd.loc[0]['a'] = 1111\n",
    "#SettingWithCopyError: \n",
    "#A value is trying to be set on a copy of a slice from a DataFrame\n",
    "#See the caveats in the documentation: https://pandas.pydata.org/pandas-docs/stable/user_guide/indexing.html#returning-a-view-versus-a-copy\n"
   ]
  },
  {
   "cell_type": "markdown",
   "id": "29d0ed95",
   "metadata": {},
   "source": [
    "The chained assignment warnings / exceptions are aiming to inform the user of a possibly invalid\n",
    "assignment. There may be false positives; situations where a chained assignment is inadvertently\n",
    "reported."
   ]
  }
 ],
 "metadata": {
  "date": 1630231085.9017258,
  "filename": "23_indexing.rst",
  "kernelspec": {
   "display_name": "Python 3",
   "language": "python",
   "name": "python3"
  },
  "language_info": {
   "codemirror_mode": {
    "name": "ipython",
    "version": 3
   },
   "file_extension": ".py",
   "mimetype": "text/x-python",
   "name": "python",
   "nbconvert_exporter": "python",
   "pygments_lexer": "ipython3",
   "version": "3.8.8"
  },
  "title": "Indexing and selecting data"
 },
 "nbformat": 4,
 "nbformat_minor": 5
}
