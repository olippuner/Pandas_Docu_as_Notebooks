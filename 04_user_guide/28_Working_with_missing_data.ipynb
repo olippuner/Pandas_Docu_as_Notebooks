{
 "cells": [
  {
   "cell_type": "code",
   "execution_count": null,
   "id": "eea4abbc-b0f4-4710-9c66-9fd6edac526e",
   "metadata": {},
   "outputs": [],
   "source": [
    "import numpy as np\n",
    "import pandas as pd\n",
    "import matplotlib.pyplot as plt"
   ]
  },
  {
   "cell_type": "markdown",
   "id": "a9292fb5",
   "metadata": {},
   "source": [
    "\n",
    "<a id='working-with-missing-data'></a>"
   ]
  },
  {
   "cell_type": "markdown",
   "id": "ced3b88e",
   "metadata": {},
   "source": [
    "# Working with missing data\n",
    "\n",
    "In this section, we will discuss missing (also referred to as NA) values in\n",
    "pandas.\n",
    "\n",
    ">**Note**\n",
    ">\n",
    ">The choice of using `NaN` internally to denote missing data was largely\n",
    "for simplicity and performance reasons.\n",
    "Starting from pandas 1.0, some optional data types start experimenting\n",
    "with a native `NA` scalar using a mask-based approach. See\n",
    "here for more.\n",
    "\n",
    "See the [cookbook](44_cookbook.ipynb#cookbook-missing-data) for some advanced strategies."
   ]
  },
  {
   "cell_type": "markdown",
   "id": "08d31da9",
   "metadata": {},
   "source": [
    "## Values considered “missing”\n",
    "\n",
    "As data comes in many shapes and forms, pandas aims to be flexible with regard\n",
    "to handling missing data. While `NaN` is the default missing value marker for\n",
    "reasons of computational speed and convenience, we need to be able to easily\n",
    "detect this value with data of different types: floating point, integer,\n",
    "boolean, and general object. In many cases, however, the Python `None` will\n",
    "arise and we wish to also consider that “missing” or “not available” or “NA”.\n",
    "\n",
    ">**Note**\n",
    ">\n",
    ">If you want to consider `inf` and `-inf` to be “NA” in computations,\n",
    "you can set `pandas.options.mode.use_inf_as_na = True`.\n",
    "\n",
    "\n",
    "<a id='missing-isna'></a>"
   ]
  },
  {
   "cell_type": "code",
   "execution_count": null,
   "id": "2466731a-3c9a-476d-a642-c020bd207390",
   "metadata": {
    "hide-output": false
   },
   "outputs": [],
   "source": [
    "df = pd.DataFrame(\n",
    "    np.random.randn(5, 3),\n",
    "    index=[\"a\", \"c\", \"e\", \"f\", \"h\"],\n",
    "    columns=[\"one\", \"two\", \"three\"],\n",
    ")\n",
    "df[\"four\"] = \"bar\"\n",
    "df[\"five\"] = df[\"one\"] > 0\n",
    "df"
   ]
  },
  {
   "cell_type": "code",
   "execution_count": null,
   "id": "33444b5d-9964-4e73-877e-055b2fb9448b",
   "metadata": {
    "hide-output": false
   },
   "outputs": [],
   "source": [
    "df2 = df.reindex([\"a\", \"b\", \"c\", \"d\", \"e\", \"f\", \"g\", \"h\"])\n",
    "df2"
   ]
  },
  {
   "cell_type": "markdown",
   "id": "a8d64ed7",
   "metadata": {},
   "source": [
    "To make detecting missing values easier (and across different array dtypes),\n",
    "pandas provides the `isna()` and\n",
    "`notna()` functions, which are also methods on\n",
    "Series and DataFrame objects:"
   ]
  },
  {
   "cell_type": "code",
   "execution_count": null,
   "id": "81a5d0f9-05ce-4604-9bea-fd1d5c66deb2",
   "metadata": {
    "hide-output": false
   },
   "outputs": [],
   "source": [
    "df2[\"one\"]"
   ]
  },
  {
   "cell_type": "code",
   "execution_count": null,
   "id": "b53eb79a-963b-4ae4-a826-ef5fc3f1ae35",
   "metadata": {
    "hide-output": false
   },
   "outputs": [],
   "source": [
    "pd.isna(df2[\"one\"])"
   ]
  },
  {
   "cell_type": "code",
   "execution_count": null,
   "id": "ffcbb506-e068-4dcd-9a5c-c365c76f9feb",
   "metadata": {
    "hide-output": false
   },
   "outputs": [],
   "source": [
    "df2[\"four\"].notna()"
   ]
  },
  {
   "cell_type": "code",
   "execution_count": null,
   "id": "fd10f26f-03c8-4df7-9bff-6fd60f04bfe7",
   "metadata": {
    "hide-output": false
   },
   "outputs": [],
   "source": [
    "df2.isna()"
   ]
  },
  {
   "cell_type": "markdown",
   "id": "496ec8e2",
   "metadata": {},
   "source": [
    "warning:\n",
    "\n",
    "> One has to be mindful that in Python (and NumPy), the `nan's` don’t compare equal, but `None's` **do**.\n",
    "Note that pandas/NumPy uses the fact that `np.nan != np.nan`, and treats `None` like `np.nan`."
   ]
  },
  {
   "cell_type": "code",
   "execution_count": null,
   "id": "2f6119a2-9cdd-4739-bc11-c8aea17bd8ca",
   "metadata": {
    "hide-output": false
   },
   "outputs": [],
   "source": [
    "None == None  # noqa: E711"
   ]
  },
  {
   "cell_type": "code",
   "execution_count": null,
   "id": "5aadc844-e28a-4ef8-b0ea-262f16f7e8fe",
   "metadata": {
    "hide-output": false
   },
   "outputs": [],
   "source": [
    "np.nan == np.nan"
   ]
  },
  {
   "cell_type": "markdown",
   "id": "e6126ba7",
   "metadata": {},
   "source": [
    "So as compared to above, a scalar equality comparison versus a `None/np.nan` doesn’t provide useful information."
   ]
  },
  {
   "cell_type": "code",
   "execution_count": null,
   "id": "dfc74ce0",
   "metadata": {
    "hide-output": false
   },
   "outputs": [],
   "source": [
    "df2[\"one\"] == np.nan"
   ]
  },
  {
   "cell_type": "markdown",
   "id": "445446bd",
   "metadata": {},
   "source": [
    "\n",
    "### Integer dtypes and missing data\n",
    "\n",
    "Because `NaN` is a float, a column of integers with even one missing values\n",
    "is cast to floating-point dtype (see [Support for integer NA](43_FAQ_gotchas.ipynb#gotchas-intna) for more). pandas\n",
    "provides a nullable integer array, which can be used by explicitly requesting\n",
    "the dtype:"
   ]
  },
  {
   "cell_type": "code",
   "execution_count": null,
   "id": "15178752",
   "metadata": {
    "hide-output": false
   },
   "outputs": [],
   "source": [
    "pd.Series([1, 2, np.nan, 4], dtype=pd.Int64Dtype())"
   ]
  },
  {
   "cell_type": "markdown",
   "id": "0cab581e",
   "metadata": {},
   "source": [
    "Alternatively, the string alias `dtype='Int64'` (note the capital `\"I\"`) can be\n",
    "used.\n",
    "\n",
    "See [Nullable integer data type](31_Nullable_integer_na.ipynb#integer-na) for more."
   ]
  },
  {
   "cell_type": "markdown",
   "id": "7f77c501",
   "metadata": {},
   "source": [
    "### Datetimes\n",
    "\n",
    "For datetime64[ns] types, `NaT` represents missing values. This is a pseudo-native\n",
    "sentinel value that can be represented by NumPy in a singular dtype (datetime64[ns]).\n",
    "pandas objects provide compatibility between `NaT` and `NaN`."
   ]
  },
  {
   "cell_type": "code",
   "execution_count": null,
   "id": "738eccba-54b7-45e4-aba8-6f210f8f326a",
   "metadata": {
    "hide-output": false
   },
   "outputs": [],
   "source": [
    "df2 = df.copy()\n",
    "df2[\"timestamp\"] = pd.Timestamp(\"20120101\")"
   ]
  },
  {
   "cell_type": "code",
   "execution_count": null,
   "id": "a812cf46-d3f1-4edc-b5ee-6bd0f7f3aae2",
   "metadata": {
    "hide-output": false
   },
   "outputs": [],
   "source": [
    "df2"
   ]
  },
  {
   "cell_type": "code",
   "execution_count": null,
   "id": "39a72ffb-851d-4909-8f96-54109007954d",
   "metadata": {
    "hide-output": false
   },
   "outputs": [],
   "source": [
    "df2.loc[[\"a\", \"c\", \"h\"], [\"one\", \"timestamp\"]] = np.nan"
   ]
  },
  {
   "cell_type": "code",
   "execution_count": null,
   "id": "693ae572-189c-48a7-8e55-e4a6d21421b4",
   "metadata": {
    "hide-output": false
   },
   "outputs": [],
   "source": [
    "df2"
   ]
  },
  {
   "cell_type": "code",
   "execution_count": null,
   "id": "8a067cf3-cb05-4966-a3db-05ee425f81c0",
   "metadata": {
    "hide-output": false
   },
   "outputs": [],
   "source": [
    "df2.dtypes.value_counts()"
   ]
  },
  {
   "cell_type": "markdown",
   "id": "4802c0fa",
   "metadata": {},
   "source": [
    "\n",
    "<a id='missing-inserting'></a>"
   ]
  },
  {
   "cell_type": "markdown",
   "id": "0d3cb8c9",
   "metadata": {},
   "source": [
    "## Inserting missing data\n",
    "\n",
    "You can insert missing values by simply assigning to containers. The\n",
    "actual missing value used will be chosen based on the dtype.\n",
    "\n",
    "For example, numeric containers will always use `NaN` regardless of\n",
    "the missing value type chosen:"
   ]
  },
  {
   "cell_type": "code",
   "execution_count": null,
   "id": "71f9b962-1abe-495c-b6c7-dcfc4945c96b",
   "metadata": {
    "hide-output": false
   },
   "outputs": [],
   "source": [
    "s = pd.Series([1, 2, 3])\n",
    "s.loc[0] = None\n",
    "s"
   ]
  },
  {
   "cell_type": "markdown",
   "id": "73bdb665",
   "metadata": {},
   "source": [
    "Likewise, datetime containers will always use `NaT`.\n",
    "\n",
    "For object containers, pandas will use the value given:"
   ]
  },
  {
   "cell_type": "code",
   "execution_count": null,
   "id": "5a76f243",
   "metadata": {
    "hide-output": false
   },
   "outputs": [],
   "source": [
    "s = pd.Series([\"a\", \"b\", \"c\"])\n",
    "s.loc[0] = None\n",
    "s.loc[1] = np.nan\n",
    "s"
   ]
  },
  {
   "cell_type": "markdown",
   "id": "ba56743c",
   "metadata": {},
   "source": [
    "\n",
    "<a id='working-with-missing-data-calculations'></a>"
   ]
  },
  {
   "cell_type": "markdown",
   "id": "1c71bb3a",
   "metadata": {},
   "source": [
    "## Calculations with missing data\n",
    "\n",
    "Missing values propagate naturally through arithmetic operations between pandas\n",
    "objects."
   ]
  },
  {
   "cell_type": "code",
   "execution_count": null,
   "id": "e71a0575",
   "metadata": {
    "hide-output": false
   },
   "outputs": [],
   "source": [
    "df = df2.loc[:, [\"one\", \"two\", \"three\"]]\n",
    "a = df2.loc[df2.index[:5], [\"one\", \"two\"]].fillna(method=\"pad\")\n",
    "b = df2.loc[df2.index[:5], [\"one\", \"two\", \"three\"]]"
   ]
  },
  {
   "cell_type": "code",
   "execution_count": null,
   "id": "7b896a4f-be5b-4463-aeda-d1a599b9658e",
   "metadata": {
    "hide-output": false
   },
   "outputs": [],
   "source": [
    "a"
   ]
  },
  {
   "cell_type": "code",
   "execution_count": null,
   "id": "85d50c3d-f6b1-4389-a5d0-50c7127145d0",
   "metadata": {
    "hide-output": false
   },
   "outputs": [],
   "source": [
    "b"
   ]
  },
  {
   "cell_type": "code",
   "execution_count": null,
   "id": "9ba327e3-5b4c-409b-b293-43e90597cecd",
   "metadata": {
    "hide-output": false
   },
   "outputs": [],
   "source": [
    "a + b"
   ]
  },
  {
   "cell_type": "markdown",
   "id": "f7a7fdb7",
   "metadata": {},
   "source": [
    "The descriptive statistics and computational methods discussed in the\n",
    "data structure overview (and listed here and [here](../05_reference/13_dataFrame.ipynb#api-dataframe-stats)) are all written to\n",
    "account for missing data. For example:\n",
    "\n",
    "- When summing data, NA (missing) values will be treated as zero.  \n",
    "- If the data are all NA, the result will be 0.  \n",
    "- Cumulative methods like `cumsum()` and `cumprod()` ignore NA values by default, but preserve them in the resulting arrays. To override this behaviour and include NA values, use `skipna=False`.  "
   ]
  },
  {
   "cell_type": "code",
   "execution_count": null,
   "id": "f47b9242-5b27-4a53-b570-929b38bc6564",
   "metadata": {
    "hide-output": false
   },
   "outputs": [],
   "source": [
    "df"
   ]
  },
  {
   "cell_type": "code",
   "execution_count": null,
   "id": "fef3b387-c210-43a9-86b1-0edccbab8e84",
   "metadata": {
    "hide-output": false
   },
   "outputs": [],
   "source": [
    "df[\"one\"].sum()"
   ]
  },
  {
   "cell_type": "code",
   "execution_count": null,
   "id": "ace8b95b-9ccd-47bc-a4fe-69212e34f7af",
   "metadata": {
    "hide-output": false
   },
   "outputs": [],
   "source": [
    "df.mean(1)"
   ]
  },
  {
   "cell_type": "code",
   "execution_count": null,
   "id": "c6905e35-2182-4a26-b314-8083607da2c0",
   "metadata": {
    "hide-output": false
   },
   "outputs": [],
   "source": [
    "df.cumsum()"
   ]
  },
  {
   "cell_type": "code",
   "execution_count": null,
   "id": "1875fcaa-7e4b-4dbd-9775-e58d18108631",
   "metadata": {
    "hide-output": false
   },
   "outputs": [],
   "source": [
    "df.cumsum(skipna=False)"
   ]
  },
  {
   "cell_type": "markdown",
   "id": "b5d00ecf",
   "metadata": {},
   "source": [
    "\n",
    "<a id='working-with-missing-data-numeric-sum'></a>"
   ]
  },
  {
   "cell_type": "markdown",
   "id": "0a97ce1c",
   "metadata": {},
   "source": [
    "## Sum/prod of empties/nans\n",
    "\n",
    "warning:\n",
    "\n",
    "> This behavior is now standard as of v0.22.0 and is consistent with the default in `numpy`; previously sum/prod of all-NA or empty Series/DataFrames would return NaN.\n",
    "See [v0.22.0 whatsnew](../03_whatsnew/v0.22.0.ipynb#whatsnew-0220) for more.\n",
    "\n",
    "\n",
    "The sum of an empty or all-NA Series or column of a DataFrame is 0."
   ]
  },
  {
   "cell_type": "code",
   "execution_count": null,
   "id": "d30e9dd2-2eaa-48f6-82c2-29c87f5937c4",
   "metadata": {
    "hide-output": false
   },
   "outputs": [],
   "source": [
    "pd.Series([np.nan]).sum()"
   ]
  },
  {
   "cell_type": "code",
   "execution_count": null,
   "id": "fbe9af42-2596-4f1f-8ad1-c80b79efd8e6",
   "metadata": {
    "hide-output": false
   },
   "outputs": [],
   "source": [
    "pd.Series([], dtype=\"float64\").sum()"
   ]
  },
  {
   "cell_type": "markdown",
   "id": "a0b0c389",
   "metadata": {},
   "source": [
    "The product of an empty or all-NA Series or column of a DataFrame is 1."
   ]
  },
  {
   "cell_type": "code",
   "execution_count": null,
   "id": "b7058780-3b22-41be-a6ad-74631c7418ce",
   "metadata": {
    "hide-output": false
   },
   "outputs": [],
   "source": [
    "pd.Series([np.nan]).prod()"
   ]
  },
  {
   "cell_type": "code",
   "execution_count": null,
   "id": "546bf51c-da53-45dc-9811-6ac0d961aec0",
   "metadata": {
    "hide-output": false
   },
   "outputs": [],
   "source": [
    "pd.Series([], dtype=\"float64\").prod()"
   ]
  },
  {
   "cell_type": "markdown",
   "id": "5fdc4898",
   "metadata": {},
   "source": [
    "## NA values in GroupBy\n",
    "\n",
    "NA groups in GroupBy are automatically excluded. This behavior is consistent\n",
    "with R, for example:"
   ]
  },
  {
   "cell_type": "code",
   "execution_count": null,
   "id": "11202d55-eda3-4d8b-99e2-91caef7ab1cd",
   "metadata": {
    "hide-output": false
   },
   "outputs": [],
   "source": [
    "df"
   ]
  },
  {
   "cell_type": "code",
   "execution_count": null,
   "id": "e3eea4e1-5183-4d70-bbb5-43b05dfc0b89",
   "metadata": {
    "hide-output": false
   },
   "outputs": [],
   "source": [
    "df.groupby(\"one\").mean()"
   ]
  },
  {
   "cell_type": "markdown",
   "id": "b0fa7c64",
   "metadata": {},
   "source": [
    "See the groupby section [here](36_groupby.ipynb#groupby-missing) for more information."
   ]
  },
  {
   "cell_type": "markdown",
   "id": "c0a4be15",
   "metadata": {},
   "source": [
    "### Cleaning / filling missing data\n",
    "\n",
    "pandas objects are equipped with various data manipulation methods for dealing\n",
    "with missing data.\n",
    "\n",
    "\n",
    "<a id='working-with-missing-data-fillna'></a>"
   ]
  },
  {
   "cell_type": "markdown",
   "id": "6f3e332d",
   "metadata": {},
   "source": [
    "## Filling missing values: fillna\n",
    "\n",
    "`fillna()` can “fill in” NA values with non-NA data in a couple\n",
    "of ways, which we illustrate:\n",
    "\n",
    "**Replace NA with a scalar value**"
   ]
  },
  {
   "cell_type": "code",
   "execution_count": null,
   "id": "7377a005-ff70-4df5-b348-68fb043feef4",
   "metadata": {
    "hide-output": false
   },
   "outputs": [],
   "source": [
    "df2"
   ]
  },
  {
   "cell_type": "code",
   "execution_count": null,
   "id": "7a3f0bdf-13e9-4ab6-91a6-e306dadfa577",
   "metadata": {
    "hide-output": false
   },
   "outputs": [],
   "source": [
    "df2.fillna(0)"
   ]
  },
  {
   "cell_type": "code",
   "execution_count": null,
   "id": "0c9a10f3-6160-4c6c-abcf-57452f000bdd",
   "metadata": {
    "hide-output": false
   },
   "outputs": [],
   "source": [
    "df2[\"one\"].fillna(\"missing\")"
   ]
  },
  {
   "cell_type": "markdown",
   "id": "c6c3c3c1",
   "metadata": {},
   "source": [
    "**Fill gaps forward or backward**\n",
    "\n",
    "Using the same filling arguments as reindexing, we\n",
    "can propagate non-NA values forward or backward:"
   ]
  },
  {
   "cell_type": "code",
   "execution_count": null,
   "id": "dc78d191-141b-4a16-bb9c-d7631db81293",
   "metadata": {
    "hide-output": false
   },
   "outputs": [],
   "source": [
    "df"
   ]
  },
  {
   "cell_type": "code",
   "execution_count": null,
   "id": "345521bb-68ba-42be-b5b5-4787baeb3bbf",
   "metadata": {
    "hide-output": false
   },
   "outputs": [],
   "source": [
    "df.fillna(method=\"pad\")"
   ]
  },
  {
   "cell_type": "markdown",
   "id": "d8db18cc",
   "metadata": {},
   "source": [
    "\n",
    "<a id='working-with-missing-data-fillna-limit'></a>\n",
    "**Limit the amount of filling**\n",
    "\n",
    "If we only want consecutive gaps filled up to a certain number of data points,\n",
    "we can use the `limit` keyword:"
   ]
  },
  {
   "cell_type": "code",
   "execution_count": null,
   "id": "ad1c225d",
   "metadata": {
    "hide-output": false
   },
   "outputs": [],
   "source": [
    "df.iloc[2:4, :] = np.nan"
   ]
  },
  {
   "cell_type": "code",
   "execution_count": null,
   "id": "9f92a8a9-8bb4-4a4c-8c18-33f5b957ded8",
   "metadata": {
    "hide-output": false
   },
   "outputs": [],
   "source": [
    "df"
   ]
  },
  {
   "cell_type": "code",
   "execution_count": null,
   "id": "a9f9f1a3-6bb9-4c38-8de2-7c59f90c3050",
   "metadata": {
    "hide-output": false
   },
   "outputs": [],
   "source": [
    "df.fillna(method=\"pad\", limit=1)"
   ]
  },
  {
   "cell_type": "markdown",
   "id": "834a237e",
   "metadata": {},
   "source": [
    "To remind you, these are the available filling methods:\n",
    "\n",
    "|Method|Action|\n",
    "|:----------------------------|:------------------------------------------------|\n",
    "|pad / ffill|Fill values forward|\n",
    "|bfill / backfill|Fill values backward|\n",
    "With time series data, using pad/ffill is extremely common so that the “last\n",
    "known value” is available at every time point.\n",
    "\n",
    "`ffill()` is equivalent to `fillna(method='ffill')`\n",
    "and `bfill()` is equivalent to `fillna(method='bfill')`\n",
    "\n",
    "\n",
    "<a id='working-with-missing-data-pandasobject'></a>"
   ]
  },
  {
   "cell_type": "markdown",
   "id": "8758c061",
   "metadata": {},
   "source": [
    "## Filling with a PandasObject\n",
    "\n",
    "You can also fillna using a dict or Series that is alignable. The labels of the dict or index of the Series\n",
    "must match the columns of the frame you wish to fill. The\n",
    "use case of this is to fill a DataFrame with the mean of that column."
   ]
  },
  {
   "cell_type": "code",
   "execution_count": null,
   "id": "62578c19-03ef-4181-96b4-e527c9fe4fb5",
   "metadata": {
    "hide-output": false
   },
   "outputs": [],
   "source": [
    "dff = pd.DataFrame(np.random.randn(10, 3), columns=list(\"ABC\"))\n",
    "dff.iloc[3:5, 0] = np.nan\n",
    "dff.iloc[4:6, 1] = np.nan\n",
    "dff.iloc[5:8, 2] = np.nan\n",
    "dff"
   ]
  },
  {
   "cell_type": "code",
   "execution_count": null,
   "id": "770b6e9b-2188-4a82-b851-4123a6465593",
   "metadata": {
    "hide-output": false
   },
   "outputs": [],
   "source": [
    "dff.fillna(dff.mean())"
   ]
  },
  {
   "cell_type": "code",
   "execution_count": null,
   "id": "a1a0c3b4-0404-422f-8dd9-08c85cf2bf17",
   "metadata": {
    "hide-output": false
   },
   "outputs": [],
   "source": [
    "dff.fillna(dff.mean()[\"B\":\"C\"])"
   ]
  },
  {
   "cell_type": "markdown",
   "id": "584bbac3",
   "metadata": {},
   "source": [
    "Same result as above, but is aligning the ‘fill’ value which is\n",
    "a Series in this case."
   ]
  },
  {
   "cell_type": "code",
   "execution_count": null,
   "id": "4c294339",
   "metadata": {
    "hide-output": false
   },
   "outputs": [],
   "source": [
    "dff.where(pd.notna(dff), dff.mean(), axis=\"columns\")"
   ]
  },
  {
   "cell_type": "markdown",
   "id": "dd721009",
   "metadata": {},
   "source": [
    "\n",
    "<a id='working-with-missing-data-dropna'></a>"
   ]
  },
  {
   "cell_type": "markdown",
   "id": "5b696990",
   "metadata": {},
   "source": [
    "## Dropping axis labels with missing data: dropna\n",
    "\n",
    "You may wish to simply exclude labels from a data set which refer to missing\n",
    "data. To do this, use `dropna()`:"
   ]
  },
  {
   "cell_type": "code",
   "execution_count": null,
   "id": "2cb084fb",
   "metadata": {
    "hide-output": false
   },
   "outputs": [],
   "source": [
    "df[\"two\"] = df[\"two\"].fillna(0)\n",
    "df[\"three\"] = df[\"three\"].fillna(0)\n",
    "df"
   ]
  },
  {
   "cell_type": "code",
   "execution_count": null,
   "id": "fc7b3067-35d0-4b25-8d2a-b29a5e35259f",
   "metadata": {
    "hide-output": false
   },
   "outputs": [],
   "source": [
    "df.dropna(axis=0)"
   ]
  },
  {
   "cell_type": "code",
   "execution_count": null,
   "id": "635cd2d9-b07a-49bf-b800-8393ed41b6e6",
   "metadata": {
    "hide-output": false
   },
   "outputs": [],
   "source": [
    "df.dropna(axis=1)"
   ]
  },
  {
   "cell_type": "code",
   "execution_count": null,
   "id": "4d6ae15d-b512-48be-bef7-4ca22eb2e0cc",
   "metadata": {
    "hide-output": false
   },
   "outputs": [],
   "source": [
    "df[\"one\"].dropna()"
   ]
  },
  {
   "cell_type": "markdown",
   "id": "ec2cb871",
   "metadata": {},
   "source": [
    "An equivalent `dropna()` is available for Series.\n",
    "DataFrame.dropna has considerably more options than Series.dropna, which can be\n",
    "examined [in the API](../05_reference/13_dataFrame.ipynb#api-dataframe-missing).\n",
    "\n",
    "\n",
    "<a id='working-with-missing-data-interpolate'></a>"
   ]
  },
  {
   "cell_type": "markdown",
   "id": "22891784",
   "metadata": {},
   "source": [
    "## Interpolation\n",
    "\n",
    "Both Series and DataFrame objects have `interpolate()`\n",
    "that, by default, performs linear interpolation at missing data points."
   ]
  },
  {
   "cell_type": "code",
   "execution_count": null,
   "id": "349f8f45",
   "metadata": {
    "hide-output": false
   },
   "outputs": [],
   "source": [
    "np.random.seed(123456)\n",
    "idx = pd.date_range(\"1/1/2000\", periods=100, freq=\"BM\")\n",
    "ts = pd.Series(np.random.randn(100), index=idx)\n",
    "ts[1:5] = np.nan\n",
    "ts[20:30] = np.nan\n",
    "ts[60:80] = np.nan\n",
    "ts = ts.cumsum()"
   ]
  },
  {
   "cell_type": "code",
   "execution_count": null,
   "id": "f27eb4cb-67fb-4ea7-a2ac-28317dcf393a",
   "metadata": {
    "hide-output": false
   },
   "outputs": [],
   "source": [
    "ts"
   ]
  },
  {
   "cell_type": "code",
   "execution_count": null,
   "id": "fe498746-23e1-4fee-a2fd-13a94aed3b89",
   "metadata": {
    "hide-output": false
   },
   "outputs": [],
   "source": [
    "ts.count()"
   ]
  },
  {
   "cell_type": "code",
   "execution_count": null,
   "id": "96b0b6f9-339e-43c1-a5ed-1bb6fb32dbc1",
   "metadata": {
    "hide-output": false
   },
   "outputs": [],
   "source": [
    "ts.plot()"
   ]
  },
  {
   "cell_type": "code",
   "execution_count": null,
   "id": "a502dcb1-a5fe-45e4-933d-f4cd0914725f",
   "metadata": {
    "hide-output": false
   },
   "outputs": [],
   "source": [
    "ts.interpolate()"
   ]
  },
  {
   "cell_type": "code",
   "execution_count": null,
   "id": "160ab252-b2e8-4e7a-ab97-6b1d90739052",
   "metadata": {
    "hide-output": false
   },
   "outputs": [],
   "source": [
    "ts.interpolate().count()"
   ]
  },
  {
   "cell_type": "code",
   "execution_count": null,
   "id": "4fa3f98f-743a-4ff6-9655-6d5c8851bf3e",
   "metadata": {
    "hide-output": false
   },
   "outputs": [],
   "source": [
    "ts.interpolate().plot()"
   ]
  },
  {
   "cell_type": "markdown",
   "id": "603cefff",
   "metadata": {},
   "source": [
    "Index aware interpolation is available via the `method` keyword:"
   ]
  },
  {
   "cell_type": "code",
   "execution_count": null,
   "id": "7ba25bfe",
   "metadata": {
    "hide-output": false
   },
   "outputs": [],
   "source": [
    "ts2 = ts[[0, 1, 30, 60, 99]]"
   ]
  },
  {
   "cell_type": "code",
   "execution_count": null,
   "id": "d3111308-a985-4176-a4bd-401f31d6c33e",
   "metadata": {
    "hide-output": false
   },
   "outputs": [],
   "source": [
    "ts2"
   ]
  },
  {
   "cell_type": "code",
   "execution_count": null,
   "id": "7b75682b-d75e-4ba8-a811-17dcdfbc14cb",
   "metadata": {
    "hide-output": false
   },
   "outputs": [],
   "source": [
    "ts2.interpolate()"
   ]
  },
  {
   "cell_type": "code",
   "execution_count": null,
   "id": "058c40f3-7129-4620-84b1-83c7811ab7c5",
   "metadata": {
    "hide-output": false
   },
   "outputs": [],
   "source": [
    "ts2.interpolate(method=\"time\")"
   ]
  },
  {
   "cell_type": "markdown",
   "id": "7b57546e",
   "metadata": {},
   "source": [
    "For a floating-point index, use `method='values'`:"
   ]
  },
  {
   "cell_type": "code",
   "execution_count": null,
   "id": "d9508782",
   "metadata": {
    "hide-output": false
   },
   "outputs": [],
   "source": [
    "idx = [0.0, 1.0, 10.0]\n",
    "ser = pd.Series([0.0, np.nan, 10.0], idx)"
   ]
  },
  {
   "cell_type": "code",
   "execution_count": null,
   "id": "a561bd05-e170-44c6-b5fc-4539f5e7087f",
   "metadata": {
    "hide-output": false
   },
   "outputs": [],
   "source": [
    "ser"
   ]
  },
  {
   "cell_type": "code",
   "execution_count": null,
   "id": "6e3944b4-609b-43fa-9a3b-afa8424f4916",
   "metadata": {
    "hide-output": false
   },
   "outputs": [],
   "source": [
    "ser.interpolate()"
   ]
  },
  {
   "cell_type": "code",
   "execution_count": null,
   "id": "7f05847c-1629-4596-b335-33ed1b385099",
   "metadata": {
    "hide-output": false
   },
   "outputs": [],
   "source": [
    "ser.interpolate(method=\"values\")"
   ]
  },
  {
   "cell_type": "markdown",
   "id": "a8a550e2",
   "metadata": {},
   "source": [
    "You can also interpolate with a DataFrame:"
   ]
  },
  {
   "cell_type": "code",
   "execution_count": null,
   "id": "58fe9611-6a45-4e3b-809e-6eb76d1be705",
   "metadata": {
    "hide-output": false
   },
   "outputs": [],
   "source": [
    "df = pd.DataFrame(\n",
    "    {\n",
    "        \"A\": [1, 2.1, np.nan, 4.7, 5.6, 6.8],\n",
    "        \"B\": [0.25, np.nan, np.nan, 4, 12.2, 14.4],\n",
    "    }\n",
    ")\n",
    "df"
   ]
  },
  {
   "cell_type": "code",
   "execution_count": null,
   "id": "05269060-e209-41af-a85c-10df7e2ccf4e",
   "metadata": {
    "hide-output": false
   },
   "outputs": [],
   "source": [
    "df.interpolate()"
   ]
  },
  {
   "cell_type": "markdown",
   "id": "f6f95892",
   "metadata": {},
   "source": [
    "The `method` argument gives access to fancier interpolation methods.\n",
    "If you have [scipy](https://www.scipy.org) installed, you can pass the name of a 1-d interpolation routine to `method`.\n",
    "You’ll want to consult the full scipy interpolation [documentation](https://docs.scipy.org/doc/scipy/reference/interpolate.html#univariate-interpolation) and reference [guide](https://docs.scipy.org/doc/scipy/reference/tutorial/interpolate.html) for details.\n",
    "The appropriate interpolation method will depend on the type of data you are working with.\n",
    "\n",
    "- If you are dealing with a time series that is growing at an increasing rate,\n",
    "  `method='quadratic'` may be appropriate.  \n",
    "- If you have values approximating a cumulative distribution function,\n",
    "  then `method='pchip'` should work well.  \n",
    "- To fill missing values with goal of smooth plotting, consider `method='akima'`.  \n",
    "\n",
    "\n",
    "warning:\n",
    "\n",
    "> These methods require `scipy`."
   ]
  },
  {
   "cell_type": "code",
   "execution_count": null,
   "id": "6f15172f-a4b2-4fc0-931d-72984e76ecd7",
   "metadata": {
    "hide-output": false
   },
   "outputs": [],
   "source": [
    "df.interpolate(method=\"barycentric\")"
   ]
  },
  {
   "cell_type": "code",
   "execution_count": null,
   "id": "50da5054-3cac-42c5-a104-b5f8b8390f1f",
   "metadata": {
    "hide-output": false
   },
   "outputs": [],
   "source": [
    "df.interpolate(method=\"pchip\")"
   ]
  },
  {
   "cell_type": "code",
   "execution_count": null,
   "id": "fab03156-f17d-44c7-abd7-c04e7d3de461",
   "metadata": {
    "hide-output": false
   },
   "outputs": [],
   "source": [
    "df.interpolate(method=\"akima\")"
   ]
  },
  {
   "cell_type": "markdown",
   "id": "6ab8995b",
   "metadata": {},
   "source": [
    "When interpolating via a polynomial or spline approximation, you must also specify\n",
    "the degree or order of the approximation:"
   ]
  },
  {
   "cell_type": "code",
   "execution_count": null,
   "id": "5501733d-981d-4544-b3fb-39a2cbcd762a",
   "metadata": {
    "hide-output": false
   },
   "outputs": [],
   "source": [
    "df.interpolate(method=\"spline\", order=2)"
   ]
  },
  {
   "cell_type": "code",
   "execution_count": null,
   "id": "39ebb622-a894-4467-8c50-5b4e5b2d670b",
   "metadata": {
    "hide-output": false
   },
   "outputs": [],
   "source": [
    "df.interpolate(method=\"polynomial\", order=2)"
   ]
  },
  {
   "cell_type": "markdown",
   "id": "93c7c3c2",
   "metadata": {},
   "source": [
    "Compare several methods:"
   ]
  },
  {
   "cell_type": "code",
   "execution_count": null,
   "id": "b0b064ff",
   "metadata": {
    "hide-output": false
   },
   "outputs": [],
   "source": [
    "np.random.seed(2)\n",
    "\n",
    "ser = pd.Series(np.arange(1, 10.1, 0.25) ** 2 + np.random.randn(37))\n",
    "missing = np.array([4, 13, 14, 15, 16, 17, 18, 20, 29])\n",
    "ser[missing] = np.nan\n",
    "methods = [\"linear\", \"quadratic\", \"cubic\"]\n",
    "\n",
    "df = pd.DataFrame({m: ser.interpolate(method=m) for m in methods})\n",
    "df.plot()"
   ]
  },
  {
   "cell_type": "markdown",
   "id": "ff3ee688",
   "metadata": {},
   "source": [
    "Another use case is interpolation at *new* values.\n",
    "Suppose you have 100 observations from some distribution. And let’s suppose\n",
    "that you’re particularly interested in what’s happening around the middle.\n",
    "You can mix pandas’ `reindex` and `interpolate` methods to interpolate\n",
    "at the new values."
   ]
  },
  {
   "cell_type": "code",
   "execution_count": null,
   "id": "de6c92fd-ef06-4037-8d45-f2615a32590d",
   "metadata": {
    "hide-output": false
   },
   "outputs": [],
   "source": [
    "ser = pd.Series(np.sort(np.random.uniform(size=100)))\n",
    "# interpolate at new_index\n",
    "new_index = ser.index.union(pd.Index([49.25, 49.5, 49.75, 50.25, 50.5, 50.75]))\n",
    "interp_s = ser.reindex(new_index).interpolate(method=\"pchip\")\n",
    "interp_s[49:51]"
   ]
  },
  {
   "cell_type": "markdown",
   "id": "0612eb49",
   "metadata": {},
   "source": [
    "\n",
    "<a id='working-with-missing-data-interp-limits'></a>"
   ]
  },
  {
   "cell_type": "markdown",
   "id": "abd94618",
   "metadata": {},
   "source": [
    "### Interpolation limits\n",
    "\n",
    "Like other pandas fill methods, `interpolate()` accepts a `limit` keyword\n",
    "argument. Use this argument to limit the number of consecutive `NaN` values\n",
    "filled since the last valid observation:"
   ]
  },
  {
   "cell_type": "code",
   "execution_count": null,
   "id": "a2212d78-0b2b-4e38-81d8-b026c4fd6f87",
   "metadata": {
    "hide-output": false
   },
   "outputs": [],
   "source": [
    "ser = pd.Series([np.nan, np.nan, 5, np.nan, np.nan, np.nan, 13, np.nan, np.nan])\n",
    "ser"
   ]
  },
  {
   "cell_type": "code",
   "execution_count": null,
   "id": "031bd1bc-4288-441a-972b-468a64346160",
   "metadata": {
    "hide-output": false
   },
   "outputs": [],
   "source": [
    "# fill all consecutive values in a forward direction\n",
    "ser.interpolate()"
   ]
  },
  {
   "cell_type": "code",
   "execution_count": null,
   "id": "aae2c33a-cbee-42a8-9cb3-83d4168ac4ee",
   "metadata": {
    "hide-output": false
   },
   "outputs": [],
   "source": [
    "# fill one consecutive value in a forward direction\n",
    "ser.interpolate(limit=1)"
   ]
  },
  {
   "cell_type": "markdown",
   "id": "cc839b0e",
   "metadata": {},
   "source": [
    "By default, `NaN` values are filled in a `forward` direction. Use\n",
    "`limit_direction` parameter to fill `backward` or from `both` directions."
   ]
  },
  {
   "cell_type": "code",
   "execution_count": null,
   "id": "f871fa9b-5a5b-4db5-8ad6-87b31685d964",
   "metadata": {
    "hide-output": false
   },
   "outputs": [],
   "source": [
    "# fill one consecutive value backwards\n",
    "ser.interpolate(limit=1, limit_direction=\"backward\")"
   ]
  },
  {
   "cell_type": "code",
   "execution_count": null,
   "id": "2e83a90d-b4e8-4633-a7ce-1df9b842b4f8",
   "metadata": {
    "hide-output": false
   },
   "outputs": [],
   "source": [
    "# fill one consecutive value in both directions\n",
    "ser.interpolate(limit=1, limit_direction=\"both\")"
   ]
  },
  {
   "cell_type": "code",
   "execution_count": null,
   "id": "f5ae174b-ac54-4fe1-a119-9cf04c7d2dc7",
   "metadata": {
    "hide-output": false
   },
   "outputs": [],
   "source": [
    "# fill all consecutive values in both directions\n",
    "ser.interpolate(limit_direction=\"both\")"
   ]
  },
  {
   "cell_type": "markdown",
   "id": "537c1468",
   "metadata": {},
   "source": [
    "By default, `NaN` values are filled whether they are inside (surrounded by)\n",
    "existing valid values, or outside existing valid values. The `limit_area`\n",
    "parameter restricts filling to either inside or outside values."
   ]
  },
  {
   "cell_type": "code",
   "execution_count": null,
   "id": "a834ef36-6c2f-42fd-add9-95a0f4b29c11",
   "metadata": {
    "hide-output": false
   },
   "outputs": [],
   "source": [
    "# fill one consecutive inside value in both directions\n",
    "ser.interpolate(limit_direction=\"both\", limit_area=\"inside\", limit=1)"
   ]
  },
  {
   "cell_type": "code",
   "execution_count": null,
   "id": "87e8c9ef-2114-49a6-83cc-7c442be11544",
   "metadata": {
    "hide-output": false
   },
   "outputs": [],
   "source": [
    "# fill all consecutive outside values backward\n",
    "ser.interpolate(limit_direction=\"backward\", limit_area=\"outside\")"
   ]
  },
  {
   "cell_type": "code",
   "execution_count": null,
   "id": "cee4237a-914c-4233-876c-37d799262c7e",
   "metadata": {
    "hide-output": false
   },
   "outputs": [],
   "source": [
    "# fill all consecutive outside values in both directions\n",
    "ser.interpolate(limit_direction=\"both\", limit_area=\"outside\")"
   ]
  },
  {
   "cell_type": "markdown",
   "id": "c7dfb5ea",
   "metadata": {},
   "source": [
    "\n",
    "<a id='working-with-missing-data-replace'></a>"
   ]
  },
  {
   "cell_type": "markdown",
   "id": "8c9c7d52",
   "metadata": {},
   "source": [
    "## Replacing generic values\n",
    "\n",
    "Often times we want to replace arbitrary values with other values.\n",
    "\n",
    "`replace()` in Series and `replace()` in DataFrame provides an efficient yet\n",
    "flexible way to perform such replacements.\n",
    "\n",
    "For a Series, you can replace a single value or a list of values by another\n",
    "value:"
   ]
  },
  {
   "cell_type": "code",
   "execution_count": null,
   "id": "3bbc35fb-f57d-4d9e-841c-709769a83850",
   "metadata": {
    "hide-output": false
   },
   "outputs": [],
   "source": [
    "ser = pd.Series([0.0, 1.0, 2.0, 3.0, 4.0])"
   ]
  },
  {
   "cell_type": "code",
   "execution_count": null,
   "id": "785475ba-0cda-4967-9ad4-450920d6eb79",
   "metadata": {
    "hide-output": false
   },
   "outputs": [],
   "source": [
    "ser.replace(0, 5)"
   ]
  },
  {
   "cell_type": "markdown",
   "id": "279beb3b",
   "metadata": {},
   "source": [
    "You can replace a list of values by a list of other values:"
   ]
  },
  {
   "cell_type": "code",
   "execution_count": null,
   "id": "ba09fd03",
   "metadata": {
    "hide-output": false
   },
   "outputs": [],
   "source": [
    "ser.replace([0, 1, 2, 3, 4], [4, 3, 2, 1, 0])"
   ]
  },
  {
   "cell_type": "markdown",
   "id": "da34eccb",
   "metadata": {},
   "source": [
    "You can also specify a mapping dict:"
   ]
  },
  {
   "cell_type": "code",
   "execution_count": null,
   "id": "4e718bf5",
   "metadata": {
    "hide-output": false
   },
   "outputs": [],
   "source": [
    "ser.replace({0: 10, 1: 100})"
   ]
  },
  {
   "cell_type": "markdown",
   "id": "2e0d5562",
   "metadata": {},
   "source": [
    "For a DataFrame, you can specify individual values by column:"
   ]
  },
  {
   "cell_type": "code",
   "execution_count": null,
   "id": "ed6baa7d-27fd-4423-96e4-c48f9cfed12c",
   "metadata": {
    "hide-output": false
   },
   "outputs": [],
   "source": [
    "df = pd.DataFrame({\"a\": [0, 1, 2, 3, 4], \"b\": [5, 6, 7, 8, 9]})"
   ]
  },
  {
   "cell_type": "code",
   "execution_count": null,
   "id": "fbeb7713-bf18-46c4-ae99-6babd1fc7271",
   "metadata": {
    "hide-output": false
   },
   "outputs": [],
   "source": [
    "df.replace({\"a\": 0, \"b\": 5}, 100)"
   ]
  },
  {
   "cell_type": "markdown",
   "id": "d5fd3ff9",
   "metadata": {},
   "source": [
    "Instead of replacing with specified values, you can treat all given values as\n",
    "missing and interpolate over them:"
   ]
  },
  {
   "cell_type": "code",
   "execution_count": null,
   "id": "c07d4ac0",
   "metadata": {
    "hide-output": false
   },
   "outputs": [],
   "source": [
    "ser.replace([1, 2, 3], method=\"pad\")"
   ]
  },
  {
   "cell_type": "markdown",
   "id": "e53b2ceb",
   "metadata": {},
   "source": [
    "\n",
    "<a id='working-with-missing-data-replace-expression'></a>"
   ]
  },
  {
   "cell_type": "markdown",
   "id": "38a8dde3",
   "metadata": {},
   "source": [
    "## String/regular expression replacement\n",
    "\n",
    ">**Note**\n",
    ">\n",
    ">Python strings prefixed with the `r` character such as `r'hello world'`\n",
    "are so-called “raw” strings. They have different semantics regarding\n",
    "backslashes than strings without this prefix. Backslashes in raw strings\n",
    "will be interpreted as an escaped backslash, e.g., `r'\\' == '\\\\'`. You\n",
    "should [read about them](https://docs.python.org/3/reference/lexical_analysis.html#string-literals)\n",
    "if this is unclear.\n",
    "\n",
    "Replace the ‘.’ with `NaN` (str -> str):"
   ]
  },
  {
   "cell_type": "code",
   "execution_count": null,
   "id": "71542d62",
   "metadata": {
    "hide-output": false
   },
   "outputs": [],
   "source": [
    "d = {\"a\": list(range(4)), \"b\": list(\"ab..\"), \"c\": [\"a\", \"b\", np.nan, \"d\"]}\n",
    "df = pd.DataFrame(d)\n",
    "df.replace(\".\", np.nan)"
   ]
  },
  {
   "cell_type": "markdown",
   "id": "ab3ce49e",
   "metadata": {},
   "source": [
    "Now do it with a regular expression that removes surrounding whitespace\n",
    "(regex -> regex):"
   ]
  },
  {
   "cell_type": "code",
   "execution_count": null,
   "id": "ef5ecf0f",
   "metadata": {
    "hide-output": false
   },
   "outputs": [],
   "source": [
    "df.replace(r\"\\s*\\.\\s*\", np.nan, regex=True)"
   ]
  },
  {
   "cell_type": "markdown",
   "id": "ff9ccfc5",
   "metadata": {},
   "source": [
    "Replace a few different values (list -> list):"
   ]
  },
  {
   "cell_type": "code",
   "execution_count": null,
   "id": "d717b08d",
   "metadata": {
    "hide-output": false
   },
   "outputs": [],
   "source": [
    "df.replace([\"a\", \".\"], [\"b\", np.nan])"
   ]
  },
  {
   "cell_type": "markdown",
   "id": "3f7d7e81",
   "metadata": {},
   "source": [
    "list of regex -> list of regex:"
   ]
  },
  {
   "cell_type": "code",
   "execution_count": null,
   "id": "4333d6e7",
   "metadata": {
    "hide-output": false
   },
   "outputs": [],
   "source": [
    "df.replace([r\"\\.\", r\"(a)\"], [\"dot\", r\"\\1stuff\"], regex=True)"
   ]
  },
  {
   "cell_type": "markdown",
   "id": "caec2765",
   "metadata": {},
   "source": [
    "Only search in column `'b'` (dict -> dict):"
   ]
  },
  {
   "cell_type": "code",
   "execution_count": null,
   "id": "4df4ab43",
   "metadata": {
    "hide-output": false
   },
   "outputs": [],
   "source": [
    "df.replace({\"b\": \".\"}, {\"b\": np.nan})"
   ]
  },
  {
   "cell_type": "markdown",
   "id": "4e7653ef",
   "metadata": {},
   "source": [
    "Same as the previous example, but use a regular expression for\n",
    "searching instead (dict of regex -> dict):"
   ]
  },
  {
   "cell_type": "code",
   "execution_count": null,
   "id": "bacd8e12",
   "metadata": {
    "hide-output": false
   },
   "outputs": [],
   "source": [
    "df.replace({\"b\": r\"\\s*\\.\\s*\"}, {\"b\": np.nan}, regex=True)"
   ]
  },
  {
   "cell_type": "markdown",
   "id": "866ca2e7",
   "metadata": {},
   "source": [
    "You can pass nested dictionaries of regular expressions that use `regex=True`:"
   ]
  },
  {
   "cell_type": "code",
   "execution_count": null,
   "id": "cce8fb70",
   "metadata": {
    "hide-output": false
   },
   "outputs": [],
   "source": [
    "df.replace({\"b\": {\"b\": r\"\"}}, regex=True)"
   ]
  },
  {
   "cell_type": "markdown",
   "id": "7dde1a43",
   "metadata": {},
   "source": [
    "Alternatively, you can pass the nested dictionary like so:"
   ]
  },
  {
   "cell_type": "code",
   "execution_count": null,
   "id": "e3e282d3",
   "metadata": {
    "hide-output": false
   },
   "outputs": [],
   "source": [
    "df.replace(regex={\"b\": {r\"\\s*\\.\\s*\": np.nan}})"
   ]
  },
  {
   "cell_type": "markdown",
   "id": "7d84d242",
   "metadata": {},
   "source": [
    "You can also use the group of a regular expression match when replacing (dict\n",
    "of regex -> dict of regex), this works for lists as well."
   ]
  },
  {
   "cell_type": "code",
   "execution_count": null,
   "id": "59371cf3",
   "metadata": {
    "hide-output": false
   },
   "outputs": [],
   "source": [
    "df.replace({\"b\": r\"\\s*(\\.)\\s*\"}, {\"b\": r\"\\1ty\"}, regex=True)"
   ]
  },
  {
   "cell_type": "markdown",
   "id": "e6d8ffa7",
   "metadata": {},
   "source": [
    "You can pass a list of regular expressions, of which those that match\n",
    "will be replaced with a scalar (list of regex -> regex)."
   ]
  },
  {
   "cell_type": "code",
   "execution_count": null,
   "id": "658dbfe3",
   "metadata": {
    "hide-output": false
   },
   "outputs": [],
   "source": [
    "df.replace([r\"\\s*\\.\\s*\", r\"a|b\"], np.nan, regex=True)"
   ]
  },
  {
   "cell_type": "markdown",
   "id": "1de11f98",
   "metadata": {},
   "source": [
    "All of the regular expression examples can also be passed with the\n",
    "`to_replace` argument as the `regex` argument. In this case the `value`\n",
    "argument must be passed explicitly by name or `regex` must be a nested\n",
    "dictionary. The previous example, in this case, would then be:"
   ]
  },
  {
   "cell_type": "code",
   "execution_count": null,
   "id": "30c7fd28",
   "metadata": {
    "hide-output": false
   },
   "outputs": [],
   "source": [
    "df.replace(regex=[r\"\\s*\\.\\s*\", r\"a|b\"], value=np.nan)"
   ]
  },
  {
   "cell_type": "markdown",
   "id": "047067f8",
   "metadata": {},
   "source": [
    "This can be convenient if you do not want to pass `regex=True` every time you\n",
    "want to use a regular expression.\n",
    "\n",
    ">**Note**\n",
    ">\n",
    ">Anywhere in the above `replace` examples that you see a regular expression\n",
    "a compiled regular expression is valid as well."
   ]
  },
  {
   "cell_type": "markdown",
   "id": "3eb281a3",
   "metadata": {},
   "source": [
    "## Numeric replacement\n",
    "\n",
    "`replace()` is similar to `fillna()`."
   ]
  },
  {
   "cell_type": "code",
   "execution_count": null,
   "id": "f42ff2ba",
   "metadata": {
    "hide-output": false
   },
   "outputs": [],
   "source": [
    "df = pd.DataFrame(np.random.randn(10, 2))\n",
    "df[np.random.rand(df.shape[0]) > 0.5] = 1.5\n",
    "df.replace(1.5, np.nan)"
   ]
  },
  {
   "cell_type": "markdown",
   "id": "2a370612",
   "metadata": {},
   "source": [
    "Replacing more than one value is possible by passing a list."
   ]
  },
  {
   "cell_type": "code",
   "execution_count": null,
   "id": "83714d7a-1255-485d-be09-f939a0a9470d",
   "metadata": {
    "hide-output": false
   },
   "outputs": [],
   "source": [
    "df00 = df.iloc[0, 0]\n",
    "df.replace([1.6, df00], [np.nan, \"a\"])"
   ]
  },
  {
   "cell_type": "code",
   "execution_count": null,
   "id": "4435ec28-c122-4a30-bf25-8581ca833cf1",
   "metadata": {
    "hide-output": false
   },
   "outputs": [],
   "source": [
    "df[1].dtype"
   ]
  },
  {
   "cell_type": "markdown",
   "id": "1969ea9f",
   "metadata": {},
   "source": [
    "You can also operate on the DataFrame in place:"
   ]
  },
  {
   "cell_type": "code",
   "execution_count": null,
   "id": "020d88a6",
   "metadata": {
    "hide-output": false
   },
   "outputs": [],
   "source": [
    "df.replace(1.5, np.nan, inplace=True)"
   ]
  },
  {
   "cell_type": "markdown",
   "id": "ec90eb39",
   "metadata": {},
   "source": [
    "### Missing data casting rules and indexing\n",
    "\n",
    "While pandas supports storing arrays of integer and boolean type, these types\n",
    "are not capable of storing missing data. Until we can switch to using a native\n",
    "NA type in NumPy, we’ve established some “casting rules”. When a reindexing\n",
    "operation introduces missing data, the Series will be cast according to the\n",
    "rules introduced in the table below.\n",
    "\n",
    "|data type|Cast to|\n",
    "|:--------------------------------------:|:--------------------------------------:|\n",
    "|integer|float|\n",
    "|boolean|object|\n",
    "|float|no cast|\n",
    "|object|no cast|\n",
    "For example:"
   ]
  },
  {
   "cell_type": "code",
   "execution_count": null,
   "id": "9bd7963f-209a-4d80-b9f3-cbf2a6546010",
   "metadata": {
    "hide-output": false
   },
   "outputs": [],
   "source": [
    "s = pd.Series(np.random.randn(5), index=[0, 2, 4, 6, 7])\n",
    "s > 0"
   ]
  },
  {
   "cell_type": "code",
   "execution_count": null,
   "id": "d8552af0-8a2f-44bc-ba40-43163c6310bd",
   "metadata": {
    "hide-output": false
   },
   "outputs": [],
   "source": [
    "(s > 0).dtype"
   ]
  },
  {
   "cell_type": "code",
   "execution_count": null,
   "id": "a2739b24-e7b8-4625-9504-0e46738848e8",
   "metadata": {
    "hide-output": false
   },
   "outputs": [],
   "source": [
    "crit = (s > 0).reindex(list(range(8)))\n",
    "crit"
   ]
  },
  {
   "cell_type": "code",
   "execution_count": null,
   "id": "bff04b16-467e-4992-b300-6162d037c352",
   "metadata": {
    "hide-output": false
   },
   "outputs": [],
   "source": [
    "crit.dtype"
   ]
  },
  {
   "cell_type": "markdown",
   "id": "f8336f9e",
   "metadata": {},
   "source": [
    "Ordinarily NumPy will complain if you try to use an object array (even if it\n",
    "contains boolean values) instead of a boolean array to get or set values from\n",
    "an ndarray (e.g. selecting values based on some criteria). If a boolean vector\n",
    "contains NAs, an exception will be generated:\n",
    "\n",
    "``` Python \n",
    "\n",
    "reindexed = s.reindex(list(range(8))).fillna(0)\n",
    "reindexed[crit]\n",
    "ValueError: Cannot mask with non-boolean array containing NA / NaN values\n",
    "\n",
    "```\n",
    "\n",
    "\n",
    "However, these can be filled in using `fillna()` and it will work fine:"
   ]
  },
  {
   "cell_type": "code",
   "execution_count": null,
   "id": "a4ca6e7d-2744-45b5-bb16-954bf483c608",
   "metadata": {
    "hide-output": false
   },
   "outputs": [],
   "source": [
    "reindexed[crit.fillna(False)]"
   ]
  },
  {
   "cell_type": "code",
   "execution_count": null,
   "id": "aab2daa4-2588-416e-9723-c908e059b644",
   "metadata": {
    "hide-output": false
   },
   "outputs": [],
   "source": [
    "reindexed[crit.fillna(True)]"
   ]
  },
  {
   "cell_type": "markdown",
   "id": "49065bcc",
   "metadata": {},
   "source": [
    "pandas provides a nullable integer dtype, but you must explicitly request it\n",
    "when creating the series or column. Notice that we use a capital “I” in\n",
    "the `dtype=\"Int64\"`."
   ]
  },
  {
   "cell_type": "code",
   "execution_count": null,
   "id": "dbcba98f",
   "metadata": {
    "hide-output": false
   },
   "outputs": [],
   "source": [
    "s = pd.Series([0, 1, np.nan, 3, 4], dtype=\"Int64\")\n",
    "s"
   ]
  },
  {
   "cell_type": "markdown",
   "id": "85f5fe54",
   "metadata": {},
   "source": [
    "See [Nullable integer data type](31_Nullable_integer_na.ipynb#integer-na) for more.\n",
    "\n",
    "\n",
    "<a id='working-with-missing-data-na'></a>"
   ]
  },
  {
   "cell_type": "markdown",
   "id": "d184e3c5",
   "metadata": {},
   "source": [
    "## Experimental `NA` scalar to denote missing values\n",
    "\n",
    "warning:\n",
    "\n",
    "> Experimental: the behaviour of `pd.NA` can still change without warning.\n",
    "\n",
    "\n",
    "New in version 1.0.0.\n",
    "\n",
    "Starting from pandas 1.0, an experimental `pd.NA` value (singleton) is\n",
    "available to represent scalar missing values. At this moment, it is used in\n",
    "the nullable integer, boolean and\n",
    "dedicated string data types as the missing value indicator.\n",
    "\n",
    "The goal of `pd.NA` is provide a “missing” indicator that can be used\n",
    "consistently across data types (instead of `np.nan`, `None` or `pd.NaT`\n",
    "depending on the data type).\n",
    "\n",
    "For example, when having missing values in a Series with the nullable integer\n",
    "dtype, it will use `pd.NA`:"
   ]
  },
  {
   "cell_type": "code",
   "execution_count": null,
   "id": "e92b6267-fb74-41c0-93e8-fe38877dad01",
   "metadata": {
    "hide-output": false
   },
   "outputs": [],
   "source": [
    "s = pd.Series([1, 2, None], dtype=\"Int64\")\n",
    "s"
   ]
  },
  {
   "cell_type": "code",
   "execution_count": null,
   "id": "6874fdd1-8055-4ac7-9617-99f614a4380a",
   "metadata": {
    "hide-output": false
   },
   "outputs": [],
   "source": [
    "s[2]"
   ]
  },
  {
   "cell_type": "code",
   "execution_count": null,
   "id": "2ed4f6fd-c03e-4968-ac48-174319453135",
   "metadata": {
    "hide-output": false
   },
   "outputs": [],
   "source": [
    "s[2] is pd.NA"
   ]
  },
  {
   "cell_type": "markdown",
   "id": "897b01a3",
   "metadata": {},
   "source": [
    "Currently, pandas does not yet use those data types by default (when creating\n",
    "a DataFrame or Series, or when reading in data), so you need to specify\n",
    "the dtype explicitly.  An easy way to convert to those dtypes is explained\n",
    "here."
   ]
  },
  {
   "cell_type": "markdown",
   "id": "468489c0",
   "metadata": {},
   "source": [
    "### Propagation in arithmetic and comparison operations\n",
    "\n",
    "In general, missing values *propagate* in operations involving `pd.NA`. When\n",
    "one of the operands is unknown, the outcome of the operation is also unknown.\n",
    "\n",
    "For example, `pd.NA` propagates in arithmetic operations, similarly to\n",
    "`np.nan`:"
   ]
  },
  {
   "cell_type": "code",
   "execution_count": null,
   "id": "522e2fb6-59c3-4eea-95d7-4eadb000ba74",
   "metadata": {
    "hide-output": false
   },
   "outputs": [],
   "source": [
    "pd.NA + 1"
   ]
  },
  {
   "cell_type": "code",
   "execution_count": null,
   "id": "1c98386a-f428-4304-9569-3a8f089f6cf8",
   "metadata": {
    "hide-output": false
   },
   "outputs": [],
   "source": [
    "\"a\" * pd.NA"
   ]
  },
  {
   "cell_type": "markdown",
   "id": "89636ded",
   "metadata": {},
   "source": [
    "There are a few special cases when the result is known, even when one of the\n",
    "operands is `NA`."
   ]
  },
  {
   "cell_type": "code",
   "execution_count": null,
   "id": "7b5b4eac-c253-4a60-8d90-527db4947f5e",
   "metadata": {
    "hide-output": false
   },
   "outputs": [],
   "source": [
    "pd.NA ** 0"
   ]
  },
  {
   "cell_type": "code",
   "execution_count": null,
   "id": "db20f0ed-88e5-4290-97b0-3df239bc52f1",
   "metadata": {
    "hide-output": false
   },
   "outputs": [],
   "source": [
    "1 ** pd.NA"
   ]
  },
  {
   "cell_type": "markdown",
   "id": "70a854bd",
   "metadata": {},
   "source": [
    "In equality and comparison operations, `pd.NA` also propagates. This deviates\n",
    "from the behaviour of `np.nan`, where comparisons with `np.nan` always\n",
    "return `False`."
   ]
  },
  {
   "cell_type": "code",
   "execution_count": null,
   "id": "5845b260-3f16-4edb-9700-58d0365f762e",
   "metadata": {
    "hide-output": false
   },
   "outputs": [],
   "source": [
    "pd.NA == 1"
   ]
  },
  {
   "cell_type": "code",
   "execution_count": null,
   "id": "8c0675c8-fdb5-4ad1-9db5-43e89a95a626",
   "metadata": {
    "hide-output": false
   },
   "outputs": [],
   "source": [
    "pd.NA == pd.NA"
   ]
  },
  {
   "cell_type": "code",
   "execution_count": null,
   "id": "0fe2f955-734d-4a3d-a48b-0da1657ed92d",
   "metadata": {
    "hide-output": false
   },
   "outputs": [],
   "source": [
    "pd.NA < 2.5"
   ]
  },
  {
   "cell_type": "markdown",
   "id": "50ab3b3b",
   "metadata": {},
   "source": [
    "To check if a value is equal to `pd.NA`, the `isna()` function can be\n",
    "used:"
   ]
  },
  {
   "cell_type": "code",
   "execution_count": null,
   "id": "f69c8258",
   "metadata": {
    "hide-output": false
   },
   "outputs": [],
   "source": [
    "pd.isna(pd.NA)"
   ]
  },
  {
   "cell_type": "markdown",
   "id": "2c7b4ea9",
   "metadata": {},
   "source": [
    "An exception on this basic propagation rule are *reductions* (such as the\n",
    "mean or the minimum), where pandas defaults to skipping missing values. See\n",
    "above for more."
   ]
  },
  {
   "cell_type": "markdown",
   "id": "43bfdb8a",
   "metadata": {},
   "source": [
    "### Logical operations\n",
    "\n",
    "For logical operations, `pd.NA` follows the rules of the\n",
    "[three-valued logic](https://en.wikipedia.org/wiki/Three-valued_logic) (or\n",
    "*Kleene logic*, similarly to R, SQL and Julia). This logic means to only\n",
    "propagate missing values when it is logically required.\n",
    "\n",
    "For example, for the logical “or” operation (`|`), if one of the operands\n",
    "is `True`, we already know the result will be `True`, regardless of the\n",
    "other value (so regardless the missing value would be `True` or `False`).\n",
    "In this case, `pd.NA` does not propagate:"
   ]
  },
  {
   "cell_type": "code",
   "execution_count": null,
   "id": "d1f2712a-261d-4865-8d30-97b0bb5c0bd8",
   "metadata": {
    "hide-output": false
   },
   "outputs": [],
   "source": [
    "True | False"
   ]
  },
  {
   "cell_type": "code",
   "execution_count": null,
   "id": "3ae52511-905c-4dfe-9725-edcda95a10c9",
   "metadata": {
    "hide-output": false
   },
   "outputs": [],
   "source": [
    "True | pd.NA"
   ]
  },
  {
   "cell_type": "code",
   "execution_count": null,
   "id": "0e4c3ac0-b01c-41f7-aed4-7de3b0912daa",
   "metadata": {
    "hide-output": false
   },
   "outputs": [],
   "source": [
    "pd.NA | True"
   ]
  },
  {
   "cell_type": "markdown",
   "id": "7f667b4e",
   "metadata": {},
   "source": [
    "On the other hand, if one of the operands is `False`, the result depends\n",
    "on the value of the other operand. Therefore, in this case `pd.NA`\n",
    "propagates:"
   ]
  },
  {
   "cell_type": "code",
   "execution_count": null,
   "id": "00883c66-408b-4e93-9f06-2fcb2de53f19",
   "metadata": {
    "hide-output": false
   },
   "outputs": [],
   "source": [
    "False | True"
   ]
  },
  {
   "cell_type": "code",
   "execution_count": null,
   "id": "3f4a3a8b-6d06-4e3b-84bc-f664eae521c1",
   "metadata": {
    "hide-output": false
   },
   "outputs": [],
   "source": [
    "False | False"
   ]
  },
  {
   "cell_type": "code",
   "execution_count": null,
   "id": "a05b5825-a6b7-4e5f-a50b-6cb489e3d7cd",
   "metadata": {
    "hide-output": false
   },
   "outputs": [],
   "source": [
    "False | pd.NA"
   ]
  },
  {
   "cell_type": "markdown",
   "id": "238c0314",
   "metadata": {},
   "source": [
    "The behaviour of the logical “and” operation (`&`) can be derived using\n",
    "similar logic (where now `pd.NA` will not propagate if one of the operands\n",
    "is already `False`):"
   ]
  },
  {
   "cell_type": "code",
   "execution_count": null,
   "id": "2b80e17b-ab57-4444-bcdc-b1ab67556950",
   "metadata": {
    "hide-output": false
   },
   "outputs": [],
   "source": [
    "False & True"
   ]
  },
  {
   "cell_type": "code",
   "execution_count": null,
   "id": "12f84a44-abd0-4445-824a-8fd6f3669766",
   "metadata": {
    "hide-output": false
   },
   "outputs": [],
   "source": [
    "False & False"
   ]
  },
  {
   "cell_type": "code",
   "execution_count": null,
   "id": "074d77d3-0fdd-47a9-8600-bbe9e2a01a94",
   "metadata": {
    "hide-output": false
   },
   "outputs": [],
   "source": [
    "False & pd.NA"
   ]
  },
  {
   "cell_type": "code",
   "execution_count": null,
   "id": "e2e520e1-a44f-42d5-97c0-34cf25fc2167",
   "metadata": {
    "hide-output": false
   },
   "outputs": [],
   "source": [
    "True & True"
   ]
  },
  {
   "cell_type": "code",
   "execution_count": null,
   "id": "feaa0869-20f0-41b9-aa36-6eeb51588339",
   "metadata": {
    "hide-output": false
   },
   "outputs": [],
   "source": [
    "True & False"
   ]
  },
  {
   "cell_type": "code",
   "execution_count": null,
   "id": "90068938-6ab7-47ac-8c0d-fba092b80157",
   "metadata": {
    "hide-output": false
   },
   "outputs": [],
   "source": [
    "True & pd.NA"
   ]
  },
  {
   "cell_type": "markdown",
   "id": "7fd200be",
   "metadata": {},
   "source": [
    "### `NA` in a boolean context\n",
    "\n",
    "Since the actual value of an NA is unknown, it is ambiguous to convert NA\n",
    "to a boolean value. The following raises an error:\n",
    "\n",
    "\n",
    "``` Python\n",
    "\n",
    "bool(pd.NA)\n",
    "TypeError: boolean value of NA is ambiguous\n",
    "```\n",
    "\n",
    "This also means that `pd.NA` cannot be used in a context where it is\n",
    "evaluated to a boolean, such as `if condition: ...` where `condition` can\n",
    "potentially be `pd.NA`. In such cases, `isna()` can be used to check\n",
    "for `pd.NA` or `condition` being `pd.NA` can be avoided, for example by\n",
    "filling missing values beforehand.\n",
    "\n",
    "A similar situation occurs when using Series or DataFrame objects in `if`\n",
    "statements, see [Using if/truth statements with pandas](43_FAQ_gotchas.ipynb#gotchas-truth)."
   ]
  },
  {
   "cell_type": "markdown",
   "id": "87811713",
   "metadata": {},
   "source": [
    "### NumPy ufuncs\n",
    "\n",
    "`pandas.NA` implements NumPy’s `__array_ufunc__` protocol. Most ufuncs\n",
    "work with `NA`, and generally return `NA`:"
   ]
  },
  {
   "cell_type": "code",
   "execution_count": null,
   "id": "2caf2663-3986-4ebe-97ed-9b2c67d31ecc",
   "metadata": {
    "hide-output": false
   },
   "outputs": [],
   "source": [
    "np.log(pd.NA)"
   ]
  },
  {
   "cell_type": "code",
   "execution_count": null,
   "id": "f66f1722-054e-4575-92d1-875089c03669",
   "metadata": {
    "hide-output": false
   },
   "outputs": [],
   "source": [
    "np.add(pd.NA, 1)"
   ]
  },
  {
   "cell_type": "markdown",
   "id": "584eb238",
   "metadata": {},
   "source": [
    "warning:\n",
    "\n",
    "> Currently, ufuncs involving an ndarray and `NA` will return an\n",
    "object-dtype filled with NA values."
   ]
  },
  {
   "cell_type": "code",
   "execution_count": null,
   "id": "6e98cf35",
   "metadata": {
    "hide-output": false
   },
   "outputs": [],
   "source": [
    "a = np.array([1, 2, 3])\n",
    "np.greater(a, pd.NA)"
   ]
  },
  {
   "cell_type": "markdown",
   "id": "ab29a6aa",
   "metadata": {},
   "source": [
    "The return type here may change to return a different array type\n",
    "in the future.\n",
    "\n",
    "\n",
    "See [DataFrame interoperability with NumPy functions](20_dsintro.ipynb#dsintro-numpy-interop) for more on ufuncs.\n",
    "\n",
    "\n",
    "<a id='working-with-missing-data-na-conversion'></a>"
   ]
  },
  {
   "cell_type": "markdown",
   "id": "b3aff201",
   "metadata": {},
   "source": [
    "### Conversion\n",
    "\n",
    "If you have a DataFrame or Series using traditional types that have missing data\n",
    "represented using `np.nan`, there are convenience methods\n",
    "`convert_dtypes()` in Series and `convert_dtypes()`\n",
    "in DataFrame that can convert data to use the newer dtypes for integers, strings and\n",
    "booleans listed here. This is especially helpful after reading\n",
    "in data sets when letting the readers such as `read_csv()` and `read_excel()`\n",
    "infer default dtypes.\n",
    "\n",
    "In this example, while the dtypes of all columns are changed, we show the results for\n",
    "the first 10 columns."
   ]
  },
  {
   "cell_type": "code",
   "execution_count": null,
   "id": "374b09f8",
   "metadata": {
    "hide-output": false
   },
   "outputs": [],
   "source": [
    "bb = pd.read_csv(\"../data/baseball.csv\", index_col=\"id\")\n",
    "bb[bb.columns[:10]].dtypes"
   ]
  },
  {
   "cell_type": "code",
   "execution_count": null,
   "id": "18ddf5de",
   "metadata": {
    "hide-output": false
   },
   "outputs": [],
   "source": [
    "bbn = bb.convert_dtypes()\n",
    "bbn[bbn.columns[:10]].dtypes"
   ]
  }
 ],
 "metadata": {
  "date": 1630231087.782687,
  "filename": "28_Working_with_missing_data.rst",
  "kernelspec": {
   "display_name": "Python 3",
   "language": "python",
   "name": "python3"
  },
  "language_info": {
   "codemirror_mode": {
    "name": "ipython",
    "version": 3
   },
   "file_extension": ".py",
   "mimetype": "text/x-python",
   "name": "python",
   "nbconvert_exporter": "python",
   "pygments_lexer": "ipython3",
   "version": "3.8.8"
  },
  "title": "Working with missing data"
 },
 "nbformat": 4,
 "nbformat_minor": 5
}
