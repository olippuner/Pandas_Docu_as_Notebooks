{
 "cells": [
  {
   "cell_type": "markdown",
   "id": "e0dc229c",
   "metadata": {},
   "source": [
    "\n",
    "<a id='min'></a>"
   ]
  },
  {
   "cell_type": "markdown",
   "id": "9ce7b8ef",
   "metadata": {},
   "source": [
    "# 10 minutes to pandas\n",
    "\n",
    "This is a short introduction to pandas, geared mainly for new users.\n",
    "You can see more complex recipes in the Cookbook.\n",
    "\n",
    "Customarily, we import as follows:"
   ]
  },
  {
   "cell_type": "code",
   "execution_count": null,
   "id": "2b1442b0",
   "metadata": {
    "hide-output": false
   },
   "outputs": [],
   "source": [
    "import numpy as np\n",
    "import pandas as pd"
   ]
  },
  {
   "cell_type": "markdown",
   "id": "393cbe22",
   "metadata": {},
   "source": [
    "## Object creation\n",
    "\n",
    "See the Data Structure Intro section.\n",
    "\n",
    "Creating a `Series` by passing a list of values, letting pandas create\n",
    "a default integer index:"
   ]
  },
  {
   "cell_type": "code",
   "execution_count": null,
   "id": "ad199c9f",
   "metadata": {
    "hide-output": false
   },
   "outputs": [],
   "source": [
    "s = pd.Series([1, 3, 5, np.nan, 6, 8])\n",
    "s"
   ]
  },
  {
   "cell_type": "markdown",
   "id": "21ace451",
   "metadata": {},
   "source": [
    "Creating a `DataFrame` by passing a NumPy array, with a datetime index\n",
    "and labeled columns:"
   ]
  },
  {
   "cell_type": "code",
   "execution_count": null,
   "id": "63d7bebf",
   "metadata": {
    "hide-output": false
   },
   "outputs": [],
   "source": [
    "dates = pd.date_range(\"20130101\", periods=6)\n",
    "dates\n",
    "df = pd.DataFrame(np.random.randn(6, 4), index=dates, columns=list(\"ABCD\"))\n",
    "df"
   ]
  },
  {
   "cell_type": "markdown",
   "id": "f354aa29",
   "metadata": {},
   "source": [
    "Creating a `DataFrame` by passing a dict of objects that can be converted to series-like."
   ]
  },
  {
   "cell_type": "code",
   "execution_count": null,
   "id": "f0378fad",
   "metadata": {
    "hide-output": false
   },
   "outputs": [],
   "source": [
    "df2 = pd.DataFrame(\n",
    "    {\n",
    "        \"A\": 1.0,\n",
    "        \"B\": pd.Timestamp(\"20130102\"),\n",
    "        \"C\": pd.Series(1, index=list(range(4)), dtype=\"float32\"),\n",
    "        \"D\": np.array([3] * 4, dtype=\"int32\"),\n",
    "        \"E\": pd.Categorical([\"test\", \"train\", \"test\", \"train\"]),\n",
    "        \"F\": \"foo\",\n",
    "    }\n",
    ")\n",
    "df2"
   ]
  },
  {
   "cell_type": "markdown",
   "id": "730cdd9e",
   "metadata": {},
   "source": [
    "The columns of the resulting `DataFrame` have different\n",
    "dtypes."
   ]
  },
  {
   "cell_type": "code",
   "execution_count": null,
   "id": "957ed073",
   "metadata": {
    "hide-output": false
   },
   "outputs": [],
   "source": [
    "df2.dtypes"
   ]
  },
  {
   "cell_type": "markdown",
   "id": "fc584fab",
   "metadata": {},
   "source": [
    "If you’re using IPython, tab completion for column names (as well as public\n",
    "attributes) is automatically enabled. Here’s a subset of the attributes that\n",
    "will be completed:\n",
    "\n",
    "As you can see, the columns `A`, `B`, `C`, and `D` are automatically\n",
    "tab completed. `E` and `F` are there as well; the rest of the attributes have been\n",
    "truncated for brevity."
   ]
  },
  {
   "cell_type": "markdown",
   "id": "4c98da3d",
   "metadata": {},
   "source": [
    "## Viewing data\n",
    "\n",
    "See the Basics section.\n",
    "\n",
    "Here is how to view the top and bottom rows of the frame:"
   ]
  },
  {
   "cell_type": "code",
   "execution_count": null,
   "id": "81469e88",
   "metadata": {
    "hide-output": false
   },
   "outputs": [],
   "source": [
    "df.head()\n",
    "df.tail(3)"
   ]
  },
  {
   "cell_type": "markdown",
   "id": "adb234a9",
   "metadata": {},
   "source": [
    "Display the index, columns:"
   ]
  },
  {
   "cell_type": "code",
   "execution_count": null,
   "id": "6d6d4dbd",
   "metadata": {
    "hide-output": false
   },
   "outputs": [],
   "source": [
    "df.index\n",
    "df.columns"
   ]
  },
  {
   "cell_type": "markdown",
   "id": "1ab2276b",
   "metadata": {},
   "source": [
    "`DataFrame.to_numpy()` gives a NumPy representation of the underlying data.\n",
    "Note that this can be an expensive operation when your `DataFrame` has\n",
    "columns with different data types, which comes down to a fundamental difference\n",
    "between pandas and NumPy: **NumPy arrays have one dtype for the entire array,\n",
    "while pandas DataFrames have one dtype per column**. When you call\n",
    "`DataFrame.to_numpy()`, pandas will find the NumPy dtype that can hold *all*\n",
    "of the dtypes in the DataFrame. This may end up being `object`, which requires\n",
    "casting every value to a Python object.\n",
    "\n",
    "For `df`, our `DataFrame` of all floating-point values,\n",
    "`DataFrame.to_numpy()` is fast and doesn’t require copying data."
   ]
  },
  {
   "cell_type": "code",
   "execution_count": null,
   "id": "2223d536",
   "metadata": {
    "hide-output": false
   },
   "outputs": [],
   "source": [
    "df.to_numpy()"
   ]
  },
  {
   "cell_type": "markdown",
   "id": "a22899c8",
   "metadata": {},
   "source": [
    "For `df2`, the `DataFrame` with multiple dtypes,\n",
    "`DataFrame.to_numpy()` is relatively expensive."
   ]
  },
  {
   "cell_type": "code",
   "execution_count": null,
   "id": "9eac8be0",
   "metadata": {
    "hide-output": false
   },
   "outputs": [],
   "source": [
    "df2.to_numpy()"
   ]
  },
  {
   "cell_type": "markdown",
   "id": "a2337f91",
   "metadata": {},
   "source": [
    ">**Note**\n",
    ">\n",
    ">`DataFrame.to_numpy()` does *not* include the index or column\n",
    "labels in the output.\n",
    "\n",
    "`describe()` shows a quick statistic summary of your data:"
   ]
  },
  {
   "cell_type": "code",
   "execution_count": null,
   "id": "52e23183",
   "metadata": {
    "hide-output": false
   },
   "outputs": [],
   "source": [
    "df.describe()"
   ]
  },
  {
   "cell_type": "markdown",
   "id": "9833044d",
   "metadata": {},
   "source": [
    "Transposing your data:"
   ]
  },
  {
   "cell_type": "code",
   "execution_count": null,
   "id": "d56699d8",
   "metadata": {
    "hide-output": false
   },
   "outputs": [],
   "source": [
    "df.T"
   ]
  },
  {
   "cell_type": "markdown",
   "id": "5de836df",
   "metadata": {},
   "source": [
    "Sorting by an axis:"
   ]
  },
  {
   "cell_type": "code",
   "execution_count": null,
   "id": "b477e376",
   "metadata": {
    "hide-output": false
   },
   "outputs": [],
   "source": [
    "df.sort_index(axis=1, ascending=False)"
   ]
  },
  {
   "cell_type": "markdown",
   "id": "24bc9bd6",
   "metadata": {},
   "source": [
    "Sorting by values:"
   ]
  },
  {
   "cell_type": "code",
   "execution_count": null,
   "id": "646050db",
   "metadata": {
    "hide-output": false
   },
   "outputs": [],
   "source": [
    "df.sort_values(by=\"B\")"
   ]
  },
  {
   "cell_type": "markdown",
   "id": "eba26113",
   "metadata": {},
   "source": [
    "## Selection\n",
    "\n",
    ">**Note**\n",
    ">\n",
    ">While standard Python / NumPy expressions for selecting and setting are\n",
    "intuitive and come in handy for interactive work, for production code, we\n",
    "recommend the optimized pandas data access methods, `.at`, `.iat`,\n",
    "`.loc` and `.iloc`.\n",
    "\n",
    "See the indexing documentation Indexing and Selecting Data and MultiIndex / Advanced Indexing."
   ]
  },
  {
   "cell_type": "markdown",
   "id": "8deb6e63",
   "metadata": {},
   "source": [
    "### Getting\n",
    "\n",
    "Selecting a single column, which yields a `Series`,\n",
    "equivalent to `df.A`:"
   ]
  },
  {
   "cell_type": "code",
   "execution_count": null,
   "id": "95e4d678",
   "metadata": {
    "hide-output": false
   },
   "outputs": [],
   "source": [
    "df[\"A\"]"
   ]
  },
  {
   "cell_type": "markdown",
   "id": "26fb0142",
   "metadata": {},
   "source": [
    "Selecting via `[]`, which slices the rows."
   ]
  },
  {
   "cell_type": "code",
   "execution_count": null,
   "id": "f8d5229a",
   "metadata": {
    "hide-output": false
   },
   "outputs": [],
   "source": [
    "df[0:3]\n",
    "df[\"20130102\":\"20130104\"]"
   ]
  },
  {
   "cell_type": "markdown",
   "id": "d2411c0f",
   "metadata": {},
   "source": [
    "### Selection by label\n",
    "\n",
    "See more in Selection by Label.\n",
    "\n",
    "For getting a cross section using a label:"
   ]
  },
  {
   "cell_type": "code",
   "execution_count": null,
   "id": "bafedca2",
   "metadata": {
    "hide-output": false
   },
   "outputs": [],
   "source": [
    "df.loc[dates[0]]"
   ]
  },
  {
   "cell_type": "markdown",
   "id": "41126239",
   "metadata": {},
   "source": [
    "Selecting on a multi-axis by label:"
   ]
  },
  {
   "cell_type": "code",
   "execution_count": null,
   "id": "1b1012ef",
   "metadata": {
    "hide-output": false
   },
   "outputs": [],
   "source": [
    "df.loc[:, [\"A\", \"B\"]]"
   ]
  },
  {
   "cell_type": "markdown",
   "id": "54c29511",
   "metadata": {},
   "source": [
    "Showing label slicing, both endpoints are *included*:"
   ]
  },
  {
   "cell_type": "code",
   "execution_count": null,
   "id": "e15560e7",
   "metadata": {
    "hide-output": false
   },
   "outputs": [],
   "source": [
    "df.loc[\"20130102\":\"20130104\", [\"A\", \"B\"]]"
   ]
  },
  {
   "cell_type": "markdown",
   "id": "237f6d58",
   "metadata": {},
   "source": [
    "Reduction in the dimensions of the returned object:"
   ]
  },
  {
   "cell_type": "code",
   "execution_count": null,
   "id": "edc8379c",
   "metadata": {
    "hide-output": false
   },
   "outputs": [],
   "source": [
    "df.loc[\"20130102\", [\"A\", \"B\"]]"
   ]
  },
  {
   "cell_type": "markdown",
   "id": "8c5a8be8",
   "metadata": {},
   "source": [
    "For getting a scalar value:"
   ]
  },
  {
   "cell_type": "code",
   "execution_count": null,
   "id": "3fda0e83",
   "metadata": {
    "hide-output": false
   },
   "outputs": [],
   "source": [
    "df.loc[dates[0], \"A\"]"
   ]
  },
  {
   "cell_type": "markdown",
   "id": "99481606",
   "metadata": {},
   "source": [
    "For getting fast access to a scalar (equivalent to the prior method):"
   ]
  },
  {
   "cell_type": "code",
   "execution_count": null,
   "id": "ace318a9",
   "metadata": {
    "hide-output": false
   },
   "outputs": [],
   "source": [
    "df.at[dates[0], \"A\"]"
   ]
  },
  {
   "cell_type": "markdown",
   "id": "541c7946",
   "metadata": {},
   "source": [
    "### Selection by position\n",
    "\n",
    "See more in Selection by Position.\n",
    "\n",
    "Select via the position of the passed integers:"
   ]
  },
  {
   "cell_type": "code",
   "execution_count": null,
   "id": "a08205c3",
   "metadata": {
    "hide-output": false
   },
   "outputs": [],
   "source": [
    "df.iloc[3]"
   ]
  },
  {
   "cell_type": "markdown",
   "id": "1e6dff0b",
   "metadata": {},
   "source": [
    "By integer slices, acting similar to NumPy/Python:"
   ]
  },
  {
   "cell_type": "code",
   "execution_count": null,
   "id": "72095220",
   "metadata": {
    "hide-output": false
   },
   "outputs": [],
   "source": [
    "df.iloc[3:5, 0:2]"
   ]
  },
  {
   "cell_type": "markdown",
   "id": "fd7a386b",
   "metadata": {},
   "source": [
    "By lists of integer position locations, similar to the NumPy/Python style:"
   ]
  },
  {
   "cell_type": "code",
   "execution_count": null,
   "id": "d300aafe",
   "metadata": {
    "hide-output": false
   },
   "outputs": [],
   "source": [
    "df.iloc[[1, 2, 4], [0, 2]]"
   ]
  },
  {
   "cell_type": "markdown",
   "id": "2194cafc",
   "metadata": {},
   "source": [
    "For slicing rows explicitly:"
   ]
  },
  {
   "cell_type": "code",
   "execution_count": null,
   "id": "85a821d1",
   "metadata": {
    "hide-output": false
   },
   "outputs": [],
   "source": [
    "df.iloc[1:3, :]"
   ]
  },
  {
   "cell_type": "markdown",
   "id": "ddd585be",
   "metadata": {},
   "source": [
    "For slicing columns explicitly:"
   ]
  },
  {
   "cell_type": "code",
   "execution_count": null,
   "id": "25667e95",
   "metadata": {
    "hide-output": false
   },
   "outputs": [],
   "source": [
    "df.iloc[:, 1:3]"
   ]
  },
  {
   "cell_type": "markdown",
   "id": "098faff0",
   "metadata": {},
   "source": [
    "For getting a value explicitly:"
   ]
  },
  {
   "cell_type": "code",
   "execution_count": null,
   "id": "95be519d",
   "metadata": {
    "hide-output": false
   },
   "outputs": [],
   "source": [
    "df.iloc[1, 1]"
   ]
  },
  {
   "cell_type": "markdown",
   "id": "1040e6a7",
   "metadata": {},
   "source": [
    "For getting fast access to a scalar (equivalent to the prior method):"
   ]
  },
  {
   "cell_type": "code",
   "execution_count": null,
   "id": "7073e470",
   "metadata": {
    "hide-output": false
   },
   "outputs": [],
   "source": [
    "df.iat[1, 1]"
   ]
  },
  {
   "cell_type": "markdown",
   "id": "a7f8b77f",
   "metadata": {},
   "source": [
    "### Boolean indexing\n",
    "\n",
    "Using a single column’s values to select data."
   ]
  },
  {
   "cell_type": "code",
   "execution_count": null,
   "id": "467e69ff",
   "metadata": {
    "hide-output": false
   },
   "outputs": [],
   "source": [
    "df[df[\"A\"] > 0]"
   ]
  },
  {
   "cell_type": "markdown",
   "id": "234b3a51",
   "metadata": {},
   "source": [
    "Selecting values from a DataFrame where a boolean condition is met."
   ]
  },
  {
   "cell_type": "code",
   "execution_count": null,
   "id": "3caa6fd4",
   "metadata": {
    "hide-output": false
   },
   "outputs": [],
   "source": [
    "df[df > 0]"
   ]
  },
  {
   "cell_type": "markdown",
   "id": "3cca73a1",
   "metadata": {},
   "source": [
    "Using the `isin()` method for filtering:"
   ]
  },
  {
   "cell_type": "code",
   "execution_count": null,
   "id": "9c80a7c5",
   "metadata": {
    "hide-output": false
   },
   "outputs": [],
   "source": [
    "df2 = df.copy()\n",
    "df2[\"E\"] = [\"one\", \"one\", \"two\", \"three\", \"four\", \"three\"]\n",
    "df2\n",
    "df2[df2[\"E\"].isin([\"two\", \"four\"])]"
   ]
  },
  {
   "cell_type": "markdown",
   "id": "bd1fca67",
   "metadata": {},
   "source": [
    "### Setting\n",
    "\n",
    "Setting a new column automatically aligns the data\n",
    "by the indexes."
   ]
  },
  {
   "cell_type": "code",
   "execution_count": null,
   "id": "9c10bf37",
   "metadata": {
    "hide-output": false
   },
   "outputs": [],
   "source": [
    "s1 = pd.Series([1, 2, 3, 4, 5, 6], index=pd.date_range(\"20130102\", periods=6))\n",
    "s1\n",
    "df[\"F\"] = s1"
   ]
  },
  {
   "cell_type": "markdown",
   "id": "4860074c",
   "metadata": {},
   "source": [
    "Setting values by label:"
   ]
  },
  {
   "cell_type": "code",
   "execution_count": null,
   "id": "e5d05cf1",
   "metadata": {
    "hide-output": false
   },
   "outputs": [],
   "source": [
    "df.at[dates[0], \"A\"] = 0"
   ]
  },
  {
   "cell_type": "markdown",
   "id": "dbf4487f",
   "metadata": {},
   "source": [
    "Setting values by position:"
   ]
  },
  {
   "cell_type": "code",
   "execution_count": null,
   "id": "345be410",
   "metadata": {
    "hide-output": false
   },
   "outputs": [],
   "source": [
    "df.iat[0, 1] = 0"
   ]
  },
  {
   "cell_type": "markdown",
   "id": "8474c169",
   "metadata": {},
   "source": [
    "Setting by assigning with a NumPy array:"
   ]
  },
  {
   "cell_type": "code",
   "execution_count": null,
   "id": "c8b56d9e",
   "metadata": {
    "hide-output": false
   },
   "outputs": [],
   "source": [
    "df.loc[:, \"D\"] = np.array([5] * len(df))"
   ]
  },
  {
   "cell_type": "markdown",
   "id": "2071637a",
   "metadata": {},
   "source": [
    "The result of the prior setting operations."
   ]
  },
  {
   "cell_type": "code",
   "execution_count": null,
   "id": "997ef434",
   "metadata": {
    "hide-output": false
   },
   "outputs": [],
   "source": [
    "df"
   ]
  },
  {
   "cell_type": "markdown",
   "id": "5d54dc47",
   "metadata": {},
   "source": [
    "A `where` operation with setting."
   ]
  },
  {
   "cell_type": "code",
   "execution_count": null,
   "id": "da3de35e",
   "metadata": {
    "hide-output": false
   },
   "outputs": [],
   "source": [
    "df2 = df.copy()\n",
    "df2[df2 > 0] = -df2\n",
    "df2"
   ]
  },
  {
   "cell_type": "markdown",
   "id": "83d9447e",
   "metadata": {},
   "source": [
    "## Missing data\n",
    "\n",
    "pandas primarily uses the value `np.nan` to represent missing data. It is by\n",
    "default not included in computations. See the Missing Data section.\n",
    "\n",
    "Reindexing allows you to change/add/delete the index on a specified axis. This\n",
    "returns a copy of the data."
   ]
  },
  {
   "cell_type": "code",
   "execution_count": null,
   "id": "0d8ef176",
   "metadata": {
    "hide-output": false
   },
   "outputs": [],
   "source": [
    "df1 = df.reindex(index=dates[0:4], columns=list(df.columns) + [\"E\"])\n",
    "df1.loc[dates[0] : dates[1], \"E\"] = 1\n",
    "df1"
   ]
  },
  {
   "cell_type": "markdown",
   "id": "22135281",
   "metadata": {},
   "source": [
    "To drop any rows that have missing data."
   ]
  },
  {
   "cell_type": "code",
   "execution_count": null,
   "id": "27851fe0",
   "metadata": {
    "hide-output": false
   },
   "outputs": [],
   "source": [
    "df1.dropna(how=\"any\")"
   ]
  },
  {
   "cell_type": "markdown",
   "id": "bea8cae5",
   "metadata": {},
   "source": [
    "Filling missing data."
   ]
  },
  {
   "cell_type": "code",
   "execution_count": null,
   "id": "c7328208",
   "metadata": {
    "hide-output": false
   },
   "outputs": [],
   "source": [
    "df1.fillna(value=5)"
   ]
  },
  {
   "cell_type": "markdown",
   "id": "490d5fd3",
   "metadata": {},
   "source": [
    "To get the boolean mask where values are `nan`."
   ]
  },
  {
   "cell_type": "code",
   "execution_count": null,
   "id": "ad115e6b",
   "metadata": {
    "hide-output": false
   },
   "outputs": [],
   "source": [
    "pd.isna(df1)"
   ]
  },
  {
   "cell_type": "markdown",
   "id": "7891c29d",
   "metadata": {},
   "source": [
    "## Operations\n",
    "\n",
    "See the Basic section on Binary Ops."
   ]
  },
  {
   "cell_type": "markdown",
   "id": "fdb5fcc9",
   "metadata": {},
   "source": [
    "### Stats\n",
    "\n",
    "Operations in general *exclude* missing data.\n",
    "\n",
    "Performing a descriptive statistic:"
   ]
  },
  {
   "cell_type": "code",
   "execution_count": null,
   "id": "25d67d3c",
   "metadata": {
    "hide-output": false
   },
   "outputs": [],
   "source": [
    "df.mean()"
   ]
  },
  {
   "cell_type": "markdown",
   "id": "24b04300",
   "metadata": {},
   "source": [
    "Same operation on the other axis:"
   ]
  },
  {
   "cell_type": "code",
   "execution_count": null,
   "id": "5ebac5b9",
   "metadata": {
    "hide-output": false
   },
   "outputs": [],
   "source": [
    "df.mean(1)"
   ]
  },
  {
   "cell_type": "markdown",
   "id": "f4b83bd1",
   "metadata": {},
   "source": [
    "Operating with objects that have different dimensionality and need alignment.\n",
    "In addition, pandas automatically broadcasts along the specified dimension."
   ]
  },
  {
   "cell_type": "code",
   "execution_count": null,
   "id": "689bac32",
   "metadata": {
    "hide-output": false
   },
   "outputs": [],
   "source": [
    "s = pd.Series([1, 3, 5, np.nan, 6, 8], index=dates).shift(2)\n",
    "s\n",
    "df.sub(s, axis=\"index\")"
   ]
  },
  {
   "cell_type": "markdown",
   "id": "8e7a4f9f",
   "metadata": {},
   "source": [
    "### Apply\n",
    "\n",
    "Applying functions to the data:"
   ]
  },
  {
   "cell_type": "code",
   "execution_count": null,
   "id": "b8a6bcca",
   "metadata": {
    "hide-output": false
   },
   "outputs": [],
   "source": [
    "df.apply(np.cumsum)\n",
    "df.apply(lambda x: x.max() - x.min())"
   ]
  },
  {
   "cell_type": "markdown",
   "id": "95eaf1f0",
   "metadata": {},
   "source": [
    "### Histogramming\n",
    "\n",
    "See more at Histogramming and Discretization."
   ]
  },
  {
   "cell_type": "code",
   "execution_count": null,
   "id": "130cb746",
   "metadata": {
    "hide-output": false
   },
   "outputs": [],
   "source": [
    "s = pd.Series(np.random.randint(0, 7, size=10))\n",
    "s\n",
    "s.value_counts()"
   ]
  },
  {
   "cell_type": "markdown",
   "id": "8ba96940",
   "metadata": {},
   "source": [
    "### String Methods\n",
    "\n",
    "Series is equipped with a set of string processing methods in the `str`\n",
    "attribute that make it easy to operate on each element of the array, as in the\n",
    "code snippet below. Note that pattern-matching in `str` generally uses [regular\n",
    "expressions](https://docs.python.org/3/library/re.html) by default (and in\n",
    "some cases always uses them). See more at Vectorized String Methods."
   ]
  },
  {
   "cell_type": "code",
   "execution_count": null,
   "id": "8f11e4e2",
   "metadata": {
    "hide-output": false
   },
   "outputs": [],
   "source": [
    "s = pd.Series([\"A\", \"B\", \"C\", \"Aaba\", \"Baca\", np.nan, \"CABA\", \"dog\", \"cat\"])\n",
    "s.str.lower()"
   ]
  },
  {
   "cell_type": "markdown",
   "id": "1600596b",
   "metadata": {},
   "source": [
    "## Merge"
   ]
  },
  {
   "cell_type": "markdown",
   "id": "f9c90507",
   "metadata": {},
   "source": [
    "### Concat\n",
    "\n",
    "pandas provides various facilities for easily combining together Series and\n",
    "DataFrame objects with various kinds of set logic for the indexes\n",
    "and relational algebra functionality in the case of join / merge-type\n",
    "operations.\n",
    "\n",
    "See the [Merging section](25_merging_join_concat.ipynb#merging).\n",
    "\n",
    "Concatenating pandas objects together with `concat()`:"
   ]
  },
  {
   "cell_type": "code",
   "execution_count": null,
   "id": "d1fa4dcf",
   "metadata": {
    "hide-output": false
   },
   "outputs": [],
   "source": [
    "df = pd.DataFrame(np.random.randn(10, 4))\n",
    "df\n",
    "\n",
    "# break it into pieces\n",
    "pieces = [df[:3], df[3:7], df[7:]]\n",
    "\n",
    "pd.concat(pieces)"
   ]
  },
  {
   "cell_type": "markdown",
   "id": "b1e00505",
   "metadata": {},
   "source": [
    ">**Note**\n",
    ">\n",
    ">Adding a column to a `DataFrame` is relatively fast. However, adding\n",
    "a row requires a copy, and may be expensive. We recommend passing a\n",
    "pre-built list of records to the `DataFrame` constructor instead\n",
    "of building a `DataFrame` by iteratively appending records to it.\n",
    "See [Appending to dataframe](25_merging_join_concat.ipynb#merging-concatenation) for more."
   ]
  },
  {
   "cell_type": "markdown",
   "id": "941bc70d",
   "metadata": {},
   "source": [
    "### Join\n",
    "\n",
    "SQL style merges. See the [Database style joining](25_merging_join_concat.ipynb#merging-join) section."
   ]
  },
  {
   "cell_type": "code",
   "execution_count": null,
   "id": "76aa5785",
   "metadata": {
    "hide-output": false
   },
   "outputs": [],
   "source": [
    "left = pd.DataFrame({\"key\": [\"foo\", \"foo\"], \"lval\": [1, 2]})\n",
    "right = pd.DataFrame({\"key\": [\"foo\", \"foo\"], \"rval\": [4, 5]})\n",
    "left\n",
    "right\n",
    "pd.merge(left, right, on=\"key\")"
   ]
  },
  {
   "cell_type": "markdown",
   "id": "f6aaf5bb",
   "metadata": {},
   "source": [
    "Another example that can be given is:"
   ]
  },
  {
   "cell_type": "code",
   "execution_count": null,
   "id": "21f07078",
   "metadata": {
    "hide-output": false
   },
   "outputs": [],
   "source": [
    "left = pd.DataFrame({\"key\": [\"foo\", \"bar\"], \"lval\": [1, 2]})\n",
    "right = pd.DataFrame({\"key\": [\"foo\", \"bar\"], \"rval\": [4, 5]})\n",
    "left\n",
    "right\n",
    "pd.merge(left, right, on=\"key\")"
   ]
  },
  {
   "cell_type": "markdown",
   "id": "3177d6b4",
   "metadata": {},
   "source": [
    "## Grouping\n",
    "\n",
    "By “group by” we are referring to a process involving one or more of the\n",
    "following steps:\n",
    "\n",
    "- **Splitting** the data into groups based on some criteria  \n",
    "- **Applying** a function to each group independently  \n",
    "- **Combining** the results into a data structure  \n",
    "\n",
    "\n",
    "\n",
    "See the Grouping section."
   ]
  },
  {
   "cell_type": "code",
   "execution_count": null,
   "id": "7e4ca1e3",
   "metadata": {
    "hide-output": false
   },
   "outputs": [],
   "source": [
    "df = pd.DataFrame(\n",
    "    {\n",
    "        \"A\": [\"foo\", \"bar\", \"foo\", \"bar\", \"foo\", \"bar\", \"foo\", \"foo\"],\n",
    "        \"B\": [\"one\", \"one\", \"two\", \"three\", \"two\", \"two\", \"one\", \"three\"],\n",
    "        \"C\": np.random.randn(8),\n",
    "        \"D\": np.random.randn(8),\n",
    "    }\n",
    ")\n",
    "df"
   ]
  },
  {
   "cell_type": "markdown",
   "id": "66838de1",
   "metadata": {},
   "source": [
    "Grouping and then applying the `sum()` function to the resulting\n",
    "groups."
   ]
  },
  {
   "cell_type": "code",
   "execution_count": null,
   "id": "1cd5e2f7",
   "metadata": {
    "hide-output": false
   },
   "outputs": [],
   "source": [
    "df.groupby(\"A\").sum()"
   ]
  },
  {
   "cell_type": "markdown",
   "id": "669df4e8",
   "metadata": {},
   "source": [
    "Grouping by multiple columns forms a hierarchical index, and again we can\n",
    "apply the `sum()` function."
   ]
  },
  {
   "cell_type": "code",
   "execution_count": null,
   "id": "54f04040",
   "metadata": {
    "hide-output": false
   },
   "outputs": [],
   "source": [
    "df.groupby([\"A\", \"B\"]).sum()"
   ]
  },
  {
   "cell_type": "markdown",
   "id": "b3471a44",
   "metadata": {},
   "source": [
    "## Reshaping\n",
    "\n",
    "See the sections on Hierarchical Indexing and\n",
    "Reshaping."
   ]
  },
  {
   "cell_type": "markdown",
   "id": "292366ef",
   "metadata": {},
   "source": [
    "### Stack"
   ]
  },
  {
   "cell_type": "code",
   "execution_count": null,
   "id": "8c9f1b1f",
   "metadata": {
    "hide-output": false
   },
   "outputs": [],
   "source": [
    "tuples = list(\n",
    "    zip(\n",
    "        *[\n",
    "            [\"bar\", \"bar\", \"baz\", \"baz\", \"foo\", \"foo\", \"qux\", \"qux\"],\n",
    "            [\"one\", \"two\", \"one\", \"two\", \"one\", \"two\", \"one\", \"two\"],\n",
    "        ]\n",
    "    )\n",
    ")\n",
    "index = pd.MultiIndex.from_tuples(tuples, names=[\"first\", \"second\"])\n",
    "df = pd.DataFrame(np.random.randn(8, 2), index=index, columns=[\"A\", \"B\"])\n",
    "df2 = df[:4]\n",
    "df2"
   ]
  },
  {
   "cell_type": "markdown",
   "id": "ade8e0da",
   "metadata": {},
   "source": [
    "The `stack()` method “compresses” a level in the DataFrame’s\n",
    "columns."
   ]
  },
  {
   "cell_type": "code",
   "execution_count": null,
   "id": "8cb2d167",
   "metadata": {
    "hide-output": false
   },
   "outputs": [],
   "source": [
    "stacked = df2.stack()\n",
    "stacked"
   ]
  },
  {
   "cell_type": "markdown",
   "id": "1cad1437",
   "metadata": {},
   "source": [
    "With a “stacked” DataFrame or Series (having a `MultiIndex` as the\n",
    "`index`), the inverse operation of `stack()` is\n",
    "`unstack()`, which by default unstacks the **last level**:"
   ]
  },
  {
   "cell_type": "code",
   "execution_count": null,
   "id": "bb27a13e",
   "metadata": {
    "hide-output": false
   },
   "outputs": [],
   "source": [
    "stacked.unstack()\n",
    "stacked.unstack(1)\n",
    "stacked.unstack(0)"
   ]
  },
  {
   "cell_type": "markdown",
   "id": "05152449",
   "metadata": {},
   "source": [
    "### Pivot tables\n",
    "\n",
    "See the section on Pivot Tables."
   ]
  },
  {
   "cell_type": "code",
   "execution_count": null,
   "id": "15143c53",
   "metadata": {
    "hide-output": false
   },
   "outputs": [],
   "source": [
    "df = pd.DataFrame(\n",
    "    {\n",
    "        \"A\": [\"one\", \"one\", \"two\", \"three\"] * 3,\n",
    "        \"B\": [\"A\", \"B\", \"C\"] * 4,\n",
    "        \"C\": [\"foo\", \"foo\", \"foo\", \"bar\", \"bar\", \"bar\"] * 2,\n",
    "        \"D\": np.random.randn(12),\n",
    "        \"E\": np.random.randn(12),\n",
    "    }\n",
    ")\n",
    "df"
   ]
  },
  {
   "cell_type": "markdown",
   "id": "fed09609",
   "metadata": {},
   "source": [
    "We can produce pivot tables from this data very easily:"
   ]
  },
  {
   "cell_type": "code",
   "execution_count": null,
   "id": "8bad3490",
   "metadata": {
    "hide-output": false
   },
   "outputs": [],
   "source": [
    "pd.pivot_table(df, values=\"D\", index=[\"A\", \"B\"], columns=[\"C\"])"
   ]
  },
  {
   "cell_type": "markdown",
   "id": "36d59792",
   "metadata": {},
   "source": [
    "## Time series\n",
    "\n",
    "pandas has simple, powerful, and efficient functionality for performing\n",
    "resampling operations during frequency conversion (e.g., converting secondly\n",
    "data into 5-minutely data). This is extremely common in, but not limited to,\n",
    "financial applications. See the Time Series section."
   ]
  },
  {
   "cell_type": "code",
   "execution_count": null,
   "id": "23e066a6",
   "metadata": {
    "hide-output": false
   },
   "outputs": [],
   "source": [
    "rng = pd.date_range(\"1/1/2012\", periods=100, freq=\"S\")\n",
    "ts = pd.Series(np.random.randint(0, 500, len(rng)), index=rng)\n",
    "ts.resample(\"5Min\").sum()"
   ]
  },
  {
   "cell_type": "markdown",
   "id": "7fae256d",
   "metadata": {},
   "source": [
    "Time zone representation:"
   ]
  },
  {
   "cell_type": "code",
   "execution_count": null,
   "id": "15f4dc58",
   "metadata": {
    "hide-output": false
   },
   "outputs": [],
   "source": [
    "rng = pd.date_range(\"3/6/2012 00:00\", periods=5, freq=\"D\")\n",
    "ts = pd.Series(np.random.randn(len(rng)), rng)\n",
    "ts\n",
    "ts_utc = ts.tz_localize(\"UTC\")\n",
    "ts_utc"
   ]
  },
  {
   "cell_type": "markdown",
   "id": "df7b9c6a",
   "metadata": {},
   "source": [
    "Converting to another time zone:"
   ]
  },
  {
   "cell_type": "code",
   "execution_count": null,
   "id": "26ab19e7",
   "metadata": {
    "hide-output": false
   },
   "outputs": [],
   "source": [
    "ts_utc.tz_convert(\"US/Eastern\")"
   ]
  },
  {
   "cell_type": "markdown",
   "id": "43c79a3f",
   "metadata": {},
   "source": [
    "Converting between time span representations:"
   ]
  },
  {
   "cell_type": "code",
   "execution_count": null,
   "id": "3dc2b26e",
   "metadata": {
    "hide-output": false
   },
   "outputs": [],
   "source": [
    "rng = pd.date_range(\"1/1/2012\", periods=5, freq=\"M\")\n",
    "ts = pd.Series(np.random.randn(len(rng)), index=rng)\n",
    "ts\n",
    "ps = ts.to_period()\n",
    "ps\n",
    "ps.to_timestamp()"
   ]
  },
  {
   "cell_type": "markdown",
   "id": "64522d5f",
   "metadata": {},
   "source": [
    "Converting between period and timestamp enables some convenient arithmetic\n",
    "functions to be used. In the following example, we convert a quarterly\n",
    "frequency with year ending in November to 9am of the end of the month following\n",
    "the quarter end:"
   ]
  },
  {
   "cell_type": "code",
   "execution_count": null,
   "id": "ae00548f",
   "metadata": {
    "hide-output": false
   },
   "outputs": [],
   "source": [
    "prng = pd.period_range(\"1990Q1\", \"2000Q4\", freq=\"Q-NOV\")\n",
    "ts = pd.Series(np.random.randn(len(prng)), prng)\n",
    "ts.index = (prng.asfreq(\"M\", \"e\") + 1).asfreq(\"H\", \"s\") + 9\n",
    "ts.head()"
   ]
  },
  {
   "cell_type": "markdown",
   "id": "5b6fb90a",
   "metadata": {},
   "source": [
    "## Categoricals\n",
    "\n",
    "pandas can include categorical data in a `DataFrame`. For full docs, see the\n",
    "categorical introduction and the [API documentation](../05_reference/14_Pandas_Arrays.ipynb#api-arrays-categorical)."
   ]
  },
  {
   "cell_type": "code",
   "execution_count": null,
   "id": "079734e4",
   "metadata": {
    "hide-output": false
   },
   "outputs": [],
   "source": [
    "df = pd.DataFrame(\n",
    "    {\"id\": [1, 2, 3, 4, 5, 6], \"raw_grade\": [\"a\", \"b\", \"b\", \"a\", \"a\", \"e\"]}\n",
    ")"
   ]
  },
  {
   "cell_type": "markdown",
   "id": "3dfd2298",
   "metadata": {},
   "source": [
    "Convert the raw grades to a categorical data type."
   ]
  },
  {
   "cell_type": "code",
   "execution_count": null,
   "id": "b3c380aa",
   "metadata": {
    "hide-output": false
   },
   "outputs": [],
   "source": [
    "df[\"grade\"] = df[\"raw_grade\"].astype(\"category\")\n",
    "df[\"grade\"]"
   ]
  },
  {
   "cell_type": "markdown",
   "id": "944c7dec",
   "metadata": {},
   "source": [
    "Rename the categories to more meaningful names (assigning to\n",
    "`Series.cat.categories()` is in place!)."
   ]
  },
  {
   "cell_type": "code",
   "execution_count": null,
   "id": "5b502a47",
   "metadata": {
    "hide-output": false
   },
   "outputs": [],
   "source": [
    "df[\"grade\"].cat.categories = [\"very good\", \"good\", \"very bad\"]"
   ]
  },
  {
   "cell_type": "markdown",
   "id": "454947ef",
   "metadata": {},
   "source": [
    "Reorder the categories and simultaneously add the missing categories (methods under `Series.cat()` return a new `Series` by default)."
   ]
  },
  {
   "cell_type": "code",
   "execution_count": null,
   "id": "738058cb",
   "metadata": {
    "hide-output": false
   },
   "outputs": [],
   "source": [
    "df[\"grade\"] = df[\"grade\"].cat.set_categories(\n",
    "    [\"very bad\", \"bad\", \"medium\", \"good\", \"very good\"]\n",
    ")\n",
    "df[\"grade\"]"
   ]
  },
  {
   "cell_type": "markdown",
   "id": "54475670",
   "metadata": {},
   "source": [
    "Sorting is per order in the categories, not lexical order."
   ]
  },
  {
   "cell_type": "code",
   "execution_count": null,
   "id": "010b3e1b",
   "metadata": {
    "hide-output": false
   },
   "outputs": [],
   "source": [
    "df.sort_values(by=\"grade\")"
   ]
  },
  {
   "cell_type": "markdown",
   "id": "3ff03a3f",
   "metadata": {},
   "source": [
    "Grouping by a categorical column also shows empty categories."
   ]
  },
  {
   "cell_type": "code",
   "execution_count": null,
   "id": "1f2f6b51",
   "metadata": {
    "hide-output": false
   },
   "outputs": [],
   "source": [
    "df.groupby(\"grade\").size()"
   ]
  },
  {
   "cell_type": "markdown",
   "id": "71bf9432",
   "metadata": {},
   "source": [
    "## Plotting\n",
    "\n",
    "See the Plotting docs.\n",
    "\n",
    "We use the standard convention for referencing the matplotlib API:"
   ]
  },
  {
   "cell_type": "code",
   "execution_count": null,
   "id": "2cd9431e",
   "metadata": {
    "hide-output": false
   },
   "outputs": [],
   "source": [
    "import matplotlib.pyplot as plt\n",
    "\n",
    "plt.close(\"all\")"
   ]
  },
  {
   "cell_type": "markdown",
   "id": "ea443978",
   "metadata": {},
   "source": [
    "The `close()` method is used to [close](https://matplotlib.org/3.1.1/api/_as_gen/matplotlib.pyplot.close.html) a figure window."
   ]
  },
  {
   "cell_type": "code",
   "execution_count": null,
   "id": "43008584",
   "metadata": {
    "hide-output": false
   },
   "outputs": [],
   "source": [
    "ts = pd.Series(np.random.randn(1000), index=pd.date_range(\"1/1/2000\", periods=1000))\n",
    "ts = ts.cumsum()\n",
    "\n",
    "ts.plot();"
   ]
  },
  {
   "cell_type": "markdown",
   "id": "c5612810",
   "metadata": {},
   "source": [
    "On a DataFrame, the `plot()` method is a convenience to plot all\n",
    "of the columns with labels:"
   ]
  },
  {
   "cell_type": "code",
   "execution_count": null,
   "id": "260a51a1",
   "metadata": {
    "hide-output": false
   },
   "outputs": [],
   "source": [
    "df = pd.DataFrame(\n",
    "    np.random.randn(1000, 4), index=ts.index, columns=[\"A\", \"B\", \"C\", \"D\"]\n",
    ")\n",
    "\n",
    "df = df.cumsum()\n",
    "\n",
    "plt.figure();\n",
    "df.plot();\n",
    "plt.legend(loc='best');"
   ]
  },
  {
   "cell_type": "markdown",
   "id": "16019f59",
   "metadata": {},
   "source": [
    "## Getting data in/out"
   ]
  },
  {
   "cell_type": "markdown",
   "id": "cbfd0960",
   "metadata": {},
   "source": [
    "### CSV\n",
    "\n",
    "Writing to a csv file."
   ]
  },
  {
   "cell_type": "code",
   "execution_count": null,
   "id": "d563ffcb",
   "metadata": {
    "hide-output": false
   },
   "outputs": [],
   "source": [
    "df.to_csv(\"foo.csv\")"
   ]
  },
  {
   "cell_type": "markdown",
   "id": "b8a34d4b",
   "metadata": {},
   "source": [
    "Reading from a csv file."
   ]
  },
  {
   "cell_type": "code",
   "execution_count": null,
   "id": "5a5dd71c",
   "metadata": {
    "hide-output": false
   },
   "outputs": [],
   "source": [
    "pd.read_csv(\"foo.csv\")"
   ]
  },
  {
   "cell_type": "markdown",
   "id": "0ff9513e",
   "metadata": {},
   "source": [
    "### HDF5\n",
    "\n",
    "Reading and writing to HDFStores.\n",
    "\n",
    "Writing to a HDF5 Store."
   ]
  },
  {
   "cell_type": "code",
   "execution_count": null,
   "id": "212d27a9",
   "metadata": {
    "hide-output": false
   },
   "outputs": [],
   "source": [
    "df.to_hdf(\"foo.h5\", \"df\")"
   ]
  },
  {
   "cell_type": "markdown",
   "id": "25565f00",
   "metadata": {},
   "source": [
    "Reading from a HDF5 Store."
   ]
  },
  {
   "cell_type": "code",
   "execution_count": null,
   "id": "c05334b2",
   "metadata": {
    "hide-output": false
   },
   "outputs": [],
   "source": [
    "pd.read_hdf(\"foo.h5\", \"df\")"
   ]
  },
  {
   "cell_type": "code",
   "execution_count": null,
   "id": "50f61edb",
   "metadata": {},
   "outputs": [],
   "source": [
    "#cleanup\n",
    "import os\n",
    "os.remove(\"foo.csv\")\n",
    "os.remove(\"foo.h5\")\n"
   ]
  },
  {
   "cell_type": "markdown",
   "id": "15b3da8c",
   "metadata": {},
   "source": [
    "### Excel\n",
    "\n",
    "Reading and writing to MS Excel.\n",
    "\n",
    "Writing to an excel file."
   ]
  },
  {
   "cell_type": "code",
   "execution_count": null,
   "id": "009d28ff",
   "metadata": {
    "hide-output": false
   },
   "outputs": [],
   "source": [
    "df.to_excel(\"foo.xlsx\", sheet_name=\"Sheet1\")"
   ]
  },
  {
   "cell_type": "markdown",
   "id": "3441eff2",
   "metadata": {},
   "source": [
    "Reading from an excel file."
   ]
  },
  {
   "cell_type": "code",
   "execution_count": null,
   "id": "4945d51f",
   "metadata": {
    "hide-output": false
   },
   "outputs": [],
   "source": [
    "pd.read_excel(\"foo.xlsx\", \"Sheet1\", index_col=None, na_values=[\"NA\"])"
   ]
  },
  {
   "cell_type": "code",
   "execution_count": null,
   "id": "335c32c8",
   "metadata": {},
   "outputs": [],
   "source": [
    "os.remove(\"foo.xlsx\")"
   ]
  },
  {
   "cell_type": "markdown",
   "id": "425d3156",
   "metadata": {},
   "source": [
    "## Gotchas\n",
    "\n",
    "If you are attempting to perform an operation you might see an exception like:"
   ]
  },
  {
   "cell_type": "markdown",
   "id": "c71af105",
   "metadata": {
    "hide-output": false
   },
   "source": [
    "```python\n",
    ">>> if pd.Series([False, True, False]):\n",
    "...     print(\"I was true\")\n",
    "Traceback\n",
    "    ...\n",
    "ValueError: The truth value of an array is ambiguous. Use a.empty, a.any() or a.all().\n",
    "```\n"
   ]
  },
  {
   "cell_type": "markdown",
   "id": "698de348",
   "metadata": {},
   "source": [
    "See Comparisons for an explanation and what to do.\n",
    "\n",
    "See Gotchas as well."
   ]
  },
  {
   "cell_type": "code",
   "execution_count": null,
   "id": "05b2120c",
   "metadata": {},
   "outputs": [],
   "source": []
  }
 ],
 "metadata": {
  "date": 1630231081.923482,
  "filename": "10min.rst",
  "kernelspec": {
   "display_name": "Python 3",
   "language": "python",
   "name": "python3"
  },
  "language_info": {
   "codemirror_mode": {
    "name": "ipython",
    "version": 3
   },
   "file_extension": ".py",
   "mimetype": "text/x-python",
   "name": "python",
   "nbconvert_exporter": "python",
   "pygments_lexer": "ipython3",
   "version": "3.8.8"
  },
  "latex_envs": {
   "LaTeX_envs_menu_present": true,
   "autoclose": false,
   "autocomplete": true,
   "bibliofile": "biblio.bib",
   "cite_by": "apalike",
   "current_citInitial": 1,
   "eqLabelWithNumbers": true,
   "eqNumInitial": 1,
   "hotkeys": {
    "equation": "Ctrl-E",
    "itemize": "Ctrl-I"
   },
   "labels_anchors": false,
   "latex_user_defs": false,
   "report_style_numbering": false,
   "user_envs_cfg": false
  },
  "title": "10 minutes to pandas"
 },
 "nbformat": 4,
 "nbformat_minor": 5
}
