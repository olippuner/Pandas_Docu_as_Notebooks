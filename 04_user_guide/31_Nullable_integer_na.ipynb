{
 "cells": [
  {
   "cell_type": "code",
   "execution_count": null,
   "id": "df408e25-d40b-4b4f-8575-1a385b884b32",
   "metadata": {},
   "outputs": [],
   "source": [
    "import numpy as np\n",
    "import pandas as pd\n",
    "import matplotlib.pyplot as plt"
   ]
  },
  {
   "cell_type": "markdown",
   "id": "32576663",
   "metadata": {},
   "source": [
    "\n",
    "<a id='integer-na'></a>"
   ]
  },
  {
   "cell_type": "markdown",
   "id": "0404f340",
   "metadata": {},
   "source": [
    "# Nullable integer data type\n",
    "\n",
    ">**Note**\n",
    ">\n",
    ">IntegerArray is currently experimental. Its API or implementation may\n",
    "change without warning.\n",
    "\n",
    "Changed in version 1.0.0: Now uses `pandas.NA` as the missing value rather\n",
    "than `numpy.nan`.\n",
    "\n",
    "In missing_data, we saw that pandas primarily uses `NaN` to represent\n",
    "missing data. Because `NaN` is a float, this forces an array of integers with\n",
    "any missing values to become floating point. In some cases, this may not matter\n",
    "much. But if your integer column is, say, an identifier, casting to float can\n",
    "be problematic. Some integers cannot even be represented as floating point\n",
    "numbers."
   ]
  },
  {
   "cell_type": "markdown",
   "id": "ae015d6a",
   "metadata": {},
   "source": [
    "## Construction\n",
    "\n",
    "pandas can represent integer data with possibly missing values using\n",
    "`arrays.IntegerArray`. This is an extension types\n",
    "implemented within pandas."
   ]
  },
  {
   "cell_type": "code",
   "execution_count": null,
   "id": "9f7c84af",
   "metadata": {
    "hide-output": false
   },
   "outputs": [],
   "source": [
    "arr = pd.array([1, 2, None], dtype=pd.Int64Dtype())\n",
    "arr"
   ]
  },
  {
   "cell_type": "markdown",
   "id": "7924e0b0",
   "metadata": {},
   "source": [
    "Or the string alias `\"Int64\"` (note the capital `\"I\"`, to differentiate from\n",
    "NumPy’s `'int64'` dtype:"
   ]
  },
  {
   "cell_type": "code",
   "execution_count": null,
   "id": "aa35dc10",
   "metadata": {
    "hide-output": false
   },
   "outputs": [],
   "source": [
    "pd.array([1, 2, np.nan], dtype=\"Int64\")"
   ]
  },
  {
   "cell_type": "markdown",
   "id": "966acd69",
   "metadata": {},
   "source": [
    "All NA-like values are replaced with `pandas.NA`."
   ]
  },
  {
   "cell_type": "code",
   "execution_count": null,
   "id": "f61f0718",
   "metadata": {
    "hide-output": false
   },
   "outputs": [],
   "source": [
    "pd.array([1, 2, np.nan, None, pd.NA], dtype=\"Int64\")"
   ]
  },
  {
   "cell_type": "markdown",
   "id": "e1da60a2",
   "metadata": {},
   "source": [
    "This array can be stored in a `DataFrame` or `Series` like any\n",
    "NumPy array."
   ]
  },
  {
   "cell_type": "code",
   "execution_count": null,
   "id": "cb2f50fa",
   "metadata": {
    "hide-output": false
   },
   "outputs": [],
   "source": [
    "pd.Series(arr)"
   ]
  },
  {
   "cell_type": "markdown",
   "id": "fef70ffc",
   "metadata": {},
   "source": [
    "You can also pass the list-like object to the `Series` constructor\n",
    "with the dtype.\n",
    "\n",
    "Currently `pandas.array()` and `pandas.Series()` use different\n",
    "rules for dtype inference. `pandas.array()` will infer a nullable-\n",
    "integer dtype"
   ]
  },
  {
   "cell_type": "code",
   "execution_count": null,
   "id": "a976b316-29d0-470c-9a5e-0fee11db5c12",
   "metadata": {
    "hide-output": false
   },
   "outputs": [],
   "source": [
    "pd.array([1, None])"
   ]
  },
  {
   "cell_type": "code",
   "execution_count": null,
   "id": "76067d55-9282-4a19-827d-56fd613f120d",
   "metadata": {
    "hide-output": false
   },
   "outputs": [],
   "source": [
    "pd.array([1, 2])"
   ]
  },
  {
   "cell_type": "markdown",
   "id": "e3faa831",
   "metadata": {},
   "source": [
    "For backwards-compatibility, `Series` infers these as either\n",
    "integer or float dtype"
   ]
  },
  {
   "cell_type": "code",
   "execution_count": null,
   "id": "5cfa6ae5-348c-42ce-8c11-049defc7bf3e",
   "metadata": {
    "hide-output": false
   },
   "outputs": [],
   "source": [
    "pd.Series([1, None])"
   ]
  },
  {
   "cell_type": "code",
   "execution_count": null,
   "id": "c29450f4-b6f9-4291-b041-a527da45a1c1",
   "metadata": {
    "hide-output": false
   },
   "outputs": [],
   "source": [
    "pd.Series([1, 2])"
   ]
  },
  {
   "cell_type": "markdown",
   "id": "4118ebc3",
   "metadata": {},
   "source": [
    "We recommend explicitly providing the dtype to avoid confusion."
   ]
  },
  {
   "cell_type": "code",
   "execution_count": null,
   "id": "a37578bd-d546-48b8-b364-26b67a2f05ee",
   "metadata": {
    "hide-output": false
   },
   "outputs": [],
   "source": [
    "pd.array([1, None], dtype=\"Int64\")"
   ]
  },
  {
   "cell_type": "code",
   "execution_count": null,
   "id": "4884de1a-6515-410e-b8ef-d5634101799e",
   "metadata": {
    "hide-output": false
   },
   "outputs": [],
   "source": [
    "pd.Series([1, None], dtype=\"Int64\")"
   ]
  },
  {
   "cell_type": "markdown",
   "id": "06ed2884",
   "metadata": {},
   "source": [
    "In the future, we may provide an option for `Series` to infer a\n",
    "nullable-integer dtype."
   ]
  },
  {
   "cell_type": "markdown",
   "id": "f8e695f4",
   "metadata": {},
   "source": [
    "## Operations\n",
    "\n",
    "Operations involving an integer array will behave similar to NumPy arrays.\n",
    "Missing values will be propagated, and the data will be coerced to another\n",
    "dtype if needed."
   ]
  },
  {
   "cell_type": "code",
   "execution_count": null,
   "id": "b7914c15-831f-46cc-822d-8fda6b3267d4",
   "metadata": {
    "hide-output": false
   },
   "outputs": [],
   "source": [
    "s = pd.Series([1, 2, None], dtype=\"Int64\")\n",
    "\n",
    "# arithmetic\n",
    "s + 1"
   ]
  },
  {
   "cell_type": "code",
   "execution_count": null,
   "id": "0d5b248b-4373-4328-9109-a66527e69f98",
   "metadata": {
    "hide-output": false
   },
   "outputs": [],
   "source": [
    "# comparison\n",
    "s == 1"
   ]
  },
  {
   "cell_type": "code",
   "execution_count": null,
   "id": "300ab0d9-2b67-4175-b092-e221a432bd89",
   "metadata": {
    "hide-output": false
   },
   "outputs": [],
   "source": [
    "# indexing\n",
    "s.iloc[1:3]"
   ]
  },
  {
   "cell_type": "code",
   "execution_count": null,
   "id": "12856ed1-8d90-4665-9a50-0c24569158a3",
   "metadata": {
    "hide-output": false
   },
   "outputs": [],
   "source": [
    "# operate with other dtypes\n",
    "s + s.iloc[1:3].astype(\"Int8\")"
   ]
  },
  {
   "cell_type": "code",
   "execution_count": null,
   "id": "f5cb9f90-b2f1-4fbd-8015-68190e6c8d35",
   "metadata": {
    "hide-output": false
   },
   "outputs": [],
   "source": [
    "# coerce when needed\n",
    "s + 0.01"
   ]
  },
  {
   "cell_type": "markdown",
   "id": "1d436c3d",
   "metadata": {},
   "source": [
    "These dtypes can operate as part of `DataFrame`."
   ]
  },
  {
   "cell_type": "code",
   "execution_count": null,
   "id": "73979adc-e478-4cf6-a5dc-3a671fa29a36",
   "metadata": {
    "hide-output": false
   },
   "outputs": [],
   "source": [
    "df = pd.DataFrame({\"A\": s, \"B\": [1, 1, 3], \"C\": list(\"aab\")})\n",
    "df"
   ]
  },
  {
   "cell_type": "code",
   "execution_count": null,
   "id": "1e6037b9-f620-4696-8ab1-42d82dfc7bd1",
   "metadata": {
    "hide-output": false
   },
   "outputs": [],
   "source": [
    "df.dtypes"
   ]
  },
  {
   "cell_type": "markdown",
   "id": "b9d77446",
   "metadata": {},
   "source": [
    "These dtypes can be merged & reshaped & casted."
   ]
  },
  {
   "cell_type": "code",
   "execution_count": null,
   "id": "929ca4c8",
   "metadata": {
    "hide-output": false
   },
   "outputs": [],
   "source": [
    "pd.concat([df[[\"A\"]], df[[\"B\", \"C\"]]], axis=1).dtypes\n",
    "df[\"A\"].astype(float)"
   ]
  },
  {
   "cell_type": "markdown",
   "id": "42625747",
   "metadata": {},
   "source": [
    "Reduction and groupby operations such as ‘sum’ work as well."
   ]
  },
  {
   "cell_type": "code",
   "execution_count": null,
   "id": "220be980-1dc8-47ca-94fa-7e2b5f4165ef",
   "metadata": {
    "hide-output": false
   },
   "outputs": [],
   "source": [
    "df.sum()"
   ]
  },
  {
   "cell_type": "code",
   "execution_count": null,
   "id": "64a4b5a3-2f25-47ca-8122-dfc5a48c35a0",
   "metadata": {
    "hide-output": false
   },
   "outputs": [],
   "source": [
    "df.groupby(\"B\").A.sum()"
   ]
  },
  {
   "cell_type": "markdown",
   "id": "64e3ee95",
   "metadata": {},
   "source": [
    "## Scalar NA Value\n",
    "\n",
    "`arrays.IntegerArray` uses `pandas.NA` as its scalar\n",
    "missing value. Slicing a single element that’s missing will return\n",
    "`pandas.NA`"
   ]
  },
  {
   "cell_type": "code",
   "execution_count": null,
   "id": "6e5a473c",
   "metadata": {
    "hide-output": false
   },
   "outputs": [],
   "source": [
    "a = pd.array([1, None], dtype=\"Int64\")\n",
    "a[1]"
   ]
  }
 ],
 "metadata": {
  "date": 1630231088.654364,
  "filename": "31_Nullable_integer_na.rst",
  "kernelspec": {
   "display_name": "Python 3",
   "language": "python",
   "name": "python3"
  },
  "language_info": {
   "codemirror_mode": {
    "name": "ipython",
    "version": 3
   },
   "file_extension": ".py",
   "mimetype": "text/x-python",
   "name": "python",
   "nbconvert_exporter": "python",
   "pygments_lexer": "ipython3",
   "version": "3.8.8"
  },
  "title": "Nullable integer data type"
 },
 "nbformat": 4,
 "nbformat_minor": 5
}
