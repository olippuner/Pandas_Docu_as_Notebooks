{
 "cells": [
  {
   "cell_type": "code",
   "execution_count": null,
   "id": "28b2c018-50b8-464a-81cc-68ec539338c0",
   "metadata": {},
   "outputs": [],
   "source": [
    "import numpy as np\n",
    "import pandas as pd\n",
    "import matplotlib.pyplot as plt"
   ]
  },
  {
   "cell_type": "markdown",
   "id": "863e9700",
   "metadata": {},
   "source": [
    "# Categorical data\n",
    "\n",
    "This is an introduction to pandas categorical data type, including a short comparison\n",
    "with R’s `factor`.\n",
    "\n",
    "`Categoricals` are a pandas data type corresponding to categorical variables in\n",
    "statistics. A categorical variable takes on a limited, and usually fixed,\n",
    "number of possible values (`categories`; `levels` in R). Examples are gender,\n",
    "social class, blood type, country affiliation, observation time or rating via\n",
    "Likert scales.\n",
    "\n",
    "In contrast to statistical categorical variables, categorical data might have an order (e.g.\n",
    "‘strongly agree’ vs ‘agree’ or ‘first observation’ vs. ‘second observation’), but numerical\n",
    "operations (additions, divisions, …) are not possible.\n",
    "\n",
    "All values of categorical data are either in `categories` or `np.nan`. Order is defined by\n",
    "the order of `categories`, not lexical order of the values. Internally, the data structure\n",
    "consists of a `categories` array and an integer array of `codes` which point to the real value in\n",
    "the `categories` array.\n",
    "\n",
    "The categorical data type is useful in the following cases:\n",
    "\n",
    "- A string variable consisting of only a few different values. Converting such a string\n",
    "  variable to a categorical variable will save some memory, see here.  \n",
    "- The lexical order of a variable is not the same as the logical order (“one”, “two”, “three”).\n",
    "  By converting to a categorical and specifying an order on the categories, sorting and\n",
    "  min/max will use the logical order instead of the lexical order, see here.  \n",
    "- As a signal to other Python libraries that this column should be treated as a categorical\n",
    "  variable (e.g. to use suitable statistical methods or plot types).  \n",
    "\n",
    "\n",
    "See also the [API docs on categoricals](../05_reference/14_Pandas_Arrays.ipynb#api-arrays-categorical).\n",
    "\n",
    "\n",
    "<a id='categorical-objectcreation'></a>"
   ]
  },
  {
   "cell_type": "markdown",
   "id": "171ea454",
   "metadata": {},
   "source": [
    "## Object creation"
   ]
  },
  {
   "cell_type": "markdown",
   "id": "ed98469b",
   "metadata": {},
   "source": [
    "### Series creation\n",
    "\n",
    "Categorical `Series` or columns in a `DataFrame` can be created in several ways:\n",
    "\n",
    "By specifying `dtype=\"category\"` when constructing a `Series`:"
   ]
  },
  {
   "cell_type": "code",
   "execution_count": null,
   "id": "6b432692",
   "metadata": {
    "hide-output": false
   },
   "outputs": [],
   "source": [
    "s = pd.Series([\"a\", \"b\", \"c\", \"a\"], dtype=\"category\")\n",
    "s"
   ]
  },
  {
   "cell_type": "markdown",
   "id": "98ea58c1",
   "metadata": {},
   "source": [
    "By converting an existing `Series` or column to a `category` dtype:"
   ]
  },
  {
   "cell_type": "code",
   "execution_count": null,
   "id": "8ccf2547",
   "metadata": {
    "hide-output": false
   },
   "outputs": [],
   "source": [
    "df = pd.DataFrame({\"A\": [\"a\", \"b\", \"c\", \"a\"]})\n",
    "df[\"B\"] = df[\"A\"].astype(\"category\")\n",
    "df"
   ]
  },
  {
   "cell_type": "markdown",
   "id": "b87c2b78",
   "metadata": {},
   "source": [
    "By using special functions, such as `cut()`, which groups data into\n",
    "discrete bins. See the example on tiling in the docs."
   ]
  },
  {
   "cell_type": "code",
   "execution_count": null,
   "id": "36e4353a",
   "metadata": {
    "hide-output": false
   },
   "outputs": [],
   "source": [
    "df = pd.DataFrame({\"value\": np.random.randint(0, 100, 20)})\n",
    "labels = [\"{0} - {1}\".format(i, i + 9) for i in range(0, 100, 10)]\n",
    "\n",
    "df[\"group\"] = pd.cut(df.value, range(0, 105, 10), right=False, labels=labels)\n",
    "df.head(10)"
   ]
  },
  {
   "cell_type": "markdown",
   "id": "8c3eda97",
   "metadata": {},
   "source": [
    "By passing a `pandas.Categorical` object to a `Series` or assigning it to a `DataFrame`."
   ]
  },
  {
   "cell_type": "code",
   "execution_count": null,
   "id": "80047738-23b5-4055-b1e5-f2c1673cdb44",
   "metadata": {
    "hide-output": false
   },
   "outputs": [],
   "source": [
    "raw_cat = pd.Categorical(\n",
    "    [\"a\", \"b\", \"c\", \"a\"], categories=[\"b\", \"c\", \"d\"], ordered=False\n",
    ")\n",
    "s = pd.Series(raw_cat)\n",
    "s"
   ]
  },
  {
   "cell_type": "code",
   "execution_count": null,
   "id": "5947d137-d35f-4c78-a37d-d9d3ca12975b",
   "metadata": {
    "hide-output": false
   },
   "outputs": [],
   "source": [
    "df = pd.DataFrame({\"A\": [\"a\", \"b\", \"c\", \"a\"]})\n",
    "df[\"B\"] = raw_cat\n",
    "df"
   ]
  },
  {
   "cell_type": "markdown",
   "id": "a599290f",
   "metadata": {},
   "source": [
    "Categorical data has a specific `category` dtype:"
   ]
  },
  {
   "cell_type": "code",
   "execution_count": null,
   "id": "33c1695d",
   "metadata": {
    "hide-output": false
   },
   "outputs": [],
   "source": [
    "df.dtypes"
   ]
  },
  {
   "cell_type": "markdown",
   "id": "ec7b6d57",
   "metadata": {},
   "source": [
    "### DataFrame creation\n",
    "\n",
    "Similar to the previous section where a single column was converted to categorical, all columns in a\n",
    "`DataFrame` can be batch converted to categorical either during or after construction.\n",
    "\n",
    "This can be done during construction by specifying `dtype=\"category\"` in the `DataFrame` constructor:"
   ]
  },
  {
   "cell_type": "code",
   "execution_count": null,
   "id": "0887d970",
   "metadata": {
    "hide-output": false
   },
   "outputs": [],
   "source": [
    "df = pd.DataFrame({\"A\": list(\"abca\"), \"B\": list(\"bccd\")}, dtype=\"category\")\n",
    "df.dtypes"
   ]
  },
  {
   "cell_type": "markdown",
   "id": "3fd5609e",
   "metadata": {},
   "source": [
    "Note that the categories present in each column differ; the conversion is done column by column, so\n",
    "only labels present in a given column are categories:"
   ]
  },
  {
   "cell_type": "code",
   "execution_count": null,
   "id": "563a4c54-dd53-46d4-a863-cafe144adbe5",
   "metadata": {
    "hide-output": false
   },
   "outputs": [],
   "source": [
    "df[\"A\"]"
   ]
  },
  {
   "cell_type": "code",
   "execution_count": null,
   "id": "d14b23f0-7fc4-4b0a-8ff2-518a291b5ffe",
   "metadata": {
    "hide-output": false
   },
   "outputs": [],
   "source": [
    "df[\"B\"]"
   ]
  },
  {
   "cell_type": "markdown",
   "id": "fde44014",
   "metadata": {},
   "source": [
    "Analogously, all columns in an existing `DataFrame` can be batch converted using `DataFrame.astype()`:"
   ]
  },
  {
   "cell_type": "code",
   "execution_count": null,
   "id": "0586ff73",
   "metadata": {
    "hide-output": false
   },
   "outputs": [],
   "source": [
    "df = pd.DataFrame({\"A\": list(\"abca\"), \"B\": list(\"bccd\")})\n",
    "df_cat = df.astype(\"category\")\n",
    "df_cat.dtypes"
   ]
  },
  {
   "cell_type": "markdown",
   "id": "6aa910c5",
   "metadata": {},
   "source": [
    "This conversion is likewise done column by column:"
   ]
  },
  {
   "cell_type": "code",
   "execution_count": null,
   "id": "bff8de2d-83f6-43c5-af65-0b8fb73063bc",
   "metadata": {
    "hide-output": false
   },
   "outputs": [],
   "source": [
    "df_cat[\"A\"]"
   ]
  },
  {
   "cell_type": "code",
   "execution_count": null,
   "id": "4219bd8c-5cd0-4222-a9fe-00047f798f04",
   "metadata": {
    "hide-output": false
   },
   "outputs": [],
   "source": [
    "df_cat[\"B\"]"
   ]
  },
  {
   "cell_type": "markdown",
   "id": "aa72e0da",
   "metadata": {},
   "source": [
    "### Controlling behavior\n",
    "\n",
    "In the examples above where we passed `dtype='category'`, we used the default\n",
    "behavior:\n",
    "\n",
    "1. Categories are inferred from the data.  \n",
    "1. Categories are unordered.  \n",
    "\n",
    "\n",
    "To control those behaviors, instead of passing `'category'`, use an instance\n",
    "of `CategoricalDtype`."
   ]
  },
  {
   "cell_type": "code",
   "execution_count": null,
   "id": "17d4d348",
   "metadata": {
    "hide-output": false
   },
   "outputs": [],
   "source": [
    "from pandas.api.types import CategoricalDtype\n",
    "\n",
    "s = pd.Series([\"a\", \"b\", \"c\", \"a\"])\n",
    "cat_type = CategoricalDtype(categories=[\"b\", \"c\", \"d\"], ordered=True)\n",
    "s_cat = s.astype(cat_type)\n",
    "s_cat"
   ]
  },
  {
   "cell_type": "markdown",
   "id": "a883e2db",
   "metadata": {},
   "source": [
    "Similarly, a `CategoricalDtype` can be used with a `DataFrame` to ensure that categories\n",
    "are consistent among all columns."
   ]
  },
  {
   "cell_type": "code",
   "execution_count": null,
   "id": "f6cd8e06-92c8-49d4-8534-701f37056dd2",
   "metadata": {
    "hide-output": false
   },
   "outputs": [],
   "source": [
    "from pandas.api.types import CategoricalDtype\n",
    "\n",
    "df = pd.DataFrame({\"A\": list(\"abca\"), \"B\": list(\"bccd\")})\n",
    "cat_type = CategoricalDtype(categories=list(\"abcd\"), ordered=True)\n",
    "df_cat = df.astype(cat_type)\n",
    "df_cat[\"A\"]"
   ]
  },
  {
   "cell_type": "code",
   "execution_count": null,
   "id": "0259a329-7207-44de-9855-e89bf5515a1b",
   "metadata": {
    "hide-output": false
   },
   "outputs": [],
   "source": [
    "df_cat[\"B\"]"
   ]
  },
  {
   "cell_type": "markdown",
   "id": "3171ba72",
   "metadata": {},
   "source": [
    ">**Note**\n",
    ">\n",
    ">To perform table-wise conversion, where all labels in the entire `DataFrame` are used as\n",
    "categories for each column, the `categories` parameter can be determined programmatically by\n",
    "`categories = pd.unique(df.to_numpy().ravel())`.\n",
    "\n",
    "If you already have `codes` and `categories`, you can use the\n",
    "`from_codes()` constructor to save the factorize step\n",
    "during normal constructor mode:"
   ]
  },
  {
   "cell_type": "code",
   "execution_count": null,
   "id": "d00bbe67",
   "metadata": {
    "hide-output": false
   },
   "outputs": [],
   "source": [
    "splitter = np.random.choice([0, 1], 5, p=[0.5, 0.5])\n",
    "s = pd.Series(pd.Categorical.from_codes(splitter, categories=[\"train\", \"test\"]))"
   ]
  },
  {
   "cell_type": "markdown",
   "id": "c1e226a4",
   "metadata": {},
   "source": [
    "### Regaining original data\n",
    "\n",
    "To get back to the original `Series` or NumPy array, use\n",
    "`Series.astype(original_dtype)` or `np.asarray(categorical)`:"
   ]
  },
  {
   "cell_type": "code",
   "execution_count": null,
   "id": "89272589-2e30-484e-baf5-23630c169e55",
   "metadata": {
    "hide-output": false
   },
   "outputs": [],
   "source": [
    "s = pd.Series([\"a\", \"b\", \"c\", \"a\"])\n",
    "s"
   ]
  },
  {
   "cell_type": "code",
   "execution_count": null,
   "id": "abc5e1fb-b04b-4455-a27c-ec4064dac5a4",
   "metadata": {
    "hide-output": false
   },
   "outputs": [],
   "source": [
    "s2 = s.astype(\"category\")\n",
    "s2"
   ]
  },
  {
   "cell_type": "code",
   "execution_count": null,
   "id": "ad7bcc8b-9a6f-49a2-9ba5-ea9631e52a3e",
   "metadata": {
    "hide-output": false
   },
   "outputs": [],
   "source": [
    "s2.astype(str)"
   ]
  },
  {
   "cell_type": "code",
   "execution_count": null,
   "id": "45781c57-a4ef-41d4-bf7e-92d534c0e653",
   "metadata": {
    "hide-output": false
   },
   "outputs": [],
   "source": [
    "np.asarray(s2)"
   ]
  },
  {
   "cell_type": "markdown",
   "id": "b35b2861",
   "metadata": {},
   "source": [
    ">**Note**\n",
    ">\n",
    ">In contrast to R’s `factor` function, categorical data is not converting input values to\n",
    "strings; categories will end up the same data type as the original values.\n",
    "\n",
    ">**Note**\n",
    ">\n",
    ">In contrast to R’s `factor` function, there is currently no way to assign/change labels at\n",
    "creation time. Use `categories` to change the categories after creation time.\n",
    "\n",
    "\n",
    "<a id='categorical-categoricaldtype'></a>"
   ]
  },
  {
   "cell_type": "markdown",
   "id": "94a39cd6",
   "metadata": {},
   "source": [
    "## CategoricalDtype\n",
    "\n",
    "A categorical’s type is fully described by\n",
    "\n",
    "1. `categories`: a sequence of unique values and no missing values  \n",
    "1. `ordered`: a boolean  \n",
    "\n",
    "\n",
    "This information can be stored in a `CategoricalDtype`.\n",
    "The `categories` argument is optional, which implies that the actual categories\n",
    "should be inferred from whatever is present in the data when the\n",
    "`pandas.Categorical` is created. The categories are assumed to be unordered\n",
    "by default."
   ]
  },
  {
   "cell_type": "code",
   "execution_count": null,
   "id": "69f90da2",
   "metadata": {
    "hide-output": false
   },
   "outputs": [],
   "source": [
    "from pandas.api.types import CategoricalDtype\n",
    "\n",
    "CategoricalDtype([\"a\", \"b\", \"c\"])\n",
    "CategoricalDtype([\"a\", \"b\", \"c\"], ordered=True)\n",
    "CategoricalDtype()"
   ]
  },
  {
   "cell_type": "markdown",
   "id": "98aba13b",
   "metadata": {},
   "source": [
    "A `CategoricalDtype` can be used in any place pandas\n",
    "expects a `dtype`. For example `pandas.read_csv()`,\n",
    "`pandas.DataFrame.astype()`, or in the `Series` constructor.\n",
    "\n",
    ">**Note**\n",
    ">\n",
    ">As a convenience, you can use the string `'category'` in place of a\n",
    "`CategoricalDtype` when you want the default behavior of\n",
    "the categories being unordered, and equal to the set values present in the\n",
    "array. In other words, `dtype='category'` is equivalent to\n",
    "`dtype=CategoricalDtype()`."
   ]
  },
  {
   "cell_type": "markdown",
   "id": "a4ebef96",
   "metadata": {},
   "source": [
    "### Equality semantics\n",
    "\n",
    "Two instances of `CategoricalDtype` compare equal\n",
    "whenever they have the same categories and order. When comparing two\n",
    "unordered categoricals, the order of the `categories` is not considered."
   ]
  },
  {
   "cell_type": "code",
   "execution_count": null,
   "id": "738f8d85-934f-4d57-869d-ea9251a7e09f",
   "metadata": {
    "hide-output": false
   },
   "outputs": [],
   "source": [
    "c1 = CategoricalDtype([\"a\", \"b\", \"c\"], ordered=False)\n",
    "\n",
    "# Equal, since order is not considered when ordered=False\n",
    "c1 == CategoricalDtype([\"b\", \"c\", \"a\"], ordered=False)"
   ]
  },
  {
   "cell_type": "code",
   "execution_count": null,
   "id": "d608ef23-9964-453b-8208-e030f659c0f3",
   "metadata": {
    "hide-output": false
   },
   "outputs": [],
   "source": [
    "# Unequal, since the second CategoricalDtype is ordered\n",
    "c1 == CategoricalDtype([\"a\", \"b\", \"c\"], ordered=True)"
   ]
  },
  {
   "cell_type": "markdown",
   "id": "bb33167d",
   "metadata": {},
   "source": [
    "All instances of `CategoricalDtype` compare equal to the string `'category'`."
   ]
  },
  {
   "cell_type": "code",
   "execution_count": null,
   "id": "566a3c18",
   "metadata": {
    "hide-output": false
   },
   "outputs": [],
   "source": [
    "c1 == \"category\""
   ]
  },
  {
   "cell_type": "markdown",
   "id": "e429ddcf",
   "metadata": {},
   "source": [
    "Since `dtype='category'` is essentially `CategoricalDtype(None, False)`,\n",
    "and since all instances `CategoricalDtype` compare equal to `'category'`,\n",
    "all instances of `CategoricalDtype` compare equal to a\n",
    "`CategoricalDtype(None, False)`, regardless of `categories` or\n",
    "`ordered`."
   ]
  },
  {
   "cell_type": "markdown",
   "id": "77b8bee9",
   "metadata": {},
   "source": [
    "## Description\n",
    "\n",
    "Using `describe()` on categorical data will produce similar\n",
    "output to a `Series` or `DataFrame` of type `string`."
   ]
  },
  {
   "cell_type": "code",
   "execution_count": null,
   "id": "200ba136-9b9f-4148-ac12-6543eb37483a",
   "metadata": {
    "hide-output": false
   },
   "outputs": [],
   "source": [
    "cat = pd.Categorical([\"a\", \"c\", \"c\", np.nan], categories=[\"b\", \"a\", \"c\"])\n",
    "df = pd.DataFrame({\"cat\": cat, \"s\": [\"a\", \"c\", \"c\", np.nan]})\n",
    "df.describe()"
   ]
  },
  {
   "cell_type": "code",
   "execution_count": null,
   "id": "539c0561-1370-4b8e-88ae-2e88d3b2f27e",
   "metadata": {
    "hide-output": false
   },
   "outputs": [],
   "source": [
    "df[\"cat\"].describe()"
   ]
  },
  {
   "cell_type": "markdown",
   "id": "2be79296",
   "metadata": {},
   "source": [
    "\n",
    "<a id='categorical-cat'></a>"
   ]
  },
  {
   "cell_type": "markdown",
   "id": "e62f9833",
   "metadata": {},
   "source": [
    "## Working with categories\n",
    "\n",
    "Categorical data has a `categories` and a `ordered` property, which list their\n",
    "possible values and whether the ordering matters or not. These properties are\n",
    "exposed as `s.cat.categories` and `s.cat.ordered`. If you don’t manually\n",
    "specify categories and ordering, they are inferred from the passed arguments."
   ]
  },
  {
   "cell_type": "code",
   "execution_count": null,
   "id": "8602d697-b917-465f-96d2-d6e9261caec6",
   "metadata": {
    "hide-output": false
   },
   "outputs": [],
   "source": [
    "s = pd.Series([\"a\", \"b\", \"c\", \"a\"], dtype=\"category\")\n",
    "s.cat.categories"
   ]
  },
  {
   "cell_type": "code",
   "execution_count": null,
   "id": "83133525-769f-42cb-99eb-a44cd8327aee",
   "metadata": {
    "hide-output": false
   },
   "outputs": [],
   "source": [
    "s.cat.ordered"
   ]
  },
  {
   "cell_type": "markdown",
   "id": "b4b21d74",
   "metadata": {},
   "source": [
    "It’s also possible to pass in the categories in a specific order:"
   ]
  },
  {
   "cell_type": "code",
   "execution_count": null,
   "id": "15f242f3-e3e4-4ce8-878c-d7c5fa5d96fc",
   "metadata": {
    "hide-output": false
   },
   "outputs": [],
   "source": [
    "s = pd.Series(pd.Categorical([\"a\", \"b\", \"c\", \"a\"], categories=[\"c\", \"b\", \"a\"]))\n",
    "s.cat.categories"
   ]
  },
  {
   "cell_type": "code",
   "execution_count": null,
   "id": "bafcc757-da2f-46b4-ae01-c8f40d03ab6b",
   "metadata": {
    "hide-output": false
   },
   "outputs": [],
   "source": [
    "s.cat.ordered"
   ]
  },
  {
   "cell_type": "markdown",
   "id": "a06301c2",
   "metadata": {},
   "source": [
    ">**Note**\n",
    ">\n",
    ">New categorical data are **not** automatically ordered. You must explicitly\n",
    "pass `ordered=True` to indicate an ordered `Categorical`.\n",
    "\n",
    ">**Note**\n",
    ">\n",
    ">The result of `unique()` is not always the same as `Series.cat.categories`,\n",
    "because `Series.unique()` has a couple of guarantees, namely that it returns categories\n",
    "in the order of appearance, and it only includes values that are actually present."
   ]
  },
  {
   "cell_type": "code",
   "execution_count": null,
   "id": "c39f4584-ad0f-45dd-b618-5b4bb668722d",
   "metadata": {
    "hide-output": false
   },
   "outputs": [],
   "source": [
    "s = pd.Series(list(\"babc\")).astype(CategoricalDtype(list(\"abcd\")))\n",
    "s"
   ]
  },
  {
   "cell_type": "code",
   "execution_count": null,
   "id": "7476efbf-e11c-4ce7-b594-2032e8886f75",
   "metadata": {
    "hide-output": false
   },
   "outputs": [],
   "source": [
    "# categories\n",
    "s.cat.categories"
   ]
  },
  {
   "cell_type": "code",
   "execution_count": null,
   "id": "3081ff41-ca0a-41bf-aa84-90b3adf10860",
   "metadata": {
    "hide-output": false
   },
   "outputs": [],
   "source": [
    "# uniques\n",
    "s.unique()"
   ]
  },
  {
   "cell_type": "markdown",
   "id": "02e8add7",
   "metadata": {},
   "source": [
    "### Renaming categories\n",
    "\n",
    "Renaming categories is done by assigning new values to the\n",
    "`Series.cat.categories` property or by using the\n",
    "`rename_categories()` method:"
   ]
  },
  {
   "cell_type": "code",
   "execution_count": null,
   "id": "f4113343-0c54-4f7a-b48f-58b687060ef8",
   "metadata": {
    "hide-output": false
   },
   "outputs": [],
   "source": [
    "s = pd.Series([\"a\", \"b\", \"c\", \"a\"], dtype=\"category\")\n",
    "s"
   ]
  },
  {
   "cell_type": "code",
   "execution_count": null,
   "id": "2914c421-a4a7-4fc2-bfda-aca4f4b1880c",
   "metadata": {
    "hide-output": false
   },
   "outputs": [],
   "source": [
    "s.cat.categories = [\"Group %s\" % g for g in s.cat.categories]\n",
    "s"
   ]
  },
  {
   "cell_type": "code",
   "execution_count": null,
   "id": "6ef7fdc8-0e6d-4e80-9cdf-57179636e078",
   "metadata": {
    "hide-output": false
   },
   "outputs": [],
   "source": [
    "s = s.cat.rename_categories([1, 2, 3])\n",
    "s"
   ]
  },
  {
   "cell_type": "code",
   "execution_count": null,
   "id": "af9f7c9e-f794-43dc-b892-8b8403a26955",
   "metadata": {
    "hide-output": false
   },
   "outputs": [],
   "source": [
    "# You can also pass a dict-like object to map the renaming\n",
    "s = s.cat.rename_categories({1: \"x\", 2: \"y\", 3: \"z\"})\n",
    "s"
   ]
  },
  {
   "cell_type": "markdown",
   "id": "b604c096",
   "metadata": {},
   "source": [
    ">**Note**\n",
    ">\n",
    ">In contrast to R’s `factor`, categorical data can have categories of other types than string.\n",
    "\n",
    ">**Note**\n",
    ">\n",
    ">Be aware that assigning new categories is an inplace operation, while most other operations\n",
    "under `Series.cat` per default return a new `Series` of dtype `category`.\n",
    "\n",
    "Categories must be unique or a `ValueError` is raised:"
   ]
  },
  {
   "cell_type": "code",
   "execution_count": null,
   "id": "ea9d3327",
   "metadata": {
    "hide-output": false
   },
   "outputs": [],
   "source": [
    "try:\n",
    "    s.cat.categories = [1, 1, 1]\n",
    "except ValueError as e:\n",
    "    print(\"ValueError:\", str(e))"
   ]
  },
  {
   "cell_type": "markdown",
   "id": "701dd61f",
   "metadata": {},
   "source": [
    "Categories must also not be `NaN` or a `ValueError` is raised:"
   ]
  },
  {
   "cell_type": "code",
   "execution_count": null,
   "id": "268c73c3",
   "metadata": {
    "hide-output": false
   },
   "outputs": [],
   "source": [
    "try:\n",
    "    s.cat.categories = [1, 2, np.nan]\n",
    "except ValueError as e:\n",
    "    print(\"ValueError:\", str(e))"
   ]
  },
  {
   "cell_type": "markdown",
   "id": "862a55d1",
   "metadata": {},
   "source": [
    "### Appending new categories\n",
    "\n",
    "Appending categories can be done by using the\n",
    "`add_categories()` method:"
   ]
  },
  {
   "cell_type": "code",
   "execution_count": null,
   "id": "4632d0d8-7a40-4cca-adea-ebdfe0c3491b",
   "metadata": {
    "hide-output": false
   },
   "outputs": [],
   "source": [
    "s = s.cat.add_categories([4])\n",
    "s.cat.categories"
   ]
  },
  {
   "cell_type": "code",
   "execution_count": null,
   "id": "27f2aa6c-2f7e-4298-a15b-d12d3b6a878a",
   "metadata": {
    "hide-output": false
   },
   "outputs": [],
   "source": [
    "s"
   ]
  },
  {
   "cell_type": "markdown",
   "id": "c8bb88ee",
   "metadata": {},
   "source": [
    "### Removing categories\n",
    "\n",
    "Removing categories can be done by using the\n",
    "`remove_categories()` method. Values which are removed\n",
    "are replaced by `np.nan`.:"
   ]
  },
  {
   "cell_type": "code",
   "execution_count": null,
   "id": "bcb2e218",
   "metadata": {
    "hide-output": false
   },
   "outputs": [],
   "source": [
    "s = s.cat.remove_categories([4])\n",
    "s"
   ]
  },
  {
   "cell_type": "markdown",
   "id": "d77aa001",
   "metadata": {},
   "source": [
    "### Removing unused categories\n",
    "\n",
    "Removing unused categories can also be done:"
   ]
  },
  {
   "cell_type": "code",
   "execution_count": null,
   "id": "10ceb647-f06d-468d-b688-dfc29de2f5b2",
   "metadata": {
    "hide-output": false
   },
   "outputs": [],
   "source": [
    "s = pd.Series(pd.Categorical([\"a\", \"b\", \"a\"], categories=[\"a\", \"b\", \"c\", \"d\"]))\n",
    "s"
   ]
  },
  {
   "cell_type": "code",
   "execution_count": null,
   "id": "795705f5-5dcc-41e4-b8e2-9e94998e1814",
   "metadata": {
    "hide-output": false
   },
   "outputs": [],
   "source": [
    "s.cat.remove_unused_categories()"
   ]
  },
  {
   "cell_type": "markdown",
   "id": "d90d0730",
   "metadata": {},
   "source": [
    "### Setting categories\n",
    "\n",
    "If you want to do remove and add new categories in one step (which has some\n",
    "speed advantage), or simply set the categories to a predefined scale,\n",
    "use `set_categories()`."
   ]
  },
  {
   "cell_type": "code",
   "execution_count": null,
   "id": "6e70a874-7018-4ba3-af9b-1b8244c30127",
   "metadata": {
    "hide-output": false
   },
   "outputs": [],
   "source": [
    "s = pd.Series([\"one\", \"two\", \"four\", \"-\"], dtype=\"category\")\n",
    "s"
   ]
  },
  {
   "cell_type": "code",
   "execution_count": null,
   "id": "f14cb332-453c-48d5-a6b4-66bf314179e2",
   "metadata": {
    "hide-output": false
   },
   "outputs": [],
   "source": [
    "s = s.cat.set_categories([\"one\", \"two\", \"three\", \"four\"])\n",
    "s"
   ]
  },
  {
   "cell_type": "markdown",
   "id": "d6da06c1",
   "metadata": {},
   "source": [
    ">**Note**\n",
    ">\n",
    ">Be aware that `Categorical.set_categories()` cannot know whether some category is omitted\n",
    "intentionally or because it is misspelled or (under Python3) due to a type difference (e.g.,\n",
    "NumPy S1 dtype and Python strings). This can result in surprising behaviour!"
   ]
  },
  {
   "cell_type": "markdown",
   "id": "98097696",
   "metadata": {},
   "source": [
    "## Sorting and order\n",
    "\n",
    "\n",
    "<a id='categorical-sort'></a>\n",
    "If categorical data is ordered (`s.cat.ordered == True`), then the order of the categories has a\n",
    "meaning and certain operations are possible. If the categorical is unordered, `.min()/.max()` will raise a `TypeError`."
   ]
  },
  {
   "cell_type": "code",
   "execution_count": null,
   "id": "605a8aad-ef7d-4e6e-af86-97bb3e670bef",
   "metadata": {
    "hide-output": false
   },
   "outputs": [],
   "source": [
    "s = pd.Series(pd.Categorical([\"a\", \"b\", \"c\", \"a\"], ordered=False))\n",
    "s.sort_values(inplace=True)\n",
    "s = pd.Series([\"a\", \"b\", \"c\", \"a\"]).astype(CategoricalDtype(ordered=True))\n",
    "s.sort_values(inplace=True)\n",
    "s"
   ]
  },
  {
   "cell_type": "code",
   "execution_count": null,
   "id": "fe7c0d54-8442-400f-89ae-38a8eb39f04c",
   "metadata": {
    "hide-output": false
   },
   "outputs": [],
   "source": [
    "s.min(), s.max()"
   ]
  },
  {
   "cell_type": "markdown",
   "id": "63f3b2ee",
   "metadata": {},
   "source": [
    "You can set categorical data to be ordered by using `as_ordered()` or unordered by using `as_unordered()`. These will by\n",
    "default return a *new* object."
   ]
  },
  {
   "cell_type": "code",
   "execution_count": null,
   "id": "caabd08c-e903-40ce-86b5-1aa387533012",
   "metadata": {
    "hide-output": false
   },
   "outputs": [],
   "source": [
    "s.cat.as_ordered()"
   ]
  },
  {
   "cell_type": "code",
   "execution_count": null,
   "id": "b23e6d3b-c864-4435-b0cb-275dd40a32c7",
   "metadata": {
    "hide-output": false
   },
   "outputs": [],
   "source": [
    "s.cat.as_unordered()"
   ]
  },
  {
   "cell_type": "markdown",
   "id": "d3dbd32b",
   "metadata": {},
   "source": [
    "Sorting will use the order defined by categories, not any lexical order present on the data type.\n",
    "This is even true for strings and numeric data:"
   ]
  },
  {
   "cell_type": "code",
   "execution_count": null,
   "id": "a3962ac9-b511-4886-b064-2beb14ae7906",
   "metadata": {
    "hide-output": false
   },
   "outputs": [],
   "source": [
    "s = pd.Series([1, 2, 3, 1], dtype=\"category\")\n",
    "s = s.cat.set_categories([2, 3, 1], ordered=True)\n",
    "s"
   ]
  },
  {
   "cell_type": "code",
   "execution_count": null,
   "id": "0bf88a2e-8c37-4bd4-b6ac-ae7f914652a9",
   "metadata": {
    "hide-output": false
   },
   "outputs": [],
   "source": [
    "s.sort_values(inplace=True)\n",
    "s"
   ]
  },
  {
   "cell_type": "code",
   "execution_count": null,
   "id": "e2b44c5b-de05-4237-ad51-2acd07d58c14",
   "metadata": {
    "hide-output": false
   },
   "outputs": [],
   "source": [
    "s.min(), s.max()"
   ]
  },
  {
   "cell_type": "markdown",
   "id": "555bee25",
   "metadata": {},
   "source": [
    "### Reordering\n",
    "\n",
    "Reordering the categories is possible via the `Categorical.reorder_categories()` and\n",
    "the `Categorical.set_categories()` methods. For `Categorical.reorder_categories()`, all\n",
    "old categories must be included in the new categories and no new categories are allowed. This will\n",
    "necessarily make the sort order the same as the categories order."
   ]
  },
  {
   "cell_type": "code",
   "execution_count": null,
   "id": "d922c137-6a1f-4b1f-90cf-1e66a04a3c27",
   "metadata": {
    "hide-output": false
   },
   "outputs": [],
   "source": [
    "s = pd.Series([1, 2, 3, 1], dtype=\"category\")\n",
    "s = s.cat.reorder_categories([2, 3, 1], ordered=True)\n",
    "s"
   ]
  },
  {
   "cell_type": "code",
   "execution_count": null,
   "id": "30ee9322-ca7d-467c-9d03-cc5289178c90",
   "metadata": {
    "hide-output": false
   },
   "outputs": [],
   "source": [
    "s.sort_values(inplace=True)\n",
    "s"
   ]
  },
  {
   "cell_type": "code",
   "execution_count": null,
   "id": "31eaf48f-d1a1-4a58-b2b6-0598fdd95a0b",
   "metadata": {
    "hide-output": false
   },
   "outputs": [],
   "source": [
    "s.min(), s.max()"
   ]
  },
  {
   "cell_type": "markdown",
   "id": "90818b46",
   "metadata": {},
   "source": [
    ">**Note**\n",
    ">\n",
    ">Note the difference between assigning new categories and reordering the categories: the first\n",
    "renames categories and therefore the individual values in the `Series`, but if the first\n",
    "position was sorted last, the renamed value will still be sorted last. Reordering means that the\n",
    "way values are sorted is different afterwards, but not that individual values in the\n",
    "`Series` are changed.\n",
    "\n",
    ">**Note**\n",
    ">\n",
    ">If the `Categorical` is not ordered, `Series.min()` and `Series.max()` will raise\n",
    "`TypeError`. Numeric operations like `+`, `-`, `*`, `/` and operations based on them\n",
    "(e.g. `Series.median()`, which would need to compute the mean between two values if the length\n",
    "of an array is even) do not work and raise a `TypeError`."
   ]
  },
  {
   "cell_type": "markdown",
   "id": "d36c616d",
   "metadata": {},
   "source": [
    "### Multi column sorting\n",
    "\n",
    "A categorical dtyped column will participate in a multi-column sort in a similar manner to other columns.\n",
    "The ordering of the categorical is determined by the `categories` of that column."
   ]
  },
  {
   "cell_type": "code",
   "execution_count": null,
   "id": "75f0fcad",
   "metadata": {
    "hide-output": false
   },
   "outputs": [],
   "source": [
    "dfs = pd.DataFrame(\n",
    "    {\n",
    "        \"A\": pd.Categorical(\n",
    "            list(\"bbeebbaa\"),\n",
    "            categories=[\"e\", \"a\", \"b\"],\n",
    "            ordered=True,\n",
    "        ),\n",
    "        \"B\": [1, 2, 1, 2, 2, 1, 2, 1],\n",
    "    }\n",
    ")\n",
    "dfs.sort_values(by=[\"A\", \"B\"])"
   ]
  },
  {
   "cell_type": "markdown",
   "id": "ac037909",
   "metadata": {},
   "source": [
    "Reordering the `categories` changes a future sort."
   ]
  },
  {
   "cell_type": "code",
   "execution_count": null,
   "id": "7be49157",
   "metadata": {
    "hide-output": false
   },
   "outputs": [],
   "source": [
    "dfs[\"A\"] = dfs[\"A\"].cat.reorder_categories([\"a\", \"b\", \"e\"])\n",
    "dfs.sort_values(by=[\"A\", \"B\"])"
   ]
  },
  {
   "cell_type": "markdown",
   "id": "fbd7e8c0",
   "metadata": {},
   "source": [
    "## Comparisons\n",
    "\n",
    "Comparing categorical data with other objects is possible in three cases:\n",
    "\n",
    "- Comparing equality (`==` and `!=`) to a list-like object (list, Series, array,\n",
    "  …) of the same length as the categorical data.  \n",
    "- All comparisons (`==`, `!=`, `>`, `>=`, `<`, and `<=`) of categorical data to\n",
    "  another categorical Series, when `ordered==True` and the `categories` are the same.  \n",
    "- All comparisons of a categorical data to a scalar.  \n",
    "\n",
    "\n",
    "All other comparisons, especially “non-equality” comparisons of two categoricals with different\n",
    "categories or a categorical with any list-like object, will raise a `TypeError`.\n",
    "\n",
    ">**Note**\n",
    ">\n",
    ">Any “non-equality” comparisons of categorical data with a `Series`, `np.array`, `list` or\n",
    "categorical data with different categories or ordering will raise a `TypeError` because custom\n",
    "categories ordering could be interpreted in two ways: one with taking into account the\n",
    "ordering and one without."
   ]
  },
  {
   "cell_type": "code",
   "execution_count": null,
   "id": "372e3490-6b8a-48d9-893e-3087d60fb9c4",
   "metadata": {
    "hide-output": false
   },
   "outputs": [],
   "source": [
    "cat = pd.Series([1, 2, 3]).astype(CategoricalDtype([3, 2, 1], ordered=True))\n",
    "cat_base = pd.Series([2, 2, 2]).astype(CategoricalDtype([3, 2, 1], ordered=True))\n",
    "cat_base2 = pd.Series([2, 2, 2]).astype(CategoricalDtype(ordered=True))\n",
    "\n",
    "cat"
   ]
  },
  {
   "cell_type": "code",
   "execution_count": null,
   "id": "6a715aa1-51a6-4b83-8908-b23128470e1c",
   "metadata": {
    "hide-output": false
   },
   "outputs": [],
   "source": [
    "cat_base"
   ]
  },
  {
   "cell_type": "code",
   "execution_count": null,
   "id": "b113980b-bbba-4584-98f1-78e6cf03ef24",
   "metadata": {
    "hide-output": false
   },
   "outputs": [],
   "source": [
    "cat_base2"
   ]
  },
  {
   "cell_type": "markdown",
   "id": "1734483f",
   "metadata": {},
   "source": [
    "Comparing to a categorical with the same categories and ordering or to a scalar works:"
   ]
  },
  {
   "cell_type": "code",
   "execution_count": null,
   "id": "be98c504-895f-4734-a766-5a0c16cd1411",
   "metadata": {
    "hide-output": false
   },
   "outputs": [],
   "source": [
    "cat > cat_base"
   ]
  },
  {
   "cell_type": "code",
   "execution_count": null,
   "id": "3fb9deaa-6c8b-4d04-94c3-eb820f5a7ae7",
   "metadata": {
    "hide-output": false
   },
   "outputs": [],
   "source": [
    "cat > 2"
   ]
  },
  {
   "cell_type": "markdown",
   "id": "8e5ec816",
   "metadata": {},
   "source": [
    "Equality comparisons work with any list-like object of same length and scalars:"
   ]
  },
  {
   "cell_type": "code",
   "execution_count": null,
   "id": "b8d5e27f-99e0-4bb9-a41a-27fd6db82811",
   "metadata": {
    "hide-output": false
   },
   "outputs": [],
   "source": [
    "cat == cat_base"
   ]
  },
  {
   "cell_type": "code",
   "execution_count": null,
   "id": "8abaeb39-340d-4b32-8492-8a0391e04072",
   "metadata": {
    "hide-output": false
   },
   "outputs": [],
   "source": [
    "cat == np.array([1, 2, 3])"
   ]
  },
  {
   "cell_type": "code",
   "execution_count": null,
   "id": "a2114114-0102-4bc3-a2f7-aa4ae1f00e51",
   "metadata": {
    "hide-output": false
   },
   "outputs": [],
   "source": [
    "cat == 2"
   ]
  },
  {
   "cell_type": "markdown",
   "id": "22cde0fc",
   "metadata": {},
   "source": [
    "This doesn’t work because the categories are not the same:"
   ]
  },
  {
   "cell_type": "code",
   "execution_count": null,
   "id": "b217266e",
   "metadata": {
    "hide-output": false
   },
   "outputs": [],
   "source": [
    "try:\n",
    "    cat > cat_base2\n",
    "except TypeError as e:\n",
    "    print(\"TypeError:\", str(e))"
   ]
  },
  {
   "cell_type": "markdown",
   "id": "407c475b",
   "metadata": {},
   "source": [
    "If you want to do a “non-equality” comparison of a categorical series with a list-like object\n",
    "which is not categorical data, you need to be explicit and convert the categorical data back to\n",
    "the original values:"
   ]
  },
  {
   "cell_type": "code",
   "execution_count": null,
   "id": "931d07c7",
   "metadata": {
    "hide-output": false
   },
   "outputs": [],
   "source": [
    "base = np.array([1, 2, 3])\n",
    "\n",
    "try:\n",
    "    cat > base\n",
    "except TypeError as e:\n",
    "    print(\"TypeError:\", str(e))\n",
    "\n",
    "np.asarray(cat) > base"
   ]
  },
  {
   "cell_type": "markdown",
   "id": "13345419",
   "metadata": {},
   "source": [
    "When you compare two unordered categoricals with the same categories, the order is not considered:"
   ]
  },
  {
   "cell_type": "code",
   "execution_count": null,
   "id": "4bb1d19d",
   "metadata": {
    "hide-output": false
   },
   "outputs": [],
   "source": [
    "c1 = pd.Categorical([\"a\", \"b\"], categories=[\"a\", \"b\"], ordered=False)\n",
    "c2 = pd.Categorical([\"a\", \"b\"], categories=[\"b\", \"a\"], ordered=False)\n",
    "c1 == c2"
   ]
  },
  {
   "cell_type": "markdown",
   "id": "63fc11f9",
   "metadata": {},
   "source": [
    "## Operations\n",
    "\n",
    "Apart from `Series.min()`, `Series.max()` and `Series.mode()`, the\n",
    "following operations are possible with categorical data:\n",
    "\n",
    "`Series` methods like `Series.value_counts()` will use all categories,\n",
    "even if some categories are not present in the data:"
   ]
  },
  {
   "cell_type": "code",
   "execution_count": null,
   "id": "5a3901eb",
   "metadata": {
    "hide-output": false
   },
   "outputs": [],
   "source": [
    "s = pd.Series(pd.Categorical([\"a\", \"b\", \"c\", \"c\"], categories=[\"c\", \"a\", \"b\", \"d\"]))\n",
    "s.value_counts()"
   ]
  },
  {
   "cell_type": "markdown",
   "id": "f5ff0d71",
   "metadata": {},
   "source": [
    "`DataFrame` methods like `DataFrame.sum()` also show “unused” categories."
   ]
  },
  {
   "cell_type": "code",
   "execution_count": null,
   "id": "f7f0b534",
   "metadata": {
    "hide-output": false
   },
   "outputs": [],
   "source": [
    "columns = pd.Categorical(\n",
    "    [\"One\", \"One\", \"Two\"], categories=[\"One\", \"Two\", \"Three\"], ordered=True\n",
    ")\n",
    "df = pd.DataFrame(\n",
    "    data=[[1, 2, 3], [4, 5, 6]],\n",
    "    columns=pd.MultiIndex.from_arrays([[\"A\", \"B\", \"B\"], columns]),\n",
    ")\n",
    "df.groupby(axis=1, level=1).sum()"
   ]
  },
  {
   "cell_type": "markdown",
   "id": "95169c54",
   "metadata": {},
   "source": [
    "Groupby will also show “unused” categories:"
   ]
  },
  {
   "cell_type": "code",
   "execution_count": null,
   "id": "c462ceee-b14f-40f6-8530-9df8b3e2ea16",
   "metadata": {
    "hide-output": false
   },
   "outputs": [],
   "source": [
    "cats = pd.Categorical(\n",
    "    [\"a\", \"b\", \"b\", \"b\", \"c\", \"c\", \"c\"], categories=[\"a\", \"b\", \"c\", \"d\"]\n",
    ")\n",
    "df = pd.DataFrame({\"cats\": cats, \"values\": [1, 2, 2, 2, 3, 4, 5]})\n",
    "df.groupby(\"cats\").mean()"
   ]
  },
  {
   "cell_type": "code",
   "execution_count": null,
   "id": "36e13944-f13e-4531-9ed4-48ca039ca505",
   "metadata": {
    "hide-output": false
   },
   "outputs": [],
   "source": [
    "cats2 = pd.Categorical([\"a\", \"a\", \"b\", \"b\"], categories=[\"a\", \"b\", \"c\"])\n",
    "df2 = pd.DataFrame(\n",
    "    {\n",
    "        \"cats\": cats2,\n",
    "        \"B\": [\"c\", \"d\", \"c\", \"d\"],\n",
    "        \"values\": [1, 2, 3, 4],\n",
    "    }\n",
    ")\n",
    "df2.groupby([\"cats\", \"B\"]).mean()"
   ]
  },
  {
   "cell_type": "markdown",
   "id": "71335e33",
   "metadata": {},
   "source": [
    "Pivot tables:"
   ]
  },
  {
   "cell_type": "code",
   "execution_count": null,
   "id": "9fdbad98",
   "metadata": {
    "hide-output": false
   },
   "outputs": [],
   "source": [
    "raw_cat = pd.Categorical([\"a\", \"a\", \"b\", \"b\"], categories=[\"a\", \"b\", \"c\"])\n",
    "df = pd.DataFrame({\"A\": raw_cat, \"B\": [\"c\", \"d\", \"c\", \"d\"], \"values\": [1, 2, 3, 4]})\n",
    "pd.pivot_table(df, values=\"values\", index=[\"A\", \"B\"])"
   ]
  },
  {
   "cell_type": "markdown",
   "id": "70b38037",
   "metadata": {},
   "source": [
    "## Data munging\n",
    "\n",
    "The optimized pandas data access methods  `.loc`, `.iloc`, `.at`, and `.iat`,\n",
    "work as normal. The only difference is the return type (for getting) and\n",
    "that only values already in `categories` can be assigned."
   ]
  },
  {
   "cell_type": "markdown",
   "id": "9f6ba745",
   "metadata": {},
   "source": [
    "### Getting\n",
    "\n",
    "If the slicing operation returns either a `DataFrame` or a column of type\n",
    "`Series`, the `category` dtype is preserved."
   ]
  },
  {
   "cell_type": "code",
   "execution_count": null,
   "id": "31eeb7b5-98f9-4816-ba67-0eb29866d5f8",
   "metadata": {
    "hide-output": false
   },
   "outputs": [],
   "source": [
    "idx = pd.Index([\"h\", \"i\", \"j\", \"k\", \"l\", \"m\", \"n\"])\n",
    "cats = pd.Series([\"a\", \"b\", \"b\", \"b\", \"c\", \"c\", \"c\"], dtype=\"category\", index=idx)\n",
    "values = [1, 2, 2, 2, 3, 4, 5]\n",
    "df = pd.DataFrame({\"cats\": cats, \"values\": values}, index=idx)\n",
    "df.iloc[2:4, :]"
   ]
  },
  {
   "cell_type": "code",
   "execution_count": null,
   "id": "650040f2-586b-4ac9-8e8b-e8ee7d057ce2",
   "metadata": {
    "hide-output": false
   },
   "outputs": [],
   "source": [
    "df.iloc[2:4, :].dtypes"
   ]
  },
  {
   "cell_type": "code",
   "execution_count": null,
   "id": "e42fadfb-8b1b-4f24-8cdb-334e6a310108",
   "metadata": {
    "hide-output": false
   },
   "outputs": [],
   "source": [
    "df.loc[\"h\":\"j\", \"cats\"]"
   ]
  },
  {
   "cell_type": "code",
   "execution_count": null,
   "id": "7ef8a9a4-e562-484f-8253-cd6114f84b65",
   "metadata": {
    "hide-output": false
   },
   "outputs": [],
   "source": [
    "df[df[\"cats\"] == \"b\"]"
   ]
  },
  {
   "cell_type": "markdown",
   "id": "81806a78",
   "metadata": {},
   "source": [
    "An example where the category type is not preserved is if you take one single\n",
    "row: the resulting `Series` is of dtype `object`:"
   ]
  },
  {
   "cell_type": "code",
   "execution_count": null,
   "id": "82857c00",
   "metadata": {
    "hide-output": false
   },
   "outputs": [],
   "source": [
    "# get the complete \"h\" row as a Series\n",
    "df.loc[\"h\", :]"
   ]
  },
  {
   "cell_type": "markdown",
   "id": "d0b9b42a",
   "metadata": {},
   "source": [
    "Returning a single item from categorical data will also return the value, not a categorical\n",
    "of length “1”."
   ]
  },
  {
   "cell_type": "code",
   "execution_count": null,
   "id": "85de67f9-1f57-414c-bc35-2d992ef70cf0",
   "metadata": {
    "hide-output": false
   },
   "outputs": [],
   "source": [
    "df.iat[0, 0]"
   ]
  },
  {
   "cell_type": "code",
   "execution_count": null,
   "id": "9f44d6aa-f95a-45bb-b5ca-88995710bb85",
   "metadata": {
    "hide-output": false
   },
   "outputs": [],
   "source": [
    "df[\"cats\"].cat.categories = [\"x\", \"y\", \"z\"]\n",
    "df.at[\"h\", \"cats\"]  # returns a string"
   ]
  },
  {
   "cell_type": "code",
   "execution_count": null,
   "id": "e6f1331a-88b9-47e3-900e-b03757b6ef24",
   "metadata": {
    "hide-output": false
   },
   "outputs": [],
   "source": []
  },
  {
   "cell_type": "markdown",
   "id": "2b1d4330",
   "metadata": {},
   "source": [
    ">**Note**\n",
    ">\n",
    ">The is in contrast to R’s `factor` function, where `factor(c(1,2,3))[1]`\n",
    "returns a single value `factor`.\n",
    "\n",
    "To get a single value `Series` of type `category`, you pass in a list with\n",
    "a single value:"
   ]
  },
  {
   "cell_type": "code",
   "execution_count": null,
   "id": "0cd3c113",
   "metadata": {
    "hide-output": false
   },
   "outputs": [],
   "source": [
    "df.loc[[\"h\"], \"cats\"]"
   ]
  },
  {
   "cell_type": "markdown",
   "id": "dbb1f496",
   "metadata": {},
   "source": [
    "### String and datetime accessors\n",
    "\n",
    "The accessors  `.dt` and `.str` will work if the `s.cat.categories` are of\n",
    "an appropriate type:"
   ]
  },
  {
   "cell_type": "code",
   "execution_count": null,
   "id": "9708bf57-56a8-4b50-b98e-efda501cc9ee",
   "metadata": {
    "hide-output": false
   },
   "outputs": [],
   "source": [
    "str_s = pd.Series(list(\"aabb\"))\n",
    "str_cat = str_s.astype(\"category\")\n",
    "str_cat"
   ]
  },
  {
   "cell_type": "code",
   "execution_count": null,
   "id": "2b281d3a-ca84-4dd8-8319-15d4513b2e80",
   "metadata": {
    "hide-output": false
   },
   "outputs": [],
   "source": [
    "str_cat.str.contains(\"a\")"
   ]
  },
  {
   "cell_type": "code",
   "execution_count": null,
   "id": "ffa2878b-466b-4e9d-bc15-dcb36c1cac81",
   "metadata": {
    "hide-output": false
   },
   "outputs": [],
   "source": [
    "date_s = pd.Series(pd.date_range(\"1/1/2015\", periods=5))\n",
    "date_cat = date_s.astype(\"category\")\n",
    "date_cat"
   ]
  },
  {
   "cell_type": "code",
   "execution_count": null,
   "id": "2463c314-800b-41f3-8e63-7b94ee6e94c6",
   "metadata": {
    "hide-output": false
   },
   "outputs": [],
   "source": [
    "date_cat.dt.day"
   ]
  },
  {
   "cell_type": "markdown",
   "id": "c708c3eb",
   "metadata": {},
   "source": [
    ">**Note**\n",
    ">\n",
    ">The returned `Series` (or `DataFrame`) is of the same type as if you used the\n",
    "`.str.<method>` / `.dt.<method>` on a `Series` of that type (and not of\n",
    "type `category`!).\n",
    "\n",
    "That means, that the returned values from methods and properties on the accessors of a\n",
    "`Series` and the returned values from methods and properties on the accessors of this\n",
    "`Series` transformed to one of type `category` will be equal:"
   ]
  },
  {
   "cell_type": "code",
   "execution_count": null,
   "id": "eb209948",
   "metadata": {
    "hide-output": false
   },
   "outputs": [],
   "source": [
    "ret_s = str_s.str.contains(\"a\")\n",
    "ret_cat = str_cat.str.contains(\"a\")\n",
    "ret_s.dtype == ret_cat.dtype\n",
    "ret_s == ret_cat"
   ]
  },
  {
   "cell_type": "markdown",
   "id": "79f53f37",
   "metadata": {},
   "source": [
    ">**Note**\n",
    ">\n",
    ">The work is done on the `categories` and then a new `Series` is constructed. This has\n",
    "some performance implication if you have a `Series` of type string, where lots of elements\n",
    "are repeated (i.e. the number of unique elements in the `Series` is a lot smaller than the\n",
    "length of the `Series`). In this case it can be faster to convert the original `Series`\n",
    "to one of type `category` and use `.str.<method>` or `.dt.<property>` on that."
   ]
  },
  {
   "cell_type": "markdown",
   "id": "116cfc7a",
   "metadata": {},
   "source": [
    "### Setting\n",
    "\n",
    "Setting values in a categorical column (or `Series`) works as long as the\n",
    "value is included in the `categories`:"
   ]
  },
  {
   "cell_type": "code",
   "execution_count": null,
   "id": "59679729-b6b8-49cc-9ef0-6064e3b1d187",
   "metadata": {
    "hide-output": false
   },
   "outputs": [],
   "source": [
    "idx = pd.Index([\"h\", \"i\", \"j\", \"k\", \"l\", \"m\", \"n\"])\n",
    "cats = pd.Categorical([\"a\", \"a\", \"a\", \"a\", \"a\", \"a\", \"a\"], categories=[\"a\", \"b\"])\n",
    "values = [1, 1, 1, 1, 1, 1, 1]\n",
    "df = pd.DataFrame({\"cats\": cats, \"values\": values}, index=idx)\n",
    "\n",
    "df.iloc[2:4, :] = [[\"b\", 2], [\"b\", 2]]\n",
    "df"
   ]
  },
  {
   "cell_type": "code",
   "execution_count": null,
   "id": "adf81fa6-ddf1-4a02-afd6-17f2402bd9ee",
   "metadata": {
    "hide-output": false
   },
   "outputs": [],
   "source": [
    "try:\n",
    "    df.iloc[2:4, :] = [[\"c\", 3], [\"c\", 3]]\n",
    "except TypeError as e:\n",
    "    print(\"TypeError:\", str(e))\n",
    "except ValueError as e:\n",
    "    print(\"ValueError:\", str(e))    "
   ]
  },
  {
   "cell_type": "markdown",
   "id": "ab30a0bf",
   "metadata": {},
   "source": [
    "Setting values by assigning categorical data will also check that the `categories` match:"
   ]
  },
  {
   "cell_type": "code",
   "execution_count": null,
   "id": "f7a7dc0d-0ca1-4d91-8dd1-b66c6b328573",
   "metadata": {
    "hide-output": false
   },
   "outputs": [],
   "source": [
    "df.loc[\"j\":\"k\", \"cats\"] = pd.Categorical([\"a\", \"a\"], categories=[\"a\", \"b\"])\n",
    "df"
   ]
  },
  {
   "cell_type": "code",
   "execution_count": null,
   "id": "edfaeefb-03e6-481c-b8e5-12003a86e15c",
   "metadata": {
    "hide-output": false
   },
   "outputs": [],
   "source": [
    "try:\n",
    "    df.loc[\"j\":\"k\", \"cats\"] = pd.Categorical([\"b\", \"b\"], categories=[\"a\", \"b\", \"c\"])\n",
    "except TypeError as e:\n",
    "    print(\"TypeError:\", str(e))\n",
    "except ValueError as e:\n",
    "    print(\"ValueError:\", str(e))    "
   ]
  },
  {
   "cell_type": "markdown",
   "id": "844347c6",
   "metadata": {},
   "source": [
    "Assigning a `Categorical` to parts of a column of other types will use the values:"
   ]
  },
  {
   "cell_type": "code",
   "execution_count": null,
   "id": "5bd6be87-3470-4ff8-b0f8-7543f86028ff",
   "metadata": {
    "hide-output": false
   },
   "outputs": [],
   "source": [
    "df = pd.DataFrame({\"a\": [1, 1, 1, 1, 1], \"b\": [\"a\", \"a\", \"a\", \"a\", \"a\"]})"
   ]
  },
  {
   "cell_type": "code",
   "execution_count": null,
   "id": "b0cf708a-654a-40d9-b500-32a9986645ff",
   "metadata": {
    "hide-output": false
   },
   "outputs": [],
   "source": [
    "df.loc[1:2, \"a\"] = pd.Categorical([\"b\", \"b\"], categories=[\"a\", \"b\"])"
   ]
  },
  {
   "cell_type": "code",
   "execution_count": null,
   "id": "7173f68e-9aba-4ed9-af80-d7bd04d01d53",
   "metadata": {
    "hide-output": false
   },
   "outputs": [],
   "source": [
    "df.loc[2:3, \"b\"] = pd.Categorical([\"b\", \"b\"], categories=[\"a\", \"b\"])"
   ]
  },
  {
   "cell_type": "code",
   "execution_count": null,
   "id": "2896a0b6-ada5-4c1b-bd1b-1533f6549a26",
   "metadata": {
    "hide-output": false
   },
   "outputs": [],
   "source": [
    "df"
   ]
  },
  {
   "cell_type": "code",
   "execution_count": null,
   "id": "78bef2de-6a95-43b6-bfab-deb37d3407dd",
   "metadata": {
    "hide-output": false
   },
   "outputs": [],
   "source": [
    "df.dtypes"
   ]
  },
  {
   "cell_type": "markdown",
   "id": "be2da8f6",
   "metadata": {},
   "source": [
    "\n",
    "<a id='categorical-merge'></a>\n",
    "\n",
    "<a id='categorical-concat'></a>"
   ]
  },
  {
   "cell_type": "markdown",
   "id": "d23dc5c1",
   "metadata": {},
   "source": [
    "### Merging / concatenation\n",
    "\n",
    "By default, combining `Series` or `DataFrames` which contain the same\n",
    "categories results in `category` dtype, otherwise results will depend on the\n",
    "dtype of the underlying categories. Merges that result in non-categorical\n",
    "dtypes will likely have higher memory usage. Use `.astype` or\n",
    "`union_categoricals` to ensure `category` results."
   ]
  },
  {
   "cell_type": "code",
   "execution_count": null,
   "id": "72a89a7e-6cc5-44ff-bde9-bd55fbe4746c",
   "metadata": {
    "hide-output": false
   },
   "outputs": [],
   "source": [
    "from pandas.api.types import union_categoricals\n",
    "\n",
    "# same categories\n",
    "s1 = pd.Series([\"a\", \"b\"], dtype=\"category\")\n",
    "s2 = pd.Series([\"a\", \"b\", \"a\"], dtype=\"category\")\n",
    "pd.concat([s1, s2])"
   ]
  },
  {
   "cell_type": "code",
   "execution_count": null,
   "id": "e5a8cd2b-495c-4dee-a2f7-3e76c3a9c23b",
   "metadata": {
    "hide-output": false
   },
   "outputs": [],
   "source": [
    "# different categories\n",
    "s3 = pd.Series([\"b\", \"c\"], dtype=\"category\")\n",
    "pd.concat([s1, s3])"
   ]
  },
  {
   "cell_type": "code",
   "execution_count": null,
   "id": "a4fb5bae-3af1-4432-af1b-251c25d29290",
   "metadata": {
    "hide-output": false
   },
   "outputs": [],
   "source": [
    "# Output dtype is inferred based on categories values\n",
    "int_cats = pd.Series([1, 2], dtype=\"category\")\n",
    "float_cats = pd.Series([3.0, 4.0], dtype=\"category\")\n",
    "pd.concat([int_cats, float_cats])"
   ]
  },
  {
   "cell_type": "code",
   "execution_count": null,
   "id": "d5644f37-a419-4410-839f-ab7f818014a5",
   "metadata": {
    "hide-output": false
   },
   "outputs": [],
   "source": [
    "pd.concat([s1, s3]).astype(\"category\")\n",
    "union_categoricals([s1.array, s3.array])"
   ]
  },
  {
   "cell_type": "markdown",
   "id": "6df0ae06",
   "metadata": {},
   "source": [
    "The following table summarizes the results of merging `Categoricals`:\n",
    "\n",
    "|arg1|arg2|identical|result|\n",
    "|:-----------------|:----------------------|:--------------------|:---------------------------|\n",
    "|category|category|True|category|\n",
    "|category (object)|category (object)|False|object (dtype is inferred)|\n",
    "|category (int)|category (float)|False|float (dtype is inferred)|\n",
    "\n",
    "See also the section on [merge dtypes](25_merging_join_concat.ipynb#merging-dtypes) for notes about\n",
    "preserving merge dtypes and performance.\n",
    "\n",
    "\n",
    "<a id='categorical-union'></a>"
   ]
  },
  {
   "cell_type": "markdown",
   "id": "e553664a",
   "metadata": {},
   "source": [
    "### Unioning\n",
    "\n",
    "If you want to combine categoricals that do not necessarily have the same\n",
    "categories, the `union_categoricals()` function will\n",
    "combine a list-like of categoricals. The new categories will be the union of\n",
    "the categories being combined."
   ]
  },
  {
   "cell_type": "code",
   "execution_count": null,
   "id": "4fabc33c",
   "metadata": {
    "hide-output": false
   },
   "outputs": [],
   "source": [
    "from pandas.api.types import union_categoricals\n",
    "\n",
    "a = pd.Categorical([\"b\", \"c\"])\n",
    "b = pd.Categorical([\"a\", \"b\"])\n",
    "union_categoricals([a, b])"
   ]
  },
  {
   "cell_type": "markdown",
   "id": "68b2eafd",
   "metadata": {},
   "source": [
    "By default, the resulting categories will be ordered as\n",
    "they appear in the data. If you want the categories to\n",
    "be lexsorted, use `sort_categories=True` argument."
   ]
  },
  {
   "cell_type": "code",
   "execution_count": null,
   "id": "a0456ba4",
   "metadata": {
    "hide-output": false
   },
   "outputs": [],
   "source": [
    "union_categoricals([a, b], sort_categories=True)"
   ]
  },
  {
   "cell_type": "markdown",
   "id": "def7c771",
   "metadata": {},
   "source": [
    "`union_categoricals` also works with the “easy” case of combining two\n",
    "categoricals of the same categories and order information\n",
    "(e.g. what you could also `append` for)."
   ]
  },
  {
   "cell_type": "code",
   "execution_count": null,
   "id": "34766602",
   "metadata": {
    "hide-output": false
   },
   "outputs": [],
   "source": [
    "a = pd.Categorical([\"a\", \"b\"], ordered=True)\n",
    "b = pd.Categorical([\"a\", \"b\", \"a\"], ordered=True)\n",
    "union_categoricals([a, b])"
   ]
  },
  {
   "cell_type": "markdown",
   "id": "8bbda89f",
   "metadata": {},
   "source": [
    "The below raises `TypeError` because the categories are ordered and not identical."
   ]
  },
  {
   "cell_type": "markdown",
   "id": "6a6e4f48",
   "metadata": {
    "hide-output": false
   },
   "source": [
    "```python\n",
    "In [1]: a = pd.Categorical([\"a\", \"b\"], ordered=True)\n",
    "In [2]: b = pd.Categorical([\"a\", \"b\", \"c\"], ordered=True)\n",
    "In [3]: union_categoricals([a, b])\n",
    "Out[3]:\n",
    "TypeError: to union ordered Categoricals, all categories must be the same\n",
    "```\n"
   ]
  },
  {
   "cell_type": "markdown",
   "id": "de852dd4",
   "metadata": {},
   "source": [
    "Ordered categoricals with different categories or orderings can be combined by\n",
    "using the `ignore_ordered=True` argument."
   ]
  },
  {
   "cell_type": "code",
   "execution_count": null,
   "id": "ee2d6275",
   "metadata": {
    "hide-output": false
   },
   "outputs": [],
   "source": [
    "a = pd.Categorical([\"a\", \"b\", \"c\"], ordered=True)\n",
    "b = pd.Categorical([\"c\", \"b\", \"a\"], ordered=True)\n",
    "union_categoricals([a, b], ignore_order=True)"
   ]
  },
  {
   "cell_type": "markdown",
   "id": "9e695bfb",
   "metadata": {},
   "source": [
    "`union_categoricals()` also works with a\n",
    "`CategoricalIndex`, or `Series` containing categorical data, but note that\n",
    "the resulting array will always be a plain `Categorical`:"
   ]
  },
  {
   "cell_type": "code",
   "execution_count": null,
   "id": "77333883",
   "metadata": {
    "hide-output": false
   },
   "outputs": [],
   "source": [
    "a = pd.Series([\"b\", \"c\"], dtype=\"category\")\n",
    "b = pd.Series([\"a\", \"b\"], dtype=\"category\")\n",
    "union_categoricals([a, b])"
   ]
  },
  {
   "cell_type": "markdown",
   "id": "f5588f89",
   "metadata": {},
   "source": [
    ">**Note**\n",
    ">\n",
    ">`union_categoricals` may recode the integer codes for categories\n",
    "when combining categoricals.  This is likely what you want,\n",
    "but if you are relying on the exact numbering of the categories, be\n",
    "aware."
   ]
  },
  {
   "cell_type": "code",
   "execution_count": null,
   "id": "50a7515d-ae78-4b23-8fc1-4e2c85e80e7e",
   "metadata": {
    "hide-output": false
   },
   "outputs": [],
   "source": [
    "c1 = pd.Categorical([\"b\", \"c\"])\n",
    "c2 = pd.Categorical([\"a\", \"b\"])\n",
    "\n",
    "c1"
   ]
  },
  {
   "cell_type": "code",
   "execution_count": null,
   "id": "0d9bf8cd-6a8e-4240-ad2d-ed26063d5d28",
   "metadata": {
    "hide-output": false
   },
   "outputs": [],
   "source": [
    "# \"b\" is coded to 0\n",
    "c1.codes"
   ]
  },
  {
   "cell_type": "code",
   "execution_count": null,
   "id": "c1ae125d-d3b1-4b0d-9f1c-2e71b78545b5",
   "metadata": {
    "hide-output": false
   },
   "outputs": [],
   "source": [
    "c2\n",
    "# \"b\" is coded to 1"
   ]
  },
  {
   "cell_type": "code",
   "execution_count": null,
   "id": "f01646bb-4f15-4efa-82a7-be7e5121e97e",
   "metadata": {
    "hide-output": false
   },
   "outputs": [],
   "source": [
    "c2.codes"
   ]
  },
  {
   "cell_type": "code",
   "execution_count": null,
   "id": "dadf995b-7494-4795-b177-762d4502d5f7",
   "metadata": {
    "hide-output": false
   },
   "outputs": [],
   "source": [
    "c = union_categoricals([c1, c2])\n",
    "c"
   ]
  },
  {
   "cell_type": "code",
   "execution_count": null,
   "id": "70e679da-265b-4b75-9c94-13b95d24dc99",
   "metadata": {
    "hide-output": false
   },
   "outputs": [],
   "source": [
    "# \"b\" is coded to 0 throughout, same as c1, different from c2\n",
    "c.codes"
   ]
  },
  {
   "cell_type": "markdown",
   "id": "5cfdd4d4",
   "metadata": {},
   "source": [
    "## Getting data in/out\n",
    "\n",
    "You can write data that contains `category` dtypes to a `HDFStore`.\n",
    "See here for an example and caveats.\n",
    "\n",
    "It is also possible to write data to and reading data from *Stata* format files.\n",
    "See here for an example and caveats.\n",
    "\n",
    "Writing to a CSV file will convert the data, effectively removing any information about the\n",
    "categorical (categories and ordering). So if you read back the CSV file you have to convert the\n",
    "relevant columns back to `category` and assign the right categories and categories ordering."
   ]
  },
  {
   "cell_type": "code",
   "execution_count": null,
   "id": "a417be4b-ecfc-4369-8d1c-0bf080050f11",
   "metadata": {
    "hide-output": false
   },
   "outputs": [],
   "source": [
    "import io\n",
    "\n",
    "s = pd.Series(pd.Categorical([\"a\", \"b\", \"b\", \"a\", \"a\", \"d\"]))\n",
    "# rename the categories\n",
    "s.cat.categories = [\"very good\", \"good\", \"bad\"]\n",
    "# reorder the categories and add missing categories\n",
    "s = s.cat.set_categories([\"very bad\", \"bad\", \"medium\", \"good\", \"very good\"])\n",
    "df = pd.DataFrame({\"cats\": s, \"vals\": [1, 2, 3, 4, 5, 6]})\n",
    "csv = io.StringIO()\n",
    "df.to_csv(csv)\n",
    "df2 = pd.read_csv(io.StringIO(csv.getvalue()))\n",
    "df2.dtypes"
   ]
  },
  {
   "cell_type": "code",
   "execution_count": null,
   "id": "f88a59bb-ba84-4f4f-b591-c4e81bece0f7",
   "metadata": {
    "hide-output": false
   },
   "outputs": [],
   "source": [
    "df2[\"cats\"]"
   ]
  },
  {
   "cell_type": "code",
   "execution_count": null,
   "id": "8b027ab9-d51e-449b-a69b-a33bc3c4a0eb",
   "metadata": {
    "hide-output": false
   },
   "outputs": [],
   "source": [
    "# Redo the category\n",
    "df2[\"cats\"] = df2[\"cats\"].astype(\"category\")\n",
    "df2[\"cats\"].cat.set_categories(\n",
    "    [\"very bad\", \"bad\", \"medium\", \"good\", \"very good\"], inplace=True\n",
    ")\n",
    "df2.dtypes"
   ]
  },
  {
   "cell_type": "code",
   "execution_count": null,
   "id": "ada4ebdf-2aef-4b03-beed-33b2159fae03",
   "metadata": {
    "hide-output": false
   },
   "outputs": [],
   "source": [
    "df2[\"cats\"]"
   ]
  },
  {
   "cell_type": "markdown",
   "id": "54f35a41",
   "metadata": {},
   "source": [
    "The same holds for writing to a SQL database with `to_sql`."
   ]
  },
  {
   "cell_type": "markdown",
   "id": "071be5fb",
   "metadata": {},
   "source": [
    "## Missing data\n",
    "\n",
    "pandas primarily uses the value `np.nan` to represent missing data. It is by\n",
    "default not included in computations. See the [Missing Data section](28_Working_with_missing_data.ipynb#working-with-missing-data).\n",
    "\n",
    "Missing values should **not** be included in the Categorical’s `categories`,\n",
    "only in the `values`.\n",
    "Instead, it is understood that NaN is different, and is always a possibility.\n",
    "When working with the Categorical’s `codes`, missing values will always have\n",
    "a code of `-1`."
   ]
  },
  {
   "cell_type": "code",
   "execution_count": null,
   "id": "71b25710-651e-4819-95a6-dff951cf2ae9",
   "metadata": {
    "hide-output": false
   },
   "outputs": [],
   "source": [
    "s = pd.Series([\"a\", \"b\", np.nan, \"a\"], dtype=\"category\")\n",
    "# only two categories\n",
    "s"
   ]
  },
  {
   "cell_type": "code",
   "execution_count": null,
   "id": "73154412-edbe-468a-994a-d9558f75fb77",
   "metadata": {
    "hide-output": false
   },
   "outputs": [],
   "source": [
    "s.cat.codes"
   ]
  },
  {
   "cell_type": "markdown",
   "id": "64f5ab67",
   "metadata": {},
   "source": [
    "Methods for working with missing data, e.g. `isna()`, `fillna()`,\n",
    "`dropna()`, all work normally:"
   ]
  },
  {
   "cell_type": "code",
   "execution_count": null,
   "id": "ff56b620-8fc0-4b59-b548-dd50b6eea611",
   "metadata": {
    "hide-output": false
   },
   "outputs": [],
   "source": [
    "s = pd.Series([\"a\", \"b\", np.nan], dtype=\"category\")\n",
    "s"
   ]
  },
  {
   "cell_type": "code",
   "execution_count": null,
   "id": "569c02fc-2406-404f-b5c0-ed716a667e81",
   "metadata": {
    "hide-output": false
   },
   "outputs": [],
   "source": [
    "pd.isna(s)"
   ]
  },
  {
   "cell_type": "code",
   "execution_count": null,
   "id": "f0ad6a35-9771-4c4b-941a-495e68766e58",
   "metadata": {
    "hide-output": false
   },
   "outputs": [],
   "source": [
    "s.fillna(\"a\")"
   ]
  },
  {
   "cell_type": "markdown",
   "id": "fc64f10d",
   "metadata": {},
   "source": [
    "## Differences to R’s `factor`\n",
    "\n",
    "The following differences to R’s factor functions can be observed:\n",
    "\n",
    "- R’s `levels` are named `categories`.  \n",
    "- R’s `levels` are always of type string, while `categories` in pandas can be of any dtype.  \n",
    "- It’s not possible to specify labels at creation time. Use `s.cat.rename_categories(new_labels)`\n",
    "  afterwards.  \n",
    "- In contrast to R’s `factor` function, using categorical data as the sole input to create a\n",
    "  new categorical series will *not* remove unused categories but create a new categorical series\n",
    "  which is equal to the passed in one!  \n",
    "- R allows for missing values to be included in its `levels` (pandas’ `categories`). pandas\n",
    "  does not allow `NaN` categories, but missing values can still be in the `values`.  "
   ]
  },
  {
   "cell_type": "markdown",
   "id": "75ea0c42",
   "metadata": {},
   "source": [
    "## Gotchas\n",
    "\n",
    "\n",
    "<a id='categorical-rfactor'></a>"
   ]
  },
  {
   "cell_type": "markdown",
   "id": "fd732ac7",
   "metadata": {},
   "source": [
    "### Memory usage\n",
    "\n",
    "\n",
    "<a id='categorical-memory'></a>\n",
    "The memory usage of a `Categorical` is proportional to the number of categories plus the length of the data. In contrast,\n",
    "an `object` dtype is a constant times the length of the data."
   ]
  },
  {
   "cell_type": "code",
   "execution_count": null,
   "id": "7a326d05-e4fd-4b9f-be3f-42161cecdd89",
   "metadata": {
    "hide-output": false
   },
   "outputs": [],
   "source": [
    "s = pd.Series([\"foo\", \"bar\"] * 1000)\n",
    "\n",
    "# object dtype\n",
    "s.nbytes"
   ]
  },
  {
   "cell_type": "code",
   "execution_count": null,
   "id": "4d8c6580-d775-4083-acfe-9312d1f20e54",
   "metadata": {
    "hide-output": false
   },
   "outputs": [],
   "source": [
    "# category dtype\n",
    "s.astype(\"category\").nbytes"
   ]
  },
  {
   "cell_type": "markdown",
   "id": "9d9b9056",
   "metadata": {},
   "source": [
    ">**Note**\n",
    ">\n",
    ">If the number of categories approaches the length of the data, the `Categorical` will use nearly the same or\n",
    "more memory than an equivalent `object` dtype representation."
   ]
  },
  {
   "cell_type": "code",
   "execution_count": null,
   "id": "4f6f9599-a70e-4b1d-b7ad-ef3e12209687",
   "metadata": {
    "hide-output": false
   },
   "outputs": [],
   "source": [
    "s = pd.Series([\"foo%04d\" % i for i in range(2000)])\n",
    "\n",
    "# object dtype\n",
    "s.nbytes"
   ]
  },
  {
   "cell_type": "code",
   "execution_count": null,
   "id": "428b5473-1819-4c79-90ff-9a3e44752829",
   "metadata": {
    "hide-output": false
   },
   "outputs": [],
   "source": [
    "# category dtype\n",
    "s.astype(\"category\").nbytes"
   ]
  },
  {
   "cell_type": "markdown",
   "id": "10b4841a",
   "metadata": {},
   "source": [
    "### `Categorical` is not a `numpy` array\n",
    "\n",
    "Currently, categorical data and the underlying `Categorical` is implemented as a Python\n",
    "object and not as a low-level NumPy array dtype. This leads to some problems.\n",
    "\n",
    "NumPy itself doesn’t know about the new `dtype`:"
   ]
  },
  {
   "cell_type": "code",
   "execution_count": null,
   "id": "125e810f",
   "metadata": {
    "hide-output": false
   },
   "outputs": [],
   "source": [
    "try:\n",
    "    np.dtype(\"category\")\n",
    "except TypeError as e:\n",
    "    print(\"TypeError:\", str(e))\n",
    "\n",
    "dtype = pd.Categorical([\"a\"]).dtype\n",
    "try:\n",
    "    np.dtype(dtype)\n",
    "except TypeError as e:\n",
    "    print(\"TypeError:\", str(e))"
   ]
  },
  {
   "cell_type": "markdown",
   "id": "75ae35fe",
   "metadata": {},
   "source": [
    "Dtype comparisons work:"
   ]
  },
  {
   "cell_type": "code",
   "execution_count": null,
   "id": "0f39e1e9",
   "metadata": {
    "hide-output": false
   },
   "outputs": [],
   "source": [
    "dtype == np.str_\n",
    "np.str_ == dtype"
   ]
  },
  {
   "cell_type": "markdown",
   "id": "ff876e12",
   "metadata": {},
   "source": [
    "To check if a Series contains Categorical data, use `hasattr(s, 'cat')`:"
   ]
  },
  {
   "cell_type": "code",
   "execution_count": null,
   "id": "8ad4f9e0",
   "metadata": {
    "hide-output": false
   },
   "outputs": [],
   "source": [
    "hasattr(pd.Series([\"a\"], dtype=\"category\"), \"cat\")\n",
    "hasattr(pd.Series([\"a\"]), \"cat\")"
   ]
  },
  {
   "cell_type": "markdown",
   "id": "53c03d27",
   "metadata": {},
   "source": [
    "Using NumPy functions on a `Series` of type `category` should not work as `Categoricals`\n",
    "are not numeric data (even in the case that `.categories` is numeric)."
   ]
  },
  {
   "cell_type": "code",
   "execution_count": null,
   "id": "e2d85a3b",
   "metadata": {
    "hide-output": false
   },
   "outputs": [],
   "source": [
    "s = pd.Series(pd.Categorical([1, 2, 3, 4]))\n",
    "try:\n",
    "    np.sum(s)\n",
    "    # same with np.log(s),...\n",
    "except TypeError as e:\n",
    "    print(\"TypeError:\", str(e))"
   ]
  },
  {
   "cell_type": "markdown",
   "id": "d12a3337",
   "metadata": {},
   "source": [
    ">**Note**\n",
    ">\n",
    ">If such a function works, please file a bug at [https://github.com/pandas-dev/pandas](https://github.com/pandas-dev/pandas)!"
   ]
  },
  {
   "cell_type": "markdown",
   "id": "78370e5d",
   "metadata": {},
   "source": [
    "### dtype in apply\n",
    "\n",
    "pandas currently does not preserve the dtype in apply functions: If you apply along rows you get\n",
    "a `Series` of `object` `dtype` (same as getting a row -> getting one element will return a\n",
    "basic type) and applying along columns will also convert to object. `NaN` values are unaffected.\n",
    "You can use `fillna` to handle missing values before applying a function."
   ]
  },
  {
   "cell_type": "code",
   "execution_count": null,
   "id": "85831de1",
   "metadata": {
    "hide-output": false
   },
   "outputs": [],
   "source": [
    "df = pd.DataFrame(\n",
    "    {\n",
    "        \"a\": [1, 2, 3, 4],\n",
    "        \"b\": [\"a\", \"b\", \"c\", \"d\"],\n",
    "        \"cats\": pd.Categorical([1, 2, 3, 2]),\n",
    "    }\n",
    ")\n",
    "df.apply(lambda row: type(row[\"cats\"]), axis=1)\n",
    "df.apply(lambda col: col.dtype, axis=0)"
   ]
  },
  {
   "cell_type": "markdown",
   "id": "17f8f74b",
   "metadata": {},
   "source": [
    "### Categorical index\n",
    "\n",
    "`CategoricalIndex` is a type of index that is useful for supporting\n",
    "indexing with duplicates. This is a container around a `Categorical`\n",
    "and allows efficient indexing and storage of an index with a large number of duplicated elements.\n",
    "See the advanced indexing docs for a more detailed\n",
    "explanation.\n",
    "\n",
    "Setting the index will create a `CategoricalIndex`:"
   ]
  },
  {
   "cell_type": "code",
   "execution_count": null,
   "id": "5a91b519-4b04-4310-82e6-cc080305bc88",
   "metadata": {
    "hide-output": false
   },
   "outputs": [],
   "source": [
    "cats = pd.Categorical([1, 2, 3, 4], categories=[4, 2, 3, 1])\n",
    "strings = [\"a\", \"b\", \"c\", \"d\"]\n",
    "values = [4, 2, 3, 1]\n",
    "df = pd.DataFrame({\"strings\": strings, \"values\": values}, index=cats)\n",
    "df.index"
   ]
  },
  {
   "cell_type": "code",
   "execution_count": null,
   "id": "717019d9-4a80-427b-a95b-5c77b515c8f4",
   "metadata": {
    "hide-output": false
   },
   "outputs": [],
   "source": [
    "# This now sorts by the categories order\n",
    "df.sort_index()"
   ]
  },
  {
   "cell_type": "markdown",
   "id": "0b501f87",
   "metadata": {},
   "source": [
    "### Side effects\n",
    "\n",
    "Constructing a `Series` from a `Categorical` will not copy the input\n",
    "`Categorical`. This means that changes to the `Series` will in most cases\n",
    "change the original `Categorical`:"
   ]
  },
  {
   "cell_type": "code",
   "execution_count": null,
   "id": "c17014b5-59f7-4329-b7a3-db293b768295",
   "metadata": {
    "hide-output": false
   },
   "outputs": [],
   "source": [
    "cat = pd.Categorical([1, 2, 3, 10], categories=[1, 2, 3, 4, 10])\n",
    "s = pd.Series(cat, name=\"cat\")\n",
    "cat"
   ]
  },
  {
   "cell_type": "code",
   "execution_count": null,
   "id": "14f15131-708a-4743-9955-77d4e6e54486",
   "metadata": {
    "hide-output": false
   },
   "outputs": [],
   "source": [
    "s.iloc[0:2] = 10\n",
    "cat"
   ]
  },
  {
   "cell_type": "code",
   "execution_count": null,
   "id": "ba98b33c-21fd-4b26-af9f-8a2bc0b7602b",
   "metadata": {
    "hide-output": false
   },
   "outputs": [],
   "source": [
    "df = pd.DataFrame(s)\n",
    "df[\"cat\"].cat.categories = [1, 2, 3, 4, 5]\n",
    "cat"
   ]
  },
  {
   "cell_type": "markdown",
   "id": "dfee716e",
   "metadata": {},
   "source": [
    "Use `copy=True` to prevent such a behaviour or simply don’t reuse `Categoricals`:"
   ]
  },
  {
   "cell_type": "code",
   "execution_count": null,
   "id": "c2229db8-fe61-442b-8e51-b64eefbf5572",
   "metadata": {
    "hide-output": false
   },
   "outputs": [],
   "source": [
    "cat = pd.Categorical([1, 2, 3, 10], categories=[1, 2, 3, 4, 10])\n",
    "s = pd.Series(cat, name=\"cat\", copy=True)\n",
    "cat"
   ]
  },
  {
   "cell_type": "code",
   "execution_count": null,
   "id": "b53df886-13b5-4452-9632-a22f91668ec2",
   "metadata": {
    "hide-output": false
   },
   "outputs": [],
   "source": [
    "s.iloc[0:2] = 10\n",
    "cat"
   ]
  },
  {
   "cell_type": "markdown",
   "id": "5f8ba4d2",
   "metadata": {},
   "source": [
    ">**Note**\n",
    ">\n",
    ">This also happens in some cases when you supply a NumPy array instead of a `Categorical`:\n",
    "using an int array (e.g. `np.array([1,2,3,4])`) will exhibit the same behavior, while using\n",
    "a string array (e.g. `np.array([\"a\",\"b\",\"c\",\"a\"])`) will not."
   ]
  }
 ],
 "metadata": {
  "date": 1630231088.4680104,
  "filename": "30_categorical.rst",
  "kernelspec": {
   "display_name": "Python 3",
   "language": "python",
   "name": "python3"
  },
  "language_info": {
   "codemirror_mode": {
    "name": "ipython",
    "version": 3
   },
   "file_extension": ".py",
   "mimetype": "text/x-python",
   "name": "python",
   "nbconvert_exporter": "python",
   "pygments_lexer": "ipython3",
   "version": "3.8.8"
  },
  "title": "Categorical data"
 },
 "nbformat": 4,
 "nbformat_minor": 5
}
