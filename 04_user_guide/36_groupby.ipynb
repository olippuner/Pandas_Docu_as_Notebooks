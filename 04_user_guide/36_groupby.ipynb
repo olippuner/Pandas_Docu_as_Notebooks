{
 "cells": [
  {
   "cell_type": "code",
   "execution_count": null,
   "id": "2a7b774d-8ef5-490c-8a34-5859878fff2e",
   "metadata": {},
   "outputs": [],
   "source": [
    "import numpy as np\n",
    "import pandas as pd\n",
    "import matplotlib.pyplot as plt\n",
    "print(\"pandas\", pd.__version__)\n",
    "print(\"numpy\",np.__version__)"
   ]
  },
  {
   "cell_type": "markdown",
   "id": "e0078989",
   "metadata": {},
   "source": [
    "\n",
    "<a id='groupby'></a>"
   ]
  },
  {
   "cell_type": "markdown",
   "id": "66faef4e",
   "metadata": {},
   "source": [
    "# Group by: split-apply-combine\n",
    "\n",
    "By “group by” we are referring to a process involving one or more of the following\n",
    "steps:\n",
    "\n",
    "- **Splitting** the data into groups based on some criteria.  \n",
    "- **Applying** a function to each group independently.  \n",
    "- **Combining** the results into a data structure.  \n",
    "\n",
    "\n",
    "Out of these, the split step is the most straightforward. In fact, in many\n",
    "situations we may wish to split the data set into groups and do something with\n",
    "those groups. In the apply step, we might wish to do one of the\n",
    "following:\n",
    "\n",
    "- **Aggregation**: compute a summary statistic (or statistics) for each\n",
    "  group. Some examples:  \n",
    "  \n",
    "  - Compute group sums or means.  \n",
    "  - Compute group sizes / counts.  \n",
    "  \n",
    "- **Transformation**: perform some group-specific computations and return a\n",
    "  like-indexed object. Some examples:  \n",
    "  \n",
    "  - Standardize data (zscore) within a group.  \n",
    "  - Filling NAs within groups with a value derived from each group.  \n",
    "  \n",
    "- **Filtration**: discard some groups, according to a group-wise computation\n",
    "  that evaluates True or False. Some examples:  \n",
    "  \n",
    "  - Discard data that belongs to groups with only a few members.  \n",
    "  - Filter out data based on the group sum or mean.  \n",
    "  \n",
    "- Some combination of the above: GroupBy will examine the results of the apply\n",
    "  step and try to return a sensibly combined result if it doesn’t fit into\n",
    "  either of the above two categories.  \n",
    "\n",
    "\n",
    "Since the set of object instance methods on pandas data structures are generally\n",
    "rich and expressive, we often simply want to invoke, say, a DataFrame function\n",
    "on each group. The name GroupBy should be quite familiar to those who have used\n",
    "a SQL-based tool (or `itertools`), in which you can write code like:"
   ]
  },
  {
   "cell_type": "markdown",
   "id": "a5c30458",
   "metadata": {
    "hide-output": false
   },
   "source": [
    "```sql\n",
    "SELECT Column1, Column2, mean(Column3), sum(Column4)\n",
    "FROM SomeTable\n",
    "GROUP BY Column1, Column2\n",
    "```\n"
   ]
  },
  {
   "cell_type": "markdown",
   "id": "2e419c9a",
   "metadata": {},
   "source": [
    "We aim to make operations like this natural and easy to express using\n",
    "pandas. We’ll address each area of GroupBy functionality then provide some\n",
    "non-trivial examples / use cases.\n",
    "\n",
    "See the [cookbook](44_cookbook.ipynb#cookbook-grouping) for some advanced strategies.\n",
    "\n",
    "\n",
    "<a id='groupby-split'></a>"
   ]
  },
  {
   "cell_type": "markdown",
   "id": "0d80d322",
   "metadata": {},
   "source": [
    "## Splitting an object into groups\n",
    "\n",
    "pandas objects can be split on any of their axes. The abstract definition of\n",
    "grouping is to provide a mapping of labels to group names. To create a GroupBy\n",
    "object (more on what the GroupBy object is later), you may do the following:"
   ]
  },
  {
   "cell_type": "code",
   "execution_count": null,
   "id": "2e07ff2d-bd05-4158-853b-d19b68c250bf",
   "metadata": {
    "hide-output": false
   },
   "outputs": [],
   "source": [
    "df = pd.DataFrame(\n",
    "    [\n",
    "        (\"bird\", \"Falconiformes\", 389.0),\n",
    "        (\"bird\", \"Psittaciformes\", 24.0),\n",
    "        (\"mammal\", \"Carnivora\", 80.2),\n",
    "        (\"mammal\", \"Primates\", np.nan),\n",
    "        (\"mammal\", \"Carnivora\", 58),\n",
    "    ],\n",
    "    index=[\"falcon\", \"parrot\", \"lion\", \"monkey\", \"leopard\"],\n",
    "    columns=(\"class\", \"order\", \"max_speed\"),\n",
    ")\n",
    "df"
   ]
  },
  {
   "cell_type": "code",
   "execution_count": null,
   "id": "84f087e7-b820-4bb2-9110-116d887120fe",
   "metadata": {
    "hide-output": false
   },
   "outputs": [],
   "source": [
    "# default is axis=0\n",
    "grouped = df.groupby(\"class\")\n",
    "grouped.max()"
   ]
  },
  {
   "cell_type": "code",
   "execution_count": null,
   "id": "605a1fe0-7fbb-4625-91f3-13968b22f1f2",
   "metadata": {
    "hide-output": false
   },
   "outputs": [],
   "source": [
    "#grouped = df.groupby(\"order\", axis=\"columns\")\n",
    "#IndexError: index 2 is out of bounds for axis 0 with size 2\n",
    "grouped = df.groupby(\"order\")\n",
    "grouped.max()\n"
   ]
  },
  {
   "cell_type": "code",
   "execution_count": null,
   "id": "8f1fbc23-28b3-4d77-a8b6-83de71898bf9",
   "metadata": {
    "hide-output": false
   },
   "outputs": [],
   "source": [
    "grouped = df.groupby([\"class\", \"order\"])\n",
    "grouped.max()"
   ]
  },
  {
   "cell_type": "markdown",
   "id": "26da2b02",
   "metadata": {},
   "source": [
    "The mapping can be specified many different ways:\n",
    "\n",
    "- A Python function, to be called on each of the axis labels.  \n",
    "- A list or NumPy array of the same length as the selected axis.  \n",
    "- A dict or `Series`, providing a `label -> group name` mapping.  \n",
    "- For `DataFrame` objects, a string indicating either a column name or\n",
    "  an index level name to be used to group.  \n",
    "- `df.groupby('A')` is just syntactic sugar for `df.groupby(df['A'])`.  \n",
    "- A list of any of the above things.  \n",
    "\n",
    "\n",
    "Collectively we refer to the grouping objects as the **keys**. For example,\n",
    "consider the following `DataFrame`:\n",
    "\n",
    ">**Note**\n",
    ">\n",
    ">A string passed to `groupby` may refer to either a column or an index level.\n",
    "If a string matches both a column name and an index level name, a\n",
    "`ValueError` will be raised."
   ]
  },
  {
   "cell_type": "code",
   "execution_count": null,
   "id": "11963810",
   "metadata": {
    "hide-output": false
   },
   "outputs": [],
   "source": [
    "df = pd.DataFrame(\n",
    "    {\n",
    "        \"A\": [\"foo\", \"bar\", \"foo\", \"bar\", \"foo\", \"bar\", \"foo\", \"foo\"],\n",
    "        \"B\": [\"one\", \"one\", \"two\", \"three\", \"two\", \"two\", \"one\", \"three\"],\n",
    "        \"C\": np.random.randn(8),\n",
    "        \"D\": np.random.randn(8),\n",
    "    }\n",
    ")\n",
    "df"
   ]
  },
  {
   "cell_type": "markdown",
   "id": "cd92752a",
   "metadata": {},
   "source": [
    "On a DataFrame, we obtain a GroupBy object by calling `groupby()`.\n",
    "We could naturally group by either the `A` or `B` columns, or both:"
   ]
  },
  {
   "cell_type": "code",
   "execution_count": null,
   "id": "fcc1e978-7354-4fbc-adad-da7d023a7376",
   "metadata": {
    "hide-output": false
   },
   "outputs": [],
   "source": [
    "grouped = df.groupby(\"A\")"
   ]
  },
  {
   "cell_type": "code",
   "execution_count": null,
   "id": "831310e3-4fa5-43a4-911d-42ae0615cd44",
   "metadata": {
    "hide-output": false
   },
   "outputs": [],
   "source": [
    "grouped = df.groupby([\"A\", \"B\"])"
   ]
  },
  {
   "cell_type": "markdown",
   "id": "d93ed7f2",
   "metadata": {},
   "source": [
    "If we also have a MultiIndex on columns `A` and `B`, we can group by all\n",
    "but the specified columns"
   ]
  },
  {
   "cell_type": "code",
   "execution_count": null,
   "id": "c32b9045",
   "metadata": {
    "hide-output": false
   },
   "outputs": [],
   "source": [
    "df2 = df.set_index([\"A\", \"B\"])\n",
    "grouped = df2.groupby(level=df2.index.names.difference([\"B\"]))\n",
    "grouped.sum()"
   ]
  },
  {
   "cell_type": "markdown",
   "id": "bbae5cde",
   "metadata": {},
   "source": [
    "These will split the DataFrame on its index (rows). We could also split by the\n",
    "columns:\n",
    "\n",
    "pandas `Index` objects support duplicate values. If a\n",
    "non-unique index is used as the group key in a groupby operation, all values\n",
    "for the same index value will be considered to be in one group and thus the\n",
    "output of aggregation functions will only contain unique index values:"
   ]
  },
  {
   "cell_type": "code",
   "execution_count": null,
   "id": "f003389b-910b-41d3-a328-acac9a4e0302",
   "metadata": {
    "hide-output": false
   },
   "outputs": [],
   "source": [
    "lst = [1, 2, 3, 1, 2, 3]\n",
    "s = pd.Series([1, 2, 3, 10, 20, 30], lst)\n",
    "grouped = s.groupby(level=0)"
   ]
  },
  {
   "cell_type": "code",
   "execution_count": null,
   "id": "b13c9de6-9ceb-4e67-ba6c-dfff4868a6a7",
   "metadata": {
    "hide-output": false
   },
   "outputs": [],
   "source": [
    "grouped.first()"
   ]
  },
  {
   "cell_type": "code",
   "execution_count": null,
   "id": "50abb021-df44-4cc2-a316-c4224a6385f5",
   "metadata": {
    "hide-output": false
   },
   "outputs": [],
   "source": [
    "grouped.last()"
   ]
  },
  {
   "cell_type": "code",
   "execution_count": null,
   "id": "701ba87e-2264-420a-8c5e-17503941c22e",
   "metadata": {
    "hide-output": false
   },
   "outputs": [],
   "source": [
    "grouped.sum()"
   ]
  },
  {
   "cell_type": "markdown",
   "id": "c0b1e169",
   "metadata": {},
   "source": [
    "Note that **no splitting occurs** until it’s needed. Creating the GroupBy object\n",
    "only verifies that you’ve passed a valid mapping.\n",
    "\n",
    ">**Note**\n",
    ">\n",
    ">Many kinds of complicated data manipulations can be expressed in terms of\n",
    "GroupBy operations (though can’t be guaranteed to be the most\n",
    "efficient). You can get quite creative with the label mapping functions.\n",
    "\n",
    "\n",
    "<a id='groupby-sorting'></a>"
   ]
  },
  {
   "cell_type": "markdown",
   "id": "33d136c7",
   "metadata": {},
   "source": [
    "### GroupBy sorting\n",
    "\n",
    "By default the group keys are sorted during the `groupby` operation. You may however pass `sort=False` for potential speedups:"
   ]
  },
  {
   "cell_type": "code",
   "execution_count": null,
   "id": "db1256d6-348a-4b03-9048-d07957b86926",
   "metadata": {
    "hide-output": false
   },
   "outputs": [],
   "source": [
    "df2 = pd.DataFrame({\"X\": [\"B\", \"B\", \"A\", \"A\"], \"Y\": [1, 2, 3, 4]})\n",
    "df2.groupby([\"X\"]).sum()"
   ]
  },
  {
   "cell_type": "code",
   "execution_count": null,
   "id": "5d678132-1e0b-434e-8e16-fc728e618e2b",
   "metadata": {
    "hide-output": false
   },
   "outputs": [],
   "source": [
    "df2.groupby([\"X\"], sort=False).sum()"
   ]
  },
  {
   "cell_type": "markdown",
   "id": "d84e83ad",
   "metadata": {},
   "source": [
    "Note that `groupby` will preserve the order in which *observations* are sorted *within* each group.\n",
    "For example, the groups created by `groupby()` below are in the order they appeared in the original `DataFrame`:"
   ]
  },
  {
   "cell_type": "code",
   "execution_count": null,
   "id": "2c444299-d14f-4573-92e0-ebfa02140c5a",
   "metadata": {
    "hide-output": false
   },
   "outputs": [],
   "source": [
    "df3 = pd.DataFrame({\"X\": [\"A\", \"B\", \"A\", \"B\"], \"Y\": [1, 4, 3, 2]})\n",
    "df3.groupby([\"X\"]).get_group(\"A\")"
   ]
  },
  {
   "cell_type": "code",
   "execution_count": null,
   "id": "e9a1be0e-01d3-4ff7-b31d-f90ec72d7e7e",
   "metadata": {
    "hide-output": false
   },
   "outputs": [],
   "source": [
    "df3.groupby([\"X\"]).get_group(\"B\")"
   ]
  },
  {
   "cell_type": "markdown",
   "id": "bf63001c",
   "metadata": {},
   "source": [
    "\n",
    "<a id='groupby-dropna'></a>\n",
    "New in version 1.1.0."
   ]
  },
  {
   "cell_type": "markdown",
   "id": "4ca46ca2",
   "metadata": {},
   "source": [
    "#### GroupBy dropna\n",
    "\n",
    "By default `NA` values are excluded from group keys during the `groupby` operation. However,\n",
    "in case you want to include `NA` values in group keys, you could pass `dropna=False` to achieve it."
   ]
  },
  {
   "cell_type": "code",
   "execution_count": null,
   "id": "bafc886c",
   "metadata": {
    "hide-output": false
   },
   "outputs": [],
   "source": [
    "df_list = [[1, 2, 3], [1, None, 4], [2, 1, 3], [1, 2, 2]]\n",
    "df_dropna = pd.DataFrame(df_list, columns=[\"a\", \"b\", \"c\"])\n",
    "df_dropna"
   ]
  },
  {
   "cell_type": "code",
   "execution_count": null,
   "id": "e00dd6ff-395e-4b0c-9e72-f004aff52e01",
   "metadata": {
    "hide-output": false
   },
   "outputs": [],
   "source": [
    "# Default ``dropna`` is set to True, which will exclude NaNs in keys\n",
    "df_dropna.groupby(by=[\"b\"], dropna=True).sum()"
   ]
  },
  {
   "cell_type": "code",
   "execution_count": null,
   "id": "6e847526-d00c-4433-b89a-4b1949f61d90",
   "metadata": {
    "hide-output": false
   },
   "outputs": [],
   "source": [
    "# In order to allow NaN in keys, set ``dropna`` to False\n",
    "df_dropna.groupby(by=[\"b\"], dropna=False).sum()"
   ]
  },
  {
   "cell_type": "markdown",
   "id": "e1522ea4",
   "metadata": {},
   "source": [
    "The default setting of `dropna` argument is `True` which means `NA` are not included in group keys.\n",
    "\n",
    "\n",
    "<a id='groupby-attributes'></a>"
   ]
  },
  {
   "cell_type": "markdown",
   "id": "58d90a77",
   "metadata": {},
   "source": [
    "### GroupBy object attributes\n",
    "\n",
    "The `groups` attribute is a dict whose keys are the computed unique groups\n",
    "and corresponding values being the axis labels belonging to each group. In the\n",
    "above example we have:"
   ]
  },
  {
   "cell_type": "code",
   "execution_count": null,
   "id": "a2cdcfaa",
   "metadata": {
    "hide-output": false
   },
   "outputs": [],
   "source": [
    "df.groupby(\"A\").groups\n",
    "#df.groupby(get_letter_type, axis=1).groups"
   ]
  },
  {
   "cell_type": "markdown",
   "id": "c93b0093",
   "metadata": {},
   "source": [
    "Calling the standard Python `len` function on the GroupBy object just returns\n",
    "the length of the `groups` dict, so it is largely just a convenience:"
   ]
  },
  {
   "cell_type": "code",
   "execution_count": null,
   "id": "d26a48fd",
   "metadata": {
    "hide-output": false
   },
   "outputs": [],
   "source": [
    "grouped = df.groupby([\"A\", \"B\"])\n",
    "grouped.groups\n",
    "len(grouped)"
   ]
  },
  {
   "cell_type": "code",
   "execution_count": null,
   "id": "58664a55-d08a-4a7d-bf61-b25e6a08f59b",
   "metadata": {},
   "outputs": [],
   "source": [
    "n = 10\n",
    "weight = np.random.normal(166, 20, size=n)\n",
    "height = np.random.normal(60, 10, size=n)\n",
    "time = pd.date_range(\"1/1/2000\", periods=n)\n",
    "gender = np.random.choice([\"male\", \"female\"], size=n)\n",
    "df = pd.DataFrame(\n",
    "       {\"height\": height, \"weight\": weight, \"gender\": gender}, index=time\n",
    ")\n",
    "df\n"
   ]
  },
  {
   "cell_type": "code",
   "execution_count": null,
   "id": "f8955c2d",
   "metadata": {
    "hide-output": false
   },
   "outputs": [],
   "source": [
    "gb = df.groupby(\"gender\")"
   ]
  },
  {
   "cell_type": "markdown",
   "id": "9a46286a",
   "metadata": {},
   "source": [
    "\n",
    "<a id='groupby-multiindex'></a>"
   ]
  },
  {
   "cell_type": "markdown",
   "id": "24bb45f3",
   "metadata": {},
   "source": [
    "### GroupBy with MultiIndex\n",
    "\n",
    "With hierarchically-indexed data, it’s quite\n",
    "natural to group by one of the levels of the hierarchy.\n",
    "\n",
    "Let’s create a Series with a two-level `MultiIndex`."
   ]
  },
  {
   "cell_type": "code",
   "execution_count": null,
   "id": "4dff1f72",
   "metadata": {
    "hide-output": false
   },
   "outputs": [],
   "source": [
    "arrays = [\n",
    "    [\"bar\", \"bar\", \"baz\", \"baz\", \"foo\", \"foo\", \"qux\", \"qux\"],\n",
    "    [\"one\", \"two\", \"one\", \"two\", \"one\", \"two\", \"one\", \"two\"],\n",
    "]\n",
    "index = pd.MultiIndex.from_arrays(arrays, names=[\"first\", \"second\"])\n",
    "s = pd.Series(np.random.randn(8), index=index)\n",
    "s"
   ]
  },
  {
   "cell_type": "markdown",
   "id": "ac402f5d",
   "metadata": {},
   "source": [
    "We can then group by one of the levels in `s`."
   ]
  },
  {
   "cell_type": "code",
   "execution_count": null,
   "id": "92583159",
   "metadata": {
    "hide-output": false
   },
   "outputs": [],
   "source": [
    "grouped = s.groupby(level=0)\n",
    "grouped.sum()"
   ]
  },
  {
   "cell_type": "markdown",
   "id": "dbb1ee36",
   "metadata": {},
   "source": [
    "If the MultiIndex has names specified, these can be passed instead of the level\n",
    "number:"
   ]
  },
  {
   "cell_type": "code",
   "execution_count": null,
   "id": "8ea0384f",
   "metadata": {
    "hide-output": false
   },
   "outputs": [],
   "source": [
    "s.groupby(level=\"second\").sum()"
   ]
  },
  {
   "cell_type": "markdown",
   "id": "e7a57b8d-4813-4a01-911f-9d8c0babbda2",
   "metadata": {},
   "source": [
    "Grouping with multiple levels is supported."
   ]
  },
  {
   "cell_type": "code",
   "execution_count": null,
   "id": "6f081d0f-af87-4b1d-8333-149871af9906",
   "metadata": {},
   "outputs": [],
   "source": [
    "arrays = [\n",
    "   [\"bar\", \"bar\", \"baz\", \"baz\", \"foo\", \"foo\", \"qux\", \"qux\"],\n",
    "   [\"doo\", \"doo\", \"bee\", \"bee\", \"bop\", \"bop\", \"bop\", \"bop\"],\n",
    "   [\"one\", \"two\", \"one\", \"two\", \"one\", \"two\", \"one\", \"two\"],\n",
    "]\n",
    "tuples = list(zip(*arrays))\n",
    "index = pd.MultiIndex.from_tuples(tuples, names=[\"first\", \"second\", \"third\"])\n",
    "s = pd.Series(np.random.randn(8), index=index)\n"
   ]
  },
  {
   "cell_type": "code",
   "execution_count": null,
   "id": "d13e71a1",
   "metadata": {
    "hide-output": false
   },
   "outputs": [],
   "source": [
    "s.groupby(level=[\"first\", \"second\"]).sum()"
   ]
  },
  {
   "cell_type": "markdown",
   "id": "a76824fd",
   "metadata": {},
   "source": [
    "Index level names may be supplied as keys."
   ]
  },
  {
   "cell_type": "code",
   "execution_count": null,
   "id": "136a2d63",
   "metadata": {
    "hide-output": false
   },
   "outputs": [],
   "source": [
    "s.groupby([\"first\", \"second\"]).sum()"
   ]
  },
  {
   "cell_type": "markdown",
   "id": "5c906a2e",
   "metadata": {},
   "source": [
    "More on the `sum` function and aggregation later."
   ]
  },
  {
   "cell_type": "markdown",
   "id": "b4f9b82a",
   "metadata": {},
   "source": [
    "### Grouping DataFrame with Index levels and columns\n",
    "\n",
    "A DataFrame may be grouped by a combination of columns and index levels by\n",
    "specifying the column names as strings and the index levels as `pd.Grouper`\n",
    "objects."
   ]
  },
  {
   "cell_type": "code",
   "execution_count": null,
   "id": "8c06a78f",
   "metadata": {
    "hide-output": false
   },
   "outputs": [],
   "source": [
    "arrays = [\n",
    "    [\"bar\", \"bar\", \"baz\", \"baz\", \"foo\", \"foo\", \"qux\", \"qux\"],\n",
    "    [\"one\", \"two\", \"one\", \"two\", \"one\", \"two\", \"one\", \"two\"],\n",
    "]\n",
    "index = pd.MultiIndex.from_arrays(arrays, names=[\"first\", \"second\"])\n",
    "df = pd.DataFrame({\"A\": [1, 1, 1, 1, 2, 2, 3, 3], \"B\": np.arange(8)}, index=index)\n",
    "df"
   ]
  },
  {
   "cell_type": "markdown",
   "id": "b393927f",
   "metadata": {},
   "source": [
    "The following example groups `df` by the `second` index level and\n",
    "the `A` column."
   ]
  },
  {
   "cell_type": "code",
   "execution_count": null,
   "id": "d3c0319b",
   "metadata": {
    "hide-output": false
   },
   "outputs": [],
   "source": [
    "df.groupby([pd.Grouper(level=1), \"A\"]).sum()"
   ]
  },
  {
   "cell_type": "markdown",
   "id": "5579af81",
   "metadata": {},
   "source": [
    "Index levels may also be specified by name."
   ]
  },
  {
   "cell_type": "code",
   "execution_count": null,
   "id": "1f8bf74c",
   "metadata": {
    "hide-output": false
   },
   "outputs": [],
   "source": [
    "df.groupby([pd.Grouper(level=\"second\"), \"A\"]).sum()"
   ]
  },
  {
   "cell_type": "markdown",
   "id": "cffb3404",
   "metadata": {},
   "source": [
    "Index level names may be specified as keys directly to `groupby`."
   ]
  },
  {
   "cell_type": "code",
   "execution_count": null,
   "id": "4e3f2268",
   "metadata": {
    "hide-output": false
   },
   "outputs": [],
   "source": [
    "df.groupby([\"second\", \"A\"]).sum()"
   ]
  },
  {
   "cell_type": "markdown",
   "id": "dca8dccf",
   "metadata": {},
   "source": [
    "### DataFrame column selection in GroupBy\n",
    "\n",
    "Once you have created the GroupBy object from a DataFrame, you might want to do\n",
    "something different for each of the columns. Thus, using `[]` similar to\n",
    "getting a column from a DataFrame, you can do:"
   ]
  },
  {
   "cell_type": "code",
   "execution_count": null,
   "id": "cea0700c-db90-47e3-ba81-d352f87297c3",
   "metadata": {
    "hide-output": false
   },
   "outputs": [],
   "source": [
    "df = pd.DataFrame(\n",
    "    {\n",
    "        \"A\": [\"foo\", \"bar\", \"foo\", \"bar\", \"foo\", \"bar\", \"foo\", \"foo\"],\n",
    "        \"B\": [\"one\", \"one\", \"two\", \"three\", \"two\", \"two\", \"one\", \"three\"],\n",
    "        \"C\": np.random.randn(8),\n",
    "        \"D\": np.random.randn(8),\n",
    "    }\n",
    ")\n",
    "df"
   ]
  },
  {
   "cell_type": "code",
   "execution_count": null,
   "id": "447f43f1-27cf-45e4-b07d-f4473301f791",
   "metadata": {
    "hide-output": false
   },
   "outputs": [],
   "source": [
    "grouped = df.groupby([\"A\"])\n",
    "grouped_C = grouped[\"C\"]\n",
    "grouped_D = grouped[\"D\"]"
   ]
  },
  {
   "cell_type": "markdown",
   "id": "ebd822da",
   "metadata": {},
   "source": [
    "This is mainly syntactic sugar for the alternative and much more verbose:"
   ]
  },
  {
   "cell_type": "code",
   "execution_count": null,
   "id": "2c164c25",
   "metadata": {
    "hide-output": false
   },
   "outputs": [],
   "source": [
    "df[\"C\"].groupby(df[\"A\"])"
   ]
  },
  {
   "cell_type": "markdown",
   "id": "917a6539",
   "metadata": {},
   "source": [
    "Additionally this method avoids recomputing the internal grouping information\n",
    "derived from the passed key.\n",
    "\n",
    "\n",
    "<a id='groupby-iterating-label'></a>"
   ]
  },
  {
   "cell_type": "markdown",
   "id": "8c073570",
   "metadata": {},
   "source": [
    "## Iterating through groups\n",
    "\n",
    "With the GroupBy object in hand, iterating through the grouped data is very\n",
    "natural and functions similarly to `itertools.groupby()`:\n",
    "\n",
    "In the case of grouping by multiple keys, the group name will be a tuple:\n",
    "\n",
    "See [Iterating through groups](38_timeseries.ipynb#timeseries-iterating-label)."
   ]
  },
  {
   "cell_type": "markdown",
   "id": "0fedf8d2",
   "metadata": {},
   "source": [
    "## Selecting a group\n",
    "\n",
    "A single group can be selected using\n",
    "`get_group()`:"
   ]
  },
  {
   "cell_type": "code",
   "execution_count": null,
   "id": "6334c3f4",
   "metadata": {
    "hide-output": false
   },
   "outputs": [],
   "source": [
    "grouped.get_group(\"bar\")"
   ]
  },
  {
   "cell_type": "markdown",
   "id": "608e874d",
   "metadata": {},
   "source": [
    "Or for an object grouped on multiple columns:"
   ]
  },
  {
   "cell_type": "code",
   "execution_count": null,
   "id": "df9deff1",
   "metadata": {
    "hide-output": false
   },
   "outputs": [],
   "source": [
    "df.groupby([\"A\", \"B\"]).get_group((\"bar\", \"one\"))"
   ]
  },
  {
   "cell_type": "markdown",
   "id": "4ceba182",
   "metadata": {},
   "source": [
    "\n",
    "<a id='groupby-aggregate'></a>"
   ]
  },
  {
   "cell_type": "markdown",
   "id": "ae8eb7ef",
   "metadata": {},
   "source": [
    "## Aggregation\n",
    "\n",
    "Once the GroupBy object has been created, several methods are available to\n",
    "perform a computation on the grouped data. These operations are similar to the\n",
    "aggregating API, [window API](37_window.ipynb#window-overview),\n",
    "and [resample API](38_timeseries.ipynb#timeseries-aggregate).\n",
    "\n",
    "An obvious one is aggregation via the\n",
    "`aggregate()` or equivalently\n",
    "`agg()` method:"
   ]
  },
  {
   "cell_type": "code",
   "execution_count": null,
   "id": "c6dd535a-c922-4a58-b341-857f5e86fcd6",
   "metadata": {
    "hide-output": false
   },
   "outputs": [],
   "source": [
    "grouped = df.groupby(\"A\")\n",
    "grouped.aggregate(np.sum)"
   ]
  },
  {
   "cell_type": "code",
   "execution_count": null,
   "id": "ac540b04-3ef5-4f67-8af2-d83e81f1fab4",
   "metadata": {
    "hide-output": false
   },
   "outputs": [],
   "source": [
    "grouped = df.groupby([\"A\", \"B\"])\n",
    "grouped.aggregate(np.sum)"
   ]
  },
  {
   "cell_type": "markdown",
   "id": "89178921",
   "metadata": {},
   "source": [
    "As you can see, the result of the aggregation will have the group names as the\n",
    "new index along the grouped axis. In the case of multiple keys, the result is a\n",
    "MultiIndex by default, though this can be\n",
    "changed by using the `as_index` option:"
   ]
  },
  {
   "cell_type": "code",
   "execution_count": null,
   "id": "511b1823-da49-4f76-aa65-91264be918c8",
   "metadata": {
    "hide-output": false
   },
   "outputs": [],
   "source": [
    "grouped = df.groupby([\"A\", \"B\"], as_index=False)\n",
    "grouped.aggregate(np.sum)"
   ]
  },
  {
   "cell_type": "code",
   "execution_count": null,
   "id": "64af05ea-fe15-49ac-987d-0f6d5ce083ef",
   "metadata": {
    "hide-output": false
   },
   "outputs": [],
   "source": [
    "df.groupby(\"A\", as_index=False).sum()"
   ]
  },
  {
   "cell_type": "markdown",
   "id": "dc15631b",
   "metadata": {},
   "source": [
    "Note that you could use the `reset_index` DataFrame function to achieve the\n",
    "same result as the column names are stored in the resulting `MultiIndex`:"
   ]
  },
  {
   "cell_type": "code",
   "execution_count": null,
   "id": "aa39ea07",
   "metadata": {
    "hide-output": false
   },
   "outputs": [],
   "source": [
    "df.groupby([\"A\", \"B\"]).sum().reset_index()"
   ]
  },
  {
   "cell_type": "markdown",
   "id": "5bb65227",
   "metadata": {},
   "source": [
    "Another simple aggregation example is to compute the size of each group.\n",
    "This is included in GroupBy as the `size` method. It returns a Series whose\n",
    "index are the group names and whose values are the sizes of each group."
   ]
  },
  {
   "cell_type": "code",
   "execution_count": null,
   "id": "f27588ba",
   "metadata": {
    "hide-output": false
   },
   "outputs": [],
   "source": [
    "grouped.size()"
   ]
  },
  {
   "cell_type": "code",
   "execution_count": null,
   "id": "2ceec591",
   "metadata": {
    "hide-output": false
   },
   "outputs": [],
   "source": [
    "grouped.describe()"
   ]
  },
  {
   "cell_type": "markdown",
   "id": "94053453",
   "metadata": {},
   "source": [
    "Another aggregation example is to compute the number of unique values of each group. This is similar to the `value_counts` function, except that it only counts unique values."
   ]
  },
  {
   "cell_type": "code",
   "execution_count": null,
   "id": "b1b39dc4-2263-4005-858f-d6fefdfa9905",
   "metadata": {
    "hide-output": false
   },
   "outputs": [],
   "source": [
    "ll = [['foo', 1], ['foo', 2], ['foo', 2], ['bar', 1], ['bar', 1]]\n",
    "df4 = pd.DataFrame(ll, columns=[\"A\", \"B\"])\n",
    "df4"
   ]
  },
  {
   "cell_type": "code",
   "execution_count": null,
   "id": "5f8dae50-bc27-44fa-b897-5b52f50609e3",
   "metadata": {
    "hide-output": false
   },
   "outputs": [],
   "source": [
    "df4.groupby(\"A\")[\"B\"].nunique()"
   ]
  },
  {
   "cell_type": "markdown",
   "id": "7bd33fa8",
   "metadata": {},
   "source": [
    ">**Note**\n",
    ">\n",
    ">Aggregation functions **will not** return the groups that you are aggregating over\n",
    "if they are named *columns*, when `as_index=True`, the default. The grouped columns will\n",
    "be the **indices** of the returned object.\n",
    "\n",
    "Passing `as_index=False` **will** return the groups that you are aggregating over, if they are\n",
    "named *columns*.\n",
    "\n",
    "Aggregating functions are the ones that reduce the dimension of the returned objects.\n",
    "Some common aggregating functions are tabulated below:\n",
    "\n",
    "|Function|Description|\n",
    "|:------------------|:------------------------------------------------------------------------------|\n",
    "|mean()|Compute mean of groups|\n",
    "|sum()|Compute sum of group values|\n",
    "|size()|Compute group sizes|\n",
    "|count()|Compute count of group|\n",
    "|std()|Standard deviation of groups|\n",
    "|var()|Compute variance of groups|\n",
    "|sem()|Standard error of the mean of groups|\n",
    "|describe()|Generates descriptive statistics|\n",
    "|first()|Compute first of group values|\n",
    "|last()|Compute last of group values|\n",
    "|nth()|Take nth value, or a subset if n is a list|\n",
    "|min()|Compute min of group values|\n",
    "|max()|Compute max of group values|\n",
    "\n",
    "The aggregating functions above will exclude NA values. Any function which\n",
    "reduces a `Series` to a scalar value is an aggregation function and will work,\n",
    "a trivial example is `df.groupby('A').agg(lambda ser: 1)`. Note that\n",
    "`nth()` can act as a reducer *or* a\n",
    "filter, see [here](#groupby-nth).\n",
    "\n",
    "\n",
    "<a id='groupby-aggregate-multifunc'></a>"
   ]
  },
  {
   "cell_type": "markdown",
   "id": "84f1f960",
   "metadata": {},
   "source": [
    "### Applying multiple functions at once\n",
    "\n",
    "With grouped `Series` you can also pass a list or dict of functions to do\n",
    "aggregation with, outputting a DataFrame:"
   ]
  },
  {
   "cell_type": "code",
   "execution_count": null,
   "id": "d0e569c1",
   "metadata": {
    "hide-output": false
   },
   "outputs": [],
   "source": [
    "grouped = df.groupby(\"A\")\n",
    "grouped[\"C\"].agg([np.sum, np.mean, np.std])"
   ]
  },
  {
   "cell_type": "markdown",
   "id": "ff3295e5",
   "metadata": {},
   "source": [
    "On a grouped `DataFrame`, you can pass a list of functions to apply to each\n",
    "column, which produces an aggregated result with a hierarchical index:"
   ]
  },
  {
   "cell_type": "code",
   "execution_count": null,
   "id": "2819935d",
   "metadata": {
    "hide-output": false
   },
   "outputs": [],
   "source": [
    "grouped.agg([np.sum, np.mean, np.std])"
   ]
  },
  {
   "cell_type": "markdown",
   "id": "7a43e077",
   "metadata": {},
   "source": [
    "The resulting aggregations are named for the functions themselves. If you\n",
    "need to rename, then you can add in a chained operation for a `Series` like this:"
   ]
  },
  {
   "cell_type": "code",
   "execution_count": null,
   "id": "9ed17f4b",
   "metadata": {
    "hide-output": false
   },
   "outputs": [],
   "source": [
    "(\n",
    "    grouped[\"C\"]\n",
    "    .agg([np.sum, np.mean, np.std])\n",
    "    .rename(columns={\"sum\": \"foo\", \"mean\": \"bar\", \"std\": \"baz\"})\n",
    ")"
   ]
  },
  {
   "cell_type": "markdown",
   "id": "3683be9b",
   "metadata": {},
   "source": [
    "For a grouped `DataFrame`, you can rename in a similar manner:"
   ]
  },
  {
   "cell_type": "code",
   "execution_count": null,
   "id": "9b9bd263",
   "metadata": {
    "hide-output": false
   },
   "outputs": [],
   "source": [
    "(\n",
    "    grouped.agg([np.sum, np.mean, np.std]).rename(\n",
    "        columns={\"sum\": \"foo\", \"mean\": \"bar\", \"std\": \"baz\"}\n",
    "    )\n",
    ")"
   ]
  },
  {
   "cell_type": "markdown",
   "id": "d6ad9c42-1cfc-4717-b6c1-82a8a6fd4b00",
   "metadata": {},
   "source": [
    ">**Note**\n",
    ">\n",
    ">In general, the output column names should be unique. You can’t apply\n",
    "the same function (or two functions with the same name) to the same\n",
    "column."
   ]
  },
  {
   "cell_type": "code",
   "execution_count": null,
   "id": "a448fc04-656b-4550-8e04-e95c7e858d81",
   "metadata": {},
   "outputs": [],
   "source": [
    "grouped[\"C\"].agg([\"sum\", \"sum\"])"
   ]
  },
  {
   "cell_type": "markdown",
   "id": "a46929bc-1645-4130-93c1-83be3c26bad7",
   "metadata": {},
   "source": [
    "</dd>\n",
    "\n",
    "</dl>"
   ]
  },
  {
   "cell_type": "markdown",
   "id": "01b9721d-f39b-4b90-8208-2b39fe4803c4",
   "metadata": {},
   "source": [
    "pandas *does* allow you to provide multiple lambdas. In this case, pandas\n",
    "will mangle the name of the (nameless) lambda functions, appending `_<i>`\n",
    "to each subsequent lambda."
   ]
  },
  {
   "cell_type": "code",
   "execution_count": null,
   "id": "a7ed77db",
   "metadata": {
    "hide-output": false
   },
   "outputs": [],
   "source": [
    "grouped[\"C\"].agg([lambda x: x.max() - x.min(), lambda x: x.median() - x.mean()])"
   ]
  },
  {
   "cell_type": "markdown",
   "id": "d9f17dc5",
   "metadata": {},
   "source": [
    "\n",
    "<a id='groupby-aggregate-named'></a>"
   ]
  },
  {
   "cell_type": "markdown",
   "id": "88c6656d",
   "metadata": {},
   "source": [
    "### Named aggregation\n",
    "\n",
    "New in version 0.25.0.\n",
    "\n",
    "To support column-specific aggregation *with control over the output column names*, pandas\n",
    "accepts the special syntax in `GroupBy.agg()`, known as “named aggregation”, where\n",
    "\n",
    "- The keywords are the *output* column names  \n",
    "- The values are tuples whose first element is the column to select\n",
    "  and the second element is the aggregation to apply to that column. pandas\n",
    "  provides the `pandas.NamedAgg` namedtuple with the fields `['column', 'aggfunc']`\n",
    "  to make it clearer what the arguments are. As usual, the aggregation can\n",
    "  be a callable or a string alias.  "
   ]
  },
  {
   "cell_type": "code",
   "execution_count": null,
   "id": "01927892",
   "metadata": {
    "hide-output": false
   },
   "outputs": [],
   "source": [
    "animals = pd.DataFrame(\n",
    "    {\n",
    "        \"kind\": [\"cat\", \"dog\", \"cat\", \"dog\"],\n",
    "        \"height\": [9.1, 6.0, 9.5, 34.0],\n",
    "        \"weight\": [7.9, 7.5, 9.9, 198.0],\n",
    "    }\n",
    ")\n",
    "animals\n",
    "\n",
    "animals.groupby(\"kind\").agg(\n",
    "    min_height=pd.NamedAgg(column=\"height\", aggfunc=\"min\"),\n",
    "    max_height=pd.NamedAgg(column=\"height\", aggfunc=\"max\"),\n",
    "    average_weight=pd.NamedAgg(column=\"weight\", aggfunc=np.mean),\n",
    ")"
   ]
  },
  {
   "cell_type": "markdown",
   "id": "6c2e12d0",
   "metadata": {},
   "source": [
    "`pandas.NamedAgg` is just a `namedtuple`. Plain tuples are allowed as well."
   ]
  },
  {
   "cell_type": "code",
   "execution_count": null,
   "id": "013af93b",
   "metadata": {
    "hide-output": false
   },
   "outputs": [],
   "source": [
    "animals.groupby(\"kind\").agg(\n",
    "    min_height=(\"height\", \"min\"),\n",
    "    max_height=(\"height\", \"max\"),\n",
    "    average_weight=(\"weight\", np.mean),\n",
    ")"
   ]
  },
  {
   "cell_type": "markdown",
   "id": "25c8388f",
   "metadata": {},
   "source": [
    "If your desired output column names are not valid Python keywords, construct a dictionary\n",
    "and unpack the keyword arguments"
   ]
  },
  {
   "cell_type": "code",
   "execution_count": null,
   "id": "75006f7b",
   "metadata": {
    "hide-output": false
   },
   "outputs": [],
   "source": [
    "animals.groupby(\"kind\").agg(\n",
    "    **{\n",
    "        \"total weight\": pd.NamedAgg(column=\"weight\", aggfunc=sum)\n",
    "    }\n",
    ")"
   ]
  },
  {
   "cell_type": "markdown",
   "id": "e5cc5eb9",
   "metadata": {},
   "source": [
    "Additional keyword arguments are not passed through to the aggregation functions. Only pairs\n",
    "of `(column, aggfunc)` should be passed as `**kwargs`. If your aggregation functions\n",
    "requires additional arguments, partially apply them with `functools.partial()`.\n",
    "\n",
    ">**Note**\n",
    ">\n",
    ">For Python 3.5 and earlier, the order of `**kwargs` in a functions was not\n",
    "preserved. This means that the output column ordering would not be\n",
    "consistent. To ensure consistent ordering, the keys (and so output columns)\n",
    "will always be sorted for Python 3.5.\n",
    "\n",
    "Named aggregation is also valid for Series groupby aggregations. In this case there’s\n",
    "no column selection, so the values are just the functions."
   ]
  },
  {
   "cell_type": "code",
   "execution_count": null,
   "id": "47815921",
   "metadata": {
    "hide-output": false
   },
   "outputs": [],
   "source": [
    "animals.groupby(\"kind\").height.agg(\n",
    "    min_height=\"min\",\n",
    "    max_height=\"max\",\n",
    ")"
   ]
  },
  {
   "cell_type": "markdown",
   "id": "7b9728a1",
   "metadata": {},
   "source": [
    "### Applying different functions to DataFrame columns\n",
    "\n",
    "By passing a dict to `aggregate` you can apply a different aggregation to the\n",
    "columns of a DataFrame:"
   ]
  },
  {
   "cell_type": "code",
   "execution_count": null,
   "id": "d1d04640",
   "metadata": {
    "hide-output": false
   },
   "outputs": [],
   "source": [
    "grouped.agg({\"C\": np.sum, \"D\": lambda x: np.std(x, ddof=1)})"
   ]
  },
  {
   "cell_type": "markdown",
   "id": "6f7302b2",
   "metadata": {},
   "source": [
    "The function names can also be strings. In order for a string to be valid it\n",
    "must be either implemented on GroupBy or available via [dispatching](#groupby-dispatch):"
   ]
  },
  {
   "cell_type": "code",
   "execution_count": null,
   "id": "58669a18",
   "metadata": {
    "hide-output": false
   },
   "outputs": [],
   "source": [
    "grouped.agg({\"C\": \"sum\", \"D\": \"std\"})"
   ]
  },
  {
   "cell_type": "markdown",
   "id": "f2b0ba75",
   "metadata": {},
   "source": [
    "\n",
    "<a id='groupby-aggregate-cython'></a>"
   ]
  },
  {
   "cell_type": "markdown",
   "id": "4a096ac0",
   "metadata": {},
   "source": [
    "### Cython-optimized aggregation functions\n",
    "\n",
    "Some common aggregations, currently only `sum`, `mean`, `std`, and `sem`, have\n",
    "optimized Cython implementations:"
   ]
  },
  {
   "cell_type": "code",
   "execution_count": null,
   "id": "ccfbcc7e",
   "metadata": {
    "hide-output": false
   },
   "outputs": [],
   "source": [
    "df.groupby(\"A\").sum()\n",
    "df.groupby([\"A\", \"B\"]).mean()"
   ]
  },
  {
   "cell_type": "markdown",
   "id": "c06c1298",
   "metadata": {},
   "source": [
    "Of course `sum` and `mean` are implemented on pandas objects, so the above\n",
    "code would work even without the special versions via dispatching (see below).\n",
    "\n",
    "\n",
    "<a id='groupby-aggregate-udfs'></a>"
   ]
  },
  {
   "cell_type": "markdown",
   "id": "e5b559a4",
   "metadata": {},
   "source": [
    "### Aggregations with User-Defined Functions\n",
    "\n",
    "Users can also provide their own functions for custom aggregations. When aggregating\n",
    "with a User-Defined Function (UDF), the UDF should not mutate the provided `Series`, see\n",
    "[Mutating with User Defined Function (UDF) methods](43_FAQ_gotchas.ipynb#gotchas-udf-mutation) for more information."
   ]
  },
  {
   "cell_type": "code",
   "execution_count": null,
   "id": "41498f96",
   "metadata": {
    "hide-output": false
   },
   "outputs": [],
   "source": [
    "animals.groupby(\"kind\")[[\"height\"]].agg(lambda x: set(x))"
   ]
  },
  {
   "cell_type": "markdown",
   "id": "ec7a8602",
   "metadata": {},
   "source": [
    "The resulting dtype will reflect that of the aggregating function. If the results from different groups have\n",
    "different dtypes, then a common dtype will be determined in the same way as `DataFrame` construction."
   ]
  },
  {
   "cell_type": "code",
   "execution_count": null,
   "id": "0912e396",
   "metadata": {
    "hide-output": false
   },
   "outputs": [],
   "source": [
    "animals.groupby(\"kind\")[[\"height\"]].agg(lambda x: x.astype(int).sum())"
   ]
  },
  {
   "cell_type": "markdown",
   "id": "d2b5fc7f",
   "metadata": {},
   "source": [
    "\n",
    "<a id='groupby-transform'></a>"
   ]
  },
  {
   "cell_type": "markdown",
   "id": "86824edb",
   "metadata": {},
   "source": [
    "## Transformation\n",
    "\n",
    "The `transform` method returns an object that is indexed the same (same size)\n",
    "as the one being grouped. The transform function must:\n",
    "\n",
    "- Return a result that is either the same size as the group chunk or\n",
    "  broadcastable to the size of the group chunk (e.g., a scalar,\n",
    "  `grouped.transform(lambda x: x.iloc[-1])`).  \n",
    "- Operate column-by-column on the group chunk.  The transform is applied to\n",
    "  the first group chunk using chunk.apply.  \n",
    "- Not perform in-place operations on the group chunk. Group chunks should\n",
    "  be treated as immutable, and changes to a group chunk may produce unexpected\n",
    "  results. For example, when using `fillna`, `inplace` must be `False`\n",
    "  (`grouped.transform(lambda x: x.fillna(inplace=False))`).  \n",
    "- (Optionally) operates on the entire group chunk. If this is supported, a\n",
    "  fast path is used starting from the *second* chunk.  \n",
    "\n",
    "\n",
    "Similar to [Aggregations with User-Defined Functions](#groupby-aggregate-udfs), the resulting dtype will reflect that of the\n",
    "transformation function. If the results from different groups have different dtypes, then\n",
    "a common dtype will be determined in the same way as `DataFrame` construction.\n",
    "\n",
    "Suppose we wished to standardize the data within each group:"
   ]
  },
  {
   "cell_type": "code",
   "execution_count": null,
   "id": "40ef769d",
   "metadata": {
    "hide-output": false
   },
   "outputs": [],
   "source": [
    "index = pd.date_range(\"10/1/1999\", periods=1100)\n",
    "ts = pd.Series(np.random.normal(0.5, 2, 1100), index)\n",
    "ts = ts.rolling(window=100, min_periods=100).mean().dropna()\n",
    "\n",
    "ts.head()\n",
    "ts.tail()\n",
    "\n",
    "transformed = ts.groupby(lambda x: x.year).transform(\n",
    "    lambda x: (x - x.mean()) / x.std()\n",
    ")"
   ]
  },
  {
   "cell_type": "markdown",
   "id": "609c32de",
   "metadata": {},
   "source": [
    "We would expect the result to now have mean 0 and standard deviation 1 within\n",
    "each group, which we can easily check:"
   ]
  },
  {
   "cell_type": "code",
   "execution_count": null,
   "id": "066045e0",
   "metadata": {
    "hide-output": false
   },
   "outputs": [],
   "source": [
    "# Original Data\n",
    "grouped = ts.groupby(lambda x: x.year)\n",
    "grouped.mean()\n",
    "grouped.std()\n",
    "\n",
    "# Transformed Data\n",
    "grouped_trans = transformed.groupby(lambda x: x.year)\n",
    "grouped_trans.mean()\n",
    "grouped_trans.std()"
   ]
  },
  {
   "cell_type": "markdown",
   "id": "288def57",
   "metadata": {},
   "source": [
    "We can also visually compare the original and transformed data sets."
   ]
  },
  {
   "cell_type": "code",
   "execution_count": null,
   "id": "8dac3811",
   "metadata": {
    "hide-output": false
   },
   "outputs": [],
   "source": [
    "compare = pd.DataFrame({\"Original\": ts, \"Transformed\": transformed})\n",
    "compare.plot()"
   ]
  },
  {
   "cell_type": "markdown",
   "id": "54f94bdb",
   "metadata": {},
   "source": [
    "Transformation functions that have lower dimension outputs are broadcast to\n",
    "match the shape of the input array."
   ]
  },
  {
   "cell_type": "code",
   "execution_count": null,
   "id": "d2c73fb2",
   "metadata": {
    "hide-output": false
   },
   "outputs": [],
   "source": [
    "ts.groupby(lambda x: x.year).transform(lambda x: x.max() - x.min())"
   ]
  },
  {
   "cell_type": "markdown",
   "id": "f2eb1777",
   "metadata": {},
   "source": [
    "Alternatively, the built-in methods could be used to produce the same outputs."
   ]
  },
  {
   "cell_type": "code",
   "execution_count": null,
   "id": "f339c3f4",
   "metadata": {
    "hide-output": false
   },
   "outputs": [],
   "source": [
    "max = ts.groupby(lambda x: x.year).transform(\"max\")\n",
    "min = ts.groupby(lambda x: x.year).transform(\"min\")\n",
    "\n",
    "max - min"
   ]
  },
  {
   "cell_type": "markdown",
   "id": "1f0cd5e4-68a5-4501-b0b3-e674b0cc14da",
   "metadata": {},
   "source": [
    "Another common data transform is to replace missing data with the group mean."
   ]
  },
  {
   "cell_type": "code",
   "execution_count": null,
   "id": "29199e59-eac7-4fc4-a6f5-46075efc09e4",
   "metadata": {},
   "outputs": [],
   "source": [
    "   cols = [\"A\", \"B\", \"C\"]\n",
    "values = np.random.randn(1000, 3)\n",
    "values[np.random.randint(0, 1000, 100), 0] = np.nan\n",
    "values[np.random.randint(0, 1000, 50), 1] = np.nan\n",
    "values[np.random.randint(0, 1000, 200), 2] = np.nan\n",
    "data_df = pd.DataFrame(values, columns=cols)\n"
   ]
  },
  {
   "cell_type": "code",
   "execution_count": null,
   "id": "963b1e57",
   "metadata": {
    "hide-output": false
   },
   "outputs": [],
   "source": [
    "data_df\n",
    "\n",
    "countries = np.array([\"US\", \"UK\", \"GR\", \"JP\"])\n",
    "key = countries[np.random.randint(0, 4, 1000)]\n",
    "\n",
    "grouped = data_df.groupby(key)\n",
    "\n",
    "# Non-NA count in each group\n",
    "grouped.count()\n",
    "\n",
    "transformed = grouped.transform(lambda x: x.fillna(x.mean()))"
   ]
  },
  {
   "cell_type": "markdown",
   "id": "d166a284",
   "metadata": {},
   "source": [
    "We can verify that the group means have not changed in the transformed data\n",
    "and that the transformed data contains no NAs."
   ]
  },
  {
   "cell_type": "code",
   "execution_count": null,
   "id": "b8695e7d",
   "metadata": {
    "hide-output": false
   },
   "outputs": [],
   "source": [
    "grouped_trans = transformed.groupby(key)\n",
    "\n",
    "grouped.mean()  # original group means\n",
    "grouped_trans.mean()  # transformation did not change group means\n",
    "\n",
    "grouped.count()  # original has some missing data points\n",
    "grouped_trans.count()  # counts after transformation\n",
    "grouped_trans.size()  # Verify non-NA count equals group size"
   ]
  },
  {
   "cell_type": "markdown",
   "id": "ae8f2d4b",
   "metadata": {},
   "source": [
    ">**Note**\n",
    ">\n",
    ">Some functions will automatically transform the input when applied to a\n",
    "GroupBy object, but returning an object of the same shape as the original.\n",
    "Passing `as_index=False` will not affect these transformation methods.\n",
    "\n",
    "For example: `fillna, ffill, bfill, shift.`."
   ]
  },
  {
   "cell_type": "code",
   "execution_count": null,
   "id": "a0d66cb2",
   "metadata": {
    "hide-output": false
   },
   "outputs": [],
   "source": [
    "grouped.ffill()"
   ]
  },
  {
   "cell_type": "markdown",
   "id": "5569d8f1",
   "metadata": {},
   "source": [
    "\n",
    "<a id='groupby-transform-window-resample'></a>"
   ]
  },
  {
   "cell_type": "markdown",
   "id": "bfc2ff18",
   "metadata": {},
   "source": [
    "### Window and resample operations\n",
    "\n",
    "It is possible to use `resample()`, `expanding()` and\n",
    "`rolling()` as methods on groupbys.\n",
    "\n",
    "The example below will apply the `rolling()` method on the samples of\n",
    "the column B based on the groups of column A."
   ]
  },
  {
   "cell_type": "code",
   "execution_count": null,
   "id": "2dcec994",
   "metadata": {
    "hide-output": false
   },
   "outputs": [],
   "source": [
    "df_re = pd.DataFrame({\"A\": [1] * 10 + [5] * 10, \"B\": np.arange(20)})\n",
    "df_re\n",
    "\n",
    "df_re.groupby(\"A\").rolling(4).B.mean()"
   ]
  },
  {
   "cell_type": "markdown",
   "id": "b11fd305",
   "metadata": {},
   "source": [
    "The `expanding()` method will accumulate a given operation\n",
    "(`sum()` in the example) for all the members of each particular\n",
    "group."
   ]
  },
  {
   "cell_type": "code",
   "execution_count": null,
   "id": "03f3cf6e",
   "metadata": {
    "hide-output": false
   },
   "outputs": [],
   "source": [
    "df_re.groupby(\"A\").expanding().sum()"
   ]
  },
  {
   "cell_type": "markdown",
   "id": "b2bbb408",
   "metadata": {},
   "source": [
    "Suppose you want to use the `resample()` method to get a daily\n",
    "frequency in each group of your dataframe and wish to complete the\n",
    "missing values with the `ffill()` method."
   ]
  },
  {
   "cell_type": "code",
   "execution_count": null,
   "id": "b020b348",
   "metadata": {
    "hide-output": false
   },
   "outputs": [],
   "source": [
    "df_re = pd.DataFrame(\n",
    "    {\n",
    "        \"date\": pd.date_range(start=\"2016-01-01\", periods=4, freq=\"W\"),\n",
    "        \"group\": [1, 1, 2, 2],\n",
    "        \"val\": [5, 6, 7, 8],\n",
    "    }\n",
    ").set_index(\"date\")\n",
    "df_re\n",
    "\n",
    "df_re.groupby(\"group\").resample(\"1D\").ffill()"
   ]
  },
  {
   "cell_type": "markdown",
   "id": "f8778a47",
   "metadata": {},
   "source": [
    "\n",
    "<a id='groupby-filter'></a>"
   ]
  },
  {
   "cell_type": "markdown",
   "id": "9325448d",
   "metadata": {},
   "source": [
    "## Filtration\n",
    "\n",
    "The `filter` method returns a subset of the original object. Suppose we\n",
    "want to take only elements that belong to groups with a group sum greater\n",
    "than 2."
   ]
  },
  {
   "cell_type": "code",
   "execution_count": null,
   "id": "7557e816",
   "metadata": {
    "hide-output": false
   },
   "outputs": [],
   "source": [
    "sf = pd.Series([1, 1, 2, 3, 3, 3])\n",
    "sf.groupby(sf).filter(lambda x: x.sum() > 2)"
   ]
  },
  {
   "cell_type": "markdown",
   "id": "78b083bc",
   "metadata": {},
   "source": [
    "The argument of `filter` must be a function that, applied to the group as a\n",
    "whole, returns `True` or `False`.\n",
    "\n",
    "Another useful operation is filtering out elements that belong to groups\n",
    "with only a couple members."
   ]
  },
  {
   "cell_type": "code",
   "execution_count": null,
   "id": "ce81793e",
   "metadata": {
    "hide-output": false
   },
   "outputs": [],
   "source": [
    "dff = pd.DataFrame({\"A\": np.arange(8), \"B\": list(\"aabbbbcc\")})\n",
    "dff.groupby(\"B\").filter(lambda x: len(x) > 2)"
   ]
  },
  {
   "cell_type": "markdown",
   "id": "19a1891b",
   "metadata": {},
   "source": [
    "Alternatively, instead of dropping the offending groups, we can return a\n",
    "like-indexed objects where the groups that do not pass the filter are filled\n",
    "with NaNs."
   ]
  },
  {
   "cell_type": "code",
   "execution_count": null,
   "id": "c38091da",
   "metadata": {
    "hide-output": false
   },
   "outputs": [],
   "source": [
    "dff.groupby(\"B\").filter(lambda x: len(x) > 2, dropna=False)"
   ]
  },
  {
   "cell_type": "markdown",
   "id": "734f488f",
   "metadata": {},
   "source": [
    "For DataFrames with multiple columns, filters should explicitly specify a column as the filter criterion."
   ]
  },
  {
   "cell_type": "code",
   "execution_count": null,
   "id": "4e5b1360",
   "metadata": {
    "hide-output": false
   },
   "outputs": [],
   "source": [
    "dff[\"C\"] = np.arange(8)\n",
    "dff.groupby(\"B\").filter(lambda x: len(x[\"C\"]) > 2)"
   ]
  },
  {
   "cell_type": "markdown",
   "id": "db2623c3",
   "metadata": {},
   "source": [
    ">**Note**\n",
    ">\n",
    ">Some functions when applied to a groupby object will act as a **filter** on the input, returning\n",
    "a reduced shape of the original (and potentially eliminating groups), but with the index unchanged.\n",
    "Passing `as_index=False` will not affect these transformation methods.\n",
    "\n",
    "For example: `head, tail`."
   ]
  },
  {
   "cell_type": "code",
   "execution_count": null,
   "id": "c5641eee",
   "metadata": {
    "hide-output": false
   },
   "outputs": [],
   "source": [
    "dff.groupby(\"B\").head(2)"
   ]
  },
  {
   "cell_type": "markdown",
   "id": "b6b0635d",
   "metadata": {},
   "source": [
    "\n",
    "<a id='groupby-dispatch'></a>"
   ]
  },
  {
   "cell_type": "markdown",
   "id": "4887d85f",
   "metadata": {},
   "source": [
    "## Dispatching to instance methods\n",
    "\n",
    "When doing an aggregation or transformation, you might just want to call an\n",
    "instance method on each data group. This is pretty easy to do by passing lambda\n",
    "functions:"
   ]
  },
  {
   "cell_type": "code",
   "execution_count": null,
   "id": "a85a7297",
   "metadata": {
    "hide-output": false
   },
   "outputs": [],
   "source": [
    "grouped = df.groupby(\"A\")\n",
    "grouped.agg(lambda x: x.std())\n",
    "#FutureWarning: Dropping invalid columns in SeriesGroupBy.agg is deprecated. In a future version, a TypeError will be raised. Before calling .agg, select only columns which should be valid for the aggregating function."
   ]
  },
  {
   "cell_type": "markdown",
   "id": "becf8751",
   "metadata": {},
   "source": [
    "But, it’s rather verbose and can be untidy if you need to pass additional\n",
    "arguments. Using a bit of metaprogramming cleverness, GroupBy now has the\n",
    "ability to “dispatch” method calls to the groups:"
   ]
  },
  {
   "cell_type": "code",
   "execution_count": null,
   "id": "0bf4f0ed",
   "metadata": {
    "hide-output": false
   },
   "outputs": [],
   "source": [
    "grouped.std()"
   ]
  },
  {
   "cell_type": "markdown",
   "id": "4162b4a5",
   "metadata": {},
   "source": [
    "What is actually happening here is that a function wrapper is being\n",
    "generated. When invoked, it takes any passed arguments and invokes the function\n",
    "with any arguments on each group (in the above example, the `std`\n",
    "function). The results are then combined together much in the style of `agg`\n",
    "and `transform` (it actually uses `apply` to infer the gluing, documented\n",
    "next). This enables some operations to be carried out rather succinctly:"
   ]
  },
  {
   "cell_type": "code",
   "execution_count": null,
   "id": "acd7e65b",
   "metadata": {
    "hide-output": false
   },
   "outputs": [],
   "source": [
    "tsdf = pd.DataFrame(\n",
    "    np.random.randn(1000, 3),\n",
    "    index=pd.date_range(\"1/1/2000\", periods=1000),\n",
    "    columns=[\"A\", \"B\", \"C\"],\n",
    ")\n",
    "tsdf.iloc[::2] = np.nan\n",
    "grouped = tsdf.groupby(lambda x: x.year)\n",
    "grouped.fillna(method=\"pad\")"
   ]
  },
  {
   "cell_type": "markdown",
   "id": "180ef114",
   "metadata": {},
   "source": [
    "In this example, we chopped the collection of time series into yearly chunks\n",
    "then independently called fillna on the\n",
    "groups.\n",
    "\n",
    "The `nlargest` and `nsmallest` methods work on `Series` style groupbys:"
   ]
  },
  {
   "cell_type": "code",
   "execution_count": null,
   "id": "6a62f1c4",
   "metadata": {
    "hide-output": false
   },
   "outputs": [],
   "source": [
    "s = pd.Series([9, 8, 7, 5, 19, 1, 4.2, 3.3])\n",
    "g = pd.Series(list(\"abababab\"))\n",
    "gb = s.groupby(g)\n",
    "gb.nlargest(3)\n",
    "gb.nsmallest(3)"
   ]
  },
  {
   "cell_type": "markdown",
   "id": "1c61fc44",
   "metadata": {},
   "source": [
    "\n",
    "<a id='groupby-apply'></a>"
   ]
  },
  {
   "cell_type": "markdown",
   "id": "4dfd9f6d",
   "metadata": {},
   "source": [
    "## Flexible `apply`\n",
    "\n",
    "Some operations on the grouped data might not fit into either the aggregate or\n",
    "transform categories. Or, you may simply want GroupBy to infer how to combine\n",
    "the results. For these, use the `apply` function, which can be substituted\n",
    "for both `aggregate` and `transform` in many standard use cases. However,\n",
    "`apply` can handle some exceptional use cases, for example:"
   ]
  },
  {
   "cell_type": "code",
   "execution_count": null,
   "id": "4f9bc793",
   "metadata": {
    "hide-output": false
   },
   "outputs": [],
   "source": [
    "df\n",
    "grouped = df.groupby(\"A\")\n",
    "\n",
    "# could also just call .describe()\n",
    "grouped[\"C\"].apply(lambda x: x.describe())"
   ]
  },
  {
   "cell_type": "markdown",
   "id": "52fc09d3",
   "metadata": {},
   "source": [
    "The dimension of the returned result can also change:\n",
    "\n",
    "`apply` on a Series can operate on a returned value from the applied function,\n",
    "that is itself a series, and possibly upcast the result to a DataFrame:"
   ]
  },
  {
   "cell_type": "code",
   "execution_count": null,
   "id": "c3aece52",
   "metadata": {
    "hide-output": false
   },
   "outputs": [],
   "source": [
    "def f(x):\n",
    "    return pd.Series([x, x ** 2], index=[\"x\", \"x^2\"])\n",
    "\n",
    "\n",
    "s = pd.Series(np.random.rand(5))\n",
    "s\n",
    "s.apply(f)"
   ]
  },
  {
   "cell_type": "markdown",
   "id": "3b05ed93",
   "metadata": {},
   "source": [
    ">**Note**\n",
    ">\n",
    ">`apply` can act as a reducer, transformer, *or* filter function, depending on exactly what is passed to it.\n",
    "So depending on the path taken, and exactly what you are grouping. Thus the grouped columns(s) may be included in\n",
    "the output as well as set the indices.\n",
    "\n",
    "Similar to [Aggregations with User-Defined Functions](#groupby-aggregate-udfs), the resulting dtype will reflect that of the\n",
    "apply function. If the results from different groups have different dtypes, then\n",
    "a common dtype will be determined in the same way as `DataFrame` construction."
   ]
  },
  {
   "cell_type": "markdown",
   "id": "568a33e2",
   "metadata": {},
   "source": [
    "## Numba Accelerated Routines\n",
    "\n",
    "New in version 1.1.\n",
    "\n",
    "If [Numba](https://numba.pydata.org/) is installed as an optional dependency, the `transform` and\n",
    "`aggregate` methods support `engine='numba'` and `engine_kwargs` arguments.\n",
    "See [enhancing performance with Numba](41_enhancingperformance.ipynb#enhancingperf-numba) for general usage of the arguments\n",
    "and performance considerations.\n",
    "\n",
    "The function signature must start with `values, index` **exactly** as the data belonging to each group\n",
    "will be passed into `values`, and the group index will be passed into `index`.\n",
    "\n",
    "warning:\n",
    "\n",
    "> When using `engine='numba'`, there will be no “fall back” behavior internally. The group\n",
    "data and group index will be passed as NumPy arrays to the JITed user defined function, and no\n",
    "alternative execution attempts will be tried."
   ]
  },
  {
   "cell_type": "markdown",
   "id": "a4af3f7f",
   "metadata": {},
   "source": [
    "## Other useful features"
   ]
  },
  {
   "cell_type": "markdown",
   "id": "4cba2dc9",
   "metadata": {},
   "source": [
    "### Automatic exclusion of “nuisance” columns\n",
    "\n",
    "Again consider the example DataFrame we’ve been looking at:"
   ]
  },
  {
   "cell_type": "code",
   "execution_count": null,
   "id": "333e0273",
   "metadata": {
    "hide-output": false
   },
   "outputs": [],
   "source": [
    "df"
   ]
  },
  {
   "cell_type": "markdown",
   "id": "c68e62d7",
   "metadata": {},
   "source": [
    "Suppose we wish to compute the standard deviation grouped by the `A`\n",
    "column. There is a slight problem, namely that we don’t care about the data in\n",
    "column `B`. We refer to this as a “nuisance” column. If the passed\n",
    "aggregation function can’t be applied to some columns, the troublesome columns\n",
    "will be (silently) dropped. Thus, this does not pose any problems:"
   ]
  },
  {
   "cell_type": "code",
   "execution_count": null,
   "id": "40f4021a",
   "metadata": {
    "hide-output": false
   },
   "outputs": [],
   "source": [
    "df.groupby(\"A\").std()"
   ]
  },
  {
   "cell_type": "markdown",
   "id": "74f14b82",
   "metadata": {},
   "source": [
    "Note that `df.groupby('A').colname.std().` is more efficient than\n",
    "`df.groupby('A').std().colname`, so if the result of an aggregation function\n",
    "is only interesting over one column (here `colname`), it may be filtered\n",
    "*before* applying the aggregation function.\n",
    "\n",
    ">**Note**\n",
    ">\n",
    ">Any object column, also if it contains numerical values such as `Decimal`\n",
    "objects, is considered as a “nuisance” columns. They are excluded from\n",
    "aggregate functions automatically in groupby.\n",
    "\n",
    "If you do wish to include decimal or object columns in an aggregation with\n",
    "other non-nuisance data types, you must do so explicitly."
   ]
  },
  {
   "cell_type": "code",
   "execution_count": null,
   "id": "a5181bf2",
   "metadata": {
    "hide-output": false
   },
   "outputs": [],
   "source": [
    "from decimal import Decimal\n",
    "\n",
    "df_dec = pd.DataFrame(\n",
    "    {\n",
    "        \"id\": [1, 2, 1, 2],\n",
    "        \"int_column\": [1, 2, 3, 4],\n",
    "        \"dec_column\": [\n",
    "            Decimal(\"0.50\"),\n",
    "            Decimal(\"0.15\"),\n",
    "            Decimal(\"0.25\"),\n",
    "            Decimal(\"0.40\"),\n",
    "        ],\n",
    "    }\n",
    ")\n",
    "\n",
    "# Decimal columns can be sum'd explicitly by themselves...\n",
    "df_dec.groupby([\"id\"])[[\"dec_column\"]].sum()\n",
    "\n",
    "# ...but cannot be combined with standard data types or they will be excluded\n",
    "df_dec.groupby([\"id\"])[[\"int_column\", \"dec_column\"]].sum()\n",
    "\n",
    "# Use .agg function to aggregate over standard and \"nuisance\" data types\n",
    "# at the same time\n",
    "df_dec.groupby([\"id\"]).agg({\"int_column\": \"sum\", \"dec_column\": \"sum\"})"
   ]
  },
  {
   "cell_type": "markdown",
   "id": "344d6621",
   "metadata": {},
   "source": [
    "\n",
    "<a id='groupby-observed'></a>"
   ]
  },
  {
   "cell_type": "markdown",
   "id": "42afe039",
   "metadata": {},
   "source": [
    "### Handling of (un)observed Categorical values\n",
    "\n",
    "When using a `Categorical` grouper (as a single grouper, or as part of multiple groupers), the `observed` keyword\n",
    "controls whether to return a cartesian product of all possible groupers values (`observed=False`) or only those\n",
    "that are observed groupers (`observed=True`).\n",
    "\n",
    "Show all values:"
   ]
  },
  {
   "cell_type": "code",
   "execution_count": null,
   "id": "d71b8305",
   "metadata": {
    "hide-output": false
   },
   "outputs": [],
   "source": [
    "pd.Series([1, 1, 1]).groupby(\n",
    "    pd.Categorical([\"a\", \"a\", \"a\"], categories=[\"a\", \"b\"]), observed=False\n",
    ").count()"
   ]
  },
  {
   "cell_type": "markdown",
   "id": "40084edc",
   "metadata": {},
   "source": [
    "Show only the observed values:"
   ]
  },
  {
   "cell_type": "code",
   "execution_count": null,
   "id": "25187db4",
   "metadata": {
    "hide-output": false
   },
   "outputs": [],
   "source": [
    "pd.Series([1, 1, 1]).groupby(\n",
    "    pd.Categorical([\"a\", \"a\", \"a\"], categories=[\"a\", \"b\"]), observed=True\n",
    ").count()"
   ]
  },
  {
   "cell_type": "markdown",
   "id": "76eb4f20",
   "metadata": {},
   "source": [
    "The returned dtype of the grouped will *always* include *all* of the categories that were grouped."
   ]
  },
  {
   "cell_type": "code",
   "execution_count": null,
   "id": "e36bf250",
   "metadata": {
    "hide-output": false
   },
   "outputs": [],
   "source": [
    "s = (\n",
    "    pd.Series([1, 1, 1])\n",
    "    .groupby(pd.Categorical([\"a\", \"a\", \"a\"], categories=[\"a\", \"b\"]), observed=False)\n",
    "    .count()\n",
    ")\n",
    "s.index.dtype"
   ]
  },
  {
   "cell_type": "markdown",
   "id": "accdca22",
   "metadata": {},
   "source": [
    "\n",
    "<a id='groupby-missing'></a>"
   ]
  },
  {
   "cell_type": "markdown",
   "id": "d0e6e172",
   "metadata": {},
   "source": [
    "### NA and NaT group handling\n",
    "\n",
    "If there are any NaN or NaT values in the grouping key, these will be\n",
    "automatically excluded. In other words, there will never be an “NA group” or\n",
    "“NaT group”. This was not the case in older versions of pandas, but users were\n",
    "generally discarding the NA group anyway (and supporting it was an\n",
    "implementation headache)."
   ]
  },
  {
   "cell_type": "markdown",
   "id": "e22ec448",
   "metadata": {},
   "source": [
    "### Grouping with ordered factors\n",
    "\n",
    "Categorical variables represented as instance of pandas’s `Categorical` class\n",
    "can be used as group keys. If so, the order of the levels will be preserved:"
   ]
  },
  {
   "cell_type": "code",
   "execution_count": null,
   "id": "0b752265",
   "metadata": {
    "hide-output": false
   },
   "outputs": [],
   "source": [
    "data = pd.Series(np.random.randn(100))\n",
    "\n",
    "factor = pd.qcut(data, [0, 0.25, 0.5, 0.75, 1.0])\n",
    "\n",
    "data.groupby(factor).mean()"
   ]
  },
  {
   "cell_type": "markdown",
   "id": "0aaafaa9",
   "metadata": {},
   "source": [
    "\n",
    "<a id='groupby-specify'></a>"
   ]
  },
  {
   "cell_type": "markdown",
   "id": "798d749b",
   "metadata": {},
   "source": [
    "### Grouping with a grouper specification\n",
    "\n",
    "You may need to specify a bit more data to properly group. You can\n",
    "use the `pd.Grouper` to provide this local control."
   ]
  },
  {
   "cell_type": "code",
   "execution_count": null,
   "id": "edf95c80",
   "metadata": {
    "hide-output": false
   },
   "outputs": [],
   "source": [
    "import datetime\n",
    "\n",
    "df = pd.DataFrame(\n",
    "    {\n",
    "        \"Branch\": \"A A A A A A A B\".split(),\n",
    "        \"Buyer\": \"Carl Mark Carl Carl Joe Joe Joe Carl\".split(),\n",
    "        \"Quantity\": [1, 3, 5, 1, 8, 1, 9, 3],\n",
    "        \"Date\": [\n",
    "            datetime.datetime(2013, 1, 1, 13, 0),\n",
    "            datetime.datetime(2013, 1, 1, 13, 5),\n",
    "            datetime.datetime(2013, 10, 1, 20, 0),\n",
    "            datetime.datetime(2013, 10, 2, 10, 0),\n",
    "            datetime.datetime(2013, 10, 1, 20, 0),\n",
    "            datetime.datetime(2013, 10, 2, 10, 0),\n",
    "            datetime.datetime(2013, 12, 2, 12, 0),\n",
    "            datetime.datetime(2013, 12, 2, 14, 0),\n",
    "        ],\n",
    "    }\n",
    ")\n",
    "\n",
    "df"
   ]
  },
  {
   "cell_type": "markdown",
   "id": "bdae4f8c",
   "metadata": {},
   "source": [
    "Groupby a specific column with the desired frequency. This is like resampling."
   ]
  },
  {
   "cell_type": "code",
   "execution_count": null,
   "id": "139bfb6d",
   "metadata": {
    "hide-output": false
   },
   "outputs": [],
   "source": [
    "df.groupby([pd.Grouper(freq=\"1M\", key=\"Date\"), \"Buyer\"]).sum()"
   ]
  },
  {
   "cell_type": "markdown",
   "id": "2e7bf7a3",
   "metadata": {},
   "source": [
    "You have an ambiguous specification in that you have a named index and a column\n",
    "that could be potential groupers."
   ]
  },
  {
   "cell_type": "code",
   "execution_count": null,
   "id": "d5174695",
   "metadata": {
    "hide-output": false
   },
   "outputs": [],
   "source": [
    "df = df.set_index(\"Date\")\n",
    "df[\"Date\"] = df.index + pd.offsets.MonthEnd(2)\n",
    "df.groupby([pd.Grouper(freq=\"6M\", key=\"Date\"), \"Buyer\"]).sum()\n",
    "\n",
    "df.groupby([pd.Grouper(freq=\"6M\", level=\"Date\"), \"Buyer\"]).sum()"
   ]
  },
  {
   "cell_type": "markdown",
   "id": "eabff701",
   "metadata": {},
   "source": [
    "### Taking the first rows of each group\n",
    "\n",
    "Just like for a DataFrame or Series you can call head and tail on a groupby:"
   ]
  },
  {
   "cell_type": "code",
   "execution_count": null,
   "id": "c39a8706",
   "metadata": {
    "hide-output": false
   },
   "outputs": [],
   "source": [
    "df = pd.DataFrame([[1, 2], [1, 4], [5, 6]], columns=[\"A\", \"B\"])\n",
    "df\n",
    "\n",
    "g = df.groupby(\"A\")\n",
    "g.head(1)\n",
    "\n",
    "g.tail(1)"
   ]
  },
  {
   "cell_type": "markdown",
   "id": "27883c45",
   "metadata": {},
   "source": [
    "This shows the first or last n rows from each group.\n",
    "\n",
    "\n",
    "<a id='groupby-nth'></a>"
   ]
  },
  {
   "cell_type": "markdown",
   "id": "5a68ab09",
   "metadata": {},
   "source": [
    "### Taking the nth row of each group\n",
    "\n",
    "To select from a DataFrame or Series the nth item, use\n",
    "`nth()`. This is a reduction method, and\n",
    "will return a single row (or no row) per group if you pass an int for n:"
   ]
  },
  {
   "cell_type": "code",
   "execution_count": null,
   "id": "b7467ceb",
   "metadata": {
    "hide-output": false
   },
   "outputs": [],
   "source": [
    "df = pd.DataFrame([[1, np.nan], [1, 4], [5, 6]], columns=[\"A\", \"B\"])\n",
    "g = df.groupby(\"A\")\n",
    "\n",
    "g.nth(0)\n",
    "g.nth(-1)\n",
    "g.nth(1)"
   ]
  },
  {
   "cell_type": "markdown",
   "id": "1dbc862b",
   "metadata": {},
   "source": [
    "If you want to select the nth not-null item, use the `dropna` kwarg. For a DataFrame this should be either `'any'` or `'all'` just like you would pass to dropna:"
   ]
  },
  {
   "cell_type": "code",
   "execution_count": null,
   "id": "6ebe7590",
   "metadata": {
    "hide-output": false
   },
   "outputs": [],
   "source": [
    "# nth(0) is the same as g.first()\n",
    "g.nth(0, dropna=\"any\")\n",
    "g.first()\n",
    "\n",
    "# nth(-1) is the same as g.last()\n",
    "g.nth(-1, dropna=\"any\")  # NaNs denote group exhausted when using dropna\n",
    "g.last()\n",
    "\n",
    "g.B.nth(0, dropna=\"all\")"
   ]
  },
  {
   "cell_type": "markdown",
   "id": "128abb35",
   "metadata": {},
   "source": [
    "As with other methods, passing `as_index=False`, will achieve a filtration, which returns the grouped row."
   ]
  },
  {
   "cell_type": "code",
   "execution_count": null,
   "id": "573e2310",
   "metadata": {
    "hide-output": false
   },
   "outputs": [],
   "source": [
    "df = pd.DataFrame([[1, np.nan], [1, 4], [5, 6]], columns=[\"A\", \"B\"])\n",
    "g = df.groupby(\"A\", as_index=False)\n",
    "\n",
    "g.nth(0)\n",
    "g.nth(-1)"
   ]
  },
  {
   "cell_type": "markdown",
   "id": "314a1dce",
   "metadata": {},
   "source": [
    "You can also select multiple rows from each group by specifying multiple nth values as a list of ints."
   ]
  },
  {
   "cell_type": "code",
   "execution_count": null,
   "id": "992a61bd",
   "metadata": {
    "hide-output": false
   },
   "outputs": [],
   "source": [
    "business_dates = pd.date_range(start=\"4/1/2014\", end=\"6/30/2014\", freq=\"B\")\n",
    "df = pd.DataFrame(1, index=business_dates, columns=[\"a\", \"b\"])\n",
    "# get the first, 4th, and last date index for each month\n",
    "df.groupby([df.index.year, df.index.month]).nth([0, 3, -1])"
   ]
  },
  {
   "cell_type": "markdown",
   "id": "bc13e13c",
   "metadata": {},
   "source": [
    "### Enumerate group items\n",
    "\n",
    "To see the order in which each row appears within its group, use the\n",
    "`cumcount` method:"
   ]
  },
  {
   "cell_type": "code",
   "execution_count": null,
   "id": "2fd051b4",
   "metadata": {
    "hide-output": false
   },
   "outputs": [],
   "source": [
    "dfg = pd.DataFrame(list(\"aaabba\"), columns=[\"A\"])\n",
    "dfg\n",
    "\n",
    "dfg.groupby(\"A\").cumcount()\n",
    "\n",
    "dfg.groupby(\"A\").cumcount(ascending=False)"
   ]
  },
  {
   "cell_type": "markdown",
   "id": "58e67047",
   "metadata": {},
   "source": [
    "\n",
    "<a id='groupby-ngroup'></a>"
   ]
  },
  {
   "cell_type": "markdown",
   "id": "13a4dc30",
   "metadata": {},
   "source": [
    "### Enumerate groups\n",
    "\n",
    "To see the ordering of the groups (as opposed to the order of rows\n",
    "within a group given by `cumcount`) you can use\n",
    "`ngroup()`.\n",
    "\n",
    "Note that the numbers given to the groups match the order in which the\n",
    "groups would be seen when iterating over the groupby object, not the\n",
    "order they are first observed."
   ]
  },
  {
   "cell_type": "code",
   "execution_count": null,
   "id": "ad4adf3d",
   "metadata": {
    "hide-output": false
   },
   "outputs": [],
   "source": [
    "dfg = pd.DataFrame(list(\"aaabba\"), columns=[\"A\"])\n",
    "dfg\n",
    "\n",
    "dfg.groupby(\"A\").ngroup()\n",
    "\n",
    "dfg.groupby(\"A\").ngroup(ascending=False)"
   ]
  },
  {
   "cell_type": "markdown",
   "id": "92fe0466",
   "metadata": {},
   "source": [
    "### Plotting\n",
    "\n",
    "Groupby also works with some plotting methods.  For example, suppose we\n",
    "suspect that some features in a DataFrame may differ by group, in this case,\n",
    "the values in column 1 where the group is “B” are 3 higher on average."
   ]
  },
  {
   "cell_type": "code",
   "execution_count": null,
   "id": "304e77a2",
   "metadata": {
    "hide-output": false
   },
   "outputs": [],
   "source": [
    "np.random.seed(1234)\n",
    "df = pd.DataFrame(np.random.randn(50, 2))\n",
    "df[\"g\"] = np.random.choice([\"A\", \"B\"], size=50)\n",
    "df.loc[df[\"g\"] == \"B\", 1] += 3"
   ]
  },
  {
   "cell_type": "markdown",
   "id": "6816e523",
   "metadata": {},
   "source": [
    "We can easily visualize this with a boxplot:"
   ]
  },
  {
   "cell_type": "code",
   "execution_count": null,
   "id": "d9e475f5",
   "metadata": {
    "hide-output": false
   },
   "outputs": [],
   "source": [
    "df.groupby(\"g\").boxplot()"
   ]
  },
  {
   "cell_type": "markdown",
   "id": "a72b812c",
   "metadata": {},
   "source": [
    "The result of calling `boxplot` is a dictionary whose keys are the values\n",
    "of our grouping column `g` (“A” and “B”). The values of the resulting dictionary\n",
    "can be controlled by the `return_type` keyword of `boxplot`.\n",
    "See the visualization documentation for more.\n",
    "\n",
    "warning:\n",
    "\n",
    "> For historical reasons, `df.groupby(\"g\").boxplot()` is not equivalent\n",
    "to `df.boxplot(by=\"g\")`. See here for\n",
    "an explanation.\n",
    "\n",
    "\n",
    "\n",
    "<a id='groupby-pipe'></a>"
   ]
  },
  {
   "cell_type": "markdown",
   "id": "067d496a",
   "metadata": {},
   "source": [
    "### Piping function calls\n",
    "\n",
    "Similar to the functionality provided by `DataFrame` and `Series`, functions\n",
    "that take `GroupBy` objects can be chained together using a `pipe` method to\n",
    "allow for a cleaner, more readable syntax. To read about `.pipe` in general terms,\n",
    "see here.\n",
    "\n",
    "Combining `.groupby` and `.pipe` is often useful when you need to reuse\n",
    "GroupBy objects.\n",
    "\n",
    "As an example, imagine having a DataFrame with columns for stores, products,\n",
    "revenue and quantity sold. We’d like to do a groupwise calculation of *prices*\n",
    "(i.e. revenue/quantity) per store and per product. We could do this in a\n",
    "multi-step operation, but expressing it in terms of piping can make the\n",
    "code more readable. First we set the data:"
   ]
  },
  {
   "cell_type": "code",
   "execution_count": null,
   "id": "ad23ce1d",
   "metadata": {
    "hide-output": false
   },
   "outputs": [],
   "source": [
    "n = 1000\n",
    "df = pd.DataFrame(\n",
    "    {\n",
    "        \"Store\": np.random.choice([\"Store_1\", \"Store_2\"], n),\n",
    "        \"Product\": np.random.choice([\"Product_1\", \"Product_2\"], n),\n",
    "        \"Revenue\": (np.random.random(n) * 50 + 10).round(2),\n",
    "        \"Quantity\": np.random.randint(1, 10, size=n),\n",
    "    }\n",
    ")\n",
    "df.head(2)"
   ]
  },
  {
   "cell_type": "markdown",
   "id": "9a0f47b0",
   "metadata": {},
   "source": [
    "Now, to find prices per store/product, we can simply do:"
   ]
  },
  {
   "cell_type": "code",
   "execution_count": null,
   "id": "e3d2beee",
   "metadata": {
    "hide-output": false
   },
   "outputs": [],
   "source": [
    "(\n",
    "    df.groupby([\"Store\", \"Product\"])\n",
    "    .pipe(lambda grp: grp.Revenue.sum() / grp.Quantity.sum())\n",
    "    .unstack()\n",
    "    .round(2)\n",
    ")"
   ]
  },
  {
   "cell_type": "markdown",
   "id": "bf077744",
   "metadata": {},
   "source": [
    "Piping can also be expressive when you want to deliver a grouped object to some\n",
    "arbitrary function, for example:"
   ]
  },
  {
   "cell_type": "code",
   "execution_count": null,
   "id": "4100456b",
   "metadata": {
    "hide-output": false
   },
   "outputs": [],
   "source": [
    "def mean(groupby):\n",
    "    return groupby.mean()\n",
    "\n",
    "\n",
    "df.groupby([\"Store\", \"Product\"]).pipe(mean)"
   ]
  },
  {
   "cell_type": "markdown",
   "id": "6e5f2b8b",
   "metadata": {},
   "source": [
    "where `mean` takes a GroupBy object and finds the mean of the Revenue and Quantity\n",
    "columns respectively for each Store-Product combination. The `mean` function can\n",
    "be any function that takes in a GroupBy object; the `.pipe` will pass the GroupBy\n",
    "object as a parameter into the function you specify."
   ]
  },
  {
   "cell_type": "markdown",
   "id": "d03476a1",
   "metadata": {},
   "source": [
    "## Examples"
   ]
  },
  {
   "cell_type": "markdown",
   "id": "5711aa6f",
   "metadata": {},
   "source": [
    "### Regrouping by factor\n",
    "\n",
    "Regroup columns of a DataFrame according to their sum, and sum the aggregated ones."
   ]
  },
  {
   "cell_type": "code",
   "execution_count": null,
   "id": "49195bc4",
   "metadata": {
    "hide-output": false
   },
   "outputs": [],
   "source": [
    "df = pd.DataFrame({\"a\": [1, 0, 0], \"b\": [0, 1, 0], \"c\": [1, 0, 0], \"d\": [2, 3, 4]})\n",
    "df\n",
    "df.groupby(df.sum(), axis=1).sum()"
   ]
  },
  {
   "cell_type": "markdown",
   "id": "3d1429fd",
   "metadata": {},
   "source": [
    "\n",
    "<a id='groupby-multicolumn-factorization'></a>"
   ]
  },
  {
   "cell_type": "markdown",
   "id": "efebdfde",
   "metadata": {},
   "source": [
    "### Multi-column factorization\n",
    "\n",
    "By using `ngroup()`, we can extract\n",
    "information about the groups in a way similar to `factorize()` (as described\n",
    "further in the reshaping API) but which applies\n",
    "naturally to multiple columns of mixed type and different\n",
    "sources. This can be useful as an intermediate categorical-like step\n",
    "in processing, when the relationships between the group rows are more\n",
    "important than their content, or as input to an algorithm which only\n",
    "accepts the integer encoding. (For more information about support in\n",
    "pandas for full categorical data, see the Categorical\n",
    "introduction and the\n",
    "[API documentation](../05_reference/14_Pandas_Arrays.ipynb#api-arrays-categorical).)"
   ]
  },
  {
   "cell_type": "code",
   "execution_count": null,
   "id": "0abaafcd",
   "metadata": {
    "hide-output": false
   },
   "outputs": [],
   "source": [
    "dfg = pd.DataFrame({\"A\": [1, 1, 2, 3, 2], \"B\": list(\"aaaba\")})\n",
    "\n",
    "dfg\n",
    "\n",
    "dfg.groupby([\"A\", \"B\"]).ngroup()\n",
    "\n",
    "dfg.groupby([\"A\", [0, 0, 0, 1, 1]]).ngroup()"
   ]
  },
  {
   "cell_type": "markdown",
   "id": "d17f8501",
   "metadata": {},
   "source": [
    "### Groupby by indexer to ‘resample’ data\n",
    "\n",
    "Resampling produces new hypothetical samples (resamples) from already existing observed data or from a model that generates data. These new samples are similar to the pre-existing samples.\n",
    "\n",
    "In order to resample to work on indices that are non-datetimelike, the following procedure can be utilized.\n",
    "\n",
    "In the following examples, **df.index // 5** returns a binary array which is used to determine what gets selected for the groupby operation.\n",
    "\n",
    ">**Note**\n",
    ">\n",
    ">The below example shows how we can downsample by consolidation of samples into fewer samples. Here by using **df.index // 5**, we are aggregating the samples in bins. By applying **std()** function, we aggregate the information contained in many samples into a small subset of values which is their standard deviation thereby reducing the number of samples."
   ]
  },
  {
   "cell_type": "code",
   "execution_count": null,
   "id": "6d592c52",
   "metadata": {
    "hide-output": false
   },
   "outputs": [],
   "source": [
    "df = pd.DataFrame(np.random.randn(10, 2))\n",
    "df\n",
    "df.index // 5\n",
    "df.groupby(df.index // 5).std()"
   ]
  },
  {
   "cell_type": "markdown",
   "id": "f6921c01",
   "metadata": {},
   "source": [
    "### Returning a Series to propagate names\n",
    "\n",
    "Group DataFrame columns, compute a set of metrics and return a named Series.\n",
    "The Series name is used as the name for the column index. This is especially\n",
    "useful in conjunction with reshaping operations such as stacking in which the\n",
    "column index name will be used as the name of the inserted column:"
   ]
  },
  {
   "cell_type": "code",
   "execution_count": null,
   "id": "2790af72",
   "metadata": {
    "hide-output": false
   },
   "outputs": [],
   "source": [
    "df = pd.DataFrame(\n",
    "    {\n",
    "        \"a\": [0, 0, 0, 0, 1, 1, 1, 1, 2, 2, 2, 2],\n",
    "        \"b\": [0, 0, 1, 1, 0, 0, 1, 1, 0, 0, 1, 1],\n",
    "        \"c\": [1, 0, 1, 0, 1, 0, 1, 0, 1, 0, 1, 0],\n",
    "        \"d\": [0, 0, 0, 1, 0, 0, 0, 1, 0, 0, 0, 1],\n",
    "    }\n",
    ")\n",
    "\n",
    "def compute_metrics(x):\n",
    "    result = {\"b_sum\": x[\"b\"].sum(), \"c_mean\": x[\"c\"].mean()}\n",
    "    return pd.Series(result, name=\"metrics\")\n",
    "\n",
    "result = df.groupby(\"a\").apply(compute_metrics)\n",
    "\n",
    "result\n",
    "\n",
    "result.stack()"
   ]
  }
 ],
 "metadata": {
  "date": 1630231090.44656,
  "filename": "36_groupby.rst",
  "kernelspec": {
   "display_name": "Python 3 (ipykernel)",
   "language": "python",
   "name": "python3"
  },
  "language_info": {
   "codemirror_mode": {
    "name": "ipython",
    "version": 3
   },
   "file_extension": ".py",
   "mimetype": "text/x-python",
   "name": "python",
   "nbconvert_exporter": "python",
   "pygments_lexer": "ipython3",
   "version": "3.8.8"
  },
  "title": "Group by: split-apply-combine"
 },
 "nbformat": 4,
 "nbformat_minor": 5
}
