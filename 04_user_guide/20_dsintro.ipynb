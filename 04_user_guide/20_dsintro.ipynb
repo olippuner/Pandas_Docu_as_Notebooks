{
 "cells": [
  {
   "cell_type": "markdown",
   "id": "49c7af38",
   "metadata": {},
   "source": [
    "\n",
    "<a id='dsintro'></a>"
   ]
  },
  {
   "cell_type": "markdown",
   "id": "d7cdffb2",
   "metadata": {},
   "source": [
    "# Intro to data structures\n",
    "\n",
    "We’ll start with a quick, non-comprehensive overview of the fundamental data\n",
    "structures in pandas to get you started. The fundamental behavior about data\n",
    "types, indexing, and axis labeling / alignment apply across all of the\n",
    "objects. To get started, import NumPy and load pandas into your namespace:"
   ]
  },
  {
   "cell_type": "code",
   "execution_count": null,
   "id": "c1b67717",
   "metadata": {
    "hide-output": false
   },
   "outputs": [],
   "source": [
    "import numpy as np\n",
    "import pandas as pd"
   ]
  },
  {
   "cell_type": "markdown",
   "id": "0e2690eb",
   "metadata": {},
   "source": [
    "Here is a basic tenet to keep in mind: **data alignment is intrinsic**. The link\n",
    "between labels and data will not be broken unless done so explicitly by you.\n",
    "\n",
    "We’ll give a brief intro to the data structures, then consider all of the broad\n",
    "categories of functionality and methods in separate sections.\n",
    "\n",
    "\n",
    "<a id='basics-series'></a>"
   ]
  },
  {
   "cell_type": "markdown",
   "id": "ec1cb04e",
   "metadata": {},
   "source": [
    "## Series\n",
    "\n",
    "`Series` is a one-dimensional labeled array capable of holding any data\n",
    "type (integers, strings, floating point numbers, Python objects, etc.). The axis\n",
    "labels are collectively referred to as the **index**. The basic method to create a Series is to call:"
   ]
  },
  {
   "cell_type": "markdown",
   "id": "681ffc60-485c-424e-80f3-a7b238a2ee70",
   "metadata": {
    "hide-output": false
   },
   "source": [
    ">s = pd.Series(data, index=index)"
   ]
  },
  {
   "cell_type": "markdown",
   "id": "78bd16a3",
   "metadata": {},
   "source": [
    "Here, `data` can be many different things:\n",
    "\n",
    "- a Python dict  \n",
    "- an ndarray  \n",
    "- a scalar value (like 5)  \n",
    "\n",
    "\n",
    "The passed **index** is a list of axis labels. Thus, this separates into a few\n",
    "cases depending on what **data is**:\n",
    "\n",
    "**From ndarray**\n",
    "\n",
    "If `data` is an ndarray, **index** must be the same length as **data**. If no\n",
    "index is passed, one will be created having values `[0, ..., len(data) - 1]`."
   ]
  },
  {
   "cell_type": "code",
   "execution_count": null,
   "id": "c60e14c2-e0ac-43db-a134-ec7098b6ebf9",
   "metadata": {
    "hide-output": false
   },
   "outputs": [],
   "source": [
    "s = pd.Series(np.random.randn(5), index=[\"a\", \"b\", \"c\", \"d\", \"e\"])\n",
    "s"
   ]
  },
  {
   "cell_type": "code",
   "execution_count": null,
   "id": "89e967cd-6f26-4cc9-aace-82ecec41daa8",
   "metadata": {
    "hide-output": false
   },
   "outputs": [],
   "source": [
    "s.index"
   ]
  },
  {
   "cell_type": "code",
   "execution_count": null,
   "id": "02585646-f5f0-42d2-adac-31f34eb32f39",
   "metadata": {
    "hide-output": false
   },
   "outputs": [],
   "source": [
    "pd.Series(np.random.randn(5))"
   ]
  },
  {
   "cell_type": "markdown",
   "id": "984d059a",
   "metadata": {},
   "source": [
    ">**Note**\n",
    ">\n",
    ">pandas supports non-unique index values. If an operation\n",
    "that does not support duplicate index values is attempted, an exception\n",
    "will be raised at that time. The reason for being lazy is nearly all performance-based\n",
    "(there are many instances in computations, like parts of GroupBy, where the index\n",
    "is not used).\n",
    "\n",
    "**From dict**\n",
    "\n",
    "Series can be instantiated from dicts:"
   ]
  },
  {
   "cell_type": "code",
   "execution_count": null,
   "id": "0093bb6d",
   "metadata": {
    "hide-output": false
   },
   "outputs": [],
   "source": [
    "d = {\"b\": 1, \"a\": 0, \"c\": 2}\n",
    "pd.Series(d)"
   ]
  },
  {
   "cell_type": "markdown",
   "id": "e426f9d7",
   "metadata": {},
   "source": [
    ">**Note**\n",
    ">\n",
    ">When the data is a dict, and an index is not passed, the `Series` index\n",
    "will be ordered by the dict’s insertion order, if you’re using Python\n",
    "version >= 3.6 and pandas version >= 0.23.\n",
    ">\n",
    ">If you’re using Python < 3.6 or pandas < 0.23, and an index is not passed,\n",
    "the `Series` index will be the lexically ordered list of dict keys.\n",
    "\n",
    "In the example above, if you were on a Python version lower than 3.6 or a\n",
    "pandas version lower than 0.23, the `Series` would be ordered by the lexical\n",
    "order of the dict keys (i.e. `['a', 'b', 'c']` rather than `['b', 'a', 'c']`).\n",
    "\n",
    "If an index is passed, the values in data corresponding to the labels in the\n",
    "index will be pulled out."
   ]
  },
  {
   "cell_type": "code",
   "execution_count": null,
   "id": "f6ddc550",
   "metadata": {
    "hide-output": false
   },
   "outputs": [],
   "source": [
    "d = {\"a\": 0.0, \"b\": 1.0, \"c\": 2.0}\n",
    "pd.Series(d)\n",
    "pd.Series(d, index=[\"b\", \"c\", \"d\", \"a\"])"
   ]
  },
  {
   "cell_type": "markdown",
   "id": "89ec9881",
   "metadata": {},
   "source": [
    ">**Note**\n",
    ">\n",
    ">NaN (not a number) is the standard missing data marker used in pandas.\n",
    "\n",
    "**From scalar value**\n",
    "\n",
    "If `data` is a scalar value, an index must be\n",
    "provided. The value will be repeated to match the length of **index**."
   ]
  },
  {
   "cell_type": "code",
   "execution_count": null,
   "id": "189a5ae8",
   "metadata": {
    "hide-output": false
   },
   "outputs": [],
   "source": [
    "pd.Series(5.0, index=[\"a\", \"b\", \"c\", \"d\", \"e\"])"
   ]
  },
  {
   "cell_type": "markdown",
   "id": "b3c7201c",
   "metadata": {},
   "source": [
    "### Series is ndarray-like\n",
    "\n",
    "`Series` acts very similarly to a `ndarray`, and is a valid argument to most NumPy functions.\n",
    "However, operations such as slicing will also slice the index."
   ]
  },
  {
   "cell_type": "code",
   "execution_count": null,
   "id": "2f3820a6",
   "metadata": {
    "hide-output": false
   },
   "outputs": [],
   "source": [
    "s[0]\n",
    "s[:3]\n",
    "s[s > s.median()]\n",
    "s[[4, 3, 1]]\n",
    "np.exp(s)"
   ]
  },
  {
   "cell_type": "markdown",
   "id": "d4629874",
   "metadata": {},
   "source": [
    ">**Note**\n",
    ">\n",
    ">We will address array-based indexing like `s[[4, 3, 1]]`\n",
    "in section on indexing.\n",
    "\n",
    "Like a NumPy array, a pandas Series has a `dtype`."
   ]
  },
  {
   "cell_type": "code",
   "execution_count": null,
   "id": "6802bcfe",
   "metadata": {
    "hide-output": false
   },
   "outputs": [],
   "source": [
    "s.dtype"
   ]
  },
  {
   "cell_type": "markdown",
   "id": "e10fe67e",
   "metadata": {},
   "source": [
    "This is often a NumPy dtype. However, pandas and 3rd-party libraries\n",
    "extend NumPy’s type system in a few places, in which case the dtype would\n",
    "be an `ExtensionDtype`. Some examples within\n",
    "pandas are categorical and [Nullable integer data type](31_Nullable_integer_na.ipynb#integer-na). See basics.dtypes\n",
    "for more.\n",
    "\n",
    "If you need the actual array backing a `Series`, use `Series.array`."
   ]
  },
  {
   "cell_type": "code",
   "execution_count": null,
   "id": "1a54d3dd",
   "metadata": {
    "hide-output": false
   },
   "outputs": [],
   "source": [
    "s.array"
   ]
  },
  {
   "cell_type": "markdown",
   "id": "cd9dc45e",
   "metadata": {},
   "source": [
    "Accessing the array can be useful when you need to do some operation without the\n",
    "index (to disable [automatic alignment](#dsintro-alignment), for example).\n",
    "\n",
    "`Series.array` will always be an `ExtensionArray`.\n",
    "Briefly, an ExtensionArray is a thin wrapper around one or more *concrete* arrays like a\n",
    "`numpy.ndarray`. pandas knows how to take an `ExtensionArray` and\n",
    "store it in a `Series` or a column of a `DataFrame`.\n",
    "See basics.dtypes for more.\n",
    "\n",
    "While Series is ndarray-like, if you need an *actual* ndarray, then use\n",
    "`Series.to_numpy()`."
   ]
  },
  {
   "cell_type": "code",
   "execution_count": null,
   "id": "99ed6a19",
   "metadata": {
    "hide-output": false
   },
   "outputs": [],
   "source": [
    "s.to_numpy()"
   ]
  },
  {
   "cell_type": "markdown",
   "id": "67619a82",
   "metadata": {},
   "source": [
    "Even if the Series is backed by a `ExtensionArray`,\n",
    "`Series.to_numpy()` will return a NumPy ndarray."
   ]
  },
  {
   "cell_type": "markdown",
   "id": "27ab6816",
   "metadata": {},
   "source": [
    "### Series is dict-like\n",
    "\n",
    "A Series is like a fixed-size dict in that you can get and set values by index\n",
    "label:"
   ]
  },
  {
   "cell_type": "code",
   "execution_count": null,
   "id": "95f83078",
   "metadata": {
    "hide-output": false
   },
   "outputs": [],
   "source": [
    "s[\"a\"]\n",
    "s[\"e\"] = 12.0\n",
    "s\n",
    "\"e\" in s\n",
    "\"f\" in s"
   ]
  },
  {
   "cell_type": "markdown",
   "id": "a513ea76",
   "metadata": {},
   "source": [
    "If a label is not contained, an exception is raised:"
   ]
  },
  {
   "cell_type": "markdown",
   "id": "3fcb18a6",
   "metadata": {
    "hide-output": false
   },
   "source": [
    "```python\n",
    ">>> s[\"f\"]\n",
    "KeyError: 'f'\n",
    "```\n"
   ]
  },
  {
   "cell_type": "markdown",
   "id": "688a7727",
   "metadata": {},
   "source": [
    "Using the `get` method, a missing label will return None or specified default:"
   ]
  },
  {
   "cell_type": "code",
   "execution_count": null,
   "id": "6a52c278",
   "metadata": {
    "hide-output": false
   },
   "outputs": [],
   "source": [
    "s.get(\"f\")\n",
    "\n",
    "s.get(\"f\", np.nan)"
   ]
  },
  {
   "cell_type": "markdown",
   "id": "195ab6ba",
   "metadata": {},
   "source": [
    "See also the section on attribute access."
   ]
  },
  {
   "cell_type": "markdown",
   "id": "150f4010",
   "metadata": {},
   "source": [
    "### Vectorized operations and label alignment with Series\n",
    "\n",
    "When working with raw NumPy arrays, looping through value-by-value is usually\n",
    "not necessary. The same is true when working with Series in pandas.\n",
    "Series can also be passed into most NumPy methods expecting an ndarray."
   ]
  },
  {
   "cell_type": "code",
   "execution_count": null,
   "id": "7422461c",
   "metadata": {
    "hide-output": false
   },
   "outputs": [],
   "source": [
    "s + s\n",
    "s * 2\n",
    "np.exp(s)"
   ]
  },
  {
   "cell_type": "markdown",
   "id": "70fb4d0e",
   "metadata": {},
   "source": [
    "A key difference between Series and ndarray is that operations between Series\n",
    "automatically align the data based on label. Thus, you can write computations\n",
    "without giving consideration to whether the Series involved have the same\n",
    "labels."
   ]
  },
  {
   "cell_type": "code",
   "execution_count": null,
   "id": "d5ac8390",
   "metadata": {
    "hide-output": false
   },
   "outputs": [],
   "source": [
    "s[1:] + s[:-1]"
   ]
  },
  {
   "cell_type": "markdown",
   "id": "c2c3fce9",
   "metadata": {},
   "source": [
    "The result of an operation between unaligned Series will have the **union** of\n",
    "the indexes involved. If a label is not found in one Series or the other, the\n",
    "result will be marked as missing `NaN`. Being able to write code without doing\n",
    "any explicit data alignment grants immense freedom and flexibility in\n",
    "interactive data analysis and research. The integrated data alignment features\n",
    "of the pandas data structures set pandas apart from the majority of related\n",
    "tools for working with labeled data.\n",
    "\n",
    ">**Note**\n",
    ">\n",
    ">In general, we chose to make the default result of operations between\n",
    "differently indexed objects yield the **union** of the indexes in order to\n",
    "avoid loss of information. Having an index label, though the data is\n",
    "missing, is typically important information as part of a computation. You\n",
    "of course have the option of dropping labels with missing data via the\n",
    "**dropna** function."
   ]
  },
  {
   "cell_type": "markdown",
   "id": "ebfcdf83",
   "metadata": {},
   "source": [
    "### Name attribute\n",
    "\n",
    "\n",
    "<a id='dsintro-name-attribute'></a>\n",
    "Series can also have a `name` attribute:"
   ]
  },
  {
   "cell_type": "code",
   "execution_count": null,
   "id": "c13eba0e",
   "metadata": {
    "hide-output": false
   },
   "outputs": [],
   "source": [
    "s = pd.Series(np.random.randn(5), name=\"something\")\n",
    "s\n",
    "s.name"
   ]
  },
  {
   "cell_type": "markdown",
   "id": "f34fa2e2",
   "metadata": {},
   "source": [
    "The Series `name` will be assigned automatically in many cases, in particular\n",
    "when taking 1D slices of DataFrame as you will see below.\n",
    "\n",
    "You can rename a Series with the `pandas.Series.rename()` method."
   ]
  },
  {
   "cell_type": "code",
   "execution_count": null,
   "id": "01f88ee3",
   "metadata": {
    "hide-output": false
   },
   "outputs": [],
   "source": [
    "s2 = s.rename(\"different\")\n",
    "s2.name"
   ]
  },
  {
   "cell_type": "markdown",
   "id": "9a9833ad",
   "metadata": {},
   "source": [
    "Note that `s` and `s2` refer to different objects.\n",
    "\n",
    "\n",
    "<a id='basics-dataframe'></a>"
   ]
  },
  {
   "cell_type": "markdown",
   "id": "d8ed3ca3",
   "metadata": {},
   "source": [
    "## DataFrame\n",
    "\n",
    "**DataFrame** is a 2-dimensional labeled data structure with columns of\n",
    "potentially different types. You can think of it like a spreadsheet or SQL\n",
    "table, or a dict of Series objects. It is generally the most commonly used\n",
    "pandas object. Like Series, DataFrame accepts many different kinds of input:\n",
    "\n",
    "- Dict of 1D ndarrays, lists, dicts, or Series  \n",
    "- 2-D numpy.ndarray  \n",
    "- [Structured or record](https://numpy.org/doc/stable/user/basics.rec.html) ndarray  \n",
    "- A `Series`  \n",
    "- Another `DataFrame`  \n",
    "\n",
    "\n",
    "Along with the data, you can optionally pass **index** (row labels) and\n",
    "**columns** (column labels) arguments. If you pass an index and / or columns,\n",
    "you are guaranteeing the index and / or columns of the resulting\n",
    "DataFrame. Thus, a dict of Series plus a specific index will discard all data\n",
    "not matching up to the passed index.\n",
    "\n",
    "If axis labels are not passed, they will be constructed from the input data\n",
    "based on common sense rules.\n",
    "\n",
    ">**Note**\n",
    ">\n",
    ">When the data is a dict, and `columns` is not specified, the `DataFrame`\n",
    "columns will be ordered by the dict’s insertion order, if you are using\n",
    "Python version >= 3.6 and pandas >= 0.23.\n",
    ">\n",
    ">If you are using Python < 3.6 or pandas < 0.23, and `columns` is not\n",
    "specified, the `DataFrame` columns will be the lexically ordered list of dict\n",
    "keys."
   ]
  },
  {
   "cell_type": "markdown",
   "id": "239c8ed6",
   "metadata": {},
   "source": [
    "### From dict of Series or dicts\n",
    "\n",
    "The resulting **index** will be the **union** of the indexes of the various\n",
    "Series. If there are any nested dicts, these will first be converted to\n",
    "Series. If no columns are passed, the columns will be the ordered list of dict\n",
    "keys."
   ]
  },
  {
   "cell_type": "code",
   "execution_count": null,
   "id": "2e4ff6b3",
   "metadata": {
    "hide-output": false
   },
   "outputs": [],
   "source": [
    "d = {\n",
    "    \"one\": pd.Series([1.0, 2.0, 3.0], index=[\"a\", \"b\", \"c\"]),\n",
    "    \"two\": pd.Series([1.0, 2.0, 3.0, 4.0], index=[\"a\", \"b\", \"c\", \"d\"]),\n",
    "}\n",
    "df = pd.DataFrame(d)\n",
    "df\n",
    "\n",
    "pd.DataFrame(d, index=[\"d\", \"b\", \"a\"])\n",
    "pd.DataFrame(d, index=[\"d\", \"b\", \"a\"], columns=[\"two\", \"three\"])"
   ]
  },
  {
   "cell_type": "markdown",
   "id": "8fe6ed92",
   "metadata": {},
   "source": [
    "The row and column labels can be accessed respectively by accessing the\n",
    "**index** and **columns** attributes:\n",
    "\n",
    ">**Note**\n",
    ">\n",
    ">When a particular set of columns is passed along with a dict of data, the\n",
    "passed columns override the keys in the dict."
   ]
  },
  {
   "cell_type": "code",
   "execution_count": null,
   "id": "b28dd597",
   "metadata": {
    "hide-output": false
   },
   "outputs": [],
   "source": [
    "df.index\n",
    "df.columns"
   ]
  },
  {
   "cell_type": "markdown",
   "id": "52818a7f",
   "metadata": {},
   "source": [
    "### From dict of ndarrays / lists\n",
    "\n",
    "The ndarrays must all be the same length. If an index is passed, it must\n",
    "clearly also be the same length as the arrays. If no index is passed, the\n",
    "result will be `range(n)`, where `n` is the array length."
   ]
  },
  {
   "cell_type": "code",
   "execution_count": null,
   "id": "f33d2b58",
   "metadata": {
    "hide-output": false
   },
   "outputs": [],
   "source": [
    "d = {\"one\": [1.0, 2.0, 3.0, 4.0], \"two\": [4.0, 3.0, 2.0, 1.0]}\n",
    "pd.DataFrame(d)\n",
    "pd.DataFrame(d, index=[\"a\", \"b\", \"c\", \"d\"])"
   ]
  },
  {
   "cell_type": "markdown",
   "id": "0732ff98",
   "metadata": {},
   "source": [
    "### From structured or record array\n",
    "\n",
    "This case is handled identically to a dict of arrays."
   ]
  },
  {
   "cell_type": "code",
   "execution_count": null,
   "id": "ab74dc91",
   "metadata": {
    "hide-output": false
   },
   "outputs": [],
   "source": [
    "data = np.zeros((2,), dtype=[(\"A\", \"i4\"), (\"B\", \"f4\"), (\"C\", \"a10\")])\n",
    "data[:] = [(1, 2.0, \"Hello\"), (2, 3.0, \"World\")]\n",
    "\n",
    "pd.DataFrame(data)\n",
    "pd.DataFrame(data, index=[\"first\", \"second\"])\n",
    "pd.DataFrame(data, columns=[\"C\", \"A\", \"B\"])"
   ]
  },
  {
   "cell_type": "markdown",
   "id": "968e39fd",
   "metadata": {},
   "source": [
    ">**Note**\n",
    ">\n",
    ">DataFrame is not intended to work exactly like a 2-dimensional NumPy\n",
    "ndarray.\n",
    "\n",
    "\n",
    "<a id='basics-dataframe-from-list-of-dicts'></a>"
   ]
  },
  {
   "cell_type": "markdown",
   "id": "cc26beef",
   "metadata": {},
   "source": [
    "### From a list of dicts"
   ]
  },
  {
   "cell_type": "code",
   "execution_count": null,
   "id": "2563d1a2",
   "metadata": {
    "hide-output": false
   },
   "outputs": [],
   "source": [
    "data2 = [{\"a\": 1, \"b\": 2}, {\"a\": 5, \"b\": 10, \"c\": 20}]\n",
    "pd.DataFrame(data2)\n",
    "pd.DataFrame(data2, index=[\"first\", \"second\"])\n",
    "pd.DataFrame(data2, columns=[\"a\", \"b\"])"
   ]
  },
  {
   "cell_type": "markdown",
   "id": "850f44d1",
   "metadata": {},
   "source": [
    "\n",
    "<a id='basics-dataframe-from-dict-of-tuples'></a>"
   ]
  },
  {
   "cell_type": "markdown",
   "id": "ab6670e2",
   "metadata": {},
   "source": [
    "### From a dict of tuples\n",
    "\n",
    "You can automatically create a MultiIndexed frame by passing a tuples\n",
    "dictionary."
   ]
  },
  {
   "cell_type": "code",
   "execution_count": null,
   "id": "ff958952",
   "metadata": {
    "hide-output": false
   },
   "outputs": [],
   "source": [
    "pd.DataFrame(\n",
    "    {\n",
    "        (\"a\", \"b\"): {(\"A\", \"B\"): 1, (\"A\", \"C\"): 2},\n",
    "        (\"a\", \"a\"): {(\"A\", \"C\"): 3, (\"A\", \"B\"): 4},\n",
    "        (\"a\", \"c\"): {(\"A\", \"B\"): 5, (\"A\", \"C\"): 6},\n",
    "        (\"b\", \"a\"): {(\"A\", \"C\"): 7, (\"A\", \"B\"): 8},\n",
    "        (\"b\", \"b\"): {(\"A\", \"D\"): 9, (\"A\", \"B\"): 10},\n",
    "    }\n",
    ")"
   ]
  },
  {
   "cell_type": "markdown",
   "id": "dc30d3ba",
   "metadata": {},
   "source": [
    "\n",
    "<a id='basics-dataframe-from-series'></a>"
   ]
  },
  {
   "cell_type": "markdown",
   "id": "31228559",
   "metadata": {},
   "source": [
    "### From a Series\n",
    "\n",
    "The result will be a DataFrame with the same index as the input Series, and\n",
    "with one column whose name is the original name of the Series (only if no other\n",
    "column name provided).\n",
    "\n",
    "\n",
    "<a id='basics-dataframe-from-list-namedtuples'></a>"
   ]
  },
  {
   "cell_type": "markdown",
   "id": "0079a69d",
   "metadata": {},
   "source": [
    "### From a list of namedtuples\n",
    "\n",
    "The field names of the first `namedtuple` in the list determine the columns\n",
    "of the `DataFrame`. The remaining namedtuples (or tuples) are simply unpacked\n",
    "and their values are fed into the rows of the `DataFrame`. If any of those\n",
    "tuples is shorter than the first `namedtuple` then the later columns in the\n",
    "corresponding row are marked as missing values. If any are longer than the\n",
    "first `namedtuple`, a `ValueError` is raised."
   ]
  },
  {
   "cell_type": "code",
   "execution_count": null,
   "id": "06dbd094",
   "metadata": {
    "hide-output": false
   },
   "outputs": [],
   "source": [
    "from collections import namedtuple\n",
    "\n",
    "Point = namedtuple(\"Point\", \"x y\")\n",
    "pd.DataFrame([Point(0, 0), Point(0, 3), (2, 3)])\n",
    "Point3D = namedtuple(\"Point3D\", \"x y z\")\n",
    "pd.DataFrame([Point3D(0, 0, 0), Point3D(0, 3, 5), Point(2, 3)])"
   ]
  },
  {
   "cell_type": "markdown",
   "id": "3f0c37a6",
   "metadata": {},
   "source": [
    "\n",
    "<a id='basics-dataframe-from-list-dataclasses'></a>"
   ]
  },
  {
   "cell_type": "markdown",
   "id": "1a2608e6",
   "metadata": {},
   "source": [
    "### From a list of dataclasses\n",
    "\n",
    "New in version 1.1.0.\n",
    "\n",
    "Data Classes as introduced in [PEP557](https://www.python.org/dev/peps/pep-0557),\n",
    "can be passed into the DataFrame constructor.\n",
    "Passing a list of dataclasses is equivalent to passing a list of dictionaries.\n",
    "\n",
    "Please be aware, that all values in the list should be dataclasses, mixing\n",
    "types in the list would result in a TypeError."
   ]
  },
  {
   "cell_type": "code",
   "execution_count": null,
   "id": "1b2e3874",
   "metadata": {
    "hide-output": false
   },
   "outputs": [],
   "source": [
    "from dataclasses import make_dataclass\n",
    "Point = make_dataclass(\"Point\", [(\"x\", int), (\"y\", int)])\n",
    "pd.DataFrame([Point(0, 0), Point(0, 3), Point(2, 3)])"
   ]
  },
  {
   "cell_type": "markdown",
   "id": "758e55cb",
   "metadata": {},
   "source": [
    "**Missing data**\n",
    "\n",
    "Much more will be said on this topic in the Missing data\n",
    "section. To construct a DataFrame with missing data, we use `np.nan` to\n",
    "represent missing values. Alternatively, you may pass a `numpy.MaskedArray`\n",
    "as the data argument to the DataFrame constructor, and its masked entries will\n",
    "be considered missing."
   ]
  },
  {
   "cell_type": "markdown",
   "id": "20c63268",
   "metadata": {},
   "source": [
    "### Alternate constructors\n",
    "\n",
    "\n",
    "<a id='basics-dataframe-from-dict'></a>\n",
    "**DataFrame.from_dict**\n",
    "\n",
    "`DataFrame.from_dict` takes a dict of dicts or a dict of array-like sequences\n",
    "and returns a DataFrame. It operates like the `DataFrame` constructor except\n",
    "for the `orient` parameter which is `'columns'` by default, but which can be\n",
    "set to `'index'` in order to use the dict keys as row labels."
   ]
  },
  {
   "cell_type": "code",
   "execution_count": null,
   "id": "6a4e6ddc",
   "metadata": {
    "hide-output": false
   },
   "outputs": [],
   "source": [
    "pd.DataFrame.from_dict(dict([(\"A\", [1, 2, 3]), (\"B\", [4, 5, 6])]))"
   ]
  },
  {
   "cell_type": "markdown",
   "id": "e2f293bd",
   "metadata": {},
   "source": [
    "If you pass `orient='index'`, the keys will be the row labels. In this\n",
    "case, you can also pass the desired column names:"
   ]
  },
  {
   "cell_type": "code",
   "execution_count": null,
   "id": "f282155a",
   "metadata": {
    "hide-output": false
   },
   "outputs": [],
   "source": [
    "pd.DataFrame.from_dict(\n",
    "    dict([(\"A\", [1, 2, 3]), (\"B\", [4, 5, 6])]),\n",
    "    orient=\"index\",\n",
    "    columns=[\"one\", \"two\", \"three\"],\n",
    ")"
   ]
  },
  {
   "cell_type": "markdown",
   "id": "b5ebf97f",
   "metadata": {},
   "source": [
    "\n",
    "<a id='basics-dataframe-from-records'></a>\n",
    "**DataFrame.from_records**\n",
    "\n",
    "`DataFrame.from_records` takes a list of tuples or an ndarray with structured\n",
    "dtype. It works analogously to the normal `DataFrame` constructor, except that\n",
    "the resulting DataFrame index may be a specific field of the structured\n",
    "dtype. For example:"
   ]
  },
  {
   "cell_type": "code",
   "execution_count": null,
   "id": "8aabcd0e",
   "metadata": {
    "hide-output": false
   },
   "outputs": [],
   "source": [
    "data\n",
    "pd.DataFrame.from_records(data, index=\"C\")"
   ]
  },
  {
   "cell_type": "markdown",
   "id": "7e1a24f4",
   "metadata": {},
   "source": [
    "\n",
    "<a id='basics-dataframe-sel-add-del'></a>"
   ]
  },
  {
   "cell_type": "markdown",
   "id": "af28303b",
   "metadata": {},
   "source": [
    "### Column selection, addition, deletion\n",
    "\n",
    "You can treat a DataFrame semantically like a dict of like-indexed Series\n",
    "objects. Getting, setting, and deleting columns works with the same syntax as\n",
    "the analogous dict operations:"
   ]
  },
  {
   "cell_type": "code",
   "execution_count": null,
   "id": "d92bbf29",
   "metadata": {
    "hide-output": false
   },
   "outputs": [],
   "source": [
    "df[\"one\"]\n",
    "df[\"three\"] = df[\"one\"] * df[\"two\"]\n",
    "df[\"flag\"] = df[\"one\"] > 2\n",
    "df"
   ]
  },
  {
   "cell_type": "markdown",
   "id": "aed7995f",
   "metadata": {},
   "source": [
    "Columns can be deleted or popped like with a dict:"
   ]
  },
  {
   "cell_type": "code",
   "execution_count": null,
   "id": "fe40a6d5",
   "metadata": {
    "hide-output": false
   },
   "outputs": [],
   "source": [
    "del df[\"two\"]\n",
    "three = df.pop(\"three\")\n",
    "df"
   ]
  },
  {
   "cell_type": "markdown",
   "id": "5ba942e6",
   "metadata": {},
   "source": [
    "When inserting a scalar value, it will naturally be propagated to fill the\n",
    "column:"
   ]
  },
  {
   "cell_type": "code",
   "execution_count": null,
   "id": "80e3baed",
   "metadata": {
    "hide-output": false
   },
   "outputs": [],
   "source": [
    "df[\"foo\"] = \"bar\"\n",
    "df"
   ]
  },
  {
   "cell_type": "markdown",
   "id": "8c83f20f",
   "metadata": {},
   "source": [
    "When inserting a Series that does not have the same index as the DataFrame, it\n",
    "will be conformed to the DataFrame’s index:"
   ]
  },
  {
   "cell_type": "code",
   "execution_count": null,
   "id": "eb762961",
   "metadata": {
    "hide-output": false
   },
   "outputs": [],
   "source": [
    "df[\"one_trunc\"] = df[\"one\"][:2]\n",
    "df"
   ]
  },
  {
   "cell_type": "markdown",
   "id": "13783cc7",
   "metadata": {},
   "source": [
    "You can insert raw ndarrays but their length must match the length of the\n",
    "DataFrame’s index.\n",
    "\n",
    "By default, columns get inserted at the end. The `insert` function is\n",
    "available to insert at a particular location in the columns:"
   ]
  },
  {
   "cell_type": "code",
   "execution_count": null,
   "id": "af1c37b1",
   "metadata": {
    "hide-output": false
   },
   "outputs": [],
   "source": [
    "df.insert(1, \"bar\", df[\"one\"])\n",
    "df"
   ]
  },
  {
   "cell_type": "markdown",
   "id": "674d2f2a",
   "metadata": {},
   "source": [
    "\n",
    "<a id='dsintro-chained-assignment'></a>"
   ]
  },
  {
   "cell_type": "markdown",
   "id": "713ad9d9",
   "metadata": {},
   "source": [
    "### Assigning new columns in method chains\n",
    "\n",
    "Inspired by [dplyr’s](https://dplyr.tidyverse.org/reference/mutate.html)\n",
    "`mutate` verb, DataFrame has an `assign()`\n",
    "method that allows you to easily create new columns that are potentially\n",
    "derived from existing columns."
   ]
  },
  {
   "cell_type": "code",
   "execution_count": null,
   "id": "c133abf5",
   "metadata": {
    "hide-output": false
   },
   "outputs": [],
   "source": [
    "iris = pd.read_csv(\"../data/iris.data\")\n",
    "iris.head()\n",
    "iris.assign(sepal_ratio=iris[\"SepalWidth\"] / iris[\"SepalLength\"]).head()"
   ]
  },
  {
   "cell_type": "markdown",
   "id": "82638a10",
   "metadata": {},
   "source": [
    "In the example above, we inserted a precomputed value. We can also pass in\n",
    "a function of one argument to be evaluated on the DataFrame being assigned to."
   ]
  },
  {
   "cell_type": "code",
   "execution_count": null,
   "id": "31146a7e",
   "metadata": {
    "hide-output": false
   },
   "outputs": [],
   "source": [
    "iris.assign(sepal_ratio=lambda x: (x[\"SepalWidth\"] / x[\"SepalLength\"])).head()"
   ]
  },
  {
   "cell_type": "markdown",
   "id": "c66aecce",
   "metadata": {},
   "source": [
    "`assign` **always** returns a copy of the data, leaving the original\n",
    "DataFrame untouched.\n",
    "\n",
    "Passing a callable, as opposed to an actual value to be inserted, is\n",
    "useful when you don’t have a reference to the DataFrame at hand. This is\n",
    "common when using `assign` in a chain of operations. For example,\n",
    "we can limit the DataFrame to just those observations with a Sepal Length\n",
    "greater than 5, calculate the ratio, and plot:"
   ]
  },
  {
   "cell_type": "code",
   "execution_count": null,
   "id": "eed3e30e",
   "metadata": {
    "hide-output": false
   },
   "outputs": [],
   "source": [
    "(\n",
    "    iris.query(\"SepalLength > 5\")\n",
    "    .assign(\n",
    "        SepalRatio=lambda x: x.SepalWidth / x.SepalLength,\n",
    "        PetalRatio=lambda x: x.PetalWidth / x.PetalLength,\n",
    "    )\n",
    "    .plot(kind=\"scatter\", x=\"SepalRatio\", y=\"PetalRatio\")\n",
    ")"
   ]
  },
  {
   "cell_type": "markdown",
   "id": "1bff1f73",
   "metadata": {},
   "source": [
    "Since a function is passed in, the function is computed on the DataFrame\n",
    "being assigned to. Importantly, this is the DataFrame that’s been filtered\n",
    "to those rows with sepal length greater than 5. The filtering happens first,\n",
    "and then the ratio calculations. This is an example where we didn’t\n",
    "have a reference to the *filtered* DataFrame available.\n",
    "\n",
    "The function signature for `assign` is simply `**kwargs`. The keys\n",
    "are the column names for the new fields, and the values are either a value\n",
    "to be inserted (for example, a `Series` or NumPy array), or a function\n",
    "of one argument to be called on the `DataFrame`. A *copy* of the original\n",
    "DataFrame is returned, with the new values inserted.\n",
    "\n",
    "Starting with Python 3.6 the order of `**kwargs` is preserved. This allows\n",
    "for *dependent* assignment, where an expression later in `**kwargs` can refer\n",
    "to a column created earlier in the same `assign()`."
   ]
  },
  {
   "cell_type": "code",
   "execution_count": null,
   "id": "8a92b229",
   "metadata": {
    "hide-output": false
   },
   "outputs": [],
   "source": [
    "dfa = pd.DataFrame({\"A\": [1, 2, 3], \"B\": [4, 5, 6]})\n",
    "dfa.assign(C=lambda x: x[\"A\"] + x[\"B\"], D=lambda x: x[\"A\"] + x[\"C\"])"
   ]
  },
  {
   "cell_type": "markdown",
   "id": "ecd6d051",
   "metadata": {},
   "source": [
    "In the second expression, `x['C']` will refer to the newly created column,\n",
    "that’s equal to `dfa['A'] + dfa['B']`."
   ]
  },
  {
   "cell_type": "markdown",
   "id": "54006766",
   "metadata": {},
   "source": [
    "### Indexing / selection\n",
    "\n",
    "The basics of indexing are as follows:\n",
    "\n",
    "``````````|Operation|Syntax|Result|\n",
    "|:----------------------------:|:------------------:|:--------:|\n",
    "|Select column|df[col]|Series|\n",
    "|Select row by label|df.loc[label]|Series|\n",
    "|Select row by integer location|df.iloc[loc]|Series|\n",
    "|Slice rows|df[5:10]|DataFrame|\n",
    "|Select rows by boolean vector|df[bool_vec]|DataFrame|\n",
    "Row selection, for example, returns a Series whose index is the columns of the\n",
    "DataFrame:"
   ]
  },
  {
   "cell_type": "code",
   "execution_count": null,
   "id": "7d225632",
   "metadata": {
    "hide-output": false
   },
   "outputs": [],
   "source": [
    "df.loc[\"b\"]\n",
    "df.iloc[2]"
   ]
  },
  {
   "cell_type": "markdown",
   "id": "ae9c430c",
   "metadata": {},
   "source": [
    "For a more exhaustive treatment of sophisticated label-based indexing and\n",
    "slicing, see the section on indexing. We will address the\n",
    "fundamentals of reindexing / conforming to new sets of labels in the\n",
    "section on reindexing.\n",
    "\n",
    "\n",
    "<a id='dsintro-alignment'></a>"
   ]
  },
  {
   "cell_type": "markdown",
   "id": "c1b1b8bd",
   "metadata": {},
   "source": [
    "### Data alignment and arithmetic\n",
    "\n",
    "Data alignment between DataFrame objects automatically align on **both the\n",
    "columns and the index (row labels)**. Again, the resulting object will have the\n",
    "union of the column and row labels."
   ]
  },
  {
   "cell_type": "code",
   "execution_count": null,
   "id": "d08cda6d",
   "metadata": {
    "hide-output": false
   },
   "outputs": [],
   "source": [
    "df = pd.DataFrame(np.random.randn(10, 4), columns=[\"A\", \"B\", \"C\", \"D\"])\n",
    "df2 = pd.DataFrame(np.random.randn(7, 3), columns=[\"A\", \"B\", \"C\"])\n",
    "df + df2"
   ]
  },
  {
   "cell_type": "markdown",
   "id": "0b27c153",
   "metadata": {},
   "source": [
    "When doing an operation between DataFrame and Series, the default behavior is\n",
    "to align the Series **index** on the DataFrame **columns**, thus [broadcasting](https://numpy.org/doc/stable/user/basics.broadcasting.html)\n",
    "row-wise. For example:"
   ]
  },
  {
   "cell_type": "code",
   "execution_count": null,
   "id": "f97debd6",
   "metadata": {
    "hide-output": false
   },
   "outputs": [],
   "source": [
    "df - df.iloc[0]"
   ]
  },
  {
   "cell_type": "markdown",
   "id": "141928b5",
   "metadata": {},
   "source": [
    "For explicit control over the matching and broadcasting behavior, see the\n",
    "section on flexible binary operations.\n",
    "\n",
    "Operations with scalars are just as you would expect:"
   ]
  },
  {
   "cell_type": "code",
   "execution_count": null,
   "id": "cc388318",
   "metadata": {
    "hide-output": false
   },
   "outputs": [],
   "source": [
    "df * 5 + 2\n",
    "1 / df\n",
    "df ** 4"
   ]
  },
  {
   "cell_type": "markdown",
   "id": "6d5a4bdf",
   "metadata": {},
   "source": [
    "\n",
    "<a id='dsintro-boolean'></a>\n",
    "Boolean operators work as well:"
   ]
  },
  {
   "cell_type": "code",
   "execution_count": null,
   "id": "addb7a9f",
   "metadata": {
    "hide-output": false
   },
   "outputs": [],
   "source": [
    "df1 = pd.DataFrame({\"a\": [1, 0, 1], \"b\": [0, 1, 1]}, dtype=bool)\n",
    "df2 = pd.DataFrame({\"a\": [0, 1, 1], \"b\": [1, 1, 0]}, dtype=bool)\n",
    "df1 & df2\n",
    "df1 | df2\n",
    "df1 ^ df2\n",
    "-df1"
   ]
  },
  {
   "cell_type": "markdown",
   "id": "04d1b348",
   "metadata": {},
   "source": [
    "### Transposing\n",
    "\n",
    "To transpose, access the `T` attribute (also the `transpose` function),\n",
    "similar to an ndarray:"
   ]
  },
  {
   "cell_type": "code",
   "execution_count": null,
   "id": "32a29ea6",
   "metadata": {
    "hide-output": false
   },
   "outputs": [],
   "source": [
    "# only show the first 5 rows\n",
    "df[:5].T"
   ]
  },
  {
   "cell_type": "markdown",
   "id": "f73a6ad6",
   "metadata": {},
   "source": [
    "\n",
    "<a id='dsintro-numpy-interop'></a>"
   ]
  },
  {
   "cell_type": "markdown",
   "id": "4cab7fd3",
   "metadata": {},
   "source": [
    "### DataFrame interoperability with NumPy functions\n",
    "\n",
    "Elementwise NumPy ufuncs (log, exp, sqrt, …) and various other NumPy functions\n",
    "can be used with no issues on Series and DataFrame, assuming the data within\n",
    "are numeric:"
   ]
  },
  {
   "cell_type": "code",
   "execution_count": null,
   "id": "9cb6a115",
   "metadata": {
    "hide-output": false
   },
   "outputs": [],
   "source": [
    "np.exp(df)\n",
    "np.asarray(df)"
   ]
  },
  {
   "cell_type": "markdown",
   "id": "e620b994",
   "metadata": {},
   "source": [
    "DataFrame is not intended to be a drop-in replacement for ndarray as its\n",
    "indexing semantics and data model are quite different in places from an n-dimensional\n",
    "array.\n",
    "\n",
    "`Series` implements `__array_ufunc__`, which allows it to work with NumPy’s\n",
    "[universal functions](https://numpy.org/doc/stable/reference/ufuncs.html).\n",
    "\n",
    "The ufunc is applied to the underlying array in a Series."
   ]
  },
  {
   "cell_type": "code",
   "execution_count": null,
   "id": "e6cdc632",
   "metadata": {
    "hide-output": false
   },
   "outputs": [],
   "source": [
    "ser = pd.Series([1, 2, 3, 4])\n",
    "np.exp(ser)"
   ]
  },
  {
   "cell_type": "markdown",
   "id": "b3d4a934",
   "metadata": {},
   "source": [
    "Changed in version 0.25.0: When multiple `Series` are passed to a ufunc, they are aligned before\n",
    "performing the operation.\n",
    "\n",
    "Like other parts of the library, pandas will automatically align labeled inputs\n",
    "as part of a ufunc with multiple inputs. For example, using `numpy.remainder()`\n",
    "on two `Series` with differently ordered labels will align before the operation."
   ]
  },
  {
   "cell_type": "code",
   "execution_count": null,
   "id": "fdbb38fa",
   "metadata": {
    "hide-output": false
   },
   "outputs": [],
   "source": [
    "ser1 = pd.Series([1, 2, 3], index=[\"a\", \"b\", \"c\"])\n",
    "ser2 = pd.Series([1, 3, 5], index=[\"b\", \"a\", \"c\"])\n",
    "ser1\n",
    "ser2\n",
    "np.remainder(ser1, ser2)"
   ]
  },
  {
   "cell_type": "markdown",
   "id": "a70f65e4",
   "metadata": {},
   "source": [
    "As usual, the union of the two indices is taken, and non-overlapping values are filled\n",
    "with missing values."
   ]
  },
  {
   "cell_type": "code",
   "execution_count": null,
   "id": "33716567",
   "metadata": {
    "hide-output": false
   },
   "outputs": [],
   "source": [
    "ser3 = pd.Series([2, 4, 6], index=[\"b\", \"c\", \"d\"])\n",
    "ser3\n",
    "np.remainder(ser1, ser3)"
   ]
  },
  {
   "cell_type": "markdown",
   "id": "9837e7d3",
   "metadata": {},
   "source": [
    "When a binary ufunc is applied to a `Series` and `Index`, the Series\n",
    "implementation takes precedence and a Series is returned."
   ]
  },
  {
   "cell_type": "code",
   "execution_count": null,
   "id": "d561c301",
   "metadata": {
    "hide-output": false
   },
   "outputs": [],
   "source": [
    "ser = pd.Series([1, 2, 3])\n",
    "idx = pd.Index([4, 5, 6])\n",
    "\n",
    "np.maximum(ser, idx)"
   ]
  },
  {
   "cell_type": "markdown",
   "id": "0d99fcf1",
   "metadata": {},
   "source": [
    "NumPy ufuncs are safe to apply to `Series` backed by non-ndarray arrays,\n",
    "for example `arrays.SparseArray` (see [Sparse calculation](42_sparsecity.ipynb#sparse-calculation)). If possible,\n",
    "the ufunc is applied without converting the underlying data to an ndarray."
   ]
  },
  {
   "cell_type": "markdown",
   "id": "e2769599-dcaf-4dab-9ca1-41a673e96cf9",
   "metadata": {},
   "source": [
    "### Console display\n",
    "\n",
    "Very large DataFrames will be truncated to display them in the console.\n",
    "You can also get a summary using `info()`.\n",
    "(Here I am reading a CSV version of the **baseball** dataset from the **plyr**\n",
    "R package):"
   ]
  },
  {
   "cell_type": "code",
   "execution_count": null,
   "id": "a634a641-18e3-4b0d-92fc-9798101e5899",
   "metadata": {},
   "outputs": [],
   "source": [
    "# force a summary to be printed, instead of listing all rows\n",
    "pd.set_option(\"display.max_rows\", 5)"
   ]
  },
  {
   "cell_type": "code",
   "execution_count": null,
   "id": "5bf97b0e",
   "metadata": {
    "hide-output": false
   },
   "outputs": [],
   "source": [
    "baseball = pd.read_csv(\"../data/baseball.csv\")\n",
    "print(baseball)\n",
    "baseball.info()"
   ]
  },
  {
   "cell_type": "code",
   "execution_count": null,
   "id": "b14173e6-6479-4d46-a436-340174dd058f",
   "metadata": {},
   "outputs": [],
   "source": [
    "# restore GlobalPrintConfig\n",
    "pd.reset_option(r\"^display.\")"
   ]
  },
  {
   "cell_type": "markdown",
   "id": "23702802-86a4-4d81-bc0f-950ba0ede9ae",
   "metadata": {},
   "source": [
    "However, using `to_string` will return a string representation of the\n",
    "DataFrame in tabular form, though it won’t always fit the console width:"
   ]
  },
  {
   "cell_type": "code",
   "execution_count": null,
   "id": "973e1e69",
   "metadata": {
    "hide-output": false
   },
   "outputs": [],
   "source": [
    "print(baseball.iloc[-20:, :12].to_string())"
   ]
  },
  {
   "cell_type": "markdown",
   "id": "99ac537c",
   "metadata": {},
   "source": [
    "Wide DataFrames will be printed across multiple rows by\n",
    "default:"
   ]
  },
  {
   "cell_type": "code",
   "execution_count": null,
   "id": "8a183736",
   "metadata": {
    "hide-output": false
   },
   "outputs": [],
   "source": [
    "pd.DataFrame(np.random.randn(3, 12))"
   ]
  },
  {
   "cell_type": "markdown",
   "id": "e5f66460",
   "metadata": {},
   "source": [
    "You can change how much to print on a single row by setting the `display.width`\n",
    "option:"
   ]
  },
  {
   "cell_type": "code",
   "execution_count": null,
   "id": "4d336ba5",
   "metadata": {
    "hide-output": false
   },
   "outputs": [],
   "source": [
    "pd.set_option(\"display.width\", 40)  # default is 80\n",
    "\n",
    "pd.DataFrame(np.random.randn(3, 12))"
   ]
  },
  {
   "cell_type": "markdown",
   "id": "6d142343",
   "metadata": {},
   "source": [
    "You can adjust the max width of the individual columns by setting `display.max_colwidth`"
   ]
  },
  {
   "cell_type": "code",
   "execution_count": null,
   "id": "d4a59d63",
   "metadata": {
    "hide-output": false
   },
   "outputs": [],
   "source": [
    "datafile = {\n",
    "    \"filename\": [\"filename_01\", \"filename_02\"],\n",
    "    \"path\": [\n",
    "        \"media/user_name/storage/folder_01/filename_01\",\n",
    "        \"media/user_name/storage/folder_02/filename_02\",\n",
    "    ],\n",
    "}\n",
    "\n",
    "pd.set_option(\"display.max_colwidth\", 30)\n",
    "pd.DataFrame(datafile)\n",
    "\n",
    "pd.set_option(\"display.max_colwidth\", 100)\n",
    "pd.DataFrame(datafile)"
   ]
  },
  {
   "cell_type": "code",
   "execution_count": null,
   "id": "cdbee2b4-b1f3-429f-9a7a-4db42ae00a95",
   "metadata": {},
   "outputs": [],
   "source": [
    "pd.reset_option(\"display.width\")\n",
    "pd.reset_option(\"display.max_colwidth\")"
   ]
  },
  {
   "cell_type": "markdown",
   "id": "e5155ec3-dc0b-46a5-944d-d00f580a06ea",
   "metadata": {},
   "source": [
    "You can also disable this feature via the `expand_frame_repr` option.\n",
    "This will print the table in one block."
   ]
  },
  {
   "cell_type": "markdown",
   "id": "b896a898",
   "metadata": {},
   "source": [
    "### DataFrame column attribute access and IPython completion\n",
    "\n",
    "If a DataFrame column label is a valid Python variable name, the column can be\n",
    "accessed like an attribute:"
   ]
  },
  {
   "cell_type": "code",
   "execution_count": null,
   "id": "73b4d041",
   "metadata": {
    "hide-output": false
   },
   "outputs": [],
   "source": [
    "df = pd.DataFrame({\"foo1\": np.random.randn(5), \"foo2\": np.random.randn(5)})\n",
    "df\n",
    "df.foo1"
   ]
  },
  {
   "cell_type": "markdown",
   "id": "86bb4e8b",
   "metadata": {},
   "source": [
    "The columns are also connected to the [IPython](https://ipython.org)\n",
    "completion mechanism so they can be tab-completed:"
   ]
  },
  {
   "cell_type": "markdown",
   "id": "818ed926",
   "metadata": {
    "hide-output": false
   },
   "source": [
    ">In [5]: df.foo<TAB>  # noqa: E225, E999\n",
    "    \n",
    ">df.foo1  df.foo2"
   ]
  },
  {
   "cell_type": "code",
   "execution_count": null,
   "id": "d3ecee9e",
   "metadata": {},
   "outputs": [],
   "source": []
  }
 ],
 "metadata": {
  "date": 1630231082.227969,
  "filename": "20_dsintro.rst",
  "kernelspec": {
   "display_name": "Python 3",
   "language": "python",
   "name": "python3"
  },
  "language_info": {
   "codemirror_mode": {
    "name": "ipython",
    "version": 3
   },
   "file_extension": ".py",
   "mimetype": "text/x-python",
   "name": "python",
   "nbconvert_exporter": "python",
   "pygments_lexer": "ipython3",
   "version": "3.8.8"
  },
  "latex_envs": {
   "LaTeX_envs_menu_present": true,
   "autoclose": false,
   "autocomplete": true,
   "bibliofile": "biblio.bib",
   "cite_by": "apalike",
   "current_citInitial": 1,
   "eqLabelWithNumbers": true,
   "eqNumInitial": 1,
   "hotkeys": {
    "equation": "Ctrl-E",
    "itemize": "Ctrl-I"
   },
   "labels_anchors": false,
   "latex_user_defs": false,
   "report_style_numbering": false,
   "user_envs_cfg": false
  },
  "title": "Intro to data structures"
 },
 "nbformat": 4,
 "nbformat_minor": 5
}
