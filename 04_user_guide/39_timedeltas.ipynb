{
 "cells": [
  {
   "cell_type": "code",
   "execution_count": null,
   "id": "3a6183b9-0b9e-4154-a051-2b985a73c3aa",
   "metadata": {},
   "outputs": [],
   "source": [
    "import numpy as np\n",
    "import pandas as pd\n",
    "import matplotlib.pyplot as plt\n",
    "print(\"pandas\", pd.__version__)\n",
    "print(\"numpy\",np.__version__)"
   ]
  },
  {
   "cell_type": "markdown",
   "id": "ca91dea5",
   "metadata": {},
   "source": [
    "\n",
    "<a id='timedeltas-timedeltas'></a>"
   ]
  },
  {
   "cell_type": "markdown",
   "id": "be399749",
   "metadata": {},
   "source": [
    "# Time deltas\n",
    "\n",
    "Timedeltas are differences in times, expressed in difference units, e.g. days, hours, minutes,\n",
    "seconds. They can be both positive and negative.\n",
    "\n",
    "`Timedelta` is a subclass of `datetime.timedelta`, and behaves in a similar manner,\n",
    "but allows compatibility with `np.timedelta64` types as well as a host of custom representation,\n",
    "parsing, and attributes."
   ]
  },
  {
   "cell_type": "markdown",
   "id": "7a5461a6",
   "metadata": {},
   "source": [
    "## Parsing\n",
    "\n",
    "You can construct a `Timedelta` scalar through various arguments, including [ISO 8601 Duration](https://en.wikipedia.org/wiki/ISO_8601#Durations) strings."
   ]
  },
  {
   "cell_type": "code",
   "execution_count": null,
   "id": "cfc9baa1-3255-493e-bda6-12605bf3bf18",
   "metadata": {
    "hide-output": false
   },
   "outputs": [],
   "source": [
    "import datetime\n",
    "\n",
    "# strings\n",
    "pd.Timedelta(\"1 days\")"
   ]
  },
  {
   "cell_type": "code",
   "execution_count": null,
   "id": "a697fade-67b0-40bb-b344-58986b76c0b0",
   "metadata": {
    "hide-output": false
   },
   "outputs": [],
   "source": [
    "pd.Timedelta(\"1 days 00:00:00\")"
   ]
  },
  {
   "cell_type": "code",
   "execution_count": null,
   "id": "bc10edb8-1c53-4735-92ba-1443fd4d5247",
   "metadata": {
    "hide-output": false
   },
   "outputs": [],
   "source": [
    "pd.Timedelta(\"1 days 2 hours\")"
   ]
  },
  {
   "cell_type": "code",
   "execution_count": null,
   "id": "347b56a4-42e7-48d6-a7ee-79aa0d9d4964",
   "metadata": {
    "hide-output": false
   },
   "outputs": [],
   "source": [
    "pd.Timedelta(\"-1 days 2 min 3us\")"
   ]
  },
  {
   "cell_type": "code",
   "execution_count": null,
   "id": "8b0f7b78-9996-4efa-a3e1-b09626a8b5c5",
   "metadata": {
    "hide-output": false
   },
   "outputs": [],
   "source": [
    "# like datetime.timedelta\n",
    "# note: these MUST be specified as keyword arguments\n",
    "pd.Timedelta(days=1, seconds=1)"
   ]
  },
  {
   "cell_type": "code",
   "execution_count": null,
   "id": "4d720d18-eca5-4552-94f8-076a0227e869",
   "metadata": {
    "hide-output": false
   },
   "outputs": [],
   "source": [
    "# integers with a unit\n",
    "pd.Timedelta(1, unit=\"d\")"
   ]
  },
  {
   "cell_type": "code",
   "execution_count": null,
   "id": "c09749b3-efb7-47d5-a52a-1a1db09febfd",
   "metadata": {
    "hide-output": false
   },
   "outputs": [],
   "source": [
    "# from a datetime.timedelta/np.timedelta64\n",
    "pd.Timedelta(datetime.timedelta(days=1, seconds=1))"
   ]
  },
  {
   "cell_type": "code",
   "execution_count": null,
   "id": "68387404-872a-4793-8599-c471688b8055",
   "metadata": {
    "hide-output": false
   },
   "outputs": [],
   "source": [
    "pd.Timedelta(np.timedelta64(1, \"ms\"))"
   ]
  },
  {
   "cell_type": "code",
   "execution_count": null,
   "id": "322360c7-00ff-45fe-9b10-35cb81ed10ad",
   "metadata": {
    "hide-output": false
   },
   "outputs": [],
   "source": [
    "# negative Timedeltas have this string repr\n",
    "# to be more consistent with datetime.timedelta conventions\n",
    "pd.Timedelta(\"-1us\")"
   ]
  },
  {
   "cell_type": "code",
   "execution_count": null,
   "id": "36a8efd3-7176-468b-80d4-c9aa7b5d34de",
   "metadata": {
    "hide-output": false
   },
   "outputs": [],
   "source": [
    "# a NaT\n",
    "pd.Timedelta(\"nan\")"
   ]
  },
  {
   "cell_type": "code",
   "execution_count": null,
   "id": "42898ff5-ca15-42e8-9bfb-7c3f002bc78d",
   "metadata": {
    "hide-output": false
   },
   "outputs": [],
   "source": [
    "pd.Timedelta(\"nat\")"
   ]
  },
  {
   "cell_type": "code",
   "execution_count": null,
   "id": "b5102713-738c-45d8-a7da-969ecbddb425",
   "metadata": {
    "hide-output": false
   },
   "outputs": [],
   "source": [
    "# ISO 8601 Duration strings\n",
    "pd.Timedelta(\"P0DT0H1M0S\")"
   ]
  },
  {
   "cell_type": "code",
   "execution_count": null,
   "id": "e5f2a487-dfc0-4896-973a-63bc4b1c86ec",
   "metadata": {
    "hide-output": false
   },
   "outputs": [],
   "source": [
    "pd.Timedelta(\"P0DT0H0M0.000000123S\")"
   ]
  },
  {
   "cell_type": "markdown",
   "id": "173ccf54",
   "metadata": {},
   "source": [
    "[DateOffsets](38_timeseries.ipynb#timeseries-offsets) (`Day, Hour, Minute, Second, Milli, Micro, Nano`) can also be used in construction."
   ]
  },
  {
   "cell_type": "code",
   "execution_count": null,
   "id": "cc72cc43",
   "metadata": {
    "hide-output": false
   },
   "outputs": [],
   "source": [
    "pd.Timedelta(pd.offsets.Second(2))"
   ]
  },
  {
   "cell_type": "markdown",
   "id": "846a60bd",
   "metadata": {},
   "source": [
    "Further, operations among the scalars yield another scalar `Timedelta`."
   ]
  },
  {
   "cell_type": "code",
   "execution_count": null,
   "id": "ef74120c",
   "metadata": {
    "hide-output": false
   },
   "outputs": [],
   "source": [
    "pd.Timedelta(pd.offsets.Day(2)) + pd.Timedelta(pd.offsets.Second(2)) + pd.Timedelta(\n",
    "    \"00:00:00.000123\"\n",
    ")"
   ]
  },
  {
   "cell_type": "markdown",
   "id": "81ad0ce3",
   "metadata": {},
   "source": [
    "### to_timedelta\n",
    "\n",
    "Using the top-level `pd.to_timedelta`, you can convert a scalar, array, list,\n",
    "or Series from a recognized timedelta format / value into a `Timedelta` type.\n",
    "It will construct Series if the input is a Series, a scalar if the input is\n",
    "scalar-like, otherwise it will output a `TimedeltaIndex`.\n",
    "\n",
    "You can parse a single string to a Timedelta:"
   ]
  },
  {
   "cell_type": "code",
   "execution_count": null,
   "id": "dabd4d3b-e191-447c-a021-0ab9b0d8fa6b",
   "metadata": {
    "hide-output": false
   },
   "outputs": [],
   "source": [
    "pd.to_timedelta(\"1 days 06:05:01.00003\")"
   ]
  },
  {
   "cell_type": "code",
   "execution_count": null,
   "id": "e42b422c-3aa3-4cae-9050-b85442222900",
   "metadata": {
    "hide-output": false
   },
   "outputs": [],
   "source": [
    "pd.to_timedelta(\"15.5us\")"
   ]
  },
  {
   "cell_type": "markdown",
   "id": "263c229a",
   "metadata": {},
   "source": [
    "or a list/array of strings:"
   ]
  },
  {
   "cell_type": "code",
   "execution_count": null,
   "id": "1625fe46",
   "metadata": {
    "hide-output": false
   },
   "outputs": [],
   "source": [
    "pd.to_timedelta([\"1 days 06:05:01.00003\", \"15.5us\", \"nan\"])"
   ]
  },
  {
   "cell_type": "markdown",
   "id": "349ead2a",
   "metadata": {},
   "source": [
    "The `unit` keyword argument specifies the unit of the Timedelta if the input\n",
    "is numeric:"
   ]
  },
  {
   "cell_type": "code",
   "execution_count": null,
   "id": "9ca47fa5-a128-442f-b570-143f15f53e9d",
   "metadata": {
    "hide-output": false
   },
   "outputs": [],
   "source": [
    "pd.to_timedelta(np.arange(5), unit=\"s\")"
   ]
  },
  {
   "cell_type": "code",
   "execution_count": null,
   "id": "4d56e4bc-0a4b-43db-bb86-699e881909a2",
   "metadata": {
    "hide-output": false
   },
   "outputs": [],
   "source": [
    "pd.to_timedelta(np.arange(5), unit=\"d\")"
   ]
  },
  {
   "cell_type": "markdown",
   "id": "cecec921",
   "metadata": {},
   "source": [
    "If a string or array of strings is passed as an input then the `unit` keyword\n",
    "argument will be ignored. If a string without units is passed then the default\n",
    "unit of nanoseconds is assumed.\n",
    "\n",
    "\n",
    "<a id='timedeltas-limitations'></a>"
   ]
  },
  {
   "cell_type": "markdown",
   "id": "b9b47cf1",
   "metadata": {},
   "source": [
    "### Timedelta limitations\n",
    "\n",
    "pandas represents `Timedeltas` in nanosecond resolution using\n",
    "64 bit integers. As such, the 64 bit integer limits determine\n",
    "the `Timedelta` limits."
   ]
  },
  {
   "cell_type": "code",
   "execution_count": null,
   "id": "a85b81fb-56f0-465e-9a08-285ea8fa789b",
   "metadata": {
    "hide-output": false
   },
   "outputs": [],
   "source": [
    "pd.Timedelta.min"
   ]
  },
  {
   "cell_type": "code",
   "execution_count": null,
   "id": "73144465-c5ec-4373-9bb7-92e4f24b08fd",
   "metadata": {
    "hide-output": false
   },
   "outputs": [],
   "source": [
    "pd.Timedelta.max"
   ]
  },
  {
   "cell_type": "markdown",
   "id": "34296593",
   "metadata": {},
   "source": [
    "\n",
    "<a id='timedeltas-operations'></a>"
   ]
  },
  {
   "cell_type": "markdown",
   "id": "50143f96",
   "metadata": {},
   "source": [
    "## Operations\n",
    "\n",
    "You can operate on Series/DataFrames and construct `timedelta64[ns]` Series through\n",
    "subtraction operations on `datetime64[ns]` Series, or `Timestamps`."
   ]
  },
  {
   "cell_type": "code",
   "execution_count": null,
   "id": "5a84b78c-3a3a-41b1-94f9-276b5e85758d",
   "metadata": {
    "hide-output": false
   },
   "outputs": [],
   "source": [
    "s = pd.Series(pd.date_range(\"2012-1-1\", periods=3, freq=\"D\"))\n",
    "td = pd.Series([pd.Timedelta(days=i) for i in range(3)])\n",
    "df = pd.DataFrame({\"A\": s, \"B\": td})\n",
    "df"
   ]
  },
  {
   "cell_type": "code",
   "execution_count": null,
   "id": "57837715-273a-44ce-8c69-d44a3a67e7ab",
   "metadata": {
    "hide-output": false
   },
   "outputs": [],
   "source": [
    "df[\"C\"] = df[\"A\"] + df[\"B\"]\n",
    "df"
   ]
  },
  {
   "cell_type": "code",
   "execution_count": null,
   "id": "0ab3026d-20ea-4d86-a34b-8725f65893b4",
   "metadata": {
    "hide-output": false
   },
   "outputs": [],
   "source": [
    "df.dtypes"
   ]
  },
  {
   "cell_type": "code",
   "execution_count": null,
   "id": "b404e791-6fad-416f-9100-fc6c9dde294a",
   "metadata": {
    "hide-output": false
   },
   "outputs": [],
   "source": [
    "s - s.max()"
   ]
  },
  {
   "cell_type": "code",
   "execution_count": null,
   "id": "0f0e35ef-bcda-453e-9538-2cb41cf2bbeb",
   "metadata": {
    "hide-output": false
   },
   "outputs": [],
   "source": [
    "s - datetime.datetime(2011, 1, 1, 3, 5)"
   ]
  },
  {
   "cell_type": "code",
   "execution_count": null,
   "id": "704878ec-e70e-48ba-8e32-a49a91098a7a",
   "metadata": {
    "hide-output": false
   },
   "outputs": [],
   "source": [
    "s + datetime.timedelta(minutes=5)"
   ]
  },
  {
   "cell_type": "code",
   "execution_count": null,
   "id": "6bc57fa5-5e31-4004-8172-5225f4d64878",
   "metadata": {
    "hide-output": false
   },
   "outputs": [],
   "source": [
    "s + pd.offsets.Minute(5)"
   ]
  },
  {
   "cell_type": "code",
   "execution_count": null,
   "id": "e62b40f2-9dce-4593-a1f3-f95b414e5ea5",
   "metadata": {
    "hide-output": false
   },
   "outputs": [],
   "source": [
    "s + pd.offsets.Minute(5) + pd.offsets.Milli(5)"
   ]
  },
  {
   "cell_type": "markdown",
   "id": "d8609018",
   "metadata": {},
   "source": [
    "Operations with scalars from a `timedelta64[ns]` series:"
   ]
  },
  {
   "cell_type": "code",
   "execution_count": null,
   "id": "b99ce3fc",
   "metadata": {
    "hide-output": false
   },
   "outputs": [],
   "source": [
    "y = s - s[0]\n",
    "y"
   ]
  },
  {
   "cell_type": "markdown",
   "id": "2386dddf",
   "metadata": {},
   "source": [
    "Series of timedeltas with `NaT` values are supported:"
   ]
  },
  {
   "cell_type": "code",
   "execution_count": null,
   "id": "8c582689",
   "metadata": {
    "hide-output": false
   },
   "outputs": [],
   "source": [
    "y = s - s.shift()\n",
    "y"
   ]
  },
  {
   "cell_type": "markdown",
   "id": "ecab2134",
   "metadata": {},
   "source": [
    "Elements can be set to `NaT` using `np.nan` analogously to datetimes:"
   ]
  },
  {
   "cell_type": "code",
   "execution_count": null,
   "id": "ac375fd0",
   "metadata": {
    "hide-output": false
   },
   "outputs": [],
   "source": [
    "y[1] = np.nan\n",
    "y"
   ]
  },
  {
   "cell_type": "markdown",
   "id": "7c09a7cf",
   "metadata": {},
   "source": [
    "Operands can also appear in a reversed order (a singular object operated with a Series):"
   ]
  },
  {
   "cell_type": "code",
   "execution_count": null,
   "id": "6cbdd60f-47cd-4d9d-9918-e477acd3fd34",
   "metadata": {
    "hide-output": false
   },
   "outputs": [],
   "source": [
    "s.max() - s"
   ]
  },
  {
   "cell_type": "code",
   "execution_count": null,
   "id": "ccbf3f5c-4aba-469c-9f4f-abc5fbd39ebf",
   "metadata": {
    "hide-output": false
   },
   "outputs": [],
   "source": [
    "datetime.datetime(2011, 1, 1, 3, 5) - s"
   ]
  },
  {
   "cell_type": "code",
   "execution_count": null,
   "id": "1c5f398a-c08b-4bb6-81a3-2ce5756dd7a8",
   "metadata": {
    "hide-output": false
   },
   "outputs": [],
   "source": [
    "datetime.timedelta(minutes=5) + s"
   ]
  },
  {
   "cell_type": "markdown",
   "id": "26fb065e",
   "metadata": {},
   "source": [
    "`min, max` and the corresponding `idxmin, idxmax` operations are supported on frames:"
   ]
  },
  {
   "cell_type": "code",
   "execution_count": null,
   "id": "e508d145-a125-42c7-b388-e354c31143e1",
   "metadata": {
    "hide-output": false
   },
   "outputs": [],
   "source": [
    "A = s - pd.Timestamp(\"20120101\") - pd.Timedelta(\"00:05:05\")\n",
    "B = s - pd.Series(pd.date_range(\"2012-1-2\", periods=3, freq=\"D\"))\n",
    "\n",
    "df = pd.DataFrame({\"A\": A, \"B\": B})\n",
    "df"
   ]
  },
  {
   "cell_type": "code",
   "execution_count": null,
   "id": "af5fd60a-d445-40e5-9ff8-8f7ff0deaf73",
   "metadata": {
    "hide-output": false
   },
   "outputs": [],
   "source": [
    "df.min()"
   ]
  },
  {
   "cell_type": "code",
   "execution_count": null,
   "id": "d788384b-4439-4199-af97-a5469afbe990",
   "metadata": {
    "hide-output": false
   },
   "outputs": [],
   "source": [
    "df.min(axis=1)"
   ]
  },
  {
   "cell_type": "code",
   "execution_count": null,
   "id": "c0260272-c77b-4559-ba7c-a67414898b3b",
   "metadata": {
    "hide-output": false
   },
   "outputs": [],
   "source": [
    "df.idxmin()"
   ]
  },
  {
   "cell_type": "code",
   "execution_count": null,
   "id": "513d798e-5cc3-4724-aaf8-98046ddd6763",
   "metadata": {
    "hide-output": false
   },
   "outputs": [],
   "source": [
    "df.idxmax()"
   ]
  },
  {
   "cell_type": "markdown",
   "id": "1fcb7f5c",
   "metadata": {},
   "source": [
    "`min, max, idxmin, idxmax` operations are supported on Series as well. A scalar result will be a `Timedelta`."
   ]
  },
  {
   "cell_type": "code",
   "execution_count": null,
   "id": "52aa6cb4-f62d-45c3-b6a9-d26522f8dd4e",
   "metadata": {
    "hide-output": false
   },
   "outputs": [],
   "source": [
    "df.min().max()"
   ]
  },
  {
   "cell_type": "code",
   "execution_count": null,
   "id": "a956e7fe-c5f0-4ec1-a8e5-7f20bc039d46",
   "metadata": {
    "hide-output": false
   },
   "outputs": [],
   "source": [
    "df.min(axis=1).min()"
   ]
  },
  {
   "cell_type": "code",
   "execution_count": null,
   "id": "38d639f6-e7dc-4dd4-88db-dfb16e02f53e",
   "metadata": {
    "hide-output": false
   },
   "outputs": [],
   "source": [
    "df.min().idxmax()"
   ]
  },
  {
   "cell_type": "code",
   "execution_count": null,
   "id": "75d7eda3-ceb5-4f76-b582-2d90a130d1b3",
   "metadata": {
    "hide-output": false
   },
   "outputs": [],
   "source": [
    "df.min(axis=1).idxmin()"
   ]
  },
  {
   "cell_type": "markdown",
   "id": "69ff857d",
   "metadata": {},
   "source": [
    "You can fillna on timedeltas, passing a timedelta to get a particular value."
   ]
  },
  {
   "cell_type": "code",
   "execution_count": null,
   "id": "262bdc0d-2314-4ad7-a66f-fb479ce90e15",
   "metadata": {
    "hide-output": false
   },
   "outputs": [],
   "source": [
    "y.fillna(pd.Timedelta(0))"
   ]
  },
  {
   "cell_type": "code",
   "execution_count": null,
   "id": "cba5e5f9-fe41-45d1-b4f7-2c69115508a1",
   "metadata": {
    "hide-output": false
   },
   "outputs": [],
   "source": [
    "y.fillna(pd.Timedelta(10, unit=\"s\"))"
   ]
  },
  {
   "cell_type": "code",
   "execution_count": null,
   "id": "e5ee5dc2-ddd1-4800-97b7-2b934c461efb",
   "metadata": {
    "hide-output": false
   },
   "outputs": [],
   "source": [
    "y.fillna(pd.Timedelta(\"-1 days, 00:00:05\"))"
   ]
  },
  {
   "cell_type": "markdown",
   "id": "cd5aa00a",
   "metadata": {},
   "source": [
    "You can also negate, multiply and use `abs` on `Timedeltas`:"
   ]
  },
  {
   "cell_type": "code",
   "execution_count": null,
   "id": "93582adf-21c0-4a89-97a6-c6df99c9b5b5",
   "metadata": {
    "hide-output": false
   },
   "outputs": [],
   "source": [
    "td1 = pd.Timedelta(\"-1 days 2 hours 3 seconds\")\n",
    "td1"
   ]
  },
  {
   "cell_type": "code",
   "execution_count": null,
   "id": "fc51f24d-370d-40f5-9233-61d2baaddc7f",
   "metadata": {
    "hide-output": false
   },
   "outputs": [],
   "source": [
    "-1 * td1"
   ]
  },
  {
   "cell_type": "code",
   "execution_count": null,
   "id": "bbb0c56f-b368-4478-a0f6-705f44a7817b",
   "metadata": {
    "hide-output": false
   },
   "outputs": [],
   "source": [
    "-td1"
   ]
  },
  {
   "cell_type": "code",
   "execution_count": null,
   "id": "b8f33ae0-2366-4552-a881-103c019ca58e",
   "metadata": {
    "hide-output": false
   },
   "outputs": [],
   "source": [
    "abs(td1)"
   ]
  },
  {
   "cell_type": "markdown",
   "id": "e3efccff",
   "metadata": {},
   "source": [
    "\n",
    "<a id='timedeltas-timedeltas-reductions'></a>"
   ]
  },
  {
   "cell_type": "markdown",
   "id": "0e0aa1bc",
   "metadata": {},
   "source": [
    "## Reductions\n",
    "\n",
    "Numeric reduction operation for `timedelta64[ns]` will return `Timedelta` objects. As usual\n",
    "`NaT` are skipped during evaluation."
   ]
  },
  {
   "cell_type": "code",
   "execution_count": null,
   "id": "74ec7594-353b-4b58-9720-65e29c9fc88e",
   "metadata": {
    "hide-output": false
   },
   "outputs": [],
   "source": [
    "y2 = pd.Series(\n",
    "    pd.to_timedelta([\"-1 days +00:00:05\", \"nat\", \"-1 days +00:00:05\", \"1 days\"])\n",
    ")\n",
    "y2"
   ]
  },
  {
   "cell_type": "code",
   "execution_count": null,
   "id": "b8735a6f-0d3e-4975-8170-c66c9f67bc3b",
   "metadata": {
    "hide-output": false
   },
   "outputs": [],
   "source": [
    "y2.mean()"
   ]
  },
  {
   "cell_type": "code",
   "execution_count": null,
   "id": "de671780-57de-4841-acfc-7697b28dce8c",
   "metadata": {
    "hide-output": false
   },
   "outputs": [],
   "source": [
    "y2.median()"
   ]
  },
  {
   "cell_type": "code",
   "execution_count": null,
   "id": "9b09a69f-622a-4629-90cf-596c49946ccb",
   "metadata": {
    "hide-output": false
   },
   "outputs": [],
   "source": [
    "y2.quantile(0.1)"
   ]
  },
  {
   "cell_type": "code",
   "execution_count": null,
   "id": "cc5fdcfb-fbdc-4e06-aacf-a342692f5d9e",
   "metadata": {
    "hide-output": false
   },
   "outputs": [],
   "source": [
    "y2.sum()"
   ]
  },
  {
   "cell_type": "markdown",
   "id": "66a46028",
   "metadata": {},
   "source": [
    "\n",
    "<a id='timedeltas-timedeltas-convert'></a>"
   ]
  },
  {
   "cell_type": "markdown",
   "id": "ea564762",
   "metadata": {},
   "source": [
    "## Frequency conversion\n",
    "\n",
    "Timedelta Series, `TimedeltaIndex`, and `Timedelta` scalars can be converted to other ‘frequencies’ by dividing by another timedelta,\n",
    "or by astyping to a specific timedelta type. These operations yield Series and propagate `NaT` -> `nan`.\n",
    "Note that division by the NumPy scalar is true division, while astyping is equivalent of floor division."
   ]
  },
  {
   "cell_type": "code",
   "execution_count": null,
   "id": "571620e7-8e08-4818-b238-76285e60744c",
   "metadata": {
    "hide-output": false
   },
   "outputs": [],
   "source": [
    "december = pd.Series(pd.date_range(\"20121201\", periods=4))\n",
    "january = pd.Series(pd.date_range(\"20130101\", periods=4))\n",
    "td = january - december\n",
    "\n",
    "td[2] += datetime.timedelta(minutes=5, seconds=3)\n",
    "td[3] = np.nan\n",
    "td"
   ]
  },
  {
   "cell_type": "code",
   "execution_count": null,
   "id": "7dff70d7-1eff-4a02-8bdc-a02724ff8426",
   "metadata": {
    "hide-output": false
   },
   "outputs": [],
   "source": [
    "# to days\n",
    "td / np.timedelta64(1, \"D\")"
   ]
  },
  {
   "cell_type": "code",
   "execution_count": null,
   "id": "950aaeed-29da-407a-914f-c1c1bff2e899",
   "metadata": {
    "hide-output": false
   },
   "outputs": [],
   "source": [
    "td.astype(\"timedelta64[D]\")"
   ]
  },
  {
   "cell_type": "code",
   "execution_count": null,
   "id": "c7872269-62be-4d51-9480-0c47a9c5e948",
   "metadata": {
    "hide-output": false
   },
   "outputs": [],
   "source": [
    "# to seconds\n",
    "td / np.timedelta64(1, \"s\")"
   ]
  },
  {
   "cell_type": "code",
   "execution_count": null,
   "id": "1b7f1252-eb72-4263-8709-77d92965e211",
   "metadata": {
    "hide-output": false
   },
   "outputs": [],
   "source": [
    "td.astype(\"timedelta64[s]\")"
   ]
  },
  {
   "cell_type": "code",
   "execution_count": null,
   "id": "098e388b-fd2d-41d2-895d-77b465781a0c",
   "metadata": {
    "hide-output": false
   },
   "outputs": [],
   "source": [
    "# to months (these are constant months)\n",
    "td / np.timedelta64(1, \"M\")"
   ]
  },
  {
   "cell_type": "markdown",
   "id": "42483b00",
   "metadata": {},
   "source": [
    "Dividing or multiplying a `timedelta64[ns]` Series by an integer or integer Series\n",
    "yields another `timedelta64[ns]` dtypes Series."
   ]
  },
  {
   "cell_type": "code",
   "execution_count": null,
   "id": "3e4ee044-2387-48c1-adaf-c5c312a559d6",
   "metadata": {
    "hide-output": false
   },
   "outputs": [],
   "source": [
    "td * -1"
   ]
  },
  {
   "cell_type": "code",
   "execution_count": null,
   "id": "ce5f514f-aed1-46d7-b9b7-8816e3114780",
   "metadata": {
    "hide-output": false
   },
   "outputs": [],
   "source": [
    "td * pd.Series([1, 2, 3, 4])"
   ]
  },
  {
   "cell_type": "markdown",
   "id": "a03ba9e6",
   "metadata": {},
   "source": [
    "Rounded division (floor-division) of a `timedelta64[ns]` Series by a scalar\n",
    "`Timedelta` gives a series of integers."
   ]
  },
  {
   "cell_type": "code",
   "execution_count": null,
   "id": "dbd52d29-0e04-4eee-99a6-0ae7f1d1a546",
   "metadata": {
    "hide-output": false
   },
   "outputs": [],
   "source": [
    "td // pd.Timedelta(days=3, hours=4)"
   ]
  },
  {
   "cell_type": "code",
   "execution_count": null,
   "id": "0793b81b-a008-49a0-b2ee-87390ea4c5a8",
   "metadata": {
    "hide-output": false
   },
   "outputs": [],
   "source": [
    "pd.Timedelta(days=3, hours=4) // td"
   ]
  },
  {
   "cell_type": "markdown",
   "id": "87c027fc",
   "metadata": {},
   "source": [
    "\n",
    "<a id='timedeltas-mod-divmod'></a>\n",
    "The mod (%) and divmod operations are defined for `Timedelta` when operating with another timedelta-like or with a numeric argument."
   ]
  },
  {
   "cell_type": "code",
   "execution_count": null,
   "id": "e968fa43-2b53-4671-ab63-0663438d5c00",
   "metadata": {
    "hide-output": false
   },
   "outputs": [],
   "source": [
    "pd.Timedelta(hours=37) % datetime.timedelta(hours=2)"
   ]
  },
  {
   "cell_type": "code",
   "execution_count": null,
   "id": "e7685610-0a8b-4f72-b31c-19dc8b2facbb",
   "metadata": {
    "hide-output": false
   },
   "outputs": [],
   "source": [
    "# divmod against a timedelta-like returns a pair (int, Timedelta)\n",
    "divmod(datetime.timedelta(hours=2), pd.Timedelta(minutes=11))"
   ]
  },
  {
   "cell_type": "code",
   "execution_count": null,
   "id": "32023264-d64b-4d78-ade9-c4f364eba6f3",
   "metadata": {
    "hide-output": false
   },
   "outputs": [],
   "source": [
    "# divmod against a numeric returns a pair (Timedelta, Timedelta)\n",
    "divmod(pd.Timedelta(hours=25), 86400000000000)"
   ]
  },
  {
   "cell_type": "markdown",
   "id": "776c44f2",
   "metadata": {},
   "source": [
    "## Attributes\n",
    "\n",
    "You can access various components of the `Timedelta` or `TimedeltaIndex` directly using the attributes `days,seconds,microseconds,nanoseconds`. These are identical to the values returned by `datetime.timedelta`, in that, for example, the `.seconds` attribute represents the number of seconds >= 0 and < 1 day. These are signed according to whether the `Timedelta` is signed.\n",
    "\n",
    "These operations can also be directly accessed via the `.dt` property of the `Series` as well.\n",
    "\n",
    ">**Note**\n",
    ">\n",
    ">Note that the attributes are NOT the displayed values of the `Timedelta`. Use `.components` to retrieve the displayed values.\n",
    "\n",
    "For a `Series`:"
   ]
  },
  {
   "cell_type": "code",
   "execution_count": null,
   "id": "02e4c9b4-7857-419e-8871-8e565f26f02e",
   "metadata": {
    "hide-output": false
   },
   "outputs": [],
   "source": [
    "td.dt.days"
   ]
  },
  {
   "cell_type": "code",
   "execution_count": null,
   "id": "fb4a5b9d-1e06-4c6f-93ee-950648682777",
   "metadata": {
    "hide-output": false
   },
   "outputs": [],
   "source": [
    "td.dt.seconds"
   ]
  },
  {
   "cell_type": "markdown",
   "id": "c6dae08c",
   "metadata": {},
   "source": [
    "You can access the value of the fields for a scalar `Timedelta` directly."
   ]
  },
  {
   "cell_type": "code",
   "execution_count": null,
   "id": "95c682d0-f4ba-43eb-ac85-151c3307d36f",
   "metadata": {
    "hide-output": false
   },
   "outputs": [],
   "source": [
    "tds = pd.Timedelta(\"31 days 5 min 3 sec\")\n",
    "tds.days"
   ]
  },
  {
   "cell_type": "code",
   "execution_count": null,
   "id": "00f082c3-e194-4d9f-8221-48f512830bfd",
   "metadata": {
    "hide-output": false
   },
   "outputs": [],
   "source": [
    "tds.seconds"
   ]
  },
  {
   "cell_type": "code",
   "execution_count": null,
   "id": "84d9e2f5-9e28-4a10-80fa-05f7f561537b",
   "metadata": {
    "hide-output": false
   },
   "outputs": [],
   "source": [
    "(-tds).seconds"
   ]
  },
  {
   "cell_type": "markdown",
   "id": "14719263",
   "metadata": {},
   "source": [
    "You can use the `.components` property to access a reduced form of the timedelta. This returns a `DataFrame` indexed\n",
    "similarly to the `Series`. These are the *displayed* values of the `Timedelta`."
   ]
  },
  {
   "cell_type": "code",
   "execution_count": null,
   "id": "6f041e9b-c4a2-4521-bb41-eef6ba717b74",
   "metadata": {
    "hide-output": false
   },
   "outputs": [],
   "source": [
    "td.dt.components"
   ]
  },
  {
   "cell_type": "code",
   "execution_count": null,
   "id": "21c0a9b8-cb8f-42d7-9c2d-f169dd3526e7",
   "metadata": {
    "hide-output": false
   },
   "outputs": [],
   "source": [
    "td.dt.components.seconds"
   ]
  },
  {
   "cell_type": "markdown",
   "id": "34f9b2e1",
   "metadata": {},
   "source": [
    "\n",
    "<a id='timedeltas-isoformat'></a>\n",
    "You can convert a `Timedelta` to an [ISO 8601 Duration](https://en.wikipedia.org/wiki/ISO_8601#Durations) string with the\n",
    "`.isoformat` method"
   ]
  },
  {
   "cell_type": "code",
   "execution_count": null,
   "id": "f4441be8",
   "metadata": {
    "hide-output": false
   },
   "outputs": [],
   "source": [
    "pd.Timedelta(\n",
    "    days=6, minutes=50, seconds=3, milliseconds=10, microseconds=10, nanoseconds=12\n",
    ").isoformat()"
   ]
  },
  {
   "cell_type": "markdown",
   "id": "66b9c0ae",
   "metadata": {},
   "source": [
    "\n",
    "<a id='timedeltas-index'></a>"
   ]
  },
  {
   "cell_type": "markdown",
   "id": "742a675c",
   "metadata": {},
   "source": [
    "## TimedeltaIndex\n",
    "\n",
    "To generate an index with time delta, you can use either the `TimedeltaIndex` or\n",
    "the `timedelta_range()` constructor.\n",
    "\n",
    "Using `TimedeltaIndex` you can pass string-like, `Timedelta`, `timedelta`,\n",
    "or `np.timedelta64` objects. Passing `np.nan/pd.NaT/nat` will represent missing values."
   ]
  },
  {
   "cell_type": "code",
   "execution_count": null,
   "id": "b5093899",
   "metadata": {
    "hide-output": false
   },
   "outputs": [],
   "source": [
    "pd.TimedeltaIndex(\n",
    "    [\n",
    "        \"1 days\",\n",
    "        \"1 days, 00:00:05\",\n",
    "        np.timedelta64(2, \"D\"),\n",
    "        datetime.timedelta(days=2, seconds=2),\n",
    "    ]\n",
    ")"
   ]
  },
  {
   "cell_type": "markdown",
   "id": "4e85e738",
   "metadata": {},
   "source": [
    "The string ‘infer’ can be passed in order to set the frequency of the index as the\n",
    "inferred frequency upon creation:"
   ]
  },
  {
   "cell_type": "code",
   "execution_count": null,
   "id": "d5a9b01d",
   "metadata": {
    "hide-output": false
   },
   "outputs": [],
   "source": [
    "pd.TimedeltaIndex([\"0 days\", \"10 days\", \"20 days\"], freq=\"infer\")"
   ]
  },
  {
   "cell_type": "markdown",
   "id": "08410c17",
   "metadata": {},
   "source": [
    "### Generating ranges of time deltas\n",
    "\n",
    "Similar to `date_range()`, you can construct regular ranges of a `TimedeltaIndex`\n",
    "using `timedelta_range()`.  The default frequency for `timedelta_range` is\n",
    "calendar day:"
   ]
  },
  {
   "cell_type": "code",
   "execution_count": null,
   "id": "6f29f3b7",
   "metadata": {
    "hide-output": false
   },
   "outputs": [],
   "source": [
    "pd.timedelta_range(start=\"1 days\", periods=5)"
   ]
  },
  {
   "cell_type": "markdown",
   "id": "94f0dd69",
   "metadata": {},
   "source": [
    "Various combinations of `start`, `end`, and `periods` can be used with\n",
    "`timedelta_range`:"
   ]
  },
  {
   "cell_type": "code",
   "execution_count": null,
   "id": "c479db39-3299-4870-ba28-1bcd4bce704b",
   "metadata": {
    "hide-output": false
   },
   "outputs": [],
   "source": [
    "pd.timedelta_range(start=\"1 days\", end=\"5 days\")"
   ]
  },
  {
   "cell_type": "code",
   "execution_count": null,
   "id": "4b602490-7924-4417-a021-f9279389f05b",
   "metadata": {
    "hide-output": false
   },
   "outputs": [],
   "source": [
    "pd.timedelta_range(end=\"10 days\", periods=4)"
   ]
  },
  {
   "cell_type": "markdown",
   "id": "fc9ad3f7",
   "metadata": {},
   "source": [
    "The `freq` parameter can passed a variety of [frequency aliases](38_timeseries.ipynb#timeseries-offset-aliases):"
   ]
  },
  {
   "cell_type": "code",
   "execution_count": null,
   "id": "b780e598-1904-4dcf-bf7b-3b6a9df0adc8",
   "metadata": {
    "hide-output": false
   },
   "outputs": [],
   "source": [
    "pd.timedelta_range(start=\"1 days\", end=\"2 days\", freq=\"30T\")"
   ]
  },
  {
   "cell_type": "code",
   "execution_count": null,
   "id": "345e584a-c019-4c18-8aa5-03425eabd087",
   "metadata": {
    "hide-output": false
   },
   "outputs": [],
   "source": [
    "pd.timedelta_range(start=\"1 days\", periods=5, freq=\"2D5H\")"
   ]
  },
  {
   "cell_type": "markdown",
   "id": "35aadc93",
   "metadata": {},
   "source": [
    "Specifying `start`, `end`, and `periods` will generate a range of evenly spaced\n",
    "timedeltas from `start` to `end` inclusively, with `periods` number of elements\n",
    "in the resulting `TimedeltaIndex`:"
   ]
  },
  {
   "cell_type": "code",
   "execution_count": null,
   "id": "bcb2598d-0747-4b9c-a9d3-0329fc0c287a",
   "metadata": {
    "hide-output": false
   },
   "outputs": [],
   "source": [
    "pd.timedelta_range(\"0 days\", \"4 days\", periods=5)"
   ]
  },
  {
   "cell_type": "code",
   "execution_count": null,
   "id": "0b22ed6a-d6f4-4d2c-a2c5-a99a7597adfc",
   "metadata": {
    "hide-output": false
   },
   "outputs": [],
   "source": [
    "pd.timedelta_range(\"0 days\", \"4 days\", periods=10)"
   ]
  },
  {
   "cell_type": "markdown",
   "id": "ee7a44e3",
   "metadata": {},
   "source": [
    "### Using the TimedeltaIndex\n",
    "\n",
    "Similarly to other of the datetime-like indices, `DatetimeIndex` and `PeriodIndex`, you can use\n",
    "`TimedeltaIndex` as the index of pandas objects."
   ]
  },
  {
   "cell_type": "code",
   "execution_count": null,
   "id": "a3af392b",
   "metadata": {
    "hide-output": false
   },
   "outputs": [],
   "source": [
    "s = pd.Series(\n",
    "    np.arange(100),\n",
    "    index=pd.timedelta_range(\"1 days\", periods=100, freq=\"h\"),\n",
    ")\n",
    "s"
   ]
  },
  {
   "cell_type": "markdown",
   "id": "f67a30da",
   "metadata": {},
   "source": [
    "Selections work similarly, with coercion on string-likes and slices:"
   ]
  },
  {
   "cell_type": "code",
   "execution_count": null,
   "id": "8c591d4a-6533-4443-a126-485282f1f016",
   "metadata": {
    "hide-output": false
   },
   "outputs": [],
   "source": [
    "s[\"1 day\":\"2 day\"].head(10)"
   ]
  },
  {
   "cell_type": "code",
   "execution_count": null,
   "id": "b923da44-ea51-4381-89eb-02be2e6723b6",
   "metadata": {
    "hide-output": false
   },
   "outputs": [],
   "source": [
    "s[\"1 day 01:00:00\"]"
   ]
  },
  {
   "cell_type": "code",
   "execution_count": null,
   "id": "fb8f92a8-ae74-4e69-a1bd-83d0b12bce35",
   "metadata": {
    "hide-output": false
   },
   "outputs": [],
   "source": [
    "s[pd.Timedelta(\"1 day 1h\")]"
   ]
  },
  {
   "cell_type": "markdown",
   "id": "c9f0cc07",
   "metadata": {},
   "source": [
    "Furthermore you can use partial string selection and the range will be inferred:"
   ]
  },
  {
   "cell_type": "code",
   "execution_count": null,
   "id": "1c31e5b7",
   "metadata": {
    "hide-output": false
   },
   "outputs": [],
   "source": [
    "s[\"1 day\":\"1 day 5 hours\"]"
   ]
  },
  {
   "cell_type": "markdown",
   "id": "1320793e",
   "metadata": {},
   "source": [
    "### Operations\n",
    "\n",
    "Finally, the combination of `TimedeltaIndex` with `DatetimeIndex` allow certain combination operations that are NaT preserving:"
   ]
  },
  {
   "cell_type": "code",
   "execution_count": null,
   "id": "305cad6c-95a5-412e-af85-5c89713ac9ad",
   "metadata": {
    "hide-output": false
   },
   "outputs": [],
   "source": [
    "tdi = pd.TimedeltaIndex([\"1 days\", pd.NaT, \"2 days\"])\n",
    "tdi.to_list()"
   ]
  },
  {
   "cell_type": "code",
   "execution_count": null,
   "id": "e1f00461-dcab-4971-8645-4a745c6d744f",
   "metadata": {
    "hide-output": false
   },
   "outputs": [],
   "source": [
    "dti = pd.date_range(\"20130101\", periods=3)\n",
    "dti.to_list()"
   ]
  },
  {
   "cell_type": "code",
   "execution_count": null,
   "id": "ac09c698-286d-4347-9298-f90a2f645ca3",
   "metadata": {
    "hide-output": false
   },
   "outputs": [],
   "source": [
    "(dti + tdi).to_list()"
   ]
  },
  {
   "cell_type": "code",
   "execution_count": null,
   "id": "3227685e-77cf-4656-80e8-72e10372f831",
   "metadata": {
    "hide-output": false
   },
   "outputs": [],
   "source": [
    "(dti - tdi).to_list()"
   ]
  },
  {
   "cell_type": "markdown",
   "id": "1d40fc86",
   "metadata": {},
   "source": [
    "### Conversions\n",
    "\n",
    "Similarly to frequency conversion on a `Series` above, you can convert these indices to yield another Index."
   ]
  },
  {
   "cell_type": "code",
   "execution_count": null,
   "id": "13c595cb-567e-4b1b-8317-6861669915df",
   "metadata": {
    "hide-output": false
   },
   "outputs": [],
   "source": [
    "tdi / np.timedelta64(1, \"s\")"
   ]
  },
  {
   "cell_type": "code",
   "execution_count": null,
   "id": "3a9dde39-71bc-48c4-a520-dbc172079657",
   "metadata": {
    "hide-output": false
   },
   "outputs": [],
   "source": [
    "tdi.astype(\"timedelta64[s]\")"
   ]
  },
  {
   "cell_type": "markdown",
   "id": "cb2bf014",
   "metadata": {},
   "source": [
    "Scalars type ops work as well. These can potentially return a *different* type of index."
   ]
  },
  {
   "cell_type": "code",
   "execution_count": null,
   "id": "66a7b10d-1d85-4304-aafa-02cebaad259e",
   "metadata": {
    "hide-output": false
   },
   "outputs": [],
   "source": [
    "# adding or timedelta and date -> datelike\n",
    "tdi + pd.Timestamp(\"20130101\")"
   ]
  },
  {
   "cell_type": "code",
   "execution_count": null,
   "id": "16f154b1-a1c0-48bf-94da-a84ce3f32d3c",
   "metadata": {
    "hide-output": false
   },
   "outputs": [],
   "source": [
    "# subtraction of a date and a timedelta -> datelike\n",
    "# note that trying to subtract a date from a Timedelta will raise an exception\n",
    "(pd.Timestamp(\"20130101\") - tdi).to_list()"
   ]
  },
  {
   "cell_type": "code",
   "execution_count": null,
   "id": "c1ef8dfc-8d9c-4e20-8584-664f5ad66bd7",
   "metadata": {
    "hide-output": false
   },
   "outputs": [],
   "source": [
    "# timedelta + timedelta -> timedelta\n",
    "tdi + pd.Timedelta(\"10 days\")"
   ]
  },
  {
   "cell_type": "code",
   "execution_count": null,
   "id": "d8930152-12af-4a90-9b86-8a5f433ddac3",
   "metadata": {
    "hide-output": false
   },
   "outputs": [],
   "source": [
    "# division can result in a Timedelta if the divisor is an integer\n",
    "tdi / 2"
   ]
  },
  {
   "cell_type": "code",
   "execution_count": null,
   "id": "1573572a-c53b-4833-9845-5b950a714a94",
   "metadata": {
    "hide-output": false
   },
   "outputs": [],
   "source": [
    "# or a Float64Index if the divisor is a Timedelta\n",
    "tdi / tdi[0]"
   ]
  },
  {
   "cell_type": "markdown",
   "id": "c88c3c45",
   "metadata": {},
   "source": [
    "\n",
    "<a id='timedeltas-resampling'></a>"
   ]
  },
  {
   "cell_type": "markdown",
   "id": "0d481926",
   "metadata": {},
   "source": [
    "## Resampling\n",
    "\n",
    "Similar to [timeseries resampling](38_timeseries.ipynb#timeseries-resampling), we can resample with a `TimedeltaIndex`."
   ]
  },
  {
   "cell_type": "code",
   "execution_count": null,
   "id": "70001639",
   "metadata": {
    "hide-output": false
   },
   "outputs": [],
   "source": [
    "s.resample(\"D\").mean()"
   ]
  }
 ],
 "metadata": {
  "date": 1630231091.7078943,
  "filename": "39_timedeltas.rst",
  "kernelspec": {
   "display_name": "Python 3 (ipykernel)",
   "language": "python",
   "name": "python3"
  },
  "language_info": {
   "codemirror_mode": {
    "name": "ipython",
    "version": 3
   },
   "file_extension": ".py",
   "mimetype": "text/x-python",
   "name": "python",
   "nbconvert_exporter": "python",
   "pygments_lexer": "ipython3",
   "version": "3.8.8"
  },
  "title": "Time deltas"
 },
 "nbformat": 4,
 "nbformat_minor": 5
}
