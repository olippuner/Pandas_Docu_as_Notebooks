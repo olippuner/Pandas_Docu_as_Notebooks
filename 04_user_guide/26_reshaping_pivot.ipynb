{
 "cells": [
  {
   "cell_type": "markdown",
   "id": "a523698e",
   "metadata": {},
   "source": [
    "# Reshaping and pivot tables\n",
    "\n",
    "\n",
    "<a id='reshaping-reshaping'></a>"
   ]
  },
  {
   "cell_type": "code",
   "execution_count": null,
   "id": "dda6f721-e5eb-455a-bac6-ef5b7f71e985",
   "metadata": {},
   "outputs": [],
   "source": [
    "import pandas as pd\n",
    "import numpy as np"
   ]
  },
  {
   "cell_type": "markdown",
   "id": "38b3febc",
   "metadata": {},
   "source": [
    "## Reshaping by pivoting DataFrame objects\n",
    "\n",
    "<img src=\"../_static/reshaping_pivot.png\" style=\"\">"
   ]
  },
  {
   "cell_type": "markdown",
   "id": "8d060b6f-bb24-41f8-9e0e-697b3195e41f",
   "metadata": {},
   "source": [
    "For the curious here is how the above `DataFrame` was created:"
   ]
  },
  {
   "cell_type": "code",
   "execution_count": null,
   "id": "f50edc33",
   "metadata": {
    "hide-output": false
   },
   "outputs": [],
   "source": [
    "import pandas._testing as tm\n",
    "\n",
    "def unpivot(frame):\n",
    "    N, K = frame.shape\n",
    "    data = {\n",
    "        \"value\": frame.to_numpy().ravel(\"F\"),\n",
    "        \"variable\": np.asarray(frame.columns).repeat(N),\n",
    "        \"date\": np.tile(np.asarray(frame.index), K),\n",
    "    }\n",
    "    columns = [\"date\", \"variable\", \"value\"]\n",
    "    return pd.DataFrame(data, columns=columns)\n",
    "\n",
    "df = unpivot(tm.makeTimeDataFrame(3))"
   ]
  },
  {
   "cell_type": "markdown",
   "id": "09f2e6c5",
   "metadata": {},
   "source": [
    "Data is often stored in so-called “stacked” or “record” format:"
   ]
  },
  {
   "cell_type": "code",
   "execution_count": null,
   "id": "624c9696",
   "metadata": {
    "hide-output": false
   },
   "outputs": [],
   "source": [
    "df"
   ]
  },
  {
   "cell_type": "markdown",
   "id": "07d26c6a",
   "metadata": {},
   "source": [
    "To select out everything for variable `A` we could do:"
   ]
  },
  {
   "cell_type": "code",
   "execution_count": null,
   "id": "c7d307dd",
   "metadata": {
    "hide-output": false
   },
   "outputs": [],
   "source": [
    "df[df[\"variable\"] == \"A\"]"
   ]
  },
  {
   "cell_type": "markdown",
   "id": "b697688e",
   "metadata": {},
   "source": [
    "But suppose we wish to do time series operations with the variables. A better\n",
    "representation would be where the `columns` are the unique variables and an\n",
    "`index` of dates identifies individual observations. To reshape the data into\n",
    "this form, we use the `DataFrame.pivot()` method (also implemented as a\n",
    "top level function `pivot()`):"
   ]
  },
  {
   "cell_type": "code",
   "execution_count": null,
   "id": "70e16f01",
   "metadata": {
    "hide-output": false
   },
   "outputs": [],
   "source": [
    "df.pivot(index=\"date\", columns=\"variable\", values=\"value\")"
   ]
  },
  {
   "cell_type": "markdown",
   "id": "94438217",
   "metadata": {},
   "source": [
    "If the `values` argument is omitted, and the input `DataFrame` has more than\n",
    "one column of values which are not used as column or index inputs to `pivot`,\n",
    "then the resulting “pivoted” `DataFrame` will have hierarchical columns whose topmost level indicates the respective value\n",
    "column:"
   ]
  },
  {
   "cell_type": "code",
   "execution_count": null,
   "id": "ae4d4eb3",
   "metadata": {
    "hide-output": false
   },
   "outputs": [],
   "source": [
    "df[\"value2\"] = df[\"value\"] * 2\n",
    "pivoted = df.pivot(index=\"date\", columns=\"variable\")\n",
    "pivoted"
   ]
  },
  {
   "cell_type": "markdown",
   "id": "1d548545",
   "metadata": {},
   "source": [
    "You can then select subsets from the pivoted `DataFrame`:"
   ]
  },
  {
   "cell_type": "code",
   "execution_count": null,
   "id": "6cd2a944",
   "metadata": {
    "hide-output": false
   },
   "outputs": [],
   "source": [
    "pivoted[\"value2\"]"
   ]
  },
  {
   "cell_type": "markdown",
   "id": "5c9bb6ef",
   "metadata": {},
   "source": [
    "Note that this returns a view on the underlying data in the case where the data\n",
    "are homogeneously-typed.\n",
    "\n",
    ">**Note**\n",
    ">\n",
    ">`pivot()` will error with a `ValueError: Index contains duplicate\n",
    "entries, cannot reshape` if the index/column pair is not unique. In this\n",
    "case, consider using `pivot_table()` which is a generalization\n",
    "of pivot that can handle duplicate values for one index/column pair.\n",
    "\n",
    "\n",
    "<a id='reshaping-stacking'></a>"
   ]
  },
  {
   "cell_type": "markdown",
   "id": "442b196a",
   "metadata": {},
   "source": [
    "## Reshaping by stacking and unstacking\n",
    "\n",
    "<img src=\"_static/reshaping_stack.png\" style=\"\">\n",
    "\n",
    "Closely related to the `pivot()` method are the related\n",
    "`stack()` and `unstack()` methods available on\n",
    "`Series` and `DataFrame`. These methods are designed to work together with\n",
    "`MultiIndex` objects (see the section on hierarchical indexing). Here are essentially what these methods do:\n",
    "\n",
    "- `stack`: “pivot” a level of the (possibly hierarchical) column labels,\n",
    "  returning a `DataFrame` with an index with a new inner-most level of row\n",
    "  labels.  \n",
    "- `unstack`: (inverse operation of `stack`) “pivot” a level of the\n",
    "  (possibly hierarchical) row index to the column axis, producing a reshaped\n",
    "  `DataFrame` with a new inner-most level of column labels.  \n",
    "\n",
    "\n",
    "<img src=\"_static/reshaping_unstack.png\" style=\"\">\n",
    "\n",
    "The clearest way to explain is by example. Let’s take a prior example data set\n",
    "from the hierarchical indexing section:"
   ]
  },
  {
   "cell_type": "code",
   "execution_count": null,
   "id": "d355cc2e",
   "metadata": {
    "hide-output": false
   },
   "outputs": [],
   "source": [
    "tuples = list(\n",
    "    zip(\n",
    "        *[\n",
    "            [\"bar\", \"bar\", \"baz\", \"baz\", \"foo\", \"foo\", \"qux\", \"qux\"],\n",
    "            [\"one\", \"two\", \"one\", \"two\", \"one\", \"two\", \"one\", \"two\"],\n",
    "        ]\n",
    "    )\n",
    ")\n",
    "index = pd.MultiIndex.from_tuples(tuples, names=[\"first\", \"second\"])\n",
    "df = pd.DataFrame(np.random.randn(8, 2), index=index, columns=[\"A\", \"B\"])\n",
    "df2 = df[:4]\n",
    "df2"
   ]
  },
  {
   "cell_type": "markdown",
   "id": "34dfdd2f",
   "metadata": {},
   "source": [
    "The `stack` function “compresses” a level in the `DataFrame`’s columns to\n",
    "produce either:\n",
    "\n",
    "- A `Series`, in the case of a simple column Index.  \n",
    "- A `DataFrame`, in the case of a `MultiIndex` in the columns.  \n",
    "\n",
    "\n",
    "If the columns have a `MultiIndex`, you can choose which level to stack. The\n",
    "stacked level becomes the new lowest level in a `MultiIndex` on the columns:"
   ]
  },
  {
   "cell_type": "code",
   "execution_count": null,
   "id": "f63ffb17",
   "metadata": {
    "hide-output": false
   },
   "outputs": [],
   "source": [
    "stacked = df2.stack()\n",
    "stacked"
   ]
  },
  {
   "cell_type": "markdown",
   "id": "3353bd8c",
   "metadata": {},
   "source": [
    "With a “stacked” `DataFrame` or `Series` (having a `MultiIndex` as the\n",
    "`index`), the inverse operation of `stack` is `unstack`, which by default\n",
    "unstacks the **last level**:"
   ]
  },
  {
   "cell_type": "code",
   "execution_count": null,
   "id": "3f847a08",
   "metadata": {
    "hide-output": false
   },
   "outputs": [],
   "source": [
    "stacked.unstack()\n",
    "stacked.unstack(1)\n",
    "stacked.unstack(0)"
   ]
  },
  {
   "cell_type": "markdown",
   "id": "1105b60d",
   "metadata": {},
   "source": [
    "\n",
    "<a id='reshaping-unstack-by-name'></a>\n",
    "<img src=\"../_static/reshaping_unstack_1.png\" style=\"\">\n",
    "\n",
    "If the indexes have names, you can use the level names instead of specifying\n",
    "the level numbers:"
   ]
  },
  {
   "cell_type": "code",
   "execution_count": null,
   "id": "dc71edef",
   "metadata": {
    "hide-output": false
   },
   "outputs": [],
   "source": [
    "stacked.unstack(\"second\")"
   ]
  },
  {
   "cell_type": "markdown",
   "id": "ef12fb04",
   "metadata": {},
   "source": [
    "<img src=\"../_static/reshaping_unstack_0.png\" style=\"\">\n",
    "\n",
    "Notice that the `stack` and `unstack` methods implicitly sort the index\n",
    "levels involved. Hence a call to `stack` and then `unstack`, or vice versa,\n",
    "will result in a **sorted** copy of the original `DataFrame` or `Series`:"
   ]
  },
  {
   "cell_type": "code",
   "execution_count": null,
   "id": "eb2165ce-70d0-4e0f-8a36-b7fc1215630a",
   "metadata": {
    "hide-output": false
   },
   "outputs": [],
   "source": [
    "index = pd.MultiIndex.from_product([[2, 1], [\"a\", \"b\"]])\n",
    "df = pd.DataFrame(np.random.randn(4), index=index, columns=[\"A\"])\n",
    "df"
   ]
  },
  {
   "cell_type": "code",
   "execution_count": null,
   "id": "39cc3c7d-7402-4eaa-8ab8-7754e6055857",
   "metadata": {
    "hide-output": false
   },
   "outputs": [],
   "source": [
    "all(df.unstack().stack() == df.sort_index())"
   ]
  },
  {
   "cell_type": "markdown",
   "id": "3a38b3c9",
   "metadata": {},
   "source": [
    "The above code will raise a `TypeError` if the call to `sort_index` is\n",
    "removed.\n",
    "\n",
    "\n",
    "<a id='reshaping-stack-multiple'></a>"
   ]
  },
  {
   "cell_type": "markdown",
   "id": "592ad2f4",
   "metadata": {},
   "source": [
    "### Multiple levels\n",
    "\n",
    "You may also stack or unstack more than one level at a time by passing a list\n",
    "of levels, in which case the end result is as if each level in the list were\n",
    "processed individually."
   ]
  },
  {
   "cell_type": "code",
   "execution_count": null,
   "id": "ded91464-1726-403e-a8d6-81acb41f4ee4",
   "metadata": {
    "hide-output": false
   },
   "outputs": [],
   "source": [
    "columns = pd.MultiIndex.from_tuples(\n",
    "    [\n",
    "        (\"A\", \"cat\", \"long\"),\n",
    "        (\"B\", \"cat\", \"long\"),\n",
    "        (\"A\", \"dog\", \"short\"),\n",
    "        (\"B\", \"dog\", \"short\"),\n",
    "    ],\n",
    "    names=[\"exp\", \"animal\", \"hair_length\"],\n",
    ")\n",
    "df = pd.DataFrame(np.random.randn(4, 4), columns=columns)\n",
    "df"
   ]
  },
  {
   "cell_type": "code",
   "execution_count": null,
   "id": "e7235e68-edb0-4886-b744-ce881e66ccb4",
   "metadata": {
    "hide-output": false
   },
   "outputs": [],
   "source": [
    "df.stack(level=[\"animal\", \"hair_length\"])"
   ]
  },
  {
   "cell_type": "markdown",
   "id": "56d80e06",
   "metadata": {},
   "source": [
    "The list of levels can contain either level names or level numbers (but\n",
    "not a mixture of the two)."
   ]
  },
  {
   "cell_type": "code",
   "execution_count": null,
   "id": "74016f87",
   "metadata": {
    "hide-output": false
   },
   "outputs": [],
   "source": [
    "# df.stack(level=['animal', 'hair_length'])\n",
    "# from above is equivalent to:\n",
    "df.stack(level=[1])"
   ]
  },
  {
   "cell_type": "code",
   "execution_count": null,
   "id": "b1213af7-abef-4821-8bde-730fd784d0a2",
   "metadata": {},
   "outputs": [],
   "source": [
    "df.stack(level=[2])"
   ]
  },
  {
   "cell_type": "code",
   "execution_count": null,
   "id": "1ee9abe7-a0cb-4fa6-9cc1-862f89a9e889",
   "metadata": {},
   "outputs": [],
   "source": [
    "df.stack(level=[1,2])"
   ]
  },
  {
   "cell_type": "markdown",
   "id": "b462a093",
   "metadata": {},
   "source": [
    "### Missing data\n",
    "\n",
    "These functions are intelligent about handling missing data and do not expect\n",
    "each subgroup within the hierarchical index to have the same set of labels.\n",
    "They also can handle the index being unsorted (but you can make it sorted by\n",
    "calling `sort_index`, of course). Here is a more complex example:"
   ]
  },
  {
   "cell_type": "code",
   "execution_count": null,
   "id": "1852ed9c",
   "metadata": {
    "hide-output": false
   },
   "outputs": [],
   "source": [
    "columns = pd.MultiIndex.from_tuples(\n",
    "    [\n",
    "        (\"A\", \"cat\"),\n",
    "        (\"B\", \"dog\"),\n",
    "        (\"B\", \"cat\"),\n",
    "        (\"A\", \"dog\"),\n",
    "    ],\n",
    "    names=[\"exp\", \"animal\"],\n",
    ")\n",
    "index = pd.MultiIndex.from_product(\n",
    "    [(\"bar\", \"baz\", \"foo\", \"qux\"), (\"one\", \"two\")], names=[\"first\", \"second\"]\n",
    ")\n",
    "df = pd.DataFrame(np.random.randn(8, 4), index=index, columns=columns)\n",
    "df2 = df.iloc[[0, 1, 2, 4, 5, 7]]\n",
    "df2"
   ]
  },
  {
   "cell_type": "markdown",
   "id": "f893e6a7",
   "metadata": {},
   "source": [
    "As mentioned above, `stack` can be called with a `level` argument to select\n",
    "which level in the columns to stack:"
   ]
  },
  {
   "cell_type": "code",
   "execution_count": null,
   "id": "21bc2fe0-f794-4454-903f-ee98dc76649e",
   "metadata": {
    "hide-output": false
   },
   "outputs": [],
   "source": [
    "df2.stack(\"exp\")"
   ]
  },
  {
   "cell_type": "code",
   "execution_count": null,
   "id": "de7728dd-b578-4ecc-b1c7-c213c0229c10",
   "metadata": {
    "hide-output": false
   },
   "outputs": [],
   "source": [
    "df2.stack(\"animal\")"
   ]
  },
  {
   "cell_type": "markdown",
   "id": "8ce0d219",
   "metadata": {},
   "source": [
    "Unstacking can result in missing values if subgroups do not have the same\n",
    "set of labels.  By default, missing values will be replaced with the default\n",
    "fill value for that data type, `NaN` for float, `NaT` for datetimelike,\n",
    "etc.  For integer types, by default data will converted to float and missing\n",
    "values will be set to `NaN`."
   ]
  },
  {
   "cell_type": "code",
   "execution_count": null,
   "id": "f539b3d8-5e48-4722-9e61-4106b7387410",
   "metadata": {
    "hide-output": false
   },
   "outputs": [],
   "source": [
    "df3 = df.iloc[[0, 1, 4, 7], [1, 2]]\n",
    "df3"
   ]
  },
  {
   "cell_type": "code",
   "execution_count": null,
   "id": "8ff7ed59-e62b-4157-afd7-3ece658d482b",
   "metadata": {
    "hide-output": false
   },
   "outputs": [],
   "source": [
    "df3.unstack()"
   ]
  },
  {
   "cell_type": "markdown",
   "id": "cb117158",
   "metadata": {},
   "source": [
    "Alternatively, unstack takes an optional `fill_value` argument, for specifying\n",
    "the value of missing data."
   ]
  },
  {
   "cell_type": "code",
   "execution_count": null,
   "id": "e7d6afda",
   "metadata": {
    "hide-output": false
   },
   "outputs": [],
   "source": [
    "df3.unstack(fill_value=-1e9)"
   ]
  },
  {
   "cell_type": "markdown",
   "id": "3d2d6d2e",
   "metadata": {},
   "source": [
    "### With a MultiIndex\n",
    "\n",
    "Unstacking when the columns are a `MultiIndex` is also careful about doing\n",
    "the right thing:"
   ]
  },
  {
   "cell_type": "code",
   "execution_count": null,
   "id": "b26e4fef-a14a-490f-98a6-778a3ddeb6e1",
   "metadata": {
    "hide-output": false
   },
   "outputs": [],
   "source": [
    "df[:3].unstack(0)"
   ]
  },
  {
   "cell_type": "code",
   "execution_count": null,
   "id": "99dbeec5-eda5-4dcf-a498-8ded87ab48ad",
   "metadata": {
    "hide-output": false
   },
   "outputs": [],
   "source": [
    "df2.unstack(1)"
   ]
  },
  {
   "cell_type": "markdown",
   "id": "91e2292d",
   "metadata": {},
   "source": [
    "\n",
    "<a id='reshaping-melt'></a>"
   ]
  },
  {
   "cell_type": "markdown",
   "id": "8473f3f6",
   "metadata": {},
   "source": [
    "## Reshaping by melt\n",
    "\n",
    "<img src=\"../_static/reshaping_melt.png\" style=\"\">\n",
    "\n",
    "The top-level `melt()` function and the corresponding `DataFrame.melt()`\n",
    "are useful to massage a `DataFrame` into a format where one or more columns\n",
    "are *identifier variables*, while all other columns, considered *measured\n",
    "variables*, are “unpivoted” to the row axis, leaving just two non-identifier\n",
    "columns, “variable” and “value”. The names of those columns can be customized\n",
    "by supplying the `var_name` and `value_name` parameters.\n",
    "\n",
    "For instance,"
   ]
  },
  {
   "cell_type": "code",
   "execution_count": null,
   "id": "65b1dbd9-4ff6-453e-af35-687ebe260105",
   "metadata": {
    "hide-output": false
   },
   "outputs": [],
   "source": [
    "cheese = pd.DataFrame(\n",
    "    {\n",
    "        \"first\": [\"John\", \"Mary\"],\n",
    "        \"last\": [\"Doe\", \"Bo\"],\n",
    "        \"height\": [5.5, 6.0],\n",
    "        \"weight\": [130, 150],\n",
    "    }\n",
    ")\n",
    "cheese"
   ]
  },
  {
   "cell_type": "code",
   "execution_count": null,
   "id": "95351984-9d9d-496e-838b-4efc889a5d19",
   "metadata": {
    "hide-output": false
   },
   "outputs": [],
   "source": [
    "cheese.melt(id_vars=[\"first\", \"last\"])"
   ]
  },
  {
   "cell_type": "code",
   "execution_count": null,
   "id": "c8f8716e-b9be-4e55-a4b8-eaa8bc6d84fa",
   "metadata": {
    "hide-output": false
   },
   "outputs": [],
   "source": [
    "cheese.melt(id_vars=[\"first\", \"last\"], var_name=\"quantity\")"
   ]
  },
  {
   "cell_type": "markdown",
   "id": "481d5c23",
   "metadata": {},
   "source": [
    "When transforming a DataFrame using `melt()`, the index will be ignored. The original index values can be kept around by setting the `ignore_index` parameter to `False` (default is `True`). This will however duplicate them.\n",
    "\n",
    "New in version 1.1.0."
   ]
  },
  {
   "cell_type": "code",
   "execution_count": null,
   "id": "39d3e1e4-d67d-4cfd-ac6f-f2fe928e5b53",
   "metadata": {
    "hide-output": false
   },
   "outputs": [],
   "source": [
    "index = pd.MultiIndex.from_tuples([(\"person\", \"A\"), (\"person\", \"B\")])\n",
    "cheese = pd.DataFrame(\n",
    "    {\n",
    "        \"first\": [\"John\", \"Mary\"],\n",
    "        \"last\": [\"Doe\", \"Bo\"],\n",
    "        \"height\": [5.5, 6.0],\n",
    "        \"weight\": [130, 150],\n",
    "    },\n",
    "    index=index,\n",
    ")\n",
    "cheese"
   ]
  },
  {
   "cell_type": "code",
   "execution_count": null,
   "id": "1cb2d37a-27dd-4082-820b-e3915523507d",
   "metadata": {
    "hide-output": false
   },
   "outputs": [],
   "source": [
    "cheese.melt(id_vars=[\"first\", \"last\"])"
   ]
  },
  {
   "cell_type": "code",
   "execution_count": null,
   "id": "f05c64df-40a4-4336-95cd-7faebea5de40",
   "metadata": {
    "hide-output": false
   },
   "outputs": [],
   "source": [
    "cheese.melt(id_vars=[\"first\", \"last\"], ignore_index=False)"
   ]
  },
  {
   "cell_type": "markdown",
   "id": "d5144f9d",
   "metadata": {},
   "source": [
    "Another way to transform is to use the `wide_to_long()` panel data\n",
    "convenience function. It is less flexible than `melt()`, but more\n",
    "user-friendly."
   ]
  },
  {
   "cell_type": "code",
   "execution_count": null,
   "id": "5073a33b-de9f-4707-adfa-4d41d38f29f4",
   "metadata": {
    "hide-output": false
   },
   "outputs": [],
   "source": [
    "dft = pd.DataFrame(\n",
    "    {\n",
    "        \"A1970\": {0: \"a\", 1: \"b\", 2: \"c\"},\n",
    "        \"A1980\": {0: \"d\", 1: \"e\", 2: \"f\"},\n",
    "        \"B1970\": {0: 2.5, 1: 1.2, 2: 0.7},\n",
    "        \"B1980\": {0: 3.2, 1: 1.3, 2: 0.1},\n",
    "        \"X\": dict(zip(range(3), np.random.randn(3))),\n",
    "    }\n",
    ")\n",
    "dft[\"id\"] = dft.index\n",
    "dft"
   ]
  },
  {
   "cell_type": "code",
   "execution_count": null,
   "id": "af22a6ab-0605-462a-94d9-e85020e4d072",
   "metadata": {
    "hide-output": false
   },
   "outputs": [],
   "source": [
    "pd.wide_to_long(dft, [\"A\", \"B\"], i=\"id\", j=\"year\")"
   ]
  },
  {
   "cell_type": "markdown",
   "id": "4745514d",
   "metadata": {},
   "source": [
    "\n",
    "<a id='reshaping-combine-with-groupby'></a>"
   ]
  },
  {
   "cell_type": "markdown",
   "id": "1c5f8394",
   "metadata": {},
   "source": [
    "## Combining with stats and GroupBy\n",
    "\n",
    "It should be no shock that combining `pivot` / `stack` / `unstack` with\n",
    "GroupBy and the basic Series and DataFrame statistical functions can produce\n",
    "some very expressive and fast data manipulations."
   ]
  },
  {
   "cell_type": "code",
   "execution_count": null,
   "id": "6dbb80e0-343f-4acd-bd66-8322a9f8d835",
   "metadata": {
    "hide-output": false
   },
   "outputs": [],
   "source": [
    "df\n",
    "df.stack().mean(1).unstack()"
   ]
  },
  {
   "cell_type": "code",
   "execution_count": null,
   "id": "a7991879-d103-452d-8aea-b507bcf44a1b",
   "metadata": {
    "hide-output": false
   },
   "outputs": [],
   "source": [
    "# same result, another way\n",
    "df.groupby(level=1, axis=1).mean()"
   ]
  },
  {
   "cell_type": "code",
   "execution_count": null,
   "id": "f279b040-f081-40c3-a7f6-2865b387e410",
   "metadata": {
    "hide-output": false
   },
   "outputs": [],
   "source": [
    "df.stack().groupby(level=1).mean()"
   ]
  },
  {
   "cell_type": "code",
   "execution_count": null,
   "id": "4348a83a-8618-4ad6-a1a5-e231b587e086",
   "metadata": {
    "hide-output": false
   },
   "outputs": [],
   "source": [
    "df.mean().unstack(0)"
   ]
  },
  {
   "cell_type": "markdown",
   "id": "69ff0754",
   "metadata": {},
   "source": [
    "## Pivot tables\n",
    "\n",
    "\n",
    "<a id='reshaping-pivot'></a>\n",
    "While `pivot()` provides general purpose pivoting with various\n",
    "data types (strings, numerics, etc.), pandas also provides `pivot_table()`\n",
    "for pivoting with aggregation of numeric data.\n",
    "\n",
    "The function `pivot_table()` can be used to create spreadsheet-style\n",
    "pivot tables. See the [cookbook](44_cookbook.ipynb#cookbook-pivot) for some advanced\n",
    "strategies.\n",
    "\n",
    "It takes a number of arguments:\n",
    "\n",
    "- `data`: a DataFrame object.  \n",
    "- `values`: a column or a list of columns to aggregate.  \n",
    "- `index`: a column, Grouper, array which has the same length as data, or list of them.\n",
    "  Keys to group by on the pivot table index. If an array is passed, it is being used as the same manner as column values.  \n",
    "- `columns`: a column, Grouper, array which has the same length as data, or list of them.\n",
    "  Keys to group by on the pivot table column. If an array is passed, it is being used as the same manner as column values.  \n",
    "- `aggfunc`: function to use for aggregation, defaulting to `numpy.mean`.  \n",
    "\n",
    "\n",
    "Consider a data set like this:"
   ]
  },
  {
   "cell_type": "code",
   "execution_count": null,
   "id": "e6297f8b",
   "metadata": {
    "hide-output": false
   },
   "outputs": [],
   "source": [
    "import datetime\n",
    "\n",
    "df = pd.DataFrame(\n",
    "    {\n",
    "        \"A\": [\"one\", \"one\", \"two\", \"three\"] * 6,\n",
    "        \"B\": [\"A\", \"B\", \"C\"] * 8,\n",
    "        \"C\": [\"foo\", \"foo\", \"foo\", \"bar\", \"bar\", \"bar\"] * 4,\n",
    "        \"D\": np.random.randn(24),\n",
    "        \"E\": np.random.randn(24),\n",
    "        \"F\": [datetime.datetime(2013, i, 1) for i in range(1, 13)]\n",
    "        + [datetime.datetime(2013, i, 15) for i in range(1, 13)],\n",
    "    }\n",
    ")\n",
    "df"
   ]
  },
  {
   "cell_type": "markdown",
   "id": "7a7a8098",
   "metadata": {},
   "source": [
    "We can produce pivot tables from this data very easily:"
   ]
  },
  {
   "cell_type": "code",
   "execution_count": null,
   "id": "cffd2069-90cf-4440-acb4-f482b70af392",
   "metadata": {
    "hide-output": false
   },
   "outputs": [],
   "source": [
    "pd.pivot_table(df, values=\"D\", index=[\"A\", \"B\"], columns=[\"C\"])"
   ]
  },
  {
   "cell_type": "code",
   "execution_count": null,
   "id": "c360ed6e-d8c7-4cec-b3e7-3ee1182791a6",
   "metadata": {
    "hide-output": false
   },
   "outputs": [],
   "source": [
    "pd.pivot_table(df, values=\"D\", index=[\"B\"], columns=[\"A\", \"C\"], aggfunc=np.sum)"
   ]
  },
  {
   "cell_type": "code",
   "execution_count": null,
   "id": "636e6b66-6780-40f7-8599-ceca6beef87f",
   "metadata": {
    "hide-output": false
   },
   "outputs": [],
   "source": [
    "pd.pivot_table(\n",
    "    df, values=[\"D\", \"E\"],\n",
    "    index=[\"B\"],\n",
    "    columns=[\"A\", \"C\"],\n",
    "    aggfunc=np.sum,\n",
    ")"
   ]
  },
  {
   "cell_type": "markdown",
   "id": "33ffd8a9",
   "metadata": {},
   "source": [
    "The result object is a `DataFrame` having potentially hierarchical indexes on the\n",
    "rows and columns. If the `values` column name is not given, the pivot table\n",
    "will include all of the data that can be aggregated in an additional level of\n",
    "hierarchy in the columns:"
   ]
  },
  {
   "cell_type": "code",
   "execution_count": null,
   "id": "30799293",
   "metadata": {
    "hide-output": false
   },
   "outputs": [],
   "source": [
    "pd.pivot_table(df, index=[\"A\", \"B\"], columns=[\"C\"])"
   ]
  },
  {
   "cell_type": "markdown",
   "id": "3cfbffe2",
   "metadata": {},
   "source": [
    "Also, you can use `Grouper` for `index` and `columns` keywords. For detail of `Grouper`, see [Grouping with a Grouper specification](36_groupby.ipynb#groupby-specify)."
   ]
  },
  {
   "cell_type": "code",
   "execution_count": null,
   "id": "c9632722",
   "metadata": {
    "hide-output": false
   },
   "outputs": [],
   "source": [
    "pd.pivot_table(df, values=\"D\", index=pd.Grouper(freq=\"M\", key=\"F\"), columns=\"C\")"
   ]
  },
  {
   "cell_type": "markdown",
   "id": "67a61664",
   "metadata": {},
   "source": [
    "You can render a nice output of the table omitting the missing values by\n",
    "calling `to_string` if you wish:"
   ]
  },
  {
   "cell_type": "code",
   "execution_count": null,
   "id": "c94879df",
   "metadata": {
    "hide-output": false
   },
   "outputs": [],
   "source": [
    "table = pd.pivot_table(df, index=[\"A\", \"B\"], columns=[\"C\"])\n",
    "print(table.to_string(na_rep=\"\"))"
   ]
  },
  {
   "cell_type": "markdown",
   "id": "b0370fc5",
   "metadata": {},
   "source": [
    "\n",
    "<dl style='margin: 20px 0;'>\n",
    "<dt>Note that `pivot_table` is also available as an instance method on DataFrame,</dt>\n",
    "<dd>\n",
    "i.e. `DataFrame.pivot_table()`.\n",
    "\n",
    "</dd>\n",
    "\n",
    "</dl>\n",
    "\n",
    "\n",
    "<a id='reshaping-pivot-margins'></a>"
   ]
  },
  {
   "cell_type": "markdown",
   "id": "58075670",
   "metadata": {},
   "source": [
    "### Adding margins\n",
    "\n",
    "If you pass `margins=True` to `pivot_table`, special `All` columns and\n",
    "rows will be added with partial group aggregates across the categories on the\n",
    "rows and columns:"
   ]
  },
  {
   "cell_type": "code",
   "execution_count": null,
   "id": "5d209d91",
   "metadata": {
    "hide-output": false
   },
   "outputs": [],
   "source": [
    "df.pivot_table(index=[\"A\", \"B\"], columns=\"C\", margins=True, aggfunc=np.std)"
   ]
  },
  {
   "cell_type": "markdown",
   "id": "e19e30d2",
   "metadata": {},
   "source": [
    "\n",
    "<a id='reshaping-crosstabulations'></a>"
   ]
  },
  {
   "cell_type": "markdown",
   "id": "f137ad82",
   "metadata": {},
   "source": [
    "## Cross tabulations\n",
    "\n",
    "Use `crosstab()` to compute a cross-tabulation of two (or more)\n",
    "factors. By default `crosstab` computes a frequency table of the factors\n",
    "unless an array of values and an aggregation function are passed.\n",
    "\n",
    "It takes a number of arguments\n",
    "\n",
    "- `index`: array-like, values to group by in the rows.  \n",
    "- `columns`: array-like, values to group by in the columns.  \n",
    "- `values`: array-like, optional, array of values to aggregate according to\n",
    "  the factors.  \n",
    "- `aggfunc`: function, optional, If no values array is passed, computes a\n",
    "  frequency table.  \n",
    "- `rownames`: sequence, default `None`, must match number of row arrays passed.  \n",
    "- `colnames`: sequence, default `None`, if passed, must match number of column\n",
    "  arrays passed.  \n",
    "- `margins`: boolean, default `False`, Add row/column margins (subtotals)  \n",
    "- `normalize`: boolean, {‘all’, ‘index’, ‘columns’}, or {0,1}, default `False`.\n",
    "  Normalize by dividing all values by the sum of values.  \n",
    "\n",
    "\n",
    "Any `Series` passed will have their name attributes used unless row or column\n",
    "names for the cross-tabulation are specified\n",
    "\n",
    "For example:"
   ]
  },
  {
   "cell_type": "code",
   "execution_count": null,
   "id": "831554c7",
   "metadata": {
    "hide-output": false
   },
   "outputs": [],
   "source": [
    "foo, bar, dull, shiny, one, two = \"foo\", \"bar\", \"dull\", \"shiny\", \"one\", \"two\"\n",
    "a = np.array([foo, foo, bar, bar, foo, foo], dtype=object)\n",
    "b = np.array([one, one, two, one, two, one], dtype=object)\n",
    "c = np.array([dull, dull, shiny, dull, dull, shiny], dtype=object)\n",
    "pd.crosstab(a, [b, c], rownames=[\"a\"], colnames=[\"b\", \"c\"])"
   ]
  },
  {
   "cell_type": "markdown",
   "id": "e0d9fbb2",
   "metadata": {},
   "source": [
    "If `crosstab` receives only two Series, it will provide a frequency table."
   ]
  },
  {
   "cell_type": "code",
   "execution_count": null,
   "id": "6e8abf85-de68-444b-80ad-235b44ae39cb",
   "metadata": {
    "hide-output": false
   },
   "outputs": [],
   "source": [
    "df = pd.DataFrame(\n",
    "    {\"A\": [1, 2, 2, 2, 2], \"B\": [3, 3, 4, 4, 4], \"C\": [1, 1, np.nan, 1, 1]}\n",
    ")\n",
    "df"
   ]
  },
  {
   "cell_type": "code",
   "execution_count": null,
   "id": "9bbe0d39-85c2-4fa8-9dab-218f579452dc",
   "metadata": {
    "hide-output": false
   },
   "outputs": [],
   "source": [
    "pd.crosstab(df[\"A\"], df[\"B\"])"
   ]
  },
  {
   "cell_type": "markdown",
   "id": "fb585a1d",
   "metadata": {},
   "source": [
    "`crosstab` can also be implemented\n",
    "to `Categorical` data."
   ]
  },
  {
   "cell_type": "code",
   "execution_count": null,
   "id": "b82b6b96",
   "metadata": {
    "hide-output": false
   },
   "outputs": [],
   "source": [
    "foo = pd.Categorical([\"a\", \"b\"], categories=[\"a\", \"b\", \"c\"])\n",
    "bar = pd.Categorical([\"d\", \"e\"], categories=[\"d\", \"e\", \"f\"])\n",
    "pd.crosstab(foo, bar)"
   ]
  },
  {
   "cell_type": "markdown",
   "id": "4ed47178",
   "metadata": {},
   "source": [
    "If you want to include **all** of data categories even if the actual data does\n",
    "not contain any instances of a particular category, you should set `dropna=False`.\n",
    "\n",
    "For example:"
   ]
  },
  {
   "cell_type": "code",
   "execution_count": null,
   "id": "e3ff17a6",
   "metadata": {
    "hide-output": false
   },
   "outputs": [],
   "source": [
    "pd.crosstab(foo, bar, dropna=False)"
   ]
  },
  {
   "cell_type": "markdown",
   "id": "50b9860b",
   "metadata": {},
   "source": [
    "### Normalization\n",
    "\n",
    "Frequency tables can also be normalized to show percentages rather than counts\n",
    "using the `normalize` argument:"
   ]
  },
  {
   "cell_type": "code",
   "execution_count": null,
   "id": "c5dad184",
   "metadata": {
    "hide-output": false
   },
   "outputs": [],
   "source": [
    "pd.crosstab(df[\"A\"], df[\"B\"], normalize=True)"
   ]
  },
  {
   "cell_type": "markdown",
   "id": "0361e6c0",
   "metadata": {},
   "source": [
    "`normalize` can also normalize values within each row or within each column:"
   ]
  },
  {
   "cell_type": "code",
   "execution_count": null,
   "id": "8149ed21",
   "metadata": {
    "hide-output": false
   },
   "outputs": [],
   "source": [
    "pd.crosstab(df[\"A\"], df[\"B\"], normalize=\"columns\")"
   ]
  },
  {
   "cell_type": "markdown",
   "id": "9e4a5bb2",
   "metadata": {},
   "source": [
    "`crosstab` can also be passed a third `Series` and an aggregation function\n",
    "(`aggfunc`) that will be applied to the values of the third `Series` within\n",
    "each group defined by the first two `Series`:"
   ]
  },
  {
   "cell_type": "code",
   "execution_count": null,
   "id": "d942db6b",
   "metadata": {
    "hide-output": false
   },
   "outputs": [],
   "source": [
    "pd.crosstab(df[\"A\"], df[\"B\"], values=df[\"C\"], aggfunc=np.sum)"
   ]
  },
  {
   "cell_type": "markdown",
   "id": "38c14435",
   "metadata": {},
   "source": [
    "### Adding margins\n",
    "\n",
    "Finally, one can also add margins or normalize this output."
   ]
  },
  {
   "cell_type": "code",
   "execution_count": null,
   "id": "0128139f",
   "metadata": {
    "hide-output": false
   },
   "outputs": [],
   "source": [
    "pd.crosstab(\n",
    "    df[\"A\"], df[\"B\"], values=df[\"C\"], aggfunc=np.sum, normalize=True, margins=True\n",
    ")"
   ]
  },
  {
   "cell_type": "markdown",
   "id": "55688fea",
   "metadata": {},
   "source": [
    "\n",
    "<a id='reshaping-tile'></a>\n",
    "\n",
    "<a id='reshaping-tile-cut'></a>"
   ]
  },
  {
   "cell_type": "markdown",
   "id": "52b5b388",
   "metadata": {},
   "source": [
    "## Tiling\n",
    "\n",
    "The `cut()` function computes groupings for the values of the input\n",
    "array and is often used to transform continuous variables to discrete or\n",
    "categorical variables:"
   ]
  },
  {
   "cell_type": "code",
   "execution_count": null,
   "id": "1a6f1894-b188-4bda-a761-dc2f82def489",
   "metadata": {
    "hide-output": false
   },
   "outputs": [],
   "source": [
    "ages = np.array([10, 15, 13, 12, 23, 25, 28, 59, 60])"
   ]
  },
  {
   "cell_type": "code",
   "execution_count": null,
   "id": "59d6c034-23f0-424b-8e14-969fc039aec3",
   "metadata": {
    "hide-output": false
   },
   "outputs": [],
   "source": [
    "pd.cut(ages, bins=3)"
   ]
  },
  {
   "cell_type": "markdown",
   "id": "2b3e8bd4",
   "metadata": {},
   "source": [
    "If the `bins` keyword is an integer, then equal-width bins are formed.\n",
    "Alternatively we can specify custom bin-edges:"
   ]
  },
  {
   "cell_type": "code",
   "execution_count": null,
   "id": "7e7a74e4",
   "metadata": {
    "hide-output": false
   },
   "outputs": [],
   "source": [
    "c = pd.cut(ages, bins=[0, 18, 35, 70])\n",
    "c"
   ]
  },
  {
   "cell_type": "markdown",
   "id": "1530b223",
   "metadata": {},
   "source": [
    "If the `bins` keyword is an `IntervalIndex`, then these will be\n",
    "used to bin the passed data.:"
   ]
  },
  {
   "cell_type": "code",
   "execution_count": null,
   "id": "95b04435",
   "metadata": {
    "hide-output": false
   },
   "outputs": [],
   "source": [
    "pd.cut([25, 20, 50], bins=c.categories)"
   ]
  },
  {
   "cell_type": "markdown",
   "id": "9aee9eb1",
   "metadata": {},
   "source": [
    "\n",
    "<a id='reshaping-dummies'></a>"
   ]
  },
  {
   "cell_type": "markdown",
   "id": "b6851721",
   "metadata": {},
   "source": [
    "## Computing indicator / dummy variables\n",
    "\n",
    "To convert a categorical variable into a “dummy” or “indicator” `DataFrame`,\n",
    "for example a column in a `DataFrame` (a `Series`) which has `k` distinct\n",
    "values, can derive a `DataFrame` containing `k` columns of 1s and 0s using\n",
    "`get_dummies()`:"
   ]
  },
  {
   "cell_type": "code",
   "execution_count": null,
   "id": "2dc5b218-a1c7-40af-920e-f28ff8c2c549",
   "metadata": {
    "hide-output": false
   },
   "outputs": [],
   "source": [
    "df = pd.DataFrame({\"key\": list(\"bbacab\"), \"data1\": range(6)})\n",
    "df"
   ]
  },
  {
   "cell_type": "code",
   "execution_count": null,
   "id": "8418ba5f-b3e2-4f94-b14d-9b10e0d4131d",
   "metadata": {
    "hide-output": false
   },
   "outputs": [],
   "source": [
    "pd.get_dummies(df[\"key\"])"
   ]
  },
  {
   "cell_type": "markdown",
   "id": "b18ac72f",
   "metadata": {},
   "source": [
    "Sometimes it’s useful to prefix the column names, for example when merging the result\n",
    "with the original `DataFrame`:"
   ]
  },
  {
   "cell_type": "code",
   "execution_count": null,
   "id": "c0a9ecc3-a94b-430e-9752-6996fb8a3a99",
   "metadata": {
    "hide-output": false
   },
   "outputs": [],
   "source": [
    "dummies = pd.get_dummies(df[\"key\"], prefix=\"key\")\n",
    "dummies"
   ]
  },
  {
   "cell_type": "code",
   "execution_count": null,
   "id": "383a23f0-e2a8-43b2-a5ed-91f37783ee73",
   "metadata": {
    "hide-output": false
   },
   "outputs": [],
   "source": [
    "df[[\"data1\"]].join(dummies)"
   ]
  },
  {
   "cell_type": "markdown",
   "id": "e355c13b",
   "metadata": {},
   "source": [
    "This function is often used along with discretization functions like `cut`:"
   ]
  },
  {
   "cell_type": "code",
   "execution_count": null,
   "id": "970ee460-7216-4e12-ae45-361431cd422f",
   "metadata": {
    "hide-output": false
   },
   "outputs": [],
   "source": [
    "values = np.random.randn(10)\n",
    "values"
   ]
  },
  {
   "cell_type": "code",
   "execution_count": null,
   "id": "2b104bf9-3580-4acb-b0ed-5676e688561b",
   "metadata": {
    "hide-output": false
   },
   "outputs": [],
   "source": [
    "bins = [0, 0.2, 0.4, 0.6, 0.8, 1]\n",
    "pd.get_dummies(pd.cut(values, bins))"
   ]
  },
  {
   "cell_type": "markdown",
   "id": "4e78cf51",
   "metadata": {},
   "source": [
    "See also `Series.str.get_dummies`.\n",
    "\n",
    "`get_dummies()` also accepts a `DataFrame`. By default all categorical\n",
    "variables (categorical in the statistical sense, those with `object` or\n",
    "`categorical` dtype) are encoded as dummy variables."
   ]
  },
  {
   "cell_type": "code",
   "execution_count": null,
   "id": "7cbcf33d",
   "metadata": {
    "hide-output": false
   },
   "outputs": [],
   "source": [
    "df = pd.DataFrame({\"A\": [\"a\", \"b\", \"a\"], \"B\": [\"c\", \"c\", \"b\"], \"C\": [1, 2, 3]})\n",
    "pd.get_dummies(df)"
   ]
  },
  {
   "cell_type": "markdown",
   "id": "2b69802f",
   "metadata": {},
   "source": [
    "All non-object columns are included untouched in the output. You can control\n",
    "the columns that are encoded with the `columns` keyword."
   ]
  },
  {
   "cell_type": "code",
   "execution_count": null,
   "id": "ee8e04b6",
   "metadata": {
    "hide-output": false
   },
   "outputs": [],
   "source": [
    "pd.get_dummies(df, columns=[\"A\"])"
   ]
  },
  {
   "cell_type": "markdown",
   "id": "29beb756",
   "metadata": {},
   "source": [
    "Notice that the `B` column is still included in the output, it just hasn’t\n",
    "been encoded. You can drop `B` before calling `get_dummies` if you don’t\n",
    "want to include it in the output.\n",
    "\n",
    "As with the `Series` version, you can pass values for the `prefix` and\n",
    "`prefix_sep`. By default the column name is used as the prefix, and ‘_’ as\n",
    "the prefix separator. You can specify `prefix` and `prefix_sep` in 3 ways:\n",
    "\n",
    "- string: Use the same value for `prefix` or `prefix_sep` for each column\n",
    "  to be encoded.  \n",
    "- list: Must be the same length as the number of columns being encoded.  \n",
    "- dict: Mapping column name to prefix.  "
   ]
  },
  {
   "cell_type": "code",
   "execution_count": null,
   "id": "80d5de0e-5a38-4a2b-ad72-f3618a4b350f",
   "metadata": {
    "hide-output": false
   },
   "outputs": [],
   "source": [
    "simple = pd.get_dummies(df, prefix=\"new_prefix\")\n",
    "simple"
   ]
  },
  {
   "cell_type": "code",
   "execution_count": null,
   "id": "5236fe90-dde6-4710-9715-4d8c0e0bf0ae",
   "metadata": {
    "hide-output": false
   },
   "outputs": [],
   "source": [
    "from_list = pd.get_dummies(df, prefix=[\"from_A\", \"from_B\"])\n",
    "from_list"
   ]
  },
  {
   "cell_type": "code",
   "execution_count": null,
   "id": "13cf3772-8bf2-4ab3-aca0-26387749b120",
   "metadata": {
    "hide-output": false
   },
   "outputs": [],
   "source": [
    "from_dict = pd.get_dummies(df, prefix={\"B\": \"from_B\", \"A\": \"from_A\"})\n",
    "from_dict"
   ]
  },
  {
   "cell_type": "markdown",
   "id": "0681267c",
   "metadata": {},
   "source": [
    "Sometimes it will be useful to only keep k-1 levels of a categorical\n",
    "variable to avoid collinearity when feeding the result to statistical models.\n",
    "You can switch to this mode by turn on `drop_first`."
   ]
  },
  {
   "cell_type": "code",
   "execution_count": null,
   "id": "e9d8d975-8018-4818-8fd2-a927469c54a1",
   "metadata": {
    "hide-output": false
   },
   "outputs": [],
   "source": [
    "s = pd.Series(list(\"abcaa\"))\n",
    "s"
   ]
  },
  {
   "cell_type": "code",
   "execution_count": null,
   "id": "21af605e-4a98-43eb-8e1c-aec7159ce556",
   "metadata": {
    "hide-output": false
   },
   "outputs": [],
   "source": [
    "pd.get_dummies(s)"
   ]
  },
  {
   "cell_type": "code",
   "execution_count": null,
   "id": "5e906c8f-1f2e-4691-aebf-8cc3e7d1bc48",
   "metadata": {
    "hide-output": false
   },
   "outputs": [],
   "source": [
    "pd.get_dummies(s, drop_first=True)"
   ]
  },
  {
   "cell_type": "markdown",
   "id": "9185f2ac",
   "metadata": {},
   "source": [
    "When a column contains only one level, it will be omitted in the result."
   ]
  },
  {
   "cell_type": "code",
   "execution_count": null,
   "id": "bf683f09-0e05-4236-b9f9-0870e5377d8a",
   "metadata": {
    "hide-output": false
   },
   "outputs": [],
   "source": [
    "df = pd.DataFrame({\"A\": list(\"aaaaa\"), \"B\": list(\"ababc\")})"
   ]
  },
  {
   "cell_type": "code",
   "execution_count": null,
   "id": "68bb610d-a8d0-430f-822f-10223fd277b1",
   "metadata": {
    "hide-output": false
   },
   "outputs": [],
   "source": [
    "pd.get_dummies(df)"
   ]
  },
  {
   "cell_type": "code",
   "execution_count": null,
   "id": "b86f69d3-1165-4446-9163-40fd195e9960",
   "metadata": {
    "hide-output": false
   },
   "outputs": [],
   "source": [
    "pd.get_dummies(df, drop_first=True)"
   ]
  },
  {
   "cell_type": "markdown",
   "id": "f4aa11f8",
   "metadata": {},
   "source": [
    "By default new columns will have `np.uint8` dtype.\n",
    "To choose another dtype, use the `dtype` argument:"
   ]
  },
  {
   "cell_type": "code",
   "execution_count": null,
   "id": "c998d00a-bc91-4556-8796-ccd06ea1f334",
   "metadata": {
    "hide-output": false
   },
   "outputs": [],
   "source": [
    "df = pd.DataFrame({\"A\": list(\"abc\"), \"B\": [1.1, 2.2, 3.3]})"
   ]
  },
  {
   "cell_type": "code",
   "execution_count": null,
   "id": "0fcbfe82-cbdb-4ec3-91cf-2ebce73d78fe",
   "metadata": {
    "hide-output": false
   },
   "outputs": [],
   "source": [
    "pd.get_dummies(df, dtype=bool).dtypes"
   ]
  },
  {
   "cell_type": "markdown",
   "id": "c4ee6c93",
   "metadata": {},
   "source": [
    "\n",
    "<a id='reshaping-factorize'></a>"
   ]
  },
  {
   "cell_type": "markdown",
   "id": "cdf4139d",
   "metadata": {},
   "source": [
    "## Factorizing values\n",
    "\n",
    "To encode 1-d values as an enumerated type use `factorize()`:"
   ]
  },
  {
   "cell_type": "code",
   "execution_count": null,
   "id": "f93e5336-eca9-4299-9bad-ae93ba330bf0",
   "metadata": {
    "hide-output": false
   },
   "outputs": [],
   "source": [
    "x = pd.Series([\"A\", \"A\", np.nan, \"B\", 3.14, np.inf])\n",
    "x"
   ]
  },
  {
   "cell_type": "code",
   "execution_count": null,
   "id": "5f831c27-10a7-4fb2-8096-2362f2a255a2",
   "metadata": {
    "hide-output": false
   },
   "outputs": [],
   "source": [
    "labels, uniques = pd.factorize(x)\n",
    "labels"
   ]
  },
  {
   "cell_type": "code",
   "execution_count": null,
   "id": "78dbeb5a-1c6e-4acc-b366-bbd3904f2934",
   "metadata": {
    "hide-output": false
   },
   "outputs": [],
   "source": [
    "uniques"
   ]
  },
  {
   "cell_type": "markdown",
   "id": "02448896",
   "metadata": {},
   "source": [
    "Note that `factorize` is similar to `numpy.unique`, but differs in its\n",
    "handling of NaN:\n",
    "\n",
    ">**Note**\n",
    ">\n",
    ">The following `numpy.unique` will fail under Python 3 with a `TypeError`\n",
    "because of an ordering bug. See also\n",
    "[here](https://github.com/numpy/numpy/issues/641)."
   ]
  },
  {
   "cell_type": "markdown",
   "id": "e0b5c115",
   "metadata": {
    "hide-output": false
   },
   "source": [
    "```python\n",
    "In [1]: x = pd.Series(['A', 'A', np.nan, 'B', 3.14, np.inf])\n",
    "In [2]: pd.factorize(x, sort=True)\n",
    "Out[2]:\n",
    "(array([ 2,  2, -1,  3,  0,  1]),\n",
    " Index([3.14, inf, 'A', 'B'], dtype='object'))\n",
    "\n",
    "In [3]: np.unique(x, return_inverse=True)[::-1]\n",
    "Out[3]: (array([3, 3, 0, 4, 1, 2]), array([nan, 3.14, inf, 'A', 'B'], dtype=object))\n",
    "```\n"
   ]
  },
  {
   "cell_type": "markdown",
   "id": "bb78b426",
   "metadata": {},
   "source": [
    ">**Note**\n",
    ">\n",
    ">If you just want to handle one column as a categorical variable (like R’s factor),\n",
    "you can use  `df[\"cat_col\"] = pd.Categorical(df[\"col\"])` or\n",
    "`df[\"cat_col\"] = df[\"col\"].astype(\"category\")`. For full docs on `Categorical`,\n",
    "see the Categorical introduction and the\n",
    "[API documentation](../05_reference/14_Pandas_Arrays.ipynb#api-arrays-categorical)."
   ]
  },
  {
   "cell_type": "markdown",
   "id": "2c9a0fd6",
   "metadata": {},
   "source": [
    "## Examples\n",
    "\n",
    "In this section, we will review frequently asked questions and examples. The\n",
    "column names and relevant column values are named to correspond with how this\n",
    "DataFrame will be pivoted in the answers below."
   ]
  },
  {
   "cell_type": "code",
   "execution_count": null,
   "id": "531c76e6",
   "metadata": {
    "hide-output": false
   },
   "outputs": [],
   "source": [
    "np.random.seed([3, 1415])\n",
    "n = 20\n",
    "\n",
    "cols = np.array([\"key\", \"row\", \"item\", \"col\"])\n",
    "df = cols + pd.DataFrame(\n",
    "    (np.random.randint(5, size=(n, 4)) // [2, 1, 2, 1]).astype(str)\n",
    ")\n",
    "df.columns = cols\n",
    "df = df.join(pd.DataFrame(np.random.rand(n, 2).round(2)).add_prefix(\"val\"))\n",
    "\n",
    "df"
   ]
  },
  {
   "cell_type": "markdown",
   "id": "bd8e15ca",
   "metadata": {},
   "source": [
    "### Pivoting with single aggregations\n",
    "\n",
    "Suppose we wanted to pivot `df` such that the `col` values are columns,\n",
    "`row` values are the index, and the mean of `val0` are the values? In\n",
    "particular, the resulting DataFrame should look like:"
   ]
  },
  {
   "cell_type": "markdown",
   "id": "33fdc3d7",
   "metadata": {
    "hide-output": false
   },
   "source": [
    "```text\n",
    "col   col0   col1   col2   col3  col4\n",
    "row\n",
    "row0  0.77  0.605    NaN  0.860  0.65\n",
    "row2  0.13    NaN  0.395  0.500  0.25\n",
    "row3   NaN  0.310    NaN  0.545   NaN\n",
    "row4   NaN  0.100  0.395  0.760  0.24\n",
    "```\n"
   ]
  },
  {
   "cell_type": "markdown",
   "id": "9dc6d385",
   "metadata": {},
   "source": [
    "This solution uses `pivot_table()`. Also note that\n",
    "`aggfunc='mean'` is the default. It is included here to be explicit."
   ]
  },
  {
   "cell_type": "code",
   "execution_count": null,
   "id": "6d086519",
   "metadata": {
    "hide-output": false
   },
   "outputs": [],
   "source": [
    "df.pivot_table(values=\"val0\", index=\"row\", columns=\"col\", aggfunc=\"mean\")"
   ]
  },
  {
   "cell_type": "markdown",
   "id": "cce23cfb",
   "metadata": {},
   "source": [
    "Note that we can also replace the missing values by using the `fill_value`\n",
    "parameter."
   ]
  },
  {
   "cell_type": "code",
   "execution_count": null,
   "id": "e2319fa7",
   "metadata": {
    "hide-output": false
   },
   "outputs": [],
   "source": [
    "df.pivot_table(\n",
    "    values=\"val0\",\n",
    "    index=\"row\",\n",
    "    columns=\"col\",\n",
    "    aggfunc=\"mean\",\n",
    "    fill_value=0,\n",
    ")"
   ]
  },
  {
   "cell_type": "markdown",
   "id": "033cff7c",
   "metadata": {},
   "source": [
    "Also note that we can pass in other aggregation functions as well. For example,\n",
    "we can also pass in `sum`."
   ]
  },
  {
   "cell_type": "code",
   "execution_count": null,
   "id": "e025e56f",
   "metadata": {
    "hide-output": false
   },
   "outputs": [],
   "source": [
    "df.pivot_table(\n",
    "    values=\"val0\",\n",
    "    index=\"row\",\n",
    "    columns=\"col\",\n",
    "    aggfunc=\"sum\",\n",
    "    fill_value=0,\n",
    ")"
   ]
  },
  {
   "cell_type": "markdown",
   "id": "d48fa04a",
   "metadata": {},
   "source": [
    "Another aggregation we can do is calculate the frequency in which the columns\n",
    "and rows occur together a.k.a. “cross tabulation”. To do this, we can pass\n",
    "`size` to the `aggfunc` parameter."
   ]
  },
  {
   "cell_type": "code",
   "execution_count": null,
   "id": "026379a2",
   "metadata": {
    "hide-output": false
   },
   "outputs": [],
   "source": [
    "df.pivot_table(index=\"row\", columns=\"col\", fill_value=0, aggfunc=\"size\")"
   ]
  },
  {
   "cell_type": "markdown",
   "id": "ef170152",
   "metadata": {},
   "source": [
    "### Pivoting with multiple aggregations\n",
    "\n",
    "We can also perform multiple aggregations. For example, to perform both a\n",
    "`sum` and `mean`, we can pass in a list to the `aggfunc` argument."
   ]
  },
  {
   "cell_type": "code",
   "execution_count": null,
   "id": "09860ba1",
   "metadata": {
    "hide-output": false
   },
   "outputs": [],
   "source": [
    "df.pivot_table(\n",
    "    values=\"val0\",\n",
    "    index=\"row\",\n",
    "    columns=\"col\",\n",
    "    aggfunc=[\"mean\", \"sum\"],\n",
    ")"
   ]
  },
  {
   "cell_type": "markdown",
   "id": "8ccab852",
   "metadata": {},
   "source": [
    "Note to aggregate over multiple value columns, we can pass in a list to the\n",
    "`values` parameter."
   ]
  },
  {
   "cell_type": "code",
   "execution_count": null,
   "id": "d692ec69",
   "metadata": {
    "hide-output": false
   },
   "outputs": [],
   "source": [
    "df.pivot_table(\n",
    "    values=[\"val0\", \"val1\"],\n",
    "    index=\"row\",\n",
    "    columns=\"col\",\n",
    "    aggfunc=[\"mean\"],\n",
    ")"
   ]
  },
  {
   "cell_type": "markdown",
   "id": "cb6ede33",
   "metadata": {},
   "source": [
    "Note to subdivide over multiple columns we can pass in a list to the\n",
    "`columns` parameter."
   ]
  },
  {
   "cell_type": "code",
   "execution_count": null,
   "id": "921f79e8",
   "metadata": {
    "hide-output": false
   },
   "outputs": [],
   "source": [
    "df.pivot_table(\n",
    "    values=[\"val0\"],\n",
    "    index=\"row\",\n",
    "    columns=[\"item\", \"col\"],\n",
    "    aggfunc=[\"mean\"],\n",
    ")"
   ]
  },
  {
   "cell_type": "markdown",
   "id": "2733abc2",
   "metadata": {},
   "source": [
    "\n",
    "<a id='reshaping-explode'></a>"
   ]
  },
  {
   "cell_type": "markdown",
   "id": "e3529b00",
   "metadata": {},
   "source": [
    "## Exploding a list-like column\n",
    "\n",
    "New in version 0.25.0.\n",
    "\n",
    "Sometimes the values in a column are list-like."
   ]
  },
  {
   "cell_type": "code",
   "execution_count": null,
   "id": "8e8a8ce3",
   "metadata": {
    "hide-output": false
   },
   "outputs": [],
   "source": [
    "keys = [\"panda1\", \"panda2\", \"panda3\"]\n",
    "values = [[\"eats\", \"shoots\"], [\"shoots\", \"leaves\"], [\"eats\", \"leaves\"]]\n",
    "df = pd.DataFrame({\"keys\": keys, \"values\": values})\n",
    "df"
   ]
  },
  {
   "cell_type": "markdown",
   "id": "18d381f4",
   "metadata": {},
   "source": [
    "We can ‘explode’ the `values` column, transforming each list-like to a separate row, by using `explode()`. This will replicate the index values from the original row:"
   ]
  },
  {
   "cell_type": "code",
   "execution_count": null,
   "id": "a1744caa",
   "metadata": {
    "hide-output": false
   },
   "outputs": [],
   "source": [
    "df[\"values\"].explode()"
   ]
  },
  {
   "cell_type": "markdown",
   "id": "9aa390fe",
   "metadata": {},
   "source": [
    "You can also explode the column in the `DataFrame`."
   ]
  },
  {
   "cell_type": "code",
   "execution_count": null,
   "id": "d652f004",
   "metadata": {
    "hide-output": false
   },
   "outputs": [],
   "source": [
    "df.explode(\"values\")"
   ]
  },
  {
   "cell_type": "markdown",
   "id": "a6074d63",
   "metadata": {},
   "source": [
    "`Series.explode()` will replace empty lists with `np.nan` and preserve scalar entries. The dtype of the resulting `Series` is always `object`."
   ]
  },
  {
   "cell_type": "code",
   "execution_count": null,
   "id": "bfd83a38-11d5-487d-8bc9-eac939472fb8",
   "metadata": {
    "hide-output": false
   },
   "outputs": [],
   "source": [
    "s = pd.Series([[1, 2, 3], \"foo\", [], [\"a\", \"b\"]])\n",
    "s"
   ]
  },
  {
   "cell_type": "code",
   "execution_count": null,
   "id": "215ed197-e57a-4e91-8efb-4a3dfddfca9e",
   "metadata": {
    "hide-output": false
   },
   "outputs": [],
   "source": [
    "s.explode()"
   ]
  },
  {
   "cell_type": "markdown",
   "id": "5c2b5b3d",
   "metadata": {},
   "source": [
    "Here is a typical usecase. You have comma separated strings in a column and want to expand this."
   ]
  },
  {
   "cell_type": "code",
   "execution_count": null,
   "id": "a6d973db",
   "metadata": {
    "hide-output": false
   },
   "outputs": [],
   "source": [
    "df = pd.DataFrame([{\"var1\": \"a,b,c\", \"var2\": 1}, {\"var1\": \"d,e,f\", \"var2\": 2}])\n",
    "df"
   ]
  },
  {
   "cell_type": "markdown",
   "id": "8b05c42c",
   "metadata": {},
   "source": [
    "Creating a long form DataFrame is now straightforward using explode and chained operations"
   ]
  },
  {
   "cell_type": "code",
   "execution_count": null,
   "id": "b37d7c5b",
   "metadata": {
    "hide-output": false
   },
   "outputs": [],
   "source": [
    "df.assign(var1=df.var1.str.split(\",\")).explode(\"var1\")"
   ]
  }
 ],
 "metadata": {
  "date": 1630231087.0682065,
  "filename": "26_reshaping_pivot.rst",
  "kernelspec": {
   "display_name": "Python 3",
   "language": "python",
   "name": "python3"
  },
  "language_info": {
   "codemirror_mode": {
    "name": "ipython",
    "version": 3
   },
   "file_extension": ".py",
   "mimetype": "text/x-python",
   "name": "python",
   "nbconvert_exporter": "python",
   "pygments_lexer": "ipython3",
   "version": "3.8.8"
  },
  "title": "Reshaping and pivot tables"
 },
 "nbformat": 4,
 "nbformat_minor": 5
}
