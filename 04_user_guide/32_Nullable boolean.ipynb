{
 "cells": [
  {
   "cell_type": "code",
   "execution_count": null,
   "id": "15168825",
   "metadata": {
    "hide-output": false
   },
   "outputs": [],
   "source": [
    "import pandas as pd\n",
    "import numpy as np"
   ]
  },
  {
   "cell_type": "markdown",
   "id": "e47744cd",
   "metadata": {},
   "source": [
    "\n",
    "<a id='boolean'></a>"
   ]
  },
  {
   "cell_type": "markdown",
   "id": "22a042f0",
   "metadata": {},
   "source": [
    "# Nullable Boolean data type\n",
    "\n",
    "New in version 1.0.0.\n",
    "\n",
    "\n",
    "<a id='boolean-indexing'></a>"
   ]
  },
  {
   "cell_type": "markdown",
   "id": "0237a8b3",
   "metadata": {},
   "source": [
    "## Indexing with NA values\n",
    "\n",
    "pandas allows indexing with `NA` values in a boolean array, which are treated as `False`.\n",
    "\n",
    "Changed in version 1.0.2."
   ]
  },
  {
   "cell_type": "code",
   "execution_count": null,
   "id": "56f03e1a",
   "metadata": {
    "hide-output": false
   },
   "outputs": [],
   "source": [
    "s = pd.Series([1, 2, 3])\n",
    "mask = pd.array([True, False, pd.NA], dtype=\"boolean\")\n",
    "s[mask]"
   ]
  },
  {
   "cell_type": "markdown",
   "id": "4d5daf4c",
   "metadata": {},
   "source": [
    "If you would prefer to keep the `NA` values you can manually fill them with `fillna(True)`."
   ]
  },
  {
   "cell_type": "code",
   "execution_count": null,
   "id": "4edcc83b",
   "metadata": {
    "hide-output": false
   },
   "outputs": [],
   "source": [
    "s[mask.fillna(True)]"
   ]
  },
  {
   "cell_type": "markdown",
   "id": "f0f49f60",
   "metadata": {},
   "source": [
    "\n",
    "<a id='boolean-kleene'></a>"
   ]
  },
  {
   "cell_type": "markdown",
   "id": "44a6f769",
   "metadata": {},
   "source": [
    "## Kleene logical operations\n",
    "\n",
    "`arrays.BooleanArray` implements [Kleene Logic](https://en.wikipedia.org/wiki/Three-valued_logic#Kleene_and_Priest_logics) (sometimes called three-value logic) for\n",
    "logical operations like `&` (and), `|` (or) and `^` (exclusive-or).\n",
    "\n",
    "This table demonstrates the results for every combination. These operations are symmetrical,\n",
    "so flipping the left- and right-hand side makes no difference in the result.\n",
    "\n",
    "````````````````````````````````````````````````````````````````````````|Expression|Result|\n",
    "|:---------------:|:-------:|\n",
    "|True & True|True|\n",
    "|True & False|False|\n",
    "|True & NA|NA|\n",
    "|False & False|False|\n",
    "|False & NA|False|\n",
    "|NA & NA|NA|\n",
    "|True | True|True|\n",
    "|True | False|True|\n",
    "|True | NA|True|\n",
    "|False | False|False|\n",
    "|False | NA|NA|\n",
    "|NA | NA|NA|\n",
    "|True ^ True|False|\n",
    "|True ^ False|True|\n",
    "|True ^ NA|NA|\n",
    "|False ^ False|False|\n",
    "|False ^ NA|NA|\n",
    "|NA ^ NA|NA|\n",
    "When an `NA` is present in an operation, the output value is `NA` only if\n",
    "the result cannot be determined solely based on the other input. For example,\n",
    "`True | NA` is `True`, because both `True | True` and `True | False`\n",
    "are `True`. In that case, we don’t actually need to consider the value\n",
    "of the `NA`.\n",
    "\n",
    "On the other hand, `True & NA` is `NA`. The result depends on whether\n",
    "the `NA` really is `True` or `False`, since `True & True` is `True`,\n",
    "but `True & False` is `False`, so we can’t determine the output.\n",
    "\n",
    "This differs from how `np.nan` behaves in logical operations. pandas treated\n",
    "`np.nan` is *always false in the output*.\n",
    "\n",
    "In `or`"
   ]
  },
  {
   "cell_type": "code",
   "execution_count": null,
   "id": "832d3d85-286a-4af0-8e76-bf1c6c5cb95c",
   "metadata": {
    "hide-output": false
   },
   "outputs": [],
   "source": [
    "pd.Series([True, False, np.nan], dtype=\"object\") | True"
   ]
  },
  {
   "cell_type": "code",
   "execution_count": null,
   "id": "246eb650-cad1-45d8-91a5-b2fbaf925bb7",
   "metadata": {
    "hide-output": false
   },
   "outputs": [],
   "source": [
    "pd.Series([True, False, np.nan], dtype=\"boolean\") | True"
   ]
  },
  {
   "cell_type": "markdown",
   "id": "2d0e1d25",
   "metadata": {},
   "source": [
    "In `and`"
   ]
  },
  {
   "cell_type": "code",
   "execution_count": null,
   "id": "2371eee7-7c96-416f-bbb1-204833542156",
   "metadata": {
    "hide-output": false
   },
   "outputs": [],
   "source": [
    "pd.Series([True, False, np.nan], dtype=\"object\") & True"
   ]
  },
  {
   "cell_type": "code",
   "execution_count": null,
   "id": "314ef11d-edf4-4d4a-8538-853eb7063dab",
   "metadata": {
    "hide-output": false
   },
   "outputs": [],
   "source": [
    "pd.Series([True, False, np.nan], dtype=\"boolean\") & True"
   ]
  },
  {
   "cell_type": "code",
   "execution_count": null,
   "id": "45af88f4-a301-4388-8b8f-4a13c5bac938",
   "metadata": {},
   "outputs": [],
   "source": []
  }
 ],
 "metadata": {
  "date": 1630231088.6907532,
  "filename": "32_Nullable boolean.rst",
  "kernelspec": {
   "display_name": "Python 3",
   "language": "python",
   "name": "python3"
  },
  "language_info": {
   "codemirror_mode": {
    "name": "ipython",
    "version": 3
   },
   "file_extension": ".py",
   "mimetype": "text/x-python",
   "name": "python",
   "nbconvert_exporter": "python",
   "pygments_lexer": "ipython3",
   "version": "3.8.8"
  },
  "title": "Nullable Boolean data type"
 },
 "nbformat": 4,
 "nbformat_minor": 5
}
