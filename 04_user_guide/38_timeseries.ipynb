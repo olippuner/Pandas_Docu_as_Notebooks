{
 "cells": [
  {
   "cell_type": "code",
   "execution_count": null,
   "id": "485ce3f1-13da-48a3-a6bf-9f1ceeb0d015",
   "metadata": {},
   "outputs": [],
   "source": [
    "import numpy as np\n",
    "import pandas as pd\n",
    "import matplotlib.pyplot as plt\n",
    "print(\"pandas\", pd.__version__)\n",
    "print(\"numpy\",np.__version__)"
   ]
  },
  {
   "cell_type": "markdown",
   "id": "a44b583a",
   "metadata": {},
   "source": [
    "# Time series / date functionality\n",
    "\n",
    "pandas contains extensive capabilities and features for working with time series data for all domains.\n",
    "Using the NumPy `datetime64` and `timedelta64` dtypes, pandas has consolidated a large number of\n",
    "features from other Python libraries like `scikits.timeseries` as well as created\n",
    "a tremendous amount of new functionality for manipulating time series data.\n",
    "\n",
    "For example, pandas supports:\n",
    "\n",
    "Parsing time series information from various sources and formats"
   ]
  },
  {
   "cell_type": "code",
   "execution_count": null,
   "id": "a534cccf",
   "metadata": {
    "hide-output": false
   },
   "outputs": [],
   "source": [
    "import datetime\n",
    "\n",
    "dti = pd.to_datetime(\n",
    "    [\"1/1/2018\", np.datetime64(\"2018-01-01\"), datetime.datetime(2018, 1, 1)]\n",
    ")\n",
    "dti"
   ]
  },
  {
   "cell_type": "markdown",
   "id": "5391727e",
   "metadata": {},
   "source": [
    "Generate sequences of fixed-frequency dates and time spans"
   ]
  },
  {
   "cell_type": "code",
   "execution_count": null,
   "id": "86d9d9f7",
   "metadata": {
    "hide-output": false
   },
   "outputs": [],
   "source": [
    "dti = pd.date_range(\"2018-01-01\", periods=3, freq=\"H\")\n",
    "dti"
   ]
  },
  {
   "cell_type": "markdown",
   "id": "0c1012e5",
   "metadata": {},
   "source": [
    "Manipulating and converting date times with timezone information"
   ]
  },
  {
   "cell_type": "code",
   "execution_count": null,
   "id": "d29de0df-d9f0-4075-a01d-9b6314b9a378",
   "metadata": {
    "hide-output": false
   },
   "outputs": [],
   "source": [
    "dti = dti.tz_localize(\"UTC\")\n",
    "dti"
   ]
  },
  {
   "cell_type": "code",
   "execution_count": null,
   "id": "eede61e3-c94e-43a6-a5c5-36331ff5f470",
   "metadata": {
    "hide-output": false
   },
   "outputs": [],
   "source": [
    "dti.tz_convert(\"US/Pacific\")"
   ]
  },
  {
   "cell_type": "markdown",
   "id": "d47b745d",
   "metadata": {},
   "source": [
    "Resampling or converting a time series to a particular frequency"
   ]
  },
  {
   "cell_type": "code",
   "execution_count": null,
   "id": "218c7516-4628-4d19-8428-efcb4a06a775",
   "metadata": {
    "hide-output": false
   },
   "outputs": [],
   "source": [
    "idx = pd.date_range(\"2018-01-01\", periods=5, freq=\"H\")\n",
    "ts = pd.Series(range(len(idx)), index=idx)\n",
    "ts"
   ]
  },
  {
   "cell_type": "code",
   "execution_count": null,
   "id": "b731845d-dfe9-4769-b89f-8a16597c926c",
   "metadata": {
    "hide-output": false
   },
   "outputs": [],
   "source": [
    "ts.resample(\"2H\").mean()"
   ]
  },
  {
   "cell_type": "markdown",
   "id": "09d175b1",
   "metadata": {},
   "source": [
    "Performing date and time arithmetic with absolute or relative time increments"
   ]
  },
  {
   "cell_type": "code",
   "execution_count": null,
   "id": "749e8661-f668-42d5-a658-dce70ae3cb2a",
   "metadata": {
    "hide-output": false
   },
   "outputs": [],
   "source": [
    "friday = pd.Timestamp(\"2018-01-05\")\n",
    "friday.day_name()"
   ]
  },
  {
   "cell_type": "code",
   "execution_count": null,
   "id": "d9eaff1e-45f5-414c-adc4-7002f46816f1",
   "metadata": {
    "hide-output": false
   },
   "outputs": [],
   "source": [
    "# Add 1 day\n",
    "saturday = friday + pd.Timedelta(\"1 day\")\n",
    "saturday.day_name()"
   ]
  },
  {
   "cell_type": "code",
   "execution_count": null,
   "id": "d3241eee-c7fe-414a-9acb-9109662a8d1c",
   "metadata": {
    "hide-output": false
   },
   "outputs": [],
   "source": [
    "# Add 1 business day (Friday --> Monday)\n",
    "monday = friday + pd.offsets.BDay()\n",
    "monday.day_name()"
   ]
  },
  {
   "cell_type": "markdown",
   "id": "6f2dd669",
   "metadata": {},
   "source": [
    "pandas provides a relatively compact and self-contained set of tools for\n",
    "performing the above tasks and more.\n",
    "\n",
    "\n",
    "<a id='timeseries-overview'></a>"
   ]
  },
  {
   "cell_type": "markdown",
   "id": "573ec395",
   "metadata": {},
   "source": [
    "## Overview\n",
    "\n",
    "pandas captures 4 general time related concepts:\n",
    "\n",
    "1. Date times: A specific date and time with timezone support. Similar to `datetime.datetime` from the standard library.  \n",
    "1. Time deltas: An absolute time duration. Similar to `datetime.timedelta` from the standard library.  \n",
    "1. Time spans: A span of time defined by a point in time and its associated frequency.  \n",
    "1. Date offsets: A relative time duration that respects calendar arithmetic. Similar to `dateutil.relativedelta.relativedelta` from the `dateutil` package.  \n",
    "\n",
    "\n",
    "|Concept|Scalar Class|Array Class|pandas Data Type|Primary Creation Method|\n",
    "|:-------------------|:---------------|:-----------------|:------------------------------------------|:--------------------------------------|\n",
    "|Date times|Timestamp|DatetimeIndex|datetime64[ns] or datetime64[ns, tz]|to_datetime or date_range|\n",
    "|Time deltas|Timedelta|TimedeltaIndex|timedelta64[ns]|to_timedelta or timedelta_range|\n",
    "|Time spans|Period|PeriodIndex|period[freq]|Period or period_range|\n",
    "|Date offsets|DateOffset|None|None|DateOffset|\n",
    "\n",
    "For time series data, it’s conventional to represent the time component in the index of a `Series` or `DataFrame`\n",
    "so manipulations can be performed with respect to the time element."
   ]
  },
  {
   "cell_type": "code",
   "execution_count": null,
   "id": "a5810c27",
   "metadata": {
    "hide-output": false
   },
   "outputs": [],
   "source": [
    "pd.Series(range(3), index=pd.date_range(\"2000\", freq=\"D\", periods=3))"
   ]
  },
  {
   "cell_type": "markdown",
   "id": "bc0b8668",
   "metadata": {},
   "source": [
    "However, `Series` and `DataFrame` can directly also support the time component as data itself."
   ]
  },
  {
   "cell_type": "code",
   "execution_count": null,
   "id": "03a3d1d5",
   "metadata": {
    "hide-output": false
   },
   "outputs": [],
   "source": [
    "pd.Series(pd.date_range(\"2000\", freq=\"D\", periods=3))"
   ]
  },
  {
   "cell_type": "markdown",
   "id": "462608da",
   "metadata": {},
   "source": [
    "`Series` and `DataFrame` have extended data type support and functionality for `datetime`, `timedelta`\n",
    "and `Period` data when passed into those constructors. `DateOffset`\n",
    "data however will be stored as `object` data."
   ]
  },
  {
   "cell_type": "code",
   "execution_count": null,
   "id": "4b483334-6155-4586-b658-97590fe5d422",
   "metadata": {
    "hide-output": false
   },
   "outputs": [],
   "source": [
    "pd.Series(pd.period_range(\"1/1/2011\", freq=\"M\", periods=3))"
   ]
  },
  {
   "cell_type": "code",
   "execution_count": null,
   "id": "adac7bc4-a54e-447e-a3a4-f2785ca4f68b",
   "metadata": {
    "hide-output": false
   },
   "outputs": [],
   "source": [
    "pd.Series([pd.DateOffset(1), pd.DateOffset(2)])"
   ]
  },
  {
   "cell_type": "code",
   "execution_count": null,
   "id": "02837d40-0c74-409e-829a-f28b8894bd1f",
   "metadata": {
    "hide-output": false
   },
   "outputs": [],
   "source": [
    "pd.Series(pd.date_range(\"1/1/2011\", freq=\"M\", periods=3))"
   ]
  },
  {
   "cell_type": "markdown",
   "id": "9b52d1ae",
   "metadata": {},
   "source": [
    "Lastly, pandas represents null date times, time deltas, and time spans as `NaT` which\n",
    "is useful for representing missing or null date like values and behaves similar\n",
    "as `np.nan` does for float data."
   ]
  },
  {
   "cell_type": "code",
   "execution_count": null,
   "id": "272e3619-90c3-4dd5-a7b6-9c171ef43a2c",
   "metadata": {
    "hide-output": false
   },
   "outputs": [],
   "source": [
    "pd.Timestamp(pd.NaT)"
   ]
  },
  {
   "cell_type": "code",
   "execution_count": null,
   "id": "cd8e9607-5c1f-4ffc-922b-64d3139378f1",
   "metadata": {
    "hide-output": false
   },
   "outputs": [],
   "source": [
    "pd.Timedelta(pd.NaT)"
   ]
  },
  {
   "cell_type": "code",
   "execution_count": null,
   "id": "20d13003-3bba-429b-9597-34f5ee6e7be6",
   "metadata": {
    "hide-output": false
   },
   "outputs": [],
   "source": [
    "pd.Period(pd.NaT)"
   ]
  },
  {
   "cell_type": "code",
   "execution_count": null,
   "id": "caf60ac2-e854-4439-9aba-d6de7097448b",
   "metadata": {
    "hide-output": false
   },
   "outputs": [],
   "source": [
    "# Equality acts as np.nan would\n",
    "pd.NaT == pd.NaT"
   ]
  },
  {
   "cell_type": "markdown",
   "id": "a15eade1",
   "metadata": {},
   "source": [
    "\n",
    "<a id='timeseries-representation'></a>"
   ]
  },
  {
   "cell_type": "markdown",
   "id": "bb7716df",
   "metadata": {},
   "source": [
    "## Timestamps vs. time spans\n",
    "\n",
    "Timestamped data is the most basic type of time series data that associates\n",
    "values with points in time. For pandas objects it means using the points in\n",
    "time."
   ]
  },
  {
   "cell_type": "code",
   "execution_count": null,
   "id": "0cc9e2b1-3f1a-4271-bf1a-8b97a91855b7",
   "metadata": {
    "hide-output": false
   },
   "outputs": [],
   "source": [
    "pd.Timestamp(datetime.datetime(2012, 5, 1))"
   ]
  },
  {
   "cell_type": "code",
   "execution_count": null,
   "id": "c2a61281-45c4-4bff-8c9e-debcb1e2c8b7",
   "metadata": {
    "hide-output": false
   },
   "outputs": [],
   "source": [
    "pd.Timestamp(\"2012-05-01\")"
   ]
  },
  {
   "cell_type": "code",
   "execution_count": null,
   "id": "9222759e-d94b-4785-98cd-f8f053e06085",
   "metadata": {
    "hide-output": false
   },
   "outputs": [],
   "source": [
    "pd.Timestamp(2012, 5, 1)"
   ]
  },
  {
   "cell_type": "markdown",
   "id": "a2192665",
   "metadata": {},
   "source": [
    "However, in many cases it is more natural to associate things like change\n",
    "variables with a time span instead. The span represented by `Period` can be\n",
    "specified explicitly, or inferred from datetime string format.\n",
    "\n",
    "For example:"
   ]
  },
  {
   "cell_type": "code",
   "execution_count": null,
   "id": "ce0a0722-be71-4cc2-8473-9963ae1f5663",
   "metadata": {
    "hide-output": false
   },
   "outputs": [],
   "source": [
    "pd.Period(\"2011-01\")"
   ]
  },
  {
   "cell_type": "code",
   "execution_count": null,
   "id": "bacffbcf-646f-42b8-8509-a5f7b85e5434",
   "metadata": {
    "hide-output": false
   },
   "outputs": [],
   "source": [
    "pd.Period(\"2012-05\", freq=\"D\")"
   ]
  },
  {
   "cell_type": "markdown",
   "id": "dba1f879",
   "metadata": {},
   "source": [
    "`Timestamp` and `Period` can serve as an index. Lists of\n",
    "`Timestamp` and `Period` are automatically coerced to `DatetimeIndex`\n",
    "and `PeriodIndex` respectively."
   ]
  },
  {
   "cell_type": "code",
   "execution_count": null,
   "id": "b94e0fef-7b5f-4af1-a0a7-cee0ea6f55c5",
   "metadata": {
    "hide-output": false
   },
   "outputs": [],
   "source": [
    "dates = [\n",
    "    pd.Timestamp(\"2012-05-01\"),\n",
    "    pd.Timestamp(\"2012-05-02\"),\n",
    "    pd.Timestamp(\"2012-05-03\"),\n",
    "]\n",
    "ts = pd.Series(np.random.randn(3), dates)\n",
    "\n",
    "type(ts.index)"
   ]
  },
  {
   "cell_type": "code",
   "execution_count": null,
   "id": "36e0988b-d607-4e91-9ad7-24218dd451c8",
   "metadata": {
    "hide-output": false
   },
   "outputs": [],
   "source": [
    "ts.index"
   ]
  },
  {
   "cell_type": "code",
   "execution_count": null,
   "id": "56d51b29-c785-44c6-b981-89b30e7a32c0",
   "metadata": {
    "hide-output": false
   },
   "outputs": [],
   "source": [
    "ts"
   ]
  },
  {
   "cell_type": "code",
   "execution_count": null,
   "id": "97dd2d31-4b32-43ea-a186-690091fbbe05",
   "metadata": {
    "hide-output": false
   },
   "outputs": [],
   "source": [
    "periods = [pd.Period(\"2012-01\"), pd.Period(\"2012-02\"), pd.Period(\"2012-03\")]\n",
    "ts = pd.Series(np.random.randn(3), periods)\n",
    "type(ts.index)"
   ]
  },
  {
   "cell_type": "code",
   "execution_count": null,
   "id": "188618d6-05f6-4cb5-aa3c-9551f9a3258a",
   "metadata": {
    "hide-output": false
   },
   "outputs": [],
   "source": [
    "ts.index"
   ]
  },
  {
   "cell_type": "code",
   "execution_count": null,
   "id": "751b7cb2-6a27-4016-977c-4728d7fc09f5",
   "metadata": {
    "hide-output": false
   },
   "outputs": [],
   "source": [
    "ts"
   ]
  },
  {
   "cell_type": "markdown",
   "id": "540be197",
   "metadata": {},
   "source": [
    "pandas allows you to capture both representations and\n",
    "convert between them. Under the hood, pandas represents timestamps using\n",
    "instances of `Timestamp` and sequences of timestamps using instances of\n",
    "`DatetimeIndex`. For regular time spans, pandas uses `Period` objects for\n",
    "scalar values and `PeriodIndex` for sequences of spans. Better support for\n",
    "irregular intervals with arbitrary start and end points are forth-coming in\n",
    "future releases.\n",
    "\n",
    "\n",
    "<a id='timeseries-converting'></a>"
   ]
  },
  {
   "cell_type": "markdown",
   "id": "afd86e21",
   "metadata": {},
   "source": [
    "## Converting to timestamps\n",
    "\n",
    "To convert a `Series` or list-like object of date-like objects e.g. strings,\n",
    "epochs, or a mixture, you can use the `to_datetime` function. When passed\n",
    "a `Series`, this returns a `Series` (with the same index), while a list-like\n",
    "is converted to a `DatetimeIndex`:"
   ]
  },
  {
   "cell_type": "code",
   "execution_count": null,
   "id": "f2e3b9d7-3786-49cf-86f1-11c4e46ea470",
   "metadata": {
    "hide-output": false
   },
   "outputs": [],
   "source": [
    "pd.to_datetime(pd.Series([\"Jul 31, 2009\", \"2010-01-10\", None]))"
   ]
  },
  {
   "cell_type": "code",
   "execution_count": null,
   "id": "495703c0-ce32-43b9-8e2a-f23c498aa968",
   "metadata": {
    "hide-output": false
   },
   "outputs": [],
   "source": [
    "pd.to_datetime([\"2005/11/23\", \"2010.12.31\"])"
   ]
  },
  {
   "cell_type": "markdown",
   "id": "7df1eed3",
   "metadata": {},
   "source": [
    "If you use dates which start with the day first (i.e. European style),\n",
    "you can pass the `dayfirst` flag:"
   ]
  },
  {
   "cell_type": "code",
   "execution_count": null,
   "id": "ceec5229-3a86-43d3-86a7-a2114a1cd131",
   "metadata": {
    "hide-output": false
   },
   "outputs": [],
   "source": [
    "pd.to_datetime([\"04-01-2012 10:00\"], dayfirst=True)"
   ]
  },
  {
   "cell_type": "code",
   "execution_count": null,
   "id": "dc54e948-a0a0-404b-aafa-2b463c26062e",
   "metadata": {
    "hide-output": false
   },
   "outputs": [],
   "source": [
    "pd.to_datetime([\"14-01-2012\", \"01-14-2012\"], dayfirst=True)"
   ]
  },
  {
   "cell_type": "markdown",
   "id": "0a22f11b",
   "metadata": {},
   "source": [
    "You see in the above example that `dayfirst` isn’t strict, so if a date\n",
    "can’t be parsed with the day being first it will be parsed as if\n",
    "`dayfirst` were False.\n",
    "\n",
    "If you pass a single string to `to_datetime`, it returns a single `Timestamp`.\n",
    "`Timestamp` can also accept string input, but it doesn’t accept string parsing\n",
    "options like `dayfirst` or `format`, so use `to_datetime` if these are required."
   ]
  },
  {
   "cell_type": "code",
   "execution_count": null,
   "id": "4c44a30e-ce08-4b53-bc0a-798ec86b0d2f",
   "metadata": {
    "hide-output": false
   },
   "outputs": [],
   "source": [
    "pd.to_datetime(\"2010/11/12\")"
   ]
  },
  {
   "cell_type": "code",
   "execution_count": null,
   "id": "be6fd4bd-0a31-483e-9983-c3249074b7a5",
   "metadata": {
    "hide-output": false
   },
   "outputs": [],
   "source": [
    "pd.Timestamp(\"2010/11/12\")"
   ]
  },
  {
   "cell_type": "markdown",
   "id": "5f1536b0",
   "metadata": {},
   "source": [
    "You can also use the `DatetimeIndex` constructor directly:"
   ]
  },
  {
   "cell_type": "code",
   "execution_count": null,
   "id": "6cd99082",
   "metadata": {
    "hide-output": false
   },
   "outputs": [],
   "source": [
    "pd.DatetimeIndex([\"2018-01-01\", \"2018-01-03\", \"2018-01-05\"])"
   ]
  },
  {
   "cell_type": "markdown",
   "id": "dada798c",
   "metadata": {},
   "source": [
    "The string ‘infer’ can be passed in order to set the frequency of the index as the\n",
    "inferred frequency upon creation:"
   ]
  },
  {
   "cell_type": "code",
   "execution_count": null,
   "id": "bc7810c8",
   "metadata": {
    "hide-output": false
   },
   "outputs": [],
   "source": [
    "pd.DatetimeIndex([\"2018-01-01\", \"2018-01-03\", \"2018-01-05\"], freq=\"infer\")"
   ]
  },
  {
   "cell_type": "markdown",
   "id": "b18801b4",
   "metadata": {},
   "source": [
    "\n",
    "<a id='timeseries-converting-format'></a>"
   ]
  },
  {
   "cell_type": "markdown",
   "id": "7f289b0e",
   "metadata": {},
   "source": [
    "### Providing a format argument\n",
    "\n",
    "In addition to the required datetime string, a `format` argument can be passed to ensure specific parsing.\n",
    "This could also potentially speed up the conversion considerably."
   ]
  },
  {
   "cell_type": "code",
   "execution_count": null,
   "id": "4da74926-e3b3-422e-ae7f-e5efbfc57f33",
   "metadata": {
    "hide-output": false
   },
   "outputs": [],
   "source": [
    "pd.to_datetime(\"2010/11/12\", format=\"%Y/%m/%d\")"
   ]
  },
  {
   "cell_type": "code",
   "execution_count": null,
   "id": "8b8069e5-aee1-4c20-94a0-f3898d0717b6",
   "metadata": {
    "hide-output": false
   },
   "outputs": [],
   "source": [
    "pd.to_datetime(\"12-11-2010 00:00\", format=\"%d-%m-%Y %H:%M\")"
   ]
  },
  {
   "cell_type": "markdown",
   "id": "6c409cd9",
   "metadata": {},
   "source": [
    "For more information on the choices available when specifying the `format`\n",
    "option, see the Python [datetime documentation](https://docs.python.org/3/library/datetime.html#strftime-and-strptime-behavior)."
   ]
  },
  {
   "cell_type": "markdown",
   "id": "e403c197",
   "metadata": {},
   "source": [
    "### Assembling datetime from multiple DataFrame columns\n",
    "\n",
    "You can also pass a `DataFrame` of integer or string columns to assemble into a `Series` of `Timestamps`."
   ]
  },
  {
   "cell_type": "code",
   "execution_count": null,
   "id": "97c34f7a",
   "metadata": {
    "hide-output": false
   },
   "outputs": [],
   "source": [
    "df = pd.DataFrame(\n",
    "    {\"year\": [2015, 2016], \"month\": [2, 3], \"day\": [4, 5], \"hour\": [2, 3]}\n",
    ")\n",
    "pd.to_datetime(df)"
   ]
  },
  {
   "cell_type": "markdown",
   "id": "f95416f1",
   "metadata": {},
   "source": [
    "You can pass only the columns that you need to assemble."
   ]
  },
  {
   "cell_type": "code",
   "execution_count": null,
   "id": "0ff71834",
   "metadata": {
    "hide-output": false
   },
   "outputs": [],
   "source": [
    "pd.to_datetime(df[[\"year\", \"month\", \"day\"]])"
   ]
  },
  {
   "cell_type": "markdown",
   "id": "b08081ce",
   "metadata": {},
   "source": [
    "`pd.to_datetime` looks for standard designations of the datetime component in the column names, including:\n",
    "\n",
    "- required: `year`, `month`, `day`  \n",
    "- optional: `hour`, `minute`, `second`, `millisecond`, `microsecond`, `nanosecond`  "
   ]
  },
  {
   "cell_type": "markdown",
   "id": "98012583",
   "metadata": {},
   "source": [
    "### Invalid data\n",
    "\n",
    "The default behavior, `errors='raise'`, is to raise when unparsable:"
   ]
  },
  {
   "cell_type": "markdown",
   "id": "d2928df0",
   "metadata": {
    "hide-output": false
   },
   "source": [
    "```python\n",
    "In [2]: pd.to_datetime(['2009/07/31', 'asd'], errors='raise')\n",
    "ValueError: Unknown string format\n",
    "```\n"
   ]
  },
  {
   "cell_type": "markdown",
   "id": "46d9ee82",
   "metadata": {},
   "source": [
    "Pass `errors='ignore'` to return the original input when unparsable:"
   ]
  },
  {
   "cell_type": "code",
   "execution_count": null,
   "id": "9a5980e4",
   "metadata": {
    "hide-output": false
   },
   "outputs": [],
   "source": [
    "pd.to_datetime([\"2009/07/31\", \"asd\"], errors=\"ignore\")"
   ]
  },
  {
   "cell_type": "markdown",
   "id": "954caf1a",
   "metadata": {},
   "source": [
    "Pass `errors='coerce'` to convert unparsable data to `NaT` (not a time):"
   ]
  },
  {
   "cell_type": "code",
   "execution_count": null,
   "id": "d8d5ba99",
   "metadata": {
    "hide-output": false
   },
   "outputs": [],
   "source": [
    "pd.to_datetime([\"2009/07/31\", \"asd\"], errors=\"coerce\")"
   ]
  },
  {
   "cell_type": "markdown",
   "id": "94bf9bb3",
   "metadata": {},
   "source": [
    "\n",
    "<a id='timeseries-converting-epoch'></a>"
   ]
  },
  {
   "cell_type": "markdown",
   "id": "1170748c",
   "metadata": {},
   "source": [
    "### Epoch timestamps\n",
    "\n",
    "pandas supports converting integer or float epoch times to `Timestamp` and\n",
    "`DatetimeIndex`. The default unit is nanoseconds, since that is how `Timestamp`\n",
    "objects are stored internally. However, epochs are often stored in another `unit`\n",
    "which can be specified. These are computed from the starting point specified by the\n",
    "`origin` parameter."
   ]
  },
  {
   "cell_type": "code",
   "execution_count": null,
   "id": "f00613eb-3533-41fe-80a4-62bfbb111d37",
   "metadata": {
    "hide-output": false
   },
   "outputs": [],
   "source": [
    "pd.to_datetime(\n",
    "    [1349720105, 1349806505, 1349892905, 1349979305, 1350065705], unit=\"s\"\n",
    ")"
   ]
  },
  {
   "cell_type": "code",
   "execution_count": null,
   "id": "2b36d569-84a4-460a-b5eb-45fd6c806962",
   "metadata": {
    "hide-output": false
   },
   "outputs": [],
   "source": [
    "pd.to_datetime(\n",
    "    [1349720105100, 1349720105200, 1349720105300, 1349720105400, 1349720105500],\n",
    "    unit=\"ms\",\n",
    ")"
   ]
  },
  {
   "cell_type": "markdown",
   "id": "7426abfe",
   "metadata": {},
   "source": [
    ">**Note**\n",
    ">\n",
    ">The `unit` parameter does not use the same strings as the `format` parameter\n",
    "that was discussed [above](#timeseries-converting-format)). The\n",
    "available units are listed on the documentation for `pandas.to_datetime()`.\n",
    "\n",
    "Changed in version 1.0.0.\n",
    "\n",
    "Constructing a `Timestamp` or `DatetimeIndex` with an epoch timestamp\n",
    "with the `tz` argument specified will raise a ValueError. If you have\n",
    "epochs in wall time in another timezone, you can read the epochs\n",
    "as timezone-naive timestamps and then localize to the appropriate timezone:"
   ]
  },
  {
   "cell_type": "code",
   "execution_count": null,
   "id": "21703ff4-c262-4f08-ba13-3d75a384ff5b",
   "metadata": {
    "hide-output": false
   },
   "outputs": [],
   "source": [
    "pd.Timestamp(1262347200000000000).tz_localize(\"US/Pacific\")"
   ]
  },
  {
   "cell_type": "code",
   "execution_count": null,
   "id": "9bb446bc-8fa1-471e-bd2a-f8945c8bc913",
   "metadata": {
    "hide-output": false
   },
   "outputs": [],
   "source": [
    "pd.DatetimeIndex([1262347200000000000]).tz_localize(\"US/Pacific\")"
   ]
  },
  {
   "cell_type": "markdown",
   "id": "307db39c",
   "metadata": {},
   "source": [
    ">**Note**\n",
    ">\n",
    ">Epoch times will be rounded to the nearest nanosecond.\n",
    "\n",
    "Conversion of float epoch times can lead to inaccurate and unexpected results.\n",
    "Python floats have about 15 digits precision in\n",
    "decimal. Rounding during conversion from float to high precision `Timestamp` is\n",
    "unavoidable. The only way to achieve exact precision is to use a fixed-width\n",
    "types (e.g. an int64)."
   ]
  },
  {
   "cell_type": "code",
   "execution_count": null,
   "id": "a0b7859d-6caf-4fbe-8205-db387bfddeec",
   "metadata": {
    "hide-output": false
   },
   "outputs": [],
   "source": [
    "pd.to_datetime([1490195805.433, 1490195805.433502912], unit=\"s\")"
   ]
  },
  {
   "cell_type": "code",
   "execution_count": null,
   "id": "119a9cf0-ebb3-4dfe-8952-6f77304c751c",
   "metadata": {
    "hide-output": false
   },
   "outputs": [],
   "source": [
    "pd.to_datetime(1490195805433502912, unit=\"ns\")"
   ]
  },
  {
   "cell_type": "markdown",
   "id": "ab53181d",
   "metadata": {},
   "source": [
    "[Using the origin Parameter](#timeseries-origin)\n",
    "\n",
    "\n",
    "<a id='timeseries-converting-epoch-inverse'></a>"
   ]
  },
  {
   "cell_type": "markdown",
   "id": "5c1edbc3",
   "metadata": {},
   "source": [
    "### From timestamps to epoch\n",
    "\n",
    "To invert the operation from above, namely, to convert from a `Timestamp` to a ‘unix’ epoch:"
   ]
  },
  {
   "cell_type": "code",
   "execution_count": null,
   "id": "5a3f0f68",
   "metadata": {
    "hide-output": false
   },
   "outputs": [],
   "source": [
    "stamps = pd.date_range(\"2012-10-08 18:15:05\", periods=4, freq=\"D\")\n",
    "stamps"
   ]
  },
  {
   "cell_type": "markdown",
   "id": "37699c32",
   "metadata": {},
   "source": [
    "We subtract the epoch (midnight at January 1, 1970 UTC) and then floor divide by the\n",
    "“unit” (1 second)."
   ]
  },
  {
   "cell_type": "code",
   "execution_count": null,
   "id": "1add3de2",
   "metadata": {
    "hide-output": false
   },
   "outputs": [],
   "source": [
    "(stamps - pd.Timestamp(\"1970-01-01\")) // pd.Timedelta(\"1s\")"
   ]
  },
  {
   "cell_type": "markdown",
   "id": "f448620b",
   "metadata": {},
   "source": [
    "\n",
    "<a id='timeseries-origin'></a>"
   ]
  },
  {
   "cell_type": "markdown",
   "id": "9ce3e8b5",
   "metadata": {},
   "source": [
    "### Using the `origin` Parameter\n",
    "\n",
    "Using the `origin` parameter, one can specify an alternative starting point for creation\n",
    "of a `DatetimeIndex`. For example, to use 1960-01-01 as the starting date:"
   ]
  },
  {
   "cell_type": "code",
   "execution_count": null,
   "id": "8f5bc7d9",
   "metadata": {
    "hide-output": false
   },
   "outputs": [],
   "source": [
    "pd.to_datetime([1, 2, 3], unit=\"D\", origin=pd.Timestamp(\"1960-01-01\"))"
   ]
  },
  {
   "cell_type": "markdown",
   "id": "f25b98eb",
   "metadata": {},
   "source": [
    "The default is set at `origin='unix'`, which defaults to `1970-01-01 00:00:00`.\n",
    "Commonly called ‘unix epoch’ or POSIX time."
   ]
  },
  {
   "cell_type": "code",
   "execution_count": null,
   "id": "af342758",
   "metadata": {
    "hide-output": false
   },
   "outputs": [],
   "source": [
    "pd.to_datetime([1, 2, 3], unit=\"D\")"
   ]
  },
  {
   "cell_type": "markdown",
   "id": "e67794b8",
   "metadata": {},
   "source": [
    "\n",
    "<a id='timeseries-daterange'></a>"
   ]
  },
  {
   "cell_type": "markdown",
   "id": "c38a7c94",
   "metadata": {},
   "source": [
    "## Generating ranges of timestamps\n",
    "\n",
    "To generate an index with timestamps, you can use either the `DatetimeIndex` or\n",
    "`Index` constructor and pass in a list of datetime objects:"
   ]
  },
  {
   "cell_type": "code",
   "execution_count": null,
   "id": "72254bee-139a-4081-a1fd-03ca0c60c91b",
   "metadata": {
    "hide-output": false
   },
   "outputs": [],
   "source": [
    "dates = [\n",
    "    datetime.datetime(2012, 5, 1),\n",
    "    datetime.datetime(2012, 5, 2),\n",
    "    datetime.datetime(2012, 5, 3),\n",
    "]\n",
    "\n",
    "# Note the frequency information\n",
    "index = pd.DatetimeIndex(dates)\n",
    "index"
   ]
  },
  {
   "cell_type": "code",
   "execution_count": null,
   "id": "49d46b24-cd35-46af-8fad-79969e18ebaa",
   "metadata": {
    "hide-output": false
   },
   "outputs": [],
   "source": [
    "# Automatically converted to DatetimeIndex\n",
    "index = pd.Index(dates)\n",
    "index"
   ]
  },
  {
   "cell_type": "markdown",
   "id": "c6123f20",
   "metadata": {},
   "source": [
    "In practice this becomes very cumbersome because we often need a very long\n",
    "index with a large number of timestamps. If we need timestamps on a regular\n",
    "frequency, we can use the `date_range()` and `bdate_range()` functions\n",
    "to create a `DatetimeIndex`. The default frequency for `date_range` is a\n",
    "**calendar day** while the default for `bdate_range` is a **business day**:"
   ]
  },
  {
   "cell_type": "code",
   "execution_count": null,
   "id": "2d7f0261-72c1-4a17-acf4-3c275c5b7fa4",
   "metadata": {
    "hide-output": false
   },
   "outputs": [],
   "source": [
    "start = datetime.datetime(2011, 1, 1)\n",
    "end = datetime.datetime(2012, 1, 1)\n",
    "\n",
    "index = pd.date_range(start, end)\n",
    "index"
   ]
  },
  {
   "cell_type": "code",
   "execution_count": null,
   "id": "a62e0299-2453-4f58-bb19-d52e23f7e6df",
   "metadata": {
    "hide-output": false
   },
   "outputs": [],
   "source": [
    "index = pd.bdate_range(start, end)\n",
    "index"
   ]
  },
  {
   "cell_type": "markdown",
   "id": "082e096b",
   "metadata": {},
   "source": [
    "Convenience functions like `date_range` and `bdate_range` can utilize a\n",
    "variety of [frequency aliases](#timeseries-offset-aliases):"
   ]
  },
  {
   "cell_type": "code",
   "execution_count": null,
   "id": "c3165052-8ea3-479b-83d6-a692d0cf2ef0",
   "metadata": {
    "hide-output": false
   },
   "outputs": [],
   "source": [
    "pd.date_range(start, periods=1000, freq=\"M\")"
   ]
  },
  {
   "cell_type": "code",
   "execution_count": null,
   "id": "ec38b59d-4ece-42cc-bd10-7b5bc6d09323",
   "metadata": {
    "hide-output": false
   },
   "outputs": [],
   "source": [
    "pd.bdate_range(start, periods=250, freq=\"BQS\")"
   ]
  },
  {
   "cell_type": "markdown",
   "id": "92de2a14",
   "metadata": {},
   "source": [
    "`date_range` and `bdate_range` make it easy to generate a range of dates\n",
    "using various combinations of parameters like `start`, `end`, `periods`,\n",
    "and `freq`. The start and end dates are strictly inclusive, so dates outside\n",
    "of those specified will not be generated:"
   ]
  },
  {
   "cell_type": "code",
   "execution_count": null,
   "id": "b56fa059-b261-4fa1-a19b-2248073bab1b",
   "metadata": {
    "hide-output": false
   },
   "outputs": [],
   "source": [
    "pd.date_range(start, end, freq=\"BM\")"
   ]
  },
  {
   "cell_type": "code",
   "execution_count": null,
   "id": "1c10babb-36bf-49f4-8109-b15e7e7d5c10",
   "metadata": {
    "hide-output": false
   },
   "outputs": [],
   "source": [
    "pd.date_range(start, end, freq=\"W\")"
   ]
  },
  {
   "cell_type": "code",
   "execution_count": null,
   "id": "236cb852-a04c-4f02-873c-4bdfe2db46a4",
   "metadata": {
    "hide-output": false
   },
   "outputs": [],
   "source": [
    "pd.bdate_range(end=end, periods=20)"
   ]
  },
  {
   "cell_type": "code",
   "execution_count": null,
   "id": "4b9d1b8b-a65b-46cc-ae48-25728d5a6617",
   "metadata": {
    "hide-output": false
   },
   "outputs": [],
   "source": [
    "pd.bdate_range(start=start, periods=20)"
   ]
  },
  {
   "cell_type": "markdown",
   "id": "ec61033b",
   "metadata": {},
   "source": [
    "Specifying `start`, `end`, and `periods` will generate a range of evenly spaced\n",
    "dates from `start` to `end` inclusively, with `periods` number of elements in the\n",
    "resulting `DatetimeIndex`:"
   ]
  },
  {
   "cell_type": "code",
   "execution_count": null,
   "id": "4917384b-a24e-4354-b759-177da4114aeb",
   "metadata": {
    "hide-output": false
   },
   "outputs": [],
   "source": [
    "pd.date_range(\"2018-01-01\", \"2018-01-05\", periods=5)"
   ]
  },
  {
   "cell_type": "code",
   "execution_count": null,
   "id": "9b4f581e-a721-497a-9654-5267f682475b",
   "metadata": {
    "hide-output": false
   },
   "outputs": [],
   "source": [
    "pd.date_range(\"2018-01-01\", \"2018-01-05\", periods=10)"
   ]
  },
  {
   "cell_type": "markdown",
   "id": "f846dd49",
   "metadata": {},
   "source": [
    "\n",
    "<a id='timeseries-custom-freq-ranges'></a>"
   ]
  },
  {
   "cell_type": "markdown",
   "id": "87c9ee87",
   "metadata": {},
   "source": [
    "### Custom frequency ranges\n",
    "\n",
    "`bdate_range` can also generate a range of custom frequency dates by using\n",
    "the `weekmask` and `holidays` parameters.  These parameters will only be\n",
    "used if a custom frequency string is passed."
   ]
  },
  {
   "cell_type": "code",
   "execution_count": null,
   "id": "1f6cc294-8f21-4896-a7da-89d755fab4bd",
   "metadata": {
    "hide-output": false
   },
   "outputs": [],
   "source": [
    "weekmask = \"Mon Wed Fri\"\n",
    "holidays = [datetime.datetime(2011, 1, 5), datetime.datetime(2011, 3, 14)]\n",
    "pd.bdate_range(start, end, freq=\"C\", weekmask=weekmask, holidays=holidays)"
   ]
  },
  {
   "cell_type": "code",
   "execution_count": null,
   "id": "cd4e2b75-eb0b-4f95-a0dc-54c03351d572",
   "metadata": {
    "hide-output": false
   },
   "outputs": [],
   "source": [
    "pd.bdate_range(start, end, freq=\"CBMS\", weekmask=weekmask)"
   ]
  },
  {
   "cell_type": "markdown",
   "id": "e2649fe6",
   "metadata": {},
   "source": [
    "[Custom business days](#timeseries-custombusinessdays)\n",
    "\n",
    "\n",
    "<a id='timeseries-timestamp-limits'></a>"
   ]
  },
  {
   "cell_type": "markdown",
   "id": "660f48c6",
   "metadata": {},
   "source": [
    "## Timestamp limitations\n",
    "\n",
    "Since pandas represents timestamps in nanosecond resolution, the time span that\n",
    "can be represented using a 64-bit integer is limited to approximately 584 years:"
   ]
  },
  {
   "cell_type": "code",
   "execution_count": null,
   "id": "3b043cf7-ecbc-442a-a1d8-04d62390a046",
   "metadata": {
    "hide-output": false
   },
   "outputs": [],
   "source": [
    "pd.Timestamp.min"
   ]
  },
  {
   "cell_type": "code",
   "execution_count": null,
   "id": "46dcf0cc-1b95-44a6-b698-1b356e5c61c6",
   "metadata": {
    "hide-output": false
   },
   "outputs": [],
   "source": [
    "pd.Timestamp.max"
   ]
  },
  {
   "cell_type": "markdown",
   "id": "6b9ef600",
   "metadata": {},
   "source": [
    "[Representing out-of-bounds spans](#timeseries-oob)\n",
    "\n",
    "\n",
    "<a id='timeseries-datetimeindex'></a>"
   ]
  },
  {
   "cell_type": "markdown",
   "id": "3ee400fd",
   "metadata": {},
   "source": [
    "## Indexing\n",
    "\n",
    "One of the main uses for `DatetimeIndex` is as an index for pandas objects.\n",
    "The `DatetimeIndex` class contains many time series related optimizations:\n",
    "\n",
    "- A large range of dates for various offsets are pre-computed and cached\n",
    "  under the hood in order to make generating subsequent date ranges very fast\n",
    "  (just have to grab a slice).  \n",
    "- Fast shifting using the `shift` method on pandas objects.  \n",
    "- Unioning of overlapping `DatetimeIndex` objects with the same frequency is\n",
    "  very fast (important for fast data alignment).  \n",
    "- Quick access to date fields via properties such as `year`, `month`, etc.  \n",
    "- Regularization functions like `snap` and very fast `asof` logic.  \n",
    "\n",
    "\n",
    "`DatetimeIndex` objects have all the basic functionality of regular `Index`\n",
    "objects, and a smorgasbord of advanced time series specific methods for easy\n",
    "frequency processing.\n",
    "\n",
    "Reindexing methods\n",
    "\n",
    ">**Note**\n",
    ">\n",
    ">While pandas does not force you to have a sorted date index, some of these\n",
    "methods may have unexpected or incorrect behavior if the dates are unsorted.\n",
    "\n",
    "`DatetimeIndex` can be used like a regular index and offers all of its\n",
    "intelligent functionality like selection, slicing, etc."
   ]
  },
  {
   "cell_type": "code",
   "execution_count": null,
   "id": "8addbdf5-6aaa-483c-a129-b98b26dbc8cf",
   "metadata": {
    "hide-output": false
   },
   "outputs": [],
   "source": [
    "rng = pd.date_range(start, end, freq=\"BM\")\n",
    "ts = pd.Series(np.random.randn(len(rng)), index=rng)\n",
    "ts.index"
   ]
  },
  {
   "cell_type": "code",
   "execution_count": null,
   "id": "9b376497-33cd-42b0-8b22-63423e30a270",
   "metadata": {
    "hide-output": false
   },
   "outputs": [],
   "source": [
    "ts[:5].index"
   ]
  },
  {
   "cell_type": "code",
   "execution_count": null,
   "id": "6d0a6823-dd1c-4c87-939e-30eb3cdfe542",
   "metadata": {
    "hide-output": false
   },
   "outputs": [],
   "source": [
    "ts[::2].index"
   ]
  },
  {
   "cell_type": "markdown",
   "id": "f5b8398a",
   "metadata": {},
   "source": [
    "\n",
    "<a id='timeseries-partialindexing'></a>"
   ]
  },
  {
   "cell_type": "markdown",
   "id": "8c965adc",
   "metadata": {},
   "source": [
    "### Partial string indexing\n",
    "\n",
    "Dates and strings that parse to timestamps can be passed as indexing parameters:"
   ]
  },
  {
   "cell_type": "code",
   "execution_count": null,
   "id": "b844992b-a0e3-40ec-b7be-7cd344a93c08",
   "metadata": {
    "hide-output": false
   },
   "outputs": [],
   "source": [
    "ts[\"1/31/2011\"]"
   ]
  },
  {
   "cell_type": "code",
   "execution_count": null,
   "id": "26ae45c4-9f0f-4c83-87ea-85a94b182d76",
   "metadata": {
    "hide-output": false
   },
   "outputs": [],
   "source": [
    "ts[datetime.datetime(2011, 12, 25):]"
   ]
  },
  {
   "cell_type": "code",
   "execution_count": null,
   "id": "f20382b2-3146-430f-acc3-61f2e7cf33e7",
   "metadata": {
    "hide-output": false
   },
   "outputs": [],
   "source": [
    "ts[\"10/31/2011\":\"12/31/2011\"]"
   ]
  },
  {
   "cell_type": "markdown",
   "id": "ea3d458d",
   "metadata": {},
   "source": [
    "To provide convenience for accessing longer time series, you can also pass in\n",
    "the year or year and month as strings:"
   ]
  },
  {
   "cell_type": "code",
   "execution_count": null,
   "id": "f6e53da0-781c-4e78-abed-7d481aaf3a02",
   "metadata": {
    "hide-output": false
   },
   "outputs": [],
   "source": [
    "ts[\"2011\"]"
   ]
  },
  {
   "cell_type": "code",
   "execution_count": null,
   "id": "a743d228-dcd3-461a-a2e5-9042ecb81091",
   "metadata": {
    "hide-output": false
   },
   "outputs": [],
   "source": [
    "ts[\"2011-6\"]"
   ]
  },
  {
   "cell_type": "markdown",
   "id": "97067ff7",
   "metadata": {},
   "source": [
    "This type of slicing will work on a `DataFrame` with a `DatetimeIndex` as well. Since the\n",
    "partial string selection is a form of label slicing, the endpoints **will be** included. This\n",
    "would include matching times on an included date:\n",
    "\n",
    "Indexing `DataFrame` rows with a *single* string with getitem (e.g. `frame[dtstring]`)\n",
    "is deprecated starting with pandas 1.2.0 (given the ambiguity whether it is indexing\n",
    "the rows or selecting a column) and will be removed in a future version. The equivalent\n",
    "with `.loc` (e.g. `frame.loc[dtstring]`) is still supported."
   ]
  },
  {
   "cell_type": "code",
   "execution_count": null,
   "id": "730d9be9-e680-4f12-9ce5-553333de9563",
   "metadata": {
    "hide-output": false
   },
   "outputs": [],
   "source": [
    "dft = pd.DataFrame(\n",
    "    np.random.randn(100000, 1),\n",
    "    columns=[\"A\"],\n",
    "    index=pd.date_range(\"20130101\", periods=100000, freq=\"T\"),\n",
    ")\n",
    "dft"
   ]
  },
  {
   "cell_type": "code",
   "execution_count": null,
   "id": "71d8ff1d-c20f-4276-8b60-5e85cc3a0501",
   "metadata": {
    "hide-output": false
   },
   "outputs": [],
   "source": [
    "dft.loc[\"2013\"]"
   ]
  },
  {
   "cell_type": "markdown",
   "id": "19ec2b2c",
   "metadata": {},
   "source": [
    "This starts on the very first time in the month, and includes the last date and\n",
    "time for the month:"
   ]
  },
  {
   "cell_type": "code",
   "execution_count": null,
   "id": "de9ea96c",
   "metadata": {
    "hide-output": false
   },
   "outputs": [],
   "source": [
    "dft[\"2013-1\":\"2013-2\"]"
   ]
  },
  {
   "cell_type": "markdown",
   "id": "0255e6f9",
   "metadata": {},
   "source": [
    "This specifies a stop time **that includes all of the times on the last day**:"
   ]
  },
  {
   "cell_type": "code",
   "execution_count": null,
   "id": "0e45f616",
   "metadata": {
    "hide-output": false
   },
   "outputs": [],
   "source": [
    "dft[\"2013-1\":\"2013-2-28\"]"
   ]
  },
  {
   "cell_type": "markdown",
   "id": "b0917120",
   "metadata": {},
   "source": [
    "This specifies an **exact** stop time (and is not the same as the above):"
   ]
  },
  {
   "cell_type": "code",
   "execution_count": null,
   "id": "8666bd30",
   "metadata": {
    "hide-output": false
   },
   "outputs": [],
   "source": [
    "dft[\"2013-1\":\"2013-2-28 00:00:00\"]"
   ]
  },
  {
   "cell_type": "markdown",
   "id": "a1702305",
   "metadata": {},
   "source": [
    "We are stopping on the included end-point as it is part of the index:"
   ]
  },
  {
   "cell_type": "code",
   "execution_count": null,
   "id": "b5ffee78",
   "metadata": {
    "hide-output": false
   },
   "outputs": [],
   "source": [
    "dft[\"2013-1-15\":\"2013-1-15 12:30:00\"]"
   ]
  },
  {
   "cell_type": "markdown",
   "id": "e2a96aaa",
   "metadata": {},
   "source": [
    "`DatetimeIndex` partial string indexing also works on a `DataFrame` with a `MultiIndex`:"
   ]
  },
  {
   "cell_type": "code",
   "execution_count": null,
   "id": "2d53a231-1710-44a8-adb6-f3ad0f6e4ef2",
   "metadata": {
    "hide-output": false
   },
   "outputs": [],
   "source": [
    "dft2 = pd.DataFrame(\n",
    "    np.random.randn(20, 1),\n",
    "    columns=[\"A\"],\n",
    "    index=pd.MultiIndex.from_product(\n",
    "        [pd.date_range(\"20130101\", periods=10, freq=\"12H\"), [\"a\", \"b\"]]\n",
    "    ),\n",
    ")\n",
    "dft2"
   ]
  },
  {
   "cell_type": "code",
   "execution_count": null,
   "id": "a866980b-9269-45d2-aba2-63601f86c7c9",
   "metadata": {
    "hide-output": false
   },
   "outputs": [],
   "source": [
    "dft2.loc[\"2013-01-05\"]"
   ]
  },
  {
   "cell_type": "code",
   "execution_count": null,
   "id": "fbf51e6f-aa39-4b39-8b02-c541f2504137",
   "metadata": {
    "hide-output": false
   },
   "outputs": [],
   "source": [
    "idx = pd.IndexSlice\n",
    "dft2 = dft2.swaplevel(0, 1).sort_index()\n",
    "dft2.loc[idx[:, \"2013-01-05\"], :]"
   ]
  },
  {
   "cell_type": "markdown",
   "id": "21e814af",
   "metadata": {},
   "source": [
    "New in version 0.25.0.\n",
    "\n",
    "Slicing with string indexing also honors UTC offset."
   ]
  },
  {
   "cell_type": "code",
   "execution_count": null,
   "id": "a425c429-bafe-4700-aa74-16ac3224cf3c",
   "metadata": {
    "hide-output": false
   },
   "outputs": [],
   "source": [
    "df = pd.DataFrame([0], index=pd.DatetimeIndex([\"2019-01-01\"], tz=\"US/Pacific\"))\n",
    "df"
   ]
  },
  {
   "cell_type": "code",
   "execution_count": null,
   "id": "3ad810ad-fc29-49a6-9fac-9c60df6142f3",
   "metadata": {
    "hide-output": false
   },
   "outputs": [],
   "source": [
    "df[\"2019-01-01 12:00:00+04:00\":\"2019-01-01 13:00:00+04:00\"]"
   ]
  },
  {
   "cell_type": "markdown",
   "id": "1c93e37b",
   "metadata": {},
   "source": [
    "\n",
    "<a id='timeseries-slice-vs-exact-match'></a>"
   ]
  },
  {
   "cell_type": "markdown",
   "id": "ebbe2fef",
   "metadata": {},
   "source": [
    "### Slice vs. exact match\n",
    "\n",
    "The same string used as an indexing parameter can be treated either as a slice or as an exact match depending on the resolution of the index. If the string is less accurate than the index, it will be treated as a slice, otherwise as an exact match.\n",
    "\n",
    "Consider a `Series` object with a minute resolution index:"
   ]
  },
  {
   "cell_type": "code",
   "execution_count": null,
   "id": "26964b1f",
   "metadata": {
    "hide-output": false
   },
   "outputs": [],
   "source": [
    "series_minute = pd.Series(\n",
    "    [1, 2, 3],\n",
    "    pd.DatetimeIndex(\n",
    "        [\"2011-12-31 23:59:00\", \"2012-01-01 00:00:00\", \"2012-01-01 00:02:00\"]\n",
    "    ),\n",
    ")\n",
    "series_minute.index.resolution"
   ]
  },
  {
   "cell_type": "markdown",
   "id": "ce02c4df",
   "metadata": {},
   "source": [
    "A timestamp string less accurate than a minute gives a `Series` object."
   ]
  },
  {
   "cell_type": "code",
   "execution_count": null,
   "id": "2ed5390c",
   "metadata": {
    "hide-output": false
   },
   "outputs": [],
   "source": [
    "series_minute[\"2011-12-31 23\"]"
   ]
  },
  {
   "cell_type": "markdown",
   "id": "537405b7",
   "metadata": {},
   "source": [
    "A timestamp string with minute resolution (or more accurate), gives a scalar instead, i.e. it is not casted to a slice."
   ]
  },
  {
   "cell_type": "code",
   "execution_count": null,
   "id": "8a843eb9",
   "metadata": {
    "hide-output": false
   },
   "outputs": [],
   "source": [
    "series_minute[\"2011-12-31 23:59\"]\n",
    "series_minute[\"2011-12-31 23:59:00\"]"
   ]
  },
  {
   "cell_type": "markdown",
   "id": "5af96825",
   "metadata": {},
   "source": [
    "If index resolution is second, then the minute-accurate timestamp gives a\n",
    "`Series`."
   ]
  },
  {
   "cell_type": "code",
   "execution_count": null,
   "id": "c5a3034a-a605-4121-8b5d-54c3f103ae4b",
   "metadata": {
    "hide-output": false
   },
   "outputs": [],
   "source": [
    "series_second = pd.Series(\n",
    "    [1, 2, 3],\n",
    "    pd.DatetimeIndex(\n",
    "        [\"2011-12-31 23:59:59\", \"2012-01-01 00:00:00\", \"2012-01-01 00:00:01\"]\n",
    "    ),\n",
    ")\n",
    "series_second.index.resolution"
   ]
  },
  {
   "cell_type": "code",
   "execution_count": null,
   "id": "9cc89439-9b33-4bdb-b08c-5433534d9452",
   "metadata": {
    "hide-output": false
   },
   "outputs": [],
   "source": [
    "series_second[\"2011-12-31 23:59\"]"
   ]
  },
  {
   "cell_type": "markdown",
   "id": "895eeff5",
   "metadata": {},
   "source": [
    "If the timestamp string is treated as a slice, it can be used to index `DataFrame` with `.loc[]` as well."
   ]
  },
  {
   "cell_type": "code",
   "execution_count": null,
   "id": "37f530bd",
   "metadata": {
    "hide-output": false
   },
   "outputs": [],
   "source": [
    "dft_minute = pd.DataFrame(\n",
    "    {\"a\": [1, 2, 3], \"b\": [4, 5, 6]}, index=series_minute.index\n",
    ")\n",
    "dft_minute.loc[\"2011-12-31 23\"]"
   ]
  },
  {
   "cell_type": "markdown",
   "id": "1f935f89",
   "metadata": {},
   "source": [
    "However, if the string is treated as an exact match, the selection in `DataFrame`’s `[]` will be column-wise and not row-wise, see Indexing Basics. For example `dft_minute['2011-12-31 23:59']` will raise `KeyError` as `'2012-12-31 23:59'` has the same resolution as the index and there is no column with such name:\n",
    "\n",
    "To *always* have unambiguous selection, whether the row is treated as a slice or a single selection, use `.loc`."
   ]
  },
  {
   "cell_type": "code",
   "execution_count": null,
   "id": "a2e1ab13",
   "metadata": {
    "hide-output": false
   },
   "outputs": [],
   "source": [
    "dft_minute.loc[\"2011-12-31 23:59\"]"
   ]
  },
  {
   "cell_type": "markdown",
   "id": "775c659a",
   "metadata": {},
   "source": [
    "Note also that `DatetimeIndex` resolution cannot be less precise than day."
   ]
  },
  {
   "cell_type": "code",
   "execution_count": null,
   "id": "82e8ec46-18e3-4f7b-9f1e-6e46cafa5586",
   "metadata": {
    "hide-output": false
   },
   "outputs": [],
   "source": [
    "series_monthly = pd.Series(\n",
    "    [1, 2, 3], pd.DatetimeIndex([\"2011-12\", \"2012-01\", \"2012-02\"])\n",
    ")\n",
    "series_monthly.index.resolution"
   ]
  },
  {
   "cell_type": "code",
   "execution_count": null,
   "id": "c37095c3-0f94-456e-b085-4881feb9f83f",
   "metadata": {
    "hide-output": false
   },
   "outputs": [],
   "source": [
    "series_monthly[\"2011-12\"]  # returns Series"
   ]
  },
  {
   "cell_type": "markdown",
   "id": "eaa94659",
   "metadata": {},
   "source": [
    "### Exact indexing\n",
    "\n",
    "As discussed in previous section, indexing a `DatetimeIndex` with a partial string depends on the “accuracy” of the period, in other words how specific the interval is in relation to the resolution of the index. In contrast, indexing with `Timestamp` or `datetime` objects is exact, because the objects have exact meaning. These also follow the semantics of *including both endpoints*.\n",
    "\n",
    "These `Timestamp` and `datetime` objects have exact `hours, minutes,` and `seconds`, even though they were not explicitly specified (they are `0`)."
   ]
  },
  {
   "cell_type": "code",
   "execution_count": null,
   "id": "b01bfd70",
   "metadata": {
    "hide-output": false
   },
   "outputs": [],
   "source": [
    "dft[datetime.datetime(2013, 1, 1): datetime.datetime(2013, 2, 28)]"
   ]
  },
  {
   "cell_type": "markdown",
   "id": "30ab4879",
   "metadata": {},
   "source": [
    "With no defaults."
   ]
  },
  {
   "cell_type": "code",
   "execution_count": null,
   "id": "f394b083",
   "metadata": {
    "hide-output": false
   },
   "outputs": [],
   "source": [
    "dft[\n",
    "    datetime.datetime(2013, 1, 1, 10, 12, 0): datetime.datetime(\n",
    "        2013, 2, 28, 10, 12, 0\n",
    "    )\n",
    "]"
   ]
  },
  {
   "cell_type": "markdown",
   "id": "b93cfce6",
   "metadata": {},
   "source": [
    "### Truncating & fancy indexing\n",
    "\n",
    "A `truncate()` convenience function is provided that is similar\n",
    "to slicing. Note that `truncate` assumes a 0 value for any unspecified date\n",
    "component in a `DatetimeIndex` in contrast to slicing which returns any\n",
    "partially matching dates:"
   ]
  },
  {
   "cell_type": "code",
   "execution_count": null,
   "id": "83afe59e-4cd0-44ae-83b9-241959460e65",
   "metadata": {
    "hide-output": false
   },
   "outputs": [],
   "source": [
    "rng2 = pd.date_range(\"2011-01-01\", \"2012-01-01\", freq=\"W\")\n",
    "ts2 = pd.Series(np.random.randn(len(rng2)), index=rng2)\n",
    "\n",
    "ts2.truncate(before=\"2011-11\", after=\"2011-12\")"
   ]
  },
  {
   "cell_type": "code",
   "execution_count": null,
   "id": "3607c8ca-9b40-40c3-931b-358d124b57e1",
   "metadata": {
    "hide-output": false
   },
   "outputs": [],
   "source": [
    "ts2[\"2011-11\":\"2011-12\"]"
   ]
  },
  {
   "cell_type": "markdown",
   "id": "3b977e68",
   "metadata": {},
   "source": [
    "Even complicated fancy indexing that breaks the `DatetimeIndex` frequency\n",
    "regularity will result in a `DatetimeIndex`, although frequency is lost:"
   ]
  },
  {
   "cell_type": "code",
   "execution_count": null,
   "id": "39e58c21",
   "metadata": {
    "hide-output": false
   },
   "outputs": [],
   "source": [
    "ts2[[0, 2, 6]].index"
   ]
  },
  {
   "cell_type": "markdown",
   "id": "00c98dfe",
   "metadata": {},
   "source": [
    "\n",
    "<a id='timeseries-components'></a>"
   ]
  },
  {
   "cell_type": "markdown",
   "id": "e2a98e4f",
   "metadata": {},
   "source": [
    "## Time/date components\n",
    "\n",
    "There are several time/date properties that one can access from `Timestamp` or a collection of timestamps like a `DatetimeIndex`.\n",
    "\n",
    "|Property|Description|\n",
    "|:-------------|:---------------------------------------------------------------|\n",
    "|year|The year of the datetime|\n",
    "|month|The month of the datetime|\n",
    "|day|The days of the datetime|\n",
    "|hour|The hour of the datetime|\n",
    "|minute|The minutes of the datetime|\n",
    "|second|The seconds of the datetime|\n",
    "|microsecond|The microseconds of the datetime|\n",
    "|nanosecond|The nanoseconds of the datetime|\n",
    "|date|Returns datetime.date (does not contain timezone information)|\n",
    "|time|Returns datetime.time (does not contain timezone information)|\n",
    "|timetz|Returns datetime.time as local time with timezone information|\n",
    "|dayofyear|The ordinal day of year|\n",
    "|day_of_year|The ordinal day of year|\n",
    "|weekofyear|The week ordinal of the year|\n",
    "|week|The week ordinal of the year|\n",
    "|dayofweek|The number of the day of the week with Monday=0, Sunday=6|\n",
    "|day_of_week|The number of the day of the week with Monday=0, Sunday=6|\n",
    "|weekday|The number of the day of the week with Monday=0, Sunday=6|\n",
    "|quarter|Quarter of the date: Jan-Mar = 1, Apr-Jun = 2, etc.|\n",
    "|days_in_month|The number of days in the month of the datetime|\n",
    "|is_month_start|Logical indicating if first day of month (defined by frequency)|\n",
    "|is_month_end|Logical indicating if last day of month (defined by frequency)|\n",
    "|is_quarter_start|Logical indicating if first day of quarter (defined by frequency)|\n",
    "|is_quarter_end|Logical indicating if last day of quarter (defined by frequency)|\n",
    "|is_year_start|Logical indicating if first day of year (defined by frequency)|\n",
    "|is_year_end|Logical indicating if last day of year (defined by frequency)|\n",
    "|is_leap_year|Logical indicating if the date belongs to a leap year|\n",
    "Furthermore, if you have a `Series` with datetimelike values, then you can\n",
    "access these properties via the `.dt` accessor, as detailed in the section\n",
    "on .dt accessors.\n",
    "\n",
    "New in version 1.1.0.\n",
    "\n",
    "You may obtain the year, week and day components of the ISO year from the ISO 8601 standard:"
   ]
  },
  {
   "cell_type": "code",
   "execution_count": null,
   "id": "50bbfd15",
   "metadata": {
    "hide-output": false
   },
   "outputs": [],
   "source": [
    "idx = pd.date_range(start=\"2019-12-29\", freq=\"D\", periods=4)\n",
    "idx.isocalendar()\n",
    "idx.to_series().dt.isocalendar()"
   ]
  },
  {
   "cell_type": "markdown",
   "id": "fc3f9664",
   "metadata": {},
   "source": [
    "\n",
    "<a id='timeseries-offsets'></a>"
   ]
  },
  {
   "cell_type": "markdown",
   "id": "b338d0e4",
   "metadata": {},
   "source": [
    "## DateOffset objects\n",
    "\n",
    "In the preceding examples, frequency strings (e.g. `'D'`) were used to specify\n",
    "a frequency that defined:\n",
    "\n",
    "- how the date times in `DatetimeIndex` were spaced when using `date_range()`  \n",
    "- the frequency of a `Period` or `PeriodIndex`  \n",
    "\n",
    "\n",
    "These frequency strings map to a `DateOffset` object and its subclasses. A `DateOffset`\n",
    "is similar to a `Timedelta` that represents a duration of time but follows specific calendar duration rules.\n",
    "For example, a `Timedelta` day will always increment `datetimes` by 24 hours, while a `DateOffset` day\n",
    "will increment `datetimes` to the same time the next day whether a day represents 23, 24 or 25 hours due to daylight\n",
    "savings time. However, all `DateOffset` subclasses that are an hour or smaller\n",
    "(`Hour`, `Minute`, `Second`, `Milli`, `Micro`, `Nano`) behave like\n",
    "`Timedelta` and respect absolute time.\n",
    "\n",
    "The basic `DateOffset` acts similar to `dateutil.relativedelta` ([relativedelta documentation](https://dateutil.readthedocs.io/en/stable/relativedelta.html))\n",
    "that shifts a date time by the corresponding calendar duration specified. The\n",
    "arithmetic operator (`+`) or the `apply` method can be used to perform the shift."
   ]
  },
  {
   "cell_type": "code",
   "execution_count": null,
   "id": "661500b3-18e5-4a81-929d-5fbf0da88409",
   "metadata": {
    "hide-output": false
   },
   "outputs": [],
   "source": [
    "# This particular day contains a day light savings time transition\n",
    "ts = pd.Timestamp(\"2016-10-30 00:00:00\", tz=\"Europe/Helsinki\")\n",
    "# Respects absolute time\n",
    "ts + pd.Timedelta(days=1)"
   ]
  },
  {
   "cell_type": "code",
   "execution_count": null,
   "id": "0a6f38da-bae2-40ee-89cc-4dabfb3d283d",
   "metadata": {
    "hide-output": false
   },
   "outputs": [],
   "source": [
    "# Respects calendar time\n",
    "ts + pd.DateOffset(days=1)"
   ]
  },
  {
   "cell_type": "code",
   "execution_count": null,
   "id": "5727c86a-8412-4df3-952a-d83c0c6e2d35",
   "metadata": {
    "hide-output": false
   },
   "outputs": [],
   "source": [
    "friday = pd.Timestamp(\"2018-01-05\")\n",
    "friday.day_name()"
   ]
  },
  {
   "cell_type": "code",
   "execution_count": null,
   "id": "8613518d-1c2d-4c02-9302-d6d599b37668",
   "metadata": {
    "hide-output": false
   },
   "outputs": [],
   "source": [
    "# Add 2 business days (Friday --> Tuesday)\n",
    "two_business_days = 2 * pd.offsets.BDay()\n",
    "two_business_days.apply(friday)"
   ]
  },
  {
   "cell_type": "code",
   "execution_count": null,
   "id": "dd2d4948-e11f-4d00-9f72-88afebe5dc33",
   "metadata": {
    "hide-output": false
   },
   "outputs": [],
   "source": [
    "friday + two_business_days"
   ]
  },
  {
   "cell_type": "code",
   "execution_count": null,
   "id": "3e237c90-0ea4-4c1d-b09a-0cdad843be23",
   "metadata": {
    "hide-output": false
   },
   "outputs": [],
   "source": [
    "(friday + two_business_days).day_name()"
   ]
  },
  {
   "cell_type": "markdown",
   "id": "eb7b2690",
   "metadata": {},
   "source": [
    "Most `DateOffsets` have associated frequencies strings, or offset aliases, that can be passed\n",
    "into `freq` keyword arguments. The available date offsets and associated frequency strings can be found below:\n",
    "\n",
    "````````````````````````````````````````````````````````````````````````````````````````````````````````````````````````````````````````````````````````|Date Offset|Frequency String|Description|\n",
    "|:-------------:|:-------------:|:---------------------------------------------------------------:|\n",
    "|DateOffset|None|Generic offset class, defaults to absolute 24 hours|\n",
    "|BDay or BusinessDay|'B'|business day (weekday)|\n",
    "|CDay or CustomBusinessDay|'C'|custom business day|\n",
    "|Week|'W'|one week, optionally anchored on a day of the week|\n",
    "|WeekOfMonth|'WOM'|the x-th day of the y-th week of each month|\n",
    "|LastWeekOfMonth|'LWOM'|the x-th day of the last week of each month|\n",
    "|MonthEnd|'M'|calendar month end|\n",
    "|MonthBegin|'MS'|calendar month begin|\n",
    "|BMonthEnd or BusinessMonthEnd|'BM'|business month end|\n",
    "|BMonthBegin or BusinessMonthBegin|'BMS'|business month begin|\n",
    "|CBMonthEnd or CustomBusinessMonthEnd|'CBM'|custom business month end|\n",
    "|CBMonthBegin or CustomBusinessMonthBegin|'CBMS'|custom business month begin|\n",
    "|SemiMonthEnd|'SM'|15th (or other day_of_month) and calendar month end|\n",
    "|SemiMonthBegin|'SMS'|15th (or other day_of_month) and calendar month begin|\n",
    "|QuarterEnd|'Q'|calendar quarter end|\n",
    "|QuarterBegin|'QS'|calendar quarter begin|\n",
    "|BQuarterEnd|'BQ|business quarter end|\n",
    "|BQuarterBegin|'BQS'|business quarter begin|\n",
    "|FY5253Quarter|'REQ'|retail (aka 52-53 week) quarter|\n",
    "|YearEnd|'A'|calendar year end|\n",
    "|YearBegin|'AS' or 'BYS'|calendar year begin|\n",
    "|BYearEnd|'BA'|business year end|\n",
    "|BYearBegin|'BAS'|business year begin|\n",
    "|FY5253|'RE'|retail (aka 52-53 week) year|\n",
    "|Easter|None|Easter holiday|\n",
    "|BusinessHour|'BH'|business hour|\n",
    "|CustomBusinessHour|'CBH'|custom business hour|\n",
    "|Day|'D'|one absolute day|\n",
    "|Hour|'H'|one hour|\n",
    "|Minute|'T' or 'min'|one minute|\n",
    "|Second|'S'|one second|\n",
    "|Milli|'L' or 'ms'|one millisecond|\n",
    "|Micro|'U' or 'us'|one microsecond|\n",
    "|Nano|'N'|one nanosecond|\n",
    "`DateOffsets` additionally have `rollforward()` and `rollback()`\n",
    "methods for moving a date forward or backward respectively to a valid offset\n",
    "date relative to the offset. For example, business offsets will roll dates\n",
    "that land on the weekends (Saturday and Sunday) forward to Monday since\n",
    "business offsets operate on the weekdays."
   ]
  },
  {
   "cell_type": "code",
   "execution_count": null,
   "id": "a15092a6-8c25-470a-a874-c8401beb534c",
   "metadata": {
    "hide-output": false
   },
   "outputs": [],
   "source": [
    "ts = pd.Timestamp(\"2018-01-06 00:00:00\")\n",
    "ts.day_name()"
   ]
  },
  {
   "cell_type": "code",
   "execution_count": null,
   "id": "e5ac2c74-ad42-460b-be38-a12067f2f91f",
   "metadata": {
    "hide-output": false
   },
   "outputs": [],
   "source": [
    "# BusinessHour's valid offset dates are Monday through Friday\n",
    "offset = pd.offsets.BusinessHour(start=\"09:00\")"
   ]
  },
  {
   "cell_type": "code",
   "execution_count": null,
   "id": "af052fe9-6fbd-4f96-aa5b-e062ee563455",
   "metadata": {
    "hide-output": false
   },
   "outputs": [],
   "source": [
    "# Bring the date to the closest offset date (Monday)\n",
    "offset.rollforward(ts)"
   ]
  },
  {
   "cell_type": "code",
   "execution_count": null,
   "id": "c8ae98dd-021a-43b2-a7a6-9bcc5f477fb8",
   "metadata": {
    "hide-output": false
   },
   "outputs": [],
   "source": [
    "# Date is brought to the closest offset date first and then the hour is added\n",
    "ts + offset"
   ]
  },
  {
   "cell_type": "markdown",
   "id": "13f235e8",
   "metadata": {},
   "source": [
    "These operations preserve time (hour, minute, etc) information by default.\n",
    "To reset time to midnight, use `normalize()` before or after applying\n",
    "the operation (depending on whether you want the time information included\n",
    "in the operation)."
   ]
  },
  {
   "cell_type": "code",
   "execution_count": null,
   "id": "85e18fc6-8a3f-4e27-a874-62068fef061b",
   "metadata": {
    "hide-output": false
   },
   "outputs": [],
   "source": [
    "ts = pd.Timestamp(\"2014-01-01 09:00\")\n",
    "day = pd.offsets.Day()\n",
    "day.apply(ts)"
   ]
  },
  {
   "cell_type": "code",
   "execution_count": null,
   "id": "03283ec8-fe17-4607-abd6-cb29400368b5",
   "metadata": {
    "hide-output": false
   },
   "outputs": [],
   "source": [
    "day.apply(ts).normalize()"
   ]
  },
  {
   "cell_type": "code",
   "execution_count": null,
   "id": "2c832384-002d-480d-b324-61e6a567d8b7",
   "metadata": {
    "hide-output": false
   },
   "outputs": [],
   "source": [
    "ts = pd.Timestamp(\"2014-01-01 22:00\")\n",
    "hour = pd.offsets.Hour()\n",
    "hour.apply(ts)"
   ]
  },
  {
   "cell_type": "code",
   "execution_count": null,
   "id": "301cb508-ac64-4892-a129-f9b46437797a",
   "metadata": {
    "hide-output": false
   },
   "outputs": [],
   "source": [
    "hour.apply(ts).normalize()"
   ]
  },
  {
   "cell_type": "code",
   "execution_count": null,
   "id": "85ee6a86-8231-4374-9853-263d2ddadb6d",
   "metadata": {
    "hide-output": false
   },
   "outputs": [],
   "source": [
    "hour.apply(pd.Timestamp(\"2014-01-01 23:30\")).normalize()"
   ]
  },
  {
   "cell_type": "markdown",
   "id": "eb0cdf46",
   "metadata": {},
   "source": [
    "### Parametric offsets\n",
    "\n",
    "Some of the offsets can be “parameterized” when created to result in different\n",
    "behaviors. For example, the `Week` offset for generating weekly data accepts a\n",
    "`weekday` parameter which results in the generated dates always lying on a\n",
    "particular day of the week:"
   ]
  },
  {
   "cell_type": "code",
   "execution_count": null,
   "id": "e1f2e2c9-f764-4205-bd13-87206f21ae3a",
   "metadata": {
    "hide-output": false
   },
   "outputs": [],
   "source": [
    "d = datetime.datetime(2008, 8, 18, 9, 0)\n",
    "d"
   ]
  },
  {
   "cell_type": "code",
   "execution_count": null,
   "id": "02a58ef2-89f1-47c9-a7ad-443b8b75b873",
   "metadata": {
    "hide-output": false
   },
   "outputs": [],
   "source": [
    "d + pd.offsets.Week()"
   ]
  },
  {
   "cell_type": "code",
   "execution_count": null,
   "id": "767a1bc3-8ca3-4a63-a90f-4032ff46ec2b",
   "metadata": {
    "hide-output": false
   },
   "outputs": [],
   "source": [
    "d + pd.offsets.Week(weekday=4)"
   ]
  },
  {
   "cell_type": "code",
   "execution_count": null,
   "id": "c0f48276-e605-4228-b0a8-c000cb2146d7",
   "metadata": {
    "hide-output": false
   },
   "outputs": [],
   "source": [
    "(d + pd.offsets.Week(weekday=4)).weekday()"
   ]
  },
  {
   "cell_type": "code",
   "execution_count": null,
   "id": "59eee740-c98f-48ca-8ecd-45873cc8f002",
   "metadata": {
    "hide-output": false
   },
   "outputs": [],
   "source": [
    "d - pd.offsets.Week()"
   ]
  },
  {
   "cell_type": "markdown",
   "id": "6462efd9",
   "metadata": {},
   "source": [
    "The `normalize` option will be effective for addition and subtraction."
   ]
  },
  {
   "cell_type": "code",
   "execution_count": null,
   "id": "8fb8df3b-13a2-4dbd-98f1-91ec1a3f0656",
   "metadata": {
    "hide-output": false
   },
   "outputs": [],
   "source": [
    "d + pd.offsets.Week(normalize=True)"
   ]
  },
  {
   "cell_type": "code",
   "execution_count": null,
   "id": "c6d2f0a6-b239-4edf-a2cf-9216e2da3c37",
   "metadata": {
    "hide-output": false
   },
   "outputs": [],
   "source": [
    "d - pd.offsets.Week(normalize=True)"
   ]
  },
  {
   "cell_type": "markdown",
   "id": "861b5aaf",
   "metadata": {},
   "source": [
    "Another example is parameterizing `YearEnd` with the specific ending month:"
   ]
  },
  {
   "cell_type": "code",
   "execution_count": null,
   "id": "133fe468-7fc4-4982-9158-1505908d53ee",
   "metadata": {
    "hide-output": false
   },
   "outputs": [],
   "source": [
    "d + pd.offsets.YearEnd()"
   ]
  },
  {
   "cell_type": "code",
   "execution_count": null,
   "id": "aaac8068-5dd3-41aa-a827-3f70e3b5cb26",
   "metadata": {
    "hide-output": false
   },
   "outputs": [],
   "source": [
    "d + pd.offsets.YearEnd(month=6)"
   ]
  },
  {
   "cell_type": "markdown",
   "id": "7aa82d80",
   "metadata": {},
   "source": [
    "\n",
    "<a id='timeseries-offsetseries'></a>"
   ]
  },
  {
   "cell_type": "markdown",
   "id": "190d5700",
   "metadata": {},
   "source": [
    "### Using offsets with `Series` / `DatetimeIndex`\n",
    "\n",
    "Offsets can be used with either a `Series` or `DatetimeIndex` to\n",
    "apply the offset to each element."
   ]
  },
  {
   "cell_type": "code",
   "execution_count": null,
   "id": "d325667d-4b0f-40b7-b615-10970109ac49",
   "metadata": {
    "hide-output": false
   },
   "outputs": [],
   "source": [
    "rng = pd.date_range(\"2012-01-01\", \"2012-01-03\")\n",
    "s = pd.Series(rng)\n",
    "rng"
   ]
  },
  {
   "cell_type": "code",
   "execution_count": null,
   "id": "e0eb71f0-5429-4a69-8c32-893fa633b6ca",
   "metadata": {
    "hide-output": false
   },
   "outputs": [],
   "source": [
    "rng + pd.DateOffset(months=2)"
   ]
  },
  {
   "cell_type": "code",
   "execution_count": null,
   "id": "0e9f5fee-5149-4bcd-af1f-d0c7df9e7823",
   "metadata": {
    "hide-output": false
   },
   "outputs": [],
   "source": [
    "s + pd.DateOffset(months=2)"
   ]
  },
  {
   "cell_type": "code",
   "execution_count": null,
   "id": "5415998f-a9bc-4132-86d5-947fbf510698",
   "metadata": {
    "hide-output": false
   },
   "outputs": [],
   "source": [
    "s - pd.DateOffset(months=2)"
   ]
  },
  {
   "cell_type": "markdown",
   "id": "ecb00b5b",
   "metadata": {},
   "source": [
    "If the offset class maps directly to a `Timedelta` (`Day`, `Hour`,\n",
    "`Minute`, `Second`, `Micro`, `Milli`, `Nano`) it can be\n",
    "used exactly like a `Timedelta` - see the\n",
    "[Timedelta section](39_timedeltas.ipynb#timedeltas-operations) for more examples."
   ]
  },
  {
   "cell_type": "code",
   "execution_count": null,
   "id": "135ae799-1d14-4e8f-b913-7d09569c3f7b",
   "metadata": {
    "hide-output": false
   },
   "outputs": [],
   "source": [
    "s - pd.offsets.Day(2)"
   ]
  },
  {
   "cell_type": "code",
   "execution_count": null,
   "id": "4b86c3f6-e950-4309-a31b-d128cabdfcc9",
   "metadata": {
    "hide-output": false
   },
   "outputs": [],
   "source": [
    "td = s - pd.Series(pd.date_range(\"2011-12-29\", \"2011-12-31\"))"
   ]
  },
  {
   "cell_type": "code",
   "execution_count": null,
   "id": "2ed25fe7-334b-4b78-87c5-595c76d6bf0c",
   "metadata": {
    "hide-output": false
   },
   "outputs": [],
   "source": [
    "td"
   ]
  },
  {
   "cell_type": "code",
   "execution_count": null,
   "id": "9210b715-21a1-4fcf-a9fa-5af57631e419",
   "metadata": {
    "hide-output": false
   },
   "outputs": [],
   "source": [
    "td + pd.offsets.Minute(15)"
   ]
  },
  {
   "cell_type": "markdown",
   "id": "17689bea",
   "metadata": {},
   "source": [
    "Note that some offsets (such as `BQuarterEnd`) do not have a\n",
    "vectorized implementation.  They can still be used but may\n",
    "calculate significantly slower and will show a `PerformanceWarning`"
   ]
  },
  {
   "cell_type": "code",
   "execution_count": null,
   "id": "e39ee1a9",
   "metadata": {
    "hide-output": false
   },
   "outputs": [],
   "source": [
    "rng + pd.offsets.BQuarterEnd()"
   ]
  },
  {
   "cell_type": "markdown",
   "id": "4ca365ce",
   "metadata": {},
   "source": [
    "\n",
    "<a id='timeseries-custombusinessdays'></a>"
   ]
  },
  {
   "cell_type": "markdown",
   "id": "47bfa154",
   "metadata": {},
   "source": [
    "### Custom business days\n",
    "\n",
    "The `CDay` or `CustomBusinessDay` class provides a parametric\n",
    "`BusinessDay` class which can be used to create customized business day\n",
    "calendars which account for local holidays and local weekend conventions.\n",
    "\n",
    "As an interesting example, let’s look at Egypt where a Friday-Saturday weekend is observed."
   ]
  },
  {
   "cell_type": "code",
   "execution_count": null,
   "id": "c5dceda1",
   "metadata": {
    "hide-output": false
   },
   "outputs": [],
   "source": [
    "weekmask_egypt = \"Sun Mon Tue Wed Thu\"\n",
    "\n",
    "# They also observe International Workers' Day so let's\n",
    "# add that for a couple of years\n",
    "\n",
    "holidays = [\n",
    "    \"2012-05-01\",\n",
    "    datetime.datetime(2013, 5, 1),\n",
    "    np.datetime64(\"2014-05-01\"),\n",
    "]\n",
    "bday_egypt = pd.offsets.CustomBusinessDay(\n",
    "    holidays=holidays,\n",
    "    weekmask=weekmask_egypt,\n",
    ")\n",
    "dt = datetime.datetime(2013, 4, 30)\n",
    "dt + 2 * bday_egypt"
   ]
  },
  {
   "cell_type": "markdown",
   "id": "290a2893",
   "metadata": {},
   "source": [
    "Let’s map to the weekday names:"
   ]
  },
  {
   "cell_type": "code",
   "execution_count": null,
   "id": "b39b9e2a",
   "metadata": {
    "hide-output": false
   },
   "outputs": [],
   "source": [
    "dts = pd.date_range(dt, periods=5, freq=bday_egypt)\n",
    "pd.Series(dts.weekday, dts).map(pd.Series(\"Mon Tue Wed Thu Fri Sat Sun\".split()))"
   ]
  },
  {
   "cell_type": "markdown",
   "id": "960a4098",
   "metadata": {},
   "source": [
    "Holiday calendars can be used to provide the list of holidays.  See the\n",
    "[holiday calendar](#timeseries-holiday) section for more information."
   ]
  },
  {
   "cell_type": "code",
   "execution_count": null,
   "id": "240b9517",
   "metadata": {
    "hide-output": false
   },
   "outputs": [],
   "source": [
    "from pandas.tseries.holiday import USFederalHolidayCalendar\n",
    "\n",
    "bday_us = pd.offsets.CustomBusinessDay(calendar=USFederalHolidayCalendar())\n",
    "\n",
    "# Friday before MLK Day\n",
    "dt = datetime.datetime(2014, 1, 17)\n",
    "\n",
    "# Tuesday after MLK Day (Monday is skipped because it's a holiday)\n",
    "dt + bday_us"
   ]
  },
  {
   "cell_type": "markdown",
   "id": "a7a64253",
   "metadata": {},
   "source": [
    "Monthly offsets that respect a certain holiday calendar can be defined\n",
    "in the usual way."
   ]
  },
  {
   "cell_type": "code",
   "execution_count": null,
   "id": "5682d564-c190-4884-899f-6aa62a96b961",
   "metadata": {
    "hide-output": false
   },
   "outputs": [],
   "source": [
    "bmth_us = pd.offsets.CustomBusinessMonthBegin(calendar=USFederalHolidayCalendar())\n",
    "\n",
    "# Skip new years\n",
    "dt = datetime.datetime(2013, 12, 17)\n",
    "dt + bmth_us"
   ]
  },
  {
   "cell_type": "code",
   "execution_count": null,
   "id": "10a16e2e-fef1-4074-ad89-18752a42d254",
   "metadata": {
    "hide-output": false
   },
   "outputs": [],
   "source": [
    "# Define date index with custom offset\n",
    "pd.date_range(start=\"20100101\", end=\"20120101\", freq=bmth_us)"
   ]
  },
  {
   "cell_type": "markdown",
   "id": "37ff3249",
   "metadata": {},
   "source": [
    ">**Note**\n",
    ">\n",
    ">The frequency string ‘C’ is used to indicate that a CustomBusinessDay\n",
    "DateOffset is used, it is important to note that since CustomBusinessDay is\n",
    "a parameterised type, instances of CustomBusinessDay may differ and this is\n",
    "not detectable from the ‘C’ frequency string. The user therefore needs to\n",
    "ensure that the ‘C’ frequency string is used consistently within the user’s\n",
    "application.\n",
    "\n",
    "\n",
    "<a id='timeseries-businesshour'></a>"
   ]
  },
  {
   "cell_type": "markdown",
   "id": "f859eeb1",
   "metadata": {},
   "source": [
    "### Business hour\n",
    "\n",
    "The `BusinessHour` class provides a business hour representation on `BusinessDay`,\n",
    "allowing to use specific start and end times.\n",
    "\n",
    "By default, `BusinessHour` uses 9:00 - 17:00 as business hours.\n",
    "Adding `BusinessHour` will increment `Timestamp` by hourly frequency.\n",
    "If target `Timestamp` is out of business hours, move to the next business hour\n",
    "then increment it. If the result exceeds the business hours end, the remaining\n",
    "hours are added to the next business day."
   ]
  },
  {
   "cell_type": "code",
   "execution_count": null,
   "id": "7c49252b-f71d-44a7-9d9a-8eb85a147d9c",
   "metadata": {
    "hide-output": false
   },
   "outputs": [],
   "source": [
    "bh = pd.offsets.BusinessHour()\n",
    "bh"
   ]
  },
  {
   "cell_type": "code",
   "execution_count": null,
   "id": "47a3d5b9-d952-4ef9-8bda-f17312532e4c",
   "metadata": {
    "hide-output": false
   },
   "outputs": [],
   "source": [
    "# 2014-08-01 is Friday\n",
    "pd.Timestamp(\"2014-08-01 10:00\").weekday()"
   ]
  },
  {
   "cell_type": "code",
   "execution_count": null,
   "id": "b7efa483-8a7c-4d53-9830-cfb5021d4335",
   "metadata": {
    "hide-output": false
   },
   "outputs": [],
   "source": [
    "pd.Timestamp(\"2014-08-01 10:00\") + bh"
   ]
  },
  {
   "cell_type": "code",
   "execution_count": null,
   "id": "9326422a-9c37-4f56-80a2-c063670b86e7",
   "metadata": {
    "hide-output": false
   },
   "outputs": [],
   "source": [
    "# Below example is the same as: pd.Timestamp('2014-08-01 09:00') + bh\n",
    "pd.Timestamp(\"2014-08-01 08:00\") + bh"
   ]
  },
  {
   "cell_type": "code",
   "execution_count": null,
   "id": "df41579d-0c5c-4673-8c57-7a57226ea830",
   "metadata": {
    "hide-output": false
   },
   "outputs": [],
   "source": [
    "# If the results is on the end time, move to the next business day\n",
    "pd.Timestamp(\"2014-08-01 16:00\") + bh"
   ]
  },
  {
   "cell_type": "code",
   "execution_count": null,
   "id": "49f1aed4-fa92-4c37-ad08-6abeb545a81c",
   "metadata": {
    "hide-output": false
   },
   "outputs": [],
   "source": [
    "# Remainings are added to the next day\n",
    "pd.Timestamp(\"2014-08-01 16:30\") + bh"
   ]
  },
  {
   "cell_type": "code",
   "execution_count": null,
   "id": "0e8e32c0-430a-4078-bb34-46b231293081",
   "metadata": {
    "hide-output": false
   },
   "outputs": [],
   "source": [
    "# Adding 2 business hours\n",
    "pd.Timestamp(\"2014-08-01 10:00\") + pd.offsets.BusinessHour(2)"
   ]
  },
  {
   "cell_type": "code",
   "execution_count": null,
   "id": "ff0ecd75-b1d7-4222-8188-c80e1f9d0b0e",
   "metadata": {
    "hide-output": false
   },
   "outputs": [],
   "source": [
    "# Subtracting 3 business hours\n",
    "pd.Timestamp(\"2014-08-01 10:00\") + pd.offsets.BusinessHour(-3)"
   ]
  },
  {
   "cell_type": "markdown",
   "id": "6b3fdf6b",
   "metadata": {},
   "source": [
    "You can also specify `start` and `end` time by keywords. The argument must\n",
    "be a `str` with an `hour:minute` representation or a `datetime.time`\n",
    "instance. Specifying seconds, microseconds and nanoseconds as business hour\n",
    "results in `ValueError`."
   ]
  },
  {
   "cell_type": "code",
   "execution_count": null,
   "id": "6ecdc73a-db30-40fd-b41a-7750f32f006c",
   "metadata": {
    "hide-output": false
   },
   "outputs": [],
   "source": [
    "bh = pd.offsets.BusinessHour(start=\"11:00\", end=datetime.time(20, 0))\n",
    "bh"
   ]
  },
  {
   "cell_type": "code",
   "execution_count": null,
   "id": "66fd90d1-6e8d-4c51-bd5e-73f884ae60bf",
   "metadata": {
    "hide-output": false
   },
   "outputs": [],
   "source": [
    "pd.Timestamp(\"2014-08-01 13:00\") + bh"
   ]
  },
  {
   "cell_type": "code",
   "execution_count": null,
   "id": "d0a9d841-7c1d-4499-a13f-dd41b7c434f3",
   "metadata": {
    "hide-output": false
   },
   "outputs": [],
   "source": [
    "pd.Timestamp(\"2014-08-01 09:00\") + bh"
   ]
  },
  {
   "cell_type": "code",
   "execution_count": null,
   "id": "d6a24112-0a42-4342-a1db-6adafca9384b",
   "metadata": {
    "hide-output": false
   },
   "outputs": [],
   "source": [
    "pd.Timestamp(\"2014-08-01 18:00\") + bh"
   ]
  },
  {
   "cell_type": "markdown",
   "id": "f0712169",
   "metadata": {},
   "source": [
    "Passing `start` time later than `end` represents midnight business hour.\n",
    "In this case, business hour exceeds midnight and overlap to the next day.\n",
    "Valid business hours are distinguished by whether it started from valid `BusinessDay`."
   ]
  },
  {
   "cell_type": "code",
   "execution_count": null,
   "id": "f7815c93-bebd-4557-85aa-d294bb4217dd",
   "metadata": {
    "hide-output": false
   },
   "outputs": [],
   "source": [
    "bh = pd.offsets.BusinessHour(start=\"17:00\", end=\"09:00\")\n",
    "bh"
   ]
  },
  {
   "cell_type": "code",
   "execution_count": null,
   "id": "5e643f04-d2a3-4da0-bd5d-7211ae30001d",
   "metadata": {
    "hide-output": false
   },
   "outputs": [],
   "source": [
    "pd.Timestamp(\"2014-08-01 17:00\") + bh"
   ]
  },
  {
   "cell_type": "code",
   "execution_count": null,
   "id": "583497fe-a322-49b6-8518-b18177c3a1b4",
   "metadata": {
    "hide-output": false
   },
   "outputs": [],
   "source": [
    "pd.Timestamp(\"2014-08-01 23:00\") + bh"
   ]
  },
  {
   "cell_type": "code",
   "execution_count": null,
   "id": "22b31bcb-1c56-4ee1-8b43-fe407a98c3da",
   "metadata": {
    "hide-output": false
   },
   "outputs": [],
   "source": [
    "# Although 2014-08-02 is Saturday,\n",
    "# it is valid because it starts from 08-01 (Friday).\n",
    "pd.Timestamp(\"2014-08-02 04:00\") + bh"
   ]
  },
  {
   "cell_type": "code",
   "execution_count": null,
   "id": "4187bb7c-33ae-4fde-8a7e-6684f750a39e",
   "metadata": {
    "hide-output": false
   },
   "outputs": [],
   "source": [
    "# Although 2014-08-04 is Monday,\n",
    "# it is out of business hours because it starts from 08-03 (Sunday)."
   ]
  },
  {
   "cell_type": "code",
   "execution_count": null,
   "id": "d75c160a-af49-4d14-8457-20b94436a5f9",
   "metadata": {
    "hide-output": false
   },
   "outputs": [],
   "source": [
    "pd.Timestamp(\"2014-08-04 04:00\") + bh"
   ]
  },
  {
   "cell_type": "markdown",
   "id": "5df6dfe5",
   "metadata": {},
   "source": [
    "Applying `BusinessHour.rollforward` and `rollback` to out of business hours results in\n",
    "the next business hour start or previous day’s end. Different from other offsets, `BusinessHour.rollforward`\n",
    "may output different results from `apply` by definition.\n",
    "\n",
    "This is because one day’s business hour end is equal to next day’s business hour start. For example,\n",
    "under the default business hours (9:00 - 17:00), there is no gap (0 minutes) between `2014-08-01 17:00` and\n",
    "`2014-08-04 09:00`."
   ]
  },
  {
   "cell_type": "code",
   "execution_count": null,
   "id": "a01d4ca4",
   "metadata": {
    "hide-output": false
   },
   "outputs": [],
   "source": [
    "# This adjusts a Timestamp to business hour edge\n",
    "pd.offsets.BusinessHour().rollback(pd.Timestamp(\"2014-08-02 15:00\"))\n",
    "pd.offsets.BusinessHour().rollforward(pd.Timestamp(\"2014-08-02 15:00\"))\n",
    "\n",
    "# It is the same as BusinessHour().apply(pd.Timestamp('2014-08-01 17:00')).\n",
    "# And it is the same as BusinessHour().apply(pd.Timestamp('2014-08-04 09:00'))\n",
    "pd.offsets.BusinessHour().apply(pd.Timestamp(\"2014-08-02 15:00\"))\n",
    "\n",
    "# BusinessDay results (for reference)\n",
    "pd.offsets.BusinessHour().rollforward(pd.Timestamp(\"2014-08-02\"))\n",
    "\n",
    "# It is the same as BusinessDay().apply(pd.Timestamp('2014-08-01'))\n",
    "# The result is the same as rollworward because BusinessDay never overlap.\n",
    "pd.offsets.BusinessHour().apply(pd.Timestamp(\"2014-08-02\"))"
   ]
  },
  {
   "cell_type": "markdown",
   "id": "f73bfc5b",
   "metadata": {},
   "source": [
    "`BusinessHour` regards Saturday and Sunday as holidays. To use arbitrary\n",
    "holidays, you can use `CustomBusinessHour` offset, as explained in the\n",
    "following subsection.\n",
    "\n",
    "\n",
    "<a id='timeseries-custombusinesshour'></a>"
   ]
  },
  {
   "cell_type": "markdown",
   "id": "2da29bc9",
   "metadata": {},
   "source": [
    "### Custom business hour\n",
    "\n",
    "The `CustomBusinessHour` is a mixture of `BusinessHour` and `CustomBusinessDay` which\n",
    "allows you to specify arbitrary holidays. `CustomBusinessHour` works as the same\n",
    "as `BusinessHour` except that it skips specified custom holidays."
   ]
  },
  {
   "cell_type": "code",
   "execution_count": null,
   "id": "e2ddcaa0-edbb-426e-8bda-c8ad9323dc35",
   "metadata": {
    "hide-output": false
   },
   "outputs": [],
   "source": [
    "from pandas.tseries.holiday import USFederalHolidayCalendar\n",
    "\n",
    "bhour_us = pd.offsets.CustomBusinessHour(calendar=USFederalHolidayCalendar())\n",
    "# Friday before MLK Day\n",
    "dt = datetime.datetime(2014, 1, 17, 15)"
   ]
  },
  {
   "cell_type": "code",
   "execution_count": null,
   "id": "594f7c24-d5ae-4576-8f1a-84316969b53b",
   "metadata": {
    "hide-output": false
   },
   "outputs": [],
   "source": [
    "dt + bhour_us"
   ]
  },
  {
   "cell_type": "code",
   "execution_count": null,
   "id": "506e3c3a-cb57-4491-9203-cc5a1c6bf822",
   "metadata": {
    "hide-output": false
   },
   "outputs": [],
   "source": [
    "# Tuesday after MLK Day (Monday is skipped because it's a holiday)\n",
    "dt + bhour_us * 2"
   ]
  },
  {
   "cell_type": "markdown",
   "id": "ff1219c9",
   "metadata": {},
   "source": [
    "You can use keyword arguments supported by either `BusinessHour` and `CustomBusinessDay`."
   ]
  },
  {
   "cell_type": "code",
   "execution_count": null,
   "id": "59466dd6",
   "metadata": {
    "hide-output": false
   },
   "outputs": [],
   "source": [
    "bhour_mon = pd.offsets.CustomBusinessHour(start=\"10:00\", weekmask=\"Tue Wed Thu Fri\")\n",
    "\n",
    "# Monday is skipped because it's a holiday, business hour starts from 10:00\n",
    "dt + bhour_mon * 2"
   ]
  },
  {
   "cell_type": "markdown",
   "id": "065b9b5e",
   "metadata": {},
   "source": [
    "\n",
    "<a id='timeseries-offset-aliases'></a>"
   ]
  },
  {
   "cell_type": "markdown",
   "id": "02729d2a",
   "metadata": {},
   "source": [
    "### Offset aliases\n",
    "\n",
    "A number of string aliases are given to useful common time series\n",
    "frequencies. We will refer to these aliases as *offset aliases*.\n",
    "\n",
    "|Alias|Description|\n",
    "|:-------------|:--------------------------------------------------------------------------------------------|\n",
    "|B|business day frequency|\n",
    "|C|custom business day frequency|\n",
    "|D|calendar day frequency|\n",
    "|W|weekly frequency|\n",
    "|M|month end frequency|\n",
    "|SM|semi-month end frequency (15th and end of month)|\n",
    "|BM|business month end frequency|\n",
    "|CBM|custom business month end frequency|\n",
    "|MS|month start frequency|\n",
    "|SMS|semi-month start frequency (1st and 15th)|\n",
    "|BMS|business month start frequency|\n",
    "|CBMS|custom business month start frequency|\n",
    "|Q|quarter end frequency|\n",
    "|BQ|business quarter end frequency|\n",
    "|QS|quarter start frequency|\n",
    "|BQS|business quarter start frequency|\n",
    "|A, Y|year end frequency|\n",
    "|BA, BY|business year end frequency|\n",
    "|AS, YS|year start frequency|\n",
    "|BAS, BYS|business year start frequency|\n",
    "|BH|business hour frequency|\n",
    "|H|hourly frequency|\n",
    "|T, min|minutely frequency|\n",
    "|S|secondly frequency|\n",
    "|L, ms|milliseconds|\n",
    "|U, us|microseconds|\n",
    "|N|nanoseconds|"
   ]
  },
  {
   "cell_type": "markdown",
   "id": "4fb04c71",
   "metadata": {},
   "source": [
    "### Combining aliases\n",
    "\n",
    "As we have seen previously, the alias and the offset instance are fungible in\n",
    "most functions:"
   ]
  },
  {
   "cell_type": "code",
   "execution_count": null,
   "id": "486c3271-498f-40b1-b976-c28dd146a5d7",
   "metadata": {
    "hide-output": false
   },
   "outputs": [],
   "source": [
    "pd.date_range(start, periods=5, freq=\"B\")"
   ]
  },
  {
   "cell_type": "code",
   "execution_count": null,
   "id": "b5ae582b-16ab-431a-83de-5fdceb031720",
   "metadata": {
    "hide-output": false
   },
   "outputs": [],
   "source": [
    "pd.date_range(start, periods=5, freq=pd.offsets.BDay())"
   ]
  },
  {
   "cell_type": "markdown",
   "id": "11a0b453",
   "metadata": {},
   "source": [
    "You can combine together day and intraday offsets:"
   ]
  },
  {
   "cell_type": "code",
   "execution_count": null,
   "id": "3a4439d5-5757-49d6-be44-4ebacec79732",
   "metadata": {
    "hide-output": false
   },
   "outputs": [],
   "source": [
    "pd.date_range(start, periods=10, freq=\"2h20min\")"
   ]
  },
  {
   "cell_type": "code",
   "execution_count": null,
   "id": "16eb4327-b55e-4ebd-8acc-648c506890a2",
   "metadata": {
    "hide-output": false
   },
   "outputs": [],
   "source": [
    "pd.date_range(start, periods=10, freq=\"1D10U\")"
   ]
  },
  {
   "cell_type": "markdown",
   "id": "ba35c091",
   "metadata": {},
   "source": [
    "### Anchored offsets\n",
    "\n",
    "For some frequencies you can specify an anchoring suffix:\n",
    "\n",
    "|Alias|Description|\n",
    "|:-------------|:--------------------------------------------------------------------------------------------------|\n",
    "|W-SUN|weekly frequency (Sundays). Same as ‘W’|\n",
    "|W-MON|weekly frequency (Mondays)|\n",
    "|W-TUE|weekly frequency (Tuesdays)|\n",
    "|W-WED|weekly frequency (Wednesdays)|\n",
    "|W-THU|weekly frequency (Thursdays)|\n",
    "|W-FRI|weekly frequency (Fridays)|\n",
    "|W-SAT|weekly frequency (Saturdays)|\n",
    "|(B)Q(S)-DEC|quarterly frequency, year ends in December. Same as ‘Q’|\n",
    "|(B)Q(S)-JAN|quarterly frequency, year ends in January|\n",
    "|(B)Q(S)-FEB|quarterly frequency, year ends in February|\n",
    "|(B)Q(S)-MAR|quarterly frequency, year ends in March|\n",
    "|(B)Q(S)-APR|quarterly frequency, year ends in April|\n",
    "|(B)Q(S)-MAY|quarterly frequency, year ends in May|\n",
    "|(B)Q(S)-JUN|quarterly frequency, year ends in June|\n",
    "|(B)Q(S)-JUL|quarterly frequency, year ends in July|\n",
    "|(B)Q(S)-AUG|quarterly frequency, year ends in August|\n",
    "|(B)Q(S)-SEP|quarterly frequency, year ends in September|\n",
    "|(B)Q(S)-OCT|quarterly frequency, year ends in October|\n",
    "|(B)Q(S)-NOV|quarterly frequency, year ends in November|\n",
    "|(B)A(S)-DEC|annual frequency, anchored end of December. Same as ‘A’|\n",
    "|(B)A(S)-JAN|annual frequency, anchored end of January|\n",
    "|(B)A(S)-FEB|annual frequency, anchored end of February|\n",
    "|(B)A(S)-MAR|annual frequency, anchored end of March|\n",
    "|(B)A(S)-APR|annual frequency, anchored end of April|\n",
    "|(B)A(S)-MAY|annual frequency, anchored end of May|\n",
    "|(B)A(S)-JUN|annual frequency, anchored end of June|\n",
    "|(B)A(S)-JUL|annual frequency, anchored end of July|\n",
    "|(B)A(S)-AUG|annual frequency, anchored end of August|\n",
    "|(B)A(S)-SEP|annual frequency, anchored end of September|\n",
    "|(B)A(S)-OCT|annual frequency, anchored end of October|\n",
    "|(B)A(S)-NOV|annual frequency, anchored end of November|\n",
    "\n",
    "These can be used as arguments to `date_range`, `bdate_range`, constructors\n",
    "for `DatetimeIndex`, as well as various other timeseries-related functions\n",
    "in pandas."
   ]
  },
  {
   "cell_type": "markdown",
   "id": "95ab9ddb",
   "metadata": {},
   "source": [
    "### Anchored offset semantics\n",
    "\n",
    "For those offsets that are anchored to the start or end of specific\n",
    "frequency (`MonthEnd`, `MonthBegin`, `WeekEnd`, etc), the following\n",
    "rules apply to rolling forward and backwards.\n",
    "\n",
    "When `n` is not 0, if the given date is not on an anchor point, it snapped to the next(previous)\n",
    "anchor point, and moved `|n|-1` additional steps forwards or backwards."
   ]
  },
  {
   "cell_type": "code",
   "execution_count": null,
   "id": "2e03dfe0-4530-4cd3-8281-6efb04096274",
   "metadata": {
    "hide-output": false
   },
   "outputs": [],
   "source": [
    "pd.Timestamp(\"2014-01-02\") + pd.offsets.MonthBegin(n=1)"
   ]
  },
  {
   "cell_type": "code",
   "execution_count": null,
   "id": "2924300b-079c-40a0-8e8d-77743ac232a7",
   "metadata": {
    "hide-output": false
   },
   "outputs": [],
   "source": [
    "pd.Timestamp(\"2014-01-02\") + pd.offsets.MonthEnd(n=1)"
   ]
  },
  {
   "cell_type": "code",
   "execution_count": null,
   "id": "8b0f2c4e-3177-4d98-9d65-ebfa982ed79a",
   "metadata": {
    "hide-output": false
   },
   "outputs": [],
   "source": [
    "pd.Timestamp(\"2014-01-02\") - pd.offsets.MonthBegin(n=1)"
   ]
  },
  {
   "cell_type": "code",
   "execution_count": null,
   "id": "5c1d15c6-52a9-4be3-b945-bc135dba8177",
   "metadata": {
    "hide-output": false
   },
   "outputs": [],
   "source": [
    "pd.Timestamp(\"2014-01-02\") - pd.offsets.MonthEnd(n=1)"
   ]
  },
  {
   "cell_type": "code",
   "execution_count": null,
   "id": "8236de47-0c33-4eb8-b278-5b7b793838d5",
   "metadata": {
    "hide-output": false
   },
   "outputs": [],
   "source": [
    "pd.Timestamp(\"2014-01-02\") + pd.offsets.MonthBegin(n=4)"
   ]
  },
  {
   "cell_type": "code",
   "execution_count": null,
   "id": "0944ea39-cb35-459b-814d-28bfd7c3473d",
   "metadata": {
    "hide-output": false
   },
   "outputs": [],
   "source": [
    "pd.Timestamp(\"2014-01-02\") - pd.offsets.MonthBegin(n=4)"
   ]
  },
  {
   "cell_type": "markdown",
   "id": "3f12e7a5",
   "metadata": {},
   "source": [
    "If the given date *is* on an anchor point, it is moved `|n|` points forwards\n",
    "or backwards."
   ]
  },
  {
   "cell_type": "code",
   "execution_count": null,
   "id": "4db7dcbd-7ce0-4b13-a3ce-87faf7aa81c3",
   "metadata": {
    "hide-output": false
   },
   "outputs": [],
   "source": [
    "pd.Timestamp(\"2014-01-01\") + pd.offsets.MonthBegin(n=1)"
   ]
  },
  {
   "cell_type": "code",
   "execution_count": null,
   "id": "60ab17fa-b06f-4858-9707-d26dd6c32f16",
   "metadata": {
    "hide-output": false
   },
   "outputs": [],
   "source": [
    "pd.Timestamp(\"2014-01-31\") + pd.offsets.MonthEnd(n=1)"
   ]
  },
  {
   "cell_type": "code",
   "execution_count": null,
   "id": "86ec0d34-d49f-4168-9a73-f7c99cfb9a3d",
   "metadata": {
    "hide-output": false
   },
   "outputs": [],
   "source": [
    "pd.Timestamp(\"2014-01-01\") - pd.offsets.MonthBegin(n=1)"
   ]
  },
  {
   "cell_type": "code",
   "execution_count": null,
   "id": "2e937e43-1475-4319-b5ab-d5f27b009b6a",
   "metadata": {
    "hide-output": false
   },
   "outputs": [],
   "source": [
    "pd.Timestamp(\"2014-01-31\") - pd.offsets.MonthEnd(n=1)"
   ]
  },
  {
   "cell_type": "code",
   "execution_count": null,
   "id": "5cd02fe0-9a00-4490-97b0-e6a80006e08e",
   "metadata": {
    "hide-output": false
   },
   "outputs": [],
   "source": [
    "pd.Timestamp(\"2014-01-01\") + pd.offsets.MonthBegin(n=4)"
   ]
  },
  {
   "cell_type": "code",
   "execution_count": null,
   "id": "e75f9476-9287-4dda-986d-6629ac3a0888",
   "metadata": {
    "hide-output": false
   },
   "outputs": [],
   "source": [
    "pd.Timestamp(\"2014-01-31\") - pd.offsets.MonthBegin(n=4)"
   ]
  },
  {
   "cell_type": "markdown",
   "id": "4dbf7982",
   "metadata": {},
   "source": [
    "For the case when `n=0`, the date is not moved if on an anchor point, otherwise\n",
    "it is rolled forward to the next anchor point."
   ]
  },
  {
   "cell_type": "code",
   "execution_count": null,
   "id": "511f3dbb-8965-4426-a65a-0b38ea2686fe",
   "metadata": {
    "hide-output": false
   },
   "outputs": [],
   "source": [
    "pd.Timestamp(\"2014-01-02\") + pd.offsets.MonthBegin(n=0)"
   ]
  },
  {
   "cell_type": "code",
   "execution_count": null,
   "id": "65e0abc4-ddfb-4fef-ad5a-17f411f12de8",
   "metadata": {
    "hide-output": false
   },
   "outputs": [],
   "source": [
    "pd.Timestamp(\"2014-01-02\") + pd.offsets.MonthEnd(n=0)\n",
    "\n",
    "pd.Timestamp(\"2014-01-01\") + pd.offsets.MonthBegin(n=0)"
   ]
  },
  {
   "cell_type": "code",
   "execution_count": null,
   "id": "9f6ea132-ec82-42fc-aef5-6b0031fb5ec1",
   "metadata": {
    "hide-output": false
   },
   "outputs": [],
   "source": [
    "pd.Timestamp(\"2014-01-31\") + pd.offsets.MonthEnd(n=0)"
   ]
  },
  {
   "cell_type": "markdown",
   "id": "4c32b8a4",
   "metadata": {},
   "source": [
    "\n",
    "<a id='timeseries-holiday'></a>"
   ]
  },
  {
   "cell_type": "markdown",
   "id": "c4e86cd1",
   "metadata": {},
   "source": [
    "### Holidays / holiday calendars\n",
    "\n",
    "Holidays and calendars provide a simple way to define holiday rules to be used\n",
    "with `CustomBusinessDay` or in other analysis that requires a predefined\n",
    "set of holidays.  The `AbstractHolidayCalendar` class provides all the necessary\n",
    "methods to return a list of holidays and only `rules` need to be defined\n",
    "in a specific holiday calendar class. Furthermore, the `start_date` and `end_date`\n",
    "class attributes determine over what date range holidays are generated.  These\n",
    "should be overwritten on the `AbstractHolidayCalendar` class to have the range\n",
    "apply to all calendar subclasses.  `USFederalHolidayCalendar` is the\n",
    "only calendar that exists and primarily serves as an example for developing\n",
    "other calendars.\n",
    "\n",
    "For holidays that occur on fixed dates (e.g., US Memorial Day or July 4th) an\n",
    "observance rule determines when that holiday is observed if it falls on a weekend\n",
    "or some other non-observed day.  Defined observance rules are:\n",
    "\n",
    "|Rule|Description|\n",
    "|:-------------|:--------------------------------------------------------------------|\n",
    "|nearest_workday|move Saturday to Friday and Sunday to Monday|\n",
    "|sunday_to_monday|move Sunday to following Monday|\n",
    "|next_monday_or_tuesday|move Saturday to Monday and Sunday/Monday to Tuesday|\n",
    "|previous_friday|move Saturday and Sunday to previous Friday”|\n",
    "|next_monday|move Saturday and Sunday to following Monday|\n",
    "\n",
    "An example of how holidays and holiday calendars are defined:"
   ]
  },
  {
   "cell_type": "code",
   "execution_count": null,
   "id": "2666741f",
   "metadata": {
    "hide-output": false
   },
   "outputs": [],
   "source": [
    "from pandas.tseries.holiday import (\n",
    "    Holiday,\n",
    "    USMemorialDay,\n",
    "    AbstractHolidayCalendar,\n",
    "    nearest_workday,\n",
    "    MO,\n",
    ")\n",
    "\n",
    "class ExampleCalendar(AbstractHolidayCalendar):\n",
    "    rules = [\n",
    "        USMemorialDay,\n",
    "        Holiday(\"July 4th\", month=7, day=4, observance=nearest_workday),\n",
    "        Holiday(\n",
    "            \"Columbus Day\",\n",
    "            month=10,\n",
    "            day=1,\n",
    "            offset=pd.DateOffset(weekday=MO(2)),\n",
    "        ),\n",
    "    ]\n",
    "\n",
    "cal = ExampleCalendar()\n",
    "cal.holidays(datetime.datetime(2012, 1, 1), datetime.datetime(2012, 12, 31))"
   ]
  },
  {
   "cell_type": "markdown",
   "id": "3529a3c9",
   "metadata": {},
   "source": [
    ">***hint***\n",
    ">\n",
    ">``` Python\n",
    "    weekday=MO(2)\n",
    ">    \n",
    ">```\n",
    ">is the same as\n",
    ">``` Python\n",
    "    2 * Week(weekday=2)\n",
    ">    \n",
    ">```\n",
    "\n",
    "Using this calendar, creating an index or doing offset arithmetic skips weekends\n",
    "and holidays (i.e., Memorial Day/July 4th).  For example, the below defines\n",
    "a custom business day offset using the `ExampleCalendar`.  Like any other offset,\n",
    "it can be used to create a `DatetimeIndex` or added to `datetime`\n",
    "or `Timestamp` objects."
   ]
  },
  {
   "cell_type": "code",
   "execution_count": null,
   "id": "8ce731a5-f42b-454c-a3ee-eb0e32d15709",
   "metadata": {
    "hide-output": false
   },
   "outputs": [],
   "source": [
    "pd.date_range(\n",
    "    start=\"7/1/2012\", end=\"7/10/2012\", freq=pd.offsets.CDay(calendar=cal)\n",
    ").to_pydatetime()\n",
    "offset = pd.offsets.CustomBusinessDay(calendar=cal)\n",
    "datetime.datetime(2012, 5, 25) + offset"
   ]
  },
  {
   "cell_type": "code",
   "execution_count": null,
   "id": "fe1626e4-294e-44c3-9f34-b6346f29b04d",
   "metadata": {
    "hide-output": false
   },
   "outputs": [],
   "source": [
    "datetime.datetime(2012, 7, 3) + offset"
   ]
  },
  {
   "cell_type": "code",
   "execution_count": null,
   "id": "fb795c52-81d5-43c4-964c-46bb88ec3738",
   "metadata": {
    "hide-output": false
   },
   "outputs": [],
   "source": [
    "datetime.datetime(2012, 7, 3) + 2 * offset"
   ]
  },
  {
   "cell_type": "code",
   "execution_count": null,
   "id": "77c935fa-ac47-48d2-acef-502a3544c7eb",
   "metadata": {
    "hide-output": false
   },
   "outputs": [],
   "source": [
    "datetime.datetime(2012, 7, 6) + offset"
   ]
  },
  {
   "cell_type": "markdown",
   "id": "7b8f9337",
   "metadata": {},
   "source": [
    "Ranges are defined by the `start_date` and `end_date` class attributes\n",
    "of `AbstractHolidayCalendar`.  The defaults are shown below."
   ]
  },
  {
   "cell_type": "code",
   "execution_count": null,
   "id": "50362d8f-9a25-4fa4-bfd6-ca1b7ecb00a0",
   "metadata": {
    "hide-output": false
   },
   "outputs": [],
   "source": [
    "AbstractHolidayCalendar.start_date"
   ]
  },
  {
   "cell_type": "code",
   "execution_count": null,
   "id": "039c096f-7feb-43ea-9a64-2af523132eb7",
   "metadata": {
    "hide-output": false
   },
   "outputs": [],
   "source": [
    "AbstractHolidayCalendar.end_date"
   ]
  },
  {
   "cell_type": "markdown",
   "id": "028dd18c",
   "metadata": {},
   "source": [
    "These dates can be overwritten by setting the attributes as\n",
    "datetime/Timestamp/string."
   ]
  },
  {
   "cell_type": "code",
   "execution_count": null,
   "id": "58c39428-07d9-471e-a66a-fa386f5fabe0",
   "metadata": {
    "hide-output": false
   },
   "outputs": [],
   "source": [
    "AbstractHolidayCalendar.start_date = datetime.datetime(2012, 1, 1)"
   ]
  },
  {
   "cell_type": "code",
   "execution_count": null,
   "id": "200dd4e7-c645-4463-9e12-087e58c07470",
   "metadata": {
    "hide-output": false
   },
   "outputs": [],
   "source": [
    "AbstractHolidayCalendar.end_date = datetime.datetime(2012, 12, 31)"
   ]
  },
  {
   "cell_type": "code",
   "execution_count": null,
   "id": "601587f3-8e2c-41ac-8f08-f0b6c62f08e4",
   "metadata": {
    "hide-output": false
   },
   "outputs": [],
   "source": [
    "cal.holidays()"
   ]
  },
  {
   "cell_type": "markdown",
   "id": "e09c93e4",
   "metadata": {},
   "source": [
    "Every calendar class is accessible by name using the `get_calendar` function\n",
    "which returns a holiday class instance.  Any imported calendar class will\n",
    "automatically be available by this function.  Also, `HolidayCalendarFactory`\n",
    "provides an easy interface to create calendars that are combinations of calendars\n",
    "or calendars with additional rules."
   ]
  },
  {
   "cell_type": "code",
   "execution_count": null,
   "id": "f3ace794-98fd-4424-9264-405b2acb9329",
   "metadata": {
    "hide-output": false
   },
   "outputs": [],
   "source": [
    "from pandas.tseries.holiday import get_calendar, HolidayCalendarFactory, USLaborDay\n",
    "\n",
    "cal = get_calendar(\"ExampleCalendar\")\n",
    "cal.rules"
   ]
  },
  {
   "cell_type": "code",
   "execution_count": null,
   "id": "afe1477a-76b9-4bf9-a9d9-539ced05bc8e",
   "metadata": {
    "hide-output": false
   },
   "outputs": [],
   "source": [
    "new_cal = HolidayCalendarFactory(\"NewExampleCalendar\", cal, USLaborDay)\n",
    "new_cal.rules"
   ]
  },
  {
   "cell_type": "markdown",
   "id": "5cae2a93",
   "metadata": {},
   "source": [
    "\n",
    "<a id='timeseries-advanced-datetime'></a>"
   ]
  },
  {
   "cell_type": "markdown",
   "id": "eb6dff05",
   "metadata": {},
   "source": [
    "## Time series-related instance methods"
   ]
  },
  {
   "cell_type": "markdown",
   "id": "665d23cb",
   "metadata": {},
   "source": [
    "### Shifting / lagging\n",
    "\n",
    "One may want to *shift* or *lag* the values in a time series back and forward in\n",
    "time. The method for this is `shift()`, which is available on all of\n",
    "the pandas objects."
   ]
  },
  {
   "cell_type": "code",
   "execution_count": null,
   "id": "4bba88c6",
   "metadata": {
    "hide-output": false
   },
   "outputs": [],
   "source": [
    "ts = pd.Series(range(len(rng)), index=rng)\n",
    "ts = ts[:5]\n",
    "ts.shift(1)"
   ]
  },
  {
   "cell_type": "markdown",
   "id": "14d5d205",
   "metadata": {},
   "source": [
    "The `shift` method accepts an `freq` argument which can accept a\n",
    "`DateOffset` class or other `timedelta`-like object or also an\n",
    "[offset alias](#timeseries-offset-aliases).\n",
    "\n",
    "When `freq` is specified, `shift` method changes all the dates in the index\n",
    "rather than changing the alignment of the data and the index:"
   ]
  },
  {
   "cell_type": "code",
   "execution_count": null,
   "id": "be0bcf38-cc16-4289-a20b-c618d7231e1f",
   "metadata": {
    "hide-output": false
   },
   "outputs": [],
   "source": [
    "ts.shift(5, freq=\"D\")"
   ]
  },
  {
   "cell_type": "code",
   "execution_count": null,
   "id": "fe90fd65-b7af-4f06-b6b8-5149a7d89809",
   "metadata": {
    "hide-output": false
   },
   "outputs": [],
   "source": [
    "ts.shift(5, freq=pd.offsets.BDay())"
   ]
  },
  {
   "cell_type": "code",
   "execution_count": null,
   "id": "0ef38308-b96f-4b6b-8ca6-8e4e3f5840f7",
   "metadata": {
    "hide-output": false
   },
   "outputs": [],
   "source": [
    "ts.shift(5, freq=\"BM\")"
   ]
  },
  {
   "cell_type": "markdown",
   "id": "4a2bc858",
   "metadata": {},
   "source": [
    "Note that with when `freq` is specified, the leading entry is no longer NaN\n",
    "because the data is not being realigned."
   ]
  },
  {
   "cell_type": "markdown",
   "id": "9c8d63af",
   "metadata": {},
   "source": [
    "### Frequency conversion\n",
    "\n",
    "The primary function for changing frequencies is the `asfreq()`\n",
    "method. For a `DatetimeIndex`, this is basically just a thin, but convenient\n",
    "wrapper around `reindex()`  which generates a `date_range` and\n",
    "calls `reindex`."
   ]
  },
  {
   "cell_type": "code",
   "execution_count": null,
   "id": "f5ad4a34-ef12-4a55-970d-609bbef9e511",
   "metadata": {
    "hide-output": false
   },
   "outputs": [],
   "source": [
    "dr = pd.date_range(\"1/1/2010\", periods=3, freq=3 * pd.offsets.BDay())\n",
    "ts = pd.Series(np.random.randn(3), index=dr)\n",
    "ts"
   ]
  },
  {
   "cell_type": "code",
   "execution_count": null,
   "id": "8ebaab70-7d1c-4de9-91c1-620fbd235263",
   "metadata": {
    "hide-output": false
   },
   "outputs": [],
   "source": [
    "ts.asfreq(pd.offsets.BDay())"
   ]
  },
  {
   "cell_type": "markdown",
   "id": "75e1937c",
   "metadata": {},
   "source": [
    "`asfreq` provides a further convenience so you can specify an interpolation\n",
    "method for any gaps that may appear after the frequency conversion."
   ]
  },
  {
   "cell_type": "code",
   "execution_count": null,
   "id": "267a8578",
   "metadata": {
    "hide-output": false
   },
   "outputs": [],
   "source": [
    "ts.asfreq(pd.offsets.BDay(), method=\"pad\")"
   ]
  },
  {
   "cell_type": "markdown",
   "id": "f27945e2",
   "metadata": {},
   "source": [
    "### Filling forward / backward\n",
    "\n",
    "Related to `asfreq` and `reindex` is `fillna()`, which is\n",
    "documented in the missing data section."
   ]
  },
  {
   "cell_type": "markdown",
   "id": "257dfb70",
   "metadata": {},
   "source": [
    "### Converting to Python datetimes\n",
    "\n",
    "`DatetimeIndex` can be converted to an array of Python native\n",
    "`datetime.datetime` objects using the `to_pydatetime` method.\n",
    "\n",
    "\n",
    "<a id='timeseries-resampling'></a>"
   ]
  },
  {
   "cell_type": "markdown",
   "id": "d530118f",
   "metadata": {},
   "source": [
    "## Resampling\n",
    "\n",
    "pandas has a simple, powerful, and efficient functionality for performing\n",
    "resampling operations during frequency conversion (e.g., converting secondly\n",
    "data into 5-minutely data). This is extremely common in, but not limited to,\n",
    "financial applications.\n",
    "\n",
    "`resample()` is a time-based groupby, followed by a reduction method\n",
    "on each of its groups. See some [cookbook examples](44_cookbook.ipynb#cookbook-resample) for\n",
    "some advanced strategies.\n",
    "\n",
    "The `resample()` method can be used directly from `DataFrameGroupBy` objects,\n",
    "see the [groupby docs](36_groupby.ipynb#groupby-transform-window-resample)."
   ]
  },
  {
   "cell_type": "markdown",
   "id": "284110dd",
   "metadata": {},
   "source": [
    "### Basics"
   ]
  },
  {
   "cell_type": "code",
   "execution_count": null,
   "id": "acab734d",
   "metadata": {
    "hide-output": false
   },
   "outputs": [],
   "source": [
    "rng = pd.date_range(\"1/1/2012\", periods=100, freq=\"S\")\n",
    "ts = pd.Series(np.random.randint(0, 500, len(rng)), index=rng)\n",
    "ts.resample(\"5Min\").sum()"
   ]
  },
  {
   "cell_type": "markdown",
   "id": "79b2cce8",
   "metadata": {},
   "source": [
    "The `resample` function is very flexible and allows you to specify many\n",
    "different parameters to control the frequency conversion and resampling\n",
    "operation.\n",
    "\n",
    "Any function available via [dispatching](36_groupby.ipynb#groupby-dispatch) is available as\n",
    "a method of the returned object, including `sum`, `mean`, `std`, `sem`,\n",
    "`max`, `min`, `median`, `first`, `last`, `ohlc`:"
   ]
  },
  {
   "cell_type": "code",
   "execution_count": null,
   "id": "f4f6c6da-f4fb-4e3b-b7c3-6ffa21205532",
   "metadata": {
    "hide-output": false
   },
   "outputs": [],
   "source": [
    "ts.resample(\"5Min\").mean()"
   ]
  },
  {
   "cell_type": "code",
   "execution_count": null,
   "id": "ba053b56-2f75-4200-a00c-3771dbe726f2",
   "metadata": {
    "hide-output": false
   },
   "outputs": [],
   "source": [
    "ts.resample(\"5Min\").ohlc()"
   ]
  },
  {
   "cell_type": "code",
   "execution_count": null,
   "id": "8a462112-e24c-4661-b0d8-9c0eab11e980",
   "metadata": {
    "hide-output": false
   },
   "outputs": [],
   "source": [
    "ts.resample(\"5Min\").max()"
   ]
  },
  {
   "cell_type": "markdown",
   "id": "84ccbe70",
   "metadata": {},
   "source": [
    "For downsampling, `closed` can be set to ‘left’ or ‘right’ to specify which\n",
    "end of the interval is closed:"
   ]
  },
  {
   "cell_type": "code",
   "execution_count": null,
   "id": "73f6385a-5e38-401f-8e57-80720e59e409",
   "metadata": {
    "hide-output": false
   },
   "outputs": [],
   "source": [
    "ts.resample(\"5Min\", closed=\"right\").mean()"
   ]
  },
  {
   "cell_type": "code",
   "execution_count": null,
   "id": "2890d093-3c7b-4b63-a2c3-4b786cefe3e4",
   "metadata": {
    "hide-output": false
   },
   "outputs": [],
   "source": [
    "ts.resample(\"5Min\", closed=\"left\").mean()"
   ]
  },
  {
   "cell_type": "markdown",
   "id": "8e287821",
   "metadata": {},
   "source": [
    "Parameters like `label` are used to manipulate the resulting labels.\n",
    "`label` specifies whether the result is labeled with the beginning or\n",
    "the end of the interval."
   ]
  },
  {
   "cell_type": "code",
   "execution_count": null,
   "id": "372bac91-5263-4525-a04e-8573e3ce66a9",
   "metadata": {
    "hide-output": false
   },
   "outputs": [],
   "source": [
    "ts.resample(\"5Min\").mean()  # by default label='left'"
   ]
  },
  {
   "cell_type": "code",
   "execution_count": null,
   "id": "3fb2e118-0345-4a70-aff5-cac2c09d0697",
   "metadata": {
    "hide-output": false
   },
   "outputs": [],
   "source": [
    "ts.resample(\"5Min\", label=\"left\").mean()"
   ]
  },
  {
   "cell_type": "markdown",
   "id": "b74def2c",
   "metadata": {},
   "source": [
    "The default values for `label` and `closed` is ‘**left**’ for all\n",
    "frequency offsets except for ‘M’, ‘A’, ‘Q’, ‘BM’, ‘BA’, ‘BQ’, and ‘W’\n",
    "which all have a default of ‘right’.\n",
    "\n",
    "This might unintendedly lead to looking ahead, where the value for a later\n",
    "time is pulled back to a previous time as in the following example with\n",
    "the `BusinessDay` frequency:"
   ]
  },
  {
   "cell_type": "code",
   "execution_count": null,
   "id": "77e799ec-b544-40c0-b647-3c2be2b7c325",
   "metadata": {
    "hide-output": false
   },
   "outputs": [],
   "source": [
    "s = pd.date_range(\"2000-01-01\", \"2000-01-05\").to_series()\n",
    "s.iloc[2] = pd.NaT\n",
    "s.dt.day_name()"
   ]
  },
  {
   "cell_type": "code",
   "execution_count": null,
   "id": "3ca5f4f7-965a-406f-af23-698416814a39",
   "metadata": {
    "hide-output": false
   },
   "outputs": [],
   "source": [
    "# default: label='left', closed='left'\n",
    "s.resample(\"B\").last().dt.day_name()"
   ]
  },
  {
   "cell_type": "markdown",
   "id": "a399032c",
   "metadata": {},
   "source": [
    "Notice how the value for Sunday got pulled back to the previous Friday.\n",
    "To get the behavior where the value for Sunday is pushed to Monday, use\n",
    "instead"
   ]
  },
  {
   "cell_type": "code",
   "execution_count": null,
   "id": "1a17b2d0",
   "metadata": {
    "hide-output": false
   },
   "outputs": [],
   "source": [
    "s.resample(\"B\", label=\"right\", closed=\"right\").last().dt.day_name()"
   ]
  },
  {
   "cell_type": "markdown",
   "id": "d51f24d8",
   "metadata": {},
   "source": [
    "The `axis` parameter can be set to 0 or 1 and allows you to resample the\n",
    "specified axis for a `DataFrame`.\n",
    "\n",
    "`kind` can be set to ‘timestamp’ or ‘period’ to convert the resulting index\n",
    "to/from timestamp and time span representations. By default `resample`\n",
    "retains the input representation.\n",
    "\n",
    "`convention` can be set to ‘start’ or ‘end’ when resampling period data\n",
    "(detail below). It specifies how low frequency periods are converted to higher\n",
    "frequency periods."
   ]
  },
  {
   "cell_type": "markdown",
   "id": "c59f9172",
   "metadata": {},
   "source": [
    "### Upsampling\n",
    "\n",
    "For upsampling, you can specify a way to upsample and the `limit` parameter to interpolate over the gaps that are created:"
   ]
  },
  {
   "cell_type": "code",
   "execution_count": null,
   "id": "b65ce335-87c6-47d6-a132-f8b364ef2251",
   "metadata": {
    "hide-output": false
   },
   "outputs": [],
   "source": [
    "# from secondly to every 250 milliseconds\n",
    "\n",
    "ts[:2].resample(\"250L\").asfreq()"
   ]
  },
  {
   "cell_type": "code",
   "execution_count": null,
   "id": "14f0547c-80ca-47b1-9855-ff6ad140b589",
   "metadata": {
    "hide-output": false
   },
   "outputs": [],
   "source": [
    "ts[:2].resample(\"250L\").ffill()"
   ]
  },
  {
   "cell_type": "code",
   "execution_count": null,
   "id": "658af6b9-e16e-45b9-b0b9-5058f288d796",
   "metadata": {
    "hide-output": false
   },
   "outputs": [],
   "source": [
    "ts[:2].resample(\"250L\").ffill(limit=2)"
   ]
  },
  {
   "cell_type": "markdown",
   "id": "82635882",
   "metadata": {},
   "source": [
    "### Sparse resampling\n",
    "\n",
    "Sparse timeseries are the ones where you have a lot fewer points relative\n",
    "to the amount of time you are looking to resample. Naively upsampling a sparse\n",
    "series can potentially generate lots of intermediate values. When you don’t want\n",
    "to use a method to fill these values, e.g. `fill_method` is `None`, then\n",
    "intermediate values will be filled with `NaN`.\n",
    "\n",
    "Since `resample` is a time-based groupby, the following is a method to efficiently\n",
    "resample only the groups that are not all `NaN`."
   ]
  },
  {
   "cell_type": "code",
   "execution_count": null,
   "id": "fa4e203f",
   "metadata": {
    "hide-output": false
   },
   "outputs": [],
   "source": [
    "rng = pd.date_range(\"2014-1-1\", periods=100, freq=\"D\") + pd.Timedelta(\"1s\")\n",
    "ts = pd.Series(range(100), index=rng)"
   ]
  },
  {
   "cell_type": "markdown",
   "id": "dd89e7ff",
   "metadata": {},
   "source": [
    "If we want to resample to the full range of the series:"
   ]
  },
  {
   "cell_type": "code",
   "execution_count": null,
   "id": "1c1efd32",
   "metadata": {
    "hide-output": false
   },
   "outputs": [],
   "source": [
    "ts.resample(\"3T\").sum()"
   ]
  },
  {
   "cell_type": "markdown",
   "id": "05f0ad82",
   "metadata": {},
   "source": [
    "We can instead only resample those groups where we have points as follows:"
   ]
  },
  {
   "cell_type": "code",
   "execution_count": null,
   "id": "45a9d440",
   "metadata": {
    "hide-output": false
   },
   "outputs": [],
   "source": [
    "from functools import partial\n",
    "from pandas.tseries.frequencies import to_offset\n",
    "\n",
    "def round(t, freq):\n",
    "    # round a Timestamp to a specified freq\n",
    "    freq = to_offset(freq)\n",
    "    return pd.Timestamp((t.value // freq.delta.value) * freq.delta.value)\n",
    "\n",
    "ts.groupby(partial(round, freq=\"3T\")).sum()"
   ]
  },
  {
   "cell_type": "markdown",
   "id": "db99a616",
   "metadata": {},
   "source": [
    "\n",
    "<a id='timeseries-aggregate'></a>"
   ]
  },
  {
   "cell_type": "markdown",
   "id": "bca44a72",
   "metadata": {},
   "source": [
    "### Aggregation\n",
    "\n",
    "Similar to the aggregating API, [groupby API](36_groupby.ipynb#groupby-aggregate), and the [window API](37_window.ipynb#window-overview),\n",
    "a `Resampler` can be selectively resampled.\n",
    "\n",
    "Resampling a `DataFrame`, the default will be to act on all columns with the same function."
   ]
  },
  {
   "cell_type": "code",
   "execution_count": null,
   "id": "a5d1b301",
   "metadata": {
    "hide-output": false
   },
   "outputs": [],
   "source": [
    "df = pd.DataFrame(\n",
    "    np.random.randn(1000, 3),\n",
    "    index=pd.date_range(\"1/1/2012\", freq=\"S\", periods=1000),\n",
    "    columns=[\"A\", \"B\", \"C\"],\n",
    ")\n",
    "r = df.resample(\"3T\")\n",
    "r.mean()"
   ]
  },
  {
   "cell_type": "markdown",
   "id": "86826bf3",
   "metadata": {},
   "source": [
    "We can select a specific column or columns using standard getitem."
   ]
  },
  {
   "cell_type": "code",
   "execution_count": null,
   "id": "fba4f12c-9913-4dff-8abd-29dc5aa29386",
   "metadata": {
    "hide-output": false
   },
   "outputs": [],
   "source": [
    "r[\"A\"].mean()"
   ]
  },
  {
   "cell_type": "code",
   "execution_count": null,
   "id": "af6f8802-4d47-4aec-9e54-dac7d699ecfd",
   "metadata": {
    "hide-output": false
   },
   "outputs": [],
   "source": [
    "r[[\"A\", \"B\"]].mean()"
   ]
  },
  {
   "cell_type": "markdown",
   "id": "4ab61143",
   "metadata": {},
   "source": [
    "You can pass a list or dict of functions to do aggregation with, outputting a `DataFrame`:"
   ]
  },
  {
   "cell_type": "code",
   "execution_count": null,
   "id": "fcfd600a",
   "metadata": {
    "hide-output": false
   },
   "outputs": [],
   "source": [
    "r[\"A\"].agg([np.sum, np.mean, np.std])"
   ]
  },
  {
   "cell_type": "markdown",
   "id": "74a810e6",
   "metadata": {},
   "source": [
    "On a resampled `DataFrame`, you can pass a list of functions to apply to each\n",
    "column, which produces an aggregated result with a hierarchical index:"
   ]
  },
  {
   "cell_type": "code",
   "execution_count": null,
   "id": "b87998f0",
   "metadata": {
    "hide-output": false
   },
   "outputs": [],
   "source": [
    "r.agg([np.sum, np.mean])"
   ]
  },
  {
   "cell_type": "markdown",
   "id": "fe8a6013",
   "metadata": {},
   "source": [
    "By passing a dict to `aggregate` you can apply a different aggregation to the\n",
    "columns of a `DataFrame`:"
   ]
  },
  {
   "cell_type": "code",
   "execution_count": null,
   "id": "825d08bf",
   "metadata": {
    "hide-output": false
   },
   "outputs": [],
   "source": [
    "r.agg({\"A\": np.sum, \"B\": lambda x: np.std(x, ddof=1)})"
   ]
  },
  {
   "cell_type": "markdown",
   "id": "ebca1fe9",
   "metadata": {},
   "source": [
    "The function names can also be strings. In order for a string to be valid it\n",
    "must be implemented on the resampled object:"
   ]
  },
  {
   "cell_type": "code",
   "execution_count": null,
   "id": "9e2bda31",
   "metadata": {
    "hide-output": false
   },
   "outputs": [],
   "source": [
    "r.agg({\"A\": \"sum\", \"B\": \"std\"})"
   ]
  },
  {
   "cell_type": "markdown",
   "id": "eaadc974",
   "metadata": {},
   "source": [
    "Furthermore, you can also specify multiple aggregation functions for each column separately."
   ]
  },
  {
   "cell_type": "code",
   "execution_count": null,
   "id": "fc60bcf3",
   "metadata": {
    "hide-output": false
   },
   "outputs": [],
   "source": [
    "r.agg({\"A\": [\"sum\", \"std\"], \"B\": [\"mean\", \"std\"]})"
   ]
  },
  {
   "cell_type": "markdown",
   "id": "d5b492b2",
   "metadata": {},
   "source": [
    "If a `DataFrame` does not have a datetimelike index, but instead you want\n",
    "to resample based on datetimelike column in the frame, it can passed to the\n",
    "`on` keyword."
   ]
  },
  {
   "cell_type": "code",
   "execution_count": null,
   "id": "306dcc89-fa39-46da-87a4-1fafe2397e0c",
   "metadata": {
    "hide-output": false
   },
   "outputs": [],
   "source": [
    "df = pd.DataFrame(\n",
    "    {\"date\": pd.date_range(\"2015-01-01\", freq=\"W\", periods=5), \"a\": np.arange(5)},\n",
    "    index=pd.MultiIndex.from_arrays(\n",
    "        [[1, 2, 3, 4, 5], pd.date_range(\"2015-01-01\", freq=\"W\", periods=5)],\n",
    "        names=[\"v\", \"d\"],\n",
    "    ),\n",
    ")\n",
    "df"
   ]
  },
  {
   "cell_type": "code",
   "execution_count": null,
   "id": "8ddbe6e4-f122-46b0-bff0-d9ea5d4a4dd3",
   "metadata": {
    "hide-output": false
   },
   "outputs": [],
   "source": [
    "df.resample(\"M\", on=\"date\").sum()"
   ]
  },
  {
   "cell_type": "markdown",
   "id": "7f9ec71f",
   "metadata": {},
   "source": [
    "Similarly, if you instead want to resample by a datetimelike\n",
    "level of `MultiIndex`, its name or location can be passed to the\n",
    "`level` keyword."
   ]
  },
  {
   "cell_type": "code",
   "execution_count": null,
   "id": "4e8be919",
   "metadata": {
    "hide-output": false
   },
   "outputs": [],
   "source": [
    "df.resample(\"M\", level=\"d\").sum()"
   ]
  },
  {
   "cell_type": "markdown",
   "id": "bc8bef38",
   "metadata": {},
   "source": [
    "\n",
    "<a id='timeseries-iterating-label'></a>"
   ]
  },
  {
   "cell_type": "markdown",
   "id": "cc759f8c",
   "metadata": {},
   "source": [
    "### Iterating through groups\n",
    "\n",
    "With the `Resampler` object in hand, iterating through the grouped data is very\n",
    "natural and functions similarly to `itertools.groupby()`:"
   ]
  },
  {
   "cell_type": "code",
   "execution_count": null,
   "id": "cad4ab47",
   "metadata": {
    "hide-output": false
   },
   "outputs": [],
   "source": [
    "small = pd.Series(\n",
    "    range(6),\n",
    "    index=pd.to_datetime(\n",
    "        [\n",
    "            \"2017-01-01T00:00:00\",\n",
    "            \"2017-01-01T00:30:00\",\n",
    "            \"2017-01-01T00:31:00\",\n",
    "            \"2017-01-01T01:00:00\",\n",
    "            \"2017-01-01T03:00:00\",\n",
    "            \"2017-01-01T03:05:00\",\n",
    "        ]\n",
    "    ),\n",
    ")\n",
    "resampled = small.resample(\"H\")\n",
    "\n",
    "for name, group in resampled:\n",
    "    print(\"Group: \", name)\n",
    "    print(\"-\" * 27)\n",
    "    print(group, end=\"\\n\\n\")"
   ]
  },
  {
   "cell_type": "markdown",
   "id": "3bf19776",
   "metadata": {},
   "source": [
    "See [Iterating through groups](36_groupby.ipynb#groupby-iterating-label) or `Resampler.__iter__` for more.\n",
    "\n",
    "\n",
    "<a id='timeseries-adjust-the-start-of-the-bins'></a>"
   ]
  },
  {
   "cell_type": "markdown",
   "id": "1958363c",
   "metadata": {},
   "source": [
    "### Use `origin` or `offset` to adjust the start of the bins\n",
    "\n",
    "New in version 1.1.0.\n",
    "\n",
    "The bins of the grouping are adjusted based on the beginning of the day of the time series starting point. This works well with frequencies that are multiples of a day (like `30D`) or that divide a day evenly (like `90s` or `1min`). This can create inconsistencies with some frequencies that do not meet this criteria. To change this behavior you can specify a fixed Timestamp with the argument `origin`.\n",
    "\n",
    "For example:"
   ]
  },
  {
   "cell_type": "code",
   "execution_count": null,
   "id": "a1113507",
   "metadata": {
    "hide-output": false
   },
   "outputs": [],
   "source": [
    "start, end = \"2000-10-01 23:30:00\", \"2000-10-02 00:30:00\"\n",
    "middle = \"2000-10-02 00:00:00\"\n",
    "rng = pd.date_range(start, end, freq=\"7min\")\n",
    "ts = pd.Series(np.arange(len(rng)) * 3, index=rng)\n",
    "ts"
   ]
  },
  {
   "cell_type": "markdown",
   "id": "0ac5eeff",
   "metadata": {},
   "source": [
    "Here we can see that, when using `origin` with its default value (`'start_day'`), the result after `'2000-10-02 00:00:00'` are not identical depending on the start of time series:"
   ]
  },
  {
   "cell_type": "code",
   "execution_count": null,
   "id": "0019ee64-f2f9-4486-a590-7a4d104346ce",
   "metadata": {
    "hide-output": false
   },
   "outputs": [],
   "source": [
    "ts.resample(\"17min\", origin=\"start_day\").sum()"
   ]
  },
  {
   "cell_type": "code",
   "execution_count": null,
   "id": "5168510b-6ac1-42a0-b50e-b3b3ec55f2a0",
   "metadata": {
    "hide-output": false
   },
   "outputs": [],
   "source": [
    "ts[middle:end].resample(\"17min\", origin=\"start_day\").sum()"
   ]
  },
  {
   "cell_type": "markdown",
   "id": "1a5e1399",
   "metadata": {},
   "source": [
    "Here we can see that, when setting `origin` to `'epoch'`, the result after `'2000-10-02 00:00:00'` are identical depending on the start of time series:"
   ]
  },
  {
   "cell_type": "code",
   "execution_count": null,
   "id": "c3880f5a-72c7-4c4f-9f5f-2bfde8395aa3",
   "metadata": {
    "hide-output": false
   },
   "outputs": [],
   "source": [
    "ts.resample(\"17min\", origin=\"epoch\").sum()"
   ]
  },
  {
   "cell_type": "code",
   "execution_count": null,
   "id": "5ea0a391-20d3-4671-a0c2-22213bef539a",
   "metadata": {
    "hide-output": false
   },
   "outputs": [],
   "source": [
    "ts[middle:end].resample(\"17min\", origin=\"epoch\").sum()"
   ]
  },
  {
   "cell_type": "markdown",
   "id": "027b03f7",
   "metadata": {},
   "source": [
    "If needed you can use a custom timestamp for `origin`:"
   ]
  },
  {
   "cell_type": "code",
   "execution_count": null,
   "id": "426a55de-1855-45f1-96cd-0283a2bbc811",
   "metadata": {
    "hide-output": false
   },
   "outputs": [],
   "source": [
    "ts.resample(\"17min\", origin=\"2001-01-01\").sum()"
   ]
  },
  {
   "cell_type": "code",
   "execution_count": null,
   "id": "a3d8e76e-d889-47cc-ba93-ab9999065cda",
   "metadata": {
    "hide-output": false
   },
   "outputs": [],
   "source": [
    "ts[middle:end].resample(\"17min\", origin=pd.Timestamp(\"2001-01-01\")).sum()"
   ]
  },
  {
   "cell_type": "markdown",
   "id": "1355b91b",
   "metadata": {},
   "source": [
    "If needed you can just adjust the bins with an `offset` Timedelta that would be added to the default `origin`.\n",
    "Those two examples are equivalent for this time series:"
   ]
  },
  {
   "cell_type": "code",
   "execution_count": null,
   "id": "21905654-95c9-4e6d-9846-d813e8c684a5",
   "metadata": {
    "hide-output": false
   },
   "outputs": [],
   "source": [
    "ts.resample(\"17min\", origin=\"start\").sum()"
   ]
  },
  {
   "cell_type": "code",
   "execution_count": null,
   "id": "99931e86-c4b3-4a01-9110-65f35347d892",
   "metadata": {
    "hide-output": false
   },
   "outputs": [],
   "source": [
    "ts.resample(\"17min\", offset=\"23h30min\").sum()"
   ]
  },
  {
   "cell_type": "markdown",
   "id": "8b386eb1",
   "metadata": {},
   "source": [
    "Note the use of `'start'` for `origin` on the last example. In that case, `origin` will be set to the first value of the timeseries."
   ]
  },
  {
   "cell_type": "markdown",
   "id": "1989aea8",
   "metadata": {},
   "source": [
    "### Backward resample\n",
    "\n",
    "New in version 1.3.0.\n",
    "\n",
    "Instead of adjusting the beginning of bins, sometimes we need to fix the end of the bins to make a backward resample with a given `freq`. The backward resample sets `closed` to `'right'` by default since the last value should be considered as the edge point for the last bin.\n",
    "\n",
    "We can set `origin` to `'end'`. The value for a specific `Timestamp` index stands for the resample result from the current `Timestamp` minus `freq` to the current `Timestamp` with a right close."
   ]
  },
  {
   "cell_type": "code",
   "execution_count": null,
   "id": "bdf17b49",
   "metadata": {
    "hide-output": false
   },
   "outputs": [],
   "source": [
    "ts.resample('17min', origin='end').sum()"
   ]
  },
  {
   "cell_type": "markdown",
   "id": "dcf07432",
   "metadata": {},
   "source": [
    "Besides, in contrast with the `'start_day'` option, `end_day` is supported. This will set the origin as the ceiling midnight of the largest `Timestamp`."
   ]
  },
  {
   "cell_type": "code",
   "execution_count": null,
   "id": "98e29ae4",
   "metadata": {
    "hide-output": false
   },
   "outputs": [],
   "source": [
    "ts.resample('17min', origin='end_day').sum()"
   ]
  },
  {
   "cell_type": "markdown",
   "id": "a7c29a45",
   "metadata": {},
   "source": [
    "The above result uses `2000-10-02 00:29:00` as the last bin’s right edge since the following computation."
   ]
  },
  {
   "cell_type": "code",
   "execution_count": null,
   "id": "ef6dd268",
   "metadata": {
    "hide-output": false
   },
   "outputs": [],
   "source": [
    "ceil_mid = rng.max().ceil('D')\n",
    "freq = pd.offsets.Minute(17)\n",
    "bin_res = ceil_mid - freq * ((ceil_mid - rng.max()) // freq)\n",
    "bin_res"
   ]
  },
  {
   "cell_type": "markdown",
   "id": "a9893346",
   "metadata": {},
   "source": [
    "\n",
    "<a id='timeseries-periods'></a>"
   ]
  },
  {
   "cell_type": "markdown",
   "id": "e01ea9c7",
   "metadata": {},
   "source": [
    "## Time span representation\n",
    "\n",
    "Regular intervals of time are represented by `Period` objects in pandas while\n",
    "sequences of `Period` objects are collected in a `PeriodIndex`, which can\n",
    "be created with the convenience function `period_range`."
   ]
  },
  {
   "cell_type": "markdown",
   "id": "2a9bd66e",
   "metadata": {},
   "source": [
    "### Period\n",
    "\n",
    "A `Period` represents a span of time (e.g., a day, a month, a quarter, etc).\n",
    "You can specify the span via `freq` keyword using a frequency alias like below.\n",
    "Because `freq` represents a span of `Period`, it cannot be negative like “-3D”."
   ]
  },
  {
   "cell_type": "code",
   "execution_count": null,
   "id": "77b0b8d0-874b-49c9-9835-3ae160b723c2",
   "metadata": {
    "hide-output": false
   },
   "outputs": [],
   "source": [
    "pd.Period(\"2012\", freq=\"A-DEC\")"
   ]
  },
  {
   "cell_type": "code",
   "execution_count": null,
   "id": "c990b0f0-e299-48be-b68c-0eb5c0a60fef",
   "metadata": {
    "hide-output": false
   },
   "outputs": [],
   "source": [
    "pd.Period(\"2012-1-1\", freq=\"D\")"
   ]
  },
  {
   "cell_type": "code",
   "execution_count": null,
   "id": "276098ba-6013-4b5d-8399-fdc4c155f142",
   "metadata": {
    "hide-output": false
   },
   "outputs": [],
   "source": [
    "pd.Period(\"2012-1-1 19:00\", freq=\"H\")"
   ]
  },
  {
   "cell_type": "code",
   "execution_count": null,
   "id": "829d92d5-1898-43b1-8218-e582a1303200",
   "metadata": {
    "hide-output": false
   },
   "outputs": [],
   "source": [
    "pd.Period(\"2012-1-1 19:00\", freq=\"5H\")"
   ]
  },
  {
   "cell_type": "markdown",
   "id": "7a61e193",
   "metadata": {},
   "source": [
    "Adding and subtracting integers from periods shifts the period by its own\n",
    "frequency. Arithmetic is not allowed between `Period` with different `freq` (span)."
   ]
  },
  {
   "cell_type": "code",
   "execution_count": null,
   "id": "ca90c7b1-8a99-4df5-a065-a2eaa99ab62e",
   "metadata": {
    "hide-output": false
   },
   "outputs": [],
   "source": [
    "p = pd.Period(\"2012\", freq=\"A-DEC\")\n",
    "p + 1"
   ]
  },
  {
   "cell_type": "code",
   "execution_count": null,
   "id": "b6b7ac1c-6a2e-45eb-802d-f3ee5c6c1577",
   "metadata": {
    "hide-output": false
   },
   "outputs": [],
   "source": [
    "p - 3"
   ]
  },
  {
   "cell_type": "code",
   "execution_count": null,
   "id": "71ad0101-3148-4cd7-892e-39cdd95bf2a0",
   "metadata": {
    "hide-output": false
   },
   "outputs": [],
   "source": [
    "p = pd.Period(\"2012-01\", freq=\"2M\")\n",
    "p + 2"
   ]
  },
  {
   "cell_type": "code",
   "execution_count": null,
   "id": "fc4af805-f233-45c1-ade5-351ec62c1476",
   "metadata": {
    "hide-output": false
   },
   "outputs": [],
   "source": [
    "p - 1"
   ]
  },
  {
   "cell_type": "code",
   "execution_count": null,
   "id": "c2cea5d6-1e6f-4d12-87bb-f1b9d51a4d12",
   "metadata": {
    "hide-output": false
   },
   "outputs": [],
   "source": [
    "p == pd.Period(\"2012-01\", freq=\"3M\")"
   ]
  },
  {
   "cell_type": "markdown",
   "id": "687a78f3",
   "metadata": {},
   "source": [
    "If `Period` freq is daily or higher (`D`, `H`, `T`, `S`, `L`, `U`, `N`), `offsets` and `timedelta`-like can be added if the result can have the same freq. Otherwise, `ValueError` will be raised."
   ]
  },
  {
   "cell_type": "code",
   "execution_count": null,
   "id": "860f3fe6-8e45-43e9-b3c3-3fe66dc71a38",
   "metadata": {
    "hide-output": false
   },
   "outputs": [],
   "source": [
    "p = pd.Period(\"2014-07-01 09:00\", freq=\"H\")"
   ]
  },
  {
   "cell_type": "code",
   "execution_count": null,
   "id": "537702c6-e2d1-4084-8437-2d3144a207fe",
   "metadata": {
    "hide-output": false
   },
   "outputs": [],
   "source": [
    "p + pd.offsets.Hour(2)"
   ]
  },
  {
   "cell_type": "code",
   "execution_count": null,
   "id": "8e71548c-27ed-4747-959b-a775e19915a6",
   "metadata": {
    "hide-output": false
   },
   "outputs": [],
   "source": [
    "p + datetime.timedelta(minutes=120)"
   ]
  },
  {
   "cell_type": "code",
   "execution_count": null,
   "id": "d9f1439f-073d-4ed2-b459-fbf3f947e786",
   "metadata": {
    "hide-output": false
   },
   "outputs": [],
   "source": [
    "p + np.timedelta64(7200, \"s\")"
   ]
  },
  {
   "cell_type": "markdown",
   "id": "118a3393",
   "metadata": {
    "hide-output": false
   },
   "source": [
    "```python\n",
    "In [1]: p + pd.offsets.Minute(5)\n",
    "Traceback\n",
    "   ...\n",
    "ValueError: Input has different freq from Period(freq=H)\n",
    "```\n"
   ]
  },
  {
   "cell_type": "markdown",
   "id": "fff03428",
   "metadata": {},
   "source": [
    "If `Period` has other frequencies, only the same `offsets` can be added. Otherwise, `ValueError` will be raised."
   ]
  },
  {
   "cell_type": "code",
   "execution_count": null,
   "id": "5539a94d",
   "metadata": {
    "hide-output": false
   },
   "outputs": [],
   "source": [
    "p = pd.Period(\"2014-07\", freq=\"M\")\n",
    "p + pd.offsets.MonthEnd(3)"
   ]
  },
  {
   "cell_type": "markdown",
   "id": "923f1cf8",
   "metadata": {
    "hide-output": false
   },
   "source": [
    "```python\n",
    "In [1]: p + pd.offsets.MonthBegin(3)\n",
    "Traceback\n",
    "   ...\n",
    "ValueError: Input has different freq from Period(freq=M)\n",
    "```\n"
   ]
  },
  {
   "cell_type": "markdown",
   "id": "5ee3c28f",
   "metadata": {},
   "source": [
    "Taking the difference of `Period` instances with the same frequency will\n",
    "return the number of frequency units between them:"
   ]
  },
  {
   "cell_type": "code",
   "execution_count": null,
   "id": "df883f20",
   "metadata": {
    "hide-output": false
   },
   "outputs": [],
   "source": [
    "pd.Period(\"2012\", freq=\"A-DEC\") - pd.Period(\"2002\", freq=\"A-DEC\")"
   ]
  },
  {
   "cell_type": "markdown",
   "id": "0a1c4691",
   "metadata": {},
   "source": [
    "### PeriodIndex and period_range\n",
    "\n",
    "Regular sequences of `Period` objects can be collected in a `PeriodIndex`,\n",
    "which can be constructed using the `period_range` convenience function:"
   ]
  },
  {
   "cell_type": "code",
   "execution_count": null,
   "id": "995ba9ef",
   "metadata": {
    "hide-output": false
   },
   "outputs": [],
   "source": [
    "prng = pd.period_range(\"1/1/2011\", \"1/1/2012\", freq=\"M\")\n",
    "prng"
   ]
  },
  {
   "cell_type": "markdown",
   "id": "14ea24f1",
   "metadata": {},
   "source": [
    "The `PeriodIndex` constructor can also be used directly:"
   ]
  },
  {
   "cell_type": "code",
   "execution_count": null,
   "id": "8810f57d",
   "metadata": {
    "hide-output": false
   },
   "outputs": [],
   "source": [
    "pd.PeriodIndex([\"2011-1\", \"2011-2\", \"2011-3\"], freq=\"M\")"
   ]
  },
  {
   "cell_type": "markdown",
   "id": "b21ebe1c",
   "metadata": {},
   "source": [
    "Passing multiplied frequency outputs a sequence of `Period` which\n",
    "has multiplied span."
   ]
  },
  {
   "cell_type": "code",
   "execution_count": null,
   "id": "9884913e",
   "metadata": {
    "hide-output": false
   },
   "outputs": [],
   "source": [
    "pd.period_range(start=\"2014-01\", freq=\"3M\", periods=4)"
   ]
  },
  {
   "cell_type": "markdown",
   "id": "fb695d62",
   "metadata": {},
   "source": [
    "If `start` or `end` are `Period` objects, they will be used as anchor\n",
    "endpoints for a `PeriodIndex` with frequency matching that of the\n",
    "`PeriodIndex` constructor."
   ]
  },
  {
   "cell_type": "code",
   "execution_count": null,
   "id": "87aa1d33",
   "metadata": {
    "hide-output": false
   },
   "outputs": [],
   "source": [
    "pd.period_range(\n",
    "    start=pd.Period(\"2017Q1\", freq=\"Q\"), end=pd.Period(\"2017Q2\", freq=\"Q\"), freq=\"M\"\n",
    ")"
   ]
  },
  {
   "cell_type": "markdown",
   "id": "0ff9bcbf",
   "metadata": {},
   "source": [
    "Just like `DatetimeIndex`, a `PeriodIndex` can also be used to index pandas\n",
    "objects:"
   ]
  },
  {
   "cell_type": "code",
   "execution_count": null,
   "id": "e31230d1",
   "metadata": {
    "hide-output": false
   },
   "outputs": [],
   "source": [
    "ps = pd.Series(np.random.randn(len(prng)), prng)\n",
    "ps"
   ]
  },
  {
   "cell_type": "markdown",
   "id": "bc04fbd1",
   "metadata": {},
   "source": [
    "`PeriodIndex` supports addition and subtraction with the same rule as `Period`."
   ]
  },
  {
   "cell_type": "code",
   "execution_count": null,
   "id": "3e914b7c-0cc8-4d89-b3be-c83ee5d8788b",
   "metadata": {
    "hide-output": false
   },
   "outputs": [],
   "source": [
    "idx = pd.period_range(\"2014-07-01 09:00\", periods=5, freq=\"H\")\n",
    "idx"
   ]
  },
  {
   "cell_type": "code",
   "execution_count": null,
   "id": "d9fed964-042a-4bc4-8bd8-d11732a0b95b",
   "metadata": {
    "hide-output": false
   },
   "outputs": [],
   "source": [
    "idx + pd.offsets.Hour(2)"
   ]
  },
  {
   "cell_type": "code",
   "execution_count": null,
   "id": "24b5c463-9914-419e-a104-09d324a248ce",
   "metadata": {
    "hide-output": false
   },
   "outputs": [],
   "source": [
    "idx = pd.period_range(\"2014-07\", periods=5, freq=\"M\")\n",
    "idx"
   ]
  },
  {
   "cell_type": "code",
   "execution_count": null,
   "id": "05d976ed-a50b-4b88-9776-a0ffe2a09153",
   "metadata": {
    "hide-output": false
   },
   "outputs": [],
   "source": [
    "idx + pd.offsets.MonthEnd(3)"
   ]
  },
  {
   "cell_type": "markdown",
   "id": "1ec35b99",
   "metadata": {},
   "source": [
    "`PeriodIndex` has its own dtype named `period`, refer to [Period Dtypes](#timeseries-period-dtype).\n",
    "\n",
    "\n",
    "<a id='timeseries-period-dtype'></a>"
   ]
  },
  {
   "cell_type": "markdown",
   "id": "a1523cab",
   "metadata": {},
   "source": [
    "### Period dtypes\n",
    "\n",
    "`PeriodIndex` has a custom `period` dtype. This is a pandas extension\n",
    "dtype similar to the [timezone aware dtype](#timeseries-timezone-series) (`datetime64[ns, tz]`).\n",
    "\n",
    "The `period` dtype holds the `freq` attribute and is represented with\n",
    "`period[freq]` like `period[D]` or `period[M]`, using [frequency strings](#timeseries-offset-aliases)."
   ]
  },
  {
   "cell_type": "code",
   "execution_count": null,
   "id": "bdf6618c-7c4d-4982-b0ec-27065ec8c387",
   "metadata": {
    "hide-output": false
   },
   "outputs": [],
   "source": [
    "pi = pd.period_range(\"2016-01-01\", periods=3, freq=\"M\")\n",
    "pi"
   ]
  },
  {
   "cell_type": "code",
   "execution_count": null,
   "id": "f6b4da99-2859-4d01-821b-a3f50dd957cd",
   "metadata": {
    "hide-output": false
   },
   "outputs": [],
   "source": [
    "pi.dtype"
   ]
  },
  {
   "cell_type": "markdown",
   "id": "f7386717",
   "metadata": {},
   "source": [
    "The `period` dtype can be used in `.astype(...)`. It allows one to change the\n",
    "`freq` of a `PeriodIndex` like `.asfreq()` and convert a\n",
    "`DatetimeIndex` to `PeriodIndex` like `to_period()`:"
   ]
  },
  {
   "cell_type": "code",
   "execution_count": null,
   "id": "1426876b-54e1-416d-a0c5-93a1bcf436a1",
   "metadata": {
    "hide-output": false
   },
   "outputs": [],
   "source": [
    "# change monthly freq to daily freq\n",
    "pi.astype(\"period[D]\")"
   ]
  },
  {
   "cell_type": "code",
   "execution_count": null,
   "id": "d4a4177c-5bdf-4eee-9af2-a54c5801d870",
   "metadata": {
    "hide-output": false
   },
   "outputs": [],
   "source": [
    "# convert to DatetimeIndex\n",
    "pi.astype(\"datetime64[ns]\")"
   ]
  },
  {
   "cell_type": "code",
   "execution_count": null,
   "id": "2a63f482-5a95-468b-899e-1ca707749cba",
   "metadata": {
    "hide-output": false
   },
   "outputs": [],
   "source": [
    "# convert to PeriodIndex\n",
    "dti = pd.date_range(\"2011-01-01\", freq=\"M\", periods=3)\n",
    "dti"
   ]
  },
  {
   "cell_type": "code",
   "execution_count": null,
   "id": "493867cd-288a-4e6b-8b1b-5222c05402bf",
   "metadata": {
    "hide-output": false
   },
   "outputs": [],
   "source": [
    "dti.astype(\"period[M]\")"
   ]
  },
  {
   "cell_type": "markdown",
   "id": "6dbcbdda",
   "metadata": {},
   "source": [
    "### PeriodIndex partial string indexing\n",
    "\n",
    "PeriodIndex now supports partial string slicing with non-monotonic indexes.\n",
    "\n",
    "New in version 1.1.0.\n",
    "\n",
    "You can pass in dates and strings to `Series` and `DataFrame` with `PeriodIndex`, in the same manner as `DatetimeIndex`. For details, refer to [DatetimeIndex Partial String Indexing](#timeseries-partialindexing)."
   ]
  },
  {
   "cell_type": "code",
   "execution_count": null,
   "id": "134018cf-2249-4265-ace9-40247449ee7c",
   "metadata": {
    "hide-output": false
   },
   "outputs": [],
   "source": [
    "ps[\"2011-01\"]"
   ]
  },
  {
   "cell_type": "code",
   "execution_count": null,
   "id": "55b3e558-b6c0-4391-affd-b95fd2c6e219",
   "metadata": {
    "hide-output": false
   },
   "outputs": [],
   "source": [
    "ps[datetime.datetime(2011, 12, 25):]"
   ]
  },
  {
   "cell_type": "code",
   "execution_count": null,
   "id": "3db3c230-154b-4879-84b0-997c31659a78",
   "metadata": {
    "hide-output": false
   },
   "outputs": [],
   "source": [
    "ps[\"10/31/2011\":\"12/31/2011\"]"
   ]
  },
  {
   "cell_type": "markdown",
   "id": "f2a8d344",
   "metadata": {},
   "source": [
    "Passing a string representing a lower frequency than `PeriodIndex` returns partial sliced data."
   ]
  },
  {
   "cell_type": "code",
   "execution_count": null,
   "id": "2083eaa3-645f-4302-9b09-7dc682780744",
   "metadata": {
    "hide-output": false
   },
   "outputs": [],
   "source": [
    "ps[\"2011\"]"
   ]
  },
  {
   "cell_type": "code",
   "execution_count": null,
   "id": "2c2e7de4-a404-48f1-a4a8-0ff5adc69ed5",
   "metadata": {
    "hide-output": false
   },
   "outputs": [],
   "source": [
    "dfp = pd.DataFrame(\n",
    "    np.random.randn(600, 1),\n",
    "    columns=[\"A\"],\n",
    "    index=pd.period_range(\"2013-01-01 9:00\", periods=600, freq=\"T\"),\n",
    ")"
   ]
  },
  {
   "cell_type": "code",
   "execution_count": null,
   "id": "f8f18f65-c677-47c9-9b17-bccfcb6984f3",
   "metadata": {
    "hide-output": false
   },
   "outputs": [],
   "source": [
    "dfp"
   ]
  },
  {
   "cell_type": "code",
   "execution_count": null,
   "id": "905187ce-ec15-4d48-9d38-524c0a3430e6",
   "metadata": {
    "hide-output": false
   },
   "outputs": [],
   "source": [
    "dfp.loc[\"2013-01-01 10H\"].head()"
   ]
  },
  {
   "cell_type": "markdown",
   "id": "17c05ece",
   "metadata": {},
   "source": [
    "As with `DatetimeIndex`, the endpoints will be included in the result. The example below slices data starting from 10:00 to 11:59."
   ]
  },
  {
   "cell_type": "code",
   "execution_count": null,
   "id": "fc4d657e",
   "metadata": {
    "hide-output": false
   },
   "outputs": [],
   "source": [
    "dfp[\"2013-01-01 10H\":\"2013-01-01 11H\"]"
   ]
  },
  {
   "cell_type": "markdown",
   "id": "f54595d3",
   "metadata": {},
   "source": [
    "### Frequency conversion and resampling with PeriodIndex\n",
    "\n",
    "The frequency of `Period` and `PeriodIndex` can be converted via the `asfreq`\n",
    "method. Let’s start with the fiscal year 2011, ending in December:"
   ]
  },
  {
   "cell_type": "code",
   "execution_count": null,
   "id": "fa12a609",
   "metadata": {
    "hide-output": false
   },
   "outputs": [],
   "source": [
    "p = pd.Period(\"2011\", freq=\"A-DEC\")\n",
    "p"
   ]
  },
  {
   "cell_type": "markdown",
   "id": "3b51f936",
   "metadata": {},
   "source": [
    "We can convert it to a monthly frequency. Using the `how` parameter, we can\n",
    "specify whether to return the starting or ending month:"
   ]
  },
  {
   "cell_type": "code",
   "execution_count": null,
   "id": "e21e3459-f31a-418d-8837-7a477e2b321f",
   "metadata": {
    "hide-output": false
   },
   "outputs": [],
   "source": [
    "p.asfreq(\"M\", how=\"start\")"
   ]
  },
  {
   "cell_type": "code",
   "execution_count": null,
   "id": "dde4cac1-8f14-4210-99d6-f15e80618ffb",
   "metadata": {
    "hide-output": false
   },
   "outputs": [],
   "source": [
    "p.asfreq(\"M\", how=\"end\")"
   ]
  },
  {
   "cell_type": "markdown",
   "id": "f024511b",
   "metadata": {},
   "source": [
    "The shorthands ‘s’ and ‘e’ are provided for convenience:"
   ]
  },
  {
   "cell_type": "code",
   "execution_count": null,
   "id": "71f6ed45-1f74-455d-92ed-c0490e0ee5bc",
   "metadata": {
    "hide-output": false
   },
   "outputs": [],
   "source": [
    "p.asfreq(\"M\", \"s\")"
   ]
  },
  {
   "cell_type": "code",
   "execution_count": null,
   "id": "e1019bd7-c3e4-4483-bc1c-95a0ed76edf7",
   "metadata": {
    "hide-output": false
   },
   "outputs": [],
   "source": [
    "p.asfreq(\"M\", \"e\")"
   ]
  },
  {
   "cell_type": "markdown",
   "id": "4845ba95",
   "metadata": {},
   "source": [
    "Converting to a “super-period” (e.g., annual frequency is a super-period of\n",
    "quarterly frequency) automatically returns the super-period that includes the\n",
    "input period:"
   ]
  },
  {
   "cell_type": "code",
   "execution_count": null,
   "id": "01a19ccc",
   "metadata": {
    "hide-output": false
   },
   "outputs": [],
   "source": [
    "p = pd.Period(\"2011-12\", freq=\"M\")\n",
    "\n",
    "p.asfreq(\"A-NOV\")"
   ]
  },
  {
   "cell_type": "markdown",
   "id": "49567062",
   "metadata": {},
   "source": [
    "Note that since we converted to an annual frequency that ends the year in\n",
    "November, the monthly period of December 2011 is actually in the 2012 A-NOV\n",
    "period.\n",
    "\n",
    "\n",
    "<a id='timeseries-quarterly'></a>\n",
    "Period conversions with anchored frequencies are particularly useful for\n",
    "working with various quarterly data common to economics, business, and other\n",
    "fields. Many organizations define quarters relative to the month in which their\n",
    "fiscal year starts and ends. Thus, first quarter of 2011 could start in 2010 or\n",
    "a few months into 2011. Via anchored frequencies, pandas works for all quarterly\n",
    "frequencies `Q-JAN` through `Q-DEC`.\n",
    "\n",
    "`Q-DEC` define regular calendar quarters:"
   ]
  },
  {
   "cell_type": "code",
   "execution_count": null,
   "id": "80c347bd-575c-4ff4-b685-1fa46a252c4a",
   "metadata": {
    "hide-output": false
   },
   "outputs": [],
   "source": [
    "p = pd.Period(\"2012Q1\", freq=\"Q-DEC\")"
   ]
  },
  {
   "cell_type": "code",
   "execution_count": null,
   "id": "7ea33a3c-0d7b-442a-9552-8f5bf15992d7",
   "metadata": {
    "hide-output": false
   },
   "outputs": [],
   "source": [
    "p.asfreq(\"D\", \"s\")"
   ]
  },
  {
   "cell_type": "code",
   "execution_count": null,
   "id": "e1807fcf-60dc-410e-b97b-bb9a37d001d3",
   "metadata": {
    "hide-output": false
   },
   "outputs": [],
   "source": [
    "p.asfreq(\"D\", \"e\")"
   ]
  },
  {
   "cell_type": "markdown",
   "id": "5252a086",
   "metadata": {},
   "source": [
    "`Q-MAR` defines fiscal year end in March:"
   ]
  },
  {
   "cell_type": "code",
   "execution_count": null,
   "id": "7413108d-1470-48ec-9eeb-76a18b1d8915",
   "metadata": {
    "hide-output": false
   },
   "outputs": [],
   "source": [
    "p = pd.Period(\"2011Q4\", freq=\"Q-MAR\")"
   ]
  },
  {
   "cell_type": "code",
   "execution_count": null,
   "id": "483c4ad8-3b5e-4bee-a209-5d13f8311ad9",
   "metadata": {
    "hide-output": false
   },
   "outputs": [],
   "source": [
    "p.asfreq(\"D\", \"s\")"
   ]
  },
  {
   "cell_type": "code",
   "execution_count": null,
   "id": "706d924f-410d-4dcf-804e-7fd2ab399881",
   "metadata": {
    "hide-output": false
   },
   "outputs": [],
   "source": [
    "p.asfreq(\"D\", \"e\")"
   ]
  },
  {
   "cell_type": "markdown",
   "id": "86a3ec6d",
   "metadata": {},
   "source": [
    "\n",
    "<a id='timeseries-interchange'></a>"
   ]
  },
  {
   "cell_type": "markdown",
   "id": "292dd006",
   "metadata": {},
   "source": [
    "## Converting between representations\n",
    "\n",
    "Timestamped data can be converted to PeriodIndex-ed data using `to_period`\n",
    "and vice-versa using `to_timestamp`:"
   ]
  },
  {
   "cell_type": "code",
   "execution_count": null,
   "id": "7b31fc98-e198-408d-a0a2-13975ecc8e1a",
   "metadata": {
    "hide-output": false
   },
   "outputs": [],
   "source": [
    "rng = pd.date_range(\"1/1/2012\", periods=5, freq=\"M\")\n",
    "\n",
    "ts = pd.Series(np.random.randn(len(rng)), index=rng)\n",
    "\n",
    "ts"
   ]
  },
  {
   "cell_type": "code",
   "execution_count": null,
   "id": "be463fff-c6e8-42f2-905d-6aeaa5e5a7fa",
   "metadata": {
    "hide-output": false
   },
   "outputs": [],
   "source": [
    "ps = ts.to_period()\n",
    "\n",
    "ps"
   ]
  },
  {
   "cell_type": "code",
   "execution_count": null,
   "id": "2756d25d-cb16-4511-96fa-3696a7a1043a",
   "metadata": {
    "hide-output": false
   },
   "outputs": [],
   "source": [
    "ps.to_timestamp()"
   ]
  },
  {
   "cell_type": "markdown",
   "id": "4de11dc3",
   "metadata": {},
   "source": [
    "Remember that ‘s’ and ‘e’ can be used to return the timestamps at the start or\n",
    "end of the period:"
   ]
  },
  {
   "cell_type": "code",
   "execution_count": null,
   "id": "94aba98a",
   "metadata": {
    "hide-output": false
   },
   "outputs": [],
   "source": [
    "ps.to_timestamp(\"D\", how=\"s\")"
   ]
  },
  {
   "cell_type": "markdown",
   "id": "5acea359",
   "metadata": {},
   "source": [
    "Converting between period and timestamp enables some convenient arithmetic\n",
    "functions to be used. In the following example, we convert a quarterly\n",
    "frequency with year ending in November to 9am of the end of the month following\n",
    "the quarter end:"
   ]
  },
  {
   "cell_type": "code",
   "execution_count": null,
   "id": "4d59642b-899f-47fe-91ad-395c01ba053d",
   "metadata": {
    "hide-output": false
   },
   "outputs": [],
   "source": [
    "prng = pd.period_range(\"1990Q1\", \"2000Q4\", freq=\"Q-NOV\")\n",
    "\n",
    "ts = pd.Series(np.random.randn(len(prng)), prng)\n",
    "\n",
    "ts.index = (prng.asfreq(\"M\", \"e\") + 1).asfreq(\"H\", \"s\") + 9"
   ]
  },
  {
   "cell_type": "code",
   "execution_count": null,
   "id": "827b809c-853a-4a47-9751-743c247d14f7",
   "metadata": {
    "hide-output": false
   },
   "outputs": [],
   "source": [
    "ts.head()"
   ]
  },
  {
   "cell_type": "markdown",
   "id": "cce950ee",
   "metadata": {},
   "source": [
    "\n",
    "<a id='timeseries-oob'></a>"
   ]
  },
  {
   "cell_type": "markdown",
   "id": "ee80b845",
   "metadata": {},
   "source": [
    "## Representing out-of-bounds spans\n",
    "\n",
    "If you have data that is outside of the `Timestamp` bounds, see [Timestamp limitations](#timeseries-timestamp-limits),\n",
    "then you can use a `PeriodIndex` and/or `Series` of `Periods` to do computations."
   ]
  },
  {
   "cell_type": "code",
   "execution_count": null,
   "id": "12c128e6",
   "metadata": {
    "hide-output": false
   },
   "outputs": [],
   "source": [
    "span = pd.period_range(\"1215-01-01\", \"1381-01-01\", freq=\"D\")\n",
    "span"
   ]
  },
  {
   "cell_type": "markdown",
   "id": "6741f1a7",
   "metadata": {},
   "source": [
    "To convert from an `int64` based YYYYMMDD representation."
   ]
  },
  {
   "cell_type": "code",
   "execution_count": null,
   "id": "dfdcfd51-25c8-45a3-b733-cae6b41b06cf",
   "metadata": {
    "hide-output": false
   },
   "outputs": [],
   "source": [
    "s = pd.Series([20121231, 20141130, 99991231])\n",
    "s"
   ]
  },
  {
   "cell_type": "code",
   "execution_count": null,
   "id": "31bc0da6-f218-4a12-b23a-6884cce8decd",
   "metadata": {
    "hide-output": false
   },
   "outputs": [],
   "source": [
    "def conv(x):\n",
    "    return pd.Period(year=x // 10000, month=x // 100 % 100, day=x % 100, freq=\"D\")\n",
    "\n",
    "s.apply(conv)"
   ]
  },
  {
   "cell_type": "code",
   "execution_count": null,
   "id": "d92e5b3e-9030-4a73-b34e-1f402fa24663",
   "metadata": {
    "hide-output": false
   },
   "outputs": [],
   "source": [
    "s.apply(conv)[2]"
   ]
  },
  {
   "cell_type": "markdown",
   "id": "d9ff0ecb",
   "metadata": {},
   "source": [
    "These can easily be converted to a `PeriodIndex`:"
   ]
  },
  {
   "cell_type": "code",
   "execution_count": null,
   "id": "09ec70be",
   "metadata": {
    "hide-output": false
   },
   "outputs": [],
   "source": [
    "span = pd.PeriodIndex(s.apply(conv))\n",
    "span"
   ]
  },
  {
   "cell_type": "markdown",
   "id": "07c73ebb",
   "metadata": {},
   "source": [
    "\n",
    "<a id='timeseries-timezone'></a>"
   ]
  },
  {
   "cell_type": "markdown",
   "id": "9de7b0a2",
   "metadata": {},
   "source": [
    "## Time zone handling\n",
    "\n",
    "pandas provides rich support for working with timestamps in different time\n",
    "zones using the `pytz` and `dateutil` libraries or `datetime.timezone`\n",
    "objects from the standard library."
   ]
  },
  {
   "cell_type": "markdown",
   "id": "8d03395e",
   "metadata": {},
   "source": [
    "### Working with time zones\n",
    "\n",
    "By default, pandas objects are time zone unaware:"
   ]
  },
  {
   "cell_type": "code",
   "execution_count": null,
   "id": "e8042ca3",
   "metadata": {
    "hide-output": false
   },
   "outputs": [],
   "source": [
    "rng = pd.date_range(\"3/6/2012 00:00\", periods=15, freq=\"D\")\n",
    "rng.tz is None"
   ]
  },
  {
   "cell_type": "markdown",
   "id": "47eb43b6",
   "metadata": {},
   "source": [
    "To localize these dates to a time zone (assign a particular time zone to a naive date),\n",
    "you can use the `tz_localize` method or the `tz` keyword argument in\n",
    "`date_range()`, `Timestamp`, or `DatetimeIndex`.\n",
    "You can either pass `pytz` or `dateutil` time zone objects or Olson time zone database strings.\n",
    "Olson time zone strings will return `pytz` time zone objects by default.\n",
    "To return `dateutil` time zone objects, append `dateutil/` before the string.\n",
    "\n",
    "- In `pytz` you can find a list of common (and less common) time zones using\n",
    "  `from pytz import common_timezones, all_timezones`.  \n",
    "- `dateutil` uses the OS time zones so there isn’t a fixed list available. For\n",
    "  common zones, the names are the same as `pytz`.  "
   ]
  },
  {
   "cell_type": "code",
   "execution_count": null,
   "id": "22878ee3-ab27-4510-a56b-a8d5bda08c0c",
   "metadata": {
    "hide-output": false
   },
   "outputs": [],
   "source": [
    "import dateutil\n",
    "\n",
    "# pytz\n",
    "rng_pytz = pd.date_range(\"3/6/2012 00:00\", periods=3, freq=\"D\", tz=\"Europe/London\")\n",
    "rng_pytz.tz"
   ]
  },
  {
   "cell_type": "code",
   "execution_count": null,
   "id": "5720353f-c3b1-48c0-91ee-df46acd715d4",
   "metadata": {
    "hide-output": false
   },
   "outputs": [],
   "source": [
    "# dateutil\n",
    "rng_dateutil = pd.date_range(\"3/6/2012 00:00\", periods=3, freq=\"D\")\n",
    "rng_dateutil = rng_dateutil.tz_localize(\"dateutil/Europe/London\")\n",
    "rng_dateutil.tz"
   ]
  },
  {
   "cell_type": "code",
   "execution_count": null,
   "id": "ac5a7c3b-3a99-4700-bd1b-7030b9712e84",
   "metadata": {
    "hide-output": false
   },
   "outputs": [],
   "source": [
    "# dateutil - utc special case\n",
    "rng_utc = pd.date_range(\n",
    "    \"3/6/2012 00:00\",\n",
    "    periods=3,\n",
    "    freq=\"D\",\n",
    "    tz=dateutil.tz.tzutc(),\n",
    ")\n",
    "rng_utc.tz"
   ]
  },
  {
   "cell_type": "markdown",
   "id": "a5866bbd",
   "metadata": {},
   "source": [
    "New in version 0.25.0."
   ]
  },
  {
   "cell_type": "code",
   "execution_count": null,
   "id": "fcafba87",
   "metadata": {
    "hide-output": false
   },
   "outputs": [],
   "source": [
    "# datetime.timezone\n",
    "rng_utc = pd.date_range(\n",
    "    \"3/6/2012 00:00\",\n",
    "    periods=3,\n",
    "    freq=\"D\",\n",
    "    tz=datetime.timezone.utc,\n",
    ")\n",
    "rng_utc.tz"
   ]
  },
  {
   "cell_type": "markdown",
   "id": "cfae9954",
   "metadata": {},
   "source": [
    "Note that the `UTC` time zone is a special case in `dateutil` and should be constructed explicitly\n",
    "as an instance of `dateutil.tz.tzutc`. You can also construct other time\n",
    "zones objects explicitly first."
   ]
  },
  {
   "cell_type": "code",
   "execution_count": null,
   "id": "38bae39b",
   "metadata": {
    "hide-output": false
   },
   "outputs": [],
   "source": [
    "import pytz\n",
    "\n",
    "# pytz\n",
    "tz_pytz = pytz.timezone(\"Europe/London\")\n",
    "rng_pytz = pd.date_range(\"3/6/2012 00:00\", periods=3, freq=\"D\")\n",
    "rng_pytz = rng_pytz.tz_localize(tz_pytz)\n",
    "rng_pytz.tz == tz_pytz\n",
    "\n",
    "# dateutil\n",
    "tz_dateutil = dateutil.tz.gettz(\"Europe/London\")\n",
    "rng_dateutil = pd.date_range(\"3/6/2012 00:00\", periods=3, freq=\"D\", tz=tz_dateutil)\n",
    "rng_dateutil.tz == tz_dateutil"
   ]
  },
  {
   "cell_type": "markdown",
   "id": "51521ea4",
   "metadata": {},
   "source": [
    "To convert a time zone aware pandas object from one time zone to another,\n",
    "you can use the `tz_convert` method."
   ]
  },
  {
   "cell_type": "code",
   "execution_count": null,
   "id": "b8010333",
   "metadata": {
    "hide-output": false
   },
   "outputs": [],
   "source": [
    "rng_pytz.tz_convert(\"US/Eastern\")"
   ]
  },
  {
   "cell_type": "markdown",
   "id": "e80e0e62",
   "metadata": {},
   "source": [
    ">**Note**\n",
    ">\n",
    ">When using `pytz` time zones, `DatetimeIndex` will construct a different\n",
    "time zone object than a `Timestamp` for the same time zone input. A `DatetimeIndex`\n",
    "can hold a collection of `Timestamp` objects that may have different UTC offsets and cannot be\n",
    "succinctly represented by one `pytz` time zone instance while one `Timestamp`\n",
    "represents one point in time with a specific UTC offset."
   ]
  },
  {
   "cell_type": "code",
   "execution_count": null,
   "id": "b5b5c179-7672-4aee-b55b-3efffa6129f2",
   "metadata": {
    "hide-output": false
   },
   "outputs": [],
   "source": [
    "dti = pd.date_range(\"2019-01-01\", periods=3, freq=\"D\", tz=\"US/Pacific\")\n",
    "dti.tz"
   ]
  },
  {
   "cell_type": "code",
   "execution_count": null,
   "id": "c0df2429-41b4-44be-a9d4-059854863554",
   "metadata": {
    "hide-output": false
   },
   "outputs": [],
   "source": [
    "ts = pd.Timestamp(\"2019-01-01\", tz=\"US/Pacific\")\n",
    "ts.tz"
   ]
  },
  {
   "cell_type": "markdown",
   "id": "37fab16d",
   "metadata": {},
   "source": [
    "Be wary of conversions between libraries. For some time zones, `pytz` and `dateutil` have different\n",
    "definitions of the zone. This is more of a problem for unusual time zones than for\n",
    "‘standard’ zones like `US/Eastern`.\n",
    "\n",
    "Be aware that a time zone definition across versions of time zone libraries may not\n",
    "be considered equal.  This may cause problems when working with stored data that\n",
    "is localized using one version and operated on with a different version.\n",
    "See here for how to handle such a situation.\n",
    "\n",
    "For `pytz` time zones, it is incorrect to pass a time zone object directly into\n",
    "the `datetime.datetime` constructor\n",
    "(e.g., `datetime.datetime(2011, 1, 1, tz=pytz.timezone('US/Eastern'))`.\n",
    "Instead, the datetime needs to be localized using the `localize` method\n",
    "on the `pytz` time zone object.\n",
    "\n",
    "Be aware that for times in the future, correct conversion between time zones\n",
    "(and UTC) cannot be guaranteed by any time zone library because a timezone’s\n",
    "offset from UTC may be changed by the respective government.\n",
    "\n",
    "If you are using dates beyond 2038-01-18, due to current deficiencies\n",
    "in the underlying libraries caused by the year 2038 problem, daylight saving time (DST) adjustments\n",
    "to timezone aware dates will not be applied. If and when the underlying libraries are fixed,\n",
    "the DST transitions will be applied.\n",
    "\n",
    "For example, for two dates that are in British Summer Time (and so would normally be GMT+1), both the following asserts evaluate as true:"
   ]
  },
  {
   "cell_type": "code",
   "execution_count": null,
   "id": "70118acb",
   "metadata": {
    "hide-output": false
   },
   "outputs": [],
   "source": [
    "d_2037 = \"2037-03-31T010101\"\n",
    "d_2038 = \"2038-03-31T010101\"\n",
    "DST = \"Europe/London\"\n",
    "assert pd.Timestamp(d_2037, tz=DST) != pd.Timestamp(d_2037, tz=\"GMT\")\n",
    "assert pd.Timestamp(d_2038, tz=DST) == pd.Timestamp(d_2038, tz=\"GMT\")"
   ]
  },
  {
   "cell_type": "markdown",
   "id": "0ae45b8d",
   "metadata": {},
   "source": [
    "Under the hood, all timestamps are stored in UTC. Values from a time zone aware\n",
    "`DatetimeIndex` or `Timestamp` will have their fields (day, hour, minute, etc.)\n",
    "localized to the time zone. However, timestamps with the same UTC value are\n",
    "still considered to be equal even if they are in different time zones:"
   ]
  },
  {
   "cell_type": "code",
   "execution_count": null,
   "id": "88bd0f08-1a99-4fb1-a64e-ec295789545a",
   "metadata": {
    "hide-output": false
   },
   "outputs": [],
   "source": [
    "rng_eastern = rng_utc.tz_convert(\"US/Eastern\")\n",
    "rng_berlin = rng_utc.tz_convert(\"Europe/Berlin\")\n",
    "\n",
    "rng_eastern[2]"
   ]
  },
  {
   "cell_type": "code",
   "execution_count": null,
   "id": "afbe6811-aed3-486e-bc86-50c383e65c43",
   "metadata": {
    "hide-output": false
   },
   "outputs": [],
   "source": [
    "rng_berlin[2]"
   ]
  },
  {
   "cell_type": "code",
   "execution_count": null,
   "id": "d6e1426c-b01c-4d40-b3f3-82a927a37267",
   "metadata": {
    "hide-output": false
   },
   "outputs": [],
   "source": [
    "rng_eastern[2] == rng_berlin[2]"
   ]
  },
  {
   "cell_type": "markdown",
   "id": "242066d9",
   "metadata": {},
   "source": [
    "Operations between `Series` in different time zones will yield UTC\n",
    "`Series`, aligning the data on the UTC timestamps:"
   ]
  },
  {
   "cell_type": "code",
   "execution_count": null,
   "id": "03e51252-0255-487c-8fb1-7fae5dbf2f9e",
   "metadata": {
    "hide-output": false
   },
   "outputs": [],
   "source": [
    "ts_utc = pd.Series(range(3), pd.date_range(\"20130101\", periods=3, tz=\"UTC\"))\n",
    "eastern = ts_utc.tz_convert(\"US/Eastern\")\n",
    "berlin = ts_utc.tz_convert(\"Europe/Berlin\")\n",
    "result = eastern + berlin\n",
    "result"
   ]
  },
  {
   "cell_type": "code",
   "execution_count": null,
   "id": "1c3d6cb6-9802-4b9d-8068-9bc288dff934",
   "metadata": {
    "hide-output": false
   },
   "outputs": [],
   "source": [
    "result.index"
   ]
  },
  {
   "cell_type": "markdown",
   "id": "96c3f520",
   "metadata": {},
   "source": [
    "To remove time zone information, use `tz_localize(None)` or `tz_convert(None)`.\n",
    "`tz_localize(None)` will remove the time zone yielding the local time representation.\n",
    "`tz_convert(None)` will remove the time zone after converting to UTC time."
   ]
  },
  {
   "cell_type": "code",
   "execution_count": null,
   "id": "8e9b6c26-acd3-4613-82d6-2fb01721927e",
   "metadata": {
    "hide-output": false
   },
   "outputs": [],
   "source": [
    "didx = pd.date_range(start=\"2014-08-01 09:00\", freq=\"H\", periods=3, tz=\"US/Eastern\")\n",
    "didx"
   ]
  },
  {
   "cell_type": "code",
   "execution_count": null,
   "id": "f8a9cbb2-c7e1-415d-b69d-a2293cb27fc9",
   "metadata": {
    "hide-output": false
   },
   "outputs": [],
   "source": [
    "didx.tz_localize(None)"
   ]
  },
  {
   "cell_type": "code",
   "execution_count": null,
   "id": "6f27eb6a-69ea-4165-96f2-43bbf4d8375d",
   "metadata": {
    "hide-output": false
   },
   "outputs": [],
   "source": [
    "didx.tz_convert(None)"
   ]
  },
  {
   "cell_type": "code",
   "execution_count": null,
   "id": "eb8be2a8-63e9-4089-ac51-441230c888e1",
   "metadata": {
    "hide-output": false
   },
   "outputs": [],
   "source": [
    "# tz_convert(None) is identical to tz_convert('UTC').tz_localize(None)\n",
    "didx.tz_convert(\"UTC\").tz_localize(None)"
   ]
  },
  {
   "cell_type": "markdown",
   "id": "bf4af717",
   "metadata": {},
   "source": [
    "\n",
    "<a id='timeseries-fold'></a>"
   ]
  },
  {
   "cell_type": "markdown",
   "id": "62ad9d26",
   "metadata": {},
   "source": [
    "### Fold\n",
    "\n",
    "New in version 1.1.0.\n",
    "\n",
    "For ambiguous times, pandas supports explicitly specifying the keyword-only fold argument.\n",
    "Due to daylight saving time, one wall clock time can occur twice when shifting\n",
    "from summer to winter time; fold describes whether the datetime-like corresponds\n",
    "to the first (0) or the second time (1) the wall clock hits the ambiguous time.\n",
    "Fold is supported only for constructing from naive `datetime.datetime`\n",
    "(see [datetime documentation](https://docs.python.org/3/library/datetime.html) for details) or from `Timestamp`\n",
    "or for constructing from components (see below). Only `dateutil` timezones are supported\n",
    "(see [dateutil documentation](https://dateutil.readthedocs.io/en/stable/tz.html#dateutil.tz.enfold)\n",
    "for `dateutil` methods that deal with ambiguous datetimes) as `pytz`\n",
    "timezones do not support fold (see [pytz documentation](http://pytz.sourceforge.net/index.html)\n",
    "for details on how `pytz` deals with ambiguous datetimes). To localize an ambiguous datetime\n",
    "with `pytz`, please use `Timestamp.tz_localize()`. In general, we recommend to rely\n",
    "on `Timestamp.tz_localize()` when localizing ambiguous datetimes if you need direct\n",
    "control over how they are handled."
   ]
  },
  {
   "cell_type": "code",
   "execution_count": null,
   "id": "73c88d9b-2506-4521-b1d6-98d3cbe27e03",
   "metadata": {
    "hide-output": false
   },
   "outputs": [],
   "source": [
    "pd.Timestamp(\n",
    "    datetime.datetime(2019, 10, 27, 1, 30, 0, 0),\n",
    "    tz=\"dateutil/Europe/London\",\n",
    "    fold=0,\n",
    ")"
   ]
  },
  {
   "cell_type": "code",
   "execution_count": null,
   "id": "d342cd70-43ce-4e60-8d41-1c215305e760",
   "metadata": {
    "hide-output": false
   },
   "outputs": [],
   "source": [
    "pd.Timestamp(\n",
    "    year=2019,\n",
    "    month=10,\n",
    "    day=27,\n",
    "    hour=1,\n",
    "    minute=30,\n",
    "    tz=\"dateutil/Europe/London\",\n",
    "    fold=1,\n",
    ")"
   ]
  },
  {
   "cell_type": "markdown",
   "id": "b362ae24",
   "metadata": {},
   "source": [
    "\n",
    "<a id='timeseries-timezone-ambiguous'></a>"
   ]
  },
  {
   "cell_type": "markdown",
   "id": "3870baa7",
   "metadata": {},
   "source": [
    "### Ambiguous times when localizing\n",
    "\n",
    "`tz_localize` may not be able to determine the UTC offset of a timestamp\n",
    "because daylight savings time (DST) in a local time zone causes some times to occur\n",
    "twice within one day (“clocks fall back”). The following options are available:\n",
    "\n",
    "- `'raise'`: Raises a `pytz.AmbiguousTimeError` (the default behavior)  \n",
    "- `'infer'`: Attempt to determine the correct offset base on the monotonicity of the timestamps  \n",
    "- `'NaT'`: Replaces ambiguous times with `NaT`  \n",
    "- `bool`: `True` represents a DST time, `False` represents non-DST time. An array-like of `bool` values is supported for a sequence of times.  "
   ]
  },
  {
   "cell_type": "code",
   "execution_count": null,
   "id": "0ad424bd",
   "metadata": {
    "hide-output": false
   },
   "outputs": [],
   "source": [
    "rng_hourly = pd.DatetimeIndex(\n",
    "    [\"11/06/2011 00:00\", \"11/06/2011 01:00\", \"11/06/2011 01:00\", \"11/06/2011 02:00\"]\n",
    ")"
   ]
  },
  {
   "cell_type": "markdown",
   "id": "ceb126df",
   "metadata": {},
   "source": [
    "This will fail as there are ambiguous times (`'11/06/2011 01:00'`)"
   ]
  },
  {
   "cell_type": "markdown",
   "id": "cbad9421",
   "metadata": {
    "hide-output": false
   },
   "source": [
    "```python\n",
    "In [2]: rng_hourly.tz_localize('US/Eastern')\n",
    "AmbiguousTimeError: Cannot infer dst time from Timestamp('2011-11-06 01:00:00'), try using the 'ambiguous' argument\n",
    "```\n"
   ]
  },
  {
   "cell_type": "markdown",
   "id": "eff098fc",
   "metadata": {},
   "source": [
    "Handle these ambiguous times by specifying the following."
   ]
  },
  {
   "cell_type": "code",
   "execution_count": null,
   "id": "a4aee859-d716-40ea-a0f5-5d4677119224",
   "metadata": {
    "hide-output": false
   },
   "outputs": [],
   "source": [
    "rng_hourly.tz_localize(\"US/Eastern\", ambiguous=\"infer\")"
   ]
  },
  {
   "cell_type": "code",
   "execution_count": null,
   "id": "da55cadb-484d-4286-9888-9205d1965064",
   "metadata": {
    "hide-output": false
   },
   "outputs": [],
   "source": [
    "rng_hourly.tz_localize(\"US/Eastern\", ambiguous=\"NaT\")"
   ]
  },
  {
   "cell_type": "code",
   "execution_count": null,
   "id": "8155af66-6f02-41ab-b614-9d9ef03bd582",
   "metadata": {
    "hide-output": false
   },
   "outputs": [],
   "source": [
    "rng_hourly.tz_localize(\"US/Eastern\", ambiguous=[True, True, False, False])"
   ]
  },
  {
   "cell_type": "markdown",
   "id": "1e9e2844",
   "metadata": {},
   "source": [
    "\n",
    "<a id='timeseries-timezone-nonexistent'></a>"
   ]
  },
  {
   "cell_type": "markdown",
   "id": "646088e9",
   "metadata": {},
   "source": [
    "### Nonexistent times when localizing\n",
    "\n",
    "A DST transition may also shift the local time ahead by 1 hour creating nonexistent\n",
    "local times (“clocks spring forward”). The behavior of localizing a timeseries with nonexistent times\n",
    "can be controlled by the `nonexistent` argument. The following options are available:\n",
    "\n",
    "- `'raise'`: Raises a `pytz.NonExistentTimeError` (the default behavior)  \n",
    "- `'NaT'`: Replaces nonexistent times with `NaT`  \n",
    "- `'shift_forward'`: Shifts nonexistent times forward to the closest real time  \n",
    "- `'shift_backward'`: Shifts nonexistent times backward to the closest real time  \n",
    "- timedelta object: Shifts nonexistent times by the timedelta duration  "
   ]
  },
  {
   "cell_type": "code",
   "execution_count": null,
   "id": "cba0f889",
   "metadata": {
    "hide-output": false
   },
   "outputs": [],
   "source": [
    "dti = pd.date_range(start=\"2015-03-29 02:30:00\", periods=3, freq=\"H\")\n",
    "# 2:30 is a nonexistent time"
   ]
  },
  {
   "cell_type": "markdown",
   "id": "eeb86efc",
   "metadata": {},
   "source": [
    "Localization of nonexistent times will raise an error by default."
   ]
  },
  {
   "cell_type": "markdown",
   "id": "46539ed1",
   "metadata": {
    "hide-output": false
   },
   "source": [
    "```python\n",
    "In [2]: dti.tz_localize('Europe/Warsaw')\n",
    "NonExistentTimeError: 2015-03-29 02:30:00\n",
    "```\n"
   ]
  },
  {
   "cell_type": "markdown",
   "id": "2f387725",
   "metadata": {},
   "source": [
    "Transform nonexistent times to `NaT` or shift the times."
   ]
  },
  {
   "cell_type": "code",
   "execution_count": null,
   "id": "4d52812d-aa38-4468-a339-816bc8273523",
   "metadata": {
    "hide-output": false
   },
   "outputs": [],
   "source": [
    "dti"
   ]
  },
  {
   "cell_type": "code",
   "execution_count": null,
   "id": "053d95b9-a962-448d-a83c-a307877676bf",
   "metadata": {
    "hide-output": false
   },
   "outputs": [],
   "source": [
    "dti.tz_localize(\"Europe/Warsaw\", nonexistent=\"shift_forward\")"
   ]
  },
  {
   "cell_type": "code",
   "execution_count": null,
   "id": "a09b6c5c-82ca-4ef9-b5ea-00a9b8311d86",
   "metadata": {
    "hide-output": false
   },
   "outputs": [],
   "source": [
    "dti.tz_localize(\"Europe/Warsaw\", nonexistent=\"shift_backward\")"
   ]
  },
  {
   "cell_type": "code",
   "execution_count": null,
   "id": "122b0278-11b7-4a5a-83ba-03cb100b03b9",
   "metadata": {
    "hide-output": false
   },
   "outputs": [],
   "source": [
    "dti.tz_localize(\"Europe/Warsaw\", nonexistent=pd.Timedelta(1, unit=\"H\"))"
   ]
  },
  {
   "cell_type": "code",
   "execution_count": null,
   "id": "9a5d8fae-85fd-43bf-845d-66c8b428fb47",
   "metadata": {
    "hide-output": false
   },
   "outputs": [],
   "source": [
    "dti.tz_localize(\"Europe/Warsaw\", nonexistent=\"NaT\")"
   ]
  },
  {
   "cell_type": "markdown",
   "id": "fa9f83f2",
   "metadata": {},
   "source": [
    "\n",
    "<a id='timeseries-timezone-series'></a>"
   ]
  },
  {
   "cell_type": "markdown",
   "id": "9d26a60e",
   "metadata": {},
   "source": [
    "### Time zone series operations\n",
    "\n",
    "A `Series` with time zone **naive** values is\n",
    "represented with a dtype of `datetime64[ns]`."
   ]
  },
  {
   "cell_type": "code",
   "execution_count": null,
   "id": "827a03e3",
   "metadata": {
    "hide-output": false
   },
   "outputs": [],
   "source": [
    "s_naive = pd.Series(pd.date_range(\"20130101\", periods=3))\n",
    "s_naive"
   ]
  },
  {
   "cell_type": "markdown",
   "id": "e7d68831",
   "metadata": {},
   "source": [
    "A `Series` with a time zone **aware** values is\n",
    "represented with a dtype of `datetime64[ns, tz]` where `tz` is the time zone"
   ]
  },
  {
   "cell_type": "code",
   "execution_count": null,
   "id": "b48b9e90",
   "metadata": {
    "hide-output": false
   },
   "outputs": [],
   "source": [
    "s_aware = pd.Series(pd.date_range(\"20130101\", periods=3, tz=\"US/Eastern\"))\n",
    "s_aware"
   ]
  },
  {
   "cell_type": "markdown",
   "id": "2c2094e8",
   "metadata": {},
   "source": [
    "Both of these `Series` time zone information\n",
    "can be manipulated via the `.dt` accessor, see the dt accessor section.\n",
    "\n",
    "For example, to localize and convert a naive stamp to time zone aware."
   ]
  },
  {
   "cell_type": "code",
   "execution_count": null,
   "id": "b91f71f8",
   "metadata": {
    "hide-output": false
   },
   "outputs": [],
   "source": [
    "s_naive.dt.tz_localize(\"UTC\").dt.tz_convert(\"US/Eastern\")"
   ]
  },
  {
   "cell_type": "markdown",
   "id": "a039fc24",
   "metadata": {},
   "source": [
    "Time zone information can also be manipulated using the `astype` method.\n",
    "This method can convert between different timezone-aware dtypes."
   ]
  },
  {
   "cell_type": "code",
   "execution_count": null,
   "id": "cbedeb74",
   "metadata": {
    "hide-output": false
   },
   "outputs": [],
   "source": [
    "# convert to a new time zone\n",
    "s_aware.astype(\"datetime64[ns, CET]\")"
   ]
  },
  {
   "cell_type": "markdown",
   "id": "b94c0c30",
   "metadata": {},
   "source": [
    ">**Note**\n",
    ">\n",
    ">Using `Series.to_numpy()` on a `Series`, returns a NumPy array of the data.\n",
    "NumPy does not currently support time zones (even though it is *printing* in the local time zone!),\n",
    "therefore an object array of Timestamps is returned for time zone aware data:"
   ]
  },
  {
   "cell_type": "code",
   "execution_count": null,
   "id": "a7827fad",
   "metadata": {
    "hide-output": false
   },
   "outputs": [],
   "source": [
    "s_naive.to_numpy()\n",
    "s_aware.to_numpy()"
   ]
  },
  {
   "cell_type": "markdown",
   "id": "3500afa1",
   "metadata": {},
   "source": [
    "By converting to an object array of Timestamps, it preserves the time zone\n",
    "information. For example, when converting back to a Series:"
   ]
  },
  {
   "cell_type": "code",
   "execution_count": null,
   "id": "6e05911c",
   "metadata": {
    "hide-output": false
   },
   "outputs": [],
   "source": [
    "pd.Series(s_aware.to_numpy())"
   ]
  },
  {
   "cell_type": "markdown",
   "id": "00d1d154",
   "metadata": {},
   "source": [
    "However, if you want an actual NumPy `datetime64[ns]` array (with the values\n",
    "converted to UTC) instead of an array of objects, you can specify the\n",
    "`dtype` argument:"
   ]
  },
  {
   "cell_type": "code",
   "execution_count": null,
   "id": "6dc0179e",
   "metadata": {
    "hide-output": false
   },
   "outputs": [],
   "source": [
    "s_aware.to_numpy(dtype=\"datetime64[ns]\")"
   ]
  }
 ],
 "metadata": {
  "date": 1630231091.4078426,
  "filename": "38_timeseries.rst",
  "kernelspec": {
   "display_name": "Python 3 (ipykernel)",
   "language": "python",
   "name": "python3"
  },
  "language_info": {
   "codemirror_mode": {
    "name": "ipython",
    "version": 3
   },
   "file_extension": ".py",
   "mimetype": "text/x-python",
   "name": "python",
   "nbconvert_exporter": "python",
   "pygments_lexer": "ipython3",
   "version": "3.8.8"
  },
  "title": "Time series / date functionality"
 },
 "nbformat": 4,
 "nbformat_minor": 5
}
