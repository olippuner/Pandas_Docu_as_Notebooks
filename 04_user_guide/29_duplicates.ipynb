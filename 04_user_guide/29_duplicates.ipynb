{
 "cells": [
  {
   "cell_type": "markdown",
   "id": "4ffa2f0e",
   "metadata": {},
   "source": [
    "# Duplicate Labels\n",
    "\n",
    "`Index` objects are not required to be unique; you can have duplicate row\n",
    "or column labels. This may be a bit confusing at first. If you’re familiar with\n",
    "SQL, you know that row labels are similar to a primary key on a table, and you\n",
    "would never want duplicates in a SQL table. But one of pandas’ roles is to clean\n",
    "messy, real-world data before it goes to some downstream system. And real-world\n",
    "data has duplicates, even in fields that are supposed to be unique.\n",
    "\n",
    "This section describes how duplicate labels change the behavior of certain\n",
    "operations, and how prevent duplicates from arising during operations, or to\n",
    "detect them if they do."
   ]
  },
  {
   "cell_type": "code",
   "execution_count": 20,
   "id": "7e87d5c3",
   "metadata": {
    "hide-output": false
   },
   "outputs": [],
   "source": [
    "import pandas as pd\n",
    "import numpy as np"
   ]
  },
  {
   "cell_type": "markdown",
   "id": "d7280c6a",
   "metadata": {},
   "source": [
    "## Consequences of Duplicate Labels\n",
    "\n",
    "Some pandas methods (`Series.reindex()` for example) just don’t work with\n",
    "duplicates present. The output can’t be determined, and so pandas raises an exception."
   ]
  },
  {
   "cell_type": "markdown",
   "id": "7600fb74-a1d3-46b9-b05d-9caf43ffe474",
   "metadata": {
    "hide-output": false
   },
   "source": [
    "```python\n",
    "\n",
    "s1 = pd.Series([0, 1, 2], index=[\"a\", \"b\", \"b\"])\n",
    "s1.reindex([\"a\", \"b\", \"c\"])\n",
    "#ValueError: cannot reindex from a duplicate axis\n",
    "``` "
   ]
  },
  {
   "cell_type": "markdown",
   "id": "e9e5b2c9",
   "metadata": {},
   "source": [
    "Other methods, like indexing, can give very surprising results. Typically\n",
    "indexing with a scalar will *reduce dimensionality*. Slicing a `DataFrame`\n",
    "with a scalar will return a `Series`. Slicing a `Series` with a scalar will\n",
    "return a scalar. But with duplicates, this isn’t the case."
   ]
  },
  {
   "cell_type": "code",
   "execution_count": 21,
   "id": "17f530e5",
   "metadata": {
    "hide-output": false
   },
   "outputs": [
    {
     "data": {
      "text/html": [
       "<div>\n",
       "<style scoped>\n",
       "    .dataframe tbody tr th:only-of-type {\n",
       "        vertical-align: middle;\n",
       "    }\n",
       "\n",
       "    .dataframe tbody tr th {\n",
       "        vertical-align: top;\n",
       "    }\n",
       "\n",
       "    .dataframe thead th {\n",
       "        text-align: right;\n",
       "    }\n",
       "</style>\n",
       "<table border=\"1\" class=\"dataframe\">\n",
       "  <thead>\n",
       "    <tr style=\"text-align: right;\">\n",
       "      <th></th>\n",
       "      <th>A</th>\n",
       "      <th>A</th>\n",
       "      <th>B</th>\n",
       "    </tr>\n",
       "  </thead>\n",
       "  <tbody>\n",
       "    <tr>\n",
       "      <th>0</th>\n",
       "      <td>0</td>\n",
       "      <td>1</td>\n",
       "      <td>2</td>\n",
       "    </tr>\n",
       "    <tr>\n",
       "      <th>1</th>\n",
       "      <td>3</td>\n",
       "      <td>4</td>\n",
       "      <td>5</td>\n",
       "    </tr>\n",
       "  </tbody>\n",
       "</table>\n",
       "</div>"
      ],
      "text/plain": [
       "   A  A  B\n",
       "0  0  1  2\n",
       "1  3  4  5"
      ]
     },
     "execution_count": 21,
     "metadata": {},
     "output_type": "execute_result"
    }
   ],
   "source": [
    "df1 = pd.DataFrame([[0, 1, 2], [3, 4, 5]], columns=[\"A\", \"A\", \"B\"])\n",
    "df1"
   ]
  },
  {
   "cell_type": "markdown",
   "id": "b5277c3d",
   "metadata": {},
   "source": [
    "We have duplicates in the columns. If we slice `'B'`, we get back a `Series`"
   ]
  },
  {
   "cell_type": "code",
   "execution_count": 22,
   "id": "7d74be86",
   "metadata": {
    "hide-output": false
   },
   "outputs": [
    {
     "data": {
      "text/plain": [
       "0    2\n",
       "1    5\n",
       "Name: B, dtype: int64"
      ]
     },
     "execution_count": 22,
     "metadata": {},
     "output_type": "execute_result"
    }
   ],
   "source": [
    "df1[\"B\"]  # a series"
   ]
  },
  {
   "cell_type": "markdown",
   "id": "21f6c1aa",
   "metadata": {},
   "source": [
    "But slicing `'A'` returns a `DataFrame`"
   ]
  },
  {
   "cell_type": "code",
   "execution_count": 23,
   "id": "08ae68b8",
   "metadata": {
    "hide-output": false
   },
   "outputs": [
    {
     "data": {
      "text/html": [
       "<div>\n",
       "<style scoped>\n",
       "    .dataframe tbody tr th:only-of-type {\n",
       "        vertical-align: middle;\n",
       "    }\n",
       "\n",
       "    .dataframe tbody tr th {\n",
       "        vertical-align: top;\n",
       "    }\n",
       "\n",
       "    .dataframe thead th {\n",
       "        text-align: right;\n",
       "    }\n",
       "</style>\n",
       "<table border=\"1\" class=\"dataframe\">\n",
       "  <thead>\n",
       "    <tr style=\"text-align: right;\">\n",
       "      <th></th>\n",
       "      <th>A</th>\n",
       "      <th>A</th>\n",
       "    </tr>\n",
       "  </thead>\n",
       "  <tbody>\n",
       "    <tr>\n",
       "      <th>0</th>\n",
       "      <td>0</td>\n",
       "      <td>1</td>\n",
       "    </tr>\n",
       "    <tr>\n",
       "      <th>1</th>\n",
       "      <td>3</td>\n",
       "      <td>4</td>\n",
       "    </tr>\n",
       "  </tbody>\n",
       "</table>\n",
       "</div>"
      ],
      "text/plain": [
       "   A  A\n",
       "0  0  1\n",
       "1  3  4"
      ]
     },
     "execution_count": 23,
     "metadata": {},
     "output_type": "execute_result"
    }
   ],
   "source": [
    "df1[\"A\"]  # a DataFrame"
   ]
  },
  {
   "cell_type": "markdown",
   "id": "08979635",
   "metadata": {},
   "source": [
    "This applies to row labels as well"
   ]
  },
  {
   "cell_type": "code",
   "execution_count": 24,
   "id": "56f7290a-4d96-4e10-919c-5a24bb6abe8c",
   "metadata": {
    "hide-output": false
   },
   "outputs": [
    {
     "data": {
      "text/html": [
       "<div>\n",
       "<style scoped>\n",
       "    .dataframe tbody tr th:only-of-type {\n",
       "        vertical-align: middle;\n",
       "    }\n",
       "\n",
       "    .dataframe tbody tr th {\n",
       "        vertical-align: top;\n",
       "    }\n",
       "\n",
       "    .dataframe thead th {\n",
       "        text-align: right;\n",
       "    }\n",
       "</style>\n",
       "<table border=\"1\" class=\"dataframe\">\n",
       "  <thead>\n",
       "    <tr style=\"text-align: right;\">\n",
       "      <th></th>\n",
       "      <th>A</th>\n",
       "    </tr>\n",
       "  </thead>\n",
       "  <tbody>\n",
       "    <tr>\n",
       "      <th>a</th>\n",
       "      <td>0</td>\n",
       "    </tr>\n",
       "    <tr>\n",
       "      <th>a</th>\n",
       "      <td>1</td>\n",
       "    </tr>\n",
       "    <tr>\n",
       "      <th>b</th>\n",
       "      <td>2</td>\n",
       "    </tr>\n",
       "  </tbody>\n",
       "</table>\n",
       "</div>"
      ],
      "text/plain": [
       "   A\n",
       "a  0\n",
       "a  1\n",
       "b  2"
      ]
     },
     "execution_count": 24,
     "metadata": {},
     "output_type": "execute_result"
    }
   ],
   "source": [
    "df2 = pd.DataFrame({\"A\": [0, 1, 2]}, index=[\"a\", \"a\", \"b\"])\n",
    "df2"
   ]
  },
  {
   "cell_type": "code",
   "execution_count": 25,
   "id": "52c2ed0d-32d3-445a-8639-e817c0ac922c",
   "metadata": {
    "hide-output": false
   },
   "outputs": [
    {
     "data": {
      "text/plain": [
       "2"
      ]
     },
     "execution_count": 25,
     "metadata": {},
     "output_type": "execute_result"
    }
   ],
   "source": [
    "df2.loc[\"b\", \"A\"]  # a scalar"
   ]
  },
  {
   "cell_type": "code",
   "execution_count": 26,
   "id": "48d142db-b254-40d3-be2f-3a49d24a4217",
   "metadata": {
    "hide-output": false
   },
   "outputs": [
    {
     "data": {
      "text/plain": [
       "a    0\n",
       "a    1\n",
       "Name: A, dtype: int64"
      ]
     },
     "execution_count": 26,
     "metadata": {},
     "output_type": "execute_result"
    }
   ],
   "source": [
    "df2.loc[\"a\", \"A\"]  # a Series"
   ]
  },
  {
   "cell_type": "markdown",
   "id": "66706c86",
   "metadata": {},
   "source": [
    "## Duplicate Label Detection\n",
    "\n",
    "You can check whether an `Index` (storing the row or column labels) is\n",
    "unique with `Index.is_unique`:"
   ]
  },
  {
   "cell_type": "code",
   "execution_count": 27,
   "id": "32419b83-f78e-4375-ae84-932ad62b760b",
   "metadata": {
    "hide-output": false
   },
   "outputs": [
    {
     "data": {
      "text/html": [
       "<div>\n",
       "<style scoped>\n",
       "    .dataframe tbody tr th:only-of-type {\n",
       "        vertical-align: middle;\n",
       "    }\n",
       "\n",
       "    .dataframe tbody tr th {\n",
       "        vertical-align: top;\n",
       "    }\n",
       "\n",
       "    .dataframe thead th {\n",
       "        text-align: right;\n",
       "    }\n",
       "</style>\n",
       "<table border=\"1\" class=\"dataframe\">\n",
       "  <thead>\n",
       "    <tr style=\"text-align: right;\">\n",
       "      <th></th>\n",
       "      <th>A</th>\n",
       "    </tr>\n",
       "  </thead>\n",
       "  <tbody>\n",
       "    <tr>\n",
       "      <th>a</th>\n",
       "      <td>0</td>\n",
       "    </tr>\n",
       "    <tr>\n",
       "      <th>a</th>\n",
       "      <td>1</td>\n",
       "    </tr>\n",
       "    <tr>\n",
       "      <th>b</th>\n",
       "      <td>2</td>\n",
       "    </tr>\n",
       "  </tbody>\n",
       "</table>\n",
       "</div>"
      ],
      "text/plain": [
       "   A\n",
       "a  0\n",
       "a  1\n",
       "b  2"
      ]
     },
     "execution_count": 27,
     "metadata": {},
     "output_type": "execute_result"
    }
   ],
   "source": [
    "df2"
   ]
  },
  {
   "cell_type": "code",
   "execution_count": 28,
   "id": "8b2f46ca-d3fd-4267-92e3-771bcb5d20b3",
   "metadata": {
    "hide-output": false
   },
   "outputs": [
    {
     "data": {
      "text/plain": [
       "False"
      ]
     },
     "execution_count": 28,
     "metadata": {},
     "output_type": "execute_result"
    }
   ],
   "source": [
    "df2.index.is_unique"
   ]
  },
  {
   "cell_type": "code",
   "execution_count": 29,
   "id": "fee0c5aa-7da0-4886-97ad-6aa6aaff40c1",
   "metadata": {
    "hide-output": false
   },
   "outputs": [
    {
     "data": {
      "text/plain": [
       "True"
      ]
     },
     "execution_count": 29,
     "metadata": {},
     "output_type": "execute_result"
    }
   ],
   "source": [
    "df2.columns.is_unique"
   ]
  },
  {
   "cell_type": "markdown",
   "id": "a674e532",
   "metadata": {},
   "source": [
    ">**Note**\n",
    ">\n",
    ">Checking whether an index is unique is somewhat expensive for large datasets.\n",
    "pandas does cache this result, so re-checking on the same index is very fast.\n",
    "\n",
    "`Index.duplicated()` will return a boolean ndarray indicating whether a\n",
    "label is repeated."
   ]
  },
  {
   "cell_type": "code",
   "execution_count": 30,
   "id": "cfba06a4",
   "metadata": {
    "hide-output": false
   },
   "outputs": [
    {
     "data": {
      "text/plain": [
       "array([False,  True, False])"
      ]
     },
     "execution_count": 30,
     "metadata": {},
     "output_type": "execute_result"
    }
   ],
   "source": [
    "df2.index.duplicated()"
   ]
  },
  {
   "cell_type": "markdown",
   "id": "1fb69dca",
   "metadata": {},
   "source": [
    "Which can be used as a boolean filter to drop duplicate rows."
   ]
  },
  {
   "cell_type": "code",
   "execution_count": 31,
   "id": "5256eb98",
   "metadata": {
    "hide-output": false
   },
   "outputs": [
    {
     "data": {
      "text/html": [
       "<div>\n",
       "<style scoped>\n",
       "    .dataframe tbody tr th:only-of-type {\n",
       "        vertical-align: middle;\n",
       "    }\n",
       "\n",
       "    .dataframe tbody tr th {\n",
       "        vertical-align: top;\n",
       "    }\n",
       "\n",
       "    .dataframe thead th {\n",
       "        text-align: right;\n",
       "    }\n",
       "</style>\n",
       "<table border=\"1\" class=\"dataframe\">\n",
       "  <thead>\n",
       "    <tr style=\"text-align: right;\">\n",
       "      <th></th>\n",
       "      <th>A</th>\n",
       "    </tr>\n",
       "  </thead>\n",
       "  <tbody>\n",
       "    <tr>\n",
       "      <th>a</th>\n",
       "      <td>0</td>\n",
       "    </tr>\n",
       "    <tr>\n",
       "      <th>b</th>\n",
       "      <td>2</td>\n",
       "    </tr>\n",
       "  </tbody>\n",
       "</table>\n",
       "</div>"
      ],
      "text/plain": [
       "   A\n",
       "a  0\n",
       "b  2"
      ]
     },
     "execution_count": 31,
     "metadata": {},
     "output_type": "execute_result"
    }
   ],
   "source": [
    "df2.loc[~df2.index.duplicated(), :]"
   ]
  },
  {
   "cell_type": "markdown",
   "id": "0cd89481",
   "metadata": {},
   "source": [
    "If you need additional logic to handle duplicate labels, rather than just\n",
    "dropping the repeats, using `groupby()` on the index is a common\n",
    "trick. For example, we’ll resolve duplicates by taking the average of all rows\n",
    "with the same label."
   ]
  },
  {
   "cell_type": "code",
   "execution_count": 32,
   "id": "900e032a",
   "metadata": {
    "hide-output": false
   },
   "outputs": [
    {
     "data": {
      "text/html": [
       "<div>\n",
       "<style scoped>\n",
       "    .dataframe tbody tr th:only-of-type {\n",
       "        vertical-align: middle;\n",
       "    }\n",
       "\n",
       "    .dataframe tbody tr th {\n",
       "        vertical-align: top;\n",
       "    }\n",
       "\n",
       "    .dataframe thead th {\n",
       "        text-align: right;\n",
       "    }\n",
       "</style>\n",
       "<table border=\"1\" class=\"dataframe\">\n",
       "  <thead>\n",
       "    <tr style=\"text-align: right;\">\n",
       "      <th></th>\n",
       "      <th>A</th>\n",
       "    </tr>\n",
       "  </thead>\n",
       "  <tbody>\n",
       "    <tr>\n",
       "      <th>a</th>\n",
       "      <td>0.5</td>\n",
       "    </tr>\n",
       "    <tr>\n",
       "      <th>b</th>\n",
       "      <td>2.0</td>\n",
       "    </tr>\n",
       "  </tbody>\n",
       "</table>\n",
       "</div>"
      ],
      "text/plain": [
       "     A\n",
       "a  0.5\n",
       "b  2.0"
      ]
     },
     "execution_count": 32,
     "metadata": {},
     "output_type": "execute_result"
    }
   ],
   "source": [
    "df2.groupby(level=0).mean()"
   ]
  },
  {
   "cell_type": "markdown",
   "id": "9e86b953",
   "metadata": {},
   "source": [
    "\n",
    "<a id='duplicates-disallow'></a>"
   ]
  },
  {
   "cell_type": "markdown",
   "id": "bdcafb37",
   "metadata": {},
   "source": [
    "## Disallowing Duplicate Labels\n",
    "\n",
    "New in version 1.2.0.\n",
    "\n",
    "As noted above, handling duplicates is an important feature when reading in raw\n",
    "data. That said, you may want to avoid introducing duplicates as part of a data\n",
    "processing pipeline (from methods like `pandas.concat()`,\n",
    "`rename()`, etc.). Both `Series` and `DataFrame`\n",
    "*disallow* duplicate labels by calling `.set_flags(allows_duplicate_labels=False)`.\n",
    "(the default is to allow them). If there are duplicate labels, an exception\n",
    "will be raised."
   ]
  },
  {
   "cell_type": "markdown",
   "id": "af23598b-9cba-4bcc-9b6c-85b800d9ac9f",
   "metadata": {
    "hide-output": false
   },
   "source": [
    "```Python\n",
    "\n",
    "pd.Series([0, 1, 2], index=[\"a\", \"b\", \"b\"]).set_flags(allows_duplicate_labels=False)\n",
    "DuplicateLabelError: Index has duplicates.\n",
    "```"
   ]
  },
  {
   "cell_type": "code",
   "execution_count": 33,
   "id": "772ab1d0-df60-4ab4-ab14-06a32a4c38b3",
   "metadata": {},
   "outputs": [
    {
     "data": {
      "text/plain": [
       "a    0\n",
       "b    1\n",
       "b    2\n",
       "dtype: int64"
      ]
     },
     "execution_count": 33,
     "metadata": {},
     "output_type": "execute_result"
    }
   ],
   "source": [
    "pd.Series([0, 1, 2], index=[\"a\", \"b\", \"b\"]).set_flags(allows_duplicate_labels=True)"
   ]
  },
  {
   "cell_type": "markdown",
   "id": "c8d06ca0",
   "metadata": {},
   "source": [
    "This applies to both row and column labels for a `DataFrame`"
   ]
  },
  {
   "cell_type": "code",
   "execution_count": 34,
   "id": "f82838f4",
   "metadata": {
    "hide-output": false
   },
   "outputs": [
    {
     "data": {
      "text/html": [
       "<div>\n",
       "<style scoped>\n",
       "    .dataframe tbody tr th:only-of-type {\n",
       "        vertical-align: middle;\n",
       "    }\n",
       "\n",
       "    .dataframe tbody tr th {\n",
       "        vertical-align: top;\n",
       "    }\n",
       "\n",
       "    .dataframe thead th {\n",
       "        text-align: right;\n",
       "    }\n",
       "</style>\n",
       "<table border=\"1\" class=\"dataframe\">\n",
       "  <thead>\n",
       "    <tr style=\"text-align: right;\">\n",
       "      <th></th>\n",
       "      <th>A</th>\n",
       "      <th>B</th>\n",
       "      <th>C</th>\n",
       "    </tr>\n",
       "  </thead>\n",
       "  <tbody>\n",
       "    <tr>\n",
       "      <th>0</th>\n",
       "      <td>0</td>\n",
       "      <td>1</td>\n",
       "      <td>2</td>\n",
       "    </tr>\n",
       "    <tr>\n",
       "      <th>1</th>\n",
       "      <td>3</td>\n",
       "      <td>4</td>\n",
       "      <td>5</td>\n",
       "    </tr>\n",
       "  </tbody>\n",
       "</table>\n",
       "</div>"
      ],
      "text/plain": [
       "   A  B  C\n",
       "0  0  1  2\n",
       "1  3  4  5"
      ]
     },
     "execution_count": 34,
     "metadata": {},
     "output_type": "execute_result"
    }
   ],
   "source": [
    "pd.DataFrame([[0, 1, 2], [3, 4, 5]], columns=[\"A\", \"B\", \"C\"],).set_flags(\n",
    "    allows_duplicate_labels=False\n",
    ")"
   ]
  },
  {
   "cell_type": "markdown",
   "id": "9f005c36",
   "metadata": {},
   "source": [
    "This attribute can be checked or set with `allows_duplicate_labels`,\n",
    "which indicates whether that object can have duplicate labels."
   ]
  },
  {
   "cell_type": "code",
   "execution_count": 35,
   "id": "a2d87eaa-085a-45c6-9d4c-953ecd6e968c",
   "metadata": {
    "hide-output": false
   },
   "outputs": [
    {
     "data": {
      "text/html": [
       "<div>\n",
       "<style scoped>\n",
       "    .dataframe tbody tr th:only-of-type {\n",
       "        vertical-align: middle;\n",
       "    }\n",
       "\n",
       "    .dataframe tbody tr th {\n",
       "        vertical-align: top;\n",
       "    }\n",
       "\n",
       "    .dataframe thead th {\n",
       "        text-align: right;\n",
       "    }\n",
       "</style>\n",
       "<table border=\"1\" class=\"dataframe\">\n",
       "  <thead>\n",
       "    <tr style=\"text-align: right;\">\n",
       "      <th></th>\n",
       "      <th>A</th>\n",
       "    </tr>\n",
       "  </thead>\n",
       "  <tbody>\n",
       "    <tr>\n",
       "      <th>x</th>\n",
       "      <td>0</td>\n",
       "    </tr>\n",
       "    <tr>\n",
       "      <th>y</th>\n",
       "      <td>1</td>\n",
       "    </tr>\n",
       "    <tr>\n",
       "      <th>X</th>\n",
       "      <td>2</td>\n",
       "    </tr>\n",
       "    <tr>\n",
       "      <th>Y</th>\n",
       "      <td>3</td>\n",
       "    </tr>\n",
       "  </tbody>\n",
       "</table>\n",
       "</div>"
      ],
      "text/plain": [
       "   A\n",
       "x  0\n",
       "y  1\n",
       "X  2\n",
       "Y  3"
      ]
     },
     "execution_count": 35,
     "metadata": {},
     "output_type": "execute_result"
    }
   ],
   "source": [
    "df = pd.DataFrame({\"A\": [0, 1, 2, 3]}, index=[\"x\", \"y\", \"X\", \"Y\"]).set_flags(\n",
    "    allows_duplicate_labels=False\n",
    ")\n",
    "df"
   ]
  },
  {
   "cell_type": "code",
   "execution_count": 36,
   "id": "f4ac18eb-f353-40f5-bfaf-a88d5b260361",
   "metadata": {
    "hide-output": false
   },
   "outputs": [
    {
     "data": {
      "text/plain": [
       "False"
      ]
     },
     "execution_count": 36,
     "metadata": {},
     "output_type": "execute_result"
    }
   ],
   "source": [
    "df.flags.allows_duplicate_labels"
   ]
  },
  {
   "cell_type": "markdown",
   "id": "11fb3aa8",
   "metadata": {},
   "source": [
    "`DataFrame.set_flags()` can be used to return a new `DataFrame` with attributes\n",
    "like `allows_duplicate_labels` set to some value"
   ]
  },
  {
   "cell_type": "code",
   "execution_count": 37,
   "id": "e415425e-44ce-47d3-900e-da31887396eb",
   "metadata": {
    "hide-output": false
   },
   "outputs": [],
   "source": [
    "df2 = df.set_flags(allows_duplicate_labels=True)"
   ]
  },
  {
   "cell_type": "code",
   "execution_count": 38,
   "id": "ae7afce3-88f0-41b7-a1f4-4606670c9820",
   "metadata": {
    "hide-output": false
   },
   "outputs": [
    {
     "data": {
      "text/plain": [
       "True"
      ]
     },
     "execution_count": 38,
     "metadata": {},
     "output_type": "execute_result"
    }
   ],
   "source": [
    "df2.flags.allows_duplicate_labels"
   ]
  },
  {
   "cell_type": "markdown",
   "id": "fee253d8",
   "metadata": {},
   "source": [
    "The new `DataFrame` returned is a view on the same data as the old `DataFrame`.\n",
    "Or the property can just be set directly on the same object"
   ]
  },
  {
   "cell_type": "code",
   "execution_count": 39,
   "id": "7955b9a1-356f-40b5-894b-d389fee15faa",
   "metadata": {
    "hide-output": false
   },
   "outputs": [],
   "source": [
    "df2.flags.allows_duplicate_labels = False"
   ]
  },
  {
   "cell_type": "code",
   "execution_count": 40,
   "id": "71015a8e-0ef4-434c-be5f-4564e28bc4ba",
   "metadata": {
    "hide-output": false
   },
   "outputs": [
    {
     "data": {
      "text/plain": [
       "False"
      ]
     },
     "execution_count": 40,
     "metadata": {},
     "output_type": "execute_result"
    }
   ],
   "source": [
    "df2.flags.allows_duplicate_labels"
   ]
  },
  {
   "cell_type": "markdown",
   "id": "35dd6814",
   "metadata": {},
   "source": [
    "When processing raw, messy data you might initially read in the messy data\n",
    "(which potentially has duplicate labels), deduplicate, and then disallow duplicates\n",
    "going forward, to ensure that your data pipeline doesn’t introduce duplicates."
   ]
  },
  {
   "cell_type": "markdown",
   "id": "f6e6073d",
   "metadata": {
    "hide-output": false
   },
   "source": [
    "```python\n",
    ">>> raw = pd.read_csv(\"...\")\n",
    ">>> deduplicated = raw.groupby(level=0).first()  # remove duplicates\n",
    ">>> deduplicated.flags.allows_duplicate_labels = False  # disallow going forward\n",
    "```\n"
   ]
  },
  {
   "cell_type": "markdown",
   "id": "abeae9f4",
   "metadata": {},
   "source": [
    "Setting `allows_duplicate_labels=True` on a `Series` or `DataFrame` with duplicate\n",
    "labels or performing an operation that introduces duplicate labels on a `Series` or\n",
    "`DataFrame` that disallows duplicates will raise an\n",
    "`errors.DuplicateLabelError`."
   ]
  },
  {
   "cell_type": "markdown",
   "id": "c2424441-a229-41df-a2f7-3b8c7754eeda",
   "metadata": {
    "hide-output": false
   },
   "source": [
    "``` Python\n",
    "\n",
    "df.rename(str.upper)\n",
    "DuplicateLabelError: Index has duplicates.\n",
    "```"
   ]
  },
  {
   "cell_type": "markdown",
   "id": "a837543a",
   "metadata": {},
   "source": [
    "This error message contains the labels that are duplicated, and the numeric positions\n",
    "of all the duplicates (including the “original”) in the `Series` or `DataFrame`"
   ]
  },
  {
   "cell_type": "markdown",
   "id": "6afd2954",
   "metadata": {},
   "source": [
    "### Duplicate Label Propagation\n",
    "\n",
    "In general, disallowing duplicates is “sticky”. It’s preserved through\n",
    "operations."
   ]
  },
  {
   "cell_type": "code",
   "execution_count": null,
   "id": "fb2f32a6-ea78-42b8-a9f2-66c11b19eaf8",
   "metadata": {
    "hide-output": false
   },
   "outputs": [],
   "source": [
    "s1 = pd.Series(0, index=[\"a\", \"b\"]).set_flags(allows_duplicate_labels=False)\n",
    "s1"
   ]
  },
  {
   "cell_type": "code",
   "execution_count": null,
   "id": "88e78621-cd83-4d03-b0c6-e219d1423023",
   "metadata": {
    "hide-output": false
   },
   "outputs": [],
   "source": [
    "s1.head().rename({\"a\": \"b\"})"
   ]
  },
  {
   "cell_type": "markdown",
   "id": "b383f8b8",
   "metadata": {},
   "source": [
    "This is an experimental feature. Currently, many methods fail to\n",
    "propagate the `allows_duplicate_labels` value. In future versions\n",
    "it is expected that every method taking or returning one or more\n",
    "DataFrame or Series objects will propagate `allows_duplicate_labels`."
   ]
  }
 ],
 "metadata": {
  "date": 1630231087.9934227,
  "filename": "29_duplicates.rst",
  "kernelspec": {
   "display_name": "Python 3",
   "language": "python",
   "name": "python3"
  },
  "language_info": {
   "codemirror_mode": {
    "name": "ipython",
    "version": 3
   },
   "file_extension": ".py",
   "mimetype": "text/x-python",
   "name": "python",
   "nbconvert_exporter": "python",
   "pygments_lexer": "ipython3",
   "version": "3.8.8"
  },
  "title": "Duplicate Labels"
 },
 "nbformat": 4,
 "nbformat_minor": 5
}
