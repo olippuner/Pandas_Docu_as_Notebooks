{
 "cells": [
  {
   "cell_type": "code",
   "execution_count": 231,
   "id": "06106fe3",
   "metadata": {},
   "outputs": [],
   "source": [
    "import numpy as np\n",
    "import pandas as pd\n",
    "import matplotlib.pyplot as plt"
   ]
  },
  {
   "cell_type": "markdown",
   "id": "3cfc9e37",
   "metadata": {},
   "source": [
    "# Essential basic functionality\n",
    "\n",
    "Here we discuss a lot of the essential functionality common to the pandas data\n",
    "structures. To begin, let’s create some example objects like we did in\n",
    "the [10 minutes to pandas](10min.ipynb#min) section:"
   ]
  },
  {
   "cell_type": "code",
   "execution_count": 232,
   "id": "ca82d095",
   "metadata": {
    "hide-output": false
   },
   "outputs": [],
   "source": [
    "index = pd.date_range(\"1/1/2000\", periods=8)\n",
    "s = pd.Series(np.random.randn(5), index=[\"a\", \"b\", \"c\", \"d\", \"e\"])\n",
    "df = pd.DataFrame(np.random.randn(8, 3), index=index, columns=[\"A\", \"B\", \"C\"])"
   ]
  },
  {
   "cell_type": "markdown",
   "id": "16e1159a",
   "metadata": {},
   "source": [
    "\n",
    "<a id='basics-head-tail'></a>"
   ]
  },
  {
   "cell_type": "markdown",
   "id": "e5dd9a77",
   "metadata": {},
   "source": [
    "## Head and tail\n",
    "\n",
    "To view a small sample of a Series or DataFrame object, use the\n",
    "`head()` and `tail()` methods. The default number\n",
    "of elements to display is five, but you may pass a custom number."
   ]
  },
  {
   "cell_type": "code",
   "execution_count": 233,
   "id": "3422a7a6",
   "metadata": {
    "hide-output": false
   },
   "outputs": [
    {
     "data": {
      "text/plain": [
       "997   -0.103386\n",
       "998   -2.341246\n",
       "999   -2.797939\n",
       "dtype: float64"
      ]
     },
     "execution_count": 233,
     "metadata": {},
     "output_type": "execute_result"
    }
   ],
   "source": [
    "long_series = pd.Series(np.random.randn(1000))\n",
    "long_series.head()\n",
    "long_series.tail(3)"
   ]
  },
  {
   "cell_type": "markdown",
   "id": "655f5759",
   "metadata": {},
   "source": [
    "\n",
    "<a id='basics-attrs'></a>"
   ]
  },
  {
   "cell_type": "markdown",
   "id": "7c640899",
   "metadata": {},
   "source": [
    "## Attributes and underlying data\n",
    "\n",
    "pandas objects have a number of attributes enabling you to access the metadata\n",
    "\n",
    "- **shape**: gives the axis dimensions of the object, consistent with ndarray  \n",
    "- **Axis labels**\n",
    "- **Series**: *index* (only axis)  \n",
    "- **DataFrame**: *index* (rows) and *columns*  \n",
    "\n",
    "Note, **these attributes can be safely assigned to**!"
   ]
  },
  {
   "cell_type": "code",
   "execution_count": 234,
   "id": "c51ca1df",
   "metadata": {
    "hide-output": false
   },
   "outputs": [
    {
     "data": {
      "text/html": [
       "<div>\n",
       "<style scoped>\n",
       "    .dataframe tbody tr th:only-of-type {\n",
       "        vertical-align: middle;\n",
       "    }\n",
       "\n",
       "    .dataframe tbody tr th {\n",
       "        vertical-align: top;\n",
       "    }\n",
       "\n",
       "    .dataframe thead th {\n",
       "        text-align: right;\n",
       "    }\n",
       "</style>\n",
       "<table border=\"1\" class=\"dataframe\">\n",
       "  <thead>\n",
       "    <tr style=\"text-align: right;\">\n",
       "      <th></th>\n",
       "      <th>a</th>\n",
       "      <th>b</th>\n",
       "      <th>c</th>\n",
       "    </tr>\n",
       "  </thead>\n",
       "  <tbody>\n",
       "    <tr>\n",
       "      <th>2000-01-01</th>\n",
       "      <td>0.109265</td>\n",
       "      <td>-0.391464</td>\n",
       "      <td>-0.091522</td>\n",
       "    </tr>\n",
       "    <tr>\n",
       "      <th>2000-01-02</th>\n",
       "      <td>-0.301846</td>\n",
       "      <td>-0.415549</td>\n",
       "      <td>1.223086</td>\n",
       "    </tr>\n",
       "    <tr>\n",
       "      <th>2000-01-03</th>\n",
       "      <td>0.198677</td>\n",
       "      <td>-0.158907</td>\n",
       "      <td>0.642420</td>\n",
       "    </tr>\n",
       "    <tr>\n",
       "      <th>2000-01-04</th>\n",
       "      <td>0.525761</td>\n",
       "      <td>-1.111169</td>\n",
       "      <td>0.628532</td>\n",
       "    </tr>\n",
       "    <tr>\n",
       "      <th>2000-01-05</th>\n",
       "      <td>0.364323</td>\n",
       "      <td>1.241366</td>\n",
       "      <td>1.724102</td>\n",
       "    </tr>\n",
       "    <tr>\n",
       "      <th>2000-01-06</th>\n",
       "      <td>-2.222885</td>\n",
       "      <td>0.625753</td>\n",
       "      <td>-1.607452</td>\n",
       "    </tr>\n",
       "    <tr>\n",
       "      <th>2000-01-07</th>\n",
       "      <td>0.764395</td>\n",
       "      <td>1.261738</td>\n",
       "      <td>0.170061</td>\n",
       "    </tr>\n",
       "    <tr>\n",
       "      <th>2000-01-08</th>\n",
       "      <td>-0.103162</td>\n",
       "      <td>-0.623986</td>\n",
       "      <td>-1.133787</td>\n",
       "    </tr>\n",
       "  </tbody>\n",
       "</table>\n",
       "</div>"
      ],
      "text/plain": [
       "                   a         b         c\n",
       "2000-01-01  0.109265 -0.391464 -0.091522\n",
       "2000-01-02 -0.301846 -0.415549  1.223086\n",
       "2000-01-03  0.198677 -0.158907  0.642420\n",
       "2000-01-04  0.525761 -1.111169  0.628532\n",
       "2000-01-05  0.364323  1.241366  1.724102\n",
       "2000-01-06 -2.222885  0.625753 -1.607452\n",
       "2000-01-07  0.764395  1.261738  0.170061\n",
       "2000-01-08 -0.103162 -0.623986 -1.133787"
      ]
     },
     "execution_count": 234,
     "metadata": {},
     "output_type": "execute_result"
    }
   ],
   "source": [
    "df[:2]\n",
    "df.columns = [x.lower() for x in df.columns]\n",
    "df"
   ]
  },
  {
   "cell_type": "markdown",
   "id": "29ad1616",
   "metadata": {},
   "source": [
    "pandas objects (`Index`, `Series`, `DataFrame`) can be\n",
    "thought of as containers for arrays, which hold the actual data and do the\n",
    "actual computation. For many types, the underlying array is a\n",
    "`numpy.ndarray`. However, pandas and 3rd party libraries may *extend*\n",
    "NumPy’s type system to add support for custom arrays\n",
    "(see basics.dtypes).\n",
    "\n",
    "To get the actual data inside a `Index` or `Series`, use\n",
    "the `.array` property"
   ]
  },
  {
   "cell_type": "code",
   "execution_count": 235,
   "id": "6c85f994",
   "metadata": {
    "hide-output": false
   },
   "outputs": [
    {
     "data": {
      "text/plain": [
       "<PandasArray>\n",
       "['a', 'b', 'c', 'd', 'e']\n",
       "Length: 5, dtype: object"
      ]
     },
     "execution_count": 235,
     "metadata": {},
     "output_type": "execute_result"
    }
   ],
   "source": [
    "s.array\n",
    "s.index.array"
   ]
  },
  {
   "cell_type": "markdown",
   "id": "e4a43fbb",
   "metadata": {},
   "source": [
    "`array` will always be an `ExtensionArray`.\n",
    "The exact details of what an `ExtensionArray` is and why pandas uses them are a bit\n",
    "beyond the scope of this introduction. See basics.dtypes for more.\n",
    "\n",
    "If you know you need a NumPy array, use `to_numpy()`\n",
    "or `numpy.asarray()`."
   ]
  },
  {
   "cell_type": "code",
   "execution_count": 236,
   "id": "f9e3d6f6",
   "metadata": {
    "hide-output": false
   },
   "outputs": [
    {
     "data": {
      "text/plain": [
       "array([-0.66533636,  0.91733245,  2.01619275, -0.15712863, -0.31391122])"
      ]
     },
     "execution_count": 236,
     "metadata": {},
     "output_type": "execute_result"
    }
   ],
   "source": [
    "s.to_numpy()\n",
    "np.asarray(s)"
   ]
  },
  {
   "cell_type": "markdown",
   "id": "3aa7f829",
   "metadata": {},
   "source": [
    "When the Series or Index is backed by\n",
    "an `ExtensionArray`, `to_numpy()`\n",
    "may involve copying data and coercing values. See basics.dtypes for more.\n",
    "\n",
    "`to_numpy()` gives some control over the `dtype` of the\n",
    "resulting `numpy.ndarray`. For example, consider datetimes with timezones.\n",
    "NumPy doesn’t have a dtype to represent timezone-aware datetimes, so there\n",
    "are two possibly useful representations:\n",
    "\n",
    "1. An object-dtype `numpy.ndarray` with `Timestamp` objects, each\n",
    "  with the correct `tz`  \n",
    "1. A `datetime64[ns]` -dtype `numpy.ndarray`, where the values have\n",
    "  been converted to UTC and the timezone discarded  \n",
    "\n",
    "\n",
    "Timezones may be preserved with `dtype=object`"
   ]
  },
  {
   "cell_type": "code",
   "execution_count": 237,
   "id": "5120e33a",
   "metadata": {
    "hide-output": false
   },
   "outputs": [
    {
     "data": {
      "text/plain": [
       "array([Timestamp('2000-01-01 00:00:00+0100', tz='CET', freq='D'),\n",
       "       Timestamp('2000-01-02 00:00:00+0100', tz='CET', freq='D')],\n",
       "      dtype=object)"
      ]
     },
     "execution_count": 237,
     "metadata": {},
     "output_type": "execute_result"
    }
   ],
   "source": [
    "ser = pd.Series(pd.date_range(\"2000\", periods=2, tz=\"CET\"))\n",
    "ser.to_numpy(dtype=object)"
   ]
  },
  {
   "cell_type": "markdown",
   "id": "60050bf0",
   "metadata": {},
   "source": [
    "Or thrown away with `dtype='datetime64[ns]'`"
   ]
  },
  {
   "cell_type": "code",
   "execution_count": 238,
   "id": "b1bd9843",
   "metadata": {
    "hide-output": false
   },
   "outputs": [
    {
     "data": {
      "text/plain": [
       "array(['1999-12-31T23:00:00.000000000', '2000-01-01T23:00:00.000000000'],\n",
       "      dtype='datetime64[ns]')"
      ]
     },
     "execution_count": 238,
     "metadata": {},
     "output_type": "execute_result"
    }
   ],
   "source": [
    "ser.to_numpy(dtype=\"datetime64[ns]\")"
   ]
  },
  {
   "cell_type": "markdown",
   "id": "cee14d73",
   "metadata": {},
   "source": [
    "Getting the “raw data” inside a `DataFrame` is possibly a bit more\n",
    "complex. When your `DataFrame` only has a single data type for all the\n",
    "columns, `DataFrame.to_numpy()` will return the underlying data:"
   ]
  },
  {
   "cell_type": "code",
   "execution_count": 239,
   "id": "2db519f1",
   "metadata": {
    "hide-output": false
   },
   "outputs": [
    {
     "data": {
      "text/plain": [
       "array([[ 0.10926511, -0.39146426, -0.09152222],\n",
       "       [-0.30184595, -0.41554945,  1.22308622],\n",
       "       [ 0.19867729, -0.15890652,  0.64241968],\n",
       "       [ 0.52576091, -1.11116909,  0.62853225],\n",
       "       [ 0.36432328,  1.2413658 ,  1.72410185],\n",
       "       [-2.22288514,  0.62575345, -1.60745212],\n",
       "       [ 0.7643951 ,  1.26173799,  0.17006137],\n",
       "       [-0.10316242, -0.62398552, -1.1337871 ]])"
      ]
     },
     "execution_count": 239,
     "metadata": {},
     "output_type": "execute_result"
    }
   ],
   "source": [
    "df.to_numpy()"
   ]
  },
  {
   "cell_type": "markdown",
   "id": "0863438c",
   "metadata": {},
   "source": [
    "If a DataFrame contains homogeneously-typed data, the ndarray can\n",
    "actually be modified in-place, and the changes will be reflected in the data\n",
    "structure. For heterogeneous data (e.g. some of the DataFrame’s columns are not\n",
    "all the same dtype), this will not be the case. The values attribute itself,\n",
    "unlike the axis labels, cannot be assigned to.\n",
    "\n",
    ">**Note**\n",
    ">\n",
    ">When working with heterogeneous data, the dtype of the resulting ndarray\n",
    "will be chosen to accommodate all of the data involved. For example, if\n",
    "strings are involved, the result will be of object dtype. If there are only\n",
    "floats and integers, the resulting array will be of float dtype.\n",
    "\n",
    "In the past, pandas recommended `Series.values` or `DataFrame.values`\n",
    "for extracting the data from a Series or DataFrame. You’ll still find references\n",
    "to these in old code bases and online. Going forward, we recommend avoiding\n",
    "`.values` and using `.array` or `.to_numpy()`. `.values` has the following\n",
    "drawbacks:\n",
    "\n",
    "1. When your Series contains an extension type, it’s\n",
    "  unclear whether `Series.values` returns a NumPy array or the extension array.\n",
    "  `Series.array` will always return an `ExtensionArray`, and will never\n",
    "  copy data. `Series.to_numpy()` will always return a NumPy array,\n",
    "  potentially at the cost of copying / coercing values.  \n",
    "1. When your DataFrame contains a mixture of data types, `DataFrame.values` may\n",
    "  involve copying data and coercing values to a common dtype, a relatively expensive\n",
    "  operation. `DataFrame.to_numpy()`, being a method, makes it clearer that the\n",
    "  returned NumPy array may not be a view on the same data in the DataFrame.  \n",
    "\n",
    "\n",
    "\n",
    "<a id='basics-accelerate'></a>"
   ]
  },
  {
   "cell_type": "markdown",
   "id": "3418f147",
   "metadata": {},
   "source": [
    "## Accelerated operations\n",
    "\n",
    "pandas has support for accelerating certain types of binary numerical and boolean operations using\n",
    "the `numexpr` library and the `bottleneck` libraries.\n",
    "\n",
    "These libraries are especially useful when dealing with large data sets, and provide large\n",
    "speedups. `numexpr` uses smart chunking, caching, and multiple cores. `bottleneck` is\n",
    "a set of specialized cython routines that are especially fast when dealing with arrays that have\n",
    "`nans`.\n",
    "\n",
    "Here is a sample (using 100 column x 100,000 row `DataFrames`):\n",
    "\n",
    "``````|Operation|0.11.0 (ms)|Prior Version (ms)|Ratio to Prior|\n",
    "|:-----------------------:|:-----------------------:|:-----------------------:|:-----------------------:|\n",
    "|df1 > df2|13.32|125.35|0.1063|\n",
    "|df1 * df2|21.71|36.63|0.5928|\n",
    "|df1 + df2|22.04|36.50|0.6039|\n",
    "You are highly encouraged to install both libraries. See the section\n",
    "[Recommended Dependencies](../01_getting_started/install.ipynb#install-recommended-dependencies) for more installation info.\n",
    "\n",
    "These are both enabled to be used by default, you can control this by setting the options:"
   ]
  },
  {
   "cell_type": "markdown",
   "id": "2ac9b063",
   "metadata": {
    "hide-output": false
   },
   "source": [
    "```python\n",
    "pd.set_option(\"compute.use_bottleneck\", False)\n",
    "pd.set_option(\"compute.use_numexpr\", False)\n",
    "```\n"
   ]
  },
  {
   "cell_type": "markdown",
   "id": "d23a6df0",
   "metadata": {},
   "source": [
    "\n",
    "<a id='basics-binop'></a>"
   ]
  },
  {
   "cell_type": "markdown",
   "id": "04a84726",
   "metadata": {},
   "source": [
    "## Flexible binary operations\n",
    "\n",
    "With binary operations between pandas data structures, there are two key points\n",
    "of interest:\n",
    "\n",
    "- Broadcasting behavior between higher- (e.g. DataFrame) and\n",
    "  lower-dimensional (e.g. Series) objects.  \n",
    "- Missing data in computations.  \n",
    "\n",
    "\n",
    "We will demonstrate how to manage these issues independently, though they can\n",
    "be handled simultaneously."
   ]
  },
  {
   "cell_type": "markdown",
   "id": "7dd02aa0",
   "metadata": {},
   "source": [
    "### Matching / broadcasting behavior\n",
    "\n",
    "DataFrame has the methods `add()`, `sub()`,\n",
    "`mul()`, `div()` and related functions\n",
    "`radd()`, `rsub()`, …\n",
    "for carrying out binary operations. For broadcasting behavior,\n",
    "Series input is of primary interest. Using these functions, you can use to\n",
    "either match on the *index* or *columns* via the **axis** keyword:"
   ]
  },
  {
   "cell_type": "code",
   "execution_count": 240,
   "id": "11f39a50-8d24-4784-989a-e9609a3ce8e2",
   "metadata": {
    "hide-output": false
   },
   "outputs": [
    {
     "data": {
      "text/html": [
       "<div>\n",
       "<style scoped>\n",
       "    .dataframe tbody tr th:only-of-type {\n",
       "        vertical-align: middle;\n",
       "    }\n",
       "\n",
       "    .dataframe tbody tr th {\n",
       "        vertical-align: top;\n",
       "    }\n",
       "\n",
       "    .dataframe thead th {\n",
       "        text-align: right;\n",
       "    }\n",
       "</style>\n",
       "<table border=\"1\" class=\"dataframe\">\n",
       "  <thead>\n",
       "    <tr style=\"text-align: right;\">\n",
       "      <th></th>\n",
       "      <th>one</th>\n",
       "      <th>two</th>\n",
       "      <th>three</th>\n",
       "    </tr>\n",
       "  </thead>\n",
       "  <tbody>\n",
       "    <tr>\n",
       "      <th>a</th>\n",
       "      <td>0.075514</td>\n",
       "      <td>1.092052</td>\n",
       "      <td>NaN</td>\n",
       "    </tr>\n",
       "    <tr>\n",
       "      <th>b</th>\n",
       "      <td>-1.030396</td>\n",
       "      <td>0.294612</td>\n",
       "      <td>0.706416</td>\n",
       "    </tr>\n",
       "    <tr>\n",
       "      <th>c</th>\n",
       "      <td>-1.028668</td>\n",
       "      <td>0.228052</td>\n",
       "      <td>0.334334</td>\n",
       "    </tr>\n",
       "    <tr>\n",
       "      <th>d</th>\n",
       "      <td>NaN</td>\n",
       "      <td>0.295426</td>\n",
       "      <td>-0.720844</td>\n",
       "    </tr>\n",
       "  </tbody>\n",
       "</table>\n",
       "</div>"
      ],
      "text/plain": [
       "        one       two     three\n",
       "a  0.075514  1.092052       NaN\n",
       "b -1.030396  0.294612  0.706416\n",
       "c -1.028668  0.228052  0.334334\n",
       "d       NaN  0.295426 -0.720844"
      ]
     },
     "execution_count": 240,
     "metadata": {},
     "output_type": "execute_result"
    }
   ],
   "source": [
    "df = pd.DataFrame(\n",
    "    {\n",
    "        \"one\": pd.Series(np.random.randn(3), index=[\"a\", \"b\", \"c\"]),\n",
    "        \"two\": pd.Series(np.random.randn(4), index=[\"a\", \"b\", \"c\", \"d\"]),\n",
    "        \"three\": pd.Series(np.random.randn(3), index=[\"b\", \"c\", \"d\"]),\n",
    "    }\n",
    ")\n",
    "df"
   ]
  },
  {
   "cell_type": "code",
   "execution_count": 241,
   "id": "094d3328-8550-4444-8b53-3e0844b121aa",
   "metadata": {
    "hide-output": false
   },
   "outputs": [
    {
     "data": {
      "text/html": [
       "<div>\n",
       "<style scoped>\n",
       "    .dataframe tbody tr th:only-of-type {\n",
       "        vertical-align: middle;\n",
       "    }\n",
       "\n",
       "    .dataframe tbody tr th {\n",
       "        vertical-align: top;\n",
       "    }\n",
       "\n",
       "    .dataframe thead th {\n",
       "        text-align: right;\n",
       "    }\n",
       "</style>\n",
       "<table border=\"1\" class=\"dataframe\">\n",
       "  <thead>\n",
       "    <tr style=\"text-align: right;\">\n",
       "      <th></th>\n",
       "      <th>one</th>\n",
       "      <th>two</th>\n",
       "      <th>three</th>\n",
       "    </tr>\n",
       "  </thead>\n",
       "  <tbody>\n",
       "    <tr>\n",
       "      <th>a</th>\n",
       "      <td>1.105911</td>\n",
       "      <td>0.797439</td>\n",
       "      <td>NaN</td>\n",
       "    </tr>\n",
       "    <tr>\n",
       "      <th>b</th>\n",
       "      <td>0.000000</td>\n",
       "      <td>0.000000</td>\n",
       "      <td>0.000000</td>\n",
       "    </tr>\n",
       "    <tr>\n",
       "      <th>c</th>\n",
       "      <td>0.001729</td>\n",
       "      <td>-0.066560</td>\n",
       "      <td>-0.372081</td>\n",
       "    </tr>\n",
       "    <tr>\n",
       "      <th>d</th>\n",
       "      <td>NaN</td>\n",
       "      <td>0.000814</td>\n",
       "      <td>-1.427260</td>\n",
       "    </tr>\n",
       "  </tbody>\n",
       "</table>\n",
       "</div>"
      ],
      "text/plain": [
       "        one       two     three\n",
       "a  1.105911  0.797439       NaN\n",
       "b  0.000000  0.000000  0.000000\n",
       "c  0.001729 -0.066560 -0.372081\n",
       "d       NaN  0.000814 -1.427260"
      ]
     },
     "execution_count": 241,
     "metadata": {},
     "output_type": "execute_result"
    }
   ],
   "source": [
    "row = df.iloc[1]\n",
    "column = df[\"two\"]\n",
    "\n",
    "df.sub(row, axis=\"columns\")"
   ]
  },
  {
   "cell_type": "code",
   "execution_count": 242,
   "id": "bfea1b8e-a4de-435c-a34e-c81bec64d4f3",
   "metadata": {
    "hide-output": false
   },
   "outputs": [
    {
     "data": {
      "text/html": [
       "<div>\n",
       "<style scoped>\n",
       "    .dataframe tbody tr th:only-of-type {\n",
       "        vertical-align: middle;\n",
       "    }\n",
       "\n",
       "    .dataframe tbody tr th {\n",
       "        vertical-align: top;\n",
       "    }\n",
       "\n",
       "    .dataframe thead th {\n",
       "        text-align: right;\n",
       "    }\n",
       "</style>\n",
       "<table border=\"1\" class=\"dataframe\">\n",
       "  <thead>\n",
       "    <tr style=\"text-align: right;\">\n",
       "      <th></th>\n",
       "      <th>one</th>\n",
       "      <th>two</th>\n",
       "      <th>three</th>\n",
       "    </tr>\n",
       "  </thead>\n",
       "  <tbody>\n",
       "    <tr>\n",
       "      <th>a</th>\n",
       "      <td>1.105911</td>\n",
       "      <td>0.797439</td>\n",
       "      <td>NaN</td>\n",
       "    </tr>\n",
       "    <tr>\n",
       "      <th>b</th>\n",
       "      <td>0.000000</td>\n",
       "      <td>0.000000</td>\n",
       "      <td>0.000000</td>\n",
       "    </tr>\n",
       "    <tr>\n",
       "      <th>c</th>\n",
       "      <td>0.001729</td>\n",
       "      <td>-0.066560</td>\n",
       "      <td>-0.372081</td>\n",
       "    </tr>\n",
       "    <tr>\n",
       "      <th>d</th>\n",
       "      <td>NaN</td>\n",
       "      <td>0.000814</td>\n",
       "      <td>-1.427260</td>\n",
       "    </tr>\n",
       "  </tbody>\n",
       "</table>\n",
       "</div>"
      ],
      "text/plain": [
       "        one       two     three\n",
       "a  1.105911  0.797439       NaN\n",
       "b  0.000000  0.000000  0.000000\n",
       "c  0.001729 -0.066560 -0.372081\n",
       "d       NaN  0.000814 -1.427260"
      ]
     },
     "execution_count": 242,
     "metadata": {},
     "output_type": "execute_result"
    }
   ],
   "source": [
    "df.sub(row, axis=1)"
   ]
  },
  {
   "cell_type": "code",
   "execution_count": 243,
   "id": "318a74ab-ad7b-451d-9fba-9ba2e8875d3a",
   "metadata": {
    "hide-output": false
   },
   "outputs": [
    {
     "data": {
      "text/html": [
       "<div>\n",
       "<style scoped>\n",
       "    .dataframe tbody tr th:only-of-type {\n",
       "        vertical-align: middle;\n",
       "    }\n",
       "\n",
       "    .dataframe tbody tr th {\n",
       "        vertical-align: top;\n",
       "    }\n",
       "\n",
       "    .dataframe thead th {\n",
       "        text-align: right;\n",
       "    }\n",
       "</style>\n",
       "<table border=\"1\" class=\"dataframe\">\n",
       "  <thead>\n",
       "    <tr style=\"text-align: right;\">\n",
       "      <th></th>\n",
       "      <th>one</th>\n",
       "      <th>two</th>\n",
       "      <th>three</th>\n",
       "    </tr>\n",
       "  </thead>\n",
       "  <tbody>\n",
       "    <tr>\n",
       "      <th>a</th>\n",
       "      <td>-1.016537</td>\n",
       "      <td>0.0</td>\n",
       "      <td>NaN</td>\n",
       "    </tr>\n",
       "    <tr>\n",
       "      <th>b</th>\n",
       "      <td>-1.325008</td>\n",
       "      <td>0.0</td>\n",
       "      <td>0.411804</td>\n",
       "    </tr>\n",
       "    <tr>\n",
       "      <th>c</th>\n",
       "      <td>-1.256720</td>\n",
       "      <td>0.0</td>\n",
       "      <td>0.106282</td>\n",
       "    </tr>\n",
       "    <tr>\n",
       "      <th>d</th>\n",
       "      <td>NaN</td>\n",
       "      <td>0.0</td>\n",
       "      <td>-1.016270</td>\n",
       "    </tr>\n",
       "  </tbody>\n",
       "</table>\n",
       "</div>"
      ],
      "text/plain": [
       "        one  two     three\n",
       "a -1.016537  0.0       NaN\n",
       "b -1.325008  0.0  0.411804\n",
       "c -1.256720  0.0  0.106282\n",
       "d       NaN  0.0 -1.016270"
      ]
     },
     "execution_count": 243,
     "metadata": {},
     "output_type": "execute_result"
    }
   ],
   "source": [
    "df.sub(column, axis=\"index\")"
   ]
  },
  {
   "cell_type": "code",
   "execution_count": 244,
   "id": "b6eb4e77-4249-4225-b0b9-0a44f021cc5a",
   "metadata": {
    "hide-output": false
   },
   "outputs": [
    {
     "data": {
      "text/html": [
       "<div>\n",
       "<style scoped>\n",
       "    .dataframe tbody tr th:only-of-type {\n",
       "        vertical-align: middle;\n",
       "    }\n",
       "\n",
       "    .dataframe tbody tr th {\n",
       "        vertical-align: top;\n",
       "    }\n",
       "\n",
       "    .dataframe thead th {\n",
       "        text-align: right;\n",
       "    }\n",
       "</style>\n",
       "<table border=\"1\" class=\"dataframe\">\n",
       "  <thead>\n",
       "    <tr style=\"text-align: right;\">\n",
       "      <th></th>\n",
       "      <th>one</th>\n",
       "      <th>two</th>\n",
       "      <th>three</th>\n",
       "    </tr>\n",
       "  </thead>\n",
       "  <tbody>\n",
       "    <tr>\n",
       "      <th>a</th>\n",
       "      <td>-1.016537</td>\n",
       "      <td>0.0</td>\n",
       "      <td>NaN</td>\n",
       "    </tr>\n",
       "    <tr>\n",
       "      <th>b</th>\n",
       "      <td>-1.325008</td>\n",
       "      <td>0.0</td>\n",
       "      <td>0.411804</td>\n",
       "    </tr>\n",
       "    <tr>\n",
       "      <th>c</th>\n",
       "      <td>-1.256720</td>\n",
       "      <td>0.0</td>\n",
       "      <td>0.106282</td>\n",
       "    </tr>\n",
       "    <tr>\n",
       "      <th>d</th>\n",
       "      <td>NaN</td>\n",
       "      <td>0.0</td>\n",
       "      <td>-1.016270</td>\n",
       "    </tr>\n",
       "  </tbody>\n",
       "</table>\n",
       "</div>"
      ],
      "text/plain": [
       "        one  two     three\n",
       "a -1.016537  0.0       NaN\n",
       "b -1.325008  0.0  0.411804\n",
       "c -1.256720  0.0  0.106282\n",
       "d       NaN  0.0 -1.016270"
      ]
     },
     "execution_count": 244,
     "metadata": {},
     "output_type": "execute_result"
    }
   ],
   "source": [
    "df.sub(column, axis=0)"
   ]
  },
  {
   "cell_type": "code",
   "execution_count": 245,
   "id": "e109fa97",
   "metadata": {
    "hide-output": false
   },
   "outputs": [],
   "source": [
    "df_orig = df"
   ]
  },
  {
   "cell_type": "markdown",
   "id": "585e1a0e",
   "metadata": {},
   "source": [
    "Furthermore you can align a level of a MultiIndexed DataFrame with a Series."
   ]
  },
  {
   "cell_type": "code",
   "execution_count": 246,
   "id": "a9472534",
   "metadata": {
    "hide-output": false
   },
   "outputs": [
    {
     "data": {
      "text/html": [
       "<div>\n",
       "<style scoped>\n",
       "    .dataframe tbody tr th:only-of-type {\n",
       "        vertical-align: middle;\n",
       "    }\n",
       "\n",
       "    .dataframe tbody tr th {\n",
       "        vertical-align: top;\n",
       "    }\n",
       "\n",
       "    .dataframe thead th {\n",
       "        text-align: right;\n",
       "    }\n",
       "</style>\n",
       "<table border=\"1\" class=\"dataframe\">\n",
       "  <thead>\n",
       "    <tr style=\"text-align: right;\">\n",
       "      <th></th>\n",
       "      <th></th>\n",
       "      <th>one</th>\n",
       "      <th>two</th>\n",
       "      <th>three</th>\n",
       "    </tr>\n",
       "    <tr>\n",
       "      <th>first</th>\n",
       "      <th>second</th>\n",
       "      <th></th>\n",
       "      <th></th>\n",
       "      <th></th>\n",
       "    </tr>\n",
       "  </thead>\n",
       "  <tbody>\n",
       "    <tr>\n",
       "      <th rowspan=\"3\" valign=\"top\">1</th>\n",
       "      <th>a</th>\n",
       "      <td>-1.016537</td>\n",
       "      <td>0.000000</td>\n",
       "      <td>NaN</td>\n",
       "    </tr>\n",
       "    <tr>\n",
       "      <th>b</th>\n",
       "      <td>-1.325008</td>\n",
       "      <td>0.000000</td>\n",
       "      <td>0.411804</td>\n",
       "    </tr>\n",
       "    <tr>\n",
       "      <th>c</th>\n",
       "      <td>-1.256720</td>\n",
       "      <td>0.000000</td>\n",
       "      <td>0.106282</td>\n",
       "    </tr>\n",
       "    <tr>\n",
       "      <th>2</th>\n",
       "      <th>a</th>\n",
       "      <td>NaN</td>\n",
       "      <td>-0.796626</td>\n",
       "      <td>-1.812896</td>\n",
       "    </tr>\n",
       "  </tbody>\n",
       "</table>\n",
       "</div>"
      ],
      "text/plain": [
       "                   one       two     three\n",
       "first second                              \n",
       "1     a      -1.016537  0.000000       NaN\n",
       "      b      -1.325008  0.000000  0.411804\n",
       "      c      -1.256720  0.000000  0.106282\n",
       "2     a            NaN -0.796626 -1.812896"
      ]
     },
     "execution_count": 246,
     "metadata": {},
     "output_type": "execute_result"
    }
   ],
   "source": [
    "dfmi = df.copy()\n",
    "dfmi.index = pd.MultiIndex.from_tuples(\n",
    "    [(1, \"a\"), (1, \"b\"), (1, \"c\"), (2, \"a\")], names=[\"first\", \"second\"]\n",
    ")\n",
    "dfmi.sub(column, axis=0, level=\"second\")"
   ]
  },
  {
   "cell_type": "markdown",
   "id": "a211419e",
   "metadata": {},
   "source": [
    "Series and Index also support the `divmod()` builtin. This function takes\n",
    "the floor division and modulo operation at the same time returning a two-tuple\n",
    "of the same type as the left hand side. For example:"
   ]
  },
  {
   "cell_type": "code",
   "execution_count": 247,
   "id": "e35e218c-657e-46e3-a86b-ffbe377fa5cb",
   "metadata": {
    "hide-output": false
   },
   "outputs": [
    {
     "data": {
      "text/plain": [
       "0    0\n",
       "1    1\n",
       "2    2\n",
       "3    3\n",
       "4    4\n",
       "5    5\n",
       "6    6\n",
       "7    7\n",
       "8    8\n",
       "9    9\n",
       "dtype: int32"
      ]
     },
     "execution_count": 247,
     "metadata": {},
     "output_type": "execute_result"
    }
   ],
   "source": [
    "s = pd.Series(np.arange(10))\n",
    "s"
   ]
  },
  {
   "cell_type": "code",
   "execution_count": 248,
   "id": "bc143a4b-e563-478a-aa3d-3063a36397c7",
   "metadata": {
    "hide-output": false
   },
   "outputs": [
    {
     "data": {
      "text/plain": [
       "0    0\n",
       "1    0\n",
       "2    0\n",
       "3    1\n",
       "4    1\n",
       "5    1\n",
       "6    2\n",
       "7    2\n",
       "8    2\n",
       "9    3\n",
       "dtype: int32"
      ]
     },
     "execution_count": 248,
     "metadata": {},
     "output_type": "execute_result"
    }
   ],
   "source": [
    "div, rem = divmod(s, 3)\n",
    "div"
   ]
  },
  {
   "cell_type": "code",
   "execution_count": 249,
   "id": "883873bf-d280-4ecc-b1d0-16ac2c6310a3",
   "metadata": {
    "hide-output": false
   },
   "outputs": [
    {
     "data": {
      "text/plain": [
       "0    0\n",
       "1    1\n",
       "2    2\n",
       "3    0\n",
       "4    1\n",
       "5    2\n",
       "6    0\n",
       "7    1\n",
       "8    2\n",
       "9    0\n",
       "dtype: int32"
      ]
     },
     "execution_count": 249,
     "metadata": {},
     "output_type": "execute_result"
    }
   ],
   "source": [
    "rem"
   ]
  },
  {
   "cell_type": "code",
   "execution_count": 250,
   "id": "3f25d7fd-c8a4-40c3-b19b-5c48ccfa8996",
   "metadata": {
    "hide-output": false
   },
   "outputs": [
    {
     "data": {
      "text/plain": [
       "Int64Index([0, 1, 2, 3, 4, 5, 6, 7, 8, 9], dtype='int64')"
      ]
     },
     "execution_count": 250,
     "metadata": {},
     "output_type": "execute_result"
    }
   ],
   "source": [
    "idx = pd.Index(np.arange(10))\n",
    "idx"
   ]
  },
  {
   "cell_type": "code",
   "execution_count": 251,
   "id": "ce4f8fb9-faaf-4589-96c7-b7ef4bdf6bcb",
   "metadata": {
    "hide-output": false
   },
   "outputs": [
    {
     "data": {
      "text/plain": [
       "Int64Index([0, 0, 0, 1, 1, 1, 2, 2, 2, 3], dtype='int64')"
      ]
     },
     "execution_count": 251,
     "metadata": {},
     "output_type": "execute_result"
    }
   ],
   "source": [
    "div, rem = divmod(idx, 3)\n",
    "div"
   ]
  },
  {
   "cell_type": "code",
   "execution_count": 252,
   "id": "fc81f3cb-ed30-4342-8e97-fa110241b758",
   "metadata": {
    "hide-output": false
   },
   "outputs": [
    {
     "data": {
      "text/plain": [
       "Int64Index([0, 1, 2, 0, 1, 2, 0, 1, 2, 0], dtype='int64')"
      ]
     },
     "execution_count": 252,
     "metadata": {},
     "output_type": "execute_result"
    }
   ],
   "source": [
    "rem"
   ]
  },
  {
   "cell_type": "markdown",
   "id": "a4a8a6c7",
   "metadata": {},
   "source": [
    "We can also do elementwise `divmod()`:"
   ]
  },
  {
   "cell_type": "code",
   "execution_count": 253,
   "id": "234daadd-99db-412e-ab61-f1ee0c3a1612",
   "metadata": {
    "hide-output": false
   },
   "outputs": [
    {
     "data": {
      "text/plain": [
       "0    0\n",
       "1    0\n",
       "2    0\n",
       "3    1\n",
       "4    1\n",
       "5    1\n",
       "6    1\n",
       "7    1\n",
       "8    1\n",
       "9    1\n",
       "dtype: int32"
      ]
     },
     "execution_count": 253,
     "metadata": {},
     "output_type": "execute_result"
    }
   ],
   "source": [
    "div, rem = divmod(s, [2, 2, 3, 3, 4, 4, 5, 5, 6, 6])\n",
    "div"
   ]
  },
  {
   "cell_type": "code",
   "execution_count": 254,
   "id": "ce763bed-702d-4e42-b4eb-407fc83c023b",
   "metadata": {
    "hide-output": false
   },
   "outputs": [
    {
     "data": {
      "text/plain": [
       "0    0\n",
       "1    1\n",
       "2    2\n",
       "3    0\n",
       "4    0\n",
       "5    1\n",
       "6    1\n",
       "7    2\n",
       "8    2\n",
       "9    3\n",
       "dtype: int32"
      ]
     },
     "execution_count": 254,
     "metadata": {},
     "output_type": "execute_result"
    }
   ],
   "source": [
    "rem"
   ]
  },
  {
   "cell_type": "markdown",
   "id": "9dd9ceb2",
   "metadata": {},
   "source": [
    "### Missing data / operations with fill values\n",
    "\n",
    "In Series and DataFrame, the arithmetic functions have the option of inputting\n",
    "a *fill_value*, namely a value to substitute when at most one of the values at\n",
    "a location are missing. For example, when adding two DataFrame objects, you may\n",
    "wish to treat NaN as 0 unless both DataFrames are missing that value, in which\n",
    "case the result will be NaN (you can later replace NaN with some other value\n",
    "using `fillna` if you wish)."
   ]
  },
  {
   "cell_type": "code",
   "execution_count": 255,
   "id": "61c756d6",
   "metadata": {
    "hide-output": false
   },
   "outputs": [],
   "source": [
    "df2 = df.copy()\n",
    "df2[\"three\"][\"a\"] = 1.0"
   ]
  },
  {
   "cell_type": "code",
   "execution_count": 256,
   "id": "ed28e449-caca-4a77-8913-44ba982e9413",
   "metadata": {
    "hide-output": false
   },
   "outputs": [
    {
     "data": {
      "text/html": [
       "<div>\n",
       "<style scoped>\n",
       "    .dataframe tbody tr th:only-of-type {\n",
       "        vertical-align: middle;\n",
       "    }\n",
       "\n",
       "    .dataframe tbody tr th {\n",
       "        vertical-align: top;\n",
       "    }\n",
       "\n",
       "    .dataframe thead th {\n",
       "        text-align: right;\n",
       "    }\n",
       "</style>\n",
       "<table border=\"1\" class=\"dataframe\">\n",
       "  <thead>\n",
       "    <tr style=\"text-align: right;\">\n",
       "      <th></th>\n",
       "      <th>one</th>\n",
       "      <th>two</th>\n",
       "      <th>three</th>\n",
       "    </tr>\n",
       "  </thead>\n",
       "  <tbody>\n",
       "    <tr>\n",
       "      <th>a</th>\n",
       "      <td>0.075514</td>\n",
       "      <td>1.092052</td>\n",
       "      <td>NaN</td>\n",
       "    </tr>\n",
       "    <tr>\n",
       "      <th>b</th>\n",
       "      <td>-1.030396</td>\n",
       "      <td>0.294612</td>\n",
       "      <td>0.706416</td>\n",
       "    </tr>\n",
       "    <tr>\n",
       "      <th>c</th>\n",
       "      <td>-1.028668</td>\n",
       "      <td>0.228052</td>\n",
       "      <td>0.334334</td>\n",
       "    </tr>\n",
       "    <tr>\n",
       "      <th>d</th>\n",
       "      <td>NaN</td>\n",
       "      <td>0.295426</td>\n",
       "      <td>-0.720844</td>\n",
       "    </tr>\n",
       "  </tbody>\n",
       "</table>\n",
       "</div>"
      ],
      "text/plain": [
       "        one       two     three\n",
       "a  0.075514  1.092052       NaN\n",
       "b -1.030396  0.294612  0.706416\n",
       "c -1.028668  0.228052  0.334334\n",
       "d       NaN  0.295426 -0.720844"
      ]
     },
     "execution_count": 256,
     "metadata": {},
     "output_type": "execute_result"
    }
   ],
   "source": [
    "df"
   ]
  },
  {
   "cell_type": "code",
   "execution_count": 257,
   "id": "653108ed-29d2-47b5-ae34-430a70c1a612",
   "metadata": {
    "hide-output": false
   },
   "outputs": [
    {
     "data": {
      "text/html": [
       "<div>\n",
       "<style scoped>\n",
       "    .dataframe tbody tr th:only-of-type {\n",
       "        vertical-align: middle;\n",
       "    }\n",
       "\n",
       "    .dataframe tbody tr th {\n",
       "        vertical-align: top;\n",
       "    }\n",
       "\n",
       "    .dataframe thead th {\n",
       "        text-align: right;\n",
       "    }\n",
       "</style>\n",
       "<table border=\"1\" class=\"dataframe\">\n",
       "  <thead>\n",
       "    <tr style=\"text-align: right;\">\n",
       "      <th></th>\n",
       "      <th>one</th>\n",
       "      <th>two</th>\n",
       "      <th>three</th>\n",
       "    </tr>\n",
       "  </thead>\n",
       "  <tbody>\n",
       "    <tr>\n",
       "      <th>a</th>\n",
       "      <td>0.075514</td>\n",
       "      <td>1.092052</td>\n",
       "      <td>1.000000</td>\n",
       "    </tr>\n",
       "    <tr>\n",
       "      <th>b</th>\n",
       "      <td>-1.030396</td>\n",
       "      <td>0.294612</td>\n",
       "      <td>0.706416</td>\n",
       "    </tr>\n",
       "    <tr>\n",
       "      <th>c</th>\n",
       "      <td>-1.028668</td>\n",
       "      <td>0.228052</td>\n",
       "      <td>0.334334</td>\n",
       "    </tr>\n",
       "    <tr>\n",
       "      <th>d</th>\n",
       "      <td>NaN</td>\n",
       "      <td>0.295426</td>\n",
       "      <td>-0.720844</td>\n",
       "    </tr>\n",
       "  </tbody>\n",
       "</table>\n",
       "</div>"
      ],
      "text/plain": [
       "        one       two     three\n",
       "a  0.075514  1.092052  1.000000\n",
       "b -1.030396  0.294612  0.706416\n",
       "c -1.028668  0.228052  0.334334\n",
       "d       NaN  0.295426 -0.720844"
      ]
     },
     "execution_count": 257,
     "metadata": {},
     "output_type": "execute_result"
    }
   ],
   "source": [
    "df2"
   ]
  },
  {
   "cell_type": "code",
   "execution_count": 258,
   "id": "43536a47-7b94-42ef-af71-7907c87d42b0",
   "metadata": {
    "hide-output": false
   },
   "outputs": [
    {
     "data": {
      "text/html": [
       "<div>\n",
       "<style scoped>\n",
       "    .dataframe tbody tr th:only-of-type {\n",
       "        vertical-align: middle;\n",
       "    }\n",
       "\n",
       "    .dataframe tbody tr th {\n",
       "        vertical-align: top;\n",
       "    }\n",
       "\n",
       "    .dataframe thead th {\n",
       "        text-align: right;\n",
       "    }\n",
       "</style>\n",
       "<table border=\"1\" class=\"dataframe\">\n",
       "  <thead>\n",
       "    <tr style=\"text-align: right;\">\n",
       "      <th></th>\n",
       "      <th>one</th>\n",
       "      <th>two</th>\n",
       "      <th>three</th>\n",
       "    </tr>\n",
       "  </thead>\n",
       "  <tbody>\n",
       "    <tr>\n",
       "      <th>a</th>\n",
       "      <td>0.151029</td>\n",
       "      <td>2.184103</td>\n",
       "      <td>NaN</td>\n",
       "    </tr>\n",
       "    <tr>\n",
       "      <th>b</th>\n",
       "      <td>-2.060793</td>\n",
       "      <td>0.589224</td>\n",
       "      <td>1.412831</td>\n",
       "    </tr>\n",
       "    <tr>\n",
       "      <th>c</th>\n",
       "      <td>-2.057335</td>\n",
       "      <td>0.456104</td>\n",
       "      <td>0.668669</td>\n",
       "    </tr>\n",
       "    <tr>\n",
       "      <th>d</th>\n",
       "      <td>NaN</td>\n",
       "      <td>0.590851</td>\n",
       "      <td>-1.441688</td>\n",
       "    </tr>\n",
       "  </tbody>\n",
       "</table>\n",
       "</div>"
      ],
      "text/plain": [
       "        one       two     three\n",
       "a  0.151029  2.184103       NaN\n",
       "b -2.060793  0.589224  1.412831\n",
       "c -2.057335  0.456104  0.668669\n",
       "d       NaN  0.590851 -1.441688"
      ]
     },
     "execution_count": 258,
     "metadata": {},
     "output_type": "execute_result"
    }
   ],
   "source": [
    "df + df2"
   ]
  },
  {
   "cell_type": "code",
   "execution_count": 259,
   "id": "1ef5309e-d3ec-434f-882e-dda6a8f8cfaa",
   "metadata": {
    "hide-output": false
   },
   "outputs": [
    {
     "data": {
      "text/html": [
       "<div>\n",
       "<style scoped>\n",
       "    .dataframe tbody tr th:only-of-type {\n",
       "        vertical-align: middle;\n",
       "    }\n",
       "\n",
       "    .dataframe tbody tr th {\n",
       "        vertical-align: top;\n",
       "    }\n",
       "\n",
       "    .dataframe thead th {\n",
       "        text-align: right;\n",
       "    }\n",
       "</style>\n",
       "<table border=\"1\" class=\"dataframe\">\n",
       "  <thead>\n",
       "    <tr style=\"text-align: right;\">\n",
       "      <th></th>\n",
       "      <th>one</th>\n",
       "      <th>two</th>\n",
       "      <th>three</th>\n",
       "    </tr>\n",
       "  </thead>\n",
       "  <tbody>\n",
       "    <tr>\n",
       "      <th>a</th>\n",
       "      <td>0.151029</td>\n",
       "      <td>2.184103</td>\n",
       "      <td>1.000000</td>\n",
       "    </tr>\n",
       "    <tr>\n",
       "      <th>b</th>\n",
       "      <td>-2.060793</td>\n",
       "      <td>0.589224</td>\n",
       "      <td>1.412831</td>\n",
       "    </tr>\n",
       "    <tr>\n",
       "      <th>c</th>\n",
       "      <td>-2.057335</td>\n",
       "      <td>0.456104</td>\n",
       "      <td>0.668669</td>\n",
       "    </tr>\n",
       "    <tr>\n",
       "      <th>d</th>\n",
       "      <td>NaN</td>\n",
       "      <td>0.590851</td>\n",
       "      <td>-1.441688</td>\n",
       "    </tr>\n",
       "  </tbody>\n",
       "</table>\n",
       "</div>"
      ],
      "text/plain": [
       "        one       two     three\n",
       "a  0.151029  2.184103  1.000000\n",
       "b -2.060793  0.589224  1.412831\n",
       "c -2.057335  0.456104  0.668669\n",
       "d       NaN  0.590851 -1.441688"
      ]
     },
     "execution_count": 259,
     "metadata": {},
     "output_type": "execute_result"
    }
   ],
   "source": [
    "df.add(df2, fill_value=0)"
   ]
  },
  {
   "cell_type": "markdown",
   "id": "50accc93",
   "metadata": {},
   "source": [
    "\n",
    "<a id='basics-compare'></a>"
   ]
  },
  {
   "cell_type": "markdown",
   "id": "aac6e98a",
   "metadata": {},
   "source": [
    "### Flexible comparisons\n",
    "\n",
    "Series and DataFrame have the binary comparison methods `eq`, `ne`, `lt`, `gt`,\n",
    "`le`, and `ge` whose behavior is analogous to the binary\n",
    "arithmetic operations described above:"
   ]
  },
  {
   "cell_type": "code",
   "execution_count": 260,
   "id": "988154ca-27e6-42a2-95ba-56693f5bd15c",
   "metadata": {
    "hide-output": false
   },
   "outputs": [
    {
     "data": {
      "text/html": [
       "<div>\n",
       "<style scoped>\n",
       "    .dataframe tbody tr th:only-of-type {\n",
       "        vertical-align: middle;\n",
       "    }\n",
       "\n",
       "    .dataframe tbody tr th {\n",
       "        vertical-align: top;\n",
       "    }\n",
       "\n",
       "    .dataframe thead th {\n",
       "        text-align: right;\n",
       "    }\n",
       "</style>\n",
       "<table border=\"1\" class=\"dataframe\">\n",
       "  <thead>\n",
       "    <tr style=\"text-align: right;\">\n",
       "      <th></th>\n",
       "      <th>one</th>\n",
       "      <th>two</th>\n",
       "      <th>three</th>\n",
       "    </tr>\n",
       "  </thead>\n",
       "  <tbody>\n",
       "    <tr>\n",
       "      <th>a</th>\n",
       "      <td>False</td>\n",
       "      <td>False</td>\n",
       "      <td>False</td>\n",
       "    </tr>\n",
       "    <tr>\n",
       "      <th>b</th>\n",
       "      <td>False</td>\n",
       "      <td>False</td>\n",
       "      <td>False</td>\n",
       "    </tr>\n",
       "    <tr>\n",
       "      <th>c</th>\n",
       "      <td>False</td>\n",
       "      <td>False</td>\n",
       "      <td>False</td>\n",
       "    </tr>\n",
       "    <tr>\n",
       "      <th>d</th>\n",
       "      <td>False</td>\n",
       "      <td>False</td>\n",
       "      <td>False</td>\n",
       "    </tr>\n",
       "  </tbody>\n",
       "</table>\n",
       "</div>"
      ],
      "text/plain": [
       "     one    two  three\n",
       "a  False  False  False\n",
       "b  False  False  False\n",
       "c  False  False  False\n",
       "d  False  False  False"
      ]
     },
     "execution_count": 260,
     "metadata": {},
     "output_type": "execute_result"
    }
   ],
   "source": [
    "df.gt(df2)"
   ]
  },
  {
   "cell_type": "code",
   "execution_count": 261,
   "id": "47417399-875a-4c4d-92c9-553ff61f4bdf",
   "metadata": {
    "hide-output": false
   },
   "outputs": [
    {
     "data": {
      "text/html": [
       "<div>\n",
       "<style scoped>\n",
       "    .dataframe tbody tr th:only-of-type {\n",
       "        vertical-align: middle;\n",
       "    }\n",
       "\n",
       "    .dataframe tbody tr th {\n",
       "        vertical-align: top;\n",
       "    }\n",
       "\n",
       "    .dataframe thead th {\n",
       "        text-align: right;\n",
       "    }\n",
       "</style>\n",
       "<table border=\"1\" class=\"dataframe\">\n",
       "  <thead>\n",
       "    <tr style=\"text-align: right;\">\n",
       "      <th></th>\n",
       "      <th>one</th>\n",
       "      <th>two</th>\n",
       "      <th>three</th>\n",
       "    </tr>\n",
       "  </thead>\n",
       "  <tbody>\n",
       "    <tr>\n",
       "      <th>a</th>\n",
       "      <td>False</td>\n",
       "      <td>False</td>\n",
       "      <td>True</td>\n",
       "    </tr>\n",
       "    <tr>\n",
       "      <th>b</th>\n",
       "      <td>False</td>\n",
       "      <td>False</td>\n",
       "      <td>False</td>\n",
       "    </tr>\n",
       "    <tr>\n",
       "      <th>c</th>\n",
       "      <td>False</td>\n",
       "      <td>False</td>\n",
       "      <td>False</td>\n",
       "    </tr>\n",
       "    <tr>\n",
       "      <th>d</th>\n",
       "      <td>True</td>\n",
       "      <td>False</td>\n",
       "      <td>False</td>\n",
       "    </tr>\n",
       "  </tbody>\n",
       "</table>\n",
       "</div>"
      ],
      "text/plain": [
       "     one    two  three\n",
       "a  False  False   True\n",
       "b  False  False  False\n",
       "c  False  False  False\n",
       "d   True  False  False"
      ]
     },
     "execution_count": 261,
     "metadata": {},
     "output_type": "execute_result"
    }
   ],
   "source": [
    "df2.ne(df)"
   ]
  },
  {
   "cell_type": "markdown",
   "id": "4cce23d8",
   "metadata": {},
   "source": [
    "These operations produce a pandas object of the same type as the left-hand-side\n",
    "input that is of dtype `bool`. These `boolean` objects can be used in\n",
    "indexing operations, see the section on Boolean indexing.\n",
    "\n",
    "\n",
    "<a id='basics-reductions'></a>"
   ]
  },
  {
   "cell_type": "markdown",
   "id": "1ddffc43",
   "metadata": {},
   "source": [
    "### Boolean reductions\n",
    "\n",
    "You can apply the reductions: `empty`, `any()`,\n",
    "`all()`, and `bool()` to provide a\n",
    "way to summarize a boolean result."
   ]
  },
  {
   "cell_type": "code",
   "execution_count": 262,
   "id": "24d3895f-bcce-456b-a414-788505d6758d",
   "metadata": {
    "hide-output": false
   },
   "outputs": [
    {
     "data": {
      "text/plain": [
       "one      False\n",
       "two       True\n",
       "three    False\n",
       "dtype: bool"
      ]
     },
     "execution_count": 262,
     "metadata": {},
     "output_type": "execute_result"
    }
   ],
   "source": [
    "(df > 0).all()"
   ]
  },
  {
   "cell_type": "code",
   "execution_count": 263,
   "id": "d50cdd72-3173-405e-89c0-76c6b6f40cd5",
   "metadata": {
    "hide-output": false
   },
   "outputs": [
    {
     "data": {
      "text/plain": [
       "one      True\n",
       "two      True\n",
       "three    True\n",
       "dtype: bool"
      ]
     },
     "execution_count": 263,
     "metadata": {},
     "output_type": "execute_result"
    }
   ],
   "source": [
    "(df > 0).any()"
   ]
  },
  {
   "cell_type": "markdown",
   "id": "b59a4600",
   "metadata": {},
   "source": [
    "You can reduce to a final boolean value."
   ]
  },
  {
   "cell_type": "code",
   "execution_count": 264,
   "id": "46f68c34",
   "metadata": {
    "hide-output": false
   },
   "outputs": [
    {
     "data": {
      "text/plain": [
       "True"
      ]
     },
     "execution_count": 264,
     "metadata": {},
     "output_type": "execute_result"
    }
   ],
   "source": [
    "(df > 0).any().any()"
   ]
  },
  {
   "cell_type": "markdown",
   "id": "03fe03aa",
   "metadata": {},
   "source": [
    "You can test if a pandas object is empty, via the `empty` property."
   ]
  },
  {
   "cell_type": "code",
   "execution_count": 265,
   "id": "56c837bc-1158-4ff2-8f8c-b125c53ac78b",
   "metadata": {
    "hide-output": false
   },
   "outputs": [
    {
     "data": {
      "text/plain": [
       "False"
      ]
     },
     "execution_count": 265,
     "metadata": {},
     "output_type": "execute_result"
    }
   ],
   "source": [
    "df.empty"
   ]
  },
  {
   "cell_type": "code",
   "execution_count": 266,
   "id": "0760c8dc-0661-4069-8e57-c725074f188d",
   "metadata": {
    "hide-output": false
   },
   "outputs": [
    {
     "data": {
      "text/plain": [
       "True"
      ]
     },
     "execution_count": 266,
     "metadata": {},
     "output_type": "execute_result"
    }
   ],
   "source": [
    "pd.DataFrame(columns=list(\"ABC\")).empty"
   ]
  },
  {
   "cell_type": "markdown",
   "id": "99e5e251",
   "metadata": {},
   "source": [
    "To evaluate single-element pandas objects in a boolean context, use the method\n",
    "`bool()`:"
   ]
  },
  {
   "cell_type": "code",
   "execution_count": 267,
   "id": "28d4bec7-515b-48d5-b82b-d5caf35d50d1",
   "metadata": {
    "hide-output": false
   },
   "outputs": [
    {
     "data": {
      "text/plain": [
       "True"
      ]
     },
     "execution_count": 267,
     "metadata": {},
     "output_type": "execute_result"
    }
   ],
   "source": [
    "pd.Series([True]).bool()"
   ]
  },
  {
   "cell_type": "code",
   "execution_count": 268,
   "id": "7fd14e45-dbf6-4e22-8d16-d8d6211f803a",
   "metadata": {
    "hide-output": false
   },
   "outputs": [
    {
     "data": {
      "text/plain": [
       "False"
      ]
     },
     "execution_count": 268,
     "metadata": {},
     "output_type": "execute_result"
    }
   ],
   "source": [
    "pd.Series([False]).bool()"
   ]
  },
  {
   "cell_type": "code",
   "execution_count": 269,
   "id": "4485baf6-66f6-42b1-9811-5efc16614842",
   "metadata": {
    "hide-output": false
   },
   "outputs": [
    {
     "data": {
      "text/plain": [
       "False"
      ]
     },
     "execution_count": 269,
     "metadata": {},
     "output_type": "execute_result"
    }
   ],
   "source": [
    "pd.DataFrame([[True]]).bool()\n",
    "pd.DataFrame([[False]]).bool()"
   ]
  },
  {
   "cell_type": "markdown",
   "id": "1c65efdd",
   "metadata": {},
   "source": [
    "You might be tempted to do the following:"
   ]
  },
  {
   "cell_type": "markdown",
   "id": "11daca83",
   "metadata": {
    "hide-output": false
   },
   "source": [
    "> if df:<BR>\n",
    "> &nbsp;&nbsp;&nbsp;&nbsp;pass\n",
    ">\n",
    "> or\n",
    ">\n",
    "> df and df2    "
   ]
  },
  {
   "cell_type": "markdown",
   "id": "e969ef9d",
   "metadata": {
    "hide-output": false
   },
   "source": [
    "\n",
    "These will both raise errors, as you are trying to compare multiple values.::\n",
    "\n",
    "    ValueError: The truth value of an array is ambiguous. Use a.empty, a.any() or a.all()."
   ]
  },
  {
   "cell_type": "markdown",
   "id": "b6286989",
   "metadata": {},
   "source": [
    "See [gotchas](43_FAQ_gotchas.ipynb#gotchas-truth) for a more detailed discussion.\n",
    "\n",
    "\n",
    "<a id='basics-equals'></a>"
   ]
  },
  {
   "cell_type": "markdown",
   "id": "4682e12d",
   "metadata": {},
   "source": [
    "### Comparing if objects are equivalent\n",
    "\n",
    "Often you may find that there is more than one way to compute the same\n",
    "result.  As a simple example, consider `df + df` and `df * 2`. To test\n",
    "that these two computations produce the same result, given the tools\n",
    "shown above, you might imagine using `(df + df == df * 2).all()`. But in\n",
    "fact, this expression is False:"
   ]
  },
  {
   "cell_type": "code",
   "execution_count": 270,
   "id": "b4168909",
   "metadata": {
    "hide-output": false
   },
   "outputs": [
    {
     "data": {
      "text/plain": [
       "one      False\n",
       "two       True\n",
       "three    False\n",
       "dtype: bool"
      ]
     },
     "execution_count": 270,
     "metadata": {},
     "output_type": "execute_result"
    }
   ],
   "source": [
    "df + df == df * 2\n",
    "(df + df == df * 2).all()"
   ]
  },
  {
   "cell_type": "markdown",
   "id": "11272002",
   "metadata": {},
   "source": [
    "Notice that the boolean DataFrame `df + df == df * 2` contains some False values!\n",
    "This is because NaNs do not compare as equals:"
   ]
  },
  {
   "cell_type": "code",
   "execution_count": 271,
   "id": "8d254b62",
   "metadata": {
    "hide-output": false
   },
   "outputs": [
    {
     "data": {
      "text/plain": [
       "False"
      ]
     },
     "execution_count": 271,
     "metadata": {},
     "output_type": "execute_result"
    }
   ],
   "source": [
    "np.nan == np.nan"
   ]
  },
  {
   "cell_type": "markdown",
   "id": "a5db18d5",
   "metadata": {},
   "source": [
    "So, NDFrames (such as Series and DataFrames)\n",
    "have an `equals()` method for testing equality, with NaNs in\n",
    "corresponding locations treated as equal."
   ]
  },
  {
   "cell_type": "code",
   "execution_count": 272,
   "id": "b2f24ba5",
   "metadata": {
    "hide-output": false
   },
   "outputs": [
    {
     "data": {
      "text/plain": [
       "True"
      ]
     },
     "execution_count": 272,
     "metadata": {},
     "output_type": "execute_result"
    }
   ],
   "source": [
    "(df + df).equals(df * 2)"
   ]
  },
  {
   "cell_type": "markdown",
   "id": "23d72aa6",
   "metadata": {},
   "source": [
    "Note that the Series or DataFrame index needs to be in the same order for\n",
    "equality to be True:"
   ]
  },
  {
   "cell_type": "code",
   "execution_count": 273,
   "id": "13f7e48b",
   "metadata": {
    "hide-output": false
   },
   "outputs": [
    {
     "data": {
      "text/plain": [
       "False"
      ]
     },
     "execution_count": 273,
     "metadata": {},
     "output_type": "execute_result"
    }
   ],
   "source": [
    "df1 = pd.DataFrame({\"col\": [\"foo\", 0, np.nan]})\n",
    "df2 = pd.DataFrame({\"col\": [np.nan, 0, \"foo\"]}, index=[2, 1, 0])\n",
    "df1.equals(df2)\n"
   ]
  },
  {
   "cell_type": "code",
   "execution_count": 274,
   "id": "67471459",
   "metadata": {},
   "outputs": [
    {
     "data": {
      "text/plain": [
       "True"
      ]
     },
     "execution_count": 274,
     "metadata": {},
     "output_type": "execute_result"
    }
   ],
   "source": [
    "df1.equals(df2.sort_index())"
   ]
  },
  {
   "cell_type": "markdown",
   "id": "0d28401c",
   "metadata": {},
   "source": [
    "### Comparing array-like objects\n",
    "\n",
    "You can conveniently perform element-wise comparisons when comparing a pandas\n",
    "data structure with a scalar value:"
   ]
  },
  {
   "cell_type": "code",
   "execution_count": 275,
   "id": "3860ea18",
   "metadata": {
    "hide-output": false
   },
   "outputs": [
    {
     "data": {
      "text/plain": [
       "array([ True, False, False])"
      ]
     },
     "execution_count": 275,
     "metadata": {},
     "output_type": "execute_result"
    }
   ],
   "source": [
    "pd.Series([\"foo\", \"bar\", \"baz\"]) == \"foo\"\n",
    "pd.Index([\"foo\", \"bar\", \"baz\"]) == \"foo\""
   ]
  },
  {
   "cell_type": "markdown",
   "id": "e9b70fd3",
   "metadata": {},
   "source": [
    "pandas also handles element-wise comparisons between different array-like\n",
    "objects of the same length:"
   ]
  },
  {
   "cell_type": "code",
   "execution_count": 276,
   "id": "0b9724f4",
   "metadata": {
    "hide-output": false
   },
   "outputs": [
    {
     "data": {
      "text/plain": [
       "0     True\n",
       "1     True\n",
       "2    False\n",
       "dtype: bool"
      ]
     },
     "execution_count": 276,
     "metadata": {},
     "output_type": "execute_result"
    }
   ],
   "source": [
    "pd.Series([\"foo\", \"bar\", \"baz\"]) == pd.Index([\"foo\", \"bar\", \"qux\"])\n",
    "pd.Series([\"foo\", \"bar\", \"baz\"]) == np.array([\"foo\", \"bar\", \"qux\"])"
   ]
  },
  {
   "cell_type": "markdown",
   "id": "100d11eb",
   "metadata": {},
   "source": [
    "Trying to compare `Index` or `Series` objects of different lengths will\n",
    "raise a ValueError:"
   ]
  },
  {
   "cell_type": "markdown",
   "id": "8496c6d8",
   "metadata": {
    "hide-output": false
   },
   "source": [
    "```python\n",
    "In [55]: pd.Series(['foo', 'bar', 'baz']) == pd.Series(['foo', 'bar'])\n",
    "ValueError: Series lengths must match to compare\n",
    "\n",
    "In [56]: pd.Series(['foo', 'bar', 'baz']) == pd.Series(['foo'])\n",
    "ValueError: Series lengths must match to compare\n",
    "```\n"
   ]
  },
  {
   "cell_type": "markdown",
   "id": "eeed6609",
   "metadata": {},
   "source": [
    "Note that this is different from the NumPy behavior where a comparison can\n",
    "be broadcast:"
   ]
  },
  {
   "cell_type": "code",
   "execution_count": 277,
   "id": "9270a107",
   "metadata": {
    "hide-output": false
   },
   "outputs": [
    {
     "data": {
      "text/plain": [
       "array([False,  True, False])"
      ]
     },
     "execution_count": 277,
     "metadata": {},
     "output_type": "execute_result"
    }
   ],
   "source": [
    "np.array([1, 2, 3]) == np.array([2])"
   ]
  },
  {
   "cell_type": "markdown",
   "id": "34ee16fc",
   "metadata": {},
   "source": [
    "or it can return False if broadcasting can not be done:"
   ]
  },
  {
   "cell_type": "code",
   "execution_count": 278,
   "id": "885d1dac",
   "metadata": {
    "hide-output": false
   },
   "outputs": [
    {
     "name": "stderr",
     "output_type": "stream",
     "text": [
      "<ipython-input-278-8b3fe6b3be63>:1: DeprecationWarning: elementwise comparison failed; this will raise an error in the future.\n",
      "  np.array([1, 2, 3]) == np.array([1, 2])\n"
     ]
    },
    {
     "data": {
      "text/plain": [
       "False"
      ]
     },
     "execution_count": 278,
     "metadata": {},
     "output_type": "execute_result"
    }
   ],
   "source": [
    "np.array([1, 2, 3]) == np.array([1, 2])\n",
    "#<ipython-input-58-7a76bc07877c>:1: DeprecationWarning: elementwise comparison failed; this will raise an error in the future."
   ]
  },
  {
   "cell_type": "markdown",
   "id": "db7a6284",
   "metadata": {},
   "source": [
    "### Combining overlapping data sets\n",
    "\n",
    "A problem occasionally arising is the combination of two similar data sets\n",
    "where values in one are preferred over the other. An example would be two data\n",
    "series representing a particular economic indicator where one is considered to\n",
    "be of “higher quality”. However, the lower quality series might extend further\n",
    "back in history or have more complete data coverage. As such, we would like to\n",
    "combine two DataFrame objects where missing values in one DataFrame are\n",
    "conditionally filled with like-labeled values from the other DataFrame. The\n",
    "function implementing this operation is `combine_first()`,\n",
    "which we illustrate:"
   ]
  },
  {
   "cell_type": "code",
   "execution_count": 279,
   "id": "37f3d226",
   "metadata": {
    "hide-output": false
   },
   "outputs": [
    {
     "data": {
      "text/html": [
       "<div>\n",
       "<style scoped>\n",
       "    .dataframe tbody tr th:only-of-type {\n",
       "        vertical-align: middle;\n",
       "    }\n",
       "\n",
       "    .dataframe tbody tr th {\n",
       "        vertical-align: top;\n",
       "    }\n",
       "\n",
       "    .dataframe thead th {\n",
       "        text-align: right;\n",
       "    }\n",
       "</style>\n",
       "<table border=\"1\" class=\"dataframe\">\n",
       "  <thead>\n",
       "    <tr style=\"text-align: right;\">\n",
       "      <th></th>\n",
       "      <th>A</th>\n",
       "      <th>B</th>\n",
       "    </tr>\n",
       "  </thead>\n",
       "  <tbody>\n",
       "    <tr>\n",
       "      <th>0</th>\n",
       "      <td>1.0</td>\n",
       "      <td>NaN</td>\n",
       "    </tr>\n",
       "    <tr>\n",
       "      <th>1</th>\n",
       "      <td>NaN</td>\n",
       "      <td>2.0</td>\n",
       "    </tr>\n",
       "    <tr>\n",
       "      <th>2</th>\n",
       "      <td>3.0</td>\n",
       "      <td>3.0</td>\n",
       "    </tr>\n",
       "    <tr>\n",
       "      <th>3</th>\n",
       "      <td>5.0</td>\n",
       "      <td>NaN</td>\n",
       "    </tr>\n",
       "    <tr>\n",
       "      <th>4</th>\n",
       "      <td>NaN</td>\n",
       "      <td>6.0</td>\n",
       "    </tr>\n",
       "  </tbody>\n",
       "</table>\n",
       "</div>"
      ],
      "text/plain": [
       "     A    B\n",
       "0  1.0  NaN\n",
       "1  NaN  2.0\n",
       "2  3.0  3.0\n",
       "3  5.0  NaN\n",
       "4  NaN  6.0"
      ]
     },
     "execution_count": 279,
     "metadata": {},
     "output_type": "execute_result"
    }
   ],
   "source": [
    "df1 = pd.DataFrame(\n",
    "    {\"A\": [1.0, np.nan, 3.0, 5.0, np.nan], \"B\": [np.nan, 2.0, 3.0, np.nan, 6.0]}\n",
    ")\n",
    "df2 = pd.DataFrame(\n",
    "    {\n",
    "        \"A\": [5.0, 2.0, 4.0, np.nan, 3.0, 7.0],\n",
    "        \"B\": [np.nan, np.nan, 3.0, 4.0, 6.0, 8.0],\n",
    "    }\n",
    ")\n",
    "df1"
   ]
  },
  {
   "cell_type": "code",
   "execution_count": 280,
   "id": "f692efcd",
   "metadata": {},
   "outputs": [
    {
     "data": {
      "text/html": [
       "<div>\n",
       "<style scoped>\n",
       "    .dataframe tbody tr th:only-of-type {\n",
       "        vertical-align: middle;\n",
       "    }\n",
       "\n",
       "    .dataframe tbody tr th {\n",
       "        vertical-align: top;\n",
       "    }\n",
       "\n",
       "    .dataframe thead th {\n",
       "        text-align: right;\n",
       "    }\n",
       "</style>\n",
       "<table border=\"1\" class=\"dataframe\">\n",
       "  <thead>\n",
       "    <tr style=\"text-align: right;\">\n",
       "      <th></th>\n",
       "      <th>A</th>\n",
       "      <th>B</th>\n",
       "    </tr>\n",
       "  </thead>\n",
       "  <tbody>\n",
       "    <tr>\n",
       "      <th>0</th>\n",
       "      <td>5.0</td>\n",
       "      <td>NaN</td>\n",
       "    </tr>\n",
       "    <tr>\n",
       "      <th>1</th>\n",
       "      <td>2.0</td>\n",
       "      <td>NaN</td>\n",
       "    </tr>\n",
       "    <tr>\n",
       "      <th>2</th>\n",
       "      <td>4.0</td>\n",
       "      <td>3.0</td>\n",
       "    </tr>\n",
       "    <tr>\n",
       "      <th>3</th>\n",
       "      <td>NaN</td>\n",
       "      <td>4.0</td>\n",
       "    </tr>\n",
       "    <tr>\n",
       "      <th>4</th>\n",
       "      <td>3.0</td>\n",
       "      <td>6.0</td>\n",
       "    </tr>\n",
       "    <tr>\n",
       "      <th>5</th>\n",
       "      <td>7.0</td>\n",
       "      <td>8.0</td>\n",
       "    </tr>\n",
       "  </tbody>\n",
       "</table>\n",
       "</div>"
      ],
      "text/plain": [
       "     A    B\n",
       "0  5.0  NaN\n",
       "1  2.0  NaN\n",
       "2  4.0  3.0\n",
       "3  NaN  4.0\n",
       "4  3.0  6.0\n",
       "5  7.0  8.0"
      ]
     },
     "execution_count": 280,
     "metadata": {},
     "output_type": "execute_result"
    }
   ],
   "source": [
    "df2"
   ]
  },
  {
   "cell_type": "code",
   "execution_count": 281,
   "id": "4a10e559",
   "metadata": {},
   "outputs": [
    {
     "data": {
      "text/html": [
       "<div>\n",
       "<style scoped>\n",
       "    .dataframe tbody tr th:only-of-type {\n",
       "        vertical-align: middle;\n",
       "    }\n",
       "\n",
       "    .dataframe tbody tr th {\n",
       "        vertical-align: top;\n",
       "    }\n",
       "\n",
       "    .dataframe thead th {\n",
       "        text-align: right;\n",
       "    }\n",
       "</style>\n",
       "<table border=\"1\" class=\"dataframe\">\n",
       "  <thead>\n",
       "    <tr style=\"text-align: right;\">\n",
       "      <th></th>\n",
       "      <th>A</th>\n",
       "      <th>B</th>\n",
       "    </tr>\n",
       "  </thead>\n",
       "  <tbody>\n",
       "    <tr>\n",
       "      <th>0</th>\n",
       "      <td>1.0</td>\n",
       "      <td>NaN</td>\n",
       "    </tr>\n",
       "    <tr>\n",
       "      <th>1</th>\n",
       "      <td>2.0</td>\n",
       "      <td>2.0</td>\n",
       "    </tr>\n",
       "    <tr>\n",
       "      <th>2</th>\n",
       "      <td>3.0</td>\n",
       "      <td>3.0</td>\n",
       "    </tr>\n",
       "    <tr>\n",
       "      <th>3</th>\n",
       "      <td>5.0</td>\n",
       "      <td>4.0</td>\n",
       "    </tr>\n",
       "    <tr>\n",
       "      <th>4</th>\n",
       "      <td>3.0</td>\n",
       "      <td>6.0</td>\n",
       "    </tr>\n",
       "    <tr>\n",
       "      <th>5</th>\n",
       "      <td>7.0</td>\n",
       "      <td>8.0</td>\n",
       "    </tr>\n",
       "  </tbody>\n",
       "</table>\n",
       "</div>"
      ],
      "text/plain": [
       "     A    B\n",
       "0  1.0  NaN\n",
       "1  2.0  2.0\n",
       "2  3.0  3.0\n",
       "3  5.0  4.0\n",
       "4  3.0  6.0\n",
       "5  7.0  8.0"
      ]
     },
     "execution_count": 281,
     "metadata": {},
     "output_type": "execute_result"
    }
   ],
   "source": [
    "df1.combine_first(df2)"
   ]
  },
  {
   "cell_type": "markdown",
   "id": "76b3b76e",
   "metadata": {},
   "source": [
    "### General DataFrame combine\n",
    "\n",
    "The `combine_first()` method above calls the more general\n",
    "`DataFrame.combine()`. This method takes another DataFrame\n",
    "and a combiner function, aligns the input DataFrame and then passes the combiner\n",
    "function pairs of Series (i.e., columns whose names are the same).\n",
    "\n",
    "So, for instance, to reproduce `combine_first()` as above:"
   ]
  },
  {
   "cell_type": "code",
   "execution_count": 282,
   "id": "44358e2c",
   "metadata": {
    "hide-output": false
   },
   "outputs": [
    {
     "data": {
      "text/html": [
       "<div>\n",
       "<style scoped>\n",
       "    .dataframe tbody tr th:only-of-type {\n",
       "        vertical-align: middle;\n",
       "    }\n",
       "\n",
       "    .dataframe tbody tr th {\n",
       "        vertical-align: top;\n",
       "    }\n",
       "\n",
       "    .dataframe thead th {\n",
       "        text-align: right;\n",
       "    }\n",
       "</style>\n",
       "<table border=\"1\" class=\"dataframe\">\n",
       "  <thead>\n",
       "    <tr style=\"text-align: right;\">\n",
       "      <th></th>\n",
       "      <th>A</th>\n",
       "      <th>B</th>\n",
       "    </tr>\n",
       "  </thead>\n",
       "  <tbody>\n",
       "    <tr>\n",
       "      <th>0</th>\n",
       "      <td>1.0</td>\n",
       "      <td>NaN</td>\n",
       "    </tr>\n",
       "    <tr>\n",
       "      <th>1</th>\n",
       "      <td>2.0</td>\n",
       "      <td>2.0</td>\n",
       "    </tr>\n",
       "    <tr>\n",
       "      <th>2</th>\n",
       "      <td>3.0</td>\n",
       "      <td>3.0</td>\n",
       "    </tr>\n",
       "    <tr>\n",
       "      <th>3</th>\n",
       "      <td>5.0</td>\n",
       "      <td>4.0</td>\n",
       "    </tr>\n",
       "    <tr>\n",
       "      <th>4</th>\n",
       "      <td>3.0</td>\n",
       "      <td>6.0</td>\n",
       "    </tr>\n",
       "    <tr>\n",
       "      <th>5</th>\n",
       "      <td>7.0</td>\n",
       "      <td>8.0</td>\n",
       "    </tr>\n",
       "  </tbody>\n",
       "</table>\n",
       "</div>"
      ],
      "text/plain": [
       "     A    B\n",
       "0  1.0  NaN\n",
       "1  2.0  2.0\n",
       "2  3.0  3.0\n",
       "3  5.0  4.0\n",
       "4  3.0  6.0\n",
       "5  7.0  8.0"
      ]
     },
     "execution_count": 282,
     "metadata": {},
     "output_type": "execute_result"
    }
   ],
   "source": [
    "def combiner(x, y):\n",
    "    return np.where(pd.isna(x), y, x)\n",
    "\n",
    "\n",
    "df1.combine(df2, combiner)"
   ]
  },
  {
   "cell_type": "markdown",
   "id": "233a725d",
   "metadata": {},
   "source": [
    "\n",
    "<a id='basics-stats'></a>"
   ]
  },
  {
   "cell_type": "markdown",
   "id": "3ae25a73",
   "metadata": {},
   "source": [
    "## Descriptive statistics\n",
    "\n",
    "There exists a large number of methods for computing descriptive statistics and\n",
    "other related operations on Series, [DataFrame](../05_reference/13_dataFrame.ipynb#api-dataframe-stats). Most of these\n",
    "are aggregations (hence producing a lower-dimensional result) like\n",
    "`sum()`, `mean()`, and `quantile()`,\n",
    "but some of them, like `cumsum()` and `cumprod()`,\n",
    "produce an object of the same size. Generally speaking, these methods take an\n",
    "**axis** argument, just like *ndarray.{sum, std, …}*, but the axis can be\n",
    "specified by name or integer:\n",
    "\n",
    "- **Series**: no axis argument needed  \n",
    "- **DataFrame**: “index” (axis=0, default), “columns” (axis=1)  \n",
    "\n",
    "\n",
    "For example:"
   ]
  },
  {
   "cell_type": "code",
   "execution_count": 283,
   "id": "82779f6c-e448-427e-ac03-16f670994504",
   "metadata": {
    "hide-output": false
   },
   "outputs": [
    {
     "data": {
      "text/html": [
       "<div>\n",
       "<style scoped>\n",
       "    .dataframe tbody tr th:only-of-type {\n",
       "        vertical-align: middle;\n",
       "    }\n",
       "\n",
       "    .dataframe tbody tr th {\n",
       "        vertical-align: top;\n",
       "    }\n",
       "\n",
       "    .dataframe thead th {\n",
       "        text-align: right;\n",
       "    }\n",
       "</style>\n",
       "<table border=\"1\" class=\"dataframe\">\n",
       "  <thead>\n",
       "    <tr style=\"text-align: right;\">\n",
       "      <th></th>\n",
       "      <th>one</th>\n",
       "      <th>two</th>\n",
       "      <th>three</th>\n",
       "    </tr>\n",
       "  </thead>\n",
       "  <tbody>\n",
       "    <tr>\n",
       "      <th>a</th>\n",
       "      <td>0.075514</td>\n",
       "      <td>1.092052</td>\n",
       "      <td>NaN</td>\n",
       "    </tr>\n",
       "    <tr>\n",
       "      <th>b</th>\n",
       "      <td>-1.030396</td>\n",
       "      <td>0.294612</td>\n",
       "      <td>0.706416</td>\n",
       "    </tr>\n",
       "    <tr>\n",
       "      <th>c</th>\n",
       "      <td>-1.028668</td>\n",
       "      <td>0.228052</td>\n",
       "      <td>0.334334</td>\n",
       "    </tr>\n",
       "    <tr>\n",
       "      <th>d</th>\n",
       "      <td>NaN</td>\n",
       "      <td>0.295426</td>\n",
       "      <td>-0.720844</td>\n",
       "    </tr>\n",
       "  </tbody>\n",
       "</table>\n",
       "</div>"
      ],
      "text/plain": [
       "        one       two     three\n",
       "a  0.075514  1.092052       NaN\n",
       "b -1.030396  0.294612  0.706416\n",
       "c -1.028668  0.228052  0.334334\n",
       "d       NaN  0.295426 -0.720844"
      ]
     },
     "execution_count": 283,
     "metadata": {},
     "output_type": "execute_result"
    }
   ],
   "source": [
    "df"
   ]
  },
  {
   "cell_type": "code",
   "execution_count": 284,
   "id": "5c9b2f1d-2314-45cd-b834-f13e128796f5",
   "metadata": {
    "hide-output": false
   },
   "outputs": [
    {
     "data": {
      "text/plain": [
       "one     -0.661183\n",
       "two      0.477535\n",
       "three    0.106635\n",
       "dtype: float64"
      ]
     },
     "execution_count": 284,
     "metadata": {},
     "output_type": "execute_result"
    }
   ],
   "source": [
    "df.mean(0)"
   ]
  },
  {
   "cell_type": "code",
   "execution_count": 285,
   "id": "a3106c8e-eaf9-439e-9e83-fcc6eeb4ff71",
   "metadata": {
    "hide-output": false
   },
   "outputs": [
    {
     "data": {
      "text/plain": [
       "a    0.583783\n",
       "b   -0.009789\n",
       "c   -0.155427\n",
       "d   -0.212709\n",
       "dtype: float64"
      ]
     },
     "execution_count": 285,
     "metadata": {},
     "output_type": "execute_result"
    }
   ],
   "source": [
    "df.mean(1)"
   ]
  },
  {
   "cell_type": "markdown",
   "id": "3ac5fb04",
   "metadata": {},
   "source": [
    "All such methods have a `skipna` option signaling whether to exclude missing\n",
    "data (`True` by default):"
   ]
  },
  {
   "cell_type": "code",
   "execution_count": 286,
   "id": "e51254e9-1e08-41e8-b09d-95c2e14164e9",
   "metadata": {
    "hide-output": false
   },
   "outputs": [
    {
     "data": {
      "text/plain": [
       "one           NaN\n",
       "two      1.910142\n",
       "three         NaN\n",
       "dtype: float64"
      ]
     },
     "execution_count": 286,
     "metadata": {},
     "output_type": "execute_result"
    }
   ],
   "source": [
    "df.sum(0, skipna=False)"
   ]
  },
  {
   "cell_type": "code",
   "execution_count": 287,
   "id": "8b38a5d9-e9f0-46e4-becf-8d107c032a17",
   "metadata": {
    "hide-output": false
   },
   "outputs": [
    {
     "data": {
      "text/plain": [
       "a    1.167566\n",
       "b   -0.029368\n",
       "c   -0.466281\n",
       "d   -0.425418\n",
       "dtype: float64"
      ]
     },
     "execution_count": 287,
     "metadata": {},
     "output_type": "execute_result"
    }
   ],
   "source": [
    "df.sum(axis=1, skipna=True)"
   ]
  },
  {
   "cell_type": "markdown",
   "id": "6dcfb08a",
   "metadata": {},
   "source": [
    "Combined with the broadcasting / arithmetic behavior, one can describe various\n",
    "statistical procedures, like standardization (rendering data zero mean and\n",
    "standard deviation of 1), very concisely:"
   ]
  },
  {
   "cell_type": "code",
   "execution_count": 288,
   "id": "b9459c0c-e8ae-4416-8445-a0ebdf896399",
   "metadata": {
    "hide-output": false
   },
   "outputs": [
    {
     "data": {
      "text/plain": [
       "one      1.0\n",
       "two      1.0\n",
       "three    1.0\n",
       "dtype: float64"
      ]
     },
     "execution_count": 288,
     "metadata": {},
     "output_type": "execute_result"
    }
   ],
   "source": [
    "ts_stand = (df - df.mean()) / df.std()\n",
    "ts_stand.std()"
   ]
  },
  {
   "cell_type": "code",
   "execution_count": 289,
   "id": "b2053c7c-5807-441d-8d4d-db08b1094c09",
   "metadata": {
    "hide-output": false
   },
   "outputs": [
    {
     "data": {
      "text/plain": [
       "a    1.0\n",
       "b    1.0\n",
       "c    1.0\n",
       "d    1.0\n",
       "dtype: float64"
      ]
     },
     "execution_count": 289,
     "metadata": {},
     "output_type": "execute_result"
    }
   ],
   "source": [
    "xs_stand = df.sub(df.mean(1), axis=0).div(df.std(1), axis=0)\n",
    "xs_stand.std(1)"
   ]
  },
  {
   "cell_type": "markdown",
   "id": "a46d4296",
   "metadata": {},
   "source": [
    "Note that methods like `cumsum()` and `cumprod()`\n",
    "preserve the location of `NaN` values. This is somewhat different from\n",
    "`expanding()` and `rolling()` since `NaN` behavior\n",
    "is furthermore dictated by a `min_periods` parameter."
   ]
  },
  {
   "cell_type": "code",
   "execution_count": 290,
   "id": "ad115353",
   "metadata": {
    "hide-output": false
   },
   "outputs": [
    {
     "data": {
      "text/html": [
       "<div>\n",
       "<style scoped>\n",
       "    .dataframe tbody tr th:only-of-type {\n",
       "        vertical-align: middle;\n",
       "    }\n",
       "\n",
       "    .dataframe tbody tr th {\n",
       "        vertical-align: top;\n",
       "    }\n",
       "\n",
       "    .dataframe thead th {\n",
       "        text-align: right;\n",
       "    }\n",
       "</style>\n",
       "<table border=\"1\" class=\"dataframe\">\n",
       "  <thead>\n",
       "    <tr style=\"text-align: right;\">\n",
       "      <th></th>\n",
       "      <th>one</th>\n",
       "      <th>two</th>\n",
       "      <th>three</th>\n",
       "    </tr>\n",
       "  </thead>\n",
       "  <tbody>\n",
       "    <tr>\n",
       "      <th>a</th>\n",
       "      <td>0.075514</td>\n",
       "      <td>1.092052</td>\n",
       "      <td>NaN</td>\n",
       "    </tr>\n",
       "    <tr>\n",
       "      <th>b</th>\n",
       "      <td>-0.954882</td>\n",
       "      <td>1.386664</td>\n",
       "      <td>0.706416</td>\n",
       "    </tr>\n",
       "    <tr>\n",
       "      <th>c</th>\n",
       "      <td>-1.983549</td>\n",
       "      <td>1.614716</td>\n",
       "      <td>1.040750</td>\n",
       "    </tr>\n",
       "    <tr>\n",
       "      <th>d</th>\n",
       "      <td>NaN</td>\n",
       "      <td>1.910142</td>\n",
       "      <td>0.319906</td>\n",
       "    </tr>\n",
       "  </tbody>\n",
       "</table>\n",
       "</div>"
      ],
      "text/plain": [
       "        one       two     three\n",
       "a  0.075514  1.092052       NaN\n",
       "b -0.954882  1.386664  0.706416\n",
       "c -1.983549  1.614716  1.040750\n",
       "d       NaN  1.910142  0.319906"
      ]
     },
     "execution_count": 290,
     "metadata": {},
     "output_type": "execute_result"
    }
   ],
   "source": [
    "df.cumsum()"
   ]
  },
  {
   "cell_type": "markdown",
   "id": "f320fb4b",
   "metadata": {},
   "source": [
    "Here is a quick reference summary table of common functions. Each also takes an\n",
    "optional `level` parameter which applies only if the object has a\n",
    "hierarchical index.\n",
    "\n",
    "|Function|Description|\n",
    "|:------------------|:------------------------------------------------------------------------------|\n",
    "|count|Number of non-NA observations|\n",
    "|sum|Sum of values|\n",
    "|mean|Mean of values|\n",
    "|mad|Mean absolute deviation|\n",
    "|median|Arithmetic median of values|\n",
    "|min|Minimum|\n",
    "|max|Maximum|\n",
    "|mode|Mode|\n",
    "|abs|Absolute Value|\n",
    "|prod|Product of values|\n",
    "|std|Bessel-corrected sample standard deviation|\n",
    "|var|Unbiased variance|\n",
    "|sem|Standard error of the mean|\n",
    "|skew|Sample skewness (3rd moment)|\n",
    "|kurt|Sample kurtosis (4th moment)|\n",
    "|quantile|Sample quantile (value at %)|\n",
    "|cumsum|Cumulative sum|\n",
    "|cumprod|Cumulative product|\n",
    "|cummax|Cumulative maximum|\n",
    "|cummin|Cumulative minimum|\n",
    "\n",
    "\n",
    "Note that by chance some NumPy methods, like `mean`, `std`, and `sum`,\n",
    "will exclude NAs on Series input by default:"
   ]
  },
  {
   "cell_type": "code",
   "execution_count": 291,
   "id": "c438e19d-c82b-4f0c-9d67-917cff0ed229",
   "metadata": {
    "hide-output": false
   },
   "outputs": [
    {
     "data": {
      "text/plain": [
       "-0.6611831366807629"
      ]
     },
     "execution_count": 291,
     "metadata": {},
     "output_type": "execute_result"
    }
   ],
   "source": [
    "np.mean(df[\"one\"])"
   ]
  },
  {
   "cell_type": "code",
   "execution_count": 292,
   "id": "7178358b-9583-4d9d-87a1-c27f8cfacad9",
   "metadata": {
    "hide-output": false
   },
   "outputs": [
    {
     "data": {
      "text/plain": [
       "nan"
      ]
     },
     "execution_count": 292,
     "metadata": {},
     "output_type": "execute_result"
    }
   ],
   "source": [
    "np.mean(df[\"one\"].to_numpy())"
   ]
  },
  {
   "cell_type": "markdown",
   "id": "9a39ff73",
   "metadata": {},
   "source": [
    "`Series.nunique()` will return the number of unique non-NA values in a\n",
    "Series:"
   ]
  },
  {
   "cell_type": "code",
   "execution_count": 293,
   "id": "d89c1e6b",
   "metadata": {
    "hide-output": false
   },
   "outputs": [
    {
     "data": {
      "text/plain": [
       "11"
      ]
     },
     "execution_count": 293,
     "metadata": {},
     "output_type": "execute_result"
    }
   ],
   "source": [
    "series = pd.Series(np.random.randn(500))\n",
    "series[20:500] = np.nan\n",
    "series[10:20] = 5\n",
    "series.nunique()"
   ]
  },
  {
   "cell_type": "markdown",
   "id": "ca472a63",
   "metadata": {},
   "source": [
    "\n",
    "<a id='basics-describe'></a>"
   ]
  },
  {
   "cell_type": "markdown",
   "id": "4aeb31da",
   "metadata": {},
   "source": [
    "### Summarizing data: describe\n",
    "\n",
    "There is a convenient `describe()` function which computes a variety of summary\n",
    "statistics about a Series or the columns of a DataFrame (excluding NAs of\n",
    "course):"
   ]
  },
  {
   "cell_type": "code",
   "execution_count": 294,
   "id": "bb4bb940-d961-4de2-a348-f0ed9f160110",
   "metadata": {
    "hide-output": false
   },
   "outputs": [
    {
     "data": {
      "text/plain": [
       "count    500.000000\n",
       "mean       0.127847\n",
       "std        1.044871\n",
       "min       -3.474301\n",
       "25%       -0.563509\n",
       "50%        0.160509\n",
       "75%        0.838872\n",
       "max        3.233916\n",
       "dtype: float64"
      ]
     },
     "execution_count": 294,
     "metadata": {},
     "output_type": "execute_result"
    }
   ],
   "source": [
    "series = pd.Series(np.random.randn(1000))\n",
    "series[::2] = np.nan\n",
    "series.describe()"
   ]
  },
  {
   "cell_type": "code",
   "execution_count": 295,
   "id": "f30b45b3-3c23-477b-82e3-9e76aeb25856",
   "metadata": {
    "hide-output": false
   },
   "outputs": [
    {
     "data": {
      "text/html": [
       "<div>\n",
       "<style scoped>\n",
       "    .dataframe tbody tr th:only-of-type {\n",
       "        vertical-align: middle;\n",
       "    }\n",
       "\n",
       "    .dataframe tbody tr th {\n",
       "        vertical-align: top;\n",
       "    }\n",
       "\n",
       "    .dataframe thead th {\n",
       "        text-align: right;\n",
       "    }\n",
       "</style>\n",
       "<table border=\"1\" class=\"dataframe\">\n",
       "  <thead>\n",
       "    <tr style=\"text-align: right;\">\n",
       "      <th></th>\n",
       "      <th>a</th>\n",
       "      <th>b</th>\n",
       "      <th>c</th>\n",
       "      <th>d</th>\n",
       "      <th>e</th>\n",
       "    </tr>\n",
       "  </thead>\n",
       "  <tbody>\n",
       "    <tr>\n",
       "      <th>count</th>\n",
       "      <td>500.000000</td>\n",
       "      <td>500.000000</td>\n",
       "      <td>500.000000</td>\n",
       "      <td>500.000000</td>\n",
       "      <td>500.000000</td>\n",
       "    </tr>\n",
       "    <tr>\n",
       "      <th>mean</th>\n",
       "      <td>0.100002</td>\n",
       "      <td>-0.034309</td>\n",
       "      <td>-0.005170</td>\n",
       "      <td>0.000448</td>\n",
       "      <td>-0.026713</td>\n",
       "    </tr>\n",
       "    <tr>\n",
       "      <th>std</th>\n",
       "      <td>0.931921</td>\n",
       "      <td>0.954818</td>\n",
       "      <td>0.961490</td>\n",
       "      <td>0.989543</td>\n",
       "      <td>1.045745</td>\n",
       "    </tr>\n",
       "    <tr>\n",
       "      <th>min</th>\n",
       "      <td>-2.472430</td>\n",
       "      <td>-3.281907</td>\n",
       "      <td>-3.093750</td>\n",
       "      <td>-3.373955</td>\n",
       "      <td>-2.870281</td>\n",
       "    </tr>\n",
       "    <tr>\n",
       "      <th>25%</th>\n",
       "      <td>-0.561391</td>\n",
       "      <td>-0.664603</td>\n",
       "      <td>-0.605527</td>\n",
       "      <td>-0.677428</td>\n",
       "      <td>-0.711042</td>\n",
       "    </tr>\n",
       "    <tr>\n",
       "      <th>50%</th>\n",
       "      <td>0.120135</td>\n",
       "      <td>-0.117833</td>\n",
       "      <td>-0.005011</td>\n",
       "      <td>0.032045</td>\n",
       "      <td>-0.031044</td>\n",
       "    </tr>\n",
       "    <tr>\n",
       "      <th>75%</th>\n",
       "      <td>0.678720</td>\n",
       "      <td>0.594165</td>\n",
       "      <td>0.609173</td>\n",
       "      <td>0.650596</td>\n",
       "      <td>0.685870</td>\n",
       "    </tr>\n",
       "    <tr>\n",
       "      <th>max</th>\n",
       "      <td>3.481073</td>\n",
       "      <td>2.741764</td>\n",
       "      <td>2.727634</td>\n",
       "      <td>3.328725</td>\n",
       "      <td>3.777564</td>\n",
       "    </tr>\n",
       "  </tbody>\n",
       "</table>\n",
       "</div>"
      ],
      "text/plain": [
       "                a           b           c           d           e\n",
       "count  500.000000  500.000000  500.000000  500.000000  500.000000\n",
       "mean     0.100002   -0.034309   -0.005170    0.000448   -0.026713\n",
       "std      0.931921    0.954818    0.961490    0.989543    1.045745\n",
       "min     -2.472430   -3.281907   -3.093750   -3.373955   -2.870281\n",
       "25%     -0.561391   -0.664603   -0.605527   -0.677428   -0.711042\n",
       "50%      0.120135   -0.117833   -0.005011    0.032045   -0.031044\n",
       "75%      0.678720    0.594165    0.609173    0.650596    0.685870\n",
       "max      3.481073    2.741764    2.727634    3.328725    3.777564"
      ]
     },
     "execution_count": 295,
     "metadata": {},
     "output_type": "execute_result"
    }
   ],
   "source": [
    "frame = pd.DataFrame(np.random.randn(1000, 5), columns=[\"a\", \"b\", \"c\", \"d\", \"e\"])\n",
    "frame.iloc[::2] = np.nan\n",
    "frame.describe()"
   ]
  },
  {
   "cell_type": "markdown",
   "id": "061a8e3a",
   "metadata": {},
   "source": [
    "You can select specific percentiles to include in the output:"
   ]
  },
  {
   "cell_type": "code",
   "execution_count": 296,
   "id": "7006f143",
   "metadata": {
    "hide-output": false
   },
   "outputs": [
    {
     "data": {
      "text/plain": [
       "count    500.000000\n",
       "mean       0.127847\n",
       "std        1.044871\n",
       "min       -3.474301\n",
       "5%        -1.623751\n",
       "25%       -0.563509\n",
       "50%        0.160509\n",
       "75%        0.838872\n",
       "95%        1.887923\n",
       "max        3.233916\n",
       "dtype: float64"
      ]
     },
     "execution_count": 296,
     "metadata": {},
     "output_type": "execute_result"
    }
   ],
   "source": [
    "series.describe(percentiles=[0.05, 0.25, 0.75, 0.95])"
   ]
  },
  {
   "cell_type": "markdown",
   "id": "d99bef2b",
   "metadata": {},
   "source": [
    "By default, the median is always included.\n",
    "\n",
    "For a non-numerical Series object, `describe()` will give a simple\n",
    "summary of the number of unique values and most frequently occurring values:"
   ]
  },
  {
   "cell_type": "code",
   "execution_count": 297,
   "id": "e6cd5d57",
   "metadata": {
    "hide-output": false
   },
   "outputs": [
    {
     "data": {
      "text/plain": [
       "count     9\n",
       "unique    4\n",
       "top       a\n",
       "freq      5\n",
       "dtype: object"
      ]
     },
     "execution_count": 297,
     "metadata": {},
     "output_type": "execute_result"
    }
   ],
   "source": [
    "s = pd.Series([\"a\", \"a\", \"b\", \"b\", \"a\", \"a\", np.nan, \"c\", \"d\", \"a\"])\n",
    "s.describe()"
   ]
  },
  {
   "cell_type": "markdown",
   "id": "97929d58",
   "metadata": {},
   "source": [
    "Note that on a mixed-type DataFrame object, `describe()` will\n",
    "restrict the summary to include only numerical columns or, if none are, only\n",
    "categorical columns:"
   ]
  },
  {
   "cell_type": "code",
   "execution_count": 298,
   "id": "be6daf02",
   "metadata": {
    "hide-output": false
   },
   "outputs": [
    {
     "data": {
      "text/html": [
       "<div>\n",
       "<style scoped>\n",
       "    .dataframe tbody tr th:only-of-type {\n",
       "        vertical-align: middle;\n",
       "    }\n",
       "\n",
       "    .dataframe tbody tr th {\n",
       "        vertical-align: top;\n",
       "    }\n",
       "\n",
       "    .dataframe thead th {\n",
       "        text-align: right;\n",
       "    }\n",
       "</style>\n",
       "<table border=\"1\" class=\"dataframe\">\n",
       "  <thead>\n",
       "    <tr style=\"text-align: right;\">\n",
       "      <th></th>\n",
       "      <th>b</th>\n",
       "    </tr>\n",
       "  </thead>\n",
       "  <tbody>\n",
       "    <tr>\n",
       "      <th>count</th>\n",
       "      <td>4.000000</td>\n",
       "    </tr>\n",
       "    <tr>\n",
       "      <th>mean</th>\n",
       "      <td>1.500000</td>\n",
       "    </tr>\n",
       "    <tr>\n",
       "      <th>std</th>\n",
       "      <td>1.290994</td>\n",
       "    </tr>\n",
       "    <tr>\n",
       "      <th>min</th>\n",
       "      <td>0.000000</td>\n",
       "    </tr>\n",
       "    <tr>\n",
       "      <th>25%</th>\n",
       "      <td>0.750000</td>\n",
       "    </tr>\n",
       "    <tr>\n",
       "      <th>50%</th>\n",
       "      <td>1.500000</td>\n",
       "    </tr>\n",
       "    <tr>\n",
       "      <th>75%</th>\n",
       "      <td>2.250000</td>\n",
       "    </tr>\n",
       "    <tr>\n",
       "      <th>max</th>\n",
       "      <td>3.000000</td>\n",
       "    </tr>\n",
       "  </tbody>\n",
       "</table>\n",
       "</div>"
      ],
      "text/plain": [
       "              b\n",
       "count  4.000000\n",
       "mean   1.500000\n",
       "std    1.290994\n",
       "min    0.000000\n",
       "25%    0.750000\n",
       "50%    1.500000\n",
       "75%    2.250000\n",
       "max    3.000000"
      ]
     },
     "execution_count": 298,
     "metadata": {},
     "output_type": "execute_result"
    }
   ],
   "source": [
    "frame = pd.DataFrame({\"a\": [\"Yes\", \"Yes\", \"No\", \"No\"], \"b\": range(4)})\n",
    "frame.describe()"
   ]
  },
  {
   "cell_type": "markdown",
   "id": "1a76a206",
   "metadata": {},
   "source": [
    "This behavior can be controlled by providing a list of types as `include`/`exclude`\n",
    "arguments. The special value `all` can also be used:"
   ]
  },
  {
   "cell_type": "code",
   "execution_count": 299,
   "id": "93f9213a-bba7-4167-8753-062e0d643faa",
   "metadata": {
    "hide-output": false
   },
   "outputs": [
    {
     "data": {
      "text/html": [
       "<div>\n",
       "<style scoped>\n",
       "    .dataframe tbody tr th:only-of-type {\n",
       "        vertical-align: middle;\n",
       "    }\n",
       "\n",
       "    .dataframe tbody tr th {\n",
       "        vertical-align: top;\n",
       "    }\n",
       "\n",
       "    .dataframe thead th {\n",
       "        text-align: right;\n",
       "    }\n",
       "</style>\n",
       "<table border=\"1\" class=\"dataframe\">\n",
       "  <thead>\n",
       "    <tr style=\"text-align: right;\">\n",
       "      <th></th>\n",
       "      <th>a</th>\n",
       "    </tr>\n",
       "  </thead>\n",
       "  <tbody>\n",
       "    <tr>\n",
       "      <th>count</th>\n",
       "      <td>4</td>\n",
       "    </tr>\n",
       "    <tr>\n",
       "      <th>unique</th>\n",
       "      <td>2</td>\n",
       "    </tr>\n",
       "    <tr>\n",
       "      <th>top</th>\n",
       "      <td>Yes</td>\n",
       "    </tr>\n",
       "    <tr>\n",
       "      <th>freq</th>\n",
       "      <td>2</td>\n",
       "    </tr>\n",
       "  </tbody>\n",
       "</table>\n",
       "</div>"
      ],
      "text/plain": [
       "          a\n",
       "count     4\n",
       "unique    2\n",
       "top     Yes\n",
       "freq      2"
      ]
     },
     "execution_count": 299,
     "metadata": {},
     "output_type": "execute_result"
    }
   ],
   "source": [
    "frame.describe(include=[\"object\"])"
   ]
  },
  {
   "cell_type": "code",
   "execution_count": 300,
   "id": "52c19b8d-6c63-488b-8f56-bd4941e9b809",
   "metadata": {
    "hide-output": false
   },
   "outputs": [
    {
     "data": {
      "text/html": [
       "<div>\n",
       "<style scoped>\n",
       "    .dataframe tbody tr th:only-of-type {\n",
       "        vertical-align: middle;\n",
       "    }\n",
       "\n",
       "    .dataframe tbody tr th {\n",
       "        vertical-align: top;\n",
       "    }\n",
       "\n",
       "    .dataframe thead th {\n",
       "        text-align: right;\n",
       "    }\n",
       "</style>\n",
       "<table border=\"1\" class=\"dataframe\">\n",
       "  <thead>\n",
       "    <tr style=\"text-align: right;\">\n",
       "      <th></th>\n",
       "      <th>b</th>\n",
       "    </tr>\n",
       "  </thead>\n",
       "  <tbody>\n",
       "    <tr>\n",
       "      <th>count</th>\n",
       "      <td>4.000000</td>\n",
       "    </tr>\n",
       "    <tr>\n",
       "      <th>mean</th>\n",
       "      <td>1.500000</td>\n",
       "    </tr>\n",
       "    <tr>\n",
       "      <th>std</th>\n",
       "      <td>1.290994</td>\n",
       "    </tr>\n",
       "    <tr>\n",
       "      <th>min</th>\n",
       "      <td>0.000000</td>\n",
       "    </tr>\n",
       "    <tr>\n",
       "      <th>25%</th>\n",
       "      <td>0.750000</td>\n",
       "    </tr>\n",
       "    <tr>\n",
       "      <th>50%</th>\n",
       "      <td>1.500000</td>\n",
       "    </tr>\n",
       "    <tr>\n",
       "      <th>75%</th>\n",
       "      <td>2.250000</td>\n",
       "    </tr>\n",
       "    <tr>\n",
       "      <th>max</th>\n",
       "      <td>3.000000</td>\n",
       "    </tr>\n",
       "  </tbody>\n",
       "</table>\n",
       "</div>"
      ],
      "text/plain": [
       "              b\n",
       "count  4.000000\n",
       "mean   1.500000\n",
       "std    1.290994\n",
       "min    0.000000\n",
       "25%    0.750000\n",
       "50%    1.500000\n",
       "75%    2.250000\n",
       "max    3.000000"
      ]
     },
     "execution_count": 300,
     "metadata": {},
     "output_type": "execute_result"
    }
   ],
   "source": [
    "frame.describe(include=[\"number\"])"
   ]
  },
  {
   "cell_type": "code",
   "execution_count": 301,
   "id": "bddc5bde-1eff-4c69-a0d5-ff7303326872",
   "metadata": {
    "hide-output": false
   },
   "outputs": [
    {
     "data": {
      "text/html": [
       "<div>\n",
       "<style scoped>\n",
       "    .dataframe tbody tr th:only-of-type {\n",
       "        vertical-align: middle;\n",
       "    }\n",
       "\n",
       "    .dataframe tbody tr th {\n",
       "        vertical-align: top;\n",
       "    }\n",
       "\n",
       "    .dataframe thead th {\n",
       "        text-align: right;\n",
       "    }\n",
       "</style>\n",
       "<table border=\"1\" class=\"dataframe\">\n",
       "  <thead>\n",
       "    <tr style=\"text-align: right;\">\n",
       "      <th></th>\n",
       "      <th>a</th>\n",
       "      <th>b</th>\n",
       "    </tr>\n",
       "  </thead>\n",
       "  <tbody>\n",
       "    <tr>\n",
       "      <th>count</th>\n",
       "      <td>4</td>\n",
       "      <td>4.000000</td>\n",
       "    </tr>\n",
       "    <tr>\n",
       "      <th>unique</th>\n",
       "      <td>2</td>\n",
       "      <td>NaN</td>\n",
       "    </tr>\n",
       "    <tr>\n",
       "      <th>top</th>\n",
       "      <td>Yes</td>\n",
       "      <td>NaN</td>\n",
       "    </tr>\n",
       "    <tr>\n",
       "      <th>freq</th>\n",
       "      <td>2</td>\n",
       "      <td>NaN</td>\n",
       "    </tr>\n",
       "    <tr>\n",
       "      <th>mean</th>\n",
       "      <td>NaN</td>\n",
       "      <td>1.500000</td>\n",
       "    </tr>\n",
       "    <tr>\n",
       "      <th>std</th>\n",
       "      <td>NaN</td>\n",
       "      <td>1.290994</td>\n",
       "    </tr>\n",
       "    <tr>\n",
       "      <th>min</th>\n",
       "      <td>NaN</td>\n",
       "      <td>0.000000</td>\n",
       "    </tr>\n",
       "    <tr>\n",
       "      <th>25%</th>\n",
       "      <td>NaN</td>\n",
       "      <td>0.750000</td>\n",
       "    </tr>\n",
       "    <tr>\n",
       "      <th>50%</th>\n",
       "      <td>NaN</td>\n",
       "      <td>1.500000</td>\n",
       "    </tr>\n",
       "    <tr>\n",
       "      <th>75%</th>\n",
       "      <td>NaN</td>\n",
       "      <td>2.250000</td>\n",
       "    </tr>\n",
       "    <tr>\n",
       "      <th>max</th>\n",
       "      <td>NaN</td>\n",
       "      <td>3.000000</td>\n",
       "    </tr>\n",
       "  </tbody>\n",
       "</table>\n",
       "</div>"
      ],
      "text/plain": [
       "          a         b\n",
       "count     4  4.000000\n",
       "unique    2       NaN\n",
       "top     Yes       NaN\n",
       "freq      2       NaN\n",
       "mean    NaN  1.500000\n",
       "std     NaN  1.290994\n",
       "min     NaN  0.000000\n",
       "25%     NaN  0.750000\n",
       "50%     NaN  1.500000\n",
       "75%     NaN  2.250000\n",
       "max     NaN  3.000000"
      ]
     },
     "execution_count": 301,
     "metadata": {},
     "output_type": "execute_result"
    }
   ],
   "source": [
    "frame.describe(include=\"all\")"
   ]
  },
  {
   "cell_type": "markdown",
   "id": "eb41c894",
   "metadata": {},
   "source": [
    "That feature relies on select_dtypes. Refer to\n",
    "there for details about accepted inputs.\n",
    "\n",
    "\n",
    "<a id='basics-idxmin'></a>"
   ]
  },
  {
   "cell_type": "markdown",
   "id": "51c2c849",
   "metadata": {},
   "source": [
    "### Index of min/max values\n",
    "\n",
    "The `idxmin()` and `idxmax()` functions on Series\n",
    "and DataFrame compute the index labels with the minimum and maximum\n",
    "corresponding values:"
   ]
  },
  {
   "cell_type": "code",
   "execution_count": 302,
   "id": "7c3ae5d4-520d-4a3e-a770-df65cf5d7577",
   "metadata": {
    "hide-output": false
   },
   "outputs": [
    {
     "data": {
      "text/plain": [
       "0    1.640724\n",
       "1    0.298740\n",
       "2    0.159868\n",
       "3   -0.261832\n",
       "4    1.322617\n",
       "dtype: float64"
      ]
     },
     "execution_count": 302,
     "metadata": {},
     "output_type": "execute_result"
    }
   ],
   "source": [
    "s1 = pd.Series(np.random.randn(5))\n",
    "s1"
   ]
  },
  {
   "cell_type": "code",
   "execution_count": 303,
   "id": "e7070ed2-d2c4-4318-b995-27a57443a0b4",
   "metadata": {
    "hide-output": false
   },
   "outputs": [
    {
     "data": {
      "text/plain": [
       "(3, 0)"
      ]
     },
     "execution_count": 303,
     "metadata": {},
     "output_type": "execute_result"
    }
   ],
   "source": [
    "s1.idxmin(), s1.idxmax()"
   ]
  },
  {
   "cell_type": "code",
   "execution_count": 304,
   "id": "68e42ab1-7279-45a5-9628-5866c13a8c20",
   "metadata": {
    "hide-output": false
   },
   "outputs": [
    {
     "data": {
      "text/html": [
       "<div>\n",
       "<style scoped>\n",
       "    .dataframe tbody tr th:only-of-type {\n",
       "        vertical-align: middle;\n",
       "    }\n",
       "\n",
       "    .dataframe tbody tr th {\n",
       "        vertical-align: top;\n",
       "    }\n",
       "\n",
       "    .dataframe thead th {\n",
       "        text-align: right;\n",
       "    }\n",
       "</style>\n",
       "<table border=\"1\" class=\"dataframe\">\n",
       "  <thead>\n",
       "    <tr style=\"text-align: right;\">\n",
       "      <th></th>\n",
       "      <th>A</th>\n",
       "      <th>B</th>\n",
       "      <th>C</th>\n",
       "    </tr>\n",
       "  </thead>\n",
       "  <tbody>\n",
       "    <tr>\n",
       "      <th>0</th>\n",
       "      <td>-0.379387</td>\n",
       "      <td>-1.241765</td>\n",
       "      <td>0.727141</td>\n",
       "    </tr>\n",
       "    <tr>\n",
       "      <th>1</th>\n",
       "      <td>-0.181962</td>\n",
       "      <td>1.971804</td>\n",
       "      <td>-0.054458</td>\n",
       "    </tr>\n",
       "    <tr>\n",
       "      <th>2</th>\n",
       "      <td>-0.568901</td>\n",
       "      <td>1.572170</td>\n",
       "      <td>-0.090328</td>\n",
       "    </tr>\n",
       "    <tr>\n",
       "      <th>3</th>\n",
       "      <td>-0.723367</td>\n",
       "      <td>0.681294</td>\n",
       "      <td>1.065787</td>\n",
       "    </tr>\n",
       "    <tr>\n",
       "      <th>4</th>\n",
       "      <td>-0.497899</td>\n",
       "      <td>0.572091</td>\n",
       "      <td>-3.430577</td>\n",
       "    </tr>\n",
       "  </tbody>\n",
       "</table>\n",
       "</div>"
      ],
      "text/plain": [
       "          A         B         C\n",
       "0 -0.379387 -1.241765  0.727141\n",
       "1 -0.181962  1.971804 -0.054458\n",
       "2 -0.568901  1.572170 -0.090328\n",
       "3 -0.723367  0.681294  1.065787\n",
       "4 -0.497899  0.572091 -3.430577"
      ]
     },
     "execution_count": 304,
     "metadata": {},
     "output_type": "execute_result"
    }
   ],
   "source": [
    "df1 = pd.DataFrame(np.random.randn(5, 3), columns=[\"A\", \"B\", \"C\"])\n",
    "df1"
   ]
  },
  {
   "cell_type": "code",
   "execution_count": 305,
   "id": "1da20c4a-5afa-4061-833c-c46b1361c9b9",
   "metadata": {
    "hide-output": false
   },
   "outputs": [
    {
     "data": {
      "text/plain": [
       "A    3\n",
       "B    0\n",
       "C    4\n",
       "dtype: int64"
      ]
     },
     "execution_count": 305,
     "metadata": {},
     "output_type": "execute_result"
    }
   ],
   "source": [
    "df1.idxmin(axis=0)"
   ]
  },
  {
   "cell_type": "code",
   "execution_count": 306,
   "id": "b9f1dfe4-3093-4ea7-a2cb-dbf23aa4b4ce",
   "metadata": {
    "hide-output": false
   },
   "outputs": [
    {
     "data": {
      "text/plain": [
       "0    C\n",
       "1    B\n",
       "2    B\n",
       "3    C\n",
       "4    B\n",
       "dtype: object"
      ]
     },
     "execution_count": 306,
     "metadata": {},
     "output_type": "execute_result"
    }
   ],
   "source": [
    "df1.idxmax(axis=1)"
   ]
  },
  {
   "cell_type": "markdown",
   "id": "18c3cef8",
   "metadata": {},
   "source": [
    "When there are multiple rows (or columns) matching the minimum or maximum\n",
    "value, `idxmin()` and `idxmax()` return the first\n",
    "matching index:"
   ]
  },
  {
   "cell_type": "code",
   "execution_count": 307,
   "id": "f5bcd95c-e171-458b-90ed-6ebaaa5227c3",
   "metadata": {
    "hide-output": false
   },
   "outputs": [
    {
     "data": {
      "text/html": [
       "<div>\n",
       "<style scoped>\n",
       "    .dataframe tbody tr th:only-of-type {\n",
       "        vertical-align: middle;\n",
       "    }\n",
       "\n",
       "    .dataframe tbody tr th {\n",
       "        vertical-align: top;\n",
       "    }\n",
       "\n",
       "    .dataframe thead th {\n",
       "        text-align: right;\n",
       "    }\n",
       "</style>\n",
       "<table border=\"1\" class=\"dataframe\">\n",
       "  <thead>\n",
       "    <tr style=\"text-align: right;\">\n",
       "      <th></th>\n",
       "      <th>A</th>\n",
       "    </tr>\n",
       "  </thead>\n",
       "  <tbody>\n",
       "    <tr>\n",
       "      <th>e</th>\n",
       "      <td>2.0</td>\n",
       "    </tr>\n",
       "    <tr>\n",
       "      <th>d</th>\n",
       "      <td>1.0</td>\n",
       "    </tr>\n",
       "    <tr>\n",
       "      <th>c</th>\n",
       "      <td>1.0</td>\n",
       "    </tr>\n",
       "    <tr>\n",
       "      <th>b</th>\n",
       "      <td>3.0</td>\n",
       "    </tr>\n",
       "    <tr>\n",
       "      <th>a</th>\n",
       "      <td>NaN</td>\n",
       "    </tr>\n",
       "  </tbody>\n",
       "</table>\n",
       "</div>"
      ],
      "text/plain": [
       "     A\n",
       "e  2.0\n",
       "d  1.0\n",
       "c  1.0\n",
       "b  3.0\n",
       "a  NaN"
      ]
     },
     "execution_count": 307,
     "metadata": {},
     "output_type": "execute_result"
    }
   ],
   "source": [
    "df3 = pd.DataFrame([2, 1, 1, 3, np.nan], columns=[\"A\"], index=list(\"edcba\"))\n",
    "df3"
   ]
  },
  {
   "cell_type": "code",
   "execution_count": 308,
   "id": "a7c29d83-e6a8-41c2-9eaf-f207f3dc4394",
   "metadata": {
    "hide-output": false
   },
   "outputs": [
    {
     "data": {
      "text/plain": [
       "'d'"
      ]
     },
     "execution_count": 308,
     "metadata": {},
     "output_type": "execute_result"
    }
   ],
   "source": [
    "df3[\"A\"].idxmin()"
   ]
  },
  {
   "cell_type": "markdown",
   "id": "86ec1a67",
   "metadata": {},
   "source": [
    ">**Note**\n",
    ">\n",
    ">`idxmin` and `idxmax` are called `argmin` and `argmax` in NumPy.\n",
    "\n",
    "\n",
    "<a id='basics-discretization'></a>"
   ]
  },
  {
   "cell_type": "markdown",
   "id": "72f7d9a6",
   "metadata": {},
   "source": [
    "### Value counts (histogramming) / mode\n",
    "\n",
    "The `value_counts()` Series method and top-level function computes a histogram\n",
    "of a 1D array of values. It can also be used as a function on regular arrays:"
   ]
  },
  {
   "cell_type": "code",
   "execution_count": 309,
   "id": "b0c409d9-eac1-4da7-9671-d442e5e1feb7",
   "metadata": {
    "hide-output": false
   },
   "outputs": [
    {
     "data": {
      "text/plain": [
       "array([2, 5, 6, 6, 3, 4, 3, 2, 4, 5, 0, 6, 3, 0, 1, 5, 4, 2, 0, 6, 3, 1,\n",
       "       4, 5, 6, 4, 6, 6, 5, 4, 2, 0, 4, 5, 4, 5, 0, 1, 5, 0, 0, 0, 2, 5,\n",
       "       0, 1, 0, 6, 2, 3])"
      ]
     },
     "execution_count": 309,
     "metadata": {},
     "output_type": "execute_result"
    }
   ],
   "source": [
    "data = np.random.randint(0, 7, size=50)\n",
    "data"
   ]
  },
  {
   "cell_type": "code",
   "execution_count": 310,
   "id": "8044ac97-23f9-4935-a9ed-274cec6af37b",
   "metadata": {
    "hide-output": false
   },
   "outputs": [
    {
     "data": {
      "text/plain": [
       "0    10\n",
       "5     9\n",
       "4     8\n",
       "6     8\n",
       "2     6\n",
       "3     5\n",
       "1     4\n",
       "dtype: int64"
      ]
     },
     "execution_count": 310,
     "metadata": {},
     "output_type": "execute_result"
    }
   ],
   "source": [
    "s = pd.Series(data)\n",
    "s.value_counts()"
   ]
  },
  {
   "cell_type": "code",
   "execution_count": 311,
   "id": "3a35dbb0-2baa-474a-82b0-c1f4cc9110a6",
   "metadata": {
    "hide-output": false
   },
   "outputs": [
    {
     "data": {
      "text/plain": [
       "0    10\n",
       "5     9\n",
       "4     8\n",
       "6     8\n",
       "2     6\n",
       "3     5\n",
       "1     4\n",
       "dtype: int64"
      ]
     },
     "execution_count": 311,
     "metadata": {},
     "output_type": "execute_result"
    }
   ],
   "source": [
    "pd.value_counts(data)"
   ]
  },
  {
   "cell_type": "markdown",
   "id": "f37fa3d5",
   "metadata": {},
   "source": [
    "New in version 1.1.0.\n",
    "\n",
    "The `value_counts()` method can be used to count combinations across multiple columns.\n",
    "By default all columns are used but a subset can be selected using the `subset` argument."
   ]
  },
  {
   "cell_type": "code",
   "execution_count": 312,
   "id": "e76786dd",
   "metadata": {
    "hide-output": false
   },
   "outputs": [
    {
     "data": {
      "text/plain": [
       "a  b\n",
       "1  x    1\n",
       "2  x    1\n",
       "3  y    1\n",
       "4  y    1\n",
       "dtype: int64"
      ]
     },
     "execution_count": 312,
     "metadata": {},
     "output_type": "execute_result"
    }
   ],
   "source": [
    "data = {\"a\": [1, 2, 3, 4], \"b\": [\"x\", \"x\", \"y\", \"y\"]}\n",
    "frame = pd.DataFrame(data)\n",
    "frame.value_counts()"
   ]
  },
  {
   "cell_type": "markdown",
   "id": "a42cbc60",
   "metadata": {},
   "source": [
    "Similarly, you can get the most frequently occurring value(s), i.e. the mode, of the values in a Series or DataFrame:"
   ]
  },
  {
   "cell_type": "code",
   "execution_count": 313,
   "id": "47aa0b02",
   "metadata": {
    "hide-output": false
   },
   "outputs": [
    {
     "data": {
      "text/html": [
       "<div>\n",
       "<style scoped>\n",
       "    .dataframe tbody tr th:only-of-type {\n",
       "        vertical-align: middle;\n",
       "    }\n",
       "\n",
       "    .dataframe tbody tr th {\n",
       "        vertical-align: top;\n",
       "    }\n",
       "\n",
       "    .dataframe thead th {\n",
       "        text-align: right;\n",
       "    }\n",
       "</style>\n",
       "<table border=\"1\" class=\"dataframe\">\n",
       "  <thead>\n",
       "    <tr style=\"text-align: right;\">\n",
       "      <th></th>\n",
       "      <th>A</th>\n",
       "      <th>B</th>\n",
       "    </tr>\n",
       "  </thead>\n",
       "  <tbody>\n",
       "    <tr>\n",
       "      <th>0</th>\n",
       "      <td>3.0</td>\n",
       "      <td>1</td>\n",
       "    </tr>\n",
       "    <tr>\n",
       "      <th>1</th>\n",
       "      <td>NaN</td>\n",
       "      <td>10</td>\n",
       "    </tr>\n",
       "  </tbody>\n",
       "</table>\n",
       "</div>"
      ],
      "text/plain": [
       "     A   B\n",
       "0  3.0   1\n",
       "1  NaN  10"
      ]
     },
     "execution_count": 313,
     "metadata": {},
     "output_type": "execute_result"
    }
   ],
   "source": [
    "s5 = pd.Series([1, 1, 3, 3, 3, 5, 5, 7, 7, 7])\n",
    "s5.mode()\n",
    "df5 = pd.DataFrame(\n",
    "    {\n",
    "        \"A\": np.random.randint(0, 7, size=50),\n",
    "        \"B\": np.random.randint(-10, 15, size=50),\n",
    "    }\n",
    ")\n",
    "df5.mode()"
   ]
  },
  {
   "cell_type": "markdown",
   "id": "d9287b39",
   "metadata": {},
   "source": [
    "### Discretization and quantiling\n",
    "\n",
    "Continuous values can be discretized using the `cut()` (bins based on values)\n",
    "and `qcut()` (bins based on sample quantiles) functions:"
   ]
  },
  {
   "cell_type": "code",
   "execution_count": 314,
   "id": "4b80ea4c-a2b1-4202-9d68-930ecaae8b4b",
   "metadata": {
    "hide-output": false
   },
   "outputs": [
    {
     "data": {
      "text/plain": [
       "[(-1.16, -0.361], (-1.16, -0.361], (0.434, 1.23], (-1.16, -0.361], (1.23, 2.025], ..., (-0.361, 0.434], (0.434, 1.23], (1.23, 2.025], (-1.16, -0.361], (-0.361, 0.434]]\n",
       "Length: 20\n",
       "Categories (4, interval[float64]): [(-1.16, -0.361] < (-0.361, 0.434] < (0.434, 1.23] < (1.23, 2.025]]"
      ]
     },
     "execution_count": 314,
     "metadata": {},
     "output_type": "execute_result"
    }
   ],
   "source": [
    "arr = np.random.randn(20)\n",
    "factor = pd.cut(arr, 4)\n",
    "factor"
   ]
  },
  {
   "cell_type": "code",
   "execution_count": 315,
   "id": "a9c5e2de-f18e-4c08-a452-bf46b7344d14",
   "metadata": {
    "hide-output": false
   },
   "outputs": [
    {
     "data": {
      "text/plain": [
       "[(-1, 0], (-1, 0], (1, 5], (-1, 0], (1, 5], ..., (-1, 0], (1, 5], (1, 5], (-1, 0], (-1, 0]]\n",
       "Length: 20\n",
       "Categories (4, interval[int64]): [(-5, -1] < (-1, 0] < (0, 1] < (1, 5]]"
      ]
     },
     "execution_count": 315,
     "metadata": {},
     "output_type": "execute_result"
    }
   ],
   "source": [
    "factor = pd.cut(arr, [-5, -1, 0, 1, 5])\n",
    "factor"
   ]
  },
  {
   "cell_type": "markdown",
   "id": "cb116df5",
   "metadata": {},
   "source": [
    "`qcut()` computes sample quantiles. For example, we could slice up some\n",
    "normally distributed data into equal-size quartiles like so:"
   ]
  },
  {
   "cell_type": "code",
   "execution_count": 316,
   "id": "ec77fc0b-7839-4f6e-b79d-5ed0b88a6b37",
   "metadata": {
    "hide-output": false
   },
   "outputs": [
    {
     "data": {
      "text/plain": [
       "[(-2.116, -0.417], (-2.116, -0.417], (0.935, 1.599], (0.935, 1.599], (0.216, 0.935], ..., (-0.417, 0.216], (-0.417, 0.216], (-2.116, -0.417], (0.216, 0.935], (0.935, 1.599]]\n",
       "Length: 30\n",
       "Categories (4, interval[float64]): [(-2.116, -0.417] < (-0.417, 0.216] < (0.216, 0.935] < (0.935, 1.599]]"
      ]
     },
     "execution_count": 316,
     "metadata": {},
     "output_type": "execute_result"
    }
   ],
   "source": [
    "arr = np.random.randn(30)\n",
    "factor = pd.qcut(arr, [0, 0.25, 0.5, 0.75, 1])\n",
    "factor"
   ]
  },
  {
   "cell_type": "code",
   "execution_count": 317,
   "id": "6810aaa2-f9a2-4a1b-859b-bb45688d3fda",
   "metadata": {
    "hide-output": false
   },
   "outputs": [
    {
     "data": {
      "text/plain": [
       "(-2.116, -0.417]    8\n",
       "(0.935, 1.599]      8\n",
       "(-0.417, 0.216]     7\n",
       "(0.216, 0.935]      7\n",
       "dtype: int64"
      ]
     },
     "execution_count": 317,
     "metadata": {},
     "output_type": "execute_result"
    }
   ],
   "source": [
    "pd.value_counts(factor)"
   ]
  },
  {
   "cell_type": "markdown",
   "id": "e8bc58ce",
   "metadata": {},
   "source": [
    "We can also pass infinite values to define the bins:"
   ]
  },
  {
   "cell_type": "code",
   "execution_count": 318,
   "id": "8a2639e8",
   "metadata": {
    "hide-output": false
   },
   "outputs": [
    {
     "data": {
      "text/plain": [
       "[(-inf, 0.0], (-inf, 0.0], (-inf, 0.0], (0.0, inf], (0.0, inf], ..., (-inf, 0.0], (-inf, 0.0], (0.0, inf], (-inf, 0.0], (0.0, inf]]\n",
       "Length: 20\n",
       "Categories (2, interval[float64]): [(-inf, 0.0] < (0.0, inf]]"
      ]
     },
     "execution_count": 318,
     "metadata": {},
     "output_type": "execute_result"
    }
   ],
   "source": [
    "arr = np.random.randn(20)\n",
    "factor = pd.cut(arr, [-np.inf, 0, np.inf])\n",
    "factor"
   ]
  },
  {
   "cell_type": "markdown",
   "id": "a852a51c",
   "metadata": {},
   "source": [
    "\n",
    "<a id='basics-apply'></a>"
   ]
  },
  {
   "cell_type": "markdown",
   "id": "e078505c",
   "metadata": {},
   "source": [
    "## Function application\n",
    "\n",
    "To apply your own or another library’s functions to pandas objects,\n",
    "you should be aware of the three methods below. The appropriate\n",
    "method to use depends on whether your function expects to operate\n",
    "on an entire `DataFrame` or `Series`, row- or column-wise, or elementwise.\n",
    "\n",
    "1. [Tablewise Function Application](#tablewise-function-application): `pipe()`  \n",
    "1. [Row or Column-wise Function Application](#row-or-column-wise-function-application): `apply()`  \n",
    "1. [Aggregation API](#aggregation-api): `agg()` and `transform()`  \n",
    "1. [Applying Elementwise Functions](#applying-elementwise-functions): `applymap()`  \n",
    "\n",
    "\n",
    "\n",
    "<a id='basics-pipe'></a>"
   ]
  },
  {
   "cell_type": "markdown",
   "id": "e522ede1",
   "metadata": {},
   "source": [
    "### Tablewise function application\n",
    "\n",
    "`DataFrames` and `Series` can be passed into functions.\n",
    "However, if the function needs to be called in a chain, consider using the `pipe()` method.\n",
    "\n",
    "First some setup:"
   ]
  },
  {
   "cell_type": "code",
   "execution_count": 319,
   "id": "6b31e7b0",
   "metadata": {
    "hide-output": false
   },
   "outputs": [
    {
     "data": {
      "text/html": [
       "<div>\n",
       "<style scoped>\n",
       "    .dataframe tbody tr th:only-of-type {\n",
       "        vertical-align: middle;\n",
       "    }\n",
       "\n",
       "    .dataframe tbody tr th {\n",
       "        vertical-align: top;\n",
       "    }\n",
       "\n",
       "    .dataframe thead th {\n",
       "        text-align: right;\n",
       "    }\n",
       "</style>\n",
       "<table border=\"1\" class=\"dataframe\">\n",
       "  <thead>\n",
       "    <tr style=\"text-align: right;\">\n",
       "      <th></th>\n",
       "      <th>city_and_code</th>\n",
       "    </tr>\n",
       "  </thead>\n",
       "  <tbody>\n",
       "    <tr>\n",
       "      <th>0</th>\n",
       "      <td>Chicago, IL</td>\n",
       "    </tr>\n",
       "  </tbody>\n",
       "</table>\n",
       "</div>"
      ],
      "text/plain": [
       "  city_and_code\n",
       "0   Chicago, IL"
      ]
     },
     "execution_count": 319,
     "metadata": {},
     "output_type": "execute_result"
    }
   ],
   "source": [
    "def extract_city_name(df):\n",
    "    \"\"\"\n",
    "    Chicago, IL -> Chicago for city_name column\n",
    "    \"\"\"\n",
    "    df[\"city_name\"] = df[\"city_and_code\"].str.split(\",\").str.get(0)\n",
    "    return df\n",
    "\n",
    "\n",
    "def add_country_name(df, country_name=None):\n",
    "    \"\"\"\n",
    "    Chicago -> Chicago-US for city_name column\n",
    "    \"\"\"\n",
    "    col = \"city_name\"\n",
    "    df[\"city_and_country\"] = df[col] + country_name\n",
    "    return df\n",
    "\n",
    "\n",
    "df_p = pd.DataFrame({\"city_and_code\": [\"Chicago, IL\"]})\n",
    "df_p"
   ]
  },
  {
   "cell_type": "markdown",
   "id": "8c33b3f0",
   "metadata": {},
   "source": [
    "`extract_city_name` and `add_country_name` are functions taking and returning `DataFrames`.\n",
    "\n",
    "Now compare the following:"
   ]
  },
  {
   "cell_type": "code",
   "execution_count": 320,
   "id": "9207cebe",
   "metadata": {
    "hide-output": false
   },
   "outputs": [
    {
     "data": {
      "text/html": [
       "<div>\n",
       "<style scoped>\n",
       "    .dataframe tbody tr th:only-of-type {\n",
       "        vertical-align: middle;\n",
       "    }\n",
       "\n",
       "    .dataframe tbody tr th {\n",
       "        vertical-align: top;\n",
       "    }\n",
       "\n",
       "    .dataframe thead th {\n",
       "        text-align: right;\n",
       "    }\n",
       "</style>\n",
       "<table border=\"1\" class=\"dataframe\">\n",
       "  <thead>\n",
       "    <tr style=\"text-align: right;\">\n",
       "      <th></th>\n",
       "      <th>city_and_code</th>\n",
       "      <th>city_name</th>\n",
       "      <th>city_and_country</th>\n",
       "    </tr>\n",
       "  </thead>\n",
       "  <tbody>\n",
       "    <tr>\n",
       "      <th>0</th>\n",
       "      <td>Chicago, IL</td>\n",
       "      <td>Chicago</td>\n",
       "      <td>ChicagoUS</td>\n",
       "    </tr>\n",
       "  </tbody>\n",
       "</table>\n",
       "</div>"
      ],
      "text/plain": [
       "  city_and_code city_name city_and_country\n",
       "0   Chicago, IL   Chicago        ChicagoUS"
      ]
     },
     "execution_count": 320,
     "metadata": {},
     "output_type": "execute_result"
    }
   ],
   "source": [
    "add_country_name(extract_city_name(df_p), country_name=\"US\")"
   ]
  },
  {
   "cell_type": "markdown",
   "id": "ee7f2aac",
   "metadata": {},
   "source": [
    "Is equivalent to:"
   ]
  },
  {
   "cell_type": "code",
   "execution_count": 321,
   "id": "ef1ef84f",
   "metadata": {
    "hide-output": false
   },
   "outputs": [
    {
     "data": {
      "text/html": [
       "<div>\n",
       "<style scoped>\n",
       "    .dataframe tbody tr th:only-of-type {\n",
       "        vertical-align: middle;\n",
       "    }\n",
       "\n",
       "    .dataframe tbody tr th {\n",
       "        vertical-align: top;\n",
       "    }\n",
       "\n",
       "    .dataframe thead th {\n",
       "        text-align: right;\n",
       "    }\n",
       "</style>\n",
       "<table border=\"1\" class=\"dataframe\">\n",
       "  <thead>\n",
       "    <tr style=\"text-align: right;\">\n",
       "      <th></th>\n",
       "      <th>city_and_code</th>\n",
       "      <th>city_name</th>\n",
       "      <th>city_and_country</th>\n",
       "    </tr>\n",
       "  </thead>\n",
       "  <tbody>\n",
       "    <tr>\n",
       "      <th>0</th>\n",
       "      <td>Chicago, IL</td>\n",
       "      <td>Chicago</td>\n",
       "      <td>ChicagoUS</td>\n",
       "    </tr>\n",
       "  </tbody>\n",
       "</table>\n",
       "</div>"
      ],
      "text/plain": [
       "  city_and_code city_name city_and_country\n",
       "0   Chicago, IL   Chicago        ChicagoUS"
      ]
     },
     "execution_count": 321,
     "metadata": {},
     "output_type": "execute_result"
    }
   ],
   "source": [
    "df_p.pipe(extract_city_name).pipe(add_country_name, country_name=\"US\")"
   ]
  },
  {
   "cell_type": "markdown",
   "id": "30bc7783",
   "metadata": {},
   "source": [
    "pandas encourages the second style, which is known as method chaining.\n",
    "`pipe` makes it easy to use your own or another library’s functions\n",
    "in method chains, alongside pandas’ methods.\n",
    "\n",
    "In the example above, the functions `extract_city_name` and `add_country_name` each expected a `DataFrame` as the first positional argument.\n",
    "What if the function you wish to apply takes its data as, say, the second argument?\n",
    "In this case, provide `pipe` with a tuple of `(callable, data_keyword)`.\n",
    "`.pipe` will route the `DataFrame` to the argument specified in the tuple.\n",
    "\n",
    "For example, we can fit a regression using statsmodels. Their API expects a formula first and a `DataFrame` as the second argument, `data`. We pass in the function, keyword pair `(sm.ols, 'data')` to `pipe`:"
   ]
  },
  {
   "cell_type": "code",
   "execution_count": 322,
   "id": "0a2f2776",
   "metadata": {
    "hide-output": false
   },
   "outputs": [
    {
     "data": {
      "text/html": [
       "<table class=\"simpletable\">\n",
       "<caption>OLS Regression Results</caption>\n",
       "<tr>\n",
       "  <th>Dep. Variable:</th>           <td>hr</td>        <th>  R-squared:         </th> <td>   0.685</td>\n",
       "</tr>\n",
       "<tr>\n",
       "  <th>Model:</th>                   <td>OLS</td>       <th>  Adj. R-squared:    </th> <td>   0.665</td>\n",
       "</tr>\n",
       "<tr>\n",
       "  <th>Method:</th>             <td>Least Squares</td>  <th>  F-statistic:       </th> <td>   34.28</td>\n",
       "</tr>\n",
       "<tr>\n",
       "  <th>Date:</th>             <td>Mon, 30 Aug 2021</td> <th>  Prob (F-statistic):</th> <td>3.48e-15</td>\n",
       "</tr>\n",
       "<tr>\n",
       "  <th>Time:</th>                 <td>09:11:34</td>     <th>  Log-Likelihood:    </th> <td> -205.92</td>\n",
       "</tr>\n",
       "<tr>\n",
       "  <th>No. Observations:</th>      <td>    68</td>      <th>  AIC:               </th> <td>   421.8</td>\n",
       "</tr>\n",
       "<tr>\n",
       "  <th>Df Residuals:</th>          <td>    63</td>      <th>  BIC:               </th> <td>   432.9</td>\n",
       "</tr>\n",
       "<tr>\n",
       "  <th>Df Model:</th>              <td>     4</td>      <th>                     </th>     <td> </td>   \n",
       "</tr>\n",
       "<tr>\n",
       "  <th>Covariance Type:</th>      <td>nonrobust</td>    <th>                     </th>     <td> </td>   \n",
       "</tr>\n",
       "</table>\n",
       "<table class=\"simpletable\">\n",
       "<tr>\n",
       "       <td></td>          <th>coef</th>     <th>std err</th>      <th>t</th>      <th>P>|t|</th>  <th>[0.025</th>    <th>0.975]</th>  \n",
       "</tr>\n",
       "<tr>\n",
       "  <th>Intercept</th>   <td>-8484.7720</td> <td> 4664.146</td> <td>   -1.819</td> <td> 0.074</td> <td>-1.78e+04</td> <td>  835.780</td>\n",
       "</tr>\n",
       "<tr>\n",
       "  <th>C(lg)[T.NL]</th> <td>   -2.2736</td> <td>    1.325</td> <td>   -1.716</td> <td> 0.091</td> <td>   -4.922</td> <td>    0.375</td>\n",
       "</tr>\n",
       "<tr>\n",
       "  <th>ln_h</th>        <td>   -1.3542</td> <td>    0.875</td> <td>   -1.547</td> <td> 0.127</td> <td>   -3.103</td> <td>    0.395</td>\n",
       "</tr>\n",
       "<tr>\n",
       "  <th>year</th>        <td>    4.2277</td> <td>    2.324</td> <td>    1.819</td> <td> 0.074</td> <td>   -0.417</td> <td>    8.872</td>\n",
       "</tr>\n",
       "<tr>\n",
       "  <th>g</th>           <td>    0.1841</td> <td>    0.029</td> <td>    6.258</td> <td> 0.000</td> <td>    0.125</td> <td>    0.243</td>\n",
       "</tr>\n",
       "</table>\n",
       "<table class=\"simpletable\">\n",
       "<tr>\n",
       "  <th>Omnibus:</th>       <td>10.875</td> <th>  Durbin-Watson:     </th> <td>   1.999</td>\n",
       "</tr>\n",
       "<tr>\n",
       "  <th>Prob(Omnibus):</th> <td> 0.004</td> <th>  Jarque-Bera (JB):  </th> <td>  17.298</td>\n",
       "</tr>\n",
       "<tr>\n",
       "  <th>Skew:</th>          <td> 0.537</td> <th>  Prob(JB):          </th> <td>0.000175</td>\n",
       "</tr>\n",
       "<tr>\n",
       "  <th>Kurtosis:</th>      <td> 5.225</td> <th>  Cond. No.          </th> <td>1.49e+07</td>\n",
       "</tr>\n",
       "</table><br/><br/>Notes:<br/>[1] Standard Errors assume that the covariance matrix of the errors is correctly specified.<br/>[2] The condition number is large, 1.49e+07. This might indicate that there are<br/>strong multicollinearity or other numerical problems."
      ],
      "text/plain": [
       "<class 'statsmodels.iolib.summary.Summary'>\n",
       "\"\"\"\n",
       "                            OLS Regression Results                            \n",
       "==============================================================================\n",
       "Dep. Variable:                     hr   R-squared:                       0.685\n",
       "Model:                            OLS   Adj. R-squared:                  0.665\n",
       "Method:                 Least Squares   F-statistic:                     34.28\n",
       "Date:                Mon, 30 Aug 2021   Prob (F-statistic):           3.48e-15\n",
       "Time:                        09:11:34   Log-Likelihood:                -205.92\n",
       "No. Observations:                  68   AIC:                             421.8\n",
       "Df Residuals:                      63   BIC:                             432.9\n",
       "Df Model:                           4                                         \n",
       "Covariance Type:            nonrobust                                         \n",
       "===============================================================================\n",
       "                  coef    std err          t      P>|t|      [0.025      0.975]\n",
       "-------------------------------------------------------------------------------\n",
       "Intercept   -8484.7720   4664.146     -1.819      0.074   -1.78e+04     835.780\n",
       "C(lg)[T.NL]    -2.2736      1.325     -1.716      0.091      -4.922       0.375\n",
       "ln_h           -1.3542      0.875     -1.547      0.127      -3.103       0.395\n",
       "year            4.2277      2.324      1.819      0.074      -0.417       8.872\n",
       "g               0.1841      0.029      6.258      0.000       0.125       0.243\n",
       "==============================================================================\n",
       "Omnibus:                       10.875   Durbin-Watson:                   1.999\n",
       "Prob(Omnibus):                  0.004   Jarque-Bera (JB):               17.298\n",
       "Skew:                           0.537   Prob(JB):                     0.000175\n",
       "Kurtosis:                       5.225   Cond. No.                     1.49e+07\n",
       "==============================================================================\n",
       "\n",
       "Notes:\n",
       "[1] Standard Errors assume that the covariance matrix of the errors is correctly specified.\n",
       "[2] The condition number is large, 1.49e+07. This might indicate that there are\n",
       "strong multicollinearity or other numerical problems.\n",
       "\"\"\""
      ]
     },
     "execution_count": 322,
     "metadata": {},
     "output_type": "execute_result"
    }
   ],
   "source": [
    "import statsmodels.formula.api as sm\n",
    "\n",
    "bb = pd.read_csv(\"../data/baseball.csv\", index_col=\"id\")\n",
    "\n",
    "(\n",
    "    bb.query(\"h > 0\")\n",
    "    .assign(ln_h=lambda df: np.log(df.h))\n",
    "    .pipe((sm.ols, \"data\"), \"hr ~ ln_h + year + g + C(lg)\")\n",
    "    .fit()\n",
    "    .summary()\n",
    ")"
   ]
  },
  {
   "cell_type": "markdown",
   "id": "bd3b704d",
   "metadata": {},
   "source": [
    "The pipe method is inspired by unix pipes and more recently [dplyr](https://github.com/hadley/dplyr) and [magrittr](https://github.com/smbache/magrittr), which\n",
    "have introduced the popular `(%>%)` (read pipe) operator for [R](https://www.r-project.org).\n",
    "The implementation of `pipe` here is quite clean and feels right at home in Python.\n",
    "We encourage you to view the source code of `pipe()`."
   ]
  },
  {
   "cell_type": "markdown",
   "id": "8ae03e77",
   "metadata": {},
   "source": [
    "### Row or column-wise function application\n",
    "\n",
    "Arbitrary functions can be applied along the axes of a DataFrame\n",
    "using the `apply()` method, which, like the descriptive\n",
    "statistics methods, takes an optional `axis` argument:"
   ]
  },
  {
   "cell_type": "code",
   "execution_count": 323,
   "id": "e67418b9-c3b4-4fb2-807a-7d53100b2e08",
   "metadata": {
    "hide-output": false
   },
   "outputs": [
    {
     "data": {
      "text/plain": [
       "one     -0.661183\n",
       "two      0.477535\n",
       "three    0.106635\n",
       "dtype: float64"
      ]
     },
     "execution_count": 323,
     "metadata": {},
     "output_type": "execute_result"
    }
   ],
   "source": [
    "df.apply(np.mean)"
   ]
  },
  {
   "cell_type": "code",
   "execution_count": 324,
   "id": "9792ea5d-8863-46b2-ac10-6e3042ffe536",
   "metadata": {
    "hide-output": false
   },
   "outputs": [
    {
     "data": {
      "text/plain": [
       "a    0.583783\n",
       "b   -0.009789\n",
       "c   -0.155427\n",
       "d   -0.212709\n",
       "dtype: float64"
      ]
     },
     "execution_count": 324,
     "metadata": {},
     "output_type": "execute_result"
    }
   ],
   "source": [
    "df.apply(np.mean, axis=1)"
   ]
  },
  {
   "cell_type": "code",
   "execution_count": 325,
   "id": "a797393e-2bf3-4a1e-b759-e5095e987a4c",
   "metadata": {
    "hide-output": false
   },
   "outputs": [
    {
     "data": {
      "text/plain": [
       "one      1.105911\n",
       "two      0.863999\n",
       "three    1.427260\n",
       "dtype: float64"
      ]
     },
     "execution_count": 325,
     "metadata": {},
     "output_type": "execute_result"
    }
   ],
   "source": [
    "df.apply(lambda x: x.max() - x.min())"
   ]
  },
  {
   "cell_type": "code",
   "execution_count": 326,
   "id": "d8c2add9-179b-4293-8714-b5585ece84d3",
   "metadata": {
    "hide-output": false
   },
   "outputs": [
    {
     "data": {
      "text/html": [
       "<div>\n",
       "<style scoped>\n",
       "    .dataframe tbody tr th:only-of-type {\n",
       "        vertical-align: middle;\n",
       "    }\n",
       "\n",
       "    .dataframe tbody tr th {\n",
       "        vertical-align: top;\n",
       "    }\n",
       "\n",
       "    .dataframe thead th {\n",
       "        text-align: right;\n",
       "    }\n",
       "</style>\n",
       "<table border=\"1\" class=\"dataframe\">\n",
       "  <thead>\n",
       "    <tr style=\"text-align: right;\">\n",
       "      <th></th>\n",
       "      <th>one</th>\n",
       "      <th>two</th>\n",
       "      <th>three</th>\n",
       "    </tr>\n",
       "  </thead>\n",
       "  <tbody>\n",
       "    <tr>\n",
       "      <th>a</th>\n",
       "      <td>0.075514</td>\n",
       "      <td>1.092052</td>\n",
       "      <td>NaN</td>\n",
       "    </tr>\n",
       "    <tr>\n",
       "      <th>b</th>\n",
       "      <td>-0.954882</td>\n",
       "      <td>1.386664</td>\n",
       "      <td>0.706416</td>\n",
       "    </tr>\n",
       "    <tr>\n",
       "      <th>c</th>\n",
       "      <td>-1.983549</td>\n",
       "      <td>1.614716</td>\n",
       "      <td>1.040750</td>\n",
       "    </tr>\n",
       "    <tr>\n",
       "      <th>d</th>\n",
       "      <td>NaN</td>\n",
       "      <td>1.910142</td>\n",
       "      <td>0.319906</td>\n",
       "    </tr>\n",
       "  </tbody>\n",
       "</table>\n",
       "</div>"
      ],
      "text/plain": [
       "        one       two     three\n",
       "a  0.075514  1.092052       NaN\n",
       "b -0.954882  1.386664  0.706416\n",
       "c -1.983549  1.614716  1.040750\n",
       "d       NaN  1.910142  0.319906"
      ]
     },
     "execution_count": 326,
     "metadata": {},
     "output_type": "execute_result"
    }
   ],
   "source": [
    "df.apply(np.cumsum)"
   ]
  },
  {
   "cell_type": "code",
   "execution_count": 327,
   "id": "21b4b64b-a0f9-4809-82ff-5fb6d51f92f0",
   "metadata": {
    "hide-output": false
   },
   "outputs": [
    {
     "data": {
      "text/html": [
       "<div>\n",
       "<style scoped>\n",
       "    .dataframe tbody tr th:only-of-type {\n",
       "        vertical-align: middle;\n",
       "    }\n",
       "\n",
       "    .dataframe tbody tr th {\n",
       "        vertical-align: top;\n",
       "    }\n",
       "\n",
       "    .dataframe thead th {\n",
       "        text-align: right;\n",
       "    }\n",
       "</style>\n",
       "<table border=\"1\" class=\"dataframe\">\n",
       "  <thead>\n",
       "    <tr style=\"text-align: right;\">\n",
       "      <th></th>\n",
       "      <th>one</th>\n",
       "      <th>two</th>\n",
       "      <th>three</th>\n",
       "    </tr>\n",
       "  </thead>\n",
       "  <tbody>\n",
       "    <tr>\n",
       "      <th>a</th>\n",
       "      <td>1.078439</td>\n",
       "      <td>2.980382</td>\n",
       "      <td>NaN</td>\n",
       "    </tr>\n",
       "    <tr>\n",
       "      <th>b</th>\n",
       "      <td>0.356866</td>\n",
       "      <td>1.342606</td>\n",
       "      <td>2.026714</td>\n",
       "    </tr>\n",
       "    <tr>\n",
       "      <th>c</th>\n",
       "      <td>0.357483</td>\n",
       "      <td>1.256151</td>\n",
       "      <td>1.397010</td>\n",
       "    </tr>\n",
       "    <tr>\n",
       "      <th>d</th>\n",
       "      <td>NaN</td>\n",
       "      <td>1.343698</td>\n",
       "      <td>0.486342</td>\n",
       "    </tr>\n",
       "  </tbody>\n",
       "</table>\n",
       "</div>"
      ],
      "text/plain": [
       "        one       two     three\n",
       "a  1.078439  2.980382       NaN\n",
       "b  0.356866  1.342606  2.026714\n",
       "c  0.357483  1.256151  1.397010\n",
       "d       NaN  1.343698  0.486342"
      ]
     },
     "execution_count": 327,
     "metadata": {},
     "output_type": "execute_result"
    }
   ],
   "source": [
    "df.apply(np.exp)"
   ]
  },
  {
   "cell_type": "markdown",
   "id": "2ac5d30c",
   "metadata": {},
   "source": [
    "The `apply()` method will also dispatch on a string method name."
   ]
  },
  {
   "cell_type": "code",
   "execution_count": 328,
   "id": "a39c107d-ecb2-426c-8f13-5b7670d50331",
   "metadata": {
    "hide-output": false
   },
   "outputs": [
    {
     "data": {
      "text/plain": [
       "one     -0.661183\n",
       "two      0.477535\n",
       "three    0.106635\n",
       "dtype: float64"
      ]
     },
     "execution_count": 328,
     "metadata": {},
     "output_type": "execute_result"
    }
   ],
   "source": [
    "df.apply(\"mean\")"
   ]
  },
  {
   "cell_type": "code",
   "execution_count": 329,
   "id": "49107c9d-d1d1-4616-b92c-41e12728cc62",
   "metadata": {
    "hide-output": false
   },
   "outputs": [
    {
     "data": {
      "text/plain": [
       "a    0.583783\n",
       "b   -0.009789\n",
       "c   -0.155427\n",
       "d   -0.212709\n",
       "dtype: float64"
      ]
     },
     "execution_count": 329,
     "metadata": {},
     "output_type": "execute_result"
    }
   ],
   "source": [
    "df.apply(\"mean\", axis=1)"
   ]
  },
  {
   "cell_type": "markdown",
   "id": "0eabecdf",
   "metadata": {},
   "source": [
    "The return type of the function passed to `apply()` affects the\n",
    "type of the final output from `DataFrame.apply` for the default behaviour:\n",
    "\n",
    "- If the applied function returns a `Series`, the final output is a `DataFrame`.\n",
    "  The columns match the index of the `Series` returned by the applied function.  \n",
    "- If the applied function returns any other type, the final output is a `Series`.  \n",
    "\n",
    "\n",
    "This default behaviour can be overridden using the `result_type`, which\n",
    "accepts three options: `reduce`, `broadcast`, and `expand`.\n",
    "These will determine how list-likes return values expand (or not) to a `DataFrame`.\n",
    "\n",
    "`apply()` combined with some cleverness can be used to answer many questions\n",
    "about a data set. For example, suppose we wanted to extract the date where the\n",
    "maximum value for each column occurred:"
   ]
  },
  {
   "cell_type": "code",
   "execution_count": 330,
   "id": "7fcf7279",
   "metadata": {
    "hide-output": false
   },
   "outputs": [
    {
     "data": {
      "text/plain": [
       "A   2000-10-12\n",
       "B   2001-05-18\n",
       "C   2000-12-30\n",
       "dtype: datetime64[ns]"
      ]
     },
     "execution_count": 330,
     "metadata": {},
     "output_type": "execute_result"
    }
   ],
   "source": [
    "tsdf = pd.DataFrame(\n",
    "    np.random.randn(1000, 3),\n",
    "    columns=[\"A\", \"B\", \"C\"],\n",
    "    index=pd.date_range(\"1/1/2000\", periods=1000),\n",
    ")\n",
    "tsdf.apply(lambda x: x.idxmax())"
   ]
  },
  {
   "cell_type": "markdown",
   "id": "c0b122cf",
   "metadata": {},
   "source": [
    "You may also pass additional arguments and keyword arguments to the `apply()`\n",
    "method. For instance, consider the following function you would like to apply:"
   ]
  },
  {
   "cell_type": "code",
   "execution_count": 331,
   "id": "6af78ad4-4939-4ccc-9ba8-a4cad68a6a49",
   "metadata": {
    "hide-output": false
   },
   "outputs": [],
   "source": [
    "def subtract_and_divide(x, sub, divide=1):\n",
    "    return (x - sub) / divide\n"
   ]
  },
  {
   "cell_type": "markdown",
   "id": "06ab8cd4",
   "metadata": {},
   "source": [
    "You may then apply this function as follows:"
   ]
  },
  {
   "cell_type": "code",
   "execution_count": 332,
   "id": "27a560d7-ec4c-4d62-8173-57077f2cf700",
   "metadata": {
    "hide-output": false
   },
   "outputs": [
    {
     "data": {
      "text/html": [
       "<div>\n",
       "<style scoped>\n",
       "    .dataframe tbody tr th:only-of-type {\n",
       "        vertical-align: middle;\n",
       "    }\n",
       "\n",
       "    .dataframe tbody tr th {\n",
       "        vertical-align: top;\n",
       "    }\n",
       "\n",
       "    .dataframe thead th {\n",
       "        text-align: right;\n",
       "    }\n",
       "</style>\n",
       "<table border=\"1\" class=\"dataframe\">\n",
       "  <thead>\n",
       "    <tr style=\"text-align: right;\">\n",
       "      <th></th>\n",
       "      <th>one</th>\n",
       "      <th>two</th>\n",
       "      <th>three</th>\n",
       "    </tr>\n",
       "  </thead>\n",
       "  <tbody>\n",
       "    <tr>\n",
       "      <th>a</th>\n",
       "      <td>-1.641495</td>\n",
       "      <td>-1.302649</td>\n",
       "      <td>NaN</td>\n",
       "    </tr>\n",
       "    <tr>\n",
       "      <th>b</th>\n",
       "      <td>-2.010132</td>\n",
       "      <td>-1.568463</td>\n",
       "      <td>-1.431195</td>\n",
       "    </tr>\n",
       "    <tr>\n",
       "      <th>c</th>\n",
       "      <td>-2.009556</td>\n",
       "      <td>-1.590649</td>\n",
       "      <td>-1.555222</td>\n",
       "    </tr>\n",
       "    <tr>\n",
       "      <th>d</th>\n",
       "      <td>NaN</td>\n",
       "      <td>-1.568191</td>\n",
       "      <td>-1.906948</td>\n",
       "    </tr>\n",
       "  </tbody>\n",
       "</table>\n",
       "</div>"
      ],
      "text/plain": [
       "        one       two     three\n",
       "a -1.641495 -1.302649       NaN\n",
       "b -2.010132 -1.568463 -1.431195\n",
       "c -2.009556 -1.590649 -1.555222\n",
       "d       NaN -1.568191 -1.906948"
      ]
     },
     "execution_count": 332,
     "metadata": {},
     "output_type": "execute_result"
    }
   ],
   "source": [
    "df.apply(subtract_and_divide, args=(5,), divide=3)\n",
    "# TypeError: unsupported operand type(s) for -: 'str' and 'int'"
   ]
  },
  {
   "cell_type": "markdown",
   "id": "aaa6c27d",
   "metadata": {},
   "source": [
    "Another useful feature is the ability to pass Series methods to carry out some\n",
    "Series operation on each column or row:"
   ]
  },
  {
   "cell_type": "code",
   "execution_count": 333,
   "id": "814db0a1",
   "metadata": {
    "hide-output": false
   },
   "outputs": [
    {
     "data": {
      "text/html": [
       "<div>\n",
       "<style scoped>\n",
       "    .dataframe tbody tr th:only-of-type {\n",
       "        vertical-align: middle;\n",
       "    }\n",
       "\n",
       "    .dataframe tbody tr th {\n",
       "        vertical-align: top;\n",
       "    }\n",
       "\n",
       "    .dataframe thead th {\n",
       "        text-align: right;\n",
       "    }\n",
       "</style>\n",
       "<table border=\"1\" class=\"dataframe\">\n",
       "  <thead>\n",
       "    <tr style=\"text-align: right;\">\n",
       "      <th></th>\n",
       "      <th>A</th>\n",
       "      <th>B</th>\n",
       "      <th>C</th>\n",
       "    </tr>\n",
       "  </thead>\n",
       "  <tbody>\n",
       "    <tr>\n",
       "      <th>2000-01-01</th>\n",
       "      <td>0.291460</td>\n",
       "      <td>0.589208</td>\n",
       "      <td>-0.294584</td>\n",
       "    </tr>\n",
       "    <tr>\n",
       "      <th>2000-01-02</th>\n",
       "      <td>-0.308003</td>\n",
       "      <td>-1.898961</td>\n",
       "      <td>-0.407429</td>\n",
       "    </tr>\n",
       "    <tr>\n",
       "      <th>2000-01-03</th>\n",
       "      <td>-0.442057</td>\n",
       "      <td>-2.553411</td>\n",
       "      <td>-1.819661</td>\n",
       "    </tr>\n",
       "    <tr>\n",
       "      <th>2000-01-04</th>\n",
       "      <td>NaN</td>\n",
       "      <td>NaN</td>\n",
       "      <td>NaN</td>\n",
       "    </tr>\n",
       "    <tr>\n",
       "      <th>2000-01-05</th>\n",
       "      <td>NaN</td>\n",
       "      <td>NaN</td>\n",
       "      <td>NaN</td>\n",
       "    </tr>\n",
       "    <tr>\n",
       "      <th>2000-01-06</th>\n",
       "      <td>NaN</td>\n",
       "      <td>NaN</td>\n",
       "      <td>NaN</td>\n",
       "    </tr>\n",
       "    <tr>\n",
       "      <th>2000-01-07</th>\n",
       "      <td>NaN</td>\n",
       "      <td>NaN</td>\n",
       "      <td>NaN</td>\n",
       "    </tr>\n",
       "    <tr>\n",
       "      <th>2000-01-08</th>\n",
       "      <td>0.816031</td>\n",
       "      <td>-0.113389</td>\n",
       "      <td>0.269551</td>\n",
       "    </tr>\n",
       "    <tr>\n",
       "      <th>2000-01-09</th>\n",
       "      <td>-1.973795</td>\n",
       "      <td>-1.015897</td>\n",
       "      <td>1.558662</td>\n",
       "    </tr>\n",
       "    <tr>\n",
       "      <th>2000-01-10</th>\n",
       "      <td>0.455181</td>\n",
       "      <td>-1.901443</td>\n",
       "      <td>-1.422891</td>\n",
       "    </tr>\n",
       "  </tbody>\n",
       "</table>\n",
       "</div>"
      ],
      "text/plain": [
       "                   A         B         C\n",
       "2000-01-01  0.291460  0.589208 -0.294584\n",
       "2000-01-02 -0.308003 -1.898961 -0.407429\n",
       "2000-01-03 -0.442057 -2.553411 -1.819661\n",
       "2000-01-04       NaN       NaN       NaN\n",
       "2000-01-05       NaN       NaN       NaN\n",
       "2000-01-06       NaN       NaN       NaN\n",
       "2000-01-07       NaN       NaN       NaN\n",
       "2000-01-08  0.816031 -0.113389  0.269551\n",
       "2000-01-09 -1.973795 -1.015897  1.558662\n",
       "2000-01-10  0.455181 -1.901443 -1.422891"
      ]
     },
     "execution_count": 333,
     "metadata": {},
     "output_type": "execute_result"
    }
   ],
   "source": [
    "tsdf = pd.DataFrame(\n",
    "    np.random.randn(10, 3),\n",
    "    columns=[\"A\", \"B\", \"C\"],\n",
    "    index=pd.date_range(\"1/1/2000\", periods=10),\n",
    ")\n",
    "tsdf.iloc[3:7] = np.nan\n",
    "tsdf"
   ]
  },
  {
   "cell_type": "code",
   "execution_count": 334,
   "id": "4cf9c9c8",
   "metadata": {
    "hide-output": false
   },
   "outputs": [
    {
     "data": {
      "text/html": [
       "<div>\n",
       "<style scoped>\n",
       "    .dataframe tbody tr th:only-of-type {\n",
       "        vertical-align: middle;\n",
       "    }\n",
       "\n",
       "    .dataframe tbody tr th {\n",
       "        vertical-align: top;\n",
       "    }\n",
       "\n",
       "    .dataframe thead th {\n",
       "        text-align: right;\n",
       "    }\n",
       "</style>\n",
       "<table border=\"1\" class=\"dataframe\">\n",
       "  <thead>\n",
       "    <tr style=\"text-align: right;\">\n",
       "      <th></th>\n",
       "      <th>A</th>\n",
       "      <th>B</th>\n",
       "      <th>C</th>\n",
       "    </tr>\n",
       "  </thead>\n",
       "  <tbody>\n",
       "    <tr>\n",
       "      <th>2000-01-01</th>\n",
       "      <td>0.291460</td>\n",
       "      <td>0.589208</td>\n",
       "      <td>-0.294584</td>\n",
       "    </tr>\n",
       "    <tr>\n",
       "      <th>2000-01-02</th>\n",
       "      <td>-0.308003</td>\n",
       "      <td>-1.898961</td>\n",
       "      <td>-0.407429</td>\n",
       "    </tr>\n",
       "    <tr>\n",
       "      <th>2000-01-03</th>\n",
       "      <td>-0.442057</td>\n",
       "      <td>-2.553411</td>\n",
       "      <td>-1.819661</td>\n",
       "    </tr>\n",
       "    <tr>\n",
       "      <th>2000-01-04</th>\n",
       "      <td>-0.190439</td>\n",
       "      <td>-2.065406</td>\n",
       "      <td>-1.401818</td>\n",
       "    </tr>\n",
       "    <tr>\n",
       "      <th>2000-01-05</th>\n",
       "      <td>0.061178</td>\n",
       "      <td>-1.577402</td>\n",
       "      <td>-0.983976</td>\n",
       "    </tr>\n",
       "    <tr>\n",
       "      <th>2000-01-06</th>\n",
       "      <td>0.312796</td>\n",
       "      <td>-1.089397</td>\n",
       "      <td>-0.566134</td>\n",
       "    </tr>\n",
       "    <tr>\n",
       "      <th>2000-01-07</th>\n",
       "      <td>0.564414</td>\n",
       "      <td>-0.601393</td>\n",
       "      <td>-0.148291</td>\n",
       "    </tr>\n",
       "    <tr>\n",
       "      <th>2000-01-08</th>\n",
       "      <td>0.816031</td>\n",
       "      <td>-0.113389</td>\n",
       "      <td>0.269551</td>\n",
       "    </tr>\n",
       "    <tr>\n",
       "      <th>2000-01-09</th>\n",
       "      <td>-1.973795</td>\n",
       "      <td>-1.015897</td>\n",
       "      <td>1.558662</td>\n",
       "    </tr>\n",
       "    <tr>\n",
       "      <th>2000-01-10</th>\n",
       "      <td>0.455181</td>\n",
       "      <td>-1.901443</td>\n",
       "      <td>-1.422891</td>\n",
       "    </tr>\n",
       "  </tbody>\n",
       "</table>\n",
       "</div>"
      ],
      "text/plain": [
       "                   A         B         C\n",
       "2000-01-01  0.291460  0.589208 -0.294584\n",
       "2000-01-02 -0.308003 -1.898961 -0.407429\n",
       "2000-01-03 -0.442057 -2.553411 -1.819661\n",
       "2000-01-04 -0.190439 -2.065406 -1.401818\n",
       "2000-01-05  0.061178 -1.577402 -0.983976\n",
       "2000-01-06  0.312796 -1.089397 -0.566134\n",
       "2000-01-07  0.564414 -0.601393 -0.148291\n",
       "2000-01-08  0.816031 -0.113389  0.269551\n",
       "2000-01-09 -1.973795 -1.015897  1.558662\n",
       "2000-01-10  0.455181 -1.901443 -1.422891"
      ]
     },
     "execution_count": 334,
     "metadata": {},
     "output_type": "execute_result"
    }
   ],
   "source": [
    "tsdf.apply(pd.Series.interpolate)"
   ]
  },
  {
   "cell_type": "markdown",
   "id": "d259c487",
   "metadata": {},
   "source": [
    "Finally, `apply()` takes an argument `raw` which is False by default, which\n",
    "converts each row or column into a Series before applying the function. When\n",
    "set to True, the passed function will instead receive an ndarray object, which\n",
    "has positive performance implications if you do not need the indexing\n",
    "functionality.\n",
    "\n",
    "\n",
    "<a id='basics-aggregate'></a>"
   ]
  },
  {
   "cell_type": "markdown",
   "id": "1c569072",
   "metadata": {},
   "source": [
    "### Aggregation API\n",
    "\n",
    "The aggregation API allows one to express possibly multiple aggregation operations in a single concise way.\n",
    "This API is similar across pandas objects, see [groupby API](36_groupby.ipynb#groupby-aggregate), the\n",
    "[window API](37_window.ipynb#window-overview), and the [resample API](38_timeseries.ipynb#timeseries-aggregate).\n",
    "The entry point for aggregation is `DataFrame.aggregate()`, or the alias\n",
    "`DataFrame.agg()`.\n",
    "\n",
    "We will use a similar starting frame from above:"
   ]
  },
  {
   "cell_type": "code",
   "execution_count": 335,
   "id": "484c9f7c",
   "metadata": {
    "hide-output": false
   },
   "outputs": [
    {
     "data": {
      "text/html": [
       "<div>\n",
       "<style scoped>\n",
       "    .dataframe tbody tr th:only-of-type {\n",
       "        vertical-align: middle;\n",
       "    }\n",
       "\n",
       "    .dataframe tbody tr th {\n",
       "        vertical-align: top;\n",
       "    }\n",
       "\n",
       "    .dataframe thead th {\n",
       "        text-align: right;\n",
       "    }\n",
       "</style>\n",
       "<table border=\"1\" class=\"dataframe\">\n",
       "  <thead>\n",
       "    <tr style=\"text-align: right;\">\n",
       "      <th></th>\n",
       "      <th>A</th>\n",
       "      <th>B</th>\n",
       "      <th>C</th>\n",
       "    </tr>\n",
       "  </thead>\n",
       "  <tbody>\n",
       "    <tr>\n",
       "      <th>2000-01-01</th>\n",
       "      <td>-0.059854</td>\n",
       "      <td>-1.406932</td>\n",
       "      <td>0.598150</td>\n",
       "    </tr>\n",
       "    <tr>\n",
       "      <th>2000-01-02</th>\n",
       "      <td>1.120896</td>\n",
       "      <td>-0.784340</td>\n",
       "      <td>0.209990</td>\n",
       "    </tr>\n",
       "    <tr>\n",
       "      <th>2000-01-03</th>\n",
       "      <td>-0.364974</td>\n",
       "      <td>0.081641</td>\n",
       "      <td>-0.635384</td>\n",
       "    </tr>\n",
       "    <tr>\n",
       "      <th>2000-01-04</th>\n",
       "      <td>NaN</td>\n",
       "      <td>NaN</td>\n",
       "      <td>NaN</td>\n",
       "    </tr>\n",
       "    <tr>\n",
       "      <th>2000-01-05</th>\n",
       "      <td>NaN</td>\n",
       "      <td>NaN</td>\n",
       "      <td>NaN</td>\n",
       "    </tr>\n",
       "    <tr>\n",
       "      <th>2000-01-06</th>\n",
       "      <td>NaN</td>\n",
       "      <td>NaN</td>\n",
       "      <td>NaN</td>\n",
       "    </tr>\n",
       "    <tr>\n",
       "      <th>2000-01-07</th>\n",
       "      <td>NaN</td>\n",
       "      <td>NaN</td>\n",
       "      <td>NaN</td>\n",
       "    </tr>\n",
       "    <tr>\n",
       "      <th>2000-01-08</th>\n",
       "      <td>0.131367</td>\n",
       "      <td>0.164194</td>\n",
       "      <td>-0.613220</td>\n",
       "    </tr>\n",
       "    <tr>\n",
       "      <th>2000-01-09</th>\n",
       "      <td>-1.152547</td>\n",
       "      <td>1.513897</td>\n",
       "      <td>-1.110896</td>\n",
       "    </tr>\n",
       "    <tr>\n",
       "      <th>2000-01-10</th>\n",
       "      <td>-1.837484</td>\n",
       "      <td>-0.358004</td>\n",
       "      <td>1.348824</td>\n",
       "    </tr>\n",
       "  </tbody>\n",
       "</table>\n",
       "</div>"
      ],
      "text/plain": [
       "                   A         B         C\n",
       "2000-01-01 -0.059854 -1.406932  0.598150\n",
       "2000-01-02  1.120896 -0.784340  0.209990\n",
       "2000-01-03 -0.364974  0.081641 -0.635384\n",
       "2000-01-04       NaN       NaN       NaN\n",
       "2000-01-05       NaN       NaN       NaN\n",
       "2000-01-06       NaN       NaN       NaN\n",
       "2000-01-07       NaN       NaN       NaN\n",
       "2000-01-08  0.131367  0.164194 -0.613220\n",
       "2000-01-09 -1.152547  1.513897 -1.110896\n",
       "2000-01-10 -1.837484 -0.358004  1.348824"
      ]
     },
     "execution_count": 335,
     "metadata": {},
     "output_type": "execute_result"
    }
   ],
   "source": [
    "tsdf = pd.DataFrame(\n",
    "    np.random.randn(10, 3),\n",
    "    columns=[\"A\", \"B\", \"C\"],\n",
    "    index=pd.date_range(\"1/1/2000\", periods=10),\n",
    ")\n",
    "tsdf.iloc[3:7] = np.nan\n",
    "tsdf"
   ]
  },
  {
   "cell_type": "markdown",
   "id": "144dea24",
   "metadata": {},
   "source": [
    "Using a single function is equivalent to `apply()`. You can also\n",
    "pass named methods as strings. These will return a `Series` of the aggregated\n",
    "output:"
   ]
  },
  {
   "cell_type": "code",
   "execution_count": 336,
   "id": "1697e156",
   "metadata": {
    "hide-output": false
   },
   "outputs": [
    {
     "data": {
      "text/plain": [
       "A   -2.162596\n",
       "B   -0.789545\n",
       "C   -0.202536\n",
       "dtype: float64"
      ]
     },
     "execution_count": 336,
     "metadata": {},
     "output_type": "execute_result"
    }
   ],
   "source": [
    "tsdf.agg(np.sum)\n",
    "\n",
    "tsdf.agg(\"sum\")\n",
    "\n",
    "# these are equivalent to a ``.sum()`` because we are aggregating\n",
    "# on a single function\n",
    "tsdf.sum()"
   ]
  },
  {
   "cell_type": "markdown",
   "id": "0c873434",
   "metadata": {},
   "source": [
    "Single aggregations on a `Series` this will return a scalar value:"
   ]
  },
  {
   "cell_type": "code",
   "execution_count": 337,
   "id": "bb252668",
   "metadata": {
    "hide-output": false
   },
   "outputs": [
    {
     "data": {
      "text/plain": [
       "-2.16259565329887"
      ]
     },
     "execution_count": 337,
     "metadata": {},
     "output_type": "execute_result"
    }
   ],
   "source": [
    "tsdf[\"A\"].agg(\"sum\")"
   ]
  },
  {
   "cell_type": "markdown",
   "id": "604971db",
   "metadata": {},
   "source": [
    "#### Aggregating with multiple functions\n",
    "\n",
    "You can pass multiple aggregation arguments as a list.\n",
    "The results of each of the passed functions will be a row in the resulting `DataFrame`.\n",
    "These are naturally named from the aggregation function."
   ]
  },
  {
   "cell_type": "code",
   "execution_count": 338,
   "id": "0f4bb618",
   "metadata": {
    "hide-output": false
   },
   "outputs": [
    {
     "data": {
      "text/html": [
       "<div>\n",
       "<style scoped>\n",
       "    .dataframe tbody tr th:only-of-type {\n",
       "        vertical-align: middle;\n",
       "    }\n",
       "\n",
       "    .dataframe tbody tr th {\n",
       "        vertical-align: top;\n",
       "    }\n",
       "\n",
       "    .dataframe thead th {\n",
       "        text-align: right;\n",
       "    }\n",
       "</style>\n",
       "<table border=\"1\" class=\"dataframe\">\n",
       "  <thead>\n",
       "    <tr style=\"text-align: right;\">\n",
       "      <th></th>\n",
       "      <th>A</th>\n",
       "      <th>B</th>\n",
       "      <th>C</th>\n",
       "    </tr>\n",
       "  </thead>\n",
       "  <tbody>\n",
       "    <tr>\n",
       "      <th>sum</th>\n",
       "      <td>-2.162596</td>\n",
       "      <td>-0.789545</td>\n",
       "      <td>-0.202536</td>\n",
       "    </tr>\n",
       "  </tbody>\n",
       "</table>\n",
       "</div>"
      ],
      "text/plain": [
       "            A         B         C\n",
       "sum -2.162596 -0.789545 -0.202536"
      ]
     },
     "execution_count": 338,
     "metadata": {},
     "output_type": "execute_result"
    }
   ],
   "source": [
    "tsdf.agg([\"sum\"])"
   ]
  },
  {
   "cell_type": "markdown",
   "id": "8e190c2b",
   "metadata": {},
   "source": [
    "Multiple functions yield multiple rows:"
   ]
  },
  {
   "cell_type": "code",
   "execution_count": 339,
   "id": "2e35e9e4",
   "metadata": {
    "hide-output": false
   },
   "outputs": [
    {
     "data": {
      "text/html": [
       "<div>\n",
       "<style scoped>\n",
       "    .dataframe tbody tr th:only-of-type {\n",
       "        vertical-align: middle;\n",
       "    }\n",
       "\n",
       "    .dataframe tbody tr th {\n",
       "        vertical-align: top;\n",
       "    }\n",
       "\n",
       "    .dataframe thead th {\n",
       "        text-align: right;\n",
       "    }\n",
       "</style>\n",
       "<table border=\"1\" class=\"dataframe\">\n",
       "  <thead>\n",
       "    <tr style=\"text-align: right;\">\n",
       "      <th></th>\n",
       "      <th>A</th>\n",
       "      <th>B</th>\n",
       "      <th>C</th>\n",
       "    </tr>\n",
       "  </thead>\n",
       "  <tbody>\n",
       "    <tr>\n",
       "      <th>sum</th>\n",
       "      <td>-2.162596</td>\n",
       "      <td>-0.789545</td>\n",
       "      <td>-0.202536</td>\n",
       "    </tr>\n",
       "    <tr>\n",
       "      <th>mean</th>\n",
       "      <td>-0.360433</td>\n",
       "      <td>-0.131591</td>\n",
       "      <td>-0.033756</td>\n",
       "    </tr>\n",
       "  </tbody>\n",
       "</table>\n",
       "</div>"
      ],
      "text/plain": [
       "             A         B         C\n",
       "sum  -2.162596 -0.789545 -0.202536\n",
       "mean -0.360433 -0.131591 -0.033756"
      ]
     },
     "execution_count": 339,
     "metadata": {},
     "output_type": "execute_result"
    }
   ],
   "source": [
    "tsdf.agg([\"sum\", \"mean\"])"
   ]
  },
  {
   "cell_type": "markdown",
   "id": "d8d5d750",
   "metadata": {},
   "source": [
    "On a `Series`, multiple functions return a `Series`, indexed by the function names:"
   ]
  },
  {
   "cell_type": "code",
   "execution_count": 340,
   "id": "2ff8fb09",
   "metadata": {
    "hide-output": false
   },
   "outputs": [
    {
     "data": {
      "text/plain": [
       "sum    -2.162596\n",
       "mean   -0.360433\n",
       "Name: A, dtype: float64"
      ]
     },
     "execution_count": 340,
     "metadata": {},
     "output_type": "execute_result"
    }
   ],
   "source": [
    "tsdf[\"A\"].agg([\"sum\", \"mean\"])"
   ]
  },
  {
   "cell_type": "markdown",
   "id": "8132b028",
   "metadata": {},
   "source": [
    "Passing a `lambda` function will yield a `<lambda>` named row:"
   ]
  },
  {
   "cell_type": "code",
   "execution_count": 341,
   "id": "0d882e6e",
   "metadata": {
    "hide-output": false
   },
   "outputs": [
    {
     "data": {
      "text/plain": [
       "sum        -2.162596\n",
       "<lambda>   -0.360433\n",
       "Name: A, dtype: float64"
      ]
     },
     "execution_count": 341,
     "metadata": {},
     "output_type": "execute_result"
    }
   ],
   "source": [
    "tsdf[\"A\"].agg([\"sum\", lambda x: x.mean()])"
   ]
  },
  {
   "cell_type": "markdown",
   "id": "74dbeac6",
   "metadata": {},
   "source": [
    "Passing a named function will yield that name for the row:"
   ]
  },
  {
   "cell_type": "code",
   "execution_count": 342,
   "id": "8d80ab95",
   "metadata": {
    "hide-output": false
   },
   "outputs": [
    {
     "data": {
      "text/plain": [
       "sum      -2.162596\n",
       "mymean   -0.360433\n",
       "Name: A, dtype: float64"
      ]
     },
     "execution_count": 342,
     "metadata": {},
     "output_type": "execute_result"
    }
   ],
   "source": [
    "def mymean(x):\n",
    "    return x.mean()\n",
    "\n",
    "\n",
    "tsdf[\"A\"].agg([\"sum\", mymean])"
   ]
  },
  {
   "cell_type": "markdown",
   "id": "9f9e83fa",
   "metadata": {},
   "source": [
    "#### Aggregating with a dict\n",
    "\n",
    "Passing a dictionary of column names to a scalar or a list of scalars, to `DataFrame.agg`\n",
    "allows you to customize which functions are applied to which columns. Note that the results\n",
    "are not in any particular order, you can use an `OrderedDict` instead to guarantee ordering."
   ]
  },
  {
   "cell_type": "code",
   "execution_count": 343,
   "id": "f172b603",
   "metadata": {
    "hide-output": false
   },
   "outputs": [
    {
     "data": {
      "text/plain": [
       "A   -0.360433\n",
       "B   -0.789545\n",
       "dtype: float64"
      ]
     },
     "execution_count": 343,
     "metadata": {},
     "output_type": "execute_result"
    }
   ],
   "source": [
    "tsdf.agg({\"A\": \"mean\", \"B\": \"sum\"})"
   ]
  },
  {
   "cell_type": "markdown",
   "id": "ef48c425",
   "metadata": {},
   "source": [
    "Passing a list-like will generate a `DataFrame` output. You will get a matrix-like output\n",
    "of all of the aggregators. The output will consist of all unique functions. Those that are\n",
    "not noted for a particular column will be `NaN`:"
   ]
  },
  {
   "cell_type": "code",
   "execution_count": 344,
   "id": "58e36565",
   "metadata": {
    "hide-output": false
   },
   "outputs": [
    {
     "data": {
      "text/html": [
       "<div>\n",
       "<style scoped>\n",
       "    .dataframe tbody tr th:only-of-type {\n",
       "        vertical-align: middle;\n",
       "    }\n",
       "\n",
       "    .dataframe tbody tr th {\n",
       "        vertical-align: top;\n",
       "    }\n",
       "\n",
       "    .dataframe thead th {\n",
       "        text-align: right;\n",
       "    }\n",
       "</style>\n",
       "<table border=\"1\" class=\"dataframe\">\n",
       "  <thead>\n",
       "    <tr style=\"text-align: right;\">\n",
       "      <th></th>\n",
       "      <th>A</th>\n",
       "      <th>B</th>\n",
       "    </tr>\n",
       "  </thead>\n",
       "  <tbody>\n",
       "    <tr>\n",
       "      <th>mean</th>\n",
       "      <td>-0.360433</td>\n",
       "      <td>NaN</td>\n",
       "    </tr>\n",
       "    <tr>\n",
       "      <th>min</th>\n",
       "      <td>-1.837484</td>\n",
       "      <td>NaN</td>\n",
       "    </tr>\n",
       "    <tr>\n",
       "      <th>sum</th>\n",
       "      <td>NaN</td>\n",
       "      <td>-0.789545</td>\n",
       "    </tr>\n",
       "  </tbody>\n",
       "</table>\n",
       "</div>"
      ],
      "text/plain": [
       "             A         B\n",
       "mean -0.360433       NaN\n",
       "min  -1.837484       NaN\n",
       "sum        NaN -0.789545"
      ]
     },
     "execution_count": 344,
     "metadata": {},
     "output_type": "execute_result"
    }
   ],
   "source": [
    "tsdf.agg({\"A\": [\"mean\", \"min\"], \"B\": \"sum\"})"
   ]
  },
  {
   "cell_type": "markdown",
   "id": "0a07aca7",
   "metadata": {},
   "source": [
    "\n",
    "<a id='basics-aggregation-mixed-string'></a>"
   ]
  },
  {
   "cell_type": "markdown",
   "id": "0f6a2698",
   "metadata": {},
   "source": [
    "#### Mixed dtypes\n",
    "\n",
    "When presented with mixed dtypes that cannot aggregate, `.agg` will only take the valid\n",
    "aggregations. This is similar to how `.groupby.agg` works."
   ]
  },
  {
   "cell_type": "code",
   "execution_count": 345,
   "id": "e52a71ab",
   "metadata": {
    "hide-output": false
   },
   "outputs": [
    {
     "data": {
      "text/plain": [
       "A             int64\n",
       "B           float64\n",
       "C            object\n",
       "D    datetime64[ns]\n",
       "dtype: object"
      ]
     },
     "execution_count": 345,
     "metadata": {},
     "output_type": "execute_result"
    }
   ],
   "source": [
    "mdf = pd.DataFrame(\n",
    "    {\n",
    "        \"A\": [1, 2, 3],\n",
    "        \"B\": [1.0, 2.0, 3.0],\n",
    "        \"C\": [\"foo\", \"bar\", \"baz\"],\n",
    "        \"D\": pd.date_range(\"20130101\", periods=3),\n",
    "    }\n",
    ")\n",
    "mdf.dtypes"
   ]
  },
  {
   "cell_type": "code",
   "execution_count": 346,
   "id": "53fc460a",
   "metadata": {
    "hide-output": false
   },
   "outputs": [
    {
     "data": {
      "text/html": [
       "<div>\n",
       "<style scoped>\n",
       "    .dataframe tbody tr th:only-of-type {\n",
       "        vertical-align: middle;\n",
       "    }\n",
       "\n",
       "    .dataframe tbody tr th {\n",
       "        vertical-align: top;\n",
       "    }\n",
       "\n",
       "    .dataframe thead th {\n",
       "        text-align: right;\n",
       "    }\n",
       "</style>\n",
       "<table border=\"1\" class=\"dataframe\">\n",
       "  <thead>\n",
       "    <tr style=\"text-align: right;\">\n",
       "      <th></th>\n",
       "      <th>A</th>\n",
       "      <th>B</th>\n",
       "      <th>C</th>\n",
       "      <th>D</th>\n",
       "    </tr>\n",
       "  </thead>\n",
       "  <tbody>\n",
       "    <tr>\n",
       "      <th>min</th>\n",
       "      <td>1</td>\n",
       "      <td>1.0</td>\n",
       "      <td>bar</td>\n",
       "      <td>2013-01-01</td>\n",
       "    </tr>\n",
       "    <tr>\n",
       "      <th>sum</th>\n",
       "      <td>6</td>\n",
       "      <td>6.0</td>\n",
       "      <td>foobarbaz</td>\n",
       "      <td>NaT</td>\n",
       "    </tr>\n",
       "  </tbody>\n",
       "</table>\n",
       "</div>"
      ],
      "text/plain": [
       "     A    B          C          D\n",
       "min  1  1.0        bar 2013-01-01\n",
       "sum  6  6.0  foobarbaz        NaT"
      ]
     },
     "execution_count": 346,
     "metadata": {},
     "output_type": "execute_result"
    }
   ],
   "source": [
    "mdf.agg([\"min\", \"sum\"])"
   ]
  },
  {
   "cell_type": "markdown",
   "id": "034216ff",
   "metadata": {},
   "source": [
    "\n",
    "<a id='basics-aggregation-custom-describe'></a>"
   ]
  },
  {
   "cell_type": "markdown",
   "id": "7682c2e4",
   "metadata": {},
   "source": [
    "#### Custom describe\n",
    "\n",
    "With `.agg()` it is possible to easily create a custom describe function, similar\n",
    "to the built in describe function."
   ]
  },
  {
   "cell_type": "code",
   "execution_count": 347,
   "id": "5c91222b",
   "metadata": {
    "hide-output": false
   },
   "outputs": [
    {
     "data": {
      "text/html": [
       "<div>\n",
       "<style scoped>\n",
       "    .dataframe tbody tr th:only-of-type {\n",
       "        vertical-align: middle;\n",
       "    }\n",
       "\n",
       "    .dataframe tbody tr th {\n",
       "        vertical-align: top;\n",
       "    }\n",
       "\n",
       "    .dataframe thead th {\n",
       "        text-align: right;\n",
       "    }\n",
       "</style>\n",
       "<table border=\"1\" class=\"dataframe\">\n",
       "  <thead>\n",
       "    <tr style=\"text-align: right;\">\n",
       "      <th></th>\n",
       "      <th>A</th>\n",
       "      <th>B</th>\n",
       "      <th>C</th>\n",
       "    </tr>\n",
       "  </thead>\n",
       "  <tbody>\n",
       "    <tr>\n",
       "      <th>count</th>\n",
       "      <td>6.000000</td>\n",
       "      <td>6.000000</td>\n",
       "      <td>6.000000</td>\n",
       "    </tr>\n",
       "    <tr>\n",
       "      <th>mean</th>\n",
       "      <td>-0.360433</td>\n",
       "      <td>-0.131591</td>\n",
       "      <td>-0.033756</td>\n",
       "    </tr>\n",
       "    <tr>\n",
       "      <th>std</th>\n",
       "      <td>1.033024</td>\n",
       "      <td>0.994427</td>\n",
       "      <td>0.919588</td>\n",
       "    </tr>\n",
       "    <tr>\n",
       "      <th>min</th>\n",
       "      <td>-1.837484</td>\n",
       "      <td>-1.406932</td>\n",
       "      <td>-1.110896</td>\n",
       "    </tr>\n",
       "    <tr>\n",
       "      <th>25%</th>\n",
       "      <td>-0.955654</td>\n",
       "      <td>-0.677756</td>\n",
       "      <td>-0.629843</td>\n",
       "    </tr>\n",
       "    <tr>\n",
       "      <th>median</th>\n",
       "      <td>-0.212414</td>\n",
       "      <td>-0.138182</td>\n",
       "      <td>-0.201615</td>\n",
       "    </tr>\n",
       "    <tr>\n",
       "      <th>75%</th>\n",
       "      <td>0.083562</td>\n",
       "      <td>0.143556</td>\n",
       "      <td>0.501110</td>\n",
       "    </tr>\n",
       "    <tr>\n",
       "      <th>max</th>\n",
       "      <td>1.120896</td>\n",
       "      <td>1.513897</td>\n",
       "      <td>1.348824</td>\n",
       "    </tr>\n",
       "  </tbody>\n",
       "</table>\n",
       "</div>"
      ],
      "text/plain": [
       "               A         B         C\n",
       "count   6.000000  6.000000  6.000000\n",
       "mean   -0.360433 -0.131591 -0.033756\n",
       "std     1.033024  0.994427  0.919588\n",
       "min    -1.837484 -1.406932 -1.110896\n",
       "25%    -0.955654 -0.677756 -0.629843\n",
       "median -0.212414 -0.138182 -0.201615\n",
       "75%     0.083562  0.143556  0.501110\n",
       "max     1.120896  1.513897  1.348824"
      ]
     },
     "execution_count": 347,
     "metadata": {},
     "output_type": "execute_result"
    }
   ],
   "source": [
    "from functools import partial\n",
    "\n",
    "q_25 = partial(pd.Series.quantile, q=0.25)\n",
    "q_25.__name__ = \"25%\"\n",
    "q_75 = partial(pd.Series.quantile, q=0.75)\n",
    "q_75.__name__ = \"75%\"\n",
    "\n",
    "tsdf.agg([\"count\", \"mean\", \"std\", \"min\", q_25, \"median\", q_75, \"max\"])"
   ]
  },
  {
   "cell_type": "markdown",
   "id": "2b83bf54",
   "metadata": {},
   "source": [
    "\n",
    "<a id='basics-transform'></a>"
   ]
  },
  {
   "cell_type": "markdown",
   "id": "d0a5f034",
   "metadata": {},
   "source": [
    "### Transform API\n",
    "\n",
    "The `transform()` method returns an object that is indexed the same (same size)\n",
    "as the original. This API allows you to provide *multiple* operations at the same\n",
    "time rather than one-by-one. Its API is quite similar to the `.agg` API.\n",
    "\n",
    "We create a frame similar to the one used in the above sections."
   ]
  },
  {
   "cell_type": "code",
   "execution_count": 348,
   "id": "4a54bcbe",
   "metadata": {
    "hide-output": false
   },
   "outputs": [
    {
     "data": {
      "text/html": [
       "<div>\n",
       "<style scoped>\n",
       "    .dataframe tbody tr th:only-of-type {\n",
       "        vertical-align: middle;\n",
       "    }\n",
       "\n",
       "    .dataframe tbody tr th {\n",
       "        vertical-align: top;\n",
       "    }\n",
       "\n",
       "    .dataframe thead th {\n",
       "        text-align: right;\n",
       "    }\n",
       "</style>\n",
       "<table border=\"1\" class=\"dataframe\">\n",
       "  <thead>\n",
       "    <tr style=\"text-align: right;\">\n",
       "      <th></th>\n",
       "      <th>A</th>\n",
       "      <th>B</th>\n",
       "      <th>C</th>\n",
       "    </tr>\n",
       "  </thead>\n",
       "  <tbody>\n",
       "    <tr>\n",
       "      <th>2000-01-01</th>\n",
       "      <td>-1.026971</td>\n",
       "      <td>-1.602870</td>\n",
       "      <td>0.071241</td>\n",
       "    </tr>\n",
       "    <tr>\n",
       "      <th>2000-01-02</th>\n",
       "      <td>0.758735</td>\n",
       "      <td>0.861963</td>\n",
       "      <td>0.675649</td>\n",
       "    </tr>\n",
       "    <tr>\n",
       "      <th>2000-01-03</th>\n",
       "      <td>1.699417</td>\n",
       "      <td>0.808933</td>\n",
       "      <td>1.193305</td>\n",
       "    </tr>\n",
       "    <tr>\n",
       "      <th>2000-01-04</th>\n",
       "      <td>NaN</td>\n",
       "      <td>NaN</td>\n",
       "      <td>NaN</td>\n",
       "    </tr>\n",
       "    <tr>\n",
       "      <th>2000-01-05</th>\n",
       "      <td>NaN</td>\n",
       "      <td>NaN</td>\n",
       "      <td>NaN</td>\n",
       "    </tr>\n",
       "    <tr>\n",
       "      <th>2000-01-06</th>\n",
       "      <td>NaN</td>\n",
       "      <td>NaN</td>\n",
       "      <td>NaN</td>\n",
       "    </tr>\n",
       "    <tr>\n",
       "      <th>2000-01-07</th>\n",
       "      <td>NaN</td>\n",
       "      <td>NaN</td>\n",
       "      <td>NaN</td>\n",
       "    </tr>\n",
       "    <tr>\n",
       "      <th>2000-01-08</th>\n",
       "      <td>0.883390</td>\n",
       "      <td>0.335357</td>\n",
       "      <td>0.992876</td>\n",
       "    </tr>\n",
       "    <tr>\n",
       "      <th>2000-01-09</th>\n",
       "      <td>-0.498776</td>\n",
       "      <td>-0.684497</td>\n",
       "      <td>0.870068</td>\n",
       "    </tr>\n",
       "    <tr>\n",
       "      <th>2000-01-10</th>\n",
       "      <td>-1.232448</td>\n",
       "      <td>1.043798</td>\n",
       "      <td>0.034777</td>\n",
       "    </tr>\n",
       "  </tbody>\n",
       "</table>\n",
       "</div>"
      ],
      "text/plain": [
       "                   A         B         C\n",
       "2000-01-01 -1.026971 -1.602870  0.071241\n",
       "2000-01-02  0.758735  0.861963  0.675649\n",
       "2000-01-03  1.699417  0.808933  1.193305\n",
       "2000-01-04       NaN       NaN       NaN\n",
       "2000-01-05       NaN       NaN       NaN\n",
       "2000-01-06       NaN       NaN       NaN\n",
       "2000-01-07       NaN       NaN       NaN\n",
       "2000-01-08  0.883390  0.335357  0.992876\n",
       "2000-01-09 -0.498776 -0.684497  0.870068\n",
       "2000-01-10 -1.232448  1.043798  0.034777"
      ]
     },
     "execution_count": 348,
     "metadata": {},
     "output_type": "execute_result"
    }
   ],
   "source": [
    "tsdf = pd.DataFrame(\n",
    "    np.random.randn(10, 3),\n",
    "    columns=[\"A\", \"B\", \"C\"],\n",
    "    index=pd.date_range(\"1/1/2000\", periods=10),\n",
    ")\n",
    "tsdf.iloc[3:7] = np.nan\n",
    "tsdf"
   ]
  },
  {
   "cell_type": "markdown",
   "id": "c2ab8c9c",
   "metadata": {},
   "source": [
    "Transform the entire frame. `.transform()` allows input functions as: a NumPy function, a string\n",
    "function name or a user defined function."
   ]
  },
  {
   "cell_type": "code",
   "execution_count": 349,
   "id": "f3be6b62-2ff6-4fd8-bc29-88b16cd5e45d",
   "metadata": {
    "hide-output": false
   },
   "outputs": [
    {
     "data": {
      "text/html": [
       "<div>\n",
       "<style scoped>\n",
       "    .dataframe tbody tr th:only-of-type {\n",
       "        vertical-align: middle;\n",
       "    }\n",
       "\n",
       "    .dataframe tbody tr th {\n",
       "        vertical-align: top;\n",
       "    }\n",
       "\n",
       "    .dataframe thead th {\n",
       "        text-align: right;\n",
       "    }\n",
       "</style>\n",
       "<table border=\"1\" class=\"dataframe\">\n",
       "  <thead>\n",
       "    <tr style=\"text-align: right;\">\n",
       "      <th></th>\n",
       "      <th>A</th>\n",
       "      <th>B</th>\n",
       "      <th>C</th>\n",
       "    </tr>\n",
       "  </thead>\n",
       "  <tbody>\n",
       "    <tr>\n",
       "      <th>2000-01-01</th>\n",
       "      <td>1.026971</td>\n",
       "      <td>1.602870</td>\n",
       "      <td>0.071241</td>\n",
       "    </tr>\n",
       "    <tr>\n",
       "      <th>2000-01-02</th>\n",
       "      <td>0.758735</td>\n",
       "      <td>0.861963</td>\n",
       "      <td>0.675649</td>\n",
       "    </tr>\n",
       "    <tr>\n",
       "      <th>2000-01-03</th>\n",
       "      <td>1.699417</td>\n",
       "      <td>0.808933</td>\n",
       "      <td>1.193305</td>\n",
       "    </tr>\n",
       "    <tr>\n",
       "      <th>2000-01-04</th>\n",
       "      <td>NaN</td>\n",
       "      <td>NaN</td>\n",
       "      <td>NaN</td>\n",
       "    </tr>\n",
       "    <tr>\n",
       "      <th>2000-01-05</th>\n",
       "      <td>NaN</td>\n",
       "      <td>NaN</td>\n",
       "      <td>NaN</td>\n",
       "    </tr>\n",
       "    <tr>\n",
       "      <th>2000-01-06</th>\n",
       "      <td>NaN</td>\n",
       "      <td>NaN</td>\n",
       "      <td>NaN</td>\n",
       "    </tr>\n",
       "    <tr>\n",
       "      <th>2000-01-07</th>\n",
       "      <td>NaN</td>\n",
       "      <td>NaN</td>\n",
       "      <td>NaN</td>\n",
       "    </tr>\n",
       "    <tr>\n",
       "      <th>2000-01-08</th>\n",
       "      <td>0.883390</td>\n",
       "      <td>0.335357</td>\n",
       "      <td>0.992876</td>\n",
       "    </tr>\n",
       "    <tr>\n",
       "      <th>2000-01-09</th>\n",
       "      <td>0.498776</td>\n",
       "      <td>0.684497</td>\n",
       "      <td>0.870068</td>\n",
       "    </tr>\n",
       "    <tr>\n",
       "      <th>2000-01-10</th>\n",
       "      <td>1.232448</td>\n",
       "      <td>1.043798</td>\n",
       "      <td>0.034777</td>\n",
       "    </tr>\n",
       "  </tbody>\n",
       "</table>\n",
       "</div>"
      ],
      "text/plain": [
       "                   A         B         C\n",
       "2000-01-01  1.026971  1.602870  0.071241\n",
       "2000-01-02  0.758735  0.861963  0.675649\n",
       "2000-01-03  1.699417  0.808933  1.193305\n",
       "2000-01-04       NaN       NaN       NaN\n",
       "2000-01-05       NaN       NaN       NaN\n",
       "2000-01-06       NaN       NaN       NaN\n",
       "2000-01-07       NaN       NaN       NaN\n",
       "2000-01-08  0.883390  0.335357  0.992876\n",
       "2000-01-09  0.498776  0.684497  0.870068\n",
       "2000-01-10  1.232448  1.043798  0.034777"
      ]
     },
     "execution_count": 349,
     "metadata": {},
     "output_type": "execute_result"
    }
   ],
   "source": [
    "tsdf.transform(np.abs)"
   ]
  },
  {
   "cell_type": "code",
   "execution_count": 350,
   "id": "7f79f306-0c22-4603-ba9d-dacbbd7fe327",
   "metadata": {
    "hide-output": false
   },
   "outputs": [
    {
     "data": {
      "text/html": [
       "<div>\n",
       "<style scoped>\n",
       "    .dataframe tbody tr th:only-of-type {\n",
       "        vertical-align: middle;\n",
       "    }\n",
       "\n",
       "    .dataframe tbody tr th {\n",
       "        vertical-align: top;\n",
       "    }\n",
       "\n",
       "    .dataframe thead th {\n",
       "        text-align: right;\n",
       "    }\n",
       "</style>\n",
       "<table border=\"1\" class=\"dataframe\">\n",
       "  <thead>\n",
       "    <tr style=\"text-align: right;\">\n",
       "      <th></th>\n",
       "      <th>A</th>\n",
       "      <th>B</th>\n",
       "      <th>C</th>\n",
       "    </tr>\n",
       "  </thead>\n",
       "  <tbody>\n",
       "    <tr>\n",
       "      <th>2000-01-01</th>\n",
       "      <td>1.026971</td>\n",
       "      <td>1.602870</td>\n",
       "      <td>0.071241</td>\n",
       "    </tr>\n",
       "    <tr>\n",
       "      <th>2000-01-02</th>\n",
       "      <td>0.758735</td>\n",
       "      <td>0.861963</td>\n",
       "      <td>0.675649</td>\n",
       "    </tr>\n",
       "    <tr>\n",
       "      <th>2000-01-03</th>\n",
       "      <td>1.699417</td>\n",
       "      <td>0.808933</td>\n",
       "      <td>1.193305</td>\n",
       "    </tr>\n",
       "    <tr>\n",
       "      <th>2000-01-04</th>\n",
       "      <td>NaN</td>\n",
       "      <td>NaN</td>\n",
       "      <td>NaN</td>\n",
       "    </tr>\n",
       "    <tr>\n",
       "      <th>2000-01-05</th>\n",
       "      <td>NaN</td>\n",
       "      <td>NaN</td>\n",
       "      <td>NaN</td>\n",
       "    </tr>\n",
       "    <tr>\n",
       "      <th>2000-01-06</th>\n",
       "      <td>NaN</td>\n",
       "      <td>NaN</td>\n",
       "      <td>NaN</td>\n",
       "    </tr>\n",
       "    <tr>\n",
       "      <th>2000-01-07</th>\n",
       "      <td>NaN</td>\n",
       "      <td>NaN</td>\n",
       "      <td>NaN</td>\n",
       "    </tr>\n",
       "    <tr>\n",
       "      <th>2000-01-08</th>\n",
       "      <td>0.883390</td>\n",
       "      <td>0.335357</td>\n",
       "      <td>0.992876</td>\n",
       "    </tr>\n",
       "    <tr>\n",
       "      <th>2000-01-09</th>\n",
       "      <td>0.498776</td>\n",
       "      <td>0.684497</td>\n",
       "      <td>0.870068</td>\n",
       "    </tr>\n",
       "    <tr>\n",
       "      <th>2000-01-10</th>\n",
       "      <td>1.232448</td>\n",
       "      <td>1.043798</td>\n",
       "      <td>0.034777</td>\n",
       "    </tr>\n",
       "  </tbody>\n",
       "</table>\n",
       "</div>"
      ],
      "text/plain": [
       "                   A         B         C\n",
       "2000-01-01  1.026971  1.602870  0.071241\n",
       "2000-01-02  0.758735  0.861963  0.675649\n",
       "2000-01-03  1.699417  0.808933  1.193305\n",
       "2000-01-04       NaN       NaN       NaN\n",
       "2000-01-05       NaN       NaN       NaN\n",
       "2000-01-06       NaN       NaN       NaN\n",
       "2000-01-07       NaN       NaN       NaN\n",
       "2000-01-08  0.883390  0.335357  0.992876\n",
       "2000-01-09  0.498776  0.684497  0.870068\n",
       "2000-01-10  1.232448  1.043798  0.034777"
      ]
     },
     "execution_count": 350,
     "metadata": {},
     "output_type": "execute_result"
    }
   ],
   "source": [
    "tsdf.transform(\"abs\")"
   ]
  },
  {
   "cell_type": "code",
   "execution_count": 351,
   "id": "ea4817f9-a37a-49e0-aec7-ed297acfb4f0",
   "metadata": {
    "hide-output": false
   },
   "outputs": [
    {
     "data": {
      "text/html": [
       "<div>\n",
       "<style scoped>\n",
       "    .dataframe tbody tr th:only-of-type {\n",
       "        vertical-align: middle;\n",
       "    }\n",
       "\n",
       "    .dataframe tbody tr th {\n",
       "        vertical-align: top;\n",
       "    }\n",
       "\n",
       "    .dataframe thead th {\n",
       "        text-align: right;\n",
       "    }\n",
       "</style>\n",
       "<table border=\"1\" class=\"dataframe\">\n",
       "  <thead>\n",
       "    <tr style=\"text-align: right;\">\n",
       "      <th></th>\n",
       "      <th>A</th>\n",
       "      <th>B</th>\n",
       "      <th>C</th>\n",
       "    </tr>\n",
       "  </thead>\n",
       "  <tbody>\n",
       "    <tr>\n",
       "      <th>2000-01-01</th>\n",
       "      <td>1.026971</td>\n",
       "      <td>1.602870</td>\n",
       "      <td>0.071241</td>\n",
       "    </tr>\n",
       "    <tr>\n",
       "      <th>2000-01-02</th>\n",
       "      <td>0.758735</td>\n",
       "      <td>0.861963</td>\n",
       "      <td>0.675649</td>\n",
       "    </tr>\n",
       "    <tr>\n",
       "      <th>2000-01-03</th>\n",
       "      <td>1.699417</td>\n",
       "      <td>0.808933</td>\n",
       "      <td>1.193305</td>\n",
       "    </tr>\n",
       "    <tr>\n",
       "      <th>2000-01-04</th>\n",
       "      <td>NaN</td>\n",
       "      <td>NaN</td>\n",
       "      <td>NaN</td>\n",
       "    </tr>\n",
       "    <tr>\n",
       "      <th>2000-01-05</th>\n",
       "      <td>NaN</td>\n",
       "      <td>NaN</td>\n",
       "      <td>NaN</td>\n",
       "    </tr>\n",
       "    <tr>\n",
       "      <th>2000-01-06</th>\n",
       "      <td>NaN</td>\n",
       "      <td>NaN</td>\n",
       "      <td>NaN</td>\n",
       "    </tr>\n",
       "    <tr>\n",
       "      <th>2000-01-07</th>\n",
       "      <td>NaN</td>\n",
       "      <td>NaN</td>\n",
       "      <td>NaN</td>\n",
       "    </tr>\n",
       "    <tr>\n",
       "      <th>2000-01-08</th>\n",
       "      <td>0.883390</td>\n",
       "      <td>0.335357</td>\n",
       "      <td>0.992876</td>\n",
       "    </tr>\n",
       "    <tr>\n",
       "      <th>2000-01-09</th>\n",
       "      <td>0.498776</td>\n",
       "      <td>0.684497</td>\n",
       "      <td>0.870068</td>\n",
       "    </tr>\n",
       "    <tr>\n",
       "      <th>2000-01-10</th>\n",
       "      <td>1.232448</td>\n",
       "      <td>1.043798</td>\n",
       "      <td>0.034777</td>\n",
       "    </tr>\n",
       "  </tbody>\n",
       "</table>\n",
       "</div>"
      ],
      "text/plain": [
       "                   A         B         C\n",
       "2000-01-01  1.026971  1.602870  0.071241\n",
       "2000-01-02  0.758735  0.861963  0.675649\n",
       "2000-01-03  1.699417  0.808933  1.193305\n",
       "2000-01-04       NaN       NaN       NaN\n",
       "2000-01-05       NaN       NaN       NaN\n",
       "2000-01-06       NaN       NaN       NaN\n",
       "2000-01-07       NaN       NaN       NaN\n",
       "2000-01-08  0.883390  0.335357  0.992876\n",
       "2000-01-09  0.498776  0.684497  0.870068\n",
       "2000-01-10  1.232448  1.043798  0.034777"
      ]
     },
     "execution_count": 351,
     "metadata": {},
     "output_type": "execute_result"
    }
   ],
   "source": [
    "tsdf.transform(lambda x: x.abs())"
   ]
  },
  {
   "cell_type": "markdown",
   "id": "5186d230",
   "metadata": {},
   "source": [
    "Here `transform()` received a single function; this is equivalent to a [ufunc](https://numpy.org/doc/stable/reference/ufuncs.html) application."
   ]
  },
  {
   "cell_type": "code",
   "execution_count": 352,
   "id": "de1079c1",
   "metadata": {
    "hide-output": false
   },
   "outputs": [
    {
     "data": {
      "text/html": [
       "<div>\n",
       "<style scoped>\n",
       "    .dataframe tbody tr th:only-of-type {\n",
       "        vertical-align: middle;\n",
       "    }\n",
       "\n",
       "    .dataframe tbody tr th {\n",
       "        vertical-align: top;\n",
       "    }\n",
       "\n",
       "    .dataframe thead th {\n",
       "        text-align: right;\n",
       "    }\n",
       "</style>\n",
       "<table border=\"1\" class=\"dataframe\">\n",
       "  <thead>\n",
       "    <tr style=\"text-align: right;\">\n",
       "      <th></th>\n",
       "      <th>A</th>\n",
       "      <th>B</th>\n",
       "      <th>C</th>\n",
       "    </tr>\n",
       "  </thead>\n",
       "  <tbody>\n",
       "    <tr>\n",
       "      <th>2000-01-01</th>\n",
       "      <td>1.026971</td>\n",
       "      <td>1.602870</td>\n",
       "      <td>0.071241</td>\n",
       "    </tr>\n",
       "    <tr>\n",
       "      <th>2000-01-02</th>\n",
       "      <td>0.758735</td>\n",
       "      <td>0.861963</td>\n",
       "      <td>0.675649</td>\n",
       "    </tr>\n",
       "    <tr>\n",
       "      <th>2000-01-03</th>\n",
       "      <td>1.699417</td>\n",
       "      <td>0.808933</td>\n",
       "      <td>1.193305</td>\n",
       "    </tr>\n",
       "    <tr>\n",
       "      <th>2000-01-04</th>\n",
       "      <td>NaN</td>\n",
       "      <td>NaN</td>\n",
       "      <td>NaN</td>\n",
       "    </tr>\n",
       "    <tr>\n",
       "      <th>2000-01-05</th>\n",
       "      <td>NaN</td>\n",
       "      <td>NaN</td>\n",
       "      <td>NaN</td>\n",
       "    </tr>\n",
       "    <tr>\n",
       "      <th>2000-01-06</th>\n",
       "      <td>NaN</td>\n",
       "      <td>NaN</td>\n",
       "      <td>NaN</td>\n",
       "    </tr>\n",
       "    <tr>\n",
       "      <th>2000-01-07</th>\n",
       "      <td>NaN</td>\n",
       "      <td>NaN</td>\n",
       "      <td>NaN</td>\n",
       "    </tr>\n",
       "    <tr>\n",
       "      <th>2000-01-08</th>\n",
       "      <td>0.883390</td>\n",
       "      <td>0.335357</td>\n",
       "      <td>0.992876</td>\n",
       "    </tr>\n",
       "    <tr>\n",
       "      <th>2000-01-09</th>\n",
       "      <td>0.498776</td>\n",
       "      <td>0.684497</td>\n",
       "      <td>0.870068</td>\n",
       "    </tr>\n",
       "    <tr>\n",
       "      <th>2000-01-10</th>\n",
       "      <td>1.232448</td>\n",
       "      <td>1.043798</td>\n",
       "      <td>0.034777</td>\n",
       "    </tr>\n",
       "  </tbody>\n",
       "</table>\n",
       "</div>"
      ],
      "text/plain": [
       "                   A         B         C\n",
       "2000-01-01  1.026971  1.602870  0.071241\n",
       "2000-01-02  0.758735  0.861963  0.675649\n",
       "2000-01-03  1.699417  0.808933  1.193305\n",
       "2000-01-04       NaN       NaN       NaN\n",
       "2000-01-05       NaN       NaN       NaN\n",
       "2000-01-06       NaN       NaN       NaN\n",
       "2000-01-07       NaN       NaN       NaN\n",
       "2000-01-08  0.883390  0.335357  0.992876\n",
       "2000-01-09  0.498776  0.684497  0.870068\n",
       "2000-01-10  1.232448  1.043798  0.034777"
      ]
     },
     "execution_count": 352,
     "metadata": {},
     "output_type": "execute_result"
    }
   ],
   "source": [
    "np.abs(tsdf)"
   ]
  },
  {
   "cell_type": "markdown",
   "id": "4f10194e",
   "metadata": {},
   "source": [
    "Passing a single function to `.transform()` with a `Series` will yield a single `Series` in return."
   ]
  },
  {
   "cell_type": "code",
   "execution_count": 353,
   "id": "a38473cb",
   "metadata": {
    "hide-output": false
   },
   "outputs": [
    {
     "data": {
      "text/plain": [
       "2000-01-01    1.026971\n",
       "2000-01-02    0.758735\n",
       "2000-01-03    1.699417\n",
       "2000-01-04         NaN\n",
       "2000-01-05         NaN\n",
       "2000-01-06         NaN\n",
       "2000-01-07         NaN\n",
       "2000-01-08    0.883390\n",
       "2000-01-09    0.498776\n",
       "2000-01-10    1.232448\n",
       "Freq: D, Name: A, dtype: float64"
      ]
     },
     "execution_count": 353,
     "metadata": {},
     "output_type": "execute_result"
    }
   ],
   "source": [
    "tsdf[\"A\"].transform(np.abs)"
   ]
  },
  {
   "cell_type": "markdown",
   "id": "00edc1ec",
   "metadata": {},
   "source": [
    "#### Transform with multiple functions\n",
    "\n",
    "Passing multiple functions will yield a column MultiIndexed DataFrame.\n",
    "The first level will be the original frame column names; the second level\n",
    "will be the names of the transforming functions."
   ]
  },
  {
   "cell_type": "code",
   "execution_count": 354,
   "id": "d049aff3",
   "metadata": {
    "hide-output": false
   },
   "outputs": [
    {
     "data": {
      "text/html": [
       "<div>\n",
       "<style scoped>\n",
       "    .dataframe tbody tr th:only-of-type {\n",
       "        vertical-align: middle;\n",
       "    }\n",
       "\n",
       "    .dataframe tbody tr th {\n",
       "        vertical-align: top;\n",
       "    }\n",
       "\n",
       "    .dataframe thead tr th {\n",
       "        text-align: left;\n",
       "    }\n",
       "</style>\n",
       "<table border=\"1\" class=\"dataframe\">\n",
       "  <thead>\n",
       "    <tr>\n",
       "      <th></th>\n",
       "      <th colspan=\"2\" halign=\"left\">A</th>\n",
       "      <th colspan=\"2\" halign=\"left\">B</th>\n",
       "      <th colspan=\"2\" halign=\"left\">C</th>\n",
       "    </tr>\n",
       "    <tr>\n",
       "      <th></th>\n",
       "      <th>absolute</th>\n",
       "      <th>&lt;lambda&gt;</th>\n",
       "      <th>absolute</th>\n",
       "      <th>&lt;lambda&gt;</th>\n",
       "      <th>absolute</th>\n",
       "      <th>&lt;lambda&gt;</th>\n",
       "    </tr>\n",
       "  </thead>\n",
       "  <tbody>\n",
       "    <tr>\n",
       "      <th>2000-01-01</th>\n",
       "      <td>1.026971</td>\n",
       "      <td>-0.026971</td>\n",
       "      <td>1.602870</td>\n",
       "      <td>-0.602870</td>\n",
       "      <td>0.071241</td>\n",
       "      <td>1.071241</td>\n",
       "    </tr>\n",
       "    <tr>\n",
       "      <th>2000-01-02</th>\n",
       "      <td>0.758735</td>\n",
       "      <td>1.758735</td>\n",
       "      <td>0.861963</td>\n",
       "      <td>1.861963</td>\n",
       "      <td>0.675649</td>\n",
       "      <td>1.675649</td>\n",
       "    </tr>\n",
       "    <tr>\n",
       "      <th>2000-01-03</th>\n",
       "      <td>1.699417</td>\n",
       "      <td>2.699417</td>\n",
       "      <td>0.808933</td>\n",
       "      <td>1.808933</td>\n",
       "      <td>1.193305</td>\n",
       "      <td>2.193305</td>\n",
       "    </tr>\n",
       "    <tr>\n",
       "      <th>2000-01-04</th>\n",
       "      <td>NaN</td>\n",
       "      <td>NaN</td>\n",
       "      <td>NaN</td>\n",
       "      <td>NaN</td>\n",
       "      <td>NaN</td>\n",
       "      <td>NaN</td>\n",
       "    </tr>\n",
       "    <tr>\n",
       "      <th>2000-01-05</th>\n",
       "      <td>NaN</td>\n",
       "      <td>NaN</td>\n",
       "      <td>NaN</td>\n",
       "      <td>NaN</td>\n",
       "      <td>NaN</td>\n",
       "      <td>NaN</td>\n",
       "    </tr>\n",
       "    <tr>\n",
       "      <th>2000-01-06</th>\n",
       "      <td>NaN</td>\n",
       "      <td>NaN</td>\n",
       "      <td>NaN</td>\n",
       "      <td>NaN</td>\n",
       "      <td>NaN</td>\n",
       "      <td>NaN</td>\n",
       "    </tr>\n",
       "    <tr>\n",
       "      <th>2000-01-07</th>\n",
       "      <td>NaN</td>\n",
       "      <td>NaN</td>\n",
       "      <td>NaN</td>\n",
       "      <td>NaN</td>\n",
       "      <td>NaN</td>\n",
       "      <td>NaN</td>\n",
       "    </tr>\n",
       "    <tr>\n",
       "      <th>2000-01-08</th>\n",
       "      <td>0.883390</td>\n",
       "      <td>1.883390</td>\n",
       "      <td>0.335357</td>\n",
       "      <td>1.335357</td>\n",
       "      <td>0.992876</td>\n",
       "      <td>1.992876</td>\n",
       "    </tr>\n",
       "    <tr>\n",
       "      <th>2000-01-09</th>\n",
       "      <td>0.498776</td>\n",
       "      <td>0.501224</td>\n",
       "      <td>0.684497</td>\n",
       "      <td>0.315503</td>\n",
       "      <td>0.870068</td>\n",
       "      <td>1.870068</td>\n",
       "    </tr>\n",
       "    <tr>\n",
       "      <th>2000-01-10</th>\n",
       "      <td>1.232448</td>\n",
       "      <td>-0.232448</td>\n",
       "      <td>1.043798</td>\n",
       "      <td>2.043798</td>\n",
       "      <td>0.034777</td>\n",
       "      <td>1.034777</td>\n",
       "    </tr>\n",
       "  </tbody>\n",
       "</table>\n",
       "</div>"
      ],
      "text/plain": [
       "                   A                   B                   C          \n",
       "            absolute  <lambda>  absolute  <lambda>  absolute  <lambda>\n",
       "2000-01-01  1.026971 -0.026971  1.602870 -0.602870  0.071241  1.071241\n",
       "2000-01-02  0.758735  1.758735  0.861963  1.861963  0.675649  1.675649\n",
       "2000-01-03  1.699417  2.699417  0.808933  1.808933  1.193305  2.193305\n",
       "2000-01-04       NaN       NaN       NaN       NaN       NaN       NaN\n",
       "2000-01-05       NaN       NaN       NaN       NaN       NaN       NaN\n",
       "2000-01-06       NaN       NaN       NaN       NaN       NaN       NaN\n",
       "2000-01-07       NaN       NaN       NaN       NaN       NaN       NaN\n",
       "2000-01-08  0.883390  1.883390  0.335357  1.335357  0.992876  1.992876\n",
       "2000-01-09  0.498776  0.501224  0.684497  0.315503  0.870068  1.870068\n",
       "2000-01-10  1.232448 -0.232448  1.043798  2.043798  0.034777  1.034777"
      ]
     },
     "execution_count": 354,
     "metadata": {},
     "output_type": "execute_result"
    }
   ],
   "source": [
    "tsdf.transform([np.abs, lambda x: x + 1])"
   ]
  },
  {
   "cell_type": "markdown",
   "id": "dd50c2dd",
   "metadata": {},
   "source": [
    "Passing multiple functions to a Series will yield a DataFrame. The\n",
    "resulting column names will be the transforming functions."
   ]
  },
  {
   "cell_type": "code",
   "execution_count": 355,
   "id": "857b5e48",
   "metadata": {
    "hide-output": false
   },
   "outputs": [
    {
     "data": {
      "text/html": [
       "<div>\n",
       "<style scoped>\n",
       "    .dataframe tbody tr th:only-of-type {\n",
       "        vertical-align: middle;\n",
       "    }\n",
       "\n",
       "    .dataframe tbody tr th {\n",
       "        vertical-align: top;\n",
       "    }\n",
       "\n",
       "    .dataframe thead th {\n",
       "        text-align: right;\n",
       "    }\n",
       "</style>\n",
       "<table border=\"1\" class=\"dataframe\">\n",
       "  <thead>\n",
       "    <tr style=\"text-align: right;\">\n",
       "      <th></th>\n",
       "      <th>absolute</th>\n",
       "      <th>&lt;lambda&gt;</th>\n",
       "    </tr>\n",
       "  </thead>\n",
       "  <tbody>\n",
       "    <tr>\n",
       "      <th>2000-01-01</th>\n",
       "      <td>1.026971</td>\n",
       "      <td>-0.026971</td>\n",
       "    </tr>\n",
       "    <tr>\n",
       "      <th>2000-01-02</th>\n",
       "      <td>0.758735</td>\n",
       "      <td>1.758735</td>\n",
       "    </tr>\n",
       "    <tr>\n",
       "      <th>2000-01-03</th>\n",
       "      <td>1.699417</td>\n",
       "      <td>2.699417</td>\n",
       "    </tr>\n",
       "    <tr>\n",
       "      <th>2000-01-04</th>\n",
       "      <td>NaN</td>\n",
       "      <td>NaN</td>\n",
       "    </tr>\n",
       "    <tr>\n",
       "      <th>2000-01-05</th>\n",
       "      <td>NaN</td>\n",
       "      <td>NaN</td>\n",
       "    </tr>\n",
       "    <tr>\n",
       "      <th>2000-01-06</th>\n",
       "      <td>NaN</td>\n",
       "      <td>NaN</td>\n",
       "    </tr>\n",
       "    <tr>\n",
       "      <th>2000-01-07</th>\n",
       "      <td>NaN</td>\n",
       "      <td>NaN</td>\n",
       "    </tr>\n",
       "    <tr>\n",
       "      <th>2000-01-08</th>\n",
       "      <td>0.883390</td>\n",
       "      <td>1.883390</td>\n",
       "    </tr>\n",
       "    <tr>\n",
       "      <th>2000-01-09</th>\n",
       "      <td>0.498776</td>\n",
       "      <td>0.501224</td>\n",
       "    </tr>\n",
       "    <tr>\n",
       "      <th>2000-01-10</th>\n",
       "      <td>1.232448</td>\n",
       "      <td>-0.232448</td>\n",
       "    </tr>\n",
       "  </tbody>\n",
       "</table>\n",
       "</div>"
      ],
      "text/plain": [
       "            absolute  <lambda>\n",
       "2000-01-01  1.026971 -0.026971\n",
       "2000-01-02  0.758735  1.758735\n",
       "2000-01-03  1.699417  2.699417\n",
       "2000-01-04       NaN       NaN\n",
       "2000-01-05       NaN       NaN\n",
       "2000-01-06       NaN       NaN\n",
       "2000-01-07       NaN       NaN\n",
       "2000-01-08  0.883390  1.883390\n",
       "2000-01-09  0.498776  0.501224\n",
       "2000-01-10  1.232448 -0.232448"
      ]
     },
     "execution_count": 355,
     "metadata": {},
     "output_type": "execute_result"
    }
   ],
   "source": [
    "tsdf[\"A\"].transform([np.abs, lambda x: x + 1])"
   ]
  },
  {
   "cell_type": "markdown",
   "id": "eed11c93",
   "metadata": {},
   "source": [
    "#### Transforming with a dict\n",
    "\n",
    "Passing a dict of functions will allow selective transforming per column."
   ]
  },
  {
   "cell_type": "code",
   "execution_count": 356,
   "id": "7ec3bf5e",
   "metadata": {
    "hide-output": false
   },
   "outputs": [
    {
     "data": {
      "text/html": [
       "<div>\n",
       "<style scoped>\n",
       "    .dataframe tbody tr th:only-of-type {\n",
       "        vertical-align: middle;\n",
       "    }\n",
       "\n",
       "    .dataframe tbody tr th {\n",
       "        vertical-align: top;\n",
       "    }\n",
       "\n",
       "    .dataframe thead th {\n",
       "        text-align: right;\n",
       "    }\n",
       "</style>\n",
       "<table border=\"1\" class=\"dataframe\">\n",
       "  <thead>\n",
       "    <tr style=\"text-align: right;\">\n",
       "      <th></th>\n",
       "      <th>A</th>\n",
       "      <th>B</th>\n",
       "    </tr>\n",
       "  </thead>\n",
       "  <tbody>\n",
       "    <tr>\n",
       "      <th>2000-01-01</th>\n",
       "      <td>1.026971</td>\n",
       "      <td>-0.602870</td>\n",
       "    </tr>\n",
       "    <tr>\n",
       "      <th>2000-01-02</th>\n",
       "      <td>0.758735</td>\n",
       "      <td>1.861963</td>\n",
       "    </tr>\n",
       "    <tr>\n",
       "      <th>2000-01-03</th>\n",
       "      <td>1.699417</td>\n",
       "      <td>1.808933</td>\n",
       "    </tr>\n",
       "    <tr>\n",
       "      <th>2000-01-04</th>\n",
       "      <td>NaN</td>\n",
       "      <td>NaN</td>\n",
       "    </tr>\n",
       "    <tr>\n",
       "      <th>2000-01-05</th>\n",
       "      <td>NaN</td>\n",
       "      <td>NaN</td>\n",
       "    </tr>\n",
       "    <tr>\n",
       "      <th>2000-01-06</th>\n",
       "      <td>NaN</td>\n",
       "      <td>NaN</td>\n",
       "    </tr>\n",
       "    <tr>\n",
       "      <th>2000-01-07</th>\n",
       "      <td>NaN</td>\n",
       "      <td>NaN</td>\n",
       "    </tr>\n",
       "    <tr>\n",
       "      <th>2000-01-08</th>\n",
       "      <td>0.883390</td>\n",
       "      <td>1.335357</td>\n",
       "    </tr>\n",
       "    <tr>\n",
       "      <th>2000-01-09</th>\n",
       "      <td>0.498776</td>\n",
       "      <td>0.315503</td>\n",
       "    </tr>\n",
       "    <tr>\n",
       "      <th>2000-01-10</th>\n",
       "      <td>1.232448</td>\n",
       "      <td>2.043798</td>\n",
       "    </tr>\n",
       "  </tbody>\n",
       "</table>\n",
       "</div>"
      ],
      "text/plain": [
       "                   A         B\n",
       "2000-01-01  1.026971 -0.602870\n",
       "2000-01-02  0.758735  1.861963\n",
       "2000-01-03  1.699417  1.808933\n",
       "2000-01-04       NaN       NaN\n",
       "2000-01-05       NaN       NaN\n",
       "2000-01-06       NaN       NaN\n",
       "2000-01-07       NaN       NaN\n",
       "2000-01-08  0.883390  1.335357\n",
       "2000-01-09  0.498776  0.315503\n",
       "2000-01-10  1.232448  2.043798"
      ]
     },
     "execution_count": 356,
     "metadata": {},
     "output_type": "execute_result"
    }
   ],
   "source": [
    "tsdf.transform({\"A\": np.abs, \"B\": lambda x: x + 1})"
   ]
  },
  {
   "cell_type": "markdown",
   "id": "50f5c22e",
   "metadata": {},
   "source": [
    "Passing a dict of lists will generate a MultiIndexed DataFrame with these\n",
    "selective transforms."
   ]
  },
  {
   "cell_type": "code",
   "execution_count": 357,
   "id": "0244e520",
   "metadata": {
    "hide-output": false
   },
   "outputs": [
    {
     "name": "stderr",
     "output_type": "stream",
     "text": [
      "C:\\Users\\olippuner\\anaconda3\\lib\\site-packages\\pandas\\core\\arraylike.py:358: RuntimeWarning: invalid value encountered in sqrt\n",
      "  result = getattr(ufunc, method)(*inputs, **kwargs)\n"
     ]
    },
    {
     "data": {
      "text/html": [
       "<div>\n",
       "<style scoped>\n",
       "    .dataframe tbody tr th:only-of-type {\n",
       "        vertical-align: middle;\n",
       "    }\n",
       "\n",
       "    .dataframe tbody tr th {\n",
       "        vertical-align: top;\n",
       "    }\n",
       "\n",
       "    .dataframe thead tr th {\n",
       "        text-align: left;\n",
       "    }\n",
       "</style>\n",
       "<table border=\"1\" class=\"dataframe\">\n",
       "  <thead>\n",
       "    <tr>\n",
       "      <th></th>\n",
       "      <th>A</th>\n",
       "      <th colspan=\"2\" halign=\"left\">B</th>\n",
       "    </tr>\n",
       "    <tr>\n",
       "      <th></th>\n",
       "      <th>absolute</th>\n",
       "      <th>&lt;lambda&gt;</th>\n",
       "      <th>sqrt</th>\n",
       "    </tr>\n",
       "  </thead>\n",
       "  <tbody>\n",
       "    <tr>\n",
       "      <th>2000-01-01</th>\n",
       "      <td>1.026971</td>\n",
       "      <td>-0.602870</td>\n",
       "      <td>NaN</td>\n",
       "    </tr>\n",
       "    <tr>\n",
       "      <th>2000-01-02</th>\n",
       "      <td>0.758735</td>\n",
       "      <td>1.861963</td>\n",
       "      <td>0.928419</td>\n",
       "    </tr>\n",
       "    <tr>\n",
       "      <th>2000-01-03</th>\n",
       "      <td>1.699417</td>\n",
       "      <td>1.808933</td>\n",
       "      <td>0.899407</td>\n",
       "    </tr>\n",
       "    <tr>\n",
       "      <th>2000-01-04</th>\n",
       "      <td>NaN</td>\n",
       "      <td>NaN</td>\n",
       "      <td>NaN</td>\n",
       "    </tr>\n",
       "    <tr>\n",
       "      <th>2000-01-05</th>\n",
       "      <td>NaN</td>\n",
       "      <td>NaN</td>\n",
       "      <td>NaN</td>\n",
       "    </tr>\n",
       "    <tr>\n",
       "      <th>2000-01-06</th>\n",
       "      <td>NaN</td>\n",
       "      <td>NaN</td>\n",
       "      <td>NaN</td>\n",
       "    </tr>\n",
       "    <tr>\n",
       "      <th>2000-01-07</th>\n",
       "      <td>NaN</td>\n",
       "      <td>NaN</td>\n",
       "      <td>NaN</td>\n",
       "    </tr>\n",
       "    <tr>\n",
       "      <th>2000-01-08</th>\n",
       "      <td>0.883390</td>\n",
       "      <td>1.335357</td>\n",
       "      <td>0.579100</td>\n",
       "    </tr>\n",
       "    <tr>\n",
       "      <th>2000-01-09</th>\n",
       "      <td>0.498776</td>\n",
       "      <td>0.315503</td>\n",
       "      <td>NaN</td>\n",
       "    </tr>\n",
       "    <tr>\n",
       "      <th>2000-01-10</th>\n",
       "      <td>1.232448</td>\n",
       "      <td>2.043798</td>\n",
       "      <td>1.021664</td>\n",
       "    </tr>\n",
       "  </tbody>\n",
       "</table>\n",
       "</div>"
      ],
      "text/plain": [
       "                   A         B          \n",
       "            absolute  <lambda>      sqrt\n",
       "2000-01-01  1.026971 -0.602870       NaN\n",
       "2000-01-02  0.758735  1.861963  0.928419\n",
       "2000-01-03  1.699417  1.808933  0.899407\n",
       "2000-01-04       NaN       NaN       NaN\n",
       "2000-01-05       NaN       NaN       NaN\n",
       "2000-01-06       NaN       NaN       NaN\n",
       "2000-01-07       NaN       NaN       NaN\n",
       "2000-01-08  0.883390  1.335357  0.579100\n",
       "2000-01-09  0.498776  0.315503       NaN\n",
       "2000-01-10  1.232448  2.043798  1.021664"
      ]
     },
     "execution_count": 357,
     "metadata": {},
     "output_type": "execute_result"
    }
   ],
   "source": [
    "tsdf.transform({\"A\": np.abs, \"B\": [lambda x: x + 1, \"sqrt\"]})"
   ]
  },
  {
   "cell_type": "markdown",
   "id": "8936c45f",
   "metadata": {},
   "source": [
    "\n",
    "<a id='basics-elementwise'></a>"
   ]
  },
  {
   "cell_type": "markdown",
   "id": "8a46e344",
   "metadata": {},
   "source": [
    "### Applying elementwise functions\n",
    "\n",
    "Since not all functions can be vectorized (accept NumPy arrays and return\n",
    "another array or value), the methods `applymap()` on DataFrame\n",
    "and analogously `map()` on Series accept any Python function taking\n",
    "a single value and returning a single value. For example:"
   ]
  },
  {
   "cell_type": "code",
   "execution_count": 358,
   "id": "3fab9d5b",
   "metadata": {
    "hide-output": false
   },
   "outputs": [
    {
     "data": {
      "text/html": [
       "<div>\n",
       "<style scoped>\n",
       "    .dataframe tbody tr th:only-of-type {\n",
       "        vertical-align: middle;\n",
       "    }\n",
       "\n",
       "    .dataframe tbody tr th {\n",
       "        vertical-align: top;\n",
       "    }\n",
       "\n",
       "    .dataframe thead th {\n",
       "        text-align: right;\n",
       "    }\n",
       "</style>\n",
       "<table border=\"1\" class=\"dataframe\">\n",
       "  <thead>\n",
       "    <tr style=\"text-align: right;\">\n",
       "      <th></th>\n",
       "      <th>one</th>\n",
       "      <th>two</th>\n",
       "      <th>three</th>\n",
       "    </tr>\n",
       "  </thead>\n",
       "  <tbody>\n",
       "    <tr>\n",
       "      <th>a</th>\n",
       "      <td>0.075514</td>\n",
       "      <td>1.092052</td>\n",
       "      <td>NaN</td>\n",
       "    </tr>\n",
       "    <tr>\n",
       "      <th>b</th>\n",
       "      <td>-1.030396</td>\n",
       "      <td>0.294612</td>\n",
       "      <td>0.706416</td>\n",
       "    </tr>\n",
       "    <tr>\n",
       "      <th>c</th>\n",
       "      <td>-1.028668</td>\n",
       "      <td>0.228052</td>\n",
       "      <td>0.334334</td>\n",
       "    </tr>\n",
       "    <tr>\n",
       "      <th>d</th>\n",
       "      <td>NaN</td>\n",
       "      <td>0.295426</td>\n",
       "      <td>-0.720844</td>\n",
       "    </tr>\n",
       "  </tbody>\n",
       "</table>\n",
       "</div>"
      ],
      "text/plain": [
       "        one       two     three\n",
       "a  0.075514  1.092052       NaN\n",
       "b -1.030396  0.294612  0.706416\n",
       "c -1.028668  0.228052  0.334334\n",
       "d       NaN  0.295426 -0.720844"
      ]
     },
     "execution_count": 358,
     "metadata": {},
     "output_type": "execute_result"
    }
   ],
   "source": [
    "df4 = df_orig.copy()\n",
    "df4"
   ]
  },
  {
   "cell_type": "code",
   "execution_count": 359,
   "id": "e9a8f5df-22e5-4bbe-9cfe-cf702bd4bb1a",
   "metadata": {
    "hide-output": false
   },
   "outputs": [
    {
     "data": {
      "text/plain": [
       "a    19\n",
       "b    18\n",
       "c    19\n",
       "d     3\n",
       "Name: one, dtype: int64"
      ]
     },
     "execution_count": 359,
     "metadata": {},
     "output_type": "execute_result"
    }
   ],
   "source": [
    "def f(x):\n",
    "    return len(str(x))\n",
    "\n",
    "df4[\"one\"].map(f)"
   ]
  },
  {
   "cell_type": "code",
   "execution_count": 360,
   "id": "cf551197-9abe-438e-b05e-07d034f07022",
   "metadata": {
    "hide-output": false
   },
   "outputs": [
    {
     "data": {
      "text/html": [
       "<div>\n",
       "<style scoped>\n",
       "    .dataframe tbody tr th:only-of-type {\n",
       "        vertical-align: middle;\n",
       "    }\n",
       "\n",
       "    .dataframe tbody tr th {\n",
       "        vertical-align: top;\n",
       "    }\n",
       "\n",
       "    .dataframe thead th {\n",
       "        text-align: right;\n",
       "    }\n",
       "</style>\n",
       "<table border=\"1\" class=\"dataframe\">\n",
       "  <thead>\n",
       "    <tr style=\"text-align: right;\">\n",
       "      <th></th>\n",
       "      <th>one</th>\n",
       "      <th>two</th>\n",
       "      <th>three</th>\n",
       "    </tr>\n",
       "  </thead>\n",
       "  <tbody>\n",
       "    <tr>\n",
       "      <th>a</th>\n",
       "      <td>19</td>\n",
       "      <td>17</td>\n",
       "      <td>3</td>\n",
       "    </tr>\n",
       "    <tr>\n",
       "      <th>b</th>\n",
       "      <td>18</td>\n",
       "      <td>19</td>\n",
       "      <td>18</td>\n",
       "    </tr>\n",
       "    <tr>\n",
       "      <th>c</th>\n",
       "      <td>19</td>\n",
       "      <td>19</td>\n",
       "      <td>18</td>\n",
       "    </tr>\n",
       "    <tr>\n",
       "      <th>d</th>\n",
       "      <td>3</td>\n",
       "      <td>19</td>\n",
       "      <td>19</td>\n",
       "    </tr>\n",
       "  </tbody>\n",
       "</table>\n",
       "</div>"
      ],
      "text/plain": [
       "   one  two  three\n",
       "a   19   17      3\n",
       "b   18   19     18\n",
       "c   19   19     18\n",
       "d    3   19     19"
      ]
     },
     "execution_count": 360,
     "metadata": {},
     "output_type": "execute_result"
    }
   ],
   "source": [
    "df4.applymap(f)"
   ]
  },
  {
   "cell_type": "markdown",
   "id": "25a485c9",
   "metadata": {},
   "source": [
    "`Series.map()` has an additional feature; it can be used to easily\n",
    "“link” or “map” values defined by a secondary series. This is closely related\n",
    "to merging/joining functionality:"
   ]
  },
  {
   "cell_type": "code",
   "execution_count": 449,
   "id": "ad78764c-dc23-42ff-8ba1-8f4ae2b1a31b",
   "metadata": {
    "hide-output": false
   },
   "outputs": [
    {
     "data": {
      "text/plain": [
       "a      six\n",
       "b    seven\n",
       "c      six\n",
       "d    seven\n",
       "e      six\n",
       "dtype: object"
      ]
     },
     "execution_count": 449,
     "metadata": {},
     "output_type": "execute_result"
    }
   ],
   "source": [
    "s = pd.Series(\n",
    "    [\"six\", \"seven\", \"six\", \"seven\", \"six\"], index=[\"a\", \"b\", \"c\", \"d\", \"e\"]\n",
    ")\n",
    "s\n"
   ]
  },
  {
   "cell_type": "code",
   "execution_count": 450,
   "id": "053c8d82-cc1e-44d3-9f49-8ea13ac0de0a",
   "metadata": {
    "hide-output": false
   },
   "outputs": [
    {
     "data": {
      "text/plain": [
       "six      6.0\n",
       "seven    7.0\n",
       "dtype: float64"
      ]
     },
     "execution_count": 450,
     "metadata": {},
     "output_type": "execute_result"
    }
   ],
   "source": [
    "t = pd.Series({\"six\": 6.0, \"seven\": 7.0})\n",
    "t"
   ]
  },
  {
   "cell_type": "code",
   "execution_count": 451,
   "id": "d3be642d-6211-4f95-9b3c-d7c3824b1031",
   "metadata": {
    "hide-output": false
   },
   "outputs": [
    {
     "data": {
      "text/plain": [
       "a    6.0\n",
       "b    7.0\n",
       "c    6.0\n",
       "d    7.0\n",
       "e    6.0\n",
       "dtype: float64"
      ]
     },
     "execution_count": 451,
     "metadata": {},
     "output_type": "execute_result"
    }
   ],
   "source": [
    "s.map(t)"
   ]
  },
  {
   "cell_type": "markdown",
   "id": "c18191cb",
   "metadata": {},
   "source": [
    "\n",
    "<a id='basics-reindexing'></a>"
   ]
  },
  {
   "cell_type": "markdown",
   "id": "e9e6ea0f",
   "metadata": {},
   "source": [
    "## Reindexing and altering labels\n",
    "\n",
    "`reindex()` is the fundamental data alignment method in pandas.\n",
    "It is used to implement nearly all other features relying on label-alignment\n",
    "functionality. To *reindex* means to conform the data to match a given set of\n",
    "labels along a particular axis. This accomplishes several things:\n",
    "\n",
    "- Reorders the existing data to match a new set of labels  \n",
    "- Inserts missing value (NA) markers in label locations where no data for\n",
    "  that label existed  \n",
    "- If specified, **fill** data for missing labels using logic (highly relevant\n",
    "  to working with time series data)  \n",
    "\n",
    "\n",
    "Here is a simple example:"
   ]
  },
  {
   "cell_type": "code",
   "execution_count": 362,
   "id": "74c4e550-8dbd-4958-8e27-515d0b08a59a",
   "metadata": {
    "hide-output": false
   },
   "outputs": [],
   "source": [
    "s = pd.Series(np.random.randn(5), index=[\"a\", \"b\", \"c\", \"d\", \"e\"])\n",
    "s"
   ]
  },
  {
   "cell_type": "code",
   "execution_count": 362,
   "id": "ba884148-3daa-4e40-a17f-8043e2b73292",
   "metadata": {
    "hide-output": false
   },
   "outputs": [
    {
     "data": {
      "text/plain": [
       "e   -0.985852\n",
       "b   -1.011751\n",
       "f         NaN\n",
       "d    0.026089\n",
       "dtype: float64"
      ]
     },
     "execution_count": 362,
     "metadata": {},
     "output_type": "execute_result"
    }
   ],
   "source": [
    "s.reindex([\"e\", \"b\", \"f\", \"d\"])"
   ]
  },
  {
   "cell_type": "markdown",
   "id": "7d9a64f7",
   "metadata": {},
   "source": [
    "Here, the `f` label was not contained in the Series and hence appears as\n",
    "`NaN` in the result.\n",
    "\n",
    "With a DataFrame, you can simultaneously reindex the index and columns:"
   ]
  },
  {
   "cell_type": "code",
   "execution_count": 363,
   "id": "88024ffc-0ff5-42c9-aebb-9fa17420055a",
   "metadata": {
    "hide-output": false
   },
   "outputs": [],
   "source": [
    "df"
   ]
  },
  {
   "cell_type": "code",
   "execution_count": 363,
   "id": "d4bf9230-05d4-4105-a38a-527c2da2a92f",
   "metadata": {
    "hide-output": false
   },
   "outputs": [
    {
     "data": {
      "text/html": [
       "<div>\n",
       "<style scoped>\n",
       "    .dataframe tbody tr th:only-of-type {\n",
       "        vertical-align: middle;\n",
       "    }\n",
       "\n",
       "    .dataframe tbody tr th {\n",
       "        vertical-align: top;\n",
       "    }\n",
       "\n",
       "    .dataframe thead th {\n",
       "        text-align: right;\n",
       "    }\n",
       "</style>\n",
       "<table border=\"1\" class=\"dataframe\">\n",
       "  <thead>\n",
       "    <tr style=\"text-align: right;\">\n",
       "      <th></th>\n",
       "      <th>three</th>\n",
       "      <th>two</th>\n",
       "      <th>one</th>\n",
       "    </tr>\n",
       "  </thead>\n",
       "  <tbody>\n",
       "    <tr>\n",
       "      <th>c</th>\n",
       "      <td>0.334334</td>\n",
       "      <td>0.228052</td>\n",
       "      <td>-1.028668</td>\n",
       "    </tr>\n",
       "    <tr>\n",
       "      <th>f</th>\n",
       "      <td>NaN</td>\n",
       "      <td>NaN</td>\n",
       "      <td>NaN</td>\n",
       "    </tr>\n",
       "    <tr>\n",
       "      <th>b</th>\n",
       "      <td>0.706416</td>\n",
       "      <td>0.294612</td>\n",
       "      <td>-1.030396</td>\n",
       "    </tr>\n",
       "  </tbody>\n",
       "</table>\n",
       "</div>"
      ],
      "text/plain": [
       "      three       two       one\n",
       "c  0.334334  0.228052 -1.028668\n",
       "f       NaN       NaN       NaN\n",
       "b  0.706416  0.294612 -1.030396"
      ]
     },
     "execution_count": 363,
     "metadata": {},
     "output_type": "execute_result"
    }
   ],
   "source": [
    "df.reindex(index=[\"c\", \"f\", \"b\"], columns=[\"three\", \"two\", \"one\"])"
   ]
  },
  {
   "cell_type": "markdown",
   "id": "ce9fb52d",
   "metadata": {},
   "source": [
    "You may also use `reindex` with an `axis` keyword:"
   ]
  },
  {
   "cell_type": "code",
   "execution_count": 364,
   "id": "d33022c5",
   "metadata": {
    "hide-output": false
   },
   "outputs": [
    {
     "data": {
      "text/html": [
       "<div>\n",
       "<style scoped>\n",
       "    .dataframe tbody tr th:only-of-type {\n",
       "        vertical-align: middle;\n",
       "    }\n",
       "\n",
       "    .dataframe tbody tr th {\n",
       "        vertical-align: top;\n",
       "    }\n",
       "\n",
       "    .dataframe thead th {\n",
       "        text-align: right;\n",
       "    }\n",
       "</style>\n",
       "<table border=\"1\" class=\"dataframe\">\n",
       "  <thead>\n",
       "    <tr style=\"text-align: right;\">\n",
       "      <th></th>\n",
       "      <th>one</th>\n",
       "      <th>two</th>\n",
       "      <th>three</th>\n",
       "    </tr>\n",
       "  </thead>\n",
       "  <tbody>\n",
       "    <tr>\n",
       "      <th>c</th>\n",
       "      <td>-1.028668</td>\n",
       "      <td>0.228052</td>\n",
       "      <td>0.334334</td>\n",
       "    </tr>\n",
       "    <tr>\n",
       "      <th>f</th>\n",
       "      <td>NaN</td>\n",
       "      <td>NaN</td>\n",
       "      <td>NaN</td>\n",
       "    </tr>\n",
       "    <tr>\n",
       "      <th>b</th>\n",
       "      <td>-1.030396</td>\n",
       "      <td>0.294612</td>\n",
       "      <td>0.706416</td>\n",
       "    </tr>\n",
       "  </tbody>\n",
       "</table>\n",
       "</div>"
      ],
      "text/plain": [
       "        one       two     three\n",
       "c -1.028668  0.228052  0.334334\n",
       "f       NaN       NaN       NaN\n",
       "b -1.030396  0.294612  0.706416"
      ]
     },
     "execution_count": 364,
     "metadata": {},
     "output_type": "execute_result"
    }
   ],
   "source": [
    "df.reindex([\"c\", \"f\", \"b\"], axis=\"index\")"
   ]
  },
  {
   "cell_type": "markdown",
   "id": "3e7294d0",
   "metadata": {},
   "source": [
    "Note that the `Index` objects containing the actual axis labels can be\n",
    "**shared** between objects. So if we have a Series and a DataFrame, the\n",
    "following can be done:"
   ]
  },
  {
   "cell_type": "code",
   "execution_count": 365,
   "id": "3cdd11c6",
   "metadata": {
    "hide-output": false
   },
   "outputs": [
    {
     "data": {
      "text/plain": [
       "True"
      ]
     },
     "execution_count": 365,
     "metadata": {},
     "output_type": "execute_result"
    }
   ],
   "source": [
    "rs = s.reindex(df.index)\n",
    "rs\n",
    "rs.index is df.index"
   ]
  },
  {
   "cell_type": "markdown",
   "id": "f6a7e315",
   "metadata": {},
   "source": [
    "This means that the reindexed Series’s index is the same Python object as the\n",
    "DataFrame’s index.\n",
    "\n",
    "`DataFrame.reindex()` also supports an “axis-style” calling convention,\n",
    "where you specify a single `labels` argument and the `axis` it applies to."
   ]
  },
  {
   "cell_type": "code",
   "execution_count": 366,
   "id": "2f764b2c",
   "metadata": {
    "hide-output": false
   },
   "outputs": [
    {
     "data": {
      "text/html": [
       "<div>\n",
       "<style scoped>\n",
       "    .dataframe tbody tr th:only-of-type {\n",
       "        vertical-align: middle;\n",
       "    }\n",
       "\n",
       "    .dataframe tbody tr th {\n",
       "        vertical-align: top;\n",
       "    }\n",
       "\n",
       "    .dataframe thead th {\n",
       "        text-align: right;\n",
       "    }\n",
       "</style>\n",
       "<table border=\"1\" class=\"dataframe\">\n",
       "  <thead>\n",
       "    <tr style=\"text-align: right;\">\n",
       "      <th></th>\n",
       "      <th>three</th>\n",
       "      <th>two</th>\n",
       "      <th>one</th>\n",
       "    </tr>\n",
       "  </thead>\n",
       "  <tbody>\n",
       "    <tr>\n",
       "      <th>a</th>\n",
       "      <td>NaN</td>\n",
       "      <td>1.092052</td>\n",
       "      <td>0.075514</td>\n",
       "    </tr>\n",
       "    <tr>\n",
       "      <th>b</th>\n",
       "      <td>0.706416</td>\n",
       "      <td>0.294612</td>\n",
       "      <td>-1.030396</td>\n",
       "    </tr>\n",
       "    <tr>\n",
       "      <th>c</th>\n",
       "      <td>0.334334</td>\n",
       "      <td>0.228052</td>\n",
       "      <td>-1.028668</td>\n",
       "    </tr>\n",
       "    <tr>\n",
       "      <th>d</th>\n",
       "      <td>-0.720844</td>\n",
       "      <td>0.295426</td>\n",
       "      <td>NaN</td>\n",
       "    </tr>\n",
       "  </tbody>\n",
       "</table>\n",
       "</div>"
      ],
      "text/plain": [
       "      three       two       one\n",
       "a       NaN  1.092052  0.075514\n",
       "b  0.706416  0.294612 -1.030396\n",
       "c  0.334334  0.228052 -1.028668\n",
       "d -0.720844  0.295426       NaN"
      ]
     },
     "execution_count": 366,
     "metadata": {},
     "output_type": "execute_result"
    }
   ],
   "source": [
    "df.reindex([\"c\", \"f\", \"b\"], axis=\"index\")\n",
    "df.reindex([\"three\", \"two\", \"one\"], axis=\"columns\")"
   ]
  },
  {
   "cell_type": "markdown",
   "id": "f1c78a17",
   "metadata": {},
   "source": [
    "MultiIndex / Advanced Indexing is an even more concise way of\n",
    "doing reindexing.\n",
    "\n",
    ">**Note**\n",
    ">\n",
    ">When writing performance-sensitive code, there is a good reason to spend\n",
    "some time becoming a reindexing ninja: **many operations are faster on\n",
    "pre-aligned data**. Adding two unaligned DataFrames internally triggers a\n",
    "reindexing step. For exploratory analysis you will hardly notice the\n",
    "difference (because `reindex` has been heavily optimized), but when CPU\n",
    "cycles matter sprinkling a few explicit `reindex` calls here and there can\n",
    "have an impact.\n",
    "\n",
    "\n",
    "<a id='basics-reindex-like'></a>"
   ]
  },
  {
   "cell_type": "markdown",
   "id": "0bb40e04",
   "metadata": {},
   "source": [
    "### Reindexing to align with another object\n",
    "\n",
    "You may wish to take an object and reindex its axes to be labeled the same as\n",
    "another object. While the syntax for this is straightforward albeit verbose, it\n",
    "is a common enough operation that the `reindex_like()` method is\n",
    "available to make this simpler:"
   ]
  },
  {
   "cell_type": "code",
   "execution_count": 367,
   "id": "f708805f",
   "metadata": {
    "hide-output": false
   },
   "outputs": [],
   "source": [
    "df2 = df.reindex([\"a\", \"b\", \"c\"], columns=[\"one\", \"two\"])\n",
    "df3 = df2 - df2.mean()"
   ]
  },
  {
   "cell_type": "code",
   "execution_count": 368,
   "id": "ed2be0a2-f045-4ce4-bff8-4ad5ae8c7c47",
   "metadata": {
    "hide-output": false
   },
   "outputs": [],
   "source": [
    "df2"
   ]
  },
  {
   "cell_type": "code",
   "execution_count": 368,
   "id": "695623fe-5594-4dac-9165-3c9c9e7110fc",
   "metadata": {
    "hide-output": false
   },
   "outputs": [],
   "source": [
    "df3"
   ]
  },
  {
   "cell_type": "code",
   "execution_count": 368,
   "id": "dbd7723e-6b3a-490a-9497-59bf51882bbe",
   "metadata": {
    "hide-output": false
   },
   "outputs": [
    {
     "data": {
      "text/html": [
       "<div>\n",
       "<style scoped>\n",
       "    .dataframe tbody tr th:only-of-type {\n",
       "        vertical-align: middle;\n",
       "    }\n",
       "\n",
       "    .dataframe tbody tr th {\n",
       "        vertical-align: top;\n",
       "    }\n",
       "\n",
       "    .dataframe thead th {\n",
       "        text-align: right;\n",
       "    }\n",
       "</style>\n",
       "<table border=\"1\" class=\"dataframe\">\n",
       "  <thead>\n",
       "    <tr style=\"text-align: right;\">\n",
       "      <th></th>\n",
       "      <th>one</th>\n",
       "      <th>two</th>\n",
       "    </tr>\n",
       "  </thead>\n",
       "  <tbody>\n",
       "    <tr>\n",
       "      <th>a</th>\n",
       "      <td>0.075514</td>\n",
       "      <td>1.092052</td>\n",
       "    </tr>\n",
       "    <tr>\n",
       "      <th>b</th>\n",
       "      <td>-1.030396</td>\n",
       "      <td>0.294612</td>\n",
       "    </tr>\n",
       "    <tr>\n",
       "      <th>c</th>\n",
       "      <td>-1.028668</td>\n",
       "      <td>0.228052</td>\n",
       "    </tr>\n",
       "  </tbody>\n",
       "</table>\n",
       "</div>"
      ],
      "text/plain": [
       "        one       two\n",
       "a  0.075514  1.092052\n",
       "b -1.030396  0.294612\n",
       "c -1.028668  0.228052"
      ]
     },
     "execution_count": 368,
     "metadata": {},
     "output_type": "execute_result"
    }
   ],
   "source": [
    "df.reindex_like(df2)"
   ]
  },
  {
   "cell_type": "markdown",
   "id": "73bbed0d",
   "metadata": {},
   "source": [
    "\n",
    "<a id='basics-align'></a>"
   ]
  },
  {
   "cell_type": "markdown",
   "id": "24d25ab7",
   "metadata": {},
   "source": [
    "### Aligning objects with each other with `align`\n",
    "\n",
    "The `align()` method is the fastest way to simultaneously align two objects. It\n",
    "supports a `join` argument (related to joining and merging):\n",
    "\n",
    "> - `join='outer'`: take the union of the indexes (default)  \n",
    "- `join='left'`: use the calling object’s index  \n",
    "- `join='right'`: use the passed object’s index  \n",
    "- `join='inner'`: intersect the indexes  \n",
    "\n",
    "\n",
    "\n",
    "It returns a tuple with both of the reindexed Series:"
   ]
  },
  {
   "cell_type": "code",
   "execution_count": 369,
   "id": "7641a876-a5b5-420d-babb-cecaa2cb6253",
   "metadata": {
    "hide-output": false
   },
   "outputs": [],
   "source": [
    "s = pd.Series(np.random.randn(5), index=[\"a\", \"b\", \"c\", \"d\", \"e\"])\n",
    "s1 = s[:4]\n",
    "s1"
   ]
  },
  {
   "cell_type": "code",
   "execution_count": 369,
   "id": "e3438abd-0f60-4a06-bbc9-243204ef8281",
   "metadata": {
    "hide-output": false
   },
   "outputs": [],
   "source": [
    "s2 = s[1:]\n",
    "s2"
   ]
  },
  {
   "cell_type": "code",
   "execution_count": 369,
   "id": "d862e02b-5e65-4aa1-a243-1f5559d62dbf",
   "metadata": {
    "hide-output": false
   },
   "outputs": [],
   "source": [
    "s1.align(s2)"
   ]
  },
  {
   "cell_type": "code",
   "execution_count": 369,
   "id": "5f6e8d82-a0e6-46bc-b410-11d0b82fcf96",
   "metadata": {
    "hide-output": false
   },
   "outputs": [],
   "source": [
    "s1.align(s2, join=\"inner\")"
   ]
  },
  {
   "cell_type": "code",
   "execution_count": 369,
   "id": "99e199ad-1bab-40be-a019-6ae9ddd60205",
   "metadata": {
    "hide-output": false
   },
   "outputs": [
    {
     "data": {
      "text/plain": [
       "(a    1.580015\n",
       " b   -0.008817\n",
       " c    0.819259\n",
       " d   -0.070270\n",
       " dtype: float64,\n",
       " a         NaN\n",
       " b   -0.008817\n",
       " c    0.819259\n",
       " d   -0.070270\n",
       " dtype: float64)"
      ]
     },
     "execution_count": 369,
     "metadata": {},
     "output_type": "execute_result"
    }
   ],
   "source": [
    "s1.align(s2, join=\"left\")"
   ]
  },
  {
   "cell_type": "markdown",
   "id": "a268a486",
   "metadata": {},
   "source": [
    "\n",
    "<a id='basics-df-join'></a>\n",
    "For DataFrames, the join method will be applied to both the index and the\n",
    "columns by default:"
   ]
  },
  {
   "cell_type": "code",
   "execution_count": 370,
   "id": "dfa9bbd3",
   "metadata": {
    "hide-output": false
   },
   "outputs": [
    {
     "data": {
      "text/plain": [
       "(        one       two\n",
       " a  0.075514  1.092052\n",
       " b -1.030396  0.294612\n",
       " c -1.028668  0.228052,\n",
       "         one       two\n",
       " a  0.075514  1.092052\n",
       " b -1.030396  0.294612\n",
       " c -1.028668  0.228052)"
      ]
     },
     "execution_count": 370,
     "metadata": {},
     "output_type": "execute_result"
    }
   ],
   "source": [
    "df.align(df2, join=\"inner\")"
   ]
  },
  {
   "cell_type": "markdown",
   "id": "029ce6a1",
   "metadata": {},
   "source": [
    "You can also pass an `axis` option to only align on the specified axis:"
   ]
  },
  {
   "cell_type": "code",
   "execution_count": 371,
   "id": "e8ecc219",
   "metadata": {
    "hide-output": false
   },
   "outputs": [
    {
     "data": {
      "text/plain": [
       "(        one       two     three\n",
       " a  0.075514  1.092052       NaN\n",
       " b -1.030396  0.294612  0.706416\n",
       " c -1.028668  0.228052  0.334334,\n",
       "         one       two\n",
       " a  0.075514  1.092052\n",
       " b -1.030396  0.294612\n",
       " c -1.028668  0.228052)"
      ]
     },
     "execution_count": 371,
     "metadata": {},
     "output_type": "execute_result"
    }
   ],
   "source": [
    "df.align(df2, join=\"inner\", axis=0)"
   ]
  },
  {
   "cell_type": "markdown",
   "id": "76246deb",
   "metadata": {},
   "source": [
    "\n",
    "<a id='basics-align-frame-series'></a>\n",
    "If you pass a Series to `DataFrame.align()`, you can choose to align both\n",
    "objects either on the DataFrame’s index or columns using the `axis` argument:"
   ]
  },
  {
   "cell_type": "code",
   "execution_count": 372,
   "id": "6312a2ec",
   "metadata": {
    "hide-output": false
   },
   "outputs": [
    {
     "data": {
      "text/plain": [
       "(        one     three       two\n",
       " a  0.075514       NaN  1.092052\n",
       " b -1.030396  0.706416  0.294612\n",
       " c -1.028668  0.334334  0.228052\n",
       " d       NaN -0.720844  0.295426,\n",
       " one      0.075514\n",
       " three         NaN\n",
       " two      1.092052\n",
       " Name: a, dtype: float64)"
      ]
     },
     "execution_count": 372,
     "metadata": {},
     "output_type": "execute_result"
    }
   ],
   "source": [
    "df.align(df2.iloc[0], axis=1)"
   ]
  },
  {
   "cell_type": "markdown",
   "id": "148143ac",
   "metadata": {},
   "source": [
    "\n",
    "<a id='basics-reindex-fill'></a>"
   ]
  },
  {
   "cell_type": "markdown",
   "id": "fbbc2324-f22a-4a20-be2b-77477cdadc77",
   "metadata": {},
   "source": [
    "### Filling while reindexing\n",
    "\n",
    "`reindex()` takes an optional parameter `method` which is a\n",
    "filling method chosen from the following table:\n",
    "\n",
    "|Method|Action|\n",
    "|:----------------------------|:------------------------------------------------|\n",
    "|pad / ffill|Fill values forward|\n",
    "|bfill / backfill|Fill values backward|\n",
    "|nearest|Fill from the nearest index value|"
   ]
  },
  {
   "cell_type": "markdown",
   "id": "b37aef5d-3abd-4ad1-9bb0-f386e581a9df",
   "metadata": {},
   "source": [
    "We illustrate these fill methods on a simple Series:"
   ]
  },
  {
   "cell_type": "code",
   "execution_count": 452,
   "id": "7581f737-665f-4e4d-ae66-e6c2d7dd81a3",
   "metadata": {
    "hide-output": false
   },
   "outputs": [],
   "source": [
    "rng = pd.date_range(\"1/3/2000\", periods=8)\n",
    "ts = pd.Series(np.random.randn(8), index=rng)\n",
    "ts2 = ts[[0, 3, 6]]"
   ]
  },
  {
   "cell_type": "code",
   "execution_count": 453,
   "id": "59e56656-d938-441d-a8d7-f88c60fb2a1d",
   "metadata": {
    "hide-output": false
   },
   "outputs": [
    {
     "data": {
      "text/plain": [
       "2000-01-03    1.168028\n",
       "2000-01-04    0.144824\n",
       "2000-01-05    0.985497\n",
       "2000-01-06    0.479851\n",
       "2000-01-07    0.635126\n",
       "2000-01-08    0.490108\n",
       "2000-01-09   -0.008810\n",
       "2000-01-10    0.848273\n",
       "Freq: D, dtype: float64"
      ]
     },
     "execution_count": 453,
     "metadata": {},
     "output_type": "execute_result"
    }
   ],
   "source": [
    "ts"
   ]
  },
  {
   "cell_type": "code",
   "execution_count": 454,
   "id": "37e5794d-3e8e-449b-894e-56c54133cc30",
   "metadata": {
    "hide-output": false
   },
   "outputs": [
    {
     "data": {
      "text/plain": [
       "2000-01-03    1.168028\n",
       "2000-01-06    0.479851\n",
       "2000-01-09   -0.008810\n",
       "Freq: 3D, dtype: float64"
      ]
     },
     "execution_count": 454,
     "metadata": {},
     "output_type": "execute_result"
    }
   ],
   "source": [
    "ts2"
   ]
  },
  {
   "cell_type": "code",
   "execution_count": 455,
   "id": "ec6a0277-58b4-471e-916d-987295cad10f",
   "metadata": {
    "hide-output": false
   },
   "outputs": [
    {
     "data": {
      "text/plain": [
       "2000-01-03    1.168028\n",
       "2000-01-04         NaN\n",
       "2000-01-05         NaN\n",
       "2000-01-06    0.479851\n",
       "2000-01-07         NaN\n",
       "2000-01-08         NaN\n",
       "2000-01-09   -0.008810\n",
       "2000-01-10         NaN\n",
       "Freq: D, dtype: float64"
      ]
     },
     "execution_count": 455,
     "metadata": {},
     "output_type": "execute_result"
    }
   ],
   "source": [
    "ts2.reindex(ts.index)"
   ]
  },
  {
   "cell_type": "code",
   "execution_count": 456,
   "id": "b37d37ba-11d2-4921-b1f8-a9a906cff5e2",
   "metadata": {
    "hide-output": false
   },
   "outputs": [
    {
     "data": {
      "text/plain": [
       "2000-01-03    1.168028\n",
       "2000-01-04    1.168028\n",
       "2000-01-05    1.168028\n",
       "2000-01-06    0.479851\n",
       "2000-01-07    0.479851\n",
       "2000-01-08    0.479851\n",
       "2000-01-09   -0.008810\n",
       "2000-01-10   -0.008810\n",
       "Freq: D, dtype: float64"
      ]
     },
     "execution_count": 456,
     "metadata": {},
     "output_type": "execute_result"
    }
   ],
   "source": [
    "ts2.reindex(ts.index, method=\"ffill\")"
   ]
  },
  {
   "cell_type": "code",
   "execution_count": 457,
   "id": "340cabc7-477b-4271-bc48-bf00d9ed2a7a",
   "metadata": {
    "hide-output": false
   },
   "outputs": [
    {
     "data": {
      "text/plain": [
       "2000-01-03    1.168028\n",
       "2000-01-04    0.479851\n",
       "2000-01-05    0.479851\n",
       "2000-01-06    0.479851\n",
       "2000-01-07   -0.008810\n",
       "2000-01-08   -0.008810\n",
       "2000-01-09   -0.008810\n",
       "2000-01-10         NaN\n",
       "Freq: D, dtype: float64"
      ]
     },
     "execution_count": 457,
     "metadata": {},
     "output_type": "execute_result"
    }
   ],
   "source": [
    "ts2.reindex(ts.index, method=\"bfill\")"
   ]
  },
  {
   "cell_type": "code",
   "execution_count": 458,
   "id": "0abc1344-0722-425c-93c1-f8cb27793a5d",
   "metadata": {
    "hide-output": false
   },
   "outputs": [
    {
     "data": {
      "text/plain": [
       "2000-01-03    1.168028\n",
       "2000-01-04    1.168028\n",
       "2000-01-05    0.479851\n",
       "2000-01-06    0.479851\n",
       "2000-01-07    0.479851\n",
       "2000-01-08   -0.008810\n",
       "2000-01-09   -0.008810\n",
       "2000-01-10   -0.008810\n",
       "Freq: D, dtype: float64"
      ]
     },
     "execution_count": 458,
     "metadata": {},
     "output_type": "execute_result"
    }
   ],
   "source": [
    "ts2.reindex(ts.index, method=\"nearest\")"
   ]
  },
  {
   "cell_type": "markdown",
   "id": "6d9872d0",
   "metadata": {},
   "source": [
    "These methods require that the indexes are **ordered** increasing or\n",
    "decreasing.\n",
    "\n",
    "Note that the same result could have been achieved using\n",
    "fillna (except for `method='nearest'`) or\n",
    "interpolate:"
   ]
  },
  {
   "cell_type": "code",
   "execution_count": 374,
   "id": "4e73c15d",
   "metadata": {
    "hide-output": false
   },
   "outputs": [
    {
     "data": {
      "text/plain": [
       "2000-01-03    0.145142\n",
       "2000-01-04    0.145142\n",
       "2000-01-05    0.145142\n",
       "2000-01-06   -1.948141\n",
       "2000-01-07   -1.948141\n",
       "2000-01-08   -1.948141\n",
       "2000-01-09   -1.502283\n",
       "2000-01-10   -1.502283\n",
       "Freq: D, dtype: float64"
      ]
     },
     "execution_count": 374,
     "metadata": {},
     "output_type": "execute_result"
    }
   ],
   "source": [
    "ts2.reindex(ts.index).fillna(method=\"ffill\")"
   ]
  },
  {
   "cell_type": "markdown",
   "id": "b950aa08",
   "metadata": {},
   "source": [
    "`reindex()` will raise a ValueError if the index is not monotonically\n",
    "increasing or decreasing. `fillna()` and `interpolate()`\n",
    "will not perform any checks on the order of the index.\n",
    "\n",
    "\n",
    "<a id='basics-limits-on-reindex-fill'></a>"
   ]
  },
  {
   "cell_type": "markdown",
   "id": "42e26903",
   "metadata": {},
   "source": [
    "### Limits on filling while reindexing\n",
    "\n",
    "The `limit` and `tolerance` arguments provide additional control over\n",
    "filling while reindexing. Limit specifies the maximum count of consecutive\n",
    "matches:"
   ]
  },
  {
   "cell_type": "code",
   "execution_count": 375,
   "id": "6b16575e",
   "metadata": {
    "hide-output": false
   },
   "outputs": [
    {
     "data": {
      "text/plain": [
       "2000-01-03    0.145142\n",
       "2000-01-04    0.145142\n",
       "2000-01-05         NaN\n",
       "2000-01-06   -1.948141\n",
       "2000-01-07   -1.948141\n",
       "2000-01-08         NaN\n",
       "2000-01-09   -1.502283\n",
       "2000-01-10   -1.502283\n",
       "Freq: D, dtype: float64"
      ]
     },
     "execution_count": 375,
     "metadata": {},
     "output_type": "execute_result"
    }
   ],
   "source": [
    "ts2.reindex(ts.index, method=\"ffill\", limit=1)"
   ]
  },
  {
   "cell_type": "markdown",
   "id": "a7b2c93e",
   "metadata": {},
   "source": [
    "In contrast, tolerance specifies the maximum distance between the index and\n",
    "indexer values:"
   ]
  },
  {
   "cell_type": "code",
   "execution_count": 376,
   "id": "117bcdae",
   "metadata": {
    "hide-output": false
   },
   "outputs": [
    {
     "data": {
      "text/plain": [
       "2000-01-03    0.145142\n",
       "2000-01-04    0.145142\n",
       "2000-01-05         NaN\n",
       "2000-01-06   -1.948141\n",
       "2000-01-07   -1.948141\n",
       "2000-01-08         NaN\n",
       "2000-01-09   -1.502283\n",
       "2000-01-10   -1.502283\n",
       "Freq: D, dtype: float64"
      ]
     },
     "execution_count": 376,
     "metadata": {},
     "output_type": "execute_result"
    }
   ],
   "source": [
    "ts2.reindex(ts.index, method=\"ffill\", tolerance=\"1 day\")"
   ]
  },
  {
   "cell_type": "markdown",
   "id": "975d6644",
   "metadata": {},
   "source": [
    "Notice that when used on a `DatetimeIndex`, `TimedeltaIndex` or\n",
    "`PeriodIndex`, `tolerance` will coerced into a `Timedelta` if possible.\n",
    "This allows you to specify tolerance with appropriate strings.\n",
    "\n",
    "\n",
    "<a id='basics-drop'></a>"
   ]
  },
  {
   "cell_type": "markdown",
   "id": "fbd32909",
   "metadata": {},
   "source": [
    "### Dropping labels from an axis\n",
    "\n",
    "A method closely related to `reindex` is the `drop()` function.\n",
    "It removes a set of labels from an axis:"
   ]
  },
  {
   "cell_type": "code",
   "execution_count": 377,
   "id": "259e6573",
   "metadata": {
    "hide-output": false
   },
   "outputs": [
    {
     "data": {
      "text/html": [
       "<div>\n",
       "<style scoped>\n",
       "    .dataframe tbody tr th:only-of-type {\n",
       "        vertical-align: middle;\n",
       "    }\n",
       "\n",
       "    .dataframe tbody tr th {\n",
       "        vertical-align: top;\n",
       "    }\n",
       "\n",
       "    .dataframe thead th {\n",
       "        text-align: right;\n",
       "    }\n",
       "</style>\n",
       "<table border=\"1\" class=\"dataframe\">\n",
       "  <thead>\n",
       "    <tr style=\"text-align: right;\">\n",
       "      <th></th>\n",
       "      <th>two</th>\n",
       "      <th>three</th>\n",
       "    </tr>\n",
       "  </thead>\n",
       "  <tbody>\n",
       "    <tr>\n",
       "      <th>a</th>\n",
       "      <td>1.092052</td>\n",
       "      <td>NaN</td>\n",
       "    </tr>\n",
       "    <tr>\n",
       "      <th>b</th>\n",
       "      <td>0.294612</td>\n",
       "      <td>0.706416</td>\n",
       "    </tr>\n",
       "    <tr>\n",
       "      <th>c</th>\n",
       "      <td>0.228052</td>\n",
       "      <td>0.334334</td>\n",
       "    </tr>\n",
       "    <tr>\n",
       "      <th>d</th>\n",
       "      <td>0.295426</td>\n",
       "      <td>-0.720844</td>\n",
       "    </tr>\n",
       "  </tbody>\n",
       "</table>\n",
       "</div>"
      ],
      "text/plain": [
       "        two     three\n",
       "a  1.092052       NaN\n",
       "b  0.294612  0.706416\n",
       "c  0.228052  0.334334\n",
       "d  0.295426 -0.720844"
      ]
     },
     "execution_count": 377,
     "metadata": {},
     "output_type": "execute_result"
    }
   ],
   "source": [
    "df\n",
    "df.drop([\"a\", \"d\"], axis=0)\n",
    "df.drop([\"one\"], axis=1)"
   ]
  },
  {
   "cell_type": "markdown",
   "id": "01b1ba14",
   "metadata": {},
   "source": [
    "Note that the following also works, but is a bit less obvious / clean:"
   ]
  },
  {
   "cell_type": "code",
   "execution_count": 378,
   "id": "2be8203d",
   "metadata": {
    "hide-output": false
   },
   "outputs": [
    {
     "data": {
      "text/html": [
       "<div>\n",
       "<style scoped>\n",
       "    .dataframe tbody tr th:only-of-type {\n",
       "        vertical-align: middle;\n",
       "    }\n",
       "\n",
       "    .dataframe tbody tr th {\n",
       "        vertical-align: top;\n",
       "    }\n",
       "\n",
       "    .dataframe thead th {\n",
       "        text-align: right;\n",
       "    }\n",
       "</style>\n",
       "<table border=\"1\" class=\"dataframe\">\n",
       "  <thead>\n",
       "    <tr style=\"text-align: right;\">\n",
       "      <th></th>\n",
       "      <th>one</th>\n",
       "      <th>two</th>\n",
       "      <th>three</th>\n",
       "    </tr>\n",
       "  </thead>\n",
       "  <tbody>\n",
       "    <tr>\n",
       "      <th>b</th>\n",
       "      <td>-1.030396</td>\n",
       "      <td>0.294612</td>\n",
       "      <td>0.706416</td>\n",
       "    </tr>\n",
       "    <tr>\n",
       "      <th>c</th>\n",
       "      <td>-1.028668</td>\n",
       "      <td>0.228052</td>\n",
       "      <td>0.334334</td>\n",
       "    </tr>\n",
       "  </tbody>\n",
       "</table>\n",
       "</div>"
      ],
      "text/plain": [
       "        one       two     three\n",
       "b -1.030396  0.294612  0.706416\n",
       "c -1.028668  0.228052  0.334334"
      ]
     },
     "execution_count": 378,
     "metadata": {},
     "output_type": "execute_result"
    }
   ],
   "source": [
    "df.reindex(df.index.difference([\"a\", \"d\"]))"
   ]
  },
  {
   "cell_type": "markdown",
   "id": "a7780f4a",
   "metadata": {},
   "source": [
    "\n",
    "<a id='basics-rename'></a>"
   ]
  },
  {
   "cell_type": "markdown",
   "id": "dba3e3e2",
   "metadata": {},
   "source": [
    "### Renaming / mapping labels\n",
    "\n",
    "The `rename()` method allows you to relabel an axis based on some\n",
    "mapping (a dict or Series) or an arbitrary function."
   ]
  },
  {
   "cell_type": "code",
   "execution_count": 379,
   "id": "45ca1f15-cd84-4641-946e-018a960c1437",
   "metadata": {
    "hide-output": false
   },
   "outputs": [],
   "source": [
    "s"
   ]
  },
  {
   "cell_type": "code",
   "execution_count": 379,
   "id": "e6da2b51-e3cd-4b18-9209-4a31d1d8c869",
   "metadata": {
    "hide-output": false
   },
   "outputs": [
    {
     "data": {
      "text/plain": [
       "A    1.580015\n",
       "B   -0.008817\n",
       "C    0.819259\n",
       "D   -0.070270\n",
       "E    1.272000\n",
       "dtype: float64"
      ]
     },
     "execution_count": 379,
     "metadata": {},
     "output_type": "execute_result"
    }
   ],
   "source": [
    "s.rename(str.upper)"
   ]
  },
  {
   "cell_type": "markdown",
   "id": "30f0858f",
   "metadata": {},
   "source": [
    "If you pass a function, it must return a value when called with any of the\n",
    "labels (and must produce a set of unique values). A dict or\n",
    "Series can also be used:"
   ]
  },
  {
   "cell_type": "code",
   "execution_count": 380,
   "id": "db55a2de",
   "metadata": {
    "hide-output": false
   },
   "outputs": [
    {
     "data": {
      "text/html": [
       "<div>\n",
       "<style scoped>\n",
       "    .dataframe tbody tr th:only-of-type {\n",
       "        vertical-align: middle;\n",
       "    }\n",
       "\n",
       "    .dataframe tbody tr th {\n",
       "        vertical-align: top;\n",
       "    }\n",
       "\n",
       "    .dataframe thead th {\n",
       "        text-align: right;\n",
       "    }\n",
       "</style>\n",
       "<table border=\"1\" class=\"dataframe\">\n",
       "  <thead>\n",
       "    <tr style=\"text-align: right;\">\n",
       "      <th></th>\n",
       "      <th>foo</th>\n",
       "      <th>bar</th>\n",
       "      <th>three</th>\n",
       "    </tr>\n",
       "  </thead>\n",
       "  <tbody>\n",
       "    <tr>\n",
       "      <th>apple</th>\n",
       "      <td>0.075514</td>\n",
       "      <td>1.092052</td>\n",
       "      <td>NaN</td>\n",
       "    </tr>\n",
       "    <tr>\n",
       "      <th>banana</th>\n",
       "      <td>-1.030396</td>\n",
       "      <td>0.294612</td>\n",
       "      <td>0.706416</td>\n",
       "    </tr>\n",
       "    <tr>\n",
       "      <th>c</th>\n",
       "      <td>-1.028668</td>\n",
       "      <td>0.228052</td>\n",
       "      <td>0.334334</td>\n",
       "    </tr>\n",
       "    <tr>\n",
       "      <th>durian</th>\n",
       "      <td>NaN</td>\n",
       "      <td>0.295426</td>\n",
       "      <td>-0.720844</td>\n",
       "    </tr>\n",
       "  </tbody>\n",
       "</table>\n",
       "</div>"
      ],
      "text/plain": [
       "             foo       bar     three\n",
       "apple   0.075514  1.092052       NaN\n",
       "banana -1.030396  0.294612  0.706416\n",
       "c      -1.028668  0.228052  0.334334\n",
       "durian       NaN  0.295426 -0.720844"
      ]
     },
     "execution_count": 380,
     "metadata": {},
     "output_type": "execute_result"
    }
   ],
   "source": [
    "df.rename(\n",
    "    columns={\"one\": \"foo\", \"two\": \"bar\"},\n",
    "    index={\"a\": \"apple\", \"b\": \"banana\", \"d\": \"durian\"},\n",
    ")"
   ]
  },
  {
   "cell_type": "markdown",
   "id": "08c26a86",
   "metadata": {},
   "source": [
    "If the mapping doesn’t include a column/index label, it isn’t renamed. Note that\n",
    "extra labels in the mapping don’t throw an error.\n",
    "\n",
    "`DataFrame.rename()` also supports an “axis-style” calling convention, where\n",
    "you specify a single `mapper` and the `axis` to apply that mapping to."
   ]
  },
  {
   "cell_type": "code",
   "execution_count": 381,
   "id": "bfc72bc2",
   "metadata": {
    "hide-output": false
   },
   "outputs": [
    {
     "data": {
      "text/html": [
       "<div>\n",
       "<style scoped>\n",
       "    .dataframe tbody tr th:only-of-type {\n",
       "        vertical-align: middle;\n",
       "    }\n",
       "\n",
       "    .dataframe tbody tr th {\n",
       "        vertical-align: top;\n",
       "    }\n",
       "\n",
       "    .dataframe thead th {\n",
       "        text-align: right;\n",
       "    }\n",
       "</style>\n",
       "<table border=\"1\" class=\"dataframe\">\n",
       "  <thead>\n",
       "    <tr style=\"text-align: right;\">\n",
       "      <th></th>\n",
       "      <th>one</th>\n",
       "      <th>two</th>\n",
       "      <th>three</th>\n",
       "    </tr>\n",
       "  </thead>\n",
       "  <tbody>\n",
       "    <tr>\n",
       "      <th>apple</th>\n",
       "      <td>0.075514</td>\n",
       "      <td>1.092052</td>\n",
       "      <td>NaN</td>\n",
       "    </tr>\n",
       "    <tr>\n",
       "      <th>banana</th>\n",
       "      <td>-1.030396</td>\n",
       "      <td>0.294612</td>\n",
       "      <td>0.706416</td>\n",
       "    </tr>\n",
       "    <tr>\n",
       "      <th>c</th>\n",
       "      <td>-1.028668</td>\n",
       "      <td>0.228052</td>\n",
       "      <td>0.334334</td>\n",
       "    </tr>\n",
       "    <tr>\n",
       "      <th>durian</th>\n",
       "      <td>NaN</td>\n",
       "      <td>0.295426</td>\n",
       "      <td>-0.720844</td>\n",
       "    </tr>\n",
       "  </tbody>\n",
       "</table>\n",
       "</div>"
      ],
      "text/plain": [
       "             one       two     three\n",
       "apple   0.075514  1.092052       NaN\n",
       "banana -1.030396  0.294612  0.706416\n",
       "c      -1.028668  0.228052  0.334334\n",
       "durian       NaN  0.295426 -0.720844"
      ]
     },
     "execution_count": 381,
     "metadata": {},
     "output_type": "execute_result"
    }
   ],
   "source": [
    "df.rename({\"one\": \"foo\", \"two\": \"bar\"}, axis=\"columns\")\n",
    "df.rename({\"a\": \"apple\", \"b\": \"banana\", \"d\": \"durian\"}, axis=\"index\")"
   ]
  },
  {
   "cell_type": "markdown",
   "id": "40d90f7d",
   "metadata": {},
   "source": [
    "The `rename()` method also provides an `inplace` named\n",
    "parameter that is by default `False` and copies the underlying data. Pass\n",
    "`inplace=True` to rename the data in place.\n",
    "\n",
    "Finally, `rename()` also accepts a scalar or list-like\n",
    "for altering the `Series.name` attribute."
   ]
  },
  {
   "cell_type": "code",
   "execution_count": 382,
   "id": "8909497f",
   "metadata": {
    "hide-output": false
   },
   "outputs": [
    {
     "data": {
      "text/plain": [
       "a    1.580015\n",
       "b   -0.008817\n",
       "c    0.819259\n",
       "d   -0.070270\n",
       "e    1.272000\n",
       "Name: scalar-name, dtype: float64"
      ]
     },
     "execution_count": 382,
     "metadata": {},
     "output_type": "execute_result"
    }
   ],
   "source": [
    "s.rename(\"scalar-name\")"
   ]
  },
  {
   "cell_type": "markdown",
   "id": "98d5c31d",
   "metadata": {},
   "source": [
    "\n",
    "<a id='basics-rename-axis'></a>\n",
    "The methods `DataFrame.rename_axis()` and `Series.rename_axis()`\n",
    "allow specific names of a `MultiIndex` to be changed (as opposed to the\n",
    "labels)."
   ]
  },
  {
   "cell_type": "code",
   "execution_count": 383,
   "id": "527f1b13-8bcd-457b-b4a7-aff7f315ebbb",
   "metadata": {
    "hide-output": false
   },
   "outputs": [],
   "source": [
    "df = pd.DataFrame(\n",
    "    {\"x\": [1, 2, 3, 4, 5, 6], \"y\": [10, 20, 30, 40, 50, 60]},\n",
    "    index=pd.MultiIndex.from_product(\n",
    "        [[\"a\", \"b\", \"c\"], [1, 2]], names=[\"let\", \"num\"]\n",
    "    ),\n",
    ")\n",
    "df"
   ]
  },
  {
   "cell_type": "code",
   "execution_count": 383,
   "id": "48977252-38d8-4fee-b419-12d63ab2215c",
   "metadata": {
    "hide-output": false
   },
   "outputs": [],
   "source": [
    "df.rename_axis(index={\"let\": \"abc\"})"
   ]
  },
  {
   "cell_type": "code",
   "execution_count": 383,
   "id": "873c1116-5cb5-4e06-b297-aad1f283b99a",
   "metadata": {
    "hide-output": false
   },
   "outputs": [
    {
     "data": {
      "text/html": [
       "<div>\n",
       "<style scoped>\n",
       "    .dataframe tbody tr th:only-of-type {\n",
       "        vertical-align: middle;\n",
       "    }\n",
       "\n",
       "    .dataframe tbody tr th {\n",
       "        vertical-align: top;\n",
       "    }\n",
       "\n",
       "    .dataframe thead th {\n",
       "        text-align: right;\n",
       "    }\n",
       "</style>\n",
       "<table border=\"1\" class=\"dataframe\">\n",
       "  <thead>\n",
       "    <tr style=\"text-align: right;\">\n",
       "      <th></th>\n",
       "      <th></th>\n",
       "      <th>x</th>\n",
       "      <th>y</th>\n",
       "    </tr>\n",
       "    <tr>\n",
       "      <th>LET</th>\n",
       "      <th>NUM</th>\n",
       "      <th></th>\n",
       "      <th></th>\n",
       "    </tr>\n",
       "  </thead>\n",
       "  <tbody>\n",
       "    <tr>\n",
       "      <th rowspan=\"2\" valign=\"top\">a</th>\n",
       "      <th>1</th>\n",
       "      <td>1</td>\n",
       "      <td>10</td>\n",
       "    </tr>\n",
       "    <tr>\n",
       "      <th>2</th>\n",
       "      <td>2</td>\n",
       "      <td>20</td>\n",
       "    </tr>\n",
       "    <tr>\n",
       "      <th rowspan=\"2\" valign=\"top\">b</th>\n",
       "      <th>1</th>\n",
       "      <td>3</td>\n",
       "      <td>30</td>\n",
       "    </tr>\n",
       "    <tr>\n",
       "      <th>2</th>\n",
       "      <td>4</td>\n",
       "      <td>40</td>\n",
       "    </tr>\n",
       "    <tr>\n",
       "      <th rowspan=\"2\" valign=\"top\">c</th>\n",
       "      <th>1</th>\n",
       "      <td>5</td>\n",
       "      <td>50</td>\n",
       "    </tr>\n",
       "    <tr>\n",
       "      <th>2</th>\n",
       "      <td>6</td>\n",
       "      <td>60</td>\n",
       "    </tr>\n",
       "  </tbody>\n",
       "</table>\n",
       "</div>"
      ],
      "text/plain": [
       "         x   y\n",
       "LET NUM       \n",
       "a   1    1  10\n",
       "    2    2  20\n",
       "b   1    3  30\n",
       "    2    4  40\n",
       "c   1    5  50\n",
       "    2    6  60"
      ]
     },
     "execution_count": 383,
     "metadata": {},
     "output_type": "execute_result"
    }
   ],
   "source": [
    "df.rename_axis(index=str.upper)"
   ]
  },
  {
   "cell_type": "markdown",
   "id": "5ea5dac2",
   "metadata": {},
   "source": [
    "\n",
    "<a id='basics-iteration'></a>"
   ]
  },
  {
   "cell_type": "markdown",
   "id": "2ac9992a",
   "metadata": {},
   "source": [
    "## Iteration\n",
    "\n",
    "The behavior of basic iteration over pandas objects depends on the type.\n",
    "When iterating over a Series, it is regarded as array-like, and basic iteration\n",
    "produces the values. DataFrames follow the dict-like convention of iterating\n",
    "over the “keys” of the objects.\n",
    "\n",
    "In short, basic iteration (`for i in object`) produces:\n",
    "\n",
    "- **Series**: values  \n",
    "- **DataFrame**: column labels  \n",
    "\n",
    "\n",
    "Thus, for example, iterating over a DataFrame gives you the column names:"
   ]
  },
  {
   "cell_type": "code",
   "execution_count": 384,
   "id": "944d84d4",
   "metadata": {
    "hide-output": false
   },
   "outputs": [
    {
     "name": "stdout",
     "output_type": "stream",
     "text": [
      "col1\n",
      "col2\n"
     ]
    }
   ],
   "source": [
    "df = pd.DataFrame(\n",
    "    {\"col1\": np.random.randn(3), \"col2\": np.random.randn(3)}, index=[\"a\", \"b\", \"c\"]\n",
    ")\n",
    "\n",
    "for col in df:\n",
    "    print(col)"
   ]
  },
  {
   "cell_type": "markdown",
   "id": "d2d4df8b",
   "metadata": {},
   "source": [
    "pandas objects also have the dict-like `items()` method to\n",
    "iterate over the (key, value) pairs.\n",
    "\n",
    "To iterate over the rows of a DataFrame, you can use the following methods:\n",
    "\n",
    "- `iterrows()`: Iterate over the rows of a DataFrame as (index, Series) pairs.\n",
    "  This converts the rows to Series objects, which can change the dtypes and has some\n",
    "  performance implications.  \n",
    "- `itertuples()`: Iterate over the rows of a DataFrame\n",
    "  as namedtuples of the values.  This is a lot faster than\n",
    "  `iterrows()`, and is in most cases preferable to use\n",
    "  to iterate over the values of a DataFrame.  \n",
    "\n",
    "\n",
    "Iterating through pandas objects is generally **slow**. In many cases,\n",
    "iterating manually over the rows is not needed and can be avoided with\n",
    "one of the following approaches:\n",
    "\n",
    "- Look for a *vectorized* solution: many operations can be performed using\n",
    "  built-in methods or NumPy functions, (boolean) indexing, …  \n",
    "- When you have a function that cannot work on the full DataFrame/Series\n",
    "  at once, it is better to use `apply()` instead of iterating\n",
    "  over the values. See the docs on function application.  \n",
    "- If you need to do iterative manipulations on the values but performance is\n",
    "  important, consider writing the inner loop with cython or numba.\n",
    "  See the enhancing performance section for some\n",
    "  examples of this approach.  \n",
    "\n",
    "\n",
    "You should **never modify** something you are iterating over.\n",
    "This is not guaranteed to work in all cases. Depending on the\n",
    "data types, the iterator returns a copy and not a view, and writing\n",
    "to it will have no effect!\n",
    "\n",
    "For example, in the following case setting the value has no effect:"
   ]
  },
  {
   "cell_type": "code",
   "execution_count": 385,
   "id": "be73a6e1",
   "metadata": {
    "hide-output": false
   },
   "outputs": [
    {
     "data": {
      "text/html": [
       "<div>\n",
       "<style scoped>\n",
       "    .dataframe tbody tr th:only-of-type {\n",
       "        vertical-align: middle;\n",
       "    }\n",
       "\n",
       "    .dataframe tbody tr th {\n",
       "        vertical-align: top;\n",
       "    }\n",
       "\n",
       "    .dataframe thead th {\n",
       "        text-align: right;\n",
       "    }\n",
       "</style>\n",
       "<table border=\"1\" class=\"dataframe\">\n",
       "  <thead>\n",
       "    <tr style=\"text-align: right;\">\n",
       "      <th></th>\n",
       "      <th>a</th>\n",
       "      <th>b</th>\n",
       "    </tr>\n",
       "  </thead>\n",
       "  <tbody>\n",
       "    <tr>\n",
       "      <th>0</th>\n",
       "      <td>1</td>\n",
       "      <td>a</td>\n",
       "    </tr>\n",
       "    <tr>\n",
       "      <th>1</th>\n",
       "      <td>2</td>\n",
       "      <td>b</td>\n",
       "    </tr>\n",
       "    <tr>\n",
       "      <th>2</th>\n",
       "      <td>3</td>\n",
       "      <td>c</td>\n",
       "    </tr>\n",
       "  </tbody>\n",
       "</table>\n",
       "</div>"
      ],
      "text/plain": [
       "   a  b\n",
       "0  1  a\n",
       "1  2  b\n",
       "2  3  c"
      ]
     },
     "execution_count": 385,
     "metadata": {},
     "output_type": "execute_result"
    }
   ],
   "source": [
    "df = pd.DataFrame({\"a\": [1, 2, 3], \"b\": [\"a\", \"b\", \"c\"]})\n",
    "\n",
    "for index, row in df.iterrows():\n",
    "    row[\"a\"] = 10\n",
    "\n",
    "df"
   ]
  },
  {
   "cell_type": "markdown",
   "id": "1ee1a566",
   "metadata": {},
   "source": [
    "### items\n",
    "\n",
    "Consistent with the dict-like interface, `items()` iterates\n",
    "through key-value pairs:\n",
    "\n",
    "- **Series**: (index, scalar value) pairs  \n",
    "- **DataFrame**: (column, Series) pairs  \n",
    "\n",
    "\n",
    "For example:"
   ]
  },
  {
   "cell_type": "code",
   "execution_count": 386,
   "id": "bc4da554",
   "metadata": {
    "hide-output": false
   },
   "outputs": [
    {
     "name": "stdout",
     "output_type": "stream",
     "text": [
      "a\n",
      "0    1\n",
      "1    2\n",
      "2    3\n",
      "Name: a, dtype: int64\n",
      "b\n",
      "0    a\n",
      "1    b\n",
      "2    c\n",
      "Name: b, dtype: object\n"
     ]
    }
   ],
   "source": [
    "for label, ser in df.items():\n",
    "    print(label)\n",
    "    print(ser)"
   ]
  },
  {
   "cell_type": "markdown",
   "id": "97d5cf00",
   "metadata": {},
   "source": [
    "\n",
    "<a id='basics-iterrows'></a>"
   ]
  },
  {
   "cell_type": "markdown",
   "id": "1a89e5d0",
   "metadata": {},
   "source": [
    "### iterrows\n",
    "\n",
    "`iterrows()` allows you to iterate through the rows of a\n",
    "DataFrame as Series objects. It returns an iterator yielding each\n",
    "index value along with a Series containing the data in each row:"
   ]
  },
  {
   "cell_type": "code",
   "execution_count": 387,
   "id": "2b03f061",
   "metadata": {
    "hide-output": false
   },
   "outputs": [
    {
     "name": "stdout",
     "output_type": "stream",
     "text": [
      "0\n",
      "a    1\n",
      "b    a\n",
      "Name: 0, dtype: object\n",
      "1\n",
      "a    2\n",
      "b    b\n",
      "Name: 1, dtype: object\n",
      "2\n",
      "a    3\n",
      "b    c\n",
      "Name: 2, dtype: object\n"
     ]
    }
   ],
   "source": [
    "for row_index, row in df.iterrows():\n",
    "    print(row_index, row, sep=\"\\n\")"
   ]
  },
  {
   "cell_type": "markdown",
   "id": "1849aad4",
   "metadata": {},
   "source": [
    ">**Note**\n",
    ">\n",
    ">Because `iterrows()` returns a Series for each row,\n",
    "it does **not** preserve dtypes across the rows (dtypes are\n",
    "preserved across columns for DataFrames). For example,"
   ]
  },
  {
   "cell_type": "code",
   "execution_count": 388,
   "id": "664d3a81-eb6e-46ee-bfb6-8c0957508046",
   "metadata": {
    "hide-output": false
   },
   "outputs": [],
   "source": [
    "df_orig = pd.DataFrame([[1, 1.5]], columns=[\"int\", \"float\"])\n",
    "df_orig.dtypes"
   ]
  },
  {
   "cell_type": "code",
   "execution_count": 388,
   "id": "03e3c7a7-418d-4067-85ab-86704ec16ed0",
   "metadata": {
    "hide-output": false
   },
   "outputs": [
    {
     "data": {
      "text/plain": [
       "int      1.0\n",
       "float    1.5\n",
       "Name: 0, dtype: float64"
      ]
     },
     "execution_count": 388,
     "metadata": {},
     "output_type": "execute_result"
    }
   ],
   "source": [
    "row = next(df_orig.iterrows())[1]\n",
    "row"
   ]
  },
  {
   "cell_type": "markdown",
   "id": "4c16e224",
   "metadata": {},
   "source": [
    "All values in `row`, returned as a Series, are now upcasted\n",
    "to floats, also the original integer value in column `x`:"
   ]
  },
  {
   "cell_type": "code",
   "execution_count": 389,
   "id": "b49c1c1f-b3f1-4c49-99fa-7c1bf76ee49e",
   "metadata": {
    "hide-output": false
   },
   "outputs": [],
   "source": [
    "row[\"int\"].dtype"
   ]
  },
  {
   "cell_type": "code",
   "execution_count": 389,
   "id": "cbb44d1e-1d98-4f08-8f54-2d6ea150ec1a",
   "metadata": {
    "hide-output": false
   },
   "outputs": [
    {
     "data": {
      "text/plain": [
       "dtype('int64')"
      ]
     },
     "execution_count": 389,
     "metadata": {},
     "output_type": "execute_result"
    }
   ],
   "source": [
    "df_orig[\"int\"].dtype"
   ]
  },
  {
   "cell_type": "markdown",
   "id": "375e8957",
   "metadata": {},
   "source": [
    "To preserve dtypes while iterating over the rows, it is better\n",
    "to use `itertuples()` which returns namedtuples of the values\n",
    "and which is generally much faster than `iterrows()`.\n",
    "\n",
    "For instance, a contrived way to transpose the DataFrame would be:"
   ]
  },
  {
   "cell_type": "code",
   "execution_count": 459,
   "id": "cf2424f7",
   "metadata": {
    "hide-output": false
   },
   "outputs": [
    {
     "name": "stdout",
     "output_type": "stream",
     "text": [
      "   x  y\n",
      "0  1  4\n",
      "1  2  5\n",
      "2  3  6\n",
      "----------\n",
      "   0  1  2\n",
      "x  1  2  3\n",
      "y  4  5  6\n",
      "----------\n",
      "   0  1  2\n",
      "x  1  2  3\n",
      "y  4  5  6\n"
     ]
    }
   ],
   "source": [
    "df2 = pd.DataFrame({\"x\": [1, 2, 3], \"y\": [4, 5, 6]})\n",
    "print(df2)\n",
    "print('-'*10) \n",
    "print(df2.T)\n",
    "print('-'*10) \n",
    "df2_t = pd.DataFrame({idx: values for idx, values in df2.iterrows()})\n",
    "print(df2_t)"
   ]
  },
  {
   "cell_type": "markdown",
   "id": "c7e59b6c",
   "metadata": {},
   "source": [
    "### itertuples\n",
    "\n",
    "The `itertuples()` method will return an iterator\n",
    "yielding a namedtuple for each row in the DataFrame. The first element\n",
    "of the tuple will be the row’s corresponding index value, while the\n",
    "remaining values are the row values.\n",
    "\n",
    "For instance:"
   ]
  },
  {
   "cell_type": "code",
   "execution_count": 391,
   "id": "92c77e1b",
   "metadata": {
    "hide-output": false
   },
   "outputs": [
    {
     "name": "stdout",
     "output_type": "stream",
     "text": [
      "Pandas(Index=0, a=1, b='a')\n",
      "Pandas(Index=1, a=2, b='b')\n",
      "Pandas(Index=2, a=3, b='c')\n"
     ]
    }
   ],
   "source": [
    "for row in df.itertuples():\n",
    "    print(row)"
   ]
  },
  {
   "cell_type": "markdown",
   "id": "98ebe288",
   "metadata": {},
   "source": [
    "This method does not convert the row to a Series object; it merely\n",
    "returns the values inside a namedtuple. Therefore,\n",
    "`itertuples()` preserves the data type of the values\n",
    "and is generally faster as `iterrows()`.\n",
    "\n",
    ">**Note**\n",
    ">\n",
    ">The column names will be renamed to positional names if they are\n",
    "invalid Python identifiers, repeated, or start with an underscore.\n",
    "With a large number of columns (>255), regular tuples are returned.\n",
    "\n",
    "\n",
    "<a id='basics-dt-accessors'></a>"
   ]
  },
  {
   "cell_type": "markdown",
   "id": "ab9d88bf",
   "metadata": {},
   "source": [
    "## .dt accessor\n",
    "\n",
    "`Series` has an accessor to succinctly return datetime like properties for the\n",
    "*values* of the Series, if it is a datetime/period like Series.\n",
    "This will return a Series, indexed like the existing Series."
   ]
  },
  {
   "cell_type": "code",
   "execution_count": 392,
   "id": "a1e2b482-1982-4dd0-821c-50cfd55e9c91",
   "metadata": {
    "hide-output": false
   },
   "outputs": [],
   "source": [
    "# datetime\n",
    "s = pd.Series(pd.date_range(\"20130101 09:10:12\", periods=4))\n",
    "s"
   ]
  },
  {
   "cell_type": "code",
   "execution_count": 392,
   "id": "a9bbdd66-2e1f-443d-925d-a08ff0b1fbf5",
   "metadata": {
    "hide-output": false
   },
   "outputs": [],
   "source": [
    "s.dt.hour"
   ]
  },
  {
   "cell_type": "code",
   "execution_count": 392,
   "id": "3e9811ce-4da7-4b14-bc8b-17b0404d6517",
   "metadata": {
    "hide-output": false
   },
   "outputs": [],
   "source": [
    "s.dt.second"
   ]
  },
  {
   "cell_type": "code",
   "execution_count": 392,
   "id": "4fe4b4fa-8d9f-4154-910d-91eb4ffdf6c1",
   "metadata": {
    "hide-output": false
   },
   "outputs": [
    {
     "data": {
      "text/plain": [
       "0    1\n",
       "1    2\n",
       "2    3\n",
       "3    4\n",
       "dtype: int64"
      ]
     },
     "execution_count": 392,
     "metadata": {},
     "output_type": "execute_result"
    }
   ],
   "source": [
    "s.dt.day"
   ]
  },
  {
   "cell_type": "markdown",
   "id": "5903769f",
   "metadata": {},
   "source": [
    "This enables nice expressions like this:"
   ]
  },
  {
   "cell_type": "code",
   "execution_count": 393,
   "id": "8e9a4732",
   "metadata": {
    "hide-output": false
   },
   "outputs": [
    {
     "data": {
      "text/plain": [
       "1   2013-01-02 09:10:12\n",
       "dtype: datetime64[ns]"
      ]
     },
     "execution_count": 393,
     "metadata": {},
     "output_type": "execute_result"
    }
   ],
   "source": [
    "s[s.dt.day == 2]"
   ]
  },
  {
   "cell_type": "markdown",
   "id": "aa88fd00",
   "metadata": {},
   "source": [
    "You can easily produces tz aware transformations:"
   ]
  },
  {
   "cell_type": "code",
   "execution_count": 394,
   "id": "195fa15f-a7e6-461f-acb9-2b9dd4ed25c7",
   "metadata": {
    "hide-output": false
   },
   "outputs": [],
   "source": [
    "stz = s.dt.tz_localize(\"US/Eastern\")\n",
    "stz"
   ]
  },
  {
   "cell_type": "code",
   "execution_count": 394,
   "id": "1e3e1e46-f65d-4121-ac06-d1f171aaf64b",
   "metadata": {
    "hide-output": false
   },
   "outputs": [
    {
     "data": {
      "text/plain": [
       "<DstTzInfo 'US/Eastern' LMT-1 day, 19:04:00 STD>"
      ]
     },
     "execution_count": 394,
     "metadata": {},
     "output_type": "execute_result"
    }
   ],
   "source": [
    "stz.dt.tz"
   ]
  },
  {
   "cell_type": "markdown",
   "id": "9837fa62",
   "metadata": {},
   "source": [
    "You can also chain these types of operations:"
   ]
  },
  {
   "cell_type": "code",
   "execution_count": 395,
   "id": "ee3cccdc",
   "metadata": {
    "hide-output": false
   },
   "outputs": [
    {
     "data": {
      "text/plain": [
       "0   2013-01-01 04:10:12-05:00\n",
       "1   2013-01-02 04:10:12-05:00\n",
       "2   2013-01-03 04:10:12-05:00\n",
       "3   2013-01-04 04:10:12-05:00\n",
       "dtype: datetime64[ns, US/Eastern]"
      ]
     },
     "execution_count": 395,
     "metadata": {},
     "output_type": "execute_result"
    }
   ],
   "source": [
    "s.dt.tz_localize(\"UTC\").dt.tz_convert(\"US/Eastern\")"
   ]
  },
  {
   "cell_type": "markdown",
   "id": "c00afb9e",
   "metadata": {},
   "source": [
    "You can also format datetime values as strings with `Series.dt.strftime()` which\n",
    "supports the same format as the standard `strftime()`."
   ]
  },
  {
   "cell_type": "code",
   "execution_count": 396,
   "id": "3325c16d-0a55-44b2-bf52-776de0ca1322",
   "metadata": {
    "hide-output": false
   },
   "outputs": [],
   "source": [
    "# DatetimeIndex\n",
    "s = pd.Series(pd.date_range(\"20130101\", periods=4))\n",
    "s"
   ]
  },
  {
   "cell_type": "code",
   "execution_count": 396,
   "id": "029bfdb8-4969-4417-bfb2-2a3edcc29eaa",
   "metadata": {
    "hide-output": false
   },
   "outputs": [
    {
     "data": {
      "text/plain": [
       "0    2013/01/01\n",
       "1    2013/01/02\n",
       "2    2013/01/03\n",
       "3    2013/01/04\n",
       "dtype: object"
      ]
     },
     "execution_count": 396,
     "metadata": {},
     "output_type": "execute_result"
    }
   ],
   "source": [
    "s.dt.strftime(\"%Y/%m/%d\")"
   ]
  },
  {
   "cell_type": "code",
   "execution_count": 397,
   "id": "af2868a0-c5f0-4f44-8071-f6661abd7fba",
   "metadata": {
    "hide-output": false
   },
   "outputs": [],
   "source": [
    "# PeriodIndex\n",
    "s = pd.Series(pd.period_range(\"20130101\", periods=4))\n",
    "s"
   ]
  },
  {
   "cell_type": "code",
   "execution_count": 397,
   "id": "3353857d-f7a6-4820-a3a4-e8ec452202df",
   "metadata": {
    "hide-output": false
   },
   "outputs": [
    {
     "data": {
      "text/plain": [
       "0    2013/01/01\n",
       "1    2013/01/02\n",
       "2    2013/01/03\n",
       "3    2013/01/04\n",
       "dtype: object"
      ]
     },
     "execution_count": 397,
     "metadata": {},
     "output_type": "execute_result"
    }
   ],
   "source": [
    "s.dt.strftime(\"%Y/%m/%d\")"
   ]
  },
  {
   "cell_type": "markdown",
   "id": "e8aa65b0",
   "metadata": {},
   "source": [
    "The `.dt` accessor works for period and timedelta dtypes."
   ]
  },
  {
   "cell_type": "code",
   "execution_count": 398,
   "id": "540d51a0-acc1-482a-9a60-46f1e1f92db3",
   "metadata": {
    "hide-output": false
   },
   "outputs": [],
   "source": [
    "# period\n",
    "s = pd.Series(pd.period_range(\"20130101\", periods=4, freq=\"D\"))\n",
    "s"
   ]
  },
  {
   "cell_type": "code",
   "execution_count": 398,
   "id": "f3ec54f2-1f73-462e-aef6-d9c446e29130",
   "metadata": {
    "hide-output": false
   },
   "outputs": [],
   "source": [
    "s.dt.year"
   ]
  },
  {
   "cell_type": "code",
   "execution_count": 398,
   "id": "c154c03c-f230-4994-a6ad-59ab116207f6",
   "metadata": {
    "hide-output": false
   },
   "outputs": [
    {
     "data": {
      "text/plain": [
       "0    1\n",
       "1    2\n",
       "2    3\n",
       "3    4\n",
       "dtype: int64"
      ]
     },
     "execution_count": 398,
     "metadata": {},
     "output_type": "execute_result"
    }
   ],
   "source": [
    "s.dt.day"
   ]
  },
  {
   "cell_type": "code",
   "execution_count": 399,
   "id": "85f83e4f",
   "metadata": {
    "hide-output": false
   },
   "outputs": [
    {
     "data": {
      "text/html": [
       "<div>\n",
       "<style scoped>\n",
       "    .dataframe tbody tr th:only-of-type {\n",
       "        vertical-align: middle;\n",
       "    }\n",
       "\n",
       "    .dataframe tbody tr th {\n",
       "        vertical-align: top;\n",
       "    }\n",
       "\n",
       "    .dataframe thead th {\n",
       "        text-align: right;\n",
       "    }\n",
       "</style>\n",
       "<table border=\"1\" class=\"dataframe\">\n",
       "  <thead>\n",
       "    <tr style=\"text-align: right;\">\n",
       "      <th></th>\n",
       "      <th>days</th>\n",
       "      <th>hours</th>\n",
       "      <th>minutes</th>\n",
       "      <th>seconds</th>\n",
       "      <th>milliseconds</th>\n",
       "      <th>microseconds</th>\n",
       "      <th>nanoseconds</th>\n",
       "    </tr>\n",
       "  </thead>\n",
       "  <tbody>\n",
       "    <tr>\n",
       "      <th>0</th>\n",
       "      <td>1</td>\n",
       "      <td>0</td>\n",
       "      <td>0</td>\n",
       "      <td>5</td>\n",
       "      <td>0</td>\n",
       "      <td>0</td>\n",
       "      <td>0</td>\n",
       "    </tr>\n",
       "    <tr>\n",
       "      <th>1</th>\n",
       "      <td>1</td>\n",
       "      <td>0</td>\n",
       "      <td>0</td>\n",
       "      <td>6</td>\n",
       "      <td>0</td>\n",
       "      <td>0</td>\n",
       "      <td>0</td>\n",
       "    </tr>\n",
       "    <tr>\n",
       "      <th>2</th>\n",
       "      <td>1</td>\n",
       "      <td>0</td>\n",
       "      <td>0</td>\n",
       "      <td>7</td>\n",
       "      <td>0</td>\n",
       "      <td>0</td>\n",
       "      <td>0</td>\n",
       "    </tr>\n",
       "    <tr>\n",
       "      <th>3</th>\n",
       "      <td>1</td>\n",
       "      <td>0</td>\n",
       "      <td>0</td>\n",
       "      <td>8</td>\n",
       "      <td>0</td>\n",
       "      <td>0</td>\n",
       "      <td>0</td>\n",
       "    </tr>\n",
       "  </tbody>\n",
       "</table>\n",
       "</div>"
      ],
      "text/plain": [
       "   days  hours  minutes  seconds  milliseconds  microseconds  nanoseconds\n",
       "0     1      0        0        5             0             0            0\n",
       "1     1      0        0        6             0             0            0\n",
       "2     1      0        0        7             0             0            0\n",
       "3     1      0        0        8             0             0            0"
      ]
     },
     "execution_count": 399,
     "metadata": {},
     "output_type": "execute_result"
    }
   ],
   "source": [
    "# timedelta\n",
    "s = pd.Series(pd.timedelta_range(\"1 day 00:00:05\", periods=4, freq=\"s\"))"
   ]
  },
  {
   "cell_type": "code",
   "execution_count": null,
   "id": "4113f6f5-d646-4478-aac9-c48635542353",
   "metadata": {},
   "outputs": [],
   "source": [
    "s"
   ]
  },
  {
   "cell_type": "code",
   "execution_count": null,
   "id": "88451099-adfa-4b74-a6c5-528e32142024",
   "metadata": {},
   "outputs": [],
   "source": [
    "s.dt.days"
   ]
  },
  {
   "cell_type": "code",
   "execution_count": null,
   "id": "3ac851cc-9b4a-49ea-b833-b9beee40c524",
   "metadata": {},
   "outputs": [],
   "source": [
    "s.dt.seconds"
   ]
  },
  {
   "cell_type": "code",
   "execution_count": null,
   "id": "7e1b9fb9-84a1-4984-9342-ab52fdea3135",
   "metadata": {},
   "outputs": [],
   "source": [
    "s.dt.components"
   ]
  },
  {
   "cell_type": "markdown",
   "id": "d468ff71",
   "metadata": {},
   "source": [
    ">**Note**\n",
    ">\n",
    ">`Series.dt` will raise a `TypeError` if you access with a non-datetime-like values."
   ]
  },
  {
   "cell_type": "markdown",
   "id": "f2b14ea6",
   "metadata": {},
   "source": [
    "## Vectorized string methods\n",
    "\n",
    "Series is equipped with a set of string processing methods that make it easy to\n",
    "operate on each element of the array. Perhaps most importantly, these methods\n",
    "exclude missing/NA values automatically. These are accessed via the Series’s\n",
    "`str` attribute and generally have names matching the equivalent (scalar)\n",
    "built-in string methods. For example:\n",
    "\n",
    "> "
   ]
  },
  {
   "cell_type": "code",
   "execution_count": 400,
   "id": "d93998de",
   "metadata": {
    "hide-output": false
   },
   "outputs": [
    {
     "data": {
      "text/plain": [
       "0       a\n",
       "1       b\n",
       "2       c\n",
       "3    aaba\n",
       "4    baca\n",
       "5    <NA>\n",
       "6    caba\n",
       "7     dog\n",
       "8     cat\n",
       "dtype: string"
      ]
     },
     "execution_count": 400,
     "metadata": {},
     "output_type": "execute_result"
    }
   ],
   "source": [
    "s = pd.Series(\n",
    "    [\"A\", \"B\", \"C\", \"Aaba\", \"Baca\", np.nan, \"CABA\", \"dog\", \"cat\"], dtype=\"string\"\n",
    ")\n",
    "s.str.lower()"
   ]
  },
  {
   "cell_type": "markdown",
   "id": "67a40418",
   "metadata": {},
   "source": [
    "\n",
    "Powerful pattern-matching methods are provided as well, but note that\n",
    "pattern-matching generally uses [regular expressions](https://docs.python.org/3/library/re.html) by default (and in some cases\n",
    "always uses them).\n",
    "\n",
    ">**Note**\n",
    ">\n",
    ">Prior to pandas 1.0, string methods were only available on `object` -dtype\n",
    "`Series`. pandas 1.0 added the `StringDtype` which is dedicated\n",
    "to strings. See text.types for more.\n",
    "\n",
    "Please see Vectorized String Methods for a complete\n",
    "description.\n",
    "\n",
    "\n",
    "<a id='basics-sorting'></a>"
   ]
  },
  {
   "cell_type": "markdown",
   "id": "d41cec05",
   "metadata": {},
   "source": [
    "## Sorting\n",
    "\n",
    "pandas supports three kinds of sorting: sorting by index labels,\n",
    "sorting by column values, and sorting by a combination of both.\n",
    "\n",
    "\n",
    "<a id='basics-sort-index'></a>"
   ]
  },
  {
   "cell_type": "markdown",
   "id": "ee4696d6",
   "metadata": {},
   "source": [
    "### By index\n",
    "\n",
    "The `Series.sort_index()` and `DataFrame.sort_index()` methods are\n",
    "used to sort a pandas object by its index levels."
   ]
  },
  {
   "cell_type": "code",
   "execution_count": 401,
   "id": "2b6cf956-86bd-4a7b-8227-ddc875fc90f2",
   "metadata": {
    "hide-output": false
   },
   "outputs": [],
   "source": [
    "df = pd.DataFrame(\n",
    "    {\n",
    "        \"one\": pd.Series(np.random.randn(3), index=[\"a\", \"b\", \"c\"]),\n",
    "        \"two\": pd.Series(np.random.randn(4), index=[\"a\", \"b\", \"c\", \"d\"]),\n",
    "        \"three\": pd.Series(np.random.randn(3), index=[\"b\", \"c\", \"d\"]),\n",
    "    }\n",
    ")\n",
    "\n",
    "unsorted_df = df.reindex(\n",
    "    index=[\"a\", \"d\", \"c\", \"b\"], columns=[\"three\", \"two\", \"one\"]\n",
    ")\n",
    "unsorted_df"
   ]
  },
  {
   "cell_type": "code",
   "execution_count": 401,
   "id": "a9f950ef-dda4-4854-ad2b-fdfeadab8cb2",
   "metadata": {
    "hide-output": false
   },
   "outputs": [],
   "source": [
    "# DataFrame\n",
    "unsorted_df.sort_index()"
   ]
  },
  {
   "cell_type": "code",
   "execution_count": 401,
   "id": "ff3e18f1-8081-4786-98e3-30afed07d059",
   "metadata": {
    "hide-output": false
   },
   "outputs": [],
   "source": [
    "unsorted_df.sort_index(ascending=False)"
   ]
  },
  {
   "cell_type": "code",
   "execution_count": 401,
   "id": "3b366fdc-3499-4d0f-aa76-93e52c3877ff",
   "metadata": {
    "hide-output": false
   },
   "outputs": [],
   "source": [
    "unsorted_df.sort_index(axis=1)"
   ]
  },
  {
   "cell_type": "code",
   "execution_count": 401,
   "id": "26e106f7-6e61-4398-8b54-0508127bf41f",
   "metadata": {
    "hide-output": false
   },
   "outputs": [
    {
     "data": {
      "text/plain": [
       "a         NaN\n",
       "b    0.874388\n",
       "c    0.068766\n",
       "d    1.287203\n",
       "Name: three, dtype: float64"
      ]
     },
     "execution_count": 401,
     "metadata": {},
     "output_type": "execute_result"
    }
   ],
   "source": [
    "# Series\n",
    "unsorted_df[\"three\"].sort_index()"
   ]
  },
  {
   "cell_type": "markdown",
   "id": "ef7fe0b1",
   "metadata": {},
   "source": [
    "\n",
    "<a id='basics-sort-index-key'></a>\n",
    "New in version 1.1.0.\n",
    "\n",
    "Sorting by index also supports a `key` parameter that takes a callable\n",
    "function to apply to the index being sorted. For `MultiIndex` objects,\n",
    "the key is applied per-level to the levels specified by `level`."
   ]
  },
  {
   "cell_type": "code",
   "execution_count": 402,
   "id": "a7f6f151",
   "metadata": {
    "hide-output": false
   },
   "outputs": [
    {
     "data": {
      "text/html": [
       "<div>\n",
       "<style scoped>\n",
       "    .dataframe tbody tr th:only-of-type {\n",
       "        vertical-align: middle;\n",
       "    }\n",
       "\n",
       "    .dataframe tbody tr th {\n",
       "        vertical-align: top;\n",
       "    }\n",
       "\n",
       "    .dataframe thead th {\n",
       "        text-align: right;\n",
       "    }\n",
       "</style>\n",
       "<table border=\"1\" class=\"dataframe\">\n",
       "  <thead>\n",
       "    <tr style=\"text-align: right;\">\n",
       "      <th></th>\n",
       "      <th></th>\n",
       "      <th>c</th>\n",
       "    </tr>\n",
       "    <tr>\n",
       "      <th>a</th>\n",
       "      <th>b</th>\n",
       "      <th></th>\n",
       "    </tr>\n",
       "  </thead>\n",
       "  <tbody>\n",
       "    <tr>\n",
       "      <th>B</th>\n",
       "      <th>1</th>\n",
       "      <td>2</td>\n",
       "    </tr>\n",
       "    <tr>\n",
       "      <th>a</th>\n",
       "      <th>2</th>\n",
       "      <td>3</td>\n",
       "    </tr>\n",
       "    <tr>\n",
       "      <th>C</th>\n",
       "      <th>3</th>\n",
       "      <td>4</td>\n",
       "    </tr>\n",
       "  </tbody>\n",
       "</table>\n",
       "</div>"
      ],
      "text/plain": [
       "     c\n",
       "a b   \n",
       "B 1  2\n",
       "a 2  3\n",
       "C 3  4"
      ]
     },
     "execution_count": 402,
     "metadata": {},
     "output_type": "execute_result"
    }
   ],
   "source": [
    "s1 = pd.DataFrame({\"a\": [\"B\", \"a\", \"C\"], \"b\": [1, 2, 3], \"c\": [2, 3, 4]}).set_index(\n",
    "    list(\"ab\")\n",
    ")\n",
    "s1"
   ]
  },
  {
   "cell_type": "code",
   "execution_count": 403,
   "id": "72a71f92-0dfe-499c-8a0d-fbe93233a305",
   "metadata": {
    "hide-output": false
   },
   "outputs": [],
   "source": [
    "s1.sort_index(level=\"a\")"
   ]
  },
  {
   "cell_type": "code",
   "execution_count": 403,
   "id": "59af5bb6-d7eb-41f2-9d3e-4f680e700c51",
   "metadata": {
    "hide-output": false
   },
   "outputs": [
    {
     "data": {
      "text/html": [
       "<div>\n",
       "<style scoped>\n",
       "    .dataframe tbody tr th:only-of-type {\n",
       "        vertical-align: middle;\n",
       "    }\n",
       "\n",
       "    .dataframe tbody tr th {\n",
       "        vertical-align: top;\n",
       "    }\n",
       "\n",
       "    .dataframe thead th {\n",
       "        text-align: right;\n",
       "    }\n",
       "</style>\n",
       "<table border=\"1\" class=\"dataframe\">\n",
       "  <thead>\n",
       "    <tr style=\"text-align: right;\">\n",
       "      <th></th>\n",
       "      <th></th>\n",
       "      <th>c</th>\n",
       "    </tr>\n",
       "    <tr>\n",
       "      <th>a</th>\n",
       "      <th>b</th>\n",
       "      <th></th>\n",
       "    </tr>\n",
       "  </thead>\n",
       "  <tbody>\n",
       "    <tr>\n",
       "      <th>a</th>\n",
       "      <th>2</th>\n",
       "      <td>3</td>\n",
       "    </tr>\n",
       "    <tr>\n",
       "      <th>B</th>\n",
       "      <th>1</th>\n",
       "      <td>2</td>\n",
       "    </tr>\n",
       "    <tr>\n",
       "      <th>C</th>\n",
       "      <th>3</th>\n",
       "      <td>4</td>\n",
       "    </tr>\n",
       "  </tbody>\n",
       "</table>\n",
       "</div>"
      ],
      "text/plain": [
       "     c\n",
       "a b   \n",
       "a 2  3\n",
       "B 1  2\n",
       "C 3  4"
      ]
     },
     "execution_count": 403,
     "metadata": {},
     "output_type": "execute_result"
    }
   ],
   "source": [
    "s1.sort_index(level=\"a\", key=lambda idx: idx.str.lower())"
   ]
  },
  {
   "cell_type": "markdown",
   "id": "c3700501",
   "metadata": {},
   "source": [
    "For information on key sorting by value, see value sorting.\n",
    "\n",
    "\n",
    "<a id='basics-sort-values'></a>"
   ]
  },
  {
   "cell_type": "markdown",
   "id": "c52a0ba9",
   "metadata": {},
   "source": [
    "### By values\n",
    "\n",
    "The `Series.sort_values()` method is used to sort a `Series` by its values. The\n",
    "`DataFrame.sort_values()` method is used to sort a `DataFrame` by its column or row values.\n",
    "The optional `by` parameter to `DataFrame.sort_values()` may used to specify one or more columns\n",
    "to use to determine the sorted order."
   ]
  },
  {
   "cell_type": "code",
   "execution_count": 404,
   "id": "5bf27b59",
   "metadata": {
    "hide-output": false
   },
   "outputs": [
    {
     "data": {
      "text/html": [
       "<div>\n",
       "<style scoped>\n",
       "    .dataframe tbody tr th:only-of-type {\n",
       "        vertical-align: middle;\n",
       "    }\n",
       "\n",
       "    .dataframe tbody tr th {\n",
       "        vertical-align: top;\n",
       "    }\n",
       "\n",
       "    .dataframe thead th {\n",
       "        text-align: right;\n",
       "    }\n",
       "</style>\n",
       "<table border=\"1\" class=\"dataframe\">\n",
       "  <thead>\n",
       "    <tr style=\"text-align: right;\">\n",
       "      <th></th>\n",
       "      <th>one</th>\n",
       "      <th>two</th>\n",
       "      <th>three</th>\n",
       "    </tr>\n",
       "  </thead>\n",
       "  <tbody>\n",
       "    <tr>\n",
       "      <th>0</th>\n",
       "      <td>2</td>\n",
       "      <td>1</td>\n",
       "      <td>5</td>\n",
       "    </tr>\n",
       "    <tr>\n",
       "      <th>2</th>\n",
       "      <td>1</td>\n",
       "      <td>2</td>\n",
       "      <td>3</td>\n",
       "    </tr>\n",
       "    <tr>\n",
       "      <th>1</th>\n",
       "      <td>1</td>\n",
       "      <td>3</td>\n",
       "      <td>4</td>\n",
       "    </tr>\n",
       "    <tr>\n",
       "      <th>3</th>\n",
       "      <td>1</td>\n",
       "      <td>4</td>\n",
       "      <td>2</td>\n",
       "    </tr>\n",
       "  </tbody>\n",
       "</table>\n",
       "</div>"
      ],
      "text/plain": [
       "   one  two  three\n",
       "0    2    1      5\n",
       "2    1    2      3\n",
       "1    1    3      4\n",
       "3    1    4      2"
      ]
     },
     "execution_count": 404,
     "metadata": {},
     "output_type": "execute_result"
    }
   ],
   "source": [
    "df1 = pd.DataFrame(\n",
    "    {\"one\": [2, 1, 1, 1], \"two\": [1, 3, 2, 4], \"three\": [5, 4, 3, 2]}\n",
    ")\n",
    "df1.sort_values(by=\"two\")"
   ]
  },
  {
   "cell_type": "markdown",
   "id": "b2690c8d",
   "metadata": {},
   "source": [
    "The `by` parameter can take a list of column names, e.g.:"
   ]
  },
  {
   "cell_type": "code",
   "execution_count": 405,
   "id": "028bba44",
   "metadata": {
    "hide-output": false
   },
   "outputs": [
    {
     "data": {
      "text/html": [
       "<div>\n",
       "<style scoped>\n",
       "    .dataframe tbody tr th:only-of-type {\n",
       "        vertical-align: middle;\n",
       "    }\n",
       "\n",
       "    .dataframe tbody tr th {\n",
       "        vertical-align: top;\n",
       "    }\n",
       "\n",
       "    .dataframe thead th {\n",
       "        text-align: right;\n",
       "    }\n",
       "</style>\n",
       "<table border=\"1\" class=\"dataframe\">\n",
       "  <thead>\n",
       "    <tr style=\"text-align: right;\">\n",
       "      <th></th>\n",
       "      <th>one</th>\n",
       "      <th>two</th>\n",
       "      <th>three</th>\n",
       "    </tr>\n",
       "  </thead>\n",
       "  <tbody>\n",
       "    <tr>\n",
       "      <th>2</th>\n",
       "      <td>1</td>\n",
       "      <td>2</td>\n",
       "      <td>3</td>\n",
       "    </tr>\n",
       "    <tr>\n",
       "      <th>1</th>\n",
       "      <td>1</td>\n",
       "      <td>3</td>\n",
       "      <td>4</td>\n",
       "    </tr>\n",
       "    <tr>\n",
       "      <th>3</th>\n",
       "      <td>1</td>\n",
       "      <td>4</td>\n",
       "      <td>2</td>\n",
       "    </tr>\n",
       "    <tr>\n",
       "      <th>0</th>\n",
       "      <td>2</td>\n",
       "      <td>1</td>\n",
       "      <td>5</td>\n",
       "    </tr>\n",
       "  </tbody>\n",
       "</table>\n",
       "</div>"
      ],
      "text/plain": [
       "   one  two  three\n",
       "2    1    2      3\n",
       "1    1    3      4\n",
       "3    1    4      2\n",
       "0    2    1      5"
      ]
     },
     "execution_count": 405,
     "metadata": {},
     "output_type": "execute_result"
    }
   ],
   "source": [
    "df1[[\"one\", \"two\", \"three\"]].sort_values(by=[\"one\", \"two\"])"
   ]
  },
  {
   "cell_type": "markdown",
   "id": "e62cca05",
   "metadata": {},
   "source": [
    "These methods have special treatment of NA values via the `na_position`\n",
    "argument:"
   ]
  },
  {
   "cell_type": "code",
   "execution_count": 406,
   "id": "82a9bd18-2627-43e7-b702-edd9aa61e6f7",
   "metadata": {
    "hide-output": false
   },
   "outputs": [],
   "source": [
    "s[2] = np.nan\n",
    "s.sort_values()"
   ]
  },
  {
   "cell_type": "code",
   "execution_count": 406,
   "id": "f1ce8776-f308-44db-be3e-37f05bf4f6ed",
   "metadata": {
    "hide-output": false
   },
   "outputs": [
    {
     "data": {
      "text/plain": [
       "2    <NA>\n",
       "5    <NA>\n",
       "0       A\n",
       "3    Aaba\n",
       "1       B\n",
       "4    Baca\n",
       "6    CABA\n",
       "8     cat\n",
       "7     dog\n",
       "dtype: string"
      ]
     },
     "execution_count": 406,
     "metadata": {},
     "output_type": "execute_result"
    }
   ],
   "source": [
    "s.sort_values(na_position=\"first\")"
   ]
  },
  {
   "cell_type": "markdown",
   "id": "8729852d",
   "metadata": {},
   "source": [
    "\n",
    "<a id='basics-sort-value-key'></a>\n",
    "New in version 1.1.0.\n",
    "\n",
    "Sorting also supports a `key` parameter that takes a callable function\n",
    "to apply to the values being sorted."
   ]
  },
  {
   "cell_type": "code",
   "execution_count": 407,
   "id": "13458a8c",
   "metadata": {
    "hide-output": false
   },
   "outputs": [],
   "source": [
    "s1 = pd.Series([\"B\", \"a\", \"C\"])"
   ]
  },
  {
   "cell_type": "code",
   "execution_count": 408,
   "id": "f52414ba-9c30-46eb-a849-50594d9e517a",
   "metadata": {
    "hide-output": false
   },
   "outputs": [],
   "source": [
    "s1.sort_values()"
   ]
  },
  {
   "cell_type": "code",
   "execution_count": 408,
   "id": "f6698f05-a91b-407c-8ee8-fbe59247d009",
   "metadata": {
    "hide-output": false
   },
   "outputs": [
    {
     "data": {
      "text/plain": [
       "1    a\n",
       "0    B\n",
       "2    C\n",
       "dtype: object"
      ]
     },
     "execution_count": 408,
     "metadata": {},
     "output_type": "execute_result"
    }
   ],
   "source": [
    "s1.sort_values(key=lambda x: x.str.lower())"
   ]
  },
  {
   "cell_type": "markdown",
   "id": "696e793a",
   "metadata": {},
   "source": [
    "`key` will be given the `Series` of values and should return a `Series`\n",
    "or array of the same shape with the transformed values. For `DataFrame` objects,\n",
    "the key is applied per column, so the key should still expect a Series and return\n",
    "a Series, e.g."
   ]
  },
  {
   "cell_type": "code",
   "execution_count": 409,
   "id": "44d3a6b1",
   "metadata": {
    "hide-output": false
   },
   "outputs": [],
   "source": [
    "df = pd.DataFrame({\"a\": [\"B\", \"a\", \"C\"], \"b\": [1, 2, 3]})"
   ]
  },
  {
   "cell_type": "code",
   "execution_count": 410,
   "id": "88461e9a-9e99-4693-ab21-786dc77cfbfe",
   "metadata": {
    "hide-output": false
   },
   "outputs": [],
   "source": [
    "df.sort_values(by=\"a\")"
   ]
  },
  {
   "cell_type": "code",
   "execution_count": 410,
   "id": "eb1d1365-c121-467d-99d9-da36ab65f87f",
   "metadata": {
    "hide-output": false
   },
   "outputs": [
    {
     "data": {
      "text/html": [
       "<div>\n",
       "<style scoped>\n",
       "    .dataframe tbody tr th:only-of-type {\n",
       "        vertical-align: middle;\n",
       "    }\n",
       "\n",
       "    .dataframe tbody tr th {\n",
       "        vertical-align: top;\n",
       "    }\n",
       "\n",
       "    .dataframe thead th {\n",
       "        text-align: right;\n",
       "    }\n",
       "</style>\n",
       "<table border=\"1\" class=\"dataframe\">\n",
       "  <thead>\n",
       "    <tr style=\"text-align: right;\">\n",
       "      <th></th>\n",
       "      <th>a</th>\n",
       "      <th>b</th>\n",
       "    </tr>\n",
       "  </thead>\n",
       "  <tbody>\n",
       "    <tr>\n",
       "      <th>1</th>\n",
       "      <td>a</td>\n",
       "      <td>2</td>\n",
       "    </tr>\n",
       "    <tr>\n",
       "      <th>0</th>\n",
       "      <td>B</td>\n",
       "      <td>1</td>\n",
       "    </tr>\n",
       "    <tr>\n",
       "      <th>2</th>\n",
       "      <td>C</td>\n",
       "      <td>3</td>\n",
       "    </tr>\n",
       "  </tbody>\n",
       "</table>\n",
       "</div>"
      ],
      "text/plain": [
       "   a  b\n",
       "1  a  2\n",
       "0  B  1\n",
       "2  C  3"
      ]
     },
     "execution_count": 410,
     "metadata": {},
     "output_type": "execute_result"
    }
   ],
   "source": [
    "df.sort_values(by=\"a\", key=lambda col: col.str.lower())"
   ]
  },
  {
   "cell_type": "markdown",
   "id": "fd33ecb4",
   "metadata": {},
   "source": [
    "The name or type of each column can be used to apply different functions to\n",
    "different columns.\n",
    "\n",
    "\n",
    "<a id='basics-sort-indexes-and-values'></a>"
   ]
  },
  {
   "cell_type": "markdown",
   "id": "3ef6508d",
   "metadata": {},
   "source": [
    "### By indexes and values\n",
    "\n",
    "Strings passed as the `by` parameter to `DataFrame.sort_values()` may\n",
    "refer to either columns or index level names."
   ]
  },
  {
   "cell_type": "code",
   "execution_count": 411,
   "id": "51286d36",
   "metadata": {
    "hide-output": false
   },
   "outputs": [
    {
     "data": {
      "text/html": [
       "<div>\n",
       "<style scoped>\n",
       "    .dataframe tbody tr th:only-of-type {\n",
       "        vertical-align: middle;\n",
       "    }\n",
       "\n",
       "    .dataframe tbody tr th {\n",
       "        vertical-align: top;\n",
       "    }\n",
       "\n",
       "    .dataframe thead th {\n",
       "        text-align: right;\n",
       "    }\n",
       "</style>\n",
       "<table border=\"1\" class=\"dataframe\">\n",
       "  <thead>\n",
       "    <tr style=\"text-align: right;\">\n",
       "      <th></th>\n",
       "      <th></th>\n",
       "      <th>A</th>\n",
       "    </tr>\n",
       "    <tr>\n",
       "      <th>first</th>\n",
       "      <th>second</th>\n",
       "      <th></th>\n",
       "    </tr>\n",
       "  </thead>\n",
       "  <tbody>\n",
       "    <tr>\n",
       "      <th rowspan=\"3\" valign=\"top\">a</th>\n",
       "      <th>1</th>\n",
       "      <td>6</td>\n",
       "    </tr>\n",
       "    <tr>\n",
       "      <th>2</th>\n",
       "      <td>5</td>\n",
       "    </tr>\n",
       "    <tr>\n",
       "      <th>2</th>\n",
       "      <td>4</td>\n",
       "    </tr>\n",
       "    <tr>\n",
       "      <th rowspan=\"3\" valign=\"top\">b</th>\n",
       "      <th>2</th>\n",
       "      <td>3</td>\n",
       "    </tr>\n",
       "    <tr>\n",
       "      <th>1</th>\n",
       "      <td>2</td>\n",
       "    </tr>\n",
       "    <tr>\n",
       "      <th>1</th>\n",
       "      <td>1</td>\n",
       "    </tr>\n",
       "  </tbody>\n",
       "</table>\n",
       "</div>"
      ],
      "text/plain": [
       "              A\n",
       "first second   \n",
       "a     1       6\n",
       "      2       5\n",
       "      2       4\n",
       "b     2       3\n",
       "      1       2\n",
       "      1       1"
      ]
     },
     "execution_count": 411,
     "metadata": {},
     "output_type": "execute_result"
    }
   ],
   "source": [
    "# Build MultiIndex\n",
    "idx = pd.MultiIndex.from_tuples(\n",
    "    [(\"a\", 1), (\"a\", 2), (\"a\", 2), (\"b\", 2), (\"b\", 1), (\"b\", 1)]\n",
    ")\n",
    "idx.names = [\"first\", \"second\"]\n",
    "\n",
    "# Build DataFrame\n",
    "df_multi = pd.DataFrame({\"A\": np.arange(6, 0, -1)}, index=idx)\n",
    "df_multi"
   ]
  },
  {
   "cell_type": "markdown",
   "id": "611ae711",
   "metadata": {},
   "source": [
    "Sort by ‘second’ (index) and ‘A’ (column)"
   ]
  },
  {
   "cell_type": "code",
   "execution_count": 412,
   "id": "b1fc34cd",
   "metadata": {
    "hide-output": false
   },
   "outputs": [
    {
     "data": {
      "text/html": [
       "<div>\n",
       "<style scoped>\n",
       "    .dataframe tbody tr th:only-of-type {\n",
       "        vertical-align: middle;\n",
       "    }\n",
       "\n",
       "    .dataframe tbody tr th {\n",
       "        vertical-align: top;\n",
       "    }\n",
       "\n",
       "    .dataframe thead th {\n",
       "        text-align: right;\n",
       "    }\n",
       "</style>\n",
       "<table border=\"1\" class=\"dataframe\">\n",
       "  <thead>\n",
       "    <tr style=\"text-align: right;\">\n",
       "      <th></th>\n",
       "      <th></th>\n",
       "      <th>A</th>\n",
       "    </tr>\n",
       "    <tr>\n",
       "      <th>first</th>\n",
       "      <th>second</th>\n",
       "      <th></th>\n",
       "    </tr>\n",
       "  </thead>\n",
       "  <tbody>\n",
       "    <tr>\n",
       "      <th rowspan=\"2\" valign=\"top\">b</th>\n",
       "      <th>1</th>\n",
       "      <td>1</td>\n",
       "    </tr>\n",
       "    <tr>\n",
       "      <th>1</th>\n",
       "      <td>2</td>\n",
       "    </tr>\n",
       "    <tr>\n",
       "      <th>a</th>\n",
       "      <th>1</th>\n",
       "      <td>6</td>\n",
       "    </tr>\n",
       "    <tr>\n",
       "      <th>b</th>\n",
       "      <th>2</th>\n",
       "      <td>3</td>\n",
       "    </tr>\n",
       "    <tr>\n",
       "      <th rowspan=\"2\" valign=\"top\">a</th>\n",
       "      <th>2</th>\n",
       "      <td>4</td>\n",
       "    </tr>\n",
       "    <tr>\n",
       "      <th>2</th>\n",
       "      <td>5</td>\n",
       "    </tr>\n",
       "  </tbody>\n",
       "</table>\n",
       "</div>"
      ],
      "text/plain": [
       "              A\n",
       "first second   \n",
       "b     1       1\n",
       "      1       2\n",
       "a     1       6\n",
       "b     2       3\n",
       "a     2       4\n",
       "      2       5"
      ]
     },
     "execution_count": 412,
     "metadata": {},
     "output_type": "execute_result"
    }
   ],
   "source": [
    "df_multi.sort_values(by=[\"second\", \"A\"])"
   ]
  },
  {
   "cell_type": "markdown",
   "id": "0ef64eff",
   "metadata": {},
   "source": [
    ">**Note**\n",
    ">\n",
    ">If a string matches both a column name and an index level name then a\n",
    "warning is issued and the column takes precedence. This will result in an\n",
    "ambiguity error in a future version.\n",
    "\n",
    "\n",
    "<a id='basics-searchsorted'></a>"
   ]
  },
  {
   "cell_type": "markdown",
   "id": "294918cc",
   "metadata": {},
   "source": [
    "### searchsorted\n",
    "\n",
    "Series has the `searchsorted()` method, which works similarly to\n",
    "`numpy.ndarray.searchsorted()`."
   ]
  },
  {
   "cell_type": "code",
   "execution_count": 460,
   "id": "1837a64e-377e-461e-a42a-7de55845518b",
   "metadata": {
    "hide-output": false
   },
   "outputs": [
    {
     "data": {
      "text/plain": [
       "array([0, 2], dtype=int64)"
      ]
     },
     "execution_count": 460,
     "metadata": {},
     "output_type": "execute_result"
    }
   ],
   "source": [
    "ser = pd.Series([1, 2, 3])\n",
    "ser.searchsorted([0, 3])"
   ]
  },
  {
   "cell_type": "code",
   "execution_count": 461,
   "id": "da646f99-a563-4154-bd26-cec1a296d1b6",
   "metadata": {
    "hide-output": false
   },
   "outputs": [
    {
     "data": {
      "text/plain": [
       "array([0, 3], dtype=int64)"
      ]
     },
     "execution_count": 461,
     "metadata": {},
     "output_type": "execute_result"
    }
   ],
   "source": [
    "ser.searchsorted([0, 4])"
   ]
  },
  {
   "cell_type": "code",
   "execution_count": 413,
   "id": "480efdc3-c54c-449b-8486-4d4c8e0ad624",
   "metadata": {
    "hide-output": false
   },
   "outputs": [],
   "source": [
    "ser.searchsorted([1, 3], side=\"right\")"
   ]
  },
  {
   "cell_type": "code",
   "execution_count": 413,
   "id": "ae2991dc-6e8f-437c-aea0-906ab03d74d7",
   "metadata": {
    "hide-output": false
   },
   "outputs": [],
   "source": [
    "ser.searchsorted([1, 3], side=\"left\")"
   ]
  },
  {
   "cell_type": "code",
   "execution_count": 413,
   "id": "b88e0f0d-2a02-461a-b298-fd97c884b940",
   "metadata": {
    "hide-output": false
   },
   "outputs": [],
   "source": [
    "ser = pd.Series([3, 1, 2])"
   ]
  },
  {
   "cell_type": "code",
   "execution_count": 413,
   "id": "5bc880f2-af4a-47d5-a452-c5b35ea0e43b",
   "metadata": {
    "hide-output": false
   },
   "outputs": [
    {
     "data": {
      "text/plain": [
       "array([0, 2], dtype=int64)"
      ]
     },
     "execution_count": 413,
     "metadata": {},
     "output_type": "execute_result"
    }
   ],
   "source": [
    "ser.searchsorted([0, 3], sorter=np.argsort(ser))"
   ]
  },
  {
   "cell_type": "markdown",
   "id": "f549841c",
   "metadata": {},
   "source": [
    "\n",
    "<a id='basics-nsorted'></a>"
   ]
  },
  {
   "cell_type": "markdown",
   "id": "93abef08",
   "metadata": {},
   "source": [
    "### smallest / largest values\n",
    "\n",
    "`Series` has the `nsmallest()` and `nlargest()` methods which return the\n",
    "smallest or largest $ n $ values. For a large `Series` this can be much\n",
    "faster than sorting the entire Series and calling `head(n)` on the result."
   ]
  },
  {
   "cell_type": "code",
   "execution_count": 414,
   "id": "163d817a-3d8e-4cd2-95b2-cc1513a9fe9f",
   "metadata": {
    "hide-output": false
   },
   "outputs": [],
   "source": [
    "s = pd.Series(np.random.permutation(10))\n",
    "s"
   ]
  },
  {
   "cell_type": "code",
   "execution_count": 414,
   "id": "3949b16c-26d2-4e0b-bdf2-1df1570e96b4",
   "metadata": {
    "hide-output": false
   },
   "outputs": [],
   "source": [
    "s.sort_values()"
   ]
  },
  {
   "cell_type": "code",
   "execution_count": 414,
   "id": "19359c25-04e8-4337-af88-183a204c2f88",
   "metadata": {
    "hide-output": false
   },
   "outputs": [],
   "source": [
    "s.nsmallest(3)"
   ]
  },
  {
   "cell_type": "code",
   "execution_count": 414,
   "id": "7dfefd88-70e2-42eb-ae8f-e9df5a681407",
   "metadata": {
    "hide-output": false
   },
   "outputs": [
    {
     "data": {
      "text/plain": [
       "2    9\n",
       "7    8\n",
       "9    7\n",
       "dtype: int32"
      ]
     },
     "execution_count": 414,
     "metadata": {},
     "output_type": "execute_result"
    }
   ],
   "source": [
    "s.nlargest(3)"
   ]
  },
  {
   "cell_type": "markdown",
   "id": "b59d317b",
   "metadata": {},
   "source": [
    "`DataFrame` also has the `nlargest` and `nsmallest` methods."
   ]
  },
  {
   "cell_type": "code",
   "execution_count": 415,
   "id": "de803783-7c36-4c2f-a67d-b1beab7918c6",
   "metadata": {
    "hide-output": false
   },
   "outputs": [],
   "source": [
    "df = pd.DataFrame(\n",
    "    {\n",
    "        \"a\": [-2, -1, 1, 10, 8, 11, -1],\n",
    "        \"b\": list(\"abdceff\"),\n",
    "        \"c\": [1.0, 2.0, 4.0, 3.2, np.nan, 3.0, 4.0],\n",
    "    }\n",
    ")\n",
    "df.nlargest(3, \"a\")"
   ]
  },
  {
   "cell_type": "code",
   "execution_count": 415,
   "id": "331bbc68-63a6-4363-8a41-888dc26186e8",
   "metadata": {
    "hide-output": false
   },
   "outputs": [],
   "source": [
    "df.nlargest(5, [\"a\", \"c\"])"
   ]
  },
  {
   "cell_type": "code",
   "execution_count": 415,
   "id": "6b924da0-8b76-4cab-b839-b6e879f7b9f1",
   "metadata": {
    "hide-output": false
   },
   "outputs": [],
   "source": [
    "df.nsmallest(3, \"a\")"
   ]
  },
  {
   "cell_type": "code",
   "execution_count": 415,
   "id": "fc103ee9-2710-46cc-b5d0-89ced3444b1a",
   "metadata": {
    "hide-output": false
   },
   "outputs": [
    {
     "data": {
      "text/html": [
       "<div>\n",
       "<style scoped>\n",
       "    .dataframe tbody tr th:only-of-type {\n",
       "        vertical-align: middle;\n",
       "    }\n",
       "\n",
       "    .dataframe tbody tr th {\n",
       "        vertical-align: top;\n",
       "    }\n",
       "\n",
       "    .dataframe thead th {\n",
       "        text-align: right;\n",
       "    }\n",
       "</style>\n",
       "<table border=\"1\" class=\"dataframe\">\n",
       "  <thead>\n",
       "    <tr style=\"text-align: right;\">\n",
       "      <th></th>\n",
       "      <th>a</th>\n",
       "      <th>b</th>\n",
       "      <th>c</th>\n",
       "    </tr>\n",
       "  </thead>\n",
       "  <tbody>\n",
       "    <tr>\n",
       "      <th>0</th>\n",
       "      <td>-2</td>\n",
       "      <td>a</td>\n",
       "      <td>1.0</td>\n",
       "    </tr>\n",
       "    <tr>\n",
       "      <th>1</th>\n",
       "      <td>-1</td>\n",
       "      <td>b</td>\n",
       "      <td>2.0</td>\n",
       "    </tr>\n",
       "    <tr>\n",
       "      <th>6</th>\n",
       "      <td>-1</td>\n",
       "      <td>f</td>\n",
       "      <td>4.0</td>\n",
       "    </tr>\n",
       "    <tr>\n",
       "      <th>2</th>\n",
       "      <td>1</td>\n",
       "      <td>d</td>\n",
       "      <td>4.0</td>\n",
       "    </tr>\n",
       "    <tr>\n",
       "      <th>4</th>\n",
       "      <td>8</td>\n",
       "      <td>e</td>\n",
       "      <td>NaN</td>\n",
       "    </tr>\n",
       "  </tbody>\n",
       "</table>\n",
       "</div>"
      ],
      "text/plain": [
       "   a  b    c\n",
       "0 -2  a  1.0\n",
       "1 -1  b  2.0\n",
       "6 -1  f  4.0\n",
       "2  1  d  4.0\n",
       "4  8  e  NaN"
      ]
     },
     "execution_count": 415,
     "metadata": {},
     "output_type": "execute_result"
    }
   ],
   "source": [
    "df.nsmallest(5, [\"a\", \"c\"])"
   ]
  },
  {
   "cell_type": "markdown",
   "id": "3aad288a",
   "metadata": {},
   "source": [
    "\n",
    "<a id='basics-multiindex-sorting'></a>"
   ]
  },
  {
   "cell_type": "markdown",
   "id": "7f160cce",
   "metadata": {},
   "source": [
    "### Sorting by a MultiIndex column\n",
    "\n",
    "You must be explicit about sorting when the column is a MultiIndex, and fully specify\n",
    "all levels to `by`."
   ]
  },
  {
   "cell_type": "code",
   "execution_count": 416,
   "id": "5cea06ba",
   "metadata": {
    "hide-output": false
   },
   "outputs": [
    {
     "data": {
      "text/html": [
       "<div>\n",
       "<style scoped>\n",
       "    .dataframe tbody tr th:only-of-type {\n",
       "        vertical-align: middle;\n",
       "    }\n",
       "\n",
       "    .dataframe tbody tr th {\n",
       "        vertical-align: top;\n",
       "    }\n",
       "\n",
       "    .dataframe thead tr th {\n",
       "        text-align: left;\n",
       "    }\n",
       "</style>\n",
       "<table border=\"1\" class=\"dataframe\">\n",
       "  <thead>\n",
       "    <tr>\n",
       "      <th></th>\n",
       "      <th colspan=\"2\" halign=\"left\">a</th>\n",
       "      <th>b</th>\n",
       "    </tr>\n",
       "    <tr>\n",
       "      <th></th>\n",
       "      <th>one</th>\n",
       "      <th>two</th>\n",
       "      <th>three</th>\n",
       "    </tr>\n",
       "  </thead>\n",
       "  <tbody>\n",
       "    <tr>\n",
       "      <th>0</th>\n",
       "      <td>2</td>\n",
       "      <td>1</td>\n",
       "      <td>5</td>\n",
       "    </tr>\n",
       "    <tr>\n",
       "      <th>2</th>\n",
       "      <td>1</td>\n",
       "      <td>2</td>\n",
       "      <td>3</td>\n",
       "    </tr>\n",
       "    <tr>\n",
       "      <th>1</th>\n",
       "      <td>1</td>\n",
       "      <td>3</td>\n",
       "      <td>4</td>\n",
       "    </tr>\n",
       "    <tr>\n",
       "      <th>3</th>\n",
       "      <td>1</td>\n",
       "      <td>4</td>\n",
       "      <td>2</td>\n",
       "    </tr>\n",
       "  </tbody>\n",
       "</table>\n",
       "</div>"
      ],
      "text/plain": [
       "    a         b\n",
       "  one two three\n",
       "0   2   1     5\n",
       "2   1   2     3\n",
       "1   1   3     4\n",
       "3   1   4     2"
      ]
     },
     "execution_count": 416,
     "metadata": {},
     "output_type": "execute_result"
    }
   ],
   "source": [
    "df1.columns = pd.MultiIndex.from_tuples(\n",
    "    [(\"a\", \"one\"), (\"a\", \"two\"), (\"b\", \"three\")]\n",
    ")\n",
    "df1.sort_values(by=(\"a\", \"two\"))"
   ]
  },
  {
   "cell_type": "markdown",
   "id": "1a6db7c6",
   "metadata": {},
   "source": [
    "## Copying\n",
    "\n",
    "The `copy()` method on pandas objects copies the underlying data (though not\n",
    "the axis indexes, since they are immutable) and returns a new object. Note that\n",
    "**it is seldom necessary to copy objects**. For example, there are only a\n",
    "handful of ways to alter a DataFrame *in-place*:\n",
    "\n",
    "- Inserting, deleting, or modifying a column.  \n",
    "- Assigning to the `index` or `columns` attributes.  \n",
    "- For homogeneous data, directly modifying the values via the `values`\n",
    "  attribute or advanced indexing.  \n",
    "\n",
    "\n",
    "To be clear, no pandas method has the side effect of modifying your data;\n",
    "almost every method returns a new object, leaving the original object\n",
    "untouched. If the data is modified, it is because you did so explicitly.\n",
    "\n",
    "\n",
    "<a id='basics-dtypes'></a>"
   ]
  },
  {
   "cell_type": "markdown",
   "id": "77c3dac0",
   "metadata": {},
   "source": [
    "## dtypes\n",
    "\n",
    "For the most part, pandas uses NumPy arrays and dtypes for Series or individual\n",
    "columns of a DataFrame. NumPy provides support for `float`,\n",
    "`int`, `bool`, `timedelta64[ns]` and `datetime64[ns]` (note that NumPy\n",
    "does not support timezone-aware datetimes).\n",
    "\n",
    "pandas and third-party libraries *extend* NumPy’s type system in a few places.\n",
    "This section describes the extensions pandas has made internally.\n",
    "See extending.extension-types for how to write your own extension that\n",
    "works with pandas. See [Extension data types](../ecosystem.ipynb#ecosystem-extensions) for a list of third-party\n",
    "libraries that have implemented an extension.\n",
    "\n",
    "The following table lists all of pandas extension types. For methods requiring `dtype`\n",
    "arguments, strings can be specified as indicated. See the respective\n",
    "documentation sections for more on each type.\n",
    "\n",
    "\n",
    "| Kind of Data        | Data Type                                                    | Scalar                                                       | Array                                                        | String Aliases                                | Documentation                                                |\n",
    "| :------------------ | :----------------------------------------------------------- | :----------------------------------------------------------- | :----------------------------------------------------------- | :----------------------------------------------------------- | :----------------------------------------------------------- |\n",
    "| tz-aware datetime   | [`DatetimeTZDtype`](https://pandas.pydata.org/docs/reference/api/pandas.DatetimeTZDtype.html#pandas.DatetimeTZDtype) | [`Timestamp`](https://pandas.pydata.org/docs/reference/api/pandas.Timestamp.html#pandas.Timestamp) | [`arrays.DatetimeArray`](https://pandas.pydata.org/docs/reference/api/pandas.arrays.DatetimeArray.html#pandas.arrays.DatetimeArray) | `'datetime64[ns, <tz>]'`                                     | [Time zone handling](https://pandas.pydata.org/docs/user_guide/timeseries.html#timeseries-timezone) |\n",
    "| Categorical         | [`CategoricalDtype`](https://pandas.pydata.org/docs/reference/api/pandas.CategoricalDtype.html#pandas.CategoricalDtype) | (none)                                                       | [`Categorical`](https://pandas.pydata.org/docs/reference/api/pandas.Categorical.html#pandas.Categorical) | `'category'`                                                 | [Categorical data](https://pandas.pydata.org/docs/user_guide/categorical.html#categorical) |\n",
    "| period (time spans) | [`PeriodDtype`](https://pandas.pydata.org/docs/reference/api/pandas.PeriodDtype.html#pandas.PeriodDtype) | [`Period`](https://pandas.pydata.org/docs/reference/api/pandas.Period.html#pandas.Period) | [`arrays.PeriodArray`](https://pandas.pydata.org/docs/reference/api/pandas.arrays.PeriodArray.html#pandas.arrays.PeriodArray) | `'period[<freq>]'`, `'Period[<freq>]'`                       | [Time span representation](https://pandas.pydata.org/docs/user_guide/timeseries.html#timeseries-periods) |\n",
    "| sparse              | [`SparseDtype`](https://pandas.pydata.org/docs/reference/api/pandas.SparseDtype.html#pandas.SparseDtype) | (none)                                                       | [`arrays.SparseArray`](https://pandas.pydata.org/docs/reference/api/pandas.arrays.SparseArray.html#pandas.arrays.SparseArray) | `'Sparse'`, `'Sparse[int]'`, `'Sparse[float]'`               | [Sparse data structures](https://pandas.pydata.org/docs/user_guide/sparse.html#sparse) |\n",
    "| intervals           | [`IntervalDtype`](https://pandas.pydata.org/docs/reference/api/pandas.IntervalDtype.html#pandas.IntervalDtype) | [`Interval`](https://pandas.pydata.org/docs/reference/api/pandas.Interval.html#pandas.Interval) | [`arrays.IntervalArray`](https://pandas.pydata.org/docs/reference/api/pandas.arrays.IntervalArray.html#pandas.arrays.IntervalArray) | `'interval'`, `'Interval'`, `'Interval[<numpy_dtype>]'`, `'Interval[datetime64[ns, <tz>]]'`, `'Interval[timedelta64[<freq>]]'` | [IntervalIndex](https://pandas.pydata.org/docs/user_guide/advanced.html#advanced-intervalindex) |\n",
    "| nullable integer    | [`Int64Dtype`](https://pandas.pydata.org/docs/reference/api/pandas.Int64Dtype.html#pandas.Int64Dtype), … | (none)                                                       | [`arrays.IntegerArray`](https://pandas.pydata.org/docs/reference/api/pandas.arrays.IntegerArray.html#pandas.arrays.IntegerArray) | `'Int8'`, `'Int16'`, `'Int32'`, `'Int64'`, `'UInt8'`, `'UInt16'`, `'UInt32'`, `'UInt64'` | [Nullable integer data type](https://pandas.pydata.org/docs/user_guide/integer_na.html#integer-na) |\n",
    "|                     |                                                              |                                                              |                                                              |                                                              |                                                              |\n",
    "| Strings             | [`StringDtype`](https://pandas.pydata.org/docs/reference/api/pandas.StringDtype.html#pandas.StringDtype) | [`str`](https://docs.python.org/3/library/stdtypes.html#str) | [`arrays.StringArray`](https://pandas.pydata.org/docs/reference/api/pandas.arrays.StringArray.html#pandas.arrays.StringArray) | `'string'`                                                   | [Working with text data](https://pandas.pydata.org/docs/user_guide/text.html#text) |\n",
    "| Boolean (with NA)   | [`BooleanDtype`](https://pandas.pydata.org/docs/reference/api/pandas.BooleanDtype.html#pandas.BooleanDtype) | [`bool`](https://docs.python.org/3/library/functions.html#bool) | [`arrays.BooleanArray`](https://pandas.pydata.org/docs/reference/api/pandas.arrays.BooleanArray.html#pandas.arrays.BooleanArray) | `'boolean'`                                                  | [Boolean data with missing values](https://pandas.pydata.org/docs/reference/arrays.html#api-arrays-bool) |\n",
    "\n",
    "pandas has two ways to store strings.\n",
    "\n",
    "1. `object` dtype, which can hold any Python object, including strings.  \n",
    "1. `StringDtype`, which is dedicated to strings.  \n",
    "\n",
    "\n",
    "Generally, we recommend using `StringDtype`. See text.types for more.\n",
    "\n",
    "Finally, arbitrary objects may be stored using the `object` dtype, but should\n",
    "be avoided to the extent possible (for performance and interoperability with\n",
    "other libraries and methods. See basics.object_conversion).\n",
    "\n",
    "A convenient `dtypes` attribute for DataFrame returns a Series\n",
    "with the data type of each column."
   ]
  },
  {
   "cell_type": "code",
   "execution_count": 417,
   "id": "3287b91e-d49b-4cb6-b8dd-a51e36d22b14",
   "metadata": {
    "hide-output": false
   },
   "outputs": [],
   "source": [
    "dft = pd.DataFrame(\n",
    "    {\n",
    "        \"A\": np.random.rand(3),\n",
    "        \"B\": 1,\n",
    "        \"C\": \"foo\",\n",
    "        \"D\": pd.Timestamp(\"20010102\"),\n",
    "        \"E\": pd.Series([1.0] * 3).astype(\"float32\"),\n",
    "        \"F\": False,\n",
    "        \"G\": pd.Series([1] * 3, dtype=\"int8\"),\n",
    "    }\n",
    ")\n",
    "dft"
   ]
  },
  {
   "cell_type": "code",
   "execution_count": 417,
   "id": "6ef13310-68cd-4271-b648-26b429387b48",
   "metadata": {
    "hide-output": false
   },
   "outputs": [
    {
     "data": {
      "text/plain": [
       "A           float64\n",
       "B             int64\n",
       "C            object\n",
       "D    datetime64[ns]\n",
       "E           float32\n",
       "F              bool\n",
       "G              int8\n",
       "dtype: object"
      ]
     },
     "execution_count": 417,
     "metadata": {},
     "output_type": "execute_result"
    }
   ],
   "source": [
    "dft.dtypes"
   ]
  },
  {
   "cell_type": "markdown",
   "id": "88fe9298",
   "metadata": {},
   "source": [
    "On a `Series` object, use the `dtype` attribute."
   ]
  },
  {
   "cell_type": "code",
   "execution_count": 418,
   "id": "5288d575",
   "metadata": {
    "hide-output": false
   },
   "outputs": [
    {
     "data": {
      "text/plain": [
       "dtype('float64')"
      ]
     },
     "execution_count": 418,
     "metadata": {},
     "output_type": "execute_result"
    }
   ],
   "source": [
    "dft[\"A\"].dtype"
   ]
  },
  {
   "cell_type": "markdown",
   "id": "589661dd",
   "metadata": {},
   "source": [
    "If a pandas object contains data with multiple dtypes *in a single column*, the\n",
    "dtype of the column will be chosen to accommodate all of the data types\n",
    "(`object` is the most general)."
   ]
  },
  {
   "cell_type": "code",
   "execution_count": 419,
   "id": "1caf1fa5-ee93-4b35-8b83-e8246e2e7c0b",
   "metadata": {
    "hide-output": false
   },
   "outputs": [],
   "source": [
    "# these ints are coerced to floats\n",
    "pd.Series([1, 2, 3, 4, 5, 6.0])"
   ]
  },
  {
   "cell_type": "code",
   "execution_count": 419,
   "id": "7c54cea0-ac8a-43bb-a8c4-75cad9fe1c99",
   "metadata": {
    "hide-output": false
   },
   "outputs": [
    {
     "data": {
      "text/plain": [
       "0      1\n",
       "1      2\n",
       "2      3\n",
       "3    6.0\n",
       "4    foo\n",
       "dtype: object"
      ]
     },
     "execution_count": 419,
     "metadata": {},
     "output_type": "execute_result"
    }
   ],
   "source": [
    "# string data forces an ``object`` dtype\n",
    "pd.Series([1, 2, 3, 6.0, \"foo\"])"
   ]
  },
  {
   "cell_type": "markdown",
   "id": "df70c9f0",
   "metadata": {},
   "source": [
    "The number of columns of each type in a `DataFrame` can be found by calling\n",
    "`DataFrame.dtypes.value_counts()`."
   ]
  },
  {
   "cell_type": "code",
   "execution_count": 420,
   "id": "8976e254",
   "metadata": {
    "hide-output": false
   },
   "outputs": [
    {
     "data": {
      "text/plain": [
       "int64             1\n",
       "bool              1\n",
       "float32           1\n",
       "float64           1\n",
       "int8              1\n",
       "datetime64[ns]    1\n",
       "object            1\n",
       "dtype: int64"
      ]
     },
     "execution_count": 420,
     "metadata": {},
     "output_type": "execute_result"
    }
   ],
   "source": [
    "dft.dtypes.value_counts()"
   ]
  },
  {
   "cell_type": "markdown",
   "id": "e69042b7",
   "metadata": {},
   "source": [
    "Numeric dtypes will propagate and can coexist in DataFrames.\n",
    "If a dtype is passed (either directly via the `dtype` keyword, a passed `ndarray`,\n",
    "or a passed `Series`), then it will be preserved in DataFrame operations. Furthermore,\n",
    "different numeric dtypes will **NOT** be combined. The following example will give you a taste."
   ]
  },
  {
   "cell_type": "code",
   "execution_count": 421,
   "id": "e25f4415-f617-4c9f-84bf-9bce13c5711f",
   "metadata": {
    "hide-output": false
   },
   "outputs": [],
   "source": [
    "df1 = pd.DataFrame(np.random.randn(8, 1), columns=[\"A\"], dtype=\"float32\")\n",
    "df1"
   ]
  },
  {
   "cell_type": "code",
   "execution_count": 421,
   "id": "271818ab-d3fe-4293-96b6-bd6df2c320d2",
   "metadata": {
    "hide-output": false
   },
   "outputs": [],
   "source": [
    "df1.dtypes"
   ]
  },
  {
   "cell_type": "code",
   "execution_count": 421,
   "id": "83c22d6f-b21a-45c8-be00-019bf6be6197",
   "metadata": {
    "hide-output": false
   },
   "outputs": [],
   "source": [
    "df2 = pd.DataFrame(\n",
    "    {\n",
    "        \"A\": pd.Series(np.random.randn(8), dtype=\"float16\"),\n",
    "        \"B\": pd.Series(np.random.randn(8)),\n",
    "        \"C\": pd.Series(np.array(np.random.randn(8), dtype=\"uint8\")),\n",
    "    }\n",
    ")\n",
    "df2"
   ]
  },
  {
   "cell_type": "code",
   "execution_count": 421,
   "id": "2adf4f0e-ea6f-4661-9dbe-4d856805a8e2",
   "metadata": {
    "hide-output": false
   },
   "outputs": [
    {
     "data": {
      "text/plain": [
       "A    float16\n",
       "B    float64\n",
       "C      uint8\n",
       "dtype: object"
      ]
     },
     "execution_count": 421,
     "metadata": {},
     "output_type": "execute_result"
    }
   ],
   "source": [
    "df2.dtypes"
   ]
  },
  {
   "cell_type": "markdown",
   "id": "7c85b3b7",
   "metadata": {},
   "source": [
    "### defaults\n",
    "\n",
    "By default integer types are `int64` and float types are `float64`,\n",
    "*regardless* of platform (32-bit or 64-bit).\n",
    "The following will all result in `int64` dtypes."
   ]
  },
  {
   "cell_type": "code",
   "execution_count": 422,
   "id": "67c0deb1-30b8-431a-944b-cb0b7095af97",
   "metadata": {
    "hide-output": false
   },
   "outputs": [],
   "source": [
    "pd.DataFrame([1, 2], columns=[\"a\"]).dtypes"
   ]
  },
  {
   "cell_type": "code",
   "execution_count": 422,
   "id": "c0b35235-c1fc-41aa-a7dd-204a12672a92",
   "metadata": {
    "hide-output": false
   },
   "outputs": [],
   "source": [
    "pd.DataFrame({\"a\": [1, 2]}).dtypes"
   ]
  },
  {
   "cell_type": "code",
   "execution_count": 422,
   "id": "8e032008-2cae-424f-ac44-ac73e888f29f",
   "metadata": {
    "hide-output": false
   },
   "outputs": [
    {
     "data": {
      "text/plain": [
       "a    int64\n",
       "dtype: object"
      ]
     },
     "execution_count": 422,
     "metadata": {},
     "output_type": "execute_result"
    }
   ],
   "source": [
    "pd.DataFrame({\"a\": 1}, index=list(range(2))).dtypes"
   ]
  },
  {
   "cell_type": "markdown",
   "id": "8043bedb",
   "metadata": {},
   "source": [
    "Note that Numpy will choose *platform-dependent* types when creating arrays.\n",
    "The following **WILL** result in `int32` on 32-bit platform."
   ]
  },
  {
   "cell_type": "code",
   "execution_count": 423,
   "id": "ee0408e9",
   "metadata": {
    "hide-output": false
   },
   "outputs": [],
   "source": [
    "frame = pd.DataFrame(np.array([1, 2]))"
   ]
  },
  {
   "cell_type": "markdown",
   "id": "a3716a6e",
   "metadata": {},
   "source": [
    "### upcasting\n",
    "\n",
    "Types can potentially be *upcasted* when combined with other types, meaning they are promoted\n",
    "from the current type (e.g. `int` to `float`)."
   ]
  },
  {
   "cell_type": "code",
   "execution_count": 424,
   "id": "3bba9209-48e5-471e-9149-3c42d3ba5d16",
   "metadata": {
    "hide-output": false
   },
   "outputs": [],
   "source": [
    "df3 = df1.reindex_like(df2).fillna(value=0.0) + df2\n",
    "df3"
   ]
  },
  {
   "cell_type": "code",
   "execution_count": 424,
   "id": "945d3d58-d795-445b-a0ab-74194f98ccf8",
   "metadata": {
    "hide-output": false
   },
   "outputs": [
    {
     "data": {
      "text/plain": [
       "A    float32\n",
       "B    float64\n",
       "C    float64\n",
       "dtype: object"
      ]
     },
     "execution_count": 424,
     "metadata": {},
     "output_type": "execute_result"
    }
   ],
   "source": [
    "df3.dtypes"
   ]
  },
  {
   "cell_type": "markdown",
   "id": "e806945b",
   "metadata": {},
   "source": [
    "`DataFrame.to_numpy()` will return the *lower-common-denominator* of the dtypes, meaning\n",
    "the dtype that can accommodate **ALL** of the types in the resulting homogeneous dtyped NumPy array. This can\n",
    "force some *upcasting*."
   ]
  },
  {
   "cell_type": "code",
   "execution_count": 425,
   "id": "b4ee9998",
   "metadata": {
    "hide-output": false
   },
   "outputs": [
    {
     "data": {
      "text/plain": [
       "dtype('float64')"
      ]
     },
     "execution_count": 425,
     "metadata": {},
     "output_type": "execute_result"
    }
   ],
   "source": [
    "df3.to_numpy().dtype"
   ]
  },
  {
   "cell_type": "markdown",
   "id": "0b7b7405",
   "metadata": {},
   "source": [
    "### astype\n",
    "\n",
    "\n",
    "<a id='basics-cast'></a>\n",
    "You can use the `astype()` method to explicitly convert dtypes from one to another. These will by default return a copy,\n",
    "even if the dtype was unchanged (pass `copy=False` to change this behavior). In addition, they will raise an\n",
    "exception if the astype operation is invalid.\n",
    "\n",
    "Upcasting is always according to the **NumPy** rules. If two different dtypes are involved in an operation,\n",
    "then the more *general* one will be used as the result of the operation."
   ]
  },
  {
   "cell_type": "code",
   "execution_count": 426,
   "id": "441b52e7-580c-4a93-acda-2c427273b3e6",
   "metadata": {
    "hide-output": false
   },
   "outputs": [],
   "source": [
    "df3"
   ]
  },
  {
   "cell_type": "code",
   "execution_count": 426,
   "id": "c1d652fc-7a97-44f4-b65c-9e4c724d4347",
   "metadata": {
    "hide-output": false
   },
   "outputs": [],
   "source": [
    "df3.dtypes"
   ]
  },
  {
   "cell_type": "code",
   "execution_count": 426,
   "id": "b630e34e-3be1-44f9-8e5b-5ccaa7aee9c1",
   "metadata": {
    "hide-output": false
   },
   "outputs": [
    {
     "data": {
      "text/plain": [
       "A    float32\n",
       "B    float32\n",
       "C    float32\n",
       "dtype: object"
      ]
     },
     "execution_count": 426,
     "metadata": {},
     "output_type": "execute_result"
    }
   ],
   "source": [
    "# conversion of dtypes\n",
    "df3.astype(\"float32\").dtypes"
   ]
  },
  {
   "cell_type": "markdown",
   "id": "17a4f9ab",
   "metadata": {},
   "source": [
    "Convert a subset of columns to a specified type using `astype()`."
   ]
  },
  {
   "cell_type": "code",
   "execution_count": 427,
   "id": "7538af66-735e-45b0-b9d7-aa3c798e8f40",
   "metadata": {
    "hide-output": false
   },
   "outputs": [],
   "source": [
    "dft = pd.DataFrame({\"a\": [1, 2, 3], \"b\": [4, 5, 6], \"c\": [7, 8, 9]})\n",
    "dft[[\"a\", \"b\"]] = dft[[\"a\", \"b\"]].astype(np.uint8)\n",
    "dft"
   ]
  },
  {
   "cell_type": "code",
   "execution_count": 427,
   "id": "83f2d385-0da9-4d34-a57e-4aba96b218f3",
   "metadata": {
    "hide-output": false
   },
   "outputs": [
    {
     "data": {
      "text/plain": [
       "a    uint8\n",
       "b    uint8\n",
       "c    int64\n",
       "dtype: object"
      ]
     },
     "execution_count": 427,
     "metadata": {},
     "output_type": "execute_result"
    }
   ],
   "source": [
    "dft.dtypes"
   ]
  },
  {
   "cell_type": "markdown",
   "id": "65b07770",
   "metadata": {},
   "source": [
    "Convert certain columns to a specific dtype by passing a dict to `astype()`."
   ]
  },
  {
   "cell_type": "code",
   "execution_count": 428,
   "id": "a1647245-6ea7-40cb-923d-3501714a0efd",
   "metadata": {
    "hide-output": false
   },
   "outputs": [],
   "source": [
    "dft1 = pd.DataFrame({\"a\": [1, 0, 1], \"b\": [4, 5, 6], \"c\": [7, 8, 9]})\n",
    "dft1 = dft1.astype({\"a\": np.bool_, \"c\": np.float64})\n",
    "dft1"
   ]
  },
  {
   "cell_type": "code",
   "execution_count": 428,
   "id": "a9decbf4-0481-457b-87b1-87cdb62146c5",
   "metadata": {
    "hide-output": false
   },
   "outputs": [
    {
     "data": {
      "text/plain": [
       "a       bool\n",
       "b      int64\n",
       "c    float64\n",
       "dtype: object"
      ]
     },
     "execution_count": 428,
     "metadata": {},
     "output_type": "execute_result"
    }
   ],
   "source": [
    "dft1.dtypes"
   ]
  },
  {
   "cell_type": "markdown",
   "id": "5396f311",
   "metadata": {},
   "source": [
    ">**Note**\n",
    ">\n",
    ">When trying to convert a subset of columns to a specified type using `astype()`  and `loc()`, upcasting occurs.\n",
    "\n",
    "`loc()` tries to fit in what we are assigning to the current dtypes, while `[]` will overwrite them taking the dtype from the right hand side. Therefore the following piece of code produces the unintended result."
   ]
  },
  {
   "cell_type": "code",
   "execution_count": 429,
   "id": "51d6869a-5e27-4129-a81c-e51053344ac3",
   "metadata": {
    "hide-output": false
   },
   "outputs": [],
   "source": [
    "dft = pd.DataFrame({\"a\": [1, 2, 3], \"b\": [4, 5, 6], \"c\": [7, 8, 9]})\n",
    "dft.loc[:, [\"a\", \"b\"]].astype(np.uint8).dtypes"
   ]
  },
  {
   "cell_type": "code",
   "execution_count": 429,
   "id": "4cf7cc2e-da09-4021-a62b-1010616efc7c",
   "metadata": {
    "hide-output": false
   },
   "outputs": [],
   "source": [
    "dft.loc[:, [\"a\", \"b\"]] = dft.loc[:, [\"a\", \"b\"]].astype(np.uint8)"
   ]
  },
  {
   "cell_type": "code",
   "execution_count": 429,
   "id": "8f0e81c4-4eda-4048-90f1-69948ca173e6",
   "metadata": {
    "hide-output": false
   },
   "outputs": [
    {
     "data": {
      "text/plain": [
       "a    int64\n",
       "b    int64\n",
       "c    int64\n",
       "dtype: object"
      ]
     },
     "execution_count": 429,
     "metadata": {},
     "output_type": "execute_result"
    }
   ],
   "source": [
    "dft.dtypes"
   ]
  },
  {
   "cell_type": "markdown",
   "id": "ce5557f2",
   "metadata": {},
   "source": [
    "\n",
    "<a id='basics-object-conversion'></a>"
   ]
  },
  {
   "cell_type": "markdown",
   "id": "8bfc941b",
   "metadata": {},
   "source": [
    "### object conversion\n",
    "\n",
    "pandas offers various functions to try to force conversion of types from the `object` dtype to other types.\n",
    "In cases where the data is already of the correct type, but stored in an `object` array, the\n",
    "`DataFrame.infer_objects()` and `Series.infer_objects()` methods can be used to soft convert\n",
    "to the correct type.\n",
    "\n",
    "> "
   ]
  },
  {
   "cell_type": "code",
   "execution_count": 430,
   "id": "e981ea06-aab2-46e4-b49b-111444381bb2",
   "metadata": {
    "hide-output": false
   },
   "outputs": [],
   "source": [
    "import datetime\n",
    "\n",
    "df = pd.DataFrame(\n",
    "    [\n",
    "        [1, 2],\n",
    "        [\"a\", \"b\"],\n",
    "        [datetime.datetime(2016, 3, 2), datetime.datetime(2016, 3, 2)],\n",
    "    ]\n",
    ")\n",
    "df = df.T\n",
    "df"
   ]
  },
  {
   "cell_type": "code",
   "execution_count": 430,
   "id": "e32e147e-76b5-420f-b996-82ca0129e405",
   "metadata": {
    "hide-output": false
   },
   "outputs": [
    {
     "data": {
      "text/plain": [
       "0            object\n",
       "1            object\n",
       "2    datetime64[ns]\n",
       "dtype: object"
      ]
     },
     "execution_count": 430,
     "metadata": {},
     "output_type": "execute_result"
    }
   ],
   "source": [
    "df.dtypes"
   ]
  },
  {
   "cell_type": "markdown",
   "id": "68d794ae",
   "metadata": {},
   "source": [
    "\n",
    "Because the data was transposed the original inference stored all columns as object, which\n",
    "`infer_objects` will correct.\n",
    "\n",
    "> "
   ]
  },
  {
   "cell_type": "code",
   "execution_count": 431,
   "id": "1a573a10",
   "metadata": {
    "hide-output": false
   },
   "outputs": [
    {
     "data": {
      "text/plain": [
       "0             int64\n",
       "1            object\n",
       "2    datetime64[ns]\n",
       "dtype: object"
      ]
     },
     "execution_count": 431,
     "metadata": {},
     "output_type": "execute_result"
    }
   ],
   "source": [
    "df.infer_objects().dtypes"
   ]
  },
  {
   "cell_type": "markdown",
   "id": "822b608a",
   "metadata": {},
   "source": [
    "\n",
    "The following functions are available for one dimensional object arrays or scalars to perform\n",
    "hard conversion of objects to a specified type:\n",
    "\n",
    "- `to_numeric()` (conversion to numeric dtypes)  "
   ]
  },
  {
   "cell_type": "code",
   "execution_count": 432,
   "id": "c7fe0940",
   "metadata": {
    "hide-output": false
   },
   "outputs": [
    {
     "data": {
      "text/plain": [
       "array([1.1, 2. , 3. ])"
      ]
     },
     "execution_count": 432,
     "metadata": {},
     "output_type": "execute_result"
    }
   ],
   "source": [
    "m = [\"1.1\", 2, 3]\n",
    "pd.to_numeric(m)"
   ]
  },
  {
   "cell_type": "markdown",
   "id": "5d7cbe54",
   "metadata": {},
   "source": [
    "- `to_datetime()` (conversion to datetime objects)  "
   ]
  },
  {
   "cell_type": "code",
   "execution_count": 433,
   "id": "8c0acfe3",
   "metadata": {
    "hide-output": false
   },
   "outputs": [
    {
     "data": {
      "text/plain": [
       "DatetimeIndex(['2016-07-09', '2016-03-02'], dtype='datetime64[ns]', freq=None)"
      ]
     },
     "execution_count": 433,
     "metadata": {},
     "output_type": "execute_result"
    }
   ],
   "source": [
    "import datetime\n",
    "\n",
    "m = [\"2016-07-09\", datetime.datetime(2016, 3, 2)]\n",
    "pd.to_datetime(m)"
   ]
  },
  {
   "cell_type": "markdown",
   "id": "9b125b46",
   "metadata": {},
   "source": [
    "- `to_timedelta()` (conversion to timedelta objects)  "
   ]
  },
  {
   "cell_type": "code",
   "execution_count": 434,
   "id": "1b19f15a",
   "metadata": {
    "hide-output": false
   },
   "outputs": [
    {
     "data": {
      "text/plain": [
       "TimedeltaIndex(['0 days 00:00:00.000005', '1 days 00:00:00'], dtype='timedelta64[ns]', freq=None)"
      ]
     },
     "execution_count": 434,
     "metadata": {},
     "output_type": "execute_result"
    }
   ],
   "source": [
    "m = [\"5us\", pd.Timedelta(\"1day\")]\n",
    "pd.to_timedelta(m)"
   ]
  },
  {
   "cell_type": "markdown",
   "id": "695a52ec",
   "metadata": {},
   "source": [
    "\n",
    "\n",
    "To force a conversion, we can pass in an `errors` argument, which specifies how pandas should deal with elements\n",
    "that cannot be converted to desired dtype or object. By default, `errors='raise'`, meaning that any errors encountered\n",
    "will be raised during the conversion process. However, if `errors='coerce'`, these errors will be ignored and pandas\n",
    "will convert problematic elements to `pd.NaT` (for datetime and timedelta) or `np.nan` (for numeric). This might be\n",
    "useful if you are reading in data which is mostly of the desired dtype (e.g. numeric, datetime), but occasionally has\n",
    "non-conforming elements intermixed that you want to represent as missing:"
   ]
  },
  {
   "cell_type": "code",
   "execution_count": 435,
   "id": "1b5e28e3-af92-426a-ae95-cba9f80e7baa",
   "metadata": {
    "hide-output": false
   },
   "outputs": [],
   "source": [
    "import datetime\n",
    "\n",
    "m = [\"apple\", datetime.datetime(2016, 3, 2)]\n",
    "pd.to_datetime(m, errors=\"coerce\")"
   ]
  },
  {
   "cell_type": "code",
   "execution_count": 435,
   "id": "0b62f741-3bec-47e5-8990-c358a81a5e79",
   "metadata": {
    "hide-output": false
   },
   "outputs": [],
   "source": [
    "m = [\"apple\", 2, 3]\n",
    "pd.to_numeric(m, errors=\"coerce\")"
   ]
  },
  {
   "cell_type": "code",
   "execution_count": 435,
   "id": "ff084747-82e2-4c15-82e0-67f6feeba2a7",
   "metadata": {
    "hide-output": false
   },
   "outputs": [
    {
     "data": {
      "text/plain": [
       "TimedeltaIndex([NaT, '1 days'], dtype='timedelta64[ns]', freq=None)"
      ]
     },
     "execution_count": 435,
     "metadata": {},
     "output_type": "execute_result"
    }
   ],
   "source": [
    "m = [\"apple\", pd.Timedelta(\"1day\")]\n",
    "pd.to_timedelta(m, errors=\"coerce\")"
   ]
  },
  {
   "cell_type": "markdown",
   "id": "c5adebc9",
   "metadata": {},
   "source": [
    "The `errors` parameter has a third option of `errors='ignore'`, which will simply return the passed in data if it\n",
    "encounters any errors with the conversion to a desired data type:"
   ]
  },
  {
   "cell_type": "code",
   "execution_count": 436,
   "id": "c06f1e32-9a85-474f-ba06-33c8b4adb0c0",
   "metadata": {
    "hide-output": false
   },
   "outputs": [],
   "source": [
    "import datetime\n",
    "\n",
    "m = [\"apple\", datetime.datetime(2016, 3, 2)]\n",
    "pd.to_datetime(m, errors=\"ignore\")"
   ]
  },
  {
   "cell_type": "code",
   "execution_count": 436,
   "id": "4f2a15e8-b61e-4d98-ae1f-d0bdbd044d97",
   "metadata": {
    "hide-output": false
   },
   "outputs": [],
   "source": [
    "m = [\"apple\", 2, 3]\n",
    "pd.to_numeric(m, errors=\"ignore\")"
   ]
  },
  {
   "cell_type": "code",
   "execution_count": 436,
   "id": "64b8f52d-6ee7-46b6-86bd-998b8e37f9c3",
   "metadata": {
    "hide-output": false
   },
   "outputs": [
    {
     "data": {
      "text/plain": [
       "array(['apple', Timedelta('1 days 00:00:00')], dtype=object)"
      ]
     },
     "execution_count": 436,
     "metadata": {},
     "output_type": "execute_result"
    }
   ],
   "source": [
    "m = [\"apple\", pd.Timedelta(\"1day\")]\n",
    "pd.to_timedelta(m, errors=\"ignore\")"
   ]
  },
  {
   "cell_type": "markdown",
   "id": "fde5769b",
   "metadata": {},
   "source": [
    "In addition to object conversion, `to_numeric()` provides another argument `downcast`, which gives the\n",
    "option of downcasting the newly (or already) numeric data to a smaller dtype, which can conserve memory:"
   ]
  },
  {
   "cell_type": "code",
   "execution_count": 480,
   "id": "5bca5286-cca6-4ee0-ae0a-2dcc49508e99",
   "metadata": {
    "hide-output": false
   },
   "outputs": [
    {
     "data": {
      "text/plain": [
       "array([    1,     2, 32768], dtype=int32)"
      ]
     },
     "execution_count": 480,
     "metadata": {},
     "output_type": "execute_result"
    }
   ],
   "source": [
    "m = [\"1\", 2, 32768]\n",
    "pd.to_numeric(m, downcast=\"integer\")  # smallest signed int dtype"
   ]
  },
  {
   "cell_type": "code",
   "execution_count": 479,
   "id": "86eec6b7-d876-43ad-95d0-0e2224c46477",
   "metadata": {
    "hide-output": false
   },
   "outputs": [
    {
     "data": {
      "text/plain": [
       "array([    1,     2, 32767], dtype=int16)"
      ]
     },
     "execution_count": 479,
     "metadata": {},
     "output_type": "execute_result"
    }
   ],
   "source": [
    "m = [\"1\", 2, 32767]\n",
    "pd.to_numeric(m, downcast=\"signed\")  # same as 'integer'"
   ]
  },
  {
   "cell_type": "code",
   "execution_count": 485,
   "id": "bbc32ad2-63a0-4215-9ae4-458c8650422e",
   "metadata": {
    "hide-output": false
   },
   "outputs": [
    {
     "data": {
      "text/plain": [
       "array([    1,     2, 65535], dtype=uint16)"
      ]
     },
     "execution_count": 485,
     "metadata": {},
     "output_type": "execute_result"
    }
   ],
   "source": [
    "m = [\"1\", 2, 65535]\n",
    "pd.to_numeric(m, downcast=\"unsigned\")  # smallest unsigned int dtype"
   ]
  },
  {
   "cell_type": "code",
   "execution_count": 486,
   "id": "24f2e0d3-c731-4ec1-b73c-fc40898025ef",
   "metadata": {
    "hide-output": false
   },
   "outputs": [
    {
     "data": {
      "text/plain": [
       "array([1.0000e+00, 2.0000e+00, 6.5535e+04], dtype=float32)"
      ]
     },
     "execution_count": 486,
     "metadata": {},
     "output_type": "execute_result"
    }
   ],
   "source": [
    "pd.to_numeric(m, downcast=\"float\")  # smallest float dtype"
   ]
  },
  {
   "cell_type": "markdown",
   "id": "d5799bcd",
   "metadata": {},
   "source": [
    "As these methods apply only to one-dimensional arrays, lists or scalars; they cannot be used directly on multi-dimensional objects such\n",
    "as DataFrames. However, with `apply()`, we can “apply” the function over each column efficiently:"
   ]
  },
  {
   "cell_type": "code",
   "execution_count": 487,
   "id": "742aaa96-6dac-4208-92f5-94875ed48262",
   "metadata": {
    "hide-output": false
   },
   "outputs": [
    {
     "data": {
      "text/html": [
       "<div>\n",
       "<style scoped>\n",
       "    .dataframe tbody tr th:only-of-type {\n",
       "        vertical-align: middle;\n",
       "    }\n",
       "\n",
       "    .dataframe tbody tr th {\n",
       "        vertical-align: top;\n",
       "    }\n",
       "\n",
       "    .dataframe thead th {\n",
       "        text-align: right;\n",
       "    }\n",
       "</style>\n",
       "<table border=\"1\" class=\"dataframe\">\n",
       "  <thead>\n",
       "    <tr style=\"text-align: right;\">\n",
       "      <th></th>\n",
       "      <th>0</th>\n",
       "      <th>1</th>\n",
       "    </tr>\n",
       "  </thead>\n",
       "  <tbody>\n",
       "    <tr>\n",
       "      <th>0</th>\n",
       "      <td>2016-07-09</td>\n",
       "      <td>2016-03-02 00:00:00</td>\n",
       "    </tr>\n",
       "    <tr>\n",
       "      <th>1</th>\n",
       "      <td>2016-07-09</td>\n",
       "      <td>2016-03-02 00:00:00</td>\n",
       "    </tr>\n",
       "  </tbody>\n",
       "</table>\n",
       "</div>"
      ],
      "text/plain": [
       "            0                    1\n",
       "0  2016-07-09  2016-03-02 00:00:00\n",
       "1  2016-07-09  2016-03-02 00:00:00"
      ]
     },
     "execution_count": 487,
     "metadata": {},
     "output_type": "execute_result"
    }
   ],
   "source": [
    "import datetime\n",
    "df = pd.DataFrame([[\"2016-07-09\", datetime.datetime(2016, 3, 2)]] * 2, dtype=\"O\")\n",
    "df"
   ]
  },
  {
   "cell_type": "code",
   "execution_count": 488,
   "id": "e50eb7ea-8b02-4cac-b848-e3a217676663",
   "metadata": {
    "hide-output": false
   },
   "outputs": [
    {
     "data": {
      "text/html": [
       "<div>\n",
       "<style scoped>\n",
       "    .dataframe tbody tr th:only-of-type {\n",
       "        vertical-align: middle;\n",
       "    }\n",
       "\n",
       "    .dataframe tbody tr th {\n",
       "        vertical-align: top;\n",
       "    }\n",
       "\n",
       "    .dataframe thead th {\n",
       "        text-align: right;\n",
       "    }\n",
       "</style>\n",
       "<table border=\"1\" class=\"dataframe\">\n",
       "  <thead>\n",
       "    <tr style=\"text-align: right;\">\n",
       "      <th></th>\n",
       "      <th>0</th>\n",
       "      <th>1</th>\n",
       "    </tr>\n",
       "  </thead>\n",
       "  <tbody>\n",
       "    <tr>\n",
       "      <th>0</th>\n",
       "      <td>2016-07-09</td>\n",
       "      <td>2016-03-02</td>\n",
       "    </tr>\n",
       "    <tr>\n",
       "      <th>1</th>\n",
       "      <td>2016-07-09</td>\n",
       "      <td>2016-03-02</td>\n",
       "    </tr>\n",
       "  </tbody>\n",
       "</table>\n",
       "</div>"
      ],
      "text/plain": [
       "           0          1\n",
       "0 2016-07-09 2016-03-02\n",
       "1 2016-07-09 2016-03-02"
      ]
     },
     "execution_count": 488,
     "metadata": {},
     "output_type": "execute_result"
    }
   ],
   "source": [
    "df.apply(pd.to_datetime)"
   ]
  },
  {
   "cell_type": "code",
   "execution_count": 489,
   "id": "e5af7f5a-b286-41e4-841f-5e8202da5b1e",
   "metadata": {
    "hide-output": false
   },
   "outputs": [
    {
     "data": {
      "text/html": [
       "<div>\n",
       "<style scoped>\n",
       "    .dataframe tbody tr th:only-of-type {\n",
       "        vertical-align: middle;\n",
       "    }\n",
       "\n",
       "    .dataframe tbody tr th {\n",
       "        vertical-align: top;\n",
       "    }\n",
       "\n",
       "    .dataframe thead th {\n",
       "        text-align: right;\n",
       "    }\n",
       "</style>\n",
       "<table border=\"1\" class=\"dataframe\">\n",
       "  <thead>\n",
       "    <tr style=\"text-align: right;\">\n",
       "      <th></th>\n",
       "      <th>0</th>\n",
       "      <th>1</th>\n",
       "      <th>2</th>\n",
       "    </tr>\n",
       "  </thead>\n",
       "  <tbody>\n",
       "    <tr>\n",
       "      <th>0</th>\n",
       "      <td>1.1</td>\n",
       "      <td>2</td>\n",
       "      <td>3</td>\n",
       "    </tr>\n",
       "    <tr>\n",
       "      <th>1</th>\n",
       "      <td>1.1</td>\n",
       "      <td>2</td>\n",
       "      <td>3</td>\n",
       "    </tr>\n",
       "  </tbody>\n",
       "</table>\n",
       "</div>"
      ],
      "text/plain": [
       "     0  1  2\n",
       "0  1.1  2  3\n",
       "1  1.1  2  3"
      ]
     },
     "execution_count": 489,
     "metadata": {},
     "output_type": "execute_result"
    }
   ],
   "source": [
    "df = pd.DataFrame([[\"1.1\", 2, 3]] * 2, dtype=\"O\")\n",
    "df"
   ]
  },
  {
   "cell_type": "code",
   "execution_count": 490,
   "id": "07d4899b-a0b0-4171-b901-a2ed79434bb4",
   "metadata": {
    "hide-output": false
   },
   "outputs": [
    {
     "data": {
      "text/html": [
       "<div>\n",
       "<style scoped>\n",
       "    .dataframe tbody tr th:only-of-type {\n",
       "        vertical-align: middle;\n",
       "    }\n",
       "\n",
       "    .dataframe tbody tr th {\n",
       "        vertical-align: top;\n",
       "    }\n",
       "\n",
       "    .dataframe thead th {\n",
       "        text-align: right;\n",
       "    }\n",
       "</style>\n",
       "<table border=\"1\" class=\"dataframe\">\n",
       "  <thead>\n",
       "    <tr style=\"text-align: right;\">\n",
       "      <th></th>\n",
       "      <th>0</th>\n",
       "      <th>1</th>\n",
       "      <th>2</th>\n",
       "    </tr>\n",
       "  </thead>\n",
       "  <tbody>\n",
       "    <tr>\n",
       "      <th>0</th>\n",
       "      <td>1.1</td>\n",
       "      <td>2</td>\n",
       "      <td>3</td>\n",
       "    </tr>\n",
       "    <tr>\n",
       "      <th>1</th>\n",
       "      <td>1.1</td>\n",
       "      <td>2</td>\n",
       "      <td>3</td>\n",
       "    </tr>\n",
       "  </tbody>\n",
       "</table>\n",
       "</div>"
      ],
      "text/plain": [
       "     0  1  2\n",
       "0  1.1  2  3\n",
       "1  1.1  2  3"
      ]
     },
     "execution_count": 490,
     "metadata": {},
     "output_type": "execute_result"
    }
   ],
   "source": [
    "df.apply(pd.to_numeric)"
   ]
  },
  {
   "cell_type": "code",
   "execution_count": 491,
   "id": "88c4d55d-4c41-4454-8db1-108fc1a7139c",
   "metadata": {
    "hide-output": false
   },
   "outputs": [
    {
     "data": {
      "text/html": [
       "<div>\n",
       "<style scoped>\n",
       "    .dataframe tbody tr th:only-of-type {\n",
       "        vertical-align: middle;\n",
       "    }\n",
       "\n",
       "    .dataframe tbody tr th {\n",
       "        vertical-align: top;\n",
       "    }\n",
       "\n",
       "    .dataframe thead th {\n",
       "        text-align: right;\n",
       "    }\n",
       "</style>\n",
       "<table border=\"1\" class=\"dataframe\">\n",
       "  <thead>\n",
       "    <tr style=\"text-align: right;\">\n",
       "      <th></th>\n",
       "      <th>0</th>\n",
       "      <th>1</th>\n",
       "    </tr>\n",
       "  </thead>\n",
       "  <tbody>\n",
       "    <tr>\n",
       "      <th>0</th>\n",
       "      <td>5us</td>\n",
       "      <td>1 days 00:00:00</td>\n",
       "    </tr>\n",
       "    <tr>\n",
       "      <th>1</th>\n",
       "      <td>5us</td>\n",
       "      <td>1 days 00:00:00</td>\n",
       "    </tr>\n",
       "  </tbody>\n",
       "</table>\n",
       "</div>"
      ],
      "text/plain": [
       "     0                1\n",
       "0  5us  1 days 00:00:00\n",
       "1  5us  1 days 00:00:00"
      ]
     },
     "execution_count": 491,
     "metadata": {},
     "output_type": "execute_result"
    }
   ],
   "source": [
    "df = pd.DataFrame([[\"5us\", pd.Timedelta(\"1day\")]] * 2, dtype=\"O\")\n",
    "df"
   ]
  },
  {
   "cell_type": "code",
   "execution_count": 492,
   "id": "41d11c59-1243-477a-ac4e-1efa4497a588",
   "metadata": {
    "hide-output": false
   },
   "outputs": [
    {
     "data": {
      "text/html": [
       "<div>\n",
       "<style scoped>\n",
       "    .dataframe tbody tr th:only-of-type {\n",
       "        vertical-align: middle;\n",
       "    }\n",
       "\n",
       "    .dataframe tbody tr th {\n",
       "        vertical-align: top;\n",
       "    }\n",
       "\n",
       "    .dataframe thead th {\n",
       "        text-align: right;\n",
       "    }\n",
       "</style>\n",
       "<table border=\"1\" class=\"dataframe\">\n",
       "  <thead>\n",
       "    <tr style=\"text-align: right;\">\n",
       "      <th></th>\n",
       "      <th>0</th>\n",
       "      <th>1</th>\n",
       "    </tr>\n",
       "  </thead>\n",
       "  <tbody>\n",
       "    <tr>\n",
       "      <th>0</th>\n",
       "      <td>0 days 00:00:00.000005</td>\n",
       "      <td>1 days</td>\n",
       "    </tr>\n",
       "    <tr>\n",
       "      <th>1</th>\n",
       "      <td>0 days 00:00:00.000005</td>\n",
       "      <td>1 days</td>\n",
       "    </tr>\n",
       "  </tbody>\n",
       "</table>\n",
       "</div>"
      ],
      "text/plain": [
       "                       0      1\n",
       "0 0 days 00:00:00.000005 1 days\n",
       "1 0 days 00:00:00.000005 1 days"
      ]
     },
     "execution_count": 492,
     "metadata": {},
     "output_type": "execute_result"
    }
   ],
   "source": [
    "df.apply(pd.to_timedelta)"
   ]
  },
  {
   "cell_type": "markdown",
   "id": "60e08128",
   "metadata": {},
   "source": [
    "### gotchas\n",
    "\n",
    "Performing selection operations on `integer` type data can easily upcast the data to `floating`.\n",
    "The dtype of the input data will be preserved in cases where `nans` are not introduced.\n",
    "See also [Support for integer NA](43_FAQ_gotchas.ipynb#gotchas-intna)."
   ]
  },
  {
   "cell_type": "code",
   "execution_count": 439,
   "id": "682e017b-7370-4651-9be4-70b298e19268",
   "metadata": {
    "hide-output": false
   },
   "outputs": [],
   "source": [
    "dfi = df3.astype(\"int32\")\n",
    "dfi[\"E\"] = 1\n",
    "dfi"
   ]
  },
  {
   "cell_type": "code",
   "execution_count": 439,
   "id": "a74415d7-c1ba-4b93-a464-12d00719be30",
   "metadata": {
    "hide-output": false
   },
   "outputs": [],
   "source": [
    "dfi.dtypes"
   ]
  },
  {
   "cell_type": "code",
   "execution_count": 439,
   "id": "9756904f-857f-4afc-aa0b-48bc47f4ea62",
   "metadata": {
    "hide-output": false
   },
   "outputs": [],
   "source": [
    "casted = dfi[dfi > 0]"
   ]
  },
  {
   "cell_type": "code",
   "execution_count": 439,
   "id": "e97e20b4-f21d-468e-a6f0-9dfaa6f92e9e",
   "metadata": {
    "hide-output": false
   },
   "outputs": [],
   "source": [
    "casted"
   ]
  },
  {
   "cell_type": "code",
   "execution_count": 439,
   "id": "cc4e2804-e6df-49a7-aea2-8b1631855284",
   "metadata": {
    "hide-output": false
   },
   "outputs": [
    {
     "data": {
      "text/plain": [
       "A    float64\n",
       "B    float64\n",
       "C    float64\n",
       "E      int64\n",
       "dtype: object"
      ]
     },
     "execution_count": 439,
     "metadata": {},
     "output_type": "execute_result"
    }
   ],
   "source": [
    "casted.dtypes"
   ]
  },
  {
   "cell_type": "markdown",
   "id": "67be6bc1",
   "metadata": {},
   "source": [
    "While float dtypes are unchanged."
   ]
  },
  {
   "cell_type": "code",
   "execution_count": 440,
   "id": "21a0db88-8e2f-4ef0-9ba2-54fd94a7cad0",
   "metadata": {
    "hide-output": false
   },
   "outputs": [],
   "source": [
    "dfa = df3.copy()\n",
    "dfa[\"A\"] = dfa[\"A\"].astype(\"float32\")\n",
    "dfa.dtypes"
   ]
  },
  {
   "cell_type": "code",
   "execution_count": 440,
   "id": "d0f6ae98-4ae7-4dad-9a62-3500cd217def",
   "metadata": {
    "hide-output": false
   },
   "outputs": [],
   "source": [
    "casted = dfa[df2 > 0]\n",
    "casted"
   ]
  },
  {
   "cell_type": "code",
   "execution_count": 440,
   "id": "fe728908-bdef-4fcf-bef2-cbb462e5c6f0",
   "metadata": {
    "hide-output": false
   },
   "outputs": [
    {
     "data": {
      "text/plain": [
       "A    float32\n",
       "B    float64\n",
       "C    float64\n",
       "dtype: object"
      ]
     },
     "execution_count": 440,
     "metadata": {},
     "output_type": "execute_result"
    }
   ],
   "source": [
    "casted.dtypes"
   ]
  },
  {
   "cell_type": "markdown",
   "id": "91adb0e2",
   "metadata": {},
   "source": [
    "## Selecting columns based on `dtype`\n",
    "\n",
    "\n",
    "<a id='basics-selectdtypes'></a>\n",
    "The `select_dtypes()` method implements subsetting of columns\n",
    "based on their `dtype`.\n",
    "\n",
    "First, let’s create a `DataFrame` with a slew of different\n",
    "dtypes:"
   ]
  },
  {
   "cell_type": "code",
   "execution_count": 493,
   "id": "ce972156-7ef5-46c0-b0ce-a7c463e91e7f",
   "metadata": {
    "hide-output": false
   },
   "outputs": [
    {
     "data": {
      "text/html": [
       "<div>\n",
       "<style scoped>\n",
       "    .dataframe tbody tr th:only-of-type {\n",
       "        vertical-align: middle;\n",
       "    }\n",
       "\n",
       "    .dataframe tbody tr th {\n",
       "        vertical-align: top;\n",
       "    }\n",
       "\n",
       "    .dataframe thead th {\n",
       "        text-align: right;\n",
       "    }\n",
       "</style>\n",
       "<table border=\"1\" class=\"dataframe\">\n",
       "  <thead>\n",
       "    <tr style=\"text-align: right;\">\n",
       "      <th></th>\n",
       "      <th>string</th>\n",
       "      <th>int64</th>\n",
       "      <th>uint8</th>\n",
       "      <th>float64</th>\n",
       "      <th>bool1</th>\n",
       "      <th>bool2</th>\n",
       "      <th>dates</th>\n",
       "      <th>category</th>\n",
       "      <th>tdeltas</th>\n",
       "      <th>uint64</th>\n",
       "      <th>other_dates</th>\n",
       "      <th>tz_aware_dates</th>\n",
       "    </tr>\n",
       "  </thead>\n",
       "  <tbody>\n",
       "    <tr>\n",
       "      <th>0</th>\n",
       "      <td>a</td>\n",
       "      <td>1</td>\n",
       "      <td>3</td>\n",
       "      <td>4.0</td>\n",
       "      <td>True</td>\n",
       "      <td>False</td>\n",
       "      <td>2021-08-30 09:55:01.784984</td>\n",
       "      <td>A</td>\n",
       "      <td>NaT</td>\n",
       "      <td>3</td>\n",
       "      <td>2013-01-01</td>\n",
       "      <td>2013-01-01 00:00:00-05:00</td>\n",
       "    </tr>\n",
       "    <tr>\n",
       "      <th>1</th>\n",
       "      <td>b</td>\n",
       "      <td>2</td>\n",
       "      <td>4</td>\n",
       "      <td>5.0</td>\n",
       "      <td>False</td>\n",
       "      <td>True</td>\n",
       "      <td>2021-08-31 09:55:01.784984</td>\n",
       "      <td>B</td>\n",
       "      <td>1 days</td>\n",
       "      <td>4</td>\n",
       "      <td>2013-01-02</td>\n",
       "      <td>2013-01-02 00:00:00-05:00</td>\n",
       "    </tr>\n",
       "    <tr>\n",
       "      <th>2</th>\n",
       "      <td>c</td>\n",
       "      <td>3</td>\n",
       "      <td>5</td>\n",
       "      <td>6.0</td>\n",
       "      <td>True</td>\n",
       "      <td>False</td>\n",
       "      <td>2021-09-01 09:55:01.784984</td>\n",
       "      <td>C</td>\n",
       "      <td>1 days</td>\n",
       "      <td>5</td>\n",
       "      <td>2013-01-03</td>\n",
       "      <td>2013-01-03 00:00:00-05:00</td>\n",
       "    </tr>\n",
       "  </tbody>\n",
       "</table>\n",
       "</div>"
      ],
      "text/plain": [
       "  string  int64  uint8  float64  bool1  bool2                      dates  \\\n",
       "0      a      1      3      4.0   True  False 2021-08-30 09:55:01.784984   \n",
       "1      b      2      4      5.0  False   True 2021-08-31 09:55:01.784984   \n",
       "2      c      3      5      6.0   True  False 2021-09-01 09:55:01.784984   \n",
       "\n",
       "  category tdeltas  uint64 other_dates            tz_aware_dates  \n",
       "0        A     NaT       3  2013-01-01 2013-01-01 00:00:00-05:00  \n",
       "1        B  1 days       4  2013-01-02 2013-01-02 00:00:00-05:00  \n",
       "2        C  1 days       5  2013-01-03 2013-01-03 00:00:00-05:00  "
      ]
     },
     "execution_count": 493,
     "metadata": {},
     "output_type": "execute_result"
    }
   ],
   "source": [
    "df = pd.DataFrame(\n",
    "    {\n",
    "        \"string\": list(\"abc\"),\n",
    "        \"int64\": list(range(1, 4)),\n",
    "        \"uint8\": np.arange(3, 6).astype(\"u1\"),\n",
    "        \"float64\": np.arange(4.0, 7.0),\n",
    "        \"bool1\": [True, False, True],\n",
    "        \"bool2\": [False, True, False],\n",
    "        \"dates\": pd.date_range(\"now\", periods=3),\n",
    "        \"category\": pd.Series(list(\"ABC\")).astype(\"category\"),\n",
    "    }\n",
    ")\n",
    "df[\"tdeltas\"] = df.dates.diff()\n",
    "df[\"uint64\"] = np.arange(3, 6).astype(\"u8\")\n",
    "df[\"other_dates\"] = pd.date_range(\"20130101\", periods=3)\n",
    "df[\"tz_aware_dates\"] = pd.date_range(\"20130101\", periods=3, tz=\"US/Eastern\")\n",
    "df"
   ]
  },
  {
   "cell_type": "markdown",
   "id": "a845f3ea",
   "metadata": {},
   "source": [
    "And the dtypes:"
   ]
  },
  {
   "cell_type": "code",
   "execution_count": 442,
   "id": "78a184ea",
   "metadata": {
    "hide-output": false
   },
   "outputs": [
    {
     "data": {
      "text/plain": [
       "string                                object\n",
       "int64                                  int64\n",
       "uint8                                  uint8\n",
       "float64                              float64\n",
       "bool1                                   bool\n",
       "bool2                                   bool\n",
       "dates                         datetime64[ns]\n",
       "category                            category\n",
       "tdeltas                      timedelta64[ns]\n",
       "uint64                                uint64\n",
       "other_dates                   datetime64[ns]\n",
       "tz_aware_dates    datetime64[ns, US/Eastern]\n",
       "dtype: object"
      ]
     },
     "execution_count": 442,
     "metadata": {},
     "output_type": "execute_result"
    }
   ],
   "source": [
    "df.dtypes"
   ]
  },
  {
   "cell_type": "markdown",
   "id": "3b3951b8",
   "metadata": {},
   "source": [
    "`select_dtypes()` has two parameters `include` and `exclude` that allow you to\n",
    "say “give me the columns *with* these dtypes” (`include`) and/or “give the\n",
    "columns *without* these dtypes” (`exclude`).\n",
    "\n",
    "For example, to select `bool` columns:"
   ]
  },
  {
   "cell_type": "code",
   "execution_count": 443,
   "id": "f923ce22",
   "metadata": {
    "hide-output": false
   },
   "outputs": [
    {
     "data": {
      "text/html": [
       "<div>\n",
       "<style scoped>\n",
       "    .dataframe tbody tr th:only-of-type {\n",
       "        vertical-align: middle;\n",
       "    }\n",
       "\n",
       "    .dataframe tbody tr th {\n",
       "        vertical-align: top;\n",
       "    }\n",
       "\n",
       "    .dataframe thead th {\n",
       "        text-align: right;\n",
       "    }\n",
       "</style>\n",
       "<table border=\"1\" class=\"dataframe\">\n",
       "  <thead>\n",
       "    <tr style=\"text-align: right;\">\n",
       "      <th></th>\n",
       "      <th>bool1</th>\n",
       "      <th>bool2</th>\n",
       "    </tr>\n",
       "  </thead>\n",
       "  <tbody>\n",
       "    <tr>\n",
       "      <th>0</th>\n",
       "      <td>True</td>\n",
       "      <td>False</td>\n",
       "    </tr>\n",
       "    <tr>\n",
       "      <th>1</th>\n",
       "      <td>False</td>\n",
       "      <td>True</td>\n",
       "    </tr>\n",
       "    <tr>\n",
       "      <th>2</th>\n",
       "      <td>True</td>\n",
       "      <td>False</td>\n",
       "    </tr>\n",
       "  </tbody>\n",
       "</table>\n",
       "</div>"
      ],
      "text/plain": [
       "   bool1  bool2\n",
       "0   True  False\n",
       "1  False   True\n",
       "2   True  False"
      ]
     },
     "execution_count": 443,
     "metadata": {},
     "output_type": "execute_result"
    }
   ],
   "source": [
    "df.select_dtypes(include=[bool])"
   ]
  },
  {
   "cell_type": "markdown",
   "id": "32b0c4e8",
   "metadata": {},
   "source": [
    "You can also pass the name of a dtype in the [NumPy dtype hierarchy](https://numpy.org/doc/stable/reference/arrays.scalars.html):"
   ]
  },
  {
   "cell_type": "code",
   "execution_count": 444,
   "id": "c0b9c267",
   "metadata": {
    "hide-output": false
   },
   "outputs": [
    {
     "data": {
      "text/html": [
       "<div>\n",
       "<style scoped>\n",
       "    .dataframe tbody tr th:only-of-type {\n",
       "        vertical-align: middle;\n",
       "    }\n",
       "\n",
       "    .dataframe tbody tr th {\n",
       "        vertical-align: top;\n",
       "    }\n",
       "\n",
       "    .dataframe thead th {\n",
       "        text-align: right;\n",
       "    }\n",
       "</style>\n",
       "<table border=\"1\" class=\"dataframe\">\n",
       "  <thead>\n",
       "    <tr style=\"text-align: right;\">\n",
       "      <th></th>\n",
       "      <th>bool1</th>\n",
       "      <th>bool2</th>\n",
       "    </tr>\n",
       "  </thead>\n",
       "  <tbody>\n",
       "    <tr>\n",
       "      <th>0</th>\n",
       "      <td>True</td>\n",
       "      <td>False</td>\n",
       "    </tr>\n",
       "    <tr>\n",
       "      <th>1</th>\n",
       "      <td>False</td>\n",
       "      <td>True</td>\n",
       "    </tr>\n",
       "    <tr>\n",
       "      <th>2</th>\n",
       "      <td>True</td>\n",
       "      <td>False</td>\n",
       "    </tr>\n",
       "  </tbody>\n",
       "</table>\n",
       "</div>"
      ],
      "text/plain": [
       "   bool1  bool2\n",
       "0   True  False\n",
       "1  False   True\n",
       "2   True  False"
      ]
     },
     "execution_count": 444,
     "metadata": {},
     "output_type": "execute_result"
    }
   ],
   "source": [
    "df.select_dtypes(include=[\"bool\"])"
   ]
  },
  {
   "cell_type": "markdown",
   "id": "7db47825",
   "metadata": {},
   "source": [
    "`select_dtypes()` also works with generic dtypes as well.\n",
    "\n",
    "For example, to select all numeric and boolean columns while excluding unsigned\n",
    "integers:"
   ]
  },
  {
   "cell_type": "code",
   "execution_count": 445,
   "id": "a4fbdd2e",
   "metadata": {
    "hide-output": false
   },
   "outputs": [
    {
     "data": {
      "text/html": [
       "<div>\n",
       "<style scoped>\n",
       "    .dataframe tbody tr th:only-of-type {\n",
       "        vertical-align: middle;\n",
       "    }\n",
       "\n",
       "    .dataframe tbody tr th {\n",
       "        vertical-align: top;\n",
       "    }\n",
       "\n",
       "    .dataframe thead th {\n",
       "        text-align: right;\n",
       "    }\n",
       "</style>\n",
       "<table border=\"1\" class=\"dataframe\">\n",
       "  <thead>\n",
       "    <tr style=\"text-align: right;\">\n",
       "      <th></th>\n",
       "      <th>int64</th>\n",
       "      <th>float64</th>\n",
       "      <th>bool1</th>\n",
       "      <th>bool2</th>\n",
       "      <th>tdeltas</th>\n",
       "    </tr>\n",
       "  </thead>\n",
       "  <tbody>\n",
       "    <tr>\n",
       "      <th>0</th>\n",
       "      <td>1</td>\n",
       "      <td>4.0</td>\n",
       "      <td>True</td>\n",
       "      <td>False</td>\n",
       "      <td>NaT</td>\n",
       "    </tr>\n",
       "    <tr>\n",
       "      <th>1</th>\n",
       "      <td>2</td>\n",
       "      <td>5.0</td>\n",
       "      <td>False</td>\n",
       "      <td>True</td>\n",
       "      <td>1 days</td>\n",
       "    </tr>\n",
       "    <tr>\n",
       "      <th>2</th>\n",
       "      <td>3</td>\n",
       "      <td>6.0</td>\n",
       "      <td>True</td>\n",
       "      <td>False</td>\n",
       "      <td>1 days</td>\n",
       "    </tr>\n",
       "  </tbody>\n",
       "</table>\n",
       "</div>"
      ],
      "text/plain": [
       "   int64  float64  bool1  bool2 tdeltas\n",
       "0      1      4.0   True  False     NaT\n",
       "1      2      5.0  False   True  1 days\n",
       "2      3      6.0   True  False  1 days"
      ]
     },
     "execution_count": 445,
     "metadata": {},
     "output_type": "execute_result"
    }
   ],
   "source": [
    "df.select_dtypes(include=[\"number\", \"bool\"], exclude=[\"unsignedinteger\"])"
   ]
  },
  {
   "cell_type": "markdown",
   "id": "3bb8209f",
   "metadata": {},
   "source": [
    "To select string columns you must use the `object` dtype:"
   ]
  },
  {
   "cell_type": "code",
   "execution_count": 446,
   "id": "9f7b078d",
   "metadata": {
    "hide-output": false
   },
   "outputs": [
    {
     "data": {
      "text/html": [
       "<div>\n",
       "<style scoped>\n",
       "    .dataframe tbody tr th:only-of-type {\n",
       "        vertical-align: middle;\n",
       "    }\n",
       "\n",
       "    .dataframe tbody tr th {\n",
       "        vertical-align: top;\n",
       "    }\n",
       "\n",
       "    .dataframe thead th {\n",
       "        text-align: right;\n",
       "    }\n",
       "</style>\n",
       "<table border=\"1\" class=\"dataframe\">\n",
       "  <thead>\n",
       "    <tr style=\"text-align: right;\">\n",
       "      <th></th>\n",
       "      <th>string</th>\n",
       "    </tr>\n",
       "  </thead>\n",
       "  <tbody>\n",
       "    <tr>\n",
       "      <th>0</th>\n",
       "      <td>a</td>\n",
       "    </tr>\n",
       "    <tr>\n",
       "      <th>1</th>\n",
       "      <td>b</td>\n",
       "    </tr>\n",
       "    <tr>\n",
       "      <th>2</th>\n",
       "      <td>c</td>\n",
       "    </tr>\n",
       "  </tbody>\n",
       "</table>\n",
       "</div>"
      ],
      "text/plain": [
       "  string\n",
       "0      a\n",
       "1      b\n",
       "2      c"
      ]
     },
     "execution_count": 446,
     "metadata": {},
     "output_type": "execute_result"
    }
   ],
   "source": [
    "df.select_dtypes(include=[\"object\"])"
   ]
  },
  {
   "cell_type": "markdown",
   "id": "a22d1954",
   "metadata": {},
   "source": [
    "To see all the child dtypes of a generic `dtype` like `numpy.number` you\n",
    "can define a function that returns a tree of child dtypes:"
   ]
  },
  {
   "cell_type": "code",
   "execution_count": 447,
   "id": "5c1ed89d",
   "metadata": {
    "hide-output": false
   },
   "outputs": [],
   "source": [
    "def subdtypes(dtype):\n",
    "    subs = dtype.__subclasses__()\n",
    "    if not subs:\n",
    "        return dtype\n",
    "    return [dtype, [subdtypes(dt) for dt in subs]]"
   ]
  },
  {
   "cell_type": "markdown",
   "id": "e3773ade",
   "metadata": {},
   "source": [
    "All NumPy dtypes are subclasses of `numpy.generic`:"
   ]
  },
  {
   "cell_type": "code",
   "execution_count": 448,
   "id": "71d5e985",
   "metadata": {
    "hide-output": false
   },
   "outputs": [
    {
     "data": {
      "text/plain": [
       "[numpy.generic,\n",
       " [[numpy.number,\n",
       "   [[numpy.integer,\n",
       "     [[numpy.signedinteger,\n",
       "       [numpy.int8,\n",
       "        numpy.int16,\n",
       "        numpy.intc,\n",
       "        numpy.int32,\n",
       "        numpy.int64,\n",
       "        numpy.timedelta64]],\n",
       "      [numpy.unsignedinteger,\n",
       "       [numpy.uint8, numpy.uint16, numpy.uintc, numpy.uint32, numpy.uint64]]]],\n",
       "    [numpy.inexact,\n",
       "     [[numpy.floating,\n",
       "       [numpy.float16, numpy.float32, numpy.float64, numpy.longdouble]],\n",
       "      [numpy.complexfloating,\n",
       "       [numpy.complex64, numpy.complex128, numpy.clongdouble]]]]]],\n",
       "  [numpy.flexible,\n",
       "   [[numpy.character, [numpy.bytes_, numpy.str_]],\n",
       "    [numpy.void, [numpy.record]]]],\n",
       "  numpy.bool_,\n",
       "  numpy.datetime64,\n",
       "  numpy.object_]]"
      ]
     },
     "execution_count": 448,
     "metadata": {},
     "output_type": "execute_result"
    }
   ],
   "source": [
    "subdtypes(np.generic)"
   ]
  },
  {
   "cell_type": "markdown",
   "id": "f3debd53",
   "metadata": {},
   "source": [
    ">**Note**\n",
    ">\n",
    ">pandas also defines the types `category`, and `datetime64[ns, tz]`, which are not integrated into the normal\n",
    "NumPy hierarchy and won’t show up with the above function."
   ]
  },
  {
   "cell_type": "code",
   "execution_count": null,
   "id": "94f3e43a",
   "metadata": {},
   "outputs": [],
   "source": []
  }
 ],
 "metadata": {
  "date": 1630231083.6397145,
  "filename": "21_basics.rst",
  "kernelspec": {
   "display_name": "Python 3",
   "language": "python",
   "name": "python3"
  },
  "language_info": {
   "codemirror_mode": {
    "name": "ipython",
    "version": 3
   },
   "file_extension": ".py",
   "mimetype": "text/x-python",
   "name": "python",
   "nbconvert_exporter": "python",
   "pygments_lexer": "ipython3",
   "version": "3.8.8"
  },
  "latex_envs": {
   "LaTeX_envs_menu_present": true,
   "autoclose": false,
   "autocomplete": true,
   "bibliofile": "biblio.bib",
   "cite_by": "apalike",
   "current_citInitial": 1,
   "eqLabelWithNumbers": true,
   "eqNumInitial": 1,
   "hotkeys": {
    "equation": "Ctrl-E",
    "itemize": "Ctrl-I"
   },
   "labels_anchors": false,
   "latex_user_defs": false,
   "report_style_numbering": false,
   "user_envs_cfg": false
  },
  "title": "Essential basic functionality"
 },
 "nbformat": 4,
 "nbformat_minor": 5
}
