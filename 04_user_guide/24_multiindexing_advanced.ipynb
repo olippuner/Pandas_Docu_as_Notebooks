{
 "cells": [
  {
   "cell_type": "code",
   "execution_count": null,
   "id": "67eaf69f-5954-45cb-b0f0-0a29872836be",
   "metadata": {},
   "outputs": [],
   "source": [
    "import numpy as np\n",
    "import pandas as pd\n",
    "import matplotlib.pyplot as plt"
   ]
  },
  {
   "cell_type": "markdown",
   "id": "a0f6c169",
   "metadata": {},
   "source": [
    "# MultiIndex / advanced indexing\n",
    "\n",
    "This section covers indexing with a MultiIndex\n",
    "and other advanced indexing features.\n",
    "\n",
    "See the Indexing and Selecting Data for general indexing documentation.\n",
    "\n",
    "Whether a copy or a reference is returned for a setting operation may\n",
    "depend on the context.  This is sometimes called `chained assignment` and\n",
    "should be avoided.  See Returning a View versus Copy.\n",
    "\n",
    "See the [cookbook](44_cookbook.ipynb#cookbook-selection) for some advanced strategies.\n",
    "\n",
    "\n",
    "<a id='multiindexing-advanced-hierarchical'></a>"
   ]
  },
  {
   "cell_type": "markdown",
   "id": "3dd2e0a7",
   "metadata": {},
   "source": [
    "## Hierarchical indexing (MultiIndex)\n",
    "\n",
    "Hierarchical / Multi-level indexing is very exciting as it opens the door to some\n",
    "quite sophisticated data analysis and manipulation, especially for working with\n",
    "higher dimensional data. In essence, it enables you to store and manipulate\n",
    "data with an arbitrary number of dimensions in lower dimensional data\n",
    "structures like `Series` (1d) and `DataFrame` (2d).\n",
    "\n",
    "In this section, we will show what exactly we mean by “hierarchical” indexing\n",
    "and how it integrates with all of the pandas indexing functionality\n",
    "described above and in prior sections. Later, when discussing [group by](36_groupby.ipynb#groupby) and pivoting and reshaping data, we’ll show\n",
    "non-trivial applications to illustrate how it aids in structuring data for\n",
    "analysis.\n",
    "\n",
    "See the [cookbook](44_cookbook.ipynb#cookbook-multi-index) for some advanced strategies."
   ]
  },
  {
   "cell_type": "markdown",
   "id": "f0d8e38e",
   "metadata": {},
   "source": [
    "### Creating a MultiIndex (hierarchical index) object\n",
    "\n",
    "The `MultiIndex` object is the hierarchical analogue of the standard\n",
    "`Index` object which typically stores the axis labels in pandas objects. You\n",
    "can think of `MultiIndex` as an array of tuples where each tuple is unique. A\n",
    "`MultiIndex` can be created from a list of arrays (using\n",
    "`MultiIndex.from_arrays()`), an array of tuples (using\n",
    "`MultiIndex.from_tuples()`), a crossed set of iterables (using\n",
    "`MultiIndex.from_product()`), or a `DataFrame` (using\n",
    "`MultiIndex.from_frame()`).  The `Index` constructor will attempt to return\n",
    "a `MultiIndex` when it is passed a list of tuples.  The following examples\n",
    "demonstrate different ways to initialize MultiIndexes."
   ]
  },
  {
   "cell_type": "code",
   "execution_count": null,
   "id": "ddc59e91",
   "metadata": {
    "hide-output": false
   },
   "outputs": [],
   "source": [
    "arrays = [\n",
    "    [\"bar\", \"bar\", \"baz\", \"baz\", \"foo\", \"foo\", \"qux\", \"qux\"],\n",
    "    [\"one\", \"two\", \"one\", \"two\", \"one\", \"two\", \"one\", \"two\"],\n",
    "]\n",
    "tuples = list(zip(*arrays))\n",
    "tuples\n",
    "\n",
    "index = pd.MultiIndex.from_tuples(tuples, names=[\"first\", \"second\"])\n",
    "index\n",
    "\n",
    "s = pd.Series(np.random.randn(8), index=index)\n",
    "s"
   ]
  },
  {
   "cell_type": "markdown",
   "id": "c03f7dfd",
   "metadata": {},
   "source": [
    "When you want every pairing of the elements in two iterables, it can be easier\n",
    "to use the `MultiIndex.from_product()` method:"
   ]
  },
  {
   "cell_type": "code",
   "execution_count": null,
   "id": "6f525164",
   "metadata": {
    "hide-output": false
   },
   "outputs": [],
   "source": [
    "iterables = [[\"bar\", \"baz\", \"foo\", \"qux\"], [\"one\", \"two\"]]\n",
    "pd.MultiIndex.from_product(iterables, names=[\"first\", \"second\"])"
   ]
  },
  {
   "cell_type": "markdown",
   "id": "72f293a8",
   "metadata": {},
   "source": [
    "You can also construct a `MultiIndex` from a `DataFrame` directly, using\n",
    "the method `MultiIndex.from_frame()`. This is a complementary method to\n",
    "`MultiIndex.to_frame()`."
   ]
  },
  {
   "cell_type": "code",
   "execution_count": null,
   "id": "cca035a9",
   "metadata": {
    "hide-output": false
   },
   "outputs": [],
   "source": [
    "df = pd.DataFrame(\n",
    "    [[\"bar\", \"one\"], [\"bar\", \"two\"], [\"foo\", \"one\"], [\"foo\", \"two\"]],\n",
    "    columns=[\"first\", \"second\"],\n",
    ")\n",
    "pd.MultiIndex.from_frame(df)"
   ]
  },
  {
   "cell_type": "markdown",
   "id": "4a849114",
   "metadata": {},
   "source": [
    "As a convenience, you can pass a list of arrays directly into `Series` or\n",
    "`DataFrame` to construct a `MultiIndex` automatically:"
   ]
  },
  {
   "cell_type": "code",
   "execution_count": null,
   "id": "676a66c9-72b1-43cb-9a77-b743a0e5f58c",
   "metadata": {
    "hide-output": false
   },
   "outputs": [],
   "source": [
    "arrays = [\n",
    "    np.array([\"bar\", \"bar\", \"baz\", \"baz\", \"foo\", \"foo\", \"qux\", \"qux\"]),\n",
    "    np.array([\"one\", \"two\", \"one\", \"two\", \"one\", \"two\", \"one\", \"two\"]),\n",
    "]\n",
    "s = pd.Series(np.random.randn(8), index=arrays)\n",
    "s"
   ]
  },
  {
   "cell_type": "code",
   "execution_count": null,
   "id": "71f68dc8-e2fd-46d7-8f4f-0efd6bb6b0d5",
   "metadata": {
    "hide-output": false
   },
   "outputs": [],
   "source": [
    "df = pd.DataFrame(np.random.randn(8, 4), index=arrays)\n",
    "df"
   ]
  },
  {
   "cell_type": "markdown",
   "id": "39f3c545",
   "metadata": {},
   "source": [
    "All of the `MultiIndex` constructors accept a `names` argument which stores\n",
    "string names for the levels themselves. If no names are provided, `None` will\n",
    "be assigned:"
   ]
  },
  {
   "cell_type": "code",
   "execution_count": null,
   "id": "584b512c",
   "metadata": {
    "hide-output": false
   },
   "outputs": [],
   "source": [
    "df.index.names"
   ]
  },
  {
   "cell_type": "markdown",
   "id": "5b46fa9b",
   "metadata": {},
   "source": [
    "This index can back any axis of a pandas object, and the number of **levels**\n",
    "of the index is up to you:"
   ]
  },
  {
   "cell_type": "code",
   "execution_count": null,
   "id": "55bdff2a-f81e-4ac5-9611-ef88d06930e1",
   "metadata": {
    "hide-output": false
   },
   "outputs": [],
   "source": [
    "df = pd.DataFrame(np.random.randn(3, 8), index=[\"A\", \"B\", \"C\"], columns=index)\n",
    "df"
   ]
  },
  {
   "cell_type": "code",
   "execution_count": null,
   "id": "8b2abb6b-a81c-48b5-b872-2c9756253731",
   "metadata": {
    "hide-output": false
   },
   "outputs": [],
   "source": [
    "pd.DataFrame(np.random.randn(6, 6), index=index[:6], columns=index[:6])"
   ]
  },
  {
   "cell_type": "markdown",
   "id": "a0d2310e",
   "metadata": {},
   "source": [
    "We’ve “sparsified” the higher levels of the indexes to make the console output a\n",
    "bit easier on the eyes. Note that how the index is displayed can be controlled using the\n",
    "`multi_sparse` option in `pandas.set_options()`:"
   ]
  },
  {
   "cell_type": "code",
   "execution_count": null,
   "id": "303789c3",
   "metadata": {
    "hide-output": false
   },
   "outputs": [],
   "source": [
    "with pd.option_context(\"display.multi_sparse\", False):\n",
    "    df"
   ]
  },
  {
   "cell_type": "markdown",
   "id": "fa6bcee0",
   "metadata": {},
   "source": [
    "It’s worth keeping in mind that there’s nothing preventing you from using\n",
    "tuples as atomic labels on an axis:"
   ]
  },
  {
   "cell_type": "code",
   "execution_count": null,
   "id": "5414bb15",
   "metadata": {
    "hide-output": false
   },
   "outputs": [],
   "source": [
    "pd.Series(np.random.randn(8), index=tuples)"
   ]
  },
  {
   "cell_type": "markdown",
   "id": "d4deb229",
   "metadata": {},
   "source": [
    "The reason that the `MultiIndex` matters is that it can allow you to do\n",
    "grouping, selection, and reshaping operations as we will describe below and in\n",
    "subsequent areas of the documentation. As you will see in later sections, you\n",
    "can find yourself working with hierarchically-indexed data without creating a\n",
    "`MultiIndex` explicitly yourself. However, when loading data from a file, you\n",
    "may wish to generate your own `MultiIndex` when preparing the data set.\n",
    "\n",
    "\n",
    "<a id='multiindexing-advanced-get-level-values'></a>"
   ]
  },
  {
   "cell_type": "markdown",
   "id": "86204a0e",
   "metadata": {},
   "source": [
    "### Reconstructing the level labels\n",
    "\n",
    "The method `get_level_values()` will return a vector of the labels for each\n",
    "location at a particular level:"
   ]
  },
  {
   "cell_type": "code",
   "execution_count": null,
   "id": "dd626038-14cc-4938-8be7-3d9ea0e63adf",
   "metadata": {
    "hide-output": false
   },
   "outputs": [],
   "source": [
    "index.get_level_values(0)"
   ]
  },
  {
   "cell_type": "code",
   "execution_count": null,
   "id": "6f25cc84-f758-4749-8dbc-04faf5a3249a",
   "metadata": {
    "hide-output": false
   },
   "outputs": [],
   "source": [
    "index.get_level_values(\"second\")"
   ]
  },
  {
   "cell_type": "markdown",
   "id": "dfa7d2c2",
   "metadata": {},
   "source": [
    "### Basic indexing on axis with MultiIndex\n",
    "\n",
    "One of the important features of hierarchical indexing is that you can select\n",
    "data by a “partial” label identifying a subgroup in the data. **Partial**\n",
    "selection “drops” levels of the hierarchical index in the result in a\n",
    "completely analogous way to selecting a column in a regular DataFrame:"
   ]
  },
  {
   "cell_type": "code",
   "execution_count": null,
   "id": "b1668f34-2bab-4ed5-8d7f-184d0725705e",
   "metadata": {
    "hide-output": false
   },
   "outputs": [],
   "source": [
    "df[\"bar\"]"
   ]
  },
  {
   "cell_type": "code",
   "execution_count": null,
   "id": "f40010bf-7471-462e-b031-7b9fafddb750",
   "metadata": {
    "hide-output": false
   },
   "outputs": [],
   "source": [
    "df[\"bar\", \"one\"]"
   ]
  },
  {
   "cell_type": "code",
   "execution_count": null,
   "id": "314e3c8c-888f-4c6b-b7c1-7b691666854f",
   "metadata": {
    "hide-output": false
   },
   "outputs": [],
   "source": [
    "df[\"bar\"][\"one\"]"
   ]
  },
  {
   "cell_type": "code",
   "execution_count": null,
   "id": "c9f5a39f-d305-45db-b3c1-c778418b75c6",
   "metadata": {
    "hide-output": false
   },
   "outputs": [],
   "source": [
    "s[\"qux\"]"
   ]
  },
  {
   "cell_type": "markdown",
   "id": "51ecb9c1",
   "metadata": {},
   "source": [
    "See Cross-section with hierarchical index for how to select\n",
    "on a deeper level.\n",
    "\n",
    "\n",
    "<a id='multiindexing-advanced-shown-levels'></a>"
   ]
  },
  {
   "cell_type": "markdown",
   "id": "0cce3ba8",
   "metadata": {},
   "source": [
    "### Defined levels\n",
    "\n",
    "The `MultiIndex` keeps all the defined levels of an index, even\n",
    "if they are not actually used. When slicing an index, you may notice this.\n",
    "For example:"
   ]
  },
  {
   "cell_type": "code",
   "execution_count": null,
   "id": "91141d84-a5b7-4758-b0a3-23ce22415f41",
   "metadata": {
    "hide-output": false
   },
   "outputs": [],
   "source": [
    "df.columns.levels  # original MultiIndex"
   ]
  },
  {
   "cell_type": "code",
   "execution_count": null,
   "id": "76295808-528c-42d5-a049-faf704d3fccf",
   "metadata": {
    "hide-output": false
   },
   "outputs": [],
   "source": [
    "df[[\"foo\",\"qux\"]].columns.levels  # sliced"
   ]
  },
  {
   "cell_type": "markdown",
   "id": "217466e6",
   "metadata": {},
   "source": [
    "This is done to avoid a recomputation of the levels in order to make slicing\n",
    "highly performant. If you want to see only the used levels, you can use the\n",
    "`get_level_values()` method."
   ]
  },
  {
   "cell_type": "code",
   "execution_count": null,
   "id": "a699af4d-bd9a-454d-87be-df4a129000c8",
   "metadata": {
    "hide-output": false
   },
   "outputs": [],
   "source": [
    "df[[\"foo\", \"qux\"]].columns.to_numpy()"
   ]
  },
  {
   "cell_type": "code",
   "execution_count": null,
   "id": "e94180d8-e3e8-4768-ad45-ee2fbdf2d3e6",
   "metadata": {
    "hide-output": false
   },
   "outputs": [],
   "source": [
    "# for a specific level\n",
    "df[[\"foo\", \"qux\"]].columns.get_level_values(0)"
   ]
  },
  {
   "cell_type": "markdown",
   "id": "9ff75f93",
   "metadata": {},
   "source": [
    "To reconstruct the `MultiIndex` with only the used levels, the\n",
    "`remove_unused_levels()` method may be used."
   ]
  },
  {
   "cell_type": "code",
   "execution_count": null,
   "id": "19a30178",
   "metadata": {
    "hide-output": false
   },
   "outputs": [],
   "source": [
    "new_mi = df[[\"foo\", \"qux\"]].columns.remove_unused_levels()\n",
    "new_mi.levels"
   ]
  },
  {
   "cell_type": "markdown",
   "id": "84ef57a4",
   "metadata": {},
   "source": [
    "### Data alignment and using `reindex`\n",
    "\n",
    "Operations between differently-indexed objects having `MultiIndex` on the\n",
    "axes will work as you expect; data alignment will work the same as an Index of\n",
    "tuples:"
   ]
  },
  {
   "cell_type": "code",
   "execution_count": null,
   "id": "236fd9ed-8f85-4a95-a797-ca0335d8fff2",
   "metadata": {
    "hide-output": false
   },
   "outputs": [],
   "source": [
    "s + s[:-2]"
   ]
  },
  {
   "cell_type": "code",
   "execution_count": null,
   "id": "60c33f0a-7227-424f-abe0-f815c34478a5",
   "metadata": {
    "hide-output": false
   },
   "outputs": [],
   "source": [
    "s + s[::2]"
   ]
  },
  {
   "cell_type": "markdown",
   "id": "2317fa5e",
   "metadata": {},
   "source": [
    "The `reindex()` method of `Series`/`DataFrames` can be\n",
    "called with another `MultiIndex`, or even a list or array of tuples:"
   ]
  },
  {
   "cell_type": "code",
   "execution_count": null,
   "id": "5eb9e0c3-7447-43e8-a01f-31640e2cf0c7",
   "metadata": {
    "hide-output": false
   },
   "outputs": [],
   "source": [
    "s.reindex(index[:3])"
   ]
  },
  {
   "cell_type": "code",
   "execution_count": null,
   "id": "d98d38bf-c7ce-4b66-9bd6-e1835a9abdc8",
   "metadata": {
    "hide-output": false
   },
   "outputs": [],
   "source": [
    "s.reindex([(\"foo\", \"two\"), (\"bar\", \"one\"), (\"qux\", \"one\"), (\"baz\", \"one\")])"
   ]
  },
  {
   "cell_type": "markdown",
   "id": "4e1dc6b1",
   "metadata": {},
   "source": [
    "\n",
    "<a id='multiindexing-advanced-advanced-hierarchical'></a>"
   ]
  },
  {
   "cell_type": "markdown",
   "id": "bb1c849f",
   "metadata": {},
   "source": [
    "## Advanced indexing with hierarchical index\n",
    "\n",
    "Syntactically integrating `MultiIndex` in advanced indexing with `.loc` is a\n",
    "bit challenging, but we’ve made every effort to do so. In general, MultiIndex\n",
    "keys take the form of tuples. For example, the following works as you would expect:"
   ]
  },
  {
   "cell_type": "code",
   "execution_count": null,
   "id": "01cc762c-1cfc-43d8-a52e-ea29bf1622de",
   "metadata": {
    "hide-output": false
   },
   "outputs": [],
   "source": [
    "df = df.T\n",
    "df"
   ]
  },
  {
   "cell_type": "code",
   "execution_count": null,
   "id": "8cd06ad2-695d-4690-b0df-6c54de8b5627",
   "metadata": {
    "hide-output": false
   },
   "outputs": [],
   "source": [
    "df.loc[(\"bar\", \"two\")]"
   ]
  },
  {
   "cell_type": "markdown",
   "id": "9ee32d21",
   "metadata": {},
   "source": [
    "Note that `df.loc['bar', 'two']` would also work in this example, but this shorthand\n",
    "notation can lead to ambiguity in general.\n",
    "\n",
    "If you also want to index a specific column with `.loc`, you must use a tuple\n",
    "like this:"
   ]
  },
  {
   "cell_type": "code",
   "execution_count": null,
   "id": "c0735ed3",
   "metadata": {
    "hide-output": false
   },
   "outputs": [],
   "source": [
    "df.loc[(\"bar\", \"two\"), \"A\"]"
   ]
  },
  {
   "cell_type": "markdown",
   "id": "4040ef23",
   "metadata": {},
   "source": [
    "You don’t have to specify all levels of the `MultiIndex` by passing only the\n",
    "first elements of the tuple. For example, you can use “partial” indexing to\n",
    "get all elements with `bar` in the first level as follows:"
   ]
  },
  {
   "cell_type": "code",
   "execution_count": null,
   "id": "62f35a72",
   "metadata": {
    "hide-output": false
   },
   "outputs": [],
   "source": [
    "df.loc[\"bar\"]"
   ]
  },
  {
   "cell_type": "markdown",
   "id": "fed3c7c8",
   "metadata": {},
   "source": [
    "This is a shortcut for the slightly more verbose notation `df.loc[('bar',),]` (equivalent\n",
    "to `df.loc['bar',]` in this example).\n",
    "\n",
    "“Partial” slicing also works quite nicely."
   ]
  },
  {
   "cell_type": "code",
   "execution_count": null,
   "id": "b97c1c8e",
   "metadata": {
    "hide-output": false
   },
   "outputs": [],
   "source": [
    "df.loc[\"baz\":\"foo\"]"
   ]
  },
  {
   "cell_type": "markdown",
   "id": "334476e8",
   "metadata": {},
   "source": [
    "You can slice with a ‘range’ of values, by providing a slice of tuples."
   ]
  },
  {
   "cell_type": "code",
   "execution_count": null,
   "id": "4b01851b-20cc-4cc1-badf-bd5fccce6e52",
   "metadata": {
    "hide-output": false
   },
   "outputs": [],
   "source": [
    "df.loc[(\"baz\", \"two\"):(\"qux\", \"one\")]"
   ]
  },
  {
   "cell_type": "code",
   "execution_count": null,
   "id": "27923de8-8b91-405a-82ea-9111364e276f",
   "metadata": {
    "hide-output": false
   },
   "outputs": [],
   "source": [
    "df.loc[(\"baz\", \"two\"):\"foo\"]"
   ]
  },
  {
   "cell_type": "markdown",
   "id": "70a5c6e3",
   "metadata": {},
   "source": [
    "Passing a list of labels or tuples works similar to reindexing:"
   ]
  },
  {
   "cell_type": "code",
   "execution_count": null,
   "id": "1d30ca3a",
   "metadata": {
    "hide-output": false
   },
   "outputs": [],
   "source": [
    "df.loc[[(\"bar\", \"two\"), (\"qux\", \"one\")]]"
   ]
  },
  {
   "cell_type": "markdown",
   "id": "6cea231b",
   "metadata": {},
   "source": [
    ">**Note**\n",
    ">\n",
    ">It is important to note that tuples and lists are not treated identically\n",
    "in pandas when it comes to indexing. Whereas a tuple is interpreted as one\n",
    "multi-level key, a list is used to specify several keys. Or in other words,\n",
    "tuples go horizontally (traversing levels), lists go vertically (scanning levels).\n",
    "\n",
    "Importantly, a list of tuples indexes several complete `MultiIndex` keys,\n",
    "whereas a tuple of lists refer to several values within a level:"
   ]
  },
  {
   "cell_type": "code",
   "execution_count": null,
   "id": "190e4021-385a-4cfb-af23-0623984eeba9",
   "metadata": {
    "hide-output": false
   },
   "outputs": [],
   "source": [
    "s = pd.Series(\n",
    "    [1, 2, 3, 4, 5, 6],\n",
    "    index=pd.MultiIndex.from_product([[\"A\", \"B\"], [\"c\", \"d\", \"e\"]]),\n",
    ")\n",
    "s.loc[[(\"A\", \"c\"), (\"B\", \"d\")]]  # list of tuples"
   ]
  },
  {
   "cell_type": "code",
   "execution_count": null,
   "id": "e54a6f1b-1e49-4904-ae09-8dd26c107088",
   "metadata": {
    "hide-output": false
   },
   "outputs": [],
   "source": [
    "s.loc[([\"A\", \"B\"], [\"c\", \"d\"])]  # tuple of lists"
   ]
  },
  {
   "cell_type": "markdown",
   "id": "1450a660",
   "metadata": {},
   "source": [
    "\n",
    "<a id='multiindexing-advanced-mi-slicers'></a>"
   ]
  },
  {
   "cell_type": "markdown",
   "id": "1f223599",
   "metadata": {},
   "source": [
    "### Using slicers\n",
    "\n",
    "You can slice a `MultiIndex` by providing multiple indexers.\n",
    "\n",
    "You can provide any of the selectors as if you are indexing by label, see Selection by Label,\n",
    "including slices, lists of labels, labels, and boolean indexers.\n",
    "\n",
    "You can use `slice(None)` to select all the contents of *that* level. You do not need to specify all the\n",
    "*deeper* levels, they will be implied as `slice(None)`.\n",
    "\n",
    "As usual, **both sides** of the slicers are included as this is label indexing.\n",
    "\n",
    "You should specify all axes in the `.loc` specifier, meaning the indexer for the **index** and\n",
    "for the **columns**. There are some ambiguous cases where the passed indexer could be mis-interpreted\n",
    "as indexing *both* axes, rather than into say the `MultiIndex` for the rows.\n",
    "\n",
    "You should do this:"
   ]
  },
  {
   "cell_type": "markdown",
   "id": "42f63ac9-6d2f-4732-8432-23434d6c6890",
   "metadata": {
    "hide-output": false
   },
   "source": [
    "``` Python\n",
    "df.loc[(slice(\"A1\", \"A3\"), ...), :]  # noqa: E999\n",
    "```\n",
    "\n",
    "You should **not** do this:\n",
    "\n",
    "``` Python\n",
    "df.loc[(slice(\"A1\", \"A3\"), ...)]  # noqa: E999\n",
    "```"
   ]
  },
  {
   "cell_type": "code",
   "execution_count": null,
   "id": "eecf79f2",
   "metadata": {
    "hide-output": false
   },
   "outputs": [],
   "source": [
    "def mklbl(prefix, n):\n",
    "    return [\"%s%s\" % (prefix, i) for i in range(n)]\n",
    "\n",
    "\n",
    "miindex = pd.MultiIndex.from_product(\n",
    "    [mklbl(\"A\", 4), mklbl(\"B\", 2), mklbl(\"C\", 4), mklbl(\"D\", 2)]\n",
    ")\n",
    "micolumns = pd.MultiIndex.from_tuples(\n",
    "    [(\"a\", \"foo\"), (\"a\", \"bar\"), (\"b\", \"foo\"), (\"b\", \"bah\")], names=[\"lvl0\", \"lvl1\"]\n",
    ")\n",
    "dfmi = (\n",
    "    pd.DataFrame(\n",
    "        np.arange(len(miindex) * len(micolumns)).reshape(\n",
    "            (len(miindex), len(micolumns))\n",
    "        ),\n",
    "        index=miindex,\n",
    "        columns=micolumns,\n",
    "    )\n",
    "    .sort_index()\n",
    "    .sort_index(axis=1)\n",
    ")\n",
    "dfmi"
   ]
  },
  {
   "cell_type": "markdown",
   "id": "c2bd44ac",
   "metadata": {},
   "source": [
    "Basic MultiIndex slicing using slices, lists, and labels."
   ]
  },
  {
   "cell_type": "code",
   "execution_count": null,
   "id": "9b3e07e0",
   "metadata": {
    "hide-output": false
   },
   "outputs": [],
   "source": [
    "dfmi.loc[(slice(\"A1\", \"A3\"), slice(None), [\"C1\", \"C3\"]), :]"
   ]
  },
  {
   "cell_type": "markdown",
   "id": "dcf2e51f",
   "metadata": {},
   "source": [
    "You can use `pandas.IndexSlice` to facilitate a more natural syntax\n",
    "using `:`, rather than using `slice(None)`."
   ]
  },
  {
   "cell_type": "code",
   "execution_count": null,
   "id": "f341fcf8",
   "metadata": {
    "hide-output": false
   },
   "outputs": [],
   "source": [
    "idx = pd.IndexSlice\n",
    "dfmi.loc[idx[:, :, [\"C1\", \"C3\"]], idx[:, \"foo\"]]"
   ]
  },
  {
   "cell_type": "markdown",
   "id": "1128c94d",
   "metadata": {},
   "source": [
    "It is possible to perform quite complicated selections using this method on multiple\n",
    "axes at the same time."
   ]
  },
  {
   "cell_type": "code",
   "execution_count": null,
   "id": "d5aa2d64",
   "metadata": {
    "hide-output": false
   },
   "outputs": [],
   "source": [
    "dfmi.loc[\"A1\", (slice(None), \"foo\")]\n",
    "dfmi.loc[idx[:, :, [\"C1\", \"C3\"]], idx[:, \"foo\"]]"
   ]
  },
  {
   "cell_type": "markdown",
   "id": "0b8306d4",
   "metadata": {},
   "source": [
    "Using a boolean indexer you can provide selection related to the *values*."
   ]
  },
  {
   "cell_type": "code",
   "execution_count": null,
   "id": "8e2b7d2b",
   "metadata": {
    "hide-output": false
   },
   "outputs": [],
   "source": [
    "mask = dfmi[(\"a\", \"foo\")] > 200\n",
    "dfmi.loc[idx[mask, :, [\"C1\", \"C3\"]], idx[:, \"foo\"]]"
   ]
  },
  {
   "cell_type": "markdown",
   "id": "7dfbcfb8",
   "metadata": {},
   "source": [
    "You can also specify the `axis` argument to `.loc` to interpret the passed\n",
    "slicers on a single axis."
   ]
  },
  {
   "cell_type": "code",
   "execution_count": null,
   "id": "e79d9ee8",
   "metadata": {
    "hide-output": false
   },
   "outputs": [],
   "source": [
    "dfmi.loc(axis=0)[:, :, [\"C1\", \"C3\"]]"
   ]
  },
  {
   "cell_type": "markdown",
   "id": "e36919be",
   "metadata": {},
   "source": [
    "Furthermore, you can *set* the values using the following methods."
   ]
  },
  {
   "cell_type": "code",
   "execution_count": null,
   "id": "af2b0340",
   "metadata": {
    "hide-output": false
   },
   "outputs": [],
   "source": [
    "df2 = dfmi.copy()\n",
    "df2.loc(axis=0)[:, :, [\"C1\", \"C3\"]] = -10\n",
    "df2"
   ]
  },
  {
   "cell_type": "markdown",
   "id": "c523bd87",
   "metadata": {},
   "source": [
    "You can use a right-hand-side of an alignable object as well."
   ]
  },
  {
   "cell_type": "code",
   "execution_count": null,
   "id": "f8efbce4",
   "metadata": {
    "hide-output": false
   },
   "outputs": [],
   "source": [
    "df2 = dfmi.copy()\n",
    "df2.loc[idx[:, :, [\"C1\", \"C3\"]], :] = df2 * 1000\n",
    "df2"
   ]
  },
  {
   "cell_type": "markdown",
   "id": "68c56c74",
   "metadata": {},
   "source": [
    "\n",
    "<a id='multiindexing-advanced-xs'></a>"
   ]
  },
  {
   "cell_type": "markdown",
   "id": "b5128458",
   "metadata": {},
   "source": [
    "### Cross-section\n",
    "\n",
    "The `xs()` method of `DataFrame` additionally takes a level argument to make\n",
    "selecting data at a particular level of a `MultiIndex` easier."
   ]
  },
  {
   "cell_type": "code",
   "execution_count": null,
   "id": "a7f6262c",
   "metadata": {
    "hide-output": false
   },
   "outputs": [],
   "source": [
    "df\n",
    "df.xs(\"one\", level=\"second\")"
   ]
  },
  {
   "cell_type": "code",
   "execution_count": null,
   "id": "4c4b62bd",
   "metadata": {
    "hide-output": false
   },
   "outputs": [],
   "source": [
    "# using the slicers\n",
    "df.loc[(slice(None), \"one\"), :]"
   ]
  },
  {
   "cell_type": "markdown",
   "id": "732ff634",
   "metadata": {},
   "source": [
    "You can also select on the columns with `xs`, by\n",
    "providing the axis argument."
   ]
  },
  {
   "cell_type": "code",
   "execution_count": null,
   "id": "07290fb0",
   "metadata": {
    "hide-output": false
   },
   "outputs": [],
   "source": [
    "df = df.T\n",
    "df.xs(\"one\", level=\"second\", axis=1)"
   ]
  },
  {
   "cell_type": "code",
   "execution_count": null,
   "id": "a2b7fde5",
   "metadata": {
    "hide-output": false
   },
   "outputs": [],
   "source": [
    "# using the slicers\n",
    "df.loc[:, (slice(None), \"one\")]"
   ]
  },
  {
   "cell_type": "markdown",
   "id": "75bceca8",
   "metadata": {},
   "source": [
    "`xs` also allows selection with multiple keys."
   ]
  },
  {
   "cell_type": "code",
   "execution_count": null,
   "id": "b8970034",
   "metadata": {
    "hide-output": false
   },
   "outputs": [],
   "source": [
    "df.xs((\"one\", \"bar\"), level=(\"second\", \"first\"), axis=1)"
   ]
  },
  {
   "cell_type": "code",
   "execution_count": null,
   "id": "f58096e5",
   "metadata": {
    "hide-output": false
   },
   "outputs": [],
   "source": [
    "# using the slicers\n",
    "df.loc[:, (\"bar\", \"one\")]"
   ]
  },
  {
   "cell_type": "markdown",
   "id": "62b443c1",
   "metadata": {},
   "source": [
    "You can pass `drop_level=False` to `xs` to retain\n",
    "the level that was selected."
   ]
  },
  {
   "cell_type": "code",
   "execution_count": null,
   "id": "7469a42f",
   "metadata": {
    "hide-output": false
   },
   "outputs": [],
   "source": [
    "df.xs(\"one\", level=\"second\", axis=1, drop_level=False)"
   ]
  },
  {
   "cell_type": "markdown",
   "id": "2331abab",
   "metadata": {},
   "source": [
    "Compare the above with the result using `drop_level=True` (the default value)."
   ]
  },
  {
   "cell_type": "code",
   "execution_count": null,
   "id": "39015e2f",
   "metadata": {
    "hide-output": false
   },
   "outputs": [],
   "source": [
    "df.xs(\"one\", level=\"second\", axis=1, drop_level=True)"
   ]
  },
  {
   "cell_type": "code",
   "execution_count": null,
   "id": "f5c48e22",
   "metadata": {
    "hide-output": false
   },
   "outputs": [],
   "source": [
    "df = df.T"
   ]
  },
  {
   "cell_type": "markdown",
   "id": "4c835389",
   "metadata": {},
   "source": [
    "\n",
    "<a id='multiindexing-advanced-advanced-reindex'></a>"
   ]
  },
  {
   "cell_type": "markdown",
   "id": "6e44740e",
   "metadata": {},
   "source": [
    "### Advanced reindexing and alignment\n",
    "\n",
    "Using the parameter `level` in the `reindex()` and\n",
    "`align()` methods of pandas objects is useful to broadcast\n",
    "values across a level. For instance:"
   ]
  },
  {
   "cell_type": "code",
   "execution_count": null,
   "id": "05fcc7af-6623-4d9f-80ec-afd7582c3ebe",
   "metadata": {
    "hide-output": false
   },
   "outputs": [],
   "source": [
    "midx = pd.MultiIndex(\n",
    "    levels=[[\"zero\", \"one\"], [\"x\", \"y\"]], codes=[[1, 1, 0, 0], [1, 0, 1, 0]]\n",
    ")\n",
    "df = pd.DataFrame(np.random.randn(4, 2), index=midx)\n",
    "df"
   ]
  },
  {
   "cell_type": "code",
   "execution_count": null,
   "id": "9a009048-7db5-48f4-bab8-09d087a2413e",
   "metadata": {
    "hide-output": false
   },
   "outputs": [],
   "source": [
    "df2 = df.groupby(level=0).mean()\n",
    "df2"
   ]
  },
  {
   "cell_type": "code",
   "execution_count": null,
   "id": "f2d5eec7-c4ed-4edf-9dc3-2b3d7b04ed74",
   "metadata": {
    "hide-output": false
   },
   "outputs": [],
   "source": [
    "df2.reindex(df.index, level=0)\n",
    "\n",
    "# aligning\n",
    "df_aligned, df2_aligned = df.align(df2, level=0)\n",
    "df_aligned"
   ]
  },
  {
   "cell_type": "code",
   "execution_count": null,
   "id": "60d411cc-dc9f-48c5-96c8-6b32206efa98",
   "metadata": {
    "hide-output": false
   },
   "outputs": [],
   "source": [
    "df2_aligned"
   ]
  },
  {
   "cell_type": "markdown",
   "id": "bd16ab73",
   "metadata": {},
   "source": [
    "### Swapping levels with `swaplevel`\n",
    "\n",
    "The `swaplevel()` method can switch the order of two levels:"
   ]
  },
  {
   "cell_type": "code",
   "execution_count": null,
   "id": "217ba252-b1bc-4e1f-823e-d3edf09140dc",
   "metadata": {
    "hide-output": false
   },
   "outputs": [],
   "source": [
    "df[:5]"
   ]
  },
  {
   "cell_type": "code",
   "execution_count": null,
   "id": "64cc2aac-f443-47b9-aeee-3cdc45c36260",
   "metadata": {
    "hide-output": false
   },
   "outputs": [],
   "source": [
    "df[:5].swaplevel(0, 1, axis=0)"
   ]
  },
  {
   "cell_type": "markdown",
   "id": "85692e90",
   "metadata": {},
   "source": [
    "\n",
    "<a id='multiindexing-advanced-reorderlevels'></a>"
   ]
  },
  {
   "cell_type": "markdown",
   "id": "3d36fe5b",
   "metadata": {},
   "source": [
    "### Reordering levels with `reorder_levels`\n",
    "\n",
    "The `reorder_levels()` method generalizes the `swaplevel`\n",
    "method, allowing you to permute the hierarchical index levels in one step:"
   ]
  },
  {
   "cell_type": "code",
   "execution_count": null,
   "id": "f915167f",
   "metadata": {
    "hide-output": false
   },
   "outputs": [],
   "source": [
    "df[:5].reorder_levels([1, 0], axis=0)"
   ]
  },
  {
   "cell_type": "markdown",
   "id": "c1f2c8dc",
   "metadata": {},
   "source": [
    "\n",
    "<a id='multiindexing-advanced-index-names'></a>"
   ]
  },
  {
   "cell_type": "markdown",
   "id": "d19eb314",
   "metadata": {},
   "source": [
    "### Renaming names of an `Index` or `MultiIndex`\n",
    "\n",
    "The `rename()` method is used to rename the labels of a\n",
    "`MultiIndex`, and is typically used to rename the columns of a `DataFrame`.\n",
    "The `columns` argument of `rename` allows a dictionary to be specified\n",
    "that includes only the columns you wish to rename."
   ]
  },
  {
   "cell_type": "code",
   "execution_count": null,
   "id": "96b63605",
   "metadata": {
    "hide-output": false
   },
   "outputs": [],
   "source": [
    "df.rename(columns={0: \"col0\", 1: \"col1\"})"
   ]
  },
  {
   "cell_type": "markdown",
   "id": "3c4dfb31",
   "metadata": {},
   "source": [
    "This method can also be used to rename specific labels of the main index\n",
    "of the `DataFrame`."
   ]
  },
  {
   "cell_type": "code",
   "execution_count": null,
   "id": "1b16ed37",
   "metadata": {
    "hide-output": false
   },
   "outputs": [],
   "source": [
    "df.rename(index={\"one\": \"two\", \"y\": \"z\"})"
   ]
  },
  {
   "cell_type": "markdown",
   "id": "deb062bb",
   "metadata": {},
   "source": [
    "The `rename_axis()` method is used to rename the name of a\n",
    "`Index` or `MultiIndex`. In particular, the names of the levels of a\n",
    "`MultiIndex` can be specified, which is useful if `reset_index()` is later\n",
    "used to move the values from the `MultiIndex` to a column."
   ]
  },
  {
   "cell_type": "code",
   "execution_count": null,
   "id": "597da8a6",
   "metadata": {
    "hide-output": false
   },
   "outputs": [],
   "source": [
    "df.rename_axis(index=[\"abc\", \"def\"])"
   ]
  },
  {
   "cell_type": "markdown",
   "id": "06877b22",
   "metadata": {},
   "source": [
    "Note that the columns of a `DataFrame` are an index, so that using\n",
    "`rename_axis` with the `columns` argument will change the name of that\n",
    "index."
   ]
  },
  {
   "cell_type": "code",
   "execution_count": null,
   "id": "a0cdda03",
   "metadata": {
    "hide-output": false
   },
   "outputs": [],
   "source": [
    "df.rename_axis(columns=\"Cols\").columns"
   ]
  },
  {
   "cell_type": "markdown",
   "id": "fc930615",
   "metadata": {},
   "source": [
    "Both `rename` and `rename_axis` support specifying a dictionary,\n",
    "`Series` or a mapping function to map labels/names to new values.\n",
    "\n",
    "When working with an `Index` object directly, rather than via a `DataFrame`,\n",
    "`Index.set_names()` can be used to change the names."
   ]
  },
  {
   "cell_type": "code",
   "execution_count": null,
   "id": "2a2433fe-37ba-487f-80a7-ff40e9f479a0",
   "metadata": {
    "hide-output": false
   },
   "outputs": [],
   "source": [
    "mi = pd.MultiIndex.from_product([[1, 2], [\"a\", \"b\"]], names=[\"x\", \"y\"])\n",
    "mi.names"
   ]
  },
  {
   "cell_type": "code",
   "execution_count": null,
   "id": "a6a6a468-237c-482f-acbb-f6dd3fd1a83a",
   "metadata": {
    "hide-output": false
   },
   "outputs": [],
   "source": [
    "mi2 = mi.rename(\"new name\", level=0)\n",
    "mi2"
   ]
  },
  {
   "cell_type": "markdown",
   "id": "2c6c3333",
   "metadata": {},
   "source": [
    "You cannot set the names of the MultiIndex via a level."
   ]
  },
  {
   "cell_type": "markdown",
   "id": "11f1d391-5bb1-4803-98b6-76fe40ee7357",
   "metadata": {
    "hide-output": false
   },
   "source": [
    "``` Python\n",
    "\n",
    "mi.levels[0].name = \"name via level\"\n",
    "#RuntimeError: Cannot set name on a level of a MultiIndex. Use 'MultiIndex.set_names' instead.\n",
    "```"
   ]
  },
  {
   "cell_type": "markdown",
   "id": "ccaa0a5d",
   "metadata": {},
   "source": [
    "Use `Index.set_names()` instead."
   ]
  },
  {
   "cell_type": "markdown",
   "id": "628326b5",
   "metadata": {},
   "source": [
    "## Sorting a `MultiIndex`\n",
    "\n",
    "For `MultiIndex`-ed objects to be indexed and sliced effectively,\n",
    "they need to be sorted. As with any index, you can use `sort_index()`."
   ]
  },
  {
   "cell_type": "code",
   "execution_count": null,
   "id": "d6f2d562-0319-4051-8283-4b203c557653",
   "metadata": {
    "hide-output": false
   },
   "outputs": [],
   "source": [
    "import random\n",
    "\n",
    "random.shuffle(tuples)\n",
    "s = pd.Series(np.random.randn(8), index=pd.MultiIndex.from_tuples(tuples))\n",
    "s"
   ]
  },
  {
   "cell_type": "code",
   "execution_count": null,
   "id": "65641bd4-1d6b-4313-b2d6-8cc76ff3d5aa",
   "metadata": {
    "hide-output": false
   },
   "outputs": [],
   "source": [
    "s.sort_index()"
   ]
  },
  {
   "cell_type": "code",
   "execution_count": null,
   "id": "c65dc6f7-8f41-441c-8ee5-ac30be0654fb",
   "metadata": {
    "hide-output": false
   },
   "outputs": [],
   "source": [
    "s.sort_index(level=0)"
   ]
  },
  {
   "cell_type": "code",
   "execution_count": null,
   "id": "bdd5cb0e-6e4f-43b2-a6ab-16b363653c77",
   "metadata": {
    "hide-output": false
   },
   "outputs": [],
   "source": [
    "s.sort_index(level=1)"
   ]
  },
  {
   "cell_type": "markdown",
   "id": "7bafc650",
   "metadata": {},
   "source": [
    "\n",
    "<a id='multiindexing-advanced-sortlevel-byname'></a>\n",
    "You may also pass a level name to `sort_index` if the `MultiIndex` levels\n",
    "are named."
   ]
  },
  {
   "cell_type": "code",
   "execution_count": null,
   "id": "b48a1f72-9a85-4d1c-b459-0f63647d36ea",
   "metadata": {
    "hide-output": false
   },
   "outputs": [],
   "source": [
    "s.index.set_names([\"L1\", \"L2\"], inplace=True)"
   ]
  },
  {
   "cell_type": "code",
   "execution_count": null,
   "id": "9c2ca68f-2340-4fd4-9d59-96dbe3d2caac",
   "metadata": {
    "hide-output": false
   },
   "outputs": [],
   "source": [
    "s.sort_index(level=\"L1\")"
   ]
  },
  {
   "cell_type": "code",
   "execution_count": null,
   "id": "6f559821-f649-4e97-997e-a079ccc9cf64",
   "metadata": {
    "hide-output": false
   },
   "outputs": [],
   "source": [
    "s.sort_index(level=\"L2\")"
   ]
  },
  {
   "cell_type": "markdown",
   "id": "a526a197",
   "metadata": {},
   "source": [
    "On higher dimensional objects, you can sort any of the other axes by level if\n",
    "they have a `MultiIndex`:"
   ]
  },
  {
   "cell_type": "code",
   "execution_count": null,
   "id": "4d553b73",
   "metadata": {
    "hide-output": false
   },
   "outputs": [],
   "source": [
    "df.T.sort_index(level=1, axis=1)"
   ]
  },
  {
   "cell_type": "markdown",
   "id": "77365d0e",
   "metadata": {},
   "source": [
    "Indexing will work even if the data are not sorted, but will be rather\n",
    "inefficient (and show a `PerformanceWarning`). It will also\n",
    "return a copy of the data rather than a view:"
   ]
  },
  {
   "cell_type": "code",
   "execution_count": null,
   "id": "aad2e4da-53ec-4d6f-817d-08f0ed204b0b",
   "metadata": {
    "hide-output": false
   },
   "outputs": [],
   "source": [
    "dfm = pd.DataFrame(\n",
    "    {\"jim\": [0, 0, 1, 1], \"joe\": [\"x\", \"x\", \"z\", \"y\"], \"jolie\": np.random.rand(4)}\n",
    ")\n",
    "dfm = dfm.set_index([\"jim\", \"joe\"])\n",
    "dfm"
   ]
  },
  {
   "cell_type": "markdown",
   "id": "7d27c7d1",
   "metadata": {
    "hide-output": false
   },
   "source": [
    "```python\n",
    "In [4]: dfm.loc[(1, 'z')]\n",
    "PerformanceWarning: indexing past lexsort depth may impact performance.\n",
    "\n",
    "Out[4]:\n",
    "           jolie\n",
    "jim joe\n",
    "1   z    0.64094\n",
    "```\n"
   ]
  },
  {
   "cell_type": "markdown",
   "id": "a86923c5",
   "metadata": {},
   "source": [
    "\n",
    "<a id='multiindexing-advanced-unsorted'></a>\n",
    "Furthermore, if you try to index something that is not fully lexsorted, this can raise:"
   ]
  },
  {
   "cell_type": "markdown",
   "id": "de04d0be",
   "metadata": {
    "hide-output": false
   },
   "source": [
    "```python\n",
    "In [5]: dfm.loc[(0, 'y'):(1, 'z')]\n",
    "UnsortedIndexError: 'Key length (2) was greater than MultiIndex lexsort depth (1)'\n",
    "```\n"
   ]
  },
  {
   "cell_type": "markdown",
   "id": "fe2e975d",
   "metadata": {},
   "source": [
    "The `is_monotonic_increasing()` method on a `MultiIndex` shows if the\n",
    "index is sorted:"
   ]
  },
  {
   "cell_type": "code",
   "execution_count": null,
   "id": "e174de8b",
   "metadata": {
    "hide-output": false
   },
   "outputs": [],
   "source": [
    "dfm.index.is_monotonic_increasing"
   ]
  },
  {
   "cell_type": "code",
   "execution_count": null,
   "id": "c01ea490-abfa-4c6d-a893-decfdbe4ff89",
   "metadata": {
    "hide-output": false
   },
   "outputs": [],
   "source": [
    "dfm = dfm.sort_index()\n",
    "dfm"
   ]
  },
  {
   "cell_type": "code",
   "execution_count": null,
   "id": "b12bd3cc-a233-4fb9-a3c0-afbb8800164f",
   "metadata": {
    "hide-output": false
   },
   "outputs": [],
   "source": [
    "dfm.index.is_monotonic_increasing"
   ]
  },
  {
   "cell_type": "markdown",
   "id": "df46e28b",
   "metadata": {},
   "source": [
    "And now selection works as expected."
   ]
  },
  {
   "cell_type": "code",
   "execution_count": null,
   "id": "746719f5",
   "metadata": {
    "hide-output": false
   },
   "outputs": [],
   "source": [
    "dfm.loc[(0, \"y\"):(1, \"z\")]"
   ]
  },
  {
   "cell_type": "markdown",
   "id": "f550ed8f",
   "metadata": {},
   "source": [
    "## Take methods\n",
    "\n",
    "\n",
    "<a id='multiindexing-advanced-take'></a>\n",
    "Similar to NumPy ndarrays, pandas `Index`, `Series`, and `DataFrame` also provides\n",
    "the `take()` method that retrieves elements along a given axis at the given\n",
    "indices. The given indices must be either a list or an ndarray of integer\n",
    "index positions. `take` will also accept negative integers as relative positions to the end of the object."
   ]
  },
  {
   "cell_type": "code",
   "execution_count": null,
   "id": "6cccc8fe-d043-4c2f-b2d0-2f4827b74b80",
   "metadata": {
    "hide-output": false
   },
   "outputs": [],
   "source": [
    "index = pd.Index(np.random.randint(0, 1000, 10))\n",
    "index"
   ]
  },
  {
   "cell_type": "code",
   "execution_count": null,
   "id": "2fda12ac-c58e-4fdc-ad98-98611f186848",
   "metadata": {
    "hide-output": false
   },
   "outputs": [],
   "source": [
    "positions = [0, 9, 3]\n",
    "\n",
    "index[positions]"
   ]
  },
  {
   "cell_type": "code",
   "execution_count": null,
   "id": "de1a0b47-7f8a-477f-8ee3-db8866a03303",
   "metadata": {
    "hide-output": false
   },
   "outputs": [],
   "source": [
    "index.take(positions)"
   ]
  },
  {
   "cell_type": "code",
   "execution_count": null,
   "id": "a48b5147-cbac-4970-8392-5fddd0c4184a",
   "metadata": {
    "hide-output": false
   },
   "outputs": [],
   "source": [
    "ser = pd.Series(np.random.randn(10))\n",
    "ser"
   ]
  },
  {
   "cell_type": "code",
   "execution_count": null,
   "id": "e693035b-4d0e-4ba7-946d-a36182f8a80e",
   "metadata": {
    "hide-output": false
   },
   "outputs": [],
   "source": [
    "ser.iloc[positions]"
   ]
  },
  {
   "cell_type": "code",
   "execution_count": null,
   "id": "592f37f7-da54-4d9c-95b0-8472ed6ec7a3",
   "metadata": {
    "hide-output": false
   },
   "outputs": [],
   "source": [
    "ser.take(positions)"
   ]
  },
  {
   "cell_type": "markdown",
   "id": "3c07a16f",
   "metadata": {},
   "source": [
    "For DataFrames, the given indices should be a 1d list or ndarray that specifies\n",
    "row or column positions."
   ]
  },
  {
   "cell_type": "code",
   "execution_count": null,
   "id": "cda2324e-17c4-4d20-84a6-8462aaf4b6cb",
   "metadata": {
    "hide-output": false
   },
   "outputs": [],
   "source": [
    "frm = pd.DataFrame(np.random.randn(5, 3))\n",
    "frm.take([1, 4, 3])"
   ]
  },
  {
   "cell_type": "code",
   "execution_count": null,
   "id": "4482eb64-0dfc-4933-84e8-96582fa56e37",
   "metadata": {
    "hide-output": false
   },
   "outputs": [],
   "source": [
    "frm.take([0, 2], axis=1)"
   ]
  },
  {
   "cell_type": "markdown",
   "id": "7bb54f9b",
   "metadata": {},
   "source": [
    "It is important to note that the `take` method on pandas objects are not\n",
    "intended to work on boolean indices and may return unexpected results."
   ]
  },
  {
   "cell_type": "code",
   "execution_count": null,
   "id": "76f31d17-4dc5-4fb9-8f56-3b9f8751339a",
   "metadata": {
    "hide-output": false
   },
   "outputs": [],
   "source": [
    "arr = np.random.randn(10)\n",
    "arr.take([False, False, True, True])\n",
    "arr[[0, 1]]"
   ]
  },
  {
   "cell_type": "code",
   "execution_count": null,
   "id": "aaff8eaf-2b43-4e3b-8349-066eb1a14787",
   "metadata": {
    "hide-output": false
   },
   "outputs": [],
   "source": [
    "ser = pd.Series(np.random.randn(10))\n",
    "ser.take([False, False, True, True])"
   ]
  },
  {
   "cell_type": "code",
   "execution_count": null,
   "id": "601ae275-94ed-47ba-ab9a-ee322ca70714",
   "metadata": {
    "hide-output": false
   },
   "outputs": [],
   "source": [
    "ser.iloc[[0, 1]]"
   ]
  },
  {
   "cell_type": "markdown",
   "id": "d4476c5c",
   "metadata": {},
   "source": [
    "Finally, as a small note on performance, because the `take` method handles\n",
    "a narrower range of inputs, it can offer performance that is a good deal\n",
    "faster than fancy indexing."
   ]
  },
  {
   "cell_type": "code",
   "execution_count": null,
   "id": "fa16eef9",
   "metadata": {
    "hide-output": false
   },
   "outputs": [],
   "source": [
    "arr = np.random.randn(10000, 5)\n",
    "indexer = np.arange(10000)\n",
    "random.shuffle(indexer)\n",
    "\n",
    "%timeit arr[indexer]\n",
    "%timeit arr.take(indexer, axis=0)"
   ]
  },
  {
   "cell_type": "code",
   "execution_count": null,
   "id": "e6221ea0",
   "metadata": {
    "hide-output": false
   },
   "outputs": [],
   "source": [
    "ser = pd.Series(arr[:, 0])\n",
    "%timeit ser.iloc[indexer]\n",
    "%timeit ser.take(indexer)"
   ]
  },
  {
   "cell_type": "markdown",
   "id": "d5fcf281",
   "metadata": {},
   "source": [
    "\n",
    "<a id='indexing-index-types'></a>"
   ]
  },
  {
   "cell_type": "markdown",
   "id": "d83b0c5e",
   "metadata": {},
   "source": [
    "## Index types\n",
    "\n",
    "We have discussed `MultiIndex` in the previous sections pretty extensively.\n",
    "Documentation about `DatetimeIndex` and `PeriodIndex` are shown [here](38_timeseries.ipynb#timeseries-overview),\n",
    "and documentation about `TimedeltaIndex` is found [here](39_timedeltas.ipynb#timedeltas-index).\n",
    "\n",
    "In the following sub-sections we will highlight some other index types.\n",
    "\n",
    "\n",
    "<a id='indexing-categoricalindex'></a>"
   ]
  },
  {
   "cell_type": "markdown",
   "id": "a44aa748",
   "metadata": {},
   "source": [
    "### CategoricalIndex\n",
    "\n",
    "`CategoricalIndex` is a type of index that is useful for supporting\n",
    "indexing with duplicates. This is a container around a `Categorical`\n",
    "and allows efficient indexing and storage of an index with a large number of duplicated elements."
   ]
  },
  {
   "cell_type": "code",
   "execution_count": null,
   "id": "3225cec5-ea7e-48c6-a55c-ef0f1034b4b1",
   "metadata": {
    "hide-output": false
   },
   "outputs": [],
   "source": [
    "from pandas.api.types import CategoricalDtype\n",
    "\n",
    "df = pd.DataFrame({\"A\": np.arange(6), \"B\": list(\"aabbca\")})\n",
    "df[\"B\"] = df[\"B\"].astype(CategoricalDtype(list(\"cab\")))\n",
    "df"
   ]
  },
  {
   "cell_type": "code",
   "execution_count": null,
   "id": "3a796d87-e105-4b8b-9efa-8eae8b560588",
   "metadata": {
    "hide-output": false
   },
   "outputs": [],
   "source": [
    "df.dtypes"
   ]
  },
  {
   "cell_type": "code",
   "execution_count": null,
   "id": "ca8c6db0-b5ef-4c52-a044-1ccfcd1d1cc3",
   "metadata": {
    "hide-output": false
   },
   "outputs": [],
   "source": [
    "df[\"B\"].cat.categories"
   ]
  },
  {
   "cell_type": "markdown",
   "id": "f7add071",
   "metadata": {},
   "source": [
    "Setting the index will create a `CategoricalIndex`."
   ]
  },
  {
   "cell_type": "code",
   "execution_count": null,
   "id": "1d659af0",
   "metadata": {
    "hide-output": false
   },
   "outputs": [],
   "source": [
    "df2 = df.set_index(\"B\")\n",
    "df2.index"
   ]
  },
  {
   "cell_type": "markdown",
   "id": "2f9db467",
   "metadata": {},
   "source": [
    "Indexing with `__getitem__/.iloc/.loc` works similarly to an `Index` with duplicates.\n",
    "The indexers **must** be in the category or the operation will raise a `KeyError`."
   ]
  },
  {
   "cell_type": "code",
   "execution_count": null,
   "id": "4ee47e8c",
   "metadata": {
    "hide-output": false
   },
   "outputs": [],
   "source": [
    "df2.loc[\"a\"]"
   ]
  },
  {
   "cell_type": "markdown",
   "id": "6b6e76ea",
   "metadata": {},
   "source": [
    "The `CategoricalIndex` is **preserved** after indexing:"
   ]
  },
  {
   "cell_type": "code",
   "execution_count": null,
   "id": "56c53470",
   "metadata": {
    "hide-output": false
   },
   "outputs": [],
   "source": [
    "df2.loc[\"a\"].index"
   ]
  },
  {
   "cell_type": "markdown",
   "id": "816f1eb7",
   "metadata": {},
   "source": [
    "Sorting the index will sort by the order of the categories (recall that we\n",
    "created the index with `CategoricalDtype(list('cab'))`, so the sorted\n",
    "order is `cab`)."
   ]
  },
  {
   "cell_type": "code",
   "execution_count": null,
   "id": "e42e0d01",
   "metadata": {
    "hide-output": false
   },
   "outputs": [],
   "source": [
    "df2.sort_index()"
   ]
  },
  {
   "cell_type": "markdown",
   "id": "056e5104",
   "metadata": {},
   "source": [
    "Groupby operations on the index will preserve the index nature as well."
   ]
  },
  {
   "cell_type": "code",
   "execution_count": null,
   "id": "69d4804e-9984-4e7e-89d1-6b4efc01633e",
   "metadata": {
    "hide-output": false
   },
   "outputs": [],
   "source": [
    "df2.groupby(level=0).sum()"
   ]
  },
  {
   "cell_type": "code",
   "execution_count": null,
   "id": "f104ca6e-ea90-4761-beb0-8f82feefcc3b",
   "metadata": {
    "hide-output": false
   },
   "outputs": [],
   "source": [
    "df2.groupby(level=0).sum().index"
   ]
  },
  {
   "cell_type": "markdown",
   "id": "77b70a1c",
   "metadata": {},
   "source": [
    "Reindexing operations will return a resulting index based on the type of the passed\n",
    "indexer. Passing a list will return a plain-old `Index`; indexing with\n",
    "a `Categorical` will return a `CategoricalIndex`, indexed according to the categories\n",
    "of the **passed** `Categorical` dtype. This allows one to arbitrarily index these even with\n",
    "values **not** in the categories, similarly to how you can reindex **any** pandas index."
   ]
  },
  {
   "cell_type": "code",
   "execution_count": null,
   "id": "e79eacf6",
   "metadata": {
    "hide-output": false
   },
   "outputs": [],
   "source": [
    "df3 = pd.DataFrame(\n",
    "    {\"A\": np.arange(3), \"B\": pd.Series(list(\"abc\")).astype(\"category\")}\n",
    ")\n",
    "df3 = df3.set_index(\"B\")\n",
    "df3"
   ]
  },
  {
   "cell_type": "code",
   "execution_count": null,
   "id": "e6a554cf-1497-4b52-9aeb-f5aab0984fdd",
   "metadata": {
    "hide-output": false
   },
   "outputs": [],
   "source": [
    "df3.reindex([\"a\", \"e\"])"
   ]
  },
  {
   "cell_type": "code",
   "execution_count": null,
   "id": "b866fd57-147f-4ac3-9d58-26d80bb49cdc",
   "metadata": {
    "hide-output": false
   },
   "outputs": [],
   "source": [
    "df3.reindex([\"a\", \"e\"]).index"
   ]
  },
  {
   "cell_type": "code",
   "execution_count": null,
   "id": "42eade54-8ad1-463e-b1cd-c0de16df7f5a",
   "metadata": {
    "hide-output": false
   },
   "outputs": [],
   "source": [
    "df3.reindex(pd.Categorical([\"a\", \"e\"], categories=list(\"abe\")))"
   ]
  },
  {
   "cell_type": "code",
   "execution_count": null,
   "id": "f77bc027-317b-42a3-bb26-63c1a0f3a8cc",
   "metadata": {
    "hide-output": false
   },
   "outputs": [],
   "source": [
    "df3.reindex(pd.Categorical([\"a\", \"e\"], categories=list(\"abe\"))).index"
   ]
  },
  {
   "cell_type": "markdown",
   "id": "c228e997",
   "metadata": {},
   "source": [
    "Reshaping and Comparison operations on a `CategoricalIndex` must have the same categories\n",
    "or a `TypeError` will be raised."
   ]
  },
  {
   "cell_type": "code",
   "execution_count": null,
   "id": "2fdd4847-55f2-4a45-b624-395ad1b951a3",
   "metadata": {
    "hide-output": false
   },
   "outputs": [],
   "source": [
    "df4 = pd.DataFrame({\"A\": np.arange(2), \"B\": list(\"ba\")})\n",
    "df4[\"B\"] = df4[\"B\"].astype(CategoricalDtype(list(\"ab\")))\n",
    "df4 = df4.set_index(\"B\")\n",
    "df4.index"
   ]
  },
  {
   "cell_type": "code",
   "execution_count": null,
   "id": "cbced875-d0ea-4176-8778-d8e981d72ebd",
   "metadata": {
    "hide-output": false
   },
   "outputs": [],
   "source": [
    "df5 = pd.DataFrame({\"A\": np.arange(2), \"B\": list(\"bc\")})\n",
    "df5[\"B\"] = df5[\"B\"].astype(CategoricalDtype(list(\"bc\")))\n",
    "df5 = df5.set_index(\"B\")\n",
    "df5.index"
   ]
  },
  {
   "cell_type": "code",
   "execution_count": null,
   "id": "6d5d3368",
   "metadata": {
    "hide-output": false
   },
   "outputs": [],
   "source": [
    "pd.concat([df4, df5])\n"
   ]
  },
  {
   "cell_type": "markdown",
   "id": "692d001b",
   "metadata": {},
   "source": [
    "\n",
    "<a id='indexing-rangeindex'></a>"
   ]
  },
  {
   "cell_type": "markdown",
   "id": "81c86702",
   "metadata": {},
   "source": [
    "### Int64Index and RangeIndex\n",
    "\n",
    "`Int64Index` is a fundamental basic index in pandas. This is an immutable array\n",
    "implementing an ordered, sliceable set.\n",
    "\n",
    "`RangeIndex` is a sub-class of `Int64Index`  that provides the default index for all `NDFrame` objects.\n",
    "`RangeIndex` is an optimized version of `Int64Index` that can represent a monotonic ordered set. These are analogous to Python [range types](https://docs.python.org/3/library/stdtypes.html#typesseq-range).\n",
    "\n",
    "\n",
    "<a id='indexing-float64index'></a>"
   ]
  },
  {
   "cell_type": "markdown",
   "id": "5c30ef9c",
   "metadata": {},
   "source": [
    "### Float64Index\n",
    "\n",
    "By default a `Float64Index` will be automatically created when passing floating, or mixed-integer-floating values in index creation.\n",
    "This enables a pure label-based slicing paradigm that makes `[],ix,loc` for scalar indexing and slicing work exactly the\n",
    "same."
   ]
  },
  {
   "cell_type": "code",
   "execution_count": null,
   "id": "ecb4c2d5-b637-4978-8c46-10ed09527c8a",
   "metadata": {
    "hide-output": false
   },
   "outputs": [],
   "source": [
    "indexf = pd.Index([1.5, 2, 3, 4.5, 5])\n",
    "indexf"
   ]
  },
  {
   "cell_type": "code",
   "execution_count": null,
   "id": "d0cac7df-52f7-49fb-a38f-e53a33018fb9",
   "metadata": {
    "hide-output": false
   },
   "outputs": [],
   "source": [
    "sf = pd.Series(range(5), index=indexf)\n",
    "sf"
   ]
  },
  {
   "cell_type": "markdown",
   "id": "dc926fdf",
   "metadata": {},
   "source": [
    "Scalar selection for `[],.loc` will always be label based. An integer will match an equal float index (e.g. `3` is equivalent to `3.0`)."
   ]
  },
  {
   "cell_type": "code",
   "execution_count": null,
   "id": "cad280be-a060-4c64-b700-77d01173081e",
   "metadata": {
    "hide-output": false
   },
   "outputs": [],
   "source": [
    "sf[3]"
   ]
  },
  {
   "cell_type": "code",
   "execution_count": null,
   "id": "a02251a3-d57e-4c4a-9d3a-dba1769c6981",
   "metadata": {
    "hide-output": false
   },
   "outputs": [],
   "source": [
    "sf[3.0]"
   ]
  },
  {
   "cell_type": "code",
   "execution_count": null,
   "id": "b7714be3-2083-4070-a1b7-849a8a974d78",
   "metadata": {
    "hide-output": false
   },
   "outputs": [],
   "source": [
    "sf.loc[3]"
   ]
  },
  {
   "cell_type": "code",
   "execution_count": null,
   "id": "524eed41-d0bc-4232-97cb-3e135829e150",
   "metadata": {
    "hide-output": false
   },
   "outputs": [],
   "source": [
    "sf.loc[3.0]"
   ]
  },
  {
   "cell_type": "markdown",
   "id": "3e1479af",
   "metadata": {},
   "source": [
    "The only positional indexing is via `iloc`."
   ]
  },
  {
   "cell_type": "code",
   "execution_count": null,
   "id": "474809b6",
   "metadata": {
    "hide-output": false
   },
   "outputs": [],
   "source": [
    "sf.iloc[3]"
   ]
  },
  {
   "cell_type": "markdown",
   "id": "d3bbebdb",
   "metadata": {},
   "source": [
    "A scalar index that is not found will raise a `KeyError`.\n",
    "Slicing is primarily on the values of the index when using `[],ix,loc`, and\n",
    "**always** positional when using `iloc`. The exception is when the slice is\n",
    "boolean, in which case it will always be positional."
   ]
  },
  {
   "cell_type": "code",
   "execution_count": null,
   "id": "b45239c4-fd9e-4498-a884-f557af149b57",
   "metadata": {
    "hide-output": false
   },
   "outputs": [],
   "source": [
    "sf[2:4]"
   ]
  },
  {
   "cell_type": "code",
   "execution_count": null,
   "id": "fe312b24-361d-463f-b6a4-777d4e9697da",
   "metadata": {
    "hide-output": false
   },
   "outputs": [],
   "source": [
    "sf.loc[2:4]"
   ]
  },
  {
   "cell_type": "code",
   "execution_count": null,
   "id": "512273aa-c34b-4341-b299-769e21b6729d",
   "metadata": {
    "hide-output": false
   },
   "outputs": [],
   "source": [
    "sf.iloc[2:4]"
   ]
  },
  {
   "cell_type": "markdown",
   "id": "bcf65e8a",
   "metadata": {},
   "source": [
    "In float indexes, slicing using floats is allowed."
   ]
  },
  {
   "cell_type": "code",
   "execution_count": null,
   "id": "03ee1750-cf6f-4eae-aca8-514310cbe57f",
   "metadata": {
    "hide-output": false
   },
   "outputs": [],
   "source": [
    "sf[2.1:4.6]"
   ]
  },
  {
   "cell_type": "code",
   "execution_count": null,
   "id": "96362ed9-7b6a-4b80-a6f4-aa1454f7c3c2",
   "metadata": {
    "hide-output": false
   },
   "outputs": [],
   "source": [
    "sf.loc[2.1:4.6]"
   ]
  },
  {
   "cell_type": "markdown",
   "id": "406ee676",
   "metadata": {},
   "source": [
    "In non-float indexes, slicing using floats will raise a `TypeError`."
   ]
  },
  {
   "cell_type": "markdown",
   "id": "e023f41b",
   "metadata": {
    "hide-output": false
   },
   "source": [
    "```python\n",
    "In [1]: pd.Series(range(5))[3.5]\n",
    "TypeError: the label [3.5] is not a proper indexer for this index type (Int64Index)\n",
    "\n",
    "In [1]: pd.Series(range(5))[3.5:4.5]\n",
    "TypeError: the slice start [3.5] is not a proper indexer for this index type (Int64Index)\n",
    "```\n"
   ]
  },
  {
   "cell_type": "markdown",
   "id": "8a1dbca6",
   "metadata": {},
   "source": [
    "Here is a typical use-case for using this type of indexing. Imagine that you have a somewhat\n",
    "irregular timedelta-like indexing scheme, but the data is recorded as floats. This could, for\n",
    "example, be millisecond offsets."
   ]
  },
  {
   "cell_type": "code",
   "execution_count": null,
   "id": "a11694c5",
   "metadata": {
    "hide-output": false
   },
   "outputs": [],
   "source": [
    "dfir = pd.concat(\n",
    "    [\n",
    "        pd.DataFrame(\n",
    "            np.random.randn(5, 2), index=np.arange(5) * 250.0, columns=list(\"AB\")\n",
    "        ),\n",
    "        pd.DataFrame(\n",
    "            np.random.randn(6, 2),\n",
    "            index=np.arange(4, 10) * 250.1,\n",
    "            columns=list(\"AB\"),\n",
    "        ),\n",
    "    ]\n",
    ")\n",
    "dfir"
   ]
  },
  {
   "cell_type": "markdown",
   "id": "cb673348",
   "metadata": {},
   "source": [
    "Selection operations then will always work on a value basis, for all selection operators."
   ]
  },
  {
   "cell_type": "code",
   "execution_count": null,
   "id": "ce16a5ba-c4bd-4ea2-b33b-964c2d69cbc7",
   "metadata": {
    "hide-output": false
   },
   "outputs": [],
   "source": [
    "dfir[0:1000.4]"
   ]
  },
  {
   "cell_type": "code",
   "execution_count": null,
   "id": "4e023311-1205-4c58-a87b-5a9c32075b83",
   "metadata": {
    "hide-output": false
   },
   "outputs": [],
   "source": [
    "dfir.loc[0:1001, \"A\"]"
   ]
  },
  {
   "cell_type": "code",
   "execution_count": null,
   "id": "09495fce-6db7-496f-a44b-710f0ca587bf",
   "metadata": {
    "hide-output": false
   },
   "outputs": [],
   "source": [
    "dfir.loc[1000.4]"
   ]
  },
  {
   "cell_type": "markdown",
   "id": "eb37bcbb",
   "metadata": {},
   "source": [
    "You could retrieve the first 1 second (1000 ms) of data as such:"
   ]
  },
  {
   "cell_type": "code",
   "execution_count": null,
   "id": "a236d347",
   "metadata": {
    "hide-output": false
   },
   "outputs": [],
   "source": [
    "dfir[0:1000]"
   ]
  },
  {
   "cell_type": "markdown",
   "id": "12120871",
   "metadata": {},
   "source": [
    "If you need integer based selection, you should use `iloc`:"
   ]
  },
  {
   "cell_type": "code",
   "execution_count": null,
   "id": "50279a9a",
   "metadata": {
    "hide-output": false
   },
   "outputs": [],
   "source": [
    "dfir.iloc[0:5]"
   ]
  },
  {
   "cell_type": "markdown",
   "id": "9c17ce95",
   "metadata": {},
   "source": [
    "\n",
    "<a id='multiindexing-advanced-intervalindex'></a>"
   ]
  },
  {
   "cell_type": "markdown",
   "id": "8c7442a2",
   "metadata": {},
   "source": [
    "### IntervalIndex\n",
    "\n",
    "`IntervalIndex` together with its own dtype, `IntervalDtype`\n",
    "as well as the `Interval` scalar type,  allow first-class support in pandas\n",
    "for interval notation.\n",
    "\n",
    "The `IntervalIndex` allows some unique indexing and is also used as a\n",
    "return type for the categories in `cut()` and `qcut()`."
   ]
  },
  {
   "cell_type": "markdown",
   "id": "064dd854",
   "metadata": {},
   "source": [
    "#### Indexing with an `IntervalIndex`\n",
    "\n",
    "An `IntervalIndex` can be used in `Series` and in `DataFrame` as the index."
   ]
  },
  {
   "cell_type": "code",
   "execution_count": null,
   "id": "bc651359",
   "metadata": {
    "hide-output": false
   },
   "outputs": [],
   "source": [
    "df = pd.DataFrame(\n",
    "    {\"A\": [1, 2, 3, 4]}, index=pd.IntervalIndex.from_breaks([0, 1, 2, 3, 4])\n",
    ")\n",
    "df"
   ]
  },
  {
   "cell_type": "markdown",
   "id": "2fd92e7b",
   "metadata": {},
   "source": [
    "Label based indexing via `.loc` along the edges of an interval works as you would expect,\n",
    "selecting that particular interval."
   ]
  },
  {
   "cell_type": "code",
   "execution_count": null,
   "id": "81ec1843-9507-450f-bb86-909886415211",
   "metadata": {
    "hide-output": false
   },
   "outputs": [],
   "source": [
    "df.loc[2]"
   ]
  },
  {
   "cell_type": "code",
   "execution_count": null,
   "id": "b9632075-3850-4b43-b7c6-07adf09cfc40",
   "metadata": {
    "hide-output": false
   },
   "outputs": [],
   "source": [
    "df.loc[[2, 3]]"
   ]
  },
  {
   "cell_type": "markdown",
   "id": "053e34de",
   "metadata": {},
   "source": [
    "If you select a label *contained* within an interval, this will also select the interval."
   ]
  },
  {
   "cell_type": "code",
   "execution_count": null,
   "id": "ba92c8e6-aaad-4bcb-964d-50932b30a0fc",
   "metadata": {
    "hide-output": false
   },
   "outputs": [],
   "source": [
    "df.loc[2.5]"
   ]
  },
  {
   "cell_type": "code",
   "execution_count": null,
   "id": "52ee9347-460d-4676-a330-892ef1bcff0a",
   "metadata": {
    "hide-output": false
   },
   "outputs": [],
   "source": [
    "df.loc[[2.5, 3.5]]"
   ]
  },
  {
   "cell_type": "markdown",
   "id": "3730e7c1",
   "metadata": {},
   "source": [
    "Selecting using an `Interval` will only return exact matches (starting from pandas 0.25.0)."
   ]
  },
  {
   "cell_type": "code",
   "execution_count": null,
   "id": "91e6609b",
   "metadata": {
    "hide-output": false
   },
   "outputs": [],
   "source": [
    "df.loc[pd.Interval(1, 2)]"
   ]
  },
  {
   "cell_type": "markdown",
   "id": "9442ac55",
   "metadata": {},
   "source": [
    "Trying to select an `Interval` that is not exactly contained in the `IntervalIndex` will raise a `KeyError`."
   ]
  },
  {
   "cell_type": "markdown",
   "id": "01b1812d",
   "metadata": {
    "hide-output": false
   },
   "source": [
    "```python\n",
    "In [7]: df.loc[pd.Interval(0.5, 2.5)]\n",
    "---------------------------------------------------------------------------\n",
    "KeyError: Interval(0.5, 2.5, closed='right')\n",
    "```\n"
   ]
  },
  {
   "cell_type": "markdown",
   "id": "39a22ed4",
   "metadata": {},
   "source": [
    "Selecting all `Intervals` that overlap a given `Interval` can be performed using the\n",
    "`overlaps()` method to create a boolean indexer."
   ]
  },
  {
   "cell_type": "code",
   "execution_count": null,
   "id": "f23e4bde-d260-4311-bffb-f8fc0ba9fc94",
   "metadata": {
    "hide-output": false
   },
   "outputs": [],
   "source": [
    "idxr = df.index.overlaps(pd.Interval(0.5, 2.5))\n",
    "idxr"
   ]
  },
  {
   "cell_type": "code",
   "execution_count": null,
   "id": "1595f6e7-0fc3-471f-8d18-189728f01341",
   "metadata": {
    "hide-output": false
   },
   "outputs": [],
   "source": [
    "df[idxr]"
   ]
  },
  {
   "cell_type": "markdown",
   "id": "8ffa348d",
   "metadata": {},
   "source": [
    "#### Binning data with `cut` and `qcut`\n",
    "\n",
    "`cut()` and `qcut()` both return a `Categorical` object, and the bins they\n",
    "create are stored as an `IntervalIndex` in its `.categories` attribute."
   ]
  },
  {
   "cell_type": "code",
   "execution_count": null,
   "id": "6848370a-4d91-449a-8764-eafbfb0a9345",
   "metadata": {
    "hide-output": false
   },
   "outputs": [],
   "source": [
    "c = pd.cut(range(4), bins=2)\n",
    "c"
   ]
  },
  {
   "cell_type": "code",
   "execution_count": null,
   "id": "a9dd70bc-879d-4137-9861-b3d58924eb2b",
   "metadata": {
    "hide-output": false
   },
   "outputs": [],
   "source": [
    "c.categories"
   ]
  },
  {
   "cell_type": "markdown",
   "id": "6e8e04e1",
   "metadata": {},
   "source": [
    "`cut()` also accepts an `IntervalIndex` for its `bins` argument, which enables\n",
    "a useful pandas idiom. First, We call `cut()` with some data and `bins` set to a\n",
    "fixed number, to generate the bins. Then, we pass the values of `.categories` as the\n",
    "`bins` argument in subsequent calls to `cut()`, supplying new data which will be\n",
    "binned into the same bins."
   ]
  },
  {
   "cell_type": "code",
   "execution_count": null,
   "id": "e190ee37",
   "metadata": {
    "hide-output": false
   },
   "outputs": [],
   "source": [
    "pd.cut([0, 3, 5, 1], bins=c.categories)"
   ]
  },
  {
   "cell_type": "markdown",
   "id": "e3d8583b",
   "metadata": {},
   "source": [
    "Any value which falls outside all bins will be assigned a `NaN` value."
   ]
  },
  {
   "cell_type": "markdown",
   "id": "050e4817",
   "metadata": {},
   "source": [
    "#### Generating ranges of intervals\n",
    "\n",
    "If we need intervals on a regular frequency, we can use the `interval_range()` function\n",
    "to create an `IntervalIndex` using various combinations of `start`, `end`, and `periods`.\n",
    "The default frequency for `interval_range` is a 1 for numeric intervals, and calendar day for\n",
    "datetime-like intervals:"
   ]
  },
  {
   "cell_type": "code",
   "execution_count": null,
   "id": "3f99d14b-770b-43c6-9a1e-0d171a54e9d6",
   "metadata": {
    "hide-output": false
   },
   "outputs": [],
   "source": [
    "pd.interval_range(start=0, end=5)"
   ]
  },
  {
   "cell_type": "code",
   "execution_count": null,
   "id": "035ab9a9-78b7-4194-820d-f52ecf0ba384",
   "metadata": {
    "hide-output": false
   },
   "outputs": [],
   "source": [
    "pd.interval_range(start=pd.Timestamp(\"2017-01-01\"), periods=4)"
   ]
  },
  {
   "cell_type": "code",
   "execution_count": null,
   "id": "94c6ac2f-17ad-4f5e-a734-26a74cd0e729",
   "metadata": {
    "hide-output": false
   },
   "outputs": [],
   "source": [
    "pd.interval_range(end=pd.Timedelta(\"3 days\"), periods=3)"
   ]
  },
  {
   "cell_type": "markdown",
   "id": "51ab7ebe",
   "metadata": {},
   "source": [
    "The `freq` parameter can used to specify non-default frequencies, and can utilize a variety\n",
    "of [frequency aliases](38_timeseries.ipynb#timeseries-offset-aliases) with datetime-like intervals:"
   ]
  },
  {
   "cell_type": "code",
   "execution_count": null,
   "id": "9f4ddb88-9602-4c1e-8191-0c618c6dbff7",
   "metadata": {
    "hide-output": false
   },
   "outputs": [],
   "source": [
    "pd.interval_range(start=0, periods=5, freq=1.5)"
   ]
  },
  {
   "cell_type": "code",
   "execution_count": null,
   "id": "e9375953-cb21-41a2-aa5e-4b04604dd5fa",
   "metadata": {
    "hide-output": false
   },
   "outputs": [],
   "source": [
    "pd.interval_range(start=pd.Timestamp(\"2017-01-01\"), periods=4, freq=\"W\")"
   ]
  },
  {
   "cell_type": "code",
   "execution_count": null,
   "id": "94e8a3fb-ac75-4800-9fd4-95b2c707faf5",
   "metadata": {
    "hide-output": false
   },
   "outputs": [],
   "source": [
    "pd.interval_range(start=pd.Timedelta(\"0 days\"), periods=3, freq=\"9H\")"
   ]
  },
  {
   "cell_type": "markdown",
   "id": "c063dfc5",
   "metadata": {},
   "source": [
    "Additionally, the `closed` parameter can be used to specify which side(s) the intervals\n",
    "are closed on.  Intervals are closed on the right side by default."
   ]
  },
  {
   "cell_type": "code",
   "execution_count": null,
   "id": "7b13edbf-6bee-4ccb-8d7d-602940f00381",
   "metadata": {
    "hide-output": false
   },
   "outputs": [],
   "source": [
    "pd.interval_range(start=0, end=4, closed=\"both\")"
   ]
  },
  {
   "cell_type": "code",
   "execution_count": null,
   "id": "2026d039-b585-4468-918c-596d0ae19323",
   "metadata": {
    "hide-output": false
   },
   "outputs": [],
   "source": [
    "pd.interval_range(start=0, end=4, closed=\"neither\")"
   ]
  },
  {
   "cell_type": "markdown",
   "id": "5be3ba16",
   "metadata": {},
   "source": [
    "Specifying `start`, `end`, and `periods` will generate a range of evenly spaced\n",
    "intervals from `start` to `end` inclusively, with `periods` number of elements\n",
    "in the resulting `IntervalIndex`:"
   ]
  },
  {
   "cell_type": "code",
   "execution_count": null,
   "id": "f8479be8-41be-4e8c-8567-6de30e6d1209",
   "metadata": {
    "hide-output": false
   },
   "outputs": [],
   "source": [
    "pd.interval_range(start=0, end=6, periods=4)"
   ]
  },
  {
   "cell_type": "code",
   "execution_count": null,
   "id": "2b907cf9-01bf-4c45-aaf3-d6904b2c7f56",
   "metadata": {
    "hide-output": false
   },
   "outputs": [],
   "source": [
    "pd.interval_range(pd.Timestamp(\"2018-01-01\"), pd.Timestamp(\"2018-02-28\"), periods=3)"
   ]
  },
  {
   "cell_type": "markdown",
   "id": "7feafbbe",
   "metadata": {},
   "source": [
    "## Miscellaneous indexing FAQ"
   ]
  },
  {
   "cell_type": "markdown",
   "id": "784aa200",
   "metadata": {},
   "source": [
    "### Integer indexing\n",
    "\n",
    "Label-based indexing with integer axis labels is a thorny topic. It has been\n",
    "discussed heavily on mailing lists and among various members of the scientific\n",
    "Python community. In pandas, our general viewpoint is that labels matter more\n",
    "than integer locations. Therefore, with an integer axis index *only*\n",
    "label-based indexing is possible with the standard tools like `.loc`. The\n",
    "following code will generate exceptions:"
   ]
  },
  {
   "cell_type": "markdown",
   "id": "64dbd16b-1121-4c89-88de-c0d7d6616918",
   "metadata": {
    "hide-output": false
   },
   "source": [
    "``` Python\n",
    "\n",
    "s = pd.Series(range(5))\n",
    "s[-1]\n",
    "ValueError: -1 is not in range\n",
    "KeyError: -1\n",
    "```"
   ]
  },
  {
   "cell_type": "code",
   "execution_count": null,
   "id": "e53f62a8-e972-4219-9343-a8e822765242",
   "metadata": {
    "hide-output": false
   },
   "outputs": [],
   "source": [
    "df = pd.DataFrame(np.random.randn(5, 4))\n",
    "df"
   ]
  },
  {
   "cell_type": "code",
   "execution_count": null,
   "id": "94bc43f3-1316-4ca8-a7f0-e377b6831c8c",
   "metadata": {
    "hide-output": false
   },
   "outputs": [],
   "source": [
    "df.loc[-2:]"
   ]
  },
  {
   "cell_type": "markdown",
   "id": "b376a6fa",
   "metadata": {},
   "source": [
    "This deliberate decision was made to prevent ambiguities and subtle bugs (many\n",
    "users reported finding bugs when the API change was made to stop “falling back”\n",
    "on position-based indexing)."
   ]
  },
  {
   "cell_type": "markdown",
   "id": "a66cea80",
   "metadata": {},
   "source": [
    "### Non-monotonic indexes require exact matches\n",
    "\n",
    "If the index of a `Series` or `DataFrame` is monotonically increasing or decreasing, then the bounds\n",
    "of a label-based slice can be outside the range of the index, much like slice indexing a\n",
    "normal Python `list`. Monotonicity of an index can be tested with the `is_monotonic_increasing()` and\n",
    "`is_monotonic_decreasing()` attributes."
   ]
  },
  {
   "cell_type": "code",
   "execution_count": null,
   "id": "37afce4a-3be4-4d59-b880-a90314129d7c",
   "metadata": {
    "hide-output": false
   },
   "outputs": [],
   "source": [
    "df = pd.DataFrame(index=[2, 3, 3, 4, 5], columns=[\"data\"], data=list(range(5)))\n",
    "df.index.is_monotonic_increasing"
   ]
  },
  {
   "cell_type": "code",
   "execution_count": null,
   "id": "820f0322-ceb0-494b-aaba-13b1a0be391d",
   "metadata": {
    "hide-output": false
   },
   "outputs": [],
   "source": [
    "# no rows 0 or 1, but still returns rows 2, 3 (both of them), and 4:\n",
    "df.loc[0:4, :]"
   ]
  },
  {
   "cell_type": "code",
   "execution_count": null,
   "id": "64fd18d7-77cd-4231-8cba-3983746aafc0",
   "metadata": {
    "hide-output": false
   },
   "outputs": [],
   "source": [
    "# slice is are outside the index, so empty DataFrame is returned\n",
    "df.loc[13:15, :]"
   ]
  },
  {
   "cell_type": "markdown",
   "id": "989764f7",
   "metadata": {},
   "source": [
    "On the other hand, if the index is not monotonic, then both slice bounds must be\n",
    "*unique* members of the index."
   ]
  },
  {
   "cell_type": "code",
   "execution_count": null,
   "id": "38966f8b-6b3a-4361-bfc8-cb2b8a73eed3",
   "metadata": {
    "hide-output": false
   },
   "outputs": [],
   "source": [
    "df = pd.DataFrame(index=[2, 3, 1, 4, 3, 5], columns=[\"data\"], data=list(range(6)))\n",
    "df.index.is_monotonic_increasing"
   ]
  },
  {
   "cell_type": "code",
   "execution_count": null,
   "id": "0251ab32-1a43-4aa8-b5ae-34f237f1e907",
   "metadata": {
    "hide-output": false
   },
   "outputs": [],
   "source": [
    "# OK because 2 and 4 are in the index\n",
    "df.loc[2:4, :]"
   ]
  },
  {
   "cell_type": "markdown",
   "id": "a610c07c",
   "metadata": {
    "hide-output": false
   },
   "source": [
    "```python\n",
    "# 0 is not in the index\n",
    "In [9]: df.loc[0:4, :]\n",
    "KeyError: 0\n",
    "\n",
    "# 3 is not a unique label\n",
    "In [11]: df.loc[2:3, :]\n",
    "KeyError: 'Cannot get right slice bound for non-unique label: 3'\n",
    "```\n"
   ]
  },
  {
   "cell_type": "markdown",
   "id": "5a93525c",
   "metadata": {},
   "source": [
    "`Index.is_monotonic_increasing` and `Index.is_monotonic_decreasing` only check that\n",
    "an index is weakly monotonic. To check for strict monotonicity, you can combine one of those with\n",
    "the `is_unique()` attribute."
   ]
  },
  {
   "cell_type": "code",
   "execution_count": null,
   "id": "2f768e3e",
   "metadata": {
    "hide-output": false
   },
   "outputs": [],
   "source": [
    "weakly_monotonic = pd.Index([\"a\", \"b\", \"c\", \"c\"])\n",
    "weakly_monotonic\n",
    "weakly_monotonic.is_monotonic_increasing\n",
    "weakly_monotonic.is_monotonic_increasing & weakly_monotonic.is_unique"
   ]
  },
  {
   "cell_type": "markdown",
   "id": "61587ea5",
   "metadata": {},
   "source": [
    "\n",
    "<a id='multiindexing-advanced-endpoints-are-inclusive'></a>"
   ]
  },
  {
   "cell_type": "markdown",
   "id": "98c27a22",
   "metadata": {},
   "source": [
    "### Endpoints are inclusive\n",
    "\n",
    "Compared with standard Python sequence slicing in which the slice endpoint is\n",
    "not inclusive, label-based slicing in pandas **is inclusive**. The primary\n",
    "reason for this is that it is often not possible to easily determine the\n",
    "“successor” or next element after a particular label in an index. For example,\n",
    "consider the following `Series`:"
   ]
  },
  {
   "cell_type": "code",
   "execution_count": null,
   "id": "8640bab1",
   "metadata": {
    "hide-output": false
   },
   "outputs": [],
   "source": [
    "s = pd.Series(np.random.randn(6), index=list(\"abcdef\"))\n",
    "s"
   ]
  },
  {
   "cell_type": "markdown",
   "id": "e22ac06a",
   "metadata": {},
   "source": [
    "Suppose we wished to slice from `c` to `e`, using integers this would be\n",
    "accomplished as such:"
   ]
  },
  {
   "cell_type": "code",
   "execution_count": null,
   "id": "5ed471e1",
   "metadata": {
    "hide-output": false
   },
   "outputs": [],
   "source": [
    "s[2:5]"
   ]
  },
  {
   "cell_type": "markdown",
   "id": "2103c561",
   "metadata": {},
   "source": [
    "However, if you only had `c` and `e`, determining the next element in the\n",
    "index can be somewhat complicated. For example, the following does not work:"
   ]
  },
  {
   "cell_type": "code",
   "execution_count": null,
   "id": "f9bcafe8",
   "metadata": {
    "hide-output": false
   },
   "outputs": [],
   "source": [
    "s.loc['c':'e' + 1]"
   ]
  },
  {
   "cell_type": "markdown",
   "id": "1992baf8",
   "metadata": {},
   "source": [
    "A very common use case is to limit a time series to start and end at two\n",
    "specific dates. To enable this, we made the design choice to make label-based\n",
    "slicing include both endpoints:"
   ]
  },
  {
   "cell_type": "code",
   "execution_count": null,
   "id": "6eb1da97",
   "metadata": {
    "hide-output": false
   },
   "outputs": [],
   "source": [
    "s.loc[\"c\":\"e\"]"
   ]
  },
  {
   "cell_type": "markdown",
   "id": "1a13a1bb",
   "metadata": {},
   "source": [
    "This is most definitely a “practicality beats purity” sort of thing, but it is\n",
    "something to watch out for if you expect label-based slicing to behave exactly\n",
    "in the way that standard Python integer slicing works."
   ]
  },
  {
   "cell_type": "markdown",
   "id": "2aca6130",
   "metadata": {},
   "source": [
    "### Indexing potentially changes underlying Series dtype\n",
    "\n",
    "The different indexing operation can potentially change the dtype of a `Series`."
   ]
  },
  {
   "cell_type": "code",
   "execution_count": null,
   "id": "7ee38e6b-be1e-4da9-8e4b-9179e4d51915",
   "metadata": {
    "hide-output": false
   },
   "outputs": [],
   "source": [
    "series1 = pd.Series([1, 2, 3])\n",
    "series1.dtype"
   ]
  },
  {
   "cell_type": "code",
   "execution_count": null,
   "id": "eb0f7ce2-ec0f-418f-bcc6-b06f1a1492d8",
   "metadata": {
    "hide-output": false
   },
   "outputs": [],
   "source": [
    "res = series1.reindex([0, 4])\n",
    "res.dtype"
   ]
  },
  {
   "cell_type": "code",
   "execution_count": null,
   "id": "edd1cf56-e708-4f91-8077-e0bd482813e2",
   "metadata": {
    "hide-output": false
   },
   "outputs": [],
   "source": [
    "res"
   ]
  },
  {
   "cell_type": "code",
   "execution_count": null,
   "id": "81376a73-251d-47b7-bd12-71e4418f2464",
   "metadata": {
    "hide-output": false
   },
   "outputs": [],
   "source": [
    "series2 = pd.Series([True])\n",
    "series2.dtype"
   ]
  },
  {
   "cell_type": "code",
   "execution_count": null,
   "id": "2dc0f425-93ab-47e5-a926-f5bdabff16c6",
   "metadata": {
    "hide-output": false
   },
   "outputs": [],
   "source": [
    "res = series2.reindex_like(series1)\n",
    "res.dtype"
   ]
  },
  {
   "cell_type": "code",
   "execution_count": null,
   "id": "e8f72191-4236-43d4-b05a-ca319331b7d8",
   "metadata": {
    "hide-output": false
   },
   "outputs": [],
   "source": [
    "res"
   ]
  },
  {
   "cell_type": "markdown",
   "id": "c33e4676",
   "metadata": {},
   "source": [
    "This is because the (re)indexing operations above silently inserts `NaNs` and the `dtype`\n",
    "changes accordingly.  This can cause some issues when using `numpy` `ufuncs`\n",
    "such as `numpy.logical_and`.\n",
    "\n",
    "See the [this old issue](https://github.com/pydata/pandas/issues/2388) for a more\n",
    "detailed discussion."
   ]
  }
 ],
 "metadata": {
  "date": 1630231086.3128047,
  "filename": "24_multiindexing_advanced.rst",
  "kernelspec": {
   "display_name": "Python 3",
   "language": "python",
   "name": "python3"
  },
  "language_info": {
   "codemirror_mode": {
    "name": "ipython",
    "version": 3
   },
   "file_extension": ".py",
   "mimetype": "text/x-python",
   "name": "python",
   "nbconvert_exporter": "python",
   "pygments_lexer": "ipython3",
   "version": "3.8.8"
  },
  "title": "MultiIndex / advanced indexing"
 },
 "nbformat": 4,
 "nbformat_minor": 5
}
