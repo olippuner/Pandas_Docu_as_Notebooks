{
 "cells": [
  {
   "cell_type": "code",
   "execution_count": null,
   "id": "2e6ff625-c06d-4c4b-b5ec-e9f63873e302",
   "metadata": {},
   "outputs": [],
   "source": [
    "import numpy as np\n",
    "import pandas as pd\n",
    "import matplotlib.pyplot as plt\n",
    "print(\"pandas\", pd.__version__)\n",
    "print(\"numpy\",np.__version__)"
   ]
  },
  {
   "cell_type": "markdown",
   "id": "a55fef49",
   "metadata": {},
   "source": [
    "# Computational tools"
   ]
  },
  {
   "cell_type": "markdown",
   "id": "9ec72181",
   "metadata": {},
   "source": [
    "## Statistical functions\n",
    "\n",
    "\n",
    "<a id='computation-pct-change'></a>"
   ]
  },
  {
   "cell_type": "markdown",
   "id": "68b6ef94",
   "metadata": {},
   "source": [
    "### Percent change\n",
    "\n",
    "`Series` and `DataFrame` have a method\n",
    "`pct_change()` to compute the percent change over a given number\n",
    "of periods (using `fill_method` to fill NA/null values *before* computing\n",
    "the percent change)."
   ]
  },
  {
   "cell_type": "code",
   "execution_count": null,
   "id": "32382c20",
   "metadata": {
    "hide-output": false
   },
   "outputs": [],
   "source": [
    "ser = pd.Series(np.random.randn(8))\n",
    "ser.pct_change()"
   ]
  },
  {
   "cell_type": "code",
   "execution_count": null,
   "id": "72aa7543",
   "metadata": {
    "hide-output": false
   },
   "outputs": [],
   "source": [
    "df = pd.DataFrame(np.random.randn(10, 4))\n",
    "df.pct_change(periods=3)"
   ]
  },
  {
   "cell_type": "markdown",
   "id": "7cd09252",
   "metadata": {},
   "source": [
    "\n",
    "<a id='computation-covariance'></a>"
   ]
  },
  {
   "cell_type": "markdown",
   "id": "d7541a28",
   "metadata": {},
   "source": [
    "### Covariance\n",
    "\n",
    "`Series.cov()` can be used to compute covariance between series\n",
    "(excluding missing values)."
   ]
  },
  {
   "cell_type": "code",
   "execution_count": null,
   "id": "6644b61c",
   "metadata": {
    "hide-output": false
   },
   "outputs": [],
   "source": [
    "s1 = pd.Series(np.random.randn(1000))\n",
    "s2 = pd.Series(np.random.randn(1000))\n",
    "s1.cov(s2)"
   ]
  },
  {
   "cell_type": "markdown",
   "id": "6583b66d",
   "metadata": {},
   "source": [
    "Analogously, `DataFrame.cov()` to compute pairwise covariances among the\n",
    "series in the DataFrame, also excluding NA/null values.\n",
    "\n",
    "\n",
    "<a id='computation-covariance-caveats'></a>\n",
    ">**Note**\n",
    ">\n",
    ">Assuming the missing data are missing at random this results in an estimate\n",
    "for the covariance matrix which is unbiased. However, for many applications\n",
    "this estimate may not be acceptable because the estimated covariance matrix\n",
    "is not guaranteed to be positive semi-definite. This could lead to\n",
    "estimated correlations having absolute values which are greater than one,\n",
    "and/or a non-invertible covariance matrix. See [Estimation of covariance\n",
    "matrices](https://en.wikipedia.org/w/index.php?title=Estimation_of_covariance_matrices)\n",
    "for more details."
   ]
  },
  {
   "cell_type": "code",
   "execution_count": null,
   "id": "e5f1fc55",
   "metadata": {
    "hide-output": false
   },
   "outputs": [],
   "source": [
    "frame = pd.DataFrame(np.random.randn(1000, 5), columns=[\"a\", \"b\", \"c\", \"d\", \"e\"])\n",
    "frame.cov()"
   ]
  },
  {
   "cell_type": "markdown",
   "id": "819523fd",
   "metadata": {},
   "source": [
    "`DataFrame.cov` also supports an optional `min_periods` keyword that\n",
    "specifies the required minimum number of observations for each column pair\n",
    "in order to have a valid result."
   ]
  },
  {
   "cell_type": "code",
   "execution_count": null,
   "id": "5f5836ef-267c-4685-b8da-f9646ee893c5",
   "metadata": {
    "hide-output": false
   },
   "outputs": [],
   "source": [
    "frame = pd.DataFrame(np.random.randn(20, 3), columns=[\"a\", \"b\", \"c\"])\n",
    "frame.loc[frame.index[:5], \"a\"] = np.nan\n",
    "frame.loc[frame.index[5:10], \"b\"] = np.nan\n",
    "frame.cov()"
   ]
  },
  {
   "cell_type": "code",
   "execution_count": null,
   "id": "0d12f46b-d1d1-4e7b-9cfa-2183df587157",
   "metadata": {
    "hide-output": false
   },
   "outputs": [],
   "source": [
    "frame.cov(min_periods=12)"
   ]
  },
  {
   "cell_type": "markdown",
   "id": "65626af3",
   "metadata": {},
   "source": [
    "\n",
    "<a id='computation-correlation'></a>"
   ]
  },
  {
   "cell_type": "markdown",
   "id": "b2f1112f",
   "metadata": {},
   "source": [
    "### Correlation\n",
    "\n",
    "Correlation may be computed using the `corr()` method.\n",
    "Using the `method` parameter, several methods for computing correlations are\n",
    "provided:\n",
    "\n",
    "|Method name|Description|\n",
    "|:------------------|:------------------------------------------------------------------------------|\n",
    "|pearson (default)|Standard correlation coefficient|\n",
    "|kendall|Kendall Tau correlation coefficient|\n",
    "|spearman|Spearman rank correlation coefficient|\n",
    "\n",
    "\n",
    "All of these are currently computed using pairwise complete observations.\n",
    "Wikipedia has articles covering the above correlation coefficients:\n",
    "\n",
    "- [Pearson correlation coefficient](https://en.wikipedia.org/wiki/Pearson_correlation_coefficient)  \n",
    "- [Kendall rank correlation coefficient](https://en.wikipedia.org/wiki/Kendall_rank_correlation_coefficient)  \n",
    "- [Spearman’s rank correlation coefficient](https://en.wikipedia.org/wiki/Spearman%27s_rank_correlation_coefficient)  \n",
    "\n",
    "\n",
    ">**Note**\n",
    ">\n",
    ">Please see the [caveats](#computation-covariance-caveats) associated\n",
    "with this method of calculating correlation matrices in the\n",
    "[covariance section](#computation-covariance)."
   ]
  },
  {
   "cell_type": "code",
   "execution_count": null,
   "id": "68f9f0ae-9e37-499b-b1d1-14e314d3184c",
   "metadata": {
    "hide-output": false
   },
   "outputs": [],
   "source": [
    "frame = pd.DataFrame(np.random.randn(1000, 5), columns=[\"a\", \"b\", \"c\", \"d\", \"e\"])\n",
    "frame.iloc[::2] = np.nan\n",
    "\n",
    "# Series with Series\n",
    "frame[\"a\"].corr(frame[\"b\"])"
   ]
  },
  {
   "cell_type": "code",
   "execution_count": null,
   "id": "fad979fe-233c-47d4-b00a-4e32d2a1b98a",
   "metadata": {
    "hide-output": false
   },
   "outputs": [],
   "source": [
    "frame[\"a\"].corr(frame[\"b\"], method=\"spearman\")"
   ]
  },
  {
   "cell_type": "code",
   "execution_count": null,
   "id": "691efd49-1cea-4529-9e73-e3a99853cc51",
   "metadata": {
    "hide-output": false
   },
   "outputs": [],
   "source": [
    "# Pairwise correlation of DataFrame columns\n",
    "frame.corr()"
   ]
  },
  {
   "cell_type": "markdown",
   "id": "15ac9cbd",
   "metadata": {},
   "source": [
    "Note that non-numeric columns will be automatically excluded from the\n",
    "correlation calculation.\n",
    "\n",
    "Like `cov`, `corr` also supports the optional `min_periods` keyword:"
   ]
  },
  {
   "cell_type": "code",
   "execution_count": null,
   "id": "f0a46810-5608-42d2-ab69-7fcc800c9123",
   "metadata": {
    "hide-output": false
   },
   "outputs": [],
   "source": [
    "frame = pd.DataFrame(np.random.randn(20, 3), columns=[\"a\", \"b\", \"c\"])\n",
    "frame.loc[frame.index[:5], \"a\"] = np.nan\n",
    "frame.loc[frame.index[5:10], \"b\"] = np.nan\n",
    "frame.corr()"
   ]
  },
  {
   "cell_type": "code",
   "execution_count": null,
   "id": "f2750e99-eeb7-49cf-a3f4-962296dbc726",
   "metadata": {
    "hide-output": false
   },
   "outputs": [],
   "source": [
    "frame.corr(min_periods=12)"
   ]
  },
  {
   "cell_type": "markdown",
   "id": "62ca9fe6",
   "metadata": {},
   "source": [
    "The `method` argument can also be a callable for a generic correlation\n",
    "calculation. In this case, it should be a single function\n",
    "that produces a single value from two ndarray inputs. Suppose we wanted to\n",
    "compute the correlation based on histogram intersection:"
   ]
  },
  {
   "cell_type": "code",
   "execution_count": null,
   "id": "2d1e2f21",
   "metadata": {
    "hide-output": false
   },
   "outputs": [],
   "source": [
    "# histogram intersection\n",
    "def histogram_intersection(a, b):\n",
    "    return np.minimum(np.true_divide(a, a.sum()), np.true_divide(b, b.sum())).sum()\n",
    "\n",
    "\n",
    "frame.corr(method=histogram_intersection)"
   ]
  },
  {
   "cell_type": "markdown",
   "id": "3653103b",
   "metadata": {},
   "source": [
    "A related method `corrwith()` is implemented on DataFrame to\n",
    "compute the correlation between like-labeled Series contained in different\n",
    "DataFrame objects."
   ]
  },
  {
   "cell_type": "code",
   "execution_count": null,
   "id": "88585ba9-dfae-49f2-963e-cc53439ae88f",
   "metadata": {
    "hide-output": false
   },
   "outputs": [],
   "source": [
    "index = [\"a\", \"b\", \"c\", \"d\", \"e\"]\n",
    "columns = [\"one\", \"two\", \"three\", \"four\"]\n",
    "df1 = pd.DataFrame(np.random.randn(5, 4), index=index, columns=columns)\n",
    "df2 = pd.DataFrame(np.random.randn(4, 4), index=index[:4], columns=columns)\n",
    "df1.corrwith(df2)"
   ]
  },
  {
   "cell_type": "code",
   "execution_count": null,
   "id": "6374cfde-1188-4ec6-b210-a588e30d7662",
   "metadata": {
    "hide-output": false
   },
   "outputs": [],
   "source": [
    "df2.corrwith(df1, axis=1)"
   ]
  },
  {
   "cell_type": "markdown",
   "id": "7248b03b",
   "metadata": {},
   "source": [
    "\n",
    "<a id='computation-ranking'></a>"
   ]
  },
  {
   "cell_type": "markdown",
   "id": "0b53577f",
   "metadata": {},
   "source": [
    "### Data ranking\n",
    "\n",
    "The `rank()` method produces a data ranking with ties being\n",
    "assigned the mean of the ranks (by default) for the group:"
   ]
  },
  {
   "cell_type": "code",
   "execution_count": null,
   "id": "6bea666a",
   "metadata": {
    "hide-output": false
   },
   "outputs": [],
   "source": [
    "s = pd.Series(np.random.randn(5), index=list(\"abcde\"))\n",
    "s[\"d\"] = s[\"b\"]  # so there's a tie\n",
    "s.rank()"
   ]
  },
  {
   "cell_type": "markdown",
   "id": "7e7fb511",
   "metadata": {},
   "source": [
    "`rank()` is also a DataFrame method and can rank either the rows\n",
    "(`axis=0`) or the columns (`axis=1`). `NaN` values are excluded from the\n",
    "ranking."
   ]
  },
  {
   "cell_type": "code",
   "execution_count": null,
   "id": "aad026f8-879e-4c5d-a937-da7a8c2985fc",
   "metadata": {
    "hide-output": false
   },
   "outputs": [],
   "source": [
    "df = pd.DataFrame(np.random.randn(10, 6))\n",
    "df[4] = df[2][:5]  # some ties\n",
    "df"
   ]
  },
  {
   "cell_type": "code",
   "execution_count": null,
   "id": "3749036c-12bc-4a86-9a7f-14d422b81bea",
   "metadata": {
    "hide-output": false
   },
   "outputs": [],
   "source": [
    "df.rank(1)"
   ]
  },
  {
   "cell_type": "markdown",
   "id": "b839a943",
   "metadata": {},
   "source": [
    "`rank` optionally takes a parameter `ascending` which by default is true;\n",
    "when false, data is reverse-ranked, with larger values assigned a smaller rank.\n",
    "\n",
    "`rank` supports different tie-breaking methods, specified with the `method`\n",
    "parameter:\n",
    "\n",
    "> - `average` : average rank of tied group  \n",
    "- `min` : lowest rank in the group  \n",
    "- `max` : highest rank in the group  \n",
    "- `first` : ranks assigned in the order they appear in the array  \n",
    "\n",
    "\n",
    "\n",
    "\n",
    "<a id='computation-windowing'></a>"
   ]
  },
  {
   "cell_type": "markdown",
   "id": "d74c5db5",
   "metadata": {},
   "source": [
    "### Windowing functions\n",
    "\n",
    "See [the window operations user guide](37_window.ipynb#window-overview) for an overview of windowing functions."
   ]
  }
 ],
 "metadata": {
  "date": 1630231090.0352476,
  "filename": "35_computation.rst",
  "kernelspec": {
   "display_name": "Python 3 (ipykernel)",
   "language": "python",
   "name": "python3"
  },
  "language_info": {
   "codemirror_mode": {
    "name": "ipython",
    "version": 3
   },
   "file_extension": ".py",
   "mimetype": "text/x-python",
   "name": "python",
   "nbconvert_exporter": "python",
   "pygments_lexer": "ipython3",
   "version": "3.8.8"
  },
  "title": "Computational tools"
 },
 "nbformat": 4,
 "nbformat_minor": 5
}
