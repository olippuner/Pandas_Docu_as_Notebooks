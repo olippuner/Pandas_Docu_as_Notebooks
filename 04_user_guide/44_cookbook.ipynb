{
 "cells": [
  {
   "cell_type": "code",
   "execution_count": null,
   "id": "a9864cf2-4035-4906-a149-8659413c8ffe",
   "metadata": {},
   "outputs": [],
   "source": [
    "import numpy as np\n",
    "import pandas as pd\n",
    "import matplotlib.pyplot as plt\n",
    "print(\"pandas\", pd.__version__)\n",
    "print(\"numpy\",np.__version__)"
   ]
  },
  {
   "cell_type": "markdown",
   "id": "cab7f609",
   "metadata": {},
   "source": [
    "# Cookbook\n",
    "\n",
    "This is a repository for *short and sweet* examples and links for useful pandas recipes.\n",
    "We encourage users to add to this documentation.\n",
    "\n",
    "Adding interesting links and/or inline examples to this section is a great *First Pull Request*.\n",
    "\n",
    "Simplified, condensed, new-user friendly, in-line examples have been inserted where possible to\n",
    "augment the Stack-Overflow and GitHub links.  Many of the links contain expanded information,\n",
    "above what the in-line examples offer.\n",
    "\n",
    "pandas (pd) and NumPy (np) are the only two abbreviated imported modules. The rest are kept\n",
    "explicitly imported for newer users."
   ]
  },
  {
   "cell_type": "markdown",
   "id": "51ad152f",
   "metadata": {},
   "source": [
    "## Idioms\n",
    "\n",
    "\n",
    "<a id='cookbook-idioms'></a>\n",
    "These are some neat pandas `idioms`\n",
    "\n",
    "[if-then/if-then-else on one column, and assignment to another one or more columns:](https://stackoverflow.com/questions/17128302/python-pandas-idiom-for-if-then-else)"
   ]
  },
  {
   "cell_type": "code",
   "execution_count": null,
   "id": "9ef710bd",
   "metadata": {
    "hide-output": false
   },
   "outputs": [],
   "source": [
    "df = pd.DataFrame(\n",
    "    {\"AAA\": [4, 5, 6, 7], \"BBB\": [10, 20, 30, 40], \"CCC\": [100, 50, -30, -50]}\n",
    ")\n",
    "df"
   ]
  },
  {
   "cell_type": "markdown",
   "id": "c476f804",
   "metadata": {},
   "source": [
    "### if-then…\n",
    "\n",
    "An if-then on one column"
   ]
  },
  {
   "cell_type": "code",
   "execution_count": null,
   "id": "bb2e4a9b",
   "metadata": {
    "hide-output": false
   },
   "outputs": [],
   "source": [
    "df.loc[df.AAA >= 5, \"BBB\"] = -1\n",
    "df"
   ]
  },
  {
   "cell_type": "markdown",
   "id": "63af086b",
   "metadata": {},
   "source": [
    "An if-then with assignment to 2 columns:"
   ]
  },
  {
   "cell_type": "code",
   "execution_count": null,
   "id": "94db6873",
   "metadata": {
    "hide-output": false
   },
   "outputs": [],
   "source": [
    "df.loc[df.AAA >= 5, [\"BBB\", \"CCC\"]] = 555\n",
    "df"
   ]
  },
  {
   "cell_type": "markdown",
   "id": "5844582e",
   "metadata": {},
   "source": [
    "Add another line with different logic, to do the -else"
   ]
  },
  {
   "cell_type": "code",
   "execution_count": null,
   "id": "841a735e",
   "metadata": {
    "hide-output": false
   },
   "outputs": [],
   "source": [
    "df.loc[df.AAA < 5, [\"BBB\", \"CCC\"]] = 2000\n",
    "df"
   ]
  },
  {
   "cell_type": "markdown",
   "id": "08c1b0c9",
   "metadata": {},
   "source": [
    "Or use pandas where after you’ve set up a mask"
   ]
  },
  {
   "cell_type": "code",
   "execution_count": null,
   "id": "ede9de73",
   "metadata": {
    "hide-output": false
   },
   "outputs": [],
   "source": [
    "df_mask = pd.DataFrame(\n",
    "    {\"AAA\": [True] * 4, \"BBB\": [False] * 4, \"CCC\": [True, False] * 2}\n",
    ")\n",
    "df.where(df_mask, -1000)"
   ]
  },
  {
   "cell_type": "markdown",
   "id": "0671a68f",
   "metadata": {},
   "source": [
    "[if-then-else using NumPy’s where()](https://stackoverflow.com/questions/19913659/pandas-conditional-creation-of-a-series-dataframe-column)"
   ]
  },
  {
   "cell_type": "code",
   "execution_count": null,
   "id": "96ed599c-4e3f-4a25-8a4b-6679051c0852",
   "metadata": {
    "hide-output": false
   },
   "outputs": [],
   "source": [
    "df = pd.DataFrame(\n",
    "    {\"AAA\": [4, 5, 6, 7], \"BBB\": [10, 20, 30, 40], \"CCC\": [100, 50, -30, -50]}\n",
    ")\n",
    "df"
   ]
  },
  {
   "cell_type": "code",
   "execution_count": null,
   "id": "af45d0c2-e4ed-4718-8b16-c2cfc1980112",
   "metadata": {
    "hide-output": false
   },
   "outputs": [],
   "source": [
    "df[\"logic\"] = np.where(df[\"AAA\"] > 5, \"high\", \"low\")\n",
    "df"
   ]
  },
  {
   "cell_type": "markdown",
   "id": "25c9fa66",
   "metadata": {},
   "source": [
    "### Splitting\n",
    "\n",
    "[Split a frame with a boolean criterion](https://stackoverflow.com/questions/14957116/how-to-split-a-dataframe-according-to-a-boolean-criterion)"
   ]
  },
  {
   "cell_type": "code",
   "execution_count": null,
   "id": "d4817386-a89d-45de-ad46-51a5b1a1b260",
   "metadata": {
    "hide-output": false
   },
   "outputs": [],
   "source": [
    "df = pd.DataFrame(\n",
    "    {\"AAA\": [4, 5, 6, 7], \"BBB\": [10, 20, 30, 40], \"CCC\": [100, 50, -30, -50]}\n",
    ")\n",
    "df"
   ]
  },
  {
   "cell_type": "code",
   "execution_count": null,
   "id": "d81dac2a-2858-4a24-9cfc-9aa8920772a3",
   "metadata": {
    "hide-output": false
   },
   "outputs": [],
   "source": [
    "df[df.AAA <= 5]\n",
    "df[df.AAA > 5]"
   ]
  },
  {
   "cell_type": "markdown",
   "id": "03ea89fb",
   "metadata": {},
   "source": [
    "### Building criteria\n",
    "\n",
    "[Select with multi-column criteria](https://stackoverflow.com/questions/15315452/selecting-with-complex-criteria-from-pandas-dataframe)"
   ]
  },
  {
   "cell_type": "code",
   "execution_count": null,
   "id": "3b064181",
   "metadata": {
    "hide-output": false
   },
   "outputs": [],
   "source": [
    "df = pd.DataFrame(\n",
    "    {\"AAA\": [4, 5, 6, 7], \"BBB\": [10, 20, 30, 40], \"CCC\": [100, 50, -30, -50]}\n",
    ")\n",
    "df"
   ]
  },
  {
   "cell_type": "markdown",
   "id": "ec61d800",
   "metadata": {},
   "source": [
    "…and (without assignment returns a Series)"
   ]
  },
  {
   "cell_type": "code",
   "execution_count": null,
   "id": "f6e36605",
   "metadata": {
    "hide-output": false
   },
   "outputs": [],
   "source": [
    "df.loc[(df[\"BBB\"] < 25) & (df[\"CCC\"] >= -40), \"AAA\"]"
   ]
  },
  {
   "cell_type": "markdown",
   "id": "cf7da94f",
   "metadata": {},
   "source": [
    "…or (without assignment returns a Series)"
   ]
  },
  {
   "cell_type": "code",
   "execution_count": null,
   "id": "43091128",
   "metadata": {
    "hide-output": false
   },
   "outputs": [],
   "source": [
    "df.loc[(df[\"BBB\"] > 25) | (df[\"CCC\"] >= -40), \"AAA\"]"
   ]
  },
  {
   "cell_type": "markdown",
   "id": "4aedc1d3",
   "metadata": {},
   "source": [
    "…or (with assignment modifies the DataFrame.)"
   ]
  },
  {
   "cell_type": "code",
   "execution_count": null,
   "id": "1e5f86e0",
   "metadata": {
    "hide-output": false
   },
   "outputs": [],
   "source": [
    "df.loc[(df[\"BBB\"] > 25) | (df[\"CCC\"] >= 75), \"AAA\"] = 0.1\n",
    "df"
   ]
  },
  {
   "cell_type": "markdown",
   "id": "d7fefaf2",
   "metadata": {},
   "source": [
    "[Select rows with data closest to certain value using argsort](https://stackoverflow.com/questions/17758023/return-rows-in-a-dataframe-closest-to-a-user-defined-number)"
   ]
  },
  {
   "cell_type": "code",
   "execution_count": null,
   "id": "6e830bee",
   "metadata": {
    "hide-output": false
   },
   "outputs": [],
   "source": [
    "df = pd.DataFrame(\n",
    "    {\"AAA\": [4, 5, 6, 7], \"BBB\": [10, 20, 30, 40], \"CCC\": [100, 50, -30, -50]}\n",
    ")\n",
    "df\n",
    "aValue = 43.0\n",
    "df.loc[(df.CCC - aValue).abs().argsort()]"
   ]
  },
  {
   "cell_type": "markdown",
   "id": "a891b51d",
   "metadata": {},
   "source": [
    "[Dynamically reduce a list of criteria using a binary operators](https://stackoverflow.com/questions/21058254/pandas-boolean-operation-in-a-python-list/21058331)"
   ]
  },
  {
   "cell_type": "code",
   "execution_count": null,
   "id": "07c049b3-00e1-44ce-8dbb-3ce60f9e6bb7",
   "metadata": {
    "hide-output": false
   },
   "outputs": [],
   "source": [
    "df = pd.DataFrame(\n",
    "    {\"AAA\": [4, 5, 6, 7], \"BBB\": [10, 20, 30, 40], \"CCC\": [100, 50, -30, -50]}\n",
    ")\n",
    "df"
   ]
  },
  {
   "cell_type": "code",
   "execution_count": null,
   "id": "acd1798b-7e8d-430c-97cd-efc09fc63429",
   "metadata": {
    "hide-output": false
   },
   "outputs": [],
   "source": [
    "Crit1 = df.AAA <= 5.5\n",
    "Crit2 = df.BBB == 10.0\n",
    "Crit3 = df.CCC > -40.0"
   ]
  },
  {
   "cell_type": "markdown",
   "id": "abc3d14f",
   "metadata": {},
   "source": [
    "One could hard code:"
   ]
  },
  {
   "cell_type": "code",
   "execution_count": null,
   "id": "c3f5446a",
   "metadata": {
    "hide-output": false
   },
   "outputs": [],
   "source": [
    "AllCrit = Crit1 & Crit2 & Crit3"
   ]
  },
  {
   "cell_type": "markdown",
   "id": "af4e3709",
   "metadata": {},
   "source": [
    "…Or it can be done with a list of dynamically built criteria"
   ]
  },
  {
   "cell_type": "code",
   "execution_count": null,
   "id": "a5140e74",
   "metadata": {
    "hide-output": false
   },
   "outputs": [],
   "source": [
    "import functools\n",
    "\n",
    "CritList = [Crit1, Crit2, Crit3]\n",
    "AllCrit = functools.reduce(lambda x, y: x & y, CritList)\n",
    "\n",
    "df[AllCrit]"
   ]
  },
  {
   "cell_type": "markdown",
   "id": "72f338d3",
   "metadata": {},
   "source": [
    "\n",
    "<a id='cookbook-selection'></a>"
   ]
  },
  {
   "cell_type": "markdown",
   "id": "5b52267b",
   "metadata": {},
   "source": [
    "## Selection"
   ]
  },
  {
   "cell_type": "markdown",
   "id": "19cee851",
   "metadata": {},
   "source": [
    "### Dataframes\n",
    "\n",
    "The indexing docs.\n",
    "\n",
    "[Using both row labels and value conditionals](https://stackoverflow.com/questions/14725068/pandas-using-row-labels-in-boolean-indexing)"
   ]
  },
  {
   "cell_type": "code",
   "execution_count": null,
   "id": "0ed464b5-7c26-459e-8951-6fb2ff3002b8",
   "metadata": {
    "hide-output": false
   },
   "outputs": [],
   "source": [
    "df = pd.DataFrame(\n",
    "    {\"AAA\": [4, 5, 6, 7], \"BBB\": [10, 20, 30, 40], \"CCC\": [100, 50, -30, -50]}\n",
    ")\n",
    "df"
   ]
  },
  {
   "cell_type": "code",
   "execution_count": null,
   "id": "ba380c81-4578-4096-96ab-abe87dcb05fe",
   "metadata": {
    "hide-output": false
   },
   "outputs": [],
   "source": [
    "df[(df.AAA <= 6) & (df.index.isin([0, 2, 4]))]"
   ]
  },
  {
   "cell_type": "markdown",
   "id": "765998c5",
   "metadata": {},
   "source": [
    "[Use loc for label-oriented slicing and iloc positional slicing](https://github.com/pandas-dev/pandas/issues/2904)"
   ]
  },
  {
   "cell_type": "code",
   "execution_count": null,
   "id": "9ebf716b",
   "metadata": {
    "hide-output": false
   },
   "outputs": [],
   "source": [
    "df = pd.DataFrame(\n",
    "    {\"AAA\": [4, 5, 6, 7], \"BBB\": [10, 20, 30, 40], \"CCC\": [100, 50, -30, -50]},\n",
    "    index=[\"foo\", \"bar\", \"boo\", \"kar\"],\n",
    ")"
   ]
  },
  {
   "cell_type": "markdown",
   "id": "8cc79a98",
   "metadata": {},
   "source": [
    "There are 2 explicit slicing methods, with a third general case\n",
    "\n",
    "1. Positional-oriented (Python slicing style : exclusive of end)  \n",
    "1. Label-oriented (Non-Python slicing style : inclusive of end)  \n",
    "1. General (Either slicing style : depends on if the slice contains labels or positions)  \n",
    "\n",
    "\n",
    "\n",
    "<dl style='margin: 20px 0;'>\n",
    "<dt>::</dt>\n",
    "<dd>\n",
    "df.iloc[0:3]  # Positional\n",
    "\n",
    "df.loc[“bar”:”kar”]  # Label\n",
    "\n",
    "# Generic\n",
    "df[0:3]\n",
    "df[“bar”:”kar”]\n",
    "\n",
    "</dd>\n",
    "\n",
    "</dl>\n",
    "\n",
    "Ambiguity arises when an index consists of integers with a non-zero start or non-unit increment."
   ]
  },
  {
   "cell_type": "code",
   "execution_count": null,
   "id": "f1a95d87",
   "metadata": {
    "hide-output": false
   },
   "outputs": [],
   "source": [
    "data = {\"AAA\": [4, 5, 6, 7], \"BBB\": [10, 20, 30, 40], \"CCC\": [100, 50, -30, -50]}\n",
    "df2 = pd.DataFrame(data=data, index=[1, 2, 3, 4])  # Note index starts at 1.\n",
    "df2.iloc[1:3]  # Position-oriented\n",
    "df2.loc[1:3]  # Label-oriented"
   ]
  },
  {
   "cell_type": "markdown",
   "id": "67343188",
   "metadata": {},
   "source": [
    "[Using inverse operator (~) to take the complement of a mask](https://stackoverflow.com/questions/14986510/picking-out-elements-based-on-complement-of-indices-in-python-pandas)"
   ]
  },
  {
   "cell_type": "code",
   "execution_count": null,
   "id": "c52cfc5a-b8f0-492c-ab42-9c4431bb40e8",
   "metadata": {
    "hide-output": false
   },
   "outputs": [],
   "source": [
    "df = pd.DataFrame(\n",
    "    {\"AAA\": [4, 5, 6, 7], \"BBB\": [10, 20, 30, 40], \"CCC\": [100, 50, -30, -50]}\n",
    ")\n",
    "df"
   ]
  },
  {
   "cell_type": "code",
   "execution_count": null,
   "id": "ceb65d04-4176-49b2-8690-9d0e6dfc2077",
   "metadata": {
    "hide-output": false
   },
   "outputs": [],
   "source": [
    "df[~((df.AAA <= 6) & (df.index.isin([0, 2, 4])))]"
   ]
  },
  {
   "cell_type": "markdown",
   "id": "8c6858fc",
   "metadata": {},
   "source": [
    "### New columns\n",
    "\n",
    "[Efficiently and dynamically creating new columns using applymap](https://stackoverflow.com/questions/16575868/efficiently-creating-additional-columns-in-a-pandas-dataframe-using-map)"
   ]
  },
  {
   "cell_type": "code",
   "execution_count": null,
   "id": "cd19507c-93a0-45da-adbe-d643b3c8ccac",
   "metadata": {
    "hide-output": false
   },
   "outputs": [],
   "source": [
    "df = pd.DataFrame({\"AAA\": [1, 2, 1, 3], \"BBB\": [1, 1, 2, 2], \"CCC\": [2, 1, 3, 1]})\n",
    "df"
   ]
  },
  {
   "cell_type": "code",
   "execution_count": null,
   "id": "322cb283-2c05-4783-9d55-4d1c4f7e1b2e",
   "metadata": {
    "hide-output": false
   },
   "outputs": [],
   "source": [
    "source_cols = df.columns  # Or some subset would work too\n",
    "new_cols = [str(x) + \"_cat\" for x in source_cols]\n",
    "categories = {1: \"Alpha\", 2: \"Beta\", 3: \"Charlie\"}\n",
    "\n",
    "df[new_cols] = df[source_cols].applymap(categories.get)\n",
    "df"
   ]
  },
  {
   "cell_type": "markdown",
   "id": "bc8e5828",
   "metadata": {},
   "source": [
    "[Keep other columns when using min() with groupby](https://stackoverflow.com/questions/23394476/keep-other-columns-when-using-min-with-groupby)"
   ]
  },
  {
   "cell_type": "code",
   "execution_count": null,
   "id": "6b609f2d",
   "metadata": {
    "hide-output": false
   },
   "outputs": [],
   "source": [
    "df = pd.DataFrame(\n",
    "    {\"AAA\": [1, 1, 1, 2, 2, 2, 3, 3], \"BBB\": [2, 1, 3, 4, 5, 1, 2, 3]}\n",
    ")\n",
    "df"
   ]
  },
  {
   "cell_type": "markdown",
   "id": "8e9649d0",
   "metadata": {},
   "source": [
    "Method 1 : idxmin() to get the index of the minimums"
   ]
  },
  {
   "cell_type": "code",
   "execution_count": null,
   "id": "06e435e6",
   "metadata": {
    "hide-output": false
   },
   "outputs": [],
   "source": [
    "df.loc[df.groupby(\"AAA\")[\"BBB\"].idxmin()]"
   ]
  },
  {
   "cell_type": "markdown",
   "id": "f2037584",
   "metadata": {},
   "source": [
    "Method 2 : sort then take first of each"
   ]
  },
  {
   "cell_type": "code",
   "execution_count": null,
   "id": "1644748b",
   "metadata": {
    "hide-output": false
   },
   "outputs": [],
   "source": [
    "df.sort_values(by=\"BBB\").groupby(\"AAA\", as_index=False).first()"
   ]
  },
  {
   "cell_type": "markdown",
   "id": "f8608b78",
   "metadata": {},
   "source": [
    "Notice the same results, with the exception of the index.\n",
    "\n",
    "\n",
    "<a id='cookbook-multi-index'></a>"
   ]
  },
  {
   "cell_type": "markdown",
   "id": "848b083c",
   "metadata": {},
   "source": [
    "## Multiindexing\n",
    "\n",
    "The multindexing docs.\n",
    "\n",
    "[Creating a MultiIndex from a labeled frame](https://stackoverflow.com/questions/14916358/reshaping-dataframes-in-pandas-based-on-column-labels)"
   ]
  },
  {
   "cell_type": "code",
   "execution_count": null,
   "id": "b01f5cab-7163-445c-8210-3b0aeeda005f",
   "metadata": {
    "hide-output": false
   },
   "outputs": [],
   "source": [
    "df = pd.DataFrame(\n",
    "    {\n",
    "        \"row\": [0, 1, 2],\n",
    "        \"One_X\": [1.1, 1.1, 1.1],\n",
    "        \"One_Y\": [1.2, 1.2, 1.2],\n",
    "        \"Two_X\": [1.11, 1.11, 1.11],\n",
    "        \"Two_Y\": [1.22, 1.22, 1.22],\n",
    "    }\n",
    ")\n",
    "df"
   ]
  },
  {
   "cell_type": "code",
   "execution_count": null,
   "id": "c15d32ce-b2b1-4a12-8fea-4a1eedaf08a6",
   "metadata": {
    "hide-output": false
   },
   "outputs": [],
   "source": [
    "# As Labelled Index\n",
    "df = df.set_index(\"row\")\n",
    "df"
   ]
  },
  {
   "cell_type": "code",
   "execution_count": null,
   "id": "a7f59bdb-0d53-40b4-9f3c-ed1953bc573a",
   "metadata": {
    "hide-output": false
   },
   "outputs": [],
   "source": [
    "# With Hierarchical Columns\n",
    "df.columns = pd.MultiIndex.from_tuples([tuple(c.split(\"_\")) for c in df.columns])\n",
    "df"
   ]
  },
  {
   "cell_type": "code",
   "execution_count": null,
   "id": "06c31e37-bdc1-457b-ae61-299de624ff69",
   "metadata": {
    "hide-output": false
   },
   "outputs": [],
   "source": [
    "# Now stack & Reset\n",
    "df = df.stack(0).reset_index(1)\n",
    "df"
   ]
  },
  {
   "cell_type": "code",
   "execution_count": null,
   "id": "c08ab5fa-6d59-45bc-aa72-67c5bd7dcffc",
   "metadata": {
    "hide-output": false
   },
   "outputs": [],
   "source": [
    "# And fix the labels (Notice the label 'level_1' got added automatically)\n",
    "df.columns = [\"Sample\", \"All_X\", \"All_Y\"]\n",
    "df"
   ]
  },
  {
   "cell_type": "markdown",
   "id": "657e7798",
   "metadata": {},
   "source": [
    "### Arithmetic\n",
    "\n",
    "[Performing arithmetic with a MultiIndex that needs broadcasting](https://stackoverflow.com/questions/19501510/divide-entire-pandas-multiindex-dataframe-by-dataframe-variable/19502176#19502176)"
   ]
  },
  {
   "cell_type": "code",
   "execution_count": null,
   "id": "422314fc-054f-44cb-a27b-9c1a6d3279e9",
   "metadata": {
    "hide-output": false
   },
   "outputs": [],
   "source": [
    "cols = pd.MultiIndex.from_tuples(\n",
    "    [(x, y) for x in [\"A\", \"B\", \"C\"] for y in [\"O\", \"I\"]]\n",
    ")\n",
    "df = pd.DataFrame(np.random.randn(2, 6), index=[\"n\", \"m\"], columns=cols)\n",
    "df"
   ]
  },
  {
   "cell_type": "code",
   "execution_count": null,
   "id": "cb6342dd-d4b4-43ab-aa39-57932c96b5ff",
   "metadata": {
    "hide-output": false
   },
   "outputs": [],
   "source": [
    "df = df.div(df[\"C\"], level=1)\n",
    "df"
   ]
  },
  {
   "cell_type": "markdown",
   "id": "16c44b62",
   "metadata": {},
   "source": [
    "### Slicing\n",
    "\n",
    "[Slicing a MultiIndex with xs](https://stackoverflow.com/questions/12590131/how-to-slice-multindex-columns-in-pandas-dataframes)"
   ]
  },
  {
   "cell_type": "code",
   "execution_count": null,
   "id": "b70aaa7a",
   "metadata": {
    "hide-output": false
   },
   "outputs": [],
   "source": [
    "coords = [(\"AA\", \"one\"), (\"AA\", \"six\"), (\"BB\", \"one\"), (\"BB\", \"two\"), (\"BB\", \"six\")]\n",
    "index = pd.MultiIndex.from_tuples(coords)\n",
    "df = pd.DataFrame([11, 22, 33, 44, 55], index, [\"MyData\"])\n",
    "df"
   ]
  },
  {
   "cell_type": "markdown",
   "id": "ad42171c",
   "metadata": {},
   "source": [
    "To take the cross section of the 1st level and 1st axis the index:"
   ]
  },
  {
   "cell_type": "code",
   "execution_count": null,
   "id": "1f86fdbc",
   "metadata": {
    "hide-output": false
   },
   "outputs": [],
   "source": [
    "# Note : level and axis are optional, and default to zero\n",
    "df.xs(\"BB\", level=0, axis=0)"
   ]
  },
  {
   "cell_type": "markdown",
   "id": "1506968d",
   "metadata": {},
   "source": [
    "…and now the 2nd level of the 1st axis."
   ]
  },
  {
   "cell_type": "code",
   "execution_count": null,
   "id": "940fc8d9",
   "metadata": {
    "hide-output": false
   },
   "outputs": [],
   "source": [
    "df.xs(\"six\", level=1, axis=0)"
   ]
  },
  {
   "cell_type": "markdown",
   "id": "5039491c",
   "metadata": {},
   "source": [
    "[Slicing a MultiIndex with xs, method #2](https://stackoverflow.com/questions/14964493/multiindex-based-indexing-in-pandas)"
   ]
  },
  {
   "cell_type": "code",
   "execution_count": null,
   "id": "43a94a3e-91b0-4ebe-97d7-6dc920560586",
   "metadata": {
    "hide-output": false
   },
   "outputs": [],
   "source": [
    "import itertools\n",
    "\n",
    "index = list(itertools.product([\"Ada\", \"Quinn\", \"Violet\"], [\"Comp\", \"Math\", \"Sci\"]))\n",
    "headr = list(itertools.product([\"Exams\", \"Labs\"], [\"I\", \"II\"]))\n",
    "indx = pd.MultiIndex.from_tuples(index, names=[\"Student\", \"Course\"])\n",
    "cols = pd.MultiIndex.from_tuples(headr)  # Notice these are un-named\n",
    "data = [[70 + x + y + (x * y) % 3 for x in range(4)] for y in range(9)]\n",
    "df = pd.DataFrame(data, indx, cols)\n",
    "df"
   ]
  },
  {
   "cell_type": "code",
   "execution_count": null,
   "id": "b77d3eec-a2c9-44c9-8126-30c5e6c9dcd0",
   "metadata": {
    "hide-output": false
   },
   "outputs": [],
   "source": [
    "All = slice(None)\n",
    "df.loc[\"Violet\"]\n",
    "df.loc[(All, \"Math\"), All]\n",
    "df.loc[(slice(\"Ada\", \"Quinn\"), \"Math\"), All]\n",
    "df.loc[(All, \"Math\"), (\"Exams\")]\n",
    "df.loc[(All, \"Math\"), (All, \"II\")]"
   ]
  },
  {
   "cell_type": "markdown",
   "id": "7620eb97",
   "metadata": {},
   "source": [
    "[Setting portions of a MultiIndex with xs](https://stackoverflow.com/questions/19319432/pandas-selecting-a-lower-level-in-a-dataframe-to-do-a-ffill)"
   ]
  },
  {
   "cell_type": "markdown",
   "id": "dfecfc08",
   "metadata": {},
   "source": [
    "### Sorting\n",
    "\n",
    "[Sort by specific column or an ordered list of columns, with a MultiIndex](https://stackoverflow.com/questions/14733871/mutli-index-sorting-in-pandas)"
   ]
  },
  {
   "cell_type": "code",
   "execution_count": null,
   "id": "9ca91694",
   "metadata": {
    "hide-output": false
   },
   "outputs": [],
   "source": [
    "df.sort_values(by=(\"Labs\", \"II\"), ascending=False)"
   ]
  },
  {
   "cell_type": "markdown",
   "id": "b0793d07",
   "metadata": {},
   "source": [
    "[Partial selection, the need for sortedness;](https://github.com/pandas-dev/pandas/issues/2995)"
   ]
  },
  {
   "cell_type": "markdown",
   "id": "f388d8ba",
   "metadata": {},
   "source": [
    "### Levels\n",
    "\n",
    "[Prepending a level to a multiindex](https://stackoverflow.com/questions/14744068/prepend-a-level-to-a-pandas-multiindex)\n",
    "\n",
    "[Flatten Hierarchical columns](https://stackoverflow.com/questions/14507794/python-pandas-how-to-flatten-a-hierarchical-index-in-columns)\n",
    "\n",
    "\n",
    "<a id='cookbook-missing-data'></a>"
   ]
  },
  {
   "cell_type": "markdown",
   "id": "fb80c5af",
   "metadata": {},
   "source": [
    "## Missing data\n",
    "\n",
    "The missing data docs.\n",
    "\n",
    "Fill forward a reversed timeseries"
   ]
  },
  {
   "cell_type": "code",
   "execution_count": null,
   "id": "0d33dcd6-257f-44b3-a2e0-1b52b7f8de2d",
   "metadata": {
    "hide-output": false
   },
   "outputs": [],
   "source": [
    "df = pd.DataFrame(\n",
    "    np.random.randn(6, 1),\n",
    "    index=pd.date_range(\"2013-08-01\", periods=6, freq=\"B\"),\n",
    "    columns=list(\"A\"),\n",
    ")\n",
    "df.loc[df.index[3], \"A\"] = np.nan\n",
    "df"
   ]
  },
  {
   "cell_type": "code",
   "execution_count": null,
   "id": "ae6a8fb6-86c1-4dd9-98d0-2c1ea2325bab",
   "metadata": {
    "hide-output": false
   },
   "outputs": [],
   "source": [
    "df.reindex(df.index[::-1]).ffill()"
   ]
  },
  {
   "cell_type": "markdown",
   "id": "b4b8a024",
   "metadata": {},
   "source": [
    "[cumsum reset at NaN values](https://stackoverflow.com/questions/18196811/cumsum-reset-at-nan)"
   ]
  },
  {
   "cell_type": "markdown",
   "id": "953607d4",
   "metadata": {},
   "source": [
    "### Replace\n",
    "\n",
    "[Using replace with backrefs](https://stackoverflow.com/questions/16818871/extracting-value-and-creating-new-column-out-of-it)\n",
    "\n",
    "\n",
    "<a id='cookbook-grouping'></a>"
   ]
  },
  {
   "cell_type": "markdown",
   "id": "dc4d7f6f",
   "metadata": {},
   "source": [
    "## Grouping\n",
    "\n",
    "The grouping docs.\n",
    "\n",
    "[Basic grouping with apply](https://stackoverflow.com/questions/15322632/python-pandas-df-groupy-agg-column-reference-in-agg)\n",
    "\n",
    "Unlike agg, apply’s callable is passed a sub-DataFrame which gives you access to all the columns"
   ]
  },
  {
   "cell_type": "code",
   "execution_count": null,
   "id": "7d623ed3-449e-41b6-8228-2a4969a3e459",
   "metadata": {
    "hide-output": false
   },
   "outputs": [],
   "source": [
    "df = pd.DataFrame(\n",
    "    {\n",
    "        \"animal\": \"cat dog cat fish dog cat cat\".split(),\n",
    "        \"size\": list(\"SSMMMLL\"),\n",
    "        \"weight\": [8, 10, 11, 1, 20, 12, 12],\n",
    "        \"adult\": [False] * 5 + [True] * 2,\n",
    "    }\n",
    ")\n",
    "df"
   ]
  },
  {
   "cell_type": "code",
   "execution_count": null,
   "id": "adf3e0f9-ca55-45c3-bf47-3764ddea88c2",
   "metadata": {
    "hide-output": false
   },
   "outputs": [],
   "source": [
    "# List the size of the animals with the highest weight.\n",
    "df.groupby(\"animal\").apply(lambda subf: subf[\"size\"][subf[\"weight\"].idxmax()])"
   ]
  },
  {
   "cell_type": "markdown",
   "id": "8522151d",
   "metadata": {},
   "source": [
    "[Using get_group](https://stackoverflow.com/questions/14734533/how-to-access-pandas-groupby-dataframe-by-key)"
   ]
  },
  {
   "cell_type": "code",
   "execution_count": null,
   "id": "b78080bd",
   "metadata": {
    "hide-output": false
   },
   "outputs": [],
   "source": [
    "gb = df.groupby([\"animal\"])\n",
    "gb.get_group(\"cat\")"
   ]
  },
  {
   "cell_type": "markdown",
   "id": "13a3e765",
   "metadata": {},
   "source": [
    "[Apply to different items in a group](https://stackoverflow.com/questions/15262134/apply-different-functions-to-different-items-in-group-object-python-pandas)"
   ]
  },
  {
   "cell_type": "code",
   "execution_count": null,
   "id": "6d409cb8",
   "metadata": {
    "hide-output": false
   },
   "outputs": [],
   "source": [
    "def GrowUp(x):\n",
    "    avg_weight = sum(x[x[\"size\"] == \"S\"].weight * 1.5)\n",
    "    avg_weight += sum(x[x[\"size\"] == \"M\"].weight * 1.25)\n",
    "    avg_weight += sum(x[x[\"size\"] == \"L\"].weight)\n",
    "    avg_weight /= len(x)\n",
    "    return pd.Series([\"L\", avg_weight, True], index=[\"size\", \"weight\", \"adult\"])\n",
    "\n",
    "\n",
    "expected_df = gb.apply(GrowUp)\n",
    "expected_df"
   ]
  },
  {
   "cell_type": "markdown",
   "id": "662aa694",
   "metadata": {},
   "source": [
    "[Expanding apply](https://stackoverflow.com/questions/14542145/reductions-down-a-column-in-pandas)"
   ]
  },
  {
   "cell_type": "code",
   "execution_count": null,
   "id": "e0bf5feb",
   "metadata": {
    "hide-output": false
   },
   "outputs": [],
   "source": [
    "S = pd.Series([i / 100.0 for i in range(1, 11)])\n",
    "\n",
    "def cum_ret(x, y):\n",
    "    return x * (1 + y)\n",
    "\n",
    "def red(x):\n",
    "    return functools.reduce(cum_ret, x, 1.0)\n",
    "\n",
    "S.expanding().apply(red, raw=True)"
   ]
  },
  {
   "cell_type": "markdown",
   "id": "cf139587",
   "metadata": {},
   "source": [
    "[Replacing some values with mean of the rest of a group](https://stackoverflow.com/questions/14760757/replacing-values-with-groupby-means)"
   ]
  },
  {
   "cell_type": "code",
   "execution_count": null,
   "id": "b2639957",
   "metadata": {
    "hide-output": false
   },
   "outputs": [],
   "source": [
    "df = pd.DataFrame({\"A\": [1, 1, 2, 2], \"B\": [1, -1, 1, 2]})\n",
    "gb = df.groupby(\"A\")\n",
    "\n",
    "def replace(g):\n",
    "    mask = g < 0\n",
    "    return g.where(mask, g[~mask].mean())\n",
    "\n",
    "gb.transform(replace)"
   ]
  },
  {
   "cell_type": "markdown",
   "id": "ade31841",
   "metadata": {},
   "source": [
    "[Sort groups by aggregated data](https://stackoverflow.com/questions/14941366/pandas-sort-by-group-aggregate-and-column)"
   ]
  },
  {
   "cell_type": "code",
   "execution_count": null,
   "id": "58c87ed4",
   "metadata": {
    "hide-output": false
   },
   "outputs": [],
   "source": [
    "df = pd.DataFrame(\n",
    "    {\n",
    "        \"code\": [\"foo\", \"bar\", \"baz\"] * 2,\n",
    "        \"data\": [0.16, -0.21, 0.33, 0.45, -0.59, 0.62],\n",
    "        \"flag\": [False, True] * 3,\n",
    "    }\n",
    ")\n",
    "code_groups = df.groupby(\"code\")\n",
    "agg_n_sort_order = code_groups[[\"data\"]].transform(sum).sort_values(by=\"data\")\n",
    "sorted_df = df.loc[agg_n_sort_order.index]\n",
    "sorted_df"
   ]
  },
  {
   "cell_type": "markdown",
   "id": "263e1a8d",
   "metadata": {},
   "source": [
    "[Create multiple aggregated columns](https://stackoverflow.com/questions/14897100/create-multiple-columns-in-pandas-aggregation-function)"
   ]
  },
  {
   "cell_type": "code",
   "execution_count": null,
   "id": "ad87a444",
   "metadata": {
    "hide-output": false
   },
   "outputs": [],
   "source": [
    "rng = pd.date_range(start=\"2014-10-07\", periods=10, freq=\"2min\")\n",
    "ts = pd.Series(data=list(range(10)), index=rng)\n",
    "\n",
    "def MyCust(x):\n",
    "    if len(x) > 2:\n",
    "        return x[1] * 1.234\n",
    "    return pd.NaT\n",
    "\n",
    "mhc = {\"Mean\": np.mean, \"Max\": np.max, \"Custom\": MyCust}\n",
    "ts.resample(\"5min\").apply(mhc)\n",
    "ts"
   ]
  },
  {
   "cell_type": "markdown",
   "id": "3220666b",
   "metadata": {},
   "source": [
    "[Create a value counts column and reassign back to the DataFrame](https://stackoverflow.com/questions/17709270/i-want-to-create-a-column-of-value-counts-in-my-pandas-dataframe)"
   ]
  },
  {
   "cell_type": "code",
   "execution_count": null,
   "id": "b5b52c7a-4402-4964-b6d7-b8f2c68fa4e3",
   "metadata": {
    "hide-output": false
   },
   "outputs": [],
   "source": [
    "df = pd.DataFrame(\n",
    "    {\"Color\": \"Red Red Red Blue\".split(), \"Value\": [100, 150, 50, 50]}\n",
    ")\n",
    "df"
   ]
  },
  {
   "cell_type": "code",
   "execution_count": null,
   "id": "5121c79e-928e-4894-bb52-900be33c00f3",
   "metadata": {
    "hide-output": false
   },
   "outputs": [],
   "source": [
    "df[\"Counts\"] = df.groupby([\"Color\"]).transform(len)\n",
    "df"
   ]
  },
  {
   "cell_type": "markdown",
   "id": "a7208217",
   "metadata": {},
   "source": [
    "[Shift groups of the values in a column based on the index](https://stackoverflow.com/q/23198053/190597)"
   ]
  },
  {
   "cell_type": "code",
   "execution_count": null,
   "id": "fdd965fe-41fd-4798-a06a-0ecebf9be439",
   "metadata": {
    "hide-output": false
   },
   "outputs": [],
   "source": [
    "df = pd.DataFrame(\n",
    "    {\"line_race\": [10, 10, 8, 10, 10, 8], \"beyer\": [99, 102, 103, 103, 88, 100]},\n",
    "    index=[\n",
    "        \"Last Gunfighter\",\n",
    "        \"Last Gunfighter\",\n",
    "        \"Last Gunfighter\",\n",
    "        \"Paynter\",\n",
    "        \"Paynter\",\n",
    "        \"Paynter\",\n",
    "    ],\n",
    ")\n",
    "df"
   ]
  },
  {
   "cell_type": "code",
   "execution_count": null,
   "id": "ba21ed38-54f3-40c9-95c8-163a41a0eb89",
   "metadata": {
    "hide-output": false
   },
   "outputs": [],
   "source": [
    "df[\"beyer_shifted\"] = df.groupby(level=0)[\"beyer\"].shift(1)\n",
    "df"
   ]
  },
  {
   "cell_type": "markdown",
   "id": "0ad12005",
   "metadata": {},
   "source": [
    "[Select row with maximum value from each group](https://stackoverflow.com/q/26701849/190597)"
   ]
  },
  {
   "cell_type": "code",
   "execution_count": null,
   "id": "d3e587b4",
   "metadata": {
    "hide-output": false
   },
   "outputs": [],
   "source": [
    "df = pd.DataFrame(\n",
    "    {\n",
    "        \"host\": [\"other\", \"other\", \"that\", \"this\", \"this\"],\n",
    "        \"service\": [\"mail\", \"web\", \"mail\", \"mail\", \"web\"],\n",
    "        \"no\": [1, 2, 1, 2, 1],\n",
    "    }\n",
    ").set_index([\"host\", \"service\"])\n",
    "mask = df.groupby(level=0).agg(\"idxmax\")\n",
    "df_count = df.loc[mask[\"no\"]].reset_index()\n",
    "df_count"
   ]
  },
  {
   "cell_type": "markdown",
   "id": "7f01e706",
   "metadata": {},
   "source": [
    "[Grouping like Python’s itertools.groupby](https://stackoverflow.com/q/29142487/846892)"
   ]
  },
  {
   "cell_type": "code",
   "execution_count": null,
   "id": "7b232fb5-98b1-47a3-8b93-be7e416b7637",
   "metadata": {
    "hide-output": false
   },
   "outputs": [],
   "source": [
    "df = pd.DataFrame([0, 1, 0, 1, 1, 1, 0, 1, 1], columns=[\"A\"])\n",
    "df[\"A\"].groupby((df[\"A\"] != df[\"A\"].shift()).cumsum()).groups"
   ]
  },
  {
   "cell_type": "code",
   "execution_count": null,
   "id": "bedb6325-bd2a-48ae-89a4-c7459befde64",
   "metadata": {
    "hide-output": false
   },
   "outputs": [],
   "source": [
    "df[\"A\"].groupby((df[\"A\"] != df[\"A\"].shift()).cumsum()).cumsum()"
   ]
  },
  {
   "cell_type": "markdown",
   "id": "db155dc8",
   "metadata": {},
   "source": [
    "### Expanding data\n",
    "\n",
    "[Alignment and to-date](https://stackoverflow.com/questions/15489011/python-time-series-alignment-and-to-date-functions)\n",
    "\n",
    "[Rolling Computation window based on values instead of counts](https://stackoverflow.com/questions/14300768/pandas-rolling-computation-with-window-based-on-values-instead-of-counts)\n",
    "\n",
    "[Rolling Mean by Time Interval](https://stackoverflow.com/questions/15771472/pandas-rolling-mean-by-time-interval)"
   ]
  },
  {
   "cell_type": "markdown",
   "id": "41200358",
   "metadata": {},
   "source": [
    "### Splitting\n",
    "\n",
    "[Splitting a frame](https://stackoverflow.com/questions/13353233/best-way-to-split-a-dataframe-given-an-edge/15449992#15449992)\n",
    "\n",
    "Create a list of dataframes, split using a delineation based on logic included in rows."
   ]
  },
  {
   "cell_type": "code",
   "execution_count": null,
   "id": "92aac6d0-f59b-4155-8df9-71efee855dc6",
   "metadata": {
    "hide-output": false
   },
   "outputs": [],
   "source": [
    "df = pd.DataFrame(\n",
    "    data={\n",
    "        \"Case\": [\"A\", \"A\", \"A\", \"B\", \"A\", \"A\", \"B\", \"A\", \"A\"],\n",
    "        \"Data\": np.random.randn(9),\n",
    "    }\n",
    ")\n",
    "\n",
    "dfs = list(\n",
    "    zip(\n",
    "        *df.groupby(\n",
    "            (1 * (df[\"Case\"] == \"B\"))\n",
    "            .cumsum()\n",
    "            .rolling(window=3, min_periods=1)\n",
    "            .median()\n",
    "        )\n",
    "    )\n",
    ")[-1]\n",
    "\n",
    "dfs[0]"
   ]
  },
  {
   "cell_type": "code",
   "execution_count": null,
   "id": "8397deaa-8854-43e7-bcc9-a9ffafafad99",
   "metadata": {
    "hide-output": false
   },
   "outputs": [],
   "source": [
    "dfs[1]"
   ]
  },
  {
   "cell_type": "code",
   "execution_count": null,
   "id": "d621b52b-74a2-4284-9fba-50b57119459a",
   "metadata": {
    "hide-output": false
   },
   "outputs": [],
   "source": [
    "dfs[2]"
   ]
  },
  {
   "cell_type": "markdown",
   "id": "bab02aff",
   "metadata": {},
   "source": [
    "\n",
    "<a id='cookbook-pivot'></a>"
   ]
  },
  {
   "cell_type": "markdown",
   "id": "e2a20d3a",
   "metadata": {},
   "source": [
    "### Pivot\n",
    "\n",
    "The Pivot docs.\n",
    "\n",
    "[Partial sums and subtotals](https://stackoverflow.com/questions/15570099/pandas-pivot-tables-row-subtotals/15574875#15574875)"
   ]
  },
  {
   "cell_type": "code",
   "execution_count": null,
   "id": "1c983bdb",
   "metadata": {
    "hide-output": false
   },
   "outputs": [],
   "source": [
    "df = pd.DataFrame(\n",
    "    data={\n",
    "        \"Province\": [\"ON\", \"QC\", \"BC\", \"AL\", \"AL\", \"MN\", \"ON\"],\n",
    "        \"City\": [\n",
    "            \"Toronto\",\n",
    "            \"Montreal\",\n",
    "            \"Vancouver\",\n",
    "            \"Calgary\",\n",
    "            \"Edmonton\",\n",
    "            \"Winnipeg\",\n",
    "            \"Windsor\",\n",
    "        ],\n",
    "        \"Sales\": [13, 6, 16, 8, 4, 3, 1],\n",
    "    }\n",
    ")\n",
    "table = pd.pivot_table(\n",
    "    df,\n",
    "    values=[\"Sales\"],\n",
    "    index=[\"Province\"],\n",
    "    columns=[\"City\"],\n",
    "    aggfunc=np.sum,\n",
    "    margins=True,\n",
    ")\n",
    "table.stack(\"City\")"
   ]
  },
  {
   "cell_type": "markdown",
   "id": "807440ac",
   "metadata": {},
   "source": [
    "[Frequency table like plyr in R](https://stackoverflow.com/questions/15589354/frequency-tables-in-pandas-like-plyr-in-r)"
   ]
  },
  {
   "cell_type": "code",
   "execution_count": null,
   "id": "a7cea8c3",
   "metadata": {
    "hide-output": false
   },
   "outputs": [],
   "source": [
    "grades = [48, 99, 75, 80, 42, 80, 72, 68, 36, 78]\n",
    "df = pd.DataFrame(\n",
    "    {\n",
    "        \"ID\": [\"x%d\" % r for r in range(10)],\n",
    "        \"Gender\": [\"F\", \"M\", \"F\", \"M\", \"F\", \"M\", \"F\", \"M\", \"M\", \"M\"],\n",
    "        \"ExamYear\": [\n",
    "            \"2007\",\n",
    "\"2007\",\"2007\",\"2008\",\"2008\",\"2008\",\"2008\",\"2009\",\"2009\",\"2009\",        ],\n",
    "        \"Class\": [\n",
    "            \"algebra\",\"stats\",\"bio\",\"algebra\",\"algebra\",\"stats\",\"stats\",\"algebra\",\"bio\",\"bio\",\n",
    "        ],\n",
    "        \"Participated\": [\n",
    "            \"yes\", \"yes\", \"yes\", \"yes\",\"no\", \"yes\", \"yes\",\"yes\",\"yes\",\"yes\",\n",
    "        ],\n",
    "        \"Passed\": [\"yes\" if x > 50 else \"no\" for x in grades],\n",
    "        \"Employed\": [\n",
    "            True,True,True,False,False,False,False,True,True,False,\n",
    "        ],\n",
    "        \"Grade\": grades,\n",
    "    }\n",
    ")\n",
    "\n",
    "df.groupby(\"ExamYear\").agg(\n",
    "    {\n",
    "        \"Participated\": lambda x: x.value_counts()[\"yes\"],\n",
    "        \"Passed\": lambda x: sum(x == \"yes\"),\n",
    "        \"Employed\": lambda x: sum(x),\n",
    "        \"Grade\": lambda x: sum(x) / len(x),\n",
    "    }\n",
    ")"
   ]
  },
  {
   "cell_type": "markdown",
   "id": "ceee5379",
   "metadata": {},
   "source": [
    "[Plot pandas DataFrame with year over year data](https://stackoverflow.com/questions/30379789/plot-pandas-data-frame-with-year-over-year-data)\n",
    "\n",
    "To create year and month cross tabulation:"
   ]
  },
  {
   "cell_type": "code",
   "execution_count": null,
   "id": "3855928b",
   "metadata": {
    "hide-output": false
   },
   "outputs": [],
   "source": [
    "df = pd.DataFrame(\n",
    "    {\"value\": np.random.randn(36)},\n",
    "    index=pd.date_range(\"2011-01-01\", freq=\"M\", periods=36),\n",
    ")\n",
    "\n",
    "pd.pivot_table(\n",
    "    df, index=df.index.month, columns=df.index.year, values=\"value\", aggfunc=\"sum\"\n",
    ")"
   ]
  },
  {
   "cell_type": "markdown",
   "id": "e50e329f",
   "metadata": {},
   "source": [
    "### Apply\n",
    "\n",
    "[Rolling apply to organize - Turning embedded lists into a MultiIndex frame](https://stackoverflow.com/questions/17349981/converting-pandas-dataframe-with-categorical-values-into-binary-values)"
   ]
  },
  {
   "cell_type": "code",
   "execution_count": null,
   "id": "6a90a4db",
   "metadata": {
    "hide-output": false
   },
   "outputs": [],
   "source": [
    "df = pd.DataFrame(\n",
    "    data={\n",
    "        \"A\": [[2, 4, 8, 16], [100, 200], [10, 20, 30]],\n",
    "        \"B\": [[\"a\", \"b\", \"c\"], [\"jj\", \"kk\"], [\"ccc\"]],\n",
    "    },\n",
    "    index=[\"I\", \"II\", \"III\"],\n",
    ")\n",
    "\n",
    "def SeriesFromSubList(aList):\n",
    "    return pd.Series(aList)\n",
    "\n",
    "df_orgz = pd.concat(\n",
    "    {ind: row.apply(SeriesFromSubList) for ind, row in df.iterrows()}\n",
    ")\n",
    "df_orgz"
   ]
  },
  {
   "cell_type": "markdown",
   "id": "e3ad8def",
   "metadata": {},
   "source": [
    "[Rolling apply with a DataFrame returning a Series](https://stackoverflow.com/questions/19121854/using-rolling-apply-on-a-dataframe-object)\n",
    "\n",
    "Rolling Apply to multiple columns where function calculates a Series before a Scalar from the Series is returned"
   ]
  },
  {
   "cell_type": "code",
   "execution_count": null,
   "id": "5b78e96d-9dfc-4a87-83c7-bf7aeb0a5e11",
   "metadata": {
    "hide-output": false
   },
   "outputs": [],
   "source": [
    "df = pd.DataFrame(\n",
    "    data=np.random.randn(2000, 2) / 10000,\n",
    "    index=pd.date_range(\"2001-01-01\", periods=2000),\n",
    "    columns=[\"A\", \"B\"],\n",
    ")\n",
    "df"
   ]
  },
  {
   "cell_type": "code",
   "execution_count": null,
   "id": "7be3f025-328e-4bf3-b69e-0ad61572e960",
   "metadata": {
    "hide-output": false
   },
   "outputs": [],
   "source": [
    "def gm(df, const):\n",
    "    v = ((((df[\"A\"] + df[\"B\"]) + 1).cumprod()) - 1) * const\n",
    "    return v.iloc[-1]\n",
    "\n",
    "s = pd.Series(\n",
    "    {\n",
    "        df.index[i]: gm(df.iloc[i: min(i + 51, len(df) - 1)], 5)\n",
    "        for i in range(len(df) - 50)\n",
    "    }\n",
    ")\n",
    "s"
   ]
  },
  {
   "cell_type": "markdown",
   "id": "535c80fe",
   "metadata": {},
   "source": [
    "[Rolling apply with a DataFrame returning a Scalar](https://stackoverflow.com/questions/21040766/python-pandas-rolling-apply-two-column-input-into-function/21045831#21045831)\n",
    "\n",
    "Rolling Apply to multiple columns where function returns a Scalar (Volume Weighted Average Price)"
   ]
  },
  {
   "cell_type": "code",
   "execution_count": null,
   "id": "4df5df63-1a05-4549-bffa-90d47fe24d4a",
   "metadata": {
    "hide-output": false
   },
   "outputs": [],
   "source": [
    "rng = pd.date_range(start=\"2014-01-01\", periods=100)\n",
    "df = pd.DataFrame(\n",
    "    {\n",
    "        \"Open\": np.random.randn(len(rng)),\n",
    "        \"Close\": np.random.randn(len(rng)),\n",
    "        \"Volume\": np.random.randint(100, 2000, len(rng)),\n",
    "    },\n",
    "    index=rng,\n",
    ")\n",
    "df"
   ]
  },
  {
   "cell_type": "code",
   "execution_count": null,
   "id": "2958e589-139c-4fb7-a552-0d2678592db2",
   "metadata": {
    "hide-output": false
   },
   "outputs": [],
   "source": [
    "def vwap(bars):\n",
    "    return (bars.Close * bars.Volume).sum() / bars.Volume.sum()\n",
    "\n",
    "window = 5\n",
    "s = pd.concat(\n",
    "    [\n",
    "        (pd.Series(vwap(df.iloc[i: i + window]), index=[df.index[i + window]]))\n",
    "        for i in range(len(df) - window)\n",
    "    ]\n",
    ")\n",
    "s.round(2)"
   ]
  },
  {
   "cell_type": "markdown",
   "id": "dca59748",
   "metadata": {},
   "source": [
    "## Timeseries\n",
    "\n",
    "[Between times](https://stackoverflow.com/questions/14539992/pandas-drop-rows-outside-of-time-range)\n",
    "\n",
    "[Using indexer between time](https://stackoverflow.com/questions/17559885/pandas-dataframe-mask-based-on-index)\n",
    "\n",
    "[Constructing a datetime range that excludes weekends and includes only certain times](https://stackoverflow.com/questions/24010830/pandas-generate-sequential-timestamp-with-jump/24014440#24014440?)\n",
    "\n",
    "[Vectorized Lookup](https://stackoverflow.com/questions/13893227/vectorized-look-up-of-values-in-pandas-dataframe)\n",
    "\n",
    "[Aggregation and plotting time series](https://nipunbatra.github.io/blog/visualisation/2013/05/01/aggregation-timeseries.html)\n",
    "\n",
    "Turn a matrix with hours in columns and days in rows into a continuous row sequence in the form of a time series.\n",
    "[How to rearrange a Python pandas DataFrame?](https://stackoverflow.com/questions/15432659/how-to-rearrange-a-python-pandas-dataframe)\n",
    "\n",
    "[Dealing with duplicates when reindexing a timeseries to a specified frequency](https://stackoverflow.com/questions/22244383/pandas-df-refill-adding-two-columns-of-different-shape)\n",
    "\n",
    "Calculate the first day of the month for each entry in a DatetimeIndex"
   ]
  },
  {
   "cell_type": "code",
   "execution_count": null,
   "id": "30de9c59",
   "metadata": {
    "hide-output": false
   },
   "outputs": [],
   "source": [
    "dates = pd.date_range(\"2000-01-01\", periods=5)\n",
    "dates.to_period(freq=\"M\").to_timestamp()"
   ]
  },
  {
   "cell_type": "markdown",
   "id": "9042e6e0",
   "metadata": {},
   "source": [
    "\n",
    "<a id='cookbook-resample'></a>"
   ]
  },
  {
   "cell_type": "markdown",
   "id": "add657c2",
   "metadata": {},
   "source": [
    "### Resampling\n",
    "\n",
    "The [Resample](38_timeseries.ipynb#timeseries-resampling) docs.\n",
    "\n",
    "[Using Grouper instead of TimeGrouper for time grouping of values](https://stackoverflow.com/questions/15297053/how-can-i-divide-single-values-of-a-dataframe-by-monthly-averages)\n",
    "\n",
    "[Time grouping with some missing values](https://stackoverflow.com/questions/33637312/pandas-grouper-by-frequency-with-completeness-requirement)\n",
    "\n",
    "Valid frequency arguments to Grouper [Timeseries](38_timeseries.ipynb#timeseries-offset-aliases)\n",
    "\n",
    "[Grouping using a MultiIndex](https://stackoverflow.com/questions/41483763/pandas-timegrouper-on-multiindex)\n",
    "\n",
    "[Using TimeGrouper and another grouping to create subgroups, then apply a custom function](https://github.com/pandas-dev/pandas/issues/3791)\n",
    "\n",
    "[Resampling with custom periods](https://stackoverflow.com/questions/15408156/resampling-with-custom-periods)\n",
    "\n",
    "[Resample intraday frame without adding new days](https://stackoverflow.com/questions/14898574/resample-intrday-pandas-dataframe-without-add-new-days)\n",
    "\n",
    "[Resample minute data](https://stackoverflow.com/questions/14861023/resampling-minute-data)\n",
    "\n",
    "[Resample with groupby](https://stackoverflow.com/q/18677271/564538)\n",
    "\n",
    "\n",
    "<a id='cookbook-merge'></a>"
   ]
  },
  {
   "cell_type": "markdown",
   "id": "cadfa538",
   "metadata": {},
   "source": [
    "## Merge\n",
    "\n",
    "The [Concat](25_merging_join_concat.ipynb#merging-concatenation) docs. The [Join](25_merging_join_concat.ipynb#merging-join) docs.\n",
    "\n",
    "[Append two dataframes with overlapping index (emulate R rbind)](https://stackoverflow.com/questions/14988480/pandas-version-of-rbind)"
   ]
  },
  {
   "cell_type": "code",
   "execution_count": null,
   "id": "502de53e",
   "metadata": {
    "hide-output": false
   },
   "outputs": [],
   "source": [
    "rng = pd.date_range(\"2000-01-01\", periods=6)\n",
    "df1 = pd.DataFrame(np.random.randn(6, 3), index=rng, columns=[\"A\", \"B\", \"C\"])\n",
    "df2 = df1.copy()"
   ]
  },
  {
   "cell_type": "markdown",
   "id": "9befe53f",
   "metadata": {},
   "source": [
    "Depending on df construction, `ignore_index` may be needed"
   ]
  },
  {
   "cell_type": "code",
   "execution_count": null,
   "id": "2a77770c",
   "metadata": {
    "hide-output": false
   },
   "outputs": [],
   "source": [
    "df = df1.append(df2, ignore_index=True)\n",
    "df"
   ]
  },
  {
   "cell_type": "markdown",
   "id": "c95190e6",
   "metadata": {},
   "source": [
    "[Self Join of a DataFrame](https://github.com/pandas-dev/pandas/issues/2996)"
   ]
  },
  {
   "cell_type": "code",
   "execution_count": null,
   "id": "04ee443b-6eb9-46e5-b636-7ba90ac227f8",
   "metadata": {
    "hide-output": false
   },
   "outputs": [],
   "source": [
    "df = pd.DataFrame(\n",
    "    data={\n",
    "        \"Area\": [\"A\"] * 5 + [\"C\"] * 2,\n",
    "        \"Bins\": [110] * 2 + [160] * 3 + [40] * 2,\n",
    "        \"Test_0\": [0, 1, 0, 1, 2, 0, 1],\n",
    "        \"Data\": np.random.randn(7),\n",
    "    }\n",
    ")\n",
    "df"
   ]
  },
  {
   "cell_type": "code",
   "execution_count": null,
   "id": "210483a4-db9f-491b-8cd3-0ba5feb97002",
   "metadata": {
    "hide-output": false
   },
   "outputs": [],
   "source": [
    "df[\"Test_1\"] = df[\"Test_0\"] - 1\n",
    "\n",
    "pd.merge(\n",
    "    df,\n",
    "    df,\n",
    "    left_on=[\"Bins\", \"Area\", \"Test_0\"],\n",
    "    right_on=[\"Bins\", \"Area\", \"Test_1\"],\n",
    "    suffixes=(\"_L\", \"_R\"),\n",
    ")"
   ]
  },
  {
   "cell_type": "markdown",
   "id": "dfd4b0c9",
   "metadata": {},
   "source": [
    "[How to set the index and join](https://stackoverflow.com/questions/14341805/pandas-merge-pd-merge-how-to-set-the-index-and-join)\n",
    "\n",
    "[KDB like asof join](https://stackoverflow.com/questions/12322289/kdb-like-asof-join-for-timeseries-data-in-pandas/12336039#12336039)\n",
    "\n",
    "[Join with a criteria based on the values](https://stackoverflow.com/questions/15581829/how-to-perform-an-inner-or-outer-join-of-dataframes-with-pandas-on-non-simplisti)\n",
    "\n",
    "[Using searchsorted to merge based on values inside a range](https://stackoverflow.com/questions/25125626/pandas-merge-with-logic/2512764)\n",
    "\n",
    "\n",
    "<a id='cookbook-plotting'></a>"
   ]
  },
  {
   "cell_type": "markdown",
   "id": "9ce9aba8",
   "metadata": {},
   "source": [
    "## Plotting\n",
    "\n",
    "The Plotting docs.\n",
    "\n",
    "[Make Matplotlib look like R](https://stackoverflow.com/questions/14349055/making-matplotlib-graphs-look-like-r-by-default)\n",
    "\n",
    "[Setting x-axis major and minor labels](https://stackoverflow.com/questions/12945971/pandas-timeseries-plot-setting-x-axis-major-and-minor-ticks-and-labels)\n",
    "\n",
    "[Plotting multiple charts in an IPython Jupyter notebook](https://stackoverflow.com/questions/16392921/make-more-than-one-chart-in-same-ipython-notebook-cell)\n",
    "\n",
    "[Creating a multi-line plot](https://stackoverflow.com/questions/16568964/make-a-multiline-plot-from-csv-file-in-matplotlib)\n",
    "\n",
    "[Plotting a heatmap](https://stackoverflow.com/questions/17050202/plot-timeseries-of-histograms-in-python)\n",
    "\n",
    "[Annotate a time-series plot](https://stackoverflow.com/questions/11067368/annotate-time-series-plot-in-matplotlib)\n",
    "\n",
    "[Annotate a time-series plot #2](https://stackoverflow.com/questions/17891493/annotating-points-from-a-pandas-dataframe-in-matplotlib-plot)\n",
    "\n",
    "[Generate Embedded plots in excel files using Pandas, Vincent and xlsxwriter](https://pandas-xlsxwriter-charts.readthedocs.io/)\n",
    "\n",
    "[Boxplot for each quartile of a stratifying variable](https://stackoverflow.com/questions/23232989/boxplot-stratified-by-column-in-python-pandas)"
   ]
  },
  {
   "cell_type": "code",
   "execution_count": null,
   "id": "63ca53cd",
   "metadata": {
    "hide-output": false
   },
   "outputs": [],
   "source": [
    "df = pd.DataFrame(\n",
    "    {\n",
    "        \"stratifying_var\": np.random.uniform(0, 100, 20),\n",
    "        \"price\": np.random.normal(100, 5, 20),\n",
    "    }\n",
    ")\n",
    "\n",
    "df[\"quartiles\"] = pd.qcut(\n",
    "    df[\"stratifying_var\"], 4, labels=[\"0-25%\", \"25-50%\", \"50-75%\", \"75-100%\"]\n",
    ")\n",
    "\n",
    "df.boxplot(column=\"price\", by=\"quartiles\")"
   ]
  },
  {
   "cell_type": "markdown",
   "id": "01e58c7a",
   "metadata": {},
   "source": [
    "## Data in/out\n",
    "\n",
    "[Performance comparison of SQL vs HDF5](https://stackoverflow.com/questions/16628329/hdf5-and-sqlite-concurrency-compression-i-o-performance)\n",
    "\n",
    "\n",
    "<a id='cookbook-csv'></a>"
   ]
  },
  {
   "cell_type": "markdown",
   "id": "fe15918f",
   "metadata": {},
   "source": [
    "### CSV\n",
    "\n",
    "The CSV docs\n",
    "\n",
    "[read_csv in action](https://wesmckinney.com/blog/update-on-upcoming-pandas-v0-10-new-file-parser-other-performance-wins/)\n",
    "\n",
    "[appending to a csv](https://stackoverflow.com/questions/17134942/pandas-dataframe-output-end-of-csv)\n",
    "\n",
    "[Reading a csv chunk-by-chunk](https://stackoverflow.com/questions/11622652/large-persistent-dataframe-in-pandas/12193309#12193309)\n",
    "\n",
    "[Reading only certain rows of a csv chunk-by-chunk](https://stackoverflow.com/questions/19674212/pandas-data-frame-select-rows-and-clear-memory)\n",
    "\n",
    "[Reading the first few lines of a frame](https://stackoverflow.com/questions/15008970/way-to-read-first-few-lines-for-pandas-dataframe)\n",
    "\n",
    "Reading a file that is compressed but not by `gzip/bz2` (the native compressed formats which `read_csv` understands).\n",
    "This example shows a `WinZipped` file, but is a general application of opening the file within a context manager and\n",
    "using that handle to read.\n",
    "[See here](https://stackoverflow.com/questions/17789907/pandas-convert-winzipped-csv-file-to-data-frame)\n",
    "\n",
    "[Inferring dtypes from a file](https://stackoverflow.com/questions/15555005/get-inferred-dataframe-types-iteratively-using-chunksize)\n",
    "\n",
    "[Dealing with bad lines](https://github.com/pandas-dev/pandas/issues/2886)\n",
    "\n",
    "[Dealing with bad lines II](http://nipunbatra.github.io/2013/06/reading-unclean-data-csv-using-pandas/)\n",
    "\n",
    "[Reading CSV with Unix timestamps and converting to local timezone](http://nipunbatra.github.io/2013/06/pandas-reading-csv-with-unix-timestamps-and-converting-to-local-timezone/)\n",
    "\n",
    "[Write a multi-row index CSV without writing duplicates](https://stackoverflow.com/questions/17349574/pandas-write-multiindex-rows-with-to-csv)\n",
    "\n",
    "\n",
    "<a id='cookbook-csv-multiple-files'></a>"
   ]
  },
  {
   "cell_type": "markdown",
   "id": "92f63e78",
   "metadata": {},
   "source": [
    "#### Reading multiple files to create a single DataFrame\n",
    "\n",
    "The best way to combine multiple files into a single DataFrame is to read the individual frames one by one, put all\n",
    "of the individual frames into a list, and then combine the frames in the list using `pd.concat()`:"
   ]
  },
  {
   "cell_type": "code",
   "execution_count": null,
   "id": "4b976ada",
   "metadata": {
    "hide-output": false
   },
   "outputs": [],
   "source": [
    "for i in range(3):\n",
    "    data = pd.DataFrame(np.random.randn(10, 4))\n",
    "    data.to_csv(\"file_{}.csv\".format(i))\n",
    "\n",
    "files = [\"file_0.csv\", \"file_1.csv\", \"file_2.csv\"]\n",
    "result = pd.concat([pd.read_csv(f) for f in files], ignore_index=True)"
   ]
  },
  {
   "cell_type": "markdown",
   "id": "e9e1f845",
   "metadata": {},
   "source": [
    "You can use the same approach to read all files matching a pattern.  Here is an example using `glob`:"
   ]
  },
  {
   "cell_type": "code",
   "execution_count": null,
   "id": "69bf7e23",
   "metadata": {
    "hide-output": false
   },
   "outputs": [],
   "source": [
    "import glob\n",
    "import os\n",
    "\n",
    "files = glob.glob(\"file_*.csv\")\n",
    "result = pd.concat([pd.read_csv(f) for f in files], ignore_index=True)"
   ]
  },
  {
   "cell_type": "markdown",
   "id": "e20e6b56",
   "metadata": {},
   "source": [
    "Finally, this strategy will work with the other `pd.read_*(...)` functions described in the io docs.\n",
    "\n",
    "\n",
    "<dl style='margin: 20px 0;'>\n",
    "<dt>::</dt>\n",
    "<dd>\n",
    "\n",
    "<dl style='margin: 20px 0;'>\n",
    "<dt>suppress</dt>\n",
    "<dd>\n",
    "</dd>\n",
    "\n",
    "</dl>\n",
    "\n",
    "\n",
    "<dl style='margin: 20px 0;'>\n",
    "<dt>for i in range(3):</dt>\n",
    "<dd>\n",
    "os.remove(“file_{}.csv”.format(i))\n",
    "\n",
    "</dd>\n",
    "\n",
    "</dl>\n",
    "\n",
    "</dd>\n",
    "\n",
    "</dl>"
   ]
  },
  {
   "cell_type": "markdown",
   "id": "e4b19cb0",
   "metadata": {},
   "source": [
    "#### Parsing date components in multi-columns\n",
    "\n",
    "Parsing date components in multi-columns is faster with a format"
   ]
  },
  {
   "cell_type": "code",
   "execution_count": null,
   "id": "e743c7c1-28a9-479d-a87f-07254126b5df",
   "metadata": {
    "hide-output": false
   },
   "outputs": [],
   "source": [
    "i = pd.date_range(\"20000101\", periods=10000)\n",
    "df = pd.DataFrame({\"year\": i.year, \"month\": i.month, \"day\": i.day})\n",
    "df.head()"
   ]
  },
  {
   "cell_type": "code",
   "execution_count": null,
   "id": "163009e5-7772-48c9-ab91-bd08ab61fd09",
   "metadata": {
    "hide-output": false
   },
   "outputs": [],
   "source": [
    "%timeit pd.to_datetime(df.year * 10000 + df.month * 100 + df.day, format='%Y%m%d')"
   ]
  },
  {
   "cell_type": "code",
   "execution_count": null,
   "id": "fa83f449-b601-4096-a8b8-79859c106bd0",
   "metadata": {
    "hide-output": false
   },
   "outputs": [],
   "source": [
    "ds = df.apply(lambda x: \"%04d%02d%02d\" % (x[\"year\"], x[\"month\"], x[\"day\"]), axis=1)\n",
    "ds.head()"
   ]
  },
  {
   "cell_type": "code",
   "execution_count": null,
   "id": "95303385-e8a9-4b88-bc7b-b9977b652ef9",
   "metadata": {
    "hide-output": false
   },
   "outputs": [],
   "source": [
    "%timeit pd.to_datetime(ds)"
   ]
  },
  {
   "cell_type": "markdown",
   "id": "a9a2c6a9",
   "metadata": {},
   "source": [
    "#### Skip row between header and data"
   ]
  },
  {
   "cell_type": "code",
   "execution_count": null,
   "id": "0080de75",
   "metadata": {
    "hide-output": false
   },
   "outputs": [],
   "source": [
    "data = \"\"\";;;;\n",
    " ;;;;\n",
    " ;;;;\n",
    " ;;;;\n",
    " ;;;;\n",
    " ;;;;\n",
    ";;;;\n",
    " ;;;;\n",
    " ;;;;\n",
    ";;;;\n",
    "date;Param1;Param2;Param4;Param5\n",
    "    ;m²;°C;m²;m\n",
    ";;;;\n",
    "01.01.1990 00:00;1;1;2;3\n",
    "01.01.1990 01:00;5;3;4;5\n",
    "01.01.1990 02:00;9;5;6;7\n",
    "01.01.1990 03:00;13;7;8;9\n",
    "01.01.1990 04:00;17;9;10;11\n",
    "01.01.1990 05:00;21;11;12;13\n",
    "\"\"\""
   ]
  },
  {
   "cell_type": "markdown",
   "id": "9c5ea36a",
   "metadata": {},
   "source": [
    "##### Option 1: pass rows explicitly to skip rows"
   ]
  },
  {
   "cell_type": "code",
   "execution_count": null,
   "id": "8f47e898",
   "metadata": {
    "hide-output": false
   },
   "outputs": [],
   "source": [
    "from io import StringIO\n",
    "\n",
    "pd.read_csv(\n",
    "    StringIO(data),\n",
    "    sep=\";\",\n",
    "    skiprows=[11, 12],\n",
    "    index_col=0,\n",
    "    parse_dates=True,\n",
    "    header=10,\n",
    ")"
   ]
  },
  {
   "cell_type": "markdown",
   "id": "eda80c26",
   "metadata": {},
   "source": [
    "##### Option 2: read column names and then data"
   ]
  },
  {
   "cell_type": "code",
   "execution_count": null,
   "id": "f1f797d4",
   "metadata": {
    "hide-output": false
   },
   "outputs": [],
   "source": [
    "pd.read_csv(StringIO(data), sep=\";\", header=10, nrows=10).columns\n",
    "columns = pd.read_csv(StringIO(data), sep=\";\", header=10, nrows=10).columns\n",
    "pd.read_csv(\n",
    "    StringIO(data), sep=\";\", index_col=0, header=12, parse_dates=True, names=columns\n",
    ")"
   ]
  },
  {
   "cell_type": "markdown",
   "id": "abe68f6f",
   "metadata": {},
   "source": [
    "\n",
    "<a id='cookbook-sql'></a>"
   ]
  },
  {
   "cell_type": "markdown",
   "id": "15c92deb",
   "metadata": {},
   "source": [
    "### SQL\n",
    "\n",
    "The SQL docs\n",
    "\n",
    "[Reading from databases with SQL](https://stackoverflow.com/questions/10065051/python-pandas-and-databases-like-mysql)\n",
    "\n",
    "\n",
    "<a id='cookbook-excel'></a>"
   ]
  },
  {
   "cell_type": "markdown",
   "id": "db7f9c8e",
   "metadata": {},
   "source": [
    "### Excel\n",
    "\n",
    "The Excel docs\n",
    "\n",
    "[Reading from a filelike handle](https://stackoverflow.com/questions/15588713/sheets-of-excel-workbook-from-a-url-into-a-pandas-dataframe)\n",
    "\n",
    "[Modifying formatting in XlsxWriter output](https://pbpython.com/improve-pandas-excel-output.html)\n",
    "\n",
    "\n",
    "<a id='cookbook-html'></a>"
   ]
  },
  {
   "cell_type": "markdown",
   "id": "9cc908fe",
   "metadata": {},
   "source": [
    "### HTML\n",
    "\n",
    "[Reading HTML tables from a server that cannot handle the default request\n",
    "header](https://stackoverflow.com/a/18939272/564538)\n",
    "\n",
    "\n",
    "<a id='cookbook-hdf'></a>"
   ]
  },
  {
   "cell_type": "markdown",
   "id": "76b448da",
   "metadata": {},
   "source": [
    "### HDFStore\n",
    "\n",
    "The HDFStores docs\n",
    "\n",
    "[Simple queries with a Timestamp Index](https://stackoverflow.com/questions/13926089/selecting-columns-from-pandas-hdfstore-table)\n",
    "\n",
    "[Managing heterogeneous data using a linked multiple table hierarchy](https://github.com/pandas-dev/pandas/issues/3032)\n",
    "\n",
    "[Merging on-disk tables with millions of rows](https://stackoverflow.com/questions/14614512/merging-two-tables-with-millions-of-rows-in-python/14617925#14617925)\n",
    "\n",
    "[Avoiding inconsistencies when writing to a store from multiple processes/threads](https://stackoverflow.com/a/29014295/2858145)\n",
    "\n",
    "De-duplicating a large store by chunks, essentially a recursive reduction operation. Shows a function for taking in data from\n",
    "csv file and creating a store by chunks, with date parsing as well.\n",
    "[See here](https://stackoverflow.com/questions/16110252/need-to-compare-very-large-files-around-1-5gb-in-python/16110391#16110391)\n",
    "\n",
    "[Creating a store chunk-by-chunk from a csv file](https://stackoverflow.com/questions/20428355/appending-column-to-frame-of-hdf-file-in-pandas/20428786#20428786)\n",
    "\n",
    "[Appending to a store, while creating a unique index](https://stackoverflow.com/questions/16997048/how-does-one-append-large-amounts-of-data-to-a-pandas-hdfstore-and-get-a-natural/16999397#16999397)\n",
    "\n",
    "[Large Data work flows](https://stackoverflow.com/questions/14262433/large-data-work-flows-using-pandas)\n",
    "\n",
    "[Reading in a sequence of files, then providing a global unique index to a store while appending](https://stackoverflow.com/questions/16997048/how-does-one-append-large-amounts-of-data-to-a-pandas-hdfstore-and-get-a-natural)\n",
    "\n",
    "[Groupby on a HDFStore with low group density](https://stackoverflow.com/questions/15798209/pandas-group-by-query-on-large-data-in-hdfstore)\n",
    "\n",
    "[Groupby on a HDFStore with high group density](https://stackoverflow.com/questions/25459982/trouble-with-grouby-on-millions-of-keys-on-a-chunked-file-in-python-pandas/25471765#25471765)\n",
    "\n",
    "[Hierarchical queries on a HDFStore](https://stackoverflow.com/questions/22777284/improve-query-performance-from-a-large-hdfstore-table-with-pandas/22820780#22820780)\n",
    "\n",
    "[Counting with a HDFStore](https://stackoverflow.com/questions/20497897/converting-dict-of-dicts-into-pandas-dataframe-memory-issues)\n",
    "\n",
    "[Troubleshoot HDFStore exceptions](https://stackoverflow.com/questions/15488809/how-to-trouble-shoot-hdfstore-exception-cannot-find-the-correct-atom-type)\n",
    "\n",
    "[Setting min_itemsize with strings](https://stackoverflow.com/questions/15988871/hdfstore-appendstring-dataframe-fails-when-string-column-contents-are-longer)\n",
    "\n",
    "[Using ptrepack to create a completely-sorted-index on a store](https://stackoverflow.com/questions/17893370/ptrepack-sortby-needs-full-index)\n",
    "\n",
    "Storing Attributes to a group node"
   ]
  },
  {
   "cell_type": "code",
   "execution_count": null,
   "id": "4a85b560",
   "metadata": {
    "hide-output": false
   },
   "outputs": [],
   "source": [
    "df = pd.DataFrame(np.random.randn(8, 3))\n",
    "store = pd.HDFStore(\"test.h5\")\n",
    "store.put(\"df\", df)\n",
    "\n",
    "# you can store an arbitrary Python object via pickle\n",
    "store.get_storer(\"df\").attrs.my_attribute = {\"A\": 10}\n",
    "store.get_storer(\"df\").attrs.my_attribute"
   ]
  },
  {
   "cell_type": "code",
   "execution_count": null,
   "id": "4689a080-b783-43f9-a7dc-e6b301197f5b",
   "metadata": {},
   "outputs": [],
   "source": [
    "store.close()\n",
    "os.remove(\"test.h5\")"
   ]
  },
  {
   "cell_type": "markdown",
   "id": "9a549145-344a-45f9-8dd9-7501b7f3fabe",
   "metadata": {},
   "source": [
    "You can create or load a HDFStore in-memory  by passing the `driver`\n",
    "parameter to PyTables. Changes are only written to disk when the HDFStore\n",
    "is closed."
   ]
  },
  {
   "cell_type": "code",
   "execution_count": null,
   "id": "df270508",
   "metadata": {
    "hide-output": false
   },
   "outputs": [],
   "source": [
    "store = pd.HDFStore(\"test.h5\", \"w\", diver=\"H5FD_CORE\")\n",
    "\n",
    "df = pd.DataFrame(np.random.randn(8, 3))\n",
    "store[\"test\"] = df\n",
    "\n",
    "# only after closing the store, data is written to disk:\n",
    "store.close()"
   ]
  },
  {
   "cell_type": "code",
   "execution_count": null,
   "id": "616edb8b-aa0c-4039-845f-077ee00e100d",
   "metadata": {},
   "outputs": [],
   "source": [
    "os.remove(\"test.h5\")"
   ]
  },
  {
   "cell_type": "markdown",
   "id": "9302adf2",
   "metadata": {},
   "source": [
    "### Binary files\n",
    "\n",
    "pandas readily accepts NumPy record arrays, if you need to read in a binary\n",
    "file consisting of an array of C structs. For example, given this C program\n",
    "in a file called `main.c` compiled with `gcc main.c -std=gnu99` on a\n",
    "64-bit machine,"
   ]
  },
  {
   "cell_type": "markdown",
   "id": "f1ae03f4",
   "metadata": {
    "hide-output": false
   },
   "source": [
    "```c\n",
    "#include <stdio.h>\n",
    "#include <stdint.h>\n",
    "\n",
    "typedef struct _Data\n",
    "{\n",
    "    int32_t count;\n",
    "    double avg;\n",
    "    float scale;\n",
    "} Data;\n",
    "\n",
    "int main(int argc, const char *argv[])\n",
    "{\n",
    "    size_t n = 10;\n",
    "    Data d[n];\n",
    "\n",
    "    for (int i = 0; i < n; ++i)\n",
    "    {\n",
    "        d[i].count = i;\n",
    "        d[i].avg = i + 1.0;\n",
    "        d[i].scale = (float) i + 2.0f;\n",
    "    }\n",
    "\n",
    "    FILE *file = fopen(\"binary.dat\", \"wb\");\n",
    "    fwrite(&d, sizeof(Data), n, file);\n",
    "    fclose(file);\n",
    "\n",
    "    return 0;\n",
    "}\n",
    "```\n"
   ]
  },
  {
   "cell_type": "markdown",
   "id": "996678a4",
   "metadata": {},
   "source": [
    "the following Python code will read the binary file `'binary.dat'` into a\n",
    "pandas `DataFrame`, where each element of the struct corresponds to a column\n",
    "in the frame:"
   ]
  },
  {
   "cell_type": "markdown",
   "id": "697f8bf1",
   "metadata": {
    "hide-output": false
   },
   "source": [
    "```python\n",
    "names = \"count\", \"avg\", \"scale\"\n",
    "\n",
    "# note that the offsets are larger than the size of the type because of\n",
    "# struct padding\n",
    "offsets = 0, 8, 16\n",
    "formats = \"i4\", \"f8\", \"f4\"\n",
    "dt = np.dtype({\"names\": names, \"offsets\": offsets, \"formats\": formats}, align=True)\n",
    "df = pd.DataFrame(np.fromfile(\"binary.dat\", dt))\n",
    "```\n"
   ]
  },
  {
   "cell_type": "markdown",
   "id": "788bca51",
   "metadata": {},
   "source": [
    ">**Note**\n",
    ">\n",
    ">The offsets of the structure elements may be different depending on the\n",
    "architecture of the machine on which the file was created. Using a raw\n",
    "binary file format like this for general data storage is not recommended, as\n",
    "it is not cross platform. We recommended either HDF5 or parquet, both of\n",
    "which are supported by pandas’ IO facilities."
   ]
  },
  {
   "cell_type": "markdown",
   "id": "fa375041",
   "metadata": {},
   "source": [
    "## Computation\n",
    "\n",
    "[Numerical integration (sample-based) of a time series](https://nbviewer.ipython.org/5720498)"
   ]
  },
  {
   "cell_type": "markdown",
   "id": "0ac6ec73",
   "metadata": {},
   "source": [
    "### Correlation\n",
    "\n",
    "Often it’s useful to obtain the lower (or upper) triangular form of a correlation matrix calculated from `DataFrame.corr()`.  This can be achieved by passing a boolean mask to `where` as follows:"
   ]
  },
  {
   "cell_type": "code",
   "execution_count": null,
   "id": "f435ebbd",
   "metadata": {
    "hide-output": false
   },
   "outputs": [],
   "source": [
    "df = pd.DataFrame(np.random.random(size=(100, 5)))\n",
    "\n",
    "corr_mat = df.corr()\n",
    "mask = np.tril(np.ones_like(corr_mat, dtype=np.bool_), k=-1)\n",
    "\n",
    "corr_mat.where(mask)"
   ]
  },
  {
   "cell_type": "markdown",
   "id": "dafba338",
   "metadata": {},
   "source": [
    "The `method` argument within `DataFrame.corr` can accept a callable in addition to the named correlation types.  Here we compute the [distance correlation](https://en.wikipedia.org/wiki/Distance_correlation) matrix for a `DataFrame` object."
   ]
  },
  {
   "cell_type": "code",
   "execution_count": null,
   "id": "e6307a34",
   "metadata": {
    "hide-output": false
   },
   "outputs": [],
   "source": [
    "def distcorr(x, y):\n",
    "    n = len(x)\n",
    "    a = np.zeros(shape=(n, n))\n",
    "    b = np.zeros(shape=(n, n))\n",
    "    for i in range(n):\n",
    "        for j in range(i + 1, n):\n",
    "            a[i, j] = abs(x[i] - x[j])\n",
    "            b[i, j] = abs(y[i] - y[j])\n",
    "    a += a.T\n",
    "    b += b.T\n",
    "    a_bar = np.vstack([np.nanmean(a, axis=0)] * n)\n",
    "    b_bar = np.vstack([np.nanmean(b, axis=0)] * n)\n",
    "    A = a - a_bar - a_bar.T + np.full(shape=(n, n), fill_value=a_bar.mean())\n",
    "    B = b - b_bar - b_bar.T + np.full(shape=(n, n), fill_value=b_bar.mean())\n",
    "    cov_ab = np.sqrt(np.nansum(A * B)) / n\n",
    "    std_a = np.sqrt(np.sqrt(np.nansum(A ** 2)) / n)\n",
    "    std_b = np.sqrt(np.sqrt(np.nansum(B ** 2)) / n)\n",
    "    return cov_ab / std_a / std_b\n",
    "\n",
    "\n",
    "df = pd.DataFrame(np.random.normal(size=(100, 3)))\n",
    "df.corr(method=distcorr)"
   ]
  },
  {
   "cell_type": "markdown",
   "id": "3fa7a3fa",
   "metadata": {},
   "source": [
    "## Timedeltas\n",
    "\n",
    "The [Timedeltas](39_timedeltas.ipynb#timedeltas-timedeltas) docs.\n",
    "\n",
    "[Using timedeltas](https://github.com/pandas-dev/pandas/pull/2899)"
   ]
  },
  {
   "cell_type": "code",
   "execution_count": null,
   "id": "e2436635-8c98-4fe7-9959-1cc412c7f13a",
   "metadata": {
    "hide-output": false
   },
   "outputs": [],
   "source": [
    "import datetime\n",
    "\n",
    "s = pd.Series(pd.date_range(\"2012-1-1\", periods=3, freq=\"D\"))"
   ]
  },
  {
   "cell_type": "code",
   "execution_count": null,
   "id": "94cc943d-a905-4868-883a-0f1104883831",
   "metadata": {
    "hide-output": false
   },
   "outputs": [],
   "source": [
    "s - s.max()"
   ]
  },
  {
   "cell_type": "code",
   "execution_count": null,
   "id": "5e38eff3-3301-4600-8a7a-08b5741aec0c",
   "metadata": {
    "hide-output": false
   },
   "outputs": [],
   "source": [
    "s.max() - s"
   ]
  },
  {
   "cell_type": "code",
   "execution_count": null,
   "id": "0b2f421d-21a9-49f8-86d0-48d5a64d3ef4",
   "metadata": {
    "hide-output": false
   },
   "outputs": [],
   "source": [
    "s - datetime.datetime(2011, 1, 1, 3, 5)"
   ]
  },
  {
   "cell_type": "code",
   "execution_count": null,
   "id": "b6013fc7-5326-4be5-988f-8d3249762b4a",
   "metadata": {
    "hide-output": false
   },
   "outputs": [],
   "source": [
    "s + datetime.timedelta(minutes=5)"
   ]
  },
  {
   "cell_type": "code",
   "execution_count": null,
   "id": "65c52cdc-64eb-4df0-b241-89066b53a104",
   "metadata": {
    "hide-output": false
   },
   "outputs": [],
   "source": [
    "datetime.datetime(2011, 1, 1, 3, 5) - s"
   ]
  },
  {
   "cell_type": "code",
   "execution_count": null,
   "id": "b5b29e6b-3e44-4880-9388-2cf4190eabb8",
   "metadata": {
    "hide-output": false
   },
   "outputs": [],
   "source": [
    "datetime.timedelta(minutes=5) + s"
   ]
  },
  {
   "cell_type": "markdown",
   "id": "9b80e0a4",
   "metadata": {},
   "source": [
    "[Adding and subtracting deltas and dates](https://stackoverflow.com/questions/16385785/add-days-to-dates-in-dataframe)"
   ]
  },
  {
   "cell_type": "code",
   "execution_count": null,
   "id": "034e2a8c-be40-4801-85dd-5346e2a24b11",
   "metadata": {
    "hide-output": false
   },
   "outputs": [],
   "source": [
    "deltas = pd.Series([datetime.timedelta(days=i) for i in range(3)])\n",
    "df = pd.DataFrame({\"A\": s, \"B\": deltas})\n",
    "df"
   ]
  },
  {
   "cell_type": "code",
   "execution_count": null,
   "id": "c2169a4f-e393-4c45-99a5-f4ad81211c08",
   "metadata": {
    "hide-output": false
   },
   "outputs": [],
   "source": [
    "df[\"New Dates\"] = df[\"A\"] + df[\"B\"]\n",
    "df[\"Delta\"] = df[\"A\"] - df[\"New Dates\"]\n",
    "df"
   ]
  },
  {
   "cell_type": "code",
   "execution_count": null,
   "id": "abd6b497-789f-4aa2-9ea3-7419b72e325e",
   "metadata": {
    "hide-output": false
   },
   "outputs": [],
   "source": [
    "df.dtypes"
   ]
  },
  {
   "cell_type": "markdown",
   "id": "8844a1eb",
   "metadata": {},
   "source": [
    "[Another example](https://stackoverflow.com/questions/15683588/iterating-through-a-pandas-dataframe)\n",
    "\n",
    "Values can be set to NaT using np.nan, similar to datetime"
   ]
  },
  {
   "cell_type": "code",
   "execution_count": null,
   "id": "060ee9e2-c6f3-469d-88f3-7393a349454d",
   "metadata": {
    "hide-output": false
   },
   "outputs": [],
   "source": [
    "y = s - s.shift()\n",
    "y"
   ]
  },
  {
   "cell_type": "code",
   "execution_count": null,
   "id": "d668c144-4d88-49e0-8cf2-dcd0a9fb4c99",
   "metadata": {
    "hide-output": false
   },
   "outputs": [],
   "source": [
    "y[1] = np.nan\n",
    "y"
   ]
  },
  {
   "cell_type": "markdown",
   "id": "e6e419f0",
   "metadata": {},
   "source": [
    "## Creating example data\n",
    "\n",
    "To create a dataframe from every combination of some given values, like R’s `expand.grid()`\n",
    "function, we can create a dict where the keys are column names and the values are lists\n",
    "of the data values:"
   ]
  },
  {
   "cell_type": "code",
   "execution_count": null,
   "id": "a191f3d9",
   "metadata": {
    "hide-output": false
   },
   "outputs": [],
   "source": [
    "def expand_grid(data_dict):\n",
    "    rows = itertools.product(*data_dict.values())\n",
    "    return pd.DataFrame.from_records(rows, columns=data_dict.keys())\n",
    "\n",
    "\n",
    "df = expand_grid(\n",
    "    {\"height\": [60, 70], \"weight\": [100, 140, 180], \"sex\": [\"Male\", \"Female\"]}\n",
    ")\n",
    "df"
   ]
  }
 ],
 "metadata": {
  "date": 1630231092.8047073,
  "filename": "44_cookbook.rst",
  "kernelspec": {
   "display_name": "Python 3 (ipykernel)",
   "language": "python",
   "name": "python3"
  },
  "language_info": {
   "codemirror_mode": {
    "name": "ipython",
    "version": 3
   },
   "file_extension": ".py",
   "mimetype": "text/x-python",
   "name": "python",
   "nbconvert_exporter": "python",
   "pygments_lexer": "ipython3",
   "version": "3.8.8"
  },
  "title": "Cookbook"
 },
 "nbformat": 4,
 "nbformat_minor": 5
}
