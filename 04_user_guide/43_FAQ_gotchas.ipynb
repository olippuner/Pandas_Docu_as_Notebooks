{
 "cells": [
  {
   "cell_type": "code",
   "execution_count": null,
   "id": "dc6ed3b2-4b9e-43a5-bc64-e745edcf6570",
   "metadata": {},
   "outputs": [],
   "source": [
    "import numpy as np\n",
    "import pandas as pd\n",
    "import matplotlib.pyplot as plt\n",
    "print(\"pandas\", pd.__version__)\n",
    "print(\"numpy\",np.__version__)"
   ]
  },
  {
   "cell_type": "markdown",
   "id": "20ca53d8",
   "metadata": {},
   "source": [
    "# Frequently Asked Questions (FAQ)\n",
    "\n",
    "\n",
    "<a id='df-memory-usage'></a>"
   ]
  },
  {
   "cell_type": "markdown",
   "id": "76231f62",
   "metadata": {},
   "source": [
    "## DataFrame memory usage\n",
    "\n",
    "The memory usage of a `DataFrame` (including the index) is shown when calling\n",
    "the `info()`. A configuration option, `display.memory_usage`\n",
    "(see [the list of options](40_options.ipynb#options-available)), specifies if the\n",
    "`DataFrame`’s memory usage will be displayed when invoking the `df.info()`\n",
    "method.\n",
    "\n",
    "For example, the memory usage of the `DataFrame` below is shown\n",
    "when calling `info()`:"
   ]
  },
  {
   "cell_type": "code",
   "execution_count": null,
   "id": "af41776d",
   "metadata": {
    "hide-output": false
   },
   "outputs": [],
   "source": [
    "dtypes = [\n",
    "    \"int64\",\n",
    "    \"float64\",\n",
    "    \"datetime64[ns]\",\n",
    "    \"timedelta64[ns]\",\n",
    "    \"complex128\",\n",
    "    \"object\",\n",
    "    \"bool\",\n",
    "]\n",
    "n = 5000\n",
    "data = {t: np.random.randint(100, size=n).astype(t) for t in dtypes}\n",
    "df = pd.DataFrame(data)\n",
    "df[\"categorical\"] = df[\"object\"].astype(\"category\")\n",
    "\n",
    "df.info()"
   ]
  },
  {
   "cell_type": "markdown",
   "id": "f1752b0f",
   "metadata": {},
   "source": [
    "The `+` symbol indicates that the true memory usage could be higher, because\n",
    "pandas does not count the memory used by values in columns with\n",
    "`dtype=object`.\n",
    "\n",
    "Passing `memory_usage='deep'` will enable a more accurate memory usage report,\n",
    "accounting for the full usage of the contained objects. This is optional\n",
    "as it can be expensive to do this deeper introspection."
   ]
  },
  {
   "cell_type": "code",
   "execution_count": null,
   "id": "07c17cb6",
   "metadata": {
    "hide-output": false
   },
   "outputs": [],
   "source": [
    "df.info(memory_usage=\"deep\")"
   ]
  },
  {
   "cell_type": "markdown",
   "id": "e320a2fe",
   "metadata": {},
   "source": [
    "By default the display option is set to `True` but can be explicitly\n",
    "overridden by passing the `memory_usage` argument when invoking `df.info()`.\n",
    "\n",
    "The memory usage of each column can be found by calling the\n",
    "`memory_usage()` method. This returns a `Series` with an index\n",
    "represented by column names and memory usage of each column shown in bytes. For\n",
    "the `DataFrame` above, the memory usage of each column and the total memory\n",
    "usage can be found with the `memory_usage` method:"
   ]
  },
  {
   "cell_type": "code",
   "execution_count": null,
   "id": "3682a1f6-b741-4bea-882e-699be9053adc",
   "metadata": {
    "hide-output": false
   },
   "outputs": [],
   "source": [
    "df.memory_usage()"
   ]
  },
  {
   "cell_type": "code",
   "execution_count": null,
   "id": "4ebf2198-d17a-4d7d-b2dd-cef58a20f613",
   "metadata": {
    "hide-output": false
   },
   "outputs": [],
   "source": [
    "# total memory usage of dataframe\n",
    "df.memory_usage().sum()"
   ]
  },
  {
   "cell_type": "markdown",
   "id": "caa3643e",
   "metadata": {},
   "source": [
    "By default the memory usage of the `DataFrame`’s index is shown in the\n",
    "returned `Series`, the memory usage of the index can be suppressed by passing\n",
    "the `index=False` argument:"
   ]
  },
  {
   "cell_type": "code",
   "execution_count": null,
   "id": "ab630e0e",
   "metadata": {
    "hide-output": false
   },
   "outputs": [],
   "source": [
    "df.memory_usage(index=False)"
   ]
  },
  {
   "cell_type": "markdown",
   "id": "ebf227f4",
   "metadata": {},
   "source": [
    "The memory usage displayed by the `info()` method utilizes the\n",
    "`memory_usage()` method to determine the memory usage of a\n",
    "`DataFrame` while also formatting the output in human-readable units (base-2\n",
    "representation; i.e. 1KB = 1024 bytes).\n",
    "\n",
    "See also Categorical Memory Usage.\n",
    "\n",
    "\n",
    "<a id='gotchas-truth'></a>"
   ]
  },
  {
   "cell_type": "markdown",
   "id": "623bbbd6",
   "metadata": {},
   "source": [
    "## Using if/truth statements with pandas\n",
    "\n",
    "pandas follows the NumPy convention of raising an error when you try to convert\n",
    "something to a `bool`. This happens in an `if`-statement or when using the\n",
    "boolean operations: `and`, `or`, and `not`. It is not clear what the result\n",
    "of the following code should be:"
   ]
  },
  {
   "cell_type": "markdown",
   "id": "c9b90507",
   "metadata": {
    "hide-output": false
   },
   "source": [
    "```python\n",
    ">>> if pd.Series([False, True, False]):\n",
    "...     pass\n",
    "```\n"
   ]
  },
  {
   "cell_type": "markdown",
   "id": "d7ed6f66",
   "metadata": {},
   "source": [
    "Should it be `True` because it’s not zero-length, or `False` because there\n",
    "are `False` values? It is unclear, so instead, pandas raises a `ValueError`:"
   ]
  },
  {
   "cell_type": "markdown",
   "id": "214c64ba",
   "metadata": {
    "hide-output": false
   },
   "source": [
    "```python\n",
    ">>> if pd.Series([False, True, False]):\n",
    "...     print(\"I was true\")\n",
    "Traceback\n",
    "    ...\n",
    "ValueError: The truth value of an array is ambiguous. Use a.empty, a.any() or a.all().\n",
    "```\n"
   ]
  },
  {
   "cell_type": "markdown",
   "id": "0e771fbd",
   "metadata": {},
   "source": [
    "You need to explicitly choose what you want to do with the `DataFrame`, e.g.\n",
    "use `any()`, `all()` or `empty()`.\n",
    "Alternatively, you might want to compare if the pandas object is `None`:"
   ]
  },
  {
   "cell_type": "markdown",
   "id": "602461f3",
   "metadata": {
    "hide-output": false
   },
   "source": [
    "```python\n",
    ">>> if pd.Series([False, True, False]) is not None:\n",
    "...     print(\"I was not None\")\n",
    "I was not None\n",
    "```\n"
   ]
  },
  {
   "cell_type": "markdown",
   "id": "98973e54",
   "metadata": {},
   "source": [
    "Below is how to check if any of the values are `True`:"
   ]
  },
  {
   "cell_type": "markdown",
   "id": "08a5167f",
   "metadata": {
    "hide-output": false
   },
   "source": [
    "```python\n",
    ">>> if pd.Series([False, True, False]).any():\n",
    "...     print(\"I am any\")\n",
    "I am any\n",
    "```\n"
   ]
  },
  {
   "cell_type": "markdown",
   "id": "775014e5",
   "metadata": {},
   "source": [
    "To evaluate single-element pandas objects in a boolean context, use the method\n",
    "`bool()`:"
   ]
  },
  {
   "cell_type": "code",
   "execution_count": null,
   "id": "cac3163d-f973-4bda-aad2-4ecb7e2c8362",
   "metadata": {
    "hide-output": false
   },
   "outputs": [],
   "source": [
    "pd.Series([True]).bool()"
   ]
  },
  {
   "cell_type": "code",
   "execution_count": null,
   "id": "37bb6676-9a02-4a8e-87c8-e424f2d436fd",
   "metadata": {
    "hide-output": false
   },
   "outputs": [],
   "source": [
    "pd.Series([False]).bool()"
   ]
  },
  {
   "cell_type": "code",
   "execution_count": null,
   "id": "88032d7a-0259-4088-a1da-b750bef01fbb",
   "metadata": {
    "hide-output": false
   },
   "outputs": [],
   "source": [
    "pd.DataFrame([[True]]).bool()"
   ]
  },
  {
   "cell_type": "code",
   "execution_count": null,
   "id": "4ec190f4-8f32-4b9a-8776-5fb47c1e2d37",
   "metadata": {
    "hide-output": false
   },
   "outputs": [],
   "source": [
    "pd.DataFrame([[False]]).bool()"
   ]
  },
  {
   "cell_type": "markdown",
   "id": "954cdbbc",
   "metadata": {},
   "source": [
    "### Bitwise boolean\n",
    "\n",
    "Bitwise boolean operators like `==` and `!=` return a boolean `Series`,\n",
    "which is almost always what you want anyways."
   ]
  },
  {
   "cell_type": "markdown",
   "id": "4041ef1d",
   "metadata": {
    "hide-output": false
   },
   "source": [
    "```python\n",
    ">>> s = pd.Series(range(5))\n",
    ">>> s == 4\n",
    "0    False\n",
    "1    False\n",
    "2    False\n",
    "3    False\n",
    "4     True\n",
    "dtype: bool\n",
    "```\n"
   ]
  },
  {
   "cell_type": "markdown",
   "id": "a00c8724",
   "metadata": {},
   "source": [
    "See boolean comparisons for more examples."
   ]
  },
  {
   "cell_type": "markdown",
   "id": "346064e0",
   "metadata": {},
   "source": [
    "### Using the `in` operator\n",
    "\n",
    "Using the Python `in` operator on a `Series` tests for membership in the\n",
    "index, not membership among the values."
   ]
  },
  {
   "cell_type": "code",
   "execution_count": null,
   "id": "4d6dc42e-cd69-4a8e-8efd-2df606fa8011",
   "metadata": {
    "hide-output": false
   },
   "outputs": [],
   "source": [
    "s = pd.Series(range(5), index=list(\"abcde\"))"
   ]
  },
  {
   "cell_type": "code",
   "execution_count": null,
   "id": "22e8dbfe-5727-4a7e-a26e-3df8a9574a66",
   "metadata": {
    "hide-output": false
   },
   "outputs": [],
   "source": [
    "2 in s"
   ]
  },
  {
   "cell_type": "code",
   "execution_count": null,
   "id": "6e2d44f6-c8db-45eb-b827-4ce849a5763e",
   "metadata": {
    "hide-output": false
   },
   "outputs": [],
   "source": [
    "'b' in s"
   ]
  },
  {
   "cell_type": "markdown",
   "id": "1c319ddc",
   "metadata": {},
   "source": [
    "If this behavior is surprising, keep in mind that using `in` on a Python\n",
    "dictionary tests keys, not values, and `Series` are dict-like.\n",
    "To test for membership in the values, use the method `isin()`:"
   ]
  },
  {
   "cell_type": "code",
   "execution_count": null,
   "id": "2d413aa9-94ca-4ff0-bb86-f091aa7f4eef",
   "metadata": {
    "hide-output": false
   },
   "outputs": [],
   "source": [
    "s.isin([2])"
   ]
  },
  {
   "cell_type": "code",
   "execution_count": null,
   "id": "9afef313-7263-4c56-94dd-c066cecb1ec8",
   "metadata": {
    "hide-output": false
   },
   "outputs": [],
   "source": [
    "s.isin([2]).any()"
   ]
  },
  {
   "cell_type": "markdown",
   "id": "ce1b417e",
   "metadata": {},
   "source": [
    "For `DataFrames`, likewise, `in` applies to the column axis,\n",
    "testing for membership in the list of column names.\n",
    "\n",
    "\n",
    "<a id='gotchas-udf-mutation'></a>"
   ]
  },
  {
   "cell_type": "markdown",
   "id": "fe2c0944",
   "metadata": {},
   "source": [
    "## Mutating with User Defined Function (UDF) methods\n",
    "\n",
    "This section applies to pandas methods that take a UDF. In particular, the methods\n",
    "`.apply`, `.aggregate`, `.transform`, and `.filter`.\n",
    "\n",
    "It is a general rule in programming that one should not mutate a container\n",
    "while it is being iterated over. Mutation will invalidate the iterator,\n",
    "causing unexpected behavior. Consider the example:"
   ]
  },
  {
   "cell_type": "code",
   "execution_count": null,
   "id": "b582aae1",
   "metadata": {
    "hide-output": false
   },
   "outputs": [],
   "source": [
    "values = [0, 1, 2, 3, 4, 5]\n",
    "n_removed = 0\n",
    "for k, value in enumerate(values):\n",
    "    idx = k - n_removed\n",
    "    if value % 2 == 1:\n",
    "        del values[idx]\n",
    "        n_removed += 1\n",
    "    else:\n",
    "        values[idx] = value + 1\n",
    "values"
   ]
  },
  {
   "cell_type": "markdown",
   "id": "85b35987",
   "metadata": {},
   "source": [
    "One probably would have expected that the result would be `[1, 3, 5]`.\n",
    "When using a pandas method that takes a UDF, internally pandas is often\n",
    "iterating over the\n",
    "`DataFrame` or other pandas object. Therefore, if the UDF mutates (changes)\n",
    "the `DataFrame`, unexpected behavior can arise.\n",
    "\n",
    "Here is a similar example with `DataFrame.apply()`:"
   ]
  },
  {
   "cell_type": "code",
   "execution_count": null,
   "id": "d8b93e1a",
   "metadata": {
    "hide-output": false
   },
   "outputs": [],
   "source": [
    "def f(s):\n",
    "    s.pop(\"a\")\n",
    "    return s\n",
    "\n",
    "df = pd.DataFrame({\"a\": [1, 2, 3], \"b\": [4, 5, 6]})\n",
    "try:\n",
    "    df.apply(f, axis=\"columns\")\n",
    "except Exception as err:\n",
    "    print(repr(err))"
   ]
  },
  {
   "cell_type": "markdown",
   "id": "c8a43392",
   "metadata": {},
   "source": [
    "To resolve this issue, one can make a copy so that the mutation does\n",
    "not apply to the container being iterated over."
   ]
  },
  {
   "cell_type": "code",
   "execution_count": null,
   "id": "11af44f9",
   "metadata": {
    "hide-output": false
   },
   "outputs": [],
   "source": [
    "values = [0, 1, 2, 3, 4, 5]\n",
    "n_removed = 0\n",
    "for k, value in enumerate(values.copy()):\n",
    "    idx = k - n_removed\n",
    "    if value % 2 == 1:\n",
    "        del values[idx]\n",
    "        n_removed += 1\n",
    "    else:\n",
    "        values[idx] = value + 1\n",
    "values"
   ]
  },
  {
   "cell_type": "code",
   "execution_count": null,
   "id": "17543e9d",
   "metadata": {
    "hide-output": false
   },
   "outputs": [],
   "source": [
    "def f(s):\n",
    "    s = s.copy()\n",
    "    s.pop(\"a\")\n",
    "    return s\n",
    "\n",
    "df = pd.DataFrame({\"a\": [1, 2, 3], 'b': [4, 5, 6]})\n",
    "df.apply(f, axis=\"columns\")"
   ]
  },
  {
   "cell_type": "markdown",
   "id": "6d45b2a8",
   "metadata": {},
   "source": [
    "## `NaN`, Integer `NA` values and `NA` type promotions"
   ]
  },
  {
   "cell_type": "markdown",
   "id": "7999dfae",
   "metadata": {},
   "source": [
    "### Choice of `NA` representation\n",
    "\n",
    "For lack of `NA` (missing) support from the ground up in NumPy and Python in\n",
    "general, we were given the difficult choice between either:\n",
    "\n",
    "- A *masked array* solution: an array of data and an array of boolean values\n",
    "  indicating whether a value is there or is missing.  \n",
    "- Using a special sentinel value, bit pattern, or set of sentinel values to\n",
    "  denote `NA` across the dtypes.  \n",
    "\n",
    "\n",
    "For many reasons we chose the latter. After years of production use it has\n",
    "proven, at least in my opinion, to be the best decision given the state of\n",
    "affairs in NumPy and Python in general. The special value `NaN`\n",
    "(Not-A-Number) is used everywhere as the `NA` value, and there are API\n",
    "functions `isna` and `notna` which can be used across the dtypes to\n",
    "detect NA values.\n",
    "\n",
    "However, it comes with it a couple of trade-offs which I most certainly have\n",
    "not ignored.\n",
    "\n",
    "\n",
    "<a id='gotchas-intna'></a>"
   ]
  },
  {
   "cell_type": "markdown",
   "id": "9cca650c",
   "metadata": {},
   "source": [
    "### Support for integer `NA`\n",
    "\n",
    "In the absence of high performance `NA` support being built into NumPy from\n",
    "the ground up, the primary casualty is the ability to represent NAs in integer\n",
    "arrays. For example:"
   ]
  },
  {
   "cell_type": "code",
   "execution_count": null,
   "id": "b3ed2557-6458-4bdc-8c46-300f0ff72907",
   "metadata": {
    "hide-output": false
   },
   "outputs": [],
   "source": [
    "s = pd.Series([1, 2, 3, 4, 5], index=list(\"abcde\"))\n",
    "s"
   ]
  },
  {
   "cell_type": "code",
   "execution_count": null,
   "id": "29a55fc7-3ca7-43d7-9d7b-e54b9af7a8a6",
   "metadata": {
    "hide-output": false
   },
   "outputs": [],
   "source": [
    "s.dtype"
   ]
  },
  {
   "cell_type": "code",
   "execution_count": null,
   "id": "9133e582-f8e6-4ba4-8507-81a4e034c750",
   "metadata": {
    "hide-output": false
   },
   "outputs": [],
   "source": [
    "s2 = s.reindex([\"a\", \"b\", \"c\", \"f\", \"u\"])"
   ]
  },
  {
   "cell_type": "code",
   "execution_count": null,
   "id": "c23a6ae0-8dda-418b-b24e-9d75e7b18e19",
   "metadata": {
    "hide-output": false
   },
   "outputs": [],
   "source": [
    "s2"
   ]
  },
  {
   "cell_type": "code",
   "execution_count": null,
   "id": "4289cf43-f7ff-4c73-af95-05181b6b50cb",
   "metadata": {
    "hide-output": false
   },
   "outputs": [],
   "source": [
    "s2.dtype"
   ]
  },
  {
   "cell_type": "markdown",
   "id": "bee090b5",
   "metadata": {},
   "source": [
    "This trade-off is made largely for memory and performance reasons, and also so\n",
    "that the resulting `Series` continues to be “numeric”.\n",
    "\n",
    "If you need to represent integers with possibly missing values, use one of\n",
    "the nullable-integer extension dtypes provided by pandas\n",
    "\n",
    "- `Int8Dtype`  \n",
    "- `Int16Dtype`  \n",
    "- `Int32Dtype`  \n",
    "- `Int64Dtype`  "
   ]
  },
  {
   "cell_type": "code",
   "execution_count": null,
   "id": "633409f3-574a-45fb-bc5e-7efc9eb05def",
   "metadata": {
    "hide-output": false
   },
   "outputs": [],
   "source": [
    "s_int = pd.Series([1, 2, 3, 4, 5], index=list(\"abcde\"), dtype=pd.Int64Dtype())\n",
    "s_int"
   ]
  },
  {
   "cell_type": "code",
   "execution_count": null,
   "id": "f0201991-05ae-468b-9407-95d17e7c6b93",
   "metadata": {
    "hide-output": false
   },
   "outputs": [],
   "source": [
    "s_int.dtype"
   ]
  },
  {
   "cell_type": "code",
   "execution_count": null,
   "id": "b8237946-4413-4dd7-9295-9f655a84428b",
   "metadata": {
    "hide-output": false
   },
   "outputs": [],
   "source": [
    "s2_int = s_int.reindex([\"a\", \"b\", \"c\", \"f\", \"u\"])\n",
    "s2_int"
   ]
  },
  {
   "cell_type": "code",
   "execution_count": null,
   "id": "951a2ceb-cd59-4bf7-903c-bc0ba5abd411",
   "metadata": {
    "hide-output": false
   },
   "outputs": [],
   "source": [
    "s2_int.dtype"
   ]
  },
  {
   "cell_type": "markdown",
   "id": "dbb62b6f",
   "metadata": {},
   "source": [
    "See [Nullable integer data type](31_Nullable_integer_na.ipynb#integer-na) for more."
   ]
  },
  {
   "cell_type": "markdown",
   "id": "3ff09753",
   "metadata": {},
   "source": [
    "### `NA` type promotions\n",
    "\n",
    "When introducing NAs into an existing `Series` or `DataFrame` via\n",
    "`reindex()` or some other means, boolean and integer types will be\n",
    "promoted to a different dtype in order to store the NAs. The promotions are\n",
    "summarized in this table:\n",
    "\n",
    "````````````|Typeclass|Promotion dtype for storing NAs|\n",
    "|:--------------------------------------:|:----------------------------------------------------------:|\n",
    "|floating|no change|\n",
    "|object|no change|\n",
    "|integer|cast to float64|\n",
    "|boolean|cast to object|\n",
    "While this may seem like a heavy trade-off, I have found very few cases where\n",
    "this is an issue in practice i.e. storing values greater than 2**53. Some\n",
    "explanation for the motivation is in the next section."
   ]
  },
  {
   "cell_type": "markdown",
   "id": "c9b9f4e6",
   "metadata": {},
   "source": [
    "### Why not make NumPy like R?\n",
    "\n",
    "Many people have suggested that NumPy should simply emulate the `NA` support\n",
    "present in the more domain-specific statistical programming language [R](https://r-project.org). Part of the reason is the NumPy type hierarchy:\n",
    "\n",
    "|Typeclass|Dtypes|\n",
    "|:----------------------------|:--------------------------------------------------------------------|\n",
    "|numpy.floating|float16, float32, float64, float128|\n",
    "|numpy.integer|int8, int16, int32, int64|\n",
    "|numpy.unsignedinteger|uint8, uint16, uint32, uint64|\n",
    "|numpy.object_|object_|\n",
    "|numpy.bool_|bool_|\n",
    "|numpy.character|string_, unicode_|\n",
    "\n",
    "\n",
    "The R language, by contrast, only has a handful of built-in data types:\n",
    "`integer`, `numeric` (floating-point), `character`, and\n",
    "`boolean`. `NA` types are implemented by reserving special bit patterns for\n",
    "each type to be used as the missing value. While doing this with the full NumPy\n",
    "type hierarchy would be possible, it would be a more substantial trade-off\n",
    "(especially for the 8- and 16-bit data types) and implementation undertaking.\n",
    "\n",
    "An alternate approach is that of using masked arrays. A masked array is an\n",
    "array of data with an associated boolean *mask* denoting whether each value\n",
    "should be considered `NA` or not. I am personally not in love with this\n",
    "approach as I feel that overall it places a fairly heavy burden on the user and\n",
    "the library implementer. Additionally, it exacts a fairly high performance cost\n",
    "when working with numerical data compared with the simple approach of using\n",
    "`NaN`. Thus, I have chosen the Pythonic “practicality beats purity” approach\n",
    "and traded integer `NA` capability for a much simpler approach of using a\n",
    "special value in float and object arrays to denote `NA`, and promoting\n",
    "integer arrays to floating when NAs must be introduced."
   ]
  },
  {
   "cell_type": "markdown",
   "id": "a2523edc",
   "metadata": {},
   "source": [
    "## Differences with NumPy\n",
    "\n",
    "For `Series` and `DataFrame` objects, `var()` normalizes by\n",
    "`N-1` to produce unbiased estimates of the sample variance, while NumPy’s\n",
    "`var` normalizes by N, which measures the variance of the sample. Note that\n",
    "`cov()` normalizes by `N-1` in both pandas and NumPy."
   ]
  },
  {
   "cell_type": "markdown",
   "id": "929b4a77",
   "metadata": {},
   "source": [
    "## Thread-safety\n",
    "\n",
    "As of pandas 0.11, pandas is not 100% thread safe. The known issues relate to\n",
    "the `copy()` method. If you are doing a lot of copying of\n",
    "`DataFrame` objects shared among threads, we recommend holding locks inside\n",
    "the threads where the data copying occurs.\n",
    "\n",
    "See [this link](https://stackoverflow.com/questions/13592618/python-pandas-dataframe-thread-safe)\n",
    "for more information."
   ]
  },
  {
   "cell_type": "markdown",
   "id": "1a151309",
   "metadata": {},
   "source": [
    "## Byte-ordering issues\n",
    "\n",
    "Occasionally you may have to deal with data that were created on a machine with\n",
    "a different byte order than the one on which you are running Python. A common\n",
    "symptom of this issue is an error like:"
   ]
  },
  {
   "cell_type": "markdown",
   "id": "a72fb5d7-ba26-4d67-a578-37cdb5a18133",
   "metadata": {
    "hide-output": false
   },
   "source": [
    "```Python\n",
    "\n",
    "Traceback\n",
    "    ...\n",
    "ValueError: Big-endian buffer not supported on little-endian compiler\n",
    "\n",
    "```"
   ]
  },
  {
   "cell_type": "markdown",
   "id": "5054be50",
   "metadata": {},
   "source": [
    "To deal\n",
    "with this issue you should convert the underlying NumPy array to the native\n",
    "system byte order *before* passing it to `Series` or `DataFrame`\n",
    "constructors using something similar to the following:"
   ]
  },
  {
   "cell_type": "code",
   "execution_count": null,
   "id": "c4a4757a",
   "metadata": {
    "hide-output": false
   },
   "outputs": [],
   "source": [
    "x = np.array(list(range(10)), \">i4\")  # big endian\n",
    "newx = x.byteswap().newbyteorder()  # force native byteorder\n",
    "s = pd.Series(newx)\n",
    "s"
   ]
  },
  {
   "cell_type": "markdown",
   "id": "60d9bc50",
   "metadata": {},
   "source": [
    "See [the NumPy documentation on byte order](https://numpy.org/doc/stable/user/basics.byteswapping.html) for more\n",
    "details."
   ]
  }
 ],
 "metadata": {
  "date": 1630231092.5579808,
  "filename": "43_FAQ_gotchas.rst",
  "kernelspec": {
   "display_name": "Python 3 (ipykernel)",
   "language": "python",
   "name": "python3"
  },
  "language_info": {
   "codemirror_mode": {
    "name": "ipython",
    "version": 3
   },
   "file_extension": ".py",
   "mimetype": "text/x-python",
   "name": "python",
   "nbconvert_exporter": "python",
   "pygments_lexer": "ipython3",
   "version": "3.8.8"
  },
  "title": "Frequently Asked Questions (FAQ)"
 },
 "nbformat": 4,
 "nbformat_minor": 5
}
