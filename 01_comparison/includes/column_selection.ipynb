{
 "cells": [
  {
   "cell_type": "markdown",
   "id": "84ce8515",
   "metadata": {},
   "source": [
    "Notebook created: 2021-08-29 11:57:45  \n",
    "Generated from: source/01_comparison/includes/column_selection.rst  "
   ]
  },
  {
   "cell_type": "markdown",
   "id": "364c395c",
   "metadata": {},
   "source": [
    "The same operations are expressed in pandas below."
   ]
  },
  {
   "cell_type": "markdown",
   "id": "3a96ec2a",
   "metadata": {},
   "source": [
    "# Keep certain columns"
   ]
  },
  {
   "cell_type": "code",
   "execution_count": null,
   "id": "1bec0448",
   "metadata": {
    "hide-output": false
   },
   "outputs": [],
   "source": [
    "tips[[\"sex\", \"total_bill\", \"tip\"]]"
   ]
  },
  {
   "cell_type": "markdown",
   "id": "13c448fe",
   "metadata": {},
   "source": [
    "# Drop a column"
   ]
  },
  {
   "cell_type": "code",
   "execution_count": null,
   "id": "33464928",
   "metadata": {
    "hide-output": false
   },
   "outputs": [],
   "source": [
    "tips.drop(\"sex\", axis=1)"
   ]
  },
  {
   "cell_type": "markdown",
   "id": "1bee57a0",
   "metadata": {},
   "source": [
    "# Rename a column"
   ]
  },
  {
   "cell_type": "code",
   "execution_count": null,
   "id": "691f75d7",
   "metadata": {
    "hide-output": false
   },
   "outputs": [],
   "source": [
    "tips.rename(columns={\"total_bill\": \"total_bill_2\"})"
   ]
  }
 ],
 "metadata": {
  "date": 1630231065.012963,
  "filename": "column_selection.rst",
  "kernelspec": {
   "display_name": "Python",
   "language": "python3",
   "name": "python3"
  },
  "title": "Keep certain columns"
 },
 "nbformat": 4,
 "nbformat_minor": 5
}