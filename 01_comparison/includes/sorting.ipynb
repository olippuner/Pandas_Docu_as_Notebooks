{
 "cells": [
  {
   "cell_type": "markdown",
   "id": "6b8cf61d",
   "metadata": {},
   "source": [
    "Notebook created: 2021-08-29 11:57:45  \n",
    "Generated from: source/01_comparison/includes/sorting.rst  "
   ]
  },
  {
   "cell_type": "markdown",
   "id": "acaa3653",
   "metadata": {},
   "source": [
    "pandas has a `DataFrame.sort_values()` method, which takes a list of columns to sort by."
   ]
  },
  {
   "cell_type": "code",
   "execution_count": null,
   "id": "64edc97c",
   "metadata": {
    "hide-output": false
   },
   "outputs": [],
   "source": [
    "tips = tips.sort_values([\"sex\", \"total_bill\"])\n",
    "tips"
   ]
  }
 ],
 "metadata": {
  "date": 1630231065.3142064,
  "filename": "sorting.rst",
  "kernelspec": {
   "display_name": "Python",
   "language": "python3",
   "name": "python3"
  }
 },
 "nbformat": 4,
 "nbformat_minor": 5
}