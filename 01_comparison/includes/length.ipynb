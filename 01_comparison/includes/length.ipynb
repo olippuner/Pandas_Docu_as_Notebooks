{
 "cells": [
  {
   "cell_type": "markdown",
   "id": "6a91a219",
   "metadata": {},
   "source": [
    "Notebook created: 2021-08-29 11:57:45  \n",
    "Generated from: source/01_comparison/includes/length.rst  "
   ]
  },
  {
   "cell_type": "markdown",
   "id": "b4d1b7ac",
   "metadata": {},
   "source": [
    "You can find the length of a character string with `Series.str.len()`.\n",
    "In Python 3, all strings are Unicode strings. `len` includes trailing blanks.\n",
    "Use `len` and `rstrip` to exclude trailing blanks."
   ]
  },
  {
   "cell_type": "code",
   "execution_count": null,
   "id": "2c16d9af",
   "metadata": {
    "hide-output": false
   },
   "outputs": [],
   "source": [
    "tips[\"time\"].str.len()\n",
    "tips[\"time\"].str.rstrip().str.len()"
   ]
  }
 ],
 "metadata": {
  "date": 1630231065.1875193,
  "filename": "length.rst",
  "kernelspec": {
   "display_name": "Python",
   "language": "python3",
   "name": "python3"
  }
 },
 "nbformat": 4,
 "nbformat_minor": 5
}