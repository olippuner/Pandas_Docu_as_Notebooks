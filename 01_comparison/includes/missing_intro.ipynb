{
 "cells": [
  {
   "cell_type": "markdown",
   "id": "5b05838d",
   "metadata": {},
   "source": [
    "Notebook created: 2021-08-29 11:57:45  \n",
    "Generated from: source/01_comparison/includes/missing_intro.rst  "
   ]
  },
  {
   "cell_type": "markdown",
   "id": "f19e1e7f",
   "metadata": {},
   "source": [
    "pandas represents missing data with the special float value `NaN` (not a number).  Many of the\n",
    "semantics are the same; for example missing data propagates through numeric operations, and is\n",
    "ignored by default for aggregations."
   ]
  },
  {
   "cell_type": "code",
   "execution_count": null,
   "id": "f65fedd9",
   "metadata": {
    "hide-output": false
   },
   "outputs": [],
   "source": [
    "outer_join\n",
    "outer_join[\"value_x\"] + outer_join[\"value_y\"]\n",
    "outer_join[\"value_x\"].sum()"
   ]
  }
 ],
 "metadata": {
  "date": 1630231065.2817166,
  "filename": "missing_intro.rst",
  "kernelspec": {
   "display_name": "Python",
   "language": "python3",
   "name": "python3"
  }
 },
 "nbformat": 4,
 "nbformat_minor": 5
}