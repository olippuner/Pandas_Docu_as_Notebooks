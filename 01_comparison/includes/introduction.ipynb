{
 "cells": [
  {
   "cell_type": "markdown",
   "id": "199c271b",
   "metadata": {},
   "source": [
    "Notebook created: 2021-08-29 11:57:45  \n",
    "Generated from: source/01_comparison/includes/introduction.rst  "
   ]
  },
  {
   "cell_type": "markdown",
   "id": "586d33a2",
   "metadata": {},
   "source": [
    "If you’re new to pandas, you might want to first read through [10 Minutes to pandas](../../04_user_guide/10min.ipynb#min)\n",
    "to familiarize yourself with the library.\n",
    "\n",
    "As is customary, we import pandas and NumPy as follows:"
   ]
  },
  {
   "cell_type": "code",
   "execution_count": null,
   "id": "d2e89e09",
   "metadata": {
    "hide-output": false
   },
   "outputs": [],
   "source": [
    "import pandas as pd\n",
    "import numpy as np"
   ]
  }
 ],
 "metadata": {
  "date": 1630231065.1685016,
  "filename": "introduction.rst",
  "kernelspec": {
   "display_name": "Python",
   "language": "python3",
   "name": "python3"
  }
 },
 "nbformat": 4,
 "nbformat_minor": 5
}