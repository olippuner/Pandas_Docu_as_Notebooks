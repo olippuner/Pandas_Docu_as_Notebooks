{
 "cells": [
  {
   "cell_type": "markdown",
   "id": "871cf913",
   "metadata": {},
   "source": [
    "Notebook created: 2021-08-29 11:57:45  \n",
    "Generated from: source/01_comparison/includes/limit.rst  "
   ]
  },
  {
   "cell_type": "markdown",
   "id": "95720d23",
   "metadata": {},
   "source": [
    "By default, pandas will truncate output of large `DataFrame`s to show the first and last rows.\n",
    "This can be overridden by changing the pandas options, or using\n",
    "`DataFrame.head()` or `DataFrame.tail()`."
   ]
  },
  {
   "cell_type": "code",
   "execution_count": null,
   "id": "de74cd50",
   "metadata": {
    "hide-output": false
   },
   "outputs": [],
   "source": [
    "tips.head(5)"
   ]
  }
 ],
 "metadata": {
  "date": 1630231065.2102354,
  "filename": "limit.rst",
  "kernelspec": {
   "display_name": "Python",
   "language": "python3",
   "name": "python3"
  }
 },
 "nbformat": 4,
 "nbformat_minor": 5
}