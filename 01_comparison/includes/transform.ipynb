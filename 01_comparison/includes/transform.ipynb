{
 "cells": [
  {
   "cell_type": "markdown",
   "id": "069842e5",
   "metadata": {},
   "source": [
    "Notebook created: 2021-08-29 11:57:45  \n",
    "Generated from: source/01_comparison/includes/transform.rst  "
   ]
  },
  {
   "cell_type": "markdown",
   "id": "648c7434",
   "metadata": {},
   "source": [
    "pandas provides a [Transformation](../../04_user_guide/36_groupby.ipynb#groupby-transform) mechanism that allows these type of operations to be\n",
    "succinctly expressed in one operation."
   ]
  },
  {
   "cell_type": "code",
   "execution_count": null,
   "id": "d5b86e85",
   "metadata": {
    "hide-output": false
   },
   "outputs": [],
   "source": [
    "gb = tips.groupby(\"smoker\")[\"total_bill\"]\n",
    "tips[\"adj_total_bill\"] = tips[\"total_bill\"] - gb.transform(\"mean\")\n",
    "tips"
   ]
  }
 ],
 "metadata": {
  "date": 1630231065.3391144,
  "filename": "transform.rst",
  "kernelspec": {
   "display_name": "Python",
   "language": "python3",
   "name": "python3"
  }
 },
 "nbformat": 4,
 "nbformat_minor": 5
}