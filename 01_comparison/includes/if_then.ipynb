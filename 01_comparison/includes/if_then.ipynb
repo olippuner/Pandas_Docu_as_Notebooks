{
 "cells": [
  {
   "cell_type": "markdown",
   "id": "dc73dc21",
   "metadata": {},
   "source": [
    "Notebook created: 2021-08-29 11:57:45  \n",
    "Generated from: source/01_comparison/includes/if_then.rst  "
   ]
  },
  {
   "cell_type": "markdown",
   "id": "f4233c1e",
   "metadata": {},
   "source": [
    "The same operation in pandas can be accomplished using\n",
    "the `where` method from `numpy`."
   ]
  },
  {
   "cell_type": "code",
   "execution_count": null,
   "id": "a859897b",
   "metadata": {
    "hide-output": false
   },
   "outputs": [],
   "source": [
    "tips[\"bucket\"] = np.where(tips[\"total_bill\"] < 10, \"low\", \"high\")\n",
    "tips"
   ]
  },
  {
   "cell_type": "markdown",
   "id": "8893d213",
   "metadata": {},
   "source": [
    "\n",
    "<dl style='margin: 20px 0;'>\n",
    "<dt>::</dt>\n",
    "<dd>\n",
    "\n",
    "<dl style='margin: 20px 0;'>\n",
    "<dt>suppress</dt>\n",
    "<dd>\n",
    "</dd>\n",
    "\n",
    "</dl>\n",
    "\n",
    "tips = tips.drop(“bucket”, axis=1)\n",
    "\n",
    "</dd>\n",
    "\n",
    "</dl>"
   ]
  }
 ],
 "metadata": {
  "date": 1630231065.1436243,
  "filename": "if_then.rst",
  "kernelspec": {
   "display_name": "Python",
   "language": "python3",
   "name": "python3"
  }
 },
 "nbformat": 4,
 "nbformat_minor": 5
}