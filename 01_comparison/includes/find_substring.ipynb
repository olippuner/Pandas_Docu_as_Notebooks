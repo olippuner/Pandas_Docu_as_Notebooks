{
 "cells": [
  {
   "cell_type": "markdown",
   "id": "094dff19",
   "metadata": {},
   "source": [
    "Notebook created: 2021-08-29 11:57:45  \n",
    "Generated from: source/01_comparison/includes/find_substring.rst  "
   ]
  },
  {
   "cell_type": "markdown",
   "id": "4f6661d7",
   "metadata": {},
   "source": [
    "You can find the position of a character in a column of strings with the `Series.str.find()`\n",
    "method. `find` searches for the first position of the substring. If the substring is found, the\n",
    "method returns its position. If not found, it returns `-1`. Keep in mind that Python indexes are\n",
    "zero-based."
   ]
  },
  {
   "cell_type": "code",
   "execution_count": null,
   "id": "e97f8826",
   "metadata": {
    "hide-output": false
   },
   "outputs": [],
   "source": [
    "tips[\"sex\"].str.find(\"ale\")"
   ]
  }
 ],
 "metadata": {
  "date": 1630231065.1082501,
  "filename": "find_substring.rst",
  "kernelspec": {
   "display_name": "Python",
   "language": "python3",
   "name": "python3"
  }
 },
 "nbformat": 4,
 "nbformat_minor": 5
}