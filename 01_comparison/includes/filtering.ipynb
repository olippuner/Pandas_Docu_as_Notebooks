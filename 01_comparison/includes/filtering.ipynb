{
 "cells": [
  {
   "cell_type": "markdown",
   "id": "a2a422a7",
   "metadata": {},
   "source": [
    "Notebook created: 2021-08-29 11:57:45  \n",
    "Generated from: source/01_comparison/includes/filtering.rst  "
   ]
  },
  {
   "cell_type": "markdown",
   "id": "0e6bbf48",
   "metadata": {},
   "source": [
    "DataFrames can be filtered in multiple ways; the most intuitive of which is using\n",
    "boolean indexing."
   ]
  },
  {
   "cell_type": "code",
   "execution_count": null,
   "id": "a0bda20c",
   "metadata": {
    "hide-output": false
   },
   "outputs": [],
   "source": [
    "tips[tips[\"total_bill\"] > 10]"
   ]
  },
  {
   "cell_type": "markdown",
   "id": "6876790b",
   "metadata": {},
   "source": [
    "The above statement is simply passing a `Series` of `True`/`False` objects to the DataFrame,\n",
    "returning all rows with `True`."
   ]
  },
  {
   "cell_type": "code",
   "execution_count": null,
   "id": "440f9c1b",
   "metadata": {
    "hide-output": false
   },
   "outputs": [],
   "source": [
    "is_dinner = tips[\"time\"] == \"Dinner\"\n",
    "is_dinner\n",
    "is_dinner.value_counts()\n",
    "tips[is_dinner]"
   ]
  }
 ],
 "metadata": {
  "date": 1630231065.0983129,
  "filename": "filtering.rst",
  "kernelspec": {
   "display_name": "Python",
   "language": "python3",
   "name": "python3"
  }
 },
 "nbformat": 4,
 "nbformat_minor": 5
}