{
 "cells": [
  {
   "cell_type": "markdown",
   "id": "51728a90",
   "metadata": {},
   "source": [
    "Notebook created: 2021-08-29 11:57:45  \n",
    "Generated from: source/01_comparison/includes/copies.rst  "
   ]
  },
  {
   "cell_type": "markdown",
   "id": "1faba6b0",
   "metadata": {},
   "source": [
    "Most pandas operations return copies of the `Series`/`DataFrame`. To make the changes “stick”,\n",
    "you’ll need to either assign to a new variable:\n",
    "\n",
    "> sorted_df = df.sort_values(“col1”)\n",
    "\n",
    "\n",
    "or overwrite the original one:"
   ]
  },
  {
   "cell_type": "code",
   "execution_count": null,
   "id": "731fb14b",
   "metadata": {
    "hide-output": false
   },
   "outputs": [],
   "source": [
    "df = df.sort_values(\"col1\")"
   ]
  },
  {
   "cell_type": "markdown",
   "id": "68025a41",
   "metadata": {},
   "source": [
    ">**Note**\n",
    ">\n",
    ">You will see an `inplace=True` keyword argument available for some methods:"
   ]
  },
  {
   "cell_type": "code",
   "execution_count": null,
   "id": "afaa7e27",
   "metadata": {
    "hide-output": false
   },
   "outputs": [],
   "source": [
    "   df.sort_values(\"col1\", inplace=True)\n",
    "\n",
    "Its use is discouraged. :ref:`More information. <indexing.view_versus_copy>`"
   ]
  }
 ],
 "metadata": {
  "date": 1630231065.0580566,
  "filename": "copies.rst",
  "kernelspec": {
   "display_name": "Python",
   "language": "python3",
   "name": "python3"
  }
 },
 "nbformat": 4,
 "nbformat_minor": 5
}