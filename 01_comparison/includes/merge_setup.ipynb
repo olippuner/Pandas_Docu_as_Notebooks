{
 "cells": [
  {
   "cell_type": "markdown",
   "id": "efeecc67",
   "metadata": {},
   "source": [
    "Notebook created: 2021-08-29 11:57:45  \n",
    "Generated from: source/01_comparison/includes/merge_setup.rst  "
   ]
  },
  {
   "cell_type": "markdown",
   "id": "7e458c44",
   "metadata": {},
   "source": [
    "The following tables will be used in the merge examples:"
   ]
  },
  {
   "cell_type": "code",
   "execution_count": null,
   "id": "52888789",
   "metadata": {
    "hide-output": false
   },
   "outputs": [],
   "source": [
    "df1 = pd.DataFrame({\"key\": [\"A\", \"B\", \"C\", \"D\"], \"value\": np.random.randn(4)})\n",
    "df1\n",
    "df2 = pd.DataFrame({\"key\": [\"B\", \"D\", \"D\", \"E\"], \"value\": np.random.randn(4)})\n",
    "df2"
   ]
  }
 ],
 "metadata": {
  "date": 1630231065.2395508,
  "filename": "merge_setup.rst",
  "kernelspec": {
   "display_name": "Python",
   "language": "python3",
   "name": "python3"
  }
 },
 "nbformat": 4,
 "nbformat_minor": 5
}