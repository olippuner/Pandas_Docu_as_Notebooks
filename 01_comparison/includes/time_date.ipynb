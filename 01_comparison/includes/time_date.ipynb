{
 "cells": [
  {
   "cell_type": "markdown",
   "id": "bdd23a82",
   "metadata": {},
   "source": [
    "Notebook created: 2021-08-29 11:57:45  \n",
    "Generated from: source/01_comparison/includes/time_date.rst  "
   ]
  },
  {
   "cell_type": "code",
   "execution_count": null,
   "id": "81189837",
   "metadata": {
    "hide-output": false
   },
   "outputs": [],
   "source": [
    "tips[\"date1\"] = pd.Timestamp(\"2013-01-15\")\n",
    "tips[\"date2\"] = pd.Timestamp(\"2015-02-15\")\n",
    "tips[\"date1_year\"] = tips[\"date1\"].dt.year\n",
    "tips[\"date2_month\"] = tips[\"date2\"].dt.month\n",
    "tips[\"date1_next\"] = tips[\"date1\"] + pd.offsets.MonthBegin()\n",
    "tips[\"months_between\"] = tips[\"date2\"].dt.to_period(\"M\") - tips[\n",
    "    \"date1\"\n",
    "].dt.to_period(\"M\")\n",
    "\n",
    "tips[\n",
    "    [\"date1\", \"date2\", \"date1_year\", \"date2_month\", \"date1_next\", \"months_between\"]\n",
    "]"
   ]
  },
  {
   "cell_type": "markdown",
   "id": "445e1a85",
   "metadata": {},
   "source": [
    "\n",
    "<dl style='margin: 20px 0;'>\n",
    "<dt>::</dt>\n",
    "<dd>\n",
    "\n",
    "<dl style='margin: 20px 0;'>\n",
    "<dt>suppress</dt>\n",
    "<dd>\n",
    "</dd>\n",
    "\n",
    "</dl>\n",
    "\n",
    "\n",
    "<dl style='margin: 20px 0;'>\n",
    "<dt>tips = tips.drop(</dt>\n",
    "<dd>\n",
    "[“date1”, “date2”, “date1_year”, “date2_month”, “date1_next”, “months_between”],\n",
    "axis=1,\n",
    "\n",
    "</dd>\n",
    "\n",
    "</dl>\n",
    "\n",
    ")\n",
    "\n",
    "</dd>\n",
    "\n",
    "</dl>"
   ]
  }
 ],
 "metadata": {
  "date": 1630231065.3292058,
  "filename": "time_date.rst",
  "kernelspec": {
   "display_name": "Python",
   "language": "python3",
   "name": "python3"
  }
 },
 "nbformat": 4,
 "nbformat_minor": 5
}