{
 "cells": [
  {
   "cell_type": "markdown",
   "id": "28a8d586",
   "metadata": {},
   "source": [
    "Notebook created: 2021-08-29 11:57:45  \n",
    "Generated from: source/01_comparison/includes/groupby.rst  "
   ]
  },
  {
   "cell_type": "markdown",
   "id": "0fc4bf0c",
   "metadata": {},
   "source": [
    "pandas provides a flexible `groupby` mechanism that allows similar aggregations. See the\n",
    "groupby documentation for more details and examples."
   ]
  },
  {
   "cell_type": "code",
   "execution_count": null,
   "id": "081b57f0",
   "metadata": {
    "hide-output": false
   },
   "outputs": [],
   "source": [
    "tips_summed = tips.groupby([\"sex\", \"smoker\"])[[\"total_bill\", \"tip\"]].sum()\n",
    "tips_summed"
   ]
  }
 ],
 "metadata": {
  "date": 1630231065.1240485,
  "filename": "groupby.rst",
  "kernelspec": {
   "display_name": "Python",
   "language": "python3",
   "name": "python3"
  }
 },
 "nbformat": 4,
 "nbformat_minor": 5
}