{
 "cells": [
  {
   "cell_type": "markdown",
   "id": "8ad40e1f",
   "metadata": {},
   "source": [
    "Notebook created: 2021-08-29 11:57:45  \n",
    "Generated from: source/01_comparison/includes/nth_word.rst  "
   ]
  },
  {
   "cell_type": "markdown",
   "id": "bd07a312",
   "metadata": {},
   "source": [
    "The simplest way to extract words in pandas is to split the strings by spaces, then reference the\n",
    "word by index. Note there are more powerful approaches should you need them."
   ]
  },
  {
   "cell_type": "code",
   "execution_count": null,
   "id": "b41aefe2",
   "metadata": {
    "hide-output": false
   },
   "outputs": [],
   "source": [
    "firstlast = pd.DataFrame({\"String\": [\"John Smith\", \"Jane Cook\"]})\n",
    "firstlast[\"First_Name\"] = firstlast[\"String\"].str.split(\" \", expand=True)[0]\n",
    "firstlast[\"Last_Name\"] = firstlast[\"String\"].str.rsplit(\" \", expand=True)[0]\n",
    "firstlast"
   ]
  }
 ],
 "metadata": {
  "date": 1630231065.2916954,
  "filename": "nth_word.rst",
  "kernelspec": {
   "display_name": "Python",
   "language": "python3",
   "name": "python3"
  }
 },
 "nbformat": 4,
 "nbformat_minor": 5
}