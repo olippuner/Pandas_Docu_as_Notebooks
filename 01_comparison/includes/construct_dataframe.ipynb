{
 "cells": [
  {
   "cell_type": "markdown",
   "id": "79f6ab9f",
   "metadata": {},
   "source": [
    "Notebook created: 2021-08-29 11:57:45  \n",
    "Generated from: source/01_comparison/includes/construct_dataframe.rst  "
   ]
  },
  {
   "cell_type": "markdown",
   "id": "00f2cabf",
   "metadata": {},
   "source": [
    "A pandas `DataFrame` can be constructed in many different ways,\n",
    "but for a small number of values, it is often convenient to specify it as\n",
    "a Python dictionary, where the keys are the column names\n",
    "and the values are the data."
   ]
  },
  {
   "cell_type": "code",
   "execution_count": null,
   "id": "655509a0",
   "metadata": {
    "hide-output": false
   },
   "outputs": [],
   "source": [
    "df = pd.DataFrame({\"x\": [1, 3, 5], \"y\": [2, 4, 6]})\n",
    "df"
   ]
  }
 ],
 "metadata": {
  "date": 1630231065.0438297,
  "filename": "construct_dataframe.rst",
  "kernelspec": {
   "display_name": "Python",
   "language": "python3",
   "name": "python3"
  }
 },
 "nbformat": 4,
 "nbformat_minor": 5
}