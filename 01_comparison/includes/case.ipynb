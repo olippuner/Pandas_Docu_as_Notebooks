{
 "cells": [
  {
   "cell_type": "markdown",
   "id": "d1d25fcd",
   "metadata": {},
   "source": [
    "Notebook created: 2021-08-29 11:57:44  \n",
    "Generated from: source/01_comparison/includes/case.rst  "
   ]
  },
  {
   "cell_type": "markdown",
   "id": "70c9ab6b",
   "metadata": {},
   "source": [
    "The equivalent pandas methods are `Series.str.upper()`, `Series.str.lower()`, and\n",
    "`Series.str.title()`."
   ]
  },
  {
   "cell_type": "code",
   "execution_count": null,
   "id": "6fe3a0ff",
   "metadata": {
    "hide-output": false
   },
   "outputs": [],
   "source": [
    "firstlast = pd.DataFrame({\"string\": [\"John Smith\", \"Jane Cook\"]})\n",
    "firstlast[\"upper\"] = firstlast[\"string\"].str.upper()\n",
    "firstlast[\"lower\"] = firstlast[\"string\"].str.lower()\n",
    "firstlast[\"title\"] = firstlast[\"string\"].str.title()\n",
    "firstlast"
   ]
  }
 ],
 "metadata": {
  "date": 1630231064.989054,
  "filename": "case.rst",
  "kernelspec": {
   "display_name": "Python",
   "language": "python3",
   "name": "python3"
  }
 },
 "nbformat": 4,
 "nbformat_minor": 5
}