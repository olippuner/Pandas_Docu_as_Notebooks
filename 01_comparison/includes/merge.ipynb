{
 "cells": [
  {
   "cell_type": "markdown",
   "id": "f608145b",
   "metadata": {},
   "source": [
    "Notebook created: 2021-08-29 11:57:45  \n",
    "Generated from: source/01_comparison/includes/merge.rst  "
   ]
  },
  {
   "cell_type": "markdown",
   "id": "d4dd13de",
   "metadata": {},
   "source": [
    "pandas DataFrames have a `merge()` method, which provides similar functionality. The\n",
    "data does not have to be sorted ahead of time, and different join types are accomplished via the\n",
    "`how` keyword."
   ]
  },
  {
   "cell_type": "code",
   "execution_count": null,
   "id": "e82646ab",
   "metadata": {
    "hide-output": false
   },
   "outputs": [],
   "source": [
    "inner_join = df1.merge(df2, on=[\"key\"], how=\"inner\")\n",
    "inner_join\n",
    "\n",
    "left_join = df1.merge(df2, on=[\"key\"], how=\"left\")\n",
    "left_join\n",
    "\n",
    "right_join = df1.merge(df2, on=[\"key\"], how=\"right\")\n",
    "right_join\n",
    "\n",
    "outer_join = df1.merge(df2, on=[\"key\"], how=\"outer\")\n",
    "outer_join"
   ]
  }
 ],
 "metadata": {
  "date": 1630231065.2294164,
  "filename": "merge.rst",
  "kernelspec": {
   "display_name": "Python",
   "language": "python3",
   "name": "python3"
  }
 },
 "nbformat": 4,
 "nbformat_minor": 5
}