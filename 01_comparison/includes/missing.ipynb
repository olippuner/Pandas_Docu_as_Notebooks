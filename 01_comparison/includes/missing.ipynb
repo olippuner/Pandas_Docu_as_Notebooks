{
 "cells": [
  {
   "cell_type": "markdown",
   "id": "96f7cdbb",
   "metadata": {},
   "source": [
    "Notebook created: 2021-08-29 11:57:45  \n",
    "Generated from: source/01_comparison/includes/missing.rst  "
   ]
  },
  {
   "cell_type": "markdown",
   "id": "4a940908",
   "metadata": {},
   "source": [
    "In pandas, `Series.isna()` and `Series.notna()` can be used to filter the rows."
   ]
  },
  {
   "cell_type": "code",
   "execution_count": null,
   "id": "b325ee28",
   "metadata": {
    "hide-output": false
   },
   "outputs": [],
   "source": [
    "outer_join[outer_join[\"value_x\"].isna()]\n",
    "outer_join[outer_join[\"value_x\"].notna()]"
   ]
  },
  {
   "cell_type": "markdown",
   "id": "1d42478f",
   "metadata": {},
   "source": [
    "pandas provides a variety of methods to work with missing data. Here are some examples:"
   ]
  },
  {
   "cell_type": "markdown",
   "id": "4c79fb22",
   "metadata": {},
   "source": [
    "# Drop rows with missing values"
   ]
  },
  {
   "cell_type": "code",
   "execution_count": null,
   "id": "7f2d6547",
   "metadata": {
    "hide-output": false
   },
   "outputs": [],
   "source": [
    "outer_join.dropna()"
   ]
  },
  {
   "cell_type": "markdown",
   "id": "04921b75",
   "metadata": {},
   "source": [
    "# Forward fill from previous rows"
   ]
  },
  {
   "cell_type": "code",
   "execution_count": null,
   "id": "ce99fe45",
   "metadata": {
    "hide-output": false
   },
   "outputs": [],
   "source": [
    "outer_join.fillna(method=\"ffill\")"
   ]
  },
  {
   "cell_type": "markdown",
   "id": "8deabc27",
   "metadata": {},
   "source": [
    "# Replace missing values with a specified value\n",
    "\n",
    "Using the mean:"
   ]
  },
  {
   "cell_type": "code",
   "execution_count": null,
   "id": "562529b5",
   "metadata": {
    "hide-output": false
   },
   "outputs": [],
   "source": [
    "outer_join[\"value_x\"].fillna(outer_join[\"value_x\"].mean())"
   ]
  }
 ],
 "metadata": {
  "date": 1630231065.2675052,
  "filename": "missing.rst",
  "kernelspec": {
   "display_name": "Python",
   "language": "python3",
   "name": "python3"
  },
  "title": "Drop rows with missing values"
 },
 "nbformat": 4,
 "nbformat_minor": 5
}