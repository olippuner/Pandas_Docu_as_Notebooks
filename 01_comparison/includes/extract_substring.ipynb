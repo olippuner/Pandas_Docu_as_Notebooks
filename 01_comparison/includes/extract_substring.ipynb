{
 "cells": [
  {
   "cell_type": "markdown",
   "id": "31377ff2",
   "metadata": {},
   "source": [
    "Notebook created: 2021-08-29 11:57:45  \n",
    "Generated from: source/01_comparison/includes/extract_substring.rst  "
   ]
  },
  {
   "cell_type": "markdown",
   "id": "0fee17d0",
   "metadata": {},
   "source": [
    "With pandas you can use `[]` notation to extract a substring\n",
    "from a string by position locations. Keep in mind that Python\n",
    "indexes are zero-based."
   ]
  },
  {
   "cell_type": "code",
   "execution_count": null,
   "id": "0ca3ffe5",
   "metadata": {
    "hide-output": false
   },
   "outputs": [],
   "source": [
    "tips[\"sex\"].str[0:1]"
   ]
  }
 ],
 "metadata": {
  "date": 1630231065.0763273,
  "filename": "extract_substring.rst",
  "kernelspec": {
   "display_name": "Python",
   "language": "python3",
   "name": "python3"
  }
 },
 "nbformat": 4,
 "nbformat_minor": 5
}