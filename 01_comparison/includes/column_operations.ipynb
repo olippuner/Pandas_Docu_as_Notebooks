{
 "cells": [
  {
   "cell_type": "markdown",
   "id": "747468c3",
   "metadata": {},
   "source": [
    "Notebook created: 2021-08-29 11:57:44  \n",
    "Generated from: source/01_comparison/includes/column_operations.rst  "
   ]
  },
  {
   "cell_type": "markdown",
   "id": "5ec55aa5",
   "metadata": {},
   "source": [
    "pandas provides vectorized operations by specifying the individual `Series` in the\n",
    "`DataFrame`. New columns can be assigned in the same way. The `DataFrame.drop()` method drops\n",
    "a column from the `DataFrame`."
   ]
  },
  {
   "cell_type": "code",
   "execution_count": null,
   "id": "bc229317",
   "metadata": {
    "hide-output": false
   },
   "outputs": [],
   "source": [
    "tips[\"total_bill\"] = tips[\"total_bill\"] - 2\n",
    "tips[\"new_bill\"] = tips[\"total_bill\"] / 2\n",
    "tips\n",
    "\n",
    "tips = tips.drop(\"new_bill\", axis=1)"
   ]
  }
 ],
 "metadata": {
  "date": 1630231064.999084,
  "filename": "column_operations.rst",
  "kernelspec": {
   "display_name": "Python",
   "language": "python3",
   "name": "python3"
  }
 },
 "nbformat": 4,
 "nbformat_minor": 5
}