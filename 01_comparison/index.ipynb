{
 "cells": [
  {
   "cell_type": "markdown",
   "id": "d0eef0e1",
   "metadata": {},
   "source": [
    "# Comparison with other tools\n",
    "\n",
    "- [Comparison with R / R libraries](comparison_with_r.ipynb)\n",
    "  - [Quick reference](comparison_with_r.ipynb#quick-reference)\n",
    "  - [Base R](comparison_with_r.ipynb#base-r)\n",
    "  - [plyr](comparison_with_r.ipynb#plyr)\n",
    "  - [reshape / reshape2](comparison_with_r.ipynb#reshape-reshape2)\n",
    "- [Comparison with SQL](comparison_with_sql.ipynb)\n",
    "  - [Copies vs. in place operations](comparison_with_sql.ipynb#copies-vs-in-place-operations)\n",
    "  - [SELECT](comparison_with_sql.ipynb#select)\n",
    "  - [WHERE](comparison_with_sql.ipynb#where)\n",
    "  - [GROUP BY](comparison_with_sql.ipynb#group-by)\n",
    "  - [JOIN](comparison_with_sql.ipynb#join)\n",
    "  - [UNION](comparison_with_sql.ipynb#union)\n",
    "  - [LIMIT](comparison_with_sql.ipynb#limit)\n",
    "  - [pandas equivalents for some SQL analytic and aggregate functions](comparison_with_sql.ipynb#pandas-equivalents-for-some-sql-analytic-and-aggregate-functions)\n",
    "  - [UPDATE](comparison_with_sql.ipynb#update)\n",
    "  - [DELETE](comparison_with_sql.ipynb#delete)\n",
    "- [Comparison with spreadsheets](comparison_with_spreadsheets.ipynb)\n",
    "  - [Data structures](comparison_with_spreadsheets.ipynb#data-structures)\n",
    "  - [Data input / output](comparison_with_spreadsheets.ipynb#data-input-output)\n",
    "  - [Data operations](comparison_with_spreadsheets.ipynb#data-operations)\n",
    "  - [String processing](comparison_with_spreadsheets.ipynb#string-processing)\n",
    "  - [Merging](comparison_with_spreadsheets.ipynb#merging)\n",
    "  - [Other considerations](comparison_with_spreadsheets.ipynb#other-considerations)\n",
    "- [Comparison with SAS](comparison_with_sas.ipynb)\n",
    "  - [Data structures](comparison_with_sas.ipynb#data-structures)\n",
    "  - [Data input / output](comparison_with_sas.ipynb#data-input-output)\n",
    "  - [Data operations](comparison_with_sas.ipynb#data-operations)\n",
    "  - [String processing](comparison_with_sas.ipynb#string-processing)\n",
    "  - [Merging](comparison_with_sas.ipynb#merging)\n",
    "  - [Missing data](comparison_with_sas.ipynb#missing-data)\n",
    "  - [GroupBy](comparison_with_sas.ipynb#groupby)\n",
    "  - [Other considerations](comparison_with_sas.ipynb#other-considerations)\n",
    "- [Comparison with Stata](comparison_with_stata.ipynb)\n",
    "  - [Data structures](comparison_with_stata.ipynb#data-structures)\n",
    "  - [Data input / output](comparison_with_stata.ipynb#data-input-output)\n",
    "  - [Data operations](comparison_with_stata.ipynb#data-operations)\n",
    "  - [String processing](comparison_with_stata.ipynb#string-processing)\n",
    "  - [Merging](comparison_with_stata.ipynb#merging)\n",
    "  - [Missing data](comparison_with_stata.ipynb#missing-data)\n",
    "  - [GroupBy](comparison_with_stata.ipynb#groupby)\n",
    "  - [Other considerations](comparison_with_stata.ipynb#other-considerations)"
   ]
  }
 ],
 "metadata": {
  "date": 1630231065.3706968,
  "filename": "index.rst",
  "kernelspec": {
   "display_name": "Python 3",
   "language": "python",
   "name": "python3"
  },
  "language_info": {
   "codemirror_mode": {
    "name": "ipython",
    "version": 3
   },
   "file_extension": ".py",
   "mimetype": "text/x-python",
   "name": "python",
   "nbconvert_exporter": "python",
   "pygments_lexer": "ipython3",
   "version": "3.8.8"
  },
  "latex_envs": {
   "LaTeX_envs_menu_present": true,
   "autoclose": false,
   "autocomplete": true,
   "bibliofile": "biblio.bib",
   "cite_by": "apalike",
   "current_citInitial": 1,
   "eqLabelWithNumbers": true,
   "eqNumInitial": 1,
   "hotkeys": {
    "equation": "Ctrl-E",
    "itemize": "Ctrl-I"
   },
   "labels_anchors": false,
   "latex_user_defs": false,
   "report_style_numbering": false,
   "user_envs_cfg": false
  },
  "title": "Comparison with other tools"
 },
 "nbformat": 4,
 "nbformat_minor": 5
}
