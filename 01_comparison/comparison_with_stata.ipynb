{
 "cells": [
  {
   "cell_type": "markdown",
   "id": "0b0fa7fb",
   "metadata": {},
   "source": [
    "# Comparison with Stata\n",
    "\n",
    "For potential users coming from [Stata](https://en.wikipedia.org/wiki/Stata)\n",
    "this page is meant to demonstrate how different Stata operations would be\n",
    "performed in pandas.\n",
    "\n",
    "If you’re new to pandas, you might want to first read through [10 Minutes to pandas](../04_user_guide/10min.ipynb#min)\n",
    "to familiarize yourself with the library.\n",
    "\n",
    "As is customary, we import pandas and NumPy as follows:"
   ]
  },
  {
   "cell_type": "code",
   "execution_count": 1,
   "id": "d015d41d",
   "metadata": {
    "hide-output": false
   },
   "outputs": [],
   "source": [
    "import pandas as pd\n",
    "import numpy as np"
   ]
  },
  {
   "cell_type": "markdown",
   "id": "dcb866d5",
   "metadata": {},
   "source": [
    "## Data structures"
   ]
  },
  {
   "cell_type": "markdown",
   "id": "6d05ff80",
   "metadata": {},
   "source": [
    "### General terminology translation\n",
    "\n",
    "|pandas|Stata|\n",
    "|:------------------:|:------------------:|\n",
    "|DataFrame|data set|\n",
    "|column|variable|\n",
    "|row|observation|\n",
    "|groupby|bysort|\n",
    "|NaN|.|"
   ]
  },
  {
   "cell_type": "markdown",
   "id": "97268a8a",
   "metadata": {},
   "source": [
    "### `DataFrame`\n",
    "\n",
    "A `DataFrame` in pandas is analogous to a Stata data set – a two-dimensional\n",
    "data source with labeled columns that can be of different types. As will be\n",
    "shown in this document, almost any operation that can be applied to a data set\n",
    "in Stata can also be accomplished in pandas."
   ]
  },
  {
   "cell_type": "markdown",
   "id": "6d5fbbfb",
   "metadata": {},
   "source": [
    "### `Series`\n",
    "\n",
    "A `Series` is the data structure that represents one column of a\n",
    "`DataFrame`. Stata doesn’t have a separate data structure for a single column,\n",
    "but in general, working with a `Series` is analogous to referencing a column\n",
    "of a data set in Stata."
   ]
  },
  {
   "cell_type": "markdown",
   "id": "26ee9080",
   "metadata": {},
   "source": [
    "### `Index`\n",
    "\n",
    "Every `DataFrame` and `Series` has an `Index` – labels on the\n",
    "*rows* of the data. Stata does not have an exactly analogous concept. In Stata, a data set’s\n",
    "rows are essentially unlabeled, other than an implicit integer index that can be\n",
    "accessed with `_n`.\n",
    "\n",
    "In pandas, if no index is specified, an integer index is also used by default\n",
    "(first row = 0, second row = 1, and so on). While using a labeled `Index` or\n",
    "`MultiIndex` can enable sophisticated analyses and is ultimately an important\n",
    "part of pandas to understand, for this comparison we will essentially ignore the\n",
    "`Index` and just treat the `DataFrame` as a collection of columns. Please\n",
    "see the indexing documentation for much more on how to use an\n",
    "`Index` effectively."
   ]
  },
  {
   "cell_type": "markdown",
   "id": "65302cac",
   "metadata": {},
   "source": [
    "### Copies vs. in place operations\n",
    "\n",
    "Most pandas operations return copies of the `Series`/`DataFrame`. To make the changes “stick”,\n",
    "you’ll need to either assign to a new variable:\n",
    "\n",
    "> sorted_df = df.sort_values(“col1”)\n",
    "\n",
    "\n",
    "or overwrite the original one:"
   ]
  },
  {
   "cell_type": "markdown",
   "id": "68b95f94",
   "metadata": {
    "hide-output": false
   },
   "source": [
    ">df = df.sort_values(\"col1\")"
   ]
  },
  {
   "cell_type": "markdown",
   "id": "e3b12567",
   "metadata": {},
   "source": [
    ">**Note**\n",
    ">\n",
    ">You will see an `inplace=True` keyword argument available for some methods:"
   ]
  },
  {
   "cell_type": "markdown",
   "id": "d24013b4",
   "metadata": {
    "hide-output": false
   },
   "source": [
    ">df.sort_values(\"col1\", inplace=True)\n",
    "\n",
    "Its use is discouraged. :ref:`More information. <indexing.view_versus_copy>`"
   ]
  },
  {
   "cell_type": "markdown",
   "id": "b85fe8b9",
   "metadata": {},
   "source": [
    "## Data input / output"
   ]
  },
  {
   "cell_type": "markdown",
   "id": "fe3d8bba",
   "metadata": {},
   "source": [
    "### Constructing a DataFrame from values\n",
    "\n",
    "A Stata data set can be built from specified values by\n",
    "placing the data after an `input` statement and\n",
    "specifying the column names."
   ]
  },
  {
   "cell_type": "markdown",
   "id": "daa8e1f5",
   "metadata": {
    "hide-output": false
   },
   "source": [
    "```stata\n",
    "input x y\n",
    "1 2\n",
    "3 4\n",
    "5 6\n",
    "end\n",
    "```\n"
   ]
  },
  {
   "cell_type": "markdown",
   "id": "08c8c378",
   "metadata": {},
   "source": [
    "A pandas `DataFrame` can be constructed in many different ways,\n",
    "but for a small number of values, it is often convenient to specify it as\n",
    "a Python dictionary, where the keys are the column names\n",
    "and the values are the data."
   ]
  },
  {
   "cell_type": "code",
   "execution_count": 4,
   "id": "3267cf5a",
   "metadata": {
    "hide-output": false
   },
   "outputs": [
    {
     "data": {
      "text/html": [
       "<div>\n",
       "<style scoped>\n",
       "    .dataframe tbody tr th:only-of-type {\n",
       "        vertical-align: middle;\n",
       "    }\n",
       "\n",
       "    .dataframe tbody tr th {\n",
       "        vertical-align: top;\n",
       "    }\n",
       "\n",
       "    .dataframe thead th {\n",
       "        text-align: right;\n",
       "    }\n",
       "</style>\n",
       "<table border=\"1\" class=\"dataframe\">\n",
       "  <thead>\n",
       "    <tr style=\"text-align: right;\">\n",
       "      <th></th>\n",
       "      <th>x</th>\n",
       "      <th>y</th>\n",
       "    </tr>\n",
       "  </thead>\n",
       "  <tbody>\n",
       "    <tr>\n",
       "      <th>0</th>\n",
       "      <td>1</td>\n",
       "      <td>2</td>\n",
       "    </tr>\n",
       "    <tr>\n",
       "      <th>1</th>\n",
       "      <td>3</td>\n",
       "      <td>4</td>\n",
       "    </tr>\n",
       "    <tr>\n",
       "      <th>2</th>\n",
       "      <td>5</td>\n",
       "      <td>6</td>\n",
       "    </tr>\n",
       "  </tbody>\n",
       "</table>\n",
       "</div>"
      ],
      "text/plain": [
       "   x  y\n",
       "0  1  2\n",
       "1  3  4\n",
       "2  5  6"
      ]
     },
     "execution_count": 4,
     "metadata": {},
     "output_type": "execute_result"
    }
   ],
   "source": [
    "df = pd.DataFrame({\"x\": [1, 3, 5], \"y\": [2, 4, 6]})\n",
    "df"
   ]
  },
  {
   "cell_type": "markdown",
   "id": "af66a6b3",
   "metadata": {},
   "source": [
    "### Reading external data\n",
    "\n",
    "Like Stata, pandas provides utilities for reading in data from\n",
    "many formats.  The `tips` data set, found within the pandas\n",
    "tests ([csv](https://raw.github.com/pandas-dev/pandas/master/pandas/tests/io/data/csv/tips.csv))\n",
    "will be used in many of the following examples.\n",
    "\n",
    "Stata provides `import delimited` to read csv data into a data set in memory.\n",
    "If the `tips.csv` file is in the current working directory, we can import it as follows."
   ]
  },
  {
   "cell_type": "markdown",
   "id": "bd0e9b3d",
   "metadata": {
    "hide-output": false
   },
   "source": [
    "```stata\n",
    "import delimited tips.csv\n",
    "```\n"
   ]
  },
  {
   "cell_type": "markdown",
   "id": "38f18f31",
   "metadata": {},
   "source": [
    "The pandas method is `read_csv()`, which works similarly. Additionally, it will automatically download\n",
    "the data set if presented with a url."
   ]
  },
  {
   "cell_type": "code",
   "execution_count": 5,
   "id": "fda5b989",
   "metadata": {
    "hide-output": false
   },
   "outputs": [
    {
     "data": {
      "text/html": [
       "<div>\n",
       "<style scoped>\n",
       "    .dataframe tbody tr th:only-of-type {\n",
       "        vertical-align: middle;\n",
       "    }\n",
       "\n",
       "    .dataframe tbody tr th {\n",
       "        vertical-align: top;\n",
       "    }\n",
       "\n",
       "    .dataframe thead th {\n",
       "        text-align: right;\n",
       "    }\n",
       "</style>\n",
       "<table border=\"1\" class=\"dataframe\">\n",
       "  <thead>\n",
       "    <tr style=\"text-align: right;\">\n",
       "      <th></th>\n",
       "      <th>total_bill</th>\n",
       "      <th>tip</th>\n",
       "      <th>sex</th>\n",
       "      <th>smoker</th>\n",
       "      <th>day</th>\n",
       "      <th>time</th>\n",
       "      <th>size</th>\n",
       "    </tr>\n",
       "  </thead>\n",
       "  <tbody>\n",
       "    <tr>\n",
       "      <th>0</th>\n",
       "      <td>16.99</td>\n",
       "      <td>1.01</td>\n",
       "      <td>Female</td>\n",
       "      <td>No</td>\n",
       "      <td>Sun</td>\n",
       "      <td>Dinner</td>\n",
       "      <td>2</td>\n",
       "    </tr>\n",
       "    <tr>\n",
       "      <th>1</th>\n",
       "      <td>10.34</td>\n",
       "      <td>1.66</td>\n",
       "      <td>Male</td>\n",
       "      <td>No</td>\n",
       "      <td>Sun</td>\n",
       "      <td>Dinner</td>\n",
       "      <td>3</td>\n",
       "    </tr>\n",
       "    <tr>\n",
       "      <th>2</th>\n",
       "      <td>21.01</td>\n",
       "      <td>3.50</td>\n",
       "      <td>Male</td>\n",
       "      <td>No</td>\n",
       "      <td>Sun</td>\n",
       "      <td>Dinner</td>\n",
       "      <td>3</td>\n",
       "    </tr>\n",
       "    <tr>\n",
       "      <th>3</th>\n",
       "      <td>23.68</td>\n",
       "      <td>3.31</td>\n",
       "      <td>Male</td>\n",
       "      <td>No</td>\n",
       "      <td>Sun</td>\n",
       "      <td>Dinner</td>\n",
       "      <td>2</td>\n",
       "    </tr>\n",
       "    <tr>\n",
       "      <th>4</th>\n",
       "      <td>24.59</td>\n",
       "      <td>3.61</td>\n",
       "      <td>Female</td>\n",
       "      <td>No</td>\n",
       "      <td>Sun</td>\n",
       "      <td>Dinner</td>\n",
       "      <td>4</td>\n",
       "    </tr>\n",
       "    <tr>\n",
       "      <th>...</th>\n",
       "      <td>...</td>\n",
       "      <td>...</td>\n",
       "      <td>...</td>\n",
       "      <td>...</td>\n",
       "      <td>...</td>\n",
       "      <td>...</td>\n",
       "      <td>...</td>\n",
       "    </tr>\n",
       "    <tr>\n",
       "      <th>239</th>\n",
       "      <td>29.03</td>\n",
       "      <td>5.92</td>\n",
       "      <td>Male</td>\n",
       "      <td>No</td>\n",
       "      <td>Sat</td>\n",
       "      <td>Dinner</td>\n",
       "      <td>3</td>\n",
       "    </tr>\n",
       "    <tr>\n",
       "      <th>240</th>\n",
       "      <td>27.18</td>\n",
       "      <td>2.00</td>\n",
       "      <td>Female</td>\n",
       "      <td>Yes</td>\n",
       "      <td>Sat</td>\n",
       "      <td>Dinner</td>\n",
       "      <td>2</td>\n",
       "    </tr>\n",
       "    <tr>\n",
       "      <th>241</th>\n",
       "      <td>22.67</td>\n",
       "      <td>2.00</td>\n",
       "      <td>Male</td>\n",
       "      <td>Yes</td>\n",
       "      <td>Sat</td>\n",
       "      <td>Dinner</td>\n",
       "      <td>2</td>\n",
       "    </tr>\n",
       "    <tr>\n",
       "      <th>242</th>\n",
       "      <td>17.82</td>\n",
       "      <td>1.75</td>\n",
       "      <td>Male</td>\n",
       "      <td>No</td>\n",
       "      <td>Sat</td>\n",
       "      <td>Dinner</td>\n",
       "      <td>2</td>\n",
       "    </tr>\n",
       "    <tr>\n",
       "      <th>243</th>\n",
       "      <td>18.78</td>\n",
       "      <td>3.00</td>\n",
       "      <td>Female</td>\n",
       "      <td>No</td>\n",
       "      <td>Thur</td>\n",
       "      <td>Dinner</td>\n",
       "      <td>2</td>\n",
       "    </tr>\n",
       "  </tbody>\n",
       "</table>\n",
       "<p>244 rows × 7 columns</p>\n",
       "</div>"
      ],
      "text/plain": [
       "     total_bill   tip     sex smoker   day    time  size\n",
       "0         16.99  1.01  Female     No   Sun  Dinner     2\n",
       "1         10.34  1.66    Male     No   Sun  Dinner     3\n",
       "2         21.01  3.50    Male     No   Sun  Dinner     3\n",
       "3         23.68  3.31    Male     No   Sun  Dinner     2\n",
       "4         24.59  3.61  Female     No   Sun  Dinner     4\n",
       "..          ...   ...     ...    ...   ...     ...   ...\n",
       "239       29.03  5.92    Male     No   Sat  Dinner     3\n",
       "240       27.18  2.00  Female    Yes   Sat  Dinner     2\n",
       "241       22.67  2.00    Male    Yes   Sat  Dinner     2\n",
       "242       17.82  1.75    Male     No   Sat  Dinner     2\n",
       "243       18.78  3.00  Female     No  Thur  Dinner     2\n",
       "\n",
       "[244 rows x 7 columns]"
      ]
     },
     "execution_count": 5,
     "metadata": {},
     "output_type": "execute_result"
    }
   ],
   "source": [
    "url = (\n",
    "    \"https://raw.github.com/pandas-dev\"\n",
    "    \"/pandas/master/pandas/tests/io/data/csv/tips.csv\"\n",
    ")\n",
    "tips = pd.read_csv(url)\n",
    "tips"
   ]
  },
  {
   "cell_type": "markdown",
   "id": "a534fcf5",
   "metadata": {},
   "source": [
    "Like `import delimited`, `read_csv()` can take a number of parameters to specify\n",
    "how the data should be parsed.  For example, if the data were instead tab delimited,\n",
    "did not have column names, and existed in the current working directory,\n",
    "the pandas command would be:"
   ]
  },
  {
   "cell_type": "markdown",
   "id": "fbcb66b2",
   "metadata": {
    "hide-output": false
   },
   "source": [
    "```python\n",
    "tips = pd.read_csv(\"tips.csv\", sep=\"\\t\", header=None)\n",
    "\n",
    "# alternatively, read_table is an alias to read_csv with tab delimiter\n",
    "tips = pd.read_table(\"tips.csv\", header=None)\n",
    "```\n"
   ]
  },
  {
   "cell_type": "markdown",
   "id": "55ca73d3",
   "metadata": {},
   "source": [
    "pandas can also read Stata data sets in `.dta` format with the `read_stata()` function."
   ]
  },
  {
   "cell_type": "markdown",
   "id": "1c9a5524",
   "metadata": {
    "hide-output": false
   },
   "source": [
    "```python\n",
    "df = pd.read_stata(\"data.dta\")\n",
    "```\n"
   ]
  },
  {
   "cell_type": "markdown",
   "id": "1dc3ab18",
   "metadata": {},
   "source": [
    "In addition to text/csv and Stata files, pandas supports a variety of other data formats\n",
    "such as Excel, SAS, HDF5, Parquet, and SQL databases.  These are all read via a `pd.read_*`\n",
    "function.  See the IO documentation for more details."
   ]
  },
  {
   "cell_type": "markdown",
   "id": "caa2c159",
   "metadata": {},
   "source": [
    "### Limiting output\n",
    "\n",
    "By default, pandas will truncate output of large `DataFrame`s to show the first and last rows.\n",
    "This can be overridden by changing the pandas options, or using\n",
    "`DataFrame.head()` or `DataFrame.tail()`."
   ]
  },
  {
   "cell_type": "code",
   "execution_count": 6,
   "id": "6518682c",
   "metadata": {
    "hide-output": false
   },
   "outputs": [
    {
     "data": {
      "text/html": [
       "<div>\n",
       "<style scoped>\n",
       "    .dataframe tbody tr th:only-of-type {\n",
       "        vertical-align: middle;\n",
       "    }\n",
       "\n",
       "    .dataframe tbody tr th {\n",
       "        vertical-align: top;\n",
       "    }\n",
       "\n",
       "    .dataframe thead th {\n",
       "        text-align: right;\n",
       "    }\n",
       "</style>\n",
       "<table border=\"1\" class=\"dataframe\">\n",
       "  <thead>\n",
       "    <tr style=\"text-align: right;\">\n",
       "      <th></th>\n",
       "      <th>total_bill</th>\n",
       "      <th>tip</th>\n",
       "      <th>sex</th>\n",
       "      <th>smoker</th>\n",
       "      <th>day</th>\n",
       "      <th>time</th>\n",
       "      <th>size</th>\n",
       "    </tr>\n",
       "  </thead>\n",
       "  <tbody>\n",
       "    <tr>\n",
       "      <th>0</th>\n",
       "      <td>16.99</td>\n",
       "      <td>1.01</td>\n",
       "      <td>Female</td>\n",
       "      <td>No</td>\n",
       "      <td>Sun</td>\n",
       "      <td>Dinner</td>\n",
       "      <td>2</td>\n",
       "    </tr>\n",
       "    <tr>\n",
       "      <th>1</th>\n",
       "      <td>10.34</td>\n",
       "      <td>1.66</td>\n",
       "      <td>Male</td>\n",
       "      <td>No</td>\n",
       "      <td>Sun</td>\n",
       "      <td>Dinner</td>\n",
       "      <td>3</td>\n",
       "    </tr>\n",
       "    <tr>\n",
       "      <th>2</th>\n",
       "      <td>21.01</td>\n",
       "      <td>3.50</td>\n",
       "      <td>Male</td>\n",
       "      <td>No</td>\n",
       "      <td>Sun</td>\n",
       "      <td>Dinner</td>\n",
       "      <td>3</td>\n",
       "    </tr>\n",
       "    <tr>\n",
       "      <th>3</th>\n",
       "      <td>23.68</td>\n",
       "      <td>3.31</td>\n",
       "      <td>Male</td>\n",
       "      <td>No</td>\n",
       "      <td>Sun</td>\n",
       "      <td>Dinner</td>\n",
       "      <td>2</td>\n",
       "    </tr>\n",
       "    <tr>\n",
       "      <th>4</th>\n",
       "      <td>24.59</td>\n",
       "      <td>3.61</td>\n",
       "      <td>Female</td>\n",
       "      <td>No</td>\n",
       "      <td>Sun</td>\n",
       "      <td>Dinner</td>\n",
       "      <td>4</td>\n",
       "    </tr>\n",
       "  </tbody>\n",
       "</table>\n",
       "</div>"
      ],
      "text/plain": [
       "   total_bill   tip     sex smoker  day    time  size\n",
       "0       16.99  1.01  Female     No  Sun  Dinner     2\n",
       "1       10.34  1.66    Male     No  Sun  Dinner     3\n",
       "2       21.01  3.50    Male     No  Sun  Dinner     3\n",
       "3       23.68  3.31    Male     No  Sun  Dinner     2\n",
       "4       24.59  3.61  Female     No  Sun  Dinner     4"
      ]
     },
     "execution_count": 6,
     "metadata": {},
     "output_type": "execute_result"
    }
   ],
   "source": [
    "tips.head(5)"
   ]
  },
  {
   "cell_type": "markdown",
   "id": "1ad8aeef",
   "metadata": {},
   "source": [
    "The equivalent in Stata would be:"
   ]
  },
  {
   "cell_type": "markdown",
   "id": "b5c42693",
   "metadata": {
    "hide-output": false
   },
   "source": [
    "```stata\n",
    "list in 1/5\n",
    "```\n"
   ]
  },
  {
   "cell_type": "markdown",
   "id": "d3224725",
   "metadata": {},
   "source": [
    "### Exporting data\n",
    "\n",
    "The inverse of `import delimited` in Stata is `export delimited`"
   ]
  },
  {
   "cell_type": "markdown",
   "id": "38ee0d7a",
   "metadata": {
    "hide-output": false
   },
   "source": [
    "```stata\n",
    "export delimited tips2.csv\n",
    "```\n"
   ]
  },
  {
   "cell_type": "markdown",
   "id": "7e93591a",
   "metadata": {},
   "source": [
    "Similarly in pandas, the opposite of `read_csv` is `DataFrame.to_csv()`."
   ]
  },
  {
   "cell_type": "markdown",
   "id": "e51559b8",
   "metadata": {
    "hide-output": false
   },
   "source": [
    "```python\n",
    "tips.to_csv(\"tips2.csv\")\n",
    "```\n"
   ]
  },
  {
   "cell_type": "markdown",
   "id": "cf647734",
   "metadata": {},
   "source": [
    "pandas can also export to Stata file format with the `DataFrame.to_stata()` method."
   ]
  },
  {
   "cell_type": "markdown",
   "id": "b685f492",
   "metadata": {
    "hide-output": false
   },
   "source": [
    "```python\n",
    "tips.to_stata(\"tips2.dta\")\n",
    "```\n"
   ]
  },
  {
   "cell_type": "markdown",
   "id": "40c7143d",
   "metadata": {},
   "source": [
    "## Data operations"
   ]
  },
  {
   "cell_type": "markdown",
   "id": "fcc0cc3c",
   "metadata": {},
   "source": [
    "### Operations on columns\n",
    "\n",
    "In Stata, arbitrary math expressions can be used with the `generate` and\n",
    "`replace` commands on new or existing columns. The `drop` command drops\n",
    "the column from the data set."
   ]
  },
  {
   "cell_type": "markdown",
   "id": "16d27663",
   "metadata": {
    "hide-output": false
   },
   "source": [
    "```stata\n",
    "replace total_bill = total_bill - 2\n",
    "generate new_bill = total_bill / 2\n",
    "drop new_bill\n",
    "```\n"
   ]
  },
  {
   "cell_type": "markdown",
   "id": "680e9856",
   "metadata": {},
   "source": [
    "pandas provides vectorized operations by specifying the individual `Series` in the\n",
    "`DataFrame`. New columns can be assigned in the same way. The `DataFrame.drop()` method drops\n",
    "a column from the `DataFrame`."
   ]
  },
  {
   "cell_type": "code",
   "execution_count": 7,
   "id": "cacab7a0",
   "metadata": {
    "hide-output": false
   },
   "outputs": [],
   "source": [
    "tips[\"total_bill\"] = tips[\"total_bill\"] - 2\n",
    "tips[\"new_bill\"] = tips[\"total_bill\"] / 2\n",
    "tips\n",
    "\n",
    "tips = tips.drop(\"new_bill\", axis=1)"
   ]
  },
  {
   "cell_type": "markdown",
   "id": "ab812d24",
   "metadata": {},
   "source": [
    "### Filtering\n",
    "\n",
    "Filtering in Stata is done with an `if` clause on one or more columns."
   ]
  },
  {
   "cell_type": "markdown",
   "id": "df8b8a4f",
   "metadata": {
    "hide-output": false
   },
   "source": [
    "```stata\n",
    "list if total_bill > 10\n",
    "```\n"
   ]
  },
  {
   "cell_type": "markdown",
   "id": "73c8b170",
   "metadata": {},
   "source": [
    "DataFrames can be filtered in multiple ways; the most intuitive of which is using\n",
    "boolean indexing."
   ]
  },
  {
   "cell_type": "code",
   "execution_count": 8,
   "id": "f485f82a",
   "metadata": {
    "hide-output": false
   },
   "outputs": [
    {
     "data": {
      "text/html": [
       "<div>\n",
       "<style scoped>\n",
       "    .dataframe tbody tr th:only-of-type {\n",
       "        vertical-align: middle;\n",
       "    }\n",
       "\n",
       "    .dataframe tbody tr th {\n",
       "        vertical-align: top;\n",
       "    }\n",
       "\n",
       "    .dataframe thead th {\n",
       "        text-align: right;\n",
       "    }\n",
       "</style>\n",
       "<table border=\"1\" class=\"dataframe\">\n",
       "  <thead>\n",
       "    <tr style=\"text-align: right;\">\n",
       "      <th></th>\n",
       "      <th>total_bill</th>\n",
       "      <th>tip</th>\n",
       "      <th>sex</th>\n",
       "      <th>smoker</th>\n",
       "      <th>day</th>\n",
       "      <th>time</th>\n",
       "      <th>size</th>\n",
       "    </tr>\n",
       "  </thead>\n",
       "  <tbody>\n",
       "    <tr>\n",
       "      <th>0</th>\n",
       "      <td>14.99</td>\n",
       "      <td>1.01</td>\n",
       "      <td>Female</td>\n",
       "      <td>No</td>\n",
       "      <td>Sun</td>\n",
       "      <td>Dinner</td>\n",
       "      <td>2</td>\n",
       "    </tr>\n",
       "    <tr>\n",
       "      <th>2</th>\n",
       "      <td>19.01</td>\n",
       "      <td>3.50</td>\n",
       "      <td>Male</td>\n",
       "      <td>No</td>\n",
       "      <td>Sun</td>\n",
       "      <td>Dinner</td>\n",
       "      <td>3</td>\n",
       "    </tr>\n",
       "    <tr>\n",
       "      <th>3</th>\n",
       "      <td>21.68</td>\n",
       "      <td>3.31</td>\n",
       "      <td>Male</td>\n",
       "      <td>No</td>\n",
       "      <td>Sun</td>\n",
       "      <td>Dinner</td>\n",
       "      <td>2</td>\n",
       "    </tr>\n",
       "    <tr>\n",
       "      <th>4</th>\n",
       "      <td>22.59</td>\n",
       "      <td>3.61</td>\n",
       "      <td>Female</td>\n",
       "      <td>No</td>\n",
       "      <td>Sun</td>\n",
       "      <td>Dinner</td>\n",
       "      <td>4</td>\n",
       "    </tr>\n",
       "    <tr>\n",
       "      <th>5</th>\n",
       "      <td>23.29</td>\n",
       "      <td>4.71</td>\n",
       "      <td>Male</td>\n",
       "      <td>No</td>\n",
       "      <td>Sun</td>\n",
       "      <td>Dinner</td>\n",
       "      <td>4</td>\n",
       "    </tr>\n",
       "    <tr>\n",
       "      <th>...</th>\n",
       "      <td>...</td>\n",
       "      <td>...</td>\n",
       "      <td>...</td>\n",
       "      <td>...</td>\n",
       "      <td>...</td>\n",
       "      <td>...</td>\n",
       "      <td>...</td>\n",
       "    </tr>\n",
       "    <tr>\n",
       "      <th>239</th>\n",
       "      <td>27.03</td>\n",
       "      <td>5.92</td>\n",
       "      <td>Male</td>\n",
       "      <td>No</td>\n",
       "      <td>Sat</td>\n",
       "      <td>Dinner</td>\n",
       "      <td>3</td>\n",
       "    </tr>\n",
       "    <tr>\n",
       "      <th>240</th>\n",
       "      <td>25.18</td>\n",
       "      <td>2.00</td>\n",
       "      <td>Female</td>\n",
       "      <td>Yes</td>\n",
       "      <td>Sat</td>\n",
       "      <td>Dinner</td>\n",
       "      <td>2</td>\n",
       "    </tr>\n",
       "    <tr>\n",
       "      <th>241</th>\n",
       "      <td>20.67</td>\n",
       "      <td>2.00</td>\n",
       "      <td>Male</td>\n",
       "      <td>Yes</td>\n",
       "      <td>Sat</td>\n",
       "      <td>Dinner</td>\n",
       "      <td>2</td>\n",
       "    </tr>\n",
       "    <tr>\n",
       "      <th>242</th>\n",
       "      <td>15.82</td>\n",
       "      <td>1.75</td>\n",
       "      <td>Male</td>\n",
       "      <td>No</td>\n",
       "      <td>Sat</td>\n",
       "      <td>Dinner</td>\n",
       "      <td>2</td>\n",
       "    </tr>\n",
       "    <tr>\n",
       "      <th>243</th>\n",
       "      <td>16.78</td>\n",
       "      <td>3.00</td>\n",
       "      <td>Female</td>\n",
       "      <td>No</td>\n",
       "      <td>Thur</td>\n",
       "      <td>Dinner</td>\n",
       "      <td>2</td>\n",
       "    </tr>\n",
       "  </tbody>\n",
       "</table>\n",
       "<p>204 rows × 7 columns</p>\n",
       "</div>"
      ],
      "text/plain": [
       "     total_bill   tip     sex smoker   day    time  size\n",
       "0         14.99  1.01  Female     No   Sun  Dinner     2\n",
       "2         19.01  3.50    Male     No   Sun  Dinner     3\n",
       "3         21.68  3.31    Male     No   Sun  Dinner     2\n",
       "4         22.59  3.61  Female     No   Sun  Dinner     4\n",
       "5         23.29  4.71    Male     No   Sun  Dinner     4\n",
       "..          ...   ...     ...    ...   ...     ...   ...\n",
       "239       27.03  5.92    Male     No   Sat  Dinner     3\n",
       "240       25.18  2.00  Female    Yes   Sat  Dinner     2\n",
       "241       20.67  2.00    Male    Yes   Sat  Dinner     2\n",
       "242       15.82  1.75    Male     No   Sat  Dinner     2\n",
       "243       16.78  3.00  Female     No  Thur  Dinner     2\n",
       "\n",
       "[204 rows x 7 columns]"
      ]
     },
     "execution_count": 8,
     "metadata": {},
     "output_type": "execute_result"
    }
   ],
   "source": [
    "tips[tips[\"total_bill\"] > 10]"
   ]
  },
  {
   "cell_type": "markdown",
   "id": "08ba1829",
   "metadata": {},
   "source": [
    "The above statement is simply passing a `Series` of `True`/`False` objects to the DataFrame,\n",
    "returning all rows with `True`."
   ]
  },
  {
   "cell_type": "code",
   "execution_count": 9,
   "id": "0ad16d5d",
   "metadata": {
    "hide-output": false
   },
   "outputs": [
    {
     "data": {
      "text/html": [
       "<div>\n",
       "<style scoped>\n",
       "    .dataframe tbody tr th:only-of-type {\n",
       "        vertical-align: middle;\n",
       "    }\n",
       "\n",
       "    .dataframe tbody tr th {\n",
       "        vertical-align: top;\n",
       "    }\n",
       "\n",
       "    .dataframe thead th {\n",
       "        text-align: right;\n",
       "    }\n",
       "</style>\n",
       "<table border=\"1\" class=\"dataframe\">\n",
       "  <thead>\n",
       "    <tr style=\"text-align: right;\">\n",
       "      <th></th>\n",
       "      <th>total_bill</th>\n",
       "      <th>tip</th>\n",
       "      <th>sex</th>\n",
       "      <th>smoker</th>\n",
       "      <th>day</th>\n",
       "      <th>time</th>\n",
       "      <th>size</th>\n",
       "    </tr>\n",
       "  </thead>\n",
       "  <tbody>\n",
       "    <tr>\n",
       "      <th>0</th>\n",
       "      <td>14.99</td>\n",
       "      <td>1.01</td>\n",
       "      <td>Female</td>\n",
       "      <td>No</td>\n",
       "      <td>Sun</td>\n",
       "      <td>Dinner</td>\n",
       "      <td>2</td>\n",
       "    </tr>\n",
       "    <tr>\n",
       "      <th>1</th>\n",
       "      <td>8.34</td>\n",
       "      <td>1.66</td>\n",
       "      <td>Male</td>\n",
       "      <td>No</td>\n",
       "      <td>Sun</td>\n",
       "      <td>Dinner</td>\n",
       "      <td>3</td>\n",
       "    </tr>\n",
       "    <tr>\n",
       "      <th>2</th>\n",
       "      <td>19.01</td>\n",
       "      <td>3.50</td>\n",
       "      <td>Male</td>\n",
       "      <td>No</td>\n",
       "      <td>Sun</td>\n",
       "      <td>Dinner</td>\n",
       "      <td>3</td>\n",
       "    </tr>\n",
       "    <tr>\n",
       "      <th>3</th>\n",
       "      <td>21.68</td>\n",
       "      <td>3.31</td>\n",
       "      <td>Male</td>\n",
       "      <td>No</td>\n",
       "      <td>Sun</td>\n",
       "      <td>Dinner</td>\n",
       "      <td>2</td>\n",
       "    </tr>\n",
       "    <tr>\n",
       "      <th>4</th>\n",
       "      <td>22.59</td>\n",
       "      <td>3.61</td>\n",
       "      <td>Female</td>\n",
       "      <td>No</td>\n",
       "      <td>Sun</td>\n",
       "      <td>Dinner</td>\n",
       "      <td>4</td>\n",
       "    </tr>\n",
       "    <tr>\n",
       "      <th>...</th>\n",
       "      <td>...</td>\n",
       "      <td>...</td>\n",
       "      <td>...</td>\n",
       "      <td>...</td>\n",
       "      <td>...</td>\n",
       "      <td>...</td>\n",
       "      <td>...</td>\n",
       "    </tr>\n",
       "    <tr>\n",
       "      <th>239</th>\n",
       "      <td>27.03</td>\n",
       "      <td>5.92</td>\n",
       "      <td>Male</td>\n",
       "      <td>No</td>\n",
       "      <td>Sat</td>\n",
       "      <td>Dinner</td>\n",
       "      <td>3</td>\n",
       "    </tr>\n",
       "    <tr>\n",
       "      <th>240</th>\n",
       "      <td>25.18</td>\n",
       "      <td>2.00</td>\n",
       "      <td>Female</td>\n",
       "      <td>Yes</td>\n",
       "      <td>Sat</td>\n",
       "      <td>Dinner</td>\n",
       "      <td>2</td>\n",
       "    </tr>\n",
       "    <tr>\n",
       "      <th>241</th>\n",
       "      <td>20.67</td>\n",
       "      <td>2.00</td>\n",
       "      <td>Male</td>\n",
       "      <td>Yes</td>\n",
       "      <td>Sat</td>\n",
       "      <td>Dinner</td>\n",
       "      <td>2</td>\n",
       "    </tr>\n",
       "    <tr>\n",
       "      <th>242</th>\n",
       "      <td>15.82</td>\n",
       "      <td>1.75</td>\n",
       "      <td>Male</td>\n",
       "      <td>No</td>\n",
       "      <td>Sat</td>\n",
       "      <td>Dinner</td>\n",
       "      <td>2</td>\n",
       "    </tr>\n",
       "    <tr>\n",
       "      <th>243</th>\n",
       "      <td>16.78</td>\n",
       "      <td>3.00</td>\n",
       "      <td>Female</td>\n",
       "      <td>No</td>\n",
       "      <td>Thur</td>\n",
       "      <td>Dinner</td>\n",
       "      <td>2</td>\n",
       "    </tr>\n",
       "  </tbody>\n",
       "</table>\n",
       "<p>176 rows × 7 columns</p>\n",
       "</div>"
      ],
      "text/plain": [
       "     total_bill   tip     sex smoker   day    time  size\n",
       "0         14.99  1.01  Female     No   Sun  Dinner     2\n",
       "1          8.34  1.66    Male     No   Sun  Dinner     3\n",
       "2         19.01  3.50    Male     No   Sun  Dinner     3\n",
       "3         21.68  3.31    Male     No   Sun  Dinner     2\n",
       "4         22.59  3.61  Female     No   Sun  Dinner     4\n",
       "..          ...   ...     ...    ...   ...     ...   ...\n",
       "239       27.03  5.92    Male     No   Sat  Dinner     3\n",
       "240       25.18  2.00  Female    Yes   Sat  Dinner     2\n",
       "241       20.67  2.00    Male    Yes   Sat  Dinner     2\n",
       "242       15.82  1.75    Male     No   Sat  Dinner     2\n",
       "243       16.78  3.00  Female     No  Thur  Dinner     2\n",
       "\n",
       "[176 rows x 7 columns]"
      ]
     },
     "execution_count": 9,
     "metadata": {},
     "output_type": "execute_result"
    }
   ],
   "source": [
    "is_dinner = tips[\"time\"] == \"Dinner\"\n",
    "is_dinner\n",
    "is_dinner.value_counts()\n",
    "tips[is_dinner]"
   ]
  },
  {
   "cell_type": "markdown",
   "id": "44fe76f9",
   "metadata": {},
   "source": [
    "### If/then logic\n",
    "\n",
    "In Stata, an `if` clause can also be used to create new columns."
   ]
  },
  {
   "cell_type": "markdown",
   "id": "12d51e6e",
   "metadata": {
    "hide-output": false
   },
   "source": [
    "```stata\n",
    "generate bucket = \"low\" if total_bill < 10\n",
    "replace bucket = \"high\" if total_bill >= 10\n",
    "```\n"
   ]
  },
  {
   "cell_type": "markdown",
   "id": "101446b7",
   "metadata": {},
   "source": [
    "The same operation in pandas can be accomplished using\n",
    "the `where` method from `numpy`."
   ]
  },
  {
   "cell_type": "code",
   "execution_count": 10,
   "id": "88a1ffb0",
   "metadata": {
    "hide-output": false
   },
   "outputs": [
    {
     "data": {
      "text/html": [
       "<div>\n",
       "<style scoped>\n",
       "    .dataframe tbody tr th:only-of-type {\n",
       "        vertical-align: middle;\n",
       "    }\n",
       "\n",
       "    .dataframe tbody tr th {\n",
       "        vertical-align: top;\n",
       "    }\n",
       "\n",
       "    .dataframe thead th {\n",
       "        text-align: right;\n",
       "    }\n",
       "</style>\n",
       "<table border=\"1\" class=\"dataframe\">\n",
       "  <thead>\n",
       "    <tr style=\"text-align: right;\">\n",
       "      <th></th>\n",
       "      <th>total_bill</th>\n",
       "      <th>tip</th>\n",
       "      <th>sex</th>\n",
       "      <th>smoker</th>\n",
       "      <th>day</th>\n",
       "      <th>time</th>\n",
       "      <th>size</th>\n",
       "      <th>bucket</th>\n",
       "    </tr>\n",
       "  </thead>\n",
       "  <tbody>\n",
       "    <tr>\n",
       "      <th>0</th>\n",
       "      <td>14.99</td>\n",
       "      <td>1.01</td>\n",
       "      <td>Female</td>\n",
       "      <td>No</td>\n",
       "      <td>Sun</td>\n",
       "      <td>Dinner</td>\n",
       "      <td>2</td>\n",
       "      <td>high</td>\n",
       "    </tr>\n",
       "    <tr>\n",
       "      <th>1</th>\n",
       "      <td>8.34</td>\n",
       "      <td>1.66</td>\n",
       "      <td>Male</td>\n",
       "      <td>No</td>\n",
       "      <td>Sun</td>\n",
       "      <td>Dinner</td>\n",
       "      <td>3</td>\n",
       "      <td>low</td>\n",
       "    </tr>\n",
       "    <tr>\n",
       "      <th>2</th>\n",
       "      <td>19.01</td>\n",
       "      <td>3.50</td>\n",
       "      <td>Male</td>\n",
       "      <td>No</td>\n",
       "      <td>Sun</td>\n",
       "      <td>Dinner</td>\n",
       "      <td>3</td>\n",
       "      <td>high</td>\n",
       "    </tr>\n",
       "    <tr>\n",
       "      <th>3</th>\n",
       "      <td>21.68</td>\n",
       "      <td>3.31</td>\n",
       "      <td>Male</td>\n",
       "      <td>No</td>\n",
       "      <td>Sun</td>\n",
       "      <td>Dinner</td>\n",
       "      <td>2</td>\n",
       "      <td>high</td>\n",
       "    </tr>\n",
       "    <tr>\n",
       "      <th>4</th>\n",
       "      <td>22.59</td>\n",
       "      <td>3.61</td>\n",
       "      <td>Female</td>\n",
       "      <td>No</td>\n",
       "      <td>Sun</td>\n",
       "      <td>Dinner</td>\n",
       "      <td>4</td>\n",
       "      <td>high</td>\n",
       "    </tr>\n",
       "    <tr>\n",
       "      <th>...</th>\n",
       "      <td>...</td>\n",
       "      <td>...</td>\n",
       "      <td>...</td>\n",
       "      <td>...</td>\n",
       "      <td>...</td>\n",
       "      <td>...</td>\n",
       "      <td>...</td>\n",
       "      <td>...</td>\n",
       "    </tr>\n",
       "    <tr>\n",
       "      <th>239</th>\n",
       "      <td>27.03</td>\n",
       "      <td>5.92</td>\n",
       "      <td>Male</td>\n",
       "      <td>No</td>\n",
       "      <td>Sat</td>\n",
       "      <td>Dinner</td>\n",
       "      <td>3</td>\n",
       "      <td>high</td>\n",
       "    </tr>\n",
       "    <tr>\n",
       "      <th>240</th>\n",
       "      <td>25.18</td>\n",
       "      <td>2.00</td>\n",
       "      <td>Female</td>\n",
       "      <td>Yes</td>\n",
       "      <td>Sat</td>\n",
       "      <td>Dinner</td>\n",
       "      <td>2</td>\n",
       "      <td>high</td>\n",
       "    </tr>\n",
       "    <tr>\n",
       "      <th>241</th>\n",
       "      <td>20.67</td>\n",
       "      <td>2.00</td>\n",
       "      <td>Male</td>\n",
       "      <td>Yes</td>\n",
       "      <td>Sat</td>\n",
       "      <td>Dinner</td>\n",
       "      <td>2</td>\n",
       "      <td>high</td>\n",
       "    </tr>\n",
       "    <tr>\n",
       "      <th>242</th>\n",
       "      <td>15.82</td>\n",
       "      <td>1.75</td>\n",
       "      <td>Male</td>\n",
       "      <td>No</td>\n",
       "      <td>Sat</td>\n",
       "      <td>Dinner</td>\n",
       "      <td>2</td>\n",
       "      <td>high</td>\n",
       "    </tr>\n",
       "    <tr>\n",
       "      <th>243</th>\n",
       "      <td>16.78</td>\n",
       "      <td>3.00</td>\n",
       "      <td>Female</td>\n",
       "      <td>No</td>\n",
       "      <td>Thur</td>\n",
       "      <td>Dinner</td>\n",
       "      <td>2</td>\n",
       "      <td>high</td>\n",
       "    </tr>\n",
       "  </tbody>\n",
       "</table>\n",
       "<p>244 rows × 8 columns</p>\n",
       "</div>"
      ],
      "text/plain": [
       "     total_bill   tip     sex smoker   day    time  size bucket\n",
       "0         14.99  1.01  Female     No   Sun  Dinner     2   high\n",
       "1          8.34  1.66    Male     No   Sun  Dinner     3    low\n",
       "2         19.01  3.50    Male     No   Sun  Dinner     3   high\n",
       "3         21.68  3.31    Male     No   Sun  Dinner     2   high\n",
       "4         22.59  3.61  Female     No   Sun  Dinner     4   high\n",
       "..          ...   ...     ...    ...   ...     ...   ...    ...\n",
       "239       27.03  5.92    Male     No   Sat  Dinner     3   high\n",
       "240       25.18  2.00  Female    Yes   Sat  Dinner     2   high\n",
       "241       20.67  2.00    Male    Yes   Sat  Dinner     2   high\n",
       "242       15.82  1.75    Male     No   Sat  Dinner     2   high\n",
       "243       16.78  3.00  Female     No  Thur  Dinner     2   high\n",
       "\n",
       "[244 rows x 8 columns]"
      ]
     },
     "execution_count": 10,
     "metadata": {},
     "output_type": "execute_result"
    }
   ],
   "source": [
    "tips[\"bucket\"] = np.where(tips[\"total_bill\"] < 10, \"low\", \"high\")\n",
    "tips"
   ]
  },
  {
   "cell_type": "markdown",
   "id": "028f896c",
   "metadata": {},
   "source": [
    "\n",
    "<dl style='margin: 20px 0;'>\n",
    "<dt>::</dt>\n",
    "<dd>\n",
    "\n",
    "<dl style='margin: 20px 0;'>\n",
    "<dt>suppress</dt>\n",
    "<dd>\n",
    "</dd>\n",
    "\n",
    "</dl>\n",
    "\n",
    "tips = tips.drop(“bucket”, axis=1)\n",
    "\n",
    "</dd>\n",
    "\n",
    "</dl>"
   ]
  },
  {
   "cell_type": "markdown",
   "id": "3a728ca3",
   "metadata": {},
   "source": [
    "### Date functionality\n",
    "\n",
    "Stata provides a variety of functions to do operations on\n",
    "date/datetime columns."
   ]
  },
  {
   "cell_type": "markdown",
   "id": "87250641",
   "metadata": {
    "hide-output": false
   },
   "source": [
    "```stata\n",
    "generate date1 = mdy(1, 15, 2013)\n",
    "generate date2 = date(\"Feb152015\", \"MDY\")\n",
    "\n",
    "generate date1_year = year(date1)\n",
    "generate date2_month = month(date2)\n",
    "\n",
    "* shift date to beginning of next month\n",
    "generate date1_next = mdy(month(date1) + 1, 1, year(date1)) if month(date1) != 12\n",
    "replace date1_next = mdy(1, 1, year(date1) + 1) if month(date1) == 12\n",
    "generate months_between = mofd(date2) - mofd(date1)\n",
    "\n",
    "list date1 date2 date1_year date2_month date1_next months_between\n",
    "```\n"
   ]
  },
  {
   "cell_type": "markdown",
   "id": "87fa7e66",
   "metadata": {},
   "source": [
    "The equivalent pandas operations are shown below.  In addition to these\n",
    "functions, pandas supports other Time Series features\n",
    "not available in Stata (such as time zone handling and custom offsets) –\n",
    "see the timeseries documentation for more details."
   ]
  },
  {
   "cell_type": "code",
   "execution_count": 11,
   "id": "965d1ed3",
   "metadata": {
    "hide-output": false
   },
   "outputs": [
    {
     "data": {
      "text/html": [
       "<div>\n",
       "<style scoped>\n",
       "    .dataframe tbody tr th:only-of-type {\n",
       "        vertical-align: middle;\n",
       "    }\n",
       "\n",
       "    .dataframe tbody tr th {\n",
       "        vertical-align: top;\n",
       "    }\n",
       "\n",
       "    .dataframe thead th {\n",
       "        text-align: right;\n",
       "    }\n",
       "</style>\n",
       "<table border=\"1\" class=\"dataframe\">\n",
       "  <thead>\n",
       "    <tr style=\"text-align: right;\">\n",
       "      <th></th>\n",
       "      <th>date1</th>\n",
       "      <th>date2</th>\n",
       "      <th>date1_year</th>\n",
       "      <th>date2_month</th>\n",
       "      <th>date1_next</th>\n",
       "      <th>months_between</th>\n",
       "    </tr>\n",
       "  </thead>\n",
       "  <tbody>\n",
       "    <tr>\n",
       "      <th>0</th>\n",
       "      <td>2013-01-15</td>\n",
       "      <td>2015-02-15</td>\n",
       "      <td>2013</td>\n",
       "      <td>2</td>\n",
       "      <td>2013-02-01</td>\n",
       "      <td>&lt;25 * MonthEnds&gt;</td>\n",
       "    </tr>\n",
       "    <tr>\n",
       "      <th>1</th>\n",
       "      <td>2013-01-15</td>\n",
       "      <td>2015-02-15</td>\n",
       "      <td>2013</td>\n",
       "      <td>2</td>\n",
       "      <td>2013-02-01</td>\n",
       "      <td>&lt;25 * MonthEnds&gt;</td>\n",
       "    </tr>\n",
       "    <tr>\n",
       "      <th>2</th>\n",
       "      <td>2013-01-15</td>\n",
       "      <td>2015-02-15</td>\n",
       "      <td>2013</td>\n",
       "      <td>2</td>\n",
       "      <td>2013-02-01</td>\n",
       "      <td>&lt;25 * MonthEnds&gt;</td>\n",
       "    </tr>\n",
       "    <tr>\n",
       "      <th>3</th>\n",
       "      <td>2013-01-15</td>\n",
       "      <td>2015-02-15</td>\n",
       "      <td>2013</td>\n",
       "      <td>2</td>\n",
       "      <td>2013-02-01</td>\n",
       "      <td>&lt;25 * MonthEnds&gt;</td>\n",
       "    </tr>\n",
       "    <tr>\n",
       "      <th>4</th>\n",
       "      <td>2013-01-15</td>\n",
       "      <td>2015-02-15</td>\n",
       "      <td>2013</td>\n",
       "      <td>2</td>\n",
       "      <td>2013-02-01</td>\n",
       "      <td>&lt;25 * MonthEnds&gt;</td>\n",
       "    </tr>\n",
       "    <tr>\n",
       "      <th>...</th>\n",
       "      <td>...</td>\n",
       "      <td>...</td>\n",
       "      <td>...</td>\n",
       "      <td>...</td>\n",
       "      <td>...</td>\n",
       "      <td>...</td>\n",
       "    </tr>\n",
       "    <tr>\n",
       "      <th>239</th>\n",
       "      <td>2013-01-15</td>\n",
       "      <td>2015-02-15</td>\n",
       "      <td>2013</td>\n",
       "      <td>2</td>\n",
       "      <td>2013-02-01</td>\n",
       "      <td>&lt;25 * MonthEnds&gt;</td>\n",
       "    </tr>\n",
       "    <tr>\n",
       "      <th>240</th>\n",
       "      <td>2013-01-15</td>\n",
       "      <td>2015-02-15</td>\n",
       "      <td>2013</td>\n",
       "      <td>2</td>\n",
       "      <td>2013-02-01</td>\n",
       "      <td>&lt;25 * MonthEnds&gt;</td>\n",
       "    </tr>\n",
       "    <tr>\n",
       "      <th>241</th>\n",
       "      <td>2013-01-15</td>\n",
       "      <td>2015-02-15</td>\n",
       "      <td>2013</td>\n",
       "      <td>2</td>\n",
       "      <td>2013-02-01</td>\n",
       "      <td>&lt;25 * MonthEnds&gt;</td>\n",
       "    </tr>\n",
       "    <tr>\n",
       "      <th>242</th>\n",
       "      <td>2013-01-15</td>\n",
       "      <td>2015-02-15</td>\n",
       "      <td>2013</td>\n",
       "      <td>2</td>\n",
       "      <td>2013-02-01</td>\n",
       "      <td>&lt;25 * MonthEnds&gt;</td>\n",
       "    </tr>\n",
       "    <tr>\n",
       "      <th>243</th>\n",
       "      <td>2013-01-15</td>\n",
       "      <td>2015-02-15</td>\n",
       "      <td>2013</td>\n",
       "      <td>2</td>\n",
       "      <td>2013-02-01</td>\n",
       "      <td>&lt;25 * MonthEnds&gt;</td>\n",
       "    </tr>\n",
       "  </tbody>\n",
       "</table>\n",
       "<p>244 rows × 6 columns</p>\n",
       "</div>"
      ],
      "text/plain": [
       "         date1      date2  date1_year  date2_month date1_next  \\\n",
       "0   2013-01-15 2015-02-15        2013            2 2013-02-01   \n",
       "1   2013-01-15 2015-02-15        2013            2 2013-02-01   \n",
       "2   2013-01-15 2015-02-15        2013            2 2013-02-01   \n",
       "3   2013-01-15 2015-02-15        2013            2 2013-02-01   \n",
       "4   2013-01-15 2015-02-15        2013            2 2013-02-01   \n",
       "..         ...        ...         ...          ...        ...   \n",
       "239 2013-01-15 2015-02-15        2013            2 2013-02-01   \n",
       "240 2013-01-15 2015-02-15        2013            2 2013-02-01   \n",
       "241 2013-01-15 2015-02-15        2013            2 2013-02-01   \n",
       "242 2013-01-15 2015-02-15        2013            2 2013-02-01   \n",
       "243 2013-01-15 2015-02-15        2013            2 2013-02-01   \n",
       "\n",
       "       months_between  \n",
       "0    <25 * MonthEnds>  \n",
       "1    <25 * MonthEnds>  \n",
       "2    <25 * MonthEnds>  \n",
       "3    <25 * MonthEnds>  \n",
       "4    <25 * MonthEnds>  \n",
       "..                ...  \n",
       "239  <25 * MonthEnds>  \n",
       "240  <25 * MonthEnds>  \n",
       "241  <25 * MonthEnds>  \n",
       "242  <25 * MonthEnds>  \n",
       "243  <25 * MonthEnds>  \n",
       "\n",
       "[244 rows x 6 columns]"
      ]
     },
     "execution_count": 11,
     "metadata": {},
     "output_type": "execute_result"
    }
   ],
   "source": [
    "tips[\"date1\"] = pd.Timestamp(\"2013-01-15\")\n",
    "tips[\"date2\"] = pd.Timestamp(\"2015-02-15\")\n",
    "tips[\"date1_year\"] = tips[\"date1\"].dt.year\n",
    "tips[\"date2_month\"] = tips[\"date2\"].dt.month\n",
    "tips[\"date1_next\"] = tips[\"date1\"] + pd.offsets.MonthBegin()\n",
    "tips[\"months_between\"] = tips[\"date2\"].dt.to_period(\"M\") - tips[\n",
    "    \"date1\"\n",
    "].dt.to_period(\"M\")\n",
    "\n",
    "tips[\n",
    "    [\"date1\", \"date2\", \"date1_year\", \"date2_month\", \"date1_next\", \"months_between\"]\n",
    "]"
   ]
  },
  {
   "cell_type": "code",
   "execution_count": 13,
   "id": "62183b2f",
   "metadata": {},
   "outputs": [],
   "source": [
    "# cleanup\n",
    "tips = tips.drop([\"date1\", \"date2\", \"date1_year\", \"date2_month\", \"date1_next\", \"months_between\"],\n",
    "axis=1,\n",
    ")\n"
   ]
  },
  {
   "cell_type": "markdown",
   "id": "bd95cf95",
   "metadata": {},
   "source": [
    "### Selection of columns\n",
    "\n",
    "Stata provides keywords to select, drop, and rename columns."
   ]
  },
  {
   "cell_type": "markdown",
   "id": "b9a4f00d",
   "metadata": {
    "hide-output": false
   },
   "source": [
    "```stata\n",
    "keep sex total_bill tip\n",
    "\n",
    "drop sex\n",
    "\n",
    "rename total_bill total_bill_2\n",
    "```\n"
   ]
  },
  {
   "cell_type": "markdown",
   "id": "09bcb3f4",
   "metadata": {},
   "source": [
    "The same operations are expressed in pandas below."
   ]
  },
  {
   "cell_type": "markdown",
   "id": "b9e640fa",
   "metadata": {},
   "source": [
    "#### Keep certain columns"
   ]
  },
  {
   "cell_type": "code",
   "execution_count": 14,
   "id": "62a7bc74",
   "metadata": {
    "hide-output": false
   },
   "outputs": [
    {
     "data": {
      "text/html": [
       "<div>\n",
       "<style scoped>\n",
       "    .dataframe tbody tr th:only-of-type {\n",
       "        vertical-align: middle;\n",
       "    }\n",
       "\n",
       "    .dataframe tbody tr th {\n",
       "        vertical-align: top;\n",
       "    }\n",
       "\n",
       "    .dataframe thead th {\n",
       "        text-align: right;\n",
       "    }\n",
       "</style>\n",
       "<table border=\"1\" class=\"dataframe\">\n",
       "  <thead>\n",
       "    <tr style=\"text-align: right;\">\n",
       "      <th></th>\n",
       "      <th>sex</th>\n",
       "      <th>total_bill</th>\n",
       "      <th>tip</th>\n",
       "    </tr>\n",
       "  </thead>\n",
       "  <tbody>\n",
       "    <tr>\n",
       "      <th>0</th>\n",
       "      <td>Female</td>\n",
       "      <td>14.99</td>\n",
       "      <td>1.01</td>\n",
       "    </tr>\n",
       "    <tr>\n",
       "      <th>1</th>\n",
       "      <td>Male</td>\n",
       "      <td>8.34</td>\n",
       "      <td>1.66</td>\n",
       "    </tr>\n",
       "    <tr>\n",
       "      <th>2</th>\n",
       "      <td>Male</td>\n",
       "      <td>19.01</td>\n",
       "      <td>3.50</td>\n",
       "    </tr>\n",
       "    <tr>\n",
       "      <th>3</th>\n",
       "      <td>Male</td>\n",
       "      <td>21.68</td>\n",
       "      <td>3.31</td>\n",
       "    </tr>\n",
       "    <tr>\n",
       "      <th>4</th>\n",
       "      <td>Female</td>\n",
       "      <td>22.59</td>\n",
       "      <td>3.61</td>\n",
       "    </tr>\n",
       "    <tr>\n",
       "      <th>...</th>\n",
       "      <td>...</td>\n",
       "      <td>...</td>\n",
       "      <td>...</td>\n",
       "    </tr>\n",
       "    <tr>\n",
       "      <th>239</th>\n",
       "      <td>Male</td>\n",
       "      <td>27.03</td>\n",
       "      <td>5.92</td>\n",
       "    </tr>\n",
       "    <tr>\n",
       "      <th>240</th>\n",
       "      <td>Female</td>\n",
       "      <td>25.18</td>\n",
       "      <td>2.00</td>\n",
       "    </tr>\n",
       "    <tr>\n",
       "      <th>241</th>\n",
       "      <td>Male</td>\n",
       "      <td>20.67</td>\n",
       "      <td>2.00</td>\n",
       "    </tr>\n",
       "    <tr>\n",
       "      <th>242</th>\n",
       "      <td>Male</td>\n",
       "      <td>15.82</td>\n",
       "      <td>1.75</td>\n",
       "    </tr>\n",
       "    <tr>\n",
       "      <th>243</th>\n",
       "      <td>Female</td>\n",
       "      <td>16.78</td>\n",
       "      <td>3.00</td>\n",
       "    </tr>\n",
       "  </tbody>\n",
       "</table>\n",
       "<p>244 rows × 3 columns</p>\n",
       "</div>"
      ],
      "text/plain": [
       "        sex  total_bill   tip\n",
       "0    Female       14.99  1.01\n",
       "1      Male        8.34  1.66\n",
       "2      Male       19.01  3.50\n",
       "3      Male       21.68  3.31\n",
       "4    Female       22.59  3.61\n",
       "..      ...         ...   ...\n",
       "239    Male       27.03  5.92\n",
       "240  Female       25.18  2.00\n",
       "241    Male       20.67  2.00\n",
       "242    Male       15.82  1.75\n",
       "243  Female       16.78  3.00\n",
       "\n",
       "[244 rows x 3 columns]"
      ]
     },
     "execution_count": 14,
     "metadata": {},
     "output_type": "execute_result"
    }
   ],
   "source": [
    "tips[[\"sex\", \"total_bill\", \"tip\"]]"
   ]
  },
  {
   "cell_type": "markdown",
   "id": "60d9c3bb",
   "metadata": {},
   "source": [
    "#### Drop a column"
   ]
  },
  {
   "cell_type": "code",
   "execution_count": 15,
   "id": "eb215036",
   "metadata": {
    "hide-output": false
   },
   "outputs": [
    {
     "data": {
      "text/html": [
       "<div>\n",
       "<style scoped>\n",
       "    .dataframe tbody tr th:only-of-type {\n",
       "        vertical-align: middle;\n",
       "    }\n",
       "\n",
       "    .dataframe tbody tr th {\n",
       "        vertical-align: top;\n",
       "    }\n",
       "\n",
       "    .dataframe thead th {\n",
       "        text-align: right;\n",
       "    }\n",
       "</style>\n",
       "<table border=\"1\" class=\"dataframe\">\n",
       "  <thead>\n",
       "    <tr style=\"text-align: right;\">\n",
       "      <th></th>\n",
       "      <th>total_bill</th>\n",
       "      <th>tip</th>\n",
       "      <th>smoker</th>\n",
       "      <th>day</th>\n",
       "      <th>time</th>\n",
       "      <th>size</th>\n",
       "      <th>bucket</th>\n",
       "    </tr>\n",
       "  </thead>\n",
       "  <tbody>\n",
       "    <tr>\n",
       "      <th>0</th>\n",
       "      <td>14.99</td>\n",
       "      <td>1.01</td>\n",
       "      <td>No</td>\n",
       "      <td>Sun</td>\n",
       "      <td>Dinner</td>\n",
       "      <td>2</td>\n",
       "      <td>high</td>\n",
       "    </tr>\n",
       "    <tr>\n",
       "      <th>1</th>\n",
       "      <td>8.34</td>\n",
       "      <td>1.66</td>\n",
       "      <td>No</td>\n",
       "      <td>Sun</td>\n",
       "      <td>Dinner</td>\n",
       "      <td>3</td>\n",
       "      <td>low</td>\n",
       "    </tr>\n",
       "    <tr>\n",
       "      <th>2</th>\n",
       "      <td>19.01</td>\n",
       "      <td>3.50</td>\n",
       "      <td>No</td>\n",
       "      <td>Sun</td>\n",
       "      <td>Dinner</td>\n",
       "      <td>3</td>\n",
       "      <td>high</td>\n",
       "    </tr>\n",
       "    <tr>\n",
       "      <th>3</th>\n",
       "      <td>21.68</td>\n",
       "      <td>3.31</td>\n",
       "      <td>No</td>\n",
       "      <td>Sun</td>\n",
       "      <td>Dinner</td>\n",
       "      <td>2</td>\n",
       "      <td>high</td>\n",
       "    </tr>\n",
       "    <tr>\n",
       "      <th>4</th>\n",
       "      <td>22.59</td>\n",
       "      <td>3.61</td>\n",
       "      <td>No</td>\n",
       "      <td>Sun</td>\n",
       "      <td>Dinner</td>\n",
       "      <td>4</td>\n",
       "      <td>high</td>\n",
       "    </tr>\n",
       "    <tr>\n",
       "      <th>...</th>\n",
       "      <td>...</td>\n",
       "      <td>...</td>\n",
       "      <td>...</td>\n",
       "      <td>...</td>\n",
       "      <td>...</td>\n",
       "      <td>...</td>\n",
       "      <td>...</td>\n",
       "    </tr>\n",
       "    <tr>\n",
       "      <th>239</th>\n",
       "      <td>27.03</td>\n",
       "      <td>5.92</td>\n",
       "      <td>No</td>\n",
       "      <td>Sat</td>\n",
       "      <td>Dinner</td>\n",
       "      <td>3</td>\n",
       "      <td>high</td>\n",
       "    </tr>\n",
       "    <tr>\n",
       "      <th>240</th>\n",
       "      <td>25.18</td>\n",
       "      <td>2.00</td>\n",
       "      <td>Yes</td>\n",
       "      <td>Sat</td>\n",
       "      <td>Dinner</td>\n",
       "      <td>2</td>\n",
       "      <td>high</td>\n",
       "    </tr>\n",
       "    <tr>\n",
       "      <th>241</th>\n",
       "      <td>20.67</td>\n",
       "      <td>2.00</td>\n",
       "      <td>Yes</td>\n",
       "      <td>Sat</td>\n",
       "      <td>Dinner</td>\n",
       "      <td>2</td>\n",
       "      <td>high</td>\n",
       "    </tr>\n",
       "    <tr>\n",
       "      <th>242</th>\n",
       "      <td>15.82</td>\n",
       "      <td>1.75</td>\n",
       "      <td>No</td>\n",
       "      <td>Sat</td>\n",
       "      <td>Dinner</td>\n",
       "      <td>2</td>\n",
       "      <td>high</td>\n",
       "    </tr>\n",
       "    <tr>\n",
       "      <th>243</th>\n",
       "      <td>16.78</td>\n",
       "      <td>3.00</td>\n",
       "      <td>No</td>\n",
       "      <td>Thur</td>\n",
       "      <td>Dinner</td>\n",
       "      <td>2</td>\n",
       "      <td>high</td>\n",
       "    </tr>\n",
       "  </tbody>\n",
       "</table>\n",
       "<p>244 rows × 7 columns</p>\n",
       "</div>"
      ],
      "text/plain": [
       "     total_bill   tip smoker   day    time  size bucket\n",
       "0         14.99  1.01     No   Sun  Dinner     2   high\n",
       "1          8.34  1.66     No   Sun  Dinner     3    low\n",
       "2         19.01  3.50     No   Sun  Dinner     3   high\n",
       "3         21.68  3.31     No   Sun  Dinner     2   high\n",
       "4         22.59  3.61     No   Sun  Dinner     4   high\n",
       "..          ...   ...    ...   ...     ...   ...    ...\n",
       "239       27.03  5.92     No   Sat  Dinner     3   high\n",
       "240       25.18  2.00    Yes   Sat  Dinner     2   high\n",
       "241       20.67  2.00    Yes   Sat  Dinner     2   high\n",
       "242       15.82  1.75     No   Sat  Dinner     2   high\n",
       "243       16.78  3.00     No  Thur  Dinner     2   high\n",
       "\n",
       "[244 rows x 7 columns]"
      ]
     },
     "execution_count": 15,
     "metadata": {},
     "output_type": "execute_result"
    }
   ],
   "source": [
    "tips.drop(\"sex\", axis=1)"
   ]
  },
  {
   "cell_type": "markdown",
   "id": "2731f9d1",
   "metadata": {},
   "source": [
    "#### Rename a column"
   ]
  },
  {
   "cell_type": "code",
   "execution_count": 16,
   "id": "4bfd989f",
   "metadata": {
    "hide-output": false
   },
   "outputs": [
    {
     "data": {
      "text/html": [
       "<div>\n",
       "<style scoped>\n",
       "    .dataframe tbody tr th:only-of-type {\n",
       "        vertical-align: middle;\n",
       "    }\n",
       "\n",
       "    .dataframe tbody tr th {\n",
       "        vertical-align: top;\n",
       "    }\n",
       "\n",
       "    .dataframe thead th {\n",
       "        text-align: right;\n",
       "    }\n",
       "</style>\n",
       "<table border=\"1\" class=\"dataframe\">\n",
       "  <thead>\n",
       "    <tr style=\"text-align: right;\">\n",
       "      <th></th>\n",
       "      <th>total_bill_2</th>\n",
       "      <th>tip</th>\n",
       "      <th>sex</th>\n",
       "      <th>smoker</th>\n",
       "      <th>day</th>\n",
       "      <th>time</th>\n",
       "      <th>size</th>\n",
       "      <th>bucket</th>\n",
       "    </tr>\n",
       "  </thead>\n",
       "  <tbody>\n",
       "    <tr>\n",
       "      <th>0</th>\n",
       "      <td>14.99</td>\n",
       "      <td>1.01</td>\n",
       "      <td>Female</td>\n",
       "      <td>No</td>\n",
       "      <td>Sun</td>\n",
       "      <td>Dinner</td>\n",
       "      <td>2</td>\n",
       "      <td>high</td>\n",
       "    </tr>\n",
       "    <tr>\n",
       "      <th>1</th>\n",
       "      <td>8.34</td>\n",
       "      <td>1.66</td>\n",
       "      <td>Male</td>\n",
       "      <td>No</td>\n",
       "      <td>Sun</td>\n",
       "      <td>Dinner</td>\n",
       "      <td>3</td>\n",
       "      <td>low</td>\n",
       "    </tr>\n",
       "    <tr>\n",
       "      <th>2</th>\n",
       "      <td>19.01</td>\n",
       "      <td>3.50</td>\n",
       "      <td>Male</td>\n",
       "      <td>No</td>\n",
       "      <td>Sun</td>\n",
       "      <td>Dinner</td>\n",
       "      <td>3</td>\n",
       "      <td>high</td>\n",
       "    </tr>\n",
       "    <tr>\n",
       "      <th>3</th>\n",
       "      <td>21.68</td>\n",
       "      <td>3.31</td>\n",
       "      <td>Male</td>\n",
       "      <td>No</td>\n",
       "      <td>Sun</td>\n",
       "      <td>Dinner</td>\n",
       "      <td>2</td>\n",
       "      <td>high</td>\n",
       "    </tr>\n",
       "    <tr>\n",
       "      <th>4</th>\n",
       "      <td>22.59</td>\n",
       "      <td>3.61</td>\n",
       "      <td>Female</td>\n",
       "      <td>No</td>\n",
       "      <td>Sun</td>\n",
       "      <td>Dinner</td>\n",
       "      <td>4</td>\n",
       "      <td>high</td>\n",
       "    </tr>\n",
       "    <tr>\n",
       "      <th>...</th>\n",
       "      <td>...</td>\n",
       "      <td>...</td>\n",
       "      <td>...</td>\n",
       "      <td>...</td>\n",
       "      <td>...</td>\n",
       "      <td>...</td>\n",
       "      <td>...</td>\n",
       "      <td>...</td>\n",
       "    </tr>\n",
       "    <tr>\n",
       "      <th>239</th>\n",
       "      <td>27.03</td>\n",
       "      <td>5.92</td>\n",
       "      <td>Male</td>\n",
       "      <td>No</td>\n",
       "      <td>Sat</td>\n",
       "      <td>Dinner</td>\n",
       "      <td>3</td>\n",
       "      <td>high</td>\n",
       "    </tr>\n",
       "    <tr>\n",
       "      <th>240</th>\n",
       "      <td>25.18</td>\n",
       "      <td>2.00</td>\n",
       "      <td>Female</td>\n",
       "      <td>Yes</td>\n",
       "      <td>Sat</td>\n",
       "      <td>Dinner</td>\n",
       "      <td>2</td>\n",
       "      <td>high</td>\n",
       "    </tr>\n",
       "    <tr>\n",
       "      <th>241</th>\n",
       "      <td>20.67</td>\n",
       "      <td>2.00</td>\n",
       "      <td>Male</td>\n",
       "      <td>Yes</td>\n",
       "      <td>Sat</td>\n",
       "      <td>Dinner</td>\n",
       "      <td>2</td>\n",
       "      <td>high</td>\n",
       "    </tr>\n",
       "    <tr>\n",
       "      <th>242</th>\n",
       "      <td>15.82</td>\n",
       "      <td>1.75</td>\n",
       "      <td>Male</td>\n",
       "      <td>No</td>\n",
       "      <td>Sat</td>\n",
       "      <td>Dinner</td>\n",
       "      <td>2</td>\n",
       "      <td>high</td>\n",
       "    </tr>\n",
       "    <tr>\n",
       "      <th>243</th>\n",
       "      <td>16.78</td>\n",
       "      <td>3.00</td>\n",
       "      <td>Female</td>\n",
       "      <td>No</td>\n",
       "      <td>Thur</td>\n",
       "      <td>Dinner</td>\n",
       "      <td>2</td>\n",
       "      <td>high</td>\n",
       "    </tr>\n",
       "  </tbody>\n",
       "</table>\n",
       "<p>244 rows × 8 columns</p>\n",
       "</div>"
      ],
      "text/plain": [
       "     total_bill_2   tip     sex smoker   day    time  size bucket\n",
       "0           14.99  1.01  Female     No   Sun  Dinner     2   high\n",
       "1            8.34  1.66    Male     No   Sun  Dinner     3    low\n",
       "2           19.01  3.50    Male     No   Sun  Dinner     3   high\n",
       "3           21.68  3.31    Male     No   Sun  Dinner     2   high\n",
       "4           22.59  3.61  Female     No   Sun  Dinner     4   high\n",
       "..            ...   ...     ...    ...   ...     ...   ...    ...\n",
       "239         27.03  5.92    Male     No   Sat  Dinner     3   high\n",
       "240         25.18  2.00  Female    Yes   Sat  Dinner     2   high\n",
       "241         20.67  2.00    Male    Yes   Sat  Dinner     2   high\n",
       "242         15.82  1.75    Male     No   Sat  Dinner     2   high\n",
       "243         16.78  3.00  Female     No  Thur  Dinner     2   high\n",
       "\n",
       "[244 rows x 8 columns]"
      ]
     },
     "execution_count": 16,
     "metadata": {},
     "output_type": "execute_result"
    }
   ],
   "source": [
    "tips.rename(columns={\"total_bill\": \"total_bill_2\"})"
   ]
  },
  {
   "cell_type": "markdown",
   "id": "1dcd543a",
   "metadata": {},
   "source": [
    "### Sorting by values\n",
    "\n",
    "Sorting in Stata is accomplished via `sort`"
   ]
  },
  {
   "cell_type": "markdown",
   "id": "6f01a471",
   "metadata": {
    "hide-output": false
   },
   "source": [
    "```stata\n",
    "sort sex total_bill\n",
    "```\n"
   ]
  },
  {
   "cell_type": "markdown",
   "id": "e30fc825",
   "metadata": {},
   "source": [
    "pandas has a `DataFrame.sort_values()` method, which takes a list of columns to sort by."
   ]
  },
  {
   "cell_type": "code",
   "execution_count": 17,
   "id": "1f086139",
   "metadata": {
    "hide-output": false
   },
   "outputs": [
    {
     "data": {
      "text/html": [
       "<div>\n",
       "<style scoped>\n",
       "    .dataframe tbody tr th:only-of-type {\n",
       "        vertical-align: middle;\n",
       "    }\n",
       "\n",
       "    .dataframe tbody tr th {\n",
       "        vertical-align: top;\n",
       "    }\n",
       "\n",
       "    .dataframe thead th {\n",
       "        text-align: right;\n",
       "    }\n",
       "</style>\n",
       "<table border=\"1\" class=\"dataframe\">\n",
       "  <thead>\n",
       "    <tr style=\"text-align: right;\">\n",
       "      <th></th>\n",
       "      <th>total_bill</th>\n",
       "      <th>tip</th>\n",
       "      <th>sex</th>\n",
       "      <th>smoker</th>\n",
       "      <th>day</th>\n",
       "      <th>time</th>\n",
       "      <th>size</th>\n",
       "      <th>bucket</th>\n",
       "    </tr>\n",
       "  </thead>\n",
       "  <tbody>\n",
       "    <tr>\n",
       "      <th>67</th>\n",
       "      <td>1.07</td>\n",
       "      <td>1.00</td>\n",
       "      <td>Female</td>\n",
       "      <td>Yes</td>\n",
       "      <td>Sat</td>\n",
       "      <td>Dinner</td>\n",
       "      <td>1</td>\n",
       "      <td>low</td>\n",
       "    </tr>\n",
       "    <tr>\n",
       "      <th>92</th>\n",
       "      <td>3.75</td>\n",
       "      <td>1.00</td>\n",
       "      <td>Female</td>\n",
       "      <td>Yes</td>\n",
       "      <td>Fri</td>\n",
       "      <td>Dinner</td>\n",
       "      <td>2</td>\n",
       "      <td>low</td>\n",
       "    </tr>\n",
       "    <tr>\n",
       "      <th>111</th>\n",
       "      <td>5.25</td>\n",
       "      <td>1.00</td>\n",
       "      <td>Female</td>\n",
       "      <td>No</td>\n",
       "      <td>Sat</td>\n",
       "      <td>Dinner</td>\n",
       "      <td>1</td>\n",
       "      <td>low</td>\n",
       "    </tr>\n",
       "    <tr>\n",
       "      <th>145</th>\n",
       "      <td>6.35</td>\n",
       "      <td>1.50</td>\n",
       "      <td>Female</td>\n",
       "      <td>No</td>\n",
       "      <td>Thur</td>\n",
       "      <td>Lunch</td>\n",
       "      <td>2</td>\n",
       "      <td>low</td>\n",
       "    </tr>\n",
       "    <tr>\n",
       "      <th>135</th>\n",
       "      <td>6.51</td>\n",
       "      <td>1.25</td>\n",
       "      <td>Female</td>\n",
       "      <td>No</td>\n",
       "      <td>Thur</td>\n",
       "      <td>Lunch</td>\n",
       "      <td>2</td>\n",
       "      <td>low</td>\n",
       "    </tr>\n",
       "    <tr>\n",
       "      <th>...</th>\n",
       "      <td>...</td>\n",
       "      <td>...</td>\n",
       "      <td>...</td>\n",
       "      <td>...</td>\n",
       "      <td>...</td>\n",
       "      <td>...</td>\n",
       "      <td>...</td>\n",
       "      <td>...</td>\n",
       "    </tr>\n",
       "    <tr>\n",
       "      <th>182</th>\n",
       "      <td>43.35</td>\n",
       "      <td>3.50</td>\n",
       "      <td>Male</td>\n",
       "      <td>Yes</td>\n",
       "      <td>Sun</td>\n",
       "      <td>Dinner</td>\n",
       "      <td>3</td>\n",
       "      <td>high</td>\n",
       "    </tr>\n",
       "    <tr>\n",
       "      <th>156</th>\n",
       "      <td>46.17</td>\n",
       "      <td>5.00</td>\n",
       "      <td>Male</td>\n",
       "      <td>No</td>\n",
       "      <td>Sun</td>\n",
       "      <td>Dinner</td>\n",
       "      <td>6</td>\n",
       "      <td>high</td>\n",
       "    </tr>\n",
       "    <tr>\n",
       "      <th>59</th>\n",
       "      <td>46.27</td>\n",
       "      <td>6.73</td>\n",
       "      <td>Male</td>\n",
       "      <td>No</td>\n",
       "      <td>Sat</td>\n",
       "      <td>Dinner</td>\n",
       "      <td>4</td>\n",
       "      <td>high</td>\n",
       "    </tr>\n",
       "    <tr>\n",
       "      <th>212</th>\n",
       "      <td>46.33</td>\n",
       "      <td>9.00</td>\n",
       "      <td>Male</td>\n",
       "      <td>No</td>\n",
       "      <td>Sat</td>\n",
       "      <td>Dinner</td>\n",
       "      <td>4</td>\n",
       "      <td>high</td>\n",
       "    </tr>\n",
       "    <tr>\n",
       "      <th>170</th>\n",
       "      <td>48.81</td>\n",
       "      <td>10.00</td>\n",
       "      <td>Male</td>\n",
       "      <td>Yes</td>\n",
       "      <td>Sat</td>\n",
       "      <td>Dinner</td>\n",
       "      <td>3</td>\n",
       "      <td>high</td>\n",
       "    </tr>\n",
       "  </tbody>\n",
       "</table>\n",
       "<p>244 rows × 8 columns</p>\n",
       "</div>"
      ],
      "text/plain": [
       "     total_bill    tip     sex smoker   day    time  size bucket\n",
       "67         1.07   1.00  Female    Yes   Sat  Dinner     1    low\n",
       "92         3.75   1.00  Female    Yes   Fri  Dinner     2    low\n",
       "111        5.25   1.00  Female     No   Sat  Dinner     1    low\n",
       "145        6.35   1.50  Female     No  Thur   Lunch     2    low\n",
       "135        6.51   1.25  Female     No  Thur   Lunch     2    low\n",
       "..          ...    ...     ...    ...   ...     ...   ...    ...\n",
       "182       43.35   3.50    Male    Yes   Sun  Dinner     3   high\n",
       "156       46.17   5.00    Male     No   Sun  Dinner     6   high\n",
       "59        46.27   6.73    Male     No   Sat  Dinner     4   high\n",
       "212       46.33   9.00    Male     No   Sat  Dinner     4   high\n",
       "170       48.81  10.00    Male    Yes   Sat  Dinner     3   high\n",
       "\n",
       "[244 rows x 8 columns]"
      ]
     },
     "execution_count": 17,
     "metadata": {},
     "output_type": "execute_result"
    }
   ],
   "source": [
    "tips = tips.sort_values([\"sex\", \"total_bill\"])\n",
    "tips"
   ]
  },
  {
   "cell_type": "markdown",
   "id": "4deabf3a",
   "metadata": {},
   "source": [
    "## String processing"
   ]
  },
  {
   "cell_type": "markdown",
   "id": "6b77fa1a",
   "metadata": {},
   "source": [
    "### Finding length of string\n",
    "\n",
    "Stata determines the length of a character string with the `strlen()` and\n",
    "`ustrlen()` functions for ASCII and Unicode strings, respectively."
   ]
  },
  {
   "cell_type": "markdown",
   "id": "a73413b5",
   "metadata": {
    "hide-output": false
   },
   "source": [
    "```stata\n",
    "generate strlen_time = strlen(time)\n",
    "generate ustrlen_time = ustrlen(time)\n",
    "```\n"
   ]
  },
  {
   "cell_type": "markdown",
   "id": "a7e6d7f4",
   "metadata": {},
   "source": [
    "You can find the length of a character string with `Series.str.len()`.\n",
    "In Python 3, all strings are Unicode strings. `len` includes trailing blanks.\n",
    "Use `len` and `rstrip` to exclude trailing blanks."
   ]
  },
  {
   "cell_type": "code",
   "execution_count": 18,
   "id": "cd4a3bec",
   "metadata": {
    "hide-output": false
   },
   "outputs": [
    {
     "data": {
      "text/plain": [
       "67     6\n",
       "92     6\n",
       "111    6\n",
       "145    5\n",
       "135    5\n",
       "      ..\n",
       "182    6\n",
       "156    6\n",
       "59     6\n",
       "212    6\n",
       "170    6\n",
       "Name: time, Length: 244, dtype: int64"
      ]
     },
     "execution_count": 18,
     "metadata": {},
     "output_type": "execute_result"
    }
   ],
   "source": [
    "tips[\"time\"].str.len()\n",
    "tips[\"time\"].str.rstrip().str.len()"
   ]
  },
  {
   "cell_type": "markdown",
   "id": "ad208b42",
   "metadata": {},
   "source": [
    "### Finding position of substring\n",
    "\n",
    "Stata determines the position of a character in a string with the `strpos()` function.\n",
    "This takes the string defined by the first argument and searches for the\n",
    "first position of the substring you supply as the second argument."
   ]
  },
  {
   "cell_type": "markdown",
   "id": "7823ff8f",
   "metadata": {
    "hide-output": false
   },
   "source": [
    "```stata\n",
    "generate str_position = strpos(sex, \"ale\")\n",
    "```\n"
   ]
  },
  {
   "cell_type": "markdown",
   "id": "eb73cc45",
   "metadata": {},
   "source": [
    "You can find the position of a character in a column of strings with the `Series.str.find()`\n",
    "method. `find` searches for the first position of the substring. If the substring is found, the\n",
    "method returns its position. If not found, it returns `-1`. Keep in mind that Python indexes are\n",
    "zero-based."
   ]
  },
  {
   "cell_type": "code",
   "execution_count": 19,
   "id": "db1debc3",
   "metadata": {
    "hide-output": false
   },
   "outputs": [
    {
     "data": {
      "text/plain": [
       "67     3\n",
       "92     3\n",
       "111    3\n",
       "145    3\n",
       "135    3\n",
       "      ..\n",
       "182    1\n",
       "156    1\n",
       "59     1\n",
       "212    1\n",
       "170    1\n",
       "Name: sex, Length: 244, dtype: int64"
      ]
     },
     "execution_count": 19,
     "metadata": {},
     "output_type": "execute_result"
    }
   ],
   "source": [
    "tips[\"sex\"].str.find(\"ale\")"
   ]
  },
  {
   "cell_type": "markdown",
   "id": "bc4052bb",
   "metadata": {},
   "source": [
    "### Extracting substring by position\n",
    "\n",
    "Stata extracts a substring from a string based on its position with the `substr()` function."
   ]
  },
  {
   "cell_type": "markdown",
   "id": "96792043",
   "metadata": {
    "hide-output": false
   },
   "source": [
    "```stata\n",
    "generate short_sex = substr(sex, 1, 1)\n",
    "```\n"
   ]
  },
  {
   "cell_type": "markdown",
   "id": "4e18465a",
   "metadata": {},
   "source": [
    "With pandas you can use `[]` notation to extract a substring\n",
    "from a string by position locations. Keep in mind that Python\n",
    "indexes are zero-based."
   ]
  },
  {
   "cell_type": "code",
   "execution_count": 20,
   "id": "012fb2a0",
   "metadata": {
    "hide-output": false
   },
   "outputs": [
    {
     "data": {
      "text/plain": [
       "67     F\n",
       "92     F\n",
       "111    F\n",
       "145    F\n",
       "135    F\n",
       "      ..\n",
       "182    M\n",
       "156    M\n",
       "59     M\n",
       "212    M\n",
       "170    M\n",
       "Name: sex, Length: 244, dtype: object"
      ]
     },
     "execution_count": 20,
     "metadata": {},
     "output_type": "execute_result"
    }
   ],
   "source": [
    "tips[\"sex\"].str[0:1]"
   ]
  },
  {
   "cell_type": "markdown",
   "id": "ac775d85",
   "metadata": {},
   "source": [
    "### Extracting nth word\n",
    "\n",
    "The Stata `word()` function returns the nth word from a string.\n",
    "The first argument is the string you want to parse and the\n",
    "second argument specifies which word you want to extract."
   ]
  },
  {
   "cell_type": "markdown",
   "id": "9d36b6a0",
   "metadata": {
    "hide-output": false
   },
   "source": [
    "```stata\n",
    "clear\n",
    "input str20 string\n",
    "\"John Smith\"\n",
    "\"Jane Cook\"\n",
    "end\n",
    "\n",
    "generate first_name = word(name, 1)\n",
    "generate last_name = word(name, -1)\n",
    "```\n"
   ]
  },
  {
   "cell_type": "markdown",
   "id": "f4ed26bd",
   "metadata": {},
   "source": [
    "The simplest way to extract words in pandas is to split the strings by spaces, then reference the\n",
    "word by index. Note there are more powerful approaches should you need them."
   ]
  },
  {
   "cell_type": "code",
   "execution_count": 21,
   "id": "acd5f085",
   "metadata": {
    "hide-output": false
   },
   "outputs": [
    {
     "data": {
      "text/html": [
       "<div>\n",
       "<style scoped>\n",
       "    .dataframe tbody tr th:only-of-type {\n",
       "        vertical-align: middle;\n",
       "    }\n",
       "\n",
       "    .dataframe tbody tr th {\n",
       "        vertical-align: top;\n",
       "    }\n",
       "\n",
       "    .dataframe thead th {\n",
       "        text-align: right;\n",
       "    }\n",
       "</style>\n",
       "<table border=\"1\" class=\"dataframe\">\n",
       "  <thead>\n",
       "    <tr style=\"text-align: right;\">\n",
       "      <th></th>\n",
       "      <th>String</th>\n",
       "      <th>First_Name</th>\n",
       "      <th>Last_Name</th>\n",
       "    </tr>\n",
       "  </thead>\n",
       "  <tbody>\n",
       "    <tr>\n",
       "      <th>0</th>\n",
       "      <td>John Smith</td>\n",
       "      <td>John</td>\n",
       "      <td>John</td>\n",
       "    </tr>\n",
       "    <tr>\n",
       "      <th>1</th>\n",
       "      <td>Jane Cook</td>\n",
       "      <td>Jane</td>\n",
       "      <td>Jane</td>\n",
       "    </tr>\n",
       "  </tbody>\n",
       "</table>\n",
       "</div>"
      ],
      "text/plain": [
       "       String First_Name Last_Name\n",
       "0  John Smith       John      John\n",
       "1   Jane Cook       Jane      Jane"
      ]
     },
     "execution_count": 21,
     "metadata": {},
     "output_type": "execute_result"
    }
   ],
   "source": [
    "firstlast = pd.DataFrame({\"String\": [\"John Smith\", \"Jane Cook\"]})\n",
    "firstlast[\"First_Name\"] = firstlast[\"String\"].str.split(\" \", expand=True)[0]\n",
    "firstlast[\"Last_Name\"] = firstlast[\"String\"].str.rsplit(\" \", expand=True)[0]\n",
    "firstlast"
   ]
  },
  {
   "cell_type": "markdown",
   "id": "26c5db37",
   "metadata": {},
   "source": [
    "### Changing case\n",
    "\n",
    "The Stata `strupper()`, `strlower()`, `strproper()`,\n",
    "`ustrupper()`, `ustrlower()`, and `ustrtitle()` functions\n",
    "change the case of ASCII and Unicode strings, respectively."
   ]
  },
  {
   "cell_type": "markdown",
   "id": "751ecb2a",
   "metadata": {
    "hide-output": false
   },
   "source": [
    "```stata\n",
    "clear\n",
    "input str20 string\n",
    "\"John Smith\"\n",
    "\"Jane Cook\"\n",
    "end\n",
    "\n",
    "generate upper = strupper(string)\n",
    "generate lower = strlower(string)\n",
    "generate title = strproper(string)\n",
    "list\n",
    "```\n"
   ]
  },
  {
   "cell_type": "markdown",
   "id": "f2a2f43c",
   "metadata": {},
   "source": [
    "The equivalent pandas methods are `Series.str.upper()`, `Series.str.lower()`, and\n",
    "`Series.str.title()`."
   ]
  },
  {
   "cell_type": "code",
   "execution_count": 22,
   "id": "1bd98fe9",
   "metadata": {
    "hide-output": false
   },
   "outputs": [
    {
     "data": {
      "text/html": [
       "<div>\n",
       "<style scoped>\n",
       "    .dataframe tbody tr th:only-of-type {\n",
       "        vertical-align: middle;\n",
       "    }\n",
       "\n",
       "    .dataframe tbody tr th {\n",
       "        vertical-align: top;\n",
       "    }\n",
       "\n",
       "    .dataframe thead th {\n",
       "        text-align: right;\n",
       "    }\n",
       "</style>\n",
       "<table border=\"1\" class=\"dataframe\">\n",
       "  <thead>\n",
       "    <tr style=\"text-align: right;\">\n",
       "      <th></th>\n",
       "      <th>string</th>\n",
       "      <th>upper</th>\n",
       "      <th>lower</th>\n",
       "      <th>title</th>\n",
       "    </tr>\n",
       "  </thead>\n",
       "  <tbody>\n",
       "    <tr>\n",
       "      <th>0</th>\n",
       "      <td>John Smith</td>\n",
       "      <td>JOHN SMITH</td>\n",
       "      <td>john smith</td>\n",
       "      <td>John Smith</td>\n",
       "    </tr>\n",
       "    <tr>\n",
       "      <th>1</th>\n",
       "      <td>Jane Cook</td>\n",
       "      <td>JANE COOK</td>\n",
       "      <td>jane cook</td>\n",
       "      <td>Jane Cook</td>\n",
       "    </tr>\n",
       "  </tbody>\n",
       "</table>\n",
       "</div>"
      ],
      "text/plain": [
       "       string       upper       lower       title\n",
       "0  John Smith  JOHN SMITH  john smith  John Smith\n",
       "1   Jane Cook   JANE COOK   jane cook   Jane Cook"
      ]
     },
     "execution_count": 22,
     "metadata": {},
     "output_type": "execute_result"
    }
   ],
   "source": [
    "firstlast = pd.DataFrame({\"string\": [\"John Smith\", \"Jane Cook\"]})\n",
    "firstlast[\"upper\"] = firstlast[\"string\"].str.upper()\n",
    "firstlast[\"lower\"] = firstlast[\"string\"].str.lower()\n",
    "firstlast[\"title\"] = firstlast[\"string\"].str.title()\n",
    "firstlast"
   ]
  },
  {
   "cell_type": "markdown",
   "id": "59e15a6b",
   "metadata": {},
   "source": [
    "## Merging\n",
    "\n",
    "The following tables will be used in the merge examples:"
   ]
  },
  {
   "cell_type": "code",
   "execution_count": 23,
   "id": "370c7e1a",
   "metadata": {
    "hide-output": false
   },
   "outputs": [
    {
     "data": {
      "text/html": [
       "<div>\n",
       "<style scoped>\n",
       "    .dataframe tbody tr th:only-of-type {\n",
       "        vertical-align: middle;\n",
       "    }\n",
       "\n",
       "    .dataframe tbody tr th {\n",
       "        vertical-align: top;\n",
       "    }\n",
       "\n",
       "    .dataframe thead th {\n",
       "        text-align: right;\n",
       "    }\n",
       "</style>\n",
       "<table border=\"1\" class=\"dataframe\">\n",
       "  <thead>\n",
       "    <tr style=\"text-align: right;\">\n",
       "      <th></th>\n",
       "      <th>key</th>\n",
       "      <th>value</th>\n",
       "    </tr>\n",
       "  </thead>\n",
       "  <tbody>\n",
       "    <tr>\n",
       "      <th>0</th>\n",
       "      <td>B</td>\n",
       "      <td>-0.693131</td>\n",
       "    </tr>\n",
       "    <tr>\n",
       "      <th>1</th>\n",
       "      <td>D</td>\n",
       "      <td>1.676520</td>\n",
       "    </tr>\n",
       "    <tr>\n",
       "      <th>2</th>\n",
       "      <td>D</td>\n",
       "      <td>-0.571603</td>\n",
       "    </tr>\n",
       "    <tr>\n",
       "      <th>3</th>\n",
       "      <td>E</td>\n",
       "      <td>1.383426</td>\n",
       "    </tr>\n",
       "  </tbody>\n",
       "</table>\n",
       "</div>"
      ],
      "text/plain": [
       "  key     value\n",
       "0   B -0.693131\n",
       "1   D  1.676520\n",
       "2   D -0.571603\n",
       "3   E  1.383426"
      ]
     },
     "execution_count": 23,
     "metadata": {},
     "output_type": "execute_result"
    }
   ],
   "source": [
    "df1 = pd.DataFrame({\"key\": [\"A\", \"B\", \"C\", \"D\"], \"value\": np.random.randn(4)})\n",
    "df1\n",
    "df2 = pd.DataFrame({\"key\": [\"B\", \"D\", \"D\", \"E\"], \"value\": np.random.randn(4)})\n",
    "df2"
   ]
  },
  {
   "cell_type": "markdown",
   "id": "15bbcdfd",
   "metadata": {},
   "source": [
    "In Stata, to perform a merge, one data set must be in memory\n",
    "and the other must be referenced as a file name on disk. In\n",
    "contrast, Python must have both `DataFrames` already in memory.\n",
    "\n",
    "By default, Stata performs an outer join, where all observations\n",
    "from both data sets are left in memory after the merge. One can\n",
    "keep only observations from the initial data set, the merged data set,\n",
    "or the intersection of the two by using the values created in the\n",
    "`_merge` variable."
   ]
  },
  {
   "cell_type": "markdown",
   "id": "b5570558",
   "metadata": {
    "hide-output": false
   },
   "source": [
    "```stata\n",
    "* First create df2 and save to disk\n",
    "clear\n",
    "input str1 key\n",
    "B\n",
    "D\n",
    "D\n",
    "E\n",
    "end\n",
    "generate value = rnormal()\n",
    "save df2.dta\n",
    "\n",
    "* Now create df1 in memory\n",
    "clear\n",
    "input str1 key\n",
    "A\n",
    "B\n",
    "C\n",
    "D\n",
    "end\n",
    "generate value = rnormal()\n",
    "\n",
    "preserve\n",
    "\n",
    "* Left join\n",
    "merge 1:n key using df2.dta\n",
    "keep if _merge == 1\n",
    "\n",
    "* Right join\n",
    "restore, preserve\n",
    "merge 1:n key using df2.dta\n",
    "keep if _merge == 2\n",
    "\n",
    "* Inner join\n",
    "restore, preserve\n",
    "merge 1:n key using df2.dta\n",
    "keep if _merge == 3\n",
    "\n",
    "* Outer join\n",
    "restore\n",
    "merge 1:n key using df2.dta\n",
    "```\n"
   ]
  },
  {
   "cell_type": "markdown",
   "id": "921e7731",
   "metadata": {},
   "source": [
    "pandas DataFrames have a `merge()` method, which provides similar functionality. The\n",
    "data does not have to be sorted ahead of time, and different join types are accomplished via the\n",
    "`how` keyword."
   ]
  },
  {
   "cell_type": "code",
   "execution_count": 24,
   "id": "e8bdd41f",
   "metadata": {
    "hide-output": false
   },
   "outputs": [
    {
     "data": {
      "text/html": [
       "<div>\n",
       "<style scoped>\n",
       "    .dataframe tbody tr th:only-of-type {\n",
       "        vertical-align: middle;\n",
       "    }\n",
       "\n",
       "    .dataframe tbody tr th {\n",
       "        vertical-align: top;\n",
       "    }\n",
       "\n",
       "    .dataframe thead th {\n",
       "        text-align: right;\n",
       "    }\n",
       "</style>\n",
       "<table border=\"1\" class=\"dataframe\">\n",
       "  <thead>\n",
       "    <tr style=\"text-align: right;\">\n",
       "      <th></th>\n",
       "      <th>key</th>\n",
       "      <th>value_x</th>\n",
       "      <th>value_y</th>\n",
       "    </tr>\n",
       "  </thead>\n",
       "  <tbody>\n",
       "    <tr>\n",
       "      <th>0</th>\n",
       "      <td>A</td>\n",
       "      <td>0.840046</td>\n",
       "      <td>NaN</td>\n",
       "    </tr>\n",
       "    <tr>\n",
       "      <th>1</th>\n",
       "      <td>B</td>\n",
       "      <td>0.465596</td>\n",
       "      <td>-0.693131</td>\n",
       "    </tr>\n",
       "    <tr>\n",
       "      <th>2</th>\n",
       "      <td>C</td>\n",
       "      <td>-2.014986</td>\n",
       "      <td>NaN</td>\n",
       "    </tr>\n",
       "    <tr>\n",
       "      <th>3</th>\n",
       "      <td>D</td>\n",
       "      <td>-1.161376</td>\n",
       "      <td>1.676520</td>\n",
       "    </tr>\n",
       "    <tr>\n",
       "      <th>4</th>\n",
       "      <td>D</td>\n",
       "      <td>-1.161376</td>\n",
       "      <td>-0.571603</td>\n",
       "    </tr>\n",
       "    <tr>\n",
       "      <th>5</th>\n",
       "      <td>E</td>\n",
       "      <td>NaN</td>\n",
       "      <td>1.383426</td>\n",
       "    </tr>\n",
       "  </tbody>\n",
       "</table>\n",
       "</div>"
      ],
      "text/plain": [
       "  key   value_x   value_y\n",
       "0   A  0.840046       NaN\n",
       "1   B  0.465596 -0.693131\n",
       "2   C -2.014986       NaN\n",
       "3   D -1.161376  1.676520\n",
       "4   D -1.161376 -0.571603\n",
       "5   E       NaN  1.383426"
      ]
     },
     "execution_count": 24,
     "metadata": {},
     "output_type": "execute_result"
    }
   ],
   "source": [
    "inner_join = df1.merge(df2, on=[\"key\"], how=\"inner\")\n",
    "inner_join\n",
    "\n",
    "left_join = df1.merge(df2, on=[\"key\"], how=\"left\")\n",
    "left_join\n",
    "\n",
    "right_join = df1.merge(df2, on=[\"key\"], how=\"right\")\n",
    "right_join\n",
    "\n",
    "outer_join = df1.merge(df2, on=[\"key\"], how=\"outer\")\n",
    "outer_join"
   ]
  },
  {
   "cell_type": "markdown",
   "id": "17123121",
   "metadata": {},
   "source": [
    "## Missing data\n",
    "\n",
    "Both pandas and Stata have a representation for missing data.\n",
    "\n",
    "pandas represents missing data with the special float value `NaN` (not a number).  Many of the\n",
    "semantics are the same; for example missing data propagates through numeric operations, and is\n",
    "ignored by default for aggregations."
   ]
  },
  {
   "cell_type": "code",
   "execution_count": 25,
   "id": "e75f7b76",
   "metadata": {
    "hide-output": false
   },
   "outputs": [
    {
     "data": {
      "text/plain": [
       "-3.0320967657192646"
      ]
     },
     "execution_count": 25,
     "metadata": {},
     "output_type": "execute_result"
    }
   ],
   "source": [
    "outer_join\n",
    "outer_join[\"value_x\"] + outer_join[\"value_y\"]\n",
    "outer_join[\"value_x\"].sum()"
   ]
  },
  {
   "cell_type": "markdown",
   "id": "d3bbaa0f",
   "metadata": {},
   "source": [
    "One difference is that missing data cannot be compared to its sentinel value.\n",
    "For example, in Stata you could do this to filter missing values."
   ]
  },
  {
   "cell_type": "markdown",
   "id": "c996a775",
   "metadata": {
    "hide-output": false
   },
   "source": [
    "```stata\n",
    "* Keep missing values\n",
    "list if value_x == .\n",
    "* Keep non-missing values\n",
    "list if value_x != .\n",
    "```\n"
   ]
  },
  {
   "cell_type": "markdown",
   "id": "ff59d9db",
   "metadata": {},
   "source": [
    "In pandas, `Series.isna()` and `Series.notna()` can be used to filter the rows."
   ]
  },
  {
   "cell_type": "code",
   "execution_count": 26,
   "id": "0403e037",
   "metadata": {
    "hide-output": false
   },
   "outputs": [
    {
     "data": {
      "text/html": [
       "<div>\n",
       "<style scoped>\n",
       "    .dataframe tbody tr th:only-of-type {\n",
       "        vertical-align: middle;\n",
       "    }\n",
       "\n",
       "    .dataframe tbody tr th {\n",
       "        vertical-align: top;\n",
       "    }\n",
       "\n",
       "    .dataframe thead th {\n",
       "        text-align: right;\n",
       "    }\n",
       "</style>\n",
       "<table border=\"1\" class=\"dataframe\">\n",
       "  <thead>\n",
       "    <tr style=\"text-align: right;\">\n",
       "      <th></th>\n",
       "      <th>key</th>\n",
       "      <th>value_x</th>\n",
       "      <th>value_y</th>\n",
       "    </tr>\n",
       "  </thead>\n",
       "  <tbody>\n",
       "    <tr>\n",
       "      <th>0</th>\n",
       "      <td>A</td>\n",
       "      <td>0.840046</td>\n",
       "      <td>NaN</td>\n",
       "    </tr>\n",
       "    <tr>\n",
       "      <th>1</th>\n",
       "      <td>B</td>\n",
       "      <td>0.465596</td>\n",
       "      <td>-0.693131</td>\n",
       "    </tr>\n",
       "    <tr>\n",
       "      <th>2</th>\n",
       "      <td>C</td>\n",
       "      <td>-2.014986</td>\n",
       "      <td>NaN</td>\n",
       "    </tr>\n",
       "    <tr>\n",
       "      <th>3</th>\n",
       "      <td>D</td>\n",
       "      <td>-1.161376</td>\n",
       "      <td>1.676520</td>\n",
       "    </tr>\n",
       "    <tr>\n",
       "      <th>4</th>\n",
       "      <td>D</td>\n",
       "      <td>-1.161376</td>\n",
       "      <td>-0.571603</td>\n",
       "    </tr>\n",
       "  </tbody>\n",
       "</table>\n",
       "</div>"
      ],
      "text/plain": [
       "  key   value_x   value_y\n",
       "0   A  0.840046       NaN\n",
       "1   B  0.465596 -0.693131\n",
       "2   C -2.014986       NaN\n",
       "3   D -1.161376  1.676520\n",
       "4   D -1.161376 -0.571603"
      ]
     },
     "execution_count": 26,
     "metadata": {},
     "output_type": "execute_result"
    }
   ],
   "source": [
    "outer_join[outer_join[\"value_x\"].isna()]\n",
    "outer_join[outer_join[\"value_x\"].notna()]"
   ]
  },
  {
   "cell_type": "markdown",
   "id": "ba1acb93",
   "metadata": {},
   "source": [
    "pandas provides a variety of methods to work with missing data. Here are some examples:"
   ]
  },
  {
   "cell_type": "markdown",
   "id": "07432c94",
   "metadata": {},
   "source": [
    "### Drop rows with missing values"
   ]
  },
  {
   "cell_type": "code",
   "execution_count": 27,
   "id": "f372951b",
   "metadata": {
    "hide-output": false
   },
   "outputs": [
    {
     "data": {
      "text/html": [
       "<div>\n",
       "<style scoped>\n",
       "    .dataframe tbody tr th:only-of-type {\n",
       "        vertical-align: middle;\n",
       "    }\n",
       "\n",
       "    .dataframe tbody tr th {\n",
       "        vertical-align: top;\n",
       "    }\n",
       "\n",
       "    .dataframe thead th {\n",
       "        text-align: right;\n",
       "    }\n",
       "</style>\n",
       "<table border=\"1\" class=\"dataframe\">\n",
       "  <thead>\n",
       "    <tr style=\"text-align: right;\">\n",
       "      <th></th>\n",
       "      <th>key</th>\n",
       "      <th>value_x</th>\n",
       "      <th>value_y</th>\n",
       "    </tr>\n",
       "  </thead>\n",
       "  <tbody>\n",
       "    <tr>\n",
       "      <th>1</th>\n",
       "      <td>B</td>\n",
       "      <td>0.465596</td>\n",
       "      <td>-0.693131</td>\n",
       "    </tr>\n",
       "    <tr>\n",
       "      <th>3</th>\n",
       "      <td>D</td>\n",
       "      <td>-1.161376</td>\n",
       "      <td>1.676520</td>\n",
       "    </tr>\n",
       "    <tr>\n",
       "      <th>4</th>\n",
       "      <td>D</td>\n",
       "      <td>-1.161376</td>\n",
       "      <td>-0.571603</td>\n",
       "    </tr>\n",
       "  </tbody>\n",
       "</table>\n",
       "</div>"
      ],
      "text/plain": [
       "  key   value_x   value_y\n",
       "1   B  0.465596 -0.693131\n",
       "3   D -1.161376  1.676520\n",
       "4   D -1.161376 -0.571603"
      ]
     },
     "execution_count": 27,
     "metadata": {},
     "output_type": "execute_result"
    }
   ],
   "source": [
    "outer_join.dropna()"
   ]
  },
  {
   "cell_type": "markdown",
   "id": "b9c88047",
   "metadata": {},
   "source": [
    "### Forward fill from previous rows"
   ]
  },
  {
   "cell_type": "code",
   "execution_count": 28,
   "id": "b2e39202",
   "metadata": {
    "hide-output": false
   },
   "outputs": [
    {
     "data": {
      "text/html": [
       "<div>\n",
       "<style scoped>\n",
       "    .dataframe tbody tr th:only-of-type {\n",
       "        vertical-align: middle;\n",
       "    }\n",
       "\n",
       "    .dataframe tbody tr th {\n",
       "        vertical-align: top;\n",
       "    }\n",
       "\n",
       "    .dataframe thead th {\n",
       "        text-align: right;\n",
       "    }\n",
       "</style>\n",
       "<table border=\"1\" class=\"dataframe\">\n",
       "  <thead>\n",
       "    <tr style=\"text-align: right;\">\n",
       "      <th></th>\n",
       "      <th>key</th>\n",
       "      <th>value_x</th>\n",
       "      <th>value_y</th>\n",
       "    </tr>\n",
       "  </thead>\n",
       "  <tbody>\n",
       "    <tr>\n",
       "      <th>0</th>\n",
       "      <td>A</td>\n",
       "      <td>0.840046</td>\n",
       "      <td>NaN</td>\n",
       "    </tr>\n",
       "    <tr>\n",
       "      <th>1</th>\n",
       "      <td>B</td>\n",
       "      <td>0.465596</td>\n",
       "      <td>-0.693131</td>\n",
       "    </tr>\n",
       "    <tr>\n",
       "      <th>2</th>\n",
       "      <td>C</td>\n",
       "      <td>-2.014986</td>\n",
       "      <td>-0.693131</td>\n",
       "    </tr>\n",
       "    <tr>\n",
       "      <th>3</th>\n",
       "      <td>D</td>\n",
       "      <td>-1.161376</td>\n",
       "      <td>1.676520</td>\n",
       "    </tr>\n",
       "    <tr>\n",
       "      <th>4</th>\n",
       "      <td>D</td>\n",
       "      <td>-1.161376</td>\n",
       "      <td>-0.571603</td>\n",
       "    </tr>\n",
       "    <tr>\n",
       "      <th>5</th>\n",
       "      <td>E</td>\n",
       "      <td>-1.161376</td>\n",
       "      <td>1.383426</td>\n",
       "    </tr>\n",
       "  </tbody>\n",
       "</table>\n",
       "</div>"
      ],
      "text/plain": [
       "  key   value_x   value_y\n",
       "0   A  0.840046       NaN\n",
       "1   B  0.465596 -0.693131\n",
       "2   C -2.014986 -0.693131\n",
       "3   D -1.161376  1.676520\n",
       "4   D -1.161376 -0.571603\n",
       "5   E -1.161376  1.383426"
      ]
     },
     "execution_count": 28,
     "metadata": {},
     "output_type": "execute_result"
    }
   ],
   "source": [
    "outer_join.fillna(method=\"ffill\")"
   ]
  },
  {
   "cell_type": "markdown",
   "id": "bd65b411",
   "metadata": {},
   "source": [
    "### Replace missing values with a specified value\n",
    "\n",
    "Using the mean:"
   ]
  },
  {
   "cell_type": "code",
   "execution_count": 29,
   "id": "f37eb5fa",
   "metadata": {
    "hide-output": false
   },
   "outputs": [
    {
     "data": {
      "text/plain": [
       "0    0.840046\n",
       "1    0.465596\n",
       "2   -2.014986\n",
       "3   -1.161376\n",
       "4   -1.161376\n",
       "5   -0.606419\n",
       "Name: value_x, dtype: float64"
      ]
     },
     "execution_count": 29,
     "metadata": {},
     "output_type": "execute_result"
    }
   ],
   "source": [
    "outer_join[\"value_x\"].fillna(outer_join[\"value_x\"].mean())"
   ]
  },
  {
   "cell_type": "markdown",
   "id": "72aa4ebc",
   "metadata": {},
   "source": [
    "## GroupBy"
   ]
  },
  {
   "cell_type": "markdown",
   "id": "d698763e",
   "metadata": {},
   "source": [
    "### Aggregation\n",
    "\n",
    "Stata’s `collapse` can be used to group by one or\n",
    "more key variables and compute aggregations on\n",
    "numeric columns."
   ]
  },
  {
   "cell_type": "markdown",
   "id": "73de8424",
   "metadata": {
    "hide-output": false
   },
   "source": [
    "```stata\n",
    "collapse (sum) total_bill tip, by(sex smoker)\n",
    "```\n"
   ]
  },
  {
   "cell_type": "markdown",
   "id": "25d801fd",
   "metadata": {},
   "source": [
    "pandas provides a flexible `groupby` mechanism that allows similar aggregations. See the\n",
    "groupby documentation for more details and examples."
   ]
  },
  {
   "cell_type": "code",
   "execution_count": 30,
   "id": "311f6b67",
   "metadata": {
    "hide-output": false
   },
   "outputs": [
    {
     "data": {
      "text/html": [
       "<div>\n",
       "<style scoped>\n",
       "    .dataframe tbody tr th:only-of-type {\n",
       "        vertical-align: middle;\n",
       "    }\n",
       "\n",
       "    .dataframe tbody tr th {\n",
       "        vertical-align: top;\n",
       "    }\n",
       "\n",
       "    .dataframe thead th {\n",
       "        text-align: right;\n",
       "    }\n",
       "</style>\n",
       "<table border=\"1\" class=\"dataframe\">\n",
       "  <thead>\n",
       "    <tr style=\"text-align: right;\">\n",
       "      <th></th>\n",
       "      <th></th>\n",
       "      <th>total_bill</th>\n",
       "      <th>tip</th>\n",
       "    </tr>\n",
       "    <tr>\n",
       "      <th>sex</th>\n",
       "      <th>smoker</th>\n",
       "      <th></th>\n",
       "      <th></th>\n",
       "    </tr>\n",
       "  </thead>\n",
       "  <tbody>\n",
       "    <tr>\n",
       "      <th rowspan=\"2\" valign=\"top\">Female</th>\n",
       "      <th>No</th>\n",
       "      <td>869.68</td>\n",
       "      <td>149.77</td>\n",
       "    </tr>\n",
       "    <tr>\n",
       "      <th>Yes</th>\n",
       "      <td>527.27</td>\n",
       "      <td>96.74</td>\n",
       "    </tr>\n",
       "    <tr>\n",
       "      <th rowspan=\"2\" valign=\"top\">Male</th>\n",
       "      <th>No</th>\n",
       "      <td>1725.75</td>\n",
       "      <td>302.00</td>\n",
       "    </tr>\n",
       "    <tr>\n",
       "      <th>Yes</th>\n",
       "      <td>1217.07</td>\n",
       "      <td>183.07</td>\n",
       "    </tr>\n",
       "  </tbody>\n",
       "</table>\n",
       "</div>"
      ],
      "text/plain": [
       "               total_bill     tip\n",
       "sex    smoker                    \n",
       "Female No          869.68  149.77\n",
       "       Yes         527.27   96.74\n",
       "Male   No         1725.75  302.00\n",
       "       Yes        1217.07  183.07"
      ]
     },
     "execution_count": 30,
     "metadata": {},
     "output_type": "execute_result"
    }
   ],
   "source": [
    "tips_summed = tips.groupby([\"sex\", \"smoker\"])[[\"total_bill\", \"tip\"]].sum()\n",
    "tips_summed"
   ]
  },
  {
   "cell_type": "markdown",
   "id": "8db192a2",
   "metadata": {},
   "source": [
    "### Transformation\n",
    "\n",
    "In Stata, if the group aggregations need to be used with the\n",
    "original data set, one would usually use `bysort` with `egen()`.\n",
    "For example, to subtract the mean for each observation by smoker group."
   ]
  },
  {
   "cell_type": "markdown",
   "id": "3f2d9c24",
   "metadata": {
    "hide-output": false
   },
   "source": [
    "```stata\n",
    "bysort sex smoker: egen group_bill = mean(total_bill)\n",
    "generate adj_total_bill = total_bill - group_bill\n",
    "```\n"
   ]
  },
  {
   "cell_type": "markdown",
   "id": "d458ed5f",
   "metadata": {},
   "source": [
    "pandas provides a [Transformation](../04_user_guide/36_groupby.ipynb#groupby-transform) mechanism that allows these type of operations to be\n",
    "succinctly expressed in one operation."
   ]
  },
  {
   "cell_type": "code",
   "execution_count": 31,
   "id": "ca6cc22c",
   "metadata": {
    "hide-output": false
   },
   "outputs": [
    {
     "data": {
      "text/html": [
       "<div>\n",
       "<style scoped>\n",
       "    .dataframe tbody tr th:only-of-type {\n",
       "        vertical-align: middle;\n",
       "    }\n",
       "\n",
       "    .dataframe tbody tr th {\n",
       "        vertical-align: top;\n",
       "    }\n",
       "\n",
       "    .dataframe thead th {\n",
       "        text-align: right;\n",
       "    }\n",
       "</style>\n",
       "<table border=\"1\" class=\"dataframe\">\n",
       "  <thead>\n",
       "    <tr style=\"text-align: right;\">\n",
       "      <th></th>\n",
       "      <th>total_bill</th>\n",
       "      <th>tip</th>\n",
       "      <th>sex</th>\n",
       "      <th>smoker</th>\n",
       "      <th>day</th>\n",
       "      <th>time</th>\n",
       "      <th>size</th>\n",
       "      <th>bucket</th>\n",
       "      <th>adj_total_bill</th>\n",
       "    </tr>\n",
       "  </thead>\n",
       "  <tbody>\n",
       "    <tr>\n",
       "      <th>67</th>\n",
       "      <td>1.07</td>\n",
       "      <td>1.00</td>\n",
       "      <td>Female</td>\n",
       "      <td>Yes</td>\n",
       "      <td>Sat</td>\n",
       "      <td>Dinner</td>\n",
       "      <td>1</td>\n",
       "      <td>low</td>\n",
       "      <td>-17.686344</td>\n",
       "    </tr>\n",
       "    <tr>\n",
       "      <th>92</th>\n",
       "      <td>3.75</td>\n",
       "      <td>1.00</td>\n",
       "      <td>Female</td>\n",
       "      <td>Yes</td>\n",
       "      <td>Fri</td>\n",
       "      <td>Dinner</td>\n",
       "      <td>2</td>\n",
       "      <td>low</td>\n",
       "      <td>-15.006344</td>\n",
       "    </tr>\n",
       "    <tr>\n",
       "      <th>111</th>\n",
       "      <td>5.25</td>\n",
       "      <td>1.00</td>\n",
       "      <td>Female</td>\n",
       "      <td>No</td>\n",
       "      <td>Sat</td>\n",
       "      <td>Dinner</td>\n",
       "      <td>1</td>\n",
       "      <td>low</td>\n",
       "      <td>-11.938278</td>\n",
       "    </tr>\n",
       "    <tr>\n",
       "      <th>145</th>\n",
       "      <td>6.35</td>\n",
       "      <td>1.50</td>\n",
       "      <td>Female</td>\n",
       "      <td>No</td>\n",
       "      <td>Thur</td>\n",
       "      <td>Lunch</td>\n",
       "      <td>2</td>\n",
       "      <td>low</td>\n",
       "      <td>-10.838278</td>\n",
       "    </tr>\n",
       "    <tr>\n",
       "      <th>135</th>\n",
       "      <td>6.51</td>\n",
       "      <td>1.25</td>\n",
       "      <td>Female</td>\n",
       "      <td>No</td>\n",
       "      <td>Thur</td>\n",
       "      <td>Lunch</td>\n",
       "      <td>2</td>\n",
       "      <td>low</td>\n",
       "      <td>-10.678278</td>\n",
       "    </tr>\n",
       "    <tr>\n",
       "      <th>...</th>\n",
       "      <td>...</td>\n",
       "      <td>...</td>\n",
       "      <td>...</td>\n",
       "      <td>...</td>\n",
       "      <td>...</td>\n",
       "      <td>...</td>\n",
       "      <td>...</td>\n",
       "      <td>...</td>\n",
       "      <td>...</td>\n",
       "    </tr>\n",
       "    <tr>\n",
       "      <th>182</th>\n",
       "      <td>43.35</td>\n",
       "      <td>3.50</td>\n",
       "      <td>Male</td>\n",
       "      <td>Yes</td>\n",
       "      <td>Sun</td>\n",
       "      <td>Dinner</td>\n",
       "      <td>3</td>\n",
       "      <td>high</td>\n",
       "      <td>24.593656</td>\n",
       "    </tr>\n",
       "    <tr>\n",
       "      <th>156</th>\n",
       "      <td>46.17</td>\n",
       "      <td>5.00</td>\n",
       "      <td>Male</td>\n",
       "      <td>No</td>\n",
       "      <td>Sun</td>\n",
       "      <td>Dinner</td>\n",
       "      <td>6</td>\n",
       "      <td>high</td>\n",
       "      <td>28.981722</td>\n",
       "    </tr>\n",
       "    <tr>\n",
       "      <th>59</th>\n",
       "      <td>46.27</td>\n",
       "      <td>6.73</td>\n",
       "      <td>Male</td>\n",
       "      <td>No</td>\n",
       "      <td>Sat</td>\n",
       "      <td>Dinner</td>\n",
       "      <td>4</td>\n",
       "      <td>high</td>\n",
       "      <td>29.081722</td>\n",
       "    </tr>\n",
       "    <tr>\n",
       "      <th>212</th>\n",
       "      <td>46.33</td>\n",
       "      <td>9.00</td>\n",
       "      <td>Male</td>\n",
       "      <td>No</td>\n",
       "      <td>Sat</td>\n",
       "      <td>Dinner</td>\n",
       "      <td>4</td>\n",
       "      <td>high</td>\n",
       "      <td>29.141722</td>\n",
       "    </tr>\n",
       "    <tr>\n",
       "      <th>170</th>\n",
       "      <td>48.81</td>\n",
       "      <td>10.00</td>\n",
       "      <td>Male</td>\n",
       "      <td>Yes</td>\n",
       "      <td>Sat</td>\n",
       "      <td>Dinner</td>\n",
       "      <td>3</td>\n",
       "      <td>high</td>\n",
       "      <td>30.053656</td>\n",
       "    </tr>\n",
       "  </tbody>\n",
       "</table>\n",
       "<p>244 rows × 9 columns</p>\n",
       "</div>"
      ],
      "text/plain": [
       "     total_bill    tip     sex smoker   day    time  size bucket  \\\n",
       "67         1.07   1.00  Female    Yes   Sat  Dinner     1    low   \n",
       "92         3.75   1.00  Female    Yes   Fri  Dinner     2    low   \n",
       "111        5.25   1.00  Female     No   Sat  Dinner     1    low   \n",
       "145        6.35   1.50  Female     No  Thur   Lunch     2    low   \n",
       "135        6.51   1.25  Female     No  Thur   Lunch     2    low   \n",
       "..          ...    ...     ...    ...   ...     ...   ...    ...   \n",
       "182       43.35   3.50    Male    Yes   Sun  Dinner     3   high   \n",
       "156       46.17   5.00    Male     No   Sun  Dinner     6   high   \n",
       "59        46.27   6.73    Male     No   Sat  Dinner     4   high   \n",
       "212       46.33   9.00    Male     No   Sat  Dinner     4   high   \n",
       "170       48.81  10.00    Male    Yes   Sat  Dinner     3   high   \n",
       "\n",
       "     adj_total_bill  \n",
       "67       -17.686344  \n",
       "92       -15.006344  \n",
       "111      -11.938278  \n",
       "145      -10.838278  \n",
       "135      -10.678278  \n",
       "..              ...  \n",
       "182       24.593656  \n",
       "156       28.981722  \n",
       "59        29.081722  \n",
       "212       29.141722  \n",
       "170       30.053656  \n",
       "\n",
       "[244 rows x 9 columns]"
      ]
     },
     "execution_count": 31,
     "metadata": {},
     "output_type": "execute_result"
    }
   ],
   "source": [
    "gb = tips.groupby(\"smoker\")[\"total_bill\"]\n",
    "tips[\"adj_total_bill\"] = tips[\"total_bill\"] - gb.transform(\"mean\")\n",
    "tips"
   ]
  },
  {
   "cell_type": "markdown",
   "id": "34414897",
   "metadata": {},
   "source": [
    "### By group processing\n",
    "\n",
    "In addition to aggregation, pandas `groupby` can be used to\n",
    "replicate most other `bysort` processing from Stata. For example,\n",
    "the following example lists the first observation in the current\n",
    "sort order by sex/smoker group."
   ]
  },
  {
   "cell_type": "markdown",
   "id": "5caeef71",
   "metadata": {
    "hide-output": false
   },
   "source": [
    "```stata\n",
    "bysort sex smoker: list if _n == 1\n",
    "```\n"
   ]
  },
  {
   "cell_type": "markdown",
   "id": "e24f03d7",
   "metadata": {},
   "source": [
    "In pandas this would be written as:"
   ]
  },
  {
   "cell_type": "code",
   "execution_count": 32,
   "id": "8ee30458",
   "metadata": {
    "hide-output": false
   },
   "outputs": [
    {
     "data": {
      "text/html": [
       "<div>\n",
       "<style scoped>\n",
       "    .dataframe tbody tr th:only-of-type {\n",
       "        vertical-align: middle;\n",
       "    }\n",
       "\n",
       "    .dataframe tbody tr th {\n",
       "        vertical-align: top;\n",
       "    }\n",
       "\n",
       "    .dataframe thead th {\n",
       "        text-align: right;\n",
       "    }\n",
       "</style>\n",
       "<table border=\"1\" class=\"dataframe\">\n",
       "  <thead>\n",
       "    <tr style=\"text-align: right;\">\n",
       "      <th></th>\n",
       "      <th></th>\n",
       "      <th>total_bill</th>\n",
       "      <th>tip</th>\n",
       "      <th>day</th>\n",
       "      <th>time</th>\n",
       "      <th>size</th>\n",
       "      <th>bucket</th>\n",
       "      <th>adj_total_bill</th>\n",
       "    </tr>\n",
       "    <tr>\n",
       "      <th>sex</th>\n",
       "      <th>smoker</th>\n",
       "      <th></th>\n",
       "      <th></th>\n",
       "      <th></th>\n",
       "      <th></th>\n",
       "      <th></th>\n",
       "      <th></th>\n",
       "      <th></th>\n",
       "    </tr>\n",
       "  </thead>\n",
       "  <tbody>\n",
       "    <tr>\n",
       "      <th rowspan=\"2\" valign=\"top\">Female</th>\n",
       "      <th>No</th>\n",
       "      <td>5.25</td>\n",
       "      <td>1.00</td>\n",
       "      <td>Sat</td>\n",
       "      <td>Dinner</td>\n",
       "      <td>1</td>\n",
       "      <td>low</td>\n",
       "      <td>-11.938278</td>\n",
       "    </tr>\n",
       "    <tr>\n",
       "      <th>Yes</th>\n",
       "      <td>1.07</td>\n",
       "      <td>1.00</td>\n",
       "      <td>Sat</td>\n",
       "      <td>Dinner</td>\n",
       "      <td>1</td>\n",
       "      <td>low</td>\n",
       "      <td>-17.686344</td>\n",
       "    </tr>\n",
       "    <tr>\n",
       "      <th rowspan=\"2\" valign=\"top\">Male</th>\n",
       "      <th>No</th>\n",
       "      <td>5.51</td>\n",
       "      <td>2.00</td>\n",
       "      <td>Thur</td>\n",
       "      <td>Lunch</td>\n",
       "      <td>2</td>\n",
       "      <td>low</td>\n",
       "      <td>-11.678278</td>\n",
       "    </tr>\n",
       "    <tr>\n",
       "      <th>Yes</th>\n",
       "      <td>5.25</td>\n",
       "      <td>5.15</td>\n",
       "      <td>Sun</td>\n",
       "      <td>Dinner</td>\n",
       "      <td>2</td>\n",
       "      <td>low</td>\n",
       "      <td>-13.506344</td>\n",
       "    </tr>\n",
       "  </tbody>\n",
       "</table>\n",
       "</div>"
      ],
      "text/plain": [
       "               total_bill   tip   day    time  size bucket  adj_total_bill\n",
       "sex    smoker                                                             \n",
       "Female No            5.25  1.00   Sat  Dinner     1    low      -11.938278\n",
       "       Yes           1.07  1.00   Sat  Dinner     1    low      -17.686344\n",
       "Male   No            5.51  2.00  Thur   Lunch     2    low      -11.678278\n",
       "       Yes           5.25  5.15   Sun  Dinner     2    low      -13.506344"
      ]
     },
     "execution_count": 32,
     "metadata": {},
     "output_type": "execute_result"
    }
   ],
   "source": [
    "tips.groupby([\"sex\", \"smoker\"]).first()"
   ]
  },
  {
   "cell_type": "markdown",
   "id": "a92c21f1",
   "metadata": {},
   "source": [
    "## Other considerations"
   ]
  },
  {
   "cell_type": "markdown",
   "id": "8b6ff588",
   "metadata": {},
   "source": [
    "### Disk vs memory\n",
    "\n",
    "pandas and Stata both operate exclusively in memory. This means that the size of\n",
    "data able to be loaded in pandas is limited by your machine’s memory.\n",
    "If out of core processing is needed, one possibility is the\n",
    "[dask.dataframe](https://dask.pydata.org/en/latest/dataframe.html)\n",
    "library, which provides a subset of pandas functionality for an\n",
    "on-disk `DataFrame`."
   ]
  }
 ],
 "metadata": {
  "date": 1630231064.9082253,
  "filename": "comparison_with_stata.rst",
  "kernelspec": {
   "display_name": "Python 3",
   "language": "python",
   "name": "python3"
  },
  "language_info": {
   "codemirror_mode": {
    "name": "ipython",
    "version": 3
   },
   "file_extension": ".py",
   "mimetype": "text/x-python",
   "name": "python",
   "nbconvert_exporter": "python",
   "pygments_lexer": "ipython3",
   "version": "3.8.8"
  },
  "latex_envs": {
   "LaTeX_envs_menu_present": true,
   "autoclose": false,
   "autocomplete": true,
   "bibliofile": "biblio.bib",
   "cite_by": "apalike",
   "current_citInitial": 1,
   "eqLabelWithNumbers": true,
   "eqNumInitial": 1,
   "hotkeys": {
    "equation": "Ctrl-E",
    "itemize": "Ctrl-I"
   },
   "labels_anchors": false,
   "latex_user_defs": false,
   "report_style_numbering": false,
   "user_envs_cfg": false
  },
  "title": "Comparison with Stata"
 },
 "nbformat": 4,
 "nbformat_minor": 5
}
