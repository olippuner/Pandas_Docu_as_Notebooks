{
 "cells": [
  {
   "cell_type": "markdown",
   "id": "3d261441",
   "metadata": {},
   "source": [
    "# Comparison with SAS\n",
    "\n",
    "For potential users coming from [SAS](https://en.wikipedia.org/wiki/SAS_%28software%29)\n",
    "this page is meant to demonstrate how different SAS operations would be\n",
    "performed in pandas.\n",
    "\n",
    "If you’re new to pandas, you might want to first read through [10 Minutes to pandas](../04_user_guide/10min.ipynb#min)\n",
    "to familiarize yourself with the library.\n",
    "\n",
    "As is customary, we import pandas and NumPy as follows:"
   ]
  },
  {
   "cell_type": "code",
   "execution_count": 1,
   "id": "90306ea4",
   "metadata": {
    "hide-output": false
   },
   "outputs": [],
   "source": [
    "import pandas as pd\n",
    "import numpy as np"
   ]
  },
  {
   "cell_type": "markdown",
   "id": "30fbdfda",
   "metadata": {},
   "source": [
    "## Data structures"
   ]
  },
  {
   "cell_type": "markdown",
   "id": "cbfe224c",
   "metadata": {},
   "source": [
    "### General terminology translation\n",
    "\n",
    "``````|pandas|SAS|\n",
    "|:------------------:|:------------------:|\n",
    "|DataFrame|data set|\n",
    "|column|variable|\n",
    "|row|observation|\n",
    "|groupby|BY-group|\n",
    "|NaN|.|"
   ]
  },
  {
   "cell_type": "markdown",
   "id": "57963004",
   "metadata": {},
   "source": [
    "### `DataFrame`\n",
    "\n",
    "A `DataFrame` in pandas is analogous to a SAS data set - a two-dimensional\n",
    "data source with labeled columns that can be of different types. As will be\n",
    "shown in this document, almost any operation that can be applied to a data set\n",
    "using SAS’s `DATA` step, can also be accomplished in pandas."
   ]
  },
  {
   "cell_type": "markdown",
   "id": "bf9ea74b",
   "metadata": {},
   "source": [
    "### `Series`\n",
    "\n",
    "A `Series` is the data structure that represents one column of a\n",
    "`DataFrame`. SAS doesn’t have a separate data structure for a single column,\n",
    "but in general, working with a `Series` is analogous to referencing a column\n",
    "in the `DATA` step."
   ]
  },
  {
   "cell_type": "markdown",
   "id": "23219d75",
   "metadata": {},
   "source": [
    "### `Index`\n",
    "\n",
    "Every `DataFrame` and `Series` has an `Index` - which are labels on the\n",
    "*rows* of the data. SAS does not have an exactly analogous concept. A data set’s\n",
    "rows are essentially unlabeled, other than an implicit integer index that can be\n",
    "accessed during the `DATA` step (`_N_`).\n",
    "\n",
    "In pandas, if no index is specified, an integer index is also used by default\n",
    "(first row = 0, second row = 1, and so on). While using a labeled `Index` or\n",
    "`MultiIndex` can enable sophisticated analyses and is ultimately an important\n",
    "part of pandas to understand, for this comparison we will essentially ignore the\n",
    "`Index` and just treat the `DataFrame` as a collection of columns. Please\n",
    "see the indexing documentation for much more on how to use an\n",
    "`Index` effectively."
   ]
  },
  {
   "cell_type": "markdown",
   "id": "eddfa7d5",
   "metadata": {},
   "source": [
    "### Copies vs. in place operations\n",
    "\n",
    "Most pandas operations return copies of the `Series`/`DataFrame`. To make the changes “stick”,\n",
    "you’ll need to either assign to a new variable:\n",
    "\n",
    "> sorted_df = df.sort_values(“col1”)\n",
    "\n",
    "\n",
    "or overwrite the original one:"
   ]
  },
  {
   "cell_type": "code",
   "execution_count": null,
   "id": "0c1193e4",
   "metadata": {
    "hide-output": false
   },
   "outputs": [],
   "source": [
    "df = df.sort_values(\"col1\")"
   ]
  },
  {
   "cell_type": "markdown",
   "id": "eb000687",
   "metadata": {},
   "source": [
    ">**Note**\n",
    ">\n",
    ">You will see an `inplace=True` keyword argument available for some methods:"
   ]
  },
  {
   "cell_type": "code",
   "execution_count": null,
   "id": "a63d4391",
   "metadata": {
    "hide-output": false
   },
   "outputs": [],
   "source": [
    "   df.sort_values(\"col1\", inplace=True)\n",
    "\n",
    "Its use is discouraged. :ref:`More information. <indexing.view_versus_copy>`"
   ]
  },
  {
   "cell_type": "markdown",
   "id": "a2e29e9f",
   "metadata": {},
   "source": [
    "## Data input / output"
   ]
  },
  {
   "cell_type": "markdown",
   "id": "0f4d3a65",
   "metadata": {},
   "source": [
    "### Constructing a DataFrame from values\n",
    "\n",
    "A SAS data set can be built from specified values by\n",
    "placing the data after a `datalines` statement and\n",
    "specifying the column names."
   ]
  },
  {
   "cell_type": "markdown",
   "id": "982d3296",
   "metadata": {
    "hide-output": false
   },
   "source": [
    "```sas\n",
    "data df;\n",
    "    input x y;\n",
    "    datalines;\n",
    "    1 2\n",
    "    3 4\n",
    "    5 6\n",
    "    ;\n",
    "run;\n",
    "```\n"
   ]
  },
  {
   "cell_type": "markdown",
   "id": "82c3b373",
   "metadata": {},
   "source": [
    "A pandas `DataFrame` can be constructed in many different ways,\n",
    "but for a small number of values, it is often convenient to specify it as\n",
    "a Python dictionary, where the keys are the column names\n",
    "and the values are the data."
   ]
  },
  {
   "cell_type": "code",
   "execution_count": null,
   "id": "7531f153",
   "metadata": {
    "hide-output": false
   },
   "outputs": [],
   "source": [
    "df = pd.DataFrame({\"x\": [1, 3, 5], \"y\": [2, 4, 6]})\n",
    "df"
   ]
  },
  {
   "cell_type": "markdown",
   "id": "20cf166b",
   "metadata": {},
   "source": [
    "### Reading external data\n",
    "\n",
    "Like SAS, pandas provides utilities for reading in data from\n",
    "many formats.  The `tips` dataset, found within the pandas\n",
    "tests ([csv](https://raw.github.com/pandas-dev/pandas/master/pandas/tests/io/data/csv/tips.csv))\n",
    "will be used in many of the following examples.\n",
    "\n",
    "SAS provides `PROC IMPORT` to read csv data into a data set."
   ]
  },
  {
   "cell_type": "markdown",
   "id": "2236d51e",
   "metadata": {
    "hide-output": false
   },
   "source": [
    "```sas\n",
    "proc import datafile='tips.csv' dbms=csv out=tips replace;\n",
    "    getnames=yes;\n",
    "run;\n",
    "```\n"
   ]
  },
  {
   "cell_type": "markdown",
   "id": "333abe38",
   "metadata": {},
   "source": [
    "The pandas method is `read_csv()`, which works similarly."
   ]
  },
  {
   "cell_type": "code",
   "execution_count": null,
   "id": "6008880d",
   "metadata": {
    "hide-output": false
   },
   "outputs": [],
   "source": [
    "url = (\n",
    "    \"https://raw.github.com/pandas-dev/\"\n",
    "    \"pandas/master/pandas/tests/io/data/csv/tips.csv\"\n",
    ")\n",
    "tips = pd.read_csv(url)\n",
    "tips"
   ]
  },
  {
   "cell_type": "markdown",
   "id": "0aae89c7",
   "metadata": {},
   "source": [
    "Like `PROC IMPORT`, `read_csv` can take a number of parameters to specify\n",
    "how the data should be parsed.  For example, if the data was instead tab delimited,\n",
    "and did not have column names, the pandas command would be:"
   ]
  },
  {
   "cell_type": "markdown",
   "id": "aa86db26",
   "metadata": {
    "hide-output": false
   },
   "source": [
    "```python\n",
    "tips = pd.read_csv(\"tips.csv\", sep=\"\\t\", header=None)\n",
    "\n",
    "# alternatively, read_table is an alias to read_csv with tab delimiter\n",
    "tips = pd.read_table(\"tips.csv\", header=None)\n",
    "```\n"
   ]
  },
  {
   "cell_type": "markdown",
   "id": "a48433d1",
   "metadata": {},
   "source": [
    "In addition to text/csv, pandas supports a variety of other data formats\n",
    "such as Excel, HDF5, and SQL databases.  These are all read via a `pd.read_*`\n",
    "function.  See the IO documentation for more details."
   ]
  },
  {
   "cell_type": "markdown",
   "id": "bc2a68a1",
   "metadata": {},
   "source": [
    "### Limiting output\n",
    "\n",
    "By default, pandas will truncate output of large `DataFrame`s to show the first and last rows.\n",
    "This can be overridden by changing the pandas options, or using\n",
    "`DataFrame.head()` or `DataFrame.tail()`."
   ]
  },
  {
   "cell_type": "code",
   "execution_count": null,
   "id": "74980929",
   "metadata": {
    "hide-output": false
   },
   "outputs": [],
   "source": [
    "tips.head(5)"
   ]
  },
  {
   "cell_type": "markdown",
   "id": "7a5f841e",
   "metadata": {},
   "source": [
    "The equivalent in SAS would be:"
   ]
  },
  {
   "cell_type": "markdown",
   "id": "7f7f27c1",
   "metadata": {
    "hide-output": false
   },
   "source": [
    "```sas\n",
    "proc print data=df(obs=5);\n",
    "run;\n",
    "```\n"
   ]
  },
  {
   "cell_type": "markdown",
   "id": "286ee265",
   "metadata": {},
   "source": [
    "### Exporting data\n",
    "\n",
    "The inverse of `PROC IMPORT` in SAS is `PROC EXPORT`"
   ]
  },
  {
   "cell_type": "markdown",
   "id": "13c42cb6",
   "metadata": {
    "hide-output": false
   },
   "source": [
    "```sas\n",
    "proc export data=tips outfile='tips2.csv' dbms=csv;\n",
    "run;\n",
    "```\n"
   ]
  },
  {
   "cell_type": "markdown",
   "id": "297d1210",
   "metadata": {},
   "source": [
    "Similarly in pandas, the opposite of `read_csv` is `to_csv()`,\n",
    "and other data formats follow a similar api."
   ]
  },
  {
   "cell_type": "markdown",
   "id": "65c51424",
   "metadata": {
    "hide-output": false
   },
   "source": [
    "```python\n",
    "tips.to_csv(\"tips2.csv\")\n",
    "```\n"
   ]
  },
  {
   "cell_type": "markdown",
   "id": "38c639a1",
   "metadata": {},
   "source": [
    "## Data operations"
   ]
  },
  {
   "cell_type": "markdown",
   "id": "14582ea2",
   "metadata": {},
   "source": [
    "### Operations on columns\n",
    "\n",
    "In the `DATA` step, arbitrary math expressions can\n",
    "be used on new or existing columns."
   ]
  },
  {
   "cell_type": "markdown",
   "id": "6ff22f6d",
   "metadata": {
    "hide-output": false
   },
   "source": [
    "```sas\n",
    "data tips;\n",
    "    set tips;\n",
    "    total_bill = total_bill - 2;\n",
    "    new_bill = total_bill / 2;\n",
    "run;\n",
    "```\n"
   ]
  },
  {
   "cell_type": "markdown",
   "id": "ac24eee6",
   "metadata": {},
   "source": [
    "pandas provides vectorized operations by specifying the individual `Series` in the\n",
    "`DataFrame`. New columns can be assigned in the same way. The `DataFrame.drop()` method drops\n",
    "a column from the `DataFrame`."
   ]
  },
  {
   "cell_type": "code",
   "execution_count": null,
   "id": "fc0c89dd",
   "metadata": {
    "hide-output": false
   },
   "outputs": [],
   "source": [
    "tips[\"total_bill\"] = tips[\"total_bill\"] - 2\n",
    "tips[\"new_bill\"] = tips[\"total_bill\"] / 2\n",
    "tips\n",
    "\n",
    "tips = tips.drop(\"new_bill\", axis=1)"
   ]
  },
  {
   "cell_type": "markdown",
   "id": "fabcd5a9",
   "metadata": {},
   "source": [
    "### Filtering\n",
    "\n",
    "Filtering in SAS is done with an `if` or `where` statement, on one\n",
    "or more columns."
   ]
  },
  {
   "cell_type": "markdown",
   "id": "ea9184ca",
   "metadata": {
    "hide-output": false
   },
   "source": [
    "```sas\n",
    "data tips;\n",
    "    set tips;\n",
    "    if total_bill > 10;\n",
    "run;\n",
    "\n",
    "data tips;\n",
    "    set tips;\n",
    "    where total_bill > 10;\n",
    "    /* equivalent in this case - where happens before the\n",
    "       DATA step begins and can also be used in PROC statements */\n",
    "run;\n",
    "```\n"
   ]
  },
  {
   "cell_type": "markdown",
   "id": "3dca07cf",
   "metadata": {},
   "source": [
    "DataFrames can be filtered in multiple ways; the most intuitive of which is using\n",
    "boolean indexing."
   ]
  },
  {
   "cell_type": "code",
   "execution_count": null,
   "id": "30661fa9",
   "metadata": {
    "hide-output": false
   },
   "outputs": [],
   "source": [
    "tips[tips[\"total_bill\"] > 10]"
   ]
  },
  {
   "cell_type": "markdown",
   "id": "5c6a01ee",
   "metadata": {},
   "source": [
    "The above statement is simply passing a `Series` of `True`/`False` objects to the DataFrame,\n",
    "returning all rows with `True`."
   ]
  },
  {
   "cell_type": "code",
   "execution_count": null,
   "id": "1a099279",
   "metadata": {
    "hide-output": false
   },
   "outputs": [],
   "source": [
    "is_dinner = tips[\"time\"] == \"Dinner\"\n",
    "is_dinner\n",
    "is_dinner.value_counts()\n",
    "tips[is_dinner]"
   ]
  },
  {
   "cell_type": "markdown",
   "id": "1a02a979",
   "metadata": {},
   "source": [
    "### If/then logic\n",
    "\n",
    "In SAS, if/then logic can be used to create new columns."
   ]
  },
  {
   "cell_type": "markdown",
   "id": "eacf5c8b",
   "metadata": {
    "hide-output": false
   },
   "source": [
    "```sas\n",
    "data tips;\n",
    "    set tips;\n",
    "    format bucket $4.;\n",
    "\n",
    "    if total_bill < 10 then bucket = 'low';\n",
    "    else bucket = 'high';\n",
    "run;\n",
    "```\n"
   ]
  },
  {
   "cell_type": "markdown",
   "id": "3a375728",
   "metadata": {},
   "source": [
    "The same operation in pandas can be accomplished using\n",
    "the `where` method from `numpy`."
   ]
  },
  {
   "cell_type": "code",
   "execution_count": null,
   "id": "5c2a1397",
   "metadata": {
    "hide-output": false
   },
   "outputs": [],
   "source": [
    "tips[\"bucket\"] = np.where(tips[\"total_bill\"] < 10, \"low\", \"high\")\n",
    "tips"
   ]
  },
  {
   "cell_type": "markdown",
   "id": "b3ac10db",
   "metadata": {},
   "source": [
    "\n",
    "<dl style='margin: 20px 0;'>\n",
    "<dt>::</dt>\n",
    "<dd>\n",
    "\n",
    "<dl style='margin: 20px 0;'>\n",
    "<dt>suppress</dt>\n",
    "<dd>\n",
    "</dd>\n",
    "\n",
    "</dl>\n",
    "\n",
    "tips = tips.drop(“bucket”, axis=1)\n",
    "\n",
    "</dd>\n",
    "\n",
    "</dl>"
   ]
  },
  {
   "cell_type": "markdown",
   "id": "289695a9",
   "metadata": {},
   "source": [
    "### Date functionality\n",
    "\n",
    "SAS provides a variety of functions to do operations on\n",
    "date/datetime columns."
   ]
  },
  {
   "cell_type": "markdown",
   "id": "38fdfcc0",
   "metadata": {
    "hide-output": false
   },
   "source": [
    "```sas\n",
    "data tips;\n",
    "    set tips;\n",
    "    format date1 date2 date1_plusmonth mmddyy10.;\n",
    "    date1 = mdy(1, 15, 2013);\n",
    "    date2 = mdy(2, 15, 2015);\n",
    "    date1_year = year(date1);\n",
    "    date2_month = month(date2);\n",
    "    * shift date to beginning of next interval;\n",
    "    date1_next = intnx('MONTH', date1, 1);\n",
    "    * count intervals between dates;\n",
    "    months_between = intck('MONTH', date1, date2);\n",
    "run;\n",
    "```\n"
   ]
  },
  {
   "cell_type": "markdown",
   "id": "49668888",
   "metadata": {},
   "source": [
    "The equivalent pandas operations are shown below.  In addition to these\n",
    "functions pandas supports other Time Series features\n",
    "not available in Base SAS (such as resampling and custom offsets) -\n",
    "see the timeseries documentation for more details."
   ]
  },
  {
   "cell_type": "code",
   "execution_count": null,
   "id": "7cd5ff31",
   "metadata": {
    "hide-output": false
   },
   "outputs": [],
   "source": [
    "tips[\"date1\"] = pd.Timestamp(\"2013-01-15\")\n",
    "tips[\"date2\"] = pd.Timestamp(\"2015-02-15\")\n",
    "tips[\"date1_year\"] = tips[\"date1\"].dt.year\n",
    "tips[\"date2_month\"] = tips[\"date2\"].dt.month\n",
    "tips[\"date1_next\"] = tips[\"date1\"] + pd.offsets.MonthBegin()\n",
    "tips[\"months_between\"] = tips[\"date2\"].dt.to_period(\"M\") - tips[\n",
    "    \"date1\"\n",
    "].dt.to_period(\"M\")\n",
    "\n",
    "tips[\n",
    "    [\"date1\", \"date2\", \"date1_year\", \"date2_month\", \"date1_next\", \"months_between\"]\n",
    "]"
   ]
  },
  {
   "cell_type": "markdown",
   "id": "f479372c",
   "metadata": {},
   "source": [
    "\n",
    "<dl style='margin: 20px 0;'>\n",
    "<dt>::</dt>\n",
    "<dd>\n",
    "\n",
    "<dl style='margin: 20px 0;'>\n",
    "<dt>suppress</dt>\n",
    "<dd>\n",
    "</dd>\n",
    "\n",
    "</dl>\n",
    "\n",
    "\n",
    "<dl style='margin: 20px 0;'>\n",
    "<dt>tips = tips.drop(</dt>\n",
    "<dd>\n",
    "[“date1”, “date2”, “date1_year”, “date2_month”, “date1_next”, “months_between”],\n",
    "axis=1,\n",
    "\n",
    "</dd>\n",
    "\n",
    "</dl>\n",
    "\n",
    ")\n",
    "\n",
    "</dd>\n",
    "\n",
    "</dl>"
   ]
  },
  {
   "cell_type": "markdown",
   "id": "b32a0e3a",
   "metadata": {},
   "source": [
    "### Selection of columns\n",
    "\n",
    "SAS provides keywords in the `DATA` step to select,\n",
    "drop, and rename columns."
   ]
  },
  {
   "cell_type": "markdown",
   "id": "b868467d",
   "metadata": {
    "hide-output": false
   },
   "source": [
    "```sas\n",
    "data tips;\n",
    "    set tips;\n",
    "    keep sex total_bill tip;\n",
    "run;\n",
    "\n",
    "data tips;\n",
    "    set tips;\n",
    "    drop sex;\n",
    "run;\n",
    "\n",
    "data tips;\n",
    "    set tips;\n",
    "    rename total_bill=total_bill_2;\n",
    "run;\n",
    "```\n"
   ]
  },
  {
   "cell_type": "markdown",
   "id": "817d4ace",
   "metadata": {},
   "source": [
    "The same operations are expressed in pandas below."
   ]
  },
  {
   "cell_type": "markdown",
   "id": "15c79260",
   "metadata": {},
   "source": [
    "#### Keep certain columns"
   ]
  },
  {
   "cell_type": "code",
   "execution_count": null,
   "id": "06ef8f29",
   "metadata": {
    "hide-output": false
   },
   "outputs": [],
   "source": [
    "tips[[\"sex\", \"total_bill\", \"tip\"]]"
   ]
  },
  {
   "cell_type": "markdown",
   "id": "771f7b74",
   "metadata": {},
   "source": [
    "#### Drop a column"
   ]
  },
  {
   "cell_type": "code",
   "execution_count": null,
   "id": "45b04582",
   "metadata": {
    "hide-output": false
   },
   "outputs": [],
   "source": [
    "tips.drop(\"sex\", axis=1)"
   ]
  },
  {
   "cell_type": "markdown",
   "id": "6582a225",
   "metadata": {},
   "source": [
    "#### Rename a column"
   ]
  },
  {
   "cell_type": "code",
   "execution_count": null,
   "id": "fc1ed355",
   "metadata": {
    "hide-output": false
   },
   "outputs": [],
   "source": [
    "tips.rename(columns={\"total_bill\": \"total_bill_2\"})"
   ]
  },
  {
   "cell_type": "markdown",
   "id": "0c23075f",
   "metadata": {},
   "source": [
    "### Sorting by values\n",
    "\n",
    "Sorting in SAS is accomplished via `PROC SORT`"
   ]
  },
  {
   "cell_type": "markdown",
   "id": "913dd3e2",
   "metadata": {
    "hide-output": false
   },
   "source": [
    "```sas\n",
    "proc sort data=tips;\n",
    "    by sex total_bill;\n",
    "run;\n",
    "```\n"
   ]
  },
  {
   "cell_type": "markdown",
   "id": "227b0891",
   "metadata": {},
   "source": [
    "pandas has a `DataFrame.sort_values()` method, which takes a list of columns to sort by."
   ]
  },
  {
   "cell_type": "code",
   "execution_count": null,
   "id": "5b515e03",
   "metadata": {
    "hide-output": false
   },
   "outputs": [],
   "source": [
    "tips = tips.sort_values([\"sex\", \"total_bill\"])\n",
    "tips"
   ]
  },
  {
   "cell_type": "markdown",
   "id": "01170fed",
   "metadata": {},
   "source": [
    "## String processing"
   ]
  },
  {
   "cell_type": "markdown",
   "id": "688d60d1",
   "metadata": {},
   "source": [
    "### Finding length of string\n",
    "\n",
    "SAS determines the length of a character string with the\n",
    "[LENGTHN](https://support.sas.com/documentation/cdl/en/lrdict/64316/HTML/default/viewer.htm#a002284668.htm)\n",
    "and [LENGTHC](https://support.sas.com/documentation/cdl/en/lrdict/64316/HTML/default/viewer.htm#a002283942.htm)\n",
    "functions. `LENGTHN` excludes trailing blanks and `LENGTHC` includes trailing blanks."
   ]
  },
  {
   "cell_type": "markdown",
   "id": "f4d7b225",
   "metadata": {
    "hide-output": false
   },
   "source": [
    "```sas\n",
    "data _null_;\n",
    "set tips;\n",
    "put(LENGTHN(time));\n",
    "put(LENGTHC(time));\n",
    "run;\n",
    "```\n"
   ]
  },
  {
   "cell_type": "markdown",
   "id": "82084fc7",
   "metadata": {},
   "source": [
    "You can find the length of a character string with `Series.str.len()`.\n",
    "In Python 3, all strings are Unicode strings. `len` includes trailing blanks.\n",
    "Use `len` and `rstrip` to exclude trailing blanks."
   ]
  },
  {
   "cell_type": "code",
   "execution_count": null,
   "id": "6990c3ba",
   "metadata": {
    "hide-output": false
   },
   "outputs": [],
   "source": [
    "tips[\"time\"].str.len()\n",
    "tips[\"time\"].str.rstrip().str.len()"
   ]
  },
  {
   "cell_type": "markdown",
   "id": "712f27d9",
   "metadata": {},
   "source": [
    "### Finding position of substring\n",
    "\n",
    "SAS determines the position of a character in a string with the\n",
    "[FINDW](https://support.sas.com/documentation/cdl/en/lrdict/64316/HTML/default/viewer.htm#a002978282.htm) function.\n",
    "`FINDW` takes the string defined by the first argument and searches for the first position of the substring\n",
    "you supply as the second argument."
   ]
  },
  {
   "cell_type": "markdown",
   "id": "3a1ec463",
   "metadata": {
    "hide-output": false
   },
   "source": [
    "```sas\n",
    "data _null_;\n",
    "set tips;\n",
    "put(FINDW(sex,'ale'));\n",
    "run;\n",
    "```\n"
   ]
  },
  {
   "cell_type": "markdown",
   "id": "2e58d91d",
   "metadata": {},
   "source": [
    "You can find the position of a character in a column of strings with the `Series.str.find()`\n",
    "method. `find` searches for the first position of the substring. If the substring is found, the\n",
    "method returns its position. If not found, it returns `-1`. Keep in mind that Python indexes are\n",
    "zero-based."
   ]
  },
  {
   "cell_type": "code",
   "execution_count": null,
   "id": "ee471f22",
   "metadata": {
    "hide-output": false
   },
   "outputs": [],
   "source": [
    "tips[\"sex\"].str.find(\"ale\")"
   ]
  },
  {
   "cell_type": "markdown",
   "id": "2de81660",
   "metadata": {},
   "source": [
    "### Extracting substring by position\n",
    "\n",
    "SAS extracts a substring from a string based on its position with the\n",
    "[SUBSTR](https://www2.sas.com/proceedings/sugi25/25/cc/25p088.pdf) function."
   ]
  },
  {
   "cell_type": "markdown",
   "id": "d9777433",
   "metadata": {
    "hide-output": false
   },
   "source": [
    "```sas\n",
    "data _null_;\n",
    "set tips;\n",
    "put(substr(sex,1,1));\n",
    "run;\n",
    "```\n"
   ]
  },
  {
   "cell_type": "markdown",
   "id": "63de3572",
   "metadata": {},
   "source": [
    "With pandas you can use `[]` notation to extract a substring\n",
    "from a string by position locations. Keep in mind that Python\n",
    "indexes are zero-based."
   ]
  },
  {
   "cell_type": "code",
   "execution_count": null,
   "id": "e7e21e5c",
   "metadata": {
    "hide-output": false
   },
   "outputs": [],
   "source": [
    "tips[\"sex\"].str[0:1]"
   ]
  },
  {
   "cell_type": "markdown",
   "id": "736954f7",
   "metadata": {},
   "source": [
    "### Extracting nth word\n",
    "\n",
    "The SAS [SCAN](https://support.sas.com/documentation/cdl/en/lrdict/64316/HTML/default/viewer.htm#a000214639.htm)\n",
    "function returns the nth word from a string. The first argument is the string you want to parse and the\n",
    "second argument specifies which word you want to extract."
   ]
  },
  {
   "cell_type": "markdown",
   "id": "40739232",
   "metadata": {
    "hide-output": false
   },
   "source": [
    "```sas\n",
    "data firstlast;\n",
    "input String $60.;\n",
    "First_Name = scan(string, 1);\n",
    "Last_Name = scan(string, -1);\n",
    "datalines2;\n",
    "John Smith;\n",
    "Jane Cook;\n",
    ";;;\n",
    "run;\n",
    "```\n"
   ]
  },
  {
   "cell_type": "markdown",
   "id": "93248bcc",
   "metadata": {},
   "source": [
    "The simplest way to extract words in pandas is to split the strings by spaces, then reference the\n",
    "word by index. Note there are more powerful approaches should you need them."
   ]
  },
  {
   "cell_type": "code",
   "execution_count": null,
   "id": "388b669c",
   "metadata": {
    "hide-output": false
   },
   "outputs": [],
   "source": [
    "firstlast = pd.DataFrame({\"String\": [\"John Smith\", \"Jane Cook\"]})\n",
    "firstlast[\"First_Name\"] = firstlast[\"String\"].str.split(\" \", expand=True)[0]\n",
    "firstlast[\"Last_Name\"] = firstlast[\"String\"].str.rsplit(\" \", expand=True)[0]\n",
    "firstlast"
   ]
  },
  {
   "cell_type": "markdown",
   "id": "8dea291e",
   "metadata": {},
   "source": [
    "### Changing case\n",
    "\n",
    "The SAS [UPCASE](https://support.sas.com/documentation/cdl/en/lrdict/64316/HTML/default/viewer.htm#a000245965.htm)\n",
    "[LOWCASE](https://support.sas.com/documentation/cdl/en/lrdict/64316/HTML/default/viewer.htm#a000245912.htm) and\n",
    "[PROPCASE](https://support.sas.com/documentation/cdl/en/lrdict/64316/HTML/default/a002598106.htm)\n",
    "functions change the case of the argument."
   ]
  },
  {
   "cell_type": "markdown",
   "id": "d25aa4fb",
   "metadata": {
    "hide-output": false
   },
   "source": [
    "```sas\n",
    "data firstlast;\n",
    "input String $60.;\n",
    "string_up = UPCASE(string);\n",
    "string_low = LOWCASE(string);\n",
    "string_prop = PROPCASE(string);\n",
    "datalines2;\n",
    "John Smith;\n",
    "Jane Cook;\n",
    ";;;\n",
    "run;\n",
    "```\n"
   ]
  },
  {
   "cell_type": "markdown",
   "id": "0f05f180",
   "metadata": {},
   "source": [
    "The equivalent pandas methods are `Series.str.upper()`, `Series.str.lower()`, and\n",
    "`Series.str.title()`."
   ]
  },
  {
   "cell_type": "code",
   "execution_count": null,
   "id": "63d88722",
   "metadata": {
    "hide-output": false
   },
   "outputs": [],
   "source": [
    "firstlast = pd.DataFrame({\"string\": [\"John Smith\", \"Jane Cook\"]})\n",
    "firstlast[\"upper\"] = firstlast[\"string\"].str.upper()\n",
    "firstlast[\"lower\"] = firstlast[\"string\"].str.lower()\n",
    "firstlast[\"title\"] = firstlast[\"string\"].str.title()\n",
    "firstlast"
   ]
  },
  {
   "cell_type": "markdown",
   "id": "a9217d15",
   "metadata": {},
   "source": [
    "## Merging\n",
    "\n",
    "The following tables will be used in the merge examples:"
   ]
  },
  {
   "cell_type": "code",
   "execution_count": null,
   "id": "493d075f",
   "metadata": {
    "hide-output": false
   },
   "outputs": [],
   "source": [
    "df1 = pd.DataFrame({\"key\": [\"A\", \"B\", \"C\", \"D\"], \"value\": np.random.randn(4)})\n",
    "df1\n",
    "df2 = pd.DataFrame({\"key\": [\"B\", \"D\", \"D\", \"E\"], \"value\": np.random.randn(4)})\n",
    "df2"
   ]
  },
  {
   "cell_type": "markdown",
   "id": "0f36eb9c",
   "metadata": {},
   "source": [
    "In SAS, data must be explicitly sorted before merging.  Different\n",
    "types of joins are accomplished using the `in=` dummy\n",
    "variables to track whether a match was found in one or both\n",
    "input frames."
   ]
  },
  {
   "cell_type": "markdown",
   "id": "dfba3203",
   "metadata": {
    "hide-output": false
   },
   "source": [
    "```sas\n",
    "proc sort data=df1;\n",
    "    by key;\n",
    "run;\n",
    "\n",
    "proc sort data=df2;\n",
    "    by key;\n",
    "run;\n",
    "\n",
    "data left_join inner_join right_join outer_join;\n",
    "    merge df1(in=a) df2(in=b);\n",
    "\n",
    "    if a and b then output inner_join;\n",
    "    if a then output left_join;\n",
    "    if b then output right_join;\n",
    "    if a or b then output outer_join;\n",
    "run;\n",
    "```\n"
   ]
  },
  {
   "cell_type": "markdown",
   "id": "47e89a9a",
   "metadata": {},
   "source": [
    "pandas DataFrames have a `merge()` method, which provides similar functionality. The\n",
    "data does not have to be sorted ahead of time, and different join types are accomplished via the\n",
    "`how` keyword."
   ]
  },
  {
   "cell_type": "code",
   "execution_count": null,
   "id": "5a23c3a4",
   "metadata": {
    "hide-output": false
   },
   "outputs": [],
   "source": [
    "inner_join = df1.merge(df2, on=[\"key\"], how=\"inner\")\n",
    "inner_join\n",
    "\n",
    "left_join = df1.merge(df2, on=[\"key\"], how=\"left\")\n",
    "left_join\n",
    "\n",
    "right_join = df1.merge(df2, on=[\"key\"], how=\"right\")\n",
    "right_join\n",
    "\n",
    "outer_join = df1.merge(df2, on=[\"key\"], how=\"outer\")\n",
    "outer_join"
   ]
  },
  {
   "cell_type": "markdown",
   "id": "cde543ce",
   "metadata": {},
   "source": [
    "## Missing data\n",
    "\n",
    "Both pandas and SAS have a representation for missing data.\n",
    "\n",
    "pandas represents missing data with the special float value `NaN` (not a number).  Many of the\n",
    "semantics are the same; for example missing data propagates through numeric operations, and is\n",
    "ignored by default for aggregations."
   ]
  },
  {
   "cell_type": "code",
   "execution_count": null,
   "id": "2001ca33",
   "metadata": {
    "hide-output": false
   },
   "outputs": [],
   "source": [
    "outer_join\n",
    "outer_join[\"value_x\"] + outer_join[\"value_y\"]\n",
    "outer_join[\"value_x\"].sum()"
   ]
  },
  {
   "cell_type": "markdown",
   "id": "21db50ca",
   "metadata": {},
   "source": [
    "One difference is that missing data cannot be compared to its sentinel value.\n",
    "For example, in SAS you could do this to filter missing values."
   ]
  },
  {
   "cell_type": "markdown",
   "id": "52ca216e",
   "metadata": {
    "hide-output": false
   },
   "source": [
    "```sas\n",
    "data outer_join_nulls;\n",
    "    set outer_join;\n",
    "    if value_x = .;\n",
    "run;\n",
    "\n",
    "data outer_join_no_nulls;\n",
    "    set outer_join;\n",
    "    if value_x ^= .;\n",
    "run;\n",
    "```\n"
   ]
  },
  {
   "cell_type": "markdown",
   "id": "b8d81f83",
   "metadata": {},
   "source": [
    "In pandas, `Series.isna()` and `Series.notna()` can be used to filter the rows."
   ]
  },
  {
   "cell_type": "code",
   "execution_count": null,
   "id": "5dd8e949",
   "metadata": {
    "hide-output": false
   },
   "outputs": [],
   "source": [
    "outer_join[outer_join[\"value_x\"].isna()]\n",
    "outer_join[outer_join[\"value_x\"].notna()]"
   ]
  },
  {
   "cell_type": "markdown",
   "id": "eb1a1ab5",
   "metadata": {},
   "source": [
    "pandas provides a variety of methods to work with missing data. Here are some examples:"
   ]
  },
  {
   "cell_type": "markdown",
   "id": "64479fec",
   "metadata": {},
   "source": [
    "### Drop rows with missing values"
   ]
  },
  {
   "cell_type": "code",
   "execution_count": null,
   "id": "eee7c9c2",
   "metadata": {
    "hide-output": false
   },
   "outputs": [],
   "source": [
    "outer_join.dropna()"
   ]
  },
  {
   "cell_type": "markdown",
   "id": "6707e633",
   "metadata": {},
   "source": [
    "### Forward fill from previous rows"
   ]
  },
  {
   "cell_type": "code",
   "execution_count": null,
   "id": "16a3530a",
   "metadata": {
    "hide-output": false
   },
   "outputs": [],
   "source": [
    "outer_join.fillna(method=\"ffill\")"
   ]
  },
  {
   "cell_type": "markdown",
   "id": "56c4f676",
   "metadata": {},
   "source": [
    "### Replace missing values with a specified value\n",
    "\n",
    "Using the mean:"
   ]
  },
  {
   "cell_type": "code",
   "execution_count": null,
   "id": "3d32b17e",
   "metadata": {
    "hide-output": false
   },
   "outputs": [],
   "source": [
    "outer_join[\"value_x\"].fillna(outer_join[\"value_x\"].mean())"
   ]
  },
  {
   "cell_type": "markdown",
   "id": "6719c355",
   "metadata": {},
   "source": [
    "## GroupBy"
   ]
  },
  {
   "cell_type": "markdown",
   "id": "5513b99c",
   "metadata": {},
   "source": [
    "### Aggregation\n",
    "\n",
    "SAS’s `PROC SUMMARY` can be used to group by one or\n",
    "more key variables and compute aggregations on\n",
    "numeric columns."
   ]
  },
  {
   "cell_type": "markdown",
   "id": "36f0c23a",
   "metadata": {
    "hide-output": false
   },
   "source": [
    "```sas\n",
    "proc summary data=tips nway;\n",
    "    class sex smoker;\n",
    "    var total_bill tip;\n",
    "    output out=tips_summed sum=;\n",
    "run;\n",
    "```\n"
   ]
  },
  {
   "cell_type": "markdown",
   "id": "941f14bb",
   "metadata": {},
   "source": [
    "pandas provides a flexible `groupby` mechanism that allows similar aggregations. See the\n",
    "groupby documentation for more details and examples."
   ]
  },
  {
   "cell_type": "code",
   "execution_count": null,
   "id": "f8643d9b",
   "metadata": {
    "hide-output": false
   },
   "outputs": [],
   "source": [
    "tips_summed = tips.groupby([\"sex\", \"smoker\"])[[\"total_bill\", \"tip\"]].sum()\n",
    "tips_summed"
   ]
  },
  {
   "cell_type": "markdown",
   "id": "aa507ee6",
   "metadata": {},
   "source": [
    "### Transformation\n",
    "\n",
    "In SAS, if the group aggregations need to be used with\n",
    "the original frame, it must be merged back together.  For\n",
    "example, to subtract the mean for each observation by smoker group."
   ]
  },
  {
   "cell_type": "markdown",
   "id": "49eca5da",
   "metadata": {
    "hide-output": false
   },
   "source": [
    "```sas\n",
    "proc summary data=tips missing nway;\n",
    "    class smoker;\n",
    "    var total_bill;\n",
    "    output out=smoker_means mean(total_bill)=group_bill;\n",
    "run;\n",
    "\n",
    "proc sort data=tips;\n",
    "    by smoker;\n",
    "run;\n",
    "\n",
    "data tips;\n",
    "    merge tips(in=a) smoker_means(in=b);\n",
    "    by smoker;\n",
    "    adj_total_bill = total_bill - group_bill;\n",
    "    if a and b;\n",
    "run;\n",
    "```\n"
   ]
  },
  {
   "cell_type": "markdown",
   "id": "25098742",
   "metadata": {},
   "source": [
    "pandas provides a [Transformation](../04_user_guide/36_groupby.ipynb#groupby-transform) mechanism that allows these type of operations to be\n",
    "succinctly expressed in one operation."
   ]
  },
  {
   "cell_type": "code",
   "execution_count": null,
   "id": "56bb1034",
   "metadata": {
    "hide-output": false
   },
   "outputs": [],
   "source": [
    "gb = tips.groupby(\"smoker\")[\"total_bill\"]\n",
    "tips[\"adj_total_bill\"] = tips[\"total_bill\"] - gb.transform(\"mean\")\n",
    "tips"
   ]
  },
  {
   "cell_type": "markdown",
   "id": "848fc1bd",
   "metadata": {},
   "source": [
    "### By group processing\n",
    "\n",
    "In addition to aggregation, pandas `groupby` can be used to\n",
    "replicate most other by group processing from SAS. For example,\n",
    "this `DATA` step reads the data by sex/smoker group and filters to\n",
    "the first entry for each."
   ]
  },
  {
   "cell_type": "markdown",
   "id": "aae824b4",
   "metadata": {
    "hide-output": false
   },
   "source": [
    "```sas\n",
    "proc sort data=tips;\n",
    "   by sex smoker;\n",
    "run;\n",
    "\n",
    "data tips_first;\n",
    "    set tips;\n",
    "    by sex smoker;\n",
    "    if FIRST.sex or FIRST.smoker then output;\n",
    "run;\n",
    "```\n"
   ]
  },
  {
   "cell_type": "markdown",
   "id": "20de4b91",
   "metadata": {},
   "source": [
    "In pandas this would be written as:"
   ]
  },
  {
   "cell_type": "code",
   "execution_count": null,
   "id": "74fb160e",
   "metadata": {
    "hide-output": false
   },
   "outputs": [],
   "source": [
    "tips.groupby([\"sex\", \"smoker\"]).first()"
   ]
  },
  {
   "cell_type": "markdown",
   "id": "debf9a1b",
   "metadata": {},
   "source": [
    "## Other considerations"
   ]
  },
  {
   "cell_type": "markdown",
   "id": "e7484d7b",
   "metadata": {},
   "source": [
    "### Disk vs memory\n",
    "\n",
    "pandas operates exclusively in memory, where a SAS data set exists on disk.\n",
    "This means that the size of data able to be loaded in pandas is limited by your\n",
    "machine’s memory, but also that the operations on that data may be faster.\n",
    "\n",
    "If out of core processing is needed, one possibility is the\n",
    "[dask.dataframe](https://dask.pydata.org/en/latest/dataframe.html)\n",
    "library (currently in development) which\n",
    "provides a subset of pandas functionality for an on-disk `DataFrame`"
   ]
  },
  {
   "cell_type": "markdown",
   "id": "a2b28fd2",
   "metadata": {},
   "source": [
    "### Data interop\n",
    "\n",
    "pandas provides a `read_sas()` method that can read SAS data saved in\n",
    "the XPORT or SAS7BDAT binary format."
   ]
  },
  {
   "cell_type": "markdown",
   "id": "79fd258e",
   "metadata": {
    "hide-output": false
   },
   "source": [
    "```sas\n",
    "libname xportout xport 'transport-file.xpt';\n",
    "data xportout.tips;\n",
    "    set tips(rename=(total_bill=tbill));\n",
    "    * xport variable names limited to 6 characters;\n",
    "run;\n",
    "```\n"
   ]
  },
  {
   "cell_type": "markdown",
   "id": "7fdff1ba",
   "metadata": {
    "hide-output": false
   },
   "source": [
    "```python\n",
    "df = pd.read_sas(\"transport-file.xpt\")\n",
    "df = pd.read_sas(\"binary-file.sas7bdat\")\n",
    "```\n"
   ]
  },
  {
   "cell_type": "markdown",
   "id": "ce1ffbbb",
   "metadata": {},
   "source": [
    "You can also specify the file format directly. By default, pandas will try\n",
    "to infer the file format based on its extension."
   ]
  },
  {
   "cell_type": "markdown",
   "id": "3106fa53",
   "metadata": {
    "hide-output": false
   },
   "source": [
    "```python\n",
    "df = pd.read_sas(\"transport-file.xpt\", format=\"xport\")\n",
    "df = pd.read_sas(\"binary-file.sas7bdat\", format=\"sas7bdat\")\n",
    "```\n"
   ]
  },
  {
   "cell_type": "markdown",
   "id": "1b36c6c6",
   "metadata": {},
   "source": [
    "XPORT is a relatively limited format and the parsing of it is not as\n",
    "optimized as some of the other pandas readers. An alternative way\n",
    "to interop data between SAS and pandas is to serialize to csv."
   ]
  },
  {
   "cell_type": "code",
   "execution_count": null,
   "id": "d8c8cc92",
   "metadata": {
    "hide-output": false
   },
   "outputs": [],
   "source": [
    "# version 0.17, 10M rows\n",
    "\n",
    "In [8]: %time df = pd.read_sas('big.xpt')\n",
    "Wall time: 14.6 s\n",
    "\n",
    "In [9]: %time df = pd.read_csv('big.csv')\n",
    "Wall time: 4.86 s"
   ]
  }
 ],
 "metadata": {
  "date": 1630231064.205981,
  "filename": "comparison_with_sas.rst",
  "kernelspec": {
   "display_name": "Python 3",
   "language": "python",
   "name": "python3"
  },
  "language_info": {
   "codemirror_mode": {
    "name": "ipython",
    "version": 3
   },
   "file_extension": ".py",
   "mimetype": "text/x-python",
   "name": "python",
   "nbconvert_exporter": "python",
   "pygments_lexer": "ipython3",
   "version": "3.8.8"
  },
  "latex_envs": {
   "LaTeX_envs_menu_present": true,
   "autoclose": false,
   "autocomplete": true,
   "bibliofile": "biblio.bib",
   "cite_by": "apalike",
   "current_citInitial": 1,
   "eqLabelWithNumbers": true,
   "eqNumInitial": 1,
   "hotkeys": {
    "equation": "Ctrl-E",
    "itemize": "Ctrl-I"
   },
   "labels_anchors": false,
   "latex_user_defs": false,
   "report_style_numbering": false,
   "user_envs_cfg": false
  },
  "title": "Comparison with SAS"
 },
 "nbformat": 4,
 "nbformat_minor": 5
}
