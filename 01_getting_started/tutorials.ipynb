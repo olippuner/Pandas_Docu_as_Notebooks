{
 "cells": [
  {
   "cell_type": "markdown",
   "id": "940111ba",
   "metadata": {},
   "source": [
    "# Community tutorials\n",
    "\n",
    "This is a guide to many pandas tutorials by the community, geared mainly for new users."
   ]
  },
  {
   "cell_type": "markdown",
   "id": "f5076a6f",
   "metadata": {},
   "source": [
    "## pandas cookbook by Julia Evans\n",
    "\n",
    "The goal of this 2015 cookbook (by [Julia Evans](https://jvns.ca)) is to\n",
    "give you some concrete examples for getting started with pandas. These\n",
    "are examples with real-world data, and all the bugs and weirdness that\n",
    "entails.\n",
    "For the table of contents, see the [pandas-cookbook GitHub\n",
    "repository](https://github.com/jvns/pandas-cookbook)."
   ]
  },
  {
   "cell_type": "markdown",
   "id": "325133f7",
   "metadata": {},
   "source": [
    "## pandas workshop by Stefanie Molin\n",
    "\n",
    "An introductory workshop by [Stefanie Molin](https://github.com/stefmolin)\n",
    "designed to quickly get you up to speed with pandas using real-world datasets.\n",
    "It covers getting started with pandas, data wrangling, and data visualization\n",
    "(with some exposure to matplotlib and seaborn). The\n",
    "[pandas-workshop GitHub repository](https://github.com/stefmolin/pandas-workshop)\n",
    "features detailed environment setup instructions (including a Binder environment),\n",
    "slides and notebooks for following along, and exercises to practice the concepts.\n",
    "There is also a lab with new exercises on a dataset not covered in the workshop for\n",
    "additional practice."
   ]
  },
  {
   "cell_type": "markdown",
   "id": "61bab786",
   "metadata": {},
   "source": [
    "## Learn pandas by Hernan Rojas\n",
    "\n",
    "A set of lesson for new pandas users: [https://bitbucket.org/hrojas/learn-pandas](https://bitbucket.org/hrojas/learn-pandas)"
   ]
  },
  {
   "cell_type": "markdown",
   "id": "4f09bb1a",
   "metadata": {},
   "source": [
    "## Practical data analysis with Python\n",
    "\n",
    "This [guide](https://wavedatalab.github.io/datawithpython) is an introduction to the data analysis process using the Python data ecosystem and an interesting open dataset.\n",
    "There are four sections covering selected topics as [munging data](https://wavedatalab.github.io/datawithpython/munge.html),\n",
    "[aggregating data](https://wavedatalab.github.io/datawithpython/aggregate.html), [visualizing data](https://wavedatalab.github.io/datawithpython/visualize.html)\n",
    "and [time series](https://wavedatalab.github.io/datawithpython/timeseries.html).\n",
    "\n",
    "\n",
    "<a id='tutorial-exercises-new-users'></a>"
   ]
  },
  {
   "cell_type": "markdown",
   "id": "40cc1130",
   "metadata": {},
   "source": [
    "## Exercises for new users\n",
    "\n",
    "Practice your skills with real data sets and exercises.\n",
    "For more resources, please visit the main [repository](https://github.com/guipsamora/pandas_exercises).\n",
    "\n",
    "\n",
    "<a id='tutorial-modern'></a>"
   ]
  },
  {
   "cell_type": "markdown",
   "id": "9aa4d916",
   "metadata": {},
   "source": [
    "## Modern pandas\n",
    "\n",
    "Tutorial series written in 2016 by\n",
    "[Tom Augspurger](https://github.com/TomAugspurger).\n",
    "The source may be found in the GitHub repository\n",
    "[TomAugspurger/effective-pandas](https://github.com/TomAugspurger/effective-pandas).\n",
    "\n",
    "- [Modern Pandas](https://tomaugspurger.github.io/modern-1-intro.html)  \n",
    "- [Method Chaining](https://tomaugspurger.github.io/method-chaining.html)  \n",
    "- [Indexes](https://tomaugspurger.github.io/modern-3-indexes.html)  \n",
    "- [Performance](https://tomaugspurger.github.io/modern-4-performance.html)  \n",
    "- [Tidy Data](https://tomaugspurger.github.io/modern-5-tidy.html)  \n",
    "- [Visualization](https://tomaugspurger.github.io/modern-6-visualization.html)  \n",
    "- [Timeseries](https://tomaugspurger.github.io/modern-7-timeseries.html)  "
   ]
  },
  {
   "cell_type": "markdown",
   "id": "2b45bd67",
   "metadata": {},
   "source": [
    "## Excel charts with pandas, vincent and xlsxwriter\n",
    "\n",
    "- [Using Pandas and XlsxWriter to create Excel charts](https://pandas-xlsxwriter-charts.readthedocs.io/)  "
   ]
  },
  {
   "cell_type": "markdown",
   "id": "edba9db0",
   "metadata": {},
   "source": [
    "## Video tutorials\n",
    "\n",
    "- [Pandas From The Ground Up](https://www.youtube.com/watch?v=5JnMutdy6Fw)\n",
    "  (2015) (2:24)\n",
    "  [GitHub repo](https://github.com/brandon-rhodes/pycon-pandas-tutorial)  \n",
    "- [Introduction Into Pandas](https://www.youtube.com/watch?v=-NR-ynQg0YM)\n",
    "  (2016) (1:28)\n",
    "  [GitHub repo](https://github.com/chendaniely/2016-pydata-carolinas-pandas)  \n",
    "- [Pandas: .head() to .tail()](https://www.youtube.com/watch?v=7vuO9QXDN50)\n",
    "  (2016) (1:26)\n",
    "  [GitHub repo](https://github.com/TomAugspurger/pydata-chi-h2t)  \n",
    "- [Data analysis in Python with pandas](https://www.youtube.com/playlist?list=PL5-da3qGB5ICCsgW1MxlZ0Hq8LL5U3u9y)\n",
    "  (2016-2018)\n",
    "  [GitHub repo](https://github.com/justmarkham/pandas-videos) and\n",
    "  [Jupyter Notebook](https://nbviewer.jupyter.org/github/justmarkham/pandas-videos/blob/master/pandas.ipynb)  \n",
    "- [Best practices with pandas](https://www.youtube.com/playlist?list=PL5-da3qGB5IBITZj_dYSFqnd_15JgqwA6)\n",
    "  (2018)\n",
    "  [GitHub repo](https://github.com/justmarkham/pycon-2018-tutorial) and\n",
    "  [Jupyter Notebook](https://nbviewer.jupyter.org/github/justmarkham/pycon-2018-tutorial/blob/master/tutorial.ipynb)  "
   ]
  },
  {
   "cell_type": "markdown",
   "id": "7d691031",
   "metadata": {},
   "source": [
    "## Various tutorials\n",
    "\n",
    "- [Wes McKinney’s (pandas BDFL) blog](https://wesmckinney.com/archives.html)  \n",
    "- [Statistical analysis made easy in Python with SciPy and pandas DataFrames, by Randal Olson](http://www.randalolson.com/2012/08/06/statistical-analysis-made-easy-in-python/)  \n",
    "- [Statistical Data Analysis in Python, tutorial videos, by Christopher Fonnesbeck from SciPy 2013](https://conference.scipy.org/scipy2013/tutorial_detail.php?id=109)  \n",
    "- [Financial analysis in Python, by Thomas Wiecki](https://nbviewer.ipython.org/github/twiecki/financial-analysis-python-tutorial/blob/master/1.%20Pandas%20Basics.ipynb)  \n",
    "- [Intro to pandas data structures, by Greg Reda](http://www.gregreda.com/2013/10/26/intro-to-pandas-data-structures/)  \n",
    "- [Pandas and Python: Top 10, by Manish Amde](https://manishamde.github.io/blog/2013/03/07/pandas-and-python-top-10/)  \n",
    "- [Pandas DataFrames Tutorial, by Karlijn Willems](https://www.datacamp.com/community/tutorials/pandas-tutorial-dataframe-python)  \n",
    "- [A concise tutorial with real life examples](https://tutswiki.com/pandas-cookbook/chapter1/)  "
   ]
  }
 ],
 "metadata": {
  "date": 1630231065.6750205,
  "filename": "tutorials.rst",
  "kernelspec": {
   "display_name": "Python 3",
   "language": "python",
   "name": "python3"
  },
  "language_info": {
   "codemirror_mode": {
    "name": "ipython",
    "version": 3
   },
   "file_extension": ".py",
   "mimetype": "text/x-python",
   "name": "python",
   "nbconvert_exporter": "python",
   "pygments_lexer": "ipython3",
   "version": "3.8.8"
  },
  "latex_envs": {
   "LaTeX_envs_menu_present": true,
   "autoclose": false,
   "autocomplete": true,
   "bibliofile": "biblio.bib",
   "cite_by": "apalike",
   "current_citInitial": 1,
   "eqLabelWithNumbers": true,
   "eqNumInitial": 1,
   "hotkeys": {
    "equation": "Ctrl-E",
    "itemize": "Ctrl-I"
   },
   "labels_anchors": false,
   "latex_user_defs": false,
   "report_style_numbering": false,
   "user_envs_cfg": false
  },
  "title": "Community tutorials"
 },
 "nbformat": 4,
 "nbformat_minor": 5
}
