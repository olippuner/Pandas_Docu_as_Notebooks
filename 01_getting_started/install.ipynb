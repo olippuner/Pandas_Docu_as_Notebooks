{
 "cells": [
  {
   "cell_type": "markdown",
   "id": "fbc6416a",
   "metadata": {},
   "source": [
    "Notebook created: 2021-08-29 11:57:45  \n",
    "Generated from: source/01_getting_started/install.rst  "
   ]
  },
  {
   "cell_type": "markdown",
   "id": "4f3042f9",
   "metadata": {},
   "source": [
    "\n",
    "<a id='install'></a>\n",
    "import numpy as np\n",
    "import pandas as pd\n",
    "import matplotlib.pyplot as plt"
   ]
  },
  {
   "cell_type": "markdown",
   "id": "909c55ae",
   "metadata": {},
   "source": [
    "# Installation\n",
    "\n",
    "The easiest way to install pandas is to install it\n",
    "as part of the [Anaconda](https://docs.continuum.io/anaconda/) distribution, a\n",
    "cross platform distribution for data analysis and scientific computing.\n",
    "This is the recommended installation method for most users.\n",
    "\n",
    "Instructions for installing from source,\n",
    "[PyPI](https://pypi.org/project/pandas), [ActivePython](https://www.activestate.com/activepython/downloads), various Linux distributions, or a\n",
    "[development version](https://github.com/pandas-dev/pandas) are also provided.\n",
    "\n",
    "\n",
    "<a id='install-version'></a>"
   ]
  },
  {
   "cell_type": "markdown",
   "id": "c8b41b39",
   "metadata": {},
   "source": [
    "## Python version support\n",
    "\n",
    "Officially Python 3.8, and 3.9."
   ]
  },
  {
   "cell_type": "markdown",
   "id": "fa150a85",
   "metadata": {},
   "source": [
    "## Installing pandas\n",
    "\n",
    "\n",
    "<a id='install-anaconda'></a>"
   ]
  },
  {
   "cell_type": "markdown",
   "id": "8160fb0e",
   "metadata": {},
   "source": [
    "### Installing with Anaconda\n",
    "\n",
    "Installing pandas and the rest of the [NumPy](https://numpy.org/) and\n",
    "[SciPy](https://scipy.org/) stack can be a little\n",
    "difficult for inexperienced users.\n",
    "\n",
    "The simplest way to install not only pandas, but Python and the most popular\n",
    "packages that make up the [SciPy](https://scipy.org/) stack\n",
    "([IPython](https://ipython.org/), [NumPy](https://numpy.org/),\n",
    "[Matplotlib](https://matplotlib.org/), …) is with\n",
    "[Anaconda](https://docs.continuum.io/anaconda/), a cross-platform\n",
    "(Linux, macOS, Windows) Python distribution for data analytics and\n",
    "scientific computing.\n",
    "\n",
    "After running the installer, the user will have access to pandas and the\n",
    "rest of the [SciPy](https://scipy.org/) stack without needing to install\n",
    "anything else, and without needing to wait for any software to be compiled.\n",
    "\n",
    "Installation instructions for [Anaconda](https://docs.continuum.io/anaconda/)\n",
    "[can be found here](https://docs.continuum.io/anaconda/install.html).\n",
    "\n",
    "A full list of the packages available as part of the\n",
    "[Anaconda](https://docs.continuum.io/anaconda/) distribution\n",
    "[can be found here](https://docs.continuum.io/anaconda/packages/pkg-docs/).\n",
    "\n",
    "Another advantage to installing Anaconda is that you don’t need\n",
    "admin rights to install it. Anaconda can install in the user’s home directory,\n",
    "which makes it trivial to delete Anaconda if you decide (just delete\n",
    "that folder).\n",
    "\n",
    "\n",
    "<a id='install-miniconda'></a>"
   ]
  },
  {
   "cell_type": "markdown",
   "id": "be65bbc3",
   "metadata": {},
   "source": [
    "### Installing with Miniconda\n",
    "\n",
    "The previous section outlined how to get pandas installed as part of the\n",
    "[Anaconda](https://docs.continuum.io/anaconda/) distribution.\n",
    "However this approach means you will install well over one hundred packages\n",
    "and involves downloading the installer which is a few hundred megabytes in size.\n",
    "\n",
    "If you want to have more control on which packages, or have a limited internet\n",
    "bandwidth, then installing pandas with\n",
    "[Miniconda](https://conda.pydata.org/miniconda.html) may be a better solution.\n",
    "\n",
    "[Conda](https://conda.pydata.org/docs/) is the package manager that the\n",
    "[Anaconda](https://docs.continuum.io/anaconda/) distribution is built upon.\n",
    "It is a package manager that is both cross-platform and language agnostic\n",
    "(it can play a similar role to a pip and virtualenv combination).\n",
    "\n",
    "[Miniconda](https://conda.pydata.org/miniconda.html) allows you to create a\n",
    "minimal self contained Python installation, and then use the\n",
    "[Conda](https://conda.pydata.org/docs/) command to install additional packages.\n",
    "\n",
    "First you will need [Conda](https://conda.pydata.org/docs/) to be installed and\n",
    "downloading and running the [Miniconda](https://conda.pydata.org/miniconda.html)\n",
    "will do this for you. The installer\n",
    "[can be found here](https://conda.pydata.org/miniconda.html)\n",
    "\n",
    "The next step is to create a new conda environment. A conda environment is like a\n",
    "virtualenv that allows you to specify a specific version of Python and set of libraries.\n",
    "Run the following commands from a terminal window:"
   ]
  },
  {
   "cell_type": "code",
   "execution_count": null,
   "id": "ecba17d5",
   "metadata": {
    "hide-output": false
   },
   "outputs": [],
   "source": [
    "conda create -n name_of_my_env python"
   ]
  },
  {
   "cell_type": "markdown",
   "id": "ebb7be52",
   "metadata": {},
   "source": [
    "This will create a minimal environment with only Python installed in it.\n",
    "To put your self inside this environment run:"
   ]
  },
  {
   "cell_type": "code",
   "execution_count": null,
   "id": "8e00c706",
   "metadata": {
    "hide-output": false
   },
   "outputs": [],
   "source": [
    "source activate name_of_my_env"
   ]
  },
  {
   "cell_type": "markdown",
   "id": "899399eb",
   "metadata": {},
   "source": [
    "On Windows the command is:"
   ]
  },
  {
   "cell_type": "code",
   "execution_count": null,
   "id": "6ddb44cb",
   "metadata": {
    "hide-output": false
   },
   "outputs": [],
   "source": [
    "activate name_of_my_env"
   ]
  },
  {
   "cell_type": "markdown",
   "id": "e16c4446",
   "metadata": {},
   "source": [
    "The final step required is to install pandas. This can be done with the\n",
    "following command:"
   ]
  },
  {
   "cell_type": "code",
   "execution_count": null,
   "id": "4b31df2d",
   "metadata": {
    "hide-output": false
   },
   "outputs": [],
   "source": [
    "conda install pandas"
   ]
  },
  {
   "cell_type": "markdown",
   "id": "7b2c9b0a",
   "metadata": {},
   "source": [
    "To install a specific pandas version:"
   ]
  },
  {
   "cell_type": "code",
   "execution_count": null,
   "id": "fb2ea60d",
   "metadata": {
    "hide-output": false
   },
   "outputs": [],
   "source": [
    "conda install pandas=0.20.3"
   ]
  },
  {
   "cell_type": "markdown",
   "id": "09677c3c",
   "metadata": {},
   "source": [
    "To install other packages, IPython for example:"
   ]
  },
  {
   "cell_type": "code",
   "execution_count": null,
   "id": "74b220e9",
   "metadata": {
    "hide-output": false
   },
   "outputs": [],
   "source": [
    "conda install ipython"
   ]
  },
  {
   "cell_type": "markdown",
   "id": "d4f24f3e",
   "metadata": {},
   "source": [
    "To install the full [Anaconda](https://docs.continuum.io/anaconda/)\n",
    "distribution:"
   ]
  },
  {
   "cell_type": "code",
   "execution_count": null,
   "id": "7e97ec54",
   "metadata": {
    "hide-output": false
   },
   "outputs": [],
   "source": [
    "conda install anaconda"
   ]
  },
  {
   "cell_type": "markdown",
   "id": "b00fb47d",
   "metadata": {},
   "source": [
    "If you need packages that are available to pip but not conda, then\n",
    "install pip, and then use pip to install those packages:"
   ]
  },
  {
   "cell_type": "code",
   "execution_count": null,
   "id": "bdf8d085",
   "metadata": {
    "hide-output": false
   },
   "outputs": [],
   "source": [
    "conda install pip\n",
    "pip install django"
   ]
  },
  {
   "cell_type": "markdown",
   "id": "c13fceba",
   "metadata": {},
   "source": [
    "### Installing from PyPI\n",
    "\n",
    "pandas can be installed via pip from\n",
    "[PyPI](https://pypi.org/project/pandas)."
   ]
  },
  {
   "cell_type": "code",
   "execution_count": null,
   "id": "9c68ac03",
   "metadata": {
    "hide-output": false
   },
   "outputs": [],
   "source": [
    "pip install pandas"
   ]
  },
  {
   "cell_type": "markdown",
   "id": "c3f8cdf7",
   "metadata": {},
   "source": [
    "### Installing with ActivePython\n",
    "\n",
    "Installation instructions for\n",
    "[ActivePython](https://www.activestate.com/activepython) can be found\n",
    "[here](https://www.activestate.com/activepython/downloads). Versions\n",
    "2.7, 3.5 and 3.6 include pandas."
   ]
  },
  {
   "cell_type": "markdown",
   "id": "f30de83b",
   "metadata": {},
   "source": [
    "### Installing using your Linux distribution’s package manager.\n",
    "\n",
    "The commands in this table will install pandas for Python 3 from your distribution.\n",
    "\n",
    "[](https://packages.debian.org/search?keywords=pandas&searchon=names&suite=all&section=all)``[](http://neuro.debian.net/index.html#how-to-use-this-repository)``[](https://packages.ubuntu.com/search?keywords=pandas&searchon=names&suite=all&section=all)``[](https://software.opensuse.org/package/python-pandas?search_term=pandas)``[](https://admin.fedoraproject.org/pkgdb/package/rpms/python-pandas/)``[](https://admin.fedoraproject.org/pkgdb/package/rpms/python-pandas/)``|Distribution|Status|Download / Repository Link|Install method|\n",
    "|:--------:|:--------:|:------------------:|:------------------------------------------------:|\n",
    "|Debian|stable|official Debian repository|sudo apt-get install python3-pandas|\n",
    "|Debian & Ubuntu|unstable (latest packages)|NeuroDebian|sudo apt-get install python3-pandas|\n",
    "|Ubuntu|stable|official Ubuntu repository|sudo apt-get install python3-pandas|\n",
    "|OpenSuse|stable|OpenSuse Repository|zypper in python3-pandas|\n",
    "|Fedora|stable|official Fedora repository|dnf install python3-pandas|\n",
    "|Centos/RHEL|stable|EPEL repository|yum install python3-pandas|\n",
    "**However**, the packages in the linux package managers are often a few versions behind, so\n",
    "to get the newest version of pandas, it’s recommended to install using the `pip` or `conda`\n",
    "methods described above."
   ]
  },
  {
   "cell_type": "markdown",
   "id": "325ebb64",
   "metadata": {},
   "source": [
    "### Handling ImportErrors\n",
    "\n",
    "If you encounter an ImportError, it usually means that Python couldn’t find pandas in the list of available\n",
    "libraries. Python internally has a list of directories it searches through, to find packages. You can\n",
    "obtain these directories with:"
   ]
  },
  {
   "cell_type": "code",
   "execution_count": null,
   "id": "1612ffe5",
   "metadata": {
    "hide-output": false
   },
   "outputs": [],
   "source": [
    "import sys\n",
    "sys.path"
   ]
  },
  {
   "cell_type": "markdown",
   "id": "4f461a10",
   "metadata": {},
   "source": [
    "One way you could be encountering this error is if you have multiple Python installations on your system\n",
    "and you don’t have pandas installed in the Python installation you’re currently using.\n",
    "In Linux/Mac you can run `which python` on your terminal and it will tell you which Python installation you’re\n",
    "using. If it’s something like “/usr/bin/python”, you’re using the Python from the system, which is not recommended.\n",
    "\n",
    "It is highly recommended to use `conda`, for quick installation and for package and dependency updates.\n",
    "You can find simple installation instructions for pandas in this document: `installation instructions </getting_started.html>`."
   ]
  },
  {
   "cell_type": "markdown",
   "id": "ac96bf68",
   "metadata": {},
   "source": [
    "### Installing from source\n",
    "\n",
    "See the contributing guide for complete instructions on building from the git source tree. Further, see creating a development environment if you wish to create a pandas development environment."
   ]
  },
  {
   "cell_type": "markdown",
   "id": "7eb00434",
   "metadata": {},
   "source": [
    "## Running the test suite\n",
    "\n",
    "pandas is equipped with an exhaustive set of unit tests, covering about 97% of\n",
    "the code base as of this writing. To run it on your machine to verify that\n",
    "everything is working (and that you have all of the dependencies, soft and hard,\n",
    "installed), make sure you have [pytest](https://docs.pytest.org/en/latest/) >= 6.0 and [Hypothesis](https://hypothesis.readthedocs.io/) >= 3.58, then run:"
   ]
  },
  {
   "cell_type": "code",
   "execution_count": null,
   "id": "ec3a1c9c",
   "metadata": {
    "hide-output": false
   },
   "outputs": [],
   "source": [
    ">>> pd.test()\n",
    "running: pytest --skip-slow --skip-network C:\\Users\\TP\\Anaconda3\\envs\\py36\\lib\\site-packages\\pandas\n",
    "============================= test session starts =============================\n",
    "platform win32 -- Python 3.6.2, pytest-3.6.0, py-1.4.34, pluggy-0.4.0\n",
    "rootdir: C:\\Users\\TP\\Documents\\Python\\pandasdev\\pandas, inifile: setup.cfg\n",
    "collected 12145 items / 3 skipped\n",
    "\n",
    "..................................................................S......\n",
    "........S................................................................\n",
    ".........................................................................\n",
    "\n",
    "==================== 12130 passed, 12 skipped in 368.339 seconds ====================="
   ]
  },
  {
   "cell_type": "markdown",
   "id": "2d1bdae5",
   "metadata": {},
   "source": [
    "\n",
    "<a id='install-dependencies'></a>"
   ]
  },
  {
   "cell_type": "markdown",
   "id": "77d31c3a",
   "metadata": {},
   "source": [
    "## Dependencies\n",
    "\n",
    "[](https://numpy.org)[](https://dateutil.readthedocs.io/en/stable/)[](https://pypi.org/project/pytz/)|Package|Minimum supported version|\n",
    "|:--------------------------------------------------------------:|:------------------------:|\n",
    "|NumPy|1.18.5|\n",
    "|python-dateutil|2.8.1|\n",
    "|pytz|2020.1|\n",
    "\n",
    "<a id='install-recommended-dependencies'></a>"
   ]
  },
  {
   "cell_type": "markdown",
   "id": "f401c68c",
   "metadata": {},
   "source": [
    "### Recommended dependencies\n",
    "\n",
    "- [numexpr](https://github.com/pydata/numexpr): for accelerating certain numerical operations.\n",
    "  `numexpr` uses multiple cores as well as smart chunking and caching to achieve large speedups.\n",
    "  If installed, must be Version 2.7.1 or higher.  \n",
    "- [bottleneck](https://github.com/pydata/bottleneck): for accelerating certain types of `nan`\n",
    "  evaluations. `bottleneck` uses specialized cython routines to achieve large speedups. If installed,\n",
    "  must be Version 1.3.1 or higher.  \n",
    "\n",
    "\n",
    ">**Note**\n",
    ">\n",
    ">You are highly encouraged to install these libraries, as they provide speed improvements, especially\n",
    "when working with large data sets.\n",
    "\n",
    "\n",
    "<a id='install-optional-dependencies'></a>"
   ]
  },
  {
   "cell_type": "markdown",
   "id": "be395499",
   "metadata": {},
   "source": [
    "### Optional dependencies\n",
    "\n",
    "pandas has many optional dependencies that are only used for specific methods.\n",
    "For example, `pandas.read_hdf()` requires the `pytables` package, while\n",
    "`DataFrame.to_markdown()` requires the `tabulate` package. If the\n",
    "optional dependency is not installed, pandas will raise an `ImportError` when\n",
    "the method requiring that dependency is called."
   ]
  },
  {
   "cell_type": "markdown",
   "id": "dd8d49a2",
   "metadata": {},
   "source": [
    "#### Visualization\n",
    "\n",
    "[](https://github.com/astanin/python-tabulate)|Dependency|Minimum Version|Notes|\n",
    "|:-----------------------:|:----------------:|:-----------------------------------------------------------:|\n",
    "|matplotlib|3.3.2|Plotting library|\n",
    "|Jinja2|2.11|Conditional formatting with DataFrame.style|\n",
    "|tabulate|0.8.7|Printing in Markdown-friendly format (see tabulate)|"
   ]
  },
  {
   "cell_type": "markdown",
   "id": "55429973",
   "metadata": {},
   "source": [
    "#### Computation\n",
    "\n",
    "[](../04_user_guide/41_enhancingperformance.ipynb#enhancingperf-numba)|Dependency|Minimum Version|Notes|\n",
    "|:-----------------------:|:----------------:|:-----------------------------------------------------------:|\n",
    "|SciPy|1.14.1|Miscellaneous statistical functions|\n",
    "|numba|0.50.1|Alternative execution engine for rolling operations\n",
    "(see Enhancing Performance)|\n",
    "|xarray|0.15.1|pandas-like API for N-dimensional data|"
   ]
  },
  {
   "cell_type": "markdown",
   "id": "f50c0d62",
   "metadata": {},
   "source": [
    "#### Excel files\n",
    "\n",
    "|Dependency|Minimum Version|Notes|\n",
    "|:-----------------------:|:----------------:|:-----------------------------------------------------------:|\n",
    "|xlrd|2.0.1|Reading Excel|\n",
    "|xlwt|1.3.0|Writing Excel|\n",
    "|xlsxwriter|1.2.2|Writing Excel|\n",
    "|openpyxl|3.0.2|Reading / writing for xlsx files|\n",
    "|pyxlsb|1.0.6|Reading for xlsb files|"
   ]
  },
  {
   "cell_type": "markdown",
   "id": "d99b1680",
   "metadata": {},
   "source": [
    "#### HTML\n",
    "\n",
    "|Dependency|Minimum Version|Notes|\n",
    "|:-----------------------:|:----------------:|:-----------------------------------------------------------:|\n",
    "|BeautifulSoup4|4.8.2|HTML parser for read_html|\n",
    "|html5lib|1.1|HTML parser for read_html|\n",
    "|lxml|4.5.0|HTML parser for read_html|\n",
    "One of the following combinations of libraries is needed to use the\n",
    "top-level `read_html()` function:\n",
    "\n",
    "- [BeautifulSoup4](https://www.crummy.com/software/BeautifulSoup) and [html5lib](https://github.com/html5lib/html5lib-python)  \n",
    "- [BeautifulSoup4](https://www.crummy.com/software/BeautifulSoup) and [lxml](https://lxml.de)  \n",
    "- [BeautifulSoup4](https://www.crummy.com/software/BeautifulSoup) and [html5lib](https://github.com/html5lib/html5lib-python) and [lxml](https://lxml.de)  \n",
    "- Only [lxml](https://lxml.de), although see HTML Table Parsing\n",
    "  for reasons as to why you should probably **not** take this approach.  \n",
    "\n",
    "\n",
    "warning:\n",
    "\n",
    "> - if you install [BeautifulSoup4](https://www.crummy.com/software/BeautifulSoup) you must install either\n",
    "  [lxml](https://lxml.de) or [html5lib](https://github.com/html5lib/html5lib-python) or both.\n",
    "  `read_html()` will **not** work with *only*\n",
    "  [BeautifulSoup4](https://www.crummy.com/software/BeautifulSoup) installed.  \n",
    "- You are highly encouraged to read HTML Table Parsing gotchas.\n",
    "  It explains issues surrounding the installation and\n",
    "  usage of the above three libraries.  "
   ]
  },
  {
   "cell_type": "markdown",
   "id": "63496fe6",
   "metadata": {},
   "source": [
    "#### XML\n",
    "\n",
    "|Dependency|Minimum Version|Notes|\n",
    "|:-----------------------:|:----------------:|:-----------------------------------------------------------:|\n",
    "|lxml|4.5.0|XML parser for read_xml and tree builder for to_xml|"
   ]
  },
  {
   "cell_type": "markdown",
   "id": "356e8493",
   "metadata": {},
   "source": [
    "#### SQL databases\n",
    "\n",
    "|Dependency|Minimum Version|Notes|\n",
    "|:-----------------------:|:----------------:|:-----------------------------------------------------------:|\n",
    "|SQLAlchemy|1.3.11|SQL support for databases other than sqlite|\n",
    "|psycopg2|2.8.4|PostgreSQL engine for sqlalchemy|\n",
    "|pymysql|0.10.1|MySQL engine for sqlalchemy|"
   ]
  },
  {
   "cell_type": "markdown",
   "id": "1ed7f8c5",
   "metadata": {},
   "source": [
    "#### Other data sources\n",
    "\n",
    "|Dependency|Minimum Version|Notes|\n",
    "|:-----------------------:|:----------------:|:-----------------------------------------------------------:|\n",
    "|PyTables|3.6.1|HDF5-based reading / writing|\n",
    "|blosc|1.20.1|Compression for HDF5|\n",
    "|zlib||Compression for HDF5|\n",
    "|fastparquet|0.4.0|Parquet reading / writing|\n",
    "|pyarrow|0.17.0|Parquet, ORC, and feather reading / writing|\n",
    "|pyreadstat||SPSS files (.sav) reading|\n",
    "\n",
    "<a id='install-warn-orc'></a>\n",
    "warning:\n",
    "\n",
    "> - If you want to use `read_orc()`, it is highly recommended to install pyarrow using conda.\n",
    "  The following is a summary of the environment in which `read_orc()` can work.  \n",
    "    \n",
    "    \n",
    "    \n",
    "    \n",
    "    \n",
    "    \n",
    "    \n",
    "    \n",
    "    \n",
    "    \n",
    "    \n",
    "    \n",
    "  |System|Conda|PyPI|\n",
    "  |:-----------------------:|:----------------:|:-----------------------------------------------------------:|\n",
    "  |Linux|Successful|Failed(pyarrow==3.0 Successful)|\n",
    "  |macOS|Successful|Failed|\n",
    "  |Windows|Failed|Failed|"
   ]
  },
  {
   "cell_type": "markdown",
   "id": "beff9f7d",
   "metadata": {},
   "source": [
    "#### Access data in the cloud\n",
    "\n",
    "|Dependency|Minimum Version|Notes|\n",
    "|:-----------------------:|:----------------:|:-----------------------------------------------------------:|\n",
    "|fsspec|0.7.4|Handling files aside from simple local and HTTP|\n",
    "|gcsfs|0.6.0|Google Cloud Storage access|\n",
    "|pandas-gbq|0.14.0|Google Big Query access|\n",
    "|s3fs|0.4.0|Amazon S3 access|"
   ]
  },
  {
   "cell_type": "markdown",
   "id": "fa05822a",
   "metadata": {},
   "source": [
    "#### Clipboard\n",
    "\n",
    "|Dependency|Minimum Version|Notes|\n",
    "|:-----------------------:|:----------------:|:-----------------------------------------------------------:|\n",
    "|PyQt4/PyQt5||Clipboard I/O|\n",
    "|qtpy||Clipboard I/O|\n",
    "|xclip||Clipboard I/O on linux|\n",
    "|xsel||Clipboard I/O on linux|"
   ]
  }
 ],
 "metadata": {
  "date": 1630231065.5477092,
  "filename": "install.rst",
  "kernelspec": {
   "display_name": "Python",
   "language": "python3",
   "name": "python3"
  },
  "title": "Installation"
 },
 "nbformat": 4,
 "nbformat_minor": 5
}