{
 "cells": [
  {
   "cell_type": "markdown",
   "id": "23a38237",
   "metadata": {},
   "source": [
    "# Welcome to Pandas documentation prepared as Python Notebooks’s\n",
    "\n",
    "assembled as notebooks by LPNO, Switzerland, 2021.08.\n",
    "\n",
    "Please read LICENSE in 01_getting_started/overview"
   ]
  },
  {
   "cell_type": "code",
   "execution_count": null,
   "id": "4e62e4be",
   "metadata": {},
   "outputs": [],
   "source": []
  }
 ],
 "metadata": {
  "date": 1630231093.758998,
  "filename": "index.rst",
  "kernelspec": {
   "display_name": "Python 3",
   "language": "python",
   "name": "python3"
  },
  "language_info": {
   "codemirror_mode": {
    "name": "ipython",
    "version": 3
   },
   "file_extension": ".py",
   "mimetype": "text/x-python",
   "name": "python",
   "nbconvert_exporter": "python",
   "pygments_lexer": "ipython3",
   "version": "3.8.8"
  },
  "latex_envs": {
   "LaTeX_envs_menu_present": true,
   "autoclose": false,
   "autocomplete": true,
   "bibliofile": "biblio.bib",
   "cite_by": "apalike",
   "current_citInitial": 1,
   "eqLabelWithNumbers": true,
   "eqNumInitial": 1,
   "hotkeys": {
    "equation": "Ctrl-E",
    "itemize": "Ctrl-I"
   },
   "labels_anchors": false,
   "latex_user_defs": false,
   "report_style_numbering": false,
   "user_envs_cfg": false
  },
  "title": "Welcome to Pandas documentation prepared as Python Notebooks’s"
 },
 "nbformat": 4,
 "nbformat_minor": 5
}
