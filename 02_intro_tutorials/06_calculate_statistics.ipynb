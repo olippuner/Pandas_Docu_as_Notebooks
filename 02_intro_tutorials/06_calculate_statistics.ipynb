{
 "cells": [
  {
   "cell_type": "code",
   "execution_count": 1,
   "id": "44e4d3c2",
   "metadata": {
    "hide-output": false
   },
   "outputs": [],
   "source": [
    "import pandas as pd"
   ]
  },
  {
   "cell_type": "markdown",
   "id": "4ab3b824",
   "metadata": {},
   "source": [
    "<div class=\"card gs-data\">\n",
    "    <div class=\"card-header\">\n",
    "        <div class=\"gs-data-title\">\n",
    "            Data used for this tutorial:\n",
    "        </div>\n",
    "    </div>\n",
    "    <ul class=\"list-group list-group-flush\">\n",
    "        <li class=\"list-group-item\">\n",
    "\n",
    "<div data-toggle=\"collapse\" href=\"#collapsedata\" role=\"button\" aria-expanded=\"false\" aria-controls=\"collapsedata\">\n",
    "    <span class=\"badge badge-dark\">Titanic data</span>\n",
    "</div>\n",
    "<div class=\"collapse\" id=\"collapsedata\">\n",
    "    <div class=\"card-body\">\n",
    "        <p class=\"card-text\">\n",
    "\n",
    "This tutorial uses the Titanic data set, stored as CSV. The data\n",
    "consists of the following data columns:\n",
    "\n",
    "- PassengerId: Id of every passenger.  \n",
    "- Survived: This feature have value 0 and 1. 0 for not survived and 1\n",
    "  for survived.  \n",
    "- Pclass: There are 3 classes: Class 1, Class 2 and Class 3.  \n",
    "- Name: Name of passenger.  \n",
    "- Sex: Gender of passenger.  \n",
    "- Age: Age of passenger.  \n",
    "- SibSp: Indication that passenger have siblings and spouse.  \n",
    "- Parch: Whether a passenger is alone or have family.  \n",
    "- Ticket: Ticket number of passenger.  \n",
    "- Fare: Indicating the fare.  \n",
    "- Cabin: The cabin of passenger.  \n",
    "- Embarked: The embarked category.  \n",
    "\n",
    "\n",
    "        </p>\n",
    "        <a href=\"https://github.com/pandas-dev/pandas/tree/master/doc/data/titanic.csv\" class=\"btn btn-dark btn-sm\">To raw data</a>\n",
    "    </div>\n",
    "</div>"
   ]
  },
  {
   "cell_type": "code",
   "execution_count": 3,
   "id": "d6c8c324",
   "metadata": {
    "hide-output": false
   },
   "outputs": [
    {
     "data": {
      "text/html": [
       "<div>\n",
       "<style scoped>\n",
       "    .dataframe tbody tr th:only-of-type {\n",
       "        vertical-align: middle;\n",
       "    }\n",
       "\n",
       "    .dataframe tbody tr th {\n",
       "        vertical-align: top;\n",
       "    }\n",
       "\n",
       "    .dataframe thead th {\n",
       "        text-align: right;\n",
       "    }\n",
       "</style>\n",
       "<table border=\"1\" class=\"dataframe\">\n",
       "  <thead>\n",
       "    <tr style=\"text-align: right;\">\n",
       "      <th></th>\n",
       "      <th>PassengerId</th>\n",
       "      <th>Survived</th>\n",
       "      <th>Pclass</th>\n",
       "      <th>Name</th>\n",
       "      <th>Sex</th>\n",
       "      <th>Age</th>\n",
       "      <th>SibSp</th>\n",
       "      <th>Parch</th>\n",
       "      <th>Ticket</th>\n",
       "      <th>Fare</th>\n",
       "      <th>Cabin</th>\n",
       "      <th>Embarked</th>\n",
       "    </tr>\n",
       "  </thead>\n",
       "  <tbody>\n",
       "    <tr>\n",
       "      <th>0</th>\n",
       "      <td>1</td>\n",
       "      <td>0</td>\n",
       "      <td>3</td>\n",
       "      <td>Braund, Mr. Owen Harris</td>\n",
       "      <td>male</td>\n",
       "      <td>22.0</td>\n",
       "      <td>1</td>\n",
       "      <td>0</td>\n",
       "      <td>A/5 21171</td>\n",
       "      <td>7.2500</td>\n",
       "      <td>NaN</td>\n",
       "      <td>S</td>\n",
       "    </tr>\n",
       "    <tr>\n",
       "      <th>1</th>\n",
       "      <td>2</td>\n",
       "      <td>1</td>\n",
       "      <td>1</td>\n",
       "      <td>Cumings, Mrs. John Bradley (Florence Briggs Th...</td>\n",
       "      <td>female</td>\n",
       "      <td>38.0</td>\n",
       "      <td>1</td>\n",
       "      <td>0</td>\n",
       "      <td>PC 17599</td>\n",
       "      <td>71.2833</td>\n",
       "      <td>C85</td>\n",
       "      <td>C</td>\n",
       "    </tr>\n",
       "    <tr>\n",
       "      <th>2</th>\n",
       "      <td>3</td>\n",
       "      <td>1</td>\n",
       "      <td>3</td>\n",
       "      <td>Heikkinen, Miss. Laina</td>\n",
       "      <td>female</td>\n",
       "      <td>26.0</td>\n",
       "      <td>0</td>\n",
       "      <td>0</td>\n",
       "      <td>STON/O2. 3101282</td>\n",
       "      <td>7.9250</td>\n",
       "      <td>NaN</td>\n",
       "      <td>S</td>\n",
       "    </tr>\n",
       "    <tr>\n",
       "      <th>3</th>\n",
       "      <td>4</td>\n",
       "      <td>1</td>\n",
       "      <td>1</td>\n",
       "      <td>Futrelle, Mrs. Jacques Heath (Lily May Peel)</td>\n",
       "      <td>female</td>\n",
       "      <td>35.0</td>\n",
       "      <td>1</td>\n",
       "      <td>0</td>\n",
       "      <td>113803</td>\n",
       "      <td>53.1000</td>\n",
       "      <td>C123</td>\n",
       "      <td>S</td>\n",
       "    </tr>\n",
       "    <tr>\n",
       "      <th>4</th>\n",
       "      <td>5</td>\n",
       "      <td>0</td>\n",
       "      <td>3</td>\n",
       "      <td>Allen, Mr. William Henry</td>\n",
       "      <td>male</td>\n",
       "      <td>35.0</td>\n",
       "      <td>0</td>\n",
       "      <td>0</td>\n",
       "      <td>373450</td>\n",
       "      <td>8.0500</td>\n",
       "      <td>NaN</td>\n",
       "      <td>S</td>\n",
       "    </tr>\n",
       "  </tbody>\n",
       "</table>\n",
       "</div>"
      ],
      "text/plain": [
       "   PassengerId  Survived  Pclass  \\\n",
       "0            1         0       3   \n",
       "1            2         1       1   \n",
       "2            3         1       3   \n",
       "3            4         1       1   \n",
       "4            5         0       3   \n",
       "\n",
       "                                                Name     Sex   Age  SibSp  \\\n",
       "0                            Braund, Mr. Owen Harris    male  22.0      1   \n",
       "1  Cumings, Mrs. John Bradley (Florence Briggs Th...  female  38.0      1   \n",
       "2                             Heikkinen, Miss. Laina  female  26.0      0   \n",
       "3       Futrelle, Mrs. Jacques Heath (Lily May Peel)  female  35.0      1   \n",
       "4                           Allen, Mr. William Henry    male  35.0      0   \n",
       "\n",
       "   Parch            Ticket     Fare Cabin Embarked  \n",
       "0      0         A/5 21171   7.2500   NaN        S  \n",
       "1      0          PC 17599  71.2833   C85        C  \n",
       "2      0  STON/O2. 3101282   7.9250   NaN        S  \n",
       "3      0            113803  53.1000  C123        S  \n",
       "4      0            373450   8.0500   NaN        S  "
      ]
     },
     "execution_count": 3,
     "metadata": {},
     "output_type": "execute_result"
    }
   ],
   "source": [
    "titanic = pd.read_csv(\"../data/titanic.csv\")\n",
    "titanic.head()"
   ]
  },
  {
   "cell_type": "markdown",
   "id": "f65d63cc",
   "metadata": {},
   "source": [
    "# How to calculate summary statistics?"
   ]
  },
  {
   "cell_type": "markdown",
   "id": "45808e3f",
   "metadata": {},
   "source": [
    "## Aggregating statistics\n",
    "\n",
    "<img src=\"../_static/schemas/06_aggregate.svg\" style=\"\" align=\"center\">\n",
    "\n",
    "<ul class=\"task-bullet\">\n",
    "    <li>\n",
    "\n",
    "What is the average age of the Titanic passengers?"
   ]
  },
  {
   "cell_type": "code",
   "execution_count": 4,
   "id": "0f3c9858",
   "metadata": {
    "hide-output": false
   },
   "outputs": [
    {
     "data": {
      "text/plain": [
       "29.69911764705882"
      ]
     },
     "execution_count": 4,
     "metadata": {},
     "output_type": "execute_result"
    }
   ],
   "source": [
    "titanic[\"Age\"].mean()"
   ]
  },
  {
   "cell_type": "markdown",
   "id": "6a82d565",
   "metadata": {},
   "source": [
    "Different statistics are available and can be applied to columns with\n",
    "numerical data. Operations in general exclude missing data and operate\n",
    "across rows by default.\n",
    "\n",
    "<img src=\"../_static/schemas/06_reduction.svg\" style=\"\" align=\"center\">\n",
    "\n",
    "<ul class=\"task-bullet\">\n",
    "    <li>\n",
    "\n",
    "What is the median age and ticket fare price of the Titanic passengers?"
   ]
  },
  {
   "cell_type": "code",
   "execution_count": 5,
   "id": "13de4d97",
   "metadata": {
    "hide-output": false
   },
   "outputs": [
    {
     "data": {
      "text/plain": [
       "Age     28.0000\n",
       "Fare    14.4542\n",
       "dtype: float64"
      ]
     },
     "execution_count": 5,
     "metadata": {},
     "output_type": "execute_result"
    }
   ],
   "source": [
    "titanic[[\"Age\", \"Fare\"]].median()"
   ]
  },
  {
   "cell_type": "markdown",
   "id": "db7f3620",
   "metadata": {},
   "source": [
    "The statistic applied to multiple columns of a `DataFrame` (the selection of two columns\n",
    "return a `DataFrame`, see the subset data tutorial) is calculated for each numeric column.\n",
    "\n",
    "The aggregating statistic can be calculated for multiple columns at the\n",
    "same time. Remember the `describe` function from [first tutorial](01_table_oriented.ipynb#min-tut-01-tableoriented) tutorial?"
   ]
  },
  {
   "cell_type": "code",
   "execution_count": 6,
   "id": "b3219b72",
   "metadata": {
    "hide-output": false
   },
   "outputs": [
    {
     "data": {
      "text/html": [
       "<div>\n",
       "<style scoped>\n",
       "    .dataframe tbody tr th:only-of-type {\n",
       "        vertical-align: middle;\n",
       "    }\n",
       "\n",
       "    .dataframe tbody tr th {\n",
       "        vertical-align: top;\n",
       "    }\n",
       "\n",
       "    .dataframe thead th {\n",
       "        text-align: right;\n",
       "    }\n",
       "</style>\n",
       "<table border=\"1\" class=\"dataframe\">\n",
       "  <thead>\n",
       "    <tr style=\"text-align: right;\">\n",
       "      <th></th>\n",
       "      <th>Age</th>\n",
       "      <th>Fare</th>\n",
       "    </tr>\n",
       "  </thead>\n",
       "  <tbody>\n",
       "    <tr>\n",
       "      <th>count</th>\n",
       "      <td>714.000000</td>\n",
       "      <td>891.000000</td>\n",
       "    </tr>\n",
       "    <tr>\n",
       "      <th>mean</th>\n",
       "      <td>29.699118</td>\n",
       "      <td>32.204208</td>\n",
       "    </tr>\n",
       "    <tr>\n",
       "      <th>std</th>\n",
       "      <td>14.526497</td>\n",
       "      <td>49.693429</td>\n",
       "    </tr>\n",
       "    <tr>\n",
       "      <th>min</th>\n",
       "      <td>0.420000</td>\n",
       "      <td>0.000000</td>\n",
       "    </tr>\n",
       "    <tr>\n",
       "      <th>25%</th>\n",
       "      <td>20.125000</td>\n",
       "      <td>7.910400</td>\n",
       "    </tr>\n",
       "    <tr>\n",
       "      <th>50%</th>\n",
       "      <td>28.000000</td>\n",
       "      <td>14.454200</td>\n",
       "    </tr>\n",
       "    <tr>\n",
       "      <th>75%</th>\n",
       "      <td>38.000000</td>\n",
       "      <td>31.000000</td>\n",
       "    </tr>\n",
       "    <tr>\n",
       "      <th>max</th>\n",
       "      <td>80.000000</td>\n",
       "      <td>512.329200</td>\n",
       "    </tr>\n",
       "  </tbody>\n",
       "</table>\n",
       "</div>"
      ],
      "text/plain": [
       "              Age        Fare\n",
       "count  714.000000  891.000000\n",
       "mean    29.699118   32.204208\n",
       "std     14.526497   49.693429\n",
       "min      0.420000    0.000000\n",
       "25%     20.125000    7.910400\n",
       "50%     28.000000   14.454200\n",
       "75%     38.000000   31.000000\n",
       "max     80.000000  512.329200"
      ]
     },
     "execution_count": 6,
     "metadata": {},
     "output_type": "execute_result"
    }
   ],
   "source": [
    "titanic[[\"Age\", \"Fare\"]].describe()"
   ]
  },
  {
   "cell_type": "markdown",
   "id": "2f2593c3",
   "metadata": {},
   "source": [
    "Instead of the predefined statistics, specific combinations of\n",
    "aggregating statistics for given columns can be defined using the\n",
    "`DataFrame.agg()` method:"
   ]
  },
  {
   "cell_type": "code",
   "execution_count": 7,
   "id": "6236fbbc",
   "metadata": {
    "hide-output": false
   },
   "outputs": [
    {
     "data": {
      "text/html": [
       "<div>\n",
       "<style scoped>\n",
       "    .dataframe tbody tr th:only-of-type {\n",
       "        vertical-align: middle;\n",
       "    }\n",
       "\n",
       "    .dataframe tbody tr th {\n",
       "        vertical-align: top;\n",
       "    }\n",
       "\n",
       "    .dataframe thead th {\n",
       "        text-align: right;\n",
       "    }\n",
       "</style>\n",
       "<table border=\"1\" class=\"dataframe\">\n",
       "  <thead>\n",
       "    <tr style=\"text-align: right;\">\n",
       "      <th></th>\n",
       "      <th>Age</th>\n",
       "      <th>Fare</th>\n",
       "    </tr>\n",
       "  </thead>\n",
       "  <tbody>\n",
       "    <tr>\n",
       "      <th>min</th>\n",
       "      <td>0.420000</td>\n",
       "      <td>0.000000</td>\n",
       "    </tr>\n",
       "    <tr>\n",
       "      <th>max</th>\n",
       "      <td>80.000000</td>\n",
       "      <td>512.329200</td>\n",
       "    </tr>\n",
       "    <tr>\n",
       "      <th>median</th>\n",
       "      <td>28.000000</td>\n",
       "      <td>14.454200</td>\n",
       "    </tr>\n",
       "    <tr>\n",
       "      <th>skew</th>\n",
       "      <td>0.389108</td>\n",
       "      <td>NaN</td>\n",
       "    </tr>\n",
       "    <tr>\n",
       "      <th>mean</th>\n",
       "      <td>NaN</td>\n",
       "      <td>32.204208</td>\n",
       "    </tr>\n",
       "  </tbody>\n",
       "</table>\n",
       "</div>"
      ],
      "text/plain": [
       "              Age        Fare\n",
       "min      0.420000    0.000000\n",
       "max     80.000000  512.329200\n",
       "median  28.000000   14.454200\n",
       "skew     0.389108         NaN\n",
       "mean          NaN   32.204208"
      ]
     },
     "execution_count": 7,
     "metadata": {},
     "output_type": "execute_result"
    }
   ],
   "source": [
    "titanic.agg(\n",
    "    {\n",
    "        \"Age\": [\"min\", \"max\", \"median\", \"skew\"],\n",
    "        \"Fare\": [\"min\", \"max\", \"median\", \"mean\"],\n",
    "    }\n",
    ")"
   ]
  },
  {
   "cell_type": "markdown",
   "id": "ad1b6f57",
   "metadata": {},
   "source": [
    "<div class=\"d-flex flex-row gs-torefguide\">\n",
    "    <span class=\"badge badge-info\">To user guide</span>\n",
    "\n",
    "Details about descriptive statistics are provided in the user guide section on descriptive statistics.\n",
    "\n",
    "</div>"
   ]
  },
  {
   "cell_type": "markdown",
   "id": "d2efbda3",
   "metadata": {},
   "source": [
    "## Aggregating statistics grouped by category\n",
    "\n",
    "<img src=\"../_static/schemas/06_groupby.svg\" style=\"\" align=\"center\">\n",
    "\n",
    "<ul class=\"task-bullet\">\n",
    "    <li>\n",
    "\n",
    "What is the average age for male versus female Titanic passengers?"
   ]
  },
  {
   "cell_type": "code",
   "execution_count": 8,
   "id": "0b318cfb",
   "metadata": {
    "hide-output": false
   },
   "outputs": [
    {
     "data": {
      "text/html": [
       "<div>\n",
       "<style scoped>\n",
       "    .dataframe tbody tr th:only-of-type {\n",
       "        vertical-align: middle;\n",
       "    }\n",
       "\n",
       "    .dataframe tbody tr th {\n",
       "        vertical-align: top;\n",
       "    }\n",
       "\n",
       "    .dataframe thead th {\n",
       "        text-align: right;\n",
       "    }\n",
       "</style>\n",
       "<table border=\"1\" class=\"dataframe\">\n",
       "  <thead>\n",
       "    <tr style=\"text-align: right;\">\n",
       "      <th></th>\n",
       "      <th>Age</th>\n",
       "    </tr>\n",
       "    <tr>\n",
       "      <th>Sex</th>\n",
       "      <th></th>\n",
       "    </tr>\n",
       "  </thead>\n",
       "  <tbody>\n",
       "    <tr>\n",
       "      <th>female</th>\n",
       "      <td>27.915709</td>\n",
       "    </tr>\n",
       "    <tr>\n",
       "      <th>male</th>\n",
       "      <td>30.726645</td>\n",
       "    </tr>\n",
       "  </tbody>\n",
       "</table>\n",
       "</div>"
      ],
      "text/plain": [
       "              Age\n",
       "Sex              \n",
       "female  27.915709\n",
       "male    30.726645"
      ]
     },
     "execution_count": 8,
     "metadata": {},
     "output_type": "execute_result"
    }
   ],
   "source": [
    "titanic[[\"Sex\", \"Age\"]].groupby(\"Sex\").mean()"
   ]
  },
  {
   "cell_type": "markdown",
   "id": "26b566be",
   "metadata": {},
   "source": [
    "As our interest is the average age for each gender, a subselection on\n",
    "these two columns is made first: `titanic[[\"Sex\", \"Age\"]]`. Next, the\n",
    "`groupby()` method is applied on the `Sex` column to make a group per\n",
    "category. The average age *for each gender* is calculated and\n",
    "returned.\n",
    "\n",
    "    </li>\n",
    "</ul>\n",
    "\n",
    "Calculating a given statistic (e.g. `mean` age) *for each category in\n",
    "a column* (e.g. male/female in the `Sex` column) is a common pattern.\n",
    "The `groupby` method is used to support this type of operations. More\n",
    "general, this fits in the more general `split-apply-combine` pattern:\n",
    "\n",
    "- **Split** the data into groups  \n",
    "- **Apply** a function to each group independently  \n",
    "- **Combine** the results into a data structure  \n",
    "\n",
    "\n",
    "The apply and combine steps are typically done together in pandas.\n",
    "\n",
    "In the previous example, we explicitly selected the 2 columns first. If\n",
    "not, the `mean` method is applied to each column containing numerical\n",
    "columns:"
   ]
  },
  {
   "cell_type": "code",
   "execution_count": 9,
   "id": "6a2360e0",
   "metadata": {
    "hide-output": false
   },
   "outputs": [
    {
     "data": {
      "text/html": [
       "<div>\n",
       "<style scoped>\n",
       "    .dataframe tbody tr th:only-of-type {\n",
       "        vertical-align: middle;\n",
       "    }\n",
       "\n",
       "    .dataframe tbody tr th {\n",
       "        vertical-align: top;\n",
       "    }\n",
       "\n",
       "    .dataframe thead th {\n",
       "        text-align: right;\n",
       "    }\n",
       "</style>\n",
       "<table border=\"1\" class=\"dataframe\">\n",
       "  <thead>\n",
       "    <tr style=\"text-align: right;\">\n",
       "      <th></th>\n",
       "      <th>PassengerId</th>\n",
       "      <th>Survived</th>\n",
       "      <th>Pclass</th>\n",
       "      <th>Age</th>\n",
       "      <th>SibSp</th>\n",
       "      <th>Parch</th>\n",
       "      <th>Fare</th>\n",
       "    </tr>\n",
       "    <tr>\n",
       "      <th>Sex</th>\n",
       "      <th></th>\n",
       "      <th></th>\n",
       "      <th></th>\n",
       "      <th></th>\n",
       "      <th></th>\n",
       "      <th></th>\n",
       "      <th></th>\n",
       "    </tr>\n",
       "  </thead>\n",
       "  <tbody>\n",
       "    <tr>\n",
       "      <th>female</th>\n",
       "      <td>431.028662</td>\n",
       "      <td>0.742038</td>\n",
       "      <td>2.159236</td>\n",
       "      <td>27.915709</td>\n",
       "      <td>0.694268</td>\n",
       "      <td>0.649682</td>\n",
       "      <td>44.479818</td>\n",
       "    </tr>\n",
       "    <tr>\n",
       "      <th>male</th>\n",
       "      <td>454.147314</td>\n",
       "      <td>0.188908</td>\n",
       "      <td>2.389948</td>\n",
       "      <td>30.726645</td>\n",
       "      <td>0.429809</td>\n",
       "      <td>0.235702</td>\n",
       "      <td>25.523893</td>\n",
       "    </tr>\n",
       "  </tbody>\n",
       "</table>\n",
       "</div>"
      ],
      "text/plain": [
       "        PassengerId  Survived    Pclass        Age     SibSp     Parch  \\\n",
       "Sex                                                                      \n",
       "female   431.028662  0.742038  2.159236  27.915709  0.694268  0.649682   \n",
       "male     454.147314  0.188908  2.389948  30.726645  0.429809  0.235702   \n",
       "\n",
       "             Fare  \n",
       "Sex                \n",
       "female  44.479818  \n",
       "male    25.523893  "
      ]
     },
     "execution_count": 9,
     "metadata": {},
     "output_type": "execute_result"
    }
   ],
   "source": [
    "titanic.groupby(\"Sex\").mean()"
   ]
  },
  {
   "cell_type": "markdown",
   "id": "8227aca6",
   "metadata": {},
   "source": [
    "It does not make much sense to get the average value of the `Pclass`.\n",
    "if we are only interested in the average age for each gender, the\n",
    "selection of columns (rectangular brackets `[]` as usual) is supported\n",
    "on the grouped data as well:"
   ]
  },
  {
   "cell_type": "code",
   "execution_count": 10,
   "id": "f401ab5d",
   "metadata": {
    "hide-output": false
   },
   "outputs": [
    {
     "data": {
      "text/plain": [
       "Sex\n",
       "female    27.915709\n",
       "male      30.726645\n",
       "Name: Age, dtype: float64"
      ]
     },
     "execution_count": 10,
     "metadata": {},
     "output_type": "execute_result"
    }
   ],
   "source": [
    "titanic.groupby(\"Sex\")[\"Age\"].mean()"
   ]
  },
  {
   "cell_type": "markdown",
   "id": "51bb64a3",
   "metadata": {},
   "source": [
    "<img src=\"../_static/schemas/06_groupby_select_detail.svg\" style=\"\" align=\"center\">\n",
    "\n",
    ">**Note**\n",
    ">\n",
    ">The `Pclass` column contains numerical data but actually\n",
    "represents 3 categories (or factors) with respectively the labels ‘1’,\n",
    "‘2’ and ‘3’. Calculating statistics on these does not make much sense.\n",
    "Therefore, pandas provides a `Categorical` data type to handle this\n",
    "type of data. More information is provided in the user guide\n",
    "categorical section.\n",
    "\n",
    "<ul class=\"task-bullet\">\n",
    "    <li>\n",
    "\n",
    "What is the mean ticket fare price for each of the sex and cabin class combinations?"
   ]
  },
  {
   "cell_type": "code",
   "execution_count": 11,
   "id": "1e2a5bb2",
   "metadata": {
    "hide-output": false
   },
   "outputs": [
    {
     "data": {
      "text/plain": [
       "Sex     Pclass\n",
       "female  1         106.125798\n",
       "        2          21.970121\n",
       "        3          16.118810\n",
       "male    1          67.226127\n",
       "        2          19.741782\n",
       "        3          12.661633\n",
       "Name: Fare, dtype: float64"
      ]
     },
     "execution_count": 11,
     "metadata": {},
     "output_type": "execute_result"
    }
   ],
   "source": [
    "titanic.groupby([\"Sex\", \"Pclass\"])[\"Fare\"].mean()"
   ]
  },
  {
   "cell_type": "markdown",
   "id": "363f8dee",
   "metadata": {},
   "source": [
    "Grouping can be done by multiple columns at the same time. Provide the\n",
    "column names as a list to the `groupby()` method.\n",
    "\n",
    "<div class=\"d-flex flex-row gs-torefguide\">\n",
    "    <span class=\"badge badge-info\">To user guide</span>\n",
    "\n",
    "A full description on the split-apply-combine approach is provided in the user guide section on groupby operations.\n",
    "\n",
    "</div>"
   ]
  },
  {
   "cell_type": "markdown",
   "id": "65da7793",
   "metadata": {},
   "source": [
    "## Count number of records by category\n",
    "\n",
    "<img src=\"../_static/schemas/06_valuecounts.svg\" style=\"\" align=\"center\">\n",
    "\n",
    "<ul class=\"task-bullet\">\n",
    "    <li>\n",
    "\n",
    "What is the number of passengers in each of the cabin classes?"
   ]
  },
  {
   "cell_type": "code",
   "execution_count": 16,
   "id": "3a8d4a13",
   "metadata": {
    "hide-output": false
   },
   "outputs": [
    {
     "data": {
      "text/plain": [
       "3    491\n",
       "1    216\n",
       "2    184\n",
       "Name: Pclass, dtype: int64"
      ]
     },
     "execution_count": 16,
     "metadata": {},
     "output_type": "execute_result"
    }
   ],
   "source": [
    "titanic[\"Pclass\"].value_counts()"
   ]
  },
  {
   "cell_type": "markdown",
   "id": "6486afd3",
   "metadata": {},
   "source": [
    "The `value_counts()` method counts the number of records for each\n",
    "category in a column.\n",
    "\n",
    "The function is a shortcut, as it is actually a groupby operation in combination with counting of the number of records\n",
    "within each group:"
   ]
  },
  {
   "cell_type": "code",
   "execution_count": 17,
   "id": "5ee5559a",
   "metadata": {
    "hide-output": false
   },
   "outputs": [
    {
     "data": {
      "text/plain": [
       "Pclass\n",
       "1    216\n",
       "2    184\n",
       "3    491\n",
       "Name: Pclass, dtype: int64"
      ]
     },
     "execution_count": 17,
     "metadata": {},
     "output_type": "execute_result"
    }
   ],
   "source": [
    "titanic.groupby(\"Pclass\")[\"Pclass\"].count()"
   ]
  },
  {
   "cell_type": "markdown",
   "id": "9009cedd",
   "metadata": {},
   "source": [
    ">**Note**\n",
    ">\n",
    ">Both `size` and `count` can be used in combination with\n",
    "`groupby`. Whereas `size` includes `NaN` values and just provides\n",
    "the number of rows (size of the table), `count` excludes the missing\n",
    "values. In the `value_counts` method, use the `dropna` argument to\n",
    "include or exclude the `NaN` values.\n",
    "\n",
    "<div class=\"d-flex flex-row gs-torefguide\">\n",
    "    <span class=\"badge badge-info\">To user guide</span>\n",
    "\n",
    "The user guide has a dedicated section on `value_counts` , see page on discretization.\n",
    "\n",
    "</div>\n",
    "\n",
    "<div class=\"shadow gs-callout gs-callout-remember\">\n",
    "    <h4>REMEMBER</h4>\n",
    "\n",
    "- Aggregation statistics can be calculated on entire columns or rows  \n",
    "- `groupby` provides the power of the *split-apply-combine* pattern  \n",
    "- `value_counts` is a convenient shortcut to count the number of\n",
    "  entries in each category of a variable  \n",
    "\n",
    "\n",
    "</div>\n",
    "\n",
    "<div class=\"d-flex flex-row gs-torefguide\">\n",
    "    <span class=\"badge badge-info\">To user guide</span>\n",
    "\n",
    "A full description on the split-apply-combine approach is provided in the user guide pages about groupby operations.\n",
    "\n",
    "</div>"
   ]
  }
 ],
 "metadata": {
  "date": 1630231066.3124504,
  "filename": "06_calculate_statistics.rst",
  "kernelspec": {
   "display_name": "Python 3",
   "language": "python",
   "name": "python3"
  },
  "language_info": {
   "codemirror_mode": {
    "name": "ipython",
    "version": 3
   },
   "file_extension": ".py",
   "mimetype": "text/x-python",
   "name": "python",
   "nbconvert_exporter": "python",
   "pygments_lexer": "ipython3",
   "version": "3.8.8"
  },
  "latex_envs": {
   "LaTeX_envs_menu_present": true,
   "autoclose": false,
   "autocomplete": true,
   "bibliofile": "biblio.bib",
   "cite_by": "apalike",
   "current_citInitial": 1,
   "eqLabelWithNumbers": true,
   "eqNumInitial": 1,
   "hotkeys": {
    "equation": "Ctrl-E",
    "itemize": "Ctrl-I"
   },
   "labels_anchors": false,
   "latex_user_defs": false,
   "report_style_numbering": false,
   "user_envs_cfg": false
  },
  "title": "How to calculate summary statistics?"
 },
 "nbformat": 4,
 "nbformat_minor": 5
}
