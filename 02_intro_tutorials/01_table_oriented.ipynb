{
 "cells": [
  {
   "cell_type": "code",
   "execution_count": 1,
   "id": "5a0c3bd4",
   "metadata": {},
   "outputs": [],
   "source": [
    "import numpy as np\n",
    "import pandas as pd\n",
    "import matplotlib.pyplot as plt"
   ]
  },
  {
   "cell_type": "markdown",
   "id": "0e177c28",
   "metadata": {},
   "source": [
    "# What kind of data does pandas handle?\n",
    "\n",
    "<ul class=\"task-bullet\">\n",
    "    <li>\n",
    "\n",
    "I want to start using pandas\n",
    "\n",
    "import numpy as np\n",
    "import pandas as pd\n",
    "import matplotlib.pyplot as plt\n",
    "\n",
    "To load the pandas package and start working with it, import the\n",
    "package. The community agreed alias for pandas is `pd`, so loading\n",
    "pandas as `pd` is assumed standard practice for all of the pandas\n",
    "documentation.\n",
    "\n",
    "    </li>\n",
    "</ul>"
   ]
  },
  {
   "cell_type": "markdown",
   "id": "92125ddd",
   "metadata": {},
   "source": [
    "## pandas data table representation\n",
    "\n",
    "<img src=\"../_static/schemas/01_table_dataframe.svg\" style=\"\" align=\"center\">\n",
    "\n",
    "<ul class=\"task-bullet\">\n",
    "    <li>\n",
    "\n",
    "I want to store passenger data of the Titanic. For a number of passengers, I know the name (characters), age (integers) and sex (male/female) data."
   ]
  },
  {
   "cell_type": "code",
   "execution_count": 2,
   "id": "d4407ff6",
   "metadata": {
    "hide-output": false
   },
   "outputs": [
    {
     "data": {
      "text/html": [
       "<div>\n",
       "<style scoped>\n",
       "    .dataframe tbody tr th:only-of-type {\n",
       "        vertical-align: middle;\n",
       "    }\n",
       "\n",
       "    .dataframe tbody tr th {\n",
       "        vertical-align: top;\n",
       "    }\n",
       "\n",
       "    .dataframe thead th {\n",
       "        text-align: right;\n",
       "    }\n",
       "</style>\n",
       "<table border=\"1\" class=\"dataframe\">\n",
       "  <thead>\n",
       "    <tr style=\"text-align: right;\">\n",
       "      <th></th>\n",
       "      <th>Name</th>\n",
       "      <th>Age</th>\n",
       "      <th>Sex</th>\n",
       "    </tr>\n",
       "  </thead>\n",
       "  <tbody>\n",
       "    <tr>\n",
       "      <th>0</th>\n",
       "      <td>Braund, Mr. Owen Harris</td>\n",
       "      <td>22</td>\n",
       "      <td>male</td>\n",
       "    </tr>\n",
       "    <tr>\n",
       "      <th>1</th>\n",
       "      <td>Allen, Mr. William Henry</td>\n",
       "      <td>35</td>\n",
       "      <td>male</td>\n",
       "    </tr>\n",
       "    <tr>\n",
       "      <th>2</th>\n",
       "      <td>Bonnell, Miss. Elizabeth</td>\n",
       "      <td>58</td>\n",
       "      <td>female</td>\n",
       "    </tr>\n",
       "  </tbody>\n",
       "</table>\n",
       "</div>"
      ],
      "text/plain": [
       "                       Name  Age     Sex\n",
       "0   Braund, Mr. Owen Harris   22    male\n",
       "1  Allen, Mr. William Henry   35    male\n",
       "2  Bonnell, Miss. Elizabeth   58  female"
      ]
     },
     "execution_count": 2,
     "metadata": {},
     "output_type": "execute_result"
    }
   ],
   "source": [
    "df = pd.DataFrame(\n",
    "    {\n",
    "        \"Name\": [\n",
    "            \"Braund, Mr. Owen Harris\",\n",
    "            \"Allen, Mr. William Henry\",\n",
    "            \"Bonnell, Miss. Elizabeth\",\n",
    "        ],\n",
    "        \"Age\": [22, 35, 58],\n",
    "        \"Sex\": [\"male\", \"male\", \"female\"],\n",
    "    }\n",
    ")\n",
    "df"
   ]
  },
  {
   "cell_type": "markdown",
   "id": "d964966c",
   "metadata": {},
   "source": [
    "To manually store data in a table, create a `DataFrame`. When using a Python dictionary of lists, the dictionary keys will be used as column headers and\n",
    "the values in each list as columns of the `DataFrame`.\n",
    "\n",
    "    </li>\n",
    "</ul>\n",
    "\n",
    "A `DataFrame` is a 2-dimensional data structure that can store data of\n",
    "different types (including characters, integers, floating point values,\n",
    "categorical data and more) in columns. It is similar to a spreadsheet, a\n",
    "SQL table or the `data.frame` in R.\n",
    "\n",
    "- The table has 3 columns, each of them with a column label. The column\n",
    "  labels are respectively `Name`, `Age` and `Sex`.  \n",
    "- The column `Name` consists of textual data with each value a\n",
    "  string, the column `Age` are numbers and the column `Sex` is\n",
    "  textual data.  \n",
    "\n",
    "\n",
    "In spreadsheet software, the table representation of our data would look\n",
    "very similar:\n",
    "\n",
    "<img src=\"../_static/schemas/01_table_spreadsheet.png\" style=\"\" align=\"center\">"
   ]
  },
  {
   "cell_type": "markdown",
   "id": "da74e779",
   "metadata": {},
   "source": [
    "## Each column in a `DataFrame` is a `Series`\n",
    "\n",
    "<img src=\"../_static/schemas/01_table_series.svg\" style=\"\" align=\"center\">\n",
    "\n",
    "<ul class=\"task-bullet\">\n",
    "    <li>\n",
    "\n",
    "I’m just interested in working with the data in the column `Age`"
   ]
  },
  {
   "cell_type": "code",
   "execution_count": null,
   "id": "48013ef7",
   "metadata": {
    "hide-output": false
   },
   "outputs": [],
   "source": [
    "df[\"Age\"]"
   ]
  },
  {
   "cell_type": "markdown",
   "id": "c37ee9a3",
   "metadata": {},
   "source": [
    "When selecting a single column of a pandas `DataFrame`, the result is\n",
    "a pandas `Series`. To select the column, use the column label in\n",
    "between square brackets `[]`.\n",
    "\n",
    "    </li>\n",
    "</ul>\n",
    "\n",
    ">**Note**\n",
    ">\n",
    ">If you are familiar to Python\n",
    "dictionaries, the selection of a\n",
    "single column is very similar to selection of dictionary values based on\n",
    "the key.\n",
    "\n",
    "You can create a `Series` from scratch as well:"
   ]
  },
  {
   "cell_type": "code",
   "execution_count": null,
   "id": "39e189f6",
   "metadata": {
    "hide-output": false
   },
   "outputs": [],
   "source": [
    "ages = pd.Series([22, 35, 58], name=\"Age\")\n",
    "ages"
   ]
  },
  {
   "cell_type": "markdown",
   "id": "455b4482",
   "metadata": {},
   "source": [
    "A pandas `Series` has no column labels, as it is just a single column\n",
    "of a `DataFrame`. A Series does have row labels."
   ]
  },
  {
   "cell_type": "markdown",
   "id": "6b8804e8",
   "metadata": {},
   "source": [
    "## Do something with a DataFrame or Series\n",
    "\n",
    "<ul class=\"task-bullet\">\n",
    "    <li>\n",
    "\n",
    "I want to know the maximum Age of the passengers\n",
    "\n",
    "We can do this on the `DataFrame` by selecting the `Age` column and\n",
    "applying `max()`:"
   ]
  },
  {
   "cell_type": "code",
   "execution_count": null,
   "id": "147fc7f1",
   "metadata": {
    "hide-output": false
   },
   "outputs": [],
   "source": [
    "df[\"Age\"].max()"
   ]
  },
  {
   "cell_type": "markdown",
   "id": "8fc75222",
   "metadata": {},
   "source": [
    "Or to the `Series`:"
   ]
  },
  {
   "cell_type": "code",
   "execution_count": null,
   "id": "d44d994e",
   "metadata": {
    "hide-output": false
   },
   "outputs": [],
   "source": [
    "ages.max()"
   ]
  },
  {
   "cell_type": "markdown",
   "id": "e1b8fc9b",
   "metadata": {},
   "source": [
    "    </li>\n",
    "</ul>\n",
    "\n",
    "As illustrated by the `max()` method, you can *do* things with a\n",
    "`DataFrame` or `Series`. pandas provides a lot of functionalities,\n",
    "each of them a *method* you can apply to a `DataFrame` or `Series`.\n",
    "As methods are functions, do not forget to use parentheses `()`.\n",
    "\n",
    "<ul class=\"task-bullet\">\n",
    "    <li>\n",
    "\n",
    "I’m interested in some basic statistics of the numerical data of my data table"
   ]
  },
  {
   "cell_type": "code",
   "execution_count": 3,
   "id": "a586fcb9",
   "metadata": {
    "hide-output": false
   },
   "outputs": [
    {
     "data": {
      "text/html": [
       "<div>\n",
       "<style scoped>\n",
       "    .dataframe tbody tr th:only-of-type {\n",
       "        vertical-align: middle;\n",
       "    }\n",
       "\n",
       "    .dataframe tbody tr th {\n",
       "        vertical-align: top;\n",
       "    }\n",
       "\n",
       "    .dataframe thead th {\n",
       "        text-align: right;\n",
       "    }\n",
       "</style>\n",
       "<table border=\"1\" class=\"dataframe\">\n",
       "  <thead>\n",
       "    <tr style=\"text-align: right;\">\n",
       "      <th></th>\n",
       "      <th>Age</th>\n",
       "    </tr>\n",
       "  </thead>\n",
       "  <tbody>\n",
       "    <tr>\n",
       "      <th>count</th>\n",
       "      <td>3.000000</td>\n",
       "    </tr>\n",
       "    <tr>\n",
       "      <th>mean</th>\n",
       "      <td>38.333333</td>\n",
       "    </tr>\n",
       "    <tr>\n",
       "      <th>std</th>\n",
       "      <td>18.230012</td>\n",
       "    </tr>\n",
       "    <tr>\n",
       "      <th>min</th>\n",
       "      <td>22.000000</td>\n",
       "    </tr>\n",
       "    <tr>\n",
       "      <th>25%</th>\n",
       "      <td>28.500000</td>\n",
       "    </tr>\n",
       "    <tr>\n",
       "      <th>50%</th>\n",
       "      <td>35.000000</td>\n",
       "    </tr>\n",
       "    <tr>\n",
       "      <th>75%</th>\n",
       "      <td>46.500000</td>\n",
       "    </tr>\n",
       "    <tr>\n",
       "      <th>max</th>\n",
       "      <td>58.000000</td>\n",
       "    </tr>\n",
       "  </tbody>\n",
       "</table>\n",
       "</div>"
      ],
      "text/plain": [
       "             Age\n",
       "count   3.000000\n",
       "mean   38.333333\n",
       "std    18.230012\n",
       "min    22.000000\n",
       "25%    28.500000\n",
       "50%    35.000000\n",
       "75%    46.500000\n",
       "max    58.000000"
      ]
     },
     "execution_count": 3,
     "metadata": {},
     "output_type": "execute_result"
    }
   ],
   "source": [
    "df.describe()"
   ]
  },
  {
   "cell_type": "markdown",
   "id": "100bd74f",
   "metadata": {},
   "source": [
    "The `describe()` method provides a quick overview of the numerical data in\n",
    "a `DataFrame`. As the `Name` and `Sex` columns are textual data,\n",
    "these are by default not taken into account by the `describe()` method.\n",
    "\n",
    "Many pandas operations return a `DataFrame` or a `Series`. The\n",
    "`describe()` method is an example of a pandas operation returning a\n",
    "pandas `Series` or a pandas `DataFrame`.\n",
    "\n",
    "<div class=\"d-flex flex-row gs-torefguide\">\n",
    "    <span class=\"badge badge-info\">To user guide</span>\n",
    "\n",
    "Check more options on `describe` in the user guide section about aggregations with describe\n",
    "\n",
    "</div>\n",
    "\n",
    ">**Note**\n",
    ">\n",
    ">This is just a starting point. Similar to spreadsheet\n",
    "software, pandas represents data as a table with columns and rows. Apart\n",
    "from the representation, also the data manipulations and calculations\n",
    "you would do in spreadsheet software are supported by pandas. Continue\n",
    "reading the next tutorials to get started!\n",
    "\n",
    "<div class=\"shadow gs-callout gs-callout-remember\">\n",
    "    <h4>REMEMBER</h4>\n",
    "\n",
    "- Import the package, aka `import pandas as pd`  \n",
    "- A table of data is stored as a pandas `DataFrame`  \n",
    "- Each column in a `DataFrame` is a `Series`  \n",
    "- You can do things by applying a method to a `DataFrame` or `Series`  \n",
    "\n",
    "\n",
    "</div>\n",
    "\n",
    "<div class=\"d-flex flex-row gs-torefguide\">\n",
    "    <span class=\"badge badge-info\">To user guide</span>\n",
    "\n",
    "A more extended explanation to `DataFrame` and `Series` is provided in the introduction to data structures.\n",
    "\n",
    "</div>"
   ]
  }
 ],
 "metadata": {
  "date": 1630231065.71748,
  "filename": "01_table_oriented.rst",
  "kernelspec": {
   "display_name": "Python 3",
   "language": "python",
   "name": "python3"
  },
  "language_info": {
   "codemirror_mode": {
    "name": "ipython",
    "version": 3
   },
   "file_extension": ".py",
   "mimetype": "text/x-python",
   "name": "python",
   "nbconvert_exporter": "python",
   "pygments_lexer": "ipython3",
   "version": "3.8.8"
  },
  "latex_envs": {
   "LaTeX_envs_menu_present": true,
   "autoclose": false,
   "autocomplete": true,
   "bibliofile": "biblio.bib",
   "cite_by": "apalike",
   "current_citInitial": 1,
   "eqLabelWithNumbers": true,
   "eqNumInitial": 1,
   "hotkeys": {
    "equation": "Ctrl-E",
    "itemize": "Ctrl-I"
   },
   "labels_anchors": false,
   "latex_user_defs": false,
   "report_style_numbering": false,
   "user_envs_cfg": false
  },
  "title": "What kind of data does pandas handle?"
 },
 "nbformat": 4,
 "nbformat_minor": 5
}
